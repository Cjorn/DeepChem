{
 "cells": [
  {
   "cell_type": "code",
   "execution_count": null,
   "metadata": {},
   "outputs": [],
   "source": [
    "import os\n",
    "import numpy as np\n",
    "import pytest\n",
    "from scipy import io as scipy_io\n",
    "\n",
    "from deepchem.data import NumpyDataset\n",
    "\n",
    "try:\n",
    "    from deepchem.models.torch_models import DTNNModel\n",
    "    has_tensorflow = True\n",
    "except:\n",
    "    has_tensorflow = False\n",
    "\n",
    "input_file = os.path.join(\"assets/example_DTNN.mat\")\n",
    "dataset = scipy_io.loadmat(input_file)\n",
    "X = dataset['X']\n",
    "y = dataset['T']\n",
    "w = np.ones_like(y)\n",
    "dataset = NumpyDataset(X, y, w, ids=None)\n",
    "n_tasks = y.shape[1]\n",
    "model = DTNNModel(n_tasks,\n",
    "                  n_embedding=20,\n",
    "                  n_distance=100,\n",
    "                  learning_rate=1.0,\n",
    "                  mode=\"regression\")\n",
    "\n",
    "print(model)\n",
    "# Fit trained model\n",
    "model.fit(dataset, nb_epoch=250)\n",
    "# Eval model on train\n",
    "pred = model.predict(dataset)\n",
    "mean_rel_error = np.mean(np.abs(1 - pred / y))\n",
    "assert mean_rel_error < 0.1\n"
   ]
  }
 ],
 "metadata": {
  "language_info": {
   "name": "python"
  },
  "orig_nbformat": 4
 },
 "nbformat": 4,
 "nbformat_minor": 2
}
