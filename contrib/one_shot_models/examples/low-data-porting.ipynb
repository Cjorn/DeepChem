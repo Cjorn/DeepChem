{
 "cells": [
  {
   "cell_type": "code",
   "execution_count": 1,
   "metadata": {},
   "outputs": [
    {
     "data": {
      "text/plain": [
       "'/Users/danielvella/Desktop/deepchem/contrib/one_shot_models/examples'"
      ]
     },
     "execution_count": 1,
     "metadata": {},
     "output_type": "execute_result"
    }
   ],
   "source": [
    "import os\n",
    "os.getcwd()"
   ]
  },
  {
   "cell_type": "markdown",
   "metadata": {},
   "source": [
    "# Sequential Support Graph"
   ]
  },
  {
   "cell_type": "code",
   "execution_count": 22,
   "metadata": {},
   "outputs": [],
   "source": [
    "class SequentialSupportGraph(object):\n",
    "    def __init__(self, n_feat):\n",
    "        \"\"\"\n",
    "        Parameters\n",
    "        ----------\n",
    "        n_feat: int\n",
    "          Number of atomic features.\n",
    "        \"\"\"\n",
    "        self.graph = tf.Graph()\n",
    "        with self.graph.as_default():\n",
    "          # Create graph topology and x\n",
    "            self.test_graph_topology = GraphTopology(n_feat, name='test')\n",
    "            self.support_graph_topology = GraphTopology(n_feat, name='support')\n",
    "            self.test = self.test_graph_topology.get_atom_features_placeholder()\n",
    "            self.support = self.support_graph_topology.get_atom_features_placeholder()\n",
    "\n",
    "        # Keep track of the layers\n",
    "        self.layers = []\n",
    "        # Whether or not we have used the GraphGather layer yet\n",
    "        self.bool_pre_gather = True\n",
    "\n",
    "    def add(self, layer):\n",
    "        \"\"\"Adds a layer to both test/support stacks.\n",
    "\n",
    "        Note that the layer transformation is performed independently on the\n",
    "        test/support tensors.\n",
    "        \"\"\"\n",
    "\n",
    "        with self.graph.as_default():\n",
    "            self.layers.append(layer)\n",
    "\n",
    "            # Update new value of x\n",
    "            if type(layer).__name__ in ['GraphConv', 'GraphGather', 'GraphPool']:\n",
    "                assert self.bool_pre_gather, \"Cannot apply graphical layers after gather.\"\n",
    "\n",
    "                self.test = layer([self.test] + self.test_graph_topology.topology)\n",
    "                self.support = layer([self.support] +\n",
    "                                 self.support_graph_topology.topology)\n",
    "            else:\n",
    "                self.test = layer(self.test)\n",
    "                self.support = layer(self.support)\n",
    "\n",
    "            if type(layer).__name__ == 'GraphGather':\n",
    "                self.bool_pre_gather = False  # Set flag to stop adding topology\n",
    "\n",
    "    def add_test(self, layer): \n",
    "        \"\"\"Adds a layer to test.\"\"\"\n",
    "    \n",
    "        with self.graph.as_default():\n",
    "            self.layers.append(layer)\n",
    "\n",
    "            # Update new value of x\n",
    "            if type(layer).__name__ in ['GraphConv', 'GraphPool', 'GraphGather']:\n",
    "                self.test = layer([self.test] + self.test_graph_topology.topology)\n",
    "            else:\n",
    "                self.test = layer(self.test)\n",
    "\n",
    "    def add_support(self, layer):\n",
    "        \"\"\"Adds a layer to support.\"\"\"\n",
    "        with self.graph.as_default():\n",
    "            self.layers.append(layer)\n",
    "\n",
    "            # Update new value of x\n",
    "            if type(layer).__name__ in ['GraphConv', 'GraphPool', 'GraphGather']:\n",
    "                self.support = layer([self.support] +\n",
    "                                 self.support_graph_topology.topology)\n",
    "            else:\n",
    "                self.support = layer(self.support)\n",
    "\n",
    "    def join(self, layer):\n",
    "        \"\"\"Joins test and support to a two input two output layer\"\"\"\n",
    "        with self.graph.as_default():\n",
    "            self.layers.append(layer)\n",
    "            self.test, self.support = layer([self.test, self.support])\n",
    "\n",
    "    def get_test_output(self):\n",
    "        return self.test\n",
    "\n",
    "    def get_support_output(self):\n",
    "        return self.support\n",
    "\n",
    "    def return_outputs(self):\n",
    "        return [self.test] + [self.support]\n",
    "\n",
    "    def return_inputs(self):\n",
    "        return (self.test_graph_topology.get_inputs() +\n",
    "            self.support_graph_topology.get_inputs())\n"
   ]
  },
  {
   "cell_type": "markdown",
   "metadata": {},
   "source": [
    "# MUV Siamese One Fold"
   ]
  },
  {
   "cell_type": "code",
   "execution_count": 3,
   "metadata": {},
   "outputs": [
    {
     "name": "stdout",
     "output_type": "stream",
     "text": [
      "/Users/danielvella/Desktop/deepchem\n",
      "/Users/danielvella/Desktop/deepchem\n"
     ]
    }
   ],
   "source": [
    "%cd ../../..\n",
    "print(os.getcwd())"
   ]
  },
  {
   "cell_type": "code",
   "execution_count": 4,
   "metadata": {},
   "outputs": [],
   "source": [
    "import numpy as np\n",
    "import deepchem as dc\n",
    "import tensorflow as tf\n",
    "\n",
    "import sys\n",
    "import os\n",
    "\n",
    "# sys.path.append(\"/Users/danielvella/Desktop/deepchem/\")\n",
    "\n",
    "from examples.low_data.datasets import load_muv_convmol\n",
    "from contrib.one_shot_models.graph_topology import GraphTopology\n",
    "\n",
    "# %run '/Users/danielvella/Desktop/deepchem/examples/low_data/datasets'\n",
    "# %run '/Users/danielvella/Desktop/deepchem/contrib/one_shot_models/graph_topology'"
   ]
  },
  {
   "cell_type": "code",
   "execution_count": 5,
   "metadata": {},
   "outputs": [
    {
     "name": "stdout",
     "output_type": "stream",
     "text": [
      "/Users/danielvella/Desktop/deepchem\n"
     ]
    }
   ],
   "source": [
    "print(os.getcwd())"
   ]
  },
  {
   "cell_type": "code",
   "execution_count": 6,
   "metadata": {},
   "outputs": [],
   "source": [
    "# Number of folds for split \n",
    "K = 4\n",
    "\n",
    "# num positive/negative ligands\n",
    "n_pos = 10\n",
    "n_neg = 10\n",
    "\n",
    "# Set batch sizes for network\n",
    "test_batch_size = 128\n",
    "support_batch_size = n_pos + n_neg\n",
    "nb_epochs = 1\n",
    "n_train_trials = 2000\n",
    "n_eval_trials = 20\n",
    "n_steps_per_trial = 1\n",
    "learning_rate = 1e-4\n",
    "log_every_n_samples = 50\n",
    "\n",
    "# Number of features on conv-mols\n",
    "n_feat = 75"
   ]
  },
  {
   "cell_type": "code",
   "execution_count": 7,
   "metadata": {},
   "outputs": [
    {
     "name": "stderr",
     "output_type": "stream",
     "text": [
      "smiles_field is deprecated and will be removed in a future version of DeepChem.Use feature_field instead.\n"
     ]
    },
    {
     "name": "stdout",
     "output_type": "stream",
     "text": [
      "About to load MUV dataset.\n",
      "About to featurize MUV dataset.\n"
     ]
    },
    {
     "name": "stderr",
     "output_type": "stream",
     "text": [
      "/Users/danielvella/Desktop/deepchem/deepchem/data/data_loader.py:162: FutureWarning: featurize() is deprecated and has been renamed to create_dataset().featurize() will be removed in DeepChem 3.0\n",
      "  \"featurize() will be removed in DeepChem 3.0\", FutureWarning)\n"
     ]
    },
    {
     "name": "stdout",
     "output_type": "stream",
     "text": [
      "About to transform data\n",
      "Assigning extra tasks to last fold due to uneven split\n"
     ]
    }
   ],
   "source": [
    "muv_tasks, dataset, transformers = load_muv_convmol()\n",
    "\n",
    "# Define metric\n",
    "metric = dc.metrics.Metric(dc.metrics.roc_auc_score, mode=\"classification\")\n",
    "\n",
    "task_splitter = dc.splits.TaskSplitter()\n",
    "fold_datasets = task_splitter.k_fold_split(dataset, K)\n",
    "\n",
    "train_folds = fold_datasets[:-1]\n",
    "train_dataset = dc.splits.merge_fold_datasets(train_folds)\n",
    "test_dataset = fold_datasets[-1]"
   ]
  },
  {
   "cell_type": "code",
   "execution_count": 9,
   "metadata": {},
   "outputs": [
    {
     "data": {
      "text/plain": [
       "'2.2.0'"
      ]
     },
     "execution_count": 9,
     "metadata": {},
     "output_type": "execute_result"
    }
   ],
   "source": [
    "tf.__version__"
   ]
  },
  {
   "cell_type": "code",
   "execution_count": 23,
   "metadata": {},
   "outputs": [
    {
     "ename": "ValueError",
     "evalue": "in user code:\n\n    /Users/danielvella/Desktop/deepchem/deepchem/models/layers.py:170 call  *\n        split_features = tf.split(atom_features, deg_slice[:, 1])\n    /opt/miniconda3/envs/deepchem/lib/python3.6/site-packages/tensorflow/python/ops/array_ops.py:1959 split  **\n        raise ValueError(\"Cannot infer num from shape %s\" % num_or_size_splits)\n\n    ValueError: Cannot infer num from shape Tensor(\"graph_conv_6/strided_slice:0\", shape=(None, 2), dtype=int32)\n",
     "output_type": "error",
     "traceback": [
      "\u001b[0;31m---------------------------------------------------------------------------\u001b[0m",
      "\u001b[0;31mValueError\u001b[0m                                Traceback (most recent call last)",
      "\u001b[0;32m<ipython-input-23-145207400814>\u001b[0m in \u001b[0;36m<module>\u001b[0;34m\u001b[0m\n\u001b[1;32m      3\u001b[0m \u001b[0;34m\u001b[0m\u001b[0m\n\u001b[1;32m      4\u001b[0m \u001b[0;31m# Add layers\u001b[0m\u001b[0;34m\u001b[0m\u001b[0;34m\u001b[0m\u001b[0;34m\u001b[0m\u001b[0m\n\u001b[0;32m----> 5\u001b[0;31m \u001b[0msupport_model\u001b[0m\u001b[0;34m.\u001b[0m\u001b[0madd\u001b[0m\u001b[0;34m(\u001b[0m\u001b[0mdc\u001b[0m\u001b[0;34m.\u001b[0m\u001b[0mmodels\u001b[0m\u001b[0;34m.\u001b[0m\u001b[0mlayers\u001b[0m\u001b[0;34m.\u001b[0m\u001b[0mGraphConv\u001b[0m\u001b[0;34m(\u001b[0m\u001b[0;36m64\u001b[0m\u001b[0;34m,\u001b[0m \u001b[0mn_feat\u001b[0m\u001b[0;34m,\u001b[0m \u001b[0mactivation_fn\u001b[0m\u001b[0;34m=\u001b[0m\u001b[0;34m'relu'\u001b[0m\u001b[0;34m)\u001b[0m\u001b[0;34m)\u001b[0m\u001b[0;34m\u001b[0m\u001b[0;34m\u001b[0m\u001b[0m\n\u001b[0m\u001b[1;32m      6\u001b[0m \u001b[0msupport_model\u001b[0m\u001b[0;34m.\u001b[0m\u001b[0madd\u001b[0m\u001b[0;34m(\u001b[0m\u001b[0mdc\u001b[0m\u001b[0;34m.\u001b[0m\u001b[0mnn\u001b[0m\u001b[0;34m.\u001b[0m\u001b[0mGraphPool\u001b[0m\u001b[0;34m(\u001b[0m\u001b[0;34m)\u001b[0m\u001b[0;34m)\u001b[0m\u001b[0;34m\u001b[0m\u001b[0;34m\u001b[0m\u001b[0m\n\u001b[1;32m      7\u001b[0m \u001b[0msupport_model\u001b[0m\u001b[0;34m.\u001b[0m\u001b[0madd\u001b[0m\u001b[0;34m(\u001b[0m\u001b[0mdc\u001b[0m\u001b[0;34m.\u001b[0m\u001b[0mnn\u001b[0m\u001b[0;34m.\u001b[0m\u001b[0mGraphConv\u001b[0m\u001b[0;34m(\u001b[0m\u001b[0;36m128\u001b[0m\u001b[0;34m,\u001b[0m \u001b[0;36m64\u001b[0m\u001b[0;34m,\u001b[0m \u001b[0mactivation\u001b[0m\u001b[0;34m=\u001b[0m\u001b[0;34m'relu'\u001b[0m\u001b[0;34m)\u001b[0m\u001b[0;34m)\u001b[0m\u001b[0;34m\u001b[0m\u001b[0;34m\u001b[0m\u001b[0m\n",
      "\u001b[0;32m<ipython-input-22-ce3707fd0fb6>\u001b[0m in \u001b[0;36madd\u001b[0;34m(self, layer)\u001b[0m\n\u001b[1;32m     34\u001b[0m                 \u001b[0;32massert\u001b[0m \u001b[0mself\u001b[0m\u001b[0;34m.\u001b[0m\u001b[0mbool_pre_gather\u001b[0m\u001b[0;34m,\u001b[0m \u001b[0;34m\"Cannot apply graphical layers after gather.\"\u001b[0m\u001b[0;34m\u001b[0m\u001b[0;34m\u001b[0m\u001b[0m\n\u001b[1;32m     35\u001b[0m \u001b[0;34m\u001b[0m\u001b[0m\n\u001b[0;32m---> 36\u001b[0;31m                 \u001b[0mself\u001b[0m\u001b[0;34m.\u001b[0m\u001b[0mtest\u001b[0m \u001b[0;34m=\u001b[0m \u001b[0mlayer\u001b[0m\u001b[0;34m(\u001b[0m\u001b[0;34m[\u001b[0m\u001b[0mself\u001b[0m\u001b[0;34m.\u001b[0m\u001b[0mtest\u001b[0m\u001b[0;34m]\u001b[0m \u001b[0;34m+\u001b[0m \u001b[0mself\u001b[0m\u001b[0;34m.\u001b[0m\u001b[0mtest_graph_topology\u001b[0m\u001b[0;34m.\u001b[0m\u001b[0mtopology\u001b[0m\u001b[0;34m)\u001b[0m\u001b[0;34m\u001b[0m\u001b[0;34m\u001b[0m\u001b[0m\n\u001b[0m\u001b[1;32m     37\u001b[0m                 self.support = layer([self.support] +\n\u001b[1;32m     38\u001b[0m                                  self.support_graph_topology.topology)\n",
      "\u001b[0;32m/opt/miniconda3/envs/deepchem/lib/python3.6/site-packages/tensorflow/python/keras/engine/base_layer.py\u001b[0m in \u001b[0;36m__call__\u001b[0;34m(self, *args, **kwargs)\u001b[0m\n\u001b[1;32m    925\u001b[0m                     \u001b[0moutputs\u001b[0m \u001b[0;34m=\u001b[0m \u001b[0mbase_layer_utils\u001b[0m\u001b[0;34m.\u001b[0m\u001b[0mmark_as_return\u001b[0m\u001b[0;34m(\u001b[0m\u001b[0moutputs\u001b[0m\u001b[0;34m,\u001b[0m \u001b[0macd\u001b[0m\u001b[0;34m)\u001b[0m\u001b[0;34m\u001b[0m\u001b[0;34m\u001b[0m\u001b[0m\n\u001b[1;32m    926\u001b[0m                 \u001b[0;32melse\u001b[0m\u001b[0;34m:\u001b[0m\u001b[0;34m\u001b[0m\u001b[0;34m\u001b[0m\u001b[0m\n\u001b[0;32m--> 927\u001b[0;31m                   \u001b[0moutputs\u001b[0m \u001b[0;34m=\u001b[0m \u001b[0mcall_fn\u001b[0m\u001b[0;34m(\u001b[0m\u001b[0mcast_inputs\u001b[0m\u001b[0;34m,\u001b[0m \u001b[0;34m*\u001b[0m\u001b[0margs\u001b[0m\u001b[0;34m,\u001b[0m \u001b[0;34m**\u001b[0m\u001b[0mkwargs\u001b[0m\u001b[0;34m)\u001b[0m\u001b[0;34m\u001b[0m\u001b[0;34m\u001b[0m\u001b[0m\n\u001b[0m\u001b[1;32m    928\u001b[0m \u001b[0;34m\u001b[0m\u001b[0m\n\u001b[1;32m    929\u001b[0m             \u001b[0;32mexcept\u001b[0m \u001b[0merrors\u001b[0m\u001b[0;34m.\u001b[0m\u001b[0mOperatorNotAllowedInGraphError\u001b[0m \u001b[0;32mas\u001b[0m \u001b[0me\u001b[0m\u001b[0;34m:\u001b[0m\u001b[0;34m\u001b[0m\u001b[0;34m\u001b[0m\u001b[0m\n",
      "\u001b[0;32m/opt/miniconda3/envs/deepchem/lib/python3.6/site-packages/tensorflow/python/autograph/impl/api.py\u001b[0m in \u001b[0;36mwrapper\u001b[0;34m(*args, **kwargs)\u001b[0m\n\u001b[1;32m    263\u001b[0m       \u001b[0;32mexcept\u001b[0m \u001b[0mException\u001b[0m \u001b[0;32mas\u001b[0m \u001b[0me\u001b[0m\u001b[0;34m:\u001b[0m  \u001b[0;31m# pylint:disable=broad-except\u001b[0m\u001b[0;34m\u001b[0m\u001b[0;34m\u001b[0m\u001b[0m\n\u001b[1;32m    264\u001b[0m         \u001b[0;32mif\u001b[0m \u001b[0mhasattr\u001b[0m\u001b[0;34m(\u001b[0m\u001b[0me\u001b[0m\u001b[0;34m,\u001b[0m \u001b[0;34m'ag_error_metadata'\u001b[0m\u001b[0;34m)\u001b[0m\u001b[0;34m:\u001b[0m\u001b[0;34m\u001b[0m\u001b[0;34m\u001b[0m\u001b[0m\n\u001b[0;32m--> 265\u001b[0;31m           \u001b[0;32mraise\u001b[0m \u001b[0me\u001b[0m\u001b[0;34m.\u001b[0m\u001b[0mag_error_metadata\u001b[0m\u001b[0;34m.\u001b[0m\u001b[0mto_exception\u001b[0m\u001b[0;34m(\u001b[0m\u001b[0me\u001b[0m\u001b[0;34m)\u001b[0m\u001b[0;34m\u001b[0m\u001b[0;34m\u001b[0m\u001b[0m\n\u001b[0m\u001b[1;32m    266\u001b[0m         \u001b[0;32melse\u001b[0m\u001b[0;34m:\u001b[0m\u001b[0;34m\u001b[0m\u001b[0;34m\u001b[0m\u001b[0m\n\u001b[1;32m    267\u001b[0m           \u001b[0;32mraise\u001b[0m\u001b[0;34m\u001b[0m\u001b[0;34m\u001b[0m\u001b[0m\n",
      "\u001b[0;31mValueError\u001b[0m: in user code:\n\n    /Users/danielvella/Desktop/deepchem/deepchem/models/layers.py:170 call  *\n        split_features = tf.split(atom_features, deg_slice[:, 1])\n    /opt/miniconda3/envs/deepchem/lib/python3.6/site-packages/tensorflow/python/ops/array_ops.py:1959 split  **\n        raise ValueError(\"Cannot infer num from shape %s\" % num_or_size_splits)\n\n    ValueError: Cannot infer num from shape Tensor(\"graph_conv_6/strided_slice:0\", shape=(None, 2), dtype=int32)\n"
     ]
    }
   ],
   "source": [
    "# Train support model on train\n",
    "support_model = SequentialSupportGraph(n_feat)\n",
    "\n",
    "# Add layers\n",
    "support_model.add(dc.models.layers.GraphConv(64, n_feat, activation_fn='relu'))\n",
    "support_model.add(dc.nn.GraphPool())\n",
    "support_model.add(dc.nn.GraphConv(128, 64, activation='relu'))\n",
    "support_model.add(dc.nn.GraphPool())\n",
    "support_model.add(dc.nn.GraphConv(64, 128, activation='relu'))\n",
    "support_model.add(dc.nn.GraphPool())\n",
    "support_model.add(dc.nn.Dense(128, 64, activation='tanh'))\n",
    "\n",
    "support_model.add_test(dc.nn.GraphGather(test_batch_size, activation='tanh'))\n",
    "support_model.add_support(\n",
    "    dc.nn.GraphGather(support_batch_size, activation='tanh'))\n",
    "\n",
    "model = dc.models.SupportGraphClassifier(\n",
    "    support_model,\n",
    "    test_batch_size=test_batch_size,\n",
    "    support_batch_size=support_batch_size,\n",
    "    learning_rate=learning_rate)\n",
    "\n",
    "model.fit(\n",
    "    train_dataset,\n",
    "    nb_epochs=nb_epochs,\n",
    "    n_episodes_per_epoch=n_train_trials,\n",
    "    n_pos=n_pos,\n",
    "    n_neg=n_neg,\n",
    "    log_every_n_samples=log_every_n_samples)\n",
    "mean_scores, std_scores = model.evaluate(\n",
    "    test_dataset, metric, n_pos, n_neg, n_trials=n_eval_trials)"
   ]
  },
  {
   "cell_type": "code",
   "execution_count": 19,
   "metadata": {},
   "outputs": [
    {
     "name": "stdout",
     "output_type": "stream",
     "text": [
      "Mean Scores on evaluation dataset\n"
     ]
    },
    {
     "ename": "NameError",
     "evalue": "name 'mean_scores' is not defined",
     "output_type": "error",
     "traceback": [
      "\u001b[0;31m---------------------------------------------------------------------------\u001b[0m",
      "\u001b[0;31mNameError\u001b[0m                                 Traceback (most recent call last)",
      "\u001b[0;32m<ipython-input-19-728f5c38677f>\u001b[0m in \u001b[0;36m<module>\u001b[0;34m\u001b[0m\n\u001b[1;32m      1\u001b[0m \u001b[0mprint\u001b[0m\u001b[0;34m(\u001b[0m\u001b[0;34m\"Mean Scores on evaluation dataset\"\u001b[0m\u001b[0;34m)\u001b[0m\u001b[0;34m\u001b[0m\u001b[0;34m\u001b[0m\u001b[0m\n\u001b[0;32m----> 2\u001b[0;31m \u001b[0mprint\u001b[0m\u001b[0;34m(\u001b[0m\u001b[0mmean_scores\u001b[0m\u001b[0;34m)\u001b[0m\u001b[0;34m\u001b[0m\u001b[0;34m\u001b[0m\u001b[0m\n\u001b[0m\u001b[1;32m      3\u001b[0m \u001b[0mprint\u001b[0m\u001b[0;34m(\u001b[0m\u001b[0;34m\"Standard Deviations on evaluation dataset\"\u001b[0m\u001b[0;34m)\u001b[0m\u001b[0;34m\u001b[0m\u001b[0;34m\u001b[0m\u001b[0m\n\u001b[1;32m      4\u001b[0m \u001b[0mprint\u001b[0m\u001b[0;34m(\u001b[0m\u001b[0mstd_scores\u001b[0m\u001b[0;34m)\u001b[0m\u001b[0;34m\u001b[0m\u001b[0;34m\u001b[0m\u001b[0m\n\u001b[1;32m      5\u001b[0m \u001b[0mprint\u001b[0m\u001b[0;34m(\u001b[0m\u001b[0;34m\"Median of Mean Scores\"\u001b[0m\u001b[0;34m)\u001b[0m\u001b[0;34m\u001b[0m\u001b[0;34m\u001b[0m\u001b[0m\n",
      "\u001b[0;31mNameError\u001b[0m: name 'mean_scores' is not defined"
     ]
    }
   ],
   "source": [
    "print(\"Mean Scores on evaluation dataset\")\n",
    "print(mean_scores)\n",
    "print(\"Standard Deviations on evaluation dataset\")\n",
    "print(std_scores)\n",
    "print(\"Median of Mean Scores\")\n",
    "print(np.median(np.array(mean_scores.values())))"
   ]
  },
  {
   "cell_type": "code",
   "execution_count": null,
   "metadata": {},
   "outputs": [],
   "source": []
  }
 ],
 "metadata": {
  "kernelspec": {
   "display_name": "Python 3",
   "language": "python",
   "name": "python3"
  },
  "language_info": {
   "codemirror_mode": {
    "name": "ipython",
    "version": 3
   },
   "file_extension": ".py",
   "mimetype": "text/x-python",
   "name": "python",
   "nbconvert_exporter": "python",
   "pygments_lexer": "ipython3",
   "version": "3.6.12"
  }
 },
 "nbformat": 4,
 "nbformat_minor": 4
}
