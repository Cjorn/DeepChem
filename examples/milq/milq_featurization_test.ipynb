{
 "cells": [
  {
   "cell_type": "markdown",
   "metadata": {},
   "source": [
    "## MILQ test\n",
    "First attempt to do the machine learning multitasking with SDF files."
   ]
  },
  {
   "cell_type": "code",
   "execution_count": 1,
   "metadata": {},
   "outputs": [
    {
     "name": "stdout",
     "output_type": "stream",
     "text": [
      "Automatic pdb calling has been turned OFF\n"
     ]
    },
    {
     "name": "stderr",
     "output_type": "stream",
     "text": [
      "/data/torlarse/Programs/lib/python3.6/site-packages/h5py/__init__.py:36: FutureWarning: Conversion of the second argument of issubdtype from `float` to `np.floating` is deprecated. In future, it will be treated as `np.float64 == np.dtype(float).type`.\n",
      "  from ._conv import register_converters as _register_converters\n"
     ]
    }
   ],
   "source": [
    "%load_ext autoreload\n",
    "%autoreload 2\n",
    "%pdb off\n",
    "__author__ = \"Tor Erik Larsen\"\n",
    "__copyright__ = \"Copyright 2018, NTNU\"\n",
    "__license__ = \"LGPL\"\n",
    "\n",
    "import os\n",
    "import numpy as np\n",
    "import deepchem as dc\n",
    "from scipy import stats"
   ]
  },
  {
   "cell_type": "markdown",
   "metadata": {},
   "source": [
    "### Featurize and load datasets\n",
    "Comment out whichever featurizer and loader desired"
   ]
  },
  {
   "cell_type": "code",
   "execution_count": 12,
   "metadata": {},
   "outputs": [
    {
     "name": "stdout",
     "output_type": "stream",
     "text": [
      "Loading raw samples now.\n",
      "shard_size: 8192\n",
      "Reading structures from membrane_permeability.sdf.\n",
      "Currently featurizing feature_type: CircularFingerprint\n",
      "Featurizing sample 0\n",
      "TIMING: featurizing shard 0 took 0.259 s\n",
      "TIMING: dataset construction took 0.421 s\n",
      "Loading dataset from disk.\n",
      "type of diskData <class 'deepchem.data.datasets.DiskDataset'>\n",
      "[0 0 0 ... 0 0 0]\n",
      "dim of X:  2\n",
      "[-5.08]\n"
     ]
    },
    {
     "data": {
      "text/plain": [
       "-5.209900497512437"
      ]
     },
     "execution_count": 12,
     "metadata": {},
     "output_type": "execute_result"
    }
   ],
   "source": [
    "# dataset_file = \"gdb1k.sdf\"\n",
    "dataset_file = \"membrane_permeability.sdf\"\n",
    "#featurizer = dc.feat.CoulombMatrixEig(23, remove_hydrogens=False)\n",
    "featurizer = dc.feat.fingerprints.CircularFingerprint()\n",
    "#featurizer = dc.feat.adjacency_fingerprints.AdjacencyFingerprint()\n",
    "\n",
    "#loader = dc.data.SDFLoader(tasks = [\"atomization_energy\"], featurizer = featurizer)\n",
    "loader = dc.data.SDFLoader(tasks = [\"LogP(RRCK)\"], featurizer = featurizer,\n",
    "                          clean_mols=True)\n",
    "disk_dataset = loader.featurize(dataset_file)\n",
    "\n",
    "hoho = dc.data.NumpyDataset.from_DiskDataset(disk_dataset)\n",
    "print(hoho.X[0])\n",
    "print(\"dim of X: \", hoho.X.ndim)\n",
    "print(hoho.y[0])\n",
    "hoho.y.ndim\n",
    "np.mean(hoho.y)"
   ]
  }
 ],
 "metadata": {
  "kernelspec": {
   "display_name": "Python 3",
   "language": "python",
   "name": "python3"
  },
  "language_info": {
   "codemirror_mode": {
    "name": "ipython",
    "version": 3
   },
   "file_extension": ".py",
   "mimetype": "text/x-python",
   "name": "python",
   "nbconvert_exporter": "python",
   "pygments_lexer": "ipython3",
   "version": "3.6.5"
  }
 },
 "nbformat": 4,
 "nbformat_minor": 2
}
