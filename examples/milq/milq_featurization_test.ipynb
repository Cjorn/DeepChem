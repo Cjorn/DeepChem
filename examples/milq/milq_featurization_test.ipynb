{
 "cells": [
  {
   "cell_type": "markdown",
   "metadata": {},
   "source": [
    "## MILQ test\n",
    "First attempt to do the machine learning multitasking with SDF files."
   ]
  },
  {
   "cell_type": "code",
   "execution_count": 14,
   "metadata": {},
   "outputs": [
    {
     "name": "stdout",
     "output_type": "stream",
     "text": [
      "The autoreload extension is already loaded. To reload it, use:\n",
      "  %reload_ext autoreload\n",
      "Automatic pdb calling has been turned OFF\n"
     ]
    }
   ],
   "source": [
    "%load_ext autoreload\n",
    "%autoreload 2\n",
    "%pdb off\n",
    "__author__ = \"Tor Erik Larsen\"\n",
    "__copyright__ = \"Copyright 2018, NTNU\"\n",
    "__license__ = \"LGPL\"\n",
    "\n",
    "import os\n",
    "import numpy as np\n",
    "import deepchem as dc"
   ]
  },
  {
   "cell_type": "markdown",
   "metadata": {},
   "source": [
    "Load and featurize  gdb data with Coulomb matrix"
   ]
  },
  {
   "cell_type": "code",
   "execution_count": 15,
   "metadata": {},
   "outputs": [
    {
     "name": "stdout",
     "output_type": "stream",
     "text": [
      "Loading raw samples now.\n",
      "shard_size: 8192\n",
      "Reading structures from gdb1k.sdf.\n",
      "Currently featurizing feature_type: CoulombMatrixEig\n",
      "Featurizing sample 0\n",
      "TIMING: featurizing shard 0 took 0.349 s\n",
      "TIMING: dataset construction took 0.490 s\n",
      "Loading dataset from disk.\n",
      "type of diskData <class 'deepchem.data.datasets.DiskDataset'>\n"
     ]
    }
   ],
   "source": [
    "dataset_file = \"gdb1k.sdf\"\n",
    "featurizer = dc.feat.CoulombMatrixEig(23, remove_hydrogens=False)\n",
    "loader = dc.data.SDFLoader(tasks = [\"atomization_energy\"], featurizer = featurizer)\n",
    "dataset = loader.featurize(dataset_file)"
   ]
  },
  {
   "cell_type": "markdown",
   "metadata": {},
   "source": [
    "Load and featurize  membrane data"
   ]
  },
  {
   "cell_type": "code",
   "execution_count": 45,
   "metadata": {
    "scrolled": true
   },
   "outputs": [
    {
     "name": "stdout",
     "output_type": "stream",
     "text": [
      "Loading raw samples now.\n",
      "shard_size: 8192\n",
      "Reading structures from membrane_permeability.sdf.\n",
      "Currently featurizing feature_type: CircularFingerprint\n",
      "Featurizing sample 0\n",
      "TIMING: featurizing shard 0 took 0.260 s\n",
      "TIMING: dataset construction took 0.423 s\n",
      "Loading dataset from disk.\n",
      "type of diskData <class 'deepchem.data.datasets.DiskDataset'>\n"
     ]
    }
   ],
   "source": [
    "dataset_file = \"membrane_permeability.sdf\"\n",
    "featurizer = dc.feat.fingerprints.CircularFingerprint()\n",
    "loader = dc.data.SDFLoader(tasks = [\"LogP(RRCK)\"], featurizer = featurizer,\n",
    "                          clean_mols=True)\n",
    "disk_dataset= loader.featurize(dataset_file)\n",
    "#hoho = dc.data.NumpyDataset.from_DiskDataset(disk_dataset)"
   ]
  },
  {
   "cell_type": "raw",
   "metadata": {},
   "source": [
    "Preparing for printing dataset a la BACE. ONLY for csv files"
   ]
  },
  {
   "cell_type": "code",
   "execution_count": 44,
   "metadata": {},
   "outputs": [],
   "source": [
    "# print(dataset[dataset.duplicated(subset='smiles', keep='first')])\n",
    "# print(np.shape(hoho))\n",
    "# print(hoho.dtype)"
   ]
  }
 ],
 "metadata": {
  "kernelspec": {
   "display_name": "Python 3",
   "language": "python",
   "name": "python3"
  },
  "language_info": {
   "codemirror_mode": {
    "name": "ipython",
    "version": 3
   },
   "file_extension": ".py",
   "mimetype": "text/x-python",
   "name": "python",
   "nbconvert_exporter": "python",
   "pygments_lexer": "ipython3",
   "version": "3.6.5"
  }
 },
 "nbformat": 4,
 "nbformat_minor": 2
}
