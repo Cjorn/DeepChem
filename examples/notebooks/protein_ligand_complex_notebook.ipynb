{
 "cells": [
  {
   "cell_type": "markdown",
   "metadata": {},
   "source": [
    "# Basic Protein-Ligand Affinity Models\n",
    "#Tutorial: Use machine learning to model protein-ligand affinity."
   ]
  },
  {
   "cell_type": "markdown",
   "metadata": {},
   "source": [
    "Written by Evan Feinberg and Bharath Ramsundar\n",
    "\n",
    "Copyright 2016, Stanford University\n",
    "\n",
    "This DeepChem tutorial demonstrates how to use mach.ine learning for modeling protein-ligand binding affinity"
   ]
  },
  {
   "cell_type": "markdown",
   "metadata": {},
   "source": [
    "Overview:\n",
    "\n",
    "In this tutorial, you will trace an arc from loading a raw dataset to fitting a cutting edge ML technique for predicting binding affinities. This will be accomplished by writing simple commands to access the deepchem Python API, encompassing the following broad steps:\n",
    "\n",
    "1. Loading a chemical dataset, consisting of a series of protein-ligand complexes.\n",
    "2. Featurizing each protein-ligand complexes with various featurization schemes. \n",
    "3. Fitting a series of models with these featurized protein-ligand complexes.\n",
    "4. Visualizing the results."
   ]
  },
  {
   "cell_type": "markdown",
   "metadata": {},
   "source": [
    "First, let's point to a \"dataset\" file. This can come in the format of a CSV file or Pandas DataFrame. Regardless\n",
    "of file format, it must be columnar data, where each row is a molecular system, and each column represents\n",
    "a different piece of information about that system. For instance, in this example, every row reflects a \n",
    "protein-ligand complex, and the following columns are present: a unique complex identifier; the SMILES string\n",
    "of the ligand; the binding affinity (Ki) of the ligand to the protein in the complex; a Python `list` of all lines\n",
    "in a PDB file for the protein alone; and a Python `list` of all lines in a ligand file for the ligand alone.\n",
    "\n",
    "This should become clearer with the example. (Make sure to set `DISPLAY = True`)\n"
   ]
  },
  {
   "cell_type": "code",
   "execution_count": 1,
   "metadata": {},
   "outputs": [],
   "source": [
    "# set DISPLAY = True when running tutorial\n",
    "DISPLAY = False\n",
    "# set PARALLELIZE to true if you want to use ipyparallel\n",
    "PARALLELIZE = False\n",
    "import warnings\n",
    "warnings.filterwarnings('ignore')"
   ]
  },
  {
   "cell_type": "code",
   "execution_count": 2,
   "metadata": {},
   "outputs": [],
   "source": [
    "import deepchem as dc\n",
    "from deepchem.utils import download_url\n",
    "\n",
    "import os\n",
    "\n",
    "download_url(\"https://s3-us-west-1.amazonaws.com/deepchem.io/datasets/pdbbind_core_df.csv.gz\")\n",
    "data_dir = os.path.join(dc.utils.get_data_dir())\n",
    "dataset_file= os.path.join(dc.utils.get_data_dir(), \"pdbbind_core_df.csv.gz\")\n",
    "raw_dataset = dc.utils.save.load_from_disk(dataset_file)"
   ]
  },
  {
   "cell_type": "markdown",
   "metadata": {},
   "source": [
    "Let's see what `dataset` looks like:"
   ]
  },
  {
   "cell_type": "code",
   "execution_count": 3,
   "metadata": {},
   "outputs": [
    {
     "name": "stdout",
     "output_type": "stream",
     "text": [
      "Type of dataset is: <class 'pandas.core.frame.DataFrame'>\n",
      "  pdb_id                                             smiles  \\\n",
      "0   2d3u        CC1CCCCC1S(O)(O)NC1CC(C2CCC(CN)CC2)SC1C(O)O   \n",
      "1   3cyx  CC(C)(C)NC(O)C1CC2CCCCC2C[NH+]1CC(O)C(CC1CCCCC...   \n",
      "2   3uo4        OC(O)C1CCC(NC2NCCC(NC3CCCCC3C3CCCCC3)N2)CC1   \n",
      "3   1p1q                         CC1ONC(O)C1CC([NH3+])C(O)O   \n",
      "4   3ag9  NC(O)C(CCC[NH2+]C([NH3+])[NH3+])NC(O)C(CCC[NH2...   \n",
      "\n",
      "                                          complex_id  \\\n",
      "0    2d3uCC1CCCCC1S(O)(O)NC1CC(C2CCC(CN)CC2)SC1C(O)O   \n",
      "1  3cyxCC(C)(C)NC(O)C1CC2CCCCC2C[NH+]1CC(O)C(CC1C...   \n",
      "2    3uo4OC(O)C1CCC(NC2NCCC(NC3CCCCC3C3CCCCC3)N2)CC1   \n",
      "3                     1p1qCC1ONC(O)C1CC([NH3+])C(O)O   \n",
      "4  3ag9NC(O)C(CCC[NH2+]C([NH3+])[NH3+])NC(O)C(CCC...   \n",
      "\n",
      "                                         protein_pdb  \\\n",
      "0  ['HEADER    2D3U PROTEIN\\n', 'COMPND    2D3U P...   \n",
      "1  ['HEADER    3CYX PROTEIN\\n', 'COMPND    3CYX P...   \n",
      "2  ['HEADER    3UO4 PROTEIN\\n', 'COMPND    3UO4 P...   \n",
      "3  ['HEADER    1P1Q PROTEIN\\n', 'COMPND    1P1Q P...   \n",
      "4  ['HEADER    3AG9 PROTEIN\\n', 'COMPND    3AG9 P...   \n",
      "\n",
      "                                          ligand_pdb  \\\n",
      "0  ['COMPND    2d3u ligand \\n', 'AUTHOR    GENERA...   \n",
      "1  ['COMPND    3cyx ligand \\n', 'AUTHOR    GENERA...   \n",
      "2  ['COMPND    3uo4 ligand \\n', 'AUTHOR    GENERA...   \n",
      "3  ['COMPND    1p1q ligand \\n', 'AUTHOR    GENERA...   \n",
      "4  ['COMPND    3ag9 ligand \\n', 'AUTHOR    GENERA...   \n",
      "\n",
      "                                         ligand_mol2  label  \n",
      "0  ['### \\n', '### Created by X-TOOL on Thu Aug 2...   6.92  \n",
      "1  ['### \\n', '### Created by X-TOOL on Thu Aug 2...   8.00  \n",
      "2  ['### \\n', '### Created by X-TOOL on Fri Aug 2...   6.52  \n",
      "3  ['### \\n', '### Created by X-TOOL on Thu Aug 2...   4.89  \n",
      "4  ['### \\n', '### Created by X-TOOL on Thu Aug 2...   8.05  \n",
      "Shape of dataset is: (193, 7)\n"
     ]
    }
   ],
   "source": [
    "print(\"Type of dataset is: %s\" % str(type(raw_dataset)))\n",
    "print(raw_dataset[:5])\n",
    "print(\"Shape of dataset is: %s\" % str(raw_dataset.shape))"
   ]
  },
  {
   "cell_type": "markdown",
   "metadata": {},
   "source": [
    "One of the missions of ```deepchem``` is to form a synapse between the chemical and the algorithmic worlds: to be able to leverage the powerful and diverse array of tools available in Python to analyze molecules. This ethos applies to visual as much as quantitative examination:"
   ]
  },
  {
   "cell_type": "code",
   "execution_count": 4,
   "metadata": {
    "scrolled": true
   },
   "outputs": [],
   "source": [
    "import nglview\n",
    "import tempfile\n",
    "import os\n",
    "import mdtraj as md\n",
    "import numpy as np\n",
    "import deepchem.utils.visualization\n",
    "#from deepchem.utils.visualization import combine_mdtraj, visualize_complex, convert_lines_to_mdtraj\n",
    "\n",
    "def combine_mdtraj(protein, ligand):\n",
    "  chain = protein.topology.add_chain()\n",
    "  residue = protein.topology.add_residue(\"LIG\", chain, resSeq=1)\n",
    "  for atom in ligand.topology.atoms:\n",
    "      protein.topology.add_atom(atom.name, atom.element, residue)\n",
    "  protein.xyz = np.hstack([protein.xyz, ligand.xyz])\n",
    "  protein.topology.create_standard_bonds()\n",
    "  return protein\n",
    "\n",
    "def visualize_complex(complex_mdtraj):\n",
    "  ligand_atoms = [a.index for a in complex_mdtraj.topology.atoms if \"LIG\" in str(a.residue)]\n",
    "  binding_pocket_atoms = md.compute_neighbors(complex_mdtraj, 0.5, ligand_atoms)[0]\n",
    "  binding_pocket_residues = list(set([complex_mdtraj.topology.atom(a).residue.resSeq for a in binding_pocket_atoms]))\n",
    "  binding_pocket_residues = [str(r) for r in binding_pocket_residues]\n",
    "  binding_pocket_residues = \" or \".join(binding_pocket_residues)\n",
    "\n",
    "  traj = nglview.MDTrajTrajectory( complex_mdtraj ) # load file from RCSB PDB\n",
    "  ngltraj = nglview.NGLWidget( traj )\n",
    "  ngltraj.representations = [\n",
    "  { \"type\": \"cartoon\", \"params\": {\n",
    "  \"sele\": \"protein\", \"color\": \"residueindex\"\n",
    "  } },\n",
    "  { \"type\": \"licorice\", \"params\": {\n",
    "  \"sele\": \"(not hydrogen) and (%s)\" %  binding_pocket_residues\n",
    "  } },\n",
    "  { \"type\": \"ball+stick\", \"params\": {\n",
    "  \"sele\": \"LIG\"\n",
    "  } }\n",
    "  ]\n",
    "  return ngltraj\n",
    "\n",
    "def visualize_ligand(ligand_mdtraj):\n",
    "  traj = nglview.MDTrajTrajectory( ligand_mdtraj ) # load file from RCSB PDB\n",
    "  ngltraj = nglview.NGLWidget( traj )\n",
    "  ngltraj.representations = [\n",
    "    { \"type\": \"ball+stick\", \"params\": {\"sele\": \"all\" } } ]\n",
    "  return ngltraj\n",
    "\n",
    "def convert_lines_to_mdtraj(molecule_lines):\n",
    "  molecule_lines = molecule_lines.strip('[').strip(']').replace(\"'\",\"\").replace(\"\\\\n\", \"\").split(\", \")\n",
    "  tempdir = tempfile.mkdtemp()\n",
    "  molecule_file = os.path.join(tempdir, \"molecule.pdb\")\n",
    "  with open(molecule_file, \"w\") as f:\n",
    "    for line in molecule_lines:\n",
    "        f.write(\"%s\\n\" % line)\n",
    "  molecule_mdtraj = md.load(molecule_file)\n",
    "  return molecule_mdtraj\n",
    "\n",
    "first_protein, first_ligand = raw_dataset.iloc[0][\"protein_pdb\"], raw_dataset.iloc[0][\"ligand_pdb\"]\n",
    "protein_mdtraj = convert_lines_to_mdtraj(first_protein)\n",
    "ligand_mdtraj = convert_lines_to_mdtraj(first_ligand)\n",
    "complex_mdtraj = combine_mdtraj(protein_mdtraj, ligand_mdtraj)"
   ]
  },
  {
   "cell_type": "code",
   "execution_count": 5,
   "metadata": {
    "slideshow": {
     "slide_type": "slide"
    }
   },
   "outputs": [
    {
     "data": {
      "application/vnd.jupyter.widget-view+json": {
       "model_id": "0ee82d0b5c0944f88c5e6f23235736a8",
       "version_major": 2,
       "version_minor": 0
      },
      "text/html": [
       "<p>Failed to display Jupyter Widget of type <code>NGLWidget</code>.</p>\n",
       "<p>\n",
       "  If you're reading this message in the Jupyter Notebook or JupyterLab Notebook, it may mean\n",
       "  that the widgets JavaScript is still loading. If this message persists, it\n",
       "  likely means that the widgets JavaScript library is either not installed or\n",
       "  not enabled. See the <a href=\"https://ipywidgets.readthedocs.io/en/stable/user_install.html\">Jupyter\n",
       "  Widgets Documentation</a> for setup instructions.\n",
       "</p>\n",
       "<p>\n",
       "  If you're reading this message in another frontend (for example, a static\n",
       "  rendering on GitHub or <a href=\"https://nbviewer.jupyter.org/\">NBViewer</a>),\n",
       "  it may mean that your frontend doesn't currently support widgets.\n",
       "</p>\n"
      ],
      "text/plain": [
       "NGLWidget()"
      ]
     },
     "metadata": {},
     "output_type": "display_data"
    }
   ],
   "source": [
    "ngltraj = visualize_complex(complex_mdtraj)\n",
    "ngltraj"
   ]
  },
  {
   "cell_type": "markdown",
   "metadata": {},
   "source": [
    "Now that we're oriented, let's use ML to do some chemistry. \n",
    "\n",
    "So, step (2) will entail featurizing the dataset.\n",
    "\n",
    "The available featurizations that come standard with deepchem are ECFP4 fingerprints, RDKit descriptors, NNScore-style bdescriptors, and hybrid binding pocket descriptors. Details can be found on ```deepchem.io```."
   ]
  },
  {
   "cell_type": "code",
   "execution_count": 6,
   "metadata": {},
   "outputs": [],
   "source": [
    "grid_featurizer = dc.feat.RdkitGridFeaturizer(\n",
    "    voxel_width=16.0, feature_types=\"voxel_combined\", \n",
    "    voxel_feature_types=[\"ecfp\", \"splif\", \"hbond\", \"pi_stack\", \"cation_pi\", \"salt_bridge\"], \n",
    "    ecfp_power=5, splif_power=5, parallel=True, flatten=True)\n",
    "compound_featurizer = dc.feat.CircularFingerprint(size=128)"
   ]
  },
  {
   "cell_type": "markdown",
   "metadata": {},
   "source": [
    "Note how we separate our featurizers into those that featurize individual chemical compounds, compound_featurizers, and those that featurize molecular complexes, complex_featurizers.\n",
    "\n",
    "Now, let's perform the actual featurization. Calling ```loader.featurize()``` will return an instance of class ```Dataset```. Internally, ```loader.featurize()``` (a) computes the specified features on the data, (b) transforms the inputs into ```X``` and ```y``` NumPy arrays suitable for ML algorithms, and (c) constructs a ```Dataset()``` instance that has useful methods, such as an iterator, over the featurized data. This is a little complicated, so we will use MoleculeNet to featurize the PDBBind core set for us."
   ]
  },
  {
   "cell_type": "code",
   "execution_count": 7,
   "metadata": {},
   "outputs": [
    {
     "name": "stdout",
     "output_type": "stream",
     "text": [
      "Loading dataset from disk.\n",
      "TIMING: dataset construction took 0.022 s\n",
      "Loading dataset from disk.\n",
      "TIMING: dataset construction took 0.010 s\n",
      "Loading dataset from disk.\n",
      "TIMING: dataset construction took 0.009 s\n",
      "Loading dataset from disk.\n"
     ]
    }
   ],
   "source": [
    "PDBBIND_tasks, (train_dataset, valid_dataset, test_dataset), transformers = dc.molnet.load_pdbbind_grid(split='random')\n",
    "#print(dc.molnet.load_pdbbind_grid(split='random', reload=False))"
   ]
  },
  {
   "cell_type": "markdown",
   "metadata": {},
   "source": [
    "Now, we conduct a train-test split. If you'd like, you can choose `splittype=\"scaffold\"` instead to perform a train-test split based on Bemis-Murcko scaffolds."
   ]
  },
  {
   "cell_type": "markdown",
   "metadata": {},
   "source": [
    "We generate separate instances of the Dataset() object to hermetically seal the train dataset from the test dataset. This style lends itself easily to validation-set type hyperparameter searches, which we will illustate in a separate section of this tutorial. "
   ]
  },
  {
   "cell_type": "markdown",
   "metadata": {},
   "source": [
    "The performance of many ML algorithms hinges greatly on careful data preprocessing. Deepchem comes standard with a few options for such preprocessing."
   ]
  },
  {
   "cell_type": "markdown",
   "metadata": {},
   "source": [
    "Now, we're ready to do some learning! \n",
    "\n",
    "To fit a deepchem model, first we instantiate one of the provided (or user-written) model classes. In this case, we have a created a convenience class to wrap around any ML model available in Sci-Kit Learn that can in turn be used to interoperate with deepchem. To instantiate an ```SklearnModel```, you will need (a) task_types, (b) model_params, another ```dict``` as illustrated below, and (c) a ```model_instance``` defining the type of model you would like to fit, in this case a ```RandomForestRegressor```."
   ]
  },
  {
   "cell_type": "code",
   "execution_count": 8,
   "metadata": {},
   "outputs": [],
   "source": [
    "from sklearn.ensemble import RandomForestRegressor\n",
    "\n",
    "sklearn_model = RandomForestRegressor(n_estimators=100)\n",
    "model = dc.models.SklearnModel(sklearn_model)\n",
    "model.fit(train_dataset)"
   ]
  },
  {
   "cell_type": "code",
   "execution_count": 9,
   "metadata": {},
   "outputs": [
    {
     "name": "stdout",
     "output_type": "stream",
     "text": [
      "computed_metrics: [0.8853709076989028]\n",
      "RF Train set R^2 0.885371\n",
      "computed_metrics: [0.24299559830714745]\n",
      "RF Valid set R^2 0.242996\n"
     ]
    }
   ],
   "source": [
    "from deepchem.utils.evaluate import Evaluator\n",
    "import pandas as pd\n",
    "\n",
    "metric = dc.metrics.Metric(dc.metrics.r2_score)\n",
    "\n",
    "evaluator = Evaluator(model, train_dataset, transformers)\n",
    "train_r2score = evaluator.compute_model_performance([metric])\n",
    "print(\"RF Train set R^2 %f\" % (train_r2score[\"r2_score\"]))\n",
    "\n",
    "evaluator = Evaluator(model, valid_dataset, transformers)\n",
    "valid_r2score = evaluator.compute_model_performance([metric])\n",
    "print(\"RF Valid set R^2 %f\" % (valid_r2score[\"r2_score\"]))"
   ]
  },
  {
   "cell_type": "markdown",
   "metadata": {},
   "source": [
    "In this simple example, in few yet intuitive lines of code, we traced the machine learning arc from featurizing a raw dataset to fitting and evaluating a model. \n",
    "\n",
    "Here, we featurized only the ligand. The signal we observed in R^2 reflects the ability of circular fingerprints and random forests to learn general features that make ligands \"drug-like.\""
   ]
  },
  {
   "cell_type": "code",
   "execution_count": 10,
   "metadata": {},
   "outputs": [
    {
     "name": "stdout",
     "output_type": "stream",
     "text": [
      "[5.4144 5.6237 5.4758 6.7253 7.2027 5.3732 6.9986 7.1167 6.0284 6.1725\n",
      " 6.6449 6.7692 7.4198 6.325  6.8163 6.005  6.4791 6.851  6.8021 6.8329]\n"
     ]
    }
   ],
   "source": [
    "predictions = model.predict(test_dataset)\n",
    "print(predictions)"
   ]
  },
  {
   "cell_type": "code",
   "execution_count": 11,
   "metadata": {},
   "outputs": [],
   "source": [
    "# TODO(rbharath): This cell visualizes the ligand with highest predicted activity. Commenting it out for now. Fix this later\n",
    "#from deepchem.utils.visualization import visualize_ligand\n",
    "\n",
    "#top_ligand = predictions.iloc[0]['ids']\n",
    "#ligand1 = convert_lines_to_mdtraj(dataset.loc[dataset['complex_id']==top_ligand]['ligand_pdb'].values[0])\n",
    "#if DISPLAY:\n",
    "#    ngltraj = visualize_ligand(ligand1)\n",
    "#    ngltraj"
   ]
  },
  {
   "cell_type": "code",
   "execution_count": 12,
   "metadata": {
    "slideshow": {
     "slide_type": "-"
    }
   },
   "outputs": [],
   "source": [
    "# TODO(rbharath): This cell visualizes the ligand with lowest predicted activity. Commenting it out for now. Fix this later\n",
    "#worst_ligand = predictions.iloc[predictions.shape[0]-2]['ids']\n",
    "#ligand1 = convert_lines_to_mdtraj(dataset.loc[dataset['complex_id']==worst_ligand]['ligand_pdb'].values[0])\n",
    "#if DISPLAY:\n",
    "#    ngltraj = visualize_ligand(ligand1)\n",
    "#    ngltraj"
   ]
  },
  {
   "cell_type": "markdown",
   "metadata": {},
   "source": [
    "# The protein-ligand complex view."
   ]
  },
  {
   "cell_type": "markdown",
   "metadata": {},
   "source": [
    "The preceding simple example, in few yet intuitive lines of code, traces the machine learning arc from featurizing a raw dataset to fitting and evaluating a model. \n",
    "\n",
    "In this next section, we illustrate ```deepchem```'s modularity, and thereby the ease with which one can explore different featurization schemes, different models, and combinations thereof, to achieve the best performance on a given dataset. We will demonstrate this by examining protein-ligand interactions. "
   ]
  },
  {
   "cell_type": "markdown",
   "metadata": {},
   "source": [
    "In the previous section, we featurized only the ligand. The signal we observed in R^2 reflects the ability of grid fingerprints and random forests to learn general features that make ligands \"drug-like.\" In this section, we demonstrate how to use hyperparameter searching to find a higher scoring ligands."
   ]
  },
  {
   "cell_type": "code",
   "execution_count": 13,
   "metadata": {},
   "outputs": [
    {
     "name": "stdout",
     "output_type": "stream",
     "text": [
      "Fitting model 1/12\n",
      "hyperparameters: {'n_estimators': 10, 'max_features': 'auto'}\n",
      "computed_metrics: [0.09939209697523932]\n",
      "Model 1/12, Metric r2_score, Validation set 0: 0.099392\n",
      "\tbest_validation_score so far: 0.099392\n",
      "Fitting model 2/12\n",
      "hyperparameters: {'n_estimators': 10, 'max_features': 'sqrt'}\n",
      "computed_metrics: [-0.0695298978560297]\n",
      "Model 2/12, Metric r2_score, Validation set 1: -0.069530\n",
      "\tbest_validation_score so far: 0.099392\n",
      "Fitting model 3/12\n",
      "hyperparameters: {'n_estimators': 10, 'max_features': 'log2'}\n",
      "computed_metrics: [-0.13807775139920508]\n",
      "Model 3/12, Metric r2_score, Validation set 2: -0.138078\n",
      "\tbest_validation_score so far: 0.099392\n",
      "Fitting model 4/12\n",
      "hyperparameters: {'n_estimators': 10, 'max_features': None}\n",
      "computed_metrics: [0.032727077194550924]\n",
      "Model 4/12, Metric r2_score, Validation set 3: 0.032727\n",
      "\tbest_validation_score so far: 0.099392\n",
      "Fitting model 5/12\n",
      "hyperparameters: {'n_estimators': 50, 'max_features': 'auto'}\n",
      "computed_metrics: [0.169640982514488]\n",
      "Model 5/12, Metric r2_score, Validation set 4: 0.169641\n",
      "\tbest_validation_score so far: 0.169641\n",
      "Fitting model 6/12\n",
      "hyperparameters: {'n_estimators': 50, 'max_features': 'sqrt'}\n",
      "computed_metrics: [0.2276253754247206]\n",
      "Model 6/12, Metric r2_score, Validation set 5: 0.227625\n",
      "\tbest_validation_score so far: 0.227625\n",
      "Fitting model 7/12\n",
      "hyperparameters: {'n_estimators': 50, 'max_features': 'log2'}\n",
      "computed_metrics: [0.17563812896158948]\n",
      "Model 7/12, Metric r2_score, Validation set 6: 0.175638\n",
      "\tbest_validation_score so far: 0.227625\n",
      "Fitting model 8/12\n",
      "hyperparameters: {'n_estimators': 50, 'max_features': None}\n",
      "computed_metrics: [0.18004972954863452]\n",
      "Model 8/12, Metric r2_score, Validation set 7: 0.180050\n",
      "\tbest_validation_score so far: 0.227625\n",
      "Fitting model 9/12\n",
      "hyperparameters: {'n_estimators': 100, 'max_features': 'auto'}\n",
      "computed_metrics: [0.18428557756388475]\n",
      "Model 9/12, Metric r2_score, Validation set 8: 0.184286\n",
      "\tbest_validation_score so far: 0.227625\n",
      "Fitting model 10/12\n",
      "hyperparameters: {'n_estimators': 100, 'max_features': 'sqrt'}\n",
      "computed_metrics: [0.16992560594245743]\n",
      "Model 10/12, Metric r2_score, Validation set 9: 0.169926\n",
      "\tbest_validation_score so far: 0.227625\n",
      "Fitting model 11/12\n",
      "hyperparameters: {'n_estimators': 100, 'max_features': 'log2'}\n",
      "computed_metrics: [0.16365528246895666]\n",
      "Model 11/12, Metric r2_score, Validation set 10: 0.163655\n",
      "\tbest_validation_score so far: 0.227625\n",
      "Fitting model 12/12\n",
      "hyperparameters: {'n_estimators': 100, 'max_features': None}\n",
      "computed_metrics: [0.21492954841942002]\n",
      "Model 12/12, Metric r2_score, Validation set 11: 0.214930\n",
      "\tbest_validation_score so far: 0.227625\n",
      "computed_metrics: [0.8785621762406118]\n",
      "Best hyperparameters: (50, 'sqrt')\n",
      "train_score: 0.878562\n",
      "validation_score: 0.227625\n"
     ]
    }
   ],
   "source": [
    "def rf_model_builder(model_params, model_dir):\n",
    "  sklearn_model = RandomForestRegressor(**model_params)\n",
    "  return dc.models.SklearnModel(sklearn_model, model_dir)\n",
    "\n",
    "params_dict = {\n",
    "    \"n_estimators\": [10, 50, 100],\n",
    "    \"max_features\": [\"auto\", \"sqrt\", \"log2\", None],\n",
    "}\n",
    "\n",
    "metric = dc.metrics.Metric(dc.metrics.r2_score)\n",
    "optimizer = dc.hyper.HyperparamOpt(rf_model_builder)\n",
    "best_rf, best_rf_hyperparams, all_rf_results = optimizer.hyperparam_search(\n",
    "    params_dict, train_dataset, valid_dataset, transformers,\n",
    "    metric=metric)"
   ]
  },
  {
   "cell_type": "code",
   "execution_count": 14,
   "metadata": {
    "scrolled": false
   },
   "outputs": [
    {
     "data": {
      "image/png": "[encoded data removed]",
      "text/plain": [
       "<matplotlib.figure.Figure at 0x7fd246afaa58>"
      ]
     },
     "metadata": {},
     "output_type": "display_data"
    }
   ],
   "source": [
    "%matplotlib inline\n",
    "\n",
    "import matplotlib\n",
    "import numpy as np\n",
    "import matplotlib.pyplot as plt\n",
    "\n",
    "rf_predicted_test = best_rf.predict(test_dataset)\n",
    "rf_true_test = test_dataset.y\n",
    "plt.scatter(rf_predicted_test, rf_true_test)\n",
    "plt.xlabel('Predicted pIC50s')\n",
    "plt.ylabel('True IC50')\n",
    "plt.title(r'RF predicted IC50 vs. True pIC50')\n",
    "plt.xlim([2, 11])\n",
    "plt.ylim([2, 11])\n",
    "plt.plot([2, 11], [2, 11], color='k')\n",
    "plt.show()"
   ]
  }
 ],
 "metadata": {
  "celltoolbar": "Slideshow",
  "kernelspec": {
   "display_name": "Python 3",
   "language": "python",
   "name": "python3"
  },
  "language_info": {
   "codemirror_mode": {
    "name": "ipython",
    "version": 3
   },
   "file_extension": ".py",
   "mimetype": "text/x-python",
   "name": "python",
   "nbconvert_exporter": "python",
   "pygments_lexer": "ipython3",
   "version": "3.5.4"
  },
  "widgets": {
   "state": {
    "77e7e93946884ed7a2a1a48808f99a90": {
     "views": [
      {
       "cell_index": 10
      }
     ]
    }
   },
   "version": "1.2.0"
  }
 },
 "nbformat": 4,
 "nbformat_minor": 1
}
