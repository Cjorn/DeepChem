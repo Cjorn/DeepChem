{
 "cells": [
  {
   "cell_type": "markdown",
   "metadata": {},
   "source": [
    "# Predicting Ki of Ligands to a Protein\n",
    "In this notebook, we analyze the BACE enyzme and build machine learning models for predicting the Ki of ligands to the protein. We will use the `deepchem` library to load this data into memory, split into train/test/validation folds, build and cross-validate models, and report statistics."
   ]
  },
  {
   "cell_type": "code",
   "execution_count": 1,
   "metadata": {
    "scrolled": true
   },
   "outputs": [
    {
     "name": "stdout",
     "output_type": "stream",
     "text": [
      "Automatic pdb calling has been turned OFF\n"
     ]
    }
   ],
   "source": [
    "%load_ext autoreload\n",
    "%autoreload 2\n",
    "%pdb off  "
   ]
  },
  {
   "cell_type": "markdown",
   "metadata": {},
   "source": [
    "Here imports the deepchem stuff. Also defining dataset links and crystal dataset whatever that is. "
   ]
  },
  {
   "cell_type": "code",
   "execution_count": 2,
   "metadata": {},
   "outputs": [
    {
     "name": "stderr",
     "output_type": "stream",
     "text": [
      "/data/torlarse/Programs/lib/python3.6/site-packages/h5py/__init__.py:36: FutureWarning: Conversion of the second argument of issubdtype from `float` to `np.floating` is deprecated. In future, it will be treated as `np.float64 == np.dtype(float).type`.\n",
      "  from ._conv import register_converters as _register_converters\n"
     ]
    }
   ],
   "source": [
    "import os\n",
    "import sys\n",
    "import deepchem as dc\n",
    "from deepchem.utils.save import load_from_disk"
   ]
  },
  {
   "cell_type": "markdown",
   "metadata": {},
   "source": [
    "The following cell is modified in order to load datasets from disk"
   ]
  },
  {
   "cell_type": "code",
   "execution_count": 3,
   "metadata": {},
   "outputs": [],
   "source": [
    "current_dir = os.path.dirname(os.path.realpath(\"__file__\"))"
   ]
  },
  {
   "cell_type": "markdown",
   "metadata": {},
   "source": [
    "The following cell is the original dataset loaded from AWS. Run these for original intent."
   ]
  },
  {
   "cell_type": "code",
   "execution_count": 22,
   "metadata": {},
   "outputs": [],
   "source": [
    "dc.utils.download_url(\"https://s3-us-west-1.amazonaws.com/deepchem.io/datasets/desc_canvas_aug30.csv\",\n",
    "                      current_dir)\n",
    "dataset_file = \"desc_canvas_aug30.csv\"\n",
    "dc.utils.download_url(\"https://s3-us-west-1.amazonaws.com/deepchem.io/datasets/crystal_desc_canvas_aug30.csv\",\n",
    "                      current_dir)\n",
    "crystal_dataset_file = \"crystal_desc_canvas_aug30.csv\"\n"
   ]
  },
  {
   "cell_type": "markdown",
   "metadata": {},
   "source": [
    "These are the local datasets attended by moi. They do not work properly, assumably due to the presplit nature of the datasets\n"
   ]
  },
  {
   "cell_type": "code",
   "execution_count": 20,
   "metadata": {},
   "outputs": [],
   "source": [
    "# crystal_dataset_file = os.path.join(current_dir, \"../../datasets/crystal_desc_canvas_aug30.csv\")\n",
    "# crystal_dataset = load_from_disk(crystal_dataset_file)\n",
    "\n",
    "# dataset_file = os.path.join(current_dir, \"../../datasets/rev8020split_desc.csv\")\n",
    "# dataset = load_from_disk(dataset_file)"
   ]
  },
  {
   "cell_type": "markdown",
   "metadata": {},
   "source": [
    "Printing the main structure of the two datasets."
   ]
  },
  {
   "cell_type": "code",
   "execution_count": 23,
   "metadata": {},
   "outputs": [
    {
     "name": "stdout",
     "output_type": "stream",
     "text": [
      "Columns of dataset: ['mol','CID','Class','Model','pIC50','MW','AlogP','HBA','HBD','RB',...]\n",
      "Number of examples in dataset: 1475\n",
      "Number of examples in crystal dataset: 25\n"
     ]
    }
   ],
   "source": [
    "num_display=10\n",
    "pretty_columns = (\n",
    "    \"[\" + \",\".join([\"'%s'\" % column for column in dataset.columns.values[:num_display]])\n",
    "    + \",...]\") \n",
    "\n",
    "print(\"Columns of dataset: %s\" % pretty_columns)\n",
    "print(\"Number of examples in dataset: %s\" % str(dataset.shape[0]))\n",
    "print(\"Number of examples in crystal dataset: %s\" % str(crystal_dataset.shape[0]))"
   ]
  },
  {
   "cell_type": "markdown",
   "metadata": {},
   "source": [
    "To gain a visual understanding of compounds in our dataset, let's draw them using rdkit. We define a couple of helper functions to get started. The second provides the filename argument for the first. "
   ]
  },
  {
   "cell_type": "code",
   "execution_count": 24,
   "metadata": {},
   "outputs": [],
   "source": [
    "import tempfile\n",
    "from rdkit import Chem\n",
    "from rdkit.Chem import Draw\n",
    "from itertools import islice\n",
    "from IPython.display import Image, display, HTML\n",
    "\n",
    "def display_images(filenames):\n",
    "    \"\"\"Helper to pretty-print images.\"\"\"\n",
    "    for filename in filenames:\n",
    "        display(Image(filename))\n",
    "\n",
    "def mols_to_pngs(mols, basename=\"test\"):\n",
    "    \"\"\"Helper to write RDKit mols to png files.\"\"\"\n",
    "    filenames = []\n",
    "    for i, mol in enumerate(mols):\n",
    "        filename = \"BACE_%s%d.png\" % (basename, i)\n",
    "        Draw.MolToFile(mol, filename)\n",
    "        filenames.append(filename)\n",
    "    return filenames"
   ]
  },
  {
   "cell_type": "markdown",
   "metadata": {},
   "source": [
    "Now, we display a compound from the dataset. Defining max number of molecules, an empty molecules list. In a for loop over the sliced dataset,  call display image function with a nested mol to png call.\n",
    "\n",
    "Note the complex ring structures and polar structures."
   ]
  },
  {
   "cell_type": "code",
   "execution_count": 25,
   "metadata": {},
   "outputs": [
    {
     "data": {
      "image/png": "[encoded data removed]",
      "text/plain": [
       "<IPython.core.display.Image object>"
      ]
     },
     "metadata": {},
     "output_type": "display_data"
    },
    {
     "data": {
      "image/png": "[encoded data removed]",
      "text/plain": [
       "<IPython.core.display.Image object>"
      ]
     },
     "metadata": {},
     "output_type": "display_data"
    },
    {
     "data": {
      "image/png": "[encoded data removed]",
      "text/plain": [
       "<IPython.core.display.Image object>"
      ]
     },
     "metadata": {},
     "output_type": "display_data"
    },
    {
     "data": {
      "image/png": "[encoded data removed]",
      "text/plain": [
       "<IPython.core.display.Image object>"
      ]
     },
     "metadata": {},
     "output_type": "display_data"
    },
    {
     "data": {
      "image/png": "[encoded data removed]",
      "text/plain": [
       "<IPython.core.display.Image object>"
      ]
     },
     "metadata": {},
     "output_type": "display_data"
    },
    {
     "data": {
      "image/png": "[encoded data removed]",
      "text/plain": [
       "<IPython.core.display.Image object>"
      ]
     },
     "metadata": {},
     "output_type": "display_data"
    },
    {
     "data": {
      "image/png": "[encoded data removed]",
      "text/plain": [
       "<IPython.core.display.Image object>"
      ]
     },
     "metadata": {},
     "output_type": "display_data"
    },
    {
     "data": {
      "image/png": "[encoded data removed]",
      "text/plain": [
       "<IPython.core.display.Image object>"
      ]
     },
     "metadata": {},
     "output_type": "display_data"
    },
    {
     "data": {
      "image/png": "[encoded data removed]",
      "text/plain": [
       "<IPython.core.display.Image object>"
      ]
     },
     "metadata": {},
     "output_type": "display_data"
    },
    {
     "data": {
      "image/png": "[encoded data removed]",
      "text/plain": [
       "<IPython.core.display.Image object>"
      ]
     },
     "metadata": {},
     "output_type": "display_data"
    },
    {
     "data": {
      "image/png": "[encoded data removed]",
      "text/plain": [
       "<IPython.core.display.Image object>"
      ]
     },
     "metadata": {},
     "output_type": "display_data"
    },
    {
     "data": {
      "image/png": "[encoded data removed]",
      "text/plain": [
       "<IPython.core.display.Image object>"
      ]
     },
     "metadata": {},
     "output_type": "display_data"
    }
   ],
   "source": [
    "num_to_display = 12\n",
    "molecules = []\n",
    "for _, data in islice(dataset.iterrows(), num_to_display):\n",
    "    molecules.append(Chem.MolFromSmiles(data[\"mol\"]))\n",
    "display_images(mols_to_pngs(molecules, basename=\"dataset\"))"
   ]
  },
  {
   "cell_type": "markdown",
   "metadata": {},
   "source": [
    "Now let's picture the compounds in the crystal structure collection"
   ]
  },
  {
   "cell_type": "code",
   "execution_count": 26,
   "metadata": {},
   "outputs": [
    {
     "data": {
      "image/png": "[encoded data removed]",
      "text/plain": [
       "<IPython.core.display.Image object>"
      ]
     },
     "metadata": {},
     "output_type": "display_data"
    },
    {
     "data": {
      "image/png": "[encoded data removed]",
      "text/plain": [
       "<IPython.core.display.Image object>"
      ]
     },
     "metadata": {},
     "output_type": "display_data"
    },
    {
     "data": {
      "image/png": "[encoded data removed]",
      "text/plain": [
       "<IPython.core.display.Image object>"
      ]
     },
     "metadata": {},
     "output_type": "display_data"
    },
    {
     "data": {
      "image/png": "[encoded data removed]",
      "text/plain": [
       "<IPython.core.display.Image object>"
      ]
     },
     "metadata": {},
     "output_type": "display_data"
    },
    {
     "data": {
      "image/png": "[encoded data removed]",
      "text/plain": [
       "<IPython.core.display.Image object>"
      ]
     },
     "metadata": {},
     "output_type": "display_data"
    },
    {
     "data": {
      "image/png": "[encoded data removed]",
      "text/plain": [
       "<IPython.core.display.Image object>"
      ]
     },
     "metadata": {},
     "output_type": "display_data"
    },
    {
     "data": {
      "image/png": "[encoded data removed]",
      "text/plain": [
       "<IPython.core.display.Image object>"
      ]
     },
     "metadata": {},
     "output_type": "display_data"
    },
    {
     "data": {
      "image/png": "[encoded data removed]",
      "text/plain": [
       "<IPython.core.display.Image object>"
      ]
     },
     "metadata": {},
     "output_type": "display_data"
    },
    {
     "data": {
      "image/png": "[encoded data removed]",
      "text/plain": [
       "<IPython.core.display.Image object>"
      ]
     },
     "metadata": {},
     "output_type": "display_data"
    },
    {
     "data": {
      "image/png": "[encoded data removed]",
      "text/plain": [
       "<IPython.core.display.Image object>"
      ]
     },
     "metadata": {},
     "output_type": "display_data"
    },
    {
     "data": {
      "image/png": "[encoded data removed]",
      "text/plain": [
       "<IPython.core.display.Image object>"
      ]
     },
     "metadata": {},
     "output_type": "display_data"
    },
    {
     "data": {
      "image/png": "[encoded data removed]",
      "text/plain": [
       "<IPython.core.display.Image object>"
      ]
     },
     "metadata": {},
     "output_type": "display_data"
    }
   ],
   "source": [
    "num_to_display = 12\n",
    "molecules = []\n",
    "for _, data in islice(crystal_dataset.iterrows(), num_to_display):\n",
    "    molecules.append(Chem.MolFromSmiles(data[\"mol\"]))\n",
    "display_images(mols_to_pngs(molecules, basename=\"crystal_dataset\"))"
   ]
  },
  {
   "cell_type": "markdown",
   "metadata": {},
   "source": [
    "Analyzing the distribution of pIC50 values in the dataset gives us a nice spread.\n",
    "\n",
    "What does that mean? What is pIC50? *concentration needed for it to work. IC50 transforms by log, nanomolar unit, this is unitless. Like contracting to a point*"
   ]
  },
  {
   "cell_type": "code",
   "execution_count": 27,
   "metadata": {},
   "outputs": [
    {
     "data": {
      "image/png": "[encoded data removed]",
      "text/plain": [
       "<Figure size 432x288 with 1 Axes>"
      ]
     },
     "metadata": {},
     "output_type": "display_data"
    }
   ],
   "source": [
    "%matplotlib inline\n",
    "import matplotlib\n",
    "import numpy as np\n",
    "import matplotlib.pyplot as plt\n",
    "\n",
    "pIC50s = np.array(dataset[\"pIC50\"])\n",
    "# Remove some dirty data from the dataset\n",
    "pIC50s = [pIC50 for pIC50 in pIC50s if pIC50 != '']\n",
    "n, bins, patches = plt.hist(pIC50s, 50, facecolor='green', alpha=0.75)\n",
    "plt.xlabel('Measured pIC50')\n",
    "plt.ylabel('Number of compounds')\n",
    "plt.title(r'Histogram of pIC50 Values')\n",
    "plt.grid(True)\n",
    "plt.show()"
   ]
  },
  {
   "cell_type": "markdown",
   "metadata": {},
   "source": [
    "the figure shows transformed concentrations. Now range between 3 and 10."
   ]
  },
  {
   "cell_type": "markdown",
   "metadata": {},
   "source": [
    "We now featurize the data using the Canvas samples. To do so, we must specify the columns in the data input that correspond to the features. (Note that CanvasUID is excluded!)\n",
    "\n",
    "*what is canvas?* \n",
    "The canvas is a molecular representation/ fingerprint generator. "
   ]
  },
  {
   "cell_type": "code",
   "execution_count": 28,
   "metadata": {},
   "outputs": [],
   "source": [
    "user_specified_features = ['MW','AlogP','HBA','HBD','RB','HeavyAtomCount','ChiralCenterCount','ChiralCenterCountAllPossible','RingCount','PSA','Estate','MR','Polar','sLi_Key','ssBe_Key','ssssBem_Key','sBH2_Key','ssBH_Key','sssB_Key','ssssBm_Key','sCH3_Key','dCH2_Key','ssCH2_Key','tCH_Key','dsCH_Key','aaCH_Key','sssCH_Key','ddC_Key','tsC_Key','dssC_Key','aasC_Key','aaaC_Key','ssssC_Key','sNH3_Key','sNH2_Key','ssNH2_Key','dNH_Key','ssNH_Key','aaNH_Key','tN_Key','sssNH_Key','dsN_Key','aaN_Key','sssN_Key','ddsN_Key','aasN_Key','ssssN_Key','daaN_Key','sOH_Key','dO_Key','ssO_Key','aaO_Key','aOm_Key','sOm_Key','sF_Key','sSiH3_Key','ssSiH2_Key','sssSiH_Key','ssssSi_Key','sPH2_Key','ssPH_Key','sssP_Key','dsssP_Key','ddsP_Key','sssssP_Key','sSH_Key','dS_Key','ssS_Key','aaS_Key','dssS_Key','ddssS_Key','ssssssS_Key','Sm_Key','sCl_Key','sGeH3_Key','ssGeH2_Key','sssGeH_Key','ssssGe_Key','sAsH2_Key','ssAsH_Key','sssAs_Key','dsssAs_Key','ddsAs_Key','sssssAs_Key','sSeH_Key','dSe_Key','ssSe_Key','aaSe_Key','dssSe_Key','ssssssSe_Key','ddssSe_Key','sBr_Key','sSnH3_Key','ssSnH2_Key','sssSnH_Key','ssssSn_Key','sI_Key','sPbH3_Key','ssPbH2_Key','sssPbH_Key','ssssPb_Key','sLi_Cnt','ssBe_Cnt','ssssBem_Cnt','sBH2_Cnt','ssBH_Cnt','sssB_Cnt','ssssBm_Cnt','sCH3_Cnt','dCH2_Cnt','ssCH2_Cnt','tCH_Cnt','dsCH_Cnt','aaCH_Cnt','sssCH_Cnt','ddC_Cnt','tsC_Cnt','dssC_Cnt','aasC_Cnt','aaaC_Cnt','ssssC_Cnt','sNH3_Cnt','sNH2_Cnt','ssNH2_Cnt','dNH_Cnt','ssNH_Cnt','aaNH_Cnt','tN_Cnt','sssNH_Cnt','dsN_Cnt','aaN_Cnt','sssN_Cnt','ddsN_Cnt','aasN_Cnt','ssssN_Cnt','daaN_Cnt','sOH_Cnt','dO_Cnt','ssO_Cnt','aaO_Cnt','aOm_Cnt','sOm_Cnt','sF_Cnt','sSiH3_Cnt','ssSiH2_Cnt','sssSiH_Cnt','ssssSi_Cnt','sPH2_Cnt','ssPH_Cnt','sssP_Cnt','dsssP_Cnt','ddsP_Cnt','sssssP_Cnt','sSH_Cnt','dS_Cnt','ssS_Cnt','aaS_Cnt','dssS_Cnt','ddssS_Cnt','ssssssS_Cnt','Sm_Cnt','sCl_Cnt','sGeH3_Cnt','ssGeH2_Cnt','sssGeH_Cnt','ssssGe_Cnt','sAsH2_Cnt','ssAsH_Cnt','sssAs_Cnt','dsssAs_Cnt','ddsAs_Cnt','sssssAs_Cnt','sSeH_Cnt','dSe_Cnt','ssSe_Cnt','aaSe_Cnt','dssSe_Cnt','ssssssSe_Cnt','ddssSe_Cnt','sBr_Cnt','sSnH3_Cnt','ssSnH2_Cnt','sssSnH_Cnt','ssssSn_Cnt','sI_Cnt','sPbH3_Cnt','ssPbH2_Cnt','sssPbH_Cnt','ssssPb_Cnt','sLi_Sum','ssBe_Sum','ssssBem_Sum','sBH2_Sum','ssBH_Sum','sssB_Sum','ssssBm_Sum','sCH3_Sum','dCH2_Sum','ssCH2_Sum','tCH_Sum','dsCH_Sum','aaCH_Sum','sssCH_Sum','ddC_Sum','tsC_Sum','dssC_Sum','aasC_Sum','aaaC_Sum','ssssC_Sum','sNH3_Sum','sNH2_Sum','ssNH2_Sum','dNH_Sum','ssNH_Sum','aaNH_Sum','tN_Sum','sssNH_Sum','dsN_Sum','aaN_Sum','sssN_Sum','ddsN_Sum','aasN_Sum','ssssN_Sum','daaN_Sum','sOH_Sum','dO_Sum','ssO_Sum','aaO_Sum','aOm_Sum','sOm_Sum','sF_Sum','sSiH3_Sum','ssSiH2_Sum','sssSiH_Sum','ssssSi_Sum','sPH2_Sum','ssPH_Sum','sssP_Sum','dsssP_Sum','ddsP_Sum','sssssP_Sum','sSH_Sum','dS_Sum','ssS_Sum','aaS_Sum','dssS_Sum','ddssS_Sum','ssssssS_Sum','Sm_Sum','sCl_Sum','sGeH3_Sum','ssGeH2_Sum','sssGeH_Sum','ssssGe_Sum','sAsH2_Sum','ssAsH_Sum','sssAs_Sum','dsssAs_Sum','ddsAs_Sum','sssssAs_Sum','sSeH_Sum','dSe_Sum','ssSe_Sum','aaSe_Sum','dssSe_Sum','ssssssSe_Sum','ddssSe_Sum','sBr_Sum','sSnH3_Sum','ssSnH2_Sum','sssSnH_Sum','ssssSn_Sum','sI_Sum','sPbH3_Sum','ssPbH2_Sum','sssPbH_Sum','ssssPb_Sum','sLi_Avg','ssBe_Avg','ssssBem_Avg','sBH2_Avg','ssBH_Avg','sssB_Avg','ssssBm_Avg','sCH3_Avg','dCH2_Avg','ssCH2_Avg','tCH_Avg','dsCH_Avg','aaCH_Avg','sssCH_Avg','ddC_Avg','tsC_Avg','dssC_Avg','aasC_Avg','aaaC_Avg','ssssC_Avg','sNH3_Avg','sNH2_Avg','ssNH2_Avg','dNH_Avg','ssNH_Avg','aaNH_Avg','tN_Avg','sssNH_Avg','dsN_Avg','aaN_Avg','sssN_Avg','ddsN_Avg','aasN_Avg','ssssN_Avg','daaN_Avg','sOH_Avg','dO_Avg','ssO_Avg','aaO_Avg','aOm_Avg','sOm_Avg','sF_Avg','sSiH3_Avg','ssSiH2_Avg','sssSiH_Avg','ssssSi_Avg','sPH2_Avg','ssPH_Avg','sssP_Avg','dsssP_Avg','ddsP_Avg','sssssP_Avg','sSH_Avg','dS_Avg','ssS_Avg','aaS_Avg','dssS_Avg','ddssS_Avg','ssssssS_Avg','Sm_Avg','sCl_Avg','sGeH3_Avg','ssGeH2_Avg','sssGeH_Avg','ssssGe_Avg','sAsH2_Avg','ssAsH_Avg','sssAs_Avg','dsssAs_Avg','ddsAs_Avg','sssssAs_Avg','sSeH_Avg','dSe_Avg','ssSe_Avg','aaSe_Avg','dssSe_Avg','ssssssSe_Avg','ddssSe_Avg','sBr_Avg','sSnH3_Avg','ssSnH2_Avg','sssSnH_Avg','ssssSn_Avg','sI_Avg','sPbH3_Avg','ssPbH2_Avg','sssPbH_Avg','ssssPb_Avg','First Zagreb (ZM1)','First Zagreb index by valence vertex degrees (ZM1V)','Second Zagreb (ZM2)','Second Zagreb index by valence vertex degrees (ZM2V)','Polarity (Pol)','Narumi Simple Topological (NST)','Narumi Harmonic Topological (NHT)','Narumi Geometric Topological (NGT)','Total structure connectivity (TSC)','Wiener (W)','Mean Wiener (MW)','Xu (Xu)','Quadratic (QIndex)','Radial centric (RC)','Mean Square Distance Balaban (MSDB)','Superpendentic (SP)','Harary (Har)','Log of product of row sums (LPRS)','Pogliani (Pog)','Schultz Molecular Topological (SMT)','Schultz Molecular Topological by valence vertex degrees (SMTV)','Mean Distance Degree Deviation (MDDD)','Ramification (Ram)','Gutman Molecular Topological (GMT)','Gutman MTI by valence vertex degrees (GMTV)','Average vertex distance degree (AVDD)','Unipolarity (UP)','Centralization (CENT)','Variation (VAR)','Molecular electrotopological variation (MEV)','Maximal electrotopological positive variation (MEPV)','Maximal electrotopological negative variation (MENV)','Eccentric connectivity (ECCc)','Eccentricity (ECC)','Average eccentricity (AECC)','Eccentric (DECC)','Valence connectivity index chi-0 (vX0)','Valence connectivity index chi-1 (vX1)','Valence connectivity index chi-2 (vX2)','Valence connectivity index chi-3 (vX3)','Valence connectivity index chi-4 (vX4)','Valence connectivity index chi-5 (vX5)','Average valence connectivity index chi-0 (AvX0)','Average valence connectivity index chi-1 (AvX1)','Average valence connectivity index chi-2 (AvX2)','Average valence connectivity index chi-3 (AvX3)','Average valence connectivity index chi-4 (AvX4)','Average valence connectivity index chi-5 (AvX5)','Quasi Wiener (QW)','First Mohar (FM)','Second Mohar (SM)','Spanning tree number (STN)','Kier benzene-likeliness index (KBLI)','Topological charge index of order 1 (TCI1)','Topological charge index of order 2 (TCI2)','Topological charge index of order 3 (TCI3)','Topological charge index of order 4 (TCI4)','Topological charge index of order 5 (TCI5)','Topological charge index of order 6 (TCI6)','Topological charge index of order 7 (TCI7)','Topological charge index of order 8 (TCI8)','Topological charge index of order 9 (TCI9)','Topological charge index of order 10 (TCI10)','Mean topological charge index of order 1 (MTCI1)','Mean topological charge index of order 2 (MTCI2)','Mean topological charge index of order 3 (MTCI3)','Mean topological charge index of order 4 (MTCI4)','Mean topological charge index of order 5 (MTCI5)','Mean topological charge index of order 6 (MTCI6)','Mean topological charge index of order 7 (MTCI7)','Mean topological charge index of order 8 (MTCI8)','Mean topological charge index of order 9 (MTCI9)','Mean topological charge index of order 10 (MTCI10)','Global topological charge (GTC)','Hyper-distance-path index (HDPI)','Reciprocal hyper-distance-path index (RHDPI)','Square reciprocal distance sum (SRDS)','Modified Randic connectivity (MRC)','Balaban centric (BC)','Lopping centric (LC)','Kier Hall electronegativity (KHE)','Sum of topological distances between N..N (STD(N N))','Sum of topological distances between N..O (STD(N O))','Sum of topological distances between N..S (STD(N S))','Sum of topological distances between N..P (STD(N P))','Sum of topological distances between N..F (STD(N F))','Sum of topological distances between N..Cl (STD(N Cl))','Sum of topological distances between N..Br (STD(N Br))','Sum of topological distances between N..I (STD(N I))','Sum of topological distances between O..O (STD(O O))','Sum of topological distances between O..S (STD(O S))','Sum of topological distances between O..P (STD(O P))','Sum of topological distances between O..F (STD(O F))','Sum of topological distances between O..Cl (STD(O Cl))','Sum of topological distances between O..Br (STD(O Br))','Sum of topological distances between O..I (STD(O I))','Sum of topological distances between S..S (STD(S S))','Sum of topological distances between S..P (STD(S P))','Sum of topological distances between S..F (STD(S F))','Sum of topological distances between S..Cl (STD(S Cl))','Sum of topological distances between S..Br (STD(S Br))','Sum of topological distances between S..I (STD(S I))','Sum of topological distances between P..P (STD(P P))','Sum of topological distances between P..F (STD(P F))','Sum of topological distances between P..Cl (STD(P Cl))','Sum of topological distances between P..Br (STD(P Br))','Sum of topological distances between P..I (STD(P I))','Sum of topological distances between F..F (STD(F F))','Sum of topological distances between F..Cl (STD(F Cl))','Sum of topological distances between F..Br (STD(F Br))','Sum of topological distances between F..I (STD(F I))','Sum of topological distances between Cl..Cl (STD(Cl Cl))','Sum of topological distances between Cl..Br (STD(Cl Br))','Sum of topological distances between Cl..I (STD(Cl I))','Sum of topological distances between Br..Br (STD(Br Br))','Sum of topological distances between Br..I (STD(Br I))','Sum of topological distances between I..I (STD(I I))','Wiener-type index from Z weighted distance matrix - Barysz matrix (WhetZ)','Wiener-type index from electronegativity weighted distance matrix (Whete)','Wiener-type index from mass weighted distance matrix (Whetm)','Wiener-type index from van der waals weighted distance matrix (Whetv)','Wiener-type index from polarizability weighted distance matrix (Whetp)','Balaban-type index from Z weighted distance matrix - Barysz matrix (JhetZ)','Balaban-type index from electronegativity weighted distance matrix (Jhete)','Balaban-type index from mass weighted distance matrix (Jhetm)','Balaban-type index from van der waals weighted distance matrix (Jhetv)','Balaban-type index from polarizability weighted distance matrix (Jhetp)','Topological diameter (TD)','Topological radius (TR)','Petitjean 2D shape (PJ2DS)','Balaban distance connectivity index (J)','Solvation connectivity index chi-0 (SCIX0)','Solvation connectivity index chi-1 (SCIX1)','Solvation connectivity index chi-2 (SCIX2)','Solvation connectivity index chi-3 (SCIX3)','Solvation connectivity index chi-4 (SCIX4)','Solvation connectivity index chi-5 (SCIX5)','Connectivity index chi-0 (CIX0)','Connectivity chi-1 [Randic connectivity] (CIX1)','Connectivity index chi-2 (CIX2)','Connectivity index chi-3 (CIX3)','Connectivity index chi-4 (CIX4)','Connectivity index chi-5 (CIX5)','Average connectivity index chi-0 (ACIX0)','Average connectivity index chi-1 (ACIX1)','Average connectivity index chi-2 (ACIX2)','Average connectivity index chi-3 (ACIX3)','Average connectivity index chi-4 (ACIX4)','Average connectivity index chi-5 (ACIX5)','reciprocal distance Randic-type index (RDR)','reciprocal distance square Randic-type index (RDSR)','1-path Kier alpha-modified shape index (KAMS1)','2-path Kier alpha-modified shape index (KAMS2)','3-path Kier alpha-modified shape index (KAMS3)','Kier flexibility (KF)','path/walk 2 - Randic shape index (RSIpw2)','path/walk 3 - Randic shape index (RSIpw3)','path/walk 4 - Randic shape index (RSIpw4)','path/walk 5 - Randic shape index (RSIpw5)','E-state topological parameter (ETP)','Ring Count 3 (RNGCNT3)','Ring Count 4 (RNGCNT4)','Ring Count 5 (RNGCNT5)','Ring Count 6 (RNGCNT6)','Ring Count 7 (RNGCNT7)','Ring Count 8 (RNGCNT8)','Ring Count 9 (RNGCNT9)','Ring Count 10 (RNGCNT10)','Ring Count 11 (RNGCNT11)','Ring Count 12 (RNGCNT12)','Ring Count 13 (RNGCNT13)','Ring Count 14 (RNGCNT14)','Ring Count 15 (RNGCNT15)','Ring Count 16 (RNGCNT16)','Ring Count 17 (RNGCNT17)','Ring Count 18 (RNGCNT18)','Ring Count 19 (RNGCNT19)','Ring Count 20 (RNGCNT20)','Atom Count (ATMCNT)','Bond Count (BNDCNT)','Atoms in Ring System (ATMRNGCNT)','Bonds in Ring System (BNDRNGCNT)','Cyclomatic number (CYCLONUM)','Number of ring systems (NRS)','Normalized number of ring systems (NNRS)','Ring Fusion degree (RFD)','Ring perimeter (RNGPERM)','Ring bridge count (RNGBDGE)','Molecule cyclized degree (MCD)','Ring Fusion density (RFDELTA)','Ring complexity index (RCI)','Van der Waals surface area (VSA)','MR1 (MR1)','MR2 (MR2)','MR3 (MR3)','MR4 (MR4)','MR5 (MR5)','MR6 (MR6)','MR7 (MR7)','MR8 (MR8)','ALOGP1 (ALOGP1)','ALOGP2 (ALOGP2)','ALOGP3 (ALOGP3)','ALOGP4 (ALOGP4)','ALOGP5 (ALOGP5)','ALOGP6 (ALOGP6)','ALOGP7 (ALOGP7)','ALOGP8 (ALOGP8)','ALOGP9 (ALOGP9)','ALOGP10 (ALOGP10)','PEOE1 (PEOE1)','PEOE2 (PEOE2)','PEOE3 (PEOE3)','PEOE4 (PEOE4)','PEOE5 (PEOE5)','PEOE6 (PEOE6)','PEOE7 (PEOE7)','PEOE8 (PEOE8)','PEOE9 (PEOE9)','PEOE10 (PEOE10)','PEOE11 (PEOE11)','PEOE12 (PEOE12)','PEOE13 (PEOE13)','PEOE14 (PEOE14)']"
   ]
  },
  {
   "cell_type": "markdown",
   "metadata": {},
   "source": [
    "Here is the deepchem library defined. Calling a featurizer from dc library with feature list as argument. The verbose output times the dataset loading as well as confirming shard size and the actual loading. \n",
    "\n",
    "What is shard? \n",
    "smiles is the string representation of the molecule. Case sensitive. Domain know how."
   ]
  },
  {
   "cell_type": "code",
   "execution_count": 29,
   "metadata": {},
   "outputs": [
    {
     "name": "stdout",
     "output_type": "stream",
     "text": [
      "Loading raw samples now.\n",
      "shard_size: 8192\n",
      "About to start loading CSV from desc_canvas_aug30.csv\n",
      "Loading shard 1 of size 8192.\n",
      "TIMING: user specified processing took 0.079 s\n",
      "TIMING: featurizing shard 0 took 0.081 s\n",
      "TIMING: dataset construction took 0.309 s\n",
      "Loading dataset from disk.\n",
      "Loading raw samples now.\n",
      "shard_size: 8192\n",
      "About to start loading CSV from crystal_desc_canvas_aug30.csv\n",
      "Loading shard 1 of size 8192.\n",
      "TIMING: user specified processing took 0.070 s\n",
      "TIMING: featurizing shard 0 took 0.070 s\n",
      "TIMING: dataset construction took 0.093 s\n",
      "Loading dataset from disk.\n"
     ]
    }
   ],
   "source": [
    "import deepchem as dc\n",
    "import tempfile, shutil\n",
    "\n",
    "featurizer = dc.feat.UserDefinedFeaturizer(user_specified_features)\n",
    "loader = dc.data.UserCSVLoader(\n",
    "      tasks=[\"Class\"], smiles_field=\"mol\", id_field=\"mol\",\n",
    "      featurizer=featurizer)\n",
    "dataset = loader.featurize(dataset_file)\n",
    "crystal_dataset = loader.featurize(crystal_dataset_file)"
   ]
  },
  {
   "cell_type": "markdown",
   "metadata": {},
   "source": [
    "**This data is already split into three subsets \"Train\" and \"Test\" with 20% and 80% respectively** of the total data from the BACE enzyme. There is also a \"Validation\" set that contains data from a separate (but related assay). (Note that these names are really misnomers. The \"Test\" set would be called a validation set in standard machine-learning practice and the \"Validation\" set would typically be called an external test set.) Hence, we will rename the datasets after loading them.\n",
    "\n"
   ]
  },
  {
   "cell_type": "code",
   "execution_count": 30,
   "metadata": {},
   "outputs": [
    {
     "name": "stdout",
     "output_type": "stream",
     "text": [
      "TIMING: dataset construction took 0.063 s\n",
      "Loading dataset from disk.\n",
      "TIMING: dataset construction took 0.048 s\n",
      "Loading dataset from disk.\n",
      "TIMING: dataset construction took 0.173 s\n",
      "Loading dataset from disk.\n"
     ]
    }
   ],
   "source": [
    "splitter = dc.splits.SpecifiedSplitter(dataset_file, \"Model\")\n",
    "train_dataset, valid_dataset, test_dataset = splitter.train_valid_test_split(dataset)\n",
    "#NOTE THE RENAMING:\n",
    "# valid_dataset, test_dataset = test_dataset, valid_dataset"
   ]
  },
  {
   "cell_type": "markdown",
   "metadata": {},
   "source": [
    "TODO: load unsplit datasets from database and define my own splits.\n",
    "\n",
    "Vish: 75/25 or 67/33. Need to understand if the split affects performance.\n",
    "\n",
    "CV: LOO leaves one row at a time, and try to predict the label of the left out observation. Note that for each tree one does a CV.\n",
    "\n",
    "Make sure that the distro in the training and test set is the same!"
   ]
  },
  {
   "cell_type": "code",
   "execution_count": 31,
   "metadata": {},
   "outputs": [
    {
     "name": "stdout",
     "output_type": "stream",
     "text": [
      "Number of compounds in train set\n",
      "204\n",
      "Number of compounds in validation set\n",
      "45\n",
      "Number of compounds in test set\n",
      "1273\n",
      "Number of compounds in crystal set\n",
      "25\n"
     ]
    }
   ],
   "source": [
    "print(\"Number of compounds in train set\")\n",
    "print(len(train_dataset))\n",
    "print(\"Number of compounds in validation set\")\n",
    "print(len(valid_dataset))\n",
    "print(\"Number of compounds in test set\")\n",
    "print(len(test_dataset))\n",
    "print(\"Number of compounds in crystal set\")\n",
    "print(len(crystal_dataset))"
   ]
  },
  {
   "cell_type": "markdown",
   "metadata": {},
   "source": [
    "Let's quickly take a look at a compound in the **validation set**. (The compound displayed earlier was drawn from the train set)."
   ]
  },
  {
   "cell_type": "code",
   "execution_count": 14,
   "metadata": {},
   "outputs": [
    {
     "name": "stdout",
     "output_type": "stream",
     "text": [
      "['Fc1c(C)ccc(CC(NC(=O)C)C(O)C[N+]C2c3c(OC4(C2)CCC4)ncc(CC(C)(C)C)c3)c1'\n",
      " 'Fc1cc(F)cc(CC(NC(=O)C(CCc2ccccc2)N2C(=O)C(NC(=O)C)(C(CC)C)CC2)C(O)C2[N+]CC(OCc3cnccc3)C2)c1'\n",
      " 'FC(F)(F)C(Oc1c(N)c(F)cc(CC2C(O)C([N+]Cc3cc(C(C)(C)C)ccc3)CS(=O)(=O)C2)c1)C(F)(F)F'\n",
      " 'FC(F)(F)[C@H](Oc1c(N)c(F)cc(C[C@H]2[C@H](O)[C@@H]([N+]Cc3cc(C(C)(C)C)ccc3)CS(=O)(=O)C2)c1)COCC'\n",
      " 'S(=O)(=O)(C[C@@H](NC(=O)c1cnccc1)C(=O)N[C@H]([C@H](O)C[N+]Cc1cc(CC)ccc1)Cc1cc(F)cc(F)c1)CCCCC'\n",
      " 'Fc1c2C(N)=[N+][C@@](c3cc(-c4cc(C#CC)cnc4)ccc3)(C3=CN(CC)C(=O)C(C)=C3)c2ccc1'\n",
      " 'O=C1N[C@H]([C@H](O)C[N+][C@@H]2c3c(OC4(C2)CCC4)ccc(CC)c3)Cc2cc(ccc2)CCCCN2C(=O)C=CC1=C2'\n",
      " 'FC(F)(F)c1cc(COC2CC(C(O)C(NC(=O)C(CCc3ccccc3)N3C(=O)C(NC(=O)C)(C(CC)C)CC3)Cc3cc(F)cc(F)c3)[N+]C2)ccc1'\n",
      " 'FC(F)(F)c1cc(C[N+]C[C@@H](O)[C@@H](NC(=O)c2cc(NCC)cc(N3S(=O)(=O)CCCC3)c2)Cc2ccccc2)ccc1'\n",
      " 'S(=O)(=O)(N(c1cc(NCC)cc(C(=O)N[C@H]([C@H](O)C[N+][C@H](C(=O)NC2CCCCC2)C)Cc2ccccc2)c1)c1ccccc1)C'\n",
      " 'O=C(NC(C(O)C[N+]C1c2c(OC3(C1)CCC3)ncc(CC(C)(C)C)c2)Cc1cc(C#C)ccc1)COC'\n",
      " 'O=C(NC(C(O)C[N+]C1c2c(OC3(C1)CCC3)ncc(CC(C)(C)C)c2)Cc1cc(-c2sccn2)ccc1)C'\n",
      " 'Fc1cc(F)cc(C[C@H](NC(=O)c2cc(C(=O)N(CCC)CCC)cc(C)c2)[C@H](O)C[N+]Cc2cc(OC)ccc2)c1'\n",
      " 'Fc1cc(F)cc(CC(NC(=O)C(CCc2ccccc2)N2C(=O)C(C(O)CCC)CC2)C(O)C2[N+]CC(OCCC)C2)c1'\n",
      " 'O=C(NC(C(O)C[N+]C(CCCC(C)C)(C)C)Cc1ccccc1)c1cc2c(CC)cn3c2c(N(C)S(=O)(=O)CC3)c1'\n",
      " 'O=C(N[C@H]([C@H](O)C[N+]Cc1cc(OC)ccc1)Cc1ccccc1)[C@H](CCc1ccccc1)N1C(=O)[C@@](NC(=O)C)([C@H](CC)C)CC1'\n",
      " 'O=C(NC(C(O)C[N+]C1c2c(OC3(C1)CCC3)ncc(CC(C)(C)C)c2)Cc1cc2OCOc2cc1)COC'\n",
      " 'O=C(NC(C(O)C[N+]C1c2c(OC3(C1)CCC3)ncc(CC(C)(C)C)c2)Cc1ccccc1)C'\n",
      " 'FC(F)(F)c1cc(C([N+]C[C@@H](O)[C@@H](NC(=O)c2cc(NCC)cc(N3S(=O)(=O)CCCC3)c2)Cc2ccccc2)(C)C)ccc1'\n",
      " 'Fc1c2C(N)=NC(c3cc(C#CC4CC4)ccc3)(C3=CN(C)C(=O)C(C)=C3)c2ccc1'\n",
      " 'Fc1c(CC(NC(=O)C)C(O)C[N+]C2c3c(OC4(C2)CCC4)ncc(CC(C)(C)C)c3)ccc(F)c1'\n",
      " 'FC(F)(F)C(Oc1c(N)c(F)cc(CC2C(O)C([N+]Cc3cc(C(C)(C)C)ccc3)C[SH0](=O)C2)c1)CO'\n",
      " 'S(=O)(=O)(N(C)c1cc(C(=O)NC(C)c2ccc(F)cc2)cc(-c2oc(C([N+])(Cc3ccccc3)C)cn2)c1)C'\n",
      " 'Fc1c(NC(=O)C)c(CC)cc(CC2C(O)C([N+]Cc3cc(C(C)(C)C)ccc3)CS(=O)(=O)C2)c1'\n",
      " 'Clc1cc2c(C(NC(C(=O)[O-])Cc3c(CCC)scc3-c3c[nH]nc3)=NC(C)(C)C2)cc1'\n",
      " 'O=C1N(C)C(N)=NC1(c1cn(CCCC)nc1)c1cc(-c2cncnc2)ccc1'\n",
      " 'Fc1cc(F)cc(CC(NC(=O)c2c3c(n(C(=O)N(CCCC)C)c2)nccc3)C(O)C[N+]Cc2cc(CC)ccc2)c1'\n",
      " 'S(=O)(=O)(N(C)c1cc(C(=O)N[C@H]([C@@H](O)C[N+]Cc2cc(OC)ccc2)Cc2cc(F)cc(F)c2)cc(/C(=N/OCc2ccccc2)/C)c1)C'\n",
      " 'O=C(NC(C(O)C[N+]C1c2c(OC3(C1)CCC3)ncc(CC(C)(C)C)c2)Cc1cc(-c2occn2)ccc1)COC'\n",
      " 'FC(F)(F)C(Oc1c(N)c(F)cc(CC2C(O)C([N+]Cc3c(F)ccc(C(C)(C)C)c3)C[SH0](=O)C2)c1)COC'\n",
      " 'FC(F)Oc1ccc([C@@]2(c3cc(C#CCF)ccc3)C(=O)N(C)C(N)=N2)cc1'\n",
      " 'Fc1c(-c2cc(C3(c4cc(CC)nc(CC)c4)C(=O)N(C)C(N)=N3)ccc2)cccn1'\n",
      " 'Fc1cc(F)cc(CC(NC(=O)c2cc(C(=O)N(CCC)CCC)cc(CCO)c2)C(O)C[N+]Cc2cc(OC)ccc2)c1'\n",
      " 'O=C(N[C@H]([C@H](O)C[N+]C(CC)C)Cc1ccccc1)c1cc2n(CC)cc3c2c(N(C)S(=O)(=O)CC3)c1'\n",
      " 'Clc1c(-c2cc3c(nc(N)c(CC(C(=O)NCCC(C)(C)C)C)c3)cc2)nccc1'\n",
      " 'Fc1cc(F)cc(C[C@H](NC(=O)c2cc(C(=O)N(CCC)CCC)cc(C(=O)N)c2)[C@H](O)C[N+]Cc2cc(OC)ccc2)c1'\n",
      " 'S(=O)(=O)(N(C)c1nc(NC[C@@H]2[C@@H](C)C2)cc(C(=O)N[C@H]([C@@H]([N+])CCCC)Cc2cscc2)c1)C'\n",
      " 'FC(F)(F)C(Oc1c(N)c(F)cc(CC2C(O)C([N+]Cc3cc(C(CO)(C)C)ccc3)C[SH0](=O)C2)c1)COC'\n",
      " 'O(C)c1c(C)cc([C@]2(c3cc(-c4cncnc4)ccc3)[N+]=C(N)C(C)=N2)cc1C'\n",
      " 'FC(F)(F)C(Oc1c(N)c(F)cc(CC2C(O)C([N+]Cc3cc(C(O)(C)C)ccc3)C[SH0](=O)C2)c1)COC'\n",
      " 'O=C(C(NC(=O)c1cc2n(CC)cc3c2c(N(C)S(=O)(=O)CC3)c1)Cc1ccccc1)C[N+]C1CCOCC1'\n",
      " 'Clc1cnc(C(=O)Nc2cc(c(F)cc2)C2(C)N=C(N)OCCC2)cc1'\n",
      " 'O=C(NC([C@H](O)C[N+]Cc1cc(OC)ccc1)Cc1ccccc1)c1cc2c(CC)cn3c2c(NS(=O)(=O)CC3)c1'\n",
      " 'O=C(NC(C(O)C[N+]C)Cc1ccccc1)c1cc2c(CC)cn3c2c(N(C)S(=O)(=O)CC3)c1'\n",
      " 'S(=O)(=O)(N(C)c1cc2C(=O)NC(C(O)C[N+]Cc3cc(C(C)(C)C)ccc3)COC/C=C/CCNC(=O)c(c1)c2)C'\n",
      " 'Fc1cc(F)cc(CC(NC(=O)C(CCc2ccccc2)N2C(=O)C(C(O)CCC)CC2)C(O)C2[N+]CC(O)C2)c1'\n",
      " 'O=C(NCCC(C)(C)C)C(Cc1c(N)nc2c(c1)cc(-c1c(C)cccn1)cc2)C'\n",
      " 'O(Cc1cc2C(=O)N[C@H]([C@H](O)C[N+]C3(c4cc(C(C)C)ccc4)CC3)Cc3cc(OCCCCNc(c1)c2)ccc3)C'\n",
      " 'FC(F)(F)c1cc(C[N+]CC(O)C(NC(=O)c2cc(NCC)c(OC)c(N3S(=O)(=O)CCCC3)c2)Cc2ccccc2)ccc1'\n",
      " 'S(=O)(=O)(N(C)c1cc2C(=O)NC(C(O)C[N+]Cc3cc(C(C)C)ccc3)COCCCCCCNC(=O)c(c1)c2)C'\n",
      " 'FC(F)(F)C(Oc1c(N)c(F)cc(CC2C(O)C([N+]Cc3noc(CC(C)(C)C)c3)C[SH0](=O)C2)c1)COC'\n",
      " 'Fc1cc(F)cc(CC(NC(=O)C)C(O)C[N+]C2(c3cc(C(C)(C)C)ccc3)CCC(NO)CC2)c1'\n",
      " 'FC(F)(F)Oc1ccc([C@]2(c3cc(-c4c(F)nccc4)ccc3)[N+]=C(N)N3C2=NCCC3)cc1'\n",
      " 'FC(F)Oc1ccc([C@@]2(c3cc(/C=C/COC)ccc3)C(=O)N(C)C(N)=N2)cc1'\n",
      " 'FC(F)Oc1ccc([C@@]2(c3cc(C#CCCOC)ccc3)C(=O)N(C)C(N)=N2)cc1'\n",
      " 'Fc1c(-c2cc(C3(c4cn(C5CCCC5)nc4)C(=O)N(C)C(N)=N3)ccc2)cccn1'\n",
      " 'Fc1c(-c2cncnc2)cc(C2(c3cc(C)c(OC)cc3)C(=O)N(C)C(N)=N2)cc1'\n",
      " 'O=C(NC(C(O)C[N+]C1CC1)Cc1ccccc1)c1cc2c(CC)cn3c2c(N(CC)S(=O)(=O)CC3)c1'\n",
      " 'S(=O)(=O)(N(c1cc(C(=O)NC(C(O)C[N+]C(C(=O)NC2CCCCC2)C)Cc2ccccc2)ccc1)c1ccc(C(F)(F)F)cc1)C'\n",
      " 'Clc1cc(-c2cc3C4(C(=O)N(C)C(N)=N4)CC(C)(C)Sc3cc2)cnc1'\n",
      " 'O=C(NC(C(O)C[N+]C1c2c(OC3(C1)CCC3)ncc(CC(C)(C)C)c2)Cc1cc2OCCOc2cc1)C'\n",
      " 'FC(F)(F)c1cc(C[N+]CC(O)C(NC(=O)c2cc(NCC)c(C)c(N3S(=O)(=O)CCCC3)c2)Cc2ccccc2)ccc1'\n",
      " 'O=C(N[C@H]([C@H](O)C[N+]CC)Cc1ccccc1)c1cc2n(CC)cc3c2c(N(C)S(=O)(=O)CC3)c1'\n",
      " 'Clc1cc(-c2cc3[C@@]4(C(=O)N(C)C(N)=N4)CC(C)(C)Oc3cc2)ccc1'\n",
      " 'FC(F)(F)COc1ncc(C(=O)Nc2cc(c(F)cc2)C2(C)C(F)(F)COC(N)=N2)nc1'\n",
      " 'S(=O)(=O)(N(c1cc(C(=O)NC(C(O)C[N+]Cc2cc(C(F)(F)F)ccc2)Cc2ccccc2)ccc1)c1cnccc1)C'\n",
      " 'FC(F)(F)c1cc(C[N+]CC(O)C(NC(=O)c2cc(N3C(=O)CCC3)c3[nH]cc(CC)c3c2)Cc2ccccc2)ccc1'\n",
      " 'O=C(NC(C(O)C[N+]C1c2c(OC3(C1)CCC3)ncc(CC(C)(C)C)c2)Cc1cc2OCOc2cc1)c1cnccc1'\n",
      " 'O=C1NC(C(O)C[N+]Cc2cc(C(C)C)ccc2)Cc2cc(OCCCCNc3nc(C)cc1c3)ccc2'\n",
      " 'S(c1cc(C(=O)N(CCC)CCC)cc(C(=O)NC(C(O)C[N+]Cc2cc(OC)ccc2)Cc2cc(F)cc(F)c2)c1)c1ccc(OC)cc1'\n",
      " 'Fc1c(N)c(-c2n[nH]cc2)cc(CC2C(O)C([N+]Cc3cc(C(C)(C)C)ccc3)CS(=O)(=O)C2)c1'\n",
      " 'Clc1nc2c(C3(C(C(=O)N4C(C5CCCCC5)CC(c5ccccc5)CC4)C[N+]C3)CCC2)cc1'\n",
      " 'F/C(/F)=C\\\\CCOc1c(F)ccc([C@]2(c3ccc(OC(F)F)cc3)C(=O)N(C)C(N)=N2)c1'\n",
      " 'FC(F)Oc1ccc([C@@]2(c3cc(/C=C/CC(F)F)ccc3)C(=O)N(C)C(N)=N2)cc1'\n",
      " 'Fc1c(-c2c(F)ccc(C3(c4cn(CC)nc4)C(=O)N(C)C(N)=N3)c2)cccn1'\n",
      " 'Fc1cc(F)cc(C[C@H](NC(=O)c2c3c(n(C(=O)N4[C@@H](COC)CCCC4)c2)nccc3)[C@H](O)C[N+]Cc2cc(OC)ccc2)c1'\n",
      " 'O=C1N(C)C(N)=N[C@]1(c1cc(CC)nc(CC)c1)c1cc(-c2cncnc2)ccc1'\n",
      " 'Fc1cc(F)cc(CC(NC(=O)C(C)N2C(=O)C(NC(=O)C)(C(CC)C)CC2)C(O)C2[N+]CC(O)C2)c1'\n",
      " 'FC(F)(F)C(F)(F)C[N+]C[C@@H](O)C(NC(=O)c1cc2n(CC)cc3c2c(N(C)S(=O)(=O)CC3)c1)Cc1ccccc1'\n",
      " 'S(=O)(=O)(N(c1cc(C(=O)NC(C(O)C[N+]C(CCCC(C)C)C)Cc2ccccc2)ccc1)c1ccccc1)C'\n",
      " 'O=C(N[C@H]([C@H](O)C[N+]C(CCCC(C)C)(C)C)Cc1ccccc1)c1cc(NCC)cc(N2C(=O)CCC2)c1'\n",
      " 'O=C(NCC1CCCCC1)CCc1c(N)nc2c(c1)cc(-c1c(C)cccc1)cc2'\n",
      " 'Clc1cc(c(F)cc1)-c1cc2C3(C(=O)N(C)C(N)=N3)CC(C)(C)Oc2cc1'\n",
      " 'O=C1N[C@H]([C@H](O)C[N+][C@@H]2c3c(OC4(C2)CCC4)ccc(CC)c3)Cc2cc(ccc2)CCCCCCC1'\n",
      " 'Fc1cc(F)cc(CC(NC(=O)C)C(O)C[N+]C2(c3cc(C(C)(C)C)ccc3)CCC(CO)CC2)c1'\n",
      " 'Clc1c(-c2n(Cc3nc(N)c(OCCO)cc3)c(-c3ccc(Oc4cncnc4)cc3)cc2)cccc1'\n",
      " 'FC(F)(F)c1cc(C[N+]C[C@@H](O)[C@@H](NC(=O)c2cc(NCC)cc(N3C(=O)CCC3)c2)Cc2ccccc2)ccc1'\n",
      " 'FCC[N+]C[C@@H](O)C(NC(=O)c1cc2n(CC)cc3c2c(N(C)S(=O)(=O)CC3)c1)Cc1ccccc1'\n",
      " 'Fc1cc(F)cc(CC(NC(=O)C(C)N2C(=O)C(C(O)CCC)CC2)C(O)C2[N+]CC(O)C2)c1'\n",
      " 'O=C1N(C)C(N)=NC1(c1cc(-c2cc(C#N)ccc2)ccc1)c1ccncc1'\n",
      " 'O=C1NC(C(O)C[N+]Cc2cc(C(C)C)ccc2)Cc2cc(OCCCCOc3nc(C)cc1c3)ccc2'\n",
      " 'Clc1c(NC(=O)C)c(Cl)cc(CNC(=N)NC(=O)Cn2c3c(cc2)ccc(C#N)c3)c1'\n",
      " 'O=C(N[C@H]([C@H](O)C[N+][C@@H]1c2c(nn(CC(C)(C)C)c2)CC(C)(C)C1)Cc1ccccc1)C'\n",
      " 'Fc1cc(F)cc(CC(NC(=O)C(C)N2C(=O)C(NC(=O)C)(CC3CC3)CC2)C(O)C[N+]Cc2cc(OC)ccc2)c1'\n",
      " 'O=C(NC(C(O)C[N+]C1c2c(OC3(C1)CCC3)ncc(CC(C)(C)C)c2)Cc1ccc(C#C)cc1)COC'\n",
      " 'O=C1N(C)C(N)=N[C@@]21c1c(ccc(-c3cncnc3)c1)CC(C)(C)C2'\n",
      " 'Fc1cc(F)cc(CC(NC(=O)C)C(O)C[N+]C2(c3cc(C(C)(C)C)ccc3)CCC(C)CC2)c1'\n",
      " 'FCCn1ncc(C2(c3cc(-c4c(F)nccc4)ccc3)C(=O)N(C)C(N)=N2)c1'\n",
      " 'O(CCC)c1c(OC)ccc(C2(c3cc(-c4cnccc4)ccc3)C(=O)N(C)C(N)=N2)c1'\n",
      " 'S(=O)(=O)(N(C)c1cc2C(=O)NC(C)c3cc(ccc3)COCC(C(O)CC(C(=O)NC(SC(C)C)C(=O)NCc3ccccc3)C(C)C)NC(=O)c(c1)c2)C'\n",
      " 'S(CC[C@H](NC(=O)[C@@H](NC(=O)C)CC(C)C)C(=O)N[C@H]([C@@H](O)C[C@H](C(=O)NCCCC)C)CC(C)C)C'\n",
      " 'Brc1c(O)ccc(CC2C(O)C([N+]Cc3cc(C(C)(C)C)ccc3)CS(=O)(=O)C2)c1'\n",
      " 'FC(F)Oc1ccc(C2(c3cc(C#CCCOC)ccc3)N=C(N)N3C2=NCC(F)(F)C3)cc1'\n",
      " 'Fc1cc(F)cc(C[C@H](NC(=O)C)[C@H](O)C[N+]C2(c3cc(-n4nccc4)ccc3)CCCCC2)c1'\n",
      " 'FC(F)(F)Oc1ccc(C2(c3cc(-c4c(F)nccc4)ccc3)[N+]=C(N)N3C2=NCCC3)cc1'\n",
      " 'O(C(C)C)c1c(OC)ccc(C2(c3cc(-c4cnccc4)ccc3)C(=O)N(C)C(N)=N2)c1'\n",
      " 'S(=O)(=O)(N(C)c1cc(C(=O)NC([C@@H](O)C[N+]Cc2cc(OC)ccc2)Cc2cc(F)cc(F)c2)cc(/C(=N\\\\OC)/C)c1)C'\n",
      " 'Fc1cc(OC)cc(-c2cc3C4(C(=O)N(C)C(N)=N4)CC(C)(C)Oc3cc2)c1'\n",
      " 'Fc1c(C2(C)C(F)(F)COC(N)=N2)cc(NC(=O)c2ncc(F)cc2)cc1'\n",
      " 'FC(F)(F)C(Oc1c(N)c(F)cc(CC2C(O)C([N+]Cc3nccc(C(C)(C)C)c3)CS(=O)(=O)C2)c1)C(F)(F)F'\n",
      " 'FC(F)Oc1c(C)cc([C@@]2(c3cc(OCC(F)F)c(F)cc3)C(=O)N(C)C(N)=N2)cc1'\n",
      " 'O(C)c1c(OC2CCCC2)cc(C2(c3cc(-c4cnccc4)ccc3)C(=O)N(C)C(N)=N2)cc1'\n",
      " 'O=C1N(C)C(N)=NC1(c1cc(C(C)C)ncc1)c1cc(-c2cncnc2)ccc1'\n",
      " 'Fc1cc(F)cc(CC(NC(=O)c2c3c(n(C(=O)N(CCOC)C)c2)nccc3)C(O)C[N+]Cc2cc(OC)ccc2)c1'\n",
      " 'O=C(NC1CCCCC1)CCc1c(N)nc2c(c1)cc(-c1c(C)cccc1)cc2'\n",
      " 'S(=O)(=O)(N(C)c1cc(C(=O)N[C@H]([C@@H](O)C[N+]Cc2cc(OC)ccc2)Cc2cc(F)cc(F)c2)cc(/C(=N/O)/C)c1)C'\n",
      " 'FC(F)(F)C(OC)Cc1c(N)c(F)cc(CC2C(O)C([N+]Cc3cc(C(C)(C)C)ccc3)CS(=O)(=O)C2)c1'\n",
      " 'Fc1c(N)c(-c2occc2)cc(CC2C(O)C([N+]Cc3cc(C(C)(C)C)ccc3)CS(=O)(=O)C2)c1'\n",
      " 'FC(F)(F)Oc1ccc(C2(c3cc(-c4c(F)nccc4)ccc3)[N+]=C(N)N3C2=NCCCC3)cc1'\n",
      " 'Fc1c(-c2cncnc2)cc(C2(c3cn(C(C)C)nc3)C(=O)N(C)C(N)=N2)cc1'\n",
      " 'O=C1NC(C(O)C[N+]C(C)c2cc(C(C)C)ccc2)Cc2cc(OCCCCOc3nc(C)cc1c3)ccc2'\n",
      " 'Fc1c(C2(C)C(F)(F)COC(N)=N2)cc(NC(=O)c2ncc(C)cc2)cc1'\n",
      " 'Fc1cc(F)cc(CC(NC(=O)C(C)N2C(=O)C(CC(C)C)CC2)C(O)C[N+]Cc2cc(OC)ccc2)c1'\n",
      " 'Fc1c(-c2cnccc2)cc(C2(c3cscc3)C(=O)N(C)C(N)=N2)cc1'\n",
      " 'O=C(NC(C(O)C[N+]C)Cc1ccccc1)c1cc2c(CC)cn3c2c(N(C)S(=O)(=O)C3)c1'\n",
      " 'S(=O)(=O)(Nc1cc(C(C)(C)C)cc(C2([N+]CC(O)C(NC(=O)C)Cc3cc(F)cc(F)c3)CCCCC2)c1)C'\n",
      " 'Clc1cnc(C(=O)Nc2cc(c(F)cc2)[C@@]2(C)[N+]=C(N)[C@@H]3[C@H](C2)C3)cc1'\n",
      " 'Fc1cc(-c2cc3C4(C(=O)N(C)C(N)=N4)CC(C)(C)Oc3cc2)ccc1'\n",
      " 'Fc1cc(F)cc(CC(NC(=O)C)C(O)C[N+]C2(c3cc(C(=C)C)ccc3)CCCCC2)c1'\n",
      " 'O=C1N(C)C(N)=NC1(c1cn(C)nc1)c1cc(-c2cncnc2)ccc1'\n",
      " 'FC1(F)CN2C(N)=NC(c3cc(-c4cncnc4)ccc3)(c3ccncc3)C2=NC1'\n",
      " 'Fc1cc(F)cc(CC(NC(=O)C(CCc2ccccc2)N2C(=O)C(CCCC)CC2)C(O)C2[N+]CC(O)C2)c1'\n",
      " 'O=C1N(C)C(N)=NC21c1c(OC(C)(C)C2)ccc(-c2cnccc2)c1'\n",
      " 'Fc1c(N)c(O)cc(CC2C(O)C([N+]Cc3cc(C(C)(C)C)ccc3)CS(=O)(=O)C2)c1'\n",
      " 'O(C)c1c(C2CCCC2)cc(C2(c3cc(-c4cnccc4)ccc3)C(=O)N(C)C(N)=N2)cc1'\n",
      " 'Fc1c2C(N)=NC(c3cc(-c4cncnc4)ccc3)(c3ccncc3)c2ccc1'\n",
      " 'Oc1c(-c2nccc(C#CC)c2)cc(C2(C3CC3)N=C(N)C(C)=N2)cc1'\n",
      " 'Fc1c(N)c(CCC)cc(CC2C(O)C([N+]Cc3cc(C(C)(C)C)ccc3)CS(=O)(=O)C2)c1'\n",
      " 'FC(F)(F)c1nccc(C2(c3cc(-c4cncnc4)ccc3)N=C(N)c3c2cccc3)c1'\n",
      " 'Brc1c(N)ccc(CC2C(O)C([N+]Cc3cc(C(C)(C)C)ccc3)CS(=O)(=O)C2)c1'\n",
      " 'O=C1N(C)C(N)=NC1(c1cc(C)sc1)c1cc(-c2cncnc2)ccc1'\n",
      " 'Fc1c(N)c(-c2cocc2)cc(CC2C(O)C([N+]Cc3cc(C(C)(C)C)ccc3)CS(=O)(=O)C2)c1'\n",
      " 'O=C1N(C)C(N)=N[C@]1(c1cc(CC)nc(C)c1)c1cc(-c2cncnc2)ccc1'\n",
      " 'S(=O)(=O)(N(C)c1cc(C(=O)N[C@H]([C@@H](O)C[N+]Cc2cc(OC)ccc2)Cc2cc(F)cc(F)c2)cc(/C(=N/OCC=C)/C)c1)C'\n",
      " 'Fc1cc(F)cc(CC(NC(=O)C)C(O)C[N+]C2(c3cc(C(=O)C)cc(C(C)(C)C)c3)CCCCC2)c1'\n",
      " 'FC(F)Oc1ccc([C@@]2(c3ccccc3)C(=O)N(C)C(N)=N2)cc1'\n",
      " 'S(=O)(=O)(N(C)c1cc(C(=O)N[C@H]([C@@H](O)C[N+]Cc2cc(OC)ccc2)Cc2cc(F)cc(F)c2)cc(/C(=N/OCC(C)C)/C)c1)C'\n",
      " 'O=C(N[C@H]([C@H](O)C[N+]C1CCCCC1)Cc1ccccc1)c1cc(NCC)cc(N2C(=O)CCC2)c1'\n",
      " 'O=C(N([C@H](C(=O)N[C@H]([C@@H](O)CC(=O)N[C@H](C(=O)N[C@H](C(=O)N([C@@H](C(=O)N1[C@H](C(=O)OC)CCC1)CC1CCCCC1)C)C)CC(C)C)CC1CCCCC1)CCC(=O)N)C)[C@@H](NC(=O)[C@@H](O)C)C(C)C'\n",
      " 'O=C(NC(C(O)C[N+]C1CCOCC1)Cc1ccccc1)c1cc(NCC)c2c(N(C)S(=O)(=O)CCC2)c1'\n",
      " 'FC(F)(F)c1nccc([C@]2(c3cc(c(F)cc3)-c3cncnc3)[N+]=C(N)c3c(F)cccc23)c1'\n",
      " 'O=S1(=O)CC([N+]Cc2cc(C(C)(C)C)ccc2)C(O)C(Cc2cc3c(CC)c[nH]c3cc2)C1'\n",
      " 'Fc1cc(F)cc(CC(NC(=O)C)C(O)C[N+]C2(c3nn(CC(C)(C)C)cc3)CCCCC2)c1'\n",
      " 'FC(F)(F)Oc1cc(C[N+]C2C(O)C(Cc3cc(F)c(N)c(OC(C(F)(F)F)COC)c3)C[SH0](=O)C2)ccc1'\n",
      " 'Clc1c(NC(=O)C)c(Cl)cc(CNC(=[N+])NC(=O)Cn2c3c(cc2)ccc(OC)c3)c1'\n",
      " 'Fc1cc(F)cc(CC(NC(=O)C)C(O)C[N+]C2(c3cc(C(C)(C)C)ccc3)CCC(NC(=O)OC)CC2)c1'\n",
      " 'FC(F)(F)c1nccc(C2(c3cc(-c4cncnc4)ccc3)N=C(N)c3c(F)cccc23)c1'\n",
      " 'O=C(NC([C@H](O)C[N+]C1CC1)Cc1ccccc1)c1cc2c(CC)cn3c2c(OS(=O)(=O)CC3)c1'\n",
      " 'Fc1cc(F)cc(CC(NC(=O)C)C(O)C[N+]C2(c3cc(C(CO)(C)C)ccc3)CCCCC2)c1'\n",
      " 'O(C)c1ccc(C2(c3cc(-c4cncnc4)ccc3)N=C(N)C(C)=N2)cc1'\n",
      " 'Clc1c(-c2n(Cc3nc(N)ccc3)c(-c3ccc(Oc4sccn4)cc3)cc2)cccc1'\n",
      " 'Fc1c(C2(C)C(F)(F)COC(N)=N2)cc(NC(=O)c2ncccc2)cc1'\n",
      " 'Brc1c(CC(NC2=NC(C)(C)Cc3c2ccc(Cl)c3)C(=O)[O-])csc1'\n",
      " 'Fc1cc(F)cc(CC(NC(=O)C)C(O)C[N+]C2(c3cc(N)cc(C(C)(C)C)c3)CCCCC2)c1'\n",
      " 'FC(F)Oc1ccc([C@@]2(c3cc(C#CC4CCCCC4)ccc3)C(=O)N(C)C(N)=N2)cc1'\n",
      " 'Fc1cc(F)cc(CC(NC(=O)C)C(O)C[N+]C2(c3cc(CC(C)(C)C)ccc3)CC2)c1'\n",
      " 'Fc1c(N)ccc(CC2C(O)C([N+]Cc3cc(C(C)(C)C)ccc3)CS(=O)(=O)C2)c1'\n",
      " 'FC(F)(F)Oc1ccc([C@@]2(c3cc(-c4c(F)nccc4)ccc3)[N+]=C(N)N3C2=NCCC3)cc1'\n",
      " 'Fc1cc(F)cc(CC(NC(=O)C)C(O)C[N+]C2(c3cc(/C(=C\\\\C)/C)ccc3)CCCCC2)c1'\n",
      " 'FCC(CF)(C)c1cc(C2([N+]C[C@@H](O)[C@@H](NC(=O)C)Cc3cc(F)cc(F)c3)CC2)ccc1'\n",
      " 'S(=O)(=O)(N(C)c1cc2C(=O)N[C@H]([C@H](O)C[N+]Cc3cc(C(C)C)ccc3)COC/C=C/C[C@@H](c3ccccc3)NC(=O)c(c1)c2)C'\n",
      " 'Fc1cc(F)cc(CC(NC(=O)C)C(O)C[N+]C2(c3cc(N(C)C)ccc3)CCCCC2)c1'\n",
      " 'F[C@H]1[C@@](C)(c2c(F)ccc(NC(=O)c3ncc(C#N)cc3)c2)N=C(N)OC1'\n",
      " 'Clc1cc2c(C(N[C@H](C(=O)[O-])Cc3c(-c4c[nH]nc4)csc3)=[N+]C(C)(C)C2)cc1'\n",
      " 'Clc1c(C2(c3cc(-c4cncnc4)ccc3)C(=O)N(C)C(N)=N2)cc(C)s1'\n",
      " 'Fc1cc(F)cc(CC(NC(=O)C(C)N2C(=O)C(COC)CC2)C(O)C[N+]Cc2cc(OC)ccc2)c1'\n",
      " 'Fc1cc(F)cc(CC(NC(=O)C)C(O)C[N+]C2(c3cc(C(C)(C)C)ccc3)CCC(Nc3cnccc3)CC2)c1'\n",
      " 'Clc1cc2c(C(NC(C(=O)[O-])Cc3c(C#CC)csc3)=NC(C)(C)C2)cc1'\n",
      " 'Clc1cnc(C(=O)Nc2cc(C3(C)N=C(N)c4c3cccc4)ccc2)cc1'\n",
      " 'Fc1cc(F)cc(CC(NC(=O)C)C(O)C[N+]C2(c3cc(C4COCOCC4)ccc3)CCCCC2)c1'\n",
      " 'Clc1c(-c2c(CC(=O)NC(=[N+])N)c(-c3ccc(OCCC)cc3)cs2)cccc1'\n",
      " 'S(CC[C@H](NC(=O)CCC(C)C)C(=O)N[C@H]([C@@H](O)C[C@H](C(=O)NCCCC)C)CC(C)C)C'\n",
      " 'O=C(NC1CCCCC1)[C@@H]([N+]C[C@@H](O)[C@@H](NC(=O)c1cc(OCCC)cc(N2C(=O)CCC2)c1)Cc1ccccc1)C'\n",
      " 'Fc1cc(F)cc(C[C@H](NC(=O)C)[C@H](O)C[N+]C2(c3cc(C(C)(C)C)ccc3)CCC2)c1'\n",
      " 'O(C)c1ccc([C@]2(c3cc(-c4cncnc4)ccc3)[N+]=C(N)c3nc(C)sc23)cc1'\n",
      " 'Fc1cc(F)cc(CC(NC(=O)C)C(O)C[N+]C2(c3cc(CC)ccc3)CCCCC2)c1'\n",
      " 'Fc1cc(F)cc(CC(NC(=O)C)C(O)C[N+]C2(c3c[n+]([O-])cc(CC(C)(C)C)c3)CC2)c1'\n",
      " 'Clc1cc2c(C(N[C@@H](Cc3ccccc3)C3=NOC(=O)[N-]3)=[N+]C(C)(C)C2)cc1'\n",
      " 'Fc1cc(F)cc(C[C@H](NC(=O)C)[C@H](O)C[N+]C2(c3cc([C@@H]4COCC4)ccc3)CC2)c1'\n",
      " 'O(C)c1ccc(C2(c3cc(-c4cnccc4)ccc3)SCC(N)=N2)cc1'\n",
      " 'Clc1c(-c2n(Cc3nc(N)ccc3)c(-c3ccc(Oc4ncccc4)cc3)cc2)cccc1'\n",
      " 'S(=O)(=O)(N(C)c1cc(C(=O)NC(C)c2ccc(F)cc2)cc(-c2nc(C([N+])(Cc3ccccc3)C)[nH]n2)c1)C'\n",
      " 'O=C(Nc1cc(C2(C(=O)N(C)C(N)=N2)C2CCCCC2)ccc1)c1n(C)ccc1'\n",
      " 'FC(F)(F)Oc1ccc(C2(c3cc(-c4cnc(OC)cc4)ccc3)C(=O)N(C)C(N)=N2)cc1'\n",
      " 'S(=O)(=O)(N(C)c1cc(C(=O)NC(C)c2ccc(F)cc2)cc(COCC([N+])(C(F)F)Cc2ccccc2)c1)C'\n",
      " 'Clc1cnc2OC3(CC([N+]CC(O)C(NC(=O)C)Cc4ccccc4)c2c1)CCC3'\n",
      " 'S(=O)(=O)(N(C)c1cc(C(=O)NC(C)c2ccc(F)cc2)cc(COCC([N+])(CF)Cc2ccccc2)c1)C'\n",
      " 'Clc1c(NC(=O)C)c(Cl)cc(CNC(=[N+])NC(=O)Cn2c3c(cc2)cccc3)c1'\n",
      " 'Clc1cc2c(C(NC(C(=O)[O-])Cc3c(-c4cn(C)nc4)csc3)=NC(C)(C)C2)cc1'\n",
      " 'O(CCC)Cc1cc(CC2C(O)C([N+]Cc3cc(C(C)C)ccc3)CS(=O)(=O)C2)ccc1'\n",
      " 'Clc1c(F)c(-c2cc3C4(N=C(N)OC4)c4c(Oc3cc2)ccc(OC)c4)ccc1'\n",
      " 'O=S1(=O)CC([N+]Cc2cc(C(C)C)ccc2)C(O)C(Cc2cc(CO)c(O)cc2)C1'\n",
      " 'S(=O)(=O)(N(C)c1cc(C(=O)NC(C(O)CC(C(=O)NC(C(=O)NCc2ccccc2)C(C)C)C)COCc2cc(F)cc(F)c2)cc(C(=O)NC)c1)C'\n",
      " 'Fc1cc(F)cc(CC(NC(=O)C)C(O)C[N+]C2(c3cc(N4C(=O)COCC4)ccc3)CCCCC2)c1'\n",
      " 'NC=1OCC2(N=1)c1c(ccc(-c3cncnc3)c1)CC(C)(C)C2'\n",
      " 'FC(F)(F)c1cnc(C(=O)Nc2cc(C3(C)C(=O)N(C)CC(N)=N3)ccc2)cc1'\n",
      " 'Fc1cc(F)cc(CC(NC(=O)C)C(O)C[N+]C2(c3cc(N4C(=O)NCC4)ccc3)CCCCC2)c1'\n",
      " 'O=S1(=O)CC([N+]Cc2cc(C(C)(C)C)ccc2)C(O)C(Cc2cc3c([nH]nc3)cc2)C1'\n",
      " 'O=C(N(CC)CC)n1c2c(c(C(=O)NC(C(O)C[N+]Cc3cc(OC)ccc3)Cc3ccccc3)c1)cccc2'\n",
      " 'Fc1cc(F)cc(CC(NC(=O)C)C(O)C[N+]C2(c3oc(C(C)(C)C)cn3)CCCCC2)c1'\n",
      " 'O=S1(=O)CC([N+]Cc2cc(C(C)(C)C)ccc2)C(O)C(Cc2ccccc2)C1'\n",
      " 'Fc1cc(F)cc(CC(NC(=O)C)C(O)C[N+]C2(c3cc(C4OCCCC4)ccc3)CC2)c1'\n",
      " 'Fc1cc(F)cc(CC(NC(=O)C)C(O)C[N+]C2(c3scc(CC)c3)CCCCC2)c1'\n",
      " 'S(=O)(=O)(N(C)c1nc(N(CC2C(C)C2)C)cc(C(=O)NC(C(O)CC(OC)COCc2ccc(OC)cc2)COc2cc(F)cc(F)c2)c1)C'\n",
      " 'S(=O)(=O)(N(C)c1cc(C(=O)NC(C(O)CC(OC)COCC2CC2)COc2cc(F)cc(F)c2)cc(C(=O)NC(C)c2ccccc2)c1)C'\n",
      " 'Fc1c(-c2cc([C@@]3(c4cn(CC)nc4)C(=O)N(C)C(N)=N3)ccc2)cccn1'\n",
      " 'Clc1ccc(-c2cc3C4(N=C(N)OC4)c4c(Oc3cc2)ccc(OC)c4)cc1'\n",
      " 'Fc1cc(F)cc(CC(NC(=O)C)C(O)C[N+]C2(c3cc(CC(C)(C)C)ccc3)CCCCC2)c1'\n",
      " 'Clc1ccc(C2(c3ccccc3)C(=O)N(C)C(N)=N2)cc1'\n",
      " 'O=C1N(C)C(N)=NC21c1c(OC(C)(C)C2)ccc(-c2ncccc2)c1'\n",
      " 'Fc1cc(F)cc(CC(NC(=O)C)C(O)C[N+]C2(c3ncnc(C(C)(C)C)c3)CCCCC2)c1'\n",
      " 'O=[N+]([O-])c1ccc(C(=O)N[C@H](C(=O)N[C@H]([C@@H](O)C[C@H](C(=O)NCC(C)C)C)CC(C)C)Cc2ccc([N+](=O)[O-])cc2)cc1'\n",
      " 'FC(F)(F)Oc1cc(-c2cc3C4(N=C(N)OC4)c4c(Oc3cc2)ccc(OC)c4)ccc1'\n",
      " 'O=C(Nc1cc([C@@]2(C(=O)N(C)C(N)=N2)C2CCCCC2)ccc1)CCC'\n",
      " 'O(C)c1cc(-c2cc(C3(C4CCOCC4)N=C(N)C(C)=N3)ccc2)ccc1'\n",
      " 'Fc1cc(N2S(=O)(=O)N(c3cnccc3)CC32CC(C)[N+](Cc2cc(OC(C)C)ccc2)CC3)ccc1'\n",
      " 'O(C)[C@H]1C(N)=[N+][C@@](c2cc(-c3cnccc3)ccc2)(c2ccc(OC)cc2)C1'\n",
      " 'O(C)c1cc(-c2cc(C3C(C4(C)N=C(N)N(C)C(=O)C4)C3)ccc2)ccc1'\n",
      " 'O(C)c1cc(C2(c3ccccc3)C(=O)N(C)C(N)=N2)ccc1'\n",
      " 'O=C(NC(=[N+])N)Cn1c(-c2ccccc2)ccc1-c1ccccc1'\n",
      " 'O=[N+]([O-])c1ccc(C[C@H](NC(=O)c2cc(OC)c(OC)cc2)C(=O)N[C@H]([C@@H](O)C[C@H](C(=O)NCC(C)C)C)CC(C)C)cc1'\n",
      " 'Fc1cc(F)cc(CC(NC(=O)C)C(O)C[N+]C2(c3cc(C4OCCOC4)ccc3)CC2)c1'\n",
      " 'S(CCC(NC(=O)C(NC(=O)C)C)C(=O)NC(C(O)CC(C(=O)NCCCC)C)CC(C)C)C'\n",
      " 'O=C(NC(C)(C)C1CC(C(=O)NC(C(O)C[N+]Cc2cc(C(C)C)ccc2)Cc2ccccc2)CCC1)C'\n",
      " 'Fc1cc(F)cc(CC(NC(=O)C)C(O)C[N+]C2(c3onc(C(C)(C)C)c3)CCCCC2)c1'\n",
      " 'Clc1c(-c2cc3C4(N=C(N)OC4)c4c(Oc3cc2)ccc(OC)c4)cccc1'\n",
      " 'Nc1nc(Cn2c(-c3ccccc3)ccc2-c2ccccc2)ccc1'\n",
      " 'S(=O)(=O)(N(C)c1cc2C(=O)NC(C(O)C[N+]Cc3ccccc3)COCCCCCNC(=O)c(c1)c2)C'\n",
      " 'Fc1cc(-c2cc3C4(N=C(N)OC4)CC(C)(C)Cc3cc2)cnc1'\n",
      " 'Brc1c(C#N)ccc(COC(=O)[C@@H]2[N+]C[C@]3(C(=O)Nc4c3cccc4)C2)c1'\n",
      " 'Fc1cc(N2S(=O)(=O)N(C)CC32CC(C)[N+](Cc2ccc(NC(=O)C)cc2)CC3)ccc1'\n",
      " 'O=C(N[C@H]([C@@H](O)C[C@H](C(=O)NCC(C)C)C)CC(C)C)[C@@H](NC(=O)c1ccccc1)Cc1ccccc1'\n",
      " 'O(C)c1ccc(Cc2cc([C@@]3(c4ccccc4)[N+]=C(N)N4C3=NCCC4)ccc2)cc1'\n",
      " 'O=C1N(C)C(N)=NC(C)(C2C(c3cc(-c4cscc4)ccc3)C2)C1'\n",
      " 'O(C)c1ccc([C@]2(c3cc(-c4cncnc4)ccc3)[N+]=C(N)CC2)cc1'\n",
      " 'Fc1ccc(Cc2cc(C3(c4ccccc4)[N+]=C(N)N4C3=NCCC4)ccc2)cc1'\n",
      " 'O=C(Nc1cc(C2(C)N=C(N)SC2)ccc1)c1ncccc1'\n",
      " 'O=C1N(C)C(N)=NC(C)(C2C(c3cc(-c4ccccc4)ccc3)C2)C1'\n",
      " 'FC(F)(F)C(Oc1c(N)c(F)cc(CC2C(O)C([N+])CS(=O)(=O)C2)c1)C(F)(F)F'\n",
      " 'Fc1cc(F)cc(CC(NC(=O)C)C(O)C[N+]C2(c3cc(C(C)(C)C)ccc3)C[N+]CCC2)c1'\n",
      " 'S(=O)(=O)(N(C)c1cc(C(=O)NC(C(O)CC(C(=O)NC2CC2)C)COCc2cc(F)cc(F)c2)cc(C(=O)NC(C)c2ccccc2)c1)C'\n",
      " 'S(=O)(=O)(N(C)c1cc(C(=O)NC(C(O)CC(OC)C[N+]Cc2ccccc2)COc2cc(F)cc(F)c2)cc(C(=O)NC(C)c2ccccc2)c1)C'\n",
      " 'S(=O)(=O)(N(C)c1cc(C(=O)NC(C)c2ccc(F)cc2)cc(C[N+]CC([N+])(CO)Cc2ccccc2)c1)C'\n",
      " 'Fc1cc(N2S(=O)(=O)NCC32CC(C)[N+](Cc2cc(OC4CCCC4)ccc2)CC3)ccc1'\n",
      " 'Clc1cc(-c2cc([C@@]34N=C(N)O[C@@H]3CCCC4)ccc2)cnc1'\n",
      " 'S(=O)(=O)(Oc1cc(C(=O)NC(C(O)C[N+]C(C(=O)NC2CCCCC2)C)Cc2ccccc2)ccc1)Cc1ccccc1'\n",
      " 'S(=O)(=O)(C)N1C(C)=C(C(=O)NOCc2ccccc2)[C@H](C)C(C(=O)N[C@H]([C@H](O)C[N+]C2CC2)Cc2ccccc2)=C1C'\n",
      " 'Fc1cc(-c2cc(C3(C)N=C(N)[C@@H]4N3CCCC4)ccc2)cnc1'\n",
      " 'O=C(Nc1cc(-c2cc(C3C(C4(C)N=C(N)N(C)C(=O)C4)C3)ccc2)ccc1)C'\n",
      " 'S(=O)(=O)(N(C)c1cc(C(=O)NC(C)c2ccc(F)cc2)cc(CNC(=O)C([N+])(CO)Cc2ccccc2)c1)C'\n",
      " 'O=C(C)N1C(C)(c2cc(-c3cc(OC)ccc3)ccc2)N=C(N)C1'\n",
      " 'S(=O)(=O)(C)N1C(C)=C(C(=O)NOCc2ccccc2)[C@@H](c2ccccc2)C(C(=O)N[C@H]([C@H](O)C[N+]C2CC2)Cc2ccccc2)=C1C'\n",
      " 'Brc1cc2[C@@H](OC(=O)[C@@H]3[N+]C[C@]4(C(=O)Nc5c4cccc5)C3)CCSc2cc1'\n",
      " 'S(=O)(=O)(Nc1c(C)ccc(Nc2ncnc(-c3ccccc3)c2)c1)C'\n",
      " 'O(C)c1cc(-c2cc(CCc3nc(N)ccc3)ccc2)ccc1'\n",
      " 'O=C(OC(C)C)CN1C(C)=C(C(=O)C)[C@@H](C)C(C(=O)N[C@H]([C@H](O)C[N+]Cc2cc(OC)ccc2)Cc2ccccc2)=C1'\n",
      " 'Fc1cc(NC[C@@H](O)[C@@H](NC(=O)C=2[C@H](CCC)C(C(=O)C)=C(C)N(CC(=O)OC(C)C)C=2C)Cc2ccccc2)ccc1'\n",
      " 'O=C(CN1C(C)=C(C(=O)OCc2ccccc2)[C@@H](C)C(C(=O)N[C@H]([C@H](O)C[N+]C2CC2)Cc2ccccc2)=C1C)N1CCOCC1'\n",
      " 'S(=O)(=O)(N(C)c1cc(C(=O)NC(C)c2ccc(F)cc2)cc(-c2sc(C([N+])(Cc3ccccc3)C)nn2)c1)C'\n",
      " 'NC1=[N+][C@@](c2cc(C(C)(C)C)ccc2)(c2ccccc2)C=2N1CCCN=2'\n",
      " 'O=C(OC(C)C)CN1C=C(C(=O)N[C@H]([C@H](O)C[N+]C2CC2)Cc2ccccc2)[C@H](C)C(C(=O)N[C@H](C)c2ccccc2)=C1'\n",
      " 'NC=1OC2C(c3cc(-c4cncnc4)ccc3)(N=1)CCCC2'\n",
      " 'O(C)c1cc(-c2cc(C34N=C(N)OC3CCCC4)ccc2)ccc1'\n",
      " 'O(C)c1cc(-c2cc(CNc3c(N)nccc3)ccc2)cnc1'\n",
      " 'Fc1cc(F)cc(CC(NC(=O)C)C(O)C[N+]C2(c3occ(C(C)(C)C)n3)CC2)c1'\n",
      " 'O=C1N(C)C(N)=NC(C2C(c3ccc(-c4cscc4)cc3)C2)=C1'\n",
      " 'O=C1N(C)C(N)=NC(C2C(c3ccc(-c4scc(C)c4)cc3)C2)=C1'\n",
      " 'Clc1cc2nc(N)n(CCCC(=O)N(CC3CCCCC3)C)c2cc1'\n",
      " 'S(=O)(=O)(N(C)c1cc(OCCC([N+])(CO)Cc2ccccc2)cc(C(=O)NC(C)c2ccc(F)cc2)c1)C'\n",
      " 'Clc1cc2nc(N)n(CCCC(=O)NCC3CCCCC3)c2cc1'\n",
      " 'Clc1cc2nc(N)n(C(CC(=O)NCCC(C)(C)C)CC)c2cc1'\n",
      " 'NC=1C(C(C)C)=NC(C)(c2cc(-c3cnccc3)ccc2)N=1'\n",
      " 'S(=O)(=O)(N(C)c1cc(C(=O)OCC([N+]C)(CO)Cc2ccccc2)cc(C(=O)NC(C)c2ccc(F)cc2)c1)C'\n",
      " 'O=C(OC1CCOCC1)[C@@H]1[N+]C[C@]2(C(=O)Nc3c2cccc3)C1'\n",
      " 'Clc1cc2c(C(NC(Cc3ccccc3)c3ncccn3)=NC(C)(C)C2)cc1'\n",
      " 'Clc1cc2c(C(NC(Cc3ccccc3)c3ocnn3)=NC(C)(C)C2)cc1'\n",
      " 'O=C(Nc1cc(C23N=C(N)OC2COCC3)ccc1)c1ncccc1'\n",
      " 'Clc1cc2nc(N)n(C(CC(=O)NCc3ncccc3)CC(C)C)c2cc1'\n",
      " '[N+@@H](Cc1occc1)(Cc1cc(CCc2c(N)nccc2)ccc1)C'\n",
      " 'Clc1cc2c(C(NC(Cc3ccccc3)c3oc(C)nn3)=NC(C)(C)C2)cc1'\n",
      " 'Clc1cc2nc(N)n(CCCC(=O)NCCC3C[N+]CC3)c2cc1'\n",
      " 'Clc1cc2nc(N)n(C(CC(=O)NC(C)C)CC)c2cc1' 'Nc1c(N2CCCC2)nc2c(n1)cccc2'\n",
      " 'Nc1nccc2c1cccc2' 'Clc1cc2nc(N)n(CCCC(=O)NCC3CC3)c2cc1']\n"
     ]
    },
    {
     "data": {
      "image/png": "[encoded data removed]",
      "text/plain": [
       "<IPython.core.display.Image object>"
      ]
     },
     "metadata": {},
     "output_type": "display_data"
    },
    {
     "data": {
      "image/png": "[encoded data removed]",
      "text/plain": [
       "<IPython.core.display.Image object>"
      ]
     },
     "metadata": {},
     "output_type": "display_data"
    },
    {
     "data": {
      "image/png": "[encoded data removed]",
      "text/plain": [
       "<IPython.core.display.Image object>"
      ]
     },
     "metadata": {},
     "output_type": "display_data"
    },
    {
     "data": {
      "image/png": "[encoded data removed]",
      "text/plain": [
       "<IPython.core.display.Image object>"
      ]
     },
     "metadata": {},
     "output_type": "display_data"
    },
    {
     "data": {
      "image/png": "[encoded data removed]",
      "text/plain": [
       "<IPython.core.display.Image object>"
      ]
     },
     "metadata": {},
     "output_type": "display_data"
    },
    {
     "data": {
      "image/png": "[encoded data removed]",
      "text/plain": [
       "<IPython.core.display.Image object>"
      ]
     },
     "metadata": {},
     "output_type": "display_data"
    },
    {
     "data": {
      "image/png": "[encoded data removed]",
      "text/plain": [
       "<IPython.core.display.Image object>"
      ]
     },
     "metadata": {},
     "output_type": "display_data"
    },
    {
     "data": {
      "image/png": "[encoded data removed]",
      "text/plain": [
       "<IPython.core.display.Image object>"
      ]
     },
     "metadata": {},
     "output_type": "display_data"
    },
    {
     "data": {
      "image/png": "[encoded data removed]",
      "text/plain": [
       "<IPython.core.display.Image object>"
      ]
     },
     "metadata": {},
     "output_type": "display_data"
    },
    {
     "data": {
      "image/png": "[encoded data removed]",
      "text/plain": [
       "<IPython.core.display.Image object>"
      ]
     },
     "metadata": {},
     "output_type": "display_data"
    },
    {
     "data": {
      "image/png": "[encoded data removed]",
      "text/plain": [
       "<IPython.core.display.Image object>"
      ]
     },
     "metadata": {},
     "output_type": "display_data"
    },
    {
     "data": {
      "image/png": "[encoded data removed]",
      "text/plain": [
       "<IPython.core.display.Image object>"
      ]
     },
     "metadata": {},
     "output_type": "display_data"
    }
   ],
   "source": [
    "print(valid_dataset.ids)\n",
    "valid_mols = [Chem.MolFromSmiles(compound)\n",
    "              for compound in islice(valid_dataset.ids, num_to_display)]\n",
    "display_images(mols_to_pngs(valid_mols, basename=\"valid_set\"))"
   ]
  },
  {
   "cell_type": "markdown",
   "metadata": {},
   "source": [
    "not drawn properly. Graph drawing problem, intersection.\n",
    "\n",
    "Let's now write these datasets to disk\n",
    "\n",
    "*It doesn't really do that does it?*\n",
    "\n",
    "*Notice the huge size of the validation set*\n",
    "\n",
    "The performance of common machine-learning algorithms can be very sensitive to preprocessing of the data. One common transformation \n",
    "applied to data is to normalize it to have zero-mean and unit-standard-deviation. We will apply this transformation to the pIC50 values (as seen above, the pIC50s range from 2 to 11).\n",
    "\n",
    "Notice the division by zero warnings. Are they critical? SD numerically rounded to zero effing up the normalization."
   ]
  },
  {
   "cell_type": "code",
   "execution_count": 32,
   "metadata": {},
   "outputs": [
    {
     "name": "stderr",
     "output_type": "stream",
     "text": [
      "/data/torlarse/deepchem/deepchem/trans/transformers.py:148: RuntimeWarning: divide by zero encountered in true_divide\n",
      "  X = np.nan_to_num((X - self.X_means) / self.X_stds)\n",
      "/data/torlarse/deepchem/deepchem/trans/transformers.py:148: RuntimeWarning: invalid value encountered in true_divide\n",
      "  X = np.nan_to_num((X - self.X_means) / self.X_stds)\n"
     ]
    },
    {
     "name": "stdout",
     "output_type": "stream",
     "text": [
      "TIMING: dataset construction took 0.038 s\n",
      "Loading dataset from disk.\n",
      "TIMING: dataset construction took 0.021 s\n",
      "Loading dataset from disk.\n",
      "TIMING: dataset construction took 0.010 s\n",
      "Loading dataset from disk.\n",
      "TIMING: dataset construction took 0.007 s\n",
      "Loading dataset from disk.\n",
      "TIMING: dataset construction took 0.221 s\n",
      "Loading dataset from disk.\n",
      "TIMING: dataset construction took 0.122 s\n",
      "Loading dataset from disk.\n",
      "TIMING: dataset construction took 0.006 s\n",
      "Loading dataset from disk.\n",
      "TIMING: dataset construction took 0.005 s\n",
      "Loading dataset from disk.\n"
     ]
    }
   ],
   "source": [
    "transformers = [\n",
    "    dc.trans.NormalizationTransformer(transform_X=True, dataset=train_dataset),\n",
    "    dc.trans.ClippingTransformer(transform_X=True, dataset=train_dataset)]\n",
    "\n",
    "datasets = [train_dataset, valid_dataset, test_dataset, crystal_dataset]\n",
    "for i, dataset in enumerate(datasets):\n",
    "  for transformer in transformers:\n",
    "      datasets[i] = transformer.transform(dataset)\n",
    "train_dataset, valid_dataset, test_dataset, crystal_dataset = datasets"
   ]
  },
  {
   "cell_type": "markdown",
   "metadata": {},
   "source": [
    "We now fit simple random forest models to our datasets.\n",
    "\n",
    "From the scikitlearn docs chapter 3 about model selection and evaluation. Chapter 3.2 is about hyper parameter tuning. Is the random forest actually a search in hyperparameter space?\n",
    "\n",
    "The docs says that both regressor (independent) and classifier (dependent label) counts as estimators. \n",
    "\n",
    "Seems that random forest is not brute force parameter search like grid search. Instead bagging i.e leaving out parts of the training set when sampling."
   ]
  },
  {
   "cell_type": "code",
   "execution_count": 34,
   "metadata": {},
   "outputs": [
    {
     "name": "stdout",
     "output_type": "stream",
     "text": [
      "Fitting model 1/1\n",
      "hyperparameters: {'n_estimators': 10, 'max_features': 'log2'}\n",
      "computed_metrics: [0.4318181818181818]\n",
      "Model 1/1, Metric roc_auc_score, Validation set 0: 0.431818\n",
      "\tbest_validation_score so far: 0.431818\n",
      "computed_metrics: [0.9983179546328336]\n",
      "Best hyperparameters: (10, 'log2')\n",
      "train_score: 0.998318\n",
      "validation_score: 0.431818\n"
     ]
    }
   ],
   "source": [
    "from sklearn.ensemble import RandomForestClassifier\n",
    "\n",
    "def rf_model_builder(model_params, model_dir):\n",
    "  sklearn_model = RandomForestClassifier(**model_params)\n",
    "  return dc.models.SklearnModel(sklearn_model, model_dir)\n",
    "params_dict = {\n",
    "    # \"n_estimators\": [10, 100],\n",
    "    \"n_estimators\": [10],\n",
    "    \"max_features\": [\"log2\"],\n",
    "    # \"max_features\": [\"auto\", \"sqrt\", \"log2\", None],\n",
    "}\n",
    "\n",
    "metric = dc.metrics.Metric(dc.metrics.roc_auc_score)\n",
    "# metric = dc.metrics.Metric(dc.metrics.accuracy_score)\n",
    "optimizer = dc.hyper.HyperparamOpt(rf_model_builder)\n",
    "best_rf, best_rf_hyperparams, all_rf_results = optimizer.hyperparam_search(\n",
    "    params_dict, train_dataset, valid_dataset, transformers,\n",
    "    metric=metric)"
   ]
  },
  {
   "cell_type": "markdown",
   "metadata": {},
   "source": [
    "TODO: try more metrics, choose a metric that works indep. of the class distribution. Skewed data makes accuracy not accurate.\n",
    "\n",
    "BUG: balanced accuracy score function calls accuracy score with parameter not in argument list"
   ]
  },
  {
   "cell_type": "code",
   "execution_count": 35,
   "metadata": {},
   "outputs": [
    {
     "name": "stdout",
     "output_type": "stream",
     "text": [
      "Fitting model 1/1\n",
      "hyperparameters: {'learning_rate': 6.840400484262457e-05, 'weight_decay_penalty': 1.2227141308409542e-06, 'nb_epoch': 40}\n",
      "computed_metrics: [0.4772727272727273]\n",
      "Model 1/1, Metric roc_auc_score, Validation set 0: 0.477273\n",
      "\tbest_validation_score so far: 0.477273\n",
      "computed_metrics: [0.9306036139946174]\n",
      "Best hyperparameters: (6.840400484262457e-05, 1.2227141308409542e-06, 40)\n",
      "train_score: 0.930604\n",
      "validation_score: 0.477273\n"
     ]
    }
   ],
   "source": [
    "import numpy.random\n",
    "\n",
    "params_dict = {\"learning_rate\": np.power(10., np.random.uniform(-5, -3, size=1)),\n",
    "               \"weight_decay_penalty\": np.power(10, np.random.uniform(-6, -4, size=1)),\n",
    "               \"nb_epoch\": [40] }\n",
    "n_features = train_dataset.get_data_shape()[0]\n",
    "def model_builder(model_params, model_dir):\n",
    "  model = dc.models.MultitaskClassifier(\n",
    "    1, n_features, layer_sizes=[1000], dropouts=.25,\n",
    "    batch_size=50, **model_params)\n",
    "  return model\n",
    "\n",
    "optimizer = dc.hyper.HyperparamOpt(model_builder)\n",
    "best_dnn, best_dnn_hyperparams, all_dnn_results = optimizer.hyperparam_search(\n",
    "    params_dict, train_dataset, valid_dataset, transformers,\n",
    "    metric=metric)"
   ]
  },
  {
   "cell_type": "markdown",
   "metadata": {},
   "source": [
    "Now let's evaluate the best model on the validation and test sets and save the results to csv."
   ]
  },
  {
   "cell_type": "code",
   "execution_count": 36,
   "metadata": {},
   "outputs": [
    {
     "name": "stdout",
     "output_type": "stream",
     "text": [
      "computed_metrics: [0.9983179546328336]\n",
      "RF Train set AUC 0.998318\n",
      "computed_metrics: [0.4318181818181818]\n",
      "RF Valid set AUC 0.431818\n",
      "computed_metrics: [0.7575310063294638]\n",
      "RF Test set AUC 0.757531\n",
      "computed_metrics: [nan]\n",
      "RF Crystal set R^2 nan\n"
     ]
    },
    {
     "name": "stderr",
     "output_type": "stream",
     "text": [
      "/data/torlarse/deepchem/deepchem/metrics/__init__.py:363: UserWarning: Error calculating metric roc_auc_score: Only one class present in y_true. ROC AUC score is not defined in that case.\n",
      "  warnings.warn(\"Error calculating metric %s: %s\" % (self.name, e))\n"
     ]
    }
   ],
   "source": [
    "from deepchem.utils.evaluate import Evaluator\n",
    "\n",
    "rf_train_csv_out = \"rf_train_regressor.csv\"\n",
    "rf_train_stats_out = \"rf_train_stats_regressor.txt\"\n",
    "rf_train_evaluator = Evaluator(best_rf, train_dataset, transformers)\n",
    "rf_train_score = rf_train_evaluator.compute_model_performance(\n",
    "    [metric], rf_train_csv_out, rf_train_stats_out)\n",
    "print(\"RF Train set AUC %f\" % (rf_train_score[\"roc_auc_score\"]))\n",
    "\n",
    "rf_valid_csv_out = \"rf_valid_regressor.csv\"\n",
    "rf_valid_stats_out = \"rf_valid_stats_regressor.txt\"\n",
    "rf_valid_evaluator = Evaluator(best_rf, valid_dataset, transformers)\n",
    "rf_valid_score = rf_valid_evaluator.compute_model_performance(\n",
    "    [metric], rf_valid_csv_out, rf_valid_stats_out)\n",
    "print(\"RF Valid set AUC %f\" % (rf_valid_score[\"roc_auc_score\"]))\n",
    "\n",
    "rf_test_csv_out = \"rf_test_regressor.csv\"\n",
    "rf_test_stats_out = \"rf_test_stats_regressor.txt\"\n",
    "rf_test_evaluator = Evaluator(best_rf, test_dataset, transformers)\n",
    "rf_test_score = rf_test_evaluator.compute_model_performance(\n",
    "    [metric], rf_test_csv_out, rf_test_stats_out)\n",
    "print(\"RF Test set AUC %f\" % (rf_test_score[\"roc_auc_score\"]))\n",
    "\n",
    "rf_crystal_csv_out = \"rf_crystal_regressor.csv\"\n",
    "rf_crystal_stats_out = \"rf_crystal_stats_regressor.txt\"\n",
    "rf_crystal_evaluator = Evaluator(best_rf, crystal_dataset, transformers)\n",
    "rf_crystal_score = rf_crystal_evaluator.compute_model_performance(\n",
    "    [metric], rf_crystal_csv_out, rf_crystal_stats_out)\n",
    "print(\"RF Crystal set R^2 %f\" % (rf_crystal_score[\"roc_auc_score\"]))"
   ]
  },
  {
   "cell_type": "code",
   "execution_count": 37,
   "metadata": {},
   "outputs": [
    {
     "name": "stdout",
     "output_type": "stream",
     "text": [
      "computed_metrics: [0.9306036139946174]\n",
      "DNN Train set AUC 0.930604\n",
      "computed_metrics: [0.4772727272727273]\n",
      "DNN Valid set AUC 0.477273\n",
      "computed_metrics: [0.7833340036498735]\n",
      "DNN Test set AUC 0.783334\n",
      "computed_metrics: [nan]\n",
      "DNN Crystal set AUC nan\n"
     ]
    },
    {
     "name": "stderr",
     "output_type": "stream",
     "text": [
      "/data/torlarse/deepchem/deepchem/metrics/__init__.py:363: UserWarning: Error calculating metric roc_auc_score: Only one class present in y_true. ROC AUC score is not defined in that case.\n",
      "  warnings.warn(\"Error calculating metric %s: %s\" % (self.name, e))\n"
     ]
    }
   ],
   "source": [
    "dnn_train_csv_out = \"dnn_train_classifier.csv\"\n",
    "dnn_train_stats_out = \"dnn_train_classifier_stats.txt\"\n",
    "dnn_train_evaluator = Evaluator(best_dnn, train_dataset, transformers)\n",
    "dnn_train_score = dnn_train_evaluator.compute_model_performance(\n",
    "    [metric], dnn_train_csv_out, dnn_train_stats_out)\n",
    "print(\"DNN Train set AUC %f\" % (dnn_train_score[\"roc_auc_score\"]))\n",
    "\n",
    "dnn_valid_csv_out = \"dnn_valid_classifier.csv\"\n",
    "dnn_valid_stats_out = \"dnn_valid_classifier_stats.txt\"\n",
    "dnn_valid_evaluator = Evaluator(best_dnn, valid_dataset, transformers)\n",
    "dnn_valid_score = dnn_valid_evaluator.compute_model_performance(\n",
    "    [metric], dnn_valid_csv_out, dnn_valid_stats_out)\n",
    "print(\"DNN Valid set AUC %f\" % (dnn_valid_score[\"roc_auc_score\"]))\n",
    "\n",
    "dnn_test_csv_out = \"dnn_test_classifier.csv\"\n",
    "dnn_test_stats_out = \"dnn_test_classifier_stats.txt\"\n",
    "dnn_test_evaluator = Evaluator(best_dnn, test_dataset, transformers)\n",
    "dnn_test_score = dnn_test_evaluator.compute_model_performance(\n",
    "    [metric], dnn_test_csv_out, dnn_test_stats_out)\n",
    "print(\"DNN Test set AUC %f\" % (dnn_test_score[\"roc_auc_score\"]))\n",
    "\n",
    "dnn_crystal_csv_out = \"dnn_crystal_classifier.csv\"\n",
    "dnn_crystal_stats_out = \"dnn_crystal_stats_classifier.txt\"\n",
    "dnn_crystal_evaluator = Evaluator(best_dnn, crystal_dataset, transformers)\n",
    "dnn_crystal_score = dnn_crystal_evaluator.compute_model_performance(\n",
    "    [metric], dnn_crystal_csv_out, dnn_crystal_stats_out)\n",
    "print(\"DNN Crystal set AUC %f\" % (dnn_crystal_score[\"roc_auc_score\"]))"
   ]
  },
  {
   "cell_type": "markdown",
   "metadata": {},
   "source": [
    "Now, we construct regression models for the data."
   ]
  },
  {
   "cell_type": "code",
   "execution_count": 38,
   "metadata": {},
   "outputs": [
    {
     "name": "stdout",
     "output_type": "stream",
     "text": [
      "Loading raw samples now.\n",
      "shard_size: 8192\n",
      "About to start loading CSV from desc_canvas_aug30.csv\n",
      "Loading shard 1 of size 8192.\n",
      "TIMING: user specified processing took 0.079 s\n",
      "TIMING: featurizing shard 0 took 0.081 s\n",
      "TIMING: dataset construction took 0.306 s\n",
      "Loading dataset from disk.\n",
      "Loading raw samples now.\n",
      "shard_size: 8192\n",
      "About to start loading CSV from crystal_desc_canvas_aug30.csv\n",
      "Loading shard 1 of size 8192.\n",
      "TIMING: user specified processing took 0.069 s\n",
      "TIMING: featurizing shard 0 took 0.070 s\n",
      "TIMING: dataset construction took 0.093 s\n",
      "Loading dataset from disk.\n"
     ]
    }
   ],
   "source": [
    "#Make directories to store the raw and featurized datasets.\n",
    "featurizer = dc.feat.UserDefinedFeaturizer(user_specified_features)\n",
    "loader = dc.data.UserCSVLoader(\n",
    "    tasks=[\"pIC50\"], smiles_field=\"mol\", id_field=\"CID\",\n",
    "    featurizer=featurizer)\n",
    "dataset = loader.featurize(dataset_file)\n",
    "crystal_dataset = loader.featurize(crystal_dataset_file)"
   ]
  },
  {
   "cell_type": "code",
   "execution_count": 39,
   "metadata": {},
   "outputs": [
    {
     "name": "stdout",
     "output_type": "stream",
     "text": [
      "TIMING: dataset construction took 0.063 s\n",
      "Loading dataset from disk.\n",
      "TIMING: dataset construction took 0.048 s\n",
      "Loading dataset from disk.\n",
      "TIMING: dataset construction took 0.173 s\n",
      "Loading dataset from disk.\n"
     ]
    }
   ],
   "source": [
    "splitter = dc.splits.SpecifiedSplitter(dataset_file, \"Model\")\n",
    "train_dataset, valid_dataset, test_dataset = splitter.train_valid_test_split(\n",
    "    dataset)\n",
    "#NOTE THE RENAMING:\n",
    "valid_dataset, test_dataset = test_dataset, valid_dataset"
   ]
  },
  {
   "cell_type": "code",
   "execution_count": 40,
   "metadata": {},
   "outputs": [
    {
     "name": "stdout",
     "output_type": "stream",
     "text": [
      "Number of compounds in train set\n",
      "204\n",
      "Number of compounds in validation set\n",
      "1273\n",
      "Number of compounds in test set\n",
      "45\n",
      "Number of compounds in crystal set\n",
      "25\n"
     ]
    }
   ],
   "source": [
    "print(\"Number of compounds in train set\")\n",
    "print(len(train_dataset))\n",
    "print(\"Number of compounds in validation set\")\n",
    "print(len(valid_dataset))\n",
    "print(\"Number of compounds in test set\")\n",
    "print(len(test_dataset))\n",
    "print(\"Number of compounds in crystal set\")\n",
    "print(len(crystal_dataset))"
   ]
  },
  {
   "cell_type": "code",
   "execution_count": 20,
   "metadata": {},
   "outputs": [
    {
     "name": "stdout",
     "output_type": "stream",
     "text": [
      "TIMING: dataset construction took 0.042 s\n",
      "Loading dataset from disk.\n",
      "TIMING: dataset construction took 0.028 s\n",
      "Loading dataset from disk.\n",
      "TIMING: dataset construction took 0.240 s\n",
      "Loading dataset from disk.\n",
      "TIMING: dataset construction took 0.153 s\n",
      "Loading dataset from disk.\n",
      "TIMING: dataset construction took 0.011 s\n",
      "Loading dataset from disk.\n",
      "TIMING: dataset construction took 0.008 s\n",
      "Loading dataset from disk.\n",
      "TIMING: dataset construction took 0.007 s\n",
      "Loading dataset from disk.\n",
      "TIMING: dataset construction took 0.006 s\n",
      "Loading dataset from disk.\n"
     ]
    }
   ],
   "source": [
    "transformers = [\n",
    "    dc.trans.NormalizationTransformer(transform_X=True, dataset=train_dataset),\n",
    "    dc.trans.ClippingTransformer(transform_X=True, dataset=train_dataset)]\n",
    "\n",
    "datasets = [train_dataset, valid_dataset, test_dataset, crystal_dataset]\n",
    "for i, dataset in enumerate(datasets):\n",
    "  for transformer in transformers:\n",
    "      datasets[i] = transformer.transform(dataset)\n",
    "train_dataset, valid_dataset, test_dataset, crystal_dataset = datasets"
   ]
  },
  {
   "cell_type": "code",
   "execution_count": 42,
   "metadata": {},
   "outputs": [
    {
     "name": "stdout",
     "output_type": "stream",
     "text": [
      "Fitting model 1/8\n",
      "hyperparameters: {'n_estimators': 10, 'max_features': 'auto'}\n",
      "computed_metrics: [0.1964841668081626]\n",
      "Model 1/8, Metric r2_score, Validation set 0: 0.196484\n",
      "\tbest_validation_score so far: 0.196484\n",
      "Fitting model 2/8\n",
      "hyperparameters: {'n_estimators': 10, 'max_features': 'sqrt'}\n",
      "computed_metrics: [0.22184278718269523]\n",
      "Model 2/8, Metric r2_score, Validation set 1: 0.221843\n",
      "\tbest_validation_score so far: 0.221843\n",
      "Fitting model 3/8\n",
      "hyperparameters: {'n_estimators': 10, 'max_features': 'log2'}\n",
      "computed_metrics: [0.21492122298220329]\n",
      "Model 3/8, Metric r2_score, Validation set 2: 0.214921\n",
      "\tbest_validation_score so far: 0.221843\n",
      "Fitting model 4/8\n",
      "hyperparameters: {'n_estimators': 10, 'max_features': None}\n",
      "computed_metrics: [0.2083965108216862]\n",
      "Model 4/8, Metric r2_score, Validation set 3: 0.208397\n",
      "\tbest_validation_score so far: 0.221843\n",
      "Fitting model 5/8\n",
      "hyperparameters: {'n_estimators': 100, 'max_features': 'auto'}\n",
      "computed_metrics: [0.2483445187465162]\n",
      "Model 5/8, Metric r2_score, Validation set 4: 0.248345\n",
      "\tbest_validation_score so far: 0.248345\n",
      "Fitting model 6/8\n",
      "hyperparameters: {'n_estimators': 100, 'max_features': 'sqrt'}\n",
      "computed_metrics: [0.24891164371814856]\n",
      "Model 6/8, Metric r2_score, Validation set 5: 0.248912\n",
      "\tbest_validation_score so far: 0.248912\n",
      "Fitting model 7/8\n",
      "hyperparameters: {'n_estimators': 100, 'max_features': 'log2'}\n",
      "computed_metrics: [0.24655189091583696]\n",
      "Model 7/8, Metric r2_score, Validation set 6: 0.246552\n",
      "\tbest_validation_score so far: 0.248912\n",
      "Fitting model 8/8\n",
      "hyperparameters: {'n_estimators': 100, 'max_features': None}\n",
      "computed_metrics: [0.2591054134332791]\n",
      "Model 8/8, Metric r2_score, Validation set 7: 0.259105\n",
      "\tbest_validation_score so far: 0.259105\n",
      "computed_metrics: [0.9468081107320105]\n",
      "Best hyperparameters: (100, None)\n",
      "train_score: 0.946808\n",
      "validation_score: 0.259105\n"
     ]
    }
   ],
   "source": [
    "from sklearn.ensemble import RandomForestRegressor\n",
    "\n",
    "def rf_model_builder(model_params, model_dir):\n",
    "  sklearn_model = RandomForestRegressor(**model_params)\n",
    "  return dc.models.SklearnModel(sklearn_model, model_dir)\n",
    "params_dict = {\n",
    "    \"n_estimators\": [10, 100],\n",
    "    \"max_features\": [\"auto\", \"sqrt\", \"log2\", None],\n",
    "}\n",
    "\n",
    "metric = dc.metrics.Metric(dc.metrics.r2_score)\n",
    "optimizer = dc.hyper.HyperparamOpt(rf_model_builder)\n",
    "best_rf, best_rf_hyperparams, all_rf_results = optimizer.hyperparam_search(\n",
    "    params_dict, train_dataset, valid_dataset, transformers,\n",
    "    metric=metric)"
   ]
  },
  {
   "cell_type": "code",
   "execution_count": 22,
   "metadata": {},
   "outputs": [
    {
     "name": "stdout",
     "output_type": "stream",
     "text": [
      "Fitting model 1/4\n",
      "hyperparameters: {'learning_rate': 2.2678896615378055e-05, 'weight_decay_penalty': 9.4634124652809741e-06, 'nb_epoch': 20}\n",
      "Ending global_step 100: Average loss 180.546\n",
      "TIMING: model fitting took 0.816 s\n",
      "computed_metrics: [0.16989573357278653]\n",
      "Model 1/4, Metric r2_score, Validation set 0: 0.169896\n",
      "\tbest_validation_score so far: 0.169896\n",
      "Fitting model 2/4\n",
      "hyperparameters: {'learning_rate': 2.2678896615378055e-05, 'weight_decay_penalty': 9.9538524586146781e-06, 'nb_epoch': 20}\n",
      "Ending global_step 100: Average loss 257.12\n",
      "TIMING: model fitting took 0.826 s\n",
      "computed_metrics: [0.16619212054975674]\n",
      "Model 2/4, Metric r2_score, Validation set 1: 0.166192\n",
      "\tbest_validation_score so far: 0.169896\n",
      "Fitting model 3/4\n",
      "hyperparameters: {'learning_rate': 3.2512632922566059e-05, 'weight_decay_penalty': 9.4634124652809741e-06, 'nb_epoch': 20}\n",
      "Ending global_step 100: Average loss 179.655\n",
      "TIMING: model fitting took 0.804 s\n",
      "computed_metrics: [0.16680436151619304]\n",
      "Model 3/4, Metric r2_score, Validation set 2: 0.166804\n",
      "\tbest_validation_score so far: 0.169896\n",
      "Fitting model 4/4\n",
      "hyperparameters: {'learning_rate': 3.2512632922566059e-05, 'weight_decay_penalty': 9.9538524586146781e-06, 'nb_epoch': 20}\n",
      "Ending global_step 100: Average loss 174.068\n",
      "TIMING: model fitting took 0.836 s\n",
      "computed_metrics: [0.16242558602166368]\n",
      "Model 4/4, Metric r2_score, Validation set 3: 0.162426\n",
      "\tbest_validation_score so far: 0.169896\n",
      "computed_metrics: [0.39815395176163104]\n",
      "Best hyperparameters: (2.2678896615378055e-05, 9.4634124652809741e-06, 20)\n",
      "train_score: 0.398154\n",
      "validation_score: 0.169896\n"
     ]
    }
   ],
   "source": [
    "import numpy.random\n",
    "\n",
    "params_dict = {\"learning_rate\": np.power(10., np.random.uniform(-5, -3, size=2)),\n",
    "               \"weight_decay_penalty\": np.power(10, np.random.uniform(-6, -4, size=2)),\n",
    "               \"nb_epoch\": [20] }\n",
    "n_features = train_dataset.get_data_shape()[0]\n",
    "def model_builder(model_params, model_dir):\n",
    "  model = dc.models.MultitaskRegressor(\n",
    "    1, n_features, layer_sizes=[1000], dropouts=[.25],\n",
    "    batch_size=50, **model_params)\n",
    "  return model\n",
    "\n",
    "optimizer = dc.hyper.HyperparamOpt(model_builder)\n",
    "best_dnn, best_dnn_hyperparams, all_dnn_results = optimizer.hyperparam_search(\n",
    "    params_dict, train_dataset, valid_dataset, transformers,\n",
    "    metric=metric)"
   ]
  },
  {
   "cell_type": "code",
   "execution_count": 23,
   "metadata": {},
   "outputs": [
    {
     "name": "stdout",
     "output_type": "stream",
     "text": [
      "computed_metrics: [0.94719919039600053]\n",
      "RF Train set R^2 0.947199\n",
      "computed_metrics: [0.2568151370288233]\n",
      "RF Valid set R^2 0.256815\n",
      "computed_metrics: [0.49355860458612211]\n",
      "RF Test set R^2 0.493559\n",
      "computed_metrics: [nan]\n",
      "RF Crystal set R^2 nan\n"
     ]
    }
   ],
   "source": [
    "from deepchem.utils.evaluate import Evaluator\n",
    "\n",
    "rf_train_csv_out = \"rf_train_regressor.csv\"\n",
    "rf_train_stats_out = \"rf_train_stats_regressor.txt\"\n",
    "rf_train_evaluator = Evaluator(best_rf, train_dataset, transformers)\n",
    "rf_train_score = rf_train_evaluator.compute_model_performance(\n",
    "    [metric], rf_train_csv_out, rf_train_stats_out)\n",
    "print(\"RF Train set R^2 %f\" % (rf_train_score[\"r2_score\"]))\n",
    "\n",
    "rf_valid_csv_out = \"rf_valid_regressor.csv\"\n",
    "rf_valid_stats_out = \"rf_valid_stats_regressor.txt\"\n",
    "rf_valid_evaluator = Evaluator(best_rf, valid_dataset, transformers)\n",
    "rf_valid_score = rf_valid_evaluator.compute_model_performance(\n",
    "    [metric], rf_valid_csv_out, rf_valid_stats_out)\n",
    "print(\"RF Valid set R^2 %f\" % (rf_valid_score[\"r2_score\"]))\n",
    "\n",
    "rf_test_csv_out = \"rf_test_regressor.csv\"\n",
    "rf_test_stats_out = \"rf_test_stats_regressor.txt\"\n",
    "rf_test_evaluator = Evaluator(best_rf, test_dataset, transformers)\n",
    "rf_test_score = rf_test_evaluator.compute_model_performance(\n",
    "    [metric], rf_test_csv_out, rf_test_stats_out)\n",
    "print(\"RF Test set R^2 %f\" % (rf_test_score[\"r2_score\"]))\n",
    "\n",
    "rf_crystal_csv_out = \"rf_crystal_regressor.csv\"\n",
    "rf_crystal_stats_out = \"rf_crystal_stats_regressor.txt\"\n",
    "rf_crystal_evaluator = Evaluator(best_rf, crystal_dataset, transformers)\n",
    "rf_crystal_score = rf_crystal_evaluator.compute_model_performance(\n",
    "    [metric], rf_crystal_csv_out, rf_crystal_stats_out)\n",
    "print(\"RF Crystal set R^2 %f\" % (rf_crystal_score[\"r2_score\"]))"
   ]
  },
  {
   "cell_type": "code",
   "execution_count": 24,
   "metadata": {},
   "outputs": [
    {
     "name": "stdout",
     "output_type": "stream",
     "text": [
      "computed_metrics: [0.39815395176163104]\n",
      "DNN Train set R^2 0.398154\n",
      "computed_metrics: [0.16989573357278653]\n",
      "DNN Valid set R^2 0.169896\n",
      "computed_metrics: [0.25610212044851555]\n",
      "DNN Test set R^2 0.256102\n",
      "computed_metrics: [nan]\n",
      "DNN Crystal set R^2 nan\n"
     ]
    }
   ],
   "source": [
    "dnn_train_csv_out = \"dnn_train_regressor.csv\"\n",
    "dnn_train_stats_out = \"dnn_train_regressor_stats.txt\"\n",
    "dnn_train_evaluator = Evaluator(best_dnn, train_dataset, transformers)\n",
    "dnn_train_score = dnn_train_evaluator.compute_model_performance(\n",
    "    [metric], dnn_train_csv_out, dnn_train_stats_out)\n",
    "print(\"DNN Train set R^2 %f\" % (dnn_train_score[\"r2_score\"]))\n",
    "\n",
    "dnn_valid_csv_out = \"dnn_valid_regressor.csv\"\n",
    "dnn_valid_stats_out = \"dnn_valid_regressor_stats.txt\"\n",
    "dnn_valid_evaluator = Evaluator(best_dnn, valid_dataset, transformers)\n",
    "dnn_valid_score = dnn_valid_evaluator.compute_model_performance(\n",
    "    [metric], dnn_valid_csv_out, dnn_valid_stats_out)\n",
    "print(\"DNN Valid set R^2 %f\" % (dnn_valid_score[\"r2_score\"]))\n",
    "\n",
    "dnn_test_csv_out = \"dnn_test_regressor.csv\"\n",
    "dnn_test_stats_out = \"dnn_test_regressor_stats.txt\"\n",
    "dnn_test_evaluator = Evaluator(best_dnn, test_dataset, transformers)\n",
    "dnn_test_score = dnn_test_evaluator.compute_model_performance(\n",
    "    [metric], dnn_test_csv_out, dnn_test_stats_out)\n",
    "print(\"DNN Test set R^2 %f\" % (dnn_test_score[\"r2_score\"]))\n",
    "\n",
    "dnn_crystal_csv_out = \"dnn_crystal_regressor.csv\"\n",
    "dnn_crystal_stats_out = \"dnn_crystal_stats_regressor.txt\"\n",
    "dnn_crystal_evaluator = Evaluator(best_dnn, crystal_dataset, transformers)\n",
    "dnn_crystal_score = dnn_crystal_evaluator.compute_model_performance(\n",
    "    [metric], dnn_crystal_csv_out, dnn_crystal_stats_out)\n",
    "print(\"DNN Crystal set R^2 %f\" % (dnn_crystal_score[\"r2_score\"]))\n"
   ]
  },
  {
   "cell_type": "code",
   "execution_count": 25,
   "metadata": {},
   "outputs": [
    {
     "data": {
      "image/png": "[encoded data removed]",
      "text/plain": [
       "<matplotlib.figure.Figure at 0x7fcfdc03af10>"
      ]
     },
     "metadata": {},
     "output_type": "display_data"
    }
   ],
   "source": [
    "task = \"pIC50\"\n",
    "rf_predicted_test = best_rf.predict(test_dataset)\n",
    "rf_true_test = test_dataset.y\n",
    "plt.scatter(rf_predicted_test, rf_true_test)\n",
    "plt.xlabel('Predicted pIC50s')\n",
    "plt.ylabel('Secondary Assay')\n",
    "plt.title(r'RF predicted IC50 vs. Secondary Assay')\n",
    "plt.xlim([2, 11])\n",
    "plt.ylim([2, 11])\n",
    "plt.plot([2, 11], [2, 11], color='k')\n",
    "plt.show()"
   ]
  },
  {
   "cell_type": "code",
   "execution_count": 26,
   "metadata": {},
   "outputs": [
    {
     "data": {
      "image/png": "[encoded data removed]",
      "text/plain": [
       "<matplotlib.figure.Figure at 0x7fcfe51b1110>"
      ]
     },
     "metadata": {},
     "output_type": "display_data"
    }
   ],
   "source": [
    "task = \"pIC50\"\n",
    "dnn_predicted_test = best_dnn.predict(test_dataset, transformers)\n",
    "dnn_true_test = test_dataset.y\n",
    "plt.scatter(dnn_predicted_test, dnn_true_test)\n",
    "plt.xlabel('Predicted pIC50s')\n",
    "plt.ylabel('Secondary Assay')\n",
    "plt.title(r'DNN predicted IC50 vs. Secondary Assay')\n",
    "plt.xlim([2, 11])\n",
    "plt.ylim([2, 11])\n",
    "plt.plot([2, 11], [2, 11], color='k')\n",
    "plt.show()"
   ]
  },
  {
   "cell_type": "code",
   "execution_count": null,
   "metadata": {},
   "outputs": [],
   "source": []
  }
 ],
 "metadata": {
  "kernelspec": {
   "display_name": "Python 3",
   "language": "python",
   "name": "python3"
  },
  "language_info": {
   "codemirror_mode": {
    "name": "ipython",
    "version": 3
   },
   "file_extension": ".py",
   "mimetype": "text/x-python",
   "name": "python",
   "nbconvert_exporter": "python",
   "pygments_lexer": "ipython3",
   "version": "3.6.5"
  }
 },
 "nbformat": 4,
 "nbformat_minor": 1
}
