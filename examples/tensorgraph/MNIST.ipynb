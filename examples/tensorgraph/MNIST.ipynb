{
 "cells": [
  {
   "cell_type": "code",
   "execution_count": 1,
   "metadata": {
    "collapsed": true,
    "deletable": true,
    "editable": true
   },
   "outputs": [],
   "source": [
    "from tensorflow.examples.tutorials.mnist import input_data"
   ]
  },
  {
   "cell_type": "code",
   "execution_count": 2,
   "metadata": {
    "collapsed": false,
    "deletable": true,
    "editable": true
   },
   "outputs": [
    {
     "name": "stdout",
     "output_type": "stream",
     "text": [
      "Extracting MNIST_data/train-images-idx3-ubyte.gz\n",
      "Extracting MNIST_data/train-labels-idx1-ubyte.gz\n",
      "Extracting MNIST_data/t10k-images-idx3-ubyte.gz\n",
      "Extracting MNIST_data/t10k-labels-idx1-ubyte.gz\n"
     ]
    }
   ],
   "source": [
    "mnist = input_data.read_data_sets(\"MNIST_data/\", one_hot=True)"
   ]
  },
  {
   "cell_type": "code",
   "execution_count": 4,
   "metadata": {
    "collapsed": false,
    "deletable": true,
    "editable": true
   },
   "outputs": [],
   "source": [
    "import deepchem as dc\n",
    "import tensorflow as tf\n",
    "from deepchem.models.tensorgraph.layers import Layer, Input, Reshape, Flatten\n",
    "from deepchem.models.tensorgraph.layers import Dense, SoftMaxCrossEntropy, ReduceMean, SoftMax"
   ]
  },
  {
   "cell_type": "code",
   "execution_count": 5,
   "metadata": {
    "collapsed": false,
    "deletable": true,
    "editable": true
   },
   "outputs": [],
   "source": [
    "train = dc.data.NumpyDataset(mnist.train.images, mnist.train.labels)\n",
    "valid = dc.data.NumpyDataset(mnist.validation.images, mnist.validation.labels)"
   ]
  },
  {
   "cell_type": "code",
   "execution_count": 6,
   "metadata": {
    "collapsed": false,
    "deletable": true,
    "editable": true
   },
   "outputs": [],
   "source": [
    "tg = dc.models.TensorGraph(tensorboard=True, model_dir='/tmp/mnist')\n",
    "feature = Input(shape=(None, 784))\n",
    "tg.add_layer(feature)\n",
    "tg.add_feature(feature)\n",
    "\n",
    "# Images are square 28x28 (batch, height, width, channel)\n",
    "make_image = Reshape(shape=(-1, 28, 28, 1))\n",
    "tg.add_layer(make_image, parents=[feature])\n",
    "\n",
    "class Conv2d(Layer):\n",
    "    def __init__(self, num_outputs, kernel_size=5, **kwargs):\n",
    "        self.num_outputs = num_outputs\n",
    "        self.kernel_size = kernel_size\n",
    "        super().__init__(**kwargs)\n",
    "    def __call__(self, *parents):\n",
    "        parent_tensor = parents[0].out_tensor\n",
    "        out_tensor = tf.contrib.layers.conv2d(parent_tensor,\n",
    "                                              num_outputs=self.num_outputs,\n",
    "                                              kernel_size = self.kernel_size,\n",
    "                                              padding=\"SAME\",\n",
    "                                              activation_fn=tf.nn.relu,\n",
    "                                              normalizer_fn=tf.contrib.layers.batch_norm)\n",
    "        self.out_tensor = tf.nn.max_pool(out_tensor, \n",
    "                                         ksize=[1, 2, 2, 1],\n",
    "                                         strides=[1, 2, 2, 1], \n",
    "                                         padding='SAME')\n",
    "        return self.out_tensor\n",
    "conv2d_1 = Conv2d(num_outputs=32)\n",
    "tg.add_layer(conv2d_1, parents=[make_image])\n",
    "\n",
    "conv2d_2 = Conv2d(num_outputs=64)\n",
    "tg.add_layer(conv2d_2, parents=[conv2d_1])\n",
    "\n",
    "flatten = Flatten()\n",
    "tg.add_layer(flatten, parents=[conv2d_2])\n",
    "\n",
    "dense1 = Dense(out_channels=1024, activation_fn=tf.nn.relu)\n",
    "tg.add_layer(dense1, parents=[flatten])\n",
    "\n",
    "dense2 = Dense(out_channels=10)\n",
    "tg.add_layer(dense2, parents=[dense1])\n",
    "\n",
    "label = Input(shape=(None, 10))\n",
    "tg.add_layer(label, parents=list())\n",
    "tg.add_label(label)\n",
    "\n",
    "smce = SoftMaxCrossEntropy()\n",
    "tg.add_layer(smce, parents=[label, dense2])\n",
    "\n",
    "loss = ReduceMean()\n",
    "tg.add_layer(loss, parents=[smce])\n",
    "tg.set_loss(loss)\n",
    "\n",
    "output = SoftMax()\n",
    "tg.add_layer(output, parents=[dense2])\n",
    "tg.add_output(output)"
   ]
  },
  {
   "cell_type": "code",
   "execution_count": 21,
   "metadata": {
    "collapsed": false,
    "deletable": true,
    "editable": true
   },
   "outputs": [
    {
     "name": "stdout",
     "output_type": "stream",
     "text": [
      "Training for 3 epochs\n",
      "On batch 0\n",
      "On batch 50\n",
      "On batch 100\n",
      "On batch 150\n",
      "On batch 200\n",
      "On batch 250\n",
      "On batch 300\n",
      "On batch 350\n",
      "On batch 400\n",
      "On batch 450\n",
      "On batch 500\n",
      "On batch 550\n",
      "On batch 600\n",
      "On batch 650\n",
      "On batch 700\n",
      "On batch 750\n",
      "On batch 800\n",
      "On batch 850\n",
      "On batch 900\n",
      "On batch 950\n",
      "On batch 1000\n",
      "On batch 1050\n",
      "Ending epoch 0: Average loss 0.195271\n",
      "On batch 0\n",
      "On batch 50\n",
      "On batch 100\n",
      "On batch 150\n",
      "On batch 200\n",
      "On batch 250\n",
      "On batch 300\n",
      "On batch 350\n",
      "On batch 400\n",
      "On batch 450\n",
      "On batch 500\n",
      "On batch 550\n",
      "On batch 600\n",
      "On batch 650\n",
      "On batch 700\n",
      "On batch 750\n",
      "On batch 800\n",
      "On batch 850\n",
      "On batch 900\n",
      "On batch 950\n",
      "On batch 1000\n",
      "On batch 1050\n",
      "Ending epoch 1: Average loss 0.0537784\n",
      "On batch 0\n",
      "On batch 50\n",
      "On batch 100\n",
      "On batch 150\n",
      "On batch 200\n",
      "On batch 250\n",
      "On batch 300\n",
      "On batch 350\n",
      "On batch 400\n",
      "On batch 450\n",
      "On batch 500\n",
      "On batch 550\n",
      "On batch 600\n",
      "On batch 650\n",
      "On batch 700\n",
      "On batch 750\n",
      "On batch 800\n",
      "On batch 850\n",
      "On batch 900\n",
      "On batch 950\n",
      "On batch 1000\n",
      "On batch 1050\n",
      "Ending epoch 2: Average loss 0.0402796\n"
     ]
    },
    {
     "ename": "IndexError",
     "evalue": "list index out of range",
     "output_type": "error",
     "traceback": [
      "\u001b[0;31m---------------------------------------------------------------------------\u001b[0m",
      "\u001b[0;31mIndexError\u001b[0m                                Traceback (most recent call last)",
      "\u001b[0;32m<ipython-input-21-96a60823166b>\u001b[0m in \u001b[0;36m<module>\u001b[0;34m()\u001b[0m\n\u001b[0;32m----> 1\u001b[0;31m \u001b[0mtg\u001b[0m\u001b[0;34m.\u001b[0m\u001b[0mfit\u001b[0m\u001b[0;34m(\u001b[0m\u001b[0mtrain\u001b[0m\u001b[0;34m,\u001b[0m \u001b[0mnb_epoch\u001b[0m\u001b[0;34m=\u001b[0m\u001b[0;36m3\u001b[0m\u001b[0;34m)\u001b[0m\u001b[0;34m\u001b[0m\u001b[0m\n\u001b[0m\u001b[1;32m      2\u001b[0m \u001b[0mtg\u001b[0m\u001b[0;34m.\u001b[0m\u001b[0msave\u001b[0m\u001b[0;34m(\u001b[0m\u001b[0;34m)\u001b[0m\u001b[0;34m\u001b[0m\u001b[0m\n",
      "\u001b[0;32m/Users/leswing/Documents/schrodinger/deepchem/deepchem/models/tensorgraph/tensor_graph.py\u001b[0m in \u001b[0;36mfit\u001b[0;34m(self, dataset, nb_epoch, max_checkpoints_to_keep, log_every_N_batches, batch_size, checkpoint_interval)\u001b[0m\n\u001b[1;32m     97\u001b[0m           \u001b[0mavg_loss\u001b[0m \u001b[0;34m=\u001b[0m \u001b[0mfloat\u001b[0m\u001b[0;34m(\u001b[0m\u001b[0mavg_loss\u001b[0m\u001b[0;34m)\u001b[0m \u001b[0;34m/\u001b[0m \u001b[0mn_batches\u001b[0m\u001b[0;34m\u001b[0m\u001b[0m\n\u001b[1;32m     98\u001b[0m           \u001b[0mprint\u001b[0m\u001b[0;34m(\u001b[0m\u001b[0;34m'Ending epoch %d: Average loss %g'\u001b[0m \u001b[0;34m%\u001b[0m \u001b[0;34m(\u001b[0m\u001b[0mself\u001b[0m\u001b[0;34m.\u001b[0m\u001b[0mepoch\u001b[0m\u001b[0;34m,\u001b[0m \u001b[0mavg_loss\u001b[0m\u001b[0;34m)\u001b[0m\u001b[0;34m)\u001b[0m\u001b[0;34m\u001b[0m\u001b[0m\n\u001b[0;32m---> 99\u001b[0;31m         \u001b[0mself\u001b[0m\u001b[0;34m.\u001b[0m\u001b[0mlast_checkpoint\u001b[0m \u001b[0;34m=\u001b[0m \u001b[0msaver\u001b[0m\u001b[0;34m.\u001b[0m\u001b[0mlast_checkpoints\u001b[0m\u001b[0;34m[\u001b[0m\u001b[0;34m-\u001b[0m\u001b[0;36m1\u001b[0m\u001b[0;34m]\u001b[0m\u001b[0;34m\u001b[0m\u001b[0m\n\u001b[0m\u001b[1;32m    100\u001b[0m       \u001b[0;31m############################################################## TIMING\u001b[0m\u001b[0;34m\u001b[0m\u001b[0;34m\u001b[0m\u001b[0m\n\u001b[1;32m    101\u001b[0m       \u001b[0mtime2\u001b[0m \u001b[0;34m=\u001b[0m \u001b[0mtime\u001b[0m\u001b[0;34m.\u001b[0m\u001b[0mtime\u001b[0m\u001b[0;34m(\u001b[0m\u001b[0;34m)\u001b[0m\u001b[0;34m\u001b[0m\u001b[0m\n",
      "\u001b[0;31mIndexError\u001b[0m: list index out of range"
     ]
    }
   ],
   "source": [
    "tg.fit(train, nb_epoch=3)\n",
    "tg.save()"
   ]
  },
  {
   "cell_type": "code",
   "execution_count": null,
   "metadata": {
    "collapsed": false,
    "deletable": true,
    "editable": true
   },
   "outputs": [],
   "source": [
    "from sklearn.metrics import roc_auc_score\n",
    "import numpy as np\n",
    "def get_auc(model, dataset):\n",
    "    prediction = tg.predict_on_batch(dataset.X)\n",
    "    prediction = np.sqeeze(prediction)\n",
    "    return roc_auc_score(dataset.y, prediction)\n",
    "print(get_auc(tg, train))\n",
    "print(get_auc(tg, valid))"
   ]
  },
  {
   "cell_type": "code",
   "execution_count": null,
   "metadata": {
    "collapsed": true
   },
   "outputs": [],
   "source": [
    "print model.last_checkpoint"
   ]
  },
  {
   "cell_type": "code",
   "execution_count": null,
   "metadata": {
    "collapsed": true
   },
   "outputs": [],
   "source": []
  }
 ],
 "metadata": {
  "kernelspec": {
   "display_name": "Python 3",
   "language": "python",
   "name": "python3"
  },
  "language_info": {
   "codemirror_mode": {
    "name": "ipython",
    "version": 3
   },
   "file_extension": ".py",
   "mimetype": "text/x-python",
   "name": "python",
   "nbconvert_exporter": "python",
   "pygments_lexer": "ipython3",
   "version": "3.5.3"
  }
 },
 "nbformat": 4,
 "nbformat_minor": 2
}
