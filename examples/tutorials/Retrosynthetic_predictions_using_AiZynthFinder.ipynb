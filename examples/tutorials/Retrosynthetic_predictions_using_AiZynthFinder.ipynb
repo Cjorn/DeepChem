{
  "cells": [
    {
      "cell_type": "markdown",
      "metadata": {},
      "source": [
        "[![Open In Colab](https://colab.research.google.com/assets/colab-badge.svg)](https://colab.research.google.com/drive/1g9mzGYElAY-Ziya9vbV9VLUXdcKm26Pe#scrollTo=Sx9PzYSP4yoy)"
      ]
    },
    {
      "cell_type": "markdown",
      "metadata": {
        "id": "1UEVt8Gi9ETy"
      },
      "source": [
        "# Introduction\n",
        "AiZynthFinder is an open-source synthesis planning software.\n",
        "It uses a template-based approach, using an Monte Carlo Tree Search (MCTS) algorithm to search for candidate precursors and then filtering them out using a Neural policy network to predict promising synthetic routes for a starting molecule.\n",
        "This tutorial will contain a brief introduction to retrosynthesis and a guide on using AiZynthFinder to set up batch screenings.\n",
        "\n",
        "# What is Retrosynthesis?\n",
        "Retrosynthesis is the stepwise deconstruction of a chemical molecule into its commercially available precursors. It is a vital aspect of synthetic chemistry, and it allows chemists to build their molecules and maximize the yield efficiently. To perform retrosynthesis of a molecule, a chemist uses a set of guiding principles and an exhaustive knowledge of chemical reactions to pick a suitable transformation that breaks down the molecule. Choosing the correct conversion to break down the molecule requires understanding various reaction constraints like chemical validity, yield, and practical feasibility.\n",
        "\n",
        "\n",
        "<figure>\n",
        "<p align=\"center\">\n",
        "  <img src= \"https://chembam.files.wordpress.com/2020/05/asp-1.png\" />\n",
        "</p>\n",
        "</figure>\n",
        "<h1 align=\"center\"> A Single step Retrosynthesis</h1>\n",
        "\n",
        "\n",
        "\n",
        "The above figure demonstrates how a starting molecule on the left (Aspirin) is\n",
        "broken down into its synthons i.e molecules (2) and (3). The synthons are just hypothetical molecules which are created to show the electron transfer on breaking a bond. Since Oxygen is more electronegative than Carbon, it ends up with the negative charge and a forward reaction would involve a nucleophilic attack (electron transfer) by the oxygen atom on the carbon in the carbonyl group. From the synthons, appropriate synthetic equivalents (precursors) are constructed i.e molecules (4): phenolic acid and (5): methyl anhydride\n",
        "\n",
        "Automating a complex decision-making process such as retrosynthesis is a challenging computational problem. Many AI-driven approaches to the problem exist and have been categorized broadly as template-free or template-based methods.\n",
        "\n",
        "# How does AiZynthFinder work? \n",
        "AiZynthFinder uses the MCTS procedure to search for promising synthetic pathways. It uses templates to represent a disconnection.\n",
        "MCTS is a 4 stage iterative algorithm typically employed in sequential decision making problems, and a brief explanation of the stages in context of retrosynthesis is provided below.\n",
        "\n",
        "\n",
        "## What are templates anyway?\n",
        "Templates are atom-mapped sequences that serve as a pattern for the model to recognize and incorporate into the molecule. Once the template is applied to the molecule, it gets broken down into its corresponding synthetic equivalents, which translates to one step of breaking down the target molecule. The model has to repeat this process on these synthetic equivalents to break them further down until a suitable precursor from the stocks is obtained. Choosing which template to apply at each stage is non-trivial, and this decision is taken by a Neural Network that ranks the templates for consideration in a search.\n",
        "\n",
        "\n",
        "<figure>\n",
        "<p align=\"center\">\n",
        "  <img src=\"https://drive.google.com/uc?id=1gabKWwSa4AUxzzProYatkymvjelGiOsA\" />\n",
        "</p>\n",
        "</figure>\n",
        "<h1 align=\"center\"> An example template</h1>\n",
        "\n",
        "<figure>\n",
        "<p align=\"center\">\n",
        "  <img src=\"https://drive.google.com/uc?id=171GLP8olQnUeNo3g3bFGq5zrJEldtv8A\" />\n",
        "  \n",
        "</p>\n",
        "</figure>\n",
        "<h1 align=\"center\"> Template applied to an example reaction</h1>\n",
        "\n",
        "Here we see that the template serves as the rule for performing a disconnection at a Nitrogen atom next to a carbonyl group. The reaction shown in the above figure matches this template(N11 of the molecule is N4 in the template), and hence the C1 - N11 bond is disconnected, leaving us with the two synthetic equivalents.\n",
        "\n",
        "# Monte Carlo Tree Search Algorithm\n",
        "\n",
        "Dishing out the complete retrosynthesis of a molecule is a decision-making problem. In each step, the decision of which bond to disconnect in the target molecule is taken. A successful retrosynthesis of a molecule requires optimal choices for each intermediate molecule formed.\n",
        "\n",
        "A common way to obtain solutions to a decision-making problem is the Monte Carlo Tree Search algorithm (MCTS). The retrosynthesis for a  molecule is “solved” if the search algorithm can fully/partially decompose the molecule into candidates. Candidate molecules are usually commercially available precursors, and a set of possible candidates exist in a stock database. The default stock provided by AiZynthFinder is the Zinc database; this can be changed to a custom database using the configuration file.\n",
        "\n",
        "<figure>\n",
        "<p align=\"center\">\n",
        "  <img src=\"https://drive.google.com/uc?id=1bya2qbxTsQj6Hp7vFnyODIJ7hiyfL6Xl\" />\n",
        "</p>\n",
        "</figure>\n",
        "<h1 align=\"center\"> MCTS Stages Ref:[2]</h1>\n",
        "\n",
        "\n",
        "\n",
        "\n",
        "\n",
        "\n",
        "MCTS operates in a 4 stage iterative procedure, namely the Selection, Expansion, Rollout, and Backpropagation stages. To recast retrosynthesis as a tree search problem, we build a tree rooted at the starting molecule. Each child node represents a set of either precursors or intermediate molecules that get broken down. In the first iteration, the root node is expanded into child nodes by applying templates recommended by the template policy network and are rolled out. A rollout is executed to estimate how beneficial it is to continue breaking down the molecule with the applied template. The templates recommended by the expansion network may not represent reactions practically “in-scope.” Hence, an additional filter network is often used to predict the most likely transformations.\n",
        "\n",
        "\n",
        "<figure>\n",
        "<p align=\"center\">\n",
        "  <img src=\"https://drive.google.com/uc?id=1cPlQicADzg0Uy5tIdIt-KrjbfHSlQNRz\" />\n",
        "</p>\n",
        "</figure>\n",
        "<h1 align=\"center\"> Template recommender. Ref:[1]</h1>\n",
        "\n",
        "\n",
        " In successive iterations, the tree is traversed using the Upper Confidence Bound (UCB) statistics to select the most promising leaf node, which is expanded further if it's non-terminal. If the leaf node is terminal, the search stops, and the score of the leaf node is backpropagated along the traversed path. The backpropagation step updates the statistics of the search tree, propagating the score of the leaf node up the tree. Each root to terminal leaf path represents a successful retrosynthetic route, and one can think of the edges connecting the nodes as the reactions which build up the molecule from its precursors. Different models can be used for the Expansion, Filter, and Rollout policy networks (3N MCTS). AiZynthFinder uses the same model for the exapansion and rollout and uses an additional filter policy, and hence it is a 2N MCTS, which benefits from quicker inferences.\n",
        " \n",
        "<figure>\n",
        "<p align=\"center\">\n",
        "  <img src=\"https://drive.google.com/uc?id=1vi6dqlDEDy9znw3jlfybiSJ10rZYMoap\" />\n",
        "</p>\n",
        "</figure>\n",
        "<h1 align=\"center\"> Example Architecture used for the policy networks</h1>\n",
        "\n"
      ]
    },
    {
      "cell_type": "markdown",
      "metadata": {
        "id": "QswrUkCmut-B"
      },
      "source": [
        "# Setting up AiZynthFinder\n",
        "Run the code below to setup the GUI for the app. Enter the SMILES for the molecule and select the number of iterations to run the search algorithm for.\n",
        "We shall pick Cimetidine (SMILES: CC1=C(N=CN1)CSCCNC(=NC)NC#N) a drug for peptic ulcer treatment."
      ]
    },
    {
      "cell_type": "markdown",
      "metadata": {
        "id": "CeJPsR8Po3IH"
      },
      "source": [
        "## Installation\n",
        "We shall install the current latest release of the package (v3.4.0) from GitHub.\n",
        "Note the Pillow version has to be locked to 9.0 as the existing installation on colab does not support the GUI interface. This requires restarting the runtime on colab when prompted.\n",
        "We shall also use the provided model data and default stocks for the configuration file from the repo.\n",
        "\n"
      ]
    },
    {
      "cell_type": "code",
      "execution_count": null,
      "metadata": {
        "colab": {
          "base_uri": "https://localhost:8080/",
          "height": 1000
        },
        "id": "aPgz7wccok9G",
        "outputId": "6e5ac97c-05bb-48e9-d80b-9c623e82106f"
      },
      "outputs": [
        {
          "name": "stdout",
          "output_type": "stream",
          "text": [
            "\u001b[?25l\r\u001b[K     - 10 kB 25.4 MB/s\r\u001b[K     \\ 16 kB 1.2 MB/s\r\u001b[K     | 26 kB 1.7 MB/s\r\u001b[K     / 36 kB 2.3 MB/s\r\u001b[K     - 47 kB 1.7 MB/s\r\u001b[K     \\ 49 kB 2.0 MB/s\r\u001b[K     | 53 kB 2.3 MB/s\r\u001b[K     / 63 kB 2.6 MB/s\r\u001b[K     - 65 kB 2.9 MB/s\r\u001b[K     \\ 75 kB 3.2 MB/s\r\u001b[K     | 81 kB 3.2 MB/s\r\u001b[K     / 92 kB 3.2 MB/s\r\u001b[K     - 98 kB 3.2 MB/s\r\u001b[K     \\ 108 kB 3.2 MB/s\r\u001b[K     | 114 kB 3.2 MB/s\r\u001b[K     / 124 kB 3.2 MB/s\r\u001b[K     - 135 kB 3.2 MB/s\r\u001b[K     \\ 139 kB 3.2 MB/s\r\u001b[K     | 149 kB 3.2 MB/s\r\u001b[K     / 159 kB 3.2 MB/s\r\u001b[K     - 169 kB 3.2 MB/s\r\u001b[K     \\ 180 kB 3.2 MB/s\r\u001b[K     | 190 kB 3.2 MB/s\r\u001b[K     / 196 kB 3.2 MB/s\r\u001b[K     - 206 kB 3.2 MB/s\r\u001b[K     \\ 217 kB 3.2 MB/s\r\u001b[K     | 227 kB 3.2 MB/s\r\u001b[K     / 237 kB 3.2 MB/s\r\u001b[K     - 247 kB 3.2 MB/s\r\u001b[K     \\ 258 kB 3.2 MB/s\r\u001b[K     | 262 kB 3.2 MB/s\r\u001b[K     / 272 kB 3.2 MB/s\r\u001b[K     - 282 kB 3.2 MB/s\r\u001b[K     \\ 292 kB 3.2 MB/s\r\u001b[K     | 303 kB 3.2 MB/s\r\u001b[K     / 313 kB 3.2 MB/s\r\u001b[K     - 323 kB 3.2 MB/s\r\u001b[K     \\ 327 kB 3.2 MB/s\r\u001b[K     | 337 kB 3.2 MB/s\r\u001b[K     / 347 kB 3.2 MB/s\r\u001b[K     - 358 kB 3.2 MB/s\r\u001b[K     \\ 368 kB 3.2 MB/s\r\u001b[K     | 378 kB 3.2 MB/s\r\u001b[K     / 388 kB 3.2 MB/s\r\u001b[K     - 392 kB 3.2 MB/s\r\u001b[K     \\ 403 kB 3.2 MB/s\r\u001b[K     | 413 kB 3.2 MB/s\r\u001b[K     / 423 kB 3.2 MB/s\r\u001b[K     - 425 kB 3.2 MB/s\r\u001b[K     \\ 436 kB 3.2 MB/s\r\u001b[K     | 446 kB 3.2 MB/s\r\u001b[K     / 456 kB 3.2 MB/s\r\u001b[K     - 458 kB 3.2 MB/s\r\u001b[K     \\ 468 kB 3.2 MB/s\r\u001b[K     | 478 kB 3.2 MB/s\r\u001b[K     / 489 kB 3.2 MB/s\r\u001b[K     - 499 kB 3.2 MB/s\r\u001b[K     \\ 509 kB 3.2 MB/s\r\u001b[K     | 519 kB 3.2 MB/s\r\u001b[K     / 523 kB 3.2 MB/s\r\u001b[K     - 534 kB 3.2 MB/s\r\u001b[K     \\ 544 kB 3.2 MB/s\r\u001b[K     | 554 kB 3.2 MB/s\r\u001b[K     / 564 kB 3.2 MB/s\r\u001b[K     - 575 kB 3.2 MB/s\r\u001b[K     \\ 585 kB 3.2 MB/s\r\u001b[K     | 589 kB 3.2 MB/s\r\u001b[K     / 589 kB 3.2 MB/s\r\u001b[K     - 593 kB 3.2 MB/s\r\u001b[K     \\ 604 kB 3.2 MB/s\r\u001b[K     | 606 kB 3.2 MB/s\r\u001b[K     / 616 kB 3.2 MB/s\r\u001b[K     - 622 kB 3.2 MB/s\r\u001b[K     \\ 632 kB 3.2 MB/s\r\u001b[K     | 638 kB 3.2 MB/s\r\u001b[K     / 649 kB 3.2 MB/s\r\u001b[K     - 655 kB 3.2 MB/s\r\u001b[K     \\ 665 kB 3.2 MB/s\r\u001b[K     | 671 kB 3.2 MB/s\r\u001b[K     / 681 kB 3.2 MB/s\r\u001b[K     - 688 kB 3.2 MB/s\r\u001b[K     \\ 698 kB 3.2 MB/s\r\u001b[K     | 708 kB 3.2 MB/s\r\u001b[K     / 716 kB 3.2 MB/s\n",
            "\u001b[?25h  Installing build dependencies ... \u001b[?25l\u001b[?25hdone\n",
            "  Getting requirements to build wheel ... \u001b[?25l\u001b[?25hdone\n",
            "    Preparing wheel metadata ... \u001b[?25l\u001b[?25hdone\n",
            "\u001b[K     \\ 135 kB 4.0 MB/s\n",
            "\u001b[?25h  Installing build dependencies ... \u001b[?25l\u001b[?25hdone\n",
            "  Getting requirements to build wheel ... \u001b[?25l\u001b[?25hdone\n",
            "    Preparing wheel metadata ... \u001b[?25l\u001b[?25hdone\n",
            "\u001b[K     |████████████████████████████████| 133 kB 8.2 MB/s \n",
            "\u001b[K     |████████████████████████████████| 297 kB 52.8 MB/s \n",
            "\u001b[K     |████████████████████████████████| 508 kB 31.5 MB/s \n",
            "\u001b[K     |████████████████████████████████| 3.1 MB 56.8 MB/s \n",
            "\u001b[K     |████████████████████████████████| 40 kB 4.6 MB/s \n",
            "\u001b[K     |████████████████████████████████| 308 kB 55.2 MB/s \n",
            "\u001b[K     |████████████████████████████████| 585 kB 60.4 MB/s \n",
            "\u001b[K     |████████████████████████████████| 43 kB 1.7 MB/s \n",
            "\u001b[K     |████████████████████████████████| 84 kB 3.3 MB/s \n",
            "\u001b[K     |████████████████████████████████| 209 kB 37.7 MB/s \n",
            "\u001b[K     |████████████████████████████████| 81 kB 8.3 MB/s \n",
            "\u001b[K     |████████████████████████████████| 596 kB 64.8 MB/s \n",
            "\u001b[K     |████████████████████████████████| 140 kB 49.6 MB/s \n",
            "\u001b[K     |████████████████████████████████| 419 kB 44.0 MB/s \n",
            "\u001b[K     |████████████████████████████████| 1.1 MB 15.9 MB/s \n",
            "\u001b[K     |████████████████████████████████| 511.7 MB 6.1 kB/s \n",
            "\u001b[K     |████████████████████████████████| 511.7 MB 4.7 kB/s \n",
            "\u001b[K     |████████████████████████████████| 271 kB 57.5 MB/s \n",
            "\u001b[K     |████████████████████████████████| 144 kB 72.0 MB/s \n",
            "\u001b[K     |████████████████████████████████| 94 kB 3.0 MB/s \n",
            "\u001b[K     |████████████████████████████████| 78 kB 6.2 MB/s \n",
            "\u001b[K     |████████████████████████████████| 49 kB 4.0 MB/s \n",
            "\u001b[K     |████████████████████████████████| 112 kB 71.6 MB/s \n",
            "\u001b[K     |████████████████████████████████| 146 kB 73.7 MB/s \n",
            "\u001b[?25h  Building wheel for aizynthfinder (PEP 517) ... \u001b[?25l\u001b[?25hdone\n",
            "  Building wheel for route-distances (PEP 517) ... \u001b[?25l\u001b[?25hdone\n",
            "  Building wheel for timeout-decorator (setup.py) ... \u001b[?25l\u001b[?25hdone\n",
            "  Building wheel for pyperclip (setup.py) ... \u001b[?25l\u001b[?25hdone\n",
            "\u001b[31mERROR: pip's dependency resolver does not currently take into account all the packages that are installed. This behaviour is the source of the following dependency conflicts.\n",
            "flask 1.1.4 requires Jinja2<3.0,>=2.10.1, but you have jinja2 3.1.2 which is incompatible.\n",
            "datascience 0.10.6 requires folium==0.2.1, but you have folium 0.8.3 which is incompatible.\n",
            "albumentations 0.1.12 requires imgaug<0.2.7,>=0.2.5, but you have imgaug 0.2.9 which is incompatible.\u001b[0m\n",
            "Looking in indexes: https://pypi.org/simple, https://us-python.pkg.dev/colab-wheels/public/simple/\n",
            "Collecting Pillow==9.0.0\n",
            "  Downloading Pillow-9.0.0-cp37-cp37m-manylinux_2_17_x86_64.manylinux2014_x86_64.whl (4.3 MB)\n",
            "\u001b[K     |████████████████████████████████| 4.3 MB 5.0 MB/s \n",
            "\u001b[?25hInstalling collected packages: Pillow\n",
            "\u001b[31mERROR: pip's dependency resolver does not currently take into account all the packages that are installed. This behaviour is the source of the following dependency conflicts.\n",
            "albumentations 0.1.12 requires imgaug<0.2.7,>=0.2.5, but you have imgaug 0.2.9 which is incompatible.\u001b[0m\n",
            "Successfully installed Pillow-9.1.1\n"
          ]
        },
        {
          "data": {
            "application/vnd.colab-display-data+json": {
              "pip_warning": {
                "packages": [
                  "PIL"
                ]
              }
            }
          },
          "metadata": {},
          "output_type": "display_data"
        },
        {
          "name": "stdout",
          "output_type": "stream",
          "text": [
            "uspto_model.hdf5: 100% 300M/300M [00:12<00:00, 24.0MB/s]\n",
            "uspto_templates.hdf5: 100% 44.6M/44.6M [00:02<00:00, 17.7MB/s]\n",
            "zinc_stock.hdf5: 100% 663M/663M [00:24<00:00, 26.6MB/s]\n",
            "uspto_filter_model.hdf5: 100% 50.4M/50.4M [00:02<00:00, 18.5MB/s]\n",
            "Configuration file written to config.yml\n"
          ]
        }
      ],
      "source": [
        "!curl --location --silent bit.ly/rdkit-colab | tar xz -C /\n",
        "!pip install --quiet graphviz\n",
        "!pip install --quiet https://github.com/MolecularAI/aizynthfinder/archive/refs/tags/v3.4.0.tar.gz\n",
        "!pip install --ignore-installed Pillow==9.0.0\n",
        "!mkdir --parents data && download_public_data data"
      ]
    },
    {
      "cell_type": "code",
      "execution_count": null,
      "metadata": {
        "colab": {
          "base_uri": "https://localhost:8080/",
          "height": 1000,
          "referenced_widgets": [
            "ce6358c88c4849dbbe58155d81565c61",
            "32be60b29f1943c5a0fffc8c696b8213",
            "52db9edd73044f8685db3c5afa7b9f86",
            "2459011f783e4e2fa5dd3a3353d10aa1",
            "8e3d5d7996884d1592409f721134ddf8",
            "aff77e78c08d4acebd767d357b0fc2b5",
            "1e76c4e1989340e288b7df283c8d05db",
            "dcaabdc5714e477db637b64603ba8d45",
            "e70e778236214b0098b88434e3581a29",
            "c02fe99381364fa688347166023d65a6",
            "bc8ae9324c774615aea68b523cde2d76",
            "40c9686a79024a5d8428f5435b23310c",
            "6a353c853364497c97ac16d437ad8033",
            "ce2aa8e40dd04b4e860df222f861364f",
            "25e5588b1ffe47a79beeb51e072b2acd",
            "31c47811e4304a76be36a77f1540a05d",
            "ac6d0cb3ef5149e1b8c8ad598a269cb9",
            "864b8f368a6f4a04b5f819698d95caa1",
            "b0b46ae2534742b69bc3643297be7647",
            "67ac0b90435c4b9bbc251d311a7e8e81",
            "e39d2d5d3c9249a090605d7a3a4b23a8",
            "7c8c9163f6014525b4112f7e0f8c1dfd",
            "9f89523c9728433297c69e69f78cf3d7",
            "3e7b9056212746f39bafe22e3a753520",
            "08de0b13996c41989218deaa67f6c871",
            "667a2cee99b14d1a83c62588b4925177",
            "f05535bcb8454af5b5e402993e2d3150",
            "6adb610601564946a8ea0f53ff677b1f",
            "041a682a258b4c0c81767c1accd864e8",
            "dc1fe5e76cda487fa510ffa7440a0982",
            "0b38088cb69543289345aa317ee3c586",
            "da0e7e998308443987eb79dcf2558877",
            "4f46b330bbf64ec38b92cb5d4655c470",
            "39f60aa2d28f4d08a96d55ca1605ef8b",
            "9cefbd6141d44b2d83d4830e3f8c4907",
            "f9e53becd5644afe949cc925eb54e277",
            "413033fcf0c94503b6a18403e943b1bf",
            "42f61f32c6084f3e947ffe792b38d78d",
            "f29b68052e20431f9a913aa1cb5a3402",
            "79a8b174d93c447bb7690d88060ee06f",
            "d9596e3991b84784928972cf5111f042",
            "a0e33d040c5d4e4eb772e7a3b9e022c2",
            "c62b9083775642659d815ea0470bbf72",
            "c26bdd145ce74bccaffac6b8678f00c1",
            "665ee8ec5db340e58ae7c0eca62ab915",
            "ea61542e42814b9ca6eef5ff72ca4ad6",
            "8f73197d4cb743fe899d0e91525be067",
            "823fe2fad0c2400b9de60750198a3dcd",
            "979e41a3e1c346b0b8accd9ef14c5991",
            "0357fca9d2054855bda05290b1aae90c",
            "7db60cb3b3654f368ae0bcd7dec731a5",
            "0407f85a453b4077a91d79b1e2c9d1f7",
            "71173e4933e34b4c9d4409d338b643cf",
            "a03a16ccbab642c5b9a05c66a9eedea5",
            "a5d06ef836a3401a8959701cea59f3cd",
            "d29598a188c74302af89790f4b4afe7e",
            "bd9c19a6543d4f03897e27ba9939a5be",
            "bf9cbedb063f4964ae619ba90dcb9230",
            "0a2eba3b1fcb4b459e8c486b711dbdc6",
            "4cc53c5c71d440d5b4dde294d06c6b6f",
            "77c84cb5486342fbae50b582e4eb5e8a",
            "8279b3e3d65d4f47826cb930e20b7f86",
            "603e2375d9564ff799c62979bcf72e1a",
            "17c6c1009c484f88967b514ce34c2f94",
            "0eedd05762fb40bc986986a6948a2dfa",
            "4add73cd4d2746afb9af23f9bfebc90b",
            "ebdd071b31f34dc5b88b4862166d4e67",
            "67ef76c0903241628146ad670bb1ad1a",
            "d0111f7df47f4906bbe8d6608320f425",
            "bb2fb99e9a1d40f085bb096d26588d61",
            "0a9beaf387884c10b3659ebabc045154",
            "9d0c057a2447441cbe29bfda28d23d39",
            "edb2a69673ef478d941799ef85cf865f",
            "a9c1aa8b8ff647cd9ecdbd5d26f8eb46",
            "1e37d271f7014412a13e9a94a4492589",
            "1040a40bfd364b0781448fe61f48b8f6",
            "6e5d7bde063446ff921b5b0054b92ebe",
            "765fb8b065fc4df681874d2ac2041a92",
            "36dbc09a28854702aa98b17c5d0d620b",
            "d4b161947f1f4816aa097530ad4e2908",
            "26d2c4b5079440c4b2ce0db428768108",
            "4fdcabca90fe491f9ff5fb4e2af981bd",
            "69a9286ab5a8467ea542f294d740db7a",
            "8c16acb59d034a31a4c5df1baf38509d",
            "533ac4043d7a48039e93db40936c74bb",
            "b270d933ab2c4d589698bae1c1ba7c71",
            "155338743e46423ab521bbb30633c854",
            "e5ae71ce98294e32858499773fb92e06",
            "4d4e6a8ed5ba4ac1a6119736f105cadb",
            "8a6dc82e97774833a602b2c7bfef8614",
            "f3616da59d4240fd8cffc0207d93af8e",
            "0fa59a3ffc3f434293fe86b2943acfd0",
            "775536aa6de84fdb9cd106505662e829",
            "19b064207ebc480582e73465c972a76f",
            "1fe9148e2f1d43d899b1b04d717b74c7",
            "394e10c4287648278af011304f179e00",
            "6335c266090f4928bf493070ed067d2f",
            "f231887ef5f346c6940817ca742e99e2",
            "e4d030f1dcc44524a945cfe43bd0c179",
            "db5b77a161cb4ab5be30fcaa4f14a433",
            "d795fd26589d44068a9ee699b5547f60",
            "f5db4912d910414ab09876b58f6cf4f2",
            "3734c8dd86294800aad4d084b42dd31d",
            "b063142a84414b9a94692af343cc1f43",
            "ff8a55257ec549598dca372e2e5cc81b",
            "2e8fe639c0aa4f63b3c0a4a434174363",
            "659563996903475aa2c7dd715dc49db3",
            "4135a204cafe42edbbc12441c5bf86c3",
            "2fda09b53b4f49d795c669fb328eb7a0",
            "33a2f529642e44149069c19de61b2721",
            "339dd933251f482a8fc94fb07dc5ad8a",
            "c04d6c02d19b45109d6474e3a882a3a6",
            "ade23c7f27af4de487ef07312b2792f6",
            "25151ebb8f8b424296bc0ce9e6622b18",
            "385fdb76d4044423b1fa40001acc6dda",
            "84836f3ea6cd4d4aab2ecb54cf32a825",
            "051a8ed9e2134480ae314303d4e4aaaf",
            "7074285daa9d4680ae26a14ffcc2ca8a",
            "b0cf3b8b84b9427e8ad45e1f1e7870d0",
            "d04014885c5d4e6cb87bd697e4f905ba"
          ]
        },
        "id": "FZIkSOxWv2Pm",
        "outputId": "f14c21ba-f947-42d2-e7da-82b89bd72d96"
      },
      "outputs": [
        {
          "name": "stdout",
          "output_type": "stream",
          "text": [
            "Loading template-based expansion policy model from /content/data/uspto_model.hdf5 to uspto\n",
            "Loading templates from /content/data/uspto_templates.hdf5 to uspto\n",
            "Loading filter policy model from /content/data/uspto_filter_model.hdf5 to uspto\n",
            "Loading stock from /content/data/zinc_stock.hdf5 to zinc\n",
            "Selected as molecule cost: zero\n"
          ]
        },
        {
          "data": {
            "application/vnd.jupyter.widget-view+json": {
              "model_id": "ce6358c88c4849dbbe58155d81565c61",
              "version_major": 2,
              "version_minor": 0
            },
            "text/plain": [
              "Text(value='', continuous_update=False, description='SMILES')"
            ]
          },
          "metadata": {},
          "output_type": "display_data"
        },
        {
          "data": {
            "application/vnd.jupyter.widget-view+json": {
              "model_id": "2459011f783e4e2fa5dd3a3353d10aa1",
              "version_major": 2,
              "version_minor": 0
            },
            "text/plain": [
              "Output(layout=Layout(border='1px solid silver', height='180px', width='50%'))"
            ]
          },
          "metadata": {},
          "output_type": "display_data"
        },
        {
          "data": {
            "application/vnd.jupyter.widget-view+json": {
              "model_id": "aff77e78c08d4acebd767d357b0fc2b5",
              "version_major": 2,
              "version_minor": 0
            },
            "text/plain": [
              "Tab(children=(HBox(children=(VBox(children=(Label(value='Stocks'), Checkbox(value=True, description='zinc', st…"
            ]
          },
          "metadata": {},
          "output_type": "display_data"
        },
        {
          "data": {
            "application/vnd.jupyter.widget-view+json": {
              "model_id": "f231887ef5f346c6940817ca742e99e2",
              "version_major": 2,
              "version_minor": 0
            },
            "text/plain": [
              "HBox(children=(Button(description='Run Search', style=ButtonStyle()), Button(description='Extend Search', styl…"
            ]
          },
          "metadata": {},
          "output_type": "display_data"
        },
        {
          "data": {
            "application/vnd.jupyter.widget-view+json": {
              "model_id": "2e8fe639c0aa4f63b3c0a4a434174363",
              "version_major": 2,
              "version_minor": 0
            },
            "text/plain": [
              "Output(layout=Layout(border='1px solid silver', height='320px', overflow='auto', width='99%'))"
            ]
          },
          "metadata": {},
          "output_type": "display_data"
        },
        {
          "data": {
            "application/vnd.jupyter.widget-view+json": {
              "model_id": "4135a204cafe42edbbc12441c5bf86c3",
              "version_major": 2,
              "version_minor": 0
            },
            "text/plain": [
              "HBox(children=(Button(description='Show Reactions', style=ButtonStyle()), Dropdown(description='Routes: ', opt…"
            ]
          },
          "metadata": {},
          "output_type": "display_data"
        },
        {
          "data": {
            "application/vnd.jupyter.widget-view+json": {
              "model_id": "b0cf3b8b84b9427e8ad45e1f1e7870d0",
              "version_major": 2,
              "version_minor": 0
            },
            "text/plain": [
              "Output(layout=Layout(border='1px solid silver', width='99%'))"
            ]
          },
          "metadata": {},
          "output_type": "display_data"
        }
      ],
      "source": [
        "#@title Start Graphical Interface {display-mode: \"form\"}\n",
        "\n",
        "from rdkit.Chem.Draw import IPythonConsole\n",
        "from aizynthfinder.interfaces import AiZynthApp\n",
        "application = AiZynthApp(\"./data/config.yml\")"
      ]
    },
    {
      "cell_type": "markdown",
      "metadata": {
        "id": "fAizOFNQ9PhN"
      },
      "source": [
        "# Using the Python interface\n",
        "This offers us a bit more flexibility and allows us to peek into the finer details of how the algorithms are implemented. As shown later in tutorial, it also offers a variety of built-in analysis helpers which can be used to extract more information about the routes and rank them with different scores.\n",
        "\n",
        "The finder object of the AiZynthFinder class is the public API to access the methods which are running under the hood. We shall repeatedly use this object to query/compute different aspects of our retrosynthesis.\n"
      ]
    },
    {
      "cell_type": "code",
      "execution_count": null,
      "metadata": {
        "id": "w9gPlRjJlfBR"
      },
      "outputs": [],
      "source": [
        "from aizynthfinder.aizynthfinder import AiZynthFinder\n",
        "filename = \"./data/config.yml\"\n",
        "finder = AiZynthFinder(configfile=filename)"
      ]
    },
    {
      "cell_type": "markdown",
      "metadata": {
        "id": "x8Q3AkuQ902E"
      },
      "source": [
        "We can specify the stock database and the models for our configuration file, the default keras model provided is chosen for now for both the filter and expansion policies.\n"
      ]
    },
    {
      "cell_type": "code",
      "execution_count": null,
      "metadata": {
        "id": "S2KG7mRIoDzs"
      },
      "outputs": [],
      "source": [
        "finder.stock.select(\"zinc\")\n",
        "finder.expansion_policy.select(\"uspto\")\n",
        "finder.filter_policy.select(\"uspto\")\n"
      ]
    },
    {
      "cell_type": "code",
      "execution_count": null,
      "metadata": {
        "colab": {
          "base_uri": "https://localhost:8080/"
        },
        "id": "Qes4AcB4oGvt",
        "outputId": "aae2ab69-4306-4f2b-ede7-e2100d66d77f"
      },
      "outputs": [
        {
          "name": "stderr",
          "output_type": "stream",
          "text": [
            "                                                "
          ]
        },
        {
          "name": "stdout",
          "output_type": "stream",
          "text": [
            "Search completed in:  125.128s\n"
          ]
        },
        {
          "name": "stderr",
          "output_type": "stream",
          "text": [
            "\r"
          ]
        }
      ],
      "source": [
        "finder.target_smiles = \"Cc1cccc(c1N(CC(=O)Nc2ccc(cc2)c3ncon3)C(=O)C4CCS(=O)(=O)CC4)C\"\n",
        "tsearch = finder.tree_search(show_progress=True)\n",
        "print(f\"Search completed in: {tsearch: 0.3f}s\")\n"
      ]
    },
    {
      "cell_type": "markdown",
      "metadata": {
        "id": "6Yh2a-hi1jTT"
      },
      "source": [
        "We can extract useful statistics from the completed tree search as follows: "
      ]
    },
    {
      "cell_type": "code",
      "execution_count": null,
      "metadata": {
        "colab": {
          "base_uri": "https://localhost:8080/"
        },
        "id": "MhpJmeLtofw7",
        "outputId": "adfaaf61-bb6b-48a3-8532-742a4864a99e"
      },
      "outputs": [
        {
          "data": {
            "text/plain": [
              "{'first_solution_iteration': 9,\n",
              " 'first_solution_time': 24.415492296218872,\n",
              " 'is_solved': True,\n",
              " 'max_children': 16,\n",
              " 'max_transforms': 7,\n",
              " 'number_of_nodes': 229,\n",
              " 'number_of_precursors': 3,\n",
              " 'number_of_precursors_in_stock': 3,\n",
              " 'number_of_routes': 47,\n",
              " 'number_of_solved_routes': 12,\n",
              " 'number_of_steps': 2,\n",
              " 'policy_used_counts': {'uspto': 228},\n",
              " 'precursors_availability': 'zinc;zinc;zinc',\n",
              " 'precursors_in_stock': 'O=C(O)C1CCS(=O)(=O)CC1, Cc1cccc(C)c1NCC(=O)O, Nc1ccc(-c2ncon2)cc1',\n",
              " 'precursors_not_in_stock': '',\n",
              " 'profiling': {'expansion_calls': 203, 'reactants_generations': 1958},\n",
              " 'search_time': 125.12764382362366,\n",
              " 'target': 'Cc1cccc(C)c1N(CC(=O)Nc1ccc(-c2ncon2)cc1)C(=O)C1CCS(=O)(=O)CC1',\n",
              " 'top_score': 0.994039853898894}"
            ]
          },
          "execution_count": 5,
          "metadata": {},
          "output_type": "execute_result"
        }
      ],
      "source": [
        "finder.build_routes()\n",
        "finder.extract_statistics()"
      ]
    },
    {
      "cell_type": "markdown",
      "metadata": {
        "id": "AGGw_qp0-z8C"
      },
      "source": [
        "AiZynthFinder also allows us to access the expansion and filter models directly using the AiZynthExpander class. This can be used to perform an expansion from a given molecule directly."
      ]
    },
    {
      "cell_type": "code",
      "execution_count": null,
      "metadata": {
        "id": "xTmfpEtQohIt"
      },
      "outputs": [],
      "source": [
        "from aizynthfinder.aizynthfinder import AiZynthExpander\n",
        "\n",
        "filename = \"./data/config.yml\"\n",
        "expander = AiZynthExpander(configfile=filename)\n",
        "expander.expansion_policy.select(\"uspto\")\n",
        "expander.filter_policy.select(\"uspto\")\n",
        "reactions = expander.do_expansion(\"Cc1cccc(c1N(CC(=O)Nc2ccc(cc2)c3ncon3)C(=O)C4CCS(=O)(=O)CC4)C\")\n",
        "\n"
      ]
    },
    {
      "cell_type": "markdown",
      "metadata": {
        "id": "uxbrSOpOtrBP"
      },
      "source": [
        "# Post processing tools\n",
        "\n",
        "The AiZynthFinder library also provides a number of useful helpers to process the tree search. It allows scoring the different routes using different heuristics and even permits one to extend and add a custom scoring method. It also provides a method to cluster the different routes from a collection based on recursive application of chemical similarity matching.\n"
      ]
    },
    {
      "cell_type": "markdown",
      "metadata": {
        "id": "7n44vx0MEN2P"
      },
      "source": [
        "Let us first look at the expansions obtained from the previous step. We can extract the reaction metadata and store it in a pandas dataframe for ease of usage. On displaying the first few suggestions from the expansion policy, we can see the different factors used for ranking such as the policy probability, feasibility. We can also look at the template applied for each reaction from the SMARTS string."
      ]
    },
    {
      "cell_type": "code",
      "execution_count": null,
      "metadata": {
        "colab": {
          "base_uri": "https://localhost:8080/",
          "height": 548
        },
        "id": "tcnSDJAUrB3a",
        "outputId": "20ee2bb6-f624-41d8-fde4-c6106bce207f"
      },
      "outputs": [
        {
          "data": {
            "text/html": [
              "\n",
              "  <div id=\"df-9f100236-80a7-4125-b52b-c797d31df914\">\n",
              "    <div class=\"colab-df-container\">\n",
              "      <div>\n",
              "<style scoped>\n",
              "    .dataframe tbody tr th:only-of-type {\n",
              "        vertical-align: middle;\n",
              "    }\n",
              "\n",
              "    .dataframe tbody tr th {\n",
              "        vertical-align: top;\n",
              "    }\n",
              "\n",
              "    .dataframe thead th {\n",
              "        text-align: right;\n",
              "    }\n",
              "</style>\n",
              "<table border=\"1\" class=\"dataframe\">\n",
              "  <thead>\n",
              "    <tr style=\"text-align: right;\">\n",
              "      <th></th>\n",
              "      <th>template_hash</th>\n",
              "      <th>classification</th>\n",
              "      <th>library_occurence</th>\n",
              "      <th>policy_probability</th>\n",
              "      <th>policy_probability_rank</th>\n",
              "      <th>policy_name</th>\n",
              "      <th>template_code</th>\n",
              "      <th>template</th>\n",
              "      <th>feasibility</th>\n",
              "      <th>expansion_rank</th>\n",
              "      <th>smarts</th>\n",
              "    </tr>\n",
              "  </thead>\n",
              "  <tbody>\n",
              "    <tr>\n",
              "      <th>0</th>\n",
              "      <td>993a80a34f6acdc22e1630fbdadc440460d93877c75dd1...</td>\n",
              "      <td>N-acylation to amide</td>\n",
              "      <td>2677</td>\n",
              "      <td>0.9015</td>\n",
              "      <td>0</td>\n",
              "      <td>uspto</td>\n",
              "      <td>28049</td>\n",
              "      <td>([C:2]-[C;H0;D3;+0:1](=[O;D1;H0:3])-[NH;D2;+0:...</td>\n",
              "      <td>0.995227</td>\n",
              "      <td>1</td>\n",
              "      <td>([C:2]-[C;H0;D3;+0:1](=[O;D1;H0:3])-[NH;D2;+0:...</td>\n",
              "    </tr>\n",
              "    <tr>\n",
              "      <th>1</th>\n",
              "      <td>3c2f9ebaf4afd5ac92b5ac7c3ff0ba51ecfcd4d148a3c3...</td>\n",
              "      <td>N-acylation to amide</td>\n",
              "      <td>1961</td>\n",
              "      <td>0.0250</td>\n",
              "      <td>2</td>\n",
              "      <td>uspto</td>\n",
              "      <td>10971</td>\n",
              "      <td>([C:2]-[C;H0;D3;+0:1](=[O;D1;H0:3])-[NH;D2;+0:...</td>\n",
              "      <td>0.999978</td>\n",
              "      <td>2</td>\n",
              "      <td>([C:2]-[C;H0;D3;+0:1](=[O;D1;H0:3])-[NH;D2;+0:...</td>\n",
              "    </tr>\n",
              "    <tr>\n",
              "      <th>2</th>\n",
              "      <td>f477a6f7ba6b7278f95a816f6daf14bd2b182a1174df7e...</td>\n",
              "      <td>Oxidations at sulfur</td>\n",
              "      <td>159</td>\n",
              "      <td>0.0091</td>\n",
              "      <td>3</td>\n",
              "      <td>uspto</td>\n",
              "      <td>44611</td>\n",
              "      <td>([C:2]-[S;H0;D4;+0:3](-[C:4])(=[O;H0;D1;+0:1])...</td>\n",
              "      <td>0.995792</td>\n",
              "      <td>3</td>\n",
              "      <td>([C:2]-[S;H0;D4;+0:3](-[C:4])(=[O;H0;D1;+0:1])...</td>\n",
              "    </tr>\n",
              "    <tr>\n",
              "      <th>3</th>\n",
              "      <td>7b09093072807311541947abe2dd3ac645654b47b71e1d...</td>\n",
              "      <td>Oxidations at sulfur</td>\n",
              "      <td>68</td>\n",
              "      <td>0.0025</td>\n",
              "      <td>4</td>\n",
              "      <td>uspto</td>\n",
              "      <td>22566</td>\n",
              "      <td>([C:1]-[S;H0;D4;+0:2](-[C:3])(=[O;H0;D1;+0])=[...</td>\n",
              "      <td>0.246933</td>\n",
              "      <td>4</td>\n",
              "      <td>([C:1]-[S;H0;D4;+0:2](-[C:3])(=[O;H0;D1;+0])=[...</td>\n",
              "    </tr>\n",
              "    <tr>\n",
              "      <th>4</th>\n",
              "      <td>0401a09c7a8e8335fc054a7cf7478da4eb776c8af14724...</td>\n",
              "      <td>Oxidations at sulfur</td>\n",
              "      <td>84</td>\n",
              "      <td>0.0021</td>\n",
              "      <td>5</td>\n",
              "      <td>uspto</td>\n",
              "      <td>755</td>\n",
              "      <td>([C:2]-[S;H0;D4;+0:3](-[C:4])(=[O;H0;D1;+0:1])...</td>\n",
              "      <td>0.253367</td>\n",
              "      <td>5</td>\n",
              "      <td>([C:2]-[S;H0;D4;+0:3](-[C:4])(=[O;H0;D1;+0:1])...</td>\n",
              "    </tr>\n",
              "  </tbody>\n",
              "</table>\n",
              "</div>\n",
              "      <button class=\"colab-df-convert\" onclick=\"convertToInteractive('df-9f100236-80a7-4125-b52b-c797d31df914')\"\n",
              "              title=\"Convert this dataframe to an interactive table.\"\n",
              "              style=\"display:none;\">\n",
              "        \n",
              "  <svg xmlns=\"http://www.w3.org/2000/svg\" height=\"24px\"viewBox=\"0 0 24 24\"\n",
              "       width=\"24px\">\n",
              "    <path d=\"M0 0h24v24H0V0z\" fill=\"none\"/>\n",
              "    <path d=\"M18.56 5.44l.94 2.06.94-2.06 2.06-.94-2.06-.94-.94-2.06-.94 2.06-2.06.94zm-11 1L8.5 8.5l.94-2.06 2.06-.94-2.06-.94L8.5 2.5l-.94 2.06-2.06.94zm10 10l.94 2.06.94-2.06 2.06-.94-2.06-.94-.94-2.06-.94 2.06-2.06.94z\"/><path d=\"M17.41 7.96l-1.37-1.37c-.4-.4-.92-.59-1.43-.59-.52 0-1.04.2-1.43.59L10.3 9.45l-7.72 7.72c-.78.78-.78 2.05 0 2.83L4 21.41c.39.39.9.59 1.41.59.51 0 1.02-.2 1.41-.59l7.78-7.78 2.81-2.81c.8-.78.8-2.07 0-2.86zM5.41 20L4 18.59l7.72-7.72 1.47 1.35L5.41 20z\"/>\n",
              "  </svg>\n",
              "      </button>\n",
              "      \n",
              "  <style>\n",
              "    .colab-df-container {\n",
              "      display:flex;\n",
              "      flex-wrap:wrap;\n",
              "      gap: 12px;\n",
              "    }\n",
              "\n",
              "    .colab-df-convert {\n",
              "      background-color: #E8F0FE;\n",
              "      border: none;\n",
              "      border-radius: 50%;\n",
              "      cursor: pointer;\n",
              "      display: none;\n",
              "      fill: #1967D2;\n",
              "      height: 32px;\n",
              "      padding: 0 0 0 0;\n",
              "      width: 32px;\n",
              "    }\n",
              "\n",
              "    .colab-df-convert:hover {\n",
              "      background-color: #E2EBFA;\n",
              "      box-shadow: 0px 1px 2px rgba(60, 64, 67, 0.3), 0px 1px 3px 1px rgba(60, 64, 67, 0.15);\n",
              "      fill: #174EA6;\n",
              "    }\n",
              "\n",
              "    [theme=dark] .colab-df-convert {\n",
              "      background-color: #3B4455;\n",
              "      fill: #D2E3FC;\n",
              "    }\n",
              "\n",
              "    [theme=dark] .colab-df-convert:hover {\n",
              "      background-color: #434B5C;\n",
              "      box-shadow: 0px 1px 3px 1px rgba(0, 0, 0, 0.15);\n",
              "      filter: drop-shadow(0px 1px 2px rgba(0, 0, 0, 0.3));\n",
              "      fill: #FFFFFF;\n",
              "    }\n",
              "  </style>\n",
              "\n",
              "      <script>\n",
              "        const buttonEl =\n",
              "          document.querySelector('#df-9f100236-80a7-4125-b52b-c797d31df914 button.colab-df-convert');\n",
              "        buttonEl.style.display =\n",
              "          google.colab.kernel.accessAllowed ? 'block' : 'none';\n",
              "\n",
              "        async function convertToInteractive(key) {\n",
              "          const element = document.querySelector('#df-9f100236-80a7-4125-b52b-c797d31df914');\n",
              "          const dataTable =\n",
              "            await google.colab.kernel.invokeFunction('convertToInteractive',\n",
              "                                                     [key], {});\n",
              "          if (!dataTable) return;\n",
              "\n",
              "          const docLinkHtml = 'Like what you see? Visit the ' +\n",
              "            '<a target=\"_blank\" href=https://colab.research.google.com/notebooks/data_table.ipynb>data table notebook</a>'\n",
              "            + ' to learn more about interactive tables.';\n",
              "          element.innerHTML = '';\n",
              "          dataTable['output_type'] = 'display_data';\n",
              "          await google.colab.output.renderOutput(dataTable, element);\n",
              "          const docLink = document.createElement('div');\n",
              "          docLink.innerHTML = docLinkHtml;\n",
              "          element.appendChild(docLink);\n",
              "        }\n",
              "      </script>\n",
              "    </div>\n",
              "  </div>\n",
              "  "
            ],
            "text/plain": [
              "                                       template_hash        classification  \\\n",
              "0  993a80a34f6acdc22e1630fbdadc440460d93877c75dd1...  N-acylation to amide   \n",
              "1  3c2f9ebaf4afd5ac92b5ac7c3ff0ba51ecfcd4d148a3c3...  N-acylation to amide   \n",
              "2  f477a6f7ba6b7278f95a816f6daf14bd2b182a1174df7e...  Oxidations at sulfur   \n",
              "3  7b09093072807311541947abe2dd3ac645654b47b71e1d...  Oxidations at sulfur   \n",
              "4  0401a09c7a8e8335fc054a7cf7478da4eb776c8af14724...  Oxidations at sulfur   \n",
              "\n",
              "   library_occurence  policy_probability  policy_probability_rank policy_name  \\\n",
              "0               2677              0.9015                        0       uspto   \n",
              "1               1961              0.0250                        2       uspto   \n",
              "2                159              0.0091                        3       uspto   \n",
              "3                 68              0.0025                        4       uspto   \n",
              "4                 84              0.0021                        5       uspto   \n",
              "\n",
              "   template_code                                           template  \\\n",
              "0          28049  ([C:2]-[C;H0;D3;+0:1](=[O;D1;H0:3])-[NH;D2;+0:...   \n",
              "1          10971  ([C:2]-[C;H0;D3;+0:1](=[O;D1;H0:3])-[NH;D2;+0:...   \n",
              "2          44611  ([C:2]-[S;H0;D4;+0:3](-[C:4])(=[O;H0;D1;+0:1])...   \n",
              "3          22566  ([C:1]-[S;H0;D4;+0:2](-[C:3])(=[O;H0;D1;+0])=[...   \n",
              "4            755  ([C:2]-[S;H0;D4;+0:3](-[C:4])(=[O;H0;D1;+0:1])...   \n",
              "\n",
              "   feasibility  expansion_rank  \\\n",
              "0     0.995227               1   \n",
              "1     0.999978               2   \n",
              "2     0.995792               3   \n",
              "3     0.246933               4   \n",
              "4     0.253367               5   \n",
              "\n",
              "                                              smarts  \n",
              "0  ([C:2]-[C;H0;D3;+0:1](=[O;D1;H0:3])-[NH;D2;+0:...  \n",
              "1  ([C:2]-[C;H0;D3;+0:1](=[O;D1;H0:3])-[NH;D2;+0:...  \n",
              "2  ([C:2]-[S;H0;D4;+0:3](-[C:4])(=[O;H0;D1;+0:1])...  \n",
              "3  ([C:1]-[S;H0;D4;+0:2](-[C:3])(=[O;H0;D1;+0])=[...  \n",
              "4  ([C:2]-[S;H0;D4;+0:3](-[C:4])(=[O;H0;D1;+0:1])...  "
            ]
          },
          "execution_count": 7,
          "metadata": {},
          "output_type": "execute_result"
        }
      ],
      "source": [
        "import pandas as pd\n",
        "metadata = []\n",
        "for reaction_tuple in reactions:\n",
        "    for reaction in reaction_tuple:\n",
        "        metadata.append(reaction.metadata)\n",
        "df = pd.DataFrame(metadata)\n",
        "df"
      ]
    },
    {
      "cell_type": "markdown",
      "metadata": {
        "id": "Y_jy0e1F839c"
      },
      "source": [
        "We can cluster the reactions using either the Tree edit distance or using an LSTM, by default the tree edit distance approach is picked. The distance matrix \n",
        "$A$ is defined such that $a_{ij}$ is the distance between route $i$ and $j$.\n",
        "\n",
        "Note: To use the LSTM model, path to the model checkpoints have to be specified."
      ]
    },
    {
      "cell_type": "code",
      "execution_count": null,
      "metadata": {
        "colab": {
          "base_uri": "https://localhost:8080/"
        },
        "id": "l8O9Cx4jwS1N",
        "outputId": "23460d39-022d-41e9-c937-672d123e528b"
      },
      "outputs": [
        {
          "data": {
            "text/plain": [
              "array([[0.        , 5.13316785, 5.66586593, 6.27132799, 2.33333333,\n",
              "        4.44358974],\n",
              "       [5.13316785, 0.        , 3.31073553, 3.92067787, 6.64953265,\n",
              "        8.38671717],\n",
              "       [5.66586593, 3.31073553, 0.        , 0.67255435, 4.74730188,\n",
              "        8.47570768],\n",
              "       [6.27132799, 3.92067787, 0.67255435, 0.        , 4.70237434,\n",
              "        8.47570768],\n",
              "       [2.33333333, 6.64953265, 4.74730188, 4.70237434, 0.        ,\n",
              "        5.34453431],\n",
              "       [4.44358974, 8.38671717, 8.47570768, 8.47570768, 5.34453431,\n",
              "        0.        ]])"
            ]
          },
          "execution_count": 8,
          "metadata": {},
          "output_type": "execute_result"
        }
      ],
      "source": [
        "from aizynthfinder.analysis import RouteCollection\n",
        "from aizynthfinder.analysis import TreeAnalysis\n",
        "\n",
        "rc = finder.routes\n",
        "rc.cluster(n_clusters=3)\n",
        "rc.distance_matrix()"
      ]
    },
    {
      "cell_type": "code",
      "execution_count": null,
      "metadata": {
        "colab": {
          "base_uri": "https://localhost:8080/"
        },
        "id": "k3XKc4XhqGck",
        "outputId": "27a25506-5f78-4346-8f1e-c908f5f209f0"
      },
      "outputs": [
        {
          "data": {
            "text/plain": [
              "<aizynthfinder.analysis.routes.RouteCollection at 0x7f17c22c4510>"
            ]
          },
          "execution_count": 9,
          "metadata": {},
          "output_type": "execute_result"
        }
      ],
      "source": [
        "rc"
      ]
    },
    {
      "cell_type": "markdown",
      "metadata": {
        "id": "dDxR0lnXGN5k"
      },
      "source": [
        "We can also visualise the top synthetic routes using the ```make_images()``` method. The top route per the scoring function can be displayed by:\n"
      ]
    },
    {
      "cell_type": "code",
      "execution_count": null,
      "metadata": {
        "colab": {
          "base_uri": "https://localhost:8080/",
          "height": 328
        },
        "id": "5m0AriG25GWf",
        "outputId": "32a61028-7528-40c9-f597-49916329bd67"
      },
      "outputs": [
        {
          "data": {
            "image/png": "[encoded data removed]",
            "text/plain": [
              "<PIL.PngImagePlugin.PngImageFile image mode=RGBA size=1011x311 at 0x7F98A7634290>"
            ]
          },
          "execution_count": 8,
          "metadata": {},
          "output_type": "execute_result"
        }
      ],
      "source": [
        "rc.make_images()[0]"
      ]
    },
    {
      "cell_type": "markdown",
      "metadata": {
        "id": "04CNRy9F_-ks"
      },
      "source": [
        "We can also create a combined tree, which is just the indvidual routes joined together. This can give us a big picture perspective of the different routes and gives us a rough idea about the number of steps each route takes.\n",
        "\n",
        "We again use the route collection object to call the combined_reaction_tree() method. We then create a tar ball containing the images of the different molecule and create a VisJS HTML page to visualise the entire tree. The steps to extract the tar ball and display the tree in the IPython console are shown below. Use your mousewheel to zoom into the tree!"
      ]
    },
    {
      "cell_type": "code",
      "execution_count": null,
      "metadata": {
        "id": "khD5WLF-4tZK"
      },
      "outputs": [],
      "source": [
        "ct = rc.combined_reaction_trees()\n",
        "ct.to_visjs_page(filename=\"test1\")"
      ]
    },
    {
      "cell_type": "code",
      "execution_count": null,
      "metadata": {
        "colab": {
          "base_uri": "https://localhost:8080/"
        },
        "id": "w90JN6aE6pHY",
        "outputId": "c6a1830c-8e00-4829-c8c1-6d95043f5cd7"
      },
      "outputs": [
        {
          "name": "stdout",
          "output_type": "stream",
          "text": [
            "./\n",
            "./BXYVAIUGFYXLDY-UHFFFAOYSA-N.png\n",
            "./DMOQHEWCUXULLO-UHFFFAOYSA-N.png\n",
            "./DRFPPWNQAKQZBS-UHFFFAOYSA-N.png\n",
            "./HFDUSGOMEIDXRN-UHFFFAOYSA-N.png\n",
            "./IHAXEHHZVUDCHM-UHFFFAOYSA-N.png\n",
            "./KGUZRMOXECFUGA-UHFFFAOYSA-N.png\n",
            "./KOEIPRRACKGLRZ-UHFFFAOYSA-N.png\n",
            "./LSTRKXWIZZZYAS-UHFFFAOYSA-N.png\n",
            "./MNHNIVNAFBSLLX-UHFFFAOYSA-N.png\n",
            "./PCBMYWORBGOYHM-UHFFFAOYSA-N.png\n",
            "./RPJRJUVGGDVVDF-UHFFFAOYSA-N.png\n",
            "./UFFBMTHBGFGIHF-UHFFFAOYSA-N.png\n",
            "./VIMAISOQCSGKFW-UHFFFAOYSA-N.png\n",
            "./route.html\n"
          ]
        }
      ],
      "source": [
        "!mkdir test1\n",
        "!tar -C/content/test1 -xvf test1.tar \n"
      ]
    },
    {
      "cell_type": "code",
      "execution_count": null,
      "metadata": {
        "colab": {
          "base_uri": "https://localhost:8080/",
          "height": 171
        },
        "id": "H2Vuu3Sg7-e7",
        "outputId": "b58babd5-f39a-4a1d-e09f-a9fafe0a69c5"
      },
      "outputs": [
        {
          "data": {
            "text/html": [
              "<html>\n",
              "\n",
              "<head>\n",
              "  <script type=\"text/javascript\" src=\"https://unpkg.com/vis-network/standalone/umd/vis-network.min.js\"></script>\n",
              "</head>\n",
              "\n",
              "<body>\n",
              "  <div id=\"mynetwork\"></div>\n",
              "\n",
              "  <script type=\"text/javascript\">\n",
              "    nodes = [];\n",
              "    edges = [];\n",
              "\n",
              "    \n",
              "    nodes.push({\n",
              "      id: 140293579139984,\n",
              "      image: \"MNHNIVNAFBSLLX-UHFFFAOYSA-N.png\",\n",
              "      shape: \"image\",\n",
              "      title: \"Cc1cccc(C)c1N(CC(=O)Nc1ccc(-c2ncon2)cc1)C(=O)C1CCS(=O)(=O)CC1\"\n",
              "    });\n",
              "    \n",
              "    nodes.push({\n",
              "      id: 140293579774672,\n",
              "      image: \"KOEIPRRACKGLRZ-UHFFFAOYSA-N.png\",\n",
              "      shape: \"image\",\n",
              "      title: \"Cc1cccc(C)c1NCC(=O)Nc1ccc(-c2ncon2)cc1\"\n",
              "    });\n",
              "    \n",
              "    nodes.push({\n",
              "      id: 140293580532624,\n",
              "      image: \"DMOQHEWCUXULLO-UHFFFAOYSA-N.png\",\n",
              "      shape: \"image\",\n",
              "      title: \"Cc1cccc(C)c1NCC(=O)O\"\n",
              "    });\n",
              "    \n",
              "    nodes.push({\n",
              "      id: 140293578857808,\n",
              "      image: \"KGUZRMOXECFUGA-UHFFFAOYSA-N.png\",\n",
              "      shape: \"image\",\n",
              "      title: \"Nc1ccc(-c2ncon2)cc1\"\n",
              "    });\n",
              "    \n",
              "    nodes.push({\n",
              "      id: 140293580530832,\n",
              "      image: \"IHAXEHHZVUDCHM-UHFFFAOYSA-N.png\",\n",
              "      shape: \"image\",\n",
              "      title: \"Cc1cccc(C)c1NCC(=O)Cl\"\n",
              "    });\n",
              "    \n",
              "    nodes.push({\n",
              "      id: 140293580768976,\n",
              "      image: \"DMOQHEWCUXULLO-UHFFFAOYSA-N.png\",\n",
              "      shape: \"image\",\n",
              "      title: \"Cc1cccc(C)c1NCC(=O)O\"\n",
              "    });\n",
              "    \n",
              "    nodes.push({\n",
              "      id: 140295103211408,\n",
              "      image: \"KGUZRMOXECFUGA-UHFFFAOYSA-N.png\",\n",
              "      shape: \"image\",\n",
              "      title: \"Nc1ccc(-c2ncon2)cc1\"\n",
              "    });\n",
              "    \n",
              "    nodes.push({\n",
              "      id: 140293579139728,\n",
              "      image: \"UFFBMTHBGFGIHF-UHFFFAOYSA-N.png\",\n",
              "      shape: \"image\",\n",
              "      title: \"Cc1cccc(C)c1N\"\n",
              "    });\n",
              "    \n",
              "    nodes.push({\n",
              "      id: 140293572725456,\n",
              "      image: \"HFDUSGOMEIDXRN-UHFFFAOYSA-N.png\",\n",
              "      shape: \"image\",\n",
              "      title: \"O=C(CBr)Nc1ccc(-c2ncon2)cc1\"\n",
              "    });\n",
              "    \n",
              "    nodes.push({\n",
              "      id: 140293595714384,\n",
              "      image: \"KGUZRMOXECFUGA-UHFFFAOYSA-N.png\",\n",
              "      shape: \"image\",\n",
              "      title: \"Nc1ccc(-c2ncon2)cc1\"\n",
              "    });\n",
              "    \n",
              "    nodes.push({\n",
              "      id: 140293595716304,\n",
              "      image: \"LSTRKXWIZZZYAS-UHFFFAOYSA-N.png\",\n",
              "      shape: \"image\",\n",
              "      title: \"O=C(Br)CBr\"\n",
              "    });\n",
              "    \n",
              "    nodes.push({\n",
              "      id: 140293571466256,\n",
              "      image: \"RPJRJUVGGDVVDF-UHFFFAOYSA-N.png\",\n",
              "      shape: \"image\",\n",
              "      title: \"O=C(O)C1CCS(=O)(=O)CC1\"\n",
              "    });\n",
              "    \n",
              "    nodes.push({\n",
              "      id: 140293571467792,\n",
              "      image: \"BXYVAIUGFYXLDY-UHFFFAOYSA-N.png\",\n",
              "      shape: \"image\",\n",
              "      title: \"CCOC(=O)CN(C(=O)C1CCS(=O)(=O)CC1)c1c(C)cccc1C\"\n",
              "    });\n",
              "    \n",
              "    nodes.push({\n",
              "      id: 140293571467920,\n",
              "      image: \"PCBMYWORBGOYHM-UHFFFAOYSA-N.png\",\n",
              "      shape: \"image\",\n",
              "      title: \"CCOC(=O)CNc1c(C)cccc1C\"\n",
              "    });\n",
              "    \n",
              "    nodes.push({\n",
              "      id: 140293571465360,\n",
              "      image: \"RPJRJUVGGDVVDF-UHFFFAOYSA-N.png\",\n",
              "      shape: \"image\",\n",
              "      title: \"O=C(O)C1CCS(=O)(=O)CC1\"\n",
              "    });\n",
              "    \n",
              "    nodes.push({\n",
              "      id: 140293571468496,\n",
              "      image: \"KGUZRMOXECFUGA-UHFFFAOYSA-N.png\",\n",
              "      shape: \"image\",\n",
              "      title: \"Nc1ccc(-c2ncon2)cc1\"\n",
              "    });\n",
              "    \n",
              "    nodes.push({\n",
              "      id: 140293571467664,\n",
              "      image: \"VIMAISOQCSGKFW-UHFFFAOYSA-N.png\",\n",
              "      shape: \"image\",\n",
              "      title: \"Cc1cccc(C)c1N(CC(=O)Cl)C(=O)C1CCS(=O)(=O)CC1\"\n",
              "    });\n",
              "    \n",
              "    nodes.push({\n",
              "      id: 140293571468432,\n",
              "      image: \"IHAXEHHZVUDCHM-UHFFFAOYSA-N.png\",\n",
              "      shape: \"image\",\n",
              "      title: \"Cc1cccc(C)c1NCC(=O)Cl\"\n",
              "    });\n",
              "    \n",
              "    nodes.push({\n",
              "      id: 140293571465616,\n",
              "      image: \"DMOQHEWCUXULLO-UHFFFAOYSA-N.png\",\n",
              "      shape: \"image\",\n",
              "      title: \"Cc1cccc(C)c1NCC(=O)O\"\n",
              "    });\n",
              "    \n",
              "    nodes.push({\n",
              "      id: 140293571466192,\n",
              "      image: \"RPJRJUVGGDVVDF-UHFFFAOYSA-N.png\",\n",
              "      shape: \"image\",\n",
              "      title: \"O=C(O)C1CCS(=O)(=O)CC1\"\n",
              "    });\n",
              "    \n",
              "    nodes.push({\n",
              "      id: 140293571467152,\n",
              "      image: \"IHAXEHHZVUDCHM-UHFFFAOYSA-N.png\",\n",
              "      shape: \"image\",\n",
              "      title: \"Cc1cccc(C)c1NCC(=O)Cl\"\n",
              "    });\n",
              "    \n",
              "    nodes.push({\n",
              "      id: 140293571467280,\n",
              "      image: \"DMOQHEWCUXULLO-UHFFFAOYSA-N.png\",\n",
              "      shape: \"image\",\n",
              "      title: \"Cc1cccc(C)c1NCC(=O)O\"\n",
              "    });\n",
              "    \n",
              "    nodes.push({\n",
              "      id: 140293571467728,\n",
              "      image: \"DRFPPWNQAKQZBS-UHFFFAOYSA-N.png\",\n",
              "      shape: \"image\",\n",
              "      title: \"O=C(Cl)C1CCS(=O)(=O)CC1\"\n",
              "    });\n",
              "    \n",
              "    nodes.push({\n",
              "      id: 140293579509968,\n",
              "      image: \"KGUZRMOXECFUGA-UHFFFAOYSA-N.png\",\n",
              "      shape: \"image\",\n",
              "      title: \"Nc1ccc(-c2ncon2)cc1\"\n",
              "    });\n",
              "    \n",
              "\n",
              "    \n",
              "    nodes.push({\n",
              "      id: 140293571489104,\n",
              "      color: \"black\",\n",
              "      size: 5,\n",
              "      shape: \"dot\",\n",
              "      title: \"[C:1]([CH3:2])(=[O:3])[N:5]([CH3:4])[cH3:6]>>O[C:1]([CH3:2])=[O:3].[CH3:4][N:5][cH3:6]\"\n",
              "    });\n",
              "    \n",
              "    nodes.push({\n",
              "      id: 140293601264272,\n",
              "      color: \"black\",\n",
              "      size: 5,\n",
              "      shape: \"dot\",\n",
              "      title: \"[C:1]([CH3:2])(=[O:3])[N:4][cH3:5]>>O[C:1]([CH3:2])=[O:3].[N:4][cH3:5]\"\n",
              "    });\n",
              "    \n",
              "    nodes.push({\n",
              "      id: 140293580530960,\n",
              "      color: \"black\",\n",
              "      size: 5,\n",
              "      shape: \"dot\",\n",
              "      title: \"[C:1]([CH3:2])(=[O:3])[N:4][cH3:5]>>Cl[C:1]([CH3:2])=[O:3].[N:4][cH3:5]\"\n",
              "    });\n",
              "    \n",
              "    nodes.push({\n",
              "      id: 140293602745552,\n",
              "      color: \"black\",\n",
              "      size: 5,\n",
              "      shape: \"dot\",\n",
              "      title: \"Cl[C:1]([CH3:2])=[O:3]>>O[C:1]([CH3:2])=[O:3]\"\n",
              "    });\n",
              "    \n",
              "    nodes.push({\n",
              "      id: 140293579202512,\n",
              "      color: \"black\",\n",
              "      size: 5,\n",
              "      shape: \"dot\",\n",
              "      title: \"[C:1]([C:2]([NH2:3])=[O:4])[N:5][cH3:6]>>Br[C:1][C:2]([NH2:3])=[O:4].[N:5][cH3:6]\"\n",
              "    });\n",
              "    \n",
              "    nodes.push({\n",
              "      id: 140293579140752,\n",
              "      color: \"black\",\n",
              "      size: 5,\n",
              "      shape: \"dot\",\n",
              "      title: \"[C:1]([CH3:2])(=[O:3])[N:4][cH3:5]>>Br[C:1]([CH3:2])=[O:3].[N:4][cH3:5]\"\n",
              "    });\n",
              "    \n",
              "    nodes.push({\n",
              "      id: 140293580532944,\n",
              "      color: \"black\",\n",
              "      size: 5,\n",
              "      shape: \"dot\",\n",
              "      title: \"[C:1]([CH3:2])(=[O:3])[N:4][cH3:5]>>CCO[C:1]([CH3:2])=[O:3].[N:4][cH3:5]\"\n",
              "    });\n",
              "    \n",
              "    nodes.push({\n",
              "      id: 140293596063504,\n",
              "      color: \"black\",\n",
              "      size: 5,\n",
              "      shape: \"dot\",\n",
              "      title: \"[C:1]([CH3:2])(=[O:3])[N:5]([CH3:4])[cH3:6]>>O[C:1]([CH3:2])=[O:3].[CH3:4][N:5][cH3:6]\"\n",
              "    });\n",
              "    \n",
              "    nodes.push({\n",
              "      id: 140293571468112,\n",
              "      color: \"black\",\n",
              "      size: 5,\n",
              "      shape: \"dot\",\n",
              "      title: \"[C:1]([CH3:2])(=[O:3])[N:4][cH3:5]>>Cl[C:1]([CH3:2])=[O:3].[N:4][cH3:5]\"\n",
              "    });\n",
              "    \n",
              "    nodes.push({\n",
              "      id: 140293572712656,\n",
              "      color: \"black\",\n",
              "      size: 5,\n",
              "      shape: \"dot\",\n",
              "      title: \"[C:1]([CH3:2])(=[O:3])[N:5]([CH3:4])[cH3:6]>>O[C:1]([CH3:2])=[O:3].[CH3:4][N:5][cH3:6]\"\n",
              "    });\n",
              "    \n",
              "    nodes.push({\n",
              "      id: 140293571469008,\n",
              "      color: \"black\",\n",
              "      size: 5,\n",
              "      shape: \"dot\",\n",
              "      title: \"Cl[C:1]([CH3:2])=[O:3]>>O[C:1]([CH3:2])=[O:3]\"\n",
              "    });\n",
              "    \n",
              "    nodes.push({\n",
              "      id: 140293571465680,\n",
              "      color: \"black\",\n",
              "      size: 5,\n",
              "      shape: \"dot\",\n",
              "      title: \"[C:1]([CH3:2])(=[O:3])[N:5]([CH3:4])[cH3:6]>>Cl[C:1]([CH3:2])=[O:3].[CH3:4][N:5][cH3:6]\"\n",
              "    });\n",
              "    \n",
              "    nodes.push({\n",
              "      id: 140293571904144,\n",
              "      color: \"black\",\n",
              "      size: 5,\n",
              "      shape: \"dot\",\n",
              "      title: \"Cl[C:1]([CH3:2])=[O:3]>>O[C:1]([CH3:2])=[O:3]\"\n",
              "    });\n",
              "    \n",
              "\n",
              "    \n",
              "    edges.push({\n",
              "      from: 140293579139984,\n",
              "      to: 140293571489104,\n",
              "      color: \"black\"\n",
              "    });\n",
              "    \n",
              "    edges.push({\n",
              "      from: 140293579139984,\n",
              "      to: 140293580532944,\n",
              "      color: \"black\"\n",
              "    });\n",
              "    \n",
              "    edges.push({\n",
              "      from: 140293579139984,\n",
              "      to: 140293571468112,\n",
              "      color: \"black\"\n",
              "    });\n",
              "    \n",
              "    edges.push({\n",
              "      from: 140293571489104,\n",
              "      to: 140293579774672,\n",
              "      color: \"black\"\n",
              "    });\n",
              "    \n",
              "    edges.push({\n",
              "      from: 140293571489104,\n",
              "      to: 140293571466256,\n",
              "      color: \"black\"\n",
              "    });\n",
              "    \n",
              "    edges.push({\n",
              "      from: 140293579774672,\n",
              "      to: 140293601264272,\n",
              "      color: \"black\"\n",
              "    });\n",
              "    \n",
              "    edges.push({\n",
              "      from: 140293579774672,\n",
              "      to: 140293580530960,\n",
              "      color: \"black\"\n",
              "    });\n",
              "    \n",
              "    edges.push({\n",
              "      from: 140293579774672,\n",
              "      to: 140293579202512,\n",
              "      color: \"black\"\n",
              "    });\n",
              "    \n",
              "    edges.push({\n",
              "      from: 140293601264272,\n",
              "      to: 140293580532624,\n",
              "      color: \"black\"\n",
              "    });\n",
              "    \n",
              "    edges.push({\n",
              "      from: 140293601264272,\n",
              "      to: 140293578857808,\n",
              "      color: \"black\"\n",
              "    });\n",
              "    \n",
              "    edges.push({\n",
              "      from: 140293580530960,\n",
              "      to: 140293580530832,\n",
              "      color: \"black\"\n",
              "    });\n",
              "    \n",
              "    edges.push({\n",
              "      from: 140293580530960,\n",
              "      to: 140295103211408,\n",
              "      color: \"black\"\n",
              "    });\n",
              "    \n",
              "    edges.push({\n",
              "      from: 140293580530832,\n",
              "      to: 140293602745552,\n",
              "      color: \"black\"\n",
              "    });\n",
              "    \n",
              "    edges.push({\n",
              "      from: 140293602745552,\n",
              "      to: 140293580768976,\n",
              "      color: \"black\"\n",
              "    });\n",
              "    \n",
              "    edges.push({\n",
              "      from: 140293579202512,\n",
              "      to: 140293579139728,\n",
              "      color: \"black\"\n",
              "    });\n",
              "    \n",
              "    edges.push({\n",
              "      from: 140293579202512,\n",
              "      to: 140293572725456,\n",
              "      color: \"black\"\n",
              "    });\n",
              "    \n",
              "    edges.push({\n",
              "      from: 140293572725456,\n",
              "      to: 140293579140752,\n",
              "      color: \"black\"\n",
              "    });\n",
              "    \n",
              "    edges.push({\n",
              "      from: 140293579140752,\n",
              "      to: 140293595714384,\n",
              "      color: \"black\"\n",
              "    });\n",
              "    \n",
              "    edges.push({\n",
              "      from: 140293579140752,\n",
              "      to: 140293595716304,\n",
              "      color: \"black\"\n",
              "    });\n",
              "    \n",
              "    edges.push({\n",
              "      from: 140293580532944,\n",
              "      to: 140293571467792,\n",
              "      color: \"black\"\n",
              "    });\n",
              "    \n",
              "    edges.push({\n",
              "      from: 140293580532944,\n",
              "      to: 140293571468496,\n",
              "      color: \"black\"\n",
              "    });\n",
              "    \n",
              "    edges.push({\n",
              "      from: 140293571467792,\n",
              "      to: 140293596063504,\n",
              "      color: \"black\"\n",
              "    });\n",
              "    \n",
              "    edges.push({\n",
              "      from: 140293596063504,\n",
              "      to: 140293571467920,\n",
              "      color: \"black\"\n",
              "    });\n",
              "    \n",
              "    edges.push({\n",
              "      from: 140293596063504,\n",
              "      to: 140293571465360,\n",
              "      color: \"black\"\n",
              "    });\n",
              "    \n",
              "    edges.push({\n",
              "      from: 140293571468112,\n",
              "      to: 140293571467664,\n",
              "      color: \"black\"\n",
              "    });\n",
              "    \n",
              "    edges.push({\n",
              "      from: 140293571468112,\n",
              "      to: 140293579509968,\n",
              "      color: \"black\"\n",
              "    });\n",
              "    \n",
              "    edges.push({\n",
              "      from: 140293571467664,\n",
              "      to: 140293572712656,\n",
              "      color: \"black\"\n",
              "    });\n",
              "    \n",
              "    edges.push({\n",
              "      from: 140293571467664,\n",
              "      to: 140293571465680,\n",
              "      color: \"black\"\n",
              "    });\n",
              "    \n",
              "    edges.push({\n",
              "      from: 140293572712656,\n",
              "      to: 140293571468432,\n",
              "      color: \"black\"\n",
              "    });\n",
              "    \n",
              "    edges.push({\n",
              "      from: 140293572712656,\n",
              "      to: 140293571466192,\n",
              "      color: \"black\"\n",
              "    });\n",
              "    \n",
              "    edges.push({\n",
              "      from: 140293571468432,\n",
              "      to: 140293571469008,\n",
              "      color: \"black\"\n",
              "    });\n",
              "    \n",
              "    edges.push({\n",
              "      from: 140293571469008,\n",
              "      to: 140293571465616,\n",
              "      color: \"black\"\n",
              "    });\n",
              "    \n",
              "    edges.push({\n",
              "      from: 140293571465680,\n",
              "      to: 140293571467152,\n",
              "      color: \"black\"\n",
              "    });\n",
              "    \n",
              "    edges.push({\n",
              "      from: 140293571465680,\n",
              "      to: 140293571467728,\n",
              "      color: \"black\"\n",
              "    });\n",
              "    \n",
              "    edges.push({\n",
              "      from: 140293571467152,\n",
              "      to: 140293571904144,\n",
              "      color: \"black\"\n",
              "    });\n",
              "    \n",
              "    edges.push({\n",
              "      from: 140293571904144,\n",
              "      to: 140293571467280,\n",
              "      color: \"black\"\n",
              "    });\n",
              "    \n",
              "\n",
              "    var container = document.getElementById('mynetwork');\n",
              "\n",
              "    var data = {\n",
              "      nodes: nodes,\n",
              "      edges: edges\n",
              "    };\n",
              "    var options = {\n",
              "      \n",
              "    };\n",
              "\n",
              "    var network = new vis.Network(container, data, options);\n",
              "  </script>\n",
              "</body>\n",
              "\n",
              "</html>"
            ],
            "text/plain": [
              "<IPython.core.display.HTML object>"
            ]
          },
          "execution_count": 12,
          "metadata": {},
          "output_type": "execute_result"
        }
      ],
      "source": [
        "from IPython.display import HTML\n",
        "HTML(open('./test1/route.html').read())"
      ]
    },
    {
      "cell_type": "markdown",
      "metadata": {
        "id": "2CjCSjAprMDk"
      },
      "source": [
        "# References\n",
        "\n",
        "1. Genheden S, Thakkar A, Chadimova V, et al (2020) AiZynthFinder: a fast, robust and flexible open-source software for retrosynthetic planning. J. Cheminf. https://jcheminf.biomedcentral.com/articles/10.1186/s13321-020-00472-1\n",
        "  -  Documentation : https://molecularai.github.io/aizynthfinder/\n",
        "  -  Video demo of the package here: https://www.youtube.com/watch?v=r9Dsxm-mcgA\n",
        "2. Segler MHS, Preuss M, Waller P (2018) Planning chemical syntheses with deep neural networks and symbolic AI. Nature 555:604–610. https://doi.org/10.1038/nature25978\n",
        "\n",
        "3.  Heid, Esther, Jiannan Liu, Andrea Aude, and William H. Green. \"Influence of Template Size, Canonicalization, and Exclusivity for Retrosynthesis and Reaction Prediction Applications.\" Journal of chemical information and modeling (2021).\n",
        "4. https://chembam.files.wordpress.com/2020/05/asp-1.png \n"
      ]
    }
  ],
  "metadata": {
    "colab": {
      "collapsed_sections": [],
      "name": "AiZynthFinderTutorial.ipynb",
      "provenance": []
    },
    "kernelspec": {
      "display_name": "Python 3",
      "name": "python3"
    },
    "language_info": {
      "name": "python"
    },
    "widgets": {
      "application/vnd.jupyter.widget-state+json": {
        "0357fca9d2054855bda05290b1aae90c": {
          "model_module": "@jupyter-widgets/controls",
          "model_module_version": "1.5.0",
          "model_name": "DescriptionStyleModel",
          "state": {
            "_model_module": "@jupyter-widgets/controls",
            "_model_module_version": "1.5.0",
            "_model_name": "DescriptionStyleModel",
            "_view_count": null,
            "_view_module": "@jupyter-widgets/base",
            "_view_module_version": "1.2.0",
            "_view_name": "StyleView",
            "description_width": ""
          }
        },
        "0407f85a453b4077a91d79b1e2c9d1f7": {
          "model_module": "@jupyter-widgets/controls",
          "model_module_version": "1.5.0",
          "model_name": "BoundedIntTextModel",
          "state": {
            "_dom_classes": [],
            "_model_module": "@jupyter-widgets/controls",
            "_model_module_version": "1.5.0",
            "_model_name": "BoundedIntTextModel",
            "_view_count": null,
            "_view_module": "@jupyter-widgets/controls",
            "_view_module_version": "1.5.0",
            "_view_name": "IntTextView",
            "continuous_update": false,
            "description": "",
            "description_tooltip": null,
            "disabled": false,
            "layout": "IPY_MODEL_1040a40bfd364b0781448fe61f48b8f6",
            "max": 100,
            "min": 0,
            "step": 1,
            "style": "IPY_MODEL_6e5d7bde063446ff921b5b0054b92ebe",
            "value": 0
          }
        },
        "041a682a258b4c0c81767c1accd864e8": {
          "model_module": "@jupyter-widgets/controls",
          "model_module_version": "1.5.0",
          "model_name": "HBoxModel",
          "state": {
            "_dom_classes": [],
            "_model_module": "@jupyter-widgets/controls",
            "_model_module_version": "1.5.0",
            "_model_name": "HBoxModel",
            "_view_count": null,
            "_view_module": "@jupyter-widgets/controls",
            "_view_module_version": "1.5.0",
            "_view_name": "HBoxView",
            "box_style": "",
            "children": [
              "IPY_MODEL_17c6c1009c484f88967b514ce34c2f94",
              "IPY_MODEL_0eedd05762fb40bc986986a6948a2dfa",
              "IPY_MODEL_4add73cd4d2746afb9af23f9bfebc90b"
            ],
            "layout": "IPY_MODEL_ebdd071b31f34dc5b88b4862166d4e67"
          }
        },
        "051a8ed9e2134480ae314303d4e4aaaf": {
          "model_module": "@jupyter-widgets/base",
          "model_module_version": "1.2.0",
          "model_name": "LayoutModel",
          "state": {
            "_model_module": "@jupyter-widgets/base",
            "_model_module_version": "1.2.0",
            "_model_name": "LayoutModel",
            "_view_count": null,
            "_view_module": "@jupyter-widgets/base",
            "_view_module_version": "1.2.0",
            "_view_name": "LayoutView",
            "align_content": null,
            "align_items": null,
            "align_self": null,
            "border": null,
            "bottom": null,
            "display": null,
            "flex": null,
            "flex_flow": null,
            "grid_area": null,
            "grid_auto_columns": null,
            "grid_auto_flow": null,
            "grid_auto_rows": null,
            "grid_column": null,
            "grid_gap": null,
            "grid_row": null,
            "grid_template_areas": null,
            "grid_template_columns": null,
            "grid_template_rows": null,
            "height": null,
            "justify_content": null,
            "justify_items": null,
            "left": null,
            "margin": null,
            "max_height": null,
            "max_width": null,
            "min_height": null,
            "min_width": null,
            "object_fit": null,
            "object_position": null,
            "order": null,
            "overflow": null,
            "overflow_x": null,
            "overflow_y": null,
            "padding": null,
            "right": null,
            "top": null,
            "visibility": null,
            "width": null
          }
        },
        "08de0b13996c41989218deaa67f6c871": {
          "model_module": "@jupyter-widgets/controls",
          "model_module_version": "1.5.0",
          "model_name": "HBoxModel",
          "state": {
            "_dom_classes": [],
            "_model_module": "@jupyter-widgets/controls",
            "_model_module_version": "1.5.0",
            "_model_name": "HBoxModel",
            "_view_count": null,
            "_view_module": "@jupyter-widgets/controls",
            "_view_module_version": "1.5.0",
            "_view_name": "HBoxView",
            "box_style": "",
            "children": [
              "IPY_MODEL_bd9c19a6543d4f03897e27ba9939a5be",
              "IPY_MODEL_bf9cbedb063f4964ae619ba90dcb9230"
            ],
            "layout": "IPY_MODEL_0a2eba3b1fcb4b459e8c486b711dbdc6"
          }
        },
        "0a2eba3b1fcb4b459e8c486b711dbdc6": {
          "model_module": "@jupyter-widgets/base",
          "model_module_version": "1.2.0",
          "model_name": "LayoutModel",
          "state": {
            "_model_module": "@jupyter-widgets/base",
            "_model_module_version": "1.2.0",
            "_model_name": "LayoutModel",
            "_view_count": null,
            "_view_module": "@jupyter-widgets/base",
            "_view_module_version": "1.2.0",
            "_view_name": "LayoutView",
            "align_content": null,
            "align_items": null,
            "align_self": null,
            "border": null,
            "bottom": null,
            "display": null,
            "flex": null,
            "flex_flow": null,
            "grid_area": null,
            "grid_auto_columns": null,
            "grid_auto_flow": null,
            "grid_auto_rows": null,
            "grid_column": null,
            "grid_gap": null,
            "grid_row": null,
            "grid_template_areas": null,
            "grid_template_columns": null,
            "grid_template_rows": null,
            "height": null,
            "justify_content": null,
            "justify_items": null,
            "left": null,
            "margin": null,
            "max_height": null,
            "max_width": null,
            "min_height": null,
            "min_width": null,
            "object_fit": null,
            "object_position": null,
            "order": null,
            "overflow": null,
            "overflow_x": null,
            "overflow_y": null,
            "padding": null,
            "right": null,
            "top": null,
            "visibility": null,
            "width": null
          }
        },
        "0a9beaf387884c10b3659ebabc045154": {
          "model_module": "@jupyter-widgets/base",
          "model_module_version": "1.2.0",
          "model_name": "LayoutModel",
          "state": {
            "_model_module": "@jupyter-widgets/base",
            "_model_module_version": "1.2.0",
            "_model_name": "LayoutModel",
            "_view_count": null,
            "_view_module": "@jupyter-widgets/base",
            "_view_module_version": "1.2.0",
            "_view_name": "LayoutView",
            "align_content": null,
            "align_items": null,
            "align_self": null,
            "border": null,
            "bottom": null,
            "display": null,
            "flex": null,
            "flex_flow": null,
            "grid_area": null,
            "grid_auto_columns": null,
            "grid_auto_flow": null,
            "grid_auto_rows": null,
            "grid_column": null,
            "grid_gap": null,
            "grid_row": null,
            "grid_template_areas": null,
            "grid_template_columns": null,
            "grid_template_rows": null,
            "height": null,
            "justify_content": null,
            "justify_items": null,
            "left": null,
            "margin": null,
            "max_height": null,
            "max_width": null,
            "min_height": null,
            "min_width": null,
            "object_fit": null,
            "object_position": null,
            "order": null,
            "overflow": null,
            "overflow_x": null,
            "overflow_y": null,
            "padding": null,
            "right": null,
            "top": null,
            "visibility": null,
            "width": null
          }
        },
        "0b38088cb69543289345aa317ee3c586": {
          "model_module": "@jupyter-widgets/controls",
          "model_module_version": "1.5.0",
          "model_name": "CheckboxModel",
          "state": {
            "_dom_classes": [],
            "_model_module": "@jupyter-widgets/controls",
            "_model_module_version": "1.5.0",
            "_model_name": "CheckboxModel",
            "_view_count": null,
            "_view_module": "@jupyter-widgets/controls",
            "_view_module_version": "1.5.0",
            "_view_name": "CheckboxView",
            "description": "Return first solved route",
            "description_tooltip": null,
            "disabled": false,
            "indent": true,
            "layout": "IPY_MODEL_9d0c057a2447441cbe29bfda28d23d39",
            "style": "IPY_MODEL_edb2a69673ef478d941799ef85cf865f",
            "value": false
          }
        },
        "0eedd05762fb40bc986986a6948a2dfa": {
          "model_module": "@jupyter-widgets/controls",
          "model_module_version": "1.5.0",
          "model_name": "IntSliderModel",
          "state": {
            "_dom_classes": [],
            "_model_module": "@jupyter-widgets/controls",
            "_model_module_version": "1.5.0",
            "_model_name": "IntSliderModel",
            "_view_count": null,
            "_view_module": "@jupyter-widgets/controls",
            "_view_module_version": "1.5.0",
            "_view_name": "IntSliderView",
            "continuous_update": true,
            "description": "",
            "description_tooltip": null,
            "disabled": false,
            "layout": "IPY_MODEL_e5ae71ce98294e32858499773fb92e06",
            "max": 120,
            "min": 1,
            "orientation": "horizontal",
            "readout": false,
            "readout_format": "d",
            "step": 1,
            "style": "IPY_MODEL_4d4e6a8ed5ba4ac1a6119736f105cadb",
            "value": 5
          }
        },
        "0fa59a3ffc3f434293fe86b2943acfd0": {
          "model_module": "@jupyter-widgets/base",
          "model_module_version": "1.2.0",
          "model_name": "LayoutModel",
          "state": {
            "_model_module": "@jupyter-widgets/base",
            "_model_module_version": "1.2.0",
            "_model_name": "LayoutModel",
            "_view_count": null,
            "_view_module": "@jupyter-widgets/base",
            "_view_module_version": "1.2.0",
            "_view_name": "LayoutView",
            "align_content": null,
            "align_items": null,
            "align_self": null,
            "border": null,
            "bottom": null,
            "display": null,
            "flex": null,
            "flex_flow": null,
            "grid_area": null,
            "grid_auto_columns": null,
            "grid_auto_flow": null,
            "grid_auto_rows": null,
            "grid_column": null,
            "grid_gap": null,
            "grid_row": null,
            "grid_template_areas": null,
            "grid_template_columns": null,
            "grid_template_rows": null,
            "height": null,
            "justify_content": null,
            "justify_items": null,
            "left": null,
            "margin": null,
            "max_height": null,
            "max_width": null,
            "min_height": null,
            "min_width": null,
            "object_fit": null,
            "object_position": null,
            "order": null,
            "overflow": null,
            "overflow_x": null,
            "overflow_y": null,
            "padding": null,
            "right": null,
            "top": null,
            "visibility": null,
            "width": null
          }
        },
        "1040a40bfd364b0781448fe61f48b8f6": {
          "model_module": "@jupyter-widgets/base",
          "model_module_version": "1.2.0",
          "model_name": "LayoutModel",
          "state": {
            "_model_module": "@jupyter-widgets/base",
            "_model_module_version": "1.2.0",
            "_model_name": "LayoutModel",
            "_view_count": null,
            "_view_module": "@jupyter-widgets/base",
            "_view_module_version": "1.2.0",
            "_view_name": "LayoutView",
            "align_content": null,
            "align_items": null,
            "align_self": null,
            "border": null,
            "bottom": null,
            "display": null,
            "flex": null,
            "flex_flow": null,
            "grid_area": null,
            "grid_auto_columns": null,
            "grid_auto_flow": null,
            "grid_auto_rows": null,
            "grid_column": null,
            "grid_gap": null,
            "grid_row": null,
            "grid_template_areas": null,
            "grid_template_columns": null,
            "grid_template_rows": null,
            "height": null,
            "justify_content": null,
            "justify_items": null,
            "left": null,
            "margin": null,
            "max_height": null,
            "max_width": null,
            "min_height": null,
            "min_width": null,
            "object_fit": null,
            "object_position": null,
            "order": null,
            "overflow": null,
            "overflow_x": null,
            "overflow_y": null,
            "padding": null,
            "right": null,
            "top": null,
            "visibility": null,
            "width": "80px"
          }
        },
        "155338743e46423ab521bbb30633c854": {
          "model_module": "@jupyter-widgets/controls",
          "model_module_version": "1.5.0",
          "model_name": "DescriptionStyleModel",
          "state": {
            "_model_module": "@jupyter-widgets/controls",
            "_model_module_version": "1.5.0",
            "_model_name": "DescriptionStyleModel",
            "_view_count": null,
            "_view_module": "@jupyter-widgets/base",
            "_view_module_version": "1.2.0",
            "_view_name": "StyleView",
            "description_width": ""
          }
        },
        "17c6c1009c484f88967b514ce34c2f94": {
          "model_module": "@jupyter-widgets/controls",
          "model_module_version": "1.5.0",
          "model_name": "LabelModel",
          "state": {
            "_dom_classes": [],
            "_model_module": "@jupyter-widgets/controls",
            "_model_module_version": "1.5.0",
            "_model_name": "LabelModel",
            "_view_count": null,
            "_view_module": "@jupyter-widgets/controls",
            "_view_module_version": "1.5.0",
            "_view_name": "LabelView",
            "description": "",
            "description_tooltip": null,
            "layout": "IPY_MODEL_b270d933ab2c4d589698bae1c1ba7c71",
            "placeholder": "​",
            "style": "IPY_MODEL_155338743e46423ab521bbb30633c854",
            "value": "Time (min)"
          }
        },
        "19b064207ebc480582e73465c972a76f": {
          "model_module": "@jupyter-widgets/base",
          "model_module_version": "1.2.0",
          "model_name": "LayoutModel",
          "state": {
            "_model_module": "@jupyter-widgets/base",
            "_model_module_version": "1.2.0",
            "_model_name": "LayoutModel",
            "_view_count": null,
            "_view_module": "@jupyter-widgets/base",
            "_view_module_version": "1.2.0",
            "_view_name": "LayoutView",
            "align_content": null,
            "align_items": null,
            "align_self": null,
            "border": null,
            "bottom": null,
            "display": null,
            "flex": null,
            "flex_flow": null,
            "grid_area": null,
            "grid_auto_columns": null,
            "grid_auto_flow": null,
            "grid_auto_rows": null,
            "grid_column": null,
            "grid_gap": null,
            "grid_row": null,
            "grid_template_areas": null,
            "grid_template_columns": null,
            "grid_template_rows": null,
            "height": null,
            "justify_content": null,
            "justify_items": null,
            "left": null,
            "margin": null,
            "max_height": null,
            "max_width": null,
            "min_height": null,
            "min_width": null,
            "object_fit": null,
            "object_position": null,
            "order": null,
            "overflow": null,
            "overflow_x": null,
            "overflow_y": null,
            "padding": null,
            "right": null,
            "top": null,
            "visibility": null,
            "width": null
          }
        },
        "1e37d271f7014412a13e9a94a4492589": {
          "model_module": "@jupyter-widgets/controls",
          "model_module_version": "1.5.0",
          "model_name": "DescriptionStyleModel",
          "state": {
            "_model_module": "@jupyter-widgets/controls",
            "_model_module_version": "1.5.0",
            "_model_name": "DescriptionStyleModel",
            "_view_count": null,
            "_view_module": "@jupyter-widgets/base",
            "_view_module_version": "1.2.0",
            "_view_name": "StyleView",
            "description_width": "initial"
          }
        },
        "1e76c4e1989340e288b7df283c8d05db": {
          "model_module": "@jupyter-widgets/controls",
          "model_module_version": "1.5.0",
          "model_name": "HBoxModel",
          "state": {
            "_dom_classes": [],
            "_model_module": "@jupyter-widgets/controls",
            "_model_module_version": "1.5.0",
            "_model_name": "HBoxModel",
            "_view_count": null,
            "_view_module": "@jupyter-widgets/controls",
            "_view_module_version": "1.5.0",
            "_view_name": "HBoxView",
            "box_style": "",
            "children": [
              "IPY_MODEL_c02fe99381364fa688347166023d65a6",
              "IPY_MODEL_bc8ae9324c774615aea68b523cde2d76"
            ],
            "layout": "IPY_MODEL_40c9686a79024a5d8428f5435b23310c"
          }
        },
        "1fe9148e2f1d43d899b1b04d717b74c7": {
          "model_module": "@jupyter-widgets/controls",
          "model_module_version": "1.5.0",
          "model_name": "SliderStyleModel",
          "state": {
            "_model_module": "@jupyter-widgets/controls",
            "_model_module_version": "1.5.0",
            "_model_name": "SliderStyleModel",
            "_view_count": null,
            "_view_module": "@jupyter-widgets/base",
            "_view_module_version": "1.2.0",
            "_view_name": "StyleView",
            "description_width": "",
            "handle_color": null
          }
        },
        "2459011f783e4e2fa5dd3a3353d10aa1": {
          "model_module": "@jupyter-widgets/output",
          "model_module_version": "1.0.0",
          "model_name": "OutputModel",
          "state": {
            "_dom_classes": [],
            "_model_module": "@jupyter-widgets/output",
            "_model_module_version": "1.0.0",
            "_model_name": "OutputModel",
            "_view_count": null,
            "_view_module": "@jupyter-widgets/output",
            "_view_module_version": "1.0.0",
            "_view_name": "OutputView",
            "layout": "IPY_MODEL_8e3d5d7996884d1592409f721134ddf8",
            "msg_id": "",
            "outputs": [
              {
                "data": {
                  "image/png": "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\n",
                  "text/plain": "<rdkit.Chem.rdchem.Mol at 0x7f7c60202620>"
                },
                "metadata": {},
                "output_type": "display_data"
              }
            ]
          }
        },
        "25151ebb8f8b424296bc0ce9e6622b18": {
          "model_module": "@jupyter-widgets/controls",
          "model_module_version": "1.5.0",
          "model_name": "ButtonStyleModel",
          "state": {
            "_model_module": "@jupyter-widgets/controls",
            "_model_module_version": "1.5.0",
            "_model_name": "ButtonStyleModel",
            "_view_count": null,
            "_view_module": "@jupyter-widgets/base",
            "_view_module_version": "1.2.0",
            "_view_name": "StyleView",
            "button_color": null,
            "font_weight": ""
          }
        },
        "25e5588b1ffe47a79beeb51e072b2acd": {
          "model_module": "@jupyter-widgets/controls",
          "model_module_version": "1.5.0",
          "model_name": "BoundedFloatTextModel",
          "state": {
            "_dom_classes": [],
            "_model_module": "@jupyter-widgets/controls",
            "_model_module_version": "1.5.0",
            "_model_name": "BoundedFloatTextModel",
            "_view_count": null,
            "_view_module": "@jupyter-widgets/controls",
            "_view_module_version": "1.5.0",
            "_view_name": "FloatTextView",
            "continuous_update": false,
            "description": "Policy cutoff cumulative",
            "description_tooltip": null,
            "disabled": false,
            "layout": "IPY_MODEL_413033fcf0c94503b6a18403e943b1bf",
            "max": 1,
            "min": 0,
            "step": null,
            "style": "IPY_MODEL_42f61f32c6084f3e947ffe792b38d78d",
            "value": 0.995
          }
        },
        "26d2c4b5079440c4b2ce0db428768108": {
          "model_module": "@jupyter-widgets/controls",
          "model_module_version": "1.5.0",
          "model_name": "DescriptionStyleModel",
          "state": {
            "_model_module": "@jupyter-widgets/controls",
            "_model_module_version": "1.5.0",
            "_model_name": "DescriptionStyleModel",
            "_view_count": null,
            "_view_module": "@jupyter-widgets/base",
            "_view_module_version": "1.2.0",
            "_view_name": "StyleView",
            "description_width": ""
          }
        },
        "2e8fe639c0aa4f63b3c0a4a434174363": {
          "model_module": "@jupyter-widgets/output",
          "model_module_version": "1.0.0",
          "model_name": "OutputModel",
          "state": {
            "_dom_classes": [],
            "_model_module": "@jupyter-widgets/output",
            "_model_module_version": "1.0.0",
            "_model_name": "OutputModel",
            "_view_count": null,
            "_view_module": "@jupyter-widgets/output",
            "_view_module_version": "1.0.0",
            "_view_name": "OutputView",
            "layout": "IPY_MODEL_659563996903475aa2c7dd715dc49db3",
            "msg_id": "",
            "outputs": [
              {
                "name": "stdout",
                "output_type": "stream",
                "text": [
                  "Selected as stock: zinc\n"
                ]
              },
              {
                "name": "stdout",
                "output_type": "stream",
                "text": [
                  "Compounds in stock: 17422831\n"
                ]
              },
              {
                "name": "stdout",
                "output_type": "stream",
                "text": [
                  "Stop criteria for stock updated to: {}\n"
                ]
              },
              {
                "name": "stdout",
                "output_type": "stream",
                "text": [
                  "Selected as expansion policy: uspto\n"
                ]
              },
              {
                "name": "stdout",
                "output_type": "stream",
                "text": [
                  "Setting C to 1.4\n"
                ]
              },
              {
                "name": "stdout",
                "output_type": "stream",
                "text": [
                  "Setting max transforms to 6\n"
                ]
              },
              {
                "name": "stdout",
                "output_type": "stream",
                "text": [
                  "Setting cutoff cumulative to 0.995\n"
                ]
              },
              {
                "name": "stdout",
                "output_type": "stream",
                "text": [
                  "Setting cutoff number to 50\n"
                ]
              },
              {
                "name": "stdout",
                "output_type": "stream",
                "text": [
                  "Setting return first to False\n"
                ]
              },
              {
                "name": "stdout",
                "output_type": "stream",
                "text": [
                  "Setting time limit to 300\n"
                ]
              },
              {
                "name": "stdout",
                "output_type": "stream",
                "text": [
                  "Setting iteration limit to 100\n"
                ]
              },
              {
                "name": "stdout",
                "output_type": "stream",
                "text": [
                  "Setting filter cutoff to 0.05\n"
                ]
              },
              {
                "name": "stdout",
                "output_type": "stream",
                "text": [
                  "Setting exclude target from stock to True\n"
                ]
              },
              {
                "name": "stdout",
                "output_type": "stream",
                "text": [
                  "Setting target molecule with smiles: CC1=C(N=CN1)CSCCNC(=NC)NC#N\n"
                ]
              },
              {
                "name": "stderr",
                "output_type": "stream",
                "text": [
                  "\r  0%|          | 0/100 [00:00<?, ?it/s]"
                ]
              },
              {
                "name": "stderr",
                "output_type": "stream",
                "text": [
                  "\r  2%|▏         | 2/100 [00:02<01:43,  1.05s/it]"
                ]
              },
              {
                "name": "stderr",
                "output_type": "stream",
                "text": [
                  "\r  3%|▎         | 3/100 [00:03<01:49,  1.13s/it]"
                ]
              },
              {
                "name": "stderr",
                "output_type": "stream",
                "text": [
                  "\r  4%|▍         | 4/100 [00:04<01:50,  1.15s/it]"
                ]
              },
              {
                "name": "stderr",
                "output_type": "stream",
                "text": [
                  "\r  5%|▌         | 5/100 [00:07<02:36,  1.65s/it]"
                ]
              },
              {
                "name": "stderr",
                "output_type": "stream",
                "text": [
                  "\r  6%|▌         | 6/100 [00:11<03:51,  2.47s/it]"
                ]
              },
              {
                "name": "stderr",
                "output_type": "stream",
                "text": [
                  "\r  7%|▋         | 7/100 [00:11<02:45,  1.78s/it]"
                ]
              },
              {
                "name": "stderr",
                "output_type": "stream",
                "text": [
                  "\r  8%|▊         | 8/100 [00:16<04:18,  2.81s/it]"
                ]
              },
              {
                "name": "stderr",
                "output_type": "stream",
                "text": [
                  "\r  9%|▉         | 9/100 [00:17<03:09,  2.08s/it]"
                ]
              },
              {
                "name": "stderr",
                "output_type": "stream",
                "text": [
                  "\r 10%|█         | 10/100 [00:17<02:31,  1.68s/it]"
                ]
              },
              {
                "name": "stderr",
                "output_type": "stream",
                "text": [
                  "\r 11%|█         | 11/100 [00:19<02:21,  1.59s/it]"
                ]
              },
              {
                "name": "stderr",
                "output_type": "stream",
                "text": [
                  "\r 12%|█▏        | 12/100 [00:19<01:48,  1.24s/it]"
                ]
              },
              {
                "name": "stderr",
                "output_type": "stream",
                "text": [
                  "\r 13%|█▎        | 13/100 [00:21<02:13,  1.53s/it]"
                ]
              },
              {
                "name": "stderr",
                "output_type": "stream",
                "text": [
                  "\r 14%|█▍        | 14/100 [00:23<02:05,  1.46s/it]"
                ]
              },
              {
                "name": "stderr",
                "output_type": "stream",
                "text": [
                  "\r 15%|█▌        | 15/100 [00:25<02:14,  1.58s/it]"
                ]
              },
              {
                "name": "stderr",
                "output_type": "stream",
                "text": [
                  "\r 16%|█▌        | 16/100 [00:26<02:09,  1.54s/it]"
                ]
              },
              {
                "name": "stderr",
                "output_type": "stream",
                "text": [
                  "\r 17%|█▋        | 17/100 [00:29<02:44,  1.98s/it]"
                ]
              },
              {
                "name": "stderr",
                "output_type": "stream",
                "text": [
                  "\r 18%|█▊        | 18/100 [00:31<02:38,  1.94s/it]"
                ]
              },
              {
                "name": "stderr",
                "output_type": "stream",
                "text": [
                  "\r 19%|█▉        | 19/100 [00:33<02:37,  1.94s/it]"
                ]
              },
              {
                "name": "stderr",
                "output_type": "stream",
                "text": [
                  "\r 20%|██        | 20/100 [00:35<02:54,  2.18s/it]"
                ]
              },
              {
                "name": "stderr",
                "output_type": "stream",
                "text": [
                  "\r 21%|██        | 21/100 [00:36<02:09,  1.64s/it]"
                ]
              },
              {
                "name": "stderr",
                "output_type": "stream",
                "text": [
                  "\r 22%|██▏       | 22/100 [00:36<01:37,  1.25s/it]"
                ]
              },
              {
                "name": "stderr",
                "output_type": "stream",
                "text": [
                  "\r 23%|██▎       | 23/100 [00:37<01:24,  1.09s/it]"
                ]
              },
              {
                "name": "stderr",
                "output_type": "stream",
                "text": [
                  "\r 24%|██▍       | 24/100 [00:37<01:06,  1.14it/s]"
                ]
              },
              {
                "name": "stderr",
                "output_type": "stream",
                "text": [
                  "\r 25%|██▌       | 25/100 [00:39<01:15,  1.01s/it]"
                ]
              },
              {
                "name": "stderr",
                "output_type": "stream",
                "text": [
                  "\r 26%|██▌       | 26/100 [00:41<01:36,  1.30s/it]"
                ]
              },
              {
                "name": "stderr",
                "output_type": "stream",
                "text": [
                  "\r 27%|██▋       | 27/100 [00:42<01:38,  1.36s/it]"
                ]
              },
              {
                "name": "stderr",
                "output_type": "stream",
                "text": [
                  "\r 28%|██▊       | 28/100 [00:45<02:05,  1.74s/it]"
                ]
              },
              {
                "name": "stderr",
                "output_type": "stream",
                "text": [
                  "\r 29%|██▉       | 29/100 [00:46<01:53,  1.59s/it]"
                ]
              },
              {
                "name": "stderr",
                "output_type": "stream",
                "text": [
                  "\r 30%|███       | 30/100 [00:47<01:31,  1.31s/it]"
                ]
              },
              {
                "name": "stderr",
                "output_type": "stream",
                "text": [
                  "\r 31%|███       | 31/100 [00:49<01:52,  1.63s/it]"
                ]
              },
              {
                "name": "stderr",
                "output_type": "stream",
                "text": [
                  "\r 32%|███▏      | 32/100 [00:50<01:29,  1.32s/it]"
                ]
              },
              {
                "name": "stderr",
                "output_type": "stream",
                "text": [
                  "\r 33%|███▎      | 33/100 [00:51<01:36,  1.44s/it]"
                ]
              },
              {
                "name": "stderr",
                "output_type": "stream",
                "text": [
                  "\r 34%|███▍      | 34/100 [00:52<01:29,  1.35s/it]"
                ]
              },
              {
                "name": "stderr",
                "output_type": "stream",
                "text": [
                  "\r 35%|███▌      | 35/100 [00:54<01:26,  1.33s/it]"
                ]
              },
              {
                "name": "stderr",
                "output_type": "stream",
                "text": [
                  "\r 36%|███▌      | 36/100 [00:56<01:37,  1.52s/it]"
                ]
              },
              {
                "name": "stderr",
                "output_type": "stream",
                "text": [
                  "\r 37%|███▋      | 37/100 [00:58<01:41,  1.61s/it]"
                ]
              },
              {
                "name": "stderr",
                "output_type": "stream",
                "text": [
                  "\r 38%|███▊      | 38/100 [00:59<01:35,  1.54s/it]"
                ]
              },
              {
                "name": "stderr",
                "output_type": "stream",
                "text": [
                  "\r 39%|███▉      | 39/100 [01:00<01:25,  1.40s/it]"
                ]
              },
              {
                "name": "stderr",
                "output_type": "stream",
                "text": [
                  "\r 40%|████      | 40/100 [01:00<01:02,  1.05s/it]"
                ]
              },
              {
                "name": "stderr",
                "output_type": "stream",
                "text": [
                  "\r 41%|████      | 41/100 [01:02<01:11,  1.21s/it]"
                ]
              },
              {
                "name": "stderr",
                "output_type": "stream",
                "text": [
                  "\r 42%|████▏     | 42/100 [01:02<00:55,  1.05it/s]"
                ]
              },
              {
                "name": "stderr",
                "output_type": "stream",
                "text": [
                  "\r 43%|████▎     | 43/100 [01:03<00:49,  1.16it/s]"
                ]
              },
              {
                "name": "stderr",
                "output_type": "stream",
                "text": [
                  "\r 44%|████▍     | 44/100 [01:05<01:09,  1.24s/it]"
                ]
              },
              {
                "name": "stderr",
                "output_type": "stream",
                "text": [
                  "\r 45%|████▌     | 45/100 [01:06<01:08,  1.24s/it]"
                ]
              },
              {
                "name": "stderr",
                "output_type": "stream",
                "text": [
                  "\r 46%|████▌     | 46/100 [01:07<01:06,  1.22s/it]"
                ]
              },
              {
                "name": "stderr",
                "output_type": "stream",
                "text": [
                  "\r 47%|████▋     | 47/100 [01:10<01:26,  1.62s/it]"
                ]
              },
              {
                "name": "stderr",
                "output_type": "stream",
                "text": [
                  "\r 48%|████▊     | 48/100 [01:11<01:09,  1.34s/it]"
                ]
              },
              {
                "name": "stderr",
                "output_type": "stream",
                "text": [
                  "\r 49%|████▉     | 49/100 [01:13<01:22,  1.62s/it]"
                ]
              },
              {
                "name": "stderr",
                "output_type": "stream",
                "text": [
                  "\r 50%|█████     | 50/100 [01:14<01:13,  1.48s/it]"
                ]
              },
              {
                "name": "stderr",
                "output_type": "stream",
                "text": [
                  "\r 51%|█████     | 51/100 [01:15<01:07,  1.39s/it]"
                ]
              },
              {
                "name": "stderr",
                "output_type": "stream",
                "text": [
                  "\r 52%|█████▏    | 52/100 [01:16<00:51,  1.06s/it]"
                ]
              },
              {
                "name": "stderr",
                "output_type": "stream",
                "text": [
                  "\r 53%|█████▎    | 53/100 [01:18<01:05,  1.39s/it]"
                ]
              },
              {
                "name": "stderr",
                "output_type": "stream",
                "text": [
                  "\r 54%|█████▍    | 54/100 [01:19<01:02,  1.36s/it]"
                ]
              },
              {
                "name": "stderr",
                "output_type": "stream",
                "text": [
                  "\r 55%|█████▌    | 55/100 [01:20<01:00,  1.34s/it]"
                ]
              },
              {
                "name": "stderr",
                "output_type": "stream",
                "text": [
                  "\r 56%|█████▌    | 56/100 [01:22<01:06,  1.50s/it]"
                ]
              },
              {
                "name": "stderr",
                "output_type": "stream",
                "text": [
                  "\r 57%|█████▋    | 57/100 [01:23<01:01,  1.43s/it]"
                ]
              },
              {
                "name": "stderr",
                "output_type": "stream",
                "text": [
                  "\r 58%|█████▊    | 58/100 [01:27<01:30,  2.16s/it]"
                ]
              },
              {
                "name": "stderr",
                "output_type": "stream",
                "text": [
                  "\r 59%|█████▉    | 59/100 [01:30<01:30,  2.20s/it]"
                ]
              },
              {
                "name": "stderr",
                "output_type": "stream",
                "text": [
                  "\r 60%|██████    | 60/100 [01:30<01:12,  1.80s/it]"
                ]
              },
              {
                "name": "stderr",
                "output_type": "stream",
                "text": [
                  "\r 61%|██████    | 61/100 [01:32<01:04,  1.65s/it]"
                ]
              },
              {
                "name": "stderr",
                "output_type": "stream",
                "text": [
                  "\r 62%|██████▏   | 62/100 [01:33<00:59,  1.57s/it]"
                ]
              },
              {
                "name": "stderr",
                "output_type": "stream",
                "text": [
                  "\r 63%|██████▎   | 63/100 [01:35<01:00,  1.63s/it]"
                ]
              },
              {
                "name": "stderr",
                "output_type": "stream",
                "text": [
                  "\r 64%|██████▍   | 64/100 [01:36<00:51,  1.43s/it]"
                ]
              },
              {
                "name": "stderr",
                "output_type": "stream",
                "text": [
                  "\r 65%|██████▌   | 65/100 [01:37<00:44,  1.28s/it]"
                ]
              },
              {
                "name": "stderr",
                "output_type": "stream",
                "text": [
                  "\r 66%|██████▌   | 66/100 [01:38<00:38,  1.14s/it]"
                ]
              },
              {
                "name": "stderr",
                "output_type": "stream",
                "text": [
                  "\r 67%|██████▋   | 67/100 [01:38<00:34,  1.03s/it]"
                ]
              },
              {
                "name": "stderr",
                "output_type": "stream",
                "text": [
                  "\r 68%|██████▊   | 68/100 [01:39<00:25,  1.23it/s]"
                ]
              },
              {
                "name": "stderr",
                "output_type": "stream",
                "text": [
                  "\r 69%|██████▉   | 69/100 [01:41<00:43,  1.42s/it]"
                ]
              },
              {
                "name": "stderr",
                "output_type": "stream",
                "text": [
                  "\r 70%|███████   | 70/100 [01:42<00:35,  1.19s/it]"
                ]
              },
              {
                "name": "stderr",
                "output_type": "stream",
                "text": [
                  "\r 71%|███████   | 71/100 [01:43<00:32,  1.13s/it]"
                ]
              },
              {
                "name": "stderr",
                "output_type": "stream",
                "text": [
                  "\r 72%|███████▏  | 72/100 [01:45<00:35,  1.27s/it]"
                ]
              },
              {
                "name": "stderr",
                "output_type": "stream",
                "text": [
                  "\r 73%|███████▎  | 73/100 [01:46<00:36,  1.35s/it]"
                ]
              },
              {
                "name": "stderr",
                "output_type": "stream",
                "text": [
                  "\r 74%|███████▍  | 74/100 [01:47<00:26,  1.03s/it]"
                ]
              },
              {
                "name": "stderr",
                "output_type": "stream",
                "text": [
                  "\r 75%|███████▌  | 75/100 [01:47<00:24,  1.03it/s]"
                ]
              },
              {
                "name": "stderr",
                "output_type": "stream",
                "text": [
                  "\r 76%|███████▌  | 76/100 [01:47<00:17,  1.40it/s]"
                ]
              },
              {
                "name": "stderr",
                "output_type": "stream",
                "text": [
                  "\r 77%|███████▋  | 77/100 [01:48<00:13,  1.71it/s]"
                ]
              },
              {
                "name": "stderr",
                "output_type": "stream",
                "text": [
                  "\r 78%|███████▊  | 78/100 [01:50<00:26,  1.20s/it]"
                ]
              },
              {
                "name": "stderr",
                "output_type": "stream",
                "text": [
                  "\r 79%|███████▉  | 79/100 [01:51<00:24,  1.15s/it]"
                ]
              },
              {
                "name": "stderr",
                "output_type": "stream",
                "text": [
                  "\r 80%|████████  | 80/100 [01:52<00:19,  1.02it/s]"
                ]
              },
              {
                "name": "stderr",
                "output_type": "stream",
                "text": [
                  "\r 81%|████████  | 81/100 [01:53<00:16,  1.15it/s]"
                ]
              },
              {
                "name": "stderr",
                "output_type": "stream",
                "text": [
                  "\r 82%|████████▏ | 82/100 [01:54<00:16,  1.08it/s]"
                ]
              },
              {
                "name": "stderr",
                "output_type": "stream",
                "text": [
                  "\r 83%|████████▎ | 83/100 [01:57<00:27,  1.64s/it]"
                ]
              },
              {
                "name": "stderr",
                "output_type": "stream",
                "text": [
                  "\r 84%|████████▍ | 84/100 [01:58<00:22,  1.40s/it]"
                ]
              },
              {
                "name": "stderr",
                "output_type": "stream",
                "text": [
                  "\r 85%|████████▌ | 85/100 [02:00<00:23,  1.59s/it]"
                ]
              },
              {
                "name": "stderr",
                "output_type": "stream",
                "text": [
                  "\r 86%|████████▌ | 86/100 [02:02<00:24,  1.78s/it]"
                ]
              },
              {
                "name": "stderr",
                "output_type": "stream",
                "text": [
                  "\r 87%|████████▋ | 87/100 [02:04<00:23,  1.80s/it]"
                ]
              },
              {
                "name": "stderr",
                "output_type": "stream",
                "text": [
                  "\r 88%|████████▊ | 88/100 [02:06<00:20,  1.74s/it]"
                ]
              },
              {
                "name": "stderr",
                "output_type": "stream",
                "text": [
                  "\r 89%|████████▉ | 89/100 [02:07<00:18,  1.66s/it]"
                ]
              },
              {
                "name": "stderr",
                "output_type": "stream",
                "text": [
                  "\r 90%|█████████ | 90/100 [02:09<00:16,  1.65s/it]"
                ]
              },
              {
                "name": "stderr",
                "output_type": "stream",
                "text": [
                  "\r 91%|█████████ | 91/100 [02:11<00:16,  1.84s/it]"
                ]
              },
              {
                "name": "stderr",
                "output_type": "stream",
                "text": [
                  "\r 92%|█████████▏| 92/100 [02:13<00:14,  1.77s/it]"
                ]
              },
              {
                "name": "stderr",
                "output_type": "stream",
                "text": [
                  "\r 93%|█████████▎| 93/100 [02:14<00:11,  1.67s/it]"
                ]
              },
              {
                "name": "stderr",
                "output_type": "stream",
                "text": [
                  "\r 94%|█████████▍| 94/100 [02:14<00:07,  1.27s/it]"
                ]
              },
              {
                "name": "stderr",
                "output_type": "stream",
                "text": [
                  "\r 95%|█████████▌| 95/100 [02:18<00:10,  2.07s/it]"
                ]
              },
              {
                "name": "stderr",
                "output_type": "stream",
                "text": [
                  "\r 96%|█████████▌| 96/100 [02:20<00:08,  2.09s/it]"
                ]
              },
              {
                "name": "stderr",
                "output_type": "stream",
                "text": [
                  "\r 97%|█████████▋| 97/100 [02:22<00:06,  2.07s/it]"
                ]
              },
              {
                "name": "stderr",
                "output_type": "stream",
                "text": [
                  "\r 98%|█████████▊| 98/100 [02:23<00:03,  1.77s/it]"
                ]
              },
              {
                "name": "stderr",
                "output_type": "stream",
                "text": [
                  "\r 99%|█████████▉| 99/100 [02:25<00:01,  1.72s/it]"
                ]
              },
              {
                "name": "stderr",
                "output_type": "stream",
                "text": [
                  "\r100%|██████████| 100/100 [02:27<00:00,  1.89s/it]"
                ]
              },
              {
                "name": "stderr",
                "output_type": "stream",
                "text": [
                  "\r                                                 "
                ]
              },
              {
                "name": "stderr",
                "output_type": "stream",
                "text": [
                  "\r"
                ]
              },
              {
                "data": {
                  "text/html": "<b>Tree search completed!</b>",
                  "text/plain": "<IPython.core.display.HTML object>"
                },
                "metadata": {},
                "output_type": "display_data"
              }
            ]
          }
        },
        "2fda09b53b4f49d795c669fb328eb7a0": {
          "model_module": "@jupyter-widgets/controls",
          "model_module_version": "1.5.0",
          "model_name": "ButtonModel",
          "state": {
            "_dom_classes": [],
            "_model_module": "@jupyter-widgets/controls",
            "_model_module_version": "1.5.0",
            "_model_name": "ButtonModel",
            "_view_count": null,
            "_view_module": "@jupyter-widgets/controls",
            "_view_module_version": "1.5.0",
            "_view_name": "ButtonView",
            "button_style": "",
            "description": "Show Reactions",
            "disabled": false,
            "icon": "",
            "layout": "IPY_MODEL_ade23c7f27af4de487ef07312b2792f6",
            "style": "IPY_MODEL_25151ebb8f8b424296bc0ce9e6622b18",
            "tooltip": ""
          }
        },
        "31c47811e4304a76be36a77f1540a05d": {
          "model_module": "@jupyter-widgets/controls",
          "model_module_version": "1.5.0",
          "model_name": "BoundedIntTextModel",
          "state": {
            "_dom_classes": [],
            "_model_module": "@jupyter-widgets/controls",
            "_model_module_version": "1.5.0",
            "_model_name": "BoundedIntTextModel",
            "_view_count": null,
            "_view_module": "@jupyter-widgets/controls",
            "_view_module_version": "1.5.0",
            "_view_name": "IntTextView",
            "continuous_update": false,
            "description": "Policy cutoff number",
            "description_tooltip": null,
            "disabled": false,
            "layout": "IPY_MODEL_f29b68052e20431f9a913aa1cb5a3402",
            "max": 1000,
            "min": 1,
            "step": 1,
            "style": "IPY_MODEL_79a8b174d93c447bb7690d88060ee06f",
            "value": 50
          }
        },
        "32be60b29f1943c5a0fffc8c696b8213": {
          "model_module": "@jupyter-widgets/base",
          "model_module_version": "1.2.0",
          "model_name": "LayoutModel",
          "state": {
            "_model_module": "@jupyter-widgets/base",
            "_model_module_version": "1.2.0",
            "_model_name": "LayoutModel",
            "_view_count": null,
            "_view_module": "@jupyter-widgets/base",
            "_view_module_version": "1.2.0",
            "_view_name": "LayoutView",
            "align_content": null,
            "align_items": null,
            "align_self": null,
            "border": null,
            "bottom": null,
            "display": null,
            "flex": null,
            "flex_flow": null,
            "grid_area": null,
            "grid_auto_columns": null,
            "grid_auto_flow": null,
            "grid_auto_rows": null,
            "grid_column": null,
            "grid_gap": null,
            "grid_row": null,
            "grid_template_areas": null,
            "grid_template_columns": null,
            "grid_template_rows": null,
            "height": null,
            "justify_content": null,
            "justify_items": null,
            "left": null,
            "margin": null,
            "max_height": null,
            "max_width": null,
            "min_height": null,
            "min_width": null,
            "object_fit": null,
            "object_position": null,
            "order": null,
            "overflow": null,
            "overflow_x": null,
            "overflow_y": null,
            "padding": null,
            "right": null,
            "top": null,
            "visibility": null,
            "width": null
          }
        },
        "339dd933251f482a8fc94fb07dc5ad8a": {
          "model_module": "@jupyter-widgets/controls",
          "model_module_version": "1.5.0",
          "model_name": "DropdownModel",
          "state": {
            "_dom_classes": [],
            "_model_module": "@jupyter-widgets/controls",
            "_model_module_version": "1.5.0",
            "_model_name": "DropdownModel",
            "_options_labels": [
              "state score",
              "number of reactions",
              "number of pre-cursors",
              "number of pre-cursors in stock",
              "average template occurrence"
            ],
            "_view_count": null,
            "_view_module": "@jupyter-widgets/controls",
            "_view_module_version": "1.5.0",
            "_view_name": "DropdownView",
            "description": "Reorder by:",
            "description_tooltip": null,
            "disabled": false,
            "index": 0,
            "layout": "IPY_MODEL_051a8ed9e2134480ae314303d4e4aaaf",
            "style": "IPY_MODEL_7074285daa9d4680ae26a14ffcc2ca8a"
          }
        },
        "33a2f529642e44149069c19de61b2721": {
          "model_module": "@jupyter-widgets/controls",
          "model_module_version": "1.5.0",
          "model_name": "DropdownModel",
          "state": {
            "_dom_classes": [],
            "_model_module": "@jupyter-widgets/controls",
            "_model_module_version": "1.5.0",
            "_model_name": "DropdownModel",
            "_options_labels": [
              "Option 1",
              "Option 2",
              "Option 3",
              "Option 4",
              "Option 5",
              "Option 6",
              "Option 7",
              "Option 8",
              "Option 9",
              "Option 10",
              "Option 11",
              "Option 12"
            ],
            "_view_count": null,
            "_view_module": "@jupyter-widgets/controls",
            "_view_module_version": "1.5.0",
            "_view_name": "DropdownView",
            "description": "Routes: ",
            "description_tooltip": null,
            "disabled": false,
            "index": 0,
            "layout": "IPY_MODEL_385fdb76d4044423b1fa40001acc6dda",
            "style": "IPY_MODEL_84836f3ea6cd4d4aab2ecb54cf32a825"
          }
        },
        "36dbc09a28854702aa98b17c5d0d620b": {
          "model_module": "@jupyter-widgets/controls",
          "model_module_version": "1.5.0",
          "model_name": "DescriptionStyleModel",
          "state": {
            "_model_module": "@jupyter-widgets/controls",
            "_model_module_version": "1.5.0",
            "_model_name": "DescriptionStyleModel",
            "_view_count": null,
            "_view_module": "@jupyter-widgets/base",
            "_view_module_version": "1.2.0",
            "_view_name": "StyleView",
            "description_width": "initial"
          }
        },
        "3734c8dd86294800aad4d084b42dd31d": {
          "model_module": "@jupyter-widgets/controls",
          "model_module_version": "1.5.0",
          "model_name": "ButtonStyleModel",
          "state": {
            "_model_module": "@jupyter-widgets/controls",
            "_model_module_version": "1.5.0",
            "_model_name": "ButtonStyleModel",
            "_view_count": null,
            "_view_module": "@jupyter-widgets/base",
            "_view_module_version": "1.2.0",
            "_view_name": "StyleView",
            "button_color": null,
            "font_weight": ""
          }
        },
        "385fdb76d4044423b1fa40001acc6dda": {
          "model_module": "@jupyter-widgets/base",
          "model_module_version": "1.2.0",
          "model_name": "LayoutModel",
          "state": {
            "_model_module": "@jupyter-widgets/base",
            "_model_module_version": "1.2.0",
            "_model_name": "LayoutModel",
            "_view_count": null,
            "_view_module": "@jupyter-widgets/base",
            "_view_module_version": "1.2.0",
            "_view_name": "LayoutView",
            "align_content": null,
            "align_items": null,
            "align_self": null,
            "border": null,
            "bottom": null,
            "display": null,
            "flex": null,
            "flex_flow": null,
            "grid_area": null,
            "grid_auto_columns": null,
            "grid_auto_flow": null,
            "grid_auto_rows": null,
            "grid_column": null,
            "grid_gap": null,
            "grid_row": null,
            "grid_template_areas": null,
            "grid_template_columns": null,
            "grid_template_rows": null,
            "height": null,
            "justify_content": null,
            "justify_items": null,
            "left": null,
            "margin": null,
            "max_height": null,
            "max_width": null,
            "min_height": null,
            "min_width": null,
            "object_fit": null,
            "object_position": null,
            "order": null,
            "overflow": null,
            "overflow_x": null,
            "overflow_y": null,
            "padding": null,
            "right": null,
            "top": null,
            "visibility": null,
            "width": null
          }
        },
        "394e10c4287648278af011304f179e00": {
          "model_module": "@jupyter-widgets/base",
          "model_module_version": "1.2.0",
          "model_name": "LayoutModel",
          "state": {
            "_model_module": "@jupyter-widgets/base",
            "_model_module_version": "1.2.0",
            "_model_name": "LayoutModel",
            "_view_count": null,
            "_view_module": "@jupyter-widgets/base",
            "_view_module_version": "1.2.0",
            "_view_name": "LayoutView",
            "align_content": null,
            "align_items": null,
            "align_self": null,
            "border": null,
            "bottom": null,
            "display": null,
            "flex": null,
            "flex_flow": null,
            "grid_area": null,
            "grid_auto_columns": null,
            "grid_auto_flow": null,
            "grid_auto_rows": null,
            "grid_column": null,
            "grid_gap": null,
            "grid_row": null,
            "grid_template_areas": null,
            "grid_template_columns": null,
            "grid_template_rows": null,
            "height": null,
            "justify_content": null,
            "justify_items": null,
            "left": null,
            "margin": null,
            "max_height": null,
            "max_width": null,
            "min_height": null,
            "min_width": null,
            "object_fit": null,
            "object_position": null,
            "order": null,
            "overflow": null,
            "overflow_x": null,
            "overflow_y": null,
            "padding": null,
            "right": null,
            "top": null,
            "visibility": null,
            "width": "80px"
          }
        },
        "39f60aa2d28f4d08a96d55ca1605ef8b": {
          "model_module": "@jupyter-widgets/controls",
          "model_module_version": "1.5.0",
          "model_name": "DescriptionStyleModel",
          "state": {
            "_model_module": "@jupyter-widgets/controls",
            "_model_module_version": "1.5.0",
            "_model_name": "DescriptionStyleModel",
            "_view_count": null,
            "_view_module": "@jupyter-widgets/base",
            "_view_module_version": "1.2.0",
            "_view_name": "StyleView",
            "description_width": ""
          }
        },
        "3e7b9056212746f39bafe22e3a753520": {
          "model_module": "@jupyter-widgets/controls",
          "model_module_version": "1.5.0",
          "model_name": "HBoxModel",
          "state": {
            "_dom_classes": [],
            "_model_module": "@jupyter-widgets/controls",
            "_model_module_version": "1.5.0",
            "_model_name": "HBoxModel",
            "_view_count": null,
            "_view_module": "@jupyter-widgets/controls",
            "_view_module_version": "1.5.0",
            "_view_name": "HBoxView",
            "box_style": "",
            "children": [
              "IPY_MODEL_a03a16ccbab642c5b9a05c66a9eedea5",
              "IPY_MODEL_a5d06ef836a3401a8959701cea59f3cd"
            ],
            "layout": "IPY_MODEL_d29598a188c74302af89790f4b4afe7e"
          }
        },
        "40c9686a79024a5d8428f5435b23310c": {
          "model_module": "@jupyter-widgets/base",
          "model_module_version": "1.2.0",
          "model_name": "LayoutModel",
          "state": {
            "_model_module": "@jupyter-widgets/base",
            "_model_module_version": "1.2.0",
            "_model_name": "LayoutModel",
            "_view_count": null,
            "_view_module": "@jupyter-widgets/base",
            "_view_module_version": "1.2.0",
            "_view_name": "LayoutView",
            "align_content": null,
            "align_items": null,
            "align_self": null,
            "border": null,
            "bottom": null,
            "display": null,
            "flex": null,
            "flex_flow": null,
            "grid_area": null,
            "grid_auto_columns": null,
            "grid_auto_flow": null,
            "grid_auto_rows": null,
            "grid_column": null,
            "grid_gap": null,
            "grid_row": null,
            "grid_template_areas": null,
            "grid_template_columns": null,
            "grid_template_rows": null,
            "height": null,
            "justify_content": null,
            "justify_items": null,
            "left": null,
            "margin": null,
            "max_height": null,
            "max_width": null,
            "min_height": null,
            "min_width": null,
            "object_fit": null,
            "object_position": null,
            "order": null,
            "overflow": null,
            "overflow_x": null,
            "overflow_y": null,
            "padding": null,
            "right": null,
            "top": null,
            "visibility": null,
            "width": null
          }
        },
        "413033fcf0c94503b6a18403e943b1bf": {
          "model_module": "@jupyter-widgets/base",
          "model_module_version": "1.2.0",
          "model_name": "LayoutModel",
          "state": {
            "_model_module": "@jupyter-widgets/base",
            "_model_module_version": "1.2.0",
            "_model_name": "LayoutModel",
            "_view_count": null,
            "_view_module": "@jupyter-widgets/base",
            "_view_module_version": "1.2.0",
            "_view_name": "LayoutView",
            "align_content": null,
            "align_items": null,
            "align_self": null,
            "border": null,
            "bottom": null,
            "display": null,
            "flex": null,
            "flex_flow": null,
            "grid_area": null,
            "grid_auto_columns": null,
            "grid_auto_flow": null,
            "grid_auto_rows": null,
            "grid_column": null,
            "grid_gap": null,
            "grid_row": null,
            "grid_template_areas": null,
            "grid_template_columns": null,
            "grid_template_rows": null,
            "height": null,
            "justify_content": null,
            "justify_items": null,
            "left": null,
            "margin": null,
            "max_height": null,
            "max_width": null,
            "min_height": null,
            "min_width": null,
            "object_fit": null,
            "object_position": null,
            "order": null,
            "overflow": null,
            "overflow_x": null,
            "overflow_y": null,
            "padding": null,
            "right": null,
            "top": null,
            "visibility": null,
            "width": null
          }
        },
        "4135a204cafe42edbbc12441c5bf86c3": {
          "model_module": "@jupyter-widgets/controls",
          "model_module_version": "1.5.0",
          "model_name": "HBoxModel",
          "state": {
            "_dom_classes": [],
            "_model_module": "@jupyter-widgets/controls",
            "_model_module_version": "1.5.0",
            "_model_name": "HBoxModel",
            "_view_count": null,
            "_view_module": "@jupyter-widgets/controls",
            "_view_module_version": "1.5.0",
            "_view_name": "HBoxView",
            "box_style": "",
            "children": [
              "IPY_MODEL_2fda09b53b4f49d795c669fb328eb7a0",
              "IPY_MODEL_33a2f529642e44149069c19de61b2721",
              "IPY_MODEL_339dd933251f482a8fc94fb07dc5ad8a"
            ],
            "layout": "IPY_MODEL_c04d6c02d19b45109d6474e3a882a3a6"
          }
        },
        "42f61f32c6084f3e947ffe792b38d78d": {
          "model_module": "@jupyter-widgets/controls",
          "model_module_version": "1.5.0",
          "model_name": "DescriptionStyleModel",
          "state": {
            "_model_module": "@jupyter-widgets/controls",
            "_model_module_version": "1.5.0",
            "_model_name": "DescriptionStyleModel",
            "_view_count": null,
            "_view_module": "@jupyter-widgets/base",
            "_view_module_version": "1.2.0",
            "_view_name": "StyleView",
            "description_width": "initial"
          }
        },
        "4add73cd4d2746afb9af23f9bfebc90b": {
          "model_module": "@jupyter-widgets/controls",
          "model_module_version": "1.5.0",
          "model_name": "IntTextModel",
          "state": {
            "_dom_classes": [],
            "_model_module": "@jupyter-widgets/controls",
            "_model_module_version": "1.5.0",
            "_model_name": "IntTextModel",
            "_view_count": null,
            "_view_module": "@jupyter-widgets/controls",
            "_view_module_version": "1.5.0",
            "_view_name": "IntTextView",
            "continuous_update": true,
            "description": "",
            "description_tooltip": null,
            "disabled": false,
            "layout": "IPY_MODEL_8a6dc82e97774833a602b2c7bfef8614",
            "step": 1,
            "style": "IPY_MODEL_f3616da59d4240fd8cffc0207d93af8e",
            "value": 5
          }
        },
        "4cc53c5c71d440d5b4dde294d06c6b6f": {
          "model_module": "@jupyter-widgets/base",
          "model_module_version": "1.2.0",
          "model_name": "LayoutModel",
          "state": {
            "_model_module": "@jupyter-widgets/base",
            "_model_module_version": "1.2.0",
            "_model_name": "LayoutModel",
            "_view_count": null,
            "_view_module": "@jupyter-widgets/base",
            "_view_module_version": "1.2.0",
            "_view_name": "LayoutView",
            "align_content": null,
            "align_items": null,
            "align_self": null,
            "border": null,
            "bottom": null,
            "display": null,
            "flex": null,
            "flex_flow": null,
            "grid_area": null,
            "grid_auto_columns": null,
            "grid_auto_flow": null,
            "grid_auto_rows": null,
            "grid_column": null,
            "grid_gap": null,
            "grid_row": null,
            "grid_template_areas": null,
            "grid_template_columns": null,
            "grid_template_rows": null,
            "height": null,
            "justify_content": null,
            "justify_items": null,
            "left": null,
            "margin": null,
            "max_height": null,
            "max_width": null,
            "min_height": null,
            "min_width": null,
            "object_fit": null,
            "object_position": null,
            "order": null,
            "overflow": null,
            "overflow_x": null,
            "overflow_y": null,
            "padding": null,
            "right": null,
            "top": null,
            "visibility": null,
            "width": null
          }
        },
        "4d4e6a8ed5ba4ac1a6119736f105cadb": {
          "model_module": "@jupyter-widgets/controls",
          "model_module_version": "1.5.0",
          "model_name": "SliderStyleModel",
          "state": {
            "_model_module": "@jupyter-widgets/controls",
            "_model_module_version": "1.5.0",
            "_model_name": "SliderStyleModel",
            "_view_count": null,
            "_view_module": "@jupyter-widgets/base",
            "_view_module_version": "1.2.0",
            "_view_name": "StyleView",
            "description_width": "",
            "handle_color": null
          }
        },
        "4f46b330bbf64ec38b92cb5d4655c470": {
          "model_module": "@jupyter-widgets/base",
          "model_module_version": "1.2.0",
          "model_name": "LayoutModel",
          "state": {
            "_model_module": "@jupyter-widgets/base",
            "_model_module_version": "1.2.0",
            "_model_name": "LayoutModel",
            "_view_count": null,
            "_view_module": "@jupyter-widgets/base",
            "_view_module_version": "1.2.0",
            "_view_name": "LayoutView",
            "align_content": null,
            "align_items": null,
            "align_self": null,
            "border": null,
            "bottom": null,
            "display": null,
            "flex": null,
            "flex_flow": null,
            "grid_area": null,
            "grid_auto_columns": null,
            "grid_auto_flow": null,
            "grid_auto_rows": null,
            "grid_column": null,
            "grid_gap": null,
            "grid_row": null,
            "grid_template_areas": null,
            "grid_template_columns": null,
            "grid_template_rows": null,
            "height": null,
            "justify_content": null,
            "justify_items": null,
            "left": null,
            "margin": null,
            "max_height": null,
            "max_width": null,
            "min_height": null,
            "min_width": null,
            "object_fit": null,
            "object_position": null,
            "order": null,
            "overflow": null,
            "overflow_x": null,
            "overflow_y": null,
            "padding": null,
            "right": null,
            "top": null,
            "visibility": null,
            "width": null
          }
        },
        "4fdcabca90fe491f9ff5fb4e2af981bd": {
          "model_module": "@jupyter-widgets/base",
          "model_module_version": "1.2.0",
          "model_name": "LayoutModel",
          "state": {
            "_model_module": "@jupyter-widgets/base",
            "_model_module_version": "1.2.0",
            "_model_name": "LayoutModel",
            "_view_count": null,
            "_view_module": "@jupyter-widgets/base",
            "_view_module_version": "1.2.0",
            "_view_name": "LayoutView",
            "align_content": null,
            "align_items": null,
            "align_self": null,
            "border": null,
            "bottom": null,
            "display": null,
            "flex": null,
            "flex_flow": null,
            "grid_area": null,
            "grid_auto_columns": null,
            "grid_auto_flow": null,
            "grid_auto_rows": null,
            "grid_column": null,
            "grid_gap": null,
            "grid_row": null,
            "grid_template_areas": null,
            "grid_template_columns": null,
            "grid_template_rows": null,
            "height": null,
            "justify_content": null,
            "justify_items": null,
            "left": null,
            "margin": null,
            "max_height": null,
            "max_width": null,
            "min_height": null,
            "min_width": null,
            "object_fit": null,
            "object_position": null,
            "order": null,
            "overflow": null,
            "overflow_x": null,
            "overflow_y": null,
            "padding": null,
            "right": null,
            "top": null,
            "visibility": null,
            "width": "80px"
          }
        },
        "52db9edd73044f8685db3c5afa7b9f86": {
          "model_module": "@jupyter-widgets/controls",
          "model_module_version": "1.5.0",
          "model_name": "DescriptionStyleModel",
          "state": {
            "_model_module": "@jupyter-widgets/controls",
            "_model_module_version": "1.5.0",
            "_model_name": "DescriptionStyleModel",
            "_view_count": null,
            "_view_module": "@jupyter-widgets/base",
            "_view_module_version": "1.2.0",
            "_view_name": "StyleView",
            "description_width": ""
          }
        },
        "533ac4043d7a48039e93db40936c74bb": {
          "model_module": "@jupyter-widgets/controls",
          "model_module_version": "1.5.0",
          "model_name": "DescriptionStyleModel",
          "state": {
            "_model_module": "@jupyter-widgets/controls",
            "_model_module_version": "1.5.0",
            "_model_name": "DescriptionStyleModel",
            "_view_count": null,
            "_view_module": "@jupyter-widgets/base",
            "_view_module_version": "1.2.0",
            "_view_name": "StyleView",
            "description_width": ""
          }
        },
        "603e2375d9564ff799c62979bcf72e1a": {
          "model_module": "@jupyter-widgets/controls",
          "model_module_version": "1.5.0",
          "model_name": "DescriptionStyleModel",
          "state": {
            "_model_module": "@jupyter-widgets/controls",
            "_model_module_version": "1.5.0",
            "_model_name": "DescriptionStyleModel",
            "_view_count": null,
            "_view_module": "@jupyter-widgets/base",
            "_view_module_version": "1.2.0",
            "_view_name": "StyleView",
            "description_width": "initial"
          }
        },
        "6335c266090f4928bf493070ed067d2f": {
          "model_module": "@jupyter-widgets/controls",
          "model_module_version": "1.5.0",
          "model_name": "DescriptionStyleModel",
          "state": {
            "_model_module": "@jupyter-widgets/controls",
            "_model_module_version": "1.5.0",
            "_model_name": "DescriptionStyleModel",
            "_view_count": null,
            "_view_module": "@jupyter-widgets/base",
            "_view_module_version": "1.2.0",
            "_view_name": "StyleView",
            "description_width": ""
          }
        },
        "659563996903475aa2c7dd715dc49db3": {
          "model_module": "@jupyter-widgets/base",
          "model_module_version": "1.2.0",
          "model_name": "LayoutModel",
          "state": {
            "_model_module": "@jupyter-widgets/base",
            "_model_module_version": "1.2.0",
            "_model_name": "LayoutModel",
            "_view_count": null,
            "_view_module": "@jupyter-widgets/base",
            "_view_module_version": "1.2.0",
            "_view_name": "LayoutView",
            "align_content": null,
            "align_items": null,
            "align_self": null,
            "border": "1px solid silver",
            "bottom": null,
            "display": null,
            "flex": null,
            "flex_flow": null,
            "grid_area": null,
            "grid_auto_columns": null,
            "grid_auto_flow": null,
            "grid_auto_rows": null,
            "grid_column": null,
            "grid_gap": null,
            "grid_row": null,
            "grid_template_areas": null,
            "grid_template_columns": null,
            "grid_template_rows": null,
            "height": "320px",
            "justify_content": null,
            "justify_items": null,
            "left": null,
            "margin": null,
            "max_height": null,
            "max_width": null,
            "min_height": null,
            "min_width": null,
            "object_fit": null,
            "object_position": null,
            "order": null,
            "overflow": "auto",
            "overflow_x": null,
            "overflow_y": null,
            "padding": null,
            "right": null,
            "top": null,
            "visibility": null,
            "width": "99%"
          }
        },
        "665ee8ec5db340e58ae7c0eca62ab915": {
          "model_module": "@jupyter-widgets/base",
          "model_module_version": "1.2.0",
          "model_name": "LayoutModel",
          "state": {
            "_model_module": "@jupyter-widgets/base",
            "_model_module_version": "1.2.0",
            "_model_name": "LayoutModel",
            "_view_count": null,
            "_view_module": "@jupyter-widgets/base",
            "_view_module_version": "1.2.0",
            "_view_name": "LayoutView",
            "align_content": null,
            "align_items": null,
            "align_self": null,
            "border": null,
            "bottom": null,
            "display": null,
            "flex": null,
            "flex_flow": null,
            "grid_area": null,
            "grid_auto_columns": null,
            "grid_auto_flow": null,
            "grid_auto_rows": null,
            "grid_column": null,
            "grid_gap": null,
            "grid_row": null,
            "grid_template_areas": null,
            "grid_template_columns": null,
            "grid_template_rows": null,
            "height": null,
            "justify_content": null,
            "justify_items": null,
            "left": null,
            "margin": null,
            "max_height": null,
            "max_width": null,
            "min_height": null,
            "min_width": null,
            "object_fit": null,
            "object_position": null,
            "order": null,
            "overflow": null,
            "overflow_x": null,
            "overflow_y": null,
            "padding": null,
            "right": null,
            "top": null,
            "visibility": null,
            "width": null
          }
        },
        "667a2cee99b14d1a83c62588b4925177": {
          "model_module": "@jupyter-widgets/base",
          "model_module_version": "1.2.0",
          "model_name": "LayoutModel",
          "state": {
            "_model_module": "@jupyter-widgets/base",
            "_model_module_version": "1.2.0",
            "_model_name": "LayoutModel",
            "_view_count": null,
            "_view_module": "@jupyter-widgets/base",
            "_view_module_version": "1.2.0",
            "_view_name": "LayoutView",
            "align_content": null,
            "align_items": null,
            "align_self": null,
            "border": "1px solid silver",
            "bottom": null,
            "display": null,
            "flex": null,
            "flex_flow": null,
            "grid_area": null,
            "grid_auto_columns": null,
            "grid_auto_flow": null,
            "grid_auto_rows": null,
            "grid_column": null,
            "grid_gap": null,
            "grid_row": null,
            "grid_template_areas": null,
            "grid_template_columns": null,
            "grid_template_rows": null,
            "height": null,
            "justify_content": null,
            "justify_items": null,
            "left": null,
            "margin": null,
            "max_height": null,
            "max_width": null,
            "min_height": null,
            "min_width": null,
            "object_fit": null,
            "object_position": null,
            "order": null,
            "overflow": null,
            "overflow_x": null,
            "overflow_y": null,
            "padding": null,
            "right": null,
            "top": null,
            "visibility": null,
            "width": null
          }
        },
        "67ac0b90435c4b9bbc251d311a7e8e81": {
          "model_module": "@jupyter-widgets/controls",
          "model_module_version": "1.5.0",
          "model_name": "LabelModel",
          "state": {
            "_dom_classes": [],
            "_model_module": "@jupyter-widgets/controls",
            "_model_module_version": "1.5.0",
            "_model_name": "LabelModel",
            "_view_count": null,
            "_view_module": "@jupyter-widgets/controls",
            "_view_module_version": "1.5.0",
            "_view_name": "LabelView",
            "description": "",
            "description_tooltip": null,
            "layout": "IPY_MODEL_665ee8ec5db340e58ae7c0eca62ab915",
            "placeholder": "​",
            "style": "IPY_MODEL_ea61542e42814b9ca6eef5ff72ca4ad6",
            "value": "Stocks"
          }
        },
        "67ef76c0903241628146ad670bb1ad1a": {
          "model_module": "@jupyter-widgets/controls",
          "model_module_version": "1.5.0",
          "model_name": "LabelModel",
          "state": {
            "_dom_classes": [],
            "_model_module": "@jupyter-widgets/controls",
            "_model_module_version": "1.5.0",
            "_model_name": "LabelModel",
            "_view_count": null,
            "_view_module": "@jupyter-widgets/controls",
            "_view_module_version": "1.5.0",
            "_view_name": "LabelView",
            "description": "",
            "description_tooltip": null,
            "layout": "IPY_MODEL_0fa59a3ffc3f434293fe86b2943acfd0",
            "placeholder": "​",
            "style": "IPY_MODEL_775536aa6de84fdb9cd106505662e829",
            "value": "Max Iterations"
          }
        },
        "69a9286ab5a8467ea542f294d740db7a": {
          "model_module": "@jupyter-widgets/controls",
          "model_module_version": "1.5.0",
          "model_name": "DescriptionStyleModel",
          "state": {
            "_model_module": "@jupyter-widgets/controls",
            "_model_module_version": "1.5.0",
            "_model_name": "DescriptionStyleModel",
            "_view_count": null,
            "_view_module": "@jupyter-widgets/base",
            "_view_module_version": "1.2.0",
            "_view_name": "StyleView",
            "description_width": "initial"
          }
        },
        "6a353c853364497c97ac16d437ad8033": {
          "model_module": "@jupyter-widgets/controls",
          "model_module_version": "1.5.0",
          "model_name": "FloatTextModel",
          "state": {
            "_dom_classes": [],
            "_model_module": "@jupyter-widgets/controls",
            "_model_module_version": "1.5.0",
            "_model_name": "FloatTextModel",
            "_view_count": null,
            "_view_module": "@jupyter-widgets/controls",
            "_view_module_version": "1.5.0",
            "_view_name": "FloatTextView",
            "continuous_update": false,
            "description": "C",
            "description_tooltip": null,
            "disabled": false,
            "layout": "IPY_MODEL_4f46b330bbf64ec38b92cb5d4655c470",
            "step": null,
            "style": "IPY_MODEL_39f60aa2d28f4d08a96d55ca1605ef8b",
            "value": 1.4
          }
        },
        "6adb610601564946a8ea0f53ff677b1f": {
          "model_module": "@jupyter-widgets/controls",
          "model_module_version": "1.5.0",
          "model_name": "SelectMultipleModel",
          "state": {
            "_dom_classes": [],
            "_model_module": "@jupyter-widgets/controls",
            "_model_module_version": "1.5.0",
            "_model_name": "SelectMultipleModel",
            "_options_labels": [
              "uspto"
            ],
            "_view_count": null,
            "_view_module": "@jupyter-widgets/controls",
            "_view_module_version": "1.5.0",
            "_view_name": "SelectMultipleView",
            "description": "Filter Policy:",
            "description_tooltip": null,
            "disabled": false,
            "index": [],
            "layout": "IPY_MODEL_8279b3e3d65d4f47826cb930e20b7f86",
            "rows": 2,
            "style": "IPY_MODEL_603e2375d9564ff799c62979bcf72e1a"
          }
        },
        "6e5d7bde063446ff921b5b0054b92ebe": {
          "model_module": "@jupyter-widgets/controls",
          "model_module_version": "1.5.0",
          "model_name": "DescriptionStyleModel",
          "state": {
            "_model_module": "@jupyter-widgets/controls",
            "_model_module_version": "1.5.0",
            "_model_name": "DescriptionStyleModel",
            "_view_count": null,
            "_view_module": "@jupyter-widgets/base",
            "_view_module_version": "1.2.0",
            "_view_name": "StyleView",
            "description_width": ""
          }
        },
        "7074285daa9d4680ae26a14ffcc2ca8a": {
          "model_module": "@jupyter-widgets/controls",
          "model_module_version": "1.5.0",
          "model_name": "DescriptionStyleModel",
          "state": {
            "_model_module": "@jupyter-widgets/controls",
            "_model_module_version": "1.5.0",
            "_model_name": "DescriptionStyleModel",
            "_view_count": null,
            "_view_module": "@jupyter-widgets/base",
            "_view_module_version": "1.2.0",
            "_view_name": "StyleView",
            "description_width": "initial"
          }
        },
        "71173e4933e34b4c9d4409d338b643cf": {
          "model_module": "@jupyter-widgets/base",
          "model_module_version": "1.2.0",
          "model_name": "LayoutModel",
          "state": {
            "_model_module": "@jupyter-widgets/base",
            "_model_module_version": "1.2.0",
            "_model_name": "LayoutModel",
            "_view_count": null,
            "_view_module": "@jupyter-widgets/base",
            "_view_module_version": "1.2.0",
            "_view_name": "LayoutView",
            "align_content": null,
            "align_items": null,
            "align_self": null,
            "border": null,
            "bottom": null,
            "display": null,
            "flex": null,
            "flex_flow": null,
            "grid_area": null,
            "grid_auto_columns": null,
            "grid_auto_flow": null,
            "grid_auto_rows": null,
            "grid_column": null,
            "grid_gap": null,
            "grid_row": null,
            "grid_template_areas": null,
            "grid_template_columns": null,
            "grid_template_rows": null,
            "height": null,
            "justify_content": null,
            "justify_items": null,
            "left": null,
            "margin": null,
            "max_height": null,
            "max_width": null,
            "min_height": null,
            "min_width": null,
            "object_fit": null,
            "object_position": null,
            "order": null,
            "overflow": null,
            "overflow_x": null,
            "overflow_y": null,
            "padding": null,
            "right": null,
            "top": null,
            "visibility": null,
            "width": null
          }
        },
        "765fb8b065fc4df681874d2ac2041a92": {
          "model_module": "@jupyter-widgets/base",
          "model_module_version": "1.2.0",
          "model_name": "LayoutModel",
          "state": {
            "_model_module": "@jupyter-widgets/base",
            "_model_module_version": "1.2.0",
            "_model_name": "LayoutModel",
            "_view_count": null,
            "_view_module": "@jupyter-widgets/base",
            "_view_module_version": "1.2.0",
            "_view_name": "LayoutView",
            "align_content": null,
            "align_items": null,
            "align_self": null,
            "border": null,
            "bottom": null,
            "display": null,
            "flex": null,
            "flex_flow": null,
            "grid_area": null,
            "grid_auto_columns": null,
            "grid_auto_flow": null,
            "grid_auto_rows": null,
            "grid_column": null,
            "grid_gap": null,
            "grid_row": null,
            "grid_template_areas": null,
            "grid_template_columns": null,
            "grid_template_rows": null,
            "height": null,
            "justify_content": null,
            "justify_items": null,
            "left": null,
            "margin": null,
            "max_height": null,
            "max_width": null,
            "min_height": null,
            "min_width": null,
            "object_fit": null,
            "object_position": null,
            "order": null,
            "overflow": null,
            "overflow_x": null,
            "overflow_y": null,
            "padding": null,
            "right": null,
            "top": null,
            "visibility": null,
            "width": "80px"
          }
        },
        "775536aa6de84fdb9cd106505662e829": {
          "model_module": "@jupyter-widgets/controls",
          "model_module_version": "1.5.0",
          "model_name": "DescriptionStyleModel",
          "state": {
            "_model_module": "@jupyter-widgets/controls",
            "_model_module_version": "1.5.0",
            "_model_name": "DescriptionStyleModel",
            "_view_count": null,
            "_view_module": "@jupyter-widgets/base",
            "_view_module_version": "1.2.0",
            "_view_name": "StyleView",
            "description_width": ""
          }
        },
        "77c84cb5486342fbae50b582e4eb5e8a": {
          "model_module": "@jupyter-widgets/controls",
          "model_module_version": "1.5.0",
          "model_name": "DescriptionStyleModel",
          "state": {
            "_model_module": "@jupyter-widgets/controls",
            "_model_module_version": "1.5.0",
            "_model_name": "DescriptionStyleModel",
            "_view_count": null,
            "_view_module": "@jupyter-widgets/base",
            "_view_module_version": "1.2.0",
            "_view_name": "StyleView",
            "description_width": "initial"
          }
        },
        "79a8b174d93c447bb7690d88060ee06f": {
          "model_module": "@jupyter-widgets/controls",
          "model_module_version": "1.5.0",
          "model_name": "DescriptionStyleModel",
          "state": {
            "_model_module": "@jupyter-widgets/controls",
            "_model_module_version": "1.5.0",
            "_model_name": "DescriptionStyleModel",
            "_view_count": null,
            "_view_module": "@jupyter-widgets/base",
            "_view_module_version": "1.2.0",
            "_view_name": "StyleView",
            "description_width": "initial"
          }
        },
        "7c8c9163f6014525b4112f7e0f8c1dfd": {
          "model_module": "@jupyter-widgets/controls",
          "model_module_version": "1.5.0",
          "model_name": "LabelModel",
          "state": {
            "_dom_classes": [],
            "_model_module": "@jupyter-widgets/controls",
            "_model_module_version": "1.5.0",
            "_model_name": "LabelModel",
            "_view_count": null,
            "_view_module": "@jupyter-widgets/controls",
            "_view_module_version": "1.5.0",
            "_view_name": "LabelView",
            "description": "",
            "description_tooltip": null,
            "layout": "IPY_MODEL_979e41a3e1c346b0b8accd9ef14c5991",
            "placeholder": "​",
            "style": "IPY_MODEL_0357fca9d2054855bda05290b1aae90c",
            "value": "Limit atom occurrences"
          }
        },
        "7db60cb3b3654f368ae0bcd7dec731a5": {
          "model_module": "@jupyter-widgets/controls",
          "model_module_version": "1.5.0",
          "model_name": "CheckboxModel",
          "state": {
            "_dom_classes": [],
            "_model_module": "@jupyter-widgets/controls",
            "_model_module_version": "1.5.0",
            "_model_name": "CheckboxModel",
            "_view_count": null,
            "_view_module": "@jupyter-widgets/controls",
            "_view_module_version": "1.5.0",
            "_view_name": "CheckboxView",
            "description": "C",
            "description_tooltip": null,
            "disabled": false,
            "indent": true,
            "layout": "IPY_MODEL_a9c1aa8b8ff647cd9ecdbd5d26f8eb46",
            "style": "IPY_MODEL_1e37d271f7014412a13e9a94a4492589",
            "value": false
          }
        },
        "823fe2fad0c2400b9de60750198a3dcd": {
          "model_module": "@jupyter-widgets/controls",
          "model_module_version": "1.5.0",
          "model_name": "DescriptionStyleModel",
          "state": {
            "_model_module": "@jupyter-widgets/controls",
            "_model_module_version": "1.5.0",
            "_model_name": "DescriptionStyleModel",
            "_view_count": null,
            "_view_module": "@jupyter-widgets/base",
            "_view_module_version": "1.2.0",
            "_view_name": "StyleView",
            "description_width": "initial"
          }
        },
        "8279b3e3d65d4f47826cb930e20b7f86": {
          "model_module": "@jupyter-widgets/base",
          "model_module_version": "1.2.0",
          "model_name": "LayoutModel",
          "state": {
            "_model_module": "@jupyter-widgets/base",
            "_model_module_version": "1.2.0",
            "_model_name": "LayoutModel",
            "_view_count": null,
            "_view_module": "@jupyter-widgets/base",
            "_view_module_version": "1.2.0",
            "_view_name": "LayoutView",
            "align_content": null,
            "align_items": null,
            "align_self": null,
            "border": null,
            "bottom": null,
            "display": null,
            "flex": null,
            "flex_flow": null,
            "grid_area": null,
            "grid_auto_columns": null,
            "grid_auto_flow": null,
            "grid_auto_rows": null,
            "grid_column": null,
            "grid_gap": null,
            "grid_row": null,
            "grid_template_areas": null,
            "grid_template_columns": null,
            "grid_template_rows": null,
            "height": null,
            "justify_content": null,
            "justify_items": null,
            "left": null,
            "margin": null,
            "max_height": null,
            "max_width": null,
            "min_height": null,
            "min_width": null,
            "object_fit": null,
            "object_position": null,
            "order": null,
            "overflow": null,
            "overflow_x": null,
            "overflow_y": null,
            "padding": null,
            "right": null,
            "top": null,
            "visibility": null,
            "width": null
          }
        },
        "84836f3ea6cd4d4aab2ecb54cf32a825": {
          "model_module": "@jupyter-widgets/controls",
          "model_module_version": "1.5.0",
          "model_name": "DescriptionStyleModel",
          "state": {
            "_model_module": "@jupyter-widgets/controls",
            "_model_module_version": "1.5.0",
            "_model_name": "DescriptionStyleModel",
            "_view_count": null,
            "_view_module": "@jupyter-widgets/base",
            "_view_module_version": "1.2.0",
            "_view_name": "StyleView",
            "description_width": ""
          }
        },
        "864b8f368a6f4a04b5f819698d95caa1": {
          "model_module": "@jupyter-widgets/controls",
          "model_module_version": "1.5.0",
          "model_name": "CheckboxModel",
          "state": {
            "_dom_classes": [],
            "_model_module": "@jupyter-widgets/controls",
            "_model_module_version": "1.5.0",
            "_model_name": "CheckboxModel",
            "_view_count": null,
            "_view_module": "@jupyter-widgets/controls",
            "_view_module_version": "1.5.0",
            "_view_name": "CheckboxView",
            "description": "Exclude target from stock",
            "description_tooltip": null,
            "disabled": false,
            "indent": true,
            "layout": "IPY_MODEL_c62b9083775642659d815ea0470bbf72",
            "style": "IPY_MODEL_c26bdd145ce74bccaffac6b8678f00c1",
            "value": true
          }
        },
        "8a6dc82e97774833a602b2c7bfef8614": {
          "model_module": "@jupyter-widgets/base",
          "model_module_version": "1.2.0",
          "model_name": "LayoutModel",
          "state": {
            "_model_module": "@jupyter-widgets/base",
            "_model_module_version": "1.2.0",
            "_model_name": "LayoutModel",
            "_view_count": null,
            "_view_module": "@jupyter-widgets/base",
            "_view_module_version": "1.2.0",
            "_view_name": "LayoutView",
            "align_content": null,
            "align_items": null,
            "align_self": null,
            "border": null,
            "bottom": null,
            "display": null,
            "flex": null,
            "flex_flow": null,
            "grid_area": null,
            "grid_auto_columns": null,
            "grid_auto_flow": null,
            "grid_auto_rows": null,
            "grid_column": null,
            "grid_gap": null,
            "grid_row": null,
            "grid_template_areas": null,
            "grid_template_columns": null,
            "grid_template_rows": null,
            "height": null,
            "justify_content": null,
            "justify_items": null,
            "left": null,
            "margin": null,
            "max_height": null,
            "max_width": null,
            "min_height": null,
            "min_width": null,
            "object_fit": null,
            "object_position": null,
            "order": null,
            "overflow": null,
            "overflow_x": null,
            "overflow_y": null,
            "padding": null,
            "right": null,
            "top": null,
            "visibility": null,
            "width": "80px"
          }
        },
        "8c16acb59d034a31a4c5df1baf38509d": {
          "model_module": "@jupyter-widgets/base",
          "model_module_version": "1.2.0",
          "model_name": "LayoutModel",
          "state": {
            "_model_module": "@jupyter-widgets/base",
            "_model_module_version": "1.2.0",
            "_model_name": "LayoutModel",
            "_view_count": null,
            "_view_module": "@jupyter-widgets/base",
            "_view_module_version": "1.2.0",
            "_view_name": "LayoutView",
            "align_content": null,
            "align_items": null,
            "align_self": null,
            "border": null,
            "bottom": null,
            "display": null,
            "flex": null,
            "flex_flow": null,
            "grid_area": null,
            "grid_auto_columns": null,
            "grid_auto_flow": null,
            "grid_auto_rows": null,
            "grid_column": null,
            "grid_gap": null,
            "grid_row": null,
            "grid_template_areas": null,
            "grid_template_columns": null,
            "grid_template_rows": null,
            "height": null,
            "justify_content": null,
            "justify_items": null,
            "left": null,
            "margin": null,
            "max_height": null,
            "max_width": null,
            "min_height": null,
            "min_width": null,
            "object_fit": null,
            "object_position": null,
            "order": null,
            "overflow": null,
            "overflow_x": null,
            "overflow_y": null,
            "padding": null,
            "right": null,
            "top": null,
            "visibility": null,
            "width": "80px"
          }
        },
        "8e3d5d7996884d1592409f721134ddf8": {
          "model_module": "@jupyter-widgets/base",
          "model_module_version": "1.2.0",
          "model_name": "LayoutModel",
          "state": {
            "_model_module": "@jupyter-widgets/base",
            "_model_module_version": "1.2.0",
            "_model_name": "LayoutModel",
            "_view_count": null,
            "_view_module": "@jupyter-widgets/base",
            "_view_module_version": "1.2.0",
            "_view_name": "LayoutView",
            "align_content": null,
            "align_items": null,
            "align_self": null,
            "border": "1px solid silver",
            "bottom": null,
            "display": null,
            "flex": null,
            "flex_flow": null,
            "grid_area": null,
            "grid_auto_columns": null,
            "grid_auto_flow": null,
            "grid_auto_rows": null,
            "grid_column": null,
            "grid_gap": null,
            "grid_row": null,
            "grid_template_areas": null,
            "grid_template_columns": null,
            "grid_template_rows": null,
            "height": "180px",
            "justify_content": null,
            "justify_items": null,
            "left": null,
            "margin": null,
            "max_height": null,
            "max_width": null,
            "min_height": null,
            "min_width": null,
            "object_fit": null,
            "object_position": null,
            "order": null,
            "overflow": null,
            "overflow_x": null,
            "overflow_y": null,
            "padding": null,
            "right": null,
            "top": null,
            "visibility": null,
            "width": "50%"
          }
        },
        "8f73197d4cb743fe899d0e91525be067": {
          "model_module": "@jupyter-widgets/base",
          "model_module_version": "1.2.0",
          "model_name": "LayoutModel",
          "state": {
            "_model_module": "@jupyter-widgets/base",
            "_model_module_version": "1.2.0",
            "_model_name": "LayoutModel",
            "_view_count": null,
            "_view_module": "@jupyter-widgets/base",
            "_view_module_version": "1.2.0",
            "_view_name": "LayoutView",
            "align_content": null,
            "align_items": null,
            "align_self": null,
            "border": null,
            "bottom": null,
            "display": null,
            "flex": null,
            "flex_flow": null,
            "grid_area": null,
            "grid_auto_columns": null,
            "grid_auto_flow": null,
            "grid_auto_rows": null,
            "grid_column": null,
            "grid_gap": null,
            "grid_row": null,
            "grid_template_areas": null,
            "grid_template_columns": null,
            "grid_template_rows": null,
            "height": null,
            "justify_content": null,
            "justify_items": null,
            "left": null,
            "margin": null,
            "max_height": null,
            "max_width": null,
            "min_height": null,
            "min_width": null,
            "object_fit": null,
            "object_position": null,
            "order": null,
            "overflow": null,
            "overflow_x": null,
            "overflow_y": null,
            "padding": null,
            "right": null,
            "top": null,
            "visibility": null,
            "width": null
          }
        },
        "979e41a3e1c346b0b8accd9ef14c5991": {
          "model_module": "@jupyter-widgets/base",
          "model_module_version": "1.2.0",
          "model_name": "LayoutModel",
          "state": {
            "_model_module": "@jupyter-widgets/base",
            "_model_module_version": "1.2.0",
            "_model_name": "LayoutModel",
            "_view_count": null,
            "_view_module": "@jupyter-widgets/base",
            "_view_module_version": "1.2.0",
            "_view_name": "LayoutView",
            "align_content": null,
            "align_items": null,
            "align_self": null,
            "border": null,
            "bottom": null,
            "display": null,
            "flex": null,
            "flex_flow": null,
            "grid_area": null,
            "grid_auto_columns": null,
            "grid_auto_flow": null,
            "grid_auto_rows": null,
            "grid_column": null,
            "grid_gap": null,
            "grid_row": null,
            "grid_template_areas": null,
            "grid_template_columns": null,
            "grid_template_rows": null,
            "height": null,
            "justify_content": null,
            "justify_items": null,
            "left": null,
            "margin": null,
            "max_height": null,
            "max_width": null,
            "min_height": null,
            "min_width": null,
            "object_fit": null,
            "object_position": null,
            "order": null,
            "overflow": null,
            "overflow_x": null,
            "overflow_y": null,
            "padding": null,
            "right": null,
            "top": null,
            "visibility": null,
            "width": null
          }
        },
        "9cefbd6141d44b2d83d4830e3f8c4907": {
          "model_module": "@jupyter-widgets/base",
          "model_module_version": "1.2.0",
          "model_name": "LayoutModel",
          "state": {
            "_model_module": "@jupyter-widgets/base",
            "_model_module_version": "1.2.0",
            "_model_name": "LayoutModel",
            "_view_count": null,
            "_view_module": "@jupyter-widgets/base",
            "_view_module_version": "1.2.0",
            "_view_name": "LayoutView",
            "align_content": null,
            "align_items": null,
            "align_self": null,
            "border": null,
            "bottom": null,
            "display": null,
            "flex": null,
            "flex_flow": null,
            "grid_area": null,
            "grid_auto_columns": null,
            "grid_auto_flow": null,
            "grid_auto_rows": null,
            "grid_column": null,
            "grid_gap": null,
            "grid_row": null,
            "grid_template_areas": null,
            "grid_template_columns": null,
            "grid_template_rows": null,
            "height": null,
            "justify_content": null,
            "justify_items": null,
            "left": null,
            "margin": null,
            "max_height": null,
            "max_width": null,
            "min_height": null,
            "min_width": null,
            "object_fit": null,
            "object_position": null,
            "order": null,
            "overflow": null,
            "overflow_x": null,
            "overflow_y": null,
            "padding": null,
            "right": null,
            "top": null,
            "visibility": null,
            "width": null
          }
        },
        "9d0c057a2447441cbe29bfda28d23d39": {
          "model_module": "@jupyter-widgets/base",
          "model_module_version": "1.2.0",
          "model_name": "LayoutModel",
          "state": {
            "_model_module": "@jupyter-widgets/base",
            "_model_module_version": "1.2.0",
            "_model_name": "LayoutModel",
            "_view_count": null,
            "_view_module": "@jupyter-widgets/base",
            "_view_module_version": "1.2.0",
            "_view_name": "LayoutView",
            "align_content": null,
            "align_items": null,
            "align_self": null,
            "border": null,
            "bottom": null,
            "display": null,
            "flex": null,
            "flex_flow": null,
            "grid_area": null,
            "grid_auto_columns": null,
            "grid_auto_flow": null,
            "grid_auto_rows": null,
            "grid_column": null,
            "grid_gap": null,
            "grid_row": null,
            "grid_template_areas": null,
            "grid_template_columns": null,
            "grid_template_rows": null,
            "height": null,
            "justify_content": null,
            "justify_items": null,
            "left": null,
            "margin": null,
            "max_height": null,
            "max_width": null,
            "min_height": null,
            "min_width": null,
            "object_fit": null,
            "object_position": null,
            "order": null,
            "overflow": null,
            "overflow_x": null,
            "overflow_y": null,
            "padding": null,
            "right": null,
            "top": null,
            "visibility": null,
            "width": null
          }
        },
        "9f89523c9728433297c69e69f78cf3d7": {
          "model_module": "@jupyter-widgets/controls",
          "model_module_version": "1.5.0",
          "model_name": "HBoxModel",
          "state": {
            "_dom_classes": [],
            "_model_module": "@jupyter-widgets/controls",
            "_model_module_version": "1.5.0",
            "_model_name": "HBoxModel",
            "_view_count": null,
            "_view_module": "@jupyter-widgets/controls",
            "_view_module_version": "1.5.0",
            "_view_name": "HBoxView",
            "box_style": "",
            "children": [
              "IPY_MODEL_7db60cb3b3654f368ae0bcd7dec731a5",
              "IPY_MODEL_0407f85a453b4077a91d79b1e2c9d1f7"
            ],
            "layout": "IPY_MODEL_71173e4933e34b4c9d4409d338b643cf"
          }
        },
        "a03a16ccbab642c5b9a05c66a9eedea5": {
          "model_module": "@jupyter-widgets/controls",
          "model_module_version": "1.5.0",
          "model_name": "CheckboxModel",
          "state": {
            "_dom_classes": [],
            "_model_module": "@jupyter-widgets/controls",
            "_model_module_version": "1.5.0",
            "_model_name": "CheckboxModel",
            "_view_count": null,
            "_view_module": "@jupyter-widgets/controls",
            "_view_module_version": "1.5.0",
            "_view_name": "CheckboxView",
            "description": "O",
            "description_tooltip": null,
            "disabled": false,
            "indent": true,
            "layout": "IPY_MODEL_765fb8b065fc4df681874d2ac2041a92",
            "style": "IPY_MODEL_36dbc09a28854702aa98b17c5d0d620b",
            "value": false
          }
        },
        "a0e33d040c5d4e4eb772e7a3b9e022c2": {
          "model_module": "@jupyter-widgets/controls",
          "model_module_version": "1.5.0",
          "model_name": "DescriptionStyleModel",
          "state": {
            "_model_module": "@jupyter-widgets/controls",
            "_model_module_version": "1.5.0",
            "_model_name": "DescriptionStyleModel",
            "_view_count": null,
            "_view_module": "@jupyter-widgets/base",
            "_view_module_version": "1.2.0",
            "_view_name": "StyleView",
            "description_width": "initial"
          }
        },
        "a5d06ef836a3401a8959701cea59f3cd": {
          "model_module": "@jupyter-widgets/controls",
          "model_module_version": "1.5.0",
          "model_name": "BoundedIntTextModel",
          "state": {
            "_dom_classes": [],
            "_model_module": "@jupyter-widgets/controls",
            "_model_module_version": "1.5.0",
            "_model_name": "BoundedIntTextModel",
            "_view_count": null,
            "_view_module": "@jupyter-widgets/controls",
            "_view_module_version": "1.5.0",
            "_view_name": "IntTextView",
            "continuous_update": false,
            "description": "",
            "description_tooltip": null,
            "disabled": false,
            "layout": "IPY_MODEL_d4b161947f1f4816aa097530ad4e2908",
            "max": 100,
            "min": 0,
            "step": 1,
            "style": "IPY_MODEL_26d2c4b5079440c4b2ce0db428768108",
            "value": 0
          }
        },
        "a9c1aa8b8ff647cd9ecdbd5d26f8eb46": {
          "model_module": "@jupyter-widgets/base",
          "model_module_version": "1.2.0",
          "model_name": "LayoutModel",
          "state": {
            "_model_module": "@jupyter-widgets/base",
            "_model_module_version": "1.2.0",
            "_model_name": "LayoutModel",
            "_view_count": null,
            "_view_module": "@jupyter-widgets/base",
            "_view_module_version": "1.2.0",
            "_view_name": "LayoutView",
            "align_content": null,
            "align_items": null,
            "align_self": null,
            "border": null,
            "bottom": null,
            "display": null,
            "flex": null,
            "flex_flow": null,
            "grid_area": null,
            "grid_auto_columns": null,
            "grid_auto_flow": null,
            "grid_auto_rows": null,
            "grid_column": null,
            "grid_gap": null,
            "grid_row": null,
            "grid_template_areas": null,
            "grid_template_columns": null,
            "grid_template_rows": null,
            "height": null,
            "justify_content": null,
            "justify_items": null,
            "left": null,
            "margin": null,
            "max_height": null,
            "max_width": null,
            "min_height": null,
            "min_width": null,
            "object_fit": null,
            "object_position": null,
            "order": null,
            "overflow": null,
            "overflow_x": null,
            "overflow_y": null,
            "padding": null,
            "right": null,
            "top": null,
            "visibility": null,
            "width": "80px"
          }
        },
        "ac6d0cb3ef5149e1b8c8ad598a269cb9": {
          "model_module": "@jupyter-widgets/controls",
          "model_module_version": "1.5.0",
          "model_name": "BoundedFloatTextModel",
          "state": {
            "_dom_classes": [],
            "_model_module": "@jupyter-widgets/controls",
            "_model_module_version": "1.5.0",
            "_model_name": "BoundedFloatTextModel",
            "_view_count": null,
            "_view_module": "@jupyter-widgets/controls",
            "_view_module_version": "1.5.0",
            "_view_name": "FloatTextView",
            "continuous_update": false,
            "description": "Filter cutoff",
            "description_tooltip": null,
            "disabled": false,
            "layout": "IPY_MODEL_d9596e3991b84784928972cf5111f042",
            "max": 1,
            "min": 0,
            "step": null,
            "style": "IPY_MODEL_a0e33d040c5d4e4eb772e7a3b9e022c2",
            "value": 0.05
          }
        },
        "ade23c7f27af4de487ef07312b2792f6": {
          "model_module": "@jupyter-widgets/base",
          "model_module_version": "1.2.0",
          "model_name": "LayoutModel",
          "state": {
            "_model_module": "@jupyter-widgets/base",
            "_model_module_version": "1.2.0",
            "_model_name": "LayoutModel",
            "_view_count": null,
            "_view_module": "@jupyter-widgets/base",
            "_view_module_version": "1.2.0",
            "_view_name": "LayoutView",
            "align_content": null,
            "align_items": null,
            "align_self": null,
            "border": null,
            "bottom": null,
            "display": null,
            "flex": null,
            "flex_flow": null,
            "grid_area": null,
            "grid_auto_columns": null,
            "grid_auto_flow": null,
            "grid_auto_rows": null,
            "grid_column": null,
            "grid_gap": null,
            "grid_row": null,
            "grid_template_areas": null,
            "grid_template_columns": null,
            "grid_template_rows": null,
            "height": null,
            "justify_content": null,
            "justify_items": null,
            "left": null,
            "margin": null,
            "max_height": null,
            "max_width": null,
            "min_height": null,
            "min_width": null,
            "object_fit": null,
            "object_position": null,
            "order": null,
            "overflow": null,
            "overflow_x": null,
            "overflow_y": null,
            "padding": null,
            "right": null,
            "top": null,
            "visibility": null,
            "width": null
          }
        },
        "aff77e78c08d4acebd767d357b0fc2b5": {
          "model_module": "@jupyter-widgets/controls",
          "model_module_version": "1.5.0",
          "model_name": "TabModel",
          "state": {
            "_dom_classes": [],
            "_model_module": "@jupyter-widgets/controls",
            "_model_module_version": "1.5.0",
            "_model_name": "TabModel",
            "_titles": {
              "0": "Options",
              "1": "Advanced"
            },
            "_view_count": null,
            "_view_module": "@jupyter-widgets/controls",
            "_view_module_version": "1.5.0",
            "_view_name": "TabView",
            "box_style": "",
            "children": [
              "IPY_MODEL_1e76c4e1989340e288b7df283c8d05db",
              "IPY_MODEL_dcaabdc5714e477db637b64603ba8d45"
            ],
            "layout": "IPY_MODEL_e70e778236214b0098b88434e3581a29",
            "selected_index": 0
          }
        },
        "b063142a84414b9a94692af343cc1f43": {
          "model_module": "@jupyter-widgets/base",
          "model_module_version": "1.2.0",
          "model_name": "LayoutModel",
          "state": {
            "_model_module": "@jupyter-widgets/base",
            "_model_module_version": "1.2.0",
            "_model_name": "LayoutModel",
            "_view_count": null,
            "_view_module": "@jupyter-widgets/base",
            "_view_module_version": "1.2.0",
            "_view_name": "LayoutView",
            "align_content": null,
            "align_items": null,
            "align_self": null,
            "border": null,
            "bottom": null,
            "display": null,
            "flex": null,
            "flex_flow": null,
            "grid_area": null,
            "grid_auto_columns": null,
            "grid_auto_flow": null,
            "grid_auto_rows": null,
            "grid_column": null,
            "grid_gap": null,
            "grid_row": null,
            "grid_template_areas": null,
            "grid_template_columns": null,
            "grid_template_rows": null,
            "height": null,
            "justify_content": null,
            "justify_items": null,
            "left": null,
            "margin": null,
            "max_height": null,
            "max_width": null,
            "min_height": null,
            "min_width": null,
            "object_fit": null,
            "object_position": null,
            "order": null,
            "overflow": null,
            "overflow_x": null,
            "overflow_y": null,
            "padding": null,
            "right": null,
            "top": null,
            "visibility": null,
            "width": null
          }
        },
        "b0b46ae2534742b69bc3643297be7647": {
          "model_module": "@jupyter-widgets/base",
          "model_module_version": "1.2.0",
          "model_name": "LayoutModel",
          "state": {
            "_model_module": "@jupyter-widgets/base",
            "_model_module_version": "1.2.0",
            "_model_name": "LayoutModel",
            "_view_count": null,
            "_view_module": "@jupyter-widgets/base",
            "_view_module_version": "1.2.0",
            "_view_name": "LayoutView",
            "align_content": null,
            "align_items": null,
            "align_self": null,
            "border": null,
            "bottom": null,
            "display": null,
            "flex": null,
            "flex_flow": null,
            "grid_area": null,
            "grid_auto_columns": null,
            "grid_auto_flow": null,
            "grid_auto_rows": null,
            "grid_column": null,
            "grid_gap": null,
            "grid_row": null,
            "grid_template_areas": null,
            "grid_template_columns": null,
            "grid_template_rows": null,
            "height": null,
            "justify_content": null,
            "justify_items": null,
            "left": null,
            "margin": null,
            "max_height": null,
            "max_width": null,
            "min_height": null,
            "min_width": null,
            "object_fit": null,
            "object_position": null,
            "order": null,
            "overflow": null,
            "overflow_x": null,
            "overflow_y": null,
            "padding": null,
            "right": null,
            "top": null,
            "visibility": null,
            "width": null
          }
        },
        "b0cf3b8b84b9427e8ad45e1f1e7870d0": {
          "model_module": "@jupyter-widgets/output",
          "model_module_version": "1.0.0",
          "model_name": "OutputModel",
          "state": {
            "_dom_classes": [],
            "_model_module": "@jupyter-widgets/output",
            "_model_module_version": "1.0.0",
            "_model_name": "OutputModel",
            "_view_count": null,
            "_view_module": "@jupyter-widgets/output",
            "_view_module_version": "1.0.0",
            "_view_name": "OutputView",
            "layout": "IPY_MODEL_d04014885c5d4e6cb87bd697e4f905ba",
            "msg_id": "",
            "outputs": [
              {
                "data": {
                  "text/html": "<H2>Solved",
                  "text/plain": "<IPython.core.display.HTML object>"
                },
                "metadata": {},
                "output_type": "display_data"
              },
              {
                "data": {
                  "text/html": "<table><tr><td>state score</td><td>0.9940</td></tr><tr><td>number of reactions</td><td>3.0000</td></tr><tr><td>number of pre-cursors</td><td>3.0000</td></tr><tr><td>number of pre-cursors in stock</td><td>3.0000</td></tr><tr><td>average template occurrence</td><td>57.0000</td></tr></table>",
                  "text/plain": "<IPython.core.display.HTML object>"
                },
                "metadata": {},
                "output_type": "display_data"
              },
              {
                "data": {
                  "text/html": "<H2>Compounds to Procure",
                  "text/plain": "<IPython.core.display.HTML object>"
                },
                "metadata": {},
                "output_type": "display_data"
              },
              {
                "data": {
                  "image/png": "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\n",
                  "text/plain": "<IPython.core.display.Image object>"
                },
                "metadata": {},
                "output_type": "display_data"
              },
              {
                "data": {
                  "text/html": "<H2>Steps",
                  "text/plain": "<IPython.core.display.HTML object>"
                },
                "metadata": {},
                "output_type": "display_data"
              },
              {
                "data": {
                  "image/png": "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\n",
                  "text/plain": "<PIL.PngImagePlugin.PngImageFile image mode=RGB size=1072x385 at 0x7F7C0489BBD0>"
                },
                "metadata": {},
                "output_type": "display_data"
              }
            ]
          }
        },
        "b270d933ab2c4d589698bae1c1ba7c71": {
          "model_module": "@jupyter-widgets/base",
          "model_module_version": "1.2.0",
          "model_name": "LayoutModel",
          "state": {
            "_model_module": "@jupyter-widgets/base",
            "_model_module_version": "1.2.0",
            "_model_name": "LayoutModel",
            "_view_count": null,
            "_view_module": "@jupyter-widgets/base",
            "_view_module_version": "1.2.0",
            "_view_name": "LayoutView",
            "align_content": null,
            "align_items": null,
            "align_self": null,
            "border": null,
            "bottom": null,
            "display": null,
            "flex": null,
            "flex_flow": null,
            "grid_area": null,
            "grid_auto_columns": null,
            "grid_auto_flow": null,
            "grid_auto_rows": null,
            "grid_column": null,
            "grid_gap": null,
            "grid_row": null,
            "grid_template_areas": null,
            "grid_template_columns": null,
            "grid_template_rows": null,
            "height": null,
            "justify_content": null,
            "justify_items": null,
            "left": null,
            "margin": null,
            "max_height": null,
            "max_width": null,
            "min_height": null,
            "min_width": null,
            "object_fit": null,
            "object_position": null,
            "order": null,
            "overflow": null,
            "overflow_x": null,
            "overflow_y": null,
            "padding": null,
            "right": null,
            "top": null,
            "visibility": null,
            "width": null
          }
        },
        "bb2fb99e9a1d40f085bb096d26588d61": {
          "model_module": "@jupyter-widgets/controls",
          "model_module_version": "1.5.0",
          "model_name": "IntTextModel",
          "state": {
            "_dom_classes": [],
            "_model_module": "@jupyter-widgets/controls",
            "_model_module_version": "1.5.0",
            "_model_name": "IntTextModel",
            "_view_count": null,
            "_view_module": "@jupyter-widgets/controls",
            "_view_module_version": "1.5.0",
            "_view_name": "IntTextView",
            "continuous_update": true,
            "description": "",
            "description_tooltip": null,
            "disabled": false,
            "layout": "IPY_MODEL_394e10c4287648278af011304f179e00",
            "step": 1,
            "style": "IPY_MODEL_6335c266090f4928bf493070ed067d2f",
            "value": 100
          }
        },
        "bc8ae9324c774615aea68b523cde2d76": {
          "model_module": "@jupyter-widgets/controls",
          "model_module_version": "1.5.0",
          "model_name": "VBoxModel",
          "state": {
            "_dom_classes": [],
            "_model_module": "@jupyter-widgets/controls",
            "_model_module_version": "1.5.0",
            "_model_name": "VBoxModel",
            "_view_count": null,
            "_view_module": "@jupyter-widgets/controls",
            "_view_module_version": "1.5.0",
            "_view_name": "VBoxView",
            "box_style": "",
            "children": [
              "IPY_MODEL_f05535bcb8454af5b5e402993e2d3150",
              "IPY_MODEL_6adb610601564946a8ea0f53ff677b1f",
              "IPY_MODEL_041a682a258b4c0c81767c1accd864e8",
              "IPY_MODEL_dc1fe5e76cda487fa510ffa7440a0982",
              "IPY_MODEL_0b38088cb69543289345aa317ee3c586"
            ],
            "layout": "IPY_MODEL_da0e7e998308443987eb79dcf2558877"
          }
        },
        "bd9c19a6543d4f03897e27ba9939a5be": {
          "model_module": "@jupyter-widgets/controls",
          "model_module_version": "1.5.0",
          "model_name": "CheckboxModel",
          "state": {
            "_dom_classes": [],
            "_model_module": "@jupyter-widgets/controls",
            "_model_module_version": "1.5.0",
            "_model_name": "CheckboxModel",
            "_view_count": null,
            "_view_module": "@jupyter-widgets/controls",
            "_view_module_version": "1.5.0",
            "_view_name": "CheckboxView",
            "description": "N",
            "description_tooltip": null,
            "disabled": false,
            "indent": true,
            "layout": "IPY_MODEL_4fdcabca90fe491f9ff5fb4e2af981bd",
            "style": "IPY_MODEL_69a9286ab5a8467ea542f294d740db7a",
            "value": false
          }
        },
        "bf9cbedb063f4964ae619ba90dcb9230": {
          "model_module": "@jupyter-widgets/controls",
          "model_module_version": "1.5.0",
          "model_name": "BoundedIntTextModel",
          "state": {
            "_dom_classes": [],
            "_model_module": "@jupyter-widgets/controls",
            "_model_module_version": "1.5.0",
            "_model_name": "BoundedIntTextModel",
            "_view_count": null,
            "_view_module": "@jupyter-widgets/controls",
            "_view_module_version": "1.5.0",
            "_view_name": "IntTextView",
            "continuous_update": false,
            "description": "",
            "description_tooltip": null,
            "disabled": false,
            "layout": "IPY_MODEL_8c16acb59d034a31a4c5df1baf38509d",
            "max": 100,
            "min": 0,
            "step": 1,
            "style": "IPY_MODEL_533ac4043d7a48039e93db40936c74bb",
            "value": 0
          }
        },
        "c02fe99381364fa688347166023d65a6": {
          "model_module": "@jupyter-widgets/controls",
          "model_module_version": "1.5.0",
          "model_name": "VBoxModel",
          "state": {
            "_dom_classes": [],
            "_model_module": "@jupyter-widgets/controls",
            "_model_module_version": "1.5.0",
            "_model_name": "VBoxModel",
            "_view_count": null,
            "_view_module": "@jupyter-widgets/controls",
            "_view_module_version": "1.5.0",
            "_view_name": "VBoxView",
            "box_style": "",
            "children": [
              "IPY_MODEL_67ac0b90435c4b9bbc251d311a7e8e81",
              "IPY_MODEL_e39d2d5d3c9249a090605d7a3a4b23a8",
              "IPY_MODEL_7c8c9163f6014525b4112f7e0f8c1dfd",
              "IPY_MODEL_9f89523c9728433297c69e69f78cf3d7",
              "IPY_MODEL_3e7b9056212746f39bafe22e3a753520",
              "IPY_MODEL_08de0b13996c41989218deaa67f6c871"
            ],
            "layout": "IPY_MODEL_667a2cee99b14d1a83c62588b4925177"
          }
        },
        "c04d6c02d19b45109d6474e3a882a3a6": {
          "model_module": "@jupyter-widgets/base",
          "model_module_version": "1.2.0",
          "model_name": "LayoutModel",
          "state": {
            "_model_module": "@jupyter-widgets/base",
            "_model_module_version": "1.2.0",
            "_model_name": "LayoutModel",
            "_view_count": null,
            "_view_module": "@jupyter-widgets/base",
            "_view_module_version": "1.2.0",
            "_view_name": "LayoutView",
            "align_content": null,
            "align_items": null,
            "align_self": null,
            "border": null,
            "bottom": null,
            "display": null,
            "flex": null,
            "flex_flow": null,
            "grid_area": null,
            "grid_auto_columns": null,
            "grid_auto_flow": null,
            "grid_auto_rows": null,
            "grid_column": null,
            "grid_gap": null,
            "grid_row": null,
            "grid_template_areas": null,
            "grid_template_columns": null,
            "grid_template_rows": null,
            "height": null,
            "justify_content": null,
            "justify_items": null,
            "left": null,
            "margin": null,
            "max_height": null,
            "max_width": null,
            "min_height": null,
            "min_width": null,
            "object_fit": null,
            "object_position": null,
            "order": null,
            "overflow": null,
            "overflow_x": null,
            "overflow_y": null,
            "padding": null,
            "right": null,
            "top": null,
            "visibility": null,
            "width": null
          }
        },
        "c26bdd145ce74bccaffac6b8678f00c1": {
          "model_module": "@jupyter-widgets/controls",
          "model_module_version": "1.5.0",
          "model_name": "DescriptionStyleModel",
          "state": {
            "_model_module": "@jupyter-widgets/controls",
            "_model_module_version": "1.5.0",
            "_model_name": "DescriptionStyleModel",
            "_view_count": null,
            "_view_module": "@jupyter-widgets/base",
            "_view_module_version": "1.2.0",
            "_view_name": "StyleView",
            "description_width": ""
          }
        },
        "c62b9083775642659d815ea0470bbf72": {
          "model_module": "@jupyter-widgets/base",
          "model_module_version": "1.2.0",
          "model_name": "LayoutModel",
          "state": {
            "_model_module": "@jupyter-widgets/base",
            "_model_module_version": "1.2.0",
            "_model_name": "LayoutModel",
            "_view_count": null,
            "_view_module": "@jupyter-widgets/base",
            "_view_module_version": "1.2.0",
            "_view_name": "LayoutView",
            "align_content": null,
            "align_items": null,
            "align_self": null,
            "border": null,
            "bottom": null,
            "display": null,
            "flex": null,
            "flex_flow": null,
            "grid_area": null,
            "grid_auto_columns": null,
            "grid_auto_flow": null,
            "grid_auto_rows": null,
            "grid_column": null,
            "grid_gap": null,
            "grid_row": null,
            "grid_template_areas": null,
            "grid_template_columns": null,
            "grid_template_rows": null,
            "height": null,
            "justify_content": null,
            "justify_items": null,
            "left": null,
            "margin": null,
            "max_height": null,
            "max_width": null,
            "min_height": null,
            "min_width": null,
            "object_fit": null,
            "object_position": null,
            "order": null,
            "overflow": null,
            "overflow_x": null,
            "overflow_y": null,
            "padding": null,
            "right": null,
            "top": null,
            "visibility": null,
            "width": null
          }
        },
        "ce2aa8e40dd04b4e860df222f861364f": {
          "model_module": "@jupyter-widgets/controls",
          "model_module_version": "1.5.0",
          "model_name": "BoundedIntTextModel",
          "state": {
            "_dom_classes": [],
            "_model_module": "@jupyter-widgets/controls",
            "_model_module_version": "1.5.0",
            "_model_name": "BoundedIntTextModel",
            "_view_count": null,
            "_view_module": "@jupyter-widgets/controls",
            "_view_module_version": "1.5.0",
            "_view_name": "IntTextView",
            "continuous_update": false,
            "description": "Max steps for substrates",
            "description_tooltip": null,
            "disabled": false,
            "layout": "IPY_MODEL_9cefbd6141d44b2d83d4830e3f8c4907",
            "max": 20,
            "min": 1,
            "step": 1,
            "style": "IPY_MODEL_f9e53becd5644afe949cc925eb54e277",
            "value": 6
          }
        },
        "ce6358c88c4849dbbe58155d81565c61": {
          "model_module": "@jupyter-widgets/controls",
          "model_module_version": "1.5.0",
          "model_name": "TextModel",
          "state": {
            "_dom_classes": [],
            "_model_module": "@jupyter-widgets/controls",
            "_model_module_version": "1.5.0",
            "_model_name": "TextModel",
            "_view_count": null,
            "_view_module": "@jupyter-widgets/controls",
            "_view_module_version": "1.5.0",
            "_view_name": "TextView",
            "continuous_update": false,
            "description": "SMILES",
            "description_tooltip": null,
            "disabled": false,
            "layout": "IPY_MODEL_32be60b29f1943c5a0fffc8c696b8213",
            "placeholder": "​",
            "style": "IPY_MODEL_52db9edd73044f8685db3c5afa7b9f86",
            "value": "CC1=C(N=CN1)CSCCNC(=NC)NC#N"
          }
        },
        "d0111f7df47f4906bbe8d6608320f425": {
          "model_module": "@jupyter-widgets/controls",
          "model_module_version": "1.5.0",
          "model_name": "IntSliderModel",
          "state": {
            "_dom_classes": [],
            "_model_module": "@jupyter-widgets/controls",
            "_model_module_version": "1.5.0",
            "_model_name": "IntSliderModel",
            "_view_count": null,
            "_view_module": "@jupyter-widgets/controls",
            "_view_module_version": "1.5.0",
            "_view_name": "IntSliderView",
            "continuous_update": true,
            "description": "",
            "description_tooltip": null,
            "disabled": false,
            "layout": "IPY_MODEL_19b064207ebc480582e73465c972a76f",
            "max": 2000,
            "min": 100,
            "orientation": "horizontal",
            "readout": false,
            "readout_format": "d",
            "step": 1,
            "style": "IPY_MODEL_1fe9148e2f1d43d899b1b04d717b74c7",
            "value": 100
          }
        },
        "d04014885c5d4e6cb87bd697e4f905ba": {
          "model_module": "@jupyter-widgets/base",
          "model_module_version": "1.2.0",
          "model_name": "LayoutModel",
          "state": {
            "_model_module": "@jupyter-widgets/base",
            "_model_module_version": "1.2.0",
            "_model_name": "LayoutModel",
            "_view_count": null,
            "_view_module": "@jupyter-widgets/base",
            "_view_module_version": "1.2.0",
            "_view_name": "LayoutView",
            "align_content": null,
            "align_items": null,
            "align_self": null,
            "border": "1px solid silver",
            "bottom": null,
            "display": null,
            "flex": null,
            "flex_flow": null,
            "grid_area": null,
            "grid_auto_columns": null,
            "grid_auto_flow": null,
            "grid_auto_rows": null,
            "grid_column": null,
            "grid_gap": null,
            "grid_row": null,
            "grid_template_areas": null,
            "grid_template_columns": null,
            "grid_template_rows": null,
            "height": null,
            "justify_content": null,
            "justify_items": null,
            "left": null,
            "margin": null,
            "max_height": null,
            "max_width": null,
            "min_height": null,
            "min_width": null,
            "object_fit": null,
            "object_position": null,
            "order": null,
            "overflow": null,
            "overflow_x": null,
            "overflow_y": null,
            "padding": null,
            "right": null,
            "top": null,
            "visibility": null,
            "width": "99%"
          }
        },
        "d29598a188c74302af89790f4b4afe7e": {
          "model_module": "@jupyter-widgets/base",
          "model_module_version": "1.2.0",
          "model_name": "LayoutModel",
          "state": {
            "_model_module": "@jupyter-widgets/base",
            "_model_module_version": "1.2.0",
            "_model_name": "LayoutModel",
            "_view_count": null,
            "_view_module": "@jupyter-widgets/base",
            "_view_module_version": "1.2.0",
            "_view_name": "LayoutView",
            "align_content": null,
            "align_items": null,
            "align_self": null,
            "border": null,
            "bottom": null,
            "display": null,
            "flex": null,
            "flex_flow": null,
            "grid_area": null,
            "grid_auto_columns": null,
            "grid_auto_flow": null,
            "grid_auto_rows": null,
            "grid_column": null,
            "grid_gap": null,
            "grid_row": null,
            "grid_template_areas": null,
            "grid_template_columns": null,
            "grid_template_rows": null,
            "height": null,
            "justify_content": null,
            "justify_items": null,
            "left": null,
            "margin": null,
            "max_height": null,
            "max_width": null,
            "min_height": null,
            "min_width": null,
            "object_fit": null,
            "object_position": null,
            "order": null,
            "overflow": null,
            "overflow_x": null,
            "overflow_y": null,
            "padding": null,
            "right": null,
            "top": null,
            "visibility": null,
            "width": null
          }
        },
        "d4b161947f1f4816aa097530ad4e2908": {
          "model_module": "@jupyter-widgets/base",
          "model_module_version": "1.2.0",
          "model_name": "LayoutModel",
          "state": {
            "_model_module": "@jupyter-widgets/base",
            "_model_module_version": "1.2.0",
            "_model_name": "LayoutModel",
            "_view_count": null,
            "_view_module": "@jupyter-widgets/base",
            "_view_module_version": "1.2.0",
            "_view_name": "LayoutView",
            "align_content": null,
            "align_items": null,
            "align_self": null,
            "border": null,
            "bottom": null,
            "display": null,
            "flex": null,
            "flex_flow": null,
            "grid_area": null,
            "grid_auto_columns": null,
            "grid_auto_flow": null,
            "grid_auto_rows": null,
            "grid_column": null,
            "grid_gap": null,
            "grid_row": null,
            "grid_template_areas": null,
            "grid_template_columns": null,
            "grid_template_rows": null,
            "height": null,
            "justify_content": null,
            "justify_items": null,
            "left": null,
            "margin": null,
            "max_height": null,
            "max_width": null,
            "min_height": null,
            "min_width": null,
            "object_fit": null,
            "object_position": null,
            "order": null,
            "overflow": null,
            "overflow_x": null,
            "overflow_y": null,
            "padding": null,
            "right": null,
            "top": null,
            "visibility": null,
            "width": "80px"
          }
        },
        "d795fd26589d44068a9ee699b5547f60": {
          "model_module": "@jupyter-widgets/base",
          "model_module_version": "1.2.0",
          "model_name": "LayoutModel",
          "state": {
            "_model_module": "@jupyter-widgets/base",
            "_model_module_version": "1.2.0",
            "_model_name": "LayoutModel",
            "_view_count": null,
            "_view_module": "@jupyter-widgets/base",
            "_view_module_version": "1.2.0",
            "_view_name": "LayoutView",
            "align_content": null,
            "align_items": null,
            "align_self": null,
            "border": null,
            "bottom": null,
            "display": null,
            "flex": null,
            "flex_flow": null,
            "grid_area": null,
            "grid_auto_columns": null,
            "grid_auto_flow": null,
            "grid_auto_rows": null,
            "grid_column": null,
            "grid_gap": null,
            "grid_row": null,
            "grid_template_areas": null,
            "grid_template_columns": null,
            "grid_template_rows": null,
            "height": null,
            "justify_content": null,
            "justify_items": null,
            "left": null,
            "margin": null,
            "max_height": null,
            "max_width": null,
            "min_height": null,
            "min_width": null,
            "object_fit": null,
            "object_position": null,
            "order": null,
            "overflow": null,
            "overflow_x": null,
            "overflow_y": null,
            "padding": null,
            "right": null,
            "top": null,
            "visibility": null,
            "width": null
          }
        },
        "d9596e3991b84784928972cf5111f042": {
          "model_module": "@jupyter-widgets/base",
          "model_module_version": "1.2.0",
          "model_name": "LayoutModel",
          "state": {
            "_model_module": "@jupyter-widgets/base",
            "_model_module_version": "1.2.0",
            "_model_name": "LayoutModel",
            "_view_count": null,
            "_view_module": "@jupyter-widgets/base",
            "_view_module_version": "1.2.0",
            "_view_name": "LayoutView",
            "align_content": null,
            "align_items": null,
            "align_self": null,
            "border": null,
            "bottom": null,
            "display": null,
            "flex": null,
            "flex_flow": null,
            "grid_area": null,
            "grid_auto_columns": null,
            "grid_auto_flow": null,
            "grid_auto_rows": null,
            "grid_column": null,
            "grid_gap": null,
            "grid_row": null,
            "grid_template_areas": null,
            "grid_template_columns": null,
            "grid_template_rows": null,
            "height": null,
            "justify_content": null,
            "justify_items": null,
            "left": null,
            "margin": null,
            "max_height": null,
            "max_width": null,
            "min_height": null,
            "min_width": null,
            "object_fit": null,
            "object_position": null,
            "order": null,
            "overflow": null,
            "overflow_x": null,
            "overflow_y": null,
            "padding": null,
            "right": null,
            "top": null,
            "visibility": null,
            "width": null
          }
        },
        "da0e7e998308443987eb79dcf2558877": {
          "model_module": "@jupyter-widgets/base",
          "model_module_version": "1.2.0",
          "model_name": "LayoutModel",
          "state": {
            "_model_module": "@jupyter-widgets/base",
            "_model_module_version": "1.2.0",
            "_model_name": "LayoutModel",
            "_view_count": null,
            "_view_module": "@jupyter-widgets/base",
            "_view_module_version": "1.2.0",
            "_view_name": "LayoutView",
            "align_content": null,
            "align_items": null,
            "align_self": null,
            "border": null,
            "bottom": null,
            "display": null,
            "flex": null,
            "flex_flow": null,
            "grid_area": null,
            "grid_auto_columns": null,
            "grid_auto_flow": null,
            "grid_auto_rows": null,
            "grid_column": null,
            "grid_gap": null,
            "grid_row": null,
            "grid_template_areas": null,
            "grid_template_columns": null,
            "grid_template_rows": null,
            "height": null,
            "justify_content": null,
            "justify_items": null,
            "left": null,
            "margin": null,
            "max_height": null,
            "max_width": null,
            "min_height": null,
            "min_width": null,
            "object_fit": null,
            "object_position": null,
            "order": null,
            "overflow": null,
            "overflow_x": null,
            "overflow_y": null,
            "padding": null,
            "right": null,
            "top": null,
            "visibility": null,
            "width": null
          }
        },
        "db5b77a161cb4ab5be30fcaa4f14a433": {
          "model_module": "@jupyter-widgets/controls",
          "model_module_version": "1.5.0",
          "model_name": "ButtonModel",
          "state": {
            "_dom_classes": [],
            "_model_module": "@jupyter-widgets/controls",
            "_model_module_version": "1.5.0",
            "_model_name": "ButtonModel",
            "_view_count": null,
            "_view_module": "@jupyter-widgets/controls",
            "_view_module_version": "1.5.0",
            "_view_name": "ButtonView",
            "button_style": "",
            "description": "Extend Search",
            "disabled": false,
            "icon": "",
            "layout": "IPY_MODEL_b063142a84414b9a94692af343cc1f43",
            "style": "IPY_MODEL_ff8a55257ec549598dca372e2e5cc81b",
            "tooltip": ""
          }
        },
        "dc1fe5e76cda487fa510ffa7440a0982": {
          "model_module": "@jupyter-widgets/controls",
          "model_module_version": "1.5.0",
          "model_name": "HBoxModel",
          "state": {
            "_dom_classes": [],
            "_model_module": "@jupyter-widgets/controls",
            "_model_module_version": "1.5.0",
            "_model_name": "HBoxModel",
            "_view_count": null,
            "_view_module": "@jupyter-widgets/controls",
            "_view_module_version": "1.5.0",
            "_view_name": "HBoxView",
            "box_style": "",
            "children": [
              "IPY_MODEL_67ef76c0903241628146ad670bb1ad1a",
              "IPY_MODEL_d0111f7df47f4906bbe8d6608320f425",
              "IPY_MODEL_bb2fb99e9a1d40f085bb096d26588d61"
            ],
            "layout": "IPY_MODEL_0a9beaf387884c10b3659ebabc045154"
          }
        },
        "dcaabdc5714e477db637b64603ba8d45": {
          "model_module": "@jupyter-widgets/controls",
          "model_module_version": "1.5.0",
          "model_name": "VBoxModel",
          "state": {
            "_dom_classes": [],
            "_model_module": "@jupyter-widgets/controls",
            "_model_module_version": "1.5.0",
            "_model_name": "VBoxModel",
            "_view_count": null,
            "_view_module": "@jupyter-widgets/controls",
            "_view_module_version": "1.5.0",
            "_view_name": "VBoxView",
            "box_style": "",
            "children": [
              "IPY_MODEL_6a353c853364497c97ac16d437ad8033",
              "IPY_MODEL_ce2aa8e40dd04b4e860df222f861364f",
              "IPY_MODEL_25e5588b1ffe47a79beeb51e072b2acd",
              "IPY_MODEL_31c47811e4304a76be36a77f1540a05d",
              "IPY_MODEL_ac6d0cb3ef5149e1b8c8ad598a269cb9",
              "IPY_MODEL_864b8f368a6f4a04b5f819698d95caa1"
            ],
            "layout": "IPY_MODEL_b0b46ae2534742b69bc3643297be7647"
          }
        },
        "e39d2d5d3c9249a090605d7a3a4b23a8": {
          "model_module": "@jupyter-widgets/controls",
          "model_module_version": "1.5.0",
          "model_name": "CheckboxModel",
          "state": {
            "_dom_classes": [],
            "_model_module": "@jupyter-widgets/controls",
            "_model_module_version": "1.5.0",
            "_model_name": "CheckboxModel",
            "_view_count": null,
            "_view_module": "@jupyter-widgets/controls",
            "_view_module_version": "1.5.0",
            "_view_name": "CheckboxView",
            "description": "zinc",
            "description_tooltip": null,
            "disabled": false,
            "indent": true,
            "layout": "IPY_MODEL_8f73197d4cb743fe899d0e91525be067",
            "style": "IPY_MODEL_823fe2fad0c2400b9de60750198a3dcd",
            "value": true
          }
        },
        "e4d030f1dcc44524a945cfe43bd0c179": {
          "model_module": "@jupyter-widgets/controls",
          "model_module_version": "1.5.0",
          "model_name": "ButtonModel",
          "state": {
            "_dom_classes": [],
            "_model_module": "@jupyter-widgets/controls",
            "_model_module_version": "1.5.0",
            "_model_name": "ButtonModel",
            "_view_count": null,
            "_view_module": "@jupyter-widgets/controls",
            "_view_module_version": "1.5.0",
            "_view_name": "ButtonView",
            "button_style": "",
            "description": "Run Search",
            "disabled": false,
            "icon": "",
            "layout": "IPY_MODEL_f5db4912d910414ab09876b58f6cf4f2",
            "style": "IPY_MODEL_3734c8dd86294800aad4d084b42dd31d",
            "tooltip": ""
          }
        },
        "e5ae71ce98294e32858499773fb92e06": {
          "model_module": "@jupyter-widgets/base",
          "model_module_version": "1.2.0",
          "model_name": "LayoutModel",
          "state": {
            "_model_module": "@jupyter-widgets/base",
            "_model_module_version": "1.2.0",
            "_model_name": "LayoutModel",
            "_view_count": null,
            "_view_module": "@jupyter-widgets/base",
            "_view_module_version": "1.2.0",
            "_view_name": "LayoutView",
            "align_content": null,
            "align_items": null,
            "align_self": null,
            "border": null,
            "bottom": null,
            "display": null,
            "flex": null,
            "flex_flow": null,
            "grid_area": null,
            "grid_auto_columns": null,
            "grid_auto_flow": null,
            "grid_auto_rows": null,
            "grid_column": null,
            "grid_gap": null,
            "grid_row": null,
            "grid_template_areas": null,
            "grid_template_columns": null,
            "grid_template_rows": null,
            "height": null,
            "justify_content": null,
            "justify_items": null,
            "left": null,
            "margin": null,
            "max_height": null,
            "max_width": null,
            "min_height": null,
            "min_width": null,
            "object_fit": null,
            "object_position": null,
            "order": null,
            "overflow": null,
            "overflow_x": null,
            "overflow_y": null,
            "padding": null,
            "right": null,
            "top": null,
            "visibility": null,
            "width": null
          }
        },
        "e70e778236214b0098b88434e3581a29": {
          "model_module": "@jupyter-widgets/base",
          "model_module_version": "1.2.0",
          "model_name": "LayoutModel",
          "state": {
            "_model_module": "@jupyter-widgets/base",
            "_model_module_version": "1.2.0",
            "_model_name": "LayoutModel",
            "_view_count": null,
            "_view_module": "@jupyter-widgets/base",
            "_view_module_version": "1.2.0",
            "_view_name": "LayoutView",
            "align_content": null,
            "align_items": null,
            "align_self": null,
            "border": null,
            "bottom": null,
            "display": null,
            "flex": null,
            "flex_flow": null,
            "grid_area": null,
            "grid_auto_columns": null,
            "grid_auto_flow": null,
            "grid_auto_rows": null,
            "grid_column": null,
            "grid_gap": null,
            "grid_row": null,
            "grid_template_areas": null,
            "grid_template_columns": null,
            "grid_template_rows": null,
            "height": null,
            "justify_content": null,
            "justify_items": null,
            "left": null,
            "margin": null,
            "max_height": null,
            "max_width": null,
            "min_height": null,
            "min_width": null,
            "object_fit": null,
            "object_position": null,
            "order": null,
            "overflow": null,
            "overflow_x": null,
            "overflow_y": null,
            "padding": null,
            "right": null,
            "top": null,
            "visibility": null,
            "width": null
          }
        },
        "ea61542e42814b9ca6eef5ff72ca4ad6": {
          "model_module": "@jupyter-widgets/controls",
          "model_module_version": "1.5.0",
          "model_name": "DescriptionStyleModel",
          "state": {
            "_model_module": "@jupyter-widgets/controls",
            "_model_module_version": "1.5.0",
            "_model_name": "DescriptionStyleModel",
            "_view_count": null,
            "_view_module": "@jupyter-widgets/base",
            "_view_module_version": "1.2.0",
            "_view_name": "StyleView",
            "description_width": ""
          }
        },
        "ebdd071b31f34dc5b88b4862166d4e67": {
          "model_module": "@jupyter-widgets/base",
          "model_module_version": "1.2.0",
          "model_name": "LayoutModel",
          "state": {
            "_model_module": "@jupyter-widgets/base",
            "_model_module_version": "1.2.0",
            "_model_name": "LayoutModel",
            "_view_count": null,
            "_view_module": "@jupyter-widgets/base",
            "_view_module_version": "1.2.0",
            "_view_name": "LayoutView",
            "align_content": null,
            "align_items": null,
            "align_self": null,
            "border": null,
            "bottom": null,
            "display": null,
            "flex": null,
            "flex_flow": null,
            "grid_area": null,
            "grid_auto_columns": null,
            "grid_auto_flow": null,
            "grid_auto_rows": null,
            "grid_column": null,
            "grid_gap": null,
            "grid_row": null,
            "grid_template_areas": null,
            "grid_template_columns": null,
            "grid_template_rows": null,
            "height": null,
            "justify_content": null,
            "justify_items": null,
            "left": null,
            "margin": null,
            "max_height": null,
            "max_width": null,
            "min_height": null,
            "min_width": null,
            "object_fit": null,
            "object_position": null,
            "order": null,
            "overflow": null,
            "overflow_x": null,
            "overflow_y": null,
            "padding": null,
            "right": null,
            "top": null,
            "visibility": null,
            "width": null
          }
        },
        "edb2a69673ef478d941799ef85cf865f": {
          "model_module": "@jupyter-widgets/controls",
          "model_module_version": "1.5.0",
          "model_name": "DescriptionStyleModel",
          "state": {
            "_model_module": "@jupyter-widgets/controls",
            "_model_module_version": "1.5.0",
            "_model_name": "DescriptionStyleModel",
            "_view_count": null,
            "_view_module": "@jupyter-widgets/base",
            "_view_module_version": "1.2.0",
            "_view_name": "StyleView",
            "description_width": ""
          }
        },
        "f05535bcb8454af5b5e402993e2d3150": {
          "model_module": "@jupyter-widgets/controls",
          "model_module_version": "1.5.0",
          "model_name": "SelectMultipleModel",
          "state": {
            "_dom_classes": [],
            "_model_module": "@jupyter-widgets/controls",
            "_model_module_version": "1.5.0",
            "_model_name": "SelectMultipleModel",
            "_options_labels": [
              "uspto"
            ],
            "_view_count": null,
            "_view_module": "@jupyter-widgets/controls",
            "_view_module_version": "1.5.0",
            "_view_name": "SelectMultipleView",
            "description": "Expansion Policy:",
            "description_tooltip": null,
            "disabled": false,
            "index": [
              0
            ],
            "layout": "IPY_MODEL_4cc53c5c71d440d5b4dde294d06c6b6f",
            "rows": 2,
            "style": "IPY_MODEL_77c84cb5486342fbae50b582e4eb5e8a"
          }
        },
        "f231887ef5f346c6940817ca742e99e2": {
          "model_module": "@jupyter-widgets/controls",
          "model_module_version": "1.5.0",
          "model_name": "HBoxModel",
          "state": {
            "_dom_classes": [],
            "_model_module": "@jupyter-widgets/controls",
            "_model_module_version": "1.5.0",
            "_model_name": "HBoxModel",
            "_view_count": null,
            "_view_module": "@jupyter-widgets/controls",
            "_view_module_version": "1.5.0",
            "_view_name": "HBoxView",
            "box_style": "",
            "children": [
              "IPY_MODEL_e4d030f1dcc44524a945cfe43bd0c179",
              "IPY_MODEL_db5b77a161cb4ab5be30fcaa4f14a433"
            ],
            "layout": "IPY_MODEL_d795fd26589d44068a9ee699b5547f60"
          }
        },
        "f29b68052e20431f9a913aa1cb5a3402": {
          "model_module": "@jupyter-widgets/base",
          "model_module_version": "1.2.0",
          "model_name": "LayoutModel",
          "state": {
            "_model_module": "@jupyter-widgets/base",
            "_model_module_version": "1.2.0",
            "_model_name": "LayoutModel",
            "_view_count": null,
            "_view_module": "@jupyter-widgets/base",
            "_view_module_version": "1.2.0",
            "_view_name": "LayoutView",
            "align_content": null,
            "align_items": null,
            "align_self": null,
            "border": null,
            "bottom": null,
            "display": null,
            "flex": null,
            "flex_flow": null,
            "grid_area": null,
            "grid_auto_columns": null,
            "grid_auto_flow": null,
            "grid_auto_rows": null,
            "grid_column": null,
            "grid_gap": null,
            "grid_row": null,
            "grid_template_areas": null,
            "grid_template_columns": null,
            "grid_template_rows": null,
            "height": null,
            "justify_content": null,
            "justify_items": null,
            "left": null,
            "margin": null,
            "max_height": null,
            "max_width": null,
            "min_height": null,
            "min_width": null,
            "object_fit": null,
            "object_position": null,
            "order": null,
            "overflow": null,
            "overflow_x": null,
            "overflow_y": null,
            "padding": null,
            "right": null,
            "top": null,
            "visibility": null,
            "width": null
          }
        },
        "f3616da59d4240fd8cffc0207d93af8e": {
          "model_module": "@jupyter-widgets/controls",
          "model_module_version": "1.5.0",
          "model_name": "DescriptionStyleModel",
          "state": {
            "_model_module": "@jupyter-widgets/controls",
            "_model_module_version": "1.5.0",
            "_model_name": "DescriptionStyleModel",
            "_view_count": null,
            "_view_module": "@jupyter-widgets/base",
            "_view_module_version": "1.2.0",
            "_view_name": "StyleView",
            "description_width": ""
          }
        },
        "f5db4912d910414ab09876b58f6cf4f2": {
          "model_module": "@jupyter-widgets/base",
          "model_module_version": "1.2.0",
          "model_name": "LayoutModel",
          "state": {
            "_model_module": "@jupyter-widgets/base",
            "_model_module_version": "1.2.0",
            "_model_name": "LayoutModel",
            "_view_count": null,
            "_view_module": "@jupyter-widgets/base",
            "_view_module_version": "1.2.0",
            "_view_name": "LayoutView",
            "align_content": null,
            "align_items": null,
            "align_self": null,
            "border": null,
            "bottom": null,
            "display": null,
            "flex": null,
            "flex_flow": null,
            "grid_area": null,
            "grid_auto_columns": null,
            "grid_auto_flow": null,
            "grid_auto_rows": null,
            "grid_column": null,
            "grid_gap": null,
            "grid_row": null,
            "grid_template_areas": null,
            "grid_template_columns": null,
            "grid_template_rows": null,
            "height": null,
            "justify_content": null,
            "justify_items": null,
            "left": null,
            "margin": null,
            "max_height": null,
            "max_width": null,
            "min_height": null,
            "min_width": null,
            "object_fit": null,
            "object_position": null,
            "order": null,
            "overflow": null,
            "overflow_x": null,
            "overflow_y": null,
            "padding": null,
            "right": null,
            "top": null,
            "visibility": null,
            "width": null
          }
        },
        "f9e53becd5644afe949cc925eb54e277": {
          "model_module": "@jupyter-widgets/controls",
          "model_module_version": "1.5.0",
          "model_name": "DescriptionStyleModel",
          "state": {
            "_model_module": "@jupyter-widgets/controls",
            "_model_module_version": "1.5.0",
            "_model_name": "DescriptionStyleModel",
            "_view_count": null,
            "_view_module": "@jupyter-widgets/base",
            "_view_module_version": "1.2.0",
            "_view_name": "StyleView",
            "description_width": "initial"
          }
        },
        "ff8a55257ec549598dca372e2e5cc81b": {
          "model_module": "@jupyter-widgets/controls",
          "model_module_version": "1.5.0",
          "model_name": "ButtonStyleModel",
          "state": {
            "_model_module": "@jupyter-widgets/controls",
            "_model_module_version": "1.5.0",
            "_model_name": "ButtonStyleModel",
            "_view_count": null,
            "_view_module": "@jupyter-widgets/base",
            "_view_module_version": "1.2.0",
            "_view_name": "StyleView",
            "button_color": null,
            "font_weight": ""
          }
        }
      }
    }
  },
  "nbformat": 4,
  "nbformat_minor": 0
}
