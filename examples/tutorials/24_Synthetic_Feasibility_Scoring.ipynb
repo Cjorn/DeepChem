{
 "cells": [
  {
   "cell_type": "markdown",
   "metadata": {
    "colab_type": "text",
    "id": "LOooVC6OpbFs"
   },
   "source": [
    "# Tutorial Part 23: Synthetic Feasibility\n",
    "\n",
    "Synthetic feasibility is a problem when running large scale enumerations.  Often molecules that are enumerated are very difficult to make and thus not worth inspection, even if their other chemical properties are good in silico.  This tutorial goes through how to train the [ScScore](https://pubs.acs.org/doi/abs/10.1021/acs.jcim.7b00622) model [1].\n",
    "\n",
    "The idea of the model is to train on pairs of molecules where one molecule is \"more complex\" than the other.  The neural network then can make scores which attempt to keep this pairwise ordering of molecules.  The final result is a model which can give a relative complexity of a molecule.\n",
    "\n",
    "The paper trains on every reaction in reaxys, declaring products more complex than reactions.  Since this training set is prohibitively expensive we will instead train on arbitrary molecules declaring one more complex if its SMILES string is longer.  In the real world you can use whatever measure of complexity makes sense for the project.\n",
    "\n",
    "In this tutorial, we'll use the Tox21 dataset to train our simple synthetic feasibility model.\n",
    "\n",
    "## Colab\n",
    "\n",
    "This tutorial and the rest in this sequence can be done in Google colab. If you'd like to open this notebook in colab, you can use the following link.\n",
    "\n",
    "[![Open In Colab](https://colab.research.google.com/assets/colab-badge.svg)](https://colab.research.google.com/github/deepchem/deepchem/blob/master/examples/tutorials/23_Synthetic_Feasibility_Scoring.ipynb)\n",
    "\n",
    "\n",
    "## Setup\n",
    "\n",
    "To run DeepChem within Colab, you'll need to run the following installation commands. This will take about 5 minutes to run to completion and install your environment. You can of course run this tutorial locally if you prefer. In that case, don't run these cells since they will download and install Anaconda on your local machine."
   ]
  },
  {
   "cell_type": "code",
   "execution_count": null,
   "metadata": {
    "colab": {
     "base_uri": "https://localhost:8080/",
     "height": 323
    },
    "colab_type": "code",
    "id": "IlFeRa3qpbFz",
    "outputId": "2836932a-eae7-487c-b20d-54607c452046"
   },
   "outputs": [],
   "source": [
    "!curl -Lo conda_installer.py https://raw.githubusercontent.com/deepchem/deepchem/master/scripts/colab_install.py\n",
    "import conda_installer\n",
    "conda_installer.install()\n",
    "!/root/miniconda/bin/conda info -e"
   ]
  },
  {
   "cell_type": "code",
   "execution_count": null,
   "metadata": {
    "colab": {
     "base_uri": "https://localhost:8080/",
     "height": 361
    },
    "colab_type": "code",
    "id": "pveyx31SFSp7",
    "outputId": "9ab163f3-3f4b-4a12-9494-cc41c730353c"
   },
   "outputs": [],
   "source": [
    "!pip install --pre deepchem\n",
    "import deepchem\n",
    "deepchem.__version__"
   ]
  },
  {
   "cell_type": "markdown",
   "metadata": {},
   "source": [
    "# Make The Datasets\n",
    "\n",
    "Let's begin by loading some molecules to work with.  We load Tox21, specifying `splitter=None` so everything will be returned as a single dataset."
   ]
  },
  {
   "cell_type": "code",
   "execution_count": 1,
   "metadata": {
    "colab": {
     "base_uri": "https://localhost:8080/",
     "height": 88
    },
    "colab_type": "code",
    "id": "d3QTjXKwpbF9",
    "outputId": "94711095-67df-4616-89a1-47246f6629aa"
   },
   "outputs": [
    {
     "name": "stderr",
     "output_type": "stream",
     "text": [
      "RDKit WARNING: [18:00:56] WARNING: not removing hydrogen atom without neighbors\n"
     ]
    }
   ],
   "source": [
    "import deepchem as dc\n",
    "tasks, datasets, transformers = dc.molnet.load_tox21(featurizer='Raw', splitter=None)\n",
    "molecules = datasets[0].X"
   ]
  },
  {
   "cell_type": "markdown",
   "metadata": {
    "colab_type": "text",
    "id": "Obts3nFSpbGC"
   },
   "source": [
    "Because ScScore is trained on relative complexities, we want the `X` tensor in our dataset to have 3 dimensions `(sample_id, molecule_id, features)`.  The `molecule_id` dimension has size 2 because a sample is a pair of molecules.  The label is 1 if the first molecule is more complex than the second molecule. The function `create_dataset` we introduce below pulls random pairs of SMILES strings out of a given list and ranks them according to this complexity measure.\n",
    "\n",
    "In the real world you could use purchase cost, or number of reaction steps required as your complexity score. "
   ]
  },
  {
   "cell_type": "code",
   "execution_count": 2,
   "metadata": {
    "colab": {},
    "colab_type": "code",
    "id": "CN8YlS6YpbGD"
   },
   "outputs": [],
   "source": [
    "from rdkit import Chem\n",
    "import random\n",
    "from deepchem.feat import CircularFingerprint\n",
    "import numpy as np\n",
    "\n",
    "\n",
    "def create_dataset(fingerprints, smiles_lens, ds_size=100000):\n",
    "    \"\"\"\n",
    "    m1: list of np.Array\n",
    "        fingerprints for molecules\n",
    "    m2: list of int\n",
    "        length of a molecules SMILES string\n",
    "    \n",
    "    returns:\n",
    "        dc.data.Dataset for input into ScScore Model\n",
    "        \n",
    "    Dataset.X\n",
    "        shape is (sample_id, molecule_id, features)\n",
    "    Dataset.y\n",
    "        shape is (sample_id,)\n",
    "        values is 1 if the 0th index molecule is more complex\n",
    "                  0 if the 1st index molecule is more complex\n",
    "    \"\"\"\n",
    "    X, y = [], []\n",
    "    all_data = list(zip(fingerprints, smiles_lens))\n",
    "    while len(y) < ds_size:\n",
    "        i1 = random.randrange(0, len(smiles_lens))\n",
    "        i2 = random.randrange(0, len(smiles_lens))\n",
    "        m1 = all_data[i1]\n",
    "        m2 = all_data[i2]\n",
    "        if m1[1] == m2[1]:\n",
    "            continue\n",
    "        if m1[1] > m2[1]:\n",
    "            y.append(1.0)\n",
    "        else:\n",
    "            y.append(0.0)\n",
    "        X.append([m1[0], m2[0]])\n",
    "    return dc.data.NumpyDataset(np.array(X), np.expand_dims(np.array(y), axis=1))"
   ]
  },
  {
   "cell_type": "markdown",
   "metadata": {
    "colab_type": "text",
    "id": "Y57_UmtSpbGN"
   },
   "source": [
    "With our complexity ranker in place we can now construct our dataset. Let's start by randomly splitting the list of molecules into training and test sets."
   ]
  },
  {
   "cell_type": "code",
   "execution_count": 3,
   "metadata": {
    "colab": {},
    "colab_type": "code",
    "id": "PAhEBQSKpbGP"
   },
   "outputs": [],
   "source": [
    "molecule_ds = dc.data.NumpyDataset(np.array(molecules))\n",
    "splitter = dc.splits.RandomSplitter()\n",
    "train_mols, test_mols = splitter.train_test_split(molecule_ds)"
   ]
  },
  {
   "cell_type": "markdown",
   "metadata": {
    "colab_type": "text",
    "id": "oREWA_U2pbGW"
   },
   "source": [
    "We'll featurize all our molecules with the ECFP fingerprint with chirality (matching the source paper), and will then construct our pairwise dataset using the function defined above."
   ]
  },
  {
   "cell_type": "code",
   "execution_count": 4,
   "metadata": {
    "colab": {},
    "colab_type": "code",
    "id": "r2M2fvvapbGY"
   },
   "outputs": [],
   "source": [
    "n_features = 1024\n",
    "featurizer = dc.feat.CircularFingerprint(size=n_features, radius=2, chiral=True)\n",
    "train_features = featurizer.featurize(train_mols.X)\n",
    "train_smiles_len = [len(Chem.MolToSmiles(x)) for x in train_mols.X]\n",
    "train_dataset = create_dataset(train_features, train_smiles_len)"
   ]
  },
  {
   "cell_type": "markdown",
   "metadata": {
    "colab_type": "text",
    "id": "5jL9qNebpbGc"
   },
   "source": [
    "Now that we have our dataset created, let's train a `ScScoreModel` on this dataset."
   ]
  },
  {
   "cell_type": "code",
   "execution_count": 5,
   "metadata": {
    "colab": {
     "base_uri": "https://localhost:8080/",
     "height": 34
    },
    "colab_type": "code",
    "id": "AZhS38JLpbGd",
    "outputId": "471f4813-1d0d-4e42-819a-f703e0c407a3"
   },
   "outputs": [
    {
     "data": {
      "text/plain": [
       "0.04549238204956055"
      ]
     },
     "execution_count": 5,
     "metadata": {},
     "output_type": "execute_result"
    }
   ],
   "source": [
    "model = dc.models.ScScoreModel(n_features=n_features)\n",
    "model.fit(train_dataset, nb_epoch=20)"
   ]
  },
  {
   "cell_type": "markdown",
   "metadata": {
    "colab_type": "text",
    "id": "nsBROH4WpbGi"
   },
   "source": [
    "# Model Performance\n",
    "\n",
    "Lets evaluate how well the model does on our holdout molecules.  The SaScores should track the length of SMILES strings from never before seen molecules."
   ]
  },
  {
   "cell_type": "code",
   "execution_count": 6,
   "metadata": {
    "colab": {},
    "colab_type": "code",
    "id": "bIDZ3sZfpbGj"
   },
   "outputs": [],
   "source": [
    "import matplotlib.pyplot as plt\n",
    "%matplotlib inline"
   ]
  },
  {
   "cell_type": "code",
   "execution_count": 7,
   "metadata": {
    "colab": {},
    "colab_type": "code",
    "id": "hsJdJTZKpbGu"
   },
   "outputs": [],
   "source": [
    "mol_scores = model.predict_mols(test_mols.X)\n",
    "smiles_lengths = [len(Chem.MolToSmiles(x)) for x in test_mols.X]"
   ]
  },
  {
   "cell_type": "markdown",
   "metadata": {
    "colab_type": "text",
    "id": "J9n6wK8fpbG1"
   },
   "source": [
    "Let's now plot the length of the smiles string of the molecule against the SaScore using matplotlib."
   ]
  },
  {
   "cell_type": "code",
   "execution_count": 8,
   "metadata": {
    "colab": {
     "base_uri": "https://localhost:8080/",
     "height": 920
    },
    "colab_type": "code",
    "id": "CNgjQWQRpbG4",
    "outputId": "28938618-5e6a-4470-cfef-b0a75878843f"
   },
   "outputs": [
    {
     "data": {
      "image/png": "[encoded data removed]",
      "text/plain": [
       "<Figure size 1440x1152 with 1 Axes>"
      ]
     },
     "metadata": {
      "needs_background": "light"
     },
     "output_type": "display_data"
    }
   ],
   "source": [
    "plt.figure(figsize=(20,16))\n",
    "plt.scatter(smiles_lengths, mol_scores)\n",
    "plt.xlim(0,80)\n",
    "plt.xlabel(\"SMILES length\")\n",
    "plt.ylabel(\"ScScore\")\n",
    "plt.show()"
   ]
  },
  {
   "cell_type": "markdown",
   "metadata": {
    "colab_type": "text",
    "id": "riCGU3D4pbG8"
   },
   "source": [
    "As we can see the model generally tracks SMILES length.  It has good enrichment between 8 and 30 characters and gets both small and large SMILES strings extremes dead on.\n",
    "\n",
    "Now you can train your own models on more meaningful metrics than SMILES length!"
   ]
  },
  {
   "cell_type": "markdown",
   "metadata": {
    "colab_type": "text",
    "id": "eDugxI2PpbG-"
   },
   "source": [
    "# Congratulations! Time to join the Community!\n",
    "\n",
    "Congratulations on completing this tutorial notebook! If you enjoyed working through the tutorial, and want to continue working with DeepChem, we encourage you to finish the rest of the tutorials in this series. You can also help the DeepChem community in the following ways:\n",
    "\n",
    "## Star DeepChem on [GitHub](https://github.com/deepchem/deepchem)\n",
    "This helps build awareness of the DeepChem project and the tools for open source drug discovery that we're trying to build.\n",
    "\n",
    "## Join the DeepChem Gitter\n",
    "The DeepChem [Gitter](https://gitter.im/deepchem/Lobby) hosts a number of scientists, developers, and enthusiasts interested in deep learning for the life sciences. Join the conversation!\n",
    "\n",
    "\n",
    "# Bibliography:\n",
    "\n",
    "[1] https://pubs.acs.org/doi/abs/10.1021/acs.jcim.7b00622"
   ]
  }
 ],
 "metadata": {
  "accelerator": "GPU",
  "colab": {
   "name": "15_Synthetic_Feasibility_Scoring.ipynb",
   "provenance": []
  },
  "kernelspec": {
   "display_name": "Python 3",
   "language": "python",
   "name": "python3"
  },
  "language_info": {
   "codemirror_mode": {
    "name": "ipython",
    "version": 3
   },
   "file_extension": ".py",
   "mimetype": "text/x-python",
   "name": "python",
   "nbconvert_exporter": "python",
   "pygments_lexer": "ipython3",
   "version": "3.6.13"
  }
 },
 "nbformat": 4,
 "nbformat_minor": 1
}
