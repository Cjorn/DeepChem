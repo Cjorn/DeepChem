{
 "cells": [
  {
   "cell_type": "markdown",
   "metadata": {
    "colab_type": "text",
    "id": "hzpae9-r2aoK"
   },
   "source": [
    "#  Learning Unsupervised Embeddings for Molecules\n",
    "\n",
    "In this tutorial, we will use a `SeqToSeq` model to generate fingerprints for classifying molecules.  This is based on the following paper, although some of the implementation details are different: Xu et al., \"Seq2seq Fingerprint: An Unsupervised Deep Molecular Embedding for Drug Discovery\" (https://doi.org/10.1145/3107411.3107424).\n",
    "\n",
    "## Colab\n",
    "\n",
    "This tutorial and the rest in this sequence can be done in Google colab. If you'd like to open this notebook in colab, you can use the following link.\n",
    "\n",
    "[![Open In Colab](https://colab.research.google.com/assets/colab-badge.svg)](https://colab.research.google.com/github/deepchem/deepchem/blob/master/examples/tutorials/Learning_Unsupervised_Embeddings_for_Molecules.ipynb)\n",
    "\n"
   ]
  },
  {
   "cell_type": "code",
   "execution_count": 1,
   "metadata": {
    "colab": {
     "base_uri": "https://localhost:8080/",
     "height": 188
    },
    "colab_type": "code",
    "id": "2uo2i6arBiMS",
    "outputId": "d9d1d0ba-09c0-44ee-b315-84d87af40cf2"
   },
   "outputs": [
    {
     "name": "stdout",
     "output_type": "stream",
     "text": [
      "Requirement already satisfied: deepchem in c:\\users\\raksh\\downloads\\deepchem (2.7.2.dev20230723170126)\n",
      "Requirement already satisfied: joblib in c:\\users\\raksh\\anaconda3\\envs\\deepchem\\lib\\site-packages\\joblib-1.2.0-py3.8.egg (from deepchem) (1.2.0)\n",
      "Requirement already satisfied: numpy>=1.21 in c:\\users\\raksh\\anaconda3\\envs\\deepchem\\lib\\site-packages (from deepchem) (1.21.6)\n",
      "Requirement already satisfied: pandas in c:\\users\\raksh\\anaconda3\\envs\\deepchem\\lib\\site-packages\\pandas-2.0.2-py3.8-win-amd64.egg (from deepchem) (2.0.2)\n",
      "Requirement already satisfied: scikit-learn in c:\\users\\raksh\\anaconda3\\envs\\deepchem\\lib\\site-packages (from deepchem) (1.2.2)\n",
      "Requirement already satisfied: scipy>=1.10.1 in c:\\users\\raksh\\anaconda3\\envs\\deepchem\\lib\\site-packages\\scipy-1.10.1-py3.8-win-amd64.egg (from deepchem) (1.10.1)\n",
      "Requirement already satisfied: rdkit in c:\\users\\raksh\\anaconda3\\envs\\deepchem\\lib\\site-packages\\rdkit-2023.3.1-py3.8-win-amd64.egg (from deepchem) (2023.3.1)\n",
      "Requirement already satisfied: python-dateutil>=2.8.2 in c:\\users\\raksh\\anaconda3\\envs\\deepchem\\lib\\site-packages (from pandas->deepchem) (2.8.2)\n",
      "Requirement already satisfied: pytz>=2020.1 in c:\\users\\raksh\\anaconda3\\envs\\deepchem\\lib\\site-packages\\pytz-2023.3-py3.8.egg (from pandas->deepchem) (2023.3)\n",
      "Requirement already satisfied: tzdata>=2022.1 in c:\\users\\raksh\\anaconda3\\envs\\deepchem\\lib\\site-packages\\tzdata-2023.3-py3.8.egg (from pandas->deepchem) (2023.3)\n",
      "Requirement already satisfied: Pillow in c:\\users\\raksh\\anaconda3\\envs\\deepchem\\lib\\site-packages\\pillow-9.5.0-py3.8-win-amd64.egg (from rdkit->deepchem) (9.5.0)\n",
      "Requirement already satisfied: threadpoolctl>=2.0.0 in c:\\users\\raksh\\anaconda3\\envs\\deepchem\\lib\\site-packages\\threadpoolctl-3.1.0-py3.8.egg (from scikit-learn->deepchem) (3.1.0)\n",
      "Requirement already satisfied: six>=1.5 in c:\\users\\raksh\\anaconda3\\envs\\deepchem\\lib\\site-packages (from python-dateutil>=2.8.2->pandas->deepchem) (1.16.0)\n"
     ]
    },
    {
     "name": "stderr",
     "output_type": "stream",
     "text": [
      "WARNING: Ignoring invalid distribution -rotobuf (c:\\users\\raksh\\anaconda3\\envs\\deepchem\\lib\\site-packages)\n",
      "WARNING: Ignoring invalid distribution -rotobuf (c:\\users\\raksh\\anaconda3\\envs\\deepchem\\lib\\site-packages)\n",
      "No normalization for AvgIpc. Feature removed!\n",
      "Skipped loading modules with pytorch-geometric dependency, missing a dependency. No module named 'dgl'\n",
      "Skipped loading modules with transformers dependency. No module named 'transformers'\n",
      "cannot import name 'HuggingFaceModel' from 'deepchem.models.torch_models' (c:\\users\\raksh\\downloads\\deepchem\\deepchem\\models\\torch_models\\__init__.py)\n",
      "Skipped loading modules with pytorch-lightning dependency, missing a dependency. No module named 'pytorch_lightning'\n",
      "Skipped loading some Jax models, missing a dependency. jax requires jaxlib to be installed. See https://github.com/google/jax#installation for installation instructions.\n"
     ]
    },
    {
     "data": {
      "text/plain": [
       "'2.7.2.dev'"
      ]
     },
     "execution_count": 1,
     "metadata": {},
     "output_type": "execute_result"
    }
   ],
   "source": [
    "!pip install --pre deepchem\n",
    "import deepchem\n",
    "deepchem.__version__"
   ]
  },
  {
   "cell_type": "markdown",
   "metadata": {
    "colab_type": "text",
    "id": "6bm1iYbw2aoT"
   },
   "source": [
    "# Learning Embeddings with SeqToSeq\n",
    "\n",
    "Many types of models require their inputs to have a fixed shape.  Since molecules can vary widely in the numbers of atoms and bonds they contain, this makes it hard to apply those models to them.  We need a way of generating a fixed length \"fingerprint\" for each molecule.  Various ways of doing this have been designed, such as the Extended-Connectivity Fingerprints (ECFPs) we used in earlier tutorials.  But in this example, instead of designing a fingerprint by hand, we will let a `SeqToSeq` model learn its own method of creating fingerprints.\n",
    "\n",
    "A `SeqToSeq` model performs sequence to sequence translation.  For example, they are often used to translate text from one language to another.  It consists of two parts called the \"encoder\" and \"decoder\".  The encoder is a stack of recurrent layers.  The input sequence is fed into it, one token at a time, and it generates a fixed length vector called the \"embedding vector\".  The decoder is another stack of recurrent layers that performs the inverse operation: it takes the embedding vector as input, and generates the output sequence.  By training it on appropriately chosen input/output pairs, you can create a model that performs many sorts of transformations.\n",
    "\n",
    "In this case, we will use SMILES strings describing molecules as the input sequences.  We will train the model as an autoencoder, so it tries to make the output sequences identical to the input sequences.  For that to work, the encoder must create embedding vectors that contain all information from the original sequence.  That's exactly what we want in a fingerprint, so perhaps those embedding vectors will then be useful as a way to represent molecules in other models!\n",
    "\n",
    "Let's start by loading the data.  We will use the MUV dataset.  It includes 74,501 molecules in the training set, and 9313 molecules in the validation set, so it gives us plenty of SMILES strings to work with."
   ]
  },
  {
   "cell_type": "code",
   "execution_count": 2,
   "metadata": {
    "colab": {},
    "colab_type": "code",
    "id": "YnAnjl9d2aoU"
   },
   "outputs": [
    {
     "name": "stderr",
     "output_type": "stream",
     "text": [
      "'split' is deprecated.  Use 'splitter' instead.\n"
     ]
    }
   ],
   "source": [
    "import deepchem as dc\n",
    "tasks, datasets, transformers = dc.molnet.load_muv(split='stratified')\n",
    "train_dataset, valid_dataset, test_dataset = datasets\n",
    "train_smiles = train_dataset.ids\n",
    "valid_smiles = valid_dataset.ids"
   ]
  },
  {
   "cell_type": "markdown",
   "metadata": {
    "colab_type": "text",
    "id": "EslVHE2m2aoY"
   },
   "source": [
    "We need to define the \"alphabet\" for our `SeqToSeq` model, the list of all tokens that can appear in sequences.  (It's also possible for input and output sequences to have different alphabets, but since we're training it as an autoencoder, they're identical in this case.)  Make a list of every character that appears in any training sequence."
   ]
  },
  {
   "cell_type": "code",
   "execution_count": 3,
   "metadata": {
    "colab": {},
    "colab_type": "code",
    "id": "nsE8e9xn2aoa"
   },
   "outputs": [],
   "source": [
    "tokens = set()\n",
    "for s in train_smiles:\n",
    "    tokens = tokens.union(set(c for c in s))\n",
    "tokens = sorted(list(tokens))"
   ]
  },
  {
   "cell_type": "markdown",
   "metadata": {
    "colab_type": "text",
    "id": "vgzyJ1-42aog"
   },
   "source": [
    "Create the model and define the optimization method to use.  In this case, learning works much better if we gradually decrease the learning rate.  We use an `ExponentialDecay` to multiply the learning rate by 0.9 after each epoch."
   ]
  },
  {
   "cell_type": "code",
   "execution_count": 4,
   "metadata": {
    "colab": {},
    "colab_type": "code",
    "id": "NHKrymnM2aoh"
   },
   "outputs": [
    {
     "name": "stderr",
     "output_type": "stream",
     "text": [
      "c:\\Users\\raksh\\anaconda3\\envs\\deepchem\\lib\\site-packages\\torch\\nn\\modules\\lazy.py:180: UserWarning: Lazy modules are a new feature under heavy development so changes to the API or functionality can happen at any moment.\n",
      "  warnings.warn('Lazy modules are a new feature under heavy development '\n"
     ]
    }
   ],
   "source": [
    "from deepchem.models.optimizers import Adam, ExponentialDecay\n",
    "max_length = max(len(s) for s in train_smiles)\n",
    "batch_size = 100\n",
    "batches_per_epoch = len(train_smiles)/batch_size\n",
    "model = dc.models.torch_models.SeqToSeqModel(tokens,\n",
    "                           tokens,\n",
    "                           max_length,\n",
    "                           encoder_layers=4,\n",
    "                           decoder_layers=4,\n",
    "                           embedding_dimension=256,\n",
    "                           model_dir='fingerprint',\n",
    "                           batch_size=batch_size,\n",
    "                           learning_rate=ExponentialDecay(0.001, 0.9, batches_per_epoch))"
   ]
  },
  {
   "cell_type": "markdown",
   "metadata": {
    "colab_type": "text",
    "id": "hSr7FkSW2aok"
   },
   "source": [
    "Let's train it!  The input to `fit_sequences()` is a generator that produces input/output pairs.  On a good GPU, this should take a few hours or less."
   ]
  },
  {
   "cell_type": "code",
   "execution_count": 6,
   "metadata": {
    "colab": {},
    "colab_type": "code",
    "id": "NZ5l_g1E2aok"
   },
   "outputs": [],
   "source": [
    "def generate_sequences(epochs):\n",
    "    for i in range(epochs):\n",
    "        for s in train_smiles[:1000]:\n",
    "            yield (s, s)\n",
    "\n",
    "model.fit_sequences(generate_sequences(10))"
   ]
  },
  {
   "cell_type": "markdown",
   "metadata": {
    "colab_type": "text",
    "id": "_lxf1lmX2aoo"
   },
   "source": [
    "Let's see how well it works as an autoencoder.  We'll run the first 500 molecules from the validation set through it, and see how many of them are exactly reproduced."
   ]
  },
  {
   "cell_type": "code",
   "execution_count": 7,
   "metadata": {
    "colab": {},
    "colab_type": "code",
    "id": "NXDBtIvn2aop"
   },
   "outputs": [
    {
     "name": "stdout",
     "output_type": "stream",
     "text": [
      "['----------4444444444444444444443333333333', '/////=======++++++++++++++[[[[[[[------------------------------------------rrrrrrrrrr', '////////==cccc-------------rrrrrrrrrrrrrrrrrrrrrrrrrrrrrrrrrrrrrrrrrrrrrrrrrrrrrrrrrr', '------------44444444444444444444[------------------------------------------------rrrr', '//====++++[[[[[[[[[[[[[------------rrrrrrrrrrrrrrrrrrrrrrrrrrrrrrrrrrrrrrrrrrrrrrrrrr', '------4444444444444444444444444444]]]-----------------rrrrrrrrrrrrrrrrrrrrrrrrrrrrrrr', '//=====++++++++++++++++[[[]H--------rrrrrrrrrrrrrrrrrrrrrrrrrrrrrrrrrrrrrrrrrrrrrrrrr', '////////==================cc11111', '////=====++++++[[[[[[HH-nnnnrrrrrrrrrrrrrrrrrrrrrrrrrrrrrrrrrrrrrrrrrrrrrrrrrrrrrrrrr', '////===+-----------------------------------------------------------------------------']\n",
      "['Cc1nn(-c2ccccc2)c(Cl)c1C1C(C#N)=C(N)OC2=C1C(=O)CCC2', 'CCOC(=O)C1(Cc2ccc(O)cc2)NC(c2ccco2)C2C(=O)N(c3ccccc3F)C(=O)C21', 'CCCCN(CC)C(=O)Cc1cn(C)c2ccccc12', 'Cc1onc(-c2c(Cl)cccc2Cl)c1C(=O)Nc1c(C)n(C)n(-c2ccccc2)c1=O', 'COc1cc(C)nc(NS(=O)(=O)c2ccc(C)cc2)n1', 'Cc1[nH]nc(NC=C2C(=O)N(C)C(=O)N(C)C2=O)c1-c1ccccc1', 'Cc1ccc(S(=O)(=O)NC(=O)Nn2c(C)nnc2C)cc1', 'CC1(C)CN=C(N2CCN(C3=NCC(C)(C)S3)CC2)S1', 'CCc1ccc(/C=N/NC(=O)c2ccc(Br)o2)s1', 'O=C(Nc1ccc(Oc2cccc3ccccc23)cc1)c1ccco1']\n"
     ]
    }
   ],
   "source": [
    "predicted = model.predict_from_sequences(valid_smiles[:10])\n",
    "print([''.join(p) for p in predicted])\n",
    "print([''.join(p) for p in valid_smiles[:10]])"
   ]
  },
  {
   "cell_type": "markdown",
   "metadata": {
    "colab_type": "text",
    "id": "Rt9GLy502aou"
   },
   "source": [
    "Now we'll trying using the encoder as a way to generate molecular fingerprints.  We compute the embedding vectors for all molecules in the training and validation datasets, and create new datasets that have those as their feature vectors.  The amount of data is small enough that we can just store everything in memory."
   ]
  },
  {
   "cell_type": "code",
   "execution_count": null,
   "metadata": {
    "colab": {},
    "colab_type": "code",
    "id": "kdUfsbtZ2aov"
   },
   "outputs": [
    {
     "ename": "AttributeError",
     "evalue": "'SeqToSeqModel' object has no attribute '_embedding'",
     "output_type": "error",
     "traceback": [
      "\u001b[1;31m---------------------------------------------------------------------------\u001b[0m",
      "\u001b[1;31mAttributeError\u001b[0m                            Traceback (most recent call last)",
      "Cell \u001b[1;32mIn[7], line 2\u001b[0m\n\u001b[0;32m      1\u001b[0m \u001b[39mimport\u001b[39;00m \u001b[39mnumpy\u001b[39;00m \u001b[39mas\u001b[39;00m \u001b[39mnp\u001b[39;00m\n\u001b[1;32m----> 2\u001b[0m train_embeddings \u001b[39m=\u001b[39m model\u001b[39m.\u001b[39;49mpredict_embeddings(train_smiles)\n\u001b[0;32m      3\u001b[0m train_embeddings_dataset \u001b[39m=\u001b[39m dc\u001b[39m.\u001b[39mdata\u001b[39m.\u001b[39mNumpyDataset(train_embeddings,\n\u001b[0;32m      4\u001b[0m                                                 train_dataset\u001b[39m.\u001b[39my,\n\u001b[0;32m      5\u001b[0m                                                 train_dataset\u001b[39m.\u001b[39mw\u001b[39m.\u001b[39mastype(np\u001b[39m.\u001b[39mfloat32),\n\u001b[0;32m      6\u001b[0m                                                 train_dataset\u001b[39m.\u001b[39mids)\n\u001b[0;32m      8\u001b[0m valid_embeddings \u001b[39m=\u001b[39m model\u001b[39m.\u001b[39mpredict_embeddings(valid_smiles)\n",
      "File \u001b[1;32mc:\\users\\raksh\\downloads\\deepchem\\deepchem\\models\\torch_models\\seqtoseq.py:424\u001b[0m, in \u001b[0;36mSeqToSeqModel.predict_embeddings\u001b[1;34m(self, sequences)\u001b[0m\n\u001b[0;32m    418\u001b[0m features \u001b[39m=\u001b[39m \u001b[39mself\u001b[39m\u001b[39m.\u001b[39m_create_input_array(batch)\n\u001b[0;32m    419\u001b[0m indices \u001b[39m=\u001b[39m np\u001b[39m.\u001b[39marray([(i, \u001b[39mlen\u001b[39m(batch[i]) \u001b[39mif\u001b[39;00m i \u001b[39m<\u001b[39m \u001b[39mlen\u001b[39m(batch) \u001b[39melse\u001b[39;00m \u001b[39m0\u001b[39m)\n\u001b[0;32m    420\u001b[0m                     \u001b[39mfor\u001b[39;00m i \u001b[39min\u001b[39;00m \u001b[39mrange\u001b[39m(\u001b[39mself\u001b[39m\u001b[39m.\u001b[39mbatch_size)])\n\u001b[0;32m    421\u001b[0m embeddings \u001b[39m=\u001b[39m \u001b[39mself\u001b[39m\u001b[39m.\u001b[39mpredict_on_generator(\n\u001b[0;32m    422\u001b[0m     [[(features, indices, np\u001b[39m.\u001b[39marray(\u001b[39mself\u001b[39m\u001b[39m.\u001b[39mget_global_step())), \u001b[39mNone\u001b[39;00m,\n\u001b[0;32m    423\u001b[0m       \u001b[39mNone\u001b[39;00m]],\n\u001b[1;32m--> 424\u001b[0m     outputs\u001b[39m=\u001b[39m\u001b[39mself\u001b[39;49m\u001b[39m.\u001b[39;49m_embedding)\n\u001b[0;32m    425\u001b[0m \u001b[39mfor\u001b[39;00m i \u001b[39min\u001b[39;00m \u001b[39mrange\u001b[39m(\u001b[39mlen\u001b[39m(batch)):\n\u001b[0;32m    426\u001b[0m     result\u001b[39m.\u001b[39mappend(embeddings[i])\n",
      "\u001b[1;31mAttributeError\u001b[0m: 'SeqToSeqModel' object has no attribute '_embedding'"
     ]
    }
   ],
   "source": [
    "import numpy as np\n",
    "train_embeddings = model.predict_embeddings(train_smiles)\n",
    "train_embeddings_dataset = dc.data.NumpyDataset(train_embeddings,\n",
    "                                                train_dataset.y,\n",
    "                                                train_dataset.w.astype(np.float32),\n",
    "                                                train_dataset.ids)\n",
    "\n",
    "valid_embeddings = model.predict_embeddings(valid_smiles)\n",
    "valid_embeddings_dataset = dc.data.NumpyDataset(valid_embeddings,\n",
    "                                                valid_dataset.y,\n",
    "                                                valid_dataset.w.astype(np.float32),\n",
    "                                                valid_dataset.ids)"
   ]
  },
  {
   "cell_type": "markdown",
   "metadata": {
    "colab_type": "text",
    "id": "lVvfGr562aoz"
   },
   "source": [
    "For classification, we'll use a simple fully connected network with one hidden layer."
   ]
  },
  {
   "cell_type": "code",
   "execution_count": null,
   "metadata": {
    "colab": {},
    "colab_type": "code",
    "id": "tFmnnVNm2aoz"
   },
   "outputs": [
    {
     "data": {
      "text/plain": [
       "0.0014195525646209716"
      ]
     },
     "execution_count": 7,
     "metadata": {},
     "output_type": "execute_result"
    }
   ],
   "source": [
    "classifier = dc.models.MultitaskClassifier(n_tasks=len(tasks),\n",
    "                                                      n_features=256,\n",
    "                                                      layer_sizes=[512])\n",
    "classifier.fit(train_embeddings_dataset, nb_epoch=10)"
   ]
  },
  {
   "cell_type": "markdown",
   "metadata": {
    "colab_type": "text",
    "id": "khdB2v7R2ao2"
   },
   "source": [
    "Find out how well it worked.  Compute the ROC AUC for the training and validation datasets."
   ]
  },
  {
   "cell_type": "code",
   "execution_count": null,
   "metadata": {
    "colab": {},
    "colab_type": "code",
    "id": "ZlilhPvm2ao2"
   },
   "outputs": [
    {
     "name": "stdout",
     "output_type": "stream",
     "text": [
      "Training set ROC AUC: {'mean-roc_auc_score': 0.9598792603154332}\n",
      "Validation set ROC AUC: {'mean-roc_auc_score': 0.7251350862464794}\n"
     ]
    }
   ],
   "source": [
    "metric = dc.metrics.Metric(dc.metrics.roc_auc_score, np.mean, mode=\"classification\")\n",
    "train_score = classifier.evaluate(train_embeddings_dataset, [metric], transformers)\n",
    "valid_score = classifier.evaluate(valid_embeddings_dataset, [metric], transformers)\n",
    "print('Training set ROC AUC:', train_score)\n",
    "print('Validation set ROC AUC:', valid_score)"
   ]
  },
  {
   "cell_type": "markdown",
   "metadata": {
    "colab_type": "text",
    "id": "ixqbRXnW2ao6"
   },
   "source": [
    "# Congratulations! Time to join the Community!\n",
    "\n",
    "Congratulations on completing this tutorial notebook! If you enjoyed working through the tutorial, and want to continue working with DeepChem, we encourage you to finish the rest of the tutorials in this series. You can also help the DeepChem community in the following ways:\n",
    "\n",
    "## Star DeepChem on [GitHub](https://github.com/deepchem/deepchem)\n",
    "This helps build awareness of the DeepChem project and the tools for open source drug discovery that we're trying to build.\n",
    "\n",
    "## Join the DeepChem Gitter\n",
    "The DeepChem [Gitter](https://gitter.im/deepchem/Lobby) hosts a number of scientists, developers, and enthusiasts interested in deep learning for the life sciences. Join the conversation!"
   ]
  }
 ],
 "metadata": {
  "colab": {
   "name": "11_Learning_Unsupervised_Embeddings_for_Molecules.ipynb",
   "provenance": []
  },
  "kernelspec": {
   "display_name": "Python 3",
   "language": "python",
   "name": "python3"
  },
  "language_info": {
   "codemirror_mode": {
    "name": "ipython",
    "version": 3
   },
   "file_extension": ".py",
   "mimetype": "text/x-python",
   "name": "python",
   "nbconvert_exporter": "python",
   "pygments_lexer": "ipython3",
   "version": "3.8.17"
  }
 },
 "nbformat": 4,
 "nbformat_minor": 1
}
