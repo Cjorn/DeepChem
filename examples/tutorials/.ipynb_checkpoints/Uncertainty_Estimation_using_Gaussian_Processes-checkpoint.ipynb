{
 "cells": [
  {
   "cell_type": "markdown",
   "metadata": {
    "id": "UPvC7G5kUJYG"
   },
   "source": [
    "#  Uncertainty Estimation using Gaussian Processes\n",
    "\n",
    "In the world of cheminformatics and machine learning, models are often trees (random forest, XGBoost, etc.) or artifical neural networks (deep neural networks, graph convolutional networks, etc.). However, there is another category known as Bayesian models. Today we will be experimenting with a Bayesian model implemented in scikit-learn known as gaussian processes (GP). For a deeper dive on GP, there is a great [tutorial paper](https://arxiv.org/pdf/2009.10862.pdf) on how GP works for regression. There is also an [academic paper](https://doi.org/10.1002/cmdc.200700041) that applies GP to a real world problem.\n",
    "\n",
    "As a short intro, GP allows us to build up our statistical model using an infinite number of Gaussian functions over our n-dimensional space, where n is the number of features. However, we pick these functions based on how well they fit the data we pass it. We end up with a statistical model built from an ensemble of Gaussian functions which can actually vary quite a bit. The result is that for points we have trained the model on, the variance in our ensemble should be very low. For points close to the training set points, the variance should be higher but still low as the ensemble was picked to predict well in its neighborhood. For points far from the training set points, however, we did not pick our ensemble of Gaussian functions to fit them so we'd expect the variance in our ensemble to be high. In this way, we end up with a statistical model that allows for a natural generation of uncertainty.\n",
    "\n",
    "## Colab\n",
    "\n",
    "This tutorial and the rest in the sequences are designed to be done in Google colab. If you'd like to open this notebook in colab, you can use the following link. \n",
    "\n",
    "[![Open In Colab](https://colab.research.google.com/assets/colab-badge.svg)](https://colab.research.google.com/github/deepchem/deepchem/blob/master/examples/tutorials/Uncertainty_Estimation_using_Gaussian_Processes.ipynb)\n",
    "\n",
    "## Setup\n",
    "\n",
    "The first step is to get DeepChem up and running. We recommend using Google Colab to work through this tutorial series. You'll need to run the following commands to get DeepChem installed on your colab notebook."
   ]
  },
  {
   "cell_type": "code",
   "execution_count": 1,
   "metadata": {
    "colab": {
     "base_uri": "https://localhost:8080/"
    },
    "id": "tJGVKFHnQieU",
    "outputId": "a8befbcf-fcb8-47ef-f9f3-89a9f1a274b0"
   },
   "outputs": [
    {
     "name": "stdout",
     "output_type": "stream",
     "text": [
      "Requirement already satisfied: deepchem in /home/ozone/miniconda3/envs/dcdev/lib/python3.7/site-packages (2.6.1.dev20220215215651)\n",
      "Requirement already satisfied: numpy>=1.21 in /home/ozone/miniconda3/envs/dcdev/lib/python3.7/site-packages (from deepchem) (1.21.5)\n",
      "Requirement already satisfied: rdkit-pypi in /home/ozone/miniconda3/envs/dcdev/lib/python3.7/site-packages (from deepchem) (2021.9.4)\n",
      "Requirement already satisfied: scipy in /home/ozone/miniconda3/envs/dcdev/lib/python3.7/site-packages (from deepchem) (1.7.3)\n",
      "Requirement already satisfied: scikit-learn in /home/ozone/miniconda3/envs/dcdev/lib/python3.7/site-packages (from deepchem) (1.0.2)\n",
      "Requirement already satisfied: joblib in /home/ozone/miniconda3/envs/dcdev/lib/python3.7/site-packages (from deepchem) (1.1.0)\n",
      "Requirement already satisfied: pandas in /home/ozone/miniconda3/envs/dcdev/lib/python3.7/site-packages (from deepchem) (1.3.5)\n",
      "Requirement already satisfied: pytz>=2017.3 in /home/ozone/miniconda3/envs/dcdev/lib/python3.7/site-packages (from pandas->deepchem) (2021.3)\n",
      "Requirement already satisfied: python-dateutil>=2.7.3 in /home/ozone/miniconda3/envs/dcdev/lib/python3.7/site-packages (from pandas->deepchem) (2.8.2)\n",
      "Requirement already satisfied: six>=1.5 in /home/ozone/miniconda3/envs/dcdev/lib/python3.7/site-packages (from python-dateutil>=2.7.3->pandas->deepchem) (1.16.0)\n",
      "Requirement already satisfied: Pillow in /home/ozone/miniconda3/envs/dcdev/lib/python3.7/site-packages (from rdkit-pypi->deepchem) (9.0.1)\n",
      "Requirement already satisfied: threadpoolctl>=2.0.0 in /home/ozone/miniconda3/envs/dcdev/lib/python3.7/site-packages (from scikit-learn->deepchem) (3.1.0)\n"
     ]
    }
   ],
   "source": [
    "!pip install --pre deepchem"
   ]
  },
  {
   "cell_type": "markdown",
   "metadata": {
    "id": "7VEHj_Y2WWyC"
   },
   "source": [
    "## Gaussian Processes\n",
    "\n",
    "As stated earlier, GP is already implemented in scikit-learn so we will be using DeepChem's scikit-learn wrapper. SklearnModel is a subclass of DeepChem's Model class. It acts as a wrapper around a sklearn.base.BaseEstimator.\n",
    "\n",
    "Here we import deepchem and the GP regressor model from sklearn."
   ]
  },
  {
   "cell_type": "code",
   "execution_count": 3,
   "metadata": {
    "id": "v-h1CDpoWWOE"
   },
   "outputs": [],
   "source": [
    "import deepchem as dc\n",
    "from sklearn.gaussian_process import GaussianProcessRegressor\n",
    "from sklearn.gaussian_process.kernels import RBF, WhiteKernel\n",
    "\n",
    "import numpy as np\n",
    "import matplotlib.pyplot as plt"
   ]
  },
  {
   "cell_type": "markdown",
   "metadata": {
    "id": "Nlu44FV8YFMM"
   },
   "source": [
    "## Loading data\n",
    "\n",
    "Next we need a dataset that presents a regression problem. For this tutorial we will be using the BACE dataset from MoleculeNet.\n",
    "\n"
   ]
  },
  {
   "cell_type": "code",
   "execution_count": 4,
   "metadata": {
    "id": "kbJ3UNt8YWk9"
   },
   "outputs": [],
   "source": [
    "tasks, datasets, transformers = dc.molnet.load_bace_regression(featurizer='ecfp', splitter='random')\n",
    "train_dataset, valid_dataset, test_dataset = datasets"
   ]
  },
  {
   "cell_type": "markdown",
   "metadata": {
    "id": "C5vePfTzYmHG"
   },
   "source": [
    "I always like to get a close look at what the objects in my code are storing. We see that tasks is a list of tasks that we are trying to predict. The transformer is a NormalizationTransformer that normalizes the outputs (y values) of the dataset."
   ]
  },
  {
   "cell_type": "code",
   "execution_count": 5,
   "metadata": {
    "colab": {
     "base_uri": "https://localhost:8080/"
    },
    "id": "feTbZu-tYpV-",
    "outputId": "59fa279b-e675-4d81-b4f3-4ee94cc10b42"
   },
   "outputs": [
    {
     "name": "stdout",
     "output_type": "stream",
     "text": [
      "The tasks are: ['pIC50']\n",
      "The transformers are: [<deepchem.trans.transformers.NormalizationTransformer object at 0x7f120a6e8cd0>]\n",
      "The transformer normalizes the outputs (y values): True\n"
     ]
    }
   ],
   "source": [
    "print(f'The tasks are: {tasks}')\n",
    "print(f'The transformers are: {transformers}')\n",
    "print(f'The transformer normalizes the outputs (y values): {transformers[0].transform_y}')"
   ]
  },
  {
   "cell_type": "markdown",
   "metadata": {
    "id": "vLMr7VmEZgRi"
   },
   "source": [
    "Here we see that the data has already been split into a training set, a validation set, and a test set. We will train the model on the training set and test the accuracy of the model on the test set. If we were to do any hyperparameter tuning, we would use the validation set. The split was ~80/10/10 train/valid/test."
   ]
  },
  {
   "cell_type": "code",
   "execution_count": 6,
   "metadata": {
    "colab": {
     "base_uri": "https://localhost:8080/"
    },
    "id": "L0r7mgS4ZhSd",
    "outputId": "41399618-4193-4b5a-cddb-821881352324"
   },
   "outputs": [
    {
     "name": "stdout",
     "output_type": "stream",
     "text": [
      "<DiskDataset X.shape: (1210, 1024), y.shape: (1210, 1), w.shape: (1210, 1), task_names: ['pIC50']>\n",
      "<DiskDataset X.shape: (151, 1024), y.shape: (151, 1), w.shape: (151, 1), ids: ['O1c2c(cc(cc2)-c2cncnc2)C2(N=C(N)N(C)C2=O)CC1(C)C'\n",
      " 's1cc(cc1)-c1cc(ccc1)C1([NH2+]CC(O)C(NC(=O)C)Cc2cc(F)cc(F)c2)CCCCC1'\n",
      " 'Clc1ccc(nc1)C(=O)Nc1cc(ccc1)[C@]1([NH+]=C(N)CN(C)C1=O)C' ...\n",
      " 'O1c2c(cc(N3CCCCC3)cc2)C2(N=C(N)N(C)C2=O)CC1(C)C'\n",
      " 'O=C1N(C)C(=NC1(C1CCCCC1)c1cc(NC(=O)CCOC)ccc1)N'\n",
      " 'Fc1cc(cc(F)c1)CC(NC(=O)C)C(O)C[NH2+]C1(CC1)c1cc(N2C3CC(CC3)C2)ccc1'], task_names: ['pIC50']>\n",
      "<DiskDataset X.shape: (152, 1024), y.shape: (152, 1), w.shape: (152, 1), ids: ['Clc1cc(ccc1O)C[NH+]1CCC2(N(S(=O)(=O)N(C2)C)c2cc(F)ccc2)CC1C'\n",
      " 'S1(=O)(=O)NCC2(N1c1cc(F)ccc1)CC([NH+](CC2)Cc1cc(OC)ccc1)C'\n",
      " 'FC(F)Oc1ccc(cc1)[C@@]1(N=C(N)N(C)C1=O)c1cc(ccc1)C#C[C@H](O)C' ...\n",
      " 'Fc1cc(cc(F)c1)C[C@H](NC(=O)c1cc(cc(c1)C)C(=O)N(CCC)CCC)[C@H](O)[C@@H]1[NH2+]CN(Cc2ccccc2)C1=O'\n",
      " 'Fc1ncccc1-c1cc2c(CC(CC23N=C(N)N(C)C3=O)(C)C)cc1'\n",
      " 'O=C(N(C)C1CCCCC1)CCc1cc2c(nc1N)cccc2'], task_names: ['pIC50']>\n"
     ]
    }
   ],
   "source": [
    "print(train_dataset)\n",
    "print(valid_dataset)\n",
    "print(test_dataset)"
   ]
  },
  {
   "cell_type": "markdown",
   "metadata": {
    "id": "Jdh7Hej8aUMQ"
   },
   "source": [
    "## Using the SklearnModel\n",
    "\n",
    "Here we first create the model using the GaussianProcessRegressor we imported from sklearn. Then we wrap it in DeepChem's SklearnModel. To learn more about the model, you can either read the sklearn API or run help(GaussianProcessRegressor) in a code block.\n",
    "\n",
    "As you see, the values I picked for the parameters seem awfully specific. This is because I needed to do some hyperparameter tuning beforehand to get model that wasn't wildly overfitting the training set. You can learn more about how I tuned the model in the Appendix at the end of this tutorial."
   ]
  },
  {
   "cell_type": "code",
   "execution_count": 7,
   "metadata": {
    "id": "f3U2Y0Q-aUqi"
   },
   "outputs": [],
   "source": [
    "output_variance = 7.908735015054668\n",
    "length_scale = 6.452349252677817\n",
    "noise_level = 0.10475507755839343\n",
    "kernel = output_variance**2 * RBF(length_scale=length_scale, length_scale_bounds='fixed') + WhiteKernel(noise_level=noise_level, noise_level_bounds='fixed')\n",
    "alpha = 4.989499481123432e-09\n",
    "\n",
    "sklearn_gpr = GaussianProcessRegressor(kernel=kernel, alpha=alpha)\n",
    "model = dc.models.SklearnModel(sklearn_gpr)"
   ]
  },
  {
   "cell_type": "markdown",
   "metadata": {
    "id": "h7UCSgZ7bsOe"
   },
   "source": [
    "Then we fit our model to the data and see how it performs both on the training set and on the test set. "
   ]
  },
  {
   "cell_type": "code",
   "execution_count": 8,
   "metadata": {
    "colab": {
     "base_uri": "https://localhost:8080/"
    },
    "id": "8rgzad5ObsTb",
    "outputId": "70a7001f-a6f3-4749-d647-3c5554d7c555"
   },
   "outputs": [
    {
     "name": "stdout",
     "output_type": "stream",
     "text": [
      "Training set score: {'mean_squared_error': 0.04695833062546322, 'r2_score': 0.9530416693745367}\n",
      "Test set score: {'mean_squared_error': 0.22969967438343433, 'r2_score': 0.7780334248654134}\n"
     ]
    }
   ],
   "source": [
    "model.fit(train_dataset)\n",
    "metric1 = dc.metrics.Metric(dc.metrics.mean_squared_error)\n",
    "metric2 = dc.metrics.Metric(dc.metrics.r2_score)\n",
    "print(f'Training set score: {model.evaluate(train_dataset, [metric1, metric2])}')\n",
    "print(f'Test set score: {model.evaluate(test_dataset, [metric1, metric2])}')"
   ]
  },
  {
   "cell_type": "markdown",
   "metadata": {
    "id": "b_XkYqGLcdDT"
   },
   "source": [
    "## Analyzing the Results\n",
    "\n",
    "We can also visualize how well the predicted values match up to the measured values. On the training set we can see a rather nice scatter plot where the predicted and measured values line up nicely.\n",
    "\n",
    "Note that we use the NormalizationTransformer from earlier and use it to \"untransform\" our data. "
   ]
  },
  {
   "cell_type": "code",
   "execution_count": 9,
   "metadata": {
    "colab": {
     "base_uri": "https://localhost:8080/",
     "height": 283
    },
    "id": "atm3snwocamM",
    "outputId": "20f4c329-78fb-4384-dfe6-4b27d95c1d77"
   },
   "outputs": [
    {
     "data": {
      "text/plain": [
       "<matplotlib.collections.PathCollection at 0x7f120a294cd0>"
      ]
     },
     "execution_count": 9,
     "metadata": {},
     "output_type": "execute_result"
    },
    {
     "data": {
      "image/png": "[encoded data removed]",
      "text/plain": [
       "<Figure size 432x288 with 1 Axes>"
      ]
     },
     "metadata": {
      "needs_background": "light"
     },
     "output_type": "display_data"
    }
   ],
   "source": [
    "y_meas_train = transformers[0].untransform(train_dataset.y)\n",
    "y_pred_train = transformers[0].untransform(model.predict(train_dataset))\n",
    "\n",
    "plt.scatter(y_meas_train, y_pred_train)"
   ]
  },
  {
   "cell_type": "markdown",
   "metadata": {
    "id": "EOtLvq02A2bb"
   },
   "source": [
    "For the test set, we want to be able to compute uncertainties as well so we will be writing a custom function to obtain both the mean predicted value and the standard deviation of the value. This is done by sampling 100 predictions from each set of inputs X and calculating the mean and standard deviation."
   ]
  },
  {
   "cell_type": "code",
   "execution_count": 10,
   "metadata": {
    "id": "lnH5zcI9TF_y"
   },
   "outputs": [],
   "source": [
    "def predict_with_error(dc_model, X, y_transformer):\n",
    "    samples = model.model.sample_y(X, 100)\n",
    "    means = y_transformer.untransform(np.mean(samples, axis=1))\n",
    "    stds = y_transformer.y_stds[0] * np.std(samples, axis=1)\n",
    "\n",
    "    return means, stds"
   ]
  },
  {
   "cell_type": "code",
   "execution_count": 11,
   "metadata": {
    "id": "uswXIr2vqq-W"
   },
   "outputs": [],
   "source": [
    "y_pred_test, y_pred_test_stds = predict_with_error(model, test_dataset.X, transformers[0])"
   ]
  },
  {
   "cell_type": "markdown",
   "metadata": {
    "id": "2nuqGFFpc1oC"
   },
   "source": [
    "On the test set, we still see a decent correlation but it is not as tight as the training set predictions. This is reflected in the difference between the R2 scores."
   ]
  },
  {
   "cell_type": "code",
   "execution_count": 12,
   "metadata": {
    "colab": {
     "base_uri": "https://localhost:8080/",
     "height": 283
    },
    "id": "H6v_KcU_c1sw",
    "outputId": "ab6cc611-1307-41c8-a3a8-e81096debe14"
   },
   "outputs": [
    {
     "data": {
      "text/plain": [
       "<matplotlib.collections.PathCollection at 0x7f120923c490>"
      ]
     },
     "execution_count": 12,
     "metadata": {},
     "output_type": "execute_result"
    },
    {
     "data": {
      "image/png": "[encoded data removed]",
      "text/plain": [
       "<Figure size 432x288 with 1 Axes>"
      ]
     },
     "metadata": {
      "needs_background": "light"
     },
     "output_type": "display_data"
    }
   ],
   "source": [
    "y_meas_test = transformers[0].untransform(test_dataset.y)\n",
    "\n",
    "plt.scatter(y_meas_test, y_pred_test)"
   ]
  },
  {
   "cell_type": "markdown",
   "metadata": {
    "id": "jNogRsV4p5Xa"
   },
   "source": [
    "We can also write a function to calculate how many of the predicted values fall within the predicted error range. This is done by counting up how many samples have a true error smaller than its standard deviation calculated earlier. One standard deviation is a 68% confidence interval."
   ]
  },
  {
   "cell_type": "code",
   "execution_count": 13,
   "metadata": {
    "id": "Xihho3Ndp5gL"
   },
   "outputs": [],
   "source": [
    "def percent_within_std(y_meas, y_pred, y_std):\n",
    "    assert len(y_meas) == len(y_pred) and len(y_meas) == len(y_std), 'length of y_meas and y_pred must be the same'\n",
    "\n",
    "    count_within_error = 0\n",
    "    for i in range(len(y_meas)):\n",
    "        if abs(y_meas[i][0]-y_pred[i]) < y_std[i]:\n",
    "            count_within_error += 1\n",
    "\n",
    "    return count_within_error/len(y_meas)"
   ]
  },
  {
   "cell_type": "code",
   "execution_count": 14,
   "metadata": {
    "colab": {
     "base_uri": "https://localhost:8080/"
    },
    "id": "YpgKQswIRjvN",
    "outputId": "af83cdfd-7f1a-45ab-a244-c26a2b40c4a0"
   },
   "outputs": [
    {
     "data": {
      "text/plain": [
       "0.7697368421052632"
      ]
     },
     "execution_count": 14,
     "metadata": {},
     "output_type": "execute_result"
    }
   ],
   "source": [
    "percent_within_std(y_meas_test, y_pred_test, y_pred_test_stds)"
   ]
  },
  {
   "cell_type": "markdown",
   "metadata": {
    "id": "Xsa03OFu8taf"
   },
   "source": [
    "We can take a look at the distributions of the standard deviations. We see a very roughly Gaussian distribution in the predicted errors."
   ]
  },
  {
   "cell_type": "code",
   "execution_count": 15,
   "metadata": {
    "colab": {
     "base_uri": "https://localhost:8080/",
     "height": 265
    },
    "id": "na23a9AU8s8d",
    "outputId": "6d5ccd5a-74ee-4c6e-fc4c-02ac6a1c356e"
   },
   "outputs": [
    {
     "data": {
      "image/png": "[encoded data removed]",
      "text/plain": [
       "<Figure size 432x288 with 1 Axes>"
      ]
     },
     "metadata": {
      "needs_background": "light"
     },
     "output_type": "display_data"
    }
   ],
   "source": [
    "plt.hist(y_pred_test_stds)\n",
    "plt.show()"
   ]
  },
  {
   "cell_type": "markdown",
   "metadata": {
    "id": "0ZTEpuj0CBe1"
   },
   "source": [
    "We can also create a scatter-plot to compare true errors to predicted errors. Unfortunately we find that there turns out to be no correlation between the observed error and the predicted standard deviation. In fact, this model seems to only capture aleatoric uncertainty (uncertainty in the measurement) and no epistemic uncertainty (uncertainty in the model's prediction). \n",
    "\n",
    "This is a rather complicated topic and I can only offer my hypothesis. We know of instances where people are able to use GP to predict total uncertainty (https://arxiv.org/abs/2005.10036), specifically using a combination of MPNN and GP together. In this combination, a trained MPNN is used to create the feature vector. However, instead of using a neural network to make a prediction on this feature vector, as would be normal in an MPNN, they train a GP to make predictions on this feature vector. \n",
    "\n",
    "The reason why MPNN-GP works well to predict total uncertainty but ECFP-GP does not may lie in the way GP depends on distances between feature vectors. ECFP, and other fingerprints, are one-hot encoded (consist of 0s and 1s) and so we may consider that the \"distances\" between two feature vectors may not be well correlated with how chemical different they actually are. However, the feature vector generated by a trained MPNN is much more information rich and the \"distances\" between two feature vectors may better reflect actual distances in chemical space, at least as how the MPNN perceives chemical space.\n",
    "\n",
    "The takeaway is there is more to do! More to experiment with! From here, it could be good to try other featurizers (ie. Mol2Vec) or try to replicate the work using MPNN-GP. Happy experimenting!"
   ]
  },
  {
   "cell_type": "code",
   "execution_count": 16,
   "metadata": {
    "colab": {
     "base_uri": "https://localhost:8080/",
     "height": 269
    },
    "id": "43XXMrO29BOZ",
    "outputId": "0b937a6c-d587-47d4-8997-274e4a5d3801"
   },
   "outputs": [
    {
     "data": {
      "image/png": "[encoded data removed]",
      "text/plain": [
       "<Figure size 432x288 with 1 Axes>"
      ]
     },
     "metadata": {
      "needs_background": "light"
     },
     "output_type": "display_data"
    }
   ],
   "source": [
    "true_error = np.abs(np.hstack(y_meas_test) - y_pred_test)\n",
    "plt.scatter(true_error, y_pred_test_stds)\n",
    "plt.xlim(0, 2)\n",
    "plt.ylim(0, 2)\n",
    "plt.show()"
   ]
  },
  {
   "cell_type": "markdown",
   "metadata": {
    "id": "_JEhXwfSUMYD"
   },
   "source": [
    "## Appendix: Hyperparameter Optimization\n",
    "\n",
    "As hyperparameter optimization is outside the scope of this tutorial, I will not explain how to use Optuna to tune hyperparameters. But the code is still included for the sake of completeness. "
   ]
  },
  {
   "cell_type": "code",
   "execution_count": null,
   "metadata": {
    "id": "ItUhfWMBAYMF"
   },
   "outputs": [],
   "source": [
    "!pip install optuna\n",
    "import optuna"
   ]
  },
  {
   "cell_type": "code",
   "execution_count": null,
   "metadata": {
    "id": "9OWKLnv4iGWp"
   },
   "outputs": [],
   "source": [
    "def get_model(trial):\n",
    "    output_variance = trial.suggest_float('output_variance', 0.1, 10, log=True)\n",
    "    length_scale = trial.suggest_float('length_scale', 1e-5, 1e5, log=True)\n",
    "    noise_level = trial.suggest_float('noise_level', 1e-5, 1e5, log=True)\n",
    "\n",
    "    params = {\n",
    "        'kernel': output_variance**2 * RBF(length_scale=length_scale, length_scale_bounds='fixed') + WhiteKernel(noise_level=noise_level, noise_level_bounds='fixed'),\n",
    "        'alpha': trial.suggest_float('alpha', 1e-12, 1e-5, log=True),\n",
    "    }\n",
    "\n",
    "    sklearn_gpr = GaussianProcessRegressor(**params)\n",
    "    return dc.models.SklearnModel(sklearn_gpr)\n",
    "\n",
    "def objective(trial):\n",
    "    model = get_model(trial)\n",
    "    model.fit(train_dataset)\n",
    "    \n",
    "    metric = dc.metrics.Metric(dc.metrics.mean_squared_error)\n",
    "    return model.evaluate(valid_dataset, [metric])['mean_squared_error']"
   ]
  },
  {
   "cell_type": "code",
   "execution_count": null,
   "metadata": {
    "id": "jA74yOKWexnW"
   },
   "outputs": [],
   "source": [
    "study = optuna.create_study(direction='minimize')\n",
    "study.optimize(objective, n_trials=100)"
   ]
  },
  {
   "cell_type": "code",
   "execution_count": null,
   "metadata": {
    "colab": {
     "base_uri": "https://localhost:8080/"
    },
    "id": "BABAYa2NpuiN",
    "outputId": "79c9e271-4524-461a-fbc1-ef9ce92260e4"
   },
   "outputs": [
    {
     "name": "stdout",
     "output_type": "stream",
     "text": [
      "{'output_variance': 0.38974570882583015, 'length_scale': 5.375387643239208, 'noise_level': 0.0016265333497286342, 'alpha': 1.1273318360324618e-11}\n"
     ]
    }
   ],
   "source": [
    "print(study.best_params)"
   ]
  }
 ],
 "metadata": {
  "colab": {
   "collapsed_sections": [],
   "name": "Uncertainty_Estimation_using_Gaussian_Processes.ipynb",
   "provenance": []
  },
  "kernelspec": {
   "display_name": "Python 3",
   "language": "python",
   "name": "python3"
  },
  "language_info": {
   "codemirror_mode": {
    "name": "ipython",
    "version": 3
   },
   "file_extension": ".py",
   "mimetype": "text/x-python",
   "name": "python",
   "nbconvert_exporter": "python",
   "pygments_lexer": "ipython3",
   "version": "3.7.11"
  }
 },
 "nbformat": 4,
 "nbformat_minor": 4
}
