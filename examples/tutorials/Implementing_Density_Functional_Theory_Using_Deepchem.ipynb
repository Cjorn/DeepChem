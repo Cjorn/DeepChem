{
 "cells": [
  {
   "cell_type": "markdown",
   "metadata": {},
   "source": [
    "# Implementing Density Functional Theory using Deepchem\n",
    "\n",
    "Author: Rakshit Kumar Singh : [LinkedIn](https://www.linkedin.com/in/rakshit-singh-ai/) : [Blog](blog.greatrsingh.in)"
   ]
  },
  {
   "cell_type": "markdown",
   "metadata": {},
   "source": [
    "## Introduction\n",
    "\n",
    "Density Functional Theory (DFT) has emerged as a cornerstone of computational quantum mechanics, offering a powerful framework for understanding and predicting the electronic structure of materials. Its ability to provide accurate insights into molecular interactions, material properties, and electronic behaviors has made it indispensable in physics, chemistry, and materials science. In this tutorial, we focus on the practical implementation of DeepChem DFT tooling, an innovative integration that combines the flexibility of the DeepChem library with the rigor of DFT calculations.\n",
    "\n",
    "DeepChem, an open-source Python library designed for machine learning applications in computational chemistry, drug discovery, and materials science, offers robust tools for molecular featurization, pre-trained models, and quantum chemistry workflows. This integration enables users to efficiently perform DFT-based calculations, predict DFT-derived properties, and explore material characteristics at the atomic and molecular levels. By leveraging DeepChem’s machine learning capabilities, the tool enhances traditional DFT workflows, providing faster predictions and enabling seamless customization. Whether you're an expert in computational science or new to the field, this tutorial will guide you in using DeepChem's DFT features to streamline your research and unlock the potential of quantum mechanics and machine learning in materials modeling.\n",
    "\n",
    "It is suggested to go through the earlier tutorial `Training an Exchange Correlation Functional using Deepchem` by Advika Vidhyadhiraja which helps us understand how Exchange Correlation Functionals works and how it can be easily implemented using Deepchem. This tutorial is a build up on the fundamentals established by the earlier tutorial."
   ]
  },
  {
   "cell_type": "markdown",
   "metadata": {},
   "source": [
    "## Understanding Density Functional Theory (DFT)\n",
    "\n",
    "Density Functional Theory (DFT) is a quantum mechanical framework that simplifies the many-body problem of electrons in a system by expressing the total energy as a functional of the electron density, $\\rho(r)$. Unlike wavefunction-based approaches that depend on $3N$ spatial coordinates for $N$ electrons, DFT reduces the complexity to a three-dimensional function, $\\rho(r)$, representing the probability density of electrons at position $r$. The foundational theorem, established by Hohenberg and Kohn, proves that the ground-state properties of a many-electron system are uniquely determined by $\\rho(r)$.\n",
    "\n",
    "The total energy $E[\\rho]$ is expressed as a sum of functionals:\n",
    "\n",
    "$E[\\rho]$ = $T[\\rho]$ + $V_{ext}[\\rho]$ + $V_H[\\rho]$ + $E_{XC}[ρ]$,\n",
    "\n",
    "where $T[\\rho]$ is the kinetic energy, $V_{ext}[\\rho]$ is the external potential energy, $V_H​[\\rho]$ is the Hartree energy accounting for electron-electron Coulomb repulsion, and $E_{XC}​[\\rho]$ is the exchange-correlation energy functional.\n",
    "\n",
    "The exact form of $E_{XC}​[ρ]$ remains unknown and is approximated using methods like the Local Density Approximation (LDA) or Generalized Gradient Approximation (GGA). In Deepchem we have `HybridXC` class which acts as a frontent api for performing XC approximations, it combines the tradition LDA approximation with a neural network based LDA.\n"
   ]
  },
  {
   "cell_type": "markdown",
   "metadata": {},
   "source": [
    "## The Schrodinger Equation\n",
    "\n",
    "The Schrodinger Equation offers us a mathematical framework to describe and model the behaviour of quantum systems. The equation captures the dynamics of the quantum system by "
   ]
  },
  {
   "cell_type": "code",
   "execution_count": null,
   "metadata": {},
   "outputs": [],
   "source": []
  },
  {
   "cell_type": "markdown",
   "metadata": {},
   "source": [
    "## Installing required libraries"
   ]
  },
  {
   "cell_type": "code",
   "execution_count": null,
   "metadata": {},
   "outputs": [
    {
     "name": "stdout",
     "output_type": "stream",
     "text": [
      "Collecting git+https://github.com/diffqc/dqclibs.git\n",
      "  Cloning https://github.com/diffqc/dqclibs.git to /tmp/pip-req-build-9b8dw_7p\n",
      "  Running command git clone --filter=blob:none --quiet https://github.com/diffqc/dqclibs.git /tmp/pip-req-build-9b8dw_7p\n",
      "  Resolved https://github.com/diffqc/dqclibs.git to commit 6b0b2311217129f7d65190cab74557d01f974560\n",
      "  Preparing metadata (setup.py) ... \u001b[?25ldone\n",
      "\u001b[?25hRequirement already satisfied: tqdm in /home/rakshit/anaconda3/envs/deepchem-cpu/lib/python3.11/site-packages (4.67.1)\n",
      "Requirement already satisfied: pyyaml in /home/rakshit/anaconda3/envs/deepchem-cpu/lib/python3.11/site-packages (6.0.2)\n",
      "Requirement already satisfied: basis_set_exchange in /home/rakshit/anaconda3/envs/deepchem-cpu/lib/python3.11/site-packages (0.10)\n",
      "Requirement already satisfied: h5py in /home/rakshit/anaconda3/envs/deepchem-cpu/lib/python3.11/site-packages (3.12.1)\n",
      "Requirement already satisfied: matplotlib in /home/rakshit/anaconda3/envs/deepchem-cpu/lib/python3.11/site-packages (3.9.3)\n",
      "Requirement already satisfied: jsonschema in /home/rakshit/anaconda3/envs/deepchem-cpu/lib/python3.11/site-packages (from basis_set_exchange) (4.23.0)\n",
      "Requirement already satisfied: argcomplete in /home/rakshit/anaconda3/envs/deepchem-cpu/lib/python3.11/site-packages (from basis_set_exchange) (3.5.1)\n",
      "Requirement already satisfied: regex in /home/rakshit/anaconda3/envs/deepchem-cpu/lib/python3.11/site-packages (from basis_set_exchange) (2024.11.6)\n",
      "Requirement already satisfied: unidecode in /home/rakshit/anaconda3/envs/deepchem-cpu/lib/python3.11/site-packages (from basis_set_exchange) (1.3.8)\n",
      "Requirement already satisfied: numpy>=1.19.3 in /home/rakshit/anaconda3/envs/deepchem-cpu/lib/python3.11/site-packages (from h5py) (2.0.1)\n",
      "Requirement already satisfied: contourpy>=1.0.1 in /home/rakshit/anaconda3/envs/deepchem-cpu/lib/python3.11/site-packages (from matplotlib) (1.3.1)\n",
      "Requirement already satisfied: cycler>=0.10 in /home/rakshit/anaconda3/envs/deepchem-cpu/lib/python3.11/site-packages (from matplotlib) (0.12.1)\n",
      "Requirement already satisfied: fonttools>=4.22.0 in /home/rakshit/anaconda3/envs/deepchem-cpu/lib/python3.11/site-packages (from matplotlib) (4.55.1)\n",
      "Requirement already satisfied: kiwisolver>=1.3.1 in /home/rakshit/anaconda3/envs/deepchem-cpu/lib/python3.11/site-packages (from matplotlib) (1.4.7)\n",
      "Requirement already satisfied: packaging>=20.0 in /home/rakshit/anaconda3/envs/deepchem-cpu/lib/python3.11/site-packages (from matplotlib) (24.2)\n",
      "Requirement already satisfied: pillow>=8 in /home/rakshit/anaconda3/envs/deepchem-cpu/lib/python3.11/site-packages (from matplotlib) (10.2.0)\n",
      "Requirement already satisfied: pyparsing>=2.3.1 in /home/rakshit/anaconda3/envs/deepchem-cpu/lib/python3.11/site-packages (from matplotlib) (3.2.0)\n",
      "Requirement already satisfied: python-dateutil>=2.7 in /home/rakshit/anaconda3/envs/deepchem-cpu/lib/python3.11/site-packages (from matplotlib) (2.9.0.post0)\n",
      "Requirement already satisfied: six>=1.5 in /home/rakshit/anaconda3/envs/deepchem-cpu/lib/python3.11/site-packages (from python-dateutil>=2.7->matplotlib) (1.16.0)\n",
      "Requirement already satisfied: attrs>=22.2.0 in /home/rakshit/anaconda3/envs/deepchem-cpu/lib/python3.11/site-packages (from jsonschema->basis_set_exchange) (24.2.0)\n",
      "Requirement already satisfied: jsonschema-specifications>=2023.03.6 in /home/rakshit/anaconda3/envs/deepchem-cpu/lib/python3.11/site-packages (from jsonschema->basis_set_exchange) (2024.10.1)\n",
      "Requirement already satisfied: referencing>=0.28.4 in /home/rakshit/anaconda3/envs/deepchem-cpu/lib/python3.11/site-packages (from jsonschema->basis_set_exchange) (0.35.1)\n",
      "Requirement already satisfied: rpds-py>=0.7.1 in /home/rakshit/anaconda3/envs/deepchem-cpu/lib/python3.11/site-packages (from jsonschema->basis_set_exchange) (0.22.1)\n",
      "Note: you may need to restart the kernel to use updated packages.\n",
      "Channels:\n",
      " - defaults\n",
      " - conda-forge\n",
      "Platform: linux-64\n",
      "Collecting package metadata (repodata.json): done\n",
      "Solving environment: done\n",
      "\n",
      "# All requested packages already installed.\n",
      "\n",
      "\n",
      "Note: you may need to restart the kernel to use updated packages.\n"
     ]
    }
   ],
   "source": [
    "#%pip install tqdm pyyaml basis_set_exchange git+https://github.com/diffqc/dqclibs.git h5py matplotlib\n",
    "#%conda install conda-forge::pylibxc"
   ]
  },
  {
   "cell_type": "code",
   "execution_count": null,
   "metadata": {},
   "outputs": [],
   "source": [
    "from deepchem.data.data_loader import DFTYamlLoader\n",
    "inputs = 'assets/dft_tutorial.yaml'\n",
    "data = DFTYamlLoader()\n",
    "dataset = data.create_dataset(inputs)"
   ]
  },
  {
   "cell_type": "code",
   "execution_count": 7,
   "metadata": {},
   "outputs": [
    {
     "name": "stderr",
     "output_type": "stream",
     "text": [
      "/home/rakshit/deepchem-1/deepchem/utils/differentiation_utils/optimize/rootsolver.py:178: ConvergenceWarning: The rootfinder does not converge after 50 iterations. Best |dx|=5.321e-03, |f|=3.028e-06 at iter 16\n",
      "  warnings.warn(ConvergenceWarning(msg))\n"
     ]
    }
   ],
   "source": [
    "# Example: training a function using XCModel\n",
    "from deepchem.models.dft.dftxc import XCModel\n",
    "import deepchem as dc\n",
    "import tempfile\n",
    "\n",
    "# create a file to save the model\n",
    "model_dir = tempfile.mkdtemp()\n",
    "\n",
    "# initialise the model\n",
    "model = XCModel(\"lda_x\",\n",
    "                batch_size=1,\n",
    "                log_frequency=1,\n",
    "                mode=\"classification\",\n",
    "                n_tasks=2,\n",
    "                model_dir=model_dir)\n",
    "\n",
    "# Calculate the loss on fitting the model\n",
    "loss = model.fit(dataset, nb_epoch=100, checkpoint_interval=1)"
   ]
  },
  {
   "cell_type": "code",
   "execution_count": 8,
   "metadata": {},
   "outputs": [],
   "source": [
    "# load the datasets\n",
    "import numpy as np\n",
    "inputs = 'assets/h2.yaml'\n",
    "data = DFTYamlLoader()\n",
    "h2_dataset = data.create_dataset(inputs)\n",
    "predict = model.predict(h2_dataset)"
   ]
  },
  {
   "cell_type": "code",
   "execution_count": 9,
   "metadata": {},
   "outputs": [
    {
     "data": {
      "image/png": "[encoded data removed]",
      "text/plain": [
       "<Figure size 640x480 with 1 Axes>"
      ]
     },
     "metadata": {},
     "output_type": "display_data"
    }
   ],
   "source": [
    "import matplotlib.pyplot as plt \n",
    "#plot\n",
    "true_val = (h2_dataset.y) \n",
    "predict_val = (predict)*(-1)\n",
    "pos = np.array([0.5000, 0.6842, 0.8684, 1.0526, 1.2368,\n",
    "                1.4211, 1.6053, 1.7895, 1.9737, 2.1579,\n",
    "                2.3421, 2.5263, 2.7105, 2.8974, 3.0789,\n",
    "                3.2632, 3.4474, 3.6316, 3.8158, 4.000]) \n",
    "plt.plot(pos, true_val )\n",
    "plt.plot(pos, predict_val, color = 'orange')\n",
    "y = pos * 0\n",
    "plt.xlabel(\"H-H distance in Angstrom\") \n",
    "plt.ylabel(\"Energy in Hartree\")\n",
    "plt.xlim([0.0, 4.5])\n",
    "plt.ylim([-0.2, 0.55])\n",
    "plt.grid()\n",
    "plt.show()"
   ]
  },
  {
   "cell_type": "markdown",
   "metadata": {},
   "source": [
    "## References\n",
    "\n",
    "[1].. Ramsundar, B., Eastman, P., Walters, P., Pande, V., Leswing, K., Wu, Z. (2019). Deep Learning for the Life Sciences: Applying Deep Learning to Genomics, Microscopy, Drug Discovery, and More. O'Reilly Media.\n",
    "\n",
    "[2].. Sholl, D. S., & Steckel, J. A. (2009). Density functional theory: A practical introduction. Hoboken, NJ: John Wiley & Sons."
   ]
  },
  {
   "cell_type": "markdown",
   "metadata": {},
   "source": [
    "## Citing This Tutorial\n",
    "\n",
    "If you found this tutorial useful please consider citing it using the provided BibTeX.\n",
    "\n",
    "```bibtex\n",
    "@manual{Quantum Chemistry, \n",
    " title={Implementing Density Functional Theory using Deepchem}, \n",
    " organization={DeepChem},\n",
    " author={Singh, Rakshit kr.},\n",
    " howpublished = {\\url{https://github.com/deepchem/deepchem/blob/master/examples/tutorials/ODE_Solving.ipynb}}, \n",
    " year={2024}, \n",
    "} \n",
    "```"
   ]
  },
  {
   "cell_type": "markdown",
   "metadata": {},
   "source": [
    "# Congratulations! Time to join the Community!\n",
    "\n",
    "Congratulations on completing this tutorial notebook! If you enjoyed working through the tutorial, and want to continue working with DeepChem, we encourage you to finish the rest of the tutorials in this series. You can also help the DeepChem community in the following ways:\n",
    "\n",
    "\n",
    "## Star DeepChem on [GitHub](https://github.com/deepchem/deepchem)\n",
    "This helps build awareness of the DeepChem project and the tools for open source drug discovery that we're trying to build.\n",
    "\n",
    "\n",
    "## Join the DeepChem Discord\n",
    "The DeepChem [Discord](https://discord.gg/SxSzjRRDMA) hosts a number of scientists, developers, and enthusiasts interested in deep learning for the life sciences. Join the conversation!"
   ]
  }
 ],
 "metadata": {
  "kernelspec": {
   "display_name": "deepchem-cpu",
   "language": "python",
   "name": "python3"
  },
  "language_info": {
   "codemirror_mode": {
    "name": "ipython",
    "version": 3
   },
   "file_extension": ".py",
   "mimetype": "text/x-python",
   "name": "python",
   "nbconvert_exporter": "python",
   "pygments_lexer": "ipython3",
   "version": "3.11.10"
  }
 },
 "nbformat": 4,
 "nbformat_minor": 2
}
