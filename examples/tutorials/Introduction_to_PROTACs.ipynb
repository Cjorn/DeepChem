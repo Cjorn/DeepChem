{
  "cells": [
    {
      "cell_type": "markdown",
      "metadata": {
        "id": "GfiwWBvZMOB3"
      },
      "source": [
        "# **An Introduction to PROTACs**\n",
        "\n",
        "\n",
        "### David Zhang and David Figueroa"
      ]
    },
    {
      "cell_type": "markdown",
      "metadata": {
        "id": "Db4WBmdAt0oL"
      },
      "source": [
        "PROTACs represent an emerging wave of new therapeutics capable of modulating proteins once thought nearly impossible to target. By eliminating rather than merely inhibiting disease-causing proteins, PROTACs address the limitations of existing drug modalities. As PROTACs progress through clinical trials with promising results, there is growing anticipation surrounding their therapeutic potential.\n",
        "\n",
        "This DeepChem tutorial serves as a starting point for exploring the world of PROTACs and the exciting field of targeted protein degradation. The tutorial is divided into five partitions:\n",
        "1. Background literature\n",
        "2. Data extraction\n",
        "3. Featurization\n",
        "4. Model deployment\n",
        "5. References\n",
        "\n",
        "With that in mind, let's jump into how we can predict efficacy of PROTAC degraders!\n"
      ]
    },
    {
      "cell_type": "markdown",
      "metadata": {
        "id": "yRty23V43quR"
      },
      "source": [
        "## 1. Background literature\n",
        "\n",
        "Traditional drug modalities, such as small-molecule drugs or monoclonal antibodies, are limited to certain modes of action, like targeting specific receptors or blocking particular pathways. Targeted protein degradation (TPD) represents a promising new approach to modulate proteins that have been traditionally difficult to target. TPD has given rise to major classes of molecules that have emerged as promising therapeutic approaches against various disease contexts.\n",
        "\n"
      ]
    },
    {
      "cell_type": "markdown",
      "metadata": {
        "id": "vcSMEouMPhwe"
      },
      "source": [
        "### 1.1 Targeted protein degradation\n",
        "\n",
        "Targeted protein degradation represents a way of leveraging the cell's natural degradation mechanisms to target disease causing proteins. Typically, the cell maintains protein homeostasis through clearance by proteasomes or lysosomes. By leveraging these intrinsic cellular mechanisms, TPD methods can target a variety of proteins throughout the cell. This has given rise to a collection of TPD methods aimed at degrading proteins that may play roles across many disease states. One of these major class of molecules is proteolysis-targeting chimera (PROTACs).\n"
      ]
    },
    {
      "cell_type": "markdown",
      "metadata": {
        "id": "IlR0JZyU4PVe"
      },
      "source": [
        "### 1.2 How do PROTACs work?\n",
        "\n",
        "PROTAC molecules are ternary structures consisting of a linker, a ligand to recruit and bind to the target protein, and a ligand to recruit the E3 ubiquitin ligase. Before we dive into how PROTACs mediate this degradation mechanism, it is crucial to understand the underlying biological pathway that makes this all possible.\n",
        "\n",
        "<img src=\"https://media.springernature.com/full/springer-static/image/art%3A10.1186%2Fs12943-022-01707-5/MediaObjects/12943_2022_1707_Fig14_HTML.png?as=webp\" alt=\"protac_structures.png\" width=\"700\" height=\"550\">\n",
        "\n",
        "**Figure 1:** Molecular structure of PROTACs molecules designed to inhibit epidermal growth factor receptor (EGFR). The PROTAC linker connects the EGFR ligand and E3 ligase which are highlighted in yellow and gray, respectively [[1]](#1).\n"
      ]
    },
    {
      "cell_type": "markdown",
      "metadata": {
        "id": "viX1_tTbPupD"
      },
      "source": [
        "#### 1.1.1 Ubiquitin Proteasome System\n",
        "\n",
        "The ubiquitin proteasome system, or UPS for short, is a crucial cellular maintenance mechanism. Ubiquitin-dependent proteolysis is a three-step process which involves ubiquitin-activating enzymes (E1), ubiquitin-conjugate enzymes (E2), and ubiquitin-protein ligases (E3). In general, E1 activates ubiquitin, priming it for transfer to E2 which interacts with E3 at which point E3 ligases are responsible for binding of the target protein substrate for subsequent ubiquitination by E2. Once the protein is tagged with a polyubiquitin chain, it is recognized by the proteasome, a large protease complex that degrades that protein into peptides.  \n",
        "\n",
        "![ups.png](https://www.ncbi.nlm.nih.gov/pmc/articles/PMC3466981/bin/ijcep0005-0726-f1.jpg)\n",
        "\n",
        "**Figure 2:** The ubiquitin proteasome system is one of the cell's internal degradation mechanism crucial for targetting dysfunctional proteins. Naturally this opens up opportunities to leverage this in a therapeutic context [[2]](#2).\n",
        "\n"
      ]
    },
    {
      "cell_type": "markdown",
      "metadata": {
        "id": "7a31EmOQP3le"
      },
      "source": [
        "#### 1.1.2 Connection to PROTACs\n",
        "\n",
        "The realization that the UPS could be leveraged for therapeutic purposes was initially made through early studies of viruses and plants. The underlying idea involves design of small molecules capable of recruiting the E3 ligase and inducing degradation of a protein of interest (POI). This general idea naturally extended itself to the case of PROTACs. Together, the POI ligand, linker, and E3 ligase ligand make up the PROTAC complex responsible for protein degradation. Note that the presence of two ligands enables simultaneous  recruitment of the E3 ligase and POI, hence its heterobifunctionality property.\n",
        "\n",
        "Furthermore, after the POI is degraded by the proteasome, PROTACs can disassociate and continue to induce further degradation, enabling low concentrations to be efficacious. This catalytic mechanism of action and event-drive pharmacology prevents PROTACs from suffering the same limitations as conventional therapeutic strategies such as drug resistance and off-target effects.\n",
        "\n",
        "![protac.png](https://media.springernature.com/lw685/springer-static/image/art%3A10.1038%2Fs41392-019-0101-6/MediaObjects/41392_2019_101_Fig1_HTML.png?as=webp)\n",
        "\n",
        "**Figure 3:** The mechanism of action of PROTACs center around the UPS. In a heterobifunctional manner, recruiting both a target protein of interest and an E3 ligase, PROTACs are able to promote protein degradation in diseases [[3]](#3)."
      ]
    },
    {
      "cell_type": "markdown",
      "metadata": {
        "id": "wHvIKuq1-vo7"
      },
      "source": [
        "### 1.3 Other TPD methods\n",
        "\n",
        "It is worth noting that PROTACs are not the only TPD method. Another major class which which also leverages the UPS to elicit degradation are molecular glues. As implied by its name, molecular glues stabilize protein-protein interactions between the target protein and E3 ligase. Notice how this is different than PROTACs which consists of two separate binding ligands connected by a linker. Naturally molecular glues may be less sterically hindered but harder to design.\n",
        "\n",
        "\n",
        "<img src=\"https://ars.els-cdn.com/content/image/1-s2.0-S0960894X18303585-fx1_lrg.jpg\" alt=\"protac_structures.png\" width=\"750\" height=\"400\">\n",
        "\n",
        "\n",
        "**Figure 4:** Lenalidomide is a molecular glue which mediates the interaction between CRBN, an E3 ligase, and CK1α, resulting in subsequent ubiquitination. [[4]](#4)"
      ]
    },
    {
      "cell_type": "markdown",
      "metadata": {
        "id": "LYSEBoaq4VBr"
      },
      "source": [
        "### 1.4 How can we leverage machine learning?\n",
        "\n",
        "As a novel and promising technique, PROTACs have demonstrated positive clinical results thus far. However, much of the clinical validation has been against classically drugged targets. In order for PROTACs to reach their full potential, their clinical efficacy against novel or hard to reach targets must be demonstrated. Consequently, there has been growing research in designing PROTAC molecules capable of elicting an effective response. However, much of the current work is empirical and requires extensive trial-and-error processes. Machine learning could potentially revolutionize this. By correlating molecular structure with physiochemical properties and biological activity, we could potentially streamline the discovery process, significantly reducing the time and cost associated with validation. With that in mind, let's jump into this tutorial to predict efficacy of PROTAC degraders!\n",
        "\n",
        "\n"
      ]
    },
    {
      "cell_type": "markdown",
      "metadata": {
        "id": "YG680bKL32NR"
      },
      "source": [
        "For a more in-depth dive into PROTACs, ubiquitin proteasome system, and targeted protein degradation, readers are referred to [[5]](#5) and [[6]](#6).\n"
      ]
    },
    {
      "cell_type": "markdown",
      "metadata": {
        "id": "jaFJJ8ZeLnq6"
      },
      "source": [
        "## 2. Data extraction\n",
        "\n",
        "Before we proceed, let's install deepchem into our colab environment.\n"
      ]
    },
    {
      "cell_type": "code",
      "execution_count": 1,
      "metadata": {
        "colab": {
          "base_uri": "https://localhost:8080/"
        },
        "id": "XZwTzQcVWlNd",
        "outputId": "1ed947d3-491e-41fa-8f0b-b5a7f29d605c"
      },
      "outputs": [
        {
          "name": "stdout",
          "output_type": "stream",
          "text": [
            "Collecting deepchem\n",
            "  Downloading deepchem-2.8.0-py3-none-any.whl (1.0 MB)\n",
            "\u001b[2K     \u001b[90m━━━━━━━━━━━━━━━━━━━━━━━━━━━━━━━━━━━━━━━━\u001b[0m \u001b[32m1.0/1.0 MB\u001b[0m \u001b[31m6.8 MB/s\u001b[0m eta \u001b[36m0:00:00\u001b[0m\n",
            "\u001b[?25hRequirement already satisfied: joblib in /usr/local/lib/python3.10/dist-packages (from deepchem) (1.4.2)\n",
            "Requirement already satisfied: numpy>=1.21 in /usr/local/lib/python3.10/dist-packages (from deepchem) (1.25.2)\n",
            "Requirement already satisfied: pandas in /usr/local/lib/python3.10/dist-packages (from deepchem) (2.0.3)\n",
            "Requirement already satisfied: scikit-learn in /usr/local/lib/python3.10/dist-packages (from deepchem) (1.2.2)\n",
            "Requirement already satisfied: sympy in /usr/local/lib/python3.10/dist-packages (from deepchem) (1.12.1)\n",
            "Requirement already satisfied: scipy>=1.10.1 in /usr/local/lib/python3.10/dist-packages (from deepchem) (1.11.4)\n",
            "Collecting rdkit (from deepchem)\n",
            "  Downloading rdkit-2023.9.6-cp310-cp310-manylinux_2_17_x86_64.manylinux2014_x86_64.whl (34.9 MB)\n",
            "\u001b[2K     \u001b[90m━━━━━━━━━━━━━━━━━━━━━━━━━━━━━━━━━━━━━━━━\u001b[0m \u001b[32m34.9/34.9 MB\u001b[0m \u001b[31m12.6 MB/s\u001b[0m eta \u001b[36m0:00:00\u001b[0m\n",
            "\u001b[?25hRequirement already satisfied: python-dateutil>=2.8.2 in /usr/local/lib/python3.10/dist-packages (from pandas->deepchem) (2.8.2)\n",
            "Requirement already satisfied: pytz>=2020.1 in /usr/local/lib/python3.10/dist-packages (from pandas->deepchem) (2023.4)\n",
            "Requirement already satisfied: tzdata>=2022.1 in /usr/local/lib/python3.10/dist-packages (from pandas->deepchem) (2024.1)\n",
            "Requirement already satisfied: Pillow in /usr/local/lib/python3.10/dist-packages (from rdkit->deepchem) (9.4.0)\n",
            "Requirement already satisfied: threadpoolctl>=2.0.0 in /usr/local/lib/python3.10/dist-packages (from scikit-learn->deepchem) (3.5.0)\n",
            "Requirement already satisfied: mpmath<1.4.0,>=1.1.0 in /usr/local/lib/python3.10/dist-packages (from sympy->deepchem) (1.3.0)\n",
            "Requirement already satisfied: six>=1.5 in /usr/local/lib/python3.10/dist-packages (from python-dateutil>=2.8.2->pandas->deepchem) (1.16.0)\n",
            "Installing collected packages: rdkit, deepchem\n",
            "Successfully installed deepchem-2.8.0 rdkit-2023.9.6\n"
          ]
        }
      ],
      "source": [
        "!pip install deepchem"
      ]
    },
    {
      "cell_type": "markdown",
      "metadata": {
        "id": "yDcpzvIUWlfh"
      },
      "source": [
        "Now let's download this dataset on PROTACs, curated by [[7]](#7), which includes 3270 PROTACs."
      ]
    },
    {
      "cell_type": "code",
      "execution_count": 2,
      "metadata": {
        "colab": {
          "base_uri": "https://localhost:8080/"
        },
        "id": "IQ69wZfkry9e",
        "outputId": "4b8bf891-f2ec-4031-c0ef-62aa4b356c18"
      },
      "outputs": [
        {
          "name": "stderr",
          "output_type": "stream",
          "text": [
            "WARNING:deepchem.feat.molecule_featurizers.rdkit_descriptors:No normalization for SPS. Feature removed!\n",
            "WARNING:deepchem.feat.molecule_featurizers.rdkit_descriptors:No normalization for AvgIpc. Feature removed!\n",
            "WARNING:tensorflow:From /usr/local/lib/python3.10/dist-packages/tensorflow/python/util/deprecation.py:588: calling function (from tensorflow.python.eager.polymorphic_function.polymorphic_function) with experimental_relax_shapes is deprecated and will be removed in a future version.\n",
            "Instructions for updating:\n",
            "experimental_relax_shapes is deprecated, use reduce_retracing instead\n",
            "WARNING:deepchem.models.torch_models:Skipped loading modules with pytorch-geometric dependency, missing a dependency. No module named 'torch_geometric'\n",
            "WARNING:deepchem.models:Skipped loading modules with pytorch-geometric dependency, missing a dependency. cannot import name 'DMPNN' from 'deepchem.models.torch_models' (/usr/local/lib/python3.10/dist-packages/deepchem/models/torch_models/__init__.py)\n",
            "WARNING:deepchem.models:Skipped loading modules with pytorch-lightning dependency, missing a dependency. No module named 'lightning'\n",
            "WARNING:deepchem.models:Skipped loading some Jax models, missing a dependency. No module named 'haiku'\n"
          ]
        }
      ],
      "source": [
        "import deepchem as dc\n",
        "import pandas as pd\n",
        "import os\n",
        "import numpy as np\n",
        "import matplotlib.pyplot as plt"
      ]
    },
    {
      "cell_type": "code",
      "execution_count": 3,
      "metadata": {
        "colab": {
          "base_uri": "https://localhost:8080/"
        },
        "id": "0B31rgmOuWSd",
        "outputId": "76a36eda-853d-4150-d21b-8d37e48ba396"
      },
      "outputs": [
        {
          "data": {
            "text/plain": [
              "0"
            ]
          },
          "execution_count": 3,
          "metadata": {},
          "output_type": "execute_result"
        }
      ],
      "source": [
        "os.system('wget https://deepchemdata.s3.us-west-1.amazonaws.com/datasets/protac_10_06_24.csv')"
      ]
    },
    {
      "cell_type": "code",
      "execution_count": 4,
      "metadata": {
        "id": "naC_T0Z7uhwi"
      },
      "outputs": [],
      "source": [
        "protac_db = pd.read_csv('protac_10_06_24.csv')"
      ]
    },
    {
      "cell_type": "markdown",
      "metadata": {
        "id": "QMoQqVzKO_h_"
      },
      "source": [
        "Taking a closer look at the dataset, each PROTAC compound has a SMILEs representation along with its target protein of interest and E3 ligase."
      ]
    },
    {
      "cell_type": "code",
      "execution_count": null,
      "metadata": {
        "colab": {
          "base_uri": "https://localhost:8080/",
          "height": 774
        },
        "id": "IW4PCum1N8sd",
        "outputId": "0df8a8c2-cef0-41a9-ea90-44bc952763d5"
      },
      "outputs": [
        {
          "name": "stdout",
          "output_type": "stream",
          "text": [
            "There are 3270 unique PROTAC compounds, targeting 323 proteins for a total of 5388 combinations\n"
          ]
        },
        {
          "data": {
            "application/vnd.google.colaboratory.intrinsic+json": {
              "type": "dataframe",
              "variable_name": "protac_db"
            },
            "text/html": [
              "\n",
              "  <div id=\"df-bcba4572-d887-4958-9f4f-ce6e8947e1a9\" class=\"colab-df-container\">\n",
              "    <div>\n",
              "<style scoped>\n",
              "    .dataframe tbody tr th:only-of-type {\n",
              "        vertical-align: middle;\n",
              "    }\n",
              "\n",
              "    .dataframe tbody tr th {\n",
              "        vertical-align: top;\n",
              "    }\n",
              "\n",
              "    .dataframe thead th {\n",
              "        text-align: right;\n",
              "    }\n",
              "</style>\n",
              "<table border=\"1\" class=\"dataframe\">\n",
              "  <thead>\n",
              "    <tr style=\"text-align: right;\">\n",
              "      <th></th>\n",
              "      <th>Compound ID</th>\n",
              "      <th>Uniprot</th>\n",
              "      <th>Target</th>\n",
              "      <th>E3 ligase</th>\n",
              "      <th>PDB</th>\n",
              "      <th>Name</th>\n",
              "      <th>Smiles</th>\n",
              "      <th>DC50 (nM)</th>\n",
              "      <th>Dmax (%)</th>\n",
              "      <th>Assay (DC50/Dmax)</th>\n",
              "      <th>...</th>\n",
              "      <th>XLogP3</th>\n",
              "      <th>Heavy Atom Count</th>\n",
              "      <th>Ring Count</th>\n",
              "      <th>Hydrogen Bond Acceptor Count</th>\n",
              "      <th>Hydrogen Bond Donor Count</th>\n",
              "      <th>Rotatable Bond Count</th>\n",
              "      <th>Topological Polar Surface Area</th>\n",
              "      <th>Molecular Formula</th>\n",
              "      <th>InChI</th>\n",
              "      <th>InChI Key</th>\n",
              "    </tr>\n",
              "  </thead>\n",
              "  <tbody>\n",
              "    <tr>\n",
              "      <th>0</th>\n",
              "      <td>1</td>\n",
              "      <td>Q9NPI1</td>\n",
              "      <td>BRD7</td>\n",
              "      <td>VHL</td>\n",
              "      <td>NaN</td>\n",
              "      <td>NaN</td>\n",
              "      <td>COC1=CC(C2=CN(C)C(=O)C3=CN=CC=C23)=CC(OC)=C1CN...</td>\n",
              "      <td>NaN</td>\n",
              "      <td>NaN</td>\n",
              "      <td>NaN</td>\n",
              "      <td>...</td>\n",
              "      <td>3.03</td>\n",
              "      <td>68</td>\n",
              "      <td>7</td>\n",
              "      <td>15</td>\n",
              "      <td>3</td>\n",
              "      <td>19</td>\n",
              "      <td>189.92</td>\n",
              "      <td>C50H64N8O9S</td>\n",
              "      <td>InChI=1S/C50H64N8O9S/c1-32-45(68-31-53-32)34-1...</td>\n",
              "      <td>RPMQBLMPGMFXLD-PDUNVWSESA-N</td>\n",
              "    </tr>\n",
              "    <tr>\n",
              "      <th>1</th>\n",
              "      <td>1</td>\n",
              "      <td>Q9H8M2</td>\n",
              "      <td>BRD9</td>\n",
              "      <td>VHL</td>\n",
              "      <td>NaN</td>\n",
              "      <td>NaN</td>\n",
              "      <td>COC1=CC(C2=CN(C)C(=O)C3=CN=CC=C23)=CC(OC)=C1CN...</td>\n",
              "      <td>NaN</td>\n",
              "      <td>NaN</td>\n",
              "      <td>NaN</td>\n",
              "      <td>...</td>\n",
              "      <td>3.03</td>\n",
              "      <td>68</td>\n",
              "      <td>7</td>\n",
              "      <td>15</td>\n",
              "      <td>3</td>\n",
              "      <td>19</td>\n",
              "      <td>189.92</td>\n",
              "      <td>C50H64N8O9S</td>\n",
              "      <td>InChI=1S/C50H64N8O9S/c1-32-45(68-31-53-32)34-1...</td>\n",
              "      <td>RPMQBLMPGMFXLD-PDUNVWSESA-N</td>\n",
              "    </tr>\n",
              "    <tr>\n",
              "      <th>2</th>\n",
              "      <td>2</td>\n",
              "      <td>Q9NPI1</td>\n",
              "      <td>BRD7</td>\n",
              "      <td>VHL</td>\n",
              "      <td>NaN</td>\n",
              "      <td>NaN</td>\n",
              "      <td>COC1=CC(C2=CN(C)C(=O)C3=CN=CC=C23)=CC(OC)=C1CN...</td>\n",
              "      <td>NaN</td>\n",
              "      <td>NaN</td>\n",
              "      <td>NaN</td>\n",
              "      <td>...</td>\n",
              "      <td>2.74</td>\n",
              "      <td>74</td>\n",
              "      <td>7</td>\n",
              "      <td>17</td>\n",
              "      <td>3</td>\n",
              "      <td>25</td>\n",
              "      <td>208.38</td>\n",
              "      <td>C54H72N8O11S</td>\n",
              "      <td>InChI=1S/C54H72N8O11S/c1-36-49(74-35-57-36)38-...</td>\n",
              "      <td>NGWWVKZONFCNQP-SHPBXJAASA-N</td>\n",
              "    </tr>\n",
              "    <tr>\n",
              "      <th>3</th>\n",
              "      <td>2</td>\n",
              "      <td>Q9H8M2</td>\n",
              "      <td>BRD9</td>\n",
              "      <td>VHL</td>\n",
              "      <td>NaN</td>\n",
              "      <td>NaN</td>\n",
              "      <td>COC1=CC(C2=CN(C)C(=O)C3=CN=CC=C23)=CC(OC)=C1CN...</td>\n",
              "      <td>NaN</td>\n",
              "      <td>NaN</td>\n",
              "      <td>NaN</td>\n",
              "      <td>...</td>\n",
              "      <td>2.74</td>\n",
              "      <td>74</td>\n",
              "      <td>7</td>\n",
              "      <td>17</td>\n",
              "      <td>3</td>\n",
              "      <td>25</td>\n",
              "      <td>208.38</td>\n",
              "      <td>C54H72N8O11S</td>\n",
              "      <td>InChI=1S/C54H72N8O11S/c1-36-49(74-35-57-36)38-...</td>\n",
              "      <td>NGWWVKZONFCNQP-SHPBXJAASA-N</td>\n",
              "    </tr>\n",
              "    <tr>\n",
              "      <th>4</th>\n",
              "      <td>3</td>\n",
              "      <td>Q9H8M2</td>\n",
              "      <td>BRD9</td>\n",
              "      <td>CRBN</td>\n",
              "      <td>NaN</td>\n",
              "      <td>NaN</td>\n",
              "      <td>COC1=CC(C2=CN(C)C(=O)C3=CN=CC=C23)=CC(OC)=C1CN...</td>\n",
              "      <td>NaN</td>\n",
              "      <td>NaN</td>\n",
              "      <td>NaN</td>\n",
              "      <td>...</td>\n",
              "      <td>0.70</td>\n",
              "      <td>61</td>\n",
              "      <td>7</td>\n",
              "      <td>15</td>\n",
              "      <td>3</td>\n",
              "      <td>18</td>\n",
              "      <td>202.97</td>\n",
              "      <td>C43H50N8O10</td>\n",
              "      <td>InChI=1S/C43H50N8O10/c1-48-24-31(28-9-10-44-23...</td>\n",
              "      <td>RMBNUDOJPQLHMV-UHFFFAOYSA-N</td>\n",
              "    </tr>\n",
              "    <tr>\n",
              "      <th>...</th>\n",
              "      <td>...</td>\n",
              "      <td>...</td>\n",
              "      <td>...</td>\n",
              "      <td>...</td>\n",
              "      <td>...</td>\n",
              "      <td>...</td>\n",
              "      <td>...</td>\n",
              "      <td>...</td>\n",
              "      <td>...</td>\n",
              "      <td>...</td>\n",
              "      <td>...</td>\n",
              "      <td>...</td>\n",
              "      <td>...</td>\n",
              "      <td>...</td>\n",
              "      <td>...</td>\n",
              "      <td>...</td>\n",
              "      <td>...</td>\n",
              "      <td>...</td>\n",
              "      <td>...</td>\n",
              "      <td>...</td>\n",
              "      <td>...</td>\n",
              "    </tr>\n",
              "    <tr>\n",
              "      <th>5383</th>\n",
              "      <td>3266</td>\n",
              "      <td>O60885</td>\n",
              "      <td>BRD4</td>\n",
              "      <td>FEM1B</td>\n",
              "      <td>NaN</td>\n",
              "      <td>NaN</td>\n",
              "      <td>CC1=C(C)C2=C(S1)N1C(C)=NN=C1[C@H](CC(=O)NCCOCC...</td>\n",
              "      <td>1600</td>\n",
              "      <td>80</td>\n",
              "      <td>Degradation of BRD4 in HEK293T cells after 8 h...</td>\n",
              "      <td>...</td>\n",
              "      <td>3.28</td>\n",
              "      <td>64</td>\n",
              "      <td>6</td>\n",
              "      <td>15</td>\n",
              "      <td>2</td>\n",
              "      <td>24</td>\n",
              "      <td>194.76</td>\n",
              "      <td>C44H53Cl2N9O8S</td>\n",
              "      <td>InChI=1S/C44H53Cl2N9O8S/c1-29-30(2)64-44-41(29...</td>\n",
              "      <td>UUCUKSPUFPMKNK-DHUJRADRSA-N</td>\n",
              "    </tr>\n",
              "    <tr>\n",
              "      <th>5384</th>\n",
              "      <td>3267</td>\n",
              "      <td>NaN</td>\n",
              "      <td>BCR-ABL</td>\n",
              "      <td>FEM1B</td>\n",
              "      <td>NaN</td>\n",
              "      <td>NaN</td>\n",
              "      <td>CC1=NC(NC2=NC=C(C(=O)NC3=C(C)C=CC=C3Cl)S2)=CC(...</td>\n",
              "      <td>NaN</td>\n",
              "      <td>NaN</td>\n",
              "      <td>NaN</td>\n",
              "      <td>...</td>\n",
              "      <td>5.92</td>\n",
              "      <td>58</td>\n",
              "      <td>6</td>\n",
              "      <td>13</td>\n",
              "      <td>3</td>\n",
              "      <td>17</td>\n",
              "      <td>171.95</td>\n",
              "      <td>C40H47Cl2N11O4S</td>\n",
              "      <td>InChI=1S/C40H47Cl2N11O4S/c1-27-8-6-9-30(42)38(...</td>\n",
              "      <td>WIXPXNLUXBZCHT-UHFFFAOYSA-N</td>\n",
              "    </tr>\n",
              "    <tr>\n",
              "      <th>5385</th>\n",
              "      <td>3268</td>\n",
              "      <td>NaN</td>\n",
              "      <td>BCR-ABL</td>\n",
              "      <td>FEM1B</td>\n",
              "      <td>NaN</td>\n",
              "      <td>NaN</td>\n",
              "      <td>CC1=NC(NC2=NC=C(C(=O)NC3=C(C)C=CC=C3Cl)S2)=CC(...</td>\n",
              "      <td>NaN</td>\n",
              "      <td>NaN</td>\n",
              "      <td>NaN</td>\n",
              "      <td>...</td>\n",
              "      <td>4.41</td>\n",
              "      <td>64</td>\n",
              "      <td>6</td>\n",
              "      <td>16</td>\n",
              "      <td>3</td>\n",
              "      <td>23</td>\n",
              "      <td>199.64</td>\n",
              "      <td>C43H53Cl2N11O7S</td>\n",
              "      <td>InChI=1S/C43H53Cl2N11O7S/c1-30-5-3-6-33(45)41(...</td>\n",
              "      <td>YPMQMBLMNGXVCK-UHFFFAOYSA-N</td>\n",
              "    </tr>\n",
              "    <tr>\n",
              "      <th>5386</th>\n",
              "      <td>3269</td>\n",
              "      <td>P03372</td>\n",
              "      <td>ER</td>\n",
              "      <td>CRBN</td>\n",
              "      <td>NaN</td>\n",
              "      <td>ARV-471</td>\n",
              "      <td>O=C1CC[C@H](N2CC3=CC(N4CCN(CC5CCN(C6=CC=C([C@@...</td>\n",
              "      <td>2</td>\n",
              "      <td>NaN</td>\n",
              "      <td>Degradation of ER in ER-positive breast cancer...</td>\n",
              "      <td>...</td>\n",
              "      <td>6.36</td>\n",
              "      <td>54</td>\n",
              "      <td>9</td>\n",
              "      <td>7</td>\n",
              "      <td>2</td>\n",
              "      <td>7</td>\n",
              "      <td>96.43</td>\n",
              "      <td>C45H49N5O4</td>\n",
              "      <td>InChI=1S/C45H49N5O4/c51-37-12-15-39-33(27-37)8...</td>\n",
              "      <td>TZZDVPMABRWKIZ-XMOGEVODSA-N</td>\n",
              "    </tr>\n",
              "    <tr>\n",
              "      <th>5387</th>\n",
              "      <td>3270</td>\n",
              "      <td>P10275</td>\n",
              "      <td>AR</td>\n",
              "      <td>CRBN</td>\n",
              "      <td>NaN</td>\n",
              "      <td>ARV-110</td>\n",
              "      <td>N#CC1=CC=C(O[C@H]2CC[C@H](NC(=O)C3=CC=C(N4CCC(...</td>\n",
              "      <td>1</td>\n",
              "      <td>NaN</td>\n",
              "      <td>Degradation of AR in LNCaP cells</td>\n",
              "      <td>...</td>\n",
              "      <td>3.94</td>\n",
              "      <td>58</td>\n",
              "      <td>8</td>\n",
              "      <td>12</td>\n",
              "      <td>2</td>\n",
              "      <td>9</td>\n",
              "      <td>181.17</td>\n",
              "      <td>C41H43ClFN9O6</td>\n",
              "      <td>InChI=1S/C41H43ClFN9O6/c42-31-19-28(4-1-25(31)...</td>\n",
              "      <td>CLCTZVRHDOAUGJ-SYVGMNBRSA-N</td>\n",
              "    </tr>\n",
              "  </tbody>\n",
              "</table>\n",
              "<p>5388 rows × 89 columns</p>\n",
              "</div>\n",
              "    <div class=\"colab-df-buttons\">\n",
              "\n",
              "  <div class=\"colab-df-container\">\n",
              "    <button class=\"colab-df-convert\" onclick=\"convertToInteractive('df-bcba4572-d887-4958-9f4f-ce6e8947e1a9')\"\n",
              "            title=\"Convert this dataframe to an interactive table.\"\n",
              "            style=\"display:none;\">\n",
              "\n",
              "  <svg xmlns=\"http://www.w3.org/2000/svg\" height=\"24px\" viewBox=\"0 -960 960 960\">\n",
              "    <path d=\"M120-120v-720h720v720H120Zm60-500h600v-160H180v160Zm220 220h160v-160H400v160Zm0 220h160v-160H400v160ZM180-400h160v-160H180v160Zm440 0h160v-160H620v160ZM180-180h160v-160H180v160Zm440 0h160v-160H620v160Z\"/>\n",
              "  </svg>\n",
              "    </button>\n",
              "\n",
              "  <style>\n",
              "    .colab-df-container {\n",
              "      display:flex;\n",
              "      gap: 12px;\n",
              "    }\n",
              "\n",
              "    .colab-df-convert {\n",
              "      background-color: #E8F0FE;\n",
              "      border: none;\n",
              "      border-radius: 50%;\n",
              "      cursor: pointer;\n",
              "      display: none;\n",
              "      fill: #1967D2;\n",
              "      height: 32px;\n",
              "      padding: 0 0 0 0;\n",
              "      width: 32px;\n",
              "    }\n",
              "\n",
              "    .colab-df-convert:hover {\n",
              "      background-color: #E2EBFA;\n",
              "      box-shadow: 0px 1px 2px rgba(60, 64, 67, 0.3), 0px 1px 3px 1px rgba(60, 64, 67, 0.15);\n",
              "      fill: #174EA6;\n",
              "    }\n",
              "\n",
              "    .colab-df-buttons div {\n",
              "      margin-bottom: 4px;\n",
              "    }\n",
              "\n",
              "    [theme=dark] .colab-df-convert {\n",
              "      background-color: #3B4455;\n",
              "      fill: #D2E3FC;\n",
              "    }\n",
              "\n",
              "    [theme=dark] .colab-df-convert:hover {\n",
              "      background-color: #434B5C;\n",
              "      box-shadow: 0px 1px 3px 1px rgba(0, 0, 0, 0.15);\n",
              "      filter: drop-shadow(0px 1px 2px rgba(0, 0, 0, 0.3));\n",
              "      fill: #FFFFFF;\n",
              "    }\n",
              "  </style>\n",
              "\n",
              "    <script>\n",
              "      const buttonEl =\n",
              "        document.querySelector('#df-bcba4572-d887-4958-9f4f-ce6e8947e1a9 button.colab-df-convert');\n",
              "      buttonEl.style.display =\n",
              "        google.colab.kernel.accessAllowed ? 'block' : 'none';\n",
              "\n",
              "      async function convertToInteractive(key) {\n",
              "        const element = document.querySelector('#df-bcba4572-d887-4958-9f4f-ce6e8947e1a9');\n",
              "        const dataTable =\n",
              "          await google.colab.kernel.invokeFunction('convertToInteractive',\n",
              "                                                    [key], {});\n",
              "        if (!dataTable) return;\n",
              "\n",
              "        const docLinkHtml = 'Like what you see? Visit the ' +\n",
              "          '<a target=\"_blank\" href=https://colab.research.google.com/notebooks/data_table.ipynb>data table notebook</a>'\n",
              "          + ' to learn more about interactive tables.';\n",
              "        element.innerHTML = '';\n",
              "        dataTable['output_type'] = 'display_data';\n",
              "        await google.colab.output.renderOutput(dataTable, element);\n",
              "        const docLink = document.createElement('div');\n",
              "        docLink.innerHTML = docLinkHtml;\n",
              "        element.appendChild(docLink);\n",
              "      }\n",
              "    </script>\n",
              "  </div>\n",
              "\n",
              "\n",
              "<div id=\"df-252ce983-4b24-4b0c-8155-5ea78e6adeee\">\n",
              "  <button class=\"colab-df-quickchart\" onclick=\"quickchart('df-252ce983-4b24-4b0c-8155-5ea78e6adeee')\"\n",
              "            title=\"Suggest charts\"\n",
              "            style=\"display:none;\">\n",
              "\n",
              "<svg xmlns=\"http://www.w3.org/2000/svg\" height=\"24px\"viewBox=\"0 0 24 24\"\n",
              "     width=\"24px\">\n",
              "    <g>\n",
              "        <path d=\"M19 3H5c-1.1 0-2 .9-2 2v14c0 1.1.9 2 2 2h14c1.1 0 2-.9 2-2V5c0-1.1-.9-2-2-2zM9 17H7v-7h2v7zm4 0h-2V7h2v10zm4 0h-2v-4h2v4z\"/>\n",
              "    </g>\n",
              "</svg>\n",
              "  </button>\n",
              "\n",
              "<style>\n",
              "  .colab-df-quickchart {\n",
              "      --bg-color: #E8F0FE;\n",
              "      --fill-color: #1967D2;\n",
              "      --hover-bg-color: #E2EBFA;\n",
              "      --hover-fill-color: #174EA6;\n",
              "      --disabled-fill-color: #AAA;\n",
              "      --disabled-bg-color: #DDD;\n",
              "  }\n",
              "\n",
              "  [theme=dark] .colab-df-quickchart {\n",
              "      --bg-color: #3B4455;\n",
              "      --fill-color: #D2E3FC;\n",
              "      --hover-bg-color: #434B5C;\n",
              "      --hover-fill-color: #FFFFFF;\n",
              "      --disabled-bg-color: #3B4455;\n",
              "      --disabled-fill-color: #666;\n",
              "  }\n",
              "\n",
              "  .colab-df-quickchart {\n",
              "    background-color: var(--bg-color);\n",
              "    border: none;\n",
              "    border-radius: 50%;\n",
              "    cursor: pointer;\n",
              "    display: none;\n",
              "    fill: var(--fill-color);\n",
              "    height: 32px;\n",
              "    padding: 0;\n",
              "    width: 32px;\n",
              "  }\n",
              "\n",
              "  .colab-df-quickchart:hover {\n",
              "    background-color: var(--hover-bg-color);\n",
              "    box-shadow: 0 1px 2px rgba(60, 64, 67, 0.3), 0 1px 3px 1px rgba(60, 64, 67, 0.15);\n",
              "    fill: var(--button-hover-fill-color);\n",
              "  }\n",
              "\n",
              "  .colab-df-quickchart-complete:disabled,\n",
              "  .colab-df-quickchart-complete:disabled:hover {\n",
              "    background-color: var(--disabled-bg-color);\n",
              "    fill: var(--disabled-fill-color);\n",
              "    box-shadow: none;\n",
              "  }\n",
              "\n",
              "  .colab-df-spinner {\n",
              "    border: 2px solid var(--fill-color);\n",
              "    border-color: transparent;\n",
              "    border-bottom-color: var(--fill-color);\n",
              "    animation:\n",
              "      spin 1s steps(1) infinite;\n",
              "  }\n",
              "\n",
              "  @keyframes spin {\n",
              "    0% {\n",
              "      border-color: transparent;\n",
              "      border-bottom-color: var(--fill-color);\n",
              "      border-left-color: var(--fill-color);\n",
              "    }\n",
              "    20% {\n",
              "      border-color: transparent;\n",
              "      border-left-color: var(--fill-color);\n",
              "      border-top-color: var(--fill-color);\n",
              "    }\n",
              "    30% {\n",
              "      border-color: transparent;\n",
              "      border-left-color: var(--fill-color);\n",
              "      border-top-color: var(--fill-color);\n",
              "      border-right-color: var(--fill-color);\n",
              "    }\n",
              "    40% {\n",
              "      border-color: transparent;\n",
              "      border-right-color: var(--fill-color);\n",
              "      border-top-color: var(--fill-color);\n",
              "    }\n",
              "    60% {\n",
              "      border-color: transparent;\n",
              "      border-right-color: var(--fill-color);\n",
              "    }\n",
              "    80% {\n",
              "      border-color: transparent;\n",
              "      border-right-color: var(--fill-color);\n",
              "      border-bottom-color: var(--fill-color);\n",
              "    }\n",
              "    90% {\n",
              "      border-color: transparent;\n",
              "      border-bottom-color: var(--fill-color);\n",
              "    }\n",
              "  }\n",
              "</style>\n",
              "\n",
              "  <script>\n",
              "    async function quickchart(key) {\n",
              "      const quickchartButtonEl =\n",
              "        document.querySelector('#' + key + ' button');\n",
              "      quickchartButtonEl.disabled = true;  // To prevent multiple clicks.\n",
              "      quickchartButtonEl.classList.add('colab-df-spinner');\n",
              "      try {\n",
              "        const charts = await google.colab.kernel.invokeFunction(\n",
              "            'suggestCharts', [key], {});\n",
              "      } catch (error) {\n",
              "        console.error('Error during call to suggestCharts:', error);\n",
              "      }\n",
              "      quickchartButtonEl.classList.remove('colab-df-spinner');\n",
              "      quickchartButtonEl.classList.add('colab-df-quickchart-complete');\n",
              "    }\n",
              "    (() => {\n",
              "      let quickchartButtonEl =\n",
              "        document.querySelector('#df-252ce983-4b24-4b0c-8155-5ea78e6adeee button');\n",
              "      quickchartButtonEl.style.display =\n",
              "        google.colab.kernel.accessAllowed ? 'block' : 'none';\n",
              "    })();\n",
              "  </script>\n",
              "</div>\n",
              "\n",
              "  <div id=\"id_73f4a728-7694-41bd-80b9-4318df0dd74e\">\n",
              "    <style>\n",
              "      .colab-df-generate {\n",
              "        background-color: #E8F0FE;\n",
              "        border: none;\n",
              "        border-radius: 50%;\n",
              "        cursor: pointer;\n",
              "        display: none;\n",
              "        fill: #1967D2;\n",
              "        height: 32px;\n",
              "        padding: 0 0 0 0;\n",
              "        width: 32px;\n",
              "      }\n",
              "\n",
              "      .colab-df-generate:hover {\n",
              "        background-color: #E2EBFA;\n",
              "        box-shadow: 0px 1px 2px rgba(60, 64, 67, 0.3), 0px 1px 3px 1px rgba(60, 64, 67, 0.15);\n",
              "        fill: #174EA6;\n",
              "      }\n",
              "\n",
              "      [theme=dark] .colab-df-generate {\n",
              "        background-color: #3B4455;\n",
              "        fill: #D2E3FC;\n",
              "      }\n",
              "\n",
              "      [theme=dark] .colab-df-generate:hover {\n",
              "        background-color: #434B5C;\n",
              "        box-shadow: 0px 1px 3px 1px rgba(0, 0, 0, 0.15);\n",
              "        filter: drop-shadow(0px 1px 2px rgba(0, 0, 0, 0.3));\n",
              "        fill: #FFFFFF;\n",
              "      }\n",
              "    </style>\n",
              "    <button class=\"colab-df-generate\" onclick=\"generateWithVariable('protac_db')\"\n",
              "            title=\"Generate code using this dataframe.\"\n",
              "            style=\"display:none;\">\n",
              "\n",
              "  <svg xmlns=\"http://www.w3.org/2000/svg\" height=\"24px\"viewBox=\"0 0 24 24\"\n",
              "       width=\"24px\">\n",
              "    <path d=\"M7,19H8.4L18.45,9,17,7.55,7,17.6ZM5,21V16.75L18.45,3.32a2,2,0,0,1,2.83,0l1.4,1.43a1.91,1.91,0,0,1,.58,1.4,1.91,1.91,0,0,1-.58,1.4L9.25,21ZM18.45,9,17,7.55Zm-12,3A5.31,5.31,0,0,0,4.9,8.1,5.31,5.31,0,0,0,1,6.5,5.31,5.31,0,0,0,4.9,4.9,5.31,5.31,0,0,0,6.5,1,5.31,5.31,0,0,0,8.1,4.9,5.31,5.31,0,0,0,12,6.5,5.46,5.46,0,0,0,6.5,12Z\"/>\n",
              "  </svg>\n",
              "    </button>\n",
              "    <script>\n",
              "      (() => {\n",
              "      const buttonEl =\n",
              "        document.querySelector('#id_73f4a728-7694-41bd-80b9-4318df0dd74e button.colab-df-generate');\n",
              "      buttonEl.style.display =\n",
              "        google.colab.kernel.accessAllowed ? 'block' : 'none';\n",
              "\n",
              "      buttonEl.onclick = () => {\n",
              "        google.colab.notebook.generateWithVariable('protac_db');\n",
              "      }\n",
              "      })();\n",
              "    </script>\n",
              "  </div>\n",
              "\n",
              "    </div>\n",
              "  </div>\n"
            ],
            "text/plain": [
              "      Compound ID Uniprot   Target E3 ligase  PDB     Name  \\\n",
              "0               1  Q9NPI1     BRD7       VHL  NaN      NaN   \n",
              "1               1  Q9H8M2     BRD9       VHL  NaN      NaN   \n",
              "2               2  Q9NPI1     BRD7       VHL  NaN      NaN   \n",
              "3               2  Q9H8M2     BRD9       VHL  NaN      NaN   \n",
              "4               3  Q9H8M2     BRD9      CRBN  NaN      NaN   \n",
              "...           ...     ...      ...       ...  ...      ...   \n",
              "5383         3266  O60885     BRD4     FEM1B  NaN      NaN   \n",
              "5384         3267     NaN  BCR-ABL     FEM1B  NaN      NaN   \n",
              "5385         3268     NaN  BCR-ABL     FEM1B  NaN      NaN   \n",
              "5386         3269  P03372       ER      CRBN  NaN  ARV-471   \n",
              "5387         3270  P10275       AR      CRBN  NaN  ARV-110   \n",
              "\n",
              "                                                 Smiles DC50 (nM) Dmax (%)  \\\n",
              "0     COC1=CC(C2=CN(C)C(=O)C3=CN=CC=C23)=CC(OC)=C1CN...       NaN      NaN   \n",
              "1     COC1=CC(C2=CN(C)C(=O)C3=CN=CC=C23)=CC(OC)=C1CN...       NaN      NaN   \n",
              "2     COC1=CC(C2=CN(C)C(=O)C3=CN=CC=C23)=CC(OC)=C1CN...       NaN      NaN   \n",
              "3     COC1=CC(C2=CN(C)C(=O)C3=CN=CC=C23)=CC(OC)=C1CN...       NaN      NaN   \n",
              "4     COC1=CC(C2=CN(C)C(=O)C3=CN=CC=C23)=CC(OC)=C1CN...       NaN      NaN   \n",
              "...                                                 ...       ...      ...   \n",
              "5383  CC1=C(C)C2=C(S1)N1C(C)=NN=C1[C@H](CC(=O)NCCOCC...      1600       80   \n",
              "5384  CC1=NC(NC2=NC=C(C(=O)NC3=C(C)C=CC=C3Cl)S2)=CC(...       NaN      NaN   \n",
              "5385  CC1=NC(NC2=NC=C(C(=O)NC3=C(C)C=CC=C3Cl)S2)=CC(...       NaN      NaN   \n",
              "5386  O=C1CC[C@H](N2CC3=CC(N4CCN(CC5CCN(C6=CC=C([C@@...         2      NaN   \n",
              "5387  N#CC1=CC=C(O[C@H]2CC[C@H](NC(=O)C3=CC=C(N4CCC(...         1      NaN   \n",
              "\n",
              "                                      Assay (DC50/Dmax)  ... XLogP3  \\\n",
              "0                                                   NaN  ...   3.03   \n",
              "1                                                   NaN  ...   3.03   \n",
              "2                                                   NaN  ...   2.74   \n",
              "3                                                   NaN  ...   2.74   \n",
              "4                                                   NaN  ...   0.70   \n",
              "...                                                 ...  ...    ...   \n",
              "5383  Degradation of BRD4 in HEK293T cells after 8 h...  ...   3.28   \n",
              "5384                                                NaN  ...   5.92   \n",
              "5385                                                NaN  ...   4.41   \n",
              "5386  Degradation of ER in ER-positive breast cancer...  ...   6.36   \n",
              "5387                   Degradation of AR in LNCaP cells  ...   3.94   \n",
              "\n",
              "     Heavy Atom Count Ring Count Hydrogen Bond Acceptor Count  \\\n",
              "0                  68          7                           15   \n",
              "1                  68          7                           15   \n",
              "2                  74          7                           17   \n",
              "3                  74          7                           17   \n",
              "4                  61          7                           15   \n",
              "...               ...        ...                          ...   \n",
              "5383               64          6                           15   \n",
              "5384               58          6                           13   \n",
              "5385               64          6                           16   \n",
              "5386               54          9                            7   \n",
              "5387               58          8                           12   \n",
              "\n",
              "     Hydrogen Bond Donor Count Rotatable Bond Count  \\\n",
              "0                            3                   19   \n",
              "1                            3                   19   \n",
              "2                            3                   25   \n",
              "3                            3                   25   \n",
              "4                            3                   18   \n",
              "...                        ...                  ...   \n",
              "5383                         2                   24   \n",
              "5384                         3                   17   \n",
              "5385                         3                   23   \n",
              "5386                         2                    7   \n",
              "5387                         2                    9   \n",
              "\n",
              "     Topological Polar Surface Area Molecular Formula  \\\n",
              "0                            189.92       C50H64N8O9S   \n",
              "1                            189.92       C50H64N8O9S   \n",
              "2                            208.38      C54H72N8O11S   \n",
              "3                            208.38      C54H72N8O11S   \n",
              "4                            202.97       C43H50N8O10   \n",
              "...                             ...               ...   \n",
              "5383                         194.76    C44H53Cl2N9O8S   \n",
              "5384                         171.95   C40H47Cl2N11O4S   \n",
              "5385                         199.64   C43H53Cl2N11O7S   \n",
              "5386                          96.43        C45H49N5O4   \n",
              "5387                         181.17     C41H43ClFN9O6   \n",
              "\n",
              "                                                  InChI  \\\n",
              "0     InChI=1S/C50H64N8O9S/c1-32-45(68-31-53-32)34-1...   \n",
              "1     InChI=1S/C50H64N8O9S/c1-32-45(68-31-53-32)34-1...   \n",
              "2     InChI=1S/C54H72N8O11S/c1-36-49(74-35-57-36)38-...   \n",
              "3     InChI=1S/C54H72N8O11S/c1-36-49(74-35-57-36)38-...   \n",
              "4     InChI=1S/C43H50N8O10/c1-48-24-31(28-9-10-44-23...   \n",
              "...                                                 ...   \n",
              "5383  InChI=1S/C44H53Cl2N9O8S/c1-29-30(2)64-44-41(29...   \n",
              "5384  InChI=1S/C40H47Cl2N11O4S/c1-27-8-6-9-30(42)38(...   \n",
              "5385  InChI=1S/C43H53Cl2N11O7S/c1-30-5-3-6-33(45)41(...   \n",
              "5386  InChI=1S/C45H49N5O4/c51-37-12-15-39-33(27-37)8...   \n",
              "5387  InChI=1S/C41H43ClFN9O6/c42-31-19-28(4-1-25(31)...   \n",
              "\n",
              "                        InChI Key  \n",
              "0     RPMQBLMPGMFXLD-PDUNVWSESA-N  \n",
              "1     RPMQBLMPGMFXLD-PDUNVWSESA-N  \n",
              "2     NGWWVKZONFCNQP-SHPBXJAASA-N  \n",
              "3     NGWWVKZONFCNQP-SHPBXJAASA-N  \n",
              "4     RMBNUDOJPQLHMV-UHFFFAOYSA-N  \n",
              "...                           ...  \n",
              "5383  UUCUKSPUFPMKNK-DHUJRADRSA-N  \n",
              "5384  WIXPXNLUXBZCHT-UHFFFAOYSA-N  \n",
              "5385  YPMQMBLMNGXVCK-UHFFFAOYSA-N  \n",
              "5386  TZZDVPMABRWKIZ-XMOGEVODSA-N  \n",
              "5387  CLCTZVRHDOAUGJ-SYVGMNBRSA-N  \n",
              "\n",
              "[5388 rows x 89 columns]"
            ]
          },
          "execution_count": 7,
          "metadata": {},
          "output_type": "execute_result"
        }
      ],
      "source": [
        "# Note that the same PROTAC compound can have the same target protein of interest (POI)\n",
        "print('There are {} unique PROTAC compounds, targeting {} proteins for a total of {} combinations'.format(len(protac_db['Compound ID'].unique()),\n",
        "                                                                                   len(protac_db['Target'].unique()), protac_db.shape[0]))\n",
        "protac_db"
      ]
    },
    {
      "cell_type": "markdown",
      "metadata": {
        "id": "cmmPXNRgQgbf"
      },
      "source": [
        "In general, PROTAC-DB contains information for a variety of different physiochemical and biochemical properties of PROTAC structures. Several useful ones to point out are $ΔG$, which describes the spontaneity of a chemical reaction, and $K_d$ which measures the affinity of a ligand to its receptor. Note that these properties are all used in the context of describing the biochemical interactions between the PROTAC, target protein, and E3 ligase which react to form a ternary complex. $XLogP3$ is also a useful physiochemical property which measures a compound's solubility, an indication of its absorption and distribution characteristics. Before we proceed, let's plot the distribution of each of these properties to get a better sense of our PROTAC dataset."
      ]
    },
    {
      "cell_type": "code",
      "execution_count": null,
      "metadata": {
        "colab": {
          "base_uri": "https://localhost:8080/"
        },
        "id": "MXs5N5o9PzWs",
        "outputId": "f03900d9-df87-4c1e-bbec-f919e2e35c67"
      },
      "outputs": [
        {
          "data": {
            "text/plain": [
              "Index(['Compound ID', 'Uniprot', 'Target', 'E3 ligase', 'PDB', 'Name',\n",
              "       'Smiles', 'DC50 (nM)', 'Dmax (%)', 'Assay (DC50/Dmax)',\n",
              "       'Percent degradation (%)', 'Assay (Percent degradation)',\n",
              "       'IC50 (nM, Protac to Target)', 'Assay (Protac to Target, IC50)',\n",
              "       'EC50 (nM, Protac to Target)', 'Assay (Protac to Target, EC50)',\n",
              "       'Kd (nM, Protac to Target)', 'Assay (Protac to Target, Kd)',\n",
              "       'Ki (nM, Protac to Target)', 'Assay (Protac to Target, Ki)',\n",
              "       'delta G (kcal/mol, Protac to Target)',\n",
              "       'delta H (kcal/mol, Protac to Target)',\n",
              "       '-T*delta S (kcal/mol, Protac to Target)',\n",
              "       'Assay (Protac to Target, G/H/-TS)', 'kon (1/Ms, Protac to Target)',\n",
              "       'koff (1/s, Protac to Target)', 't1/2 (s, Protac to Target)',\n",
              "       'Assay (Protac to Target, kon/koff/t1/2)', 'IC50 (nM, Protac to E3)',\n",
              "       'Assay (Protac to E3, IC50)', 'EC50 (nM, Protac to E3)',\n",
              "       'Assay (Protac to E3, EC50)', 'Kd (nM, Protac to E3)',\n",
              "       'Assay (Protac to E3, Kd)', 'Ki (nM, Protac to E3)',\n",
              "       'Assay (Protac to E3, Ki)', 'delta G (kcal/mol, Protac to E3)',\n",
              "       'delta H (kcal/mol, Protac to E3)',\n",
              "       '-T*delta S (kcal/mol, Protac to E3)', 'Assay (Protac to E3, G/H/-TS)',\n",
              "       'kon (1/Ms, Protac to E3)', 'koff (1/s, Protac to E3)',\n",
              "       't1/2 (s, Protac to E3)', 'Assay (Protac to E3, kon/koff/t1/2)',\n",
              "       'IC50 (nM, Ternary complex)', 'Assay (Ternary complex, IC50)',\n",
              "       'EC50 (nM, Ternary complex)', 'Assay (Ternary complex, EC50)',\n",
              "       'Kd (nM, Ternary complex)', 'Assay (Ternary complex, Kd)',\n",
              "       'Ki (nM, Ternary complex)', 'Assay (Ternary complex, Ki)',\n",
              "       'delta G (kcal/mol, Ternary complex)',\n",
              "       'delta H (kcal/mol, Ternary complex)',\n",
              "       '-T*delta S (kcal/mol, Ternary complex)',\n",
              "       'Assay (Ternary complex, G/H/-TS)', 'kon (1/Ms, Ternary complex)',\n",
              "       'koff (1/s, Ternary complex)', 't1/2 (s, Ternary complex)',\n",
              "       'Assay (Ternary complex, kon/koff/t1/2)',\n",
              "       'IC50 (nM, Cellular activities)', 'Assay (Cellular activities, IC50)',\n",
              "       'EC50 (nM, Cellular activities)', 'Assay (Cellular activities, EC50)',\n",
              "       'GI50 (nM, Cellular activities)', 'Assay (Cellular activities, GI50)',\n",
              "       'ED50 (nM, Cellular activities)', 'Assay (Cellular activities, ED50)',\n",
              "       'GR50 (nM, Cellular activities)', 'Assay (Cellular activities, GR50)',\n",
              "       'PAMPA Papp (nm/s, Permeability)', 'Assay (Permeability, PAMPA Papp)',\n",
              "       'Caco-2 A2B Papp (nm/s, Permeability)',\n",
              "       'Assay (Permeability, Caco-2 A2B Papp)',\n",
              "       'Caco-2 B2A Papp (nm/s, Permeability)',\n",
              "       'Assay (Permeability, Caco-2 B2A Papp)', 'Article DOI',\n",
              "       'Molecular Weight', 'Exact Mass', 'XLogP3', 'Heavy Atom Count',\n",
              "       'Ring Count', 'Hydrogen Bond Acceptor Count',\n",
              "       'Hydrogen Bond Donor Count', 'Rotatable Bond Count',\n",
              "       'Topological Polar Surface Area', 'Molecular Formula', 'InChI',\n",
              "       'InChI Key'],\n",
              "      dtype='object')"
            ]
          },
          "execution_count": 6,
          "metadata": {},
          "output_type": "execute_result"
        }
      ],
      "source": [
        "protac_db.columns"
      ]
    },
    {
      "cell_type": "code",
      "execution_count": null,
      "metadata": {
        "colab": {
          "base_uri": "https://localhost:8080/",
          "height": 490
        },
        "id": "UQrhHQVvg5im",
        "outputId": "881d147f-07a2-4d81-ce7e-2d124cec403a"
      },
      "outputs": [
        {
          "data": {
            "text/plain": [
              "[]"
            ]
          },
          "execution_count": 42,
          "metadata": {},
          "output_type": "execute_result"
        },
        {
          "data": {
            "image/png": "[encoded data removed]",
            "text/plain": [
              "<Figure size 640x480 with 1 Axes>"
            ]
          },
          "metadata": {},
          "output_type": "display_data"
        }
      ],
      "source": [
        "delta_G = protac_db['delta G (kcal/mol, Protac to E3)']\n",
        "delta_G = delta_G.dropna()\n",
        "delta_G = delta_G.astype(float)\n",
        "plt.hist(delta_G, bins=10)\n",
        "plt.xlabel('ΔG (kcal/mol)')\n",
        "plt.ylabel('Frequency')\n",
        "plt.title(f'Distribution of ΔG across PROTAC molecules')\n",
        "plt.plot()"
      ]
    },
    {
      "cell_type": "markdown",
      "metadata": {
        "id": "qLgrcWwxrO8k"
      },
      "source": [
        "There does not appear to be a lot of information on the spontaneity of PROTAC reactions but it is worth noting that the ones with recorded ΔGs appear energetically favorable, as expected."
      ]
    },
    {
      "cell_type": "code",
      "execution_count": null,
      "metadata": {
        "colab": {
          "base_uri": "https://localhost:8080/",
          "height": 490
        },
        "id": "0ingXOVd_H0-",
        "outputId": "53a120a0-27f9-43d5-d7b3-9ef09969feff"
      },
      "outputs": [
        {
          "data": {
            "text/plain": [
              "[]"
            ]
          },
          "execution_count": 50,
          "metadata": {},
          "output_type": "execute_result"
        },
        {
          "data": {
            "image/png": "[encoded data removed]",
            "text/plain": [
              "<Figure size 640x480 with 1 Axes>"
            ]
          },
          "metadata": {},
          "output_type": "display_data"
        }
      ],
      "source": [
        "kd_data = protac_db['Kd (nM, Ternary complex)']\n",
        "kd_data = kd_data.dropna()\n",
        "kd_data = kd_data[~kd_data.str.contains('/')]\n",
        "kd_data = kd_data.astype(float)\n",
        "plt.hist(kd_data)\n",
        "plt.xlabel('Dissociation constant (nM)')\n",
        "plt.ylabel('Frequency')\n",
        "plt.title('Distribution of Kd values across PROTAC molecules')\n",
        "plt.plot()"
      ]
    },
    {
      "cell_type": "markdown",
      "metadata": {
        "id": "53a_41zHsyzh"
      },
      "source": [
        "Similar to ΔG values, there does not appear to be a lot of information on the affinity of formed PROTAC complexes. However, we do see that a number of them have low, favorable $K_d$ values indicating that the PROTAC linker can form a strong connection with the E3 ligase and target protein."
      ]
    },
    {
      "cell_type": "code",
      "execution_count": null,
      "metadata": {
        "colab": {
          "base_uri": "https://localhost:8080/",
          "height": 490
        },
        "id": "uLSXiosgBaQr",
        "outputId": "0fc9d1a1-c224-4f31-a1f2-70cef6892bc4"
      },
      "outputs": [
        {
          "data": {
            "text/plain": [
              "[]"
            ]
          },
          "execution_count": 8,
          "metadata": {},
          "output_type": "execute_result"
        },
        {
          "data": {
            "image/png": "[encoded data removed]",
            "text/plain": [
              "<Figure size 640x480 with 1 Axes>"
            ]
          },
          "metadata": {},
          "output_type": "display_data"
        }
      ],
      "source": [
        "plt.hist(protac_db['XLogP3'])\n",
        "plt.xlabel('XLogP3 Values')\n",
        "plt.ylabel('Frequency')\n",
        "plt.title('Distribution of XLogP3 values across PROTAC molecules')\n",
        "plt.plot()"
      ]
    },
    {
      "cell_type": "markdown",
      "metadata": {
        "id": "1Pi3J8LFtdfw"
      },
      "source": [
        "All PROTAC compounds have a recorded XLogP3 value. Recall that XLogP3 estimates a compound's liphophilicity, giving insight into how a compound may behave in biological systems. The distribution looks normally distributed with few molecules with extreme logP profiles.  "
      ]
    },
    {
      "cell_type": "markdown",
      "metadata": {
        "id": "9ZfXNwTbCiO7"
      },
      "source": [
        "Now, let's take a look at the PROTAC degradation properties. \"DC50 (nM)\" and \"Dmax (%)\"  represent the half maximal degradation concentration and maximal degradation of the target protein of interest, respectively. Let's take a quick look at their distributions."
      ]
    },
    {
      "cell_type": "markdown",
      "metadata": {
        "id": "KnlvRC0RvuWj"
      },
      "source": [
        "Let's first do some data cleaning"
      ]
    },
    {
      "cell_type": "code",
      "execution_count": 5,
      "metadata": {
        "id": "Nqy8Gz2TkKJi"
      },
      "outputs": [],
      "source": [
        "# Let's first drop all the NaN values\n",
        "raw_dc50 = protac_db['DC50 (nM)']\n",
        "raw_dc50 = raw_dc50.dropna()"
      ]
    },
    {
      "cell_type": "markdown",
      "metadata": {
        "id": "Dux-7AKyvzbF"
      },
      "source": [
        "Notice that the values are all in string format with non-numerical characters such as '<', '/', and '>'. For the time being, let's remove these values."
      ]
    },
    {
      "cell_type": "code",
      "execution_count": 6,
      "metadata": {
        "id": "6ivb0CpjvzED"
      },
      "outputs": [],
      "source": [
        "raw_dc50 = raw_dc50[~raw_dc50.str.contains('<|>|/|~|-')]\n",
        "raw_dc50 = raw_dc50.astype(float)"
      ]
    },
    {
      "cell_type": "code",
      "execution_count": null,
      "metadata": {
        "colab": {
          "base_uri": "https://localhost:8080/",
          "height": 490
        },
        "id": "5v30RIBAvbw9",
        "outputId": "354b3189-3fdc-4e24-9fda-e1d3252f3625"
      },
      "outputs": [
        {
          "data": {
            "text/plain": [
              "[]"
            ]
          },
          "execution_count": 7,
          "metadata": {},
          "output_type": "execute_result"
        },
        {
          "data": {
            "image/png": "[encoded data removed]",
            "text/plain": [
              "<Figure size 640x480 with 1 Axes>"
            ]
          },
          "metadata": {},
          "output_type": "display_data"
        }
      ],
      "source": [
        "plt.boxplot(raw_dc50.values)\n",
        "plt.xlabel('PROTACs')\n",
        "plt.ylabel('DC50 (nM)')\n",
        "plt.title('DC50 for all PROTACs')\n",
        "plt.plot()"
      ]
    },
    {
      "cell_type": "markdown",
      "metadata": {
        "id": "2JON2ICSyaYe"
      },
      "source": [
        "The distribution is certainly skewed and has a few outliers. Let's log normalize."
      ]
    },
    {
      "cell_type": "code",
      "execution_count": 7,
      "metadata": {
        "id": "7ZwuZjSLvWuJ"
      },
      "outputs": [],
      "source": [
        "lognorm_dc50 = np.log(raw_dc50)"
      ]
    },
    {
      "cell_type": "code",
      "execution_count": 8,
      "metadata": {
        "colab": {
          "base_uri": "https://localhost:8080/",
          "height": 490
        },
        "id": "zP3NeH01yw3X",
        "outputId": "9fbe1ef4-9947-4a92-afe3-1e484af01abe"
      },
      "outputs": [
        {
          "data": {
            "text/plain": [
              "[]"
            ]
          },
          "execution_count": 8,
          "metadata": {},
          "output_type": "execute_result"
        },
        {
          "data": {
            "image/png": "[encoded data removed]",
            "text/plain": [
              "<Figure size 640x480 with 1 Axes>"
            ]
          },
          "metadata": {},
          "output_type": "display_data"
        }
      ],
      "source": [
        "plt.hist(lognorm_dc50, bins=15)\n",
        "plt.xlabel('Log normalized DC50 values (log nM)')\n",
        "plt.ylabel('Frequency')\n",
        "plt.title('Distribution of log normalized DC50 values')\n",
        "plt.plot()"
      ]
    },
    {
      "cell_type": "markdown",
      "metadata": {
        "id": "Tk9niYXoVvNg"
      },
      "source": [
        "Now, let's take a look at Dmax."
      ]
    },
    {
      "cell_type": "code",
      "execution_count": null,
      "metadata": {
        "id": "3LlETiauDiR0"
      },
      "outputs": [],
      "source": [
        "# Using the same row indices as our cleaned DC50 data\n",
        "dmax = protac_db.iloc[lognorm_dc50.index]['Dmax (%)']"
      ]
    },
    {
      "cell_type": "code",
      "execution_count": null,
      "metadata": {
        "id": "ShU6zSMNzo51"
      },
      "outputs": [],
      "source": [
        "# Following the same data cleaning procedure:\n",
        "dmax = dmax.dropna()\n",
        "dmax = dmax[~dmax.str.contains('<|>|/|~|-')]\n",
        "dmax = dmax.astype(float)"
      ]
    },
    {
      "cell_type": "code",
      "execution_count": null,
      "metadata": {
        "colab": {
          "base_uri": "https://localhost:8080/",
          "height": 490
        },
        "id": "pPdwTZ-l0VHS",
        "outputId": "726b2a80-f6da-46cd-b29a-1a76b45dc054"
      },
      "outputs": [
        {
          "data": {
            "text/plain": [
              "[]"
            ]
          },
          "execution_count": 65,
          "metadata": {},
          "output_type": "execute_result"
        },
        {
          "data": {
            "image/png": "[encoded data removed]",
            "text/plain": [
              "<Figure size 640x480 with 1 Axes>"
            ]
          },
          "metadata": {},
          "output_type": "display_data"
        }
      ],
      "source": [
        "plt.hist(dmax.values, bins=10)\n",
        "plt.xlabel('Dmax (%)')\n",
        "plt.ylabel('Frequency')\n",
        "plt.title('Distribution of Dmax (%)')\n",
        "plt.plot()"
      ]
    },
    {
      "cell_type": "markdown",
      "metadata": {
        "id": "Mz7g6hvQ01nq"
      },
      "source": [
        "Notice that Dmax is represented as a percentage. For now, let's continue with regressing on DC50. We are now ready to featurize!"
      ]
    },
    {
      "cell_type": "code",
      "execution_count": 9,
      "metadata": {
        "colab": {
          "base_uri": "https://localhost:8080/"
        },
        "id": "9dpPN2j-0dd0",
        "outputId": "f13deb63-a141-4a6d-dc6f-632b6c60cf6c"
      },
      "outputs": [
        {
          "name": "stdout",
          "output_type": "stream",
          "text": [
            "There are 599 PROTAC samples.\n"
          ]
        }
      ],
      "source": [
        "# Let's predict DC50 properties for the time being\n",
        "cleaned_data = protac_db.iloc[lognorm_dc50.index]\n",
        "print('There are {} PROTAC samples.'.format(cleaned_data.shape[0]))"
      ]
    },
    {
      "cell_type": "code",
      "execution_count": 10,
      "metadata": {
        "id": "jBuHIBJMBgBb"
      },
      "outputs": [],
      "source": [
        "protac_smiles = cleaned_data['Smiles']\n",
        "dc_vals = lognorm_dc50"
      ]
    },
    {
      "cell_type": "markdown",
      "metadata": {
        "id": "Mq3y74gZP182"
      },
      "source": [
        "## 3. Featurization\n",
        "\n",
        "Let's featurize using CircularFingerprint which is incorporated in DeepChem! CircularFingerprint is a common featurizer for molecules that encode local information about each atom and their neighborhood. For more information, the reader is refered to [8](#8)."
      ]
    },
    {
      "cell_type": "code",
      "execution_count": 11,
      "metadata": {
        "id": "ZLHNs-zlDGVU"
      },
      "outputs": [],
      "source": [
        "from rdkit import Chem\n",
        "featurizer = dc.feat.CircularFingerprint(radius=4, chiral=True)"
      ]
    },
    {
      "cell_type": "code",
      "execution_count": 12,
      "metadata": {
        "id": "JMeqGXB9E2tR"
      },
      "outputs": [],
      "source": [
        "features = featurizer.featurize(protac_smiles)"
      ]
    },
    {
      "cell_type": "code",
      "execution_count": 13,
      "metadata": {
        "id": "u_Dam_xS6ZaN"
      },
      "outputs": [],
      "source": [
        "# Let's initialize our dataset and perform splits\n",
        "dataset = dc.data.NumpyDataset(X = features, y = dc_vals)"
      ]
    },
    {
      "cell_type": "code",
      "execution_count": 14,
      "metadata": {
        "id": "xg4P05_E7TTJ"
      },
      "outputs": [],
      "source": [
        "splitter = dc.splits.RandomSplitter()\n",
        "train_mols, val_mols, test_mols = splitter.train_valid_test_split(dataset, seed=42)"
      ]
    },
    {
      "cell_type": "markdown",
      "metadata": {
        "id": "HzFIf0RTQNT4"
      },
      "source": [
        "## 4. Model deployment\n",
        "\n",
        "We have successfully generated our train and test datasets. Let's now create a model to hopefully predict PROTAC degradation properties!"
      ]
    },
    {
      "cell_type": "code",
      "execution_count": 15,
      "metadata": {
        "id": "Zr9XPz368tuD"
      },
      "outputs": [],
      "source": [
        "import torch\n",
        "import torch.nn as nn\n",
        "import torch.optim as optim"
      ]
    },
    {
      "cell_type": "code",
      "execution_count": 16,
      "metadata": {
        "id": "MY7Z-wmGG-6o"
      },
      "outputs": [],
      "source": [
        "class BasicPROTACModel(nn.Module):\n",
        "  def __init__(self, embedding_dim):\n",
        "    super().__init__()\n",
        "    self.fc1 = nn.Linear(embedding_dim, 256)\n",
        "    self.fc2 = nn.Linear(256, 32)\n",
        "    self.act1 = nn.ReLU()\n",
        "    self.dropout = nn.Dropout(0.2)\n",
        "    self.output = nn.Linear(32, 1)\n",
        "\n",
        "  def forward(self, x):\n",
        "    x = self.act1(self.fc1(x))\n",
        "    x = self.dropout(self.act1(self.fc2(x)))\n",
        "    output = self.output(x)\n",
        "    return output"
      ]
    },
    {
      "cell_type": "code",
      "execution_count": 17,
      "metadata": {
        "id": "LiY2DlxIH1r0"
      },
      "outputs": [],
      "source": [
        "embedding_dim = train_mols.X.shape[1]\n",
        "protac_model = BasicPROTACModel(embedding_dim)"
      ]
    },
    {
      "cell_type": "code",
      "execution_count": 18,
      "metadata": {
        "id": "hsG-76tTNRF1"
      },
      "outputs": [],
      "source": [
        "criterion = dc.models.losses.L2Loss()\n",
        "optimizer = dc.models.optimizers.Adam()"
      ]
    },
    {
      "cell_type": "markdown",
      "metadata": {
        "id": "AuUhaYURSS8A"
      },
      "source": [
        "Let's now wrap everything together to instantiate a DeepChem model! Note that due to the small sample size, a smaller batch size actually helps performance."
      ]
    },
    {
      "cell_type": "code",
      "execution_count": 19,
      "metadata": {
        "colab": {
          "base_uri": "https://localhost:8080/"
        },
        "id": "kbwL56cSSRuA",
        "outputId": "024a2581-9c58-41ef-d89b-b5193836622a"
      },
      "outputs": [
        {
          "name": "stdout",
          "output_type": "stream",
          "text": [
            "There are 532801 trainable parameters\n"
          ]
        },
        {
          "data": {
            "text/plain": [
              "BasicPROTACModel(\n",
              "  (fc1): Linear(in_features=2048, out_features=256, bias=True)\n",
              "  (fc2): Linear(in_features=256, out_features=32, bias=True)\n",
              "  (act1): ReLU()\n",
              "  (dropout): Dropout(p=0.2, inplace=False)\n",
              "  (output): Linear(in_features=32, out_features=1, bias=True)\n",
              ")"
            ]
          },
          "execution_count": 19,
          "metadata": {},
          "output_type": "execute_result"
        }
      ],
      "source": [
        "# Let's log every train epoch\n",
        "batch_size = 10\n",
        "log_freq = int(len(train_mols) / batch_size +1)\n",
        "protac_model = dc.models.torch_models.TorchModel(protac_model, loss=criterion, optimizer=optimizer, batch_size=10, log_frequency=log_freq)\n",
        "param_count = sum(p.numel() for p in protac_model.model.parameters() if p.requires_grad)\n",
        "print(\"There are {} trainable parameters\".format(param_count))\n",
        "protac_model.model"
      ]
    },
    {
      "cell_type": "markdown",
      "metadata": {
        "id": "QF4f6sQNKldg"
      },
      "source": [
        "Let's define the validation function to prevent overfitting."
      ]
    },
    {
      "cell_type": "code",
      "execution_count": 20,
      "metadata": {
        "id": "llgY1tMVS7NU"
      },
      "outputs": [],
      "source": [
        "train_losses = []\n",
        "val_losses = []\n",
        "metric = [dc.metrics.Metric(dc.metrics.mean_squared_error)]\n",
        "\n",
        "n_epochs=100\n",
        "for i in range(n_epochs):\n",
        "  protac_model.fit(train_mols, nb_epoch=1, all_losses=train_losses)\n",
        "\n",
        "  # Validate on every other epoch\n",
        "  if i % 2 == 0:\n",
        "    loss = protac_model.evaluate(val_mols, metrics=metric)\n",
        "    val_losses.append(loss['mean_squared_error'])"
      ]
    },
    {
      "cell_type": "markdown",
      "metadata": {
        "id": "YLxgD85lVd34"
      },
      "source": [
        "We can easily look at how the training went through plotting the recorded losses."
      ]
    },
    {
      "cell_type": "code",
      "execution_count": 21,
      "metadata": {
        "colab": {
          "base_uri": "https://localhost:8080/",
          "height": 490
        },
        "id": "wEUO8Ba5VdkD",
        "outputId": "6ba949b8-3d4d-46de-8ff4-1dbef8ac5a3b"
      },
      "outputs": [
        {
          "data": {
            "text/plain": [
              "[]"
            ]
          },
          "execution_count": 21,
          "metadata": {},
          "output_type": "execute_result"
        },
        {
          "data": {
            "image/png": "[encoded data removed]",
            "text/plain": [
              "<Figure size 640x480 with 1 Axes>"
            ]
          },
          "metadata": {},
          "output_type": "display_data"
        }
      ],
      "source": [
        "train_steps = [(i+1)*log_freq for i in range(len(train_losses))]\n",
        "val_steps = [(i+1)*(log_freq*2) for i in range(len(val_losses))]\n",
        "plt.plot(train_steps, train_losses, label='Train loss')\n",
        "plt.plot(val_steps, val_losses, label='Val loss')\n",
        "plt.legend()\n",
        "plt.xlabel('Frequency of Steps')\n",
        "plt.ylabel('Loss')\n",
        "plt.title('Loss across train and validation')\n",
        "plt.plot()"
      ]
    },
    {
      "cell_type": "markdown",
      "metadata": {
        "id": "O-fAPN1Xko1i"
      },
      "source": [
        "Let's now perform some inference on our test set to evaluate our model!"
      ]
    },
    {
      "cell_type": "code",
      "execution_count": 22,
      "metadata": {
        "id": "zeQJaQzQYK28"
      },
      "outputs": [],
      "source": [
        "metrics = [dc.metrics.Metric(dc.metrics.mean_squared_error), dc.metrics.Metric(dc.metrics.pearsonr), dc.metrics.Metric(dc.metrics.pearson_r2_score)]\n",
        "eval_metrics = protac_model.evaluate(test_mols, metrics)\n",
        "preds = protac_model.predict(test_mols)"
      ]
    },
    {
      "cell_type": "code",
      "execution_count": 23,
      "metadata": {
        "colab": {
          "base_uri": "https://localhost:8080/"
        },
        "id": "_hWgS67TbTik",
        "outputId": "be1b1feb-e6fb-42f0-be3e-ef3421cf15d7"
      },
      "outputs": [
        {
          "name": "stdout",
          "output_type": "stream",
          "text": [
            "mean_squared_error: 3.5668503292586937\n",
            "pearsonr: 0.8141917011032652\n",
            "pearson_r2_score: 0.6629081261454288\n"
          ]
        }
      ],
      "source": [
        "for k, v in eval_metrics.items():\n",
        "  print('{}: {}'.format(k, v))"
      ]
    },
    {
      "cell_type": "code",
      "execution_count": 29,
      "metadata": {
        "colab": {
          "base_uri": "https://localhost:8080/",
          "height": 610
        },
        "id": "Fts5bKqFa-5A",
        "outputId": "61618078-d5fa-4188-9113-c9c1ce5d3450"
      },
      "outputs": [
        {
          "data": {
            "image/png": "[encoded data removed]",
            "text/plain": [
              "<Figure size 600x600 with 3 Axes>"
            ]
          },
          "metadata": {},
          "output_type": "display_data"
        }
      ],
      "source": [
        "import seaborn as sns\n",
        "preds_and_labels = np.concatenate((test_mols.y.reshape(60, 1), preds), axis=1)\n",
        "pred_df = pd.DataFrame(preds_and_labels, columns=['Actual log DC50 values', 'Predicted log DC50 values'])\n",
        "sns.jointplot(pred_df, x='Predicted log DC50 values', y='Actual log DC50 values')\n",
        "plt.annotate(f\"R: {eval_metrics['pearsonr']:.2f}\\nR²: {eval_metrics['pearson_r2_score']:.2f}\",\n",
        "             xy=(0.05, 0.95),\n",
        "             xycoords='axes fraction',\n",
        "             ha='left',\n",
        "             va='top',\n",
        "             fontsize=12,\n",
        "             bbox=dict(boxstyle='round,pad=0.5', edgecolor='black', facecolor='white'))\n",
        "# Set the title\n",
        "plt.suptitle('Predicted vs Actual log DC50 Values')\n",
        "\n",
        "# Adjust the position of the title to avoid overlap with the plot\n",
        "plt.tight_layout()\n",
        "plt.show()"
      ]
    },
    {
      "cell_type": "markdown",
      "metadata": {
        "id": "9QukfAL4UAzk"
      },
      "source": [
        "## 5. References\n",
        "\n",
        "<a name=\"1\"></a> [1] Kelm, J.M., Pandey, D.S., Malin, E. et al. PROTAC’ing oncoproteins: targeted protein degradation for cancer therapy. Mol Cancer 22, 62 (2023). https://doi.org/10.1186/s12943-022-01707-5\n",
        "\n",
        "<a name=\"2\"></a> [2] Tu, Y., Chen, C., Pan, J., Xu, J., Zhou, Z. G., & Wang, C. Y. The Ubiquitin Proteasome Pathway (UPP) in the regulation of cell cycle control and DNA damage repair and its implication in tumorigenesis. International journal of clinical and experimental pathology 5, 8 (2012).\n",
        "\n",
        "<a name=\"3\"></a> [3] Sun, X., Gao, H., Yang, Y. et al. PROTACs: great opportunities for academia and industry. Sig Transduct Target Ther 4, 64 (2019). https://doi.org/10.1038/s41392-019-0101-6\n",
        "\n",
        "<a name=\"4\"></a> [4] Che Y, Gilbert AM, Shanmugasundaram V, Noe MC. Inducing protein-protein interactions with molecular glues. Bioorg Med Chem Lett 28, 15 (2018). https://doi.org/10.1016/j.bmcl.2018.04.046.\n",
        "\n",
        "<a name=\"5\"></a> [5] Békés, M., Langley, D.R. & Crews, C.M. PROTAC targeted protein degraders: the past is prologue. Nat Rev Drug Discov 21, 181–200 (2022). https://doi.org/10.1038/s41573-021-00371-6\n",
        "\n",
        "<a name=\"6\"></a> [6] Liu, Z., Hu, M., Yang, Y. et al. An overview of PROTACs: a promising drug discovery paradigm. Mol Biomed 3, 46 (2022). https://doi.org/10.1186/s43556-022-00112-0\n",
        "\n",
        "<a name=\"7\"></a> [7] Gaoqi Weng, Xuanyan Cai, Dongsheng Cao, Hongyan Du, Chao Shen, Yafeng Deng, Qiaojun He, Bo Yang, Dan Li, Tingjun Hou, PROTAC-DB 2.0: an updated database of PROTACs, Nucleic Acids Research, Volume 51, Issue D1, 6 January 2023, Pages D1367–D1372, https://doi.org/10.1093/nar/gkac946\n",
        "\n",
        "<a name=\"8\"></a> [8] Glem RC, Bender A, Arnby CH, Carlsson L, Boyer S, Smith J. Circular fingerprints: flexible molecular descriptors with applications from physical chemistry to ADME. IDrugs 9, 3 (2006).\n",
        "\n"
      ]
    },
    {
      "cell_type": "markdown",
      "metadata": {
        "id": "GdF6Huajfai_"
      },
      "source": [
        "# **Congratulations! Time to join the Community!**"
      ]
    },
    {
      "cell_type": "markdown",
      "metadata": {
        "id": "EXWnqWxZfhyZ"
      },
      "source": [
        "Congratulations on completing this tutorial notebook! If you enjoyed working through the tutorial, and want to continue working with DeepChem, we encourage you to finish the rest of the tutorials in this series. You can also help the DeepChem community in the following ways:\n",
        "\n"
      ]
    },
    {
      "cell_type": "markdown",
      "metadata": {
        "id": "jLpv63D2fjNA"
      },
      "source": [
        "## Star DeepChem on [GitHub](https://github.com/deepchem/deepchem)\n",
        "\n",
        "This helps build awareness of the DeepChem project and the tools for open source drug discovery that we're trying to build."
      ]
    },
    {
      "cell_type": "markdown",
      "metadata": {
        "id": "12kjqoz9TUVr"
      },
      "source": [
        "## Join the DeepChem Discord\n",
        "\n",
        "The DeepChem [Discord](https://discord.gg/7yKPrJjR3T) hosts a number of scientists, developers, and enthusiasts interested in deep learning for the life sciences. Join the conversation!"
      ]
    }
  ],
  "metadata": {
    "accelerator": "GPU",
    "colab": {
      "gpuType": "T4",
      "provenance": []
    },
    "kernelspec": {
      "display_name": "Python 3",
      "name": "python3"
    },
    "language_info": {
      "name": "python"
    }
  },
  "nbformat": 4,
  "nbformat_minor": 0
}
