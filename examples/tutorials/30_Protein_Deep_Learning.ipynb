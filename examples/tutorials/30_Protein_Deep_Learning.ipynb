{
 "cells": [
  {
   "cell_type": "markdown",
   "id": "5abff612",
   "metadata": {},
   "source": [
    "# Tutorial 30: Protein Deep Learning \n",
    "by David Ricardo Figueroa Blanco"
   ]
  },
  {
   "cell_type": "markdown",
   "id": "fd79243d",
   "metadata": {},
   "source": [
    "In this tutorial we will  compare  protein sequences featurization  such as one hot encoders and aminoacids composition. We will use some tools of DeepChem and additional packages to create a model to predict melting temperature of proteins ( a good measurement of protein stability )    \n",
    "   \n",
    "The melting temperature (MT) of a protein is a measurement of protein stability. This measure could vary from a big variety of experimental conditions, however, curated databases cand be found in literature https://aip.scitation.org/doi/10.1063/1.4947493. In this paper we can find a lot of thermodynamic information of proteins and therefore a big resource for the study of protein stability. Other information related with protein stability could be the change in Gibbs Free Energy $ \\Delta \\Delta G°$ due to a mutation. \n",
    "\n",
    "The study of protein stability is important in areas such as protein engineering and biocatalysis because catalytic efficiency could be directly related to the tertiary structure of the protein in study."
   ]
  },
  {
   "cell_type": "markdown",
   "id": "e6c010d5",
   "metadata": {},
   "source": [
    "# Setup\n",
    "To run DeepChem within Colab, you'll need to run the following installation commands. This will take about 5 minutes to run to completion and install your environment. You can of course run this tutorial locally if you prefer. In that case, don't run these cells since they will download and install Anaconda on your local machine."
   ]
  },
  {
   "cell_type": "code",
   "execution_count": null,
   "id": "ff505f10",
   "metadata": {},
   "outputs": [],
   "source": [
    "!curl -Lo conda_installer.py https://raw.githubusercontent.com/deepchem/deepchem/master/scripts/colab_install.py\n",
    "import conda_installer\n",
    "conda_installer.install()\n",
    "!/root/miniconda/bin/conda info -e"
   ]
  },
  {
   "cell_type": "code",
   "execution_count": null,
   "id": "d0172a1b",
   "metadata": {},
   "outputs": [],
   "source": [
    "!pip install --pre deepchem\n",
    "!pip install propy3 "
   ]
  },
  {
   "cell_type": "markdown",
   "id": "e7319acc",
   "metadata": {},
   "source": [
    "# Data extraction"
   ]
  },
  {
   "cell_type": "markdown",
   "id": "f395dad9-8d2a-4138-a4f7-29e3bf0b0858",
   "metadata": {},
   "source": [
    "In this cell, we download the dataset published in the paper https://aip.scitation.org/doi/10.1063/1.4947493 from the DeepChem dataset repository"
   ]
  },
  {
   "cell_type": "code",
   "execution_count": 1,
   "id": "7cf5d372",
   "metadata": {},
   "outputs": [
    {
     "name": "stdout",
     "output_type": "stream",
     "text": [
      "Dataset Dowloaded at /tmp\n"
     ]
    }
   ],
   "source": [
    "import deepchem as dc \n",
    "import os \n",
    "from deepchem.utils import download_url\n",
    "data_dir = dc.utils.get_data_dir()\n",
    "download_url(\"https://deepchemdata.s3-us-west-1.amazonaws.com/datasets/pucci-proteins-appendixtable1.csv\",dest_dir=data_dir)\n",
    "print('Dataset Dowloaded at {}'.format(data_dir))\n",
    "dataset_file = os.path.join(data_dir, \"pucci-proteins-appendixtable1.csv\")"
   ]
  },
  {
   "cell_type": "markdown",
   "id": "0c537372-025a-4b56-a468-66b1c66b4fa9",
   "metadata": {},
   "source": [
    "A closer look of the dataset: Contains the PDBid and the respective mutation and change in thermodynamical properties in each studied protein"
   ]
  },
  {
   "cell_type": "code",
   "execution_count": 2,
   "id": "ae7c2084",
   "metadata": {},
   "outputs": [
    {
     "data": {
      "text/html": [
       "<div>\n",
       "<style scoped>\n",
       "    .dataframe tbody tr th:only-of-type {\n",
       "        vertical-align: middle;\n",
       "    }\n",
       "\n",
       "    .dataframe tbody tr th {\n",
       "        vertical-align: top;\n",
       "    }\n",
       "\n",
       "    .dataframe thead th {\n",
       "        text-align: right;\n",
       "    }\n",
       "</style>\n",
       "<table border=\"1\" class=\"dataframe\">\n",
       "  <thead>\n",
       "    <tr style=\"text-align: right;\">\n",
       "      <th></th>\n",
       "      <th>Unnamed: 0</th>\n",
       "      <th>N</th>\n",
       "      <th>PDBid</th>\n",
       "      <th>Chain</th>\n",
       "      <th>RESN</th>\n",
       "      <th>RESwt</th>\n",
       "      <th>RESmut</th>\n",
       "      <th>ΔTmexp</th>\n",
       "      <th>Tmexp [wt]</th>\n",
       "      <th>ΔΔHmexp</th>\n",
       "      <th>...</th>\n",
       "      <th>ΔΔGexp(T)</th>\n",
       "      <th>T</th>\n",
       "      <th>Nres</th>\n",
       "      <th>R (Å)</th>\n",
       "      <th>Protein</th>\n",
       "      <th>Organism</th>\n",
       "      <th>Ref.</th>\n",
       "      <th>pH</th>\n",
       "      <th>Exp.Tech.</th>\n",
       "      <th></th>\n",
       "    </tr>\n",
       "  </thead>\n",
       "  <tbody>\n",
       "    <tr>\n",
       "      <th>0</th>\n",
       "      <td>NaN</td>\n",
       "      <td>1</td>\n",
       "      <td>1aky</td>\n",
       "      <td>A</td>\n",
       "      <td>8</td>\n",
       "      <td>VAL</td>\n",
       "      <td>ILE</td>\n",
       "      <td>-1.5</td>\n",
       "      <td>47.6</td>\n",
       "      <td>70</td>\n",
       "      <td>...</td>\n",
       "      <td>5.0</td>\n",
       "      <td>25</td>\n",
       "      <td>220</td>\n",
       "      <td>1.63</td>\n",
       "      <td>ADK</td>\n",
       "      <td>Yeast</td>\n",
       "      <td>[1]</td>\n",
       "      <td>[7.5]</td>\n",
       "      <td>FL</td>\n",
       "      <td>NaN</td>\n",
       "    </tr>\n",
       "    <tr>\n",
       "      <th>1</th>\n",
       "      <td>NaN</td>\n",
       "      <td>2</td>\n",
       "      <td>1aky</td>\n",
       "      <td>A</td>\n",
       "      <td>48</td>\n",
       "      <td>GLN</td>\n",
       "      <td>GLU</td>\n",
       "      <td>-1.3</td>\n",
       "      <td>47.6</td>\n",
       "      <td>60</td>\n",
       "      <td>...</td>\n",
       "      <td>4.0</td>\n",
       "      <td>25</td>\n",
       "      <td>220</td>\n",
       "      <td>1.63</td>\n",
       "      <td>ADK</td>\n",
       "      <td>Yeast</td>\n",
       "      <td>[1]</td>\n",
       "      <td>[7.7]</td>\n",
       "      <td>FL</td>\n",
       "      <td>NaN</td>\n",
       "    </tr>\n",
       "    <tr>\n",
       "      <th>2</th>\n",
       "      <td>NaN</td>\n",
       "      <td>3</td>\n",
       "      <td>1aky</td>\n",
       "      <td>A</td>\n",
       "      <td>77</td>\n",
       "      <td>THR</td>\n",
       "      <td>HIS</td>\n",
       "      <td>-1.1</td>\n",
       "      <td>47.6</td>\n",
       "      <td>130</td>\n",
       "      <td>...</td>\n",
       "      <td>9.0</td>\n",
       "      <td>25</td>\n",
       "      <td>220</td>\n",
       "      <td>1.63</td>\n",
       "      <td>ADK</td>\n",
       "      <td>Yeast</td>\n",
       "      <td>[1]</td>\n",
       "      <td>[7.5]</td>\n",
       "      <td>FL</td>\n",
       "      <td>NaN</td>\n",
       "    </tr>\n",
       "    <tr>\n",
       "      <th>3</th>\n",
       "      <td>NaN</td>\n",
       "      <td>4</td>\n",
       "      <td>1aky</td>\n",
       "      <td>A</td>\n",
       "      <td>110</td>\n",
       "      <td>THR</td>\n",
       "      <td>HIS</td>\n",
       "      <td>-4.8</td>\n",
       "      <td>47.6</td>\n",
       "      <td>165</td>\n",
       "      <td>...</td>\n",
       "      <td>11.0</td>\n",
       "      <td>25</td>\n",
       "      <td>220</td>\n",
       "      <td>1.63</td>\n",
       "      <td>ADK</td>\n",
       "      <td>Yeast</td>\n",
       "      <td>[1]</td>\n",
       "      <td>[7.6]</td>\n",
       "      <td>FL</td>\n",
       "      <td>NaN</td>\n",
       "    </tr>\n",
       "    <tr>\n",
       "      <th>4</th>\n",
       "      <td>NaN</td>\n",
       "      <td>5</td>\n",
       "      <td>1aky</td>\n",
       "      <td>A</td>\n",
       "      <td>169</td>\n",
       "      <td>ASN</td>\n",
       "      <td>ASP</td>\n",
       "      <td>-0.6</td>\n",
       "      <td>47.6</td>\n",
       "      <td>140</td>\n",
       "      <td>...</td>\n",
       "      <td>9.0</td>\n",
       "      <td>25</td>\n",
       "      <td>220</td>\n",
       "      <td>1.63</td>\n",
       "      <td>ADK</td>\n",
       "      <td>Yeast</td>\n",
       "      <td>[1]</td>\n",
       "      <td>[7.5]</td>\n",
       "      <td>FL</td>\n",
       "      <td>NaN</td>\n",
       "    </tr>\n",
       "    <tr>\n",
       "      <th>...</th>\n",
       "      <td>...</td>\n",
       "      <td>...</td>\n",
       "      <td>...</td>\n",
       "      <td>...</td>\n",
       "      <td>...</td>\n",
       "      <td>...</td>\n",
       "      <td>...</td>\n",
       "      <td>...</td>\n",
       "      <td>...</td>\n",
       "      <td>...</td>\n",
       "      <td>...</td>\n",
       "      <td>...</td>\n",
       "      <td>...</td>\n",
       "      <td>...</td>\n",
       "      <td>...</td>\n",
       "      <td>...</td>\n",
       "      <td>...</td>\n",
       "      <td>...</td>\n",
       "      <td>...</td>\n",
       "      <td>...</td>\n",
       "      <td>...</td>\n",
       "    </tr>\n",
       "    <tr>\n",
       "      <th>1621</th>\n",
       "      <td>NaN</td>\n",
       "      <td>1622</td>\n",
       "      <td>5pti_m52l</td>\n",
       "      <td>A</td>\n",
       "      <td>15</td>\n",
       "      <td>LYS</td>\n",
       "      <td>SER</td>\n",
       "      <td>-1.3</td>\n",
       "      <td>91.7</td>\n",
       "      <td>-5</td>\n",
       "      <td>...</td>\n",
       "      <td>1.2</td>\n",
       "      <td>25</td>\n",
       "      <td>58</td>\n",
       "      <td>1.00</td>\n",
       "      <td>PTI M52L</td>\n",
       "      <td>Bovine</td>\n",
       "      <td>[232]</td>\n",
       "      <td>[3.0]</td>\n",
       "      <td>DSC</td>\n",
       "      <td>NaN</td>\n",
       "    </tr>\n",
       "    <tr>\n",
       "      <th>1622</th>\n",
       "      <td>NaN</td>\n",
       "      <td>1623</td>\n",
       "      <td>5pti_m52l</td>\n",
       "      <td>A</td>\n",
       "      <td>15</td>\n",
       "      <td>LYS</td>\n",
       "      <td>THR</td>\n",
       "      <td>-1.1</td>\n",
       "      <td>91.7</td>\n",
       "      <td>-9</td>\n",
       "      <td>...</td>\n",
       "      <td>-3.6</td>\n",
       "      <td>25</td>\n",
       "      <td>58</td>\n",
       "      <td>1.00</td>\n",
       "      <td>PTI M52L</td>\n",
       "      <td>Bovine</td>\n",
       "      <td>[232]</td>\n",
       "      <td>[3.0]</td>\n",
       "      <td>DSC</td>\n",
       "      <td>NaN</td>\n",
       "    </tr>\n",
       "    <tr>\n",
       "      <th>1623</th>\n",
       "      <td>NaN</td>\n",
       "      <td>1624</td>\n",
       "      <td>5pti_m52l</td>\n",
       "      <td>A</td>\n",
       "      <td>15</td>\n",
       "      <td>LYS</td>\n",
       "      <td>VAL</td>\n",
       "      <td>-6.3</td>\n",
       "      <td>91.7</td>\n",
       "      <td>4</td>\n",
       "      <td>...</td>\n",
       "      <td>4.7</td>\n",
       "      <td>25</td>\n",
       "      <td>58</td>\n",
       "      <td>1.00</td>\n",
       "      <td>PTI M52L</td>\n",
       "      <td>Bovine</td>\n",
       "      <td>[232]</td>\n",
       "      <td>[3.0]</td>\n",
       "      <td>DSC</td>\n",
       "      <td>NaN</td>\n",
       "    </tr>\n",
       "    <tr>\n",
       "      <th>1624</th>\n",
       "      <td>NaN</td>\n",
       "      <td>1625</td>\n",
       "      <td>5pti_m52l</td>\n",
       "      <td>A</td>\n",
       "      <td>15</td>\n",
       "      <td>LYS</td>\n",
       "      <td>TRP</td>\n",
       "      <td>-7.5</td>\n",
       "      <td>91.7</td>\n",
       "      <td>17</td>\n",
       "      <td>...</td>\n",
       "      <td>8.5</td>\n",
       "      <td>25</td>\n",
       "      <td>58</td>\n",
       "      <td>1.00</td>\n",
       "      <td>PTI M52L</td>\n",
       "      <td>Bovine</td>\n",
       "      <td>[232]</td>\n",
       "      <td>[2.5]</td>\n",
       "      <td>DSC</td>\n",
       "      <td>NaN</td>\n",
       "    </tr>\n",
       "    <tr>\n",
       "      <th>1625</th>\n",
       "      <td>NaN</td>\n",
       "      <td>1626</td>\n",
       "      <td>5pti_m52l</td>\n",
       "      <td>A</td>\n",
       "      <td>15</td>\n",
       "      <td>LYS</td>\n",
       "      <td>TYR</td>\n",
       "      <td>-6.6</td>\n",
       "      <td>91.7</td>\n",
       "      <td>4</td>\n",
       "      <td>...</td>\n",
       "      <td>4.6</td>\n",
       "      <td>25</td>\n",
       "      <td>58</td>\n",
       "      <td>1.00</td>\n",
       "      <td>PTI M52L</td>\n",
       "      <td>Bovine</td>\n",
       "      <td>[232]</td>\n",
       "      <td>[3.0]</td>\n",
       "      <td>DSC</td>\n",
       "      <td>NaN</td>\n",
       "    </tr>\n",
       "  </tbody>\n",
       "</table>\n",
       "<p>1626 rows × 23 columns</p>\n",
       "</div>"
      ],
      "text/plain": [
       "      Unnamed: 0     N      PDBid Chain  RESN RESwt RESmut  ΔTmexp  \\\n",
       "0            NaN     1       1aky     A     8   VAL    ILE    -1.5   \n",
       "1            NaN     2       1aky     A    48   GLN    GLU    -1.3   \n",
       "2            NaN     3       1aky     A    77   THR    HIS    -1.1   \n",
       "3            NaN     4       1aky     A   110   THR    HIS    -4.8   \n",
       "4            NaN     5       1aky     A   169   ASN    ASP    -0.6   \n",
       "...          ...   ...        ...   ...   ...   ...    ...     ...   \n",
       "1621         NaN  1622  5pti_m52l     A    15   LYS    SER    -1.3   \n",
       "1622         NaN  1623  5pti_m52l     A    15   LYS    THR    -1.1   \n",
       "1623         NaN  1624  5pti_m52l     A    15   LYS    VAL    -6.3   \n",
       "1624         NaN  1625  5pti_m52l     A    15   LYS    TRP    -7.5   \n",
       "1625         NaN  1626  5pti_m52l     A    15   LYS    TYR    -6.6   \n",
       "\n",
       "      Tmexp [wt] ΔΔHmexp  ... ΔΔGexp(T)   T Nres R (Å)   Protein  Organism  \\\n",
       "0           47.6      70  ...       5.0  25  220  1.63       ADK     Yeast   \n",
       "1           47.6      60  ...       4.0  25  220  1.63       ADK     Yeast   \n",
       "2           47.6     130  ...       9.0  25  220  1.63       ADK     Yeast   \n",
       "3           47.6     165  ...      11.0  25  220  1.63       ADK     Yeast   \n",
       "4           47.6     140  ...       9.0  25  220  1.63       ADK     Yeast   \n",
       "...          ...     ...  ...       ...  ..  ...   ...       ...       ...   \n",
       "1621        91.7      -5  ...       1.2  25   58  1.00  PTI M52L    Bovine   \n",
       "1622        91.7      -9  ...      -3.6  25   58  1.00  PTI M52L    Bovine   \n",
       "1623        91.7       4  ...       4.7  25   58  1.00  PTI M52L    Bovine   \n",
       "1624        91.7      17  ...       8.5  25   58  1.00  PTI M52L    Bovine   \n",
       "1625        91.7       4  ...       4.6  25   58  1.00  PTI M52L    Bovine   \n",
       "\n",
       "       Ref.     pH Exp.Tech.      \n",
       "0       [1]  [7.5]       FL  NaN  \n",
       "1       [1]  [7.7]       FL  NaN  \n",
       "2       [1]  [7.5]       FL  NaN  \n",
       "3       [1]  [7.6]       FL  NaN  \n",
       "4       [1]  [7.5]       FL  NaN  \n",
       "...     ...    ...       ...  ..  \n",
       "1621  [232]  [3.0]       DSC NaN  \n",
       "1622  [232]  [3.0]       DSC NaN  \n",
       "1623  [232]  [3.0]       DSC NaN  \n",
       "1624  [232]  [2.5]       DSC NaN  \n",
       "1625  [232]  [3.0]       DSC NaN  \n",
       "\n",
       "[1626 rows x 23 columns]"
      ]
     },
     "execution_count": 2,
     "metadata": {},
     "output_type": "execute_result"
    }
   ],
   "source": [
    "import pandas as pd \n",
    "data = pd.read_csv(dataset_file)\n",
    "data"
   ]
  },
  {
   "cell_type": "markdown",
   "id": "47a48729",
   "metadata": {},
   "source": [
    "Here we extract a small DataFrame that only contains a unique PDBid code and its respective melting temperature"
   ]
  },
  {
   "cell_type": "code",
   "execution_count": 3,
   "id": "8593be84",
   "metadata": {},
   "outputs": [],
   "source": [
    "WT_Tm = data[['PDBid','Tmexp [wt]']]\n",
    "WT_Tm.set_index('PDBid',inplace=True)"
   ]
  },
  {
   "cell_type": "code",
   "execution_count": 4,
   "id": "c989f97c",
   "metadata": {},
   "outputs": [
    {
     "data": {
      "text/html": [
       "<div>\n",
       "<style scoped>\n",
       "    .dataframe tbody tr th:only-of-type {\n",
       "        vertical-align: middle;\n",
       "    }\n",
       "\n",
       "    .dataframe tbody tr th {\n",
       "        vertical-align: top;\n",
       "    }\n",
       "\n",
       "    .dataframe thead th {\n",
       "        text-align: right;\n",
       "    }\n",
       "</style>\n",
       "<table border=\"1\" class=\"dataframe\">\n",
       "  <thead>\n",
       "    <tr style=\"text-align: right;\">\n",
       "      <th></th>\n",
       "      <th>Tmexp [wt]</th>\n",
       "    </tr>\n",
       "    <tr>\n",
       "      <th>PDBid</th>\n",
       "      <th></th>\n",
       "    </tr>\n",
       "  </thead>\n",
       "  <tbody>\n",
       "    <tr>\n",
       "      <th>1aky</th>\n",
       "      <td>47.6</td>\n",
       "    </tr>\n",
       "    <tr>\n",
       "      <th>1aky</th>\n",
       "      <td>47.6</td>\n",
       "    </tr>\n",
       "    <tr>\n",
       "      <th>1aky</th>\n",
       "      <td>47.6</td>\n",
       "    </tr>\n",
       "    <tr>\n",
       "      <th>1aky</th>\n",
       "      <td>47.6</td>\n",
       "    </tr>\n",
       "    <tr>\n",
       "      <th>1aky</th>\n",
       "      <td>47.6</td>\n",
       "    </tr>\n",
       "    <tr>\n",
       "      <th>...</th>\n",
       "      <td>...</td>\n",
       "    </tr>\n",
       "    <tr>\n",
       "      <th>5pti_m52l</th>\n",
       "      <td>91.7</td>\n",
       "    </tr>\n",
       "    <tr>\n",
       "      <th>5pti_m52l</th>\n",
       "      <td>91.7</td>\n",
       "    </tr>\n",
       "    <tr>\n",
       "      <th>5pti_m52l</th>\n",
       "      <td>91.7</td>\n",
       "    </tr>\n",
       "    <tr>\n",
       "      <th>5pti_m52l</th>\n",
       "      <td>91.7</td>\n",
       "    </tr>\n",
       "    <tr>\n",
       "      <th>5pti_m52l</th>\n",
       "      <td>91.7</td>\n",
       "    </tr>\n",
       "  </tbody>\n",
       "</table>\n",
       "<p>1626 rows × 1 columns</p>\n",
       "</div>"
      ],
      "text/plain": [
       "           Tmexp [wt]\n",
       "PDBid                \n",
       "1aky             47.6\n",
       "1aky             47.6\n",
       "1aky             47.6\n",
       "1aky             47.6\n",
       "1aky             47.6\n",
       "...               ...\n",
       "5pti_m52l        91.7\n",
       "5pti_m52l        91.7\n",
       "5pti_m52l        91.7\n",
       "5pti_m52l        91.7\n",
       "5pti_m52l        91.7\n",
       "\n",
       "[1626 rows x 1 columns]"
      ]
     },
     "execution_count": 4,
     "metadata": {},
     "output_type": "execute_result"
    }
   ],
   "source": [
    "WT_Tm"
   ]
  },
  {
   "cell_type": "markdown",
   "id": "55742e28-7a65-42a7-bd34-7dcf28934bd2",
   "metadata": {},
   "source": [
    "Here we create a dictionary that contains as keys, the pdbid of each protein and  as values, the wild type melting temperature"
   ]
  },
  {
   "cell_type": "code",
   "execution_count": 5,
   "id": "b73148d3",
   "metadata": {
    "tags": []
   },
   "outputs": [],
   "source": [
    "dict_WT_TM = {}\n",
    "for k,v in WT_Tm.itertuples():\n",
    "    if(k not in dict_WT_TM):\n",
    "        dict_WT_TM[k]=float(v)"
   ]
  },
  {
   "cell_type": "markdown",
   "id": "e3348352",
   "metadata": {},
   "source": [
    "Here we extract proteins with mutations reported only in chain A "
   ]
  },
  {
   "cell_type": "code",
   "execution_count": 6,
   "id": "1350e304",
   "metadata": {},
   "outputs": [],
   "source": [
    "pdbs = data[data['PDBid'].str.len()<5]\n",
    "pdbs = pdbs[pdbs['Chain'] == \"A\"]"
   ]
  },
  {
   "cell_type": "code",
   "execution_count": 7,
   "id": "e9966db2",
   "metadata": {},
   "outputs": [
    {
     "data": {
      "text/html": [
       "<div>\n",
       "<style scoped>\n",
       "    .dataframe tbody tr th:only-of-type {\n",
       "        vertical-align: middle;\n",
       "    }\n",
       "\n",
       "    .dataframe tbody tr th {\n",
       "        vertical-align: top;\n",
       "    }\n",
       "\n",
       "    .dataframe thead th {\n",
       "        text-align: right;\n",
       "    }\n",
       "</style>\n",
       "<table border=\"1\" class=\"dataframe\">\n",
       "  <thead>\n",
       "    <tr style=\"text-align: right;\">\n",
       "      <th></th>\n",
       "      <th>RESN</th>\n",
       "      <th>RESwt</th>\n",
       "      <th>RESmut</th>\n",
       "    </tr>\n",
       "  </thead>\n",
       "  <tbody>\n",
       "    <tr>\n",
       "      <th>0</th>\n",
       "      <td>8</td>\n",
       "      <td>VAL</td>\n",
       "      <td>ILE</td>\n",
       "    </tr>\n",
       "    <tr>\n",
       "      <th>1</th>\n",
       "      <td>48</td>\n",
       "      <td>GLN</td>\n",
       "      <td>GLU</td>\n",
       "    </tr>\n",
       "    <tr>\n",
       "      <th>2</th>\n",
       "      <td>77</td>\n",
       "      <td>THR</td>\n",
       "      <td>HIS</td>\n",
       "    </tr>\n",
       "    <tr>\n",
       "      <th>3</th>\n",
       "      <td>110</td>\n",
       "      <td>THR</td>\n",
       "      <td>HIS</td>\n",
       "    </tr>\n",
       "    <tr>\n",
       "      <th>4</th>\n",
       "      <td>169</td>\n",
       "      <td>ASN</td>\n",
       "      <td>ASP</td>\n",
       "    </tr>\n",
       "    <tr>\n",
       "      <th>...</th>\n",
       "      <td>...</td>\n",
       "      <td>...</td>\n",
       "      <td>...</td>\n",
       "    </tr>\n",
       "    <tr>\n",
       "      <th>1604</th>\n",
       "      <td>36</td>\n",
       "      <td>GLY</td>\n",
       "      <td>ALA</td>\n",
       "    </tr>\n",
       "    <tr>\n",
       "      <th>1605</th>\n",
       "      <td>36</td>\n",
       "      <td>GLY</td>\n",
       "      <td>SER</td>\n",
       "    </tr>\n",
       "    <tr>\n",
       "      <th>1606</th>\n",
       "      <td>37</td>\n",
       "      <td>GLY</td>\n",
       "      <td>ALA</td>\n",
       "    </tr>\n",
       "    <tr>\n",
       "      <th>1607</th>\n",
       "      <td>39</td>\n",
       "      <td>ARG</td>\n",
       "      <td>ALA</td>\n",
       "    </tr>\n",
       "    <tr>\n",
       "      <th>1608</th>\n",
       "      <td>46</td>\n",
       "      <td>LYS</td>\n",
       "      <td>ALA</td>\n",
       "    </tr>\n",
       "  </tbody>\n",
       "</table>\n",
       "<p>1509 rows × 3 columns</p>\n",
       "</div>"
      ],
      "text/plain": [
       "      RESN RESwt RESmut\n",
       "0        8   VAL    ILE\n",
       "1       48   GLN    GLU\n",
       "2       77   THR    HIS\n",
       "3      110   THR    HIS\n",
       "4      169   ASN    ASP\n",
       "...    ...   ...    ...\n",
       "1604    36   GLY    ALA\n",
       "1605    36   GLY    SER\n",
       "1606    37   GLY    ALA\n",
       "1607    39   ARG    ALA\n",
       "1608    46   LYS    ALA\n",
       "\n",
       "[1509 rows x 3 columns]"
      ]
     },
     "execution_count": 7,
     "metadata": {},
     "output_type": "execute_result"
    }
   ],
   "source": [
    "pdbs[['RESN','RESwt','RESmut']]"
   ]
  },
  {
   "cell_type": "markdown",
   "id": "3dfa6f93",
   "metadata": {},
   "source": [
    "This cell extracts the total number of mutations and changes in MT. In addition, we use a dicctionary to convert the residue mutation in a one letter code."
   ]
  },
  {
   "cell_type": "code",
   "execution_count": 8,
   "id": "1a978eaf",
   "metadata": {},
   "outputs": [],
   "source": [
    "alls=[]\n",
    "for resnum,wt in pdbs[['RESN','RESwt','RESmut','PDBid','ΔTmexp']].iteritems():\n",
    "    alls.append(wt.values)\n",
    "d = {'CYS': 'C', 'ASP': 'D', 'SER': 'S', 'GLN': 'Q', 'LYS': 'K',\n",
    "     'ILE': 'I', 'PRO': 'P', 'THR': 'T', 'PHE': 'F', 'ASN': 'N', \n",
    "     'GLY': 'G', 'HIS': 'H', 'LEU': 'L', 'ARG': 'R', 'TRP': 'W', \n",
    "     'ALA': 'A', 'VAL':'V', 'GLU': 'E', 'TYR': 'Y', 'MET': 'M'}\n",
    "resnum=alls[0]\n",
    "wt=[d[x.strip()] for x in alls[1]] # extract the Wildtype aminoacid with one letter code \n",
    "mut=[d[x.strip()] for x in alls[2]] # extract the Mutation aminoacid with one letter code \n",
    "codes=alls[3] # PDB code \n",
    "tms=alls[4] # Melting temperature"
   ]
  },
  {
   "cell_type": "code",
   "execution_count": 9,
   "id": "048274c4",
   "metadata": {},
   "outputs": [
    {
     "name": "stdout",
     "output_type": "stream",
     "text": [
      "pdbid 1aky, WT-AA V, Resnum 8, MUT-AA I,DeltaTm -1.5\n"
     ]
    }
   ],
   "source": [
    "print(\"pdbid {}, WT-AA {}, Resnum {}, MUT-AA {},DeltaTm {}\".format(codes[0],wt[0],resnum[0],mut[0],tms[0]))\n"
   ]
  },
  {
   "cell_type": "markdown",
   "id": "9ad29b31",
   "metadata": {},
   "source": [
    "# PDB Download "
   ]
  },
  {
   "cell_type": "markdown",
   "id": "0df32648",
   "metadata": {},
   "source": [
    "Here we download all the pdbs by PDBID using the pdbfixer tool"
   ]
  },
  {
   "cell_type": "code",
   "execution_count": 10,
   "id": "8b365d7a",
   "metadata": {},
   "outputs": [],
   "source": [
    "from pdbfixer import PDBFixer\n",
    "from simtk.openmm.app import PDBFile"
   ]
  },
  {
   "cell_type": "code",
   "execution_count": 11,
   "id": "c661dba4",
   "metadata": {},
   "outputs": [
    {
     "name": "stdout",
     "output_type": "stream",
     "text": [
      "mkdir: cannot create directory ‘PDBs’: File exists\n"
     ]
    }
   ],
   "source": [
    "!mkdir PDBs"
   ]
  },
  {
   "cell_type": "markdown",
   "id": "c8800604",
   "metadata": {},
   "source": [
    "Using the fixer from pdbfixer we download each protein from its PDB code and fix some common problems present in the Protein Data Bank Files. This process will take around 15 minutes and 100 Mb. \n",
    "The use of the PDBFixer can be found in https://htmlpreview.github.io/?https://github.com/openmm/pdbfixer/blob/master/Manual.html . In our case, we download the pdb file from the pdb code and perform some curation such as find Nonstandar or missing residues, fix missing atoms "
   ]
  },
  {
   "cell_type": "code",
   "execution_count": 27,
   "id": "bc183f87",
   "metadata": {},
   "outputs": [
    {
     "name": "stdout",
     "output_type": "stream",
     "text": [
      "Start Download \n",
      "Total Time 1155.9134647846222\n"
     ]
    }
   ],
   "source": [
    "import os \n",
    "import time\n",
    "t0 = time.time()\n",
    "\n",
    "downloaded = os.listdir(\"PDBs\")\n",
    "PDBs_ids= set(pdbs['PDBid'])\n",
    "pdb_list = []\n",
    "print(\"Start Download \")\n",
    "for pdbid in PDBs_ids:\n",
    "    name=pdbid+\".pdb\"\n",
    "    if(name in downloaded):\n",
    "        continue\n",
    "    try:\n",
    "        fixer = PDBFixer(pdbid=pdbid)\n",
    "        fixer.findMissingResidues()\n",
    "        fixer.findNonstandardResidues()\n",
    "        fixer.replaceNonstandardResidues()\n",
    "        fixer.removeHeterogens(True)\n",
    "        fixer.findMissingAtoms()\n",
    "        fixer.addMissingAtoms()\n",
    "        PDBFile.writeFile(fixer.topology, fixer.positions, open('./PDBs/%s.pdb' % (pdbid), 'w'),keepIds=True)\n",
    "    except:\n",
    "        print(\"Problem with {}\".format(pdbid))\n",
    "print(\"Total Time {}\".format(time.time()-t0))"
   ]
  },
  {
   "cell_type": "markdown",
   "id": "69048de5",
   "metadata": {},
   "source": [
    "The following function help us to mutate a sequence denoted as  A###B where A is the wildtype aminoacid, ### the position and, B the new aminoacid "
   ]
  },
  {
   "cell_type": "code",
   "execution_count": 34,
   "id": "a0f44970",
   "metadata": {},
   "outputs": [],
   "source": [
    "import re\n",
    "def MutateSeq(seq,Mutant):\n",
    "    '''\n",
    "    Mutate a sequence based on a string (Mutant) that has the notation : \n",
    "    A###B where A is the wildtype aminoacid ### the position and B the mutation\n",
    "    '''\n",
    "    aalist = re.findall('([A-Z])([0-9]+)([A-Z])', Mutant)\n",
    "    \n",
    "    #(len(aalist)==1):\n",
    "    newseq=seq\n",
    "    listseq=list(newseq)\n",
    "    for aas in aalist:\n",
    "        wildAA = aas[0]\n",
    "        pos = int(aas[1]) -1\n",
    "        if(pos >= len(listseq)):\n",
    "            print(\"Mutation not in the range of the protein\")\n",
    "            return None\n",
    "        MutAA = aas[-1]\n",
    "        \n",
    "        if(listseq[pos]==wildAA):\n",
    "            \n",
    "            listseq[pos]=MutAA\n",
    "            \n",
    "        else:\n",
    "            #print(\"WildType AA does not match\")\n",
    "            return None\n",
    "    return(\"\".join(listseq))"
   ]
  },
  {
   "cell_type": "markdown",
   "id": "60084903",
   "metadata": {},
   "source": [
    "The following function help us to identify a sequence of aminoacids base on PDB structures"
   ]
  },
  {
   "cell_type": "code",
   "execution_count": 35,
   "id": "42a61ae6",
   "metadata": {},
   "outputs": [],
   "source": [
    "from Bio.PDB.PDBParser import PDBParser\n",
    "from Bio.PDB.Polypeptide import PPBuilder\n",
    "ppb=PPBuilder()\n",
    "def GetSeqFromPDB(pdbid):\n",
    "    structure = PDBParser().get_structure(pdbid.split(\".\")[0], 'PDBs/{}'.format(pdbid))\n",
    "    seqs=[]\n",
    "    return ppb.build_peptides(structure)\n",
    "    "
   ]
  },
  {
   "cell_type": "markdown",
   "id": "5d076d9c",
   "metadata": {},
   "source": [
    "Some examples of the described functions : \n",
    "GetSeqFromPDB. Take one pdb that we previously downloaded and extract the sequence in one letter code "
   ]
  },
  {
   "cell_type": "code",
   "execution_count": 36,
   "id": "02a9c8a8",
   "metadata": {},
   "outputs": [
    {
     "name": "stdout",
     "output_type": "stream",
     "text": [
      "1ezm\n",
      "Original Sequence\n",
      "AEAGGPGGNQKIGKYTYGSDYGPLIVNDRCEMDDGNVITVDMNSSTDDSKTTPFRFACPTNTYKQVNGAYSPLNDAHFFGGVVFKLYRDWFGTSPLTHKLYMKVHYGRSVENAYWDGTAMLFGDGATMFYPLVSLDVAAHEVSHGFTEQNSGLIYRGQSGGMNEAFSDMAGEAAEFYMRGKNDFLIGYDIKKGSGALRYMDQPSRDGRSIDNASQYYNGIDVHHSSGVYNRAFYLLANSPGWDTRKAFEVFVDANRYYWTATSNYNSGACGVIRSAQNRNYSAADVTRAFSTVGVTCPSAL\n"
     ]
    }
   ],
   "source": [
    "import warnings; warnings.simplefilter('ignore')\n",
    "test=\"1ezm\"\n",
    "print(test)\n",
    "seq = GetSeqFromPDB(\"{}.pdb\".format(test))[0].get_sequence()\n",
    "print(\"Original Sequence\")\n",
    "print(seq)\n"
   ]
  },
  {
   "cell_type": "markdown",
   "id": "0ff52794-d8b1-4d67-9526-b1abe4a697d7",
   "metadata": {},
   "source": [
    "Information about the mutation "
   ]
  },
  {
   "cell_type": "code",
   "execution_count": 37,
   "id": "e5d696dd-c28b-4f45-9fae-767e2506b72b",
   "metadata": {},
   "outputs": [
    {
     "name": "stdout",
     "output_type": "stream",
     "text": [
      "Seq information <Polypeptide start=1 end=301>\n",
      "Reported Mutation R179A\n"
     ]
    }
   ],
   "source": [
    "informSeq=GetSeqFromPDB(test+\".pdb\")[0].__repr__()\n",
    "print(\"Seq information\",informSeq)\n",
    "start = re.findall('[0-9]+',informSeq)[0]\n",
    "print(\"Reported Mutation {}{}{}\".format(\"R\",179,\"A\"))\n",
    "numf =179 - int(start) + 1  # fix some cases of negative aminoacid numbers"
   ]
  },
  {
   "cell_type": "markdown",
   "id": "fce28643-9d15-4e3f-87b9-86bf86c9cc00",
   "metadata": {},
   "source": [
    "Mutation in the sequence. "
   ]
  },
  {
   "cell_type": "code",
   "execution_count": 38,
   "id": "d6c4019d-99fb-4314-9208-1122e5794c2b",
   "metadata": {},
   "outputs": [
    {
     "name": "stdout",
     "output_type": "stream",
     "text": [
      "Real Mutation =  R179A\n",
      "AEAGGPGGNQKIGKYTYGSDYGPLIVNDRCEMDDGNVITVDMNSSTDDSKTTPFRFACPTNTYKQVNGAYSPLNDAHFFGGVVFKLYRDWFGTSPLTHKLYMKVHYGRSVENAYWDGTAMLFGDGATMFYPLVSLDVAAHEVSHGFTEQNSGLIYRGQSGGMNEAFSDMAGEAAEFYMAGKNDFLIGYDIKKGSGALRYMDQPSRDGRSIDNASQYYNGIDVHHSSGVYNRAFYLLANSPGWDTRKAFEVFVDANRYYWTATSNYNSGACGVIRSAQNRNYSAADVTRAFSTVGVTCPSAL\n"
     ]
    }
   ],
   "source": [
    "mutfinal = \"R{}A\".format(numf)\n",
    "print(\"Real Mutation = \",mutfinal)\n",
    "mutseq = MutateSeq(seq,mutfinal)\n",
    "print(mutseq)"
   ]
  },
  {
   "cell_type": "markdown",
   "id": "ef208876",
   "metadata": {},
   "source": [
    "In this for loop we extract the sequences of all proteins in the dataset. In addition we created the mutated sequences and append the change in MT. In some cases, gaps in pdbs will cause that mutateSeq function fails, therefore this entries will be avoided. This is an important step in the whole process because creates a final tabulated data that contains the sequence and the Melting temperature ( our label)"
   ]
  },
  {
   "cell_type": "code",
   "execution_count": 39,
   "id": "18679398",
   "metadata": {
    "tags": []
   },
   "outputs": [],
   "source": [
    "information = {}\n",
    "count = 1\n",
    "failures=[]\n",
    "for code,tm,numr,wt_val,mut_val in zip(codes,tms,resnum,wt,mut):\n",
    "    count += 1\n",
    "    seq = GetSeqFromPDB(\"{}.pdb\".format(code))[0].get_sequence()\n",
    "    mutfinal=\"WT\"\n",
    "    if(\"{}-{}\".format(code,mutfinal) not in information):\n",
    "        informSeq=GetSeqFromPDB(code+\".pdb\")[0].__repr__()\n",
    "        start = re.findall('[-0-9]+',informSeq)[0]\n",
    "    if(int(start)<0):\n",
    "        numf =numr - int(start) # if start is negative 0 is not used as resnumber\n",
    "    else:\n",
    "        numf =numr - int(start) + 1 \n",
    "    mutfinal = \"{}{}{}\".format(wt_val,numf,mut_val)\n",
    "    mutseq = MutateSeq(seq,mutfinal)\n",
    "    if(mutseq==None):\n",
    "        failures.append((code,mutfinal))\n",
    "        continue\n",
    "    information[\"{}-{}\".format(code,mutfinal)]=[mutseq,dict_WT_TM[code]-float(tm)]\n"
   ]
  },
  {
   "cell_type": "markdown",
   "id": "fe4ed3ca",
   "metadata": {},
   "source": [
    "# Deep Learning and Machine Learning Models using proteins sequences "
   ]
  },
  {
   "cell_type": "code",
   "execution_count": 40,
   "id": "4ee41342",
   "metadata": {
    "tags": []
   },
   "outputs": [],
   "source": [
    "import deepchem as dc"
   ]
  },
  {
   "cell_type": "markdown",
   "id": "5f3b9faf-92d0-413d-843d-9872a1a7eb47",
   "metadata": {},
   "source": [
    "Here we extract two list, sequences (data) and  melting temperature (label)"
   ]
  },
  {
   "cell_type": "code",
   "execution_count": 41,
   "id": "a0698080",
   "metadata": {},
   "outputs": [],
   "source": [
    "seq_list=[]\n",
    "deltaTm=[]\n",
    "for i in information.values():\n",
    "    seq_list.append(i[0])\n",
    "    deltaTm.append(i[1])"
   ]
  },
  {
   "cell_type": "code",
   "execution_count": 42,
   "id": "04e790de",
   "metadata": {},
   "outputs": [],
   "source": [
    "max_seq= 0 \n",
    "for i in seq_list:\n",
    "    if(len(i)>max_seq):\n",
    "        max_seq=len(i)"
   ]
  },
  {
   "cell_type": "markdown",
   "id": "f72442ab",
   "metadata": {},
   "source": [
    "Here we use a OneHotFeaturizer in order to convert protein sequences in numeric arrays"
   ]
  },
  {
   "cell_type": "code",
   "execution_count": 43,
   "id": "747e513e",
   "metadata": {},
   "outputs": [],
   "source": [
    "codes = ['A', 'C', 'D', 'E', 'F', 'G', 'H', 'I', 'K', 'L',\n",
    "         'M', 'N', 'P', 'Q', 'R', 'S', 'T', 'V', 'W', 'Y']\n",
    "OneHotFeaturizer = dc.feat.OneHotFeaturizer(codes,max_length=max_seq)\n",
    "features = OneHotFeaturizer.featurize(seq_list)"
   ]
  },
  {
   "cell_type": "code",
   "execution_count": 44,
   "id": "89627f12",
   "metadata": {},
   "outputs": [],
   "source": [
    "dc_dataset = dc.data.NumpyDataset(X=features,y=deltaTm)"
   ]
  },
  {
   "cell_type": "markdown",
   "id": "d4933bb6",
   "metadata": {},
   "source": [
    "Here we create a spliiter to perform a tran_test split of the dataset"
   ]
  },
  {
   "cell_type": "code",
   "execution_count": 45,
   "id": "f7c2a8e2",
   "metadata": {},
   "outputs": [],
   "source": [
    "from deepchem import splits\n",
    "splitter = splits.RandomSplitter()\n",
    "train, test  = splitter.train_test_split(dc_dataset,seed=42)"
   ]
  },
  {
   "cell_type": "markdown",
   "id": "a492ff63",
   "metadata": {},
   "source": [
    "Here we create a neuronal network using tensorflow-keras and using a loss function of \"MAE\" to evaluate the regression result."
   ]
  },
  {
   "cell_type": "code",
   "execution_count": 46,
   "id": "3801a62e",
   "metadata": {},
   "outputs": [
    {
     "name": "stdout",
     "output_type": "stream",
     "text": [
      "Model: \"sequential\"\n",
      "_________________________________________________________________\n",
      "Layer (type)                 Output Shape              Param #   \n",
      "=================================================================\n",
      "dense (Dense)                (None, 628, 32)           704       \n",
      "_________________________________________________________________\n",
      "dropout (Dropout)            (None, 628, 32)           0         \n",
      "_________________________________________________________________\n",
      "dense_1 (Dense)              (None, 628, 64)           2112      \n",
      "_________________________________________________________________\n",
      "dropout_1 (Dropout)          (None, 628, 64)           0         \n",
      "_________________________________________________________________\n",
      "dense_2 (Dense)              (None, 628, 128)          8320      \n",
      "_________________________________________________________________\n",
      "dropout_2 (Dropout)          (None, 628, 128)          0         \n",
      "_________________________________________________________________\n",
      "dense_3 (Dense)              (None, 628, 1)            129       \n",
      "=================================================================\n",
      "Total params: 11,265\n",
      "Trainable params: 11,265\n",
      "Non-trainable params: 0\n",
      "_________________________________________________________________\n",
      "None\n",
      "Epoch 1/30\n",
      "50/50 [==============================] - 5s 58ms/step - loss: 63.9738 - val_loss: 53.0729\n",
      "Epoch 2/30\n",
      "50/50 [==============================] - 2s 48ms/step - loss: 37.4791 - val_loss: 11.7760\n",
      "Epoch 3/30\n",
      "50/50 [==============================] - 3s 50ms/step - loss: 15.6073 - val_loss: 10.2132\n",
      "Epoch 4/30\n",
      "50/50 [==============================] - 2s 49ms/step - loss: 14.7629 - val_loss: 10.6989\n",
      "Epoch 5/30\n",
      "50/50 [==============================] - 3s 50ms/step - loss: 14.4044 - val_loss: 10.3690\n",
      "Epoch 6/30\n",
      "50/50 [==============================] - 2s 50ms/step - loss: 14.2965 - val_loss: 10.3513\n",
      "Epoch 7/30\n",
      "50/50 [==============================] - 2s 48ms/step - loss: 14.2195 - val_loss: 10.5500\n",
      "Epoch 8/30\n",
      "50/50 [==============================] - 2s 48ms/step - loss: 13.7869 - val_loss: 10.4428\n",
      "Epoch 9/30\n",
      "50/50 [==============================] - 3s 51ms/step - loss: 13.6337 - val_loss: 10.3578\n",
      "Epoch 10/30\n",
      "50/50 [==============================] - 2s 49ms/step - loss: 13.6087 - val_loss: 10.3723\n",
      "Epoch 11/30\n",
      "50/50 [==============================] - 3s 50ms/step - loss: 13.4056 - val_loss: 10.1776\n",
      "Epoch 12/30\n",
      "50/50 [==============================] - 3s 53ms/step - loss: 13.4791 - val_loss: 10.2200\n",
      "Epoch 13/30\n",
      "50/50 [==============================] - 3s 51ms/step - loss: 13.0122 - val_loss: 10.2977\n",
      "Epoch 14/30\n",
      "50/50 [==============================] - 2s 48ms/step - loss: 12.5661 - val_loss: 10.1643\n",
      "Epoch 15/30\n",
      "50/50 [==============================] - 2s 48ms/step - loss: 12.8794 - val_loss: 10.2025\n",
      "Epoch 16/30\n",
      "50/50 [==============================] - 3s 52ms/step - loss: 12.1872 - val_loss: 10.1613\n",
      "Epoch 17/30\n",
      "50/50 [==============================] - 2s 48ms/step - loss: 12.4073 - val_loss: 10.1431\n",
      "Epoch 18/30\n",
      "50/50 [==============================] - 3s 51ms/step - loss: 12.7066 - val_loss: 10.2905\n",
      "Epoch 19/30\n",
      "50/50 [==============================] - 3s 54ms/step - loss: 12.4882 - val_loss: 10.3362\n",
      "Epoch 20/30\n",
      "50/50 [==============================] - 3s 51ms/step - loss: 12.1402 - val_loss: 10.2730\n",
      "Epoch 21/30\n",
      "50/50 [==============================] - 2s 49ms/step - loss: 12.5945 - val_loss: 10.1985\n",
      "Epoch 22/30\n",
      "50/50 [==============================] - 2s 50ms/step - loss: 12.1068 - val_loss: 10.1513\n",
      "Epoch 23/30\n",
      "50/50 [==============================] - 3s 52ms/step - loss: 12.4154 - val_loss: 10.1524\n",
      "Epoch 24/30\n",
      "50/50 [==============================] - 2s 49ms/step - loss: 11.9882 - val_loss: 10.1966\n",
      "Epoch 25/30\n",
      "50/50 [==============================] - 2s 49ms/step - loss: 12.2737 - val_loss: 10.1782\n",
      "Epoch 26/30\n",
      "50/50 [==============================] - 2s 49ms/step - loss: 12.2531 - val_loss: 10.8076\n",
      "Epoch 27/30\n",
      "50/50 [==============================] - 2s 48ms/step - loss: 11.8214 - val_loss: 10.2283\n",
      "Epoch 28/30\n",
      "50/50 [==============================] - 2s 49ms/step - loss: 11.8859 - val_loss: 11.0644\n",
      "Epoch 29/30\n",
      "50/50 [==============================] - 2s 48ms/step - loss: 11.8307 - val_loss: 10.3394\n",
      "Epoch 30/30\n",
      "50/50 [==============================] - 2s 48ms/step - loss: 11.9134 - val_loss: 10.7364\n"
     ]
    },
    {
     "data": {
      "text/plain": [
       "<AxesSubplot:>"
      ]
     },
     "execution_count": 46,
     "metadata": {},
     "output_type": "execute_result"
    },
    {
     "data": {
      "image/png": "[encoded data removed]",
      "text/plain": [
       "<Figure size 432x288 with 1 Axes>"
      ]
     },
     "metadata": {
      "needs_background": "light"
     },
     "output_type": "display_data"
    }
   ],
   "source": [
    "from tensorflow import keras\n",
    "from tensorflow.keras import layers\n",
    "model = keras.Sequential([\n",
    "    layers.Dense(units=32, activation='relu', input_shape=dc_dataset.X.shape[1:]),\n",
    "    layers.Dropout(0.4),\n",
    "    layers.Dense(units=64, activation='relu'), \n",
    "    layers.Dropout(0.5),\n",
    "    layers.Dense(units=128, activation='relu'), \n",
    "    layers.Dropout(0.2),\n",
    "    layers.Dense(units=1),\n",
    "])\n",
    "model.compile(loss='mae', optimizer='adam')\n",
    "\n",
    "print(model.summary())\n",
    "\n",
    "history = model.fit(\n",
    "    train.X, train.y,\n",
    "    validation_data=(test.X,test.y),\n",
    "    batch_size=24,\n",
    "    epochs=30,\n",
    ")\n",
    "\n",
    "## perform a plot of loss vs epochs \n",
    "import matplotlib.pyplot as plt\n",
    "history_df = pd.DataFrame(history.history)\n",
    "history_df[['loss', 'val_loss']].plot()"
   ]
  },
  {
   "cell_type": "markdown",
   "id": "f9189fdf",
   "metadata": {},
   "source": [
    "# Use DeepChem Keras Model"
   ]
  },
  {
   "cell_type": "code",
   "execution_count": 52,
   "id": "a0dd2488",
   "metadata": {},
   "outputs": [],
   "source": [
    "from tensorflow import keras\n",
    "from tensorflow.keras import layers\n",
    "model = keras.Sequential([\n",
    "    layers.Dense(units=32, activation='relu', input_shape=dc_dataset.X.shape[1:]),\n",
    "    layers.Dropout(0.2),\n",
    "    layers.Dense(units=32, activation='relu'), \n",
    "    layers.Dropout(0.2),\n",
    "    layers.Dense(units=32, activation='relu'), \n",
    "    layers.Dropout(0.2),\n",
    "    layers.Dense(units=1),\n",
    "])\n",
    "\n",
    "dcmodel = dc.models.KerasModel(model,loss=dc.metrics.mae_score)"
   ]
  },
  {
   "cell_type": "code",
   "execution_count": 53,
   "id": "a637dbb8",
   "metadata": {},
   "outputs": [
    {
     "ename": "TypeError",
     "evalue": "in user code:\n\n    /home/david/anaconda3/envs/deepchem-night/lib/python3.8/site-packages/deepchem/models/keras_model.py:469 apply_gradient_for_batch  *\n        batch_loss = loss(outputs, labels, weights)\n\n    TypeError: tf__mae_score() takes 2 positional arguments but 3 were given\n",
     "output_type": "error",
     "traceback": [
      "\u001b[0;31m---------------------------------------------------------------------------\u001b[0m",
      "\u001b[0;31mTypeError\u001b[0m                                 Traceback (most recent call last)",
      "\u001b[0;32m<ipython-input-53-17d5866f5b20>\u001b[0m in \u001b[0;36m<module>\u001b[0;34m\u001b[0m\n\u001b[0;32m----> 1\u001b[0;31m \u001b[0mdcmodel\u001b[0m\u001b[0;34m.\u001b[0m\u001b[0mfit\u001b[0m\u001b[0;34m(\u001b[0m\u001b[0mdc_dataset\u001b[0m\u001b[0;34m)\u001b[0m\u001b[0;34m\u001b[0m\u001b[0;34m\u001b[0m\u001b[0m\n\u001b[0m",
      "\u001b[0;32m~/anaconda3/envs/deepchem-night/lib/python3.8/site-packages/deepchem/models/keras_model.py\u001b[0m in \u001b[0;36mfit\u001b[0;34m(self, dataset, nb_epoch, max_checkpoints_to_keep, checkpoint_interval, deterministic, restore, variables, loss, callbacks, all_losses)\u001b[0m\n\u001b[1;32m    318\u001b[0m     \u001b[0mThe\u001b[0m \u001b[0maverage\u001b[0m \u001b[0mloss\u001b[0m \u001b[0mover\u001b[0m \u001b[0mthe\u001b[0m \u001b[0mmost\u001b[0m \u001b[0mrecent\u001b[0m \u001b[0mcheckpoint\u001b[0m \u001b[0minterval\u001b[0m\u001b[0;34m\u001b[0m\u001b[0;34m\u001b[0m\u001b[0m\n\u001b[1;32m    319\u001b[0m    \"\"\"\n\u001b[0;32m--> 320\u001b[0;31m     return self.fit_generator(\n\u001b[0m\u001b[1;32m    321\u001b[0m         self.default_generator(\n\u001b[1;32m    322\u001b[0m             \u001b[0mdataset\u001b[0m\u001b[0;34m,\u001b[0m \u001b[0mepochs\u001b[0m\u001b[0;34m=\u001b[0m\u001b[0mnb_epoch\u001b[0m\u001b[0;34m,\u001b[0m\u001b[0;34m\u001b[0m\u001b[0;34m\u001b[0m\u001b[0m\n",
      "\u001b[0;32m~/anaconda3/envs/deepchem-night/lib/python3.8/site-packages/deepchem/models/keras_model.py\u001b[0m in \u001b[0;36mfit_generator\u001b[0;34m(self, generator, max_checkpoints_to_keep, checkpoint_interval, restore, variables, loss, callbacks, all_losses)\u001b[0m\n\u001b[1;32m    407\u001b[0m         \u001b[0minputs\u001b[0m \u001b[0;34m=\u001b[0m \u001b[0minputs\u001b[0m\u001b[0;34m[\u001b[0m\u001b[0;36m0\u001b[0m\u001b[0;34m]\u001b[0m\u001b[0;34m\u001b[0m\u001b[0;34m\u001b[0m\u001b[0m\n\u001b[1;32m    408\u001b[0m \u001b[0;34m\u001b[0m\u001b[0m\n\u001b[0;32m--> 409\u001b[0;31m       \u001b[0mbatch_loss\u001b[0m \u001b[0;34m=\u001b[0m \u001b[0mapply_gradient_for_batch\u001b[0m\u001b[0;34m(\u001b[0m\u001b[0minputs\u001b[0m\u001b[0;34m,\u001b[0m \u001b[0mlabels\u001b[0m\u001b[0;34m,\u001b[0m \u001b[0mweights\u001b[0m\u001b[0;34m,\u001b[0m \u001b[0mloss\u001b[0m\u001b[0;34m)\u001b[0m\u001b[0;34m\u001b[0m\u001b[0;34m\u001b[0m\u001b[0m\n\u001b[0m\u001b[1;32m    410\u001b[0m       \u001b[0mcurrent_step\u001b[0m \u001b[0;34m=\u001b[0m \u001b[0mself\u001b[0m\u001b[0;34m.\u001b[0m\u001b[0m_global_step\u001b[0m\u001b[0;34m.\u001b[0m\u001b[0mnumpy\u001b[0m\u001b[0;34m(\u001b[0m\u001b[0;34m)\u001b[0m\u001b[0;34m\u001b[0m\u001b[0;34m\u001b[0m\u001b[0m\n\u001b[1;32m    411\u001b[0m \u001b[0;34m\u001b[0m\u001b[0m\n",
      "\u001b[0;32m~/anaconda3/envs/deepchem-night/lib/python3.8/site-packages/tensorflow/python/eager/def_function.py\u001b[0m in \u001b[0;36m__call__\u001b[0;34m(self, *args, **kwds)\u001b[0m\n\u001b[1;32m    826\u001b[0m     \u001b[0mtracing_count\u001b[0m \u001b[0;34m=\u001b[0m \u001b[0mself\u001b[0m\u001b[0;34m.\u001b[0m\u001b[0mexperimental_get_tracing_count\u001b[0m\u001b[0;34m(\u001b[0m\u001b[0;34m)\u001b[0m\u001b[0;34m\u001b[0m\u001b[0;34m\u001b[0m\u001b[0m\n\u001b[1;32m    827\u001b[0m     \u001b[0;32mwith\u001b[0m \u001b[0mtrace\u001b[0m\u001b[0;34m.\u001b[0m\u001b[0mTrace\u001b[0m\u001b[0;34m(\u001b[0m\u001b[0mself\u001b[0m\u001b[0;34m.\u001b[0m\u001b[0m_name\u001b[0m\u001b[0;34m)\u001b[0m \u001b[0;32mas\u001b[0m \u001b[0mtm\u001b[0m\u001b[0;34m:\u001b[0m\u001b[0;34m\u001b[0m\u001b[0;34m\u001b[0m\u001b[0m\n\u001b[0;32m--> 828\u001b[0;31m       \u001b[0mresult\u001b[0m \u001b[0;34m=\u001b[0m \u001b[0mself\u001b[0m\u001b[0;34m.\u001b[0m\u001b[0m_call\u001b[0m\u001b[0;34m(\u001b[0m\u001b[0;34m*\u001b[0m\u001b[0margs\u001b[0m\u001b[0;34m,\u001b[0m \u001b[0;34m**\u001b[0m\u001b[0mkwds\u001b[0m\u001b[0;34m)\u001b[0m\u001b[0;34m\u001b[0m\u001b[0;34m\u001b[0m\u001b[0m\n\u001b[0m\u001b[1;32m    829\u001b[0m       \u001b[0mcompiler\u001b[0m \u001b[0;34m=\u001b[0m \u001b[0;34m\"xla\"\u001b[0m \u001b[0;32mif\u001b[0m \u001b[0mself\u001b[0m\u001b[0;34m.\u001b[0m\u001b[0m_experimental_compile\u001b[0m \u001b[0;32melse\u001b[0m \u001b[0;34m\"nonXla\"\u001b[0m\u001b[0;34m\u001b[0m\u001b[0;34m\u001b[0m\u001b[0m\n\u001b[1;32m    830\u001b[0m       \u001b[0mnew_tracing_count\u001b[0m \u001b[0;34m=\u001b[0m \u001b[0mself\u001b[0m\u001b[0;34m.\u001b[0m\u001b[0mexperimental_get_tracing_count\u001b[0m\u001b[0;34m(\u001b[0m\u001b[0;34m)\u001b[0m\u001b[0;34m\u001b[0m\u001b[0;34m\u001b[0m\u001b[0m\n",
      "\u001b[0;32m~/anaconda3/envs/deepchem-night/lib/python3.8/site-packages/tensorflow/python/eager/def_function.py\u001b[0m in \u001b[0;36m_call\u001b[0;34m(self, *args, **kwds)\u001b[0m\n\u001b[1;32m    869\u001b[0m       \u001b[0;31m# This is the first call of __call__, so we have to initialize.\u001b[0m\u001b[0;34m\u001b[0m\u001b[0;34m\u001b[0m\u001b[0;34m\u001b[0m\u001b[0m\n\u001b[1;32m    870\u001b[0m       \u001b[0minitializers\u001b[0m \u001b[0;34m=\u001b[0m \u001b[0;34m[\u001b[0m\u001b[0;34m]\u001b[0m\u001b[0;34m\u001b[0m\u001b[0;34m\u001b[0m\u001b[0m\n\u001b[0;32m--> 871\u001b[0;31m       \u001b[0mself\u001b[0m\u001b[0;34m.\u001b[0m\u001b[0m_initialize\u001b[0m\u001b[0;34m(\u001b[0m\u001b[0margs\u001b[0m\u001b[0;34m,\u001b[0m \u001b[0mkwds\u001b[0m\u001b[0;34m,\u001b[0m \u001b[0madd_initializers_to\u001b[0m\u001b[0;34m=\u001b[0m\u001b[0minitializers\u001b[0m\u001b[0;34m)\u001b[0m\u001b[0;34m\u001b[0m\u001b[0;34m\u001b[0m\u001b[0m\n\u001b[0m\u001b[1;32m    872\u001b[0m     \u001b[0;32mfinally\u001b[0m\u001b[0;34m:\u001b[0m\u001b[0;34m\u001b[0m\u001b[0;34m\u001b[0m\u001b[0m\n\u001b[1;32m    873\u001b[0m       \u001b[0;31m# At this point we know that the initialization is complete (or less\u001b[0m\u001b[0;34m\u001b[0m\u001b[0;34m\u001b[0m\u001b[0;34m\u001b[0m\u001b[0m\n",
      "\u001b[0;32m~/anaconda3/envs/deepchem-night/lib/python3.8/site-packages/tensorflow/python/eager/def_function.py\u001b[0m in \u001b[0;36m_initialize\u001b[0;34m(self, args, kwds, add_initializers_to)\u001b[0m\n\u001b[1;32m    723\u001b[0m     \u001b[0mself\u001b[0m\u001b[0;34m.\u001b[0m\u001b[0m_graph_deleter\u001b[0m \u001b[0;34m=\u001b[0m \u001b[0mFunctionDeleter\u001b[0m\u001b[0;34m(\u001b[0m\u001b[0mself\u001b[0m\u001b[0;34m.\u001b[0m\u001b[0m_lifted_initializer_graph\u001b[0m\u001b[0;34m)\u001b[0m\u001b[0;34m\u001b[0m\u001b[0;34m\u001b[0m\u001b[0m\n\u001b[1;32m    724\u001b[0m     self._concrete_stateful_fn = (\n\u001b[0;32m--> 725\u001b[0;31m         self._stateful_fn._get_concrete_function_internal_garbage_collected(  # pylint: disable=protected-access\n\u001b[0m\u001b[1;32m    726\u001b[0m             *args, **kwds))\n\u001b[1;32m    727\u001b[0m \u001b[0;34m\u001b[0m\u001b[0m\n",
      "\u001b[0;32m~/anaconda3/envs/deepchem-night/lib/python3.8/site-packages/tensorflow/python/eager/function.py\u001b[0m in \u001b[0;36m_get_concrete_function_internal_garbage_collected\u001b[0;34m(self, *args, **kwargs)\u001b[0m\n\u001b[1;32m   2967\u001b[0m       \u001b[0margs\u001b[0m\u001b[0;34m,\u001b[0m \u001b[0mkwargs\u001b[0m \u001b[0;34m=\u001b[0m \u001b[0;32mNone\u001b[0m\u001b[0;34m,\u001b[0m \u001b[0;32mNone\u001b[0m\u001b[0;34m\u001b[0m\u001b[0;34m\u001b[0m\u001b[0m\n\u001b[1;32m   2968\u001b[0m     \u001b[0;32mwith\u001b[0m \u001b[0mself\u001b[0m\u001b[0;34m.\u001b[0m\u001b[0m_lock\u001b[0m\u001b[0;34m:\u001b[0m\u001b[0;34m\u001b[0m\u001b[0;34m\u001b[0m\u001b[0m\n\u001b[0;32m-> 2969\u001b[0;31m       \u001b[0mgraph_function\u001b[0m\u001b[0;34m,\u001b[0m \u001b[0m_\u001b[0m \u001b[0;34m=\u001b[0m \u001b[0mself\u001b[0m\u001b[0;34m.\u001b[0m\u001b[0m_maybe_define_function\u001b[0m\u001b[0;34m(\u001b[0m\u001b[0margs\u001b[0m\u001b[0;34m,\u001b[0m \u001b[0mkwargs\u001b[0m\u001b[0;34m)\u001b[0m\u001b[0;34m\u001b[0m\u001b[0;34m\u001b[0m\u001b[0m\n\u001b[0m\u001b[1;32m   2970\u001b[0m     \u001b[0;32mreturn\u001b[0m \u001b[0mgraph_function\u001b[0m\u001b[0;34m\u001b[0m\u001b[0;34m\u001b[0m\u001b[0m\n\u001b[1;32m   2971\u001b[0m \u001b[0;34m\u001b[0m\u001b[0m\n",
      "\u001b[0;32m~/anaconda3/envs/deepchem-night/lib/python3.8/site-packages/tensorflow/python/eager/function.py\u001b[0m in \u001b[0;36m_maybe_define_function\u001b[0;34m(self, args, kwargs)\u001b[0m\n\u001b[1;32m   3359\u001b[0m \u001b[0;34m\u001b[0m\u001b[0m\n\u001b[1;32m   3360\u001b[0m           \u001b[0mself\u001b[0m\u001b[0;34m.\u001b[0m\u001b[0m_function_cache\u001b[0m\u001b[0;34m.\u001b[0m\u001b[0mmissed\u001b[0m\u001b[0;34m.\u001b[0m\u001b[0madd\u001b[0m\u001b[0;34m(\u001b[0m\u001b[0mcall_context_key\u001b[0m\u001b[0;34m)\u001b[0m\u001b[0;34m\u001b[0m\u001b[0;34m\u001b[0m\u001b[0m\n\u001b[0;32m-> 3361\u001b[0;31m           \u001b[0mgraph_function\u001b[0m \u001b[0;34m=\u001b[0m \u001b[0mself\u001b[0m\u001b[0;34m.\u001b[0m\u001b[0m_create_graph_function\u001b[0m\u001b[0;34m(\u001b[0m\u001b[0margs\u001b[0m\u001b[0;34m,\u001b[0m \u001b[0mkwargs\u001b[0m\u001b[0;34m)\u001b[0m\u001b[0;34m\u001b[0m\u001b[0;34m\u001b[0m\u001b[0m\n\u001b[0m\u001b[1;32m   3362\u001b[0m           \u001b[0mself\u001b[0m\u001b[0;34m.\u001b[0m\u001b[0m_function_cache\u001b[0m\u001b[0;34m.\u001b[0m\u001b[0mprimary\u001b[0m\u001b[0;34m[\u001b[0m\u001b[0mcache_key\u001b[0m\u001b[0;34m]\u001b[0m \u001b[0;34m=\u001b[0m \u001b[0mgraph_function\u001b[0m\u001b[0;34m\u001b[0m\u001b[0;34m\u001b[0m\u001b[0m\n\u001b[1;32m   3363\u001b[0m \u001b[0;34m\u001b[0m\u001b[0m\n",
      "\u001b[0;32m~/anaconda3/envs/deepchem-night/lib/python3.8/site-packages/tensorflow/python/eager/function.py\u001b[0m in \u001b[0;36m_create_graph_function\u001b[0;34m(self, args, kwargs, override_flat_arg_shapes)\u001b[0m\n\u001b[1;32m   3194\u001b[0m     \u001b[0marg_names\u001b[0m \u001b[0;34m=\u001b[0m \u001b[0mbase_arg_names\u001b[0m \u001b[0;34m+\u001b[0m \u001b[0mmissing_arg_names\u001b[0m\u001b[0;34m\u001b[0m\u001b[0;34m\u001b[0m\u001b[0m\n\u001b[1;32m   3195\u001b[0m     graph_function = ConcreteFunction(\n\u001b[0;32m-> 3196\u001b[0;31m         func_graph_module.func_graph_from_py_func(\n\u001b[0m\u001b[1;32m   3197\u001b[0m             \u001b[0mself\u001b[0m\u001b[0;34m.\u001b[0m\u001b[0m_name\u001b[0m\u001b[0;34m,\u001b[0m\u001b[0;34m\u001b[0m\u001b[0;34m\u001b[0m\u001b[0m\n\u001b[1;32m   3198\u001b[0m             \u001b[0mself\u001b[0m\u001b[0;34m.\u001b[0m\u001b[0m_python_function\u001b[0m\u001b[0;34m,\u001b[0m\u001b[0;34m\u001b[0m\u001b[0;34m\u001b[0m\u001b[0m\n",
      "\u001b[0;32m~/anaconda3/envs/deepchem-night/lib/python3.8/site-packages/tensorflow/python/framework/func_graph.py\u001b[0m in \u001b[0;36mfunc_graph_from_py_func\u001b[0;34m(name, python_func, args, kwargs, signature, func_graph, autograph, autograph_options, add_control_dependencies, arg_names, op_return_value, collections, capture_by_value, override_flat_arg_shapes)\u001b[0m\n\u001b[1;32m    988\u001b[0m         \u001b[0m_\u001b[0m\u001b[0;34m,\u001b[0m \u001b[0moriginal_func\u001b[0m \u001b[0;34m=\u001b[0m \u001b[0mtf_decorator\u001b[0m\u001b[0;34m.\u001b[0m\u001b[0munwrap\u001b[0m\u001b[0;34m(\u001b[0m\u001b[0mpython_func\u001b[0m\u001b[0;34m)\u001b[0m\u001b[0;34m\u001b[0m\u001b[0;34m\u001b[0m\u001b[0m\n\u001b[1;32m    989\u001b[0m \u001b[0;34m\u001b[0m\u001b[0m\n\u001b[0;32m--> 990\u001b[0;31m       \u001b[0mfunc_outputs\u001b[0m \u001b[0;34m=\u001b[0m \u001b[0mpython_func\u001b[0m\u001b[0;34m(\u001b[0m\u001b[0;34m*\u001b[0m\u001b[0mfunc_args\u001b[0m\u001b[0;34m,\u001b[0m \u001b[0;34m**\u001b[0m\u001b[0mfunc_kwargs\u001b[0m\u001b[0;34m)\u001b[0m\u001b[0;34m\u001b[0m\u001b[0;34m\u001b[0m\u001b[0m\n\u001b[0m\u001b[1;32m    991\u001b[0m \u001b[0;34m\u001b[0m\u001b[0m\n\u001b[1;32m    992\u001b[0m       \u001b[0;31m# invariant: `func_outputs` contains only Tensors, CompositeTensors,\u001b[0m\u001b[0;34m\u001b[0m\u001b[0;34m\u001b[0m\u001b[0;34m\u001b[0m\u001b[0m\n",
      "\u001b[0;32m~/anaconda3/envs/deepchem-night/lib/python3.8/site-packages/tensorflow/python/eager/def_function.py\u001b[0m in \u001b[0;36mwrapped_fn\u001b[0;34m(*args, **kwds)\u001b[0m\n\u001b[1;32m    632\u001b[0m             \u001b[0mxla_context\u001b[0m\u001b[0;34m.\u001b[0m\u001b[0mExit\u001b[0m\u001b[0;34m(\u001b[0m\u001b[0;34m)\u001b[0m\u001b[0;34m\u001b[0m\u001b[0;34m\u001b[0m\u001b[0m\n\u001b[1;32m    633\u001b[0m         \u001b[0;32melse\u001b[0m\u001b[0;34m:\u001b[0m\u001b[0;34m\u001b[0m\u001b[0;34m\u001b[0m\u001b[0m\n\u001b[0;32m--> 634\u001b[0;31m           \u001b[0mout\u001b[0m \u001b[0;34m=\u001b[0m \u001b[0mweak_wrapped_fn\u001b[0m\u001b[0;34m(\u001b[0m\u001b[0;34m)\u001b[0m\u001b[0;34m.\u001b[0m\u001b[0m__wrapped__\u001b[0m\u001b[0;34m(\u001b[0m\u001b[0;34m*\u001b[0m\u001b[0margs\u001b[0m\u001b[0;34m,\u001b[0m \u001b[0;34m**\u001b[0m\u001b[0mkwds\u001b[0m\u001b[0;34m)\u001b[0m\u001b[0;34m\u001b[0m\u001b[0;34m\u001b[0m\u001b[0m\n\u001b[0m\u001b[1;32m    635\u001b[0m         \u001b[0;32mreturn\u001b[0m \u001b[0mout\u001b[0m\u001b[0;34m\u001b[0m\u001b[0;34m\u001b[0m\u001b[0m\n\u001b[1;32m    636\u001b[0m \u001b[0;34m\u001b[0m\u001b[0m\n",
      "\u001b[0;32m~/anaconda3/envs/deepchem-night/lib/python3.8/site-packages/tensorflow/python/framework/func_graph.py\u001b[0m in \u001b[0;36mwrapper\u001b[0;34m(*args, **kwargs)\u001b[0m\n\u001b[1;32m    975\u001b[0m           \u001b[0;32mexcept\u001b[0m \u001b[0mException\u001b[0m \u001b[0;32mas\u001b[0m \u001b[0me\u001b[0m\u001b[0;34m:\u001b[0m  \u001b[0;31m# pylint:disable=broad-except\u001b[0m\u001b[0;34m\u001b[0m\u001b[0;34m\u001b[0m\u001b[0m\n\u001b[1;32m    976\u001b[0m             \u001b[0;32mif\u001b[0m \u001b[0mhasattr\u001b[0m\u001b[0;34m(\u001b[0m\u001b[0me\u001b[0m\u001b[0;34m,\u001b[0m \u001b[0;34m\"ag_error_metadata\"\u001b[0m\u001b[0;34m)\u001b[0m\u001b[0;34m:\u001b[0m\u001b[0;34m\u001b[0m\u001b[0;34m\u001b[0m\u001b[0m\n\u001b[0;32m--> 977\u001b[0;31m               \u001b[0;32mraise\u001b[0m \u001b[0me\u001b[0m\u001b[0;34m.\u001b[0m\u001b[0mag_error_metadata\u001b[0m\u001b[0;34m.\u001b[0m\u001b[0mto_exception\u001b[0m\u001b[0;34m(\u001b[0m\u001b[0me\u001b[0m\u001b[0;34m)\u001b[0m\u001b[0;34m\u001b[0m\u001b[0;34m\u001b[0m\u001b[0m\n\u001b[0m\u001b[1;32m    978\u001b[0m             \u001b[0;32melse\u001b[0m\u001b[0;34m:\u001b[0m\u001b[0;34m\u001b[0m\u001b[0;34m\u001b[0m\u001b[0m\n\u001b[1;32m    979\u001b[0m               \u001b[0;32mraise\u001b[0m\u001b[0;34m\u001b[0m\u001b[0;34m\u001b[0m\u001b[0m\n",
      "\u001b[0;31mTypeError\u001b[0m: in user code:\n\n    /home/david/anaconda3/envs/deepchem-night/lib/python3.8/site-packages/deepchem/models/keras_model.py:469 apply_gradient_for_batch  *\n        batch_loss = loss(outputs, labels, weights)\n\n    TypeError: tf__mae_score() takes 2 positional arguments but 3 were given\n"
     ]
    }
   ],
   "source": [
    "dcmodel.fit(dc_dataset)"
   ]
  },
  {
   "cell_type": "markdown",
   "id": "52057e59",
   "metadata": {},
   "source": [
    "# Examples of Classic ML models "
   ]
  },
  {
   "cell_type": "markdown",
   "id": "d10b0e3c",
   "metadata": {},
   "source": [
    "Finally, we will compare others descriptros such as AAcomposition and Composition,transition and distribution of AA (https://www.pnas.org/content/92/19/8700)  "
   ]
  },
  {
   "cell_type": "code",
   "execution_count": 54,
   "id": "09894787",
   "metadata": {},
   "outputs": [],
   "source": [
    "from propy import PyPro"
   ]
  },
  {
   "cell_type": "markdown",
   "id": "3386e56c",
   "metadata": {},
   "source": [
    "In the following cell, we are creating and pyPro Object based on the protein sequence. Pypro allows us the calculation of amino acid composition vectors    \n",
    "Here we create a list with the aminoacido composition vector for each sequence used in the previous model.\n"
   ]
  },
  {
   "cell_type": "code",
   "execution_count": 55,
   "id": "49ec482a",
   "metadata": {},
   "outputs": [],
   "source": [
    "import numpy as np \n",
    "aaComplist = []\n",
    "CTDList =[]\n",
    "for seq in seq_list:\n",
    "    Obj = PyPro.GetProDes(seq)\n",
    "    aaComplist.append(np.array(list(Obj.GetAAComp().values())))\n",
    "    CTDList.append(np.array(list(Obj.GetCTD().values())))"
   ]
  },
  {
   "cell_type": "code",
   "execution_count": 57,
   "id": "ba1c5fc0",
   "metadata": {},
   "outputs": [],
   "source": [
    "dc_dataset_aacomp = dc.data.NumpyDataset(X=aaComplist,y=deltaTm)\n",
    "dc_dataset_ctd = dc.data.NumpyDataset(X=CTDList,y=deltaTm)"
   ]
  },
  {
   "cell_type": "markdown",
   "id": "2a63d4f1",
   "metadata": {},
   "source": [
    "# Evaluation of classical machine learning models "
   ]
  },
  {
   "cell_type": "markdown",
   "id": "b2f98022",
   "metadata": {},
   "source": [
    "In the following cell we create a randomForest Regressor and the deepchem SklearnModel. As it was used in the DL models, here we use \"MAE\" score to evaluate the results of the regression "
   ]
  },
  {
   "cell_type": "code",
   "execution_count": 58,
   "id": "ebbfb73e",
   "metadata": {},
   "outputs": [
    {
     "name": "stdout",
     "output_type": "stream",
     "text": [
      "RandomForestRegressor\n",
      "Train score is : {'mae_score': 1.7916551501995608}\n",
      "Test score is : {'mae_score': 3.8967191996673947}\n"
     ]
    }
   ],
   "source": [
    "from deepchem import splits\n",
    "splitter = splits.RandomSplitter()\n",
    "train, test  = splitter.train_test_split(dc_dataset_aacomp,seed=42)\n",
    "from sklearn.ensemble import RandomForestRegressor\n",
    "from deepchem.utils.evaluate import Evaluator\n",
    "import pandas as pd\n",
    "print(\"RandomForestRegressor\")\n",
    "seed = 42 # Set a random seed to get stable results\n",
    "sklearn_model = RandomForestRegressor(n_estimators=100, max_features='sqrt')\n",
    "sklearn_model.random_state = seed\n",
    "model = dc.models.SklearnModel(sklearn_model)\n",
    "model.fit(train)\n",
    "metric = dc.metrics.Metric(dc.metrics.mae_score)\n",
    "train_score = model.evaluate(train, [metric])\n",
    "test_score = model.evaluate(test, [metric])\n",
    "print(\"Train score is : {}\".format(train_score))\n",
    "print(\"Test score is : {}\".format(test_score))\n"
   ]
  },
  {
   "cell_type": "markdown",
   "id": "f853a5ff",
   "metadata": {},
   "source": [
    "In the following cell we create a Suport Vector Regressor and the deepchem SklearnModel. As it was used in the DL models, here we use \"MAE\" score to evaluate the results of the regression "
   ]
  },
  {
   "cell_type": "code",
   "execution_count": 59,
   "id": "9e0bb02c",
   "metadata": {},
   "outputs": [
    {
     "name": "stdout",
     "output_type": "stream",
     "text": [
      "SupportVectorMachineRegressor\n",
      "Train score is : {'mae_score': 3.275727325767219}\n",
      "Test score is : {'mae_score': 4.058136267284038}\n"
     ]
    }
   ],
   "source": [
    "print(\"SupportVectorMachineRegressor\")\n",
    "from sklearn.svm import SVR\n",
    "svr_sklearn = SVR(kernel=\"poly\",degree=4)\n",
    "svr_sklearn.random_state = seed \n",
    "model = dc.models.SklearnModel(svr_sklearn)\n",
    "model.fit(train)\n",
    "metric = dc.metrics.Metric(dc.metrics.mae_score)\n",
    "train_score = model.evaluate(train, [metric])\n",
    "test_score = model.evaluate(test, [metric])\n",
    "print(\"Train score is : {}\".format(train_score))\n",
    "print(\"Test score is : {}\".format(test_score))"
   ]
  },
  {
   "cell_type": "markdown",
   "id": "cfd9586d",
   "metadata": {},
   "source": [
    "# Congratulations! Time to join the Community!\n",
    "\n",
    "Congratulations on completing this tutorial notebook! If you enjoyed working through the tutorial, and want to continue working with DeepChem, we encourage you to finish the rest of the tutorials in this series. You can also help the DeepChem community in the following ways:\n",
    "\n",
    "## Star DeepChem on [GitHub](https://github.com/deepchem/deepchem)\n",
    "This helps build awareness of the DeepChem project and the tools for open source drug discovery that we're trying to build.\n",
    "\n",
    "## Join the DeepChem Gitter\n",
    "The DeepChem [Gitter](https://gitter.im/deepchem/Lobby) hosts a number of scientists, developers, and enthusiasts interested in deep learning for the life sciences. Join the conversation!"
   ]
  },
  {
   "cell_type": "code",
   "execution_count": null,
   "id": "5df64f4d-cf0d-4092-8bfe-24ff3a6bcf46",
   "metadata": {},
   "outputs": [],
   "source": []
  }
 ],
 "metadata": {
  "kernelspec": {
   "display_name": "Python [conda env:deepchem-night]",
   "language": "python",
   "name": "conda-env-deepchem-night-py"
  },
  "language_info": {
   "codemirror_mode": {
    "name": "ipython",
    "version": 3
   },
   "file_extension": ".py",
   "mimetype": "text/x-python",
   "name": "python",
   "nbconvert_exporter": "python",
   "pygments_lexer": "ipython3",
   "version": "3.8.8"
  },
  "toc-autonumbering": false,
  "toc-showcode": false,
  "toc-showmarkdowntxt": true
 },
 "nbformat": 4,
 "nbformat_minor": 5
}
