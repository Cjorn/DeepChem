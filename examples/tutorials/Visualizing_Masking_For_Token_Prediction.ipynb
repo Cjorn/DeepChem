{
 "cells": [
  {
   "cell_type": "markdown",
   "metadata": {
    "id": "EptJcDUyzeru"
   },
   "source": [
    "#Introduction\n",
    "\n"
   ]
  },
  {
   "cell_type": "markdown",
   "metadata": {
    "id": "GlCPqZKc66UQ"
   },
   "source": [
    "\n",
    "\n",
    "\n",
    "-------------------------------------\n",
    " **Transfer Learning**\n",
    " \"Transfer learning is a machine learning method where a model developed for a task is reused as the starting point for a model on a second task\". Text-based transfer learning based methods (particularly those based on transformers) are starting to find traction being applied towards the chemical domain [(Schwaller et al, 2021)].\" For example, transformer based methods can be used to infer reaction classes (e.g. classes  which organize chemical reaction space and allow for the communication of complex concepts)  from non-annotated,\n",
    "simple text-based representations of chemical reactions. Performance can be strong with classification accuracy reaching  98.2%.\"\n",
    "(Schwaller et al, 2021)\n",
    "\n",
    "\n",
    "**Transformer based learning**\n",
    "\n",
    "\n",
    "\n",
    "**Masked token Prediction**\n",
    "Masked Language Modeling is a self-supervised pretraining objective that is widely used in natural language processing for learning text representations. In Masked Language Modeling a model is trained to predict input tokens that have been replaced by a placeholder. Tokens are the partitions of a text, and generally fall into familiar categories such as words, individual characters, or subwords (e.g. the subwords smart and er for the word smarter). An example masked sentence could look like:\n",
    "\n",
    "Example:\n",
    "*sentence:*\n",
    " The quick brown fox jumps over the lazy dog.\n",
    "\n",
    "*masked sentence:*\n",
    "The quick brown [MASK] jumps over the lazy dog. \n",
    "\n",
    "The string [MASK] acts as a placeholder. \n",
    "\n",
    "\n",
    "**SMILES, textual chemical representations**\n",
    "While chemical structres are typically represented as graphs, the simplified molecular-input line-entry system (SMILES)  was introduced as notation for encoding molecular structures into ASCII strings in the 1980's. There is not a one to one mapping of structures with SMILES strings as a single structure can have a number of equally valid SMILES strings. These strings are composed of characters which indicate the connectivity of atoms through bonds and also include explict representation of cycles. (EPA SMILES TUTORIAL).\n",
    "\n",
    "**Masked Token Prediction using SMILES representation**\n",
    "Like natural language sentences can be broken down into tokens and used for masked language modeling, SMILES strings can also be tokenized and masked as shown in the example of acetone below. \n",
    "\n",
    "*Example:* \n",
    "\n",
    "SMILES Representation:\n",
    "CC(=O)C\n",
    "\n",
    "Masked SMILES Representation:\n",
    "CC([MASK]O)C\n",
    "\n",
    "Chemically Valid Masked Token Solutions:\n",
    "1. CC(=O)C\n",
    "2. CC(-O)C\n",
    "3. CC(NO)C\n",
    "4. CC(CO)C\n",
    "\n",
    "**Visualization Learning Objectives**\n",
    "\n",
    "  1.   Visualize sets of molecules in a compact way \n",
    "\n",
    "  (i)*Array of predictions*: [![ predictions of masked acetone](https://github.com/deloragaskins/data_science_public/blob/create_tutorials/DK_tutorials/images/acetone_predictions.png)](https://github.com/deloragaskins/data_science_public/blob/create_tutorials/DK_tutorials/images/acetone_predictions.png )\n",
    "\n",
    "  \n",
    "  2.   Highlight substructures of interest:\n",
    "   \n",
    "   (i) highlight specific bonds or atoms:\n",
    "\n",
    "        *masked chemical structure*\n",
    "[![acetone showing location of mask](https://github.com/deloragaskins/data_science_public/blob/144be523b6645a21b75753dc810040098824318e/DK_tutorials/acetone_mask.png)](https://github.com/deloragaskins/data_science_public/blob/144be523b6645a21b75753dc810040098824318e/DK_tutorials/acetone_mask.png )\n",
    "\n",
    "    (ii)  highlight structure differences:\n",
    "\n",
    "    *Differences between original and prediction*:\n",
    "[![acetone vs another solution to mask](https://github.com/deloragaskins/data_science_public/blob/144be523b6645a21b75753dc810040098824318e/DK_tutorials/compare_differences_in_masked_prediction.png)](https://github.com/deloragaskins/data_science_public/blob/144be523b6645a21b75753dc810040098824318e/DK_tutorials/compare_differences_in_masked_prediction.png )\n",
    "\n",
    "**Example Problem Outline**\n",
    "We will use a pretrained model to make a prediction of a masked token for SMILES representation of a molecule that is in the ClinTox datahase. \n",
    "\n",
    "*Select molecule*\n",
    "*   Load Clintox database\n",
    "*   Explore first 25 structures* (LO1)\n",
    "*   Choose a structure and highlight functional groups/substructures (LO2)\n",
    "\n",
    "*Make masked token prediction*\n",
    "*   Highlight mask* (LO2)\n",
    "*   Set up ML algorithm\n",
    "*   Run ML\n",
    "\n",
    "*Interpret results*\n",
    "*   show predictions grouped* (LO1)\n",
    "*   compare predictions and original* (LO2)\n",
    "*   check in database\n",
    "*   check for toxicity\n",
    "\n",
    "*Benefit from visualisation\n",
    "\n",
    "LO1: Learning Objective 1\n",
    "\n",
    "LO2: Learning Objective 2\n",
    "\n",
    "*Citations*\n",
    "[ Schwaller et al](https://arxiv.org/abs/2012.06051)\n",
    "\n",
    "[EPA SMILES TUTORIAL](https://archive.epa.gov/med/med_archive_03/web/html/smiles.html)\n",
    "\n"
   ]
  },
  {
   "cell_type": "markdown",
   "metadata": {
    "id": "PT4pFSkGj9sV"
   },
   "source": [
    "#Colab\n",
    "This tutorial and the rest in this sequence can be done in Google colab. If you'd like to open this notebook in colab, you can use the following link.\n"
   ]
  },
  {
   "cell_type": "markdown",
   "metadata": {},
   "source": [
    "<a href=\"https://colab.research.google.com/github/deloragaskins/data_science_public/blob/main/ChemAsh5_VisualizingMasking.ipynb\" target=\"_parent\"><img src=\"https://colab.research.google.com/assets/colab-badge.svg\" alt=\"Open In Colab\"/></a>\n"
   ]
  },
  {
   "cell_type": "markdown",
   "metadata": {},
   "source": [
    "## Select molecule"
   ]
  },
  {
   "cell_type": "markdown",
   "metadata": {},
   "source": [
    "In this tutorial, we choose a molecule from the Clintox database to perform a masked token prediction on. We do an exploratory data analysis by displaying the first 25 chemical structures that correspond to the SMILES representations in the database. This way we can make visual inspection of the molecules and it is helpful for this reason to be able to display the molecules in a compact way and that's why it's one of our tutorial learning objectives. We can use rdkit to do this.     \n",
    "\n",
    "1. Load Clintox database\n",
    "2. Explore first 25 structures* (LO1)\n",
    "3. Choose 1 molecule for masked token prediction"
   ]
  },
  {
   "cell_type": "markdown",
   "metadata": {},
   "source": [
    "We load the ClinTox dataset into a dataframe with SMILES representations and toxicity for each molecule."
   ]
  },
  {
   "cell_type": "code",
   "execution_count": 6,
   "metadata": {},
   "outputs": [
    {
     "ename": "ModuleNotFoundError",
     "evalue": "No module named 'chemberta'",
     "output_type": "error",
     "traceback": [
      "\u001b[1;31m---------------------------------------------------------------------------\u001b[0m",
      "\u001b[1;31mModuleNotFoundError\u001b[0m                       Traceback (most recent call last)",
      "\u001b[1;32m~\\AppData\\Local\\Temp/ipykernel_8684/3124909967.py\u001b[0m in \u001b[0;36m<module>\u001b[1;34m\u001b[0m\n\u001b[0;32m      5\u001b[0m \u001b[0mget_ipython\u001b[0m\u001b[1;33m(\u001b[0m\u001b[1;33m)\u001b[0m\u001b[1;33m.\u001b[0m\u001b[0mrun_line_magic\u001b[0m\u001b[1;33m(\u001b[0m\u001b[1;34m'cd'\u001b[0m\u001b[1;33m,\u001b[0m \u001b[1;34m'/content/bert-loves-chemistry'\u001b[0m\u001b[1;33m)\u001b[0m\u001b[1;33m\u001b[0m\u001b[1;33m\u001b[0m\u001b[0m\n\u001b[0;32m      6\u001b[0m \u001b[0mget_ipython\u001b[0m\u001b[1;33m(\u001b[0m\u001b[1;33m)\u001b[0m\u001b[1;33m.\u001b[0m\u001b[0msystem\u001b[0m\u001b[1;33m(\u001b[0m\u001b[1;34m'pwd'\u001b[0m\u001b[1;33m)\u001b[0m\u001b[1;33m\u001b[0m\u001b[1;33m\u001b[0m\u001b[0m\n\u001b[1;32m----> 7\u001b[1;33m \u001b[1;32mfrom\u001b[0m \u001b[0mchemberta\u001b[0m\u001b[1;33m.\u001b[0m\u001b[0mutils\u001b[0m\u001b[1;33m.\u001b[0m\u001b[0mmolnet_dataloader\u001b[0m \u001b[1;32mimport\u001b[0m \u001b[0mload_molnet_dataset\u001b[0m\u001b[1;33m,\u001b[0m \u001b[0mwrite_molnet_dataset_for_chemprop\u001b[0m\u001b[1;33m\u001b[0m\u001b[1;33m\u001b[0m\u001b[0m\n\u001b[0m",
      "\u001b[1;31mModuleNotFoundError\u001b[0m: No module named 'chemberta'"
     ]
    }
   ],
   "source": [
    "%%capture\n",
    "\n",
    "!pip install --pre deepchem\n",
    "#to access ClinTox_ *database which has information about the toxicity of a set of molecules*\n",
    "# import MolNet dataloder from bert-loves-chemistry fork\n",
    "!git clone https://github.com/seyonechithrananda/bert-loves-chemistry.git\n",
    "%cd /content/bert-loves-chemistry\n",
    "!pwd\n",
    "from chemberta.utils.molnet_dataloader import load_molnet_dataset, write_molnet_dataset_for_chemprop\n"
   ]
  },
  {
   "cell_type": "code",
   "execution_count": 7,
   "metadata": {},
   "outputs": [
    {
     "ename": "NameError",
     "evalue": "name 'load_molnet_dataset' is not defined",
     "output_type": "error",
     "traceback": [
      "\u001b[1;31m---------------------------------------------------------------------------\u001b[0m",
      "\u001b[1;31mNameError\u001b[0m                                 Traceback (most recent call last)",
      "\u001b[1;32m~\\AppData\\Local\\Temp/ipykernel_8684/1446318153.py\u001b[0m in \u001b[0;36m<module>\u001b[1;34m\u001b[0m\n\u001b[1;32m----> 1\u001b[1;33m \u001b[0mtasks\u001b[0m\u001b[1;33m,\u001b[0m \u001b[1;33m(\u001b[0m\u001b[0mtrain_df\u001b[0m\u001b[1;33m,\u001b[0m \u001b[0mvalid_df\u001b[0m\u001b[1;33m,\u001b[0m \u001b[0mtest_df\u001b[0m\u001b[1;33m)\u001b[0m\u001b[1;33m,\u001b[0m \u001b[0mtransformers\u001b[0m \u001b[1;33m=\u001b[0m \u001b[0mload_molnet_dataset\u001b[0m\u001b[1;33m(\u001b[0m\u001b[1;34m\"clintox\"\u001b[0m\u001b[1;33m,\u001b[0m \u001b[0mtasks_wanted\u001b[0m\u001b[1;33m=\u001b[0m\u001b[1;32mNone\u001b[0m\u001b[1;33m)\u001b[0m\u001b[1;33m\u001b[0m\u001b[1;33m\u001b[0m\u001b[0m\n\u001b[0m\u001b[0;32m      2\u001b[0m \u001b[0mfull_ClinTox_df\u001b[0m \u001b[1;33m=\u001b[0m \u001b[0mtrain_df\u001b[0m\u001b[1;33m.\u001b[0m\u001b[0mappend\u001b[0m\u001b[1;33m(\u001b[0m\u001b[0mvalid_df\u001b[0m\u001b[1;33m,\u001b[0m \u001b[0mignore_index\u001b[0m\u001b[1;33m=\u001b[0m\u001b[1;32mTrue\u001b[0m\u001b[1;33m)\u001b[0m\u001b[1;33m\u001b[0m\u001b[1;33m\u001b[0m\u001b[0m\n\u001b[0;32m      3\u001b[0m \u001b[0mfull_ClinTox_df\u001b[0m\u001b[1;33m=\u001b[0m\u001b[0mfull_ClinTox_df\u001b[0m\u001b[1;33m.\u001b[0m\u001b[0mappend\u001b[0m\u001b[1;33m(\u001b[0m\u001b[0mtest_df\u001b[0m\u001b[1;33m,\u001b[0m \u001b[0mignore_index\u001b[0m\u001b[1;33m=\u001b[0m\u001b[1;32mTrue\u001b[0m\u001b[1;33m)\u001b[0m\u001b[1;33m\u001b[0m\u001b[1;33m\u001b[0m\u001b[0m\n",
      "\u001b[1;31mNameError\u001b[0m: name 'load_molnet_dataset' is not defined"
     ]
    }
   ],
   "source": [
    "tasks, (train_df, valid_df, test_df), transformers = load_molnet_dataset(\"clintox\", tasks_wanted=None)\n",
    "full_ClinTox_df = train_df.append(valid_df, ignore_index=True)\n",
    "full_ClinTox_df=full_ClinTox_df.append(test_df, ignore_index=True)\n"
   ]
  },
  {
   "cell_type": "markdown",
   "metadata": {},
   "source": [
    "We take a look at the SMILES for the first 25 and visualize their structures"
   ]
  },
  {
   "cell_type": "code",
   "execution_count": null,
   "metadata": {},
   "outputs": [],
   "source": [
    "length_peek=25\n",
    "full_ClinTox_df['text'].head(length_peek)"
   ]
  },
  {
   "cell_type": "code",
   "execution_count": null,
   "metadata": {},
   "outputs": [],
   "source": [
    "ms = [Chem.MolFromSmiles(x) for x in full_ClinTox_df['text'][:length_peek]]\n",
    "ChemDraw.MolsToGridImage(ms,molsPerRow=5)"
   ]
  },
  {
   "cell_type": "markdown",
   "metadata": {},
   "source": [
    "From these structures, we focus on fairly simple molecule for masked token prediction"
   ]
  },
  {
   "cell_type": "code",
   "execution_count": null,
   "metadata": {},
   "outputs": [],
   "source": [
    "molecule_num=4*5+1\n",
    "molecule_str=full_ClinTox_df['text'][molecule_num]\n",
    "molecule=Chem.MolFromSmiles(molecule_str) \n",
    "ChemDraw.MolToImage(molecule)"
   ]
  },
  {
   "cell_type": "markdown",
   "metadata": {},
   "source": [
    "---------------------------------------------------------------"
   ]
  },
  {
   "cell_type": "code",
   "execution_count": null,
   "metadata": {
    "id": "qiogBxmSuZyq"
   },
   "outputs": [],
   "source": [
    " #suppressing output from this cell in colab\n",
    "%%capture\n",
    "!pip install --pre deepchem\n",
    "!pip install rdkit-pypi\n",
    "\n",
    "#to access ClinTox_\n",
    "# import MolNet dataloder from bert-loves-chemistry fork\n",
    "!git clone https://github.com/seyonechithrananda/bert-loves-chemistry.git\n",
    "%cd /content/bert-loves-chemistry\n",
    "!pwd\n",
    "from chemberta.utils.molnet_dataloader import load_molnet_dataset, write_molnet_dataset_for_chemprop\n",
    "\n",
    "#to play with and display chemical structures\n",
    "import rdkit\n",
    "import rdkit.Chem as Chem\n",
    "from rdkit.Chem import Draw as ChemDraw\n",
    "from rdkit.Chem.Draw import MolToImage\n",
    "\n",
    "import matplotlib.pyplot as plt\n",
    "from matplotlib import colors\n"
   ]
  },
  {
   "cell_type": "code",
   "execution_count": null,
   "metadata": {
    "colab": {
     "base_uri": "https://localhost:8080/"
    },
    "id": "4OSSNEryKWl0",
    "outputId": "69c25626-39c8-491c-c5a0-e360075a931c"
   },
   "outputs": [],
   "source": [
    "import sys\n",
    "!test -d bertviz_repo && echo \"FYI: bertviz_repo directory already exists, to pull latest version uncomment this line: !rm -r bertviz_repo\"\n",
    "# !rm -r bertviz_repo # Uncomment if you need a clean pull from repo\n",
    "!test -d bertviz_repo || git clone https://github.com/jessevig/bertviz bertviz_repo\n",
    "if not 'bertviz_repo' in sys.path:\n",
    "  sys.path += ['bertviz_repo']\n",
    "!pip install transformers\n",
    "\n",
    "from transformers import AutoModelForMaskedLM, AutoTokenizer, pipeline, RobertaModel, RobertaTokenizer\n",
    "from bertviz import head_view\n",
    "\n",
    "import torch"
   ]
  },
  {
   "cell_type": "code",
   "execution_count": null,
   "metadata": {
    "id": "OhZksVJ6I4PA"
   },
   "outputs": [],
   "source": [
    "#functions to streamline prediction section\n",
    "def addmask(molecule_str,mask_str,mask_start_pos,mask_end_pos):\n",
    "  masked=''\n",
    "  for counter0 in range(len(molecule_str)):\n",
    "    if mask_len>0:\n",
    "      if counter0 in range(mask_start_pos,mask_end_pos):\n",
    "        masked+=''\n",
    "      elif counter0 == mask_end_pos:\n",
    "        masked+=mask_str\n",
    "      else:\n",
    "        masked+=molecule_str[counter0]\n",
    "    else:\n",
    "        masked+=molecule_str[counter0]\n",
    "  #print(masked)\n",
    "  return masked\n",
    "\n",
    "def predict_n(sequence,n):\n",
    "  input = tokenizer.encode(sequence, return_tensors=\"pt\")\n",
    "  mask_token_index = torch.where(input == tokenizer.mask_token_id)[1]\n",
    "\n",
    "  token_logits = model(input)[0]\n",
    "  mask_token_logits = token_logits[0, mask_token_index, :]\n",
    "  top_n_tokens = torch.topk(mask_token_logits, n, dim=1).indices[0].tolist()\n",
    "  #print(top_n_tokens)\n",
    "\n",
    "  valid_mols_list=[]\n",
    "  for token in top_n_tokens:\n",
    "    smi = (sequence.replace(tokenizer.mask_token, tokenizer.decode([token])))\n",
    "    print (smi)\n",
    "    smi_mol = Chem.MolFromSmiles(smi)\n",
    "    if smi_mol is None: # if the model's token prediction isn't chemically feasible\n",
    "      continue\n",
    "    valid_mols_list.append((smi))\n",
    "  return valid_mols_list\n",
    "\n",
    "################################################################################\n",
    "#function to select substruct if there are multiple matches\n",
    "def extract_nth_substructure(substructures,n):\n",
    "  if len(substructures)>1:\n",
    "    print('This substructure occurs in multiple places in the molecule')\n",
    "  elif len(substructures)==1:\n",
    "    print('This substructure occurs only once in the molecule')\n",
    "  else:\n",
    "    print('This substructure does not appear in the molecule.')\n",
    "  Atoms_list=[]  \n",
    "  substructure=substructures[n]\n",
    "  for atom_counter in range(len(substructure)):\n",
    "    Atoms_list.append(substructure[atom_counter])\n",
    "\n",
    "  hit_bonds=[]\n",
    "  for bond in Chem.MolFromSmarts(substructure_smarts).GetBonds():\n",
    "      aid1 = Atoms_list[bond.GetBeginAtomIdx()]\n",
    "      aid2 = Atoms_list[bond.GetEndAtomIdx()]\n",
    "      hit_bonds.append(molecule.GetBondBetweenAtoms(aid1,aid2).GetIdx())\n",
    "  Bonds_list=hit_bonds\n",
    "  return Atoms_list,Bonds_list\n",
    "################################################################################\n",
    "#functions to support SMILES search with wildcards\n",
    "wildcard_dict={'l':'atom2','r':'atom2','C':'atom','B':'atom','S':'atom','N':'atom','O':'atom','I':'atom','F':'atom','(':'structure'}\n",
    "\n",
    "def smiles_masking(char_type):\n",
    "  if char_type=='bond':\n",
    "    smiles_mask_char='~'\n",
    "  if char_type=='atom':\n",
    "    smiles_mask_char='*'\n",
    "  if char_type=='ring':\n",
    "    smiles_mask_char='@'\n",
    "  return smiles_mask_char\n",
    "\n",
    "def smile_wildcard_replace(molecule_str,smi,mask_start_pos,mask_end_pos):\n",
    "  #Cell_label='Display Predictions with Higlighted Original Structure'\n",
    "  num_characters_added=len(smi)-len(molecule_str)+1\n",
    "  char_added=smi[mask_end_pos:mask_end_pos+num_characters_added]\n",
    "  print(char_added)\n",
    "  \n",
    "  wildcards_subs=''\n",
    "  prev_state=''\n",
    "  \n",
    "  for char in char_added:\n",
    "    if wildcard_dict[char] is 'atom2':\n",
    "      wildcards_subs+=''\n",
    "    elif wildcard_dict[char] is 'atom':\n",
    "       wildcards_subs+='*'\n",
    "    elif char is 'bond':\n",
    "      wildcards_subs+='~'\n",
    "    elif char is 'structure':\n",
    "      wildcards_subs+=char\n",
    "    else:\n",
    "      print(char)\n",
    "      print('error: wildcard_dict does not contain the symbol predicted. Please add manually')\n",
    " \n",
    "  smile_wildcard=molecule_str[:mask_start_pos]\n",
    "  smile_wildcard=smile_wildcard+wildcards_subs\n",
    "  smile_wildcard=smile_wildcard+molecule_str[mask_start_pos+num_characters_added-1:]\n",
    "  return smile_wildcard\n",
    "################################################################################\n",
    "#functions to output images\n",
    "\n",
    "def image_of_nth_substructure(substructure_smarts,molecule_smiles,n):\n",
    "  m=Chem.MolFromSmiles(molecule_smiles)\n",
    "  substructures=m.GetSubstructMatches(Chem.MolFromSmarts(substructure_smarts))\n",
    "  Atoms_list,Bonds_list=extract_nth_substructure(substructures,n)\n",
    "  hcolor = colors.to_rgb('violet')\n",
    "  img = MolToImage(m, size=(600, 600),fitImage=True,highlightAtoms=Atoms_list,highlightColor=hcolor)\n",
    "  return img\n",
    "\n",
    "def highlighed_wildcard_img(molecule_smiles,substructure_smarts,n,remove_atoms_from_highlight,remove_bonds_from_highlight):\n",
    "  molecule=Chem.MolFromSmiles(molecule_smiles)\n",
    "  substructures=molecule.GetSubstructMatches(Chem.MolFromSmarts(substructure_smarts))\n",
    "  Atoms_list,Bonds_list=extract_nth_substructure(substructures,n)\n",
    "  for atom in remove_atoms_from_highlight:\n",
    "    Atoms_list.remove(atom)\n",
    "  for bond in remove_bonds_from_highlight:\n",
    "    Bonds_list.remove(bond)\n",
    "  hcolor = colors.to_rgb('violet')\n",
    "  img = MolToImage(molecule, size=(600, 600),fitImage=True,highlightAtoms=Atoms_list,highlightBonds=Bonds_list,highlightColor=hcolor)\n",
    "  return img\n",
    "################################################################################\n",
    "#function to support the querying of ClinTox\n",
    "def canon_smiles(text):\n",
    "  #Cell_label='Check Clintox for Prediction'\n",
    "  text=Chem.MolToSmiles(Chem.MolFromSmiles(text))\n",
    "  return text"
   ]
  },
  {
   "cell_type": "markdown",
   "metadata": {
    "id": "NGMKBs85b3ui"
   },
   "source": [
    "#Select a Molecule to make a masked token prediction with from  ClinTox\n",
    "\n",
    "We load the ClinTox dataset into a dataframe with SMILES representations and toxicity for each molecule.  "
   ]
  },
  {
   "cell_type": "code",
   "execution_count": null,
   "metadata": {
    "colab": {
     "base_uri": "https://localhost:8080/"
    },
    "id": "Y-g_AbzsXIYM",
    "outputId": "4a4e3664-8772-43c6-b645-0d2f7d14b88e"
   },
   "outputs": [],
   "source": []
  },
  {
   "cell_type": "markdown",
   "metadata": {
    "id": "F1zcgYIDRtp0"
   },
   "source": [
    "We take a look at the SMILES for the first 25 and visualize their structures"
   ]
  },
  {
   "cell_type": "code",
   "execution_count": null,
   "metadata": {
    "colab": {
     "base_uri": "https://localhost:8080/"
    },
    "id": "9sFFN1q2I04a",
    "outputId": "40fa0b80-43f2-465a-f279-68b1aca2e889"
   },
   "outputs": [],
   "source": []
  },
  {
   "cell_type": "code",
   "execution_count": null,
   "metadata": {
    "colab": {
     "base_uri": "https://localhost:8080/",
     "height": 1000
    },
    "id": "7zw9oKkrzop6",
    "outputId": "649dc4e6-24f5-4d0c-f561-d84316de91ec"
   },
   "outputs": [],
   "source": [
    "\n",
    "ms = [Chem.MolFromSmiles(x) for x in full_ClinTox_df['text'][:length_peek]]\n",
    "ChemDraw.MolsToGridImage(ms,molsPerRow=5)"
   ]
  },
  {
   "cell_type": "markdown",
   "metadata": {
    "id": "8ksQRgB4cm6Q"
   },
   "source": [
    "From these structures, we focus on fairly simple molecule for masked token prediction. "
   ]
  },
  {
   "cell_type": "code",
   "execution_count": null,
   "metadata": {
    "colab": {
     "base_uri": "https://localhost:8080/",
     "height": 317
    },
    "id": "QwA73SZCGsC9",
    "outputId": "a1dc808a-61e2-4b03-e27d-73b155c61853"
   },
   "outputs": [],
   "source": [
    "molecule_num=4*5+1\n",
    "molecule_str=full_ClinTox_df['text'][molecule_num]\n",
    "molecule=Chem.MolFromSmiles(molecule_str) \n",
    "ChemDraw.MolToImage(molecule)"
   ]
  },
  {
   "cell_type": "markdown",
   "metadata": {
    "id": "uftUG_kESmKq"
   },
   "source": [
    "There are two chemically identical substitutions on the aromatic ring here which are represented with different characters in the original SMILES representation. Here we visualize each individually. "
   ]
  },
  {
   "cell_type": "code",
   "execution_count": null,
   "metadata": {
    "colab": {
     "base_uri": "https://localhost:8080/",
     "height": 271
    },
    "id": "rAbPNmm967rk",
    "outputId": "454aaf93-cc55-47a4-bc81-78e325bcd7ba"
   },
   "outputs": [],
   "source": [
    "Cell_label='Visualize potential mask sites on molecule'\n",
    "\n",
    "im_2_show=2\n",
    "\n",
    "counter0=0 \n",
    "size_adj_x=2\n",
    "size_adj_y=4\n",
    "plt.figure(figsize=(im_2_show*size_adj_y,im_2_show*size_adj_x))\n",
    "\n",
    "number_of_rows=1\n",
    "number_of_columns=im_2_show\n",
    "for counter0 in range(im_2_show):\n",
    "  plt.subplot(number_of_rows,number_of_columns,counter0+1)\n",
    "\n",
    "  substructure_smarts='O'\n",
    "  molecule_smiles=molecule_str\n",
    "  n2=counter0\n",
    "\n",
    "  plt.imshow(image_of_nth_substructure(substructure_smarts,molecule_smiles,n2))\n",
    "  plt.xticks([])\n",
    "  plt.yticks([])"
   ]
  },
  {
   "cell_type": "markdown",
   "metadata": {
    "id": "-XXHuuh3P5HO"
   },
   "source": [
    "# Make a masked token prediction and interpret results\n",
    "\n",
    "\n"
   ]
  },
  {
   "cell_type": "markdown",
   "metadata": {
    "id": "jD6M4979TOYb"
   },
   "source": [
    "Here we select the model for the masked token prediction detailed further in Transfer_Learning_With_ChemBERTa_Transformers notebook in the tutorials. \n",
    "\n",
    "We also select to mask the hydroxyl group that is represented in the middle of the SMILES representation for this molecule."
   ]
  },
  {
   "cell_type": "code",
   "execution_count": null,
   "metadata": {
    "id": "ne46dsyRJv91"
   },
   "outputs": [],
   "source": [
    "#take pretrained model and define the pipeline\n",
    "model = AutoModelForMaskedLM.from_pretrained(\"seyonec/PubChem10M_SMILES_BPE_450k\")\n",
    "tokenizer = AutoTokenizer.from_pretrained(\"seyonec/PubChem10M_SMILES_BPE_450k\")\n",
    "\n",
    "fill_mask = pipeline('fill-mask', model=model, tokenizer=tokenizer)"
   ]
  },
  {
   "cell_type": "code",
   "execution_count": null,
   "metadata": {
    "colab": {
     "base_uri": "https://localhost:8080/"
    },
    "id": "CtniYcAFLA8X",
    "outputId": "291e3f1d-05b9-45f7-f7b7-a3e4dae67831"
   },
   "outputs": [],
   "source": [
    "#Make valid predictions for single masked position \n",
    "Cell_label='Make Predictions'\n",
    "\n",
    "mask_start_pos=7\n",
    "mask_char_type='atom' #'bond' #'atom','ring'\n",
    "\n",
    "mask_end_pos=mask_start_pos\n",
    "mask_len=mask_end_pos-mask_start_pos+1\n",
    "mask_str='<mask>'\n",
    "\n",
    "smiles_mask=addmask(molecule_str,mask_str,mask_start_pos,mask_end_pos)\n",
    "replaced=molecule_str[mask_start_pos:mask_end_pos+mask_len]\n",
    "\n",
    "sequence = smiles_mask.replace('<mask>',tokenizer.mask_token)\n",
    "\n",
    "print(molecule_str)\n",
    "print(replaced)"
   ]
  },
  {
   "cell_type": "markdown",
   "metadata": {
    "id": "WAiuHNKtUsPA"
   },
   "source": [
    "We show the results of the prediction as both SMILES and chemical structures. In addition, several additional valid structures are predicted.. "
   ]
  },
  {
   "cell_type": "code",
   "execution_count": null,
   "metadata": {
    "colab": {
     "base_uri": "https://localhost:8080/",
     "height": 303
    },
    "id": "23HtxTrPNeQh",
    "outputId": "8afdcbcd-8bb0-4948-fef4-00cb1624e3d0"
   },
   "outputs": [],
   "source": [
    "Cell_label='Show Prediction results'\n",
    "n1=5\n",
    "valid_smi_list=predict_n(sequence,n1)\n",
    "valid_mols_list=[Chem.MolFromSmiles(x) for x in valid_smi_list ]\n",
    "\n",
    "ChemDraw.MolsToGridImage(valid_mols_list,molsPerRow=n1)"
   ]
  },
  {
   "cell_type": "markdown",
   "metadata": {
    "id": "NkJvP5eyVGY5"
   },
   "source": [
    "We futher examine the first additional structure. Here, we highlight the non-masked atoms and bonds"
   ]
  },
  {
   "cell_type": "code",
   "execution_count": null,
   "metadata": {
    "colab": {
     "base_uri": "https://localhost:8080/",
     "height": 407
    },
    "id": "-0WmydO8fYP6",
    "outputId": "12a4fc7d-e93c-4e1a-9dca-9c82e3c064ff"
   },
   "outputs": [],
   "source": [
    "Cell_label='Display Prediction with Higlighted Original Structure'\n",
    "counter2=1\n",
    "molecule_smiles=Chem.MolToSmiles(valid_mols_list[counter2]) #select prediction\n",
    "print(molecule_str)\n",
    "\n",
    "valid_smiles_list_wildcards=[]\n",
    "for element in valid_smi_list:\n",
    "  smile_wildcard=smile_wildcard_replace(molecule_str,element,mask_start_pos,mask_end_pos)\n",
    "  valid_smiles_list_wildcards.append(smile_wildcard)\n",
    "\n",
    "print(molecule_str)\n",
    "substructure_smarts=valid_smiles_list_wildcards[counter2]\n",
    "\n",
    "n3=0\n",
    "remove_atoms_from_highlight=[5] #use this to remove atoms from highlight\n",
    "remove_bonds_from_highlight=[] #range(7) #use this to remove bonds from highlight\n",
    "img= highlighed_wildcard_img(molecule_smiles,substructure_smarts,n3,remove_atoms_from_highlight,remove_bonds_from_highlight)\n",
    "plt.imshow(img)\n",
    "plt.xticks([])\n",
    "plt.yticks([])\n",
    "print(substructure_smarts)"
   ]
  },
  {
   "cell_type": "markdown",
   "metadata": {
    "id": "ZUVofbklV11g"
   },
   "source": [
    "We see that this structure in not present in ClinTox but that it does have some toxicity."
   ]
  },
  {
   "cell_type": "code",
   "execution_count": null,
   "metadata": {
    "colab": {
     "base_uri": "https://localhost:8080/"
    },
    "id": "uHhJSmIjUrqe",
    "outputId": "79471024-0e01-4748-da2e-e8e0f4682ab6"
   },
   "outputs": [],
   "source": [
    "Cell_label='Check Clintox for Prediction'\n",
    "\n",
    "full_ClinTox_df['canonical_smiles']= full_ClinTox_df['text'].apply(canon_smiles)\n",
    "print(full_ClinTox_df[full_ClinTox_df['canonical_smiles'].str.match(Chem.MolToSmiles(pred_1))])"
   ]
  },
  {
   "cell_type": "code",
   "execution_count": null,
   "metadata": {
    "id": "w_BI7ZbIeb1t"
   },
   "outputs": [],
   "source": [
    "#Toxicity information for predicted compound\n",
    "#https://pubchem.ncbi.nlm.nih.gov/compound/4684#section=Toxicity"
   ]
  },
  {
   "cell_type": "markdown",
   "metadata": {
    "id": "-lV5D5aXjk0o"
   },
   "source": [
    "#Congratulations! Time to join the Community!\n",
    "Congratulations on completing this tutorial notebook! If you enjoyed working through the tutorial, and want to continue working with DeepChem, we encourage you to finish the rest of the tutorials in this series. You can also help the DeepChem community in the following ways:\n",
    "\n",
    "#Star DeepChem on Github\n",
    "This helps build awareness of the DeepChem project and the tools for open source drug discovery that we're trying to build.\n",
    "\n",
    "#Join the DeepChem Gitter\n",
    "The DeepChem Gitter hosts a number of scientists, developers, and enthusiasts interested in deep learning for the life sciences. Join the conversation!"
   ]
  }
 ],
 "metadata": {
  "colab": {
   "authorship_tag": "ABX9TyNZKHe90kOUGqjVqVHbbjAm",
   "collapsed_sections": [],
   "include_colab_link": true,
   "name": "ChemAsh5:VisualizingMasking.ipynb",
   "provenance": []
  },
  "kernelspec": {
   "display_name": "Python 3 (ipykernel)",
   "language": "python",
   "name": "python3"
  },
  "language_info": {
   "codemirror_mode": {
    "name": "ipython",
    "version": 3
   },
   "file_extension": ".py",
   "mimetype": "text/x-python",
   "name": "python",
   "nbconvert_exporter": "python",
   "pygments_lexer": "ipython3",
   "version": "3.9.5"
  }
 },
 "nbformat": 4,
 "nbformat_minor": 1
}
