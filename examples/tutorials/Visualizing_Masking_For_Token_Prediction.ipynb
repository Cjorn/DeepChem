{
  "cells": [
    {
      "cell_type": "markdown",
      "metadata": {
        "id": "view-in-github",
        "colab_type": "text"
      },
      "source": [
        "<a href=\"https://colab.research.google.com/github/deloragaskins/deepchem/blob/tutorial_chem_dk/examples/tutorials/Visualizing_Masking_For_Token_Prediction.ipynb\" target=\"_parent\"><img src=\"https://colab.research.google.com/assets/colab-badge.svg\" alt=\"Open In Colab\"/></a>"
      ]
    },
    {
      "cell_type": "markdown",
      "metadata": {
        "id": "EptJcDUyzeru"
      },
      "source": [
        "#Introduction\n",
        "\n"
      ]
    },
    {
      "cell_type": "markdown",
      "metadata": {
        "id": "GlCPqZKc66UQ"
      },
      "source": [
        "\n",
        "--------------------------------------\n",
        " **Transfer Learning**\n",
        " \"Transfer learning is a machine learning method where a model developed for a task is reused as the starting point for a model on a second task\". Text-based transfer learning based methods (particularly those based on transformers) are starting to find traction being applied towards the chemical domain [(Schwaller et al, 2021)].\" For example, transformer based methods can be used to infer reaction classes (e.g. classes  which organize chemical reaction space and allow for the communication of complex concepts)  from non-annotated,\n",
        "simple text-based representations of chemical reactions. Performance can be strong with classification accuracy reaching  98.2%.\"\n",
        "(Schwaller et al, 2021)\n",
        "\n",
        "\n",
        "**Transformer based learning**\n",
        "https://towardsdatascience.com/what-are-transformers-and-how-can-you-use-them-f7ccd546071a\n",
        "\n",
        "**Masked token Prediction**\n",
        "Masked Language Modeling is a self-supervised pretraining objective that is widely used in natural language processing for learning text representations. In Masked Language Modeling a model is trained to predict input tokens that have been replaced by a placeholder. Tokens are the partitions of a text, and generally fall into familiar categories such as words, individual characters, or subwords (e.g. the subwords smart and er for the word smarter). An example masked sentence could look like:\n",
        "\n",
        "Example:\n",
        "*sentence:*\n",
        " The quick brown [MASK] jumps over the lazy dog.\n",
        "\n",
        "*masked sentence:*\n",
        "The quick brown [MASK] jumps over the lazy dog. \n",
        "\n",
        "The string [MASK] acts as a placeholder. \n",
        "\n",
        "\n",
        "**SMILES, textual chemical representations**\n",
        "While chemical structres are typically represented as graphs, the simplified molecular-input line-entry system (SMILES)  was introduced as notation for encoding molecular structures into ASCII strings in the 1980's. There is not a one to one mapping of structures with SMILES strings as a single structure can have a number of equally valid SMILES strings. These strings are composed of characters which indicate the connectivity of atoms through bonds and also include explict representation of cycles. (EPA SMILES TUTORIAL).\n",
        "\n",
        "**Masked Token Prediction using SMILES representation**\n",
        "Like natural language sentences can be broken down into tokens and used for masked language modeling, SMILES strings can also be tokenized and masked as shown in the example of acetone below. \n",
        "\n",
        "*Example:* \n",
        "\n",
        "SMILES Representation:\n",
        "CC(=O)C\n",
        "\n",
        "Masked SMILES Representation:\n",
        "CC([MASK]O)C\n",
        "\n",
        "Chemically Valid Masked Token Solutions:\n",
        "1. CC(=O)C\n",
        "2. CC(-O)C\n",
        "3. CC(NO)C\n",
        "4. CC(CO)C\n",
        "\n",
        "\n",
        "\n",
        "\n",
        "**Visualization Learning Objectives**\n",
        "\n",
        "  1.   Visualize sets of molecules in a compact way \n",
        "\n",
        "  (i)*Array of predictions*: [![ predictions of masked acetone](https://github.com/deloragaskins/data_science_public/blob/create_tutorials/DK_tutorials/images/acetone_predictions.png)](https://github.com/deloragaskins/data_science_public/blob/create_tutorials/DK_tutorials/images/acetone_predictions.png )\n",
        "\n",
        "  \n",
        "  2.   Highlight substructures of interest:\n",
        "   \n",
        "   (i) highlight specific bonds or atoms:\n",
        "\n",
        "        *masked chemical structure*\n",
        "[![acetone showing location of mask](https://github.com/deloragaskins/data_science_public/blob/144be523b6645a21b75753dc810040098824318e/DK_tutorials/acetone_mask.png)](https://github.com/deloragaskins/data_science_public/blob/144be523b6645a21b75753dc810040098824318e/DK_tutorials/acetone_mask.png )\n",
        "\n",
        "    (ii)  highlight structure differences:\n",
        "\n",
        "    *Differences between original and prediction*:\n",
        "[![acetone vs another solution to mask](https://github.com/deloragaskins/data_science_public/blob/144be523b6645a21b75753dc810040098824318e/DK_tutorials/compare_differences_in_masked_prediction.png)](https://github.com/deloragaskins/data_science_public/blob/144be523b6645a21b75753dc810040098824318e/DK_tutorials/compare_differences_in_masked_prediction.png )\n",
        "\n",
        "\n",
        "\n",
        "\n",
        "\n",
        "\n",
        "**Example Problem Outline**\n",
        "We will use a pretrained model to make a prediction of a masked token for SMILES representation of a molecule that is in the ClinTox datahase. \n",
        "\n",
        "*Select molecule*\n",
        "*   Load Clintox database\n",
        "*   Explore first 25 structures* (LO1)\n",
        "*   Choose a structure and highlight functional groups/substructures (LO2)\n",
        "\n",
        "*Make masked token prediction*\n",
        "*   Highlight mask* (LO2)\n",
        "*   Set up ML algorithm\n",
        "*   Run ML\n",
        "\n",
        "*Interpret results*\n",
        "*   show predictions grouped* (LO1)\n",
        "*   compare predictions and original* (LO2)\n",
        "*   check in database\n",
        "*   check for toxicity\n",
        "\n",
        "*Benefit from visualisation\n",
        "\n",
        "LO1: Learning Objective 1\n",
        "\n",
        "LO2: Learning Objective 2\n",
        "\n",
        "*Citations*\n",
        "[ Schwaller et al](https://arxiv.org/abs/2012.06051)\n",
        "\n",
        "[EPA SMILES TUTORIAL](https://archive.epa.gov/med/med_archive_03/web/html/smiles.html)\n"
      ]
    },
    {
      "cell_type": "markdown",
      "metadata": {
        "id": "PT4pFSkGj9sV"
      },
      "source": [
        "#Colab\n",
        "This tutorial and the rest in this sequence can be done in Google colab. If you'd like to open this notebook in colab, you can use the following link.\n"
      ]
    },
    {
      "cell_type": "markdown",
      "metadata": {
        "id": "TutzutxcjA7I"
      },
      "source": [
        "<a href=\"https://colab.research.google.com/github/deloragaskins/data_science_public/blob/main/ChemAsh5_VisualizingMasking.ipynb\" target=\"_parent\"><img src=\"https://colab.research.google.com/assets/colab-badge.svg\" alt=\"Open In Colab\"/></a>\n"
      ]
    },
    {
      "cell_type": "markdown",
      "metadata": {
        "id": "jzz5mQsku6S7"
      },
      "source": [
        "#Preamble"
      ]
    },
    {
      "cell_type": "code",
      "execution_count": null,
      "metadata": {
        "id": "qiogBxmSuZyq"
      },
      "outputs": [],
      "source": [
        " #suppressing output from this cell in colab\n",
        "%%capture\n",
        "\n",
        "!pip install --pre deepchem\n",
        "!pip install rdkit-pypi\n",
        "\n",
        "#to access ClinTox_ *database which has information about the toxicity of a set of molecules*\n",
        "# import MolNet dataloder from bert-loves-chemistry fork\n",
        "!git clone https://github.com/seyonechithrananda/bert-loves-chemistry.git\n",
        "%cd /content/bert-loves-chemistry\n",
        "!pwd\n",
        "from chemberta.utils.molnet_dataloader import load_molnet_dataset, write_molnet_dataset_for_chemprop\n",
        "\n",
        "#to play with and display chemical structures\n",
        "import rdkit\n",
        "import rdkit.Chem as Chem\n",
        "from rdkit.Chem import Draw as ChemDraw\n",
        "from rdkit.Chem.Draw import MolToImage\n",
        "\n",
        "import matplotlib.pyplot as plt\n",
        "from matplotlib import colors\n",
        "\n",
        "import rdkit.Chem.rdFMCS as rdFMCS\n"
      ]
    },
    {
      "cell_type": "code",
      "execution_count": null,
      "metadata": {
        "colab": {
          "base_uri": "https://localhost:8080/"
        },
        "id": "4OSSNEryKWl0",
        "outputId": "22a94744-04be-425b-bcb8-1a837fc44e34"
      },
      "outputs": [
        {
          "output_type": "stream",
          "name": "stdout",
          "text": [
            "Collecting transformers\n",
            "  Downloading transformers-4.17.0-py3-none-any.whl (3.8 MB)\n",
            "\u001b[K     |████████████████████████████████| 3.8 MB 21.9 MB/s \n",
            "\u001b[?25hRequirement already satisfied: filelock in /usr/local/lib/python3.7/dist-packages (from transformers) (3.6.0)\n",
            "Requirement already satisfied: regex!=2019.12.17 in /usr/local/lib/python3.7/dist-packages (from transformers) (2019.12.20)\n",
            "Requirement already satisfied: requests in /usr/local/lib/python3.7/dist-packages (from transformers) (2.23.0)\n",
            "Requirement already satisfied: packaging>=20.0 in /usr/local/lib/python3.7/dist-packages (from transformers) (21.3)\n",
            "Requirement already satisfied: numpy>=1.17 in /usr/local/lib/python3.7/dist-packages (from transformers) (1.21.5)\n",
            "Collecting tokenizers!=0.11.3,>=0.11.1\n",
            "  Downloading tokenizers-0.12.0-cp37-cp37m-manylinux_2_12_x86_64.manylinux2010_x86_64.whl (6.6 MB)\n",
            "\u001b[K     |████████████████████████████████| 6.6 MB 41.6 MB/s \n",
            "\u001b[?25hRequirement already satisfied: importlib-metadata in /usr/local/lib/python3.7/dist-packages (from transformers) (4.11.3)\n",
            "Collecting sacremoses\n",
            "  Downloading sacremoses-0.0.49-py3-none-any.whl (895 kB)\n",
            "\u001b[K     |████████████████████████████████| 895 kB 36.1 MB/s \n",
            "\u001b[?25hCollecting pyyaml>=5.1\n",
            "  Downloading PyYAML-6.0-cp37-cp37m-manylinux_2_5_x86_64.manylinux1_x86_64.manylinux_2_12_x86_64.manylinux2010_x86_64.whl (596 kB)\n",
            "\u001b[K     |████████████████████████████████| 596 kB 34.2 MB/s \n",
            "\u001b[?25hRequirement already satisfied: tqdm>=4.27 in /usr/local/lib/python3.7/dist-packages (from transformers) (4.63.0)\n",
            "Collecting huggingface-hub<1.0,>=0.1.0\n",
            "  Downloading huggingface_hub-0.4.0-py3-none-any.whl (67 kB)\n",
            "\u001b[K     |████████████████████████████████| 67 kB 2.4 MB/s \n",
            "\u001b[?25hRequirement already satisfied: typing-extensions>=3.7.4.3 in /usr/local/lib/python3.7/dist-packages (from huggingface-hub<1.0,>=0.1.0->transformers) (3.10.0.2)\n",
            "Requirement already satisfied: pyparsing!=3.0.5,>=2.0.2 in /usr/local/lib/python3.7/dist-packages (from packaging>=20.0->transformers) (3.0.7)\n",
            "Requirement already satisfied: zipp>=0.5 in /usr/local/lib/python3.7/dist-packages (from importlib-metadata->transformers) (3.7.0)\n",
            "Requirement already satisfied: chardet<4,>=3.0.2 in /usr/local/lib/python3.7/dist-packages (from requests->transformers) (3.0.4)\n",
            "Requirement already satisfied: urllib3!=1.25.0,!=1.25.1,<1.26,>=1.21.1 in /usr/local/lib/python3.7/dist-packages (from requests->transformers) (1.24.3)\n",
            "Requirement already satisfied: certifi>=2017.4.17 in /usr/local/lib/python3.7/dist-packages (from requests->transformers) (2021.10.8)\n",
            "Requirement already satisfied: idna<3,>=2.5 in /usr/local/lib/python3.7/dist-packages (from requests->transformers) (2.10)\n",
            "Requirement already satisfied: click in /usr/local/lib/python3.7/dist-packages (from sacremoses->transformers) (7.1.2)\n",
            "Requirement already satisfied: six in /usr/local/lib/python3.7/dist-packages (from sacremoses->transformers) (1.15.0)\n",
            "Requirement already satisfied: joblib in /usr/local/lib/python3.7/dist-packages (from sacremoses->transformers) (1.1.0)\n",
            "Installing collected packages: pyyaml, tokenizers, sacremoses, huggingface-hub, transformers\n",
            "  Attempting uninstall: pyyaml\n",
            "    Found existing installation: PyYAML 3.13\n",
            "    Uninstalling PyYAML-3.13:\n",
            "      Successfully uninstalled PyYAML-3.13\n",
            "Successfully installed huggingface-hub-0.4.0 pyyaml-6.0 sacremoses-0.0.49 tokenizers-0.12.0 transformers-4.17.0\n"
          ]
        }
      ],
      "source": [
        "\n",
        "#tools for making the predictions \n",
        "!pip install transformers\n",
        "from transformers import AutoModelForMaskedLM, AutoTokenizer, pipeline, RobertaModel, RobertaTokenizer\n",
        "import torch"
      ]
    },
    {
      "cell_type": "code",
      "execution_count": null,
      "metadata": {
        "id": "OhZksVJ6I4PA"
      },
      "outputs": [],
      "source": [
        "\n"
      ]
    },
    {
      "cell_type": "markdown",
      "metadata": {
        "id": "NGMKBs85b3ui"
      },
      "source": [
        "#Select Molecule \n"
      ]
    },
    {
      "cell_type": "markdown",
      "source": [
        "1. Load Clintox database\n",
        "2. Explore first 25 structures* (LO1)\n",
        "3. Choose 1 molecule for masked token prediction"
      ],
      "metadata": {
        "id": "pcMrDdqMuyjO"
      }
    },
    {
      "cell_type": "markdown",
      "source": [
        ""
      ],
      "metadata": {
        "id": "_IGI9oun0F6a"
      }
    },
    {
      "cell_type": "markdown",
      "source": [
        "\n",
        "We load the ClinTox dataset into a dataframe with SMILES representations and toxicity for each molecule.  \n",
        "\n"
      ],
      "metadata": {
        "id": "5F1uocfbu5WU"
      }
    },
    {
      "cell_type": "code",
      "execution_count": null,
      "metadata": {
        "colab": {
          "base_uri": "https://localhost:8080/"
        },
        "id": "Y-g_AbzsXIYM",
        "outputId": "026a5ded-229b-40a8-b16f-64524c08abfe"
      },
      "outputs": [
        {
          "output_type": "stream",
          "name": "stderr",
          "text": [
            "'split' is deprecated.  Use 'splitter' instead.\n",
            "Failed to featurize datapoint 7, None. Appending empty array\n",
            "Exception message: Python argument types in\n",
            "    rdkit.Chem.rdmolfiles.CanonicalRankAtoms(NoneType)\n",
            "did not match C++ signature:\n",
            "    CanonicalRankAtoms(RDKit::ROMol mol, bool breakTies=True, bool includeChirality=True, bool includeIsotopes=True)\n",
            "Failed to featurize datapoint 302, None. Appending empty array\n",
            "Exception message: Python argument types in\n",
            "    rdkit.Chem.rdmolfiles.CanonicalRankAtoms(NoneType)\n",
            "did not match C++ signature:\n",
            "    CanonicalRankAtoms(RDKit::ROMol mol, bool breakTies=True, bool includeChirality=True, bool includeIsotopes=True)\n",
            "Failed to featurize datapoint 983, None. Appending empty array\n",
            "Exception message: Python argument types in\n",
            "    rdkit.Chem.rdmolfiles.CanonicalRankAtoms(NoneType)\n",
            "did not match C++ signature:\n",
            "    CanonicalRankAtoms(RDKit::ROMol mol, bool breakTies=True, bool includeChirality=True, bool includeIsotopes=True)\n",
            "Failed to featurize datapoint 984, None. Appending empty array\n",
            "Exception message: Python argument types in\n",
            "    rdkit.Chem.rdmolfiles.CanonicalRankAtoms(NoneType)\n",
            "did not match C++ signature:\n",
            "    CanonicalRankAtoms(RDKit::ROMol mol, bool breakTies=True, bool includeChirality=True, bool includeIsotopes=True)\n",
            "Failed to featurize datapoint 1219, None. Appending empty array\n",
            "Exception message: Python argument types in\n",
            "    rdkit.Chem.rdmolfiles.CanonicalRankAtoms(NoneType)\n",
            "did not match C++ signature:\n",
            "    CanonicalRankAtoms(RDKit::ROMol mol, bool breakTies=True, bool includeChirality=True, bool includeIsotopes=True)\n",
            "Failed to featurize datapoint 1220, None. Appending empty array\n",
            "Exception message: Python argument types in\n",
            "    rdkit.Chem.rdmolfiles.CanonicalRankAtoms(NoneType)\n",
            "did not match C++ signature:\n",
            "    CanonicalRankAtoms(RDKit::ROMol mol, bool breakTies=True, bool includeChirality=True, bool includeIsotopes=True)\n",
            "/usr/local/lib/python3.7/dist-packages/deepchem/feat/base_classes.py:305: VisibleDeprecationWarning: Creating an ndarray from ragged nested sequences (which is a list-or-tuple of lists-or-tuples-or ndarrays with different lengths or shapes) is deprecated. If you meant to do this, you must specify 'dtype=object' when creating the ndarray.\n",
            "  return np.asarray(features)\n"
          ]
        },
        {
          "output_type": "stream",
          "name": "stdout",
          "text": [
            "Using tasks ['CT_TOX'] from available tasks for clintox: ['FDA_APPROVED', 'CT_TOX']\n"
          ]
        }
      ],
      "source": [
        "tasks, (train_df, valid_df, test_df), transformers = load_molnet_dataset(\"clintox\", tasks_wanted=None)\n",
        "full_ClinTox_df = train_df.append(valid_df, ignore_index=True)\n",
        "full_ClinTox_df=full_ClinTox_df.append(test_df, ignore_index=True)\n"
      ]
    },
    {
      "cell_type": "markdown",
      "metadata": {
        "id": "F1zcgYIDRtp0"
      },
      "source": [
        "\n",
        "We take a look at the SMILES for the first 25 and visualize their structures"
      ]
    },
    {
      "cell_type": "code",
      "execution_count": null,
      "metadata": {
        "colab": {
          "base_uri": "https://localhost:8080/"
        },
        "id": "9sFFN1q2I04a",
        "outputId": "7c9b1a65-f4b4-4929-c7fc-1711577a3640"
      },
      "outputs": [
        {
          "output_type": "execute_result",
          "data": {
            "text/plain": [
              "0         CC(C)C[C@H](NC(=O)CNC(=O)c1cc(Cl)ccc1Cl)B(O)O\n",
              "1     O=C(NCC(O)CO)c1c(I)c(C(=O)NCC(O)CO)c(I)c(N(CCO...\n",
              "2                              Clc1cc(Cl)c(OCC#CI)cc1Cl\n",
              "3     N#Cc1cc(NC(=O)C(=O)[O-])c(Cl)c(NC(=O)C(=O)[O-])c1\n",
              "4                NS(=O)(=O)c1cc(Cl)c(Cl)c(S(N)(=O)=O)c1\n",
              "5                       NC(N)=[NH+]C(=O)Cc1c(Cl)cccc1Cl\n",
              "6                         [NH3+]C[C@H](O)c1ccc(O)c(O)c1\n",
              "7                [NH3+][C@@H](Cc1ccc(O)c(O)c1)C(=O)[O-]\n",
              "8                                [NH3+]CCc1ccc(O)c(O)c1\n",
              "9                               Nc1ccc(O)c(C(=O)[O-])c1\n",
              "10                              Nc1ccc(C(=O)[O-])c(O)c1\n",
              "11                         NC(N)=[NH+]Cc1cccc([131I])c1\n",
              "12    O=C(N[C@H](CO)[C@H](O)c1ccc([N+](=O)[O-])cc1)[...\n",
              "13    O=C([O-])CCC(=O)OC[C@@H](NC(=O)[C-](Cl)Cl)[C@H...\n",
              "14                     [NH3+]CC(CC(=O)[O-])c1ccc(Cl)cc1\n",
              "15                          Nc1ccc(C(=O)NCC(=O)[O-])cc1\n",
              "16        [NH3+][C@@H](Cc1ccc(N(CCCl)CCCl)cc1)C(=O)[O-]\n",
              "17                  [NH3+][C@@H](Cc1ccc(O)cc1)C(=O)[O-]\n",
              "18                          NS(=O)(=O)c1ccc(C[NH3+])cc1\n",
              "19                    O=C([O-])CCCc1ccc(N(CCCl)CCCl)cc1\n",
              "20                                Nc1ccc(S(N)(=O)=O)cc1\n",
              "21                                         Oc1ccc(O)cc1\n",
              "22                           NC(=O)OCC(O)COc1ccc(Cl)cc1\n",
              "23       O=P([O-])([O-])C(Sc1ccc(Cl)cc1)P(=O)([O-])[O-]\n",
              "24                          NC(=O)OCC(COC(N)=O)c1ccccc1\n",
              "Name: text, dtype: object"
            ]
          },
          "metadata": {},
          "execution_count": 7
        }
      ],
      "source": [
        "length_peek=25\n",
        "full_ClinTox_df['text'].head(length_peek)"
      ]
    },
    {
      "cell_type": "code",
      "execution_count": null,
      "metadata": {
        "colab": {
          "base_uri": "https://localhost:8080/",
          "height": 646
        },
        "id": "7zw9oKkrzop6",
        "outputId": "2f78adf7-fba7-4da7-a625-a0d670eccc4a"
      },
      "outputs": [
        {
          "output_type": "execute_result",
          "data": {
            "text/plain": [
              "<PIL.PngImagePlugin.PngImageFile image mode=RGB size=1000x1000 at 0x7F8474049F90>"
            ],
            "image/png": "[encoded data removed]"
          },
          "metadata": {},
          "execution_count": 8
        }
      ],
      "source": [
        "\n",
        "ms = [Chem.MolFromSmiles(x) for x in full_ClinTox_df['text'][:length_peek]]\n",
        "ChemDraw.MolsToGridImage(ms,molsPerRow=5)"
      ]
    },
    {
      "cell_type": "markdown",
      "metadata": {
        "id": "8ksQRgB4cm6Q"
      },
      "source": [
        "\n",
        "From these structures, we focus on fairly simple molecule for masked token prediction. "
      ]
    },
    {
      "cell_type": "code",
      "execution_count": null,
      "metadata": {
        "colab": {
          "base_uri": "https://localhost:8080/",
          "height": 317
        },
        "id": "QwA73SZCGsC9",
        "outputId": "55fb2f2f-d258-469b-9386-fbd73f75b399"
      },
      "outputs": [
        {
          "output_type": "execute_result",
          "data": {
            "text/plain": [
              "<PIL.PngImagePlugin.PngImageFile image mode=RGB size=300x300 at 0x7F8471425950>"
            ],
            "image/png": "[encoded data removed]"
          },
          "metadata": {},
          "execution_count": 9
        }
      ],
      "source": [
        "molecule_num=4*5+1\n",
        "molecule_str=full_ClinTox_df['text'][molecule_num]\n",
        "molecule=Chem.MolFromSmiles(molecule_str) \n",
        "ChemDraw.MolToImage(molecule)"
      ]
    },
    {
      "cell_type": "markdown",
      "metadata": {
        "id": "-XXHuuh3P5HO"
      },
      "source": [
        "# Make a masked token prediction \n",
        "\n",
        "\n"
      ]
    },
    {
      "cell_type": "markdown",
      "source": [
        "1. Highlight mask* (LO2)\n",
        "2.Set up ML algorithm\n",
        "3.Run ML\n",
        "\n"
      ],
      "metadata": {
        "id": "x1TRCiFaughJ"
      }
    },
    {
      "cell_type": "markdown",
      "metadata": {
        "id": "uftUG_kESmKq"
      },
      "source": [
        "There are two chemically identical substitutions on the aromatic ring here which are represented with different characters in the original SMILES representation. Here we visualize each individually. "
      ]
    },
    {
      "cell_type": "code",
      "source": [
        "#function to select substruct if there are multiple matches\n",
        "def extract_nth_substructure(substructures,n):\n",
        "  if len(substructures)>1:\n",
        "    print('This substructure occurs in multiple places in the molecule')\n",
        "  elif len(substructures)==1:\n",
        "    print('This substructure occurs only once in the molecule')\n",
        "  else:\n",
        "    print('This substructure does not appear in the molecule.')\n",
        "  Atoms_list=[]  \n",
        "  substructure=substructures[n]\n",
        "  for atom_counter in range(len(substructure)):\n",
        "    Atoms_list.append(substructure[atom_counter])\n",
        "\n",
        "  hit_bonds=[]\n",
        "  for bond in Chem.MolFromSmarts(substructure_smarts).GetBonds():\n",
        "      aid1 = Atoms_list[bond.GetBeginAtomIdx()]\n",
        "      aid2 = Atoms_list[bond.GetEndAtomIdx()]\n",
        "      hit_bonds.append(molecule.GetBondBetweenAtoms(aid1,aid2).GetIdx())\n",
        "  Bonds_list=hit_bonds\n",
        "  return Atoms_list,Bonds_list\n",
        "\n",
        "def image_of_nth_substructure(substructure_smarts,molecule_smiles,n):\n",
        "  m=Chem.MolFromSmiles(molecule_smiles)\n",
        "  substructures=m.GetSubstructMatches(Chem.MolFromSmarts(substructure_smarts))\n",
        "  Atoms_list,Bonds_list=extract_nth_substructure(substructures,n)\n",
        "  hcolor = colors.to_rgb('violet')\n",
        "  img = MolToImage(m, size=(600, 600),fitImage=True,highlightAtoms=Atoms_list,highlightColor=hcolor)\n",
        "  return img\n",
        "substructure_smarts='O'\n",
        "molecule_smiles=molecule_str\n",
        "\n",
        "number_of_hits=2\n",
        "number_of_rows=1\n",
        "number_of_columns=number_of_hits\n",
        "for n in range(number_of_hits):\n",
        "  plt.subplot(number_of_rows,number_of_columns,n+1)\n",
        "  plt.imshow(image_of_nth_substructure(substructure_smarts,molecule_smiles,n))\n",
        "  plt.xticks([])\n",
        "  plt.yticks([])\n",
        "\n"
      ],
      "metadata": {
        "colab": {
          "base_uri": "https://localhost:8080/",
          "height": 221
        },
        "id": "Kl21b0d9l26a",
        "outputId": "3b1a7ff8-c0eb-4159-c988-e473d988d706"
      },
      "execution_count": null,
      "outputs": [
        {
          "output_type": "stream",
          "name": "stdout",
          "text": [
            "This substructure occurs in multiple places in the molecule\n",
            "This substructure occurs in multiple places in the molecule\n"
          ]
        },
        {
          "output_type": "display_data",
          "data": {
            "text/plain": [
              "<Figure size 432x288 with 2 Axes>"
            ],
            "image/png": "[encoded data removed]"
          },
          "metadata": {}
        }
      ]
    },
    {
      "cell_type": "markdown",
      "metadata": {
        "id": "jD6M4979TOYb"
      },
      "source": [
        "Here we select the model for the masked token prediction detailed further in Transfer_Learning_With_ChemBERTa_Transformers notebook in the tutorials. \n",
        "\n",
        "We also select to mask the hydroxyl group that is represented in the middle of the SMILES representation for this molecule."
      ]
    },
    {
      "cell_type": "code",
      "source": [
        ""
      ],
      "metadata": {
        "id": "L3XArwWsdR4C"
      },
      "execution_count": null,
      "outputs": []
    },
    {
      "cell_type": "code",
      "source": [
        "#functions to streamline prediction section\n",
        "def addmask(molecule_str,mask_str,mask_start_pos,mask_end_pos):\n",
        "  masked=''\n",
        "  for counter0 in range(len(molecule_str)):\n",
        "    if mask_len>0:\n",
        "      if counter0 in range(mask_start_pos,mask_end_pos):\n",
        "        masked+=''\n",
        "      elif counter0 == mask_end_pos:\n",
        "        masked+=mask_str\n",
        "      else:\n",
        "        masked+=molecule_str[counter0]\n",
        "    else:\n",
        "        masked+=molecule_str[counter0]\n",
        "  #print(masked)\n",
        "  return masked\n",
        "\n",
        "def predict_n(sequence,n):\n",
        "  input = tokenizer.encode(sequence, return_tensors=\"pt\")\n",
        "  mask_token_index = torch.where(input == tokenizer.mask_token_id)[1]\n",
        "\n",
        "  token_logits = model(input)[0]\n",
        "  mask_token_logits = token_logits[0, mask_token_index, :]\n",
        "  top_n_tokens = torch.topk(mask_token_logits, n, dim=1).indices[0].tolist()\n",
        "  #print(top_n_tokens)\n",
        "\n",
        "  valid_mols_list=[]\n",
        "  for token in top_n_tokens:\n",
        "    smi = (sequence.replace(tokenizer.mask_token, tokenizer.decode([token])))\n",
        "    print (smi)\n",
        "    smi_mol = Chem.MolFromSmiles(smi)\n",
        "    if smi_mol is None: # if the model's token prediction isn't chemically feasible\n",
        "      continue\n",
        "    valid_mols_list.append((smi))\n",
        "  return valid_mols_list\n",
        "\n",
        "################################################################################"
      ],
      "metadata": {
        "id": "9ioBdym8wF8a"
      },
      "execution_count": null,
      "outputs": []
    },
    {
      "cell_type": "code",
      "execution_count": null,
      "metadata": {
        "id": "ne46dsyRJv91"
      },
      "outputs": [],
      "source": [
        "#setup machine learning alg: details \n",
        "\n",
        "#take pretrained model and define the pipeline\n",
        "model = AutoModelForMaskedLM.from_pretrained(\"seyonec/PubChem10M_SMILES_BPE_450k\")\n",
        "tokenizer = AutoTokenizer.from_pretrained(\"seyonec/PubChem10M_SMILES_BPE_450k\")\n",
        "\n",
        "fill_mask = pipeline('fill-mask', model=model, tokenizer=tokenizer)"
      ]
    },
    {
      "cell_type": "code",
      "execution_count": null,
      "metadata": {
        "id": "CtniYcAFLA8X"
      },
      "outputs": [],
      "source": [
        "#Make valid predictions for single masked position \n",
        "Cell_label='Make Predictions'\n",
        "\n",
        "mask_start_pos=7\n",
        "mask_char_type='atom' #'bond' #'atom','ring'\n",
        "\n",
        "mask_end_pos=mask_start_pos\n",
        "mask_len=mask_end_pos-mask_start_pos+1\n",
        "mask_str='<mask>'\n",
        "\n",
        "smiles_mask=addmask(molecule_str,mask_str,mask_start_pos,mask_end_pos)\n",
        "replaced=molecule_str[mask_start_pos:mask_end_pos+mask_len]\n",
        "\n",
        "sequence = smiles_mask.replace('<mask>',tokenizer.mask_token)\n",
        "\n",
        "print(molecule_str)\n",
        "print(replaced)\n",
        "\n",
        "n1=5\n",
        "valid_smi_list=predict_n(sequence,n1)"
      ]
    },
    {
      "cell_type": "markdown",
      "source": [
        "# Interpret Results"
      ],
      "metadata": {
        "id": "6SLq4xnFszCt"
      }
    },
    {
      "cell_type": "markdown",
      "source": [
        "1. show predictions grouped* (LO1)\n",
        "2. compare predictions and original* (LO2)\n",
        "3. check in database\n",
        "4. check for toxicity"
      ],
      "metadata": {
        "id": "LnyvXf6zuOqf"
      }
    },
    {
      "cell_type": "markdown",
      "metadata": {
        "id": "WAiuHNKtUsPA"
      },
      "source": [
        "We show the results of the prediction as both SMILES and chemical structures. In addition, several additional valid structures are predicted.. "
      ]
    },
    {
      "cell_type": "code",
      "execution_count": null,
      "metadata": {
        "id": "23HtxTrPNeQh"
      },
      "outputs": [],
      "source": [
        "Cell_label='Show Prediction results'\n",
        "\n",
        "valid_mols_list=[Chem.MolFromSmiles(x) for x in valid_smi_list ]\n",
        "\n",
        "ChemDraw.MolsToGridImage(valid_mols_list,molsPerRow=n1)"
      ]
    },
    {
      "cell_type": "code",
      "source": [
        "def difference_Hs_2(mol1, mol2):\n",
        "    mol1=Chem.AddHs(mol1)\n",
        "    mol2=Chem.AddHs(mol2)\n",
        "    mcs = rdFMCS.FindMCS([mol1,mol2])\n",
        "    mcs_mol = Chem.MolFromSmarts(mcs.smartsString)\n",
        "    match2 = mol2.GetSubstructMatch(mcs_mol)\n",
        "    target_atm2 = []\n",
        "    for atom in mol2.GetAtoms():\n",
        "        if atom.GetIdx() not in match2:\n",
        "            target_atm2.append(atom.GetIdx())\n",
        "    return target_atm2\n",
        "\n",
        "\n"
      ],
      "metadata": {
        "id": "DhufQVwuFDzB"
      },
      "execution_count": null,
      "outputs": []
    },
    {
      "cell_type": "code",
      "source": [
        "originalmol=molecule\n",
        "HighlightDiffList=[]\n",
        "valid_mols_list_Hs=[]\n",
        "for mols in valid_mols_list:\n",
        "  HighlightDiffList.append(difference_Hs_2(originalmol, mols))\n",
        "  valid_mols_list_Hs.append(Chem.AddHs(mols))\n",
        "\n",
        "ChemDraw.MolsToGridImage(valid_mols_list_Hs,highlightAtomLists=HighlightDiffList,molsPerRow=len(valid_mols_list))\n"
      ],
      "metadata": {
        "id": "QgpQq0iJRnEu"
      },
      "execution_count": null,
      "outputs": []
    },
    {
      "cell_type": "markdown",
      "metadata": {
        "id": "ZUVofbklV11g"
      },
      "source": [
        "We see that this structure in not present in ClinTox but that it does have some toxicity."
      ]
    },
    {
      "cell_type": "code",
      "source": [
        "################################################################################\n",
        "#function to support the querying of ClinTox\n",
        "def canon_smiles(text):\n",
        "  #Cell_label='Check Clintox for Prediction'\n",
        "  text=Chem.MolToSmiles(Chem.MolFromSmiles(text))\n",
        "  return text"
      ],
      "metadata": {
        "id": "c4gVFviMw0Wt"
      },
      "execution_count": null,
      "outputs": []
    },
    {
      "cell_type": "code",
      "execution_count": null,
      "metadata": {
        "id": "uHhJSmIjUrqe"
      },
      "outputs": [],
      "source": [
        "Cell_label='Check Clintox for Prediction'\n",
        "pred_1=valid_mols_list_Hs[1]\n",
        "full_ClinTox_df['canonical_smiles']= full_ClinTox_df['text'].apply(canon_smiles)\n",
        "print(full_ClinTox_df[full_ClinTox_df['canonical_smiles'].str.match(Chem.MolToSmiles(pred_1))])"
      ]
    },
    {
      "cell_type": "code",
      "execution_count": null,
      "metadata": {
        "id": "w_BI7ZbIeb1t"
      },
      "outputs": [],
      "source": [
        "#Toxicity information for predicted compound\n",
        "#https://pubchem.ncbi.nlm.nih.gov/compound/4684#section=Toxicity"
      ]
    },
    {
      "cell_type": "markdown",
      "metadata": {
        "id": "-lV5D5aXjk0o"
      },
      "source": [
        "#Congratulations! Time to join the Community!\n",
        "Congratulations on completing this tutorial notebook! If you enjoyed working through the tutorial, and want to continue working with DeepChem, we encourage you to finish the rest of the tutorials in this series. You can also help the DeepChem community in the following ways:\n",
        "\n",
        "#Star DeepChem on Github\n",
        "This helps build awareness of the DeepChem project and the tools for open source drug discovery that we're trying to build.\n",
        "\n",
        "#Join the DeepChem Gitter\n",
        "The DeepChem Gitter hosts a number of scientists, developers, and enthusiasts interested in deep learning for the life sciences. Join the conversation!"
      ]
    }
  ],
  "metadata": {
    "colab": {
      "collapsed_sections": [
        "PT4pFSkGj9sV",
        "-lV5D5aXjk0o"
      ],
      "name": "Visualizing_Masking_For_Token_Prediction.ipynb",
      "provenance": [],
      "include_colab_link": true
    },
    "kernelspec": {
      "display_name": "Python 3 (ipykernel)",
      "language": "python",
      "name": "python3"
    },
    "language_info": {
      "codemirror_mode": {
        "name": "ipython",
        "version": 3
      },
      "file_extension": ".py",
      "mimetype": "text/x-python",
      "name": "python",
      "nbconvert_exporter": "python",
      "pygments_lexer": "ipython3",
      "version": "3.9.5"
    }
  },
  "nbformat": 4,
  "nbformat_minor": 0
}