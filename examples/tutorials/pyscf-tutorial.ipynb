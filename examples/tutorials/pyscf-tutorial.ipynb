{
 "cells": [
  {
   "cell_type": "markdown",
   "metadata": {},
   "source": [
    "# DENSITY FUNCTIONAL THEORY USING PYSCF \n",
    "\n",
    "In this tutorial we will discuss how to perform Density Functional Theory calculations for various molecules using the PySCF library.\n"
   ]
  },
  {
   "cell_type": "markdown",
   "metadata": {},
   "source": [
    "## Setup \n",
    "\n",
    "### Installing libraries"
   ]
  },
  {
   "cell_type": "code",
   "execution_count": 2,
   "metadata": {},
   "outputs": [
    {
     "name": "stdout",
     "output_type": "stream",
     "text": [
      "\u001b[33mDEPRECATION: Configuring installation scheme with distutils config files is deprecated and will no longer work in the near future. If you are using a Homebrew or Linuxbrew Python, please see discussion at https://github.com/Homebrew/homebrew-core/issues/76621\u001b[0m\u001b[33m\n",
      "\u001b[0mRequirement already satisfied: pyscf in /usr/local/lib/python3.8/site-packages (2.0.1)\n",
      "Requirement already satisfied: scipy!=1.5.0,!=1.5.1 in /usr/local/lib/python3.8/site-packages (from pyscf) (1.5.4)\n",
      "Requirement already satisfied: h5py>=2.7 in /usr/local/lib/python3.8/site-packages (from pyscf) (3.7.0)\n",
      "Requirement already satisfied: numpy!=1.16,!=1.17,>=1.13 in /usr/local/lib/python3.8/site-packages (from pyscf) (1.22.4)\n",
      "\u001b[33mDEPRECATION: Configuring installation scheme with distutils config files is deprecated and will no longer work in the near future. If you are using a Homebrew or Linuxbrew Python, please see discussion at https://github.com/Homebrew/homebrew-core/issues/76621\u001b[0m\u001b[33m\n",
      "\u001b[0m"
     ]
    }
   ],
   "source": [
    "! pip install pyscf "
   ]
  },
  {
   "cell_type": "markdown",
   "metadata": {},
   "source": [
    "### Import required modules"
   ]
  },
  {
   "cell_type": "code",
   "execution_count": 3,
   "metadata": {},
   "outputs": [],
   "source": [
    "from pyscf import gto\n",
    "from pyscf import dft"
   ]
  },
  {
   "cell_type": "markdown",
   "metadata": {},
   "source": [
    "## Introduction to DFT\n",
    "\n",
    "The wave function is a useful mathematical construct for calculating the total energy of atoms and molecules, as well as other features. However, it can be very computationally expensive to compute even for few particle systems. Hence, the DFT is useful for predicting the behaviour of particles in a quantum system. \n",
    "\n",
    "### The many body problem \n",
    "\n",
    "\n",
    "\n",
    "<img src=\"~/Desktop/poteq.jpg\" width=\"100\" height=\"40\">\n",
    "\n",
    "This is the potential energy term of the Schodinger's equation of a many particle system. \n",
    "\n",
    "<img src=\"~/Desktop/kineq.jpg\" width=\"100\" height=\"40\">\n",
    "\n",
    "This is the kinetic energy term of the Schodinger's equation of a many particle system.\n",
    "\n",
    "As we can see from the equations, the summation is over all electrons and ions in the system, which would be of the order of 10^23 particles , resulting in a large number of unknown variables.\n",
    "Reference: [1]"
   ]
  },
  {
   "cell_type": "markdown",
   "metadata": {},
   "source": [
    "### Kohn Sham Density Functional Theory\n"
   ]
  },
  {
   "cell_type": "markdown",
   "metadata": {},
   "source": [
    "## Building the Molecule \n",
    "\n",
    "- The 'gto' command is used to initialise the molecule.\n",
    "- The three numbers beside the atom determine it's coordinates in the basis system. (most calculations do not use the planar system as it yields inaccurate results)\n",
    "\n",
    "NOTE: The basis determines the accuracy of the calculations. The number of Kohn Sham equations depends on the basis that has been chosen. If the basis chosen is more localised on the molecule, the number of equations will be less. It is similar to the concept of \"data fitting\" where the right initial guess equation must be chosen for a better fit. \n",
    "\n",
    "\n",
    "The example shown below is for a water molecule "
   ]
  },
  {
   "cell_type": "code",
   "execution_count": 10,
   "metadata": {},
   "outputs": [],
   "source": [
    "\n",
    "mol = gto.M(\n",
    "    atom = '''\n",
    "    O  0.   0.       0.\n",
    "    H  0.   2.       0.\n",
    "    H  0.   0.       2. ''',\n",
    "    basis = 'ccpvdz')"
   ]
  },
  {
   "cell_type": "markdown",
   "metadata": {},
   "source": [
    "Exchange Correlation Functional \n"
   ]
  },
  {
   "cell_type": "markdown",
   "metadata": {},
   "source": [
    "Numerical Grids\n",
    "\n",
    "Either rectangular or radial grids may be used depending on the problem. The examples in this tutorial use rectangular grids. An example below (where the molecule is the water molecule built above) shows the difference between two difference grids being used, just for reference."
   ]
  },
  {
   "cell_type": "code",
   "execution_count": 11,
   "metadata": {},
   "outputs": [
    {
     "name": "stdout",
     "output_type": "stream",
     "text": [
      "converged SCF energy = -75.5217424548572\n",
      "Default DFT(LDA).  E = -75.521742454857\n",
      "converged SCF energy = -75.5217423020953\n",
      "Changed radial grids for DFT.  E = -75.521742302095\n"
     ]
    }
   ],
   "source": [
    "method = dft.KS(mol)\n",
    "print('Default DFT(LDA).  E = %.12f' % method.kernel())\n",
    "method = dft.KS(mol)\n",
    "method.grids.radi_method = dft.mura_knowles\n",
    "print('Changed radial grids for DFT.  E = %.12f' % method.kernel())"
   ]
  },
  {
   "cell_type": "markdown",
   "metadata": {},
   "source": [
    "Simple Example 1- Hydrogen Fluoride:\n",
    "\n",
    "This example shows how to calculate the molecular orbital energy using the Kohn Shahm Density Functional theory. Here we are using a pre defined basis and xc functional known as the "
   ]
  },
  {
   "cell_type": "code",
   "execution_count": 29,
   "metadata": {},
   "outputs": [
    {
     "name": "stdout",
     "output_type": "stream",
     "text": [
      "converged SCF energy = -100.291540824411\n",
      "-100.29154082441072\n",
      "99.70845917558928\n"
     ]
    }
   ],
   "source": [
    "import pyscf\n",
    "mol = pyscf.M(\n",
    "    atom = 'H 0 0 0; F 0 0 1.1', \n",
    "    basis = '631g',\n",
    "    symmetry = True,\n",
    ")\n",
    "mf = mol.KS()\n",
    "mf.xc = 'pbe0'\n",
    "mf.kernel()\n",
    "mf.analyze()"
   ]
  },
  {
   "cell_type": "code",
   "execution_count": 46,
   "metadata": {},
   "outputs": [
    {
     "name": "stdout",
     "output_type": "stream",
     "text": [
      "converged SCF energy = -100.305123028129\n",
      "converged SCF energy = -100.305123028129\n",
      "converged SCF energy = -100.307844305017\n",
      "converged SCF energy = -100.305123028129\n",
      "converged SCF energy = -100.305123028129\n",
      "converged SCF energy = -100.307844305017\n",
      "converged SCF energy = -100.305123028129\n",
      "converged SCF energy = -100.305123028129\n",
      "converged SCF energy = -100.307844305017\n",
      "converged SCF energy = -100.305123028129\n",
      "converged SCF energy = -100.305123028129\n",
      "converged SCF energy = -100.307844305017\n",
      "converged SCF energy = -100.305123028129\n",
      "converged SCF energy = -100.305123028129\n",
      "converged SCF energy = -100.307844305017\n",
      "converged SCF energy = -100.305123028129\n",
      "converged SCF energy = -100.305123028129\n",
      "converged SCF energy = -100.307844305017\n",
      "converged SCF energy = -100.305123028129\n",
      "converged SCF energy = -100.305123028129\n",
      "converged SCF energy = -100.307844305017\n",
      "converged SCF energy = -100.305123028129\n",
      "converged SCF energy = -100.305123028129\n",
      "converged SCF energy = -100.307844305017\n",
      "converged SCF energy = -100.305123028129\n",
      "converged SCF energy = -100.305123028129\n",
      "converged SCF energy = -100.307844305017\n",
      "converged SCF energy = -100.305123028129\n",
      "converged SCF energy = -100.305123028129\n",
      "converged SCF energy = -100.307844305017\n"
     ]
    },
    {
     "data": {
      "image/png": "[encoded data removed]",
      "text/plain": [
       "<Figure size 432x288 with 1 Axes>"
      ]
     },
     "metadata": {
      "needs_background": "light"
     },
     "output_type": "display_data"
    }
   ],
   "source": [
    "import pyscf\n",
    "import math \n",
    "import matplotlib.pyplot as plt\n",
    "mol = pyscf.M(\n",
    "    atom = 'H 0 0 0; F 0 0 1.0', \n",
    "    basis = '631g',\n",
    "    symmetry = True,\n",
    ")\n",
    "mf = mol.KS()\n",
    "mf.xc = 'pbe0'\n",
    "def gen_moles(mol, disp):\n",
    "    j=0\n",
    "    coords = mol.atom_coords()\n",
    "    natoms = len(coords)\n",
    "    mol_a, mol_s = [],[]\n",
    "    cscf=[]\n",
    "    bondl=[]\n",
    "    for k in range(5):\n",
    "        for i in range(natoms):\n",
    "            for x in range(3):\n",
    "                new_coords_a, new_coords_s = coords.copy(), coords.copy()\n",
    "                new_coords_a[i][x] += disp\n",
    "                atoma = [[mol.atom_symbol(j), coord] for (j, coord) in zip(range(natoms), new_coords_a)]\n",
    "                bondl.append(math.dist(new_coords_a[0],new_coords_a[1]))               \n",
    "                mol_a.append(mol.set_geom_(atoma, inplace=False, unit='B'))\n",
    "                mf = mol_a[x].KS()\n",
    "                mf.xc = 'pbe0' \n",
    "                cscf.append(mf.kernel())\n",
    "        disp=disp+0.1\n",
    "    plt.scatter(bondl,cscf)\n",
    "    plt.show() \n",
    "gen_moles(mol,0.1)"
   ]
  },
  {
   "cell_type": "markdown",
   "metadata": {},
   "source": [
    "Result Analysis for example 1\n",
    "\n",
    "As seen from the output, the \n"
   ]
  },
  {
   "cell_type": "markdown",
   "metadata": {},
   "source": [
    "## Citations:\n",
    " - [1] Clark, S., 2012. The Many-Electron Schrödinger Equation. [online] Cmt.dur.ac.uk. Available at: <http://cmt.dur.ac.uk/sjc/thesis_mcg/node161.html> [Accessed 10 June 2022].\n",
    " - [2] Baseden, Kyle A., and Jesse W. Tye. \"Introduction to density functional theory: calculations by hand on the helium atom.\" Journal of Chemical Education 91.12 (2014): 2116-2123."
   ]
  }
 ],
 "metadata": {
  "interpreter": {
   "hash": "aee8b7b246df8f9039afb4144a1f6fd8d2ca17a180786b69acc140d282b71a49"
  },
  "kernelspec": {
   "display_name": "Python 3.8.5 64-bit",
   "language": "python",
   "name": "python3"
  },
  "language_info": {
   "codemirror_mode": {
    "name": "ipython",
    "version": 3
   },
   "file_extension": ".py",
   "mimetype": "text/x-python",
   "name": "python",
   "nbconvert_exporter": "python",
   "pygments_lexer": "ipython3",
   "version": "3.8.5"
  },
  "orig_nbformat": 4
 },
 "nbformat": 4,
 "nbformat_minor": 2
}
