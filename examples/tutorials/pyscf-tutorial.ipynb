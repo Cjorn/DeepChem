{
 "cells": [
  {
   "cell_type": "markdown",
   "metadata": {},
   "source": [
    "# DENSITY FUNCTIONAL THEORY USING PYSCF \n",
    "\n",
    "In this tutorial we will discuss how to perform Density Functional Theory calculations for various molecules using the PySCF library.\n"
   ]
  },
  {
   "cell_type": "markdown",
   "metadata": {},
   "source": [
    "## Setup \n",
    "\n",
    "### Installing libraries"
   ]
  },
  {
   "cell_type": "code",
   "execution_count": 2,
   "metadata": {},
   "outputs": [
    {
     "name": "stdout",
     "output_type": "stream",
     "text": [
      "\u001b[33mDEPRECATION: Configuring installation scheme with distutils config files is deprecated and will no longer work in the near future. If you are using a Homebrew or Linuxbrew Python, please see discussion at https://github.com/Homebrew/homebrew-core/issues/76621\u001b[0m\u001b[33m\n",
      "\u001b[0mRequirement already satisfied: pyscf in /usr/local/lib/python3.8/site-packages (2.0.1)\n",
      "Requirement already satisfied: scipy!=1.5.0,!=1.5.1 in /usr/local/lib/python3.8/site-packages (from pyscf) (1.5.4)\n",
      "Requirement already satisfied: h5py>=2.7 in /usr/local/lib/python3.8/site-packages (from pyscf) (3.7.0)\n",
      "Requirement already satisfied: numpy!=1.16,!=1.17,>=1.13 in /usr/local/lib/python3.8/site-packages (from pyscf) (1.22.4)\n",
      "\u001b[33mDEPRECATION: Configuring installation scheme with distutils config files is deprecated and will no longer work in the near future. If you are using a Homebrew or Linuxbrew Python, please see discussion at https://github.com/Homebrew/homebrew-core/issues/76621\u001b[0m\u001b[33m\n",
      "\u001b[0m"
     ]
    }
   ],
   "source": [
    "! pip install pyscf "
   ]
  },
  {
   "cell_type": "markdown",
   "metadata": {},
   "source": [
    "### Import required modules"
   ]
  },
  {
   "cell_type": "code",
   "execution_count": 3,
   "metadata": {},
   "outputs": [],
   "source": [
    "from pyscf import gto\n",
    "from pyscf import dft"
   ]
  },
  {
   "cell_type": "markdown",
   "metadata": {},
   "source": [
    "## Introduction to DFT\n",
    "\n",
    "The wave function is a useful mathematical construct for calculating the total energy of atoms and molecules, as well as other features. However, it can be very computationally expensive to compute even for few particle systems. Hence, the DFT is useful for predicting the behaviour of particles in a quantum system. \n",
    "\n",
    "### The many body problem \n",
    "\n",
    "\n",
    "\n",
    "<img src=\"~/Desktop/poteq.jpg\" width=\"100\" height=\"40\">\n",
    "\n",
    "This is the potential energy term of the Schodinger's equation of a many particle system. \n",
    "\n",
    "<img src=\"~/Desktop/kineq.jpg\" width=\"100\" height=\"40\">\n",
    "\n",
    "This is the kinetic energy term of the Schodinger's equation of a many particle system.\n",
    "\n",
    "As we can see from the equations, the summation is over all electrons and ions in the system, which would be of the order of 10^23 particles , resulting in a large number of unknown variables.\n",
    "Reference: [1]"
   ]
  },
  {
   "cell_type": "markdown",
   "metadata": {},
   "source": [
    "### Kohn Sham Density Functional Theory\n"
   ]
  },
  {
   "cell_type": "markdown",
   "metadata": {},
   "source": [
    "Building the Molecule \n",
    "\n",
    "- The 'gto' command is used to initialise the molecule.\n",
    "- The three numbers beside the atom determine it's coordinates in the basis system. (most calculations do not use the planar system as it yields inaccurate results)\n",
    "\n",
    "NOTE: The basis determines the accuracy of the calculations. The number of Kohn Sham equations depends on the basis that has been chosen. If the basis chosen is more localised on the molecule, the number of equations will be less. It is similar to the concept of \"data fitting\" where the right initial guess equation must be chosen for a better fit. \n",
    "\n",
    "\n",
    "The example shown below is for a water molecule "
   ]
  },
  {
   "cell_type": "code",
   "execution_count": 10,
   "metadata": {},
   "outputs": [],
   "source": [
    "\n",
    "mol = gto.M(\n",
    "    atom = '''\n",
    "    O  0.   0.       0.\n",
    "    H  0.   2.       0.\n",
    "    H  0.   0.       2. ''',\n",
    "    basis = 'ccpvdz')"
   ]
  },
  {
   "cell_type": "markdown",
   "metadata": {},
   "source": [
    "Exchange Correlation Functional \n"
   ]
  },
  {
   "cell_type": "markdown",
   "metadata": {},
   "source": [
    "Numerical Grids\n",
    "\n",
    "Either rectangular or radial grids may be used depending on the problem. The examples in this tutorial use rectangular grids. An example below (where the molecule is the water molecule built above) shows the difference between two difference grids being used, just for reference."
   ]
  },
  {
   "cell_type": "code",
   "execution_count": 11,
   "metadata": {},
   "outputs": [
    {
     "name": "stdout",
     "output_type": "stream",
     "text": [
      "converged SCF energy = -75.5217424548572\n",
      "Default DFT(LDA).  E = -75.521742454857\n",
      "converged SCF energy = -75.5217423020953\n",
      "Changed radial grids for DFT.  E = -75.521742302095\n"
     ]
    }
   ],
   "source": [
    "method = dft.KS(mol)\n",
    "print('Default DFT(LDA).  E = %.12f' % method.kernel())\n",
    "method = dft.KS(mol)\n",
    "method.grids.radi_method = dft.mura_knowles\n",
    "print('Changed radial grids for DFT.  E = %.12f' % method.kernel())"
   ]
  },
  {
   "cell_type": "markdown",
   "metadata": {},
   "source": [
    "Simple Example 1- Hydrogen Fluoride:\n",
    "\n",
    "This example shows how to calculate the molecular orbital energy using the Kohn Shahm Density Functional theory. Here we are using a pre defined basis and xc functional known as the "
   ]
  },
  {
   "cell_type": "code",
   "execution_count": 9,
   "metadata": {},
   "outputs": [
    {
     "name": "stdout",
     "output_type": "stream",
     "text": [
      "converged SCF energy = -100.291540824411\n",
      "Wave-function symmetry = Coov\n",
      "occupancy for each irrep:     A1  E1x  E1y\n",
      "                               3    1    1\n",
      "**** MO energy ****\n",
      "MO #1 (A1 #1), energy= -24.7492063472877 occ= 2\n",
      "MO #2 (A1 #2), energy= -1.16511154194312 occ= 2\n",
      "MO #3 (A1 #3), energy= -0.497728117974527 occ= 2\n",
      "MO #4 (E1x #1), energy= -0.381914983219933 occ= 2\n",
      "MO #5 (E1y #1), energy= -0.381914983219932 occ= 2\n",
      "MO #6 (A1 #4), energy= 0.00758507070440451 occ= 0\n",
      "MO #7 (A1 #5), energy= 0.731778664296395 occ= 0\n",
      "MO #8 (E1x #2), energy= 1.21518395118487 occ= 0\n",
      "MO #9 (E1y #2), energy= 1.21518395118487 occ= 0\n",
      "MO #10 (A1 #6), energy= 1.3353715570668 occ= 0\n",
      "MO #11 (A1 #7), energy= 1.66010165376359 occ= 0\n",
      " ** Mulliken atomic charges  **\n",
      "charge of  0H =      0.37107\n",
      "charge of  1F =     -0.37107\n",
      "Dipole moment(X, Y, Z, Debye):  0.00000,  0.00000, -2.29483\n"
     ]
    },
    {
     "data": {
      "text/plain": [
       "((array([6.21976590e-01, 6.95178763e-03, 1.99997894e+00, 1.91447253e+00,\n",
       "         2.54163089e-03, 1.99974706e+00, 1.99974706e+00, 1.45390340e+00,\n",
       "         2.52935310e-04, 2.52935310e-04, 1.75115125e-04]),\n",
       "  array([ 0.37107162, -0.37107162])),\n",
       " array([ 0.        ,  0.        , -2.29483093]))"
      ]
     },
     "execution_count": 9,
     "metadata": {},
     "output_type": "execute_result"
    }
   ],
   "source": [
    "import pyscf\n",
    "mol = pyscf.M(\n",
    "    atom = 'H 0 0 0; F 0 0 1.1', \n",
    "    basis = '631g',\n",
    "    symmetry = True,\n",
    ")\n",
    "mf = mol.KS()\n",
    "mf.xc = 'pbe0'\n",
    "mf.kernel()\n",
    "mf.analyze()"
   ]
  },
  {
   "cell_type": "code",
   "execution_count": 6,
   "metadata": {},
   "outputs": [
    {
     "name": "stdout",
     "output_type": "stream",
     "text": [
      "converged SCF energy = -100.271743790835\n",
      "Wave-function symmetry = Coov\n",
      "occupancy for each irrep:     A1  E1x  E1y\n",
      "                               3    1    1\n",
      "**** MO energy ****\n",
      "MO #1 (A1 #1), energy= -24.7513122550309 occ= 2\n",
      "MO #2 (A1 #2), energy= -1.1479162261877 occ= 2\n",
      "MO #3 (A1 #3), energy= -0.47979198782768 occ= 2\n",
      "MO #4 (E1x #1), energy= -0.376947327722934 occ= 2\n",
      "MO #5 (E1y #1), energy= -0.376947327722935 occ= 2\n",
      "MO #6 (A1 #4), energy= -0.0306627531042985 occ= 0\n",
      "MO #7 (A1 #5), energy= 0.704735202847842 occ= 0\n",
      "MO #8 (E1x #2), energy= 1.21925352204286 occ= 0\n",
      "MO #9 (E1y #2), energy= 1.21925352204285 occ= 0\n",
      "MO #10 (A1 #6), energy= 1.3393803524622 occ= 0\n",
      "MO #11 (A1 #7), energy= 1.61720977532004 occ= 0\n",
      " ** Mulliken atomic charges  **\n",
      "charge of  0H =      0.35620\n",
      "charge of  1F =     -0.35620\n",
      "Dipole moment(X, Y, Z, Debye):  0.00000,  0.00000, -2.35352\n",
      "[['H', array([0.1, 0. , 0. ])], ['F', array([0.        , 0.        , 2.26767135])]] [['H', array([-0.1,  0. ,  0. ])], ['F', array([0.        , 0.        , 2.26767135])]]\n",
      "[['H', array([0. , 0.1, 0. ])], ['F', array([0.        , 0.        , 2.26767135])]] [['H', array([ 0. , -0.1,  0. ])], ['F', array([0.        , 0.        , 2.26767135])]]\n",
      "[['H', array([0. , 0. , 0.1])], ['F', array([0.        , 0.        , 2.26767135])]] [['H', array([ 0. ,  0. , -0.1])], ['F', array([0.        , 0.        , 2.26767135])]]\n",
      "[['H', array([0., 0., 0.])], ['F', array([0.1       , 0.        , 2.26767135])]] [['H', array([0., 0., 0.])], ['F', array([-0.1       ,  0.        ,  2.26767135])]]\n",
      "[['H', array([0., 0., 0.])], ['F', array([0.        , 0.1       , 2.26767135])]] [['H', array([0., 0., 0.])], ['F', array([ 0.        , -0.1       ,  2.26767135])]]\n",
      "[['H', array([0., 0., 0.])], ['F', array([0.        , 0.        , 2.36767135])]] [['H', array([0., 0., 0.])], ['F', array([0.        , 0.        , 2.16767135])]]\n"
     ]
    },
    {
     "data": {
      "text/plain": [
       "([<pyscf.gto.mole.Mole at 0x104dbe0a0>,\n",
       "  <pyscf.gto.mole.Mole at 0x104dbe250>,\n",
       "  <pyscf.gto.mole.Mole at 0x1104b4fa0>,\n",
       "  <pyscf.gto.mole.Mole at 0x104dbe7f0>,\n",
       "  <pyscf.gto.mole.Mole at 0x104dbe820>,\n",
       "  <pyscf.gto.mole.Mole at 0x110d32d90>],\n",
       " [<pyscf.gto.mole.Mole at 0x106078ee0>,\n",
       "  <pyscf.gto.mole.Mole at 0x110082fa0>,\n",
       "  <pyscf.gto.mole.Mole at 0x110d3c430>,\n",
       "  <pyscf.gto.mole.Mole at 0x1038b83a0>,\n",
       "  <pyscf.gto.mole.Mole at 0x1104a9be0>,\n",
       "  <pyscf.gto.mole.Mole at 0x110d90a60>])"
      ]
     },
     "execution_count": 6,
     "metadata": {},
     "output_type": "execute_result"
    }
   ],
   "source": [
    "import pyscf\n",
    "mol = pyscf.M(\n",
    "    atom = 'H 0 0 0; F 0 0 1.2', \n",
    "    basis = '631g',\n",
    "    symmetry = True,\n",
    ")\n",
    "mf = mol.KS()\n",
    "mf.xc = 'pbe0'\n",
    "mf.kernel()\n",
    "mf.analyze()\n",
    "def gen_moles(mol, disp):\n",
    "\n",
    "    coords = mol.atom_coords()\n",
    "    natoms = len(coords)\n",
    "    mol_a, mol_s = [],[]\n",
    "    for i in range(natoms):\n",
    "        for x in range(3):\n",
    "            new_coords_a, new_coords_s = coords.copy(), coords.copy()\n",
    "            new_coords_a[i][x] += disp\n",
    "            new_coords_s[i][x] -= disp\n",
    "            atoma = [[mol.atom_symbol(j), coord] for (j, coord) in zip(range(natoms), new_coords_a)]\n",
    "            atoms = [[mol.atom_symbol(j), coord] for (j, coord) in zip(range(natoms), new_coords_s)]\n",
    "            print(atoma,atoms)\n",
    "            mol_a.append(mol.set_geom_(atoma, inplace=False, unit='B'))\n",
    "            mol_s.append(mol.set_geom_(atoms, inplace=False, unit='B'))\n",
    "    #print(mol_a,mol_s)\n",
    "    return mol_a, mol_s\n",
    "gen_moles(mol,0.1)"
   ]
  },
  {
   "cell_type": "markdown",
   "metadata": {},
   "source": [
    "Result Analysis for example 1\n",
    "\n",
    "As seen from the output, the \n"
   ]
  },
  {
   "cell_type": "markdown",
   "metadata": {},
   "source": [
    "Citations:\n",
    " [1] "
   ]
  }
 ],
 "metadata": {
  "interpreter": {
   "hash": "aee8b7b246df8f9039afb4144a1f6fd8d2ca17a180786b69acc140d282b71a49"
  },
  "kernelspec": {
   "display_name": "Python 3.8.5 64-bit",
   "language": "python",
   "name": "python3"
  },
  "language_info": {
   "codemirror_mode": {
    "name": "ipython",
    "version": 3
   },
   "file_extension": ".py",
   "mimetype": "text/x-python",
   "name": "python",
   "nbconvert_exporter": "python",
   "pygments_lexer": "ipython3",
   "version": "3.8.5"
  },
  "orig_nbformat": 4
 },
 "nbformat": 4,
 "nbformat_minor": 2
}
