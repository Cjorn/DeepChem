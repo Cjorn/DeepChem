{
 "cells": [
  {
   "cell_type": "markdown",
   "metadata": {},
   "source": [
    "DENSITY FUNCTIONAL THEORY USING PYSCF\n",
    "\n",
    " \n",
    "-the many body problem\n",
    "-DFT\n",
    "-Kohn sham DFT\n",
    "-Hartree Fock DFT\n",
    "-XC functionals and how to customise them \n",
    "-Examples: 1) pre defined variables 2) small molecule and customised xc 2) large molecule and customise all periodic boundary conditions.\n",
    "-analysing the results\n",
    "\n",
    "Introduction to DFT\n",
    "\n",
    "Schrödinger's wave function is a useful mathematical construct for calculating the total energy of atoms and molecules, as well as other features. However, it can be very computationally expensive if used. (explain order of magnitude in Hamiltonian Eqn) Hence, the DFT is useful for calculating the ground state energy of larger molecules as it uses the electron density (experimentally observable) as well as wave functions to do so. \n",
    "\n",
    "#Kohn Shahm vs orbital free aproach (intro to xc functionals)\n",
    "-it is a self consistent method.\n",
    "Flowchart of how Kohn Sham : Initial guess of density eqn -> Calculate potentials(V) -> Solve many body Schrodingers eqns (wave fns) -> define density eqn (loop)\n"
   ]
  },
  {
   "cell_type": "markdown",
   "metadata": {},
   "source": [
    "Building the Molecule \n",
    "-distance between atoms in Angstrom\n",
    "- Basis (explain integration Grid)\n",
    "\n",
    "The example shown below is for a water molecule "
   ]
  },
  {
   "cell_type": "code",
   "execution_count": null,
   "metadata": {},
   "outputs": [],
   "source": [
    "from pyscf import gto\n",
    "from pyscf import dft\n",
    "\n",
    "mol = gto.M(\n",
    "    atom = '''\n",
    "    O  0.   0.       0.\n",
    "    H  0.   -0.757   0.587\n",
    "    H  0.   0.757    0.587 ''',\n",
    "    basis = 'ccpvdz')"
   ]
  },
  {
   "cell_type": "markdown",
   "metadata": {},
   "source": [
    "Exchange Correlation Functional \n",
    "-various xcs in pyscf and how to pick the right one based on electron-electron and electron-nuclie interactions. \n",
    "- customisable xc \n"
   ]
  },
  {
   "cell_type": "markdown",
   "metadata": {},
   "source": [
    "Simple Example 1- Hydrogen Fluoride:\n",
    "\n",
    "This example shows how to calculate the molecular orbital energy using the Kohn Shahm Density Functional theory. Here we are using a pre defined basis and xc functional known as the "
   ]
  },
  {
   "cell_type": "code",
   "execution_count": 1,
   "metadata": {},
   "outputs": [
    {
     "name": "stdout",
     "output_type": "stream",
     "text": [
      "converged SCF energy = -100.291332797603\n",
      "Wave-function symmetry = Coov\n",
      "occupancy for each irrep:     A1  E1x  E1y\n",
      "                               3    1    1\n",
      "**** MO energy ****\n",
      "MO #1 (A1 #1), energy= -24.2331684679437 occ= 2\n",
      "MO #2 (A1 #2), energy= -1.0272973505931 occ= 2\n",
      "MO #3 (A1 #3), energy= -0.426131284510634 occ= 2\n",
      "MO #4 (E1x #1), energy= -0.289938626183792 occ= 2\n",
      "MO #5 (E1y #1), energy= -0.289938626183793 occ= 2\n",
      "MO #6 (A1 #4), energy= -0.034956037753547 occ= 0\n",
      "MO #7 (A1 #5), energy= 0.664674826089051 occ= 0\n",
      "MO #8 (E1x #2), energy= 1.13057079824108 occ= 0\n",
      "MO #9 (E1y #2), energy= 1.13057079824107 occ= 0\n",
      "MO #10 (A1 #6), energy= 1.24759794402076 occ= 0\n",
      "MO #11 (A1 #7), energy= 1.57280304530478 occ= 0\n",
      " ** Mulliken atomic charges  **\n",
      "charge of  0H =      0.35670\n",
      "charge of  1F =     -0.35670\n",
      "Dipole moment(X, Y, Z, Debye):  0.00000,  0.00000, -2.17040\n"
     ]
    },
    {
     "data": {
      "text/plain": [
       "((array([6.36542640e-01, 6.75369939e-03, 1.99996811e+00, 1.91722885e+00,\n",
       "         3.01323431e-03, 1.99977249e+00, 1.99977249e+00, 1.43594348e+00,\n",
       "         2.27508940e-04, 2.27508940e-04, 5.49982191e-04]),\n",
       "  array([ 0.35670366, -0.35670366])),\n",
       " array([ 0.       ,  0.       , -2.1704032]))"
      ]
     },
     "execution_count": 1,
     "metadata": {},
     "output_type": "execute_result"
    }
   ],
   "source": [
    "import pyscf\n",
    "mol = pyscf.M(\n",
    "    atom = 'H 0 0 0; F 0 0 1.1', \n",
    "    basis = '631g',\n",
    "    symmetry = True,\n",
    ")\n",
    "mf = mol.KS()\n",
    "mf.xc = 'pbe'\n",
    "mf.kernel()\n",
    "mf.analyze()"
   ]
  },
  {
   "cell_type": "markdown",
   "metadata": {},
   "source": [
    "Result Analysis for example 1\n",
    "\n",
    "As seen from the output, the molecular oribtal energies were calculated for the molecule. These MO energies were used to build the density function n0(r).\n",
    "This was used to calculate the SCF energy , which is the lowest possible ground state energy. \n",
    "Along with that \n"
   ]
  }
 ],
 "metadata": {
  "interpreter": {
   "hash": "aee8b7b246df8f9039afb4144a1f6fd8d2ca17a180786b69acc140d282b71a49"
  },
  "kernelspec": {
   "display_name": "Python 3.8.5 64-bit",
   "language": "python",
   "name": "python3"
  },
  "language_info": {
   "name": "python",
   "version": "3.8.5"
  },
  "orig_nbformat": 4
 },
 "nbformat": 4,
 "nbformat_minor": 2
}
