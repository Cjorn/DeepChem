{
  "nbformat": 4,
  "nbformat_minor": 0,
  "metadata": {
    "colab": {
      "name": "Uncertainty_Estimation_using_Gaussian_Processes.ipynb",
      "provenance": [],
      "collapsed_sections": []
    },
    "kernelspec": {
      "name": "python3",
      "display_name": "Python 3"
    },
    "language_info": {
      "name": "python"
    }
  },
  "cells": [
    {
      "cell_type": "markdown",
      "source": [
        "#  Uncertainty Estimation using Gaussian Processes\n",
        "\n",
        "In the world of cheminformatics and machine learning, models are often trees (random forest, XGBoost, etc.) or artifical neural networks (deep neural networks, graph convolutional networks, etc.). However, there is another category known as Bayesian models. Today we will be experimenting with a Bayesian model implemented in scikit-learn known as gaussian processes (GP). For a deeper dive on GP, there is a great [tutorial paper](https://arxiv.org/pdf/2009.10862.pdf) on how GP works for regression. There is also an [academic paper](https://doi.org/10.1002/cmdc.200700041) that applies GP to a real world problem.\n",
        "\n",
        "## Colab\n",
        "\n",
        "This tutorial and the rest in the sequences are designed to be done in Google colab. If you'd like to open this notebook in colab, you can use the following link. \n",
        "\n",
        "[![Open In Colab](https://colab.research.google.com/assets/colab-badge.svg)](https://colab.research.google.com/github/deepchem/deepchem/blob/master/examples/tutorials/Uncertainty_Estimation_using_Gaussian_Processes.ipynb)\n",
        "\n",
        "## Setup\n",
        "\n",
        "The first step is to get DeepChem up and running. We recommend using Google Colab to work through this tutorial series. You'll need to run the following commands to get DeepChem installed on your colab notebook."
      ],
      "metadata": {
        "id": "UPvC7G5kUJYG"
      }
    },
    {
      "cell_type": "code",
      "execution_count": null,
      "metadata": {
        "colab": {
          "base_uri": "https://localhost:8080/"
        },
        "id": "tJGVKFHnQieU",
        "outputId": "a8befbcf-fcb8-47ef-f9f3-89a9f1a274b0"
      },
      "outputs": [
        {
          "output_type": "stream",
          "name": "stdout",
          "text": [
            "Requirement already satisfied: deepchem in /usr/local/lib/python3.7/dist-packages (2.6.1)\n",
            "Requirement already satisfied: joblib in /usr/local/lib/python3.7/dist-packages (from deepchem) (1.1.0)\n",
            "Requirement already satisfied: rdkit-pypi in /usr/local/lib/python3.7/dist-packages (from deepchem) (2021.9.4)\n",
            "Requirement already satisfied: numpy>=1.21 in /usr/local/lib/python3.7/dist-packages (from deepchem) (1.21.5)\n",
            "Requirement already satisfied: scikit-learn in /usr/local/lib/python3.7/dist-packages (from deepchem) (1.0.2)\n",
            "Requirement already satisfied: pandas in /usr/local/lib/python3.7/dist-packages (from deepchem) (1.3.5)\n",
            "Requirement already satisfied: scipy in /usr/local/lib/python3.7/dist-packages (from deepchem) (1.4.1)\n",
            "Requirement already satisfied: pytz>=2017.3 in /usr/local/lib/python3.7/dist-packages (from pandas->deepchem) (2018.9)\n",
            "Requirement already satisfied: python-dateutil>=2.7.3 in /usr/local/lib/python3.7/dist-packages (from pandas->deepchem) (2.8.2)\n",
            "Requirement already satisfied: six>=1.5 in /usr/local/lib/python3.7/dist-packages (from python-dateutil>=2.7.3->pandas->deepchem) (1.15.0)\n",
            "Requirement already satisfied: Pillow in /usr/local/lib/python3.7/dist-packages (from rdkit-pypi->deepchem) (7.1.2)\n",
            "Requirement already satisfied: threadpoolctl>=2.0.0 in /usr/local/lib/python3.7/dist-packages (from scikit-learn->deepchem) (3.0.0)\n"
          ]
        }
      ],
      "source": [
        "!pip install --pre deepchem"
      ]
    },
    {
      "cell_type": "markdown",
      "source": [
        "## Gaussian Processes\n",
        "\n",
        "As stated earlier, GP is already implemented in scikit-learn so we will be using DeepChem's scikit-learn wrapper. SklearnModel is a subclass of DeepChem's Model class. It acts as a wrapper around a sklearn.base.BaseEstimator.\n",
        "\n",
        "Here we import deepchem and the GP regressor model from sklearn."
      ],
      "metadata": {
        "id": "7VEHj_Y2WWyC"
      }
    },
    {
      "cell_type": "code",
      "source": [
        "import deepchem as dc\n",
        "from sklearn.gaussian_process import GaussianProcessRegressor\n",
        "from sklearn.gaussian_process.kernels import RBF, WhiteKernel\n",
        "\n",
        "import numpy as np\n",
        "import matplotlib.pyplot as plt"
      ],
      "metadata": {
        "id": "v-h1CDpoWWOE"
      },
      "execution_count": null,
      "outputs": []
    },
    {
      "cell_type": "markdown",
      "source": [
        "## Loading data\n",
        "\n",
        "Next we need a dataset that presents a regression problem. For this tutorial we will be using the BACE dataset from MoleculeNet.\n",
        "\n"
      ],
      "metadata": {
        "id": "Nlu44FV8YFMM"
      }
    },
    {
      "cell_type": "code",
      "source": [
        "tasks, datasets, transformers = dc.molnet.load_bace_regression(featurizer='ecfp', splitter='random')\n",
        "train_dataset, valid_dataset, test_dataset = datasets"
      ],
      "metadata": {
        "id": "kbJ3UNt8YWk9"
      },
      "execution_count": null,
      "outputs": []
    },
    {
      "cell_type": "markdown",
      "source": [
        "I always like to get a close look at what the objects in my code are storing. We see that tasks is a list of tasks that we are trying to predict. The transformer is a NormalizationTransformer that normalizes the outputs (y values) of the dataset."
      ],
      "metadata": {
        "id": "C5vePfTzYmHG"
      }
    },
    {
      "cell_type": "code",
      "source": [
        "print(f'The tasks are: {tasks}')\n",
        "print(f'The transformers are: {transformers}')\n",
        "print(f'The transformer normalizes the outputs (y values): {transformers[0].transform_y}')"
      ],
      "metadata": {
        "colab": {
          "base_uri": "https://localhost:8080/"
        },
        "id": "feTbZu-tYpV-",
        "outputId": "59fa279b-e675-4d81-b4f3-4ee94cc10b42"
      },
      "execution_count": null,
      "outputs": [
        {
          "output_type": "stream",
          "name": "stdout",
          "text": [
            "The tasks are: ['pIC50']\n",
            "The transformers are: [<deepchem.trans.transformers.NormalizationTransformer object at 0x7f83d7478f10>]\n",
            "The transformer normalizes the outputs (y values): True\n"
          ]
        }
      ]
    },
    {
      "cell_type": "markdown",
      "source": [
        "Here we see that the data has already been split into a training set, a validation set, and a test set. We will train the model on the training set and test the accuracy of the model on the test set. If we were to do any hyperparameter tuning, we would use the validation set. The split was ~80/10/10 train/valid/test."
      ],
      "metadata": {
        "id": "vLMr7VmEZgRi"
      }
    },
    {
      "cell_type": "code",
      "source": [
        "print(train_dataset)\n",
        "print(valid_dataset)\n",
        "print(test_dataset)"
      ],
      "metadata": {
        "colab": {
          "base_uri": "https://localhost:8080/"
        },
        "id": "L0r7mgS4ZhSd",
        "outputId": "41399618-4193-4b5a-cddb-821881352324"
      },
      "execution_count": null,
      "outputs": [
        {
          "output_type": "stream",
          "name": "stdout",
          "text": [
            "<DiskDataset X.shape: (1210, 1024), y.shape: (1210, 1), w.shape: (1210, 1), task_names: ['pIC50']>\n",
            "<DiskDataset X.shape: (151, 1024), y.shape: (151, 1), w.shape: (151, 1), ids: ['FC1(F)CN2C(=NC1)C(N=C2N)(c1cc(ccc1)C#CCCOC)c1ccc(OC(F)F)cc1'\n",
            " 'Fc1ccc(NC(=O)c2ncc(cc2)C#N)cc1[C@]1(N=C(OCC1(F)F)N)C'\n",
            " 'S(CC[C@H](NC(=O)[C@@H](NC(=O)C)CC(C)C)C(=O)N[C@H]([C@@H](O)C[C@H](C(=O)NCCCC)C)CC(C)C)C'\n",
            " ... 'Clc1ccc(nc1)C(=O)Nc1cc(ccc1)C1(N=C(N)C(=O)N(C1)C)C'\n",
            " 'S(=O)(=O)(N(C1CCCCC1)c1cc(ccc1)C(=O)NC(Cc1ccccc1)C(O)C[NH2+]C(C(=O)NC1CCCCC1)C)C'\n",
            " 'S1(=O)(=O)CC(Cc2cc(OCC)c(N)c(F)c2)C(O)C([NH2+]Cc2cc(ccc2)C(C)(C)C)C1'], task_names: ['pIC50']>\n",
            "<DiskDataset X.shape: (152, 1024), y.shape: (152, 1), w.shape: (152, 1), ids: ['S1(=O)(=O)N(CCCC1)c1cc(cc(c1)/C(=N\\\\OCc1ccccc1)/C)C(=O)N[C@H]([C@@H](O)C[NH2+]Cc1cc(OC)ccc1)Cc1cc(F)cc(F)c1'\n",
            " 's1cc(nc1)-c1cc(ccc1)C1([NH2+]CC(O)C(NC(=O)C)Cc2cc(F)cc(F)c2)CCCCC1'\n",
            " 'Clc1ccccc1-c1n(Cc2nc(N)ccc2)c(cc1)-c1ccc(Oc2nccnc2)cc1' ...\n",
            " 'Fc1ncccc1-c1cc(ccc1)C1(N=C(OC1)N)c1ccc(OC(F)F)cc1'\n",
            " 'O(C)c1cc(NC[C@@H](O)[C@@H](NC(=O)C2=CN(C=C(C(OC(C)(C)C)=O)[C@H]2CCC)CC(OC(C)C)=O)Cc2ccccc2)ccc1'\n",
            " 'Fc1ccc(NC(=O)c2ncc(cc2)C#N)cc1[C@]1(N=C(OC[C@@H]1F)N)C'], task_names: ['pIC50']>\n"
          ]
        }
      ]
    },
    {
      "cell_type": "markdown",
      "source": [
        "## Using the SklearnModel\n",
        "\n",
        "Here we first create the model using the GaussianProcessRegressor we imported from sklearn. Then we wrap it in DeepChem's SklearnModel. To learn more about the model, you can either read the sklearn API or run help(GaussianProcessRegressor) in a code block.\n",
        "\n",
        "As you see, the values I picked for the parameters seem awfully specific. This is because I needed to do some hyperparameter tuning beforehand to get model that wasn't wildly overfitting the training set. You can learn more about how I tuned the model in the Appendix at the end of this tutorial."
      ],
      "metadata": {
        "id": "Jdh7Hej8aUMQ"
      }
    },
    {
      "cell_type": "code",
      "source": [
        "output_variance = 7.908735015054668\n",
        "length_scale = 6.452349252677817\n",
        "noise_level = 0.10475507755839343\n",
        "kernel = output_variance**2 * RBF(length_scale=length_scale, length_scale_bounds='fixed') + WhiteKernel(noise_level=noise_level, noise_level_bounds='fixed')\n",
        "alpha = 4.989499481123432e-09\n",
        "\n",
        "sklearn_gpr = GaussianProcessRegressor(kernel=kernel, alpha=alpha)\n",
        "model = dc.models.SklearnModel(sklearn_gpr)"
      ],
      "metadata": {
        "id": "f3U2Y0Q-aUqi"
      },
      "execution_count": null,
      "outputs": []
    },
    {
      "cell_type": "markdown",
      "source": [
        "Then we fit our model to the data and see how it performs both on the training set and on the test set. "
      ],
      "metadata": {
        "id": "h7UCSgZ7bsOe"
      }
    },
    {
      "cell_type": "code",
      "source": [
        "model.fit(train_dataset)\n",
        "metric1 = dc.metrics.Metric(dc.metrics.mean_squared_error)\n",
        "metric2 = dc.metrics.Metric(dc.metrics.r2_score)\n",
        "print(f'Training set score: {model.evaluate(train_dataset, [metric1, metric2])}')\n",
        "print(f'Test set score: {model.evaluate(test_dataset, [metric1, metric2])}')"
      ],
      "metadata": {
        "colab": {
          "base_uri": "https://localhost:8080/"
        },
        "id": "8rgzad5ObsTb",
        "outputId": "70a7001f-a6f3-4749-d647-3c5554d7c555"
      },
      "execution_count": null,
      "outputs": [
        {
          "output_type": "stream",
          "name": "stdout",
          "text": [
            "Training set score: {'mean_squared_error': 0.047221917929395396, 'r2_score': 0.9527780820706047}\n",
            "Test set score: {'mean_squared_error': 0.21444366264294049, 'r2_score': 0.7774431520736319}\n"
          ]
        }
      ]
    },
    {
      "cell_type": "markdown",
      "source": [
        "## Analyzing the Results\n",
        "\n",
        "We can also visualize how well the predicted values match up to the measured values. On the training set we can see a rather nice scatter plot where the predicted and measured values line up nicely.\n",
        "\n",
        "Note that we use the NormalizationTransformer from earlier and use it to \"untransform\" our data. "
      ],
      "metadata": {
        "id": "b_XkYqGLcdDT"
      }
    },
    {
      "cell_type": "code",
      "source": [
        "y_meas_train = transformers[0].untransform(train_dataset.y)\n",
        "y_pred_train = transformers[0].untransform(model.predict(train_dataset))\n",
        "\n",
        "plt.scatter(y_meas_train, y_pred_train)"
      ],
      "metadata": {
        "colab": {
          "base_uri": "https://localhost:8080/",
          "height": 283
        },
        "id": "atm3snwocamM",
        "outputId": "20f4c329-78fb-4384-dfe6-4b27d95c1d77"
      },
      "execution_count": null,
      "outputs": [
        {
          "output_type": "execute_result",
          "data": {
            "text/plain": [
              "<matplotlib.collections.PathCollection at 0x7f83cc4c5190>"
            ]
          },
          "metadata": {},
          "execution_count": 8
        },
        {
          "output_type": "display_data",
          "data": {
            "image/png": "[encoded data removed]",
            "text/plain": [
              "<Figure size 432x288 with 1 Axes>"
            ]
          },
          "metadata": {
            "needs_background": "light"
          }
        }
      ]
    },
    {
      "cell_type": "markdown",
      "source": [
        "For the test set, we want to be able to compute uncertainties as well so we will be writing a custom function to obtain both the mean predicted value and the standard deviation of the value. This is done by sampling 100 predictions from each set of inputs X and calculating the mean and standard deviation."
      ],
      "metadata": {
        "id": "EOtLvq02A2bb"
      }
    },
    {
      "cell_type": "code",
      "source": [
        "def predict_with_error(dc_model, X, y_transformer):\n",
        "    samples = model.model.sample_y(X, 100)\n",
        "    means = y_transformer.untransform(np.mean(samples, axis=1))\n",
        "    stds = y_transformer.y_stds[0] * np.std(samples, axis=1)\n",
        "\n",
        "    return means, stds"
      ],
      "metadata": {
        "id": "lnH5zcI9TF_y"
      },
      "execution_count": null,
      "outputs": []
    },
    {
      "cell_type": "code",
      "source": [
        "y_pred_test, y_pred_test_stds = predict_with_error(model, test_dataset.X, transformers[0])"
      ],
      "metadata": {
        "id": "uswXIr2vqq-W"
      },
      "execution_count": null,
      "outputs": []
    },
    {
      "cell_type": "markdown",
      "source": [
        "On the test set, we still see a decent correlation but it is not as tight as the training set predictions. This is reflected in the difference between the R2 scores."
      ],
      "metadata": {
        "id": "2nuqGFFpc1oC"
      }
    },
    {
      "cell_type": "code",
      "source": [
        "y_meas_test = transformers[0].untransform(test_dataset.y)\n",
        "\n",
        "plt.scatter(y_meas_test, y_pred_test)"
      ],
      "metadata": {
        "colab": {
          "base_uri": "https://localhost:8080/",
          "height": 283
        },
        "id": "H6v_KcU_c1sw",
        "outputId": "ab6cc611-1307-41c8-a3a8-e81096debe14"
      },
      "execution_count": null,
      "outputs": [
        {
          "output_type": "execute_result",
          "data": {
            "text/plain": [
              "<matplotlib.collections.PathCollection at 0x7f83cbf20e90>"
            ]
          },
          "metadata": {},
          "execution_count": 11
        },
        {
          "output_type": "display_data",
          "data": {
            "image/png": "[encoded data removed]",
            "text/plain": [
              "<Figure size 432x288 with 1 Axes>"
            ]
          },
          "metadata": {
            "needs_background": "light"
          }
        }
      ]
    },
    {
      "cell_type": "markdown",
      "source": [
        "We can also write a function to calculate how many of the predicted values fall within the predicted error range. This is done by counting up how many samples have a true error smaller than its standard deviation calculated earlier. One standard deviation is a 68% confidence interval."
      ],
      "metadata": {
        "id": "jNogRsV4p5Xa"
      }
    },
    {
      "cell_type": "code",
      "source": [
        "def percent_within_std(y_meas, y_pred, y_std):\n",
        "    assert len(y_meas) == len(y_pred) and len(y_meas) == len(y_std), 'length of y_meas and y_pred must be the same'\n",
        "\n",
        "    count_within_error = 0\n",
        "    for i in range(len(y_meas)):\n",
        "        if abs(y_meas[i][0]-y_pred[i]) < y_std[i]:\n",
        "            count_within_error += 1\n",
        "\n",
        "    return count_within_error/len(y_meas)"
      ],
      "metadata": {
        "id": "Xihho3Ndp5gL"
      },
      "execution_count": null,
      "outputs": []
    },
    {
      "cell_type": "code",
      "source": [
        "percent_within_std(y_meas_test, y_pred_test, y_pred_test_stds)"
      ],
      "metadata": {
        "colab": {
          "base_uri": "https://localhost:8080/"
        },
        "id": "YpgKQswIRjvN",
        "outputId": "af83cdfd-7f1a-45ab-a244-c26a2b40c4a0"
      },
      "execution_count": null,
      "outputs": [
        {
          "output_type": "execute_result",
          "data": {
            "text/plain": [
              "0.7828947368421053"
            ]
          },
          "metadata": {},
          "execution_count": 13
        }
      ]
    },
    {
      "cell_type": "markdown",
      "source": [
        "We can take a look at the distributions of the standard deviations. We see a very roughly Gaussian distribution in the predicted errors."
      ],
      "metadata": {
        "id": "Xsa03OFu8taf"
      }
    },
    {
      "cell_type": "code",
      "source": [
        "plt.hist(y_pred_test_stds)\n",
        "plt.show()"
      ],
      "metadata": {
        "colab": {
          "base_uri": "https://localhost:8080/",
          "height": 265
        },
        "id": "na23a9AU8s8d",
        "outputId": "6d5ccd5a-74ee-4c6e-fc4c-02ac6a1c356e"
      },
      "execution_count": null,
      "outputs": [
        {
          "output_type": "display_data",
          "data": {
            "image/png": "[encoded data removed]",
            "text/plain": [
              "<Figure size 432x288 with 1 Axes>"
            ]
          },
          "metadata": {
            "needs_background": "light"
          }
        }
      ]
    },
    {
      "cell_type": "markdown",
      "source": [
        "We can also create a scatter-plot to compare true errors to predicted errors. Unfortunately we find that there turns out to be no correlation between the observed error and the predicted standard deviation. This is to be expected for GP. Uncertainty calibration is a further topic of research and has yet to be solved. "
      ],
      "metadata": {
        "id": "0ZTEpuj0CBe1"
      }
    },
    {
      "cell_type": "code",
      "source": [
        "true_error = np.abs(np.hstack(y_meas_test) - y_pred_test)\n",
        "plt.scatter(true_error, y_pred_test_stds)\n",
        "plt.xlim(0, 2)\n",
        "plt.ylim(0, 2)\n",
        "plt.show()"
      ],
      "metadata": {
        "colab": {
          "base_uri": "https://localhost:8080/",
          "height": 269
        },
        "id": "43XXMrO29BOZ",
        "outputId": "0b937a6c-d587-47d4-8997-274e4a5d3801"
      },
      "execution_count": null,
      "outputs": [
        {
          "output_type": "display_data",
          "data": {
            "image/png": "[encoded data removed]",
            "text/plain": [
              "<Figure size 432x288 with 1 Axes>"
            ]
          },
          "metadata": {
            "needs_background": "light"
          }
        }
      ]
    },
    {
      "cell_type": "markdown",
      "source": [
        "## Appendix: Hyperparameter Optimization\n",
        "\n",
        "As hyperparameter optimization is outside the scope of this tutorial, I will not explain how to use Optuna to tune hyperparameters. But the code is still included for the sake of completeness. "
      ],
      "metadata": {
        "id": "_JEhXwfSUMYD"
      }
    },
    {
      "cell_type": "code",
      "source": [
        "!pip install optuna\n",
        "import optuna"
      ],
      "metadata": {
        "id": "ItUhfWMBAYMF"
      },
      "execution_count": null,
      "outputs": []
    },
    {
      "cell_type": "code",
      "source": [
        "def get_model(trial):\n",
        "    output_variance = trial.suggest_float('output_variance', 0.1, 10, log=True)\n",
        "    length_scale = trial.suggest_float('length_scale', 1e-5, 1e5, log=True)\n",
        "    noise_level = trial.suggest_float('noise_level', 1e-5, 1e5, log=True)\n",
        "\n",
        "    params = {\n",
        "        'kernel': output_variance**2 * RBF(length_scale=length_scale, length_scale_bounds='fixed') + WhiteKernel(noise_level=noise_level, noise_level_bounds='fixed'),\n",
        "        'alpha': trial.suggest_float('alpha', 1e-12, 1e-5, log=True),\n",
        "    }\n",
        "\n",
        "    sklearn_gpr = GaussianProcessRegressor(**params)\n",
        "    return dc.models.SklearnModel(sklearn_gpr)\n",
        "\n",
        "def objective(trial):\n",
        "    model = get_model(trial)\n",
        "    model.fit(train_dataset)\n",
        "    \n",
        "    metric = dc.metrics.Metric(dc.metrics.mean_squared_error)\n",
        "    return model.evaluate(valid_dataset, [metric])['mean_squared_error']"
      ],
      "metadata": {
        "id": "9OWKLnv4iGWp"
      },
      "execution_count": null,
      "outputs": []
    },
    {
      "cell_type": "code",
      "source": [
        "study = optuna.create_study(direction='minimize')\n",
        "study.optimize(objective, n_trials=100)"
      ],
      "metadata": {
        "id": "jA74yOKWexnW"
      },
      "execution_count": null,
      "outputs": []
    },
    {
      "cell_type": "code",
      "source": [
        "print(study.best_params)"
      ],
      "metadata": {
        "colab": {
          "base_uri": "https://localhost:8080/"
        },
        "id": "BABAYa2NpuiN",
        "outputId": "79c9e271-4524-461a-fbc1-ef9ce92260e4"
      },
      "execution_count": null,
      "outputs": [
        {
          "output_type": "stream",
          "name": "stdout",
          "text": [
            "{'output_variance': 0.38974570882583015, 'length_scale': 5.375387643239208, 'noise_level': 0.0016265333497286342, 'alpha': 1.1273318360324618e-11}\n"
          ]
        }
      ]
    }
  ]
}