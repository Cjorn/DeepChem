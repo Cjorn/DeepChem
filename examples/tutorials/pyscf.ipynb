{
 "cells": [
  {
   "cell_type": "code",
   "execution_count": 9,
   "metadata": {},
   "outputs": [
    {
     "data": {
      "text/plain": [
       "<CDLL '/home/rakshit/anaconda3/envs/deepchem/lib/libcint.so', handle 2e89040 at 0x7f40d70bca50>"
      ]
     },
     "execution_count": 9,
     "metadata": {},
     "output_type": "execute_result"
    }
   ],
   "source": [
    "import os\n",
    "import numpy\n",
    "import sys\n",
    "\n",
    "def load_library(libname):\n",
    "    return numpy.ctypeslib.load_library(libname, sys.prefix + '/lib')\n",
    "\n",
    "load_library('libcint')"
   ]
  },
  {
   "cell_type": "code",
   "execution_count": 3,
   "metadata": {},
   "outputs": [
    {
     "data": {
      "text/plain": [
       "<CDLL '/home/rakshit/anaconda3/envs/deepchem/lib/python3.11/site-packages/pyscf/lib/libcgto.so', handle 30b4300 at 0x7f40b5478c10>"
      ]
     },
     "execution_count": 3,
     "metadata": {},
     "output_type": "execute_result"
    }
   ],
   "source": [
    "import pyscf.lib as lib\n",
    "\n",
    "CINT = lib.load_library('libcgto')\n",
    "\n",
    "CINT"
   ]
  },
  {
   "cell_type": "code",
   "execution_count": 6,
   "metadata": {},
   "outputs": [
    {
     "data": {
      "text/plain": [
       "<CDLL '/home/rakshit/anaconda3/envs/deepchem/lib/python3.11/site-packages/dqclibs/libcint.so', handle a890850 at 0x7f3fa53d6250>"
      ]
     },
     "execution_count": 6,
     "metadata": {},
     "output_type": "execute_result"
    }
   ],
   "source": [
    "import dqclibs\n",
    "from deepchem.utils.dft_utils.hamilton.intor.utils import int2ctypes, np2ctypes\n",
    "import numpy as np\n",
    "\n",
    "CINT = dqclibs.CINT()\n",
    "\n",
    "CINT"
   ]
  },
  {
   "cell_type": "code",
   "execution_count": 2,
   "metadata": {},
   "outputs": [],
   "source": [
    "from deepchem.models.torch_models import GraphConvModel\n",
    "import deepchem as dc\n",
    "import numpy as np\n",
    "\n",
    "featurizer = dc.feat.ConvMolFeaturizer()\n",
    "tasks = [\"outcome\"]\n",
    "mols = [\"C\", \"CO\", \"CC\"]\n",
    "X = featurizer(mols)\n",
    "y = np.array([0, 1, 0])\n",
    "dataset = dc.data.NumpyDataset(X, y)\n",
    "classification_metric = dc.metrics.Metric(dc.metrics.roc_auc_score, np.mean, mode=\"classification\")\n",
    "batch_size = 10\n",
    "model = GraphConvModel(len(tasks), number_input_features=[75, 64], batch_size=batch_size, batch_normalize=False, mode='classification')\n",
    "loss = model.fit(dataset, nb_epoch=20)"
   ]
  }
 ],
 "metadata": {
  "kernelspec": {
   "display_name": "deepchem",
   "language": "python",
   "name": "python3"
  },
  "language_info": {
   "codemirror_mode": {
    "name": "ipython",
    "version": 3
   },
   "file_extension": ".py",
   "mimetype": "text/x-python",
   "name": "python",
   "nbconvert_exporter": "python",
   "pygments_lexer": "ipython3",
   "version": "3.11.9"
  }
 },
 "nbformat": 4,
 "nbformat_minor": 2
}
