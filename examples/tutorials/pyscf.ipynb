{
 "cells": [
  {
   "cell_type": "code",
   "execution_count": 9,
   "metadata": {},
   "outputs": [
    {
     "data": {
      "text/plain": [
       "<CDLL '/home/rakshit/anaconda3/envs/deepchem/lib/libcint.so', handle 2e89040 at 0x7f40d70bca50>"
      ]
     },
     "execution_count": 9,
     "metadata": {},
     "output_type": "execute_result"
    }
   ],
   "source": [
    "import os\n",
    "import numpy\n",
    "import sys\n",
    "\n",
    "def load_library(libname):\n",
    "    return numpy.ctypeslib.load_library(libname, sys.prefix + '/lib')\n",
    "\n",
    "load_library('libcint')"
   ]
  },
  {
   "cell_type": "code",
   "execution_count": 3,
   "metadata": {},
   "outputs": [
    {
     "data": {
      "text/plain": [
       "<CDLL '/home/rakshit/anaconda3/envs/deepchem/lib/python3.11/site-packages/pyscf/lib/libcgto.so', handle 30b4300 at 0x7f40b5478c10>"
      ]
     },
     "execution_count": 3,
     "metadata": {},
     "output_type": "execute_result"
    }
   ],
   "source": [
    "import pyscf.lib as lib\n",
    "\n",
    "CINT = lib.load_library('libcgto')\n",
    "\n",
    "CINT"
   ]
  },
  {
   "cell_type": "code",
   "execution_count": 6,
   "metadata": {},
   "outputs": [
    {
     "data": {
      "text/plain": [
       "<CDLL '/home/rakshit/anaconda3/envs/deepchem/lib/python3.11/site-packages/dqclibs/libcint.so', handle a890850 at 0x7f3fa53d6250>"
      ]
     },
     "execution_count": 6,
     "metadata": {},
     "output_type": "execute_result"
    }
   ],
   "source": [
    "import dqclibs\n",
    "from deepchem.utils.dft_utils.hamilton.intor.utils import int2ctypes, np2ctypes\n",
    "import numpy as np\n",
    "\n",
    "CINT = dqclibs.CINT()\n",
    "\n",
    "CINT"
   ]
  },
  {
   "cell_type": "code",
   "execution_count": null,
   "metadata": {},
   "outputs": [],
   "source": []
  }
 ],
 "metadata": {
  "kernelspec": {
   "display_name": "deepchem",
   "language": "python",
   "name": "python3"
  },
  "language_info": {
   "codemirror_mode": {
    "name": "ipython",
    "version": 3
   },
   "file_extension": ".py",
   "mimetype": "text/x-python",
   "name": "python",
   "nbconvert_exporter": "python",
   "pygments_lexer": "ipython3",
   "version": "3.11.9"
  }
 },
 "nbformat": 4,
 "nbformat_minor": 2
}
