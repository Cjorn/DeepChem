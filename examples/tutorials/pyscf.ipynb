{
 "cells": [
  {
   "cell_type": "code",
   "execution_count": 52,
   "metadata": {},
   "outputs": [
    {
     "data": {
      "text/plain": [
       "<_FuncPtr object at 0x7434669d47a0>"
      ]
     },
     "execution_count": 52,
     "metadata": {},
     "output_type": "execute_result"
    }
   ],
   "source": [
    "import pyscf.lib as lib\n",
    "\n",
    "CGTO = lib.load_library('libcgto')\n",
    "\n",
    "CGTO.GTOnr2e_fill_drv"
   ]
  },
  {
   "cell_type": "code",
   "execution_count": 41,
   "metadata": {},
   "outputs": [
    {
     "data": {
      "text/plain": [
       "<CDLL '/home/rakshit/anaconda3/envs/deepchem/lib/python3.11/site-packages/dqclibs/libcgto.so', handle 2ac1e20 at 0x743466cd5910>"
      ]
     },
     "execution_count": 41,
     "metadata": {},
     "output_type": "execute_result"
    }
   ],
   "source": [
    "import dqclibs\n",
    "from deepchem.utils.dft_utils.hamilton.intor.utils import int2ctypes, np2ctypes\n",
    "import numpy as np\n",
    "\n",
    "CGTO = dqclibs.CGTO()\n",
    "\n",
    "CGTO"
   ]
  },
  {
   "cell_type": "code",
   "execution_count": null,
   "metadata": {},
   "outputs": [],
   "source": []
  }
 ],
 "metadata": {
  "kernelspec": {
   "display_name": "deepchem",
   "language": "python",
   "name": "python3"
  },
  "language_info": {
   "codemirror_mode": {
    "name": "ipython",
    "version": 3
   },
   "file_extension": ".py",
   "mimetype": "text/x-python",
   "name": "python",
   "nbconvert_exporter": "python",
   "pygments_lexer": "ipython3",
   "version": "3.11.9"
  }
 },
 "nbformat": 4,
 "nbformat_minor": 2
}
