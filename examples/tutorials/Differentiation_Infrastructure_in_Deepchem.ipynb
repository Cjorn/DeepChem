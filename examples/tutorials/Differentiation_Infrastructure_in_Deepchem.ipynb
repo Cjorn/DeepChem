{
 "cells": [
  {
   "cell_type": "markdown",
   "metadata": {},
   "source": [
    "# Solving Linear Equations\n",
    "\n"
   ]
  },
  {
   "cell_type": "markdown",
   "metadata": {},
   "source": [
    "## Bisection Method"
   ]
  },
  {
   "cell_type": "code",
   "execution_count": 2,
   "metadata": {},
   "outputs": [
    {
     "name": "stdout",
     "output_type": "stream",
     "text": [
      "The solution is:  0.53741455078125\n",
      "The function value at the solution is:  -4.453685755834158e-05\n"
     ]
    }
   ],
   "source": [
    "fun = lambda x: x**3 - 4*x**2 + 1\n",
    "\n",
    "def bisection(funct, a, b, tol):\n",
    "    if funct(a) * funct(b) > 0:\n",
    "        print(\"No root found.\")\n",
    "        return None\n",
    "    else:\n",
    "        while (b - a)/2.0 > tol:\n",
    "            midpoint = (a + b)/2.0\n",
    "            if funct(midpoint) == 0:\n",
    "                return(midpoint)\n",
    "            elif funct(a)*funct(midpoint) < 0:\n",
    "                b = midpoint\n",
    "            else:\n",
    "                a = midpoint\n",
    "        return (a + b)/2\n",
    "\n",
    "sol = bisection(fun, 0, 2, 0.0001)\n",
    "print(\"The solution is: \", sol)\n",
    "print(\"The function value at the solution is: \", fun(sol))"
   ]
  },
  {
   "cell_type": "markdown",
   "metadata": {},
   "source": [
    "# Newtons Method"
   ]
  },
  {
   "cell_type": "code",
   "execution_count": 7,
   "metadata": {},
   "outputs": [
    {
     "name": "stdout",
     "output_type": "stream",
     "text": [
      "The solution is:  -0.47284967787030086\n",
      "The function value at the solution is:  -7.022625030383978e-05\n"
     ]
    }
   ],
   "source": [
    "# Newton's method\n",
    "def newton(funct, dfunct, x0, tol):\n",
    "    while abs(funct(x0)) > tol:\n",
    "        x0 = x0 - funct(x0)/(dfunct(x0) + tol)\n",
    "    return x0\n",
    "\n",
    "dfun = lambda x: 3*x**2 - 8*x\n",
    "sol = newton(fun, dfun, 0, 0.0001)\n",
    "print(\"The solution is: \", sol)\n",
    "print(\"The function value at the solution is: \", fun(sol))"
   ]
  },
  {
   "cell_type": "markdown",
   "metadata": {},
   "source": [
    "# Broyden1 method\n",
    "\n",
    "<h5>\n",
    "Find a root of a function, using Broyden’s first Jacobian approximation.\n",
    "This method is also known as \"Broyden’s good method\".\n",
    "\n",
    "The Broyden method is a numerical algorithm used to solve systems of nonlinear equations.\n",
    "It's an iterative method that updates an approximation to the Jacobian matrix, which\n",
    "represents the system's derivatives with respect to the variables. Instead of recalculating\n",
    "the Jacobian matrix at each iteration, the Broyden method updates it using rank-one corrections.\n",
    "</h5>\n",
    "\n",
    "References\n",
    "\n",
    "[1].. \"A class of methods for solving nonlinear simultaneous equations\" by Charles G. Broyden"
   ]
  },
  {
   "cell_type": "code",
   "execution_count": 31,
   "metadata": {},
   "outputs": [
    {
     "data": {
      "text/plain": [
       "(tensor([[-0.0459],\n",
       "         [-0.0663]], grad_fn=<_RootFinderBackward>),\n",
       " tensor([[1.1735e-07],\n",
       "         [1.7881e-07]], grad_fn=<AddBackward0>))"
      ]
     },
     "execution_count": 31,
     "metadata": {},
     "output_type": "execute_result"
    }
   ],
   "source": [
    "import torch\n",
    "from deepchem.utils.differentiation_utils import rootfinder\n",
    "def func1(y, A):\n",
    "    return torch.tanh(A @ y + 0.1) + y / 2.0\n",
    "A = torch.tensor([[1.1, 0.4], [0.3, 0.8]]).requires_grad_()\n",
    "y0 = torch.zeros((2,1))\n",
    "yroot = rootfinder(func1, y0, params=(A,), method='broyden1')\n",
    "yroot, func1(yroot, A)"
   ]
  },
  {
   "cell_type": "code",
   "execution_count": 32,
   "metadata": {},
   "outputs": [
    {
     "data": {
      "text/plain": [
       "2"
      ]
     },
     "execution_count": 32,
     "metadata": {},
     "output_type": "execute_result"
    }
   ],
   "source": [
    "import torch\n",
    "from deepchem.utils.differentiation_utils import make_sibling, get_pure_function\n",
    "def fcn1(x, y):\n",
    "    return x + y\n",
    "def fcn2(x, y):\n",
    "    return x - y\n",
    "pfunc1 = get_pure_function(fcn1)\n",
    "pfunc2 = get_pure_function(fcn2)\n",
    "@make_sibling(pfunc1)\n",
    "def fcn3(x, y):\n",
    "    return x * y\n",
    "fcn3(1, 2)"
   ]
  }
 ],
 "metadata": {
  "kernelspec": {
   "display_name": "deepchem",
   "language": "python",
   "name": "python3"
  },
  "language_info": {
   "codemirror_mode": {
    "name": "ipython",
    "version": 3
   },
   "file_extension": ".py",
   "mimetype": "text/x-python",
   "name": "python",
   "nbconvert_exporter": "python",
   "pygments_lexer": "ipython3",
   "version": "3.11.7"
  }
 },
 "nbformat": 4,
 "nbformat_minor": 2
}
