{
 "cells": [
  {
   "cell_type": "markdown",
   "metadata": {},
   "source": [
    "# Tutorial 30: Protein Deep Learning \n",
    "In this tutorial we will explore differents featurization of protein sequences, including one hot encoders, aminoacids composition and 3D contact maps. We will use some tools of DeepChem and additional packages to create a model to predict melting temperature of proteins ( a good measurement of protein stability ) "
   ]
  },
  {
   "cell_type": "markdown",
   "metadata": {},
   "source": [
    "# TODO \n",
    "- include colab installer \n",
    "- improve Melting temperature description and importance\n",
    "- include 3D contact map "
   ]
  },
  {
   "cell_type": "markdown",
   "metadata": {},
   "source": [
    "# Melting temperature  MT\n",
    "the MT of a protein is a measurement of protein stability. This measure could vary from a big variety of experimental conditions, however, databases as  ProthermDB https://web.iitm.ac.in/bioinfo2/prothermdb/index.html contains a lot of thermodynamicall information of proteins and therefore a a big resource for the study of protein stability \n"
   ]
  },
  {
   "cell_type": "code",
   "execution_count": 53,
   "metadata": {},
   "outputs": [],
   "source": [
    "#imports \n",
    "import numpy as np \n",
    "import pandas as pd\n",
    "import matplotlib.pyplot as plt"
   ]
  },
  {
   "cell_type": "markdown",
   "metadata": {},
   "source": [
    "The file all_measuremnetsProtherDB.tsv was extracted from the ProThermDB selecting a query of $T_m$ in the range of -52 and 220 °C. Additionaly the experiment conditions and Uniprot AccesionNumber were also requested "
   ]
  },
  {
   "cell_type": "code",
   "execution_count": 2,
   "metadata": {},
   "outputs": [],
   "source": [
    "data =pd.read_csv(\"./all_measurementsProtherDB.tsv\",delimiter=\"\\t\")"
   ]
  },
  {
   "cell_type": "code",
   "execution_count": 3,
   "metadata": {},
   "outputs": [
    {
     "data": {
      "text/plain": [
       "(15629, 17)"
      ]
     },
     "execution_count": 3,
     "metadata": {},
     "output_type": "execute_result"
    }
   ],
   "source": [
    "data.shape"
   ]
  },
  {
   "cell_type": "markdown",
   "metadata": {},
   "source": [
    "# Data only with Measurement of Differential Scanning Calorymetry (DSC)"
   ]
  },
  {
   "cell_type": "code",
   "execution_count": 6,
   "metadata": {},
   "outputs": [],
   "source": [
    "df = data[ (data['MEASURE'] == 'DSC') & (data['MUTATION'] == 'wild-type')]"
   ]
  },
  {
   "cell_type": "code",
   "execution_count": 7,
   "metadata": {},
   "outputs": [
    {
     "data": {
      "text/plain": [
       "(3310, 17)"
      ]
     },
     "execution_count": 7,
     "metadata": {},
     "output_type": "execute_result"
    }
   ],
   "source": [
    "df.shape"
   ]
  },
  {
   "cell_type": "code",
   "execution_count": 8,
   "metadata": {},
   "outputs": [],
   "source": [
    "no_mutants_dataset = df.drop_duplicates(['PDB_wild'])"
   ]
  },
  {
   "cell_type": "code",
   "execution_count": 9,
   "metadata": {},
   "outputs": [
    {
     "data": {
      "text/plain": [
       "(298, 17)"
      ]
     },
     "execution_count": 9,
     "metadata": {},
     "output_type": "execute_result"
    }
   ],
   "source": [
    "no_mutants_dataset.shape"
   ]
  },
  {
   "cell_type": "markdown",
   "metadata": {},
   "source": [
    "# Separate the only entries performed with Differential Scanning calorimetry "
   ]
  },
  {
   "cell_type": "code",
   "execution_count": 12,
   "metadata": {},
   "outputs": [],
   "source": [
    "df2 = data[ (data['MEASURE'] == 'DSC')]"
   ]
  },
  {
   "cell_type": "code",
   "execution_count": 13,
   "metadata": {},
   "outputs": [
    {
     "data": {
      "text/plain": [
       "(5797, 17)"
      ]
     },
     "execution_count": 13,
     "metadata": {},
     "output_type": "execute_result"
    }
   ],
   "source": [
    "df2.shape"
   ]
  },
  {
   "cell_type": "markdown",
   "metadata": {},
   "source": [
    "# ProThermDB contains wild type entries of the same protein with differente value of melting temperature. In this tutorial we will keep the first wild type entry. ( Variations in $T_m$ could be caused by buffer selection or pH )"
   ]
  },
  {
   "cell_type": "code",
   "execution_count": 15,
   "metadata": {},
   "outputs": [],
   "source": [
    "no_wild_type_repeated  =df2.drop_duplicates(['MUTATION','PDB_wild'],keep='first')"
   ]
  },
  {
   "cell_type": "code",
   "execution_count": 16,
   "metadata": {},
   "outputs": [
    {
     "data": {
      "text/html": [
       "<div>\n",
       "<style scoped>\n",
       "    .dataframe tbody tr th:only-of-type {\n",
       "        vertical-align: middle;\n",
       "    }\n",
       "\n",
       "    .dataframe tbody tr th {\n",
       "        vertical-align: top;\n",
       "    }\n",
       "\n",
       "    .dataframe thead th {\n",
       "        text-align: right;\n",
       "    }\n",
       "</style>\n",
       "<table border=\"1\" class=\"dataframe\">\n",
       "  <thead>\n",
       "    <tr style=\"text-align: right;\">\n",
       "      <th></th>\n",
       "      <th>UniProt_ID</th>\n",
       "      <th>PDB_wild</th>\n",
       "      <th>PROTEIN</th>\n",
       "    </tr>\n",
       "  </thead>\n",
       "  <tbody>\n",
       "    <tr>\n",
       "      <th>14049</th>\n",
       "      <td>-</td>\n",
       "      <td>3NA9</td>\n",
       "      <td>Fab15 light chain</td>\n",
       "    </tr>\n",
       "    <tr>\n",
       "      <th>14116</th>\n",
       "      <td>-</td>\n",
       "      <td>3HC0</td>\n",
       "      <td>anti-LTbR scFv</td>\n",
       "    </tr>\n",
       "    <tr>\n",
       "      <th>14115</th>\n",
       "      <td>-</td>\n",
       "      <td>3HC0</td>\n",
       "      <td>anti-LTbR scFv</td>\n",
       "    </tr>\n",
       "    <tr>\n",
       "      <th>14114</th>\n",
       "      <td>-</td>\n",
       "      <td>3HC0</td>\n",
       "      <td>anti-LTbR scFv</td>\n",
       "    </tr>\n",
       "    <tr>\n",
       "      <th>14113</th>\n",
       "      <td>-</td>\n",
       "      <td>3HC0</td>\n",
       "      <td>anti-LTbR scFv</td>\n",
       "    </tr>\n",
       "    <tr>\n",
       "      <th>...</th>\n",
       "      <td>...</td>\n",
       "      <td>...</td>\n",
       "      <td>...</td>\n",
       "    </tr>\n",
       "    <tr>\n",
       "      <th>7451</th>\n",
       "      <td>R9S082</td>\n",
       "      <td>1BVC</td>\n",
       "      <td>Myoglobin</td>\n",
       "    </tr>\n",
       "    <tr>\n",
       "      <th>7452</th>\n",
       "      <td>R9S082</td>\n",
       "      <td>1BVC</td>\n",
       "      <td>Myoglobin</td>\n",
       "    </tr>\n",
       "    <tr>\n",
       "      <th>7453</th>\n",
       "      <td>R9S082</td>\n",
       "      <td>1BVC</td>\n",
       "      <td>Myoglobin</td>\n",
       "    </tr>\n",
       "    <tr>\n",
       "      <th>7439</th>\n",
       "      <td>R9S082</td>\n",
       "      <td>1BVC</td>\n",
       "      <td>Myoglobin</td>\n",
       "    </tr>\n",
       "    <tr>\n",
       "      <th>7448</th>\n",
       "      <td>R9S082</td>\n",
       "      <td>1BVC</td>\n",
       "      <td>Myoglobin</td>\n",
       "    </tr>\n",
       "  </tbody>\n",
       "</table>\n",
       "<p>1443 rows × 3 columns</p>\n",
       "</div>"
      ],
      "text/plain": [
       "      UniProt_ID PDB_wild            PROTEIN\n",
       "14049          -     3NA9  Fab15 light chain\n",
       "14116          -     3HC0     anti-LTbR scFv\n",
       "14115          -     3HC0     anti-LTbR scFv\n",
       "14114          -     3HC0     anti-LTbR scFv\n",
       "14113          -     3HC0     anti-LTbR scFv\n",
       "...          ...      ...                ...\n",
       "7451      R9S082     1BVC          Myoglobin\n",
       "7452      R9S082     1BVC          Myoglobin\n",
       "7453      R9S082     1BVC          Myoglobin\n",
       "7439      R9S082     1BVC          Myoglobin\n",
       "7448      R9S082     1BVC          Myoglobin\n",
       "\n",
       "[1443 rows x 3 columns]"
      ]
     },
     "execution_count": 16,
     "metadata": {},
     "output_type": "execute_result"
    }
   ],
   "source": [
    "no_wild_type_repeated.sort_values('UniProt_ID')[['UniProt_ID','PDB_wild','PROTEIN']]"
   ]
  },
  {
   "cell_type": "code",
   "execution_count": 17,
   "metadata": {},
   "outputs": [],
   "source": [
    "Mutation_list = no_wild_type_repeated[['UniProt_ID','MUTATION']].set_index('UniProt_ID')"
   ]
  },
  {
   "cell_type": "code",
   "execution_count": 18,
   "metadata": {},
   "outputs": [
    {
     "data": {
      "text/html": [
       "<div>\n",
       "<style scoped>\n",
       "    .dataframe tbody tr th:only-of-type {\n",
       "        vertical-align: middle;\n",
       "    }\n",
       "\n",
       "    .dataframe tbody tr th {\n",
       "        vertical-align: top;\n",
       "    }\n",
       "\n",
       "    .dataframe thead th {\n",
       "        text-align: right;\n",
       "    }\n",
       "</style>\n",
       "<table border=\"1\" class=\"dataframe\">\n",
       "  <thead>\n",
       "    <tr style=\"text-align: right;\">\n",
       "      <th></th>\n",
       "      <th>MUTATION</th>\n",
       "    </tr>\n",
       "    <tr>\n",
       "      <th>UniProt_ID</th>\n",
       "      <th></th>\n",
       "    </tr>\n",
       "  </thead>\n",
       "  <tbody>\n",
       "    <tr>\n",
       "      <th>P0A877</th>\n",
       "      <td>P28S (Based on UniProt and PDB)</td>\n",
       "    </tr>\n",
       "    <tr>\n",
       "      <th>P0A877</th>\n",
       "      <td>S33L (Based on UniProt and PDB)</td>\n",
       "    </tr>\n",
       "    <tr>\n",
       "      <th>P0A877</th>\n",
       "      <td>wild-type</td>\n",
       "    </tr>\n",
       "    <tr>\n",
       "      <th>P0A877</th>\n",
       "      <td>M101V (Based on UniProt and PDB)</td>\n",
       "    </tr>\n",
       "    <tr>\n",
       "      <th>P0A877</th>\n",
       "      <td>M101T (Based on UniProt and PDB)</td>\n",
       "    </tr>\n",
       "    <tr>\n",
       "      <th>...</th>\n",
       "      <td>...</td>\n",
       "    </tr>\n",
       "    <tr>\n",
       "      <th>P0AA25</th>\n",
       "      <td>wild-type</td>\n",
       "    </tr>\n",
       "    <tr>\n",
       "      <th>O00189</th>\n",
       "      <td>D190A (Based on UniProt and PDB)</td>\n",
       "    </tr>\n",
       "    <tr>\n",
       "      <th>O00189</th>\n",
       "      <td>R283D (Based on UniProt and PDB)</td>\n",
       "    </tr>\n",
       "    <tr>\n",
       "      <th>O49003</th>\n",
       "      <td>wild-type</td>\n",
       "    </tr>\n",
       "    <tr>\n",
       "      <th>O49003</th>\n",
       "      <td>C450A (Based on UniProt and PDB)</td>\n",
       "    </tr>\n",
       "  </tbody>\n",
       "</table>\n",
       "<p>1443 rows × 1 columns</p>\n",
       "</div>"
      ],
      "text/plain": [
       "                                    MUTATION\n",
       "UniProt_ID                                  \n",
       "P0A877       P28S (Based on UniProt and PDB)\n",
       "P0A877       S33L (Based on UniProt and PDB)\n",
       "P0A877                             wild-type\n",
       "P0A877      M101V (Based on UniProt and PDB)\n",
       "P0A877      M101T (Based on UniProt and PDB)\n",
       "...                                      ...\n",
       "P0AA25                             wild-type\n",
       "O00189      D190A (Based on UniProt and PDB)\n",
       "O00189      R283D (Based on UniProt and PDB)\n",
       "O49003                             wild-type\n",
       "O49003      C450A (Based on UniProt and PDB)\n",
       "\n",
       "[1443 rows x 1 columns]"
      ]
     },
     "execution_count": 18,
     "metadata": {},
     "output_type": "execute_result"
    }
   ],
   "source": [
    "Mutation_list"
   ]
  },
  {
   "cell_type": "markdown",
   "metadata": {},
   "source": [
    "# based on the UniprotAcc Numbers, we will use the python request module to access information of sequence in each entry "
   ]
  },
  {
   "cell_type": "code",
   "execution_count": 19,
   "metadata": {},
   "outputs": [],
   "source": [
    "import requests, sys\n",
    "def Seq_From_AccNum(num):\n",
    "    '''\n",
    "    perform a http  request to the EBI-API to obtain the sequence based on the Uniprot Accession number\n",
    "    return a string \n",
    "    \n",
    "    '''\n",
    "    requestURL = \"https://www.ebi.ac.uk/proteins/api/features/{}\".format(num)\n",
    "    r = requests.get(requestURL, headers={ \"Accept\" : \"application/json\"})\n",
    "    if not r.ok:\n",
    "        print(\"Failure in Uniprot request\")\n",
    "        return None\n",
    "        r.raise_for_status()\n",
    "        sys.exit()\n",
    "    responseBody = r.json()\n",
    "    return responseBody['sequence']"
   ]
  },
  {
   "cell_type": "code",
   "execution_count": 20,
   "metadata": {},
   "outputs": [],
   "source": [
    "import re\n",
    "def MutateSeq(seq,Mutant):\n",
    "    '''\n",
    "    mutate a sequence based on a string (Mutant) that has the notation : \n",
    "    A###B where A is the wildtype aminoacid ### the position and B the mutation\n",
    "    \n",
    "    '''\n",
    "    aalist = re.findall('([A-Z])([0-9]+)([A-Z])', Mutant)\n",
    "    \n",
    "    #(len(aalist)==1):\n",
    "    newseq=seq\n",
    "    listseq=list(newseq)\n",
    "    for aas in aalist:\n",
    "        wildAA = aas[0]\n",
    "        pos = int(aas[1]) -1\n",
    "        if(pos >= len(listseq)):\n",
    "            print(\"Mutation not in the range of the protein\")\n",
    "            return None\n",
    "        MutAA = aas[-1]\n",
    "        \n",
    "        if(listseq[pos]==wildAA):\n",
    "            \n",
    "            listseq[pos]=MutAA\n",
    "            \n",
    "        else:\n",
    "            print(\"WildType AA does not match\")\n",
    "            return None\n",
    "    return(\"\".join(listseq))\n"
   ]
  },
  {
   "cell_type": "code",
   "execution_count": 21,
   "metadata": {},
   "outputs": [],
   "source": [
    "Mutation_list.sort_values('UniProt_ID',inplace=True)"
   ]
  },
  {
   "cell_type": "code",
   "execution_count": 22,
   "metadata": {},
   "outputs": [
    {
     "data": {
      "text/html": [
       "<div>\n",
       "<style scoped>\n",
       "    .dataframe tbody tr th:only-of-type {\n",
       "        vertical-align: middle;\n",
       "    }\n",
       "\n",
       "    .dataframe tbody tr th {\n",
       "        vertical-align: top;\n",
       "    }\n",
       "\n",
       "    .dataframe thead th {\n",
       "        text-align: right;\n",
       "    }\n",
       "</style>\n",
       "<table border=\"1\" class=\"dataframe\">\n",
       "  <thead>\n",
       "    <tr style=\"text-align: right;\">\n",
       "      <th></th>\n",
       "      <th>MUTATION</th>\n",
       "    </tr>\n",
       "    <tr>\n",
       "      <th>UniProt_ID</th>\n",
       "      <th></th>\n",
       "    </tr>\n",
       "  </thead>\n",
       "  <tbody>\n",
       "    <tr>\n",
       "      <th>-</th>\n",
       "      <td>3na9_H:V34I 3na9_H:G35S 3na9_H:E95Q 3na9_L:S95...</td>\n",
       "    </tr>\n",
       "    <tr>\n",
       "      <th>-</th>\n",
       "      <td>3HC0_A:V56G (Based on PDB)</td>\n",
       "    </tr>\n",
       "    <tr>\n",
       "      <th>-</th>\n",
       "      <td>3HC0_A:V68L (Based on PDB)</td>\n",
       "    </tr>\n",
       "    <tr>\n",
       "      <th>-</th>\n",
       "      <td>3HC0_A:V68I (Based on PDB)</td>\n",
       "    </tr>\n",
       "    <tr>\n",
       "      <th>-</th>\n",
       "      <td>3hc0_H:Q3G (Based on PDB)</td>\n",
       "    </tr>\n",
       "    <tr>\n",
       "      <th>...</th>\n",
       "      <td>...</td>\n",
       "    </tr>\n",
       "    <tr>\n",
       "      <th>R9S082</th>\n",
       "      <td>L70A (Based on UniProt)</td>\n",
       "    </tr>\n",
       "    <tr>\n",
       "      <th>R9S082</th>\n",
       "      <td>L136I (Based on UniProt)</td>\n",
       "    </tr>\n",
       "    <tr>\n",
       "      <th>R9S082</th>\n",
       "      <td>L136M (Based on UniProt)</td>\n",
       "    </tr>\n",
       "    <tr>\n",
       "      <th>R9S082</th>\n",
       "      <td>I112A (Based on UniProt)</td>\n",
       "    </tr>\n",
       "    <tr>\n",
       "      <th>R9S082</th>\n",
       "      <td>L70I (Based on UniProt)</td>\n",
       "    </tr>\n",
       "  </tbody>\n",
       "</table>\n",
       "<p>1443 rows × 1 columns</p>\n",
       "</div>"
      ],
      "text/plain": [
       "                                                     MUTATION\n",
       "UniProt_ID                                                   \n",
       "-           3na9_H:V34I 3na9_H:G35S 3na9_H:E95Q 3na9_L:S95...\n",
       "-                                  3HC0_A:V56G (Based on PDB)\n",
       "-                                  3HC0_A:V68L (Based on PDB)\n",
       "-                                  3HC0_A:V68I (Based on PDB)\n",
       "-                                   3hc0_H:Q3G (Based on PDB)\n",
       "...                                                       ...\n",
       "R9S082                                L70A (Based on UniProt)\n",
       "R9S082                               L136I (Based on UniProt)\n",
       "R9S082                               L136M (Based on UniProt)\n",
       "R9S082                               I112A (Based on UniProt)\n",
       "R9S082                                L70I (Based on UniProt)\n",
       "\n",
       "[1443 rows x 1 columns]"
      ]
     },
     "execution_count": 22,
     "metadata": {},
     "output_type": "execute_result"
    }
   ],
   "source": [
    "Mutation_list"
   ]
  },
  {
   "cell_type": "markdown",
   "metadata": {},
   "source": [
    "# The next cell will download from the EBI-API the sequence and perform all the reported mutations by ProthermDB that are consistent with Uniprot sequence . "
   ]
  },
  {
   "cell_type": "code",
   "execution_count": 21,
   "metadata": {
    "collapsed": true,
    "jupyter": {
     "outputs_hidden": true
    },
    "tags": []
   },
   "outputs": [
    {
     "name": "stdout",
     "output_type": "stream",
     "text": [
      "Perfoming data curation : \n",
      "- - 3na9_H:V34I 3na9_H:G35S 3na9_H:E95Q 3na9_L:S95P - - 3HC0_A:V56G - - 3HC0_A:V68L - - 3HC0_A:V68I - - 3hc0_H:Q3G - - 3hc0_H:Q3D - - 3hc0_H:Q3V - - wild-type - - 3hc0_H:S16Q 3hc0_L:S46L - - 3hc0_H:Q3S - - 3na9_H:V34I 3na9_H:G35S - - 3na9_H:F50R - - 3na9_H:A60S 3na9_H:Q66H - - 3na9_H:V34I 3na9_H:G35S 3na9_H:E95Q - - wild-type - - 3hc0_H:M48I - - 3na9_H:V34I 3na9_H:G35S 3na9_H:F50R 3na9_H:A60S 3na9_H:Q66H - - 3na9_H:V34H - - 3hc0_H:M48G - - 3hc0_H:S16E 3hc0_L:S46L - - - - - wild-type - - 3hc0_L:S46L - - 3hc0_H:V20I - - 3hc0_H:S16E - - 3hc0_H:S16Q - - 3hc0_H:Q3A - - wild-type - - - - - 3na9_H:V34I 3na9_H:G35S 3na9_H:F50R 3na9_H:E95Q 3na9_H:A60S 3na9_H:Q66H A0A1D5PBP6 - wild-type A0QWG6 - wild-type A4QUT2 - Y273F A4QUT2 - M299A A4QUT2 - wild-type A4QUT2 - W140F B8YLY0 - S227G Mutation not in the range of the protein\n",
      "B8YLY0 - wild-type D0WVP7 - L272R D0WVP7 - L261Q D0WVP7 - L272P O00189 - D190A O00189 - R283D O15350 - wild-type O25103 - wild-type O25776 - wild-type O26652 - wild-type O26652 - D54R O26652 - R85E O26652 - A159E O26652 - Y102A O26652 - W138A O26652 - K143A O49003 - wild-type O49003 - C450A O58720 - wild-type O59170 - wild-type O66037 - wild-type O66037 - wild-type O66529 - wild-type O68541 - A26C A334V G348D L380C Mutation not in the range of the protein\n",
      "O68541 - A334V G348D O68541 - G348D O68541 - A334V O68541 - A26C L380C Mutation not in the range of the protein\n",
      "O74035 - D135A O74035 - D105A O74035 - E8Q O74035 - E8A O74035 - D7N O74035 - wild-type P00004 - wild-type P00044 - T102A C108T P00044 - C108A P00044 - N58I P00044 - G12A N58I P00044 - N58Q P00044 - N58S P00044 - N58H P00044 - N58T P00044 - N58A P00044 - N58V P00044 - N58M P00044 - N58L P00044 - F88Y L91A P00044 - wild-type P00044 - C108T P00044 - F88Y P00044 - T75E C108T P00044 - L91A P00044 - T75E T102A C108T P00099 - F56Y E65Y V100I P00099 - wild-type P00099 - F29A V35M F56Y E65Y V100I P00099 - F29A V35M P00099 - F56Y E65Y P00099 - V100I P00099 - F29A V35M F56Y E65Y P00099 - F29A V35M V100I P00169 - wild-type P00173 - R31H E36S WildType AA does not match\n",
      "P00183 - wild-type P00183 - T102V P00257 - H114Q P00257 - wild-type P00257 - H114R P00257 - T112S P00257 - T112A P00257 - Y140S P00257 - D134E P00257 - Y140L P00257 - Y140F P00257 - H114T P00257 - Y140W P00257 - C153S P00282 - wild-type P00282 - C23A C46A P00282 - D43E K148R P00282 - K44R P00282 - D43E K148R K44R P00282 - D82C K94C P00289 - wild-type P00362 - C152S P00362 - wild-type P00362 - N315T P00362 - H179N P00362 - Y285V P00362 - D284G P00362 - T36Q T40S L44Q P00362 - Y47G S49G P00362 - Y47G R53G P00362 - W312F P00383 - wild-type P00396 - wild-type P00439 - wild-type P00441 - C7A P00441 - C7A C112S P00441 - wild-type P00441 - C112S P00442 - wild-type P00560 - wild-type P00563 - wild-type P00590 - wild-type P00644 - E155G P00644 - D159G P00644 - G170V P00644 - E155G E157G P00644 - E157G D159G P00644 - E155G E157G D159G P00644 - V148L P00644 - E157V P00644 - D159A P00644 - V148A P00644 - wild-type P00644 - V148W P00644 - L219A P00644 - G170W P00644 - E157G P00644 - E157A P00644 - A151T P00644 - K106G P00644 - V105A P00644 - L89A P00644 - G161S P00644 - L107A P00644 - A172S P00644 - E155G D159G P00644 - H206L P00644 - V148L G170V P00644 - V148L G161S G170V P00648 - S132C H149C P00648 - D55A P00648 - D59G P00648 - wild-type P00648 - D69M P00648 - D101N P00648 - R130Q P00648 - I51A I98V P00648 - S139A P00648 - T73G P00648 - T63R P00648 - I98V P00648 - I143V P00648 - R116M P00648 - I135V P00648 - S138A P00648 - G100A P00648 - G99A P00648 - G100V P00648 - G99V P00649 - wild-type P00651 - D102S P00651 - F72E WildType AA does not match\n",
      "P00651 - F72K WildType AA does not match\n",
      "P00651 - H66T W85Y P00651 - H118A P00651 - W85Y H118A P00651 - A30C G114R V144C WildType AA does not match\n",
      "P00651 - G114R P00651 - A30C C91A C98A G114R V144C WildType AA does not match\n",
      "P00651 - C91A C98A G114R WildType AA does not match\n",
      "P00651 - C66A G114R C121A WildType AA does not match\n",
      "P00651 - P140G Mutation not in the range of the protein\n",
      "P00651 - D102A P00651 - N93D WildType AA does not match\n",
      "P00651 - Q51K P00651 - wild-type P00651 - W85Y P00651 - Y50W P00651 - Y50W W85Y P00651 - Y68W P00651 - Y71W P00651 - Y71W W85Y P00651 - H66T P00651 - D102N P00651 - P119G WildType AA does not match\n",
      "P00651 - Y68W W85Y P00651 - F72V WildType AA does not match\n",
      "P00651 - T117V T119A P00651 - wild-type P00651 - T117A P00651 - V42A P00651 - V42S P00651 - V42T P00651 - V42C P00651 - V104T P00651 - T117V P00651 - T119A P00651 - wild-type P00651 - T119V P00651 - T117A T119A P00651 - T117A T119V P00651 - T117V T119V P00655 - wild-type P00690 - wild-type P00698 - M30L L74F P00698 - G135A P00698 - M30F L74F P00698 - G120A P00698 - C48A C133A P00698 - M30F P00698 - C24S C145A P00698 - C82A C98A P00698 - G89A P00698 - wild-type P00698 - G67A P00698 - M30L P00698 - G85A P00698 - C94A C112A P00711 - wild-type P00712 - W79F W137F P00712 - wild-type P00712 - W137F P00712 - W79F P00720 - A82P P00720 - T157V P00720 - T157R P00720 - T157L P00720 - I3P P00720 - T157I P00720 - T157E P00720 - I3L P00720 - C54T C97A P00720 - G113A P00720 - A93P P00720 - T157N P00720 - I3T P00720 - T157A P00720 - A42K P00720 - S44A P00720 - R96H P00720 - wild-type P00720 - L84M L91M L99M L118M L121M L133M F153M V87M V111M P00720 - L84M L91M L99M L118M L121M V111M L133M P00720 - L84M L91M L99M L118M L121M L133M F153M P00720 - L84M L91M L99M L118M L121M P00720 - L84M L91M L99M P00720 - K48A P00720 - I3F P00720 - I3E P00722 - Y503F WildType AA does not match\n",
      "P00722 - wild-type P00722 - E417Q P00735 - wild-type P00747 - wild-type P00749 - W50F P00749 - wild-type P00749 - wild-type P00749 - W50Y P00750 - W277Y P00750 - W277S P00750 - Y290A P00750 - Y290E P00750 - Y290Q P00750 - W277H P00750 - W277F P00750 - Y290K P00750 - Y290L P00750 - Y290F P00750 - Y290W P00750 - V280M P00750 - wild-type P00750 - wild-type P00750 - W288Y P00750 - W288F P00750 - W288L P00750 - W288S P00750 - V280A P00750 - V280I P00750 - V280T P00750 - V280S P00750 - V280L P00766 - wild-type P00779 - wild-type P00782 - G276A P00782 - N325A P00782 - T129C S194C P00782 - S194C P00782 - M157F P00782 - N325S P00782 - Y324K P00782 - Q313C P00782 - N183D P00782 - M157F Y324K N325S S328C P00782 - T129C P00782 - wild-type P00784 - wild-type P00784 - wild-type P00791 - wild-type P00800 - wild-type P00883 - D129A P00883 - D129N P00883 - D129V P00883 - D129G P00883 - wild-type P00883 - D129Q P00918 - Y7S P00918 - Y7N P00918 - Y7D P00918 - Y7F P00918 - Y7W P00918 - Y7A P00918 - Y7I P00918 - wild-type P00918 - Y7R P00918 - K169P P00918 - E233P P00918 - wild-type P00921 - wild-type P00929 - wild-type P00942 - wild-type P00943 - K14G P00943 - H13N P00943 - H13N K14G P00943 - wild-type P00974 - C65V C86A P00974 - C65A C86A P00974 - N79G P00974 - C65G C86A P00974 - C65T C86A P00974 - G92A P00974 - G91A P00974 - M87A P00974 - R88A P00974 - C65S C86A P00974 - T89A P00974 - G47A P00974 - E84A P00974 - N59A P00974 - R55A P00974 - I54A P00974 - I53A P00974 - R52A P00974 - P48A P00974 - K50T P00974 - R36A P00974 - P37A P00974 - D38A P00974 - F39A P00974 - L41A P00974 - E42A P00974 - P43A P00974 - P44A P00974 - Y45A P00974 - T46A P00974 - K61A P00974 - D85A P00974 - G63A P00974 - T67A P00974 - S82A P00974 - K81A P00974 - N79A P00974 - R77A P00974 - wild-type P00974 - F57A P00974 - Y58A P00974 - Y70G P00974 - N78G P00974 - K76A P00974 - C65A C86S P00974 - F80A P00974 - R74A P00974 - G72A P00974 - G71A P00974 - Y70A P00974 - V69A P00974 - Q66A P00974 - L64A P00974 - K50S P00974 - R74M P00974 - K50M P00974 - K50V P00974 - K50L P00974 - K50Y P00974 - K50F P00974 - K50I P00974 - K50W P00974 - K81M P00974 - K50E P00974 - R88M P00974 - E84M P00974 - K50A P00974 - K50H P00974 - T89M P00974 - K50Q P00974 - K50G P00974 - K50D P00974 - K50N P00974 - M87L P00974 - T67M P00974 - L64M P00974 - L41M P00974 - T46M P00974 - F57M P00974 - K50R P01006 - M104E P01006 - V44M P01006 - V44L P01006 - V44I P01006 - M134G P01006 - M104L P01006 - M134L P01006 - V44G P01006 - V44A P01006 - M104K P01006 - M134V P01006 - M134A P01006 - M104A P01006 - M104V P01006 - wild-type P01006 - M104I P01006 - M104D P01006 - V44F P01006 - M134I P01006 - M104G P01006 - D114C P01006 - D114N P01012 - wild-type P01040 - wild-type P01051 - V54A P01051 - wild-type P01051 - V14A P01053 - E34A E35A P01053 - L69A P01053 - V71A P01053 - I77V P01053 - I77A P01053 - S32G E34A E35A P01053 - I49A I77V P01053 - I49A P01053 - wild-type P01053 - S32A P01053 - S32G P01053 - S32A E34A E35A P01053 - I40V P01053 - V39A P01053 - L28A P01053 - I49V P01053 - V67A P01092 - wild-type P01308 - S98D T51E P01308 - P52D P01308 - wild-type P01584 - wild-type P01588 - wild-type P01607 - wild-type Failure in Uniprot request\n",
      "P01704 - wild-type P01857 - K243Q Q301L Q321R P01857 - V146A P01857 - K243Q Q321R P01857 - Q230E P01857 - S237P P01857 - Q230E Q301L P01857 - Q321R P01857 - K243E P01857 - K243Q P01857 - K275R P01857 - S283F P01857 - Q301L P01857 - S307T P01857 - T320I P01857 - Q321K P01857 - N304D P01857 - wild-type P01857 - K243Q G329C P01857 - K243Q Q301L P01857 - S258C P279C P01857 - P226C A314C P01857 - P226C A314C S258C P279C P01868 - wild-type P02454 - wild-type P02526 - wild-type P02549 - R34W P02549 - R28C P02549 - R28H P02549 - R28L P02549 - I24T P02549 - I24S P02549 - wild-type P02549 - R45T P02549 - R41W P02549 - V31A P02549 - G46V P02549 - L49F P02549 - K48R P02549 - R28S P02549 - R45S P02625 - P22A WildType AA does not match\n",
      "P02625 - K81S P02625 - A22P K81S P02625 - P22A P27A WildType AA does not match\n",
      "P02625 - P27A WildType AA does not match\n",
      "P02625 - H27P P02625 - A22P P02625 - A22P H27P P02625 - E109S P02625 - wild-type P02625 - E109S P02625 - wild-type P02672 - wild-type P02699 - wild-type P02730 - K56E P02730 - P327R P02730 - G130R P02730 - wild-type P02730 - E40K P02751 - wild-type P02753 - wild-type P02754 - wild-type P02768 - wild-type P02768 - wild-type P02792 - wild-type P02872 - wild-type P02877 - wild-type P02924 - wild-type P02945 - wild-type P02945 - wild-type P02945 - E22Q E207Q E217Q P02966 - wild-type P03034 - Y89C G47A G49A P03034 - G47A P03034 - G49A P03034 - K5Q P03034 - Q34Y P03034 - Q45Y P03034 - A50V P03034 - Y23H P03034 - Y89C P03034 - A67T P03034 - I85S P03034 - wild-type P03034 - G47A G49A P03034 - G49S P03034 - G49N P03036 - wild-type P03036 - wild-type P03036 - V55C WildType AA does not match\n",
      "P03040 - wild-type P03051 - L41A P03051 - C38A C52V P03051 - wild-type P03051 - L41V P03069 - V278V P03069 - R249V Y265W P03069 - M250V Y265W P03069 - wild-type P03437 - wild-type P03695 - wild-type P04070 - wild-type P04080 - wild-type P04083 - wild-type P04114 - wild-type P04168 - Y12H P04168 - Y12W P04168 - wild-type P04168 - Y12F P04179 - Q167H P04179 - Q167S P04179 - Q167N P04179 - Y58F P04179 - Q167E P04179 - Q167A P04179 - Q167V P04179 - I82T P04179 - wild-type P04190 - wild-type P04268 - wild-type P04275 - G1324S P04275 - wild-type P04275 - G1324A P04391 - S56H P04391 - K87Q P04391 - R320A P04391 - wild-type P04391 - A326G P04525 - wild-type P04637 - M133L V203A N239Y N268D P04637 - M133L V203A N239Y N268D Y236F T253I P04637 - wild-type P04637 - wild-type P04637 - Y236F T253I P04745 - wild-type Failure in Uniprot request\n",
      "P05230 - L59P L88V V124L P05230 - C132S P05230 - C98S P05230 - wild-type P05230 - C31S H108G P05230 - H108G P05230 - C98S C132S P05230 - L59F F147W P05230 - F147W P05230 - L59P P05230 - F100W P05230 - L59F P05230 - L88V P05230 - L88V V124L P05230 - V124L P05798 - E74K P05798 - wild-type P05798 - Q38A P05798 - E41K P05798 - R65A P05798 - H85Q P05798 - E54Q P05819 - wild-type P06179 - wild-type P06278 - wild-type P06654 - wild-type P06876 - V103L P06876 - wild-type P06876 - V103I P06996 - R95G P06996 - wild-type P06996 - R95S P06996 - R95A P06996 - R58H P06996 - D126G P06996 - R95C P06996 - R95A D126G P07017 - V348M WildType AA does not match\n",
      "P07017 - S327L WildType AA does not match\n",
      "P07017 - T313I P07017 - E303K WildType AA does not match\n",
      "P07017 - S461) P07017 - A438V WildType AA does not match\n",
      "P07017 - wild-type P07017 - V435I WildType AA does not match\n",
      "P07313 - wild-type P07751 - A1019K P07751 - wild-type P07751 - N1010A P07751 - A1019G P07751 - A1019E P07751 - A1019K P07751 - wild-type P07751 - N1010A P07751 - A1019G P07751 - A1019E P07751 - D1011G P07751 - A974V V986L M988V V1007I V1021L P07980 - wild-type P08038 - N72K P08038 - N70Q P08038 - wild-type P08253 - wild-type P08709 - wild-type P08753 - wild-type P08753 - G203A P08753 - Q204L P08753 - T329A P08753 - A326S P08758 - E17G P08758 - wild-type P08799 - wild-type P08839 - wild-type P08839 - H189A P08839 - H189E P08877 - D69A G49E P09237 - wild-type P09353 - wild-type P09372 - wild-type P09803 - wild-type P09850 - wild-type P09850 - S128C N176C P09850 - V126C A180C P09871 - wild-type P09954 - wild-type P09955 - wild-type P0A1J1 - wild-type P0A379 - wild-type P0A3D9 - D127K P0A3E0 - wild-type P0A3E0 - E21K P0A3E0 - E41K P0A3E0 - E73K P0A3E0 - D76K P0A3E0 - D151K P0A3H0 - V42I P0A3H0 - K38N P0A3H0 - E34D P0A3H0 - A27S P0A3H0 - wild-type P0A3H0 - G15E P0A6Y8 - wild-type P0A759 - wild-type P0A877 - K109N P0A877 - G211E P0A877 - G211R P0A877 - P28S P0A877 - G51D P0A877 - T63K P0A877 - P53T P0A877 - E49S P0A877 - P28L P0A877 - D112G P0A877 - S6P P0A877 - P207A P0A877 - P96A P0A877 - P132G P0A877 - E49Q P0A877 - P132A P0A877 - P62A P0A877 - P57A P0A877 - C154V P0A877 - C154A P0A877 - C154S P0A877 - C118V P0A877 - C118A P0A877 - C118S P0A877 - C81V P0A877 - C81A P0A877 - C81G P0A877 - C81S P0A877 - P53H P0A877 - F114L P0A877 - P21S P0A877 - A67V P0A877 - T24M P0A877 - P78L P0A877 - Y102C P0A877 - Y102H P0A877 - F22S P0A877 - D112N P0A877 - Q65R P0A877 - P62Q P0A877 - M101T P0A877 - M101I P0A877 - P78S P0A877 - E49G P0A877 - D56G P0A877 - Y115C P0A877 - wild-type P0A877 - S33L P0A877 - D60G P0A877 - M101V P0A881 - wild-type P0A8U6 - wild-type P0A9B2 - wild-type P0A9X9 - wild-type P0AA25 - L80C T90C P0AA25 - wild-type P0AA25 - L79C K91C P0AA25 - C33S C36S L79C P0AA25 - M38L P41S P0AA25 - C33S C36S P0AA25 - M38L P0AA25 - wild-type P0AA25 - L79K P0AA25 - L79R P0AA25 - T78C V92C P0AA25 - wild-type P0ABQ4 - wild-type P0ABQ4 - G121V P0ABQ4 - D27F P0ABQ4 - T113V P0ABQ4 - S138Y P0ABQ4 - D87P P0ABQ4 - G67H P0ABQ4 - A6I P0ABQ4 - E139V P0ABQ4 - L156Y P0ABQ4 - Q108D P0ABQ4 - G15W P0ABQ4 - E157F P0ABQ4 - H141E P0ABQ4 - W74F P0ABQ4 - S49E P0ABQ4 - C152I P0ABQ4 - S135I P0ABQ4 - wild-type P0ABQ4 - G121L P0ABQ4 - V119F P0ABQ4 - E120P P0ABQ4 - T68N P0ABQ4 - D116F P0ABQ4 - H114R P0ABQ4 - G43P P0ACF0 - wild-type P0ACJ8 - wild-type P0AE67 - wild-type P0AEX9 - P185A P0AEX9 - P74A P0AEX9 - P185S P0AEX9 - P159S P0AEX9 - P74S P0AEX9 - wild-type P0AEX9 - P159A P0AFG6 - wild-type P0C1B3 - wild-type P0C1B3 - wild-type P0C1H3 - wild-type P0C2S3 - A6C R340C P0C2S3 - wild-type P0C2S3 - N220D T222A P0C2S3 - N9D P0C2S3 - E333G P0C2S3 - I293A P0C2S5 - wild-type P0C7U7 - wild-type P0CG48 - K641G P0CG48 - K641I P0CG48 - K641F P0CG48 - K641L P0CG48 - K641M P0CG48 - K641N P0CG48 - K641E P0CG48 - K641Q P0CG48 - K641S P0CG48 - K641T P0CG48 - K641V P0CL66 - wild-type P10408 - wild-type P10408 - E210Q P11073 - wild-type P11166 - wild-type P11540 - C41A P11540 - C83A P11540 - wild-type P11540 - C41A C83A P11961 - F166W P12528 - wild-type P12528 - G178R P12528 - E310V P12528 - G245R P12528 - R383S P12528 - G324D P12528 - R286K P12528 - T236I P13123 - W24A P13123 - wild-type P13123 - V30I P13123 - wild-type P13231 - wild-type P13284 - wild-type P13569 - F429S F494N Q673R L636E WildType AA does not match\n",
      "P13569 - F429S F494N Q673R WildType AA does not match\n",
      "P13569 - G550E R553Q R553K WildType AA does not match\n",
      "P13569 - F494N Q637R P13569 - V510D P14080 - wild-type P14090 - wild-type P14295 - wild-type P14711 - S63T P14711 - Y53H P14711 - T59I P14711 - Y53H T59I S63T P14711 - Y53H T59I P14711 - T59I S63T P14711 - Y53H S63T P15057 - wild-type P15452 - wild-type P16404 - wild-type P17778 - wild-type P18614 - 1mhp_L:A25H 1mhp_L:M32T WildType AA does not match\n",
      "P18614 - 1mhp_L:M32F WildType AA does not match\n",
      "P18614 - 1mhp_L:V29F 1mhp_L:Y70V WildType AA does not match\n",
      "P18614 - wild-type P18614 - 1mhp_L:V29T WildType AA does not match\n",
      "P18614 - 1mhp_L:V29F 1mhp_L:M32I 1mhp_L:Y70F WildType AA does not match\n",
      "P18614 - 1mhp_L:A25S 1mhp_L:Y70F WildType AA does not match\n",
      "P18614 - 1mhp_L:V29I 1mhp_L:M32L WildType AA does not match\n",
      "P18614 - 1mhp_L:V29S WildType AA does not match\n",
      "P18614 - 1mhp_L:M32L 1mhp_L:Y70F WildType AA does not match\n",
      "P18614 - 1mhp_L:A25F 1mhp_L:M32I WildType AA does not match\n",
      "P18614 - 1mhp_H:M34I WildType AA does not match\n",
      "P18614 - 1mhp_L:V29I 1mhp_L:M32L 1mhp_L:Y70F WildType AA does not match\n",
      "P18614 - 1mhp_H:F29L P18614 - 1mhp_H:A24V WildType AA does not match\n",
      "P18614 - 1mhp_H:A24F 1mhp_H:F29M 1mhp_H:M34F WildType AA does not match\n",
      "P18614 - 1mhp_H:M34H WildType AA does not match\n",
      "P18614 - 1mhp_L:A25S 1mhp_L:V29L 1mhp_L:M32L 1mhp_L:Y70F WildType AA does not match\n",
      "P18614 - 1mhp_H:F29W 1mhp_H:M34A WildType AA does not match\n",
      "P18614 - 1mhp_L:A25V WildType AA does not match\n",
      "P18614 - 1mhp_H:F29W 1mhp_H:M34F WildType AA does not match\n",
      "P18614 - 1mhp_H:A24S 1mhp_H:F29H 1mhp_H:M34F WildType AA does not match\n",
      "P18614 - 1mhp_H:M34V WildType AA does not match\n",
      "P19873 - R52Q P19873 - wild-type P19873 - C3S C48S P19873 - E38C W54C P19873 - V42C R52C P19873 - R50A P19873 - R52A P19873 - P4G P19873 - T43A P19873 - R50K P20058 - wild-type P21549 - S48H D52E I340M P21549 - P11L P21549 - P11L I340M P21549 - P11L I340M H83R P21549 - P11L I340M G170R P21549 - P11L I340M R197Q P21549 - P11L I340M I244T P21549 - P11L I340M A295T P21549 - P11L I340 M A368T P21549 - Q23R P21549 - S48H P21549 - S50H P21549 - I340M P21549 - V113A P21549 - S48H I340M P21549 - S48H D52E P21549 - D52E I340M P21549 - wild-type P21549 - G41R P21549 - G41V P21549 - D52E P21549 - Q23R S48H D52E V113A I340M P21549 - Q23R S48H D52E I340M P21549 - S48H D52E V113A I340M P22069 - F28T P22069 - wild-type P22069 - F36Y P22069 - F28A P22069 - C87A C104A P22069 - M23L P22914 - wild-type P23904 - wild-type P23907 - R171Q P23907 - A136V R171Q P23907 - 1uw3_A:H155R WildType AA does not match\n",
      "P24092 - F42L WildType AA does not match\n",
      "P24092 - wild-type P24565 - wild-type P24821 - L820K P24821 - D850K P24821 - V811C I821C P24821 - A885V P24821 - E887I P24821 - I833F P24821 - E887I T890K P24821 - E887I T890K D850K P24821 - E887I T890K D850K I833F P24821 - T888C E870C P24821 - I833C S875C P24821 - T888C E870C I833C S875C P24821 - Q808K  L820K  D850K  T890K P24821 - T890K P24821 - Q808K P24821 - wild-type P25984 - A177P P25984 - A22P P25984 - S24P P25984 - T149P P25984 - H222P P25984 - L275P P25984 - L316P P25984 - wild-type P25984 - A22P S24P P25984 - A347P P25984 - S24P L316P P26514 - wild-type P26747 - T294I P26747 - A108V P26747 - W48Q P26747 - G282D P26747 - D302G P26747 - G232D P26747 - D174N P26747 - Y411H P26747 - F353L P26747 - D174G P26882 - wild-type P26882 - K227A P26882 - K308A P26882 - K227A K308A P27064 - wild-type P27169 - wild-type P28366 - wild-type P28366 - E208Q P29392 - wild-type P29600 - wild-type P29957 - T256V P29957 - K324R N174D V220F Q188I T256V P29957 - N36R P29957 - L243R P29957 - R88E P29957 - M403V P29957 - N312V P29957 - Q188I P29957 - Q188I V220F P29957 - N174D V220F P29957 - E303W P29957 - N174D P29957 - K324R P29957 - V220F P29957 - wild-type P29957 - Q82C A123C P30533 - wild-type P30879 - wild-type P32081 - wild-type P32081 - K39E P32081 - E42Q P32081 - S48E P32081 - V20K P32081 - K5Q P32081 - E3Q P32081 - E3R P32081 - E53Q P32081 - N55D P32081 - K65E P33120 - wild-type Failure in Uniprot request\n",
      "P34093 - P105G WildType AA does not match\n",
      "P34093 - wild-type P35495 - wild-type P36217 - wild-type P36217 - T35C T61C K91R P37093 - wild-type P38909 - wild-type P38909 - N62I WildType AA does not match\n",
      "P38993 - N77A P38993 - N198A P38993 - N113A P39060 - wild-type P39476 - wild-type P39476 - I30) P39476 - F32A P39476 - F32Y P39476 - W24A P39940 - wild-type P39940 - E34A WildType AA does not match\n",
      "P39940 - E34C WildType AA does not match\n",
      "P39940 - wild-type P39940 - I334L I340V WildType AA does not match\n",
      "P39940 - I334L WildType AA does not match\n",
      "P39940 - E34P WildType AA does not match\n",
      "P39940 - E34H WildType AA does not match\n",
      "P39940 - E34G WildType AA does not match\n",
      "P39940 - E34K WildType AA does not match\n",
      "P39940 - E34Q WildType AA does not match\n",
      "P39940 - I334L I340F WildType AA does not match\n",
      "P39940 - E34N WildType AA does not match\n",
      "P39940 - E34T WildType AA does not match\n",
      "P39940 - E34I WildType AA does not match\n",
      "P39940 - E34W WildType AA does not match\n",
      "P39940 - E34D WildType AA does not match\n",
      "P39940 - E34F WildType AA does not match\n",
      "P39940 - E34V WildType AA does not match\n",
      "P39940 - E34Y WildType AA does not match\n",
      "P39940 - E34L WildType AA does not match\n",
      "P39940 - I340L WildType AA does not match\n",
      "P39940 - I334L I340L WildType AA does not match\n",
      "P39940 - I340V WildType AA does not match\n",
      "P39940 - I334V I340L WildType AA does not match\n",
      "P39940 - I334V I340V WildType AA does not match\n",
      "P39940 - I334V WildType AA does not match\n",
      "P39940 - I334V I340F WildType AA does not match\n",
      "P39940 - I334F I340V WildType AA does not match\n",
      "P39940 - I334F WildType AA does not match\n",
      "P39940 - I340F WildType AA does not match\n",
      "P39940 - I334F I340L WildType AA does not match\n",
      "P39940 - E34S WildType AA does not match\n",
      "P41016 - H29E P41016 - E46K P41016 - wild-type P41365 - wild-type P42790 - wild-type P43351 - wild-type P43895 - wild-type P46406 - wild-type P48781 - wild-type P48816 - wild-type P48842 - S201D Q204T P48842 - G120D A172R P48842 - D198N P48842 - D74N P48842 - wild-type P48842 - G322A P48842 - Y311F P53779 - wild-type P53779 - V1833M Mutation not in the range of the protein\n",
      "P53779 - M1775R Mutation not in the range of the protein\n",
      "P53779 - R1699W Mutation not in the range of the protein\n",
      "P56634 - wild-type P56740 - wild-type P60546 - wild-type P60953 - wild-type P60953 - T35A P61626 - I107A P61626 - D36N P61626 - Q76A P61626 - R68A P61626 - Y56G P61626 - Y56A P61626 - R39G P61626 - R39A P61626 - Y63F P61626 - I74M P61626 - V118T P61626 - I74L P61626 - V20A P61626 - I124V P61626 - I107V P61626 - V118F P61626 - H96A P61626 - I77G P61626 - N136A P61626 - Y72F P61626 - I74A P61626 - I41A P61626 - D67N P61626 - D85N P61626 - D120N P61626 - D138N P61626 - I77T P61626 - G147A P61626 - I77S P61626 - I77M P61626 - I77L P61626 - I74F P61626 - Y142F P61626 - A114M P61626 - I74G P61626 - Y81F P61626 - I77F P61626 - H96G P61626 - E53L P61626 - R68G P61626 - T61A P61626 - Y56F P61626 - Y38F P61626 - V148A P61626 - V143A P61626 - V139A P61626 - V128A P61626 - T70A P61626 - T58A P61626 - S100A P61626 - S98A P61626 - S79A P61626 - S69A P61626 - S54A P61626 - V111A P61626 - S42A P61626 - T29A P61626 - T88A P61626 - T29V P61626 - T58V P61626 - G55Q P61626 - I77Y P61626 - A50L P61626 - N45L P61626 - I77V P61626 - I74V P61626 - I41V P61626 - T88V P61626 - T70V P61626 - T61V P61626 - V117T P61626 - A114S P61626 - V111T P61626 - A110S P61626 - A50S P61626 - A27S P61626 - L26T P61626 - Q76G P61626 - N136G P61626 - I124A P61626 - V92M P61626 - V92G P61626 - K19M P61626 - K19A P61626 - V20F P61626 - V20M P61626 - V20L P61626 - V20I P61626 - V20G P61626 - V117A P61626 - V128P P61626 - A65P P61626 - G145A P61626 - G123A P61626 - D109P P61626 - G90A P61626 - I74T P61626 - G86A P61626 - G66A P61626 - G55A P61626 - P89G P121G P61626 - P121G P61626 - P89G P61626 - V92A P61626 - G40A P61626 - wild-type P61626 - E25Q P61626 - G37A P61626 - V92I P61626 - V92L P61626 - G34A P61626 - V92F P61626 - I77A P61626 - V118A P61626 - V128R P61626 - V128N P61626 - V128D P61626 - V128Y P61626 - V92R P61626 - V92N P61626 - V92D P61626 - V92Y P61626 - V92S P61626 - V20R P61626 - V20D P61626 - V20N P61626 - V20S P61626 - C95A C113A P61626 - V128F P61626 - V128M P61626 - V128L P61626 - V128I P61626 - V128G P61626 - V20Y P62166 - K36D G47E P62166 - K36D G47E P62166 - wild-type P62166 - wild-type P62894 - wild-type P62990 - wild-type Failure in Uniprot request\n",
      "P63284 - wild-type P67939 - C124W M133L C135I C141F WildType AA does not match\n",
      "P67939 - L145I V157I WildType AA does not match\n",
      "P67939 - wild-type P67939 - H115E W146R Q165K Q167E L206H F212K N268R WildType AA does not match\n",
      "P67939 - C124W M133L WildType AA does not match\n",
      "P67939 - M133L C141V Y236F T253L WildType AA does not match\n",
      "P67939 - L145V V157L WildType AA does not match\n",
      "P68135 - wild-type P68390 - wild-type P69168 - T31I P69168 - T31I T119I Q147H D227Y P69168 - wild-type P69168 - T119I D227Y P69168 - T31I T119I D227Y P69168 - T119I P69328 - wild-type P69441 - G85V P69441 - F86L P69441 - wild-type P69441 - R88G P69441 - D84H P69488 - E61V P69488 - S11V P69488 - wild-type P69488 - H72K P69488 - T88R P69488 - S11V E61V P69488 - T17K P69488 - C39D P69488 - S48K H72K S82K Q87K T88R P69488 - S48K P69488 - S48D P69488 - Q87K P69488 - S48K P69488 - S82R P69488 - S82K P69488 - T17K S48D P69488 - Y60T P69488 - S11V E59K E61T P69488 - wild-type P69488 - S11V P69488 - S11A P69488 - S11I P69488 - G45Q P69488 - E59L P69488 - E59K P69488 - E59Q P69488 - Q87K T88R P69488 - E61V P69488 - E61T P69488 - S11V E61T P69488 - S11V E61V Q73V P69488 - S11V E61T Q73V P69488 - E59K E61V P69488 - S11V E61V P69488 - Y86D P69488 - Q73V P69488 - S110R P69488 - E61H P69905 - wild-type P78352 - wild-type P78352 - D332P P78352 - D332G P78352 - E401R P78352 - E334Q P78352 - E334L P80025 - wild-type P80028 - wild-type P80319 - wild-type P80324 - wild-type P81708 - wild-type P81708 - A93S P81708 - I56L P81708 - H21G P81708 - V109K P96110 - N118R P96110 - S129R P96110 - S129R T159E P96110 - wild-type P96110 - S129R T159E N118R P96110 - S129R T159E S161E P96110 - T159E P96110 - S129R T159E N118R S161E P96988 - 1k42_A:D160A WildType AA does not match\n",
      "P96988 - 1k42_A:E23A WildType AA does not match\n",
      "P96988 - 1k42_A:E11A 1k42_A:D160A WildType AA does not match\n",
      "P96988 - 1k42_A:E11A WildType AA does not match\n",
      "P96988 - wild-type P96988 - 1k42_A:E26A WildType AA does not match\n",
      "P96988 - 1k42_A:D29A WildType AA does not match\n",
      "P98002 - wild-type Q00511 - wild-type Q1J0W0 - wild-type Q28198 - wild-type Q2XSK9 - N72K Q2XSK9 - N70Q Q2XSK9 - wild-type Q2XSL7 - wild-type Q2XSL7 - Q73N Q2XSL7 - K75N Q47108 - wild-type Q56304 - D168T Q56304 - wild-type Q56304 - T139E D168T Q56304 - T139E Q59196 - wild-type Q59962 - wild-type Q60675 - wild-type Q63610 - A74Q A78N A81Q WildType AA does not match\n",
      "Q63610 - A74L A78V A81L WildType AA does not match\n",
      "Q63610 - wild-type Q63K37 - wild-type Q6B184 - wild-type Failure in Uniprot request\n",
      "Q6VS32 - wild-type Q6VS32 - G133D Q6VS32 - L130R Q6VS32 - L130R G133D Q6VS32 - wild-type Q6VS32 - 4z3t_A:D133G WildType AA does not match\n",
      "Q6VS32 - 4z3t_A:R130L WildType AA does not match\n",
      "Q6VS32 - 4z3t_A:R130L 4z3t_A:D133G WildType AA does not match\n",
      "Q7BQ98 - wild-type Q7SIA8 - wild-type Q7SIB6 - wild-type Q7SIG1 - wild-type Q7SIG1 - K102Q Q7YUF0 - A416E R417K D420Q I422L Q7YUF0 - E411D K412N A414C Y416F WildType AA does not match\n",
      "Q8GB52 - N142P Q8GB52 - N142P I144P T404P Q8GB52 - N142P I144P N377P T404P Q8GB52 - N142P I144P Q8GB52 - T404P Q8GB52 - N377P Q8GB52 - I144P Q8GB52 - N142P I144P N377P Q8GB52 - wild-type Q8NBP7 - Q152N Q8NBP7 - S386A Q8NBP7 - Q152H Q8NBP7 - wild-type Q8RR56 - wild-type Q93P54 - wild-type Q97ZF4 - wild-type Q99983 - E303R Q99983 - E284R Q99983 - N278R Q99983 - D271R Q99983 - D254R Q99983 - E225R Q99983 - E173R Q99983 - wild-type Q99983 - E284R E303R Q9EYL5 - wild-type Q9EYL5 - P170A WildType AA does not match\n",
      "Q9NAV8 - wild-type Q9S8W1 - wild-type Q9ZEU2 - wild-type R9S082 - I143V R9S082 - I143A R9S082 - I143M R9S082 - wild-type R9S082 - L136V R9S082 - wild-type R9S082 - I29L WildType AA does not match\n",
      "R9S082 - I29M WildType AA does not match\n",
      "R9S082 - L30I R9S082 - L30M R9S082 - I29V WildType AA does not match\n",
      "R9S082 - I29A WildType AA does not match\n",
      "R9S082 - I112L R9S082 - L50I R9S082 - I112M R9S082 - I143L R9S082 - L30V R9S082 - L30A R9S082 - L70M R9S082 - L70V R9S082 - L70A R9S082 - L136I R9S082 - L136M R9S082 - I112A R9S082 - L70I Total time analyzing all the dataFrame 254.92953276634216 s\n"
     ]
    }
   ],
   "source": [
    "import time \n",
    "t0 = time.time()\n",
    "Sequences = {}\n",
    "fail  = {}\n",
    "AccNum = []\n",
    "count = 0 \n",
    "print(\"Perfoming data curation : \")\n",
    "\n",
    "for accnumber, row in Mutation_list.iterrows():\n",
    "    #if(count == 100):\n",
    "    #    break\n",
    "    #count += 1\n",
    "    mutation = row['MUTATION'].split(\"(\")[0].strip()\n",
    "    print(\"{} - {}\".format(accnumber,mutation), end =\" \")\n",
    "    name =\"{}-{}\".format(accnumber,mutation)\n",
    "    if(accnumber=='-'):\n",
    "        fail[accnumber] = [mutation]\n",
    "        continue\n",
    "    if accnumber not in AccNum:\n",
    "        AccNum.append(accnumber)\n",
    "        seq = Seq_From_AccNum(accnumber)\n",
    "        if(seq == None):\n",
    "            continue\n",
    "    if(mutation =='wild-type'):\n",
    "        name =\"{}-{}\".format(accnumber,\"WT\")\n",
    "        Sequences[name]=seq\n",
    "    else:\n",
    "        mutseq = MutateSeq(seq,mutation)\n",
    "        if(mutseq==None):\n",
    "            if(accnumber not in fail ):\n",
    "                fail[accnumber] = [mutation]\n",
    "            else:\n",
    "                fail[accnumber].append(mutation)\n",
    "        Sequences[name] = mutseq\n",
    "\n",
    "print(\"Total time analyzing all the dataFrame {} s\".format(time.time() - t0))"
   ]
  },
  {
   "cell_type": "markdown",
   "metadata": {},
   "source": [
    "# Fail dictionary contains all  the proteins with accesion number that contains an inconsistency between uniprot and ProThermDB"
   ]
  },
  {
   "cell_type": "code",
   "execution_count": 23,
   "metadata": {
    "tags": []
   },
   "outputs": [
    {
     "ename": "NameError",
     "evalue": "name 'fail' is not defined",
     "output_type": "error",
     "traceback": [
      "\u001b[0;31m---------------------------------------------------------------------------\u001b[0m",
      "\u001b[0;31mNameError\u001b[0m                                 Traceback (most recent call last)",
      "\u001b[0;32m<ipython-input-23-a44b30b36141>\u001b[0m in \u001b[0;36m<module>\u001b[0;34m\u001b[0m\n\u001b[0;32m----> 1\u001b[0;31m \u001b[0mfail\u001b[0m\u001b[0;34m\u001b[0m\u001b[0;34m\u001b[0m\u001b[0m\n\u001b[0m",
      "\u001b[0;31mNameError\u001b[0m: name 'fail' is not defined"
     ]
    }
   ],
   "source": [
    "fail"
   ]
  },
  {
   "cell_type": "markdown",
   "metadata": {},
   "source": [
    "# The following cell create a file with ACCNumber-Mutation,T_m,PDBID,sequence"
   ]
  },
  {
   "cell_type": "code",
   "execution_count": 22,
   "metadata": {},
   "outputs": [],
   "source": [
    "temp_accnum = no_wild_type_repeated[['UniProt_ID','MUTATION','Tm_(C)','PDB_wild']]\n",
    "arr_acc_temp = temp_accnum.to_numpy()\n",
    "\n",
    "temp_dic={}\n",
    "\n",
    "for i in arr_acc_temp:\n",
    "    acc = i[0]\n",
    "    if(i[1] == 'wild-type'):\n",
    "        mut ='WT'\n",
    "    else:\n",
    "        mut = i[1].split('(')[0].strip()\n",
    "\n",
    "    name=\"{}-{}\".format(acc,mut)\n",
    "    temp_dic[name]=[i[-2],i[-1].upper()]\n",
    "    \n",
    "with open('sequences_protherm.csv','w') as file:\n",
    "    file.write(\"AccNumber,T_m,PDBID,Sequence \\n\")\n",
    "    for k,v in Sequences.items():\n",
    "        if(v==None):\n",
    "            continue\n",
    "        temp = temp_dic[k][0]\n",
    "        code_pdb = temp_dic[k][1]\n",
    "\n",
    "\n",
    "        text = \"{},{},{},{} \\n\".format(k,temp,code_pdb,v)\n",
    "        file.write(text)"
   ]
  },
  {
   "cell_type": "code",
   "execution_count": 24,
   "metadata": {},
   "outputs": [],
   "source": [
    "import deepchem as dc\n",
    "from rdkit import Chem\n",
    "import pandas as pd "
   ]
  },
  {
   "cell_type": "code",
   "execution_count": 25,
   "metadata": {},
   "outputs": [],
   "source": [
    "Final_Data  = pd.read_csv(\"sequences_protherm.csv\")"
   ]
  },
  {
   "cell_type": "code",
   "execution_count": 26,
   "metadata": {},
   "outputs": [],
   "source": [
    "seq_list = list(Final_Data['Sequence '])"
   ]
  },
  {
   "cell_type": "code",
   "execution_count": 28,
   "metadata": {},
   "outputs": [],
   "source": [
    "codes = ['A', 'C', 'D', 'E', 'F', 'G', 'H', 'I', 'K', 'L',\n",
    "         'M', 'N', 'P', 'Q', 'R', 'S', 'T', 'V', 'W', 'Y']"
   ]
  },
  {
   "cell_type": "markdown",
   "metadata": {},
   "source": [
    "# In order to obtain a oneHotFeaturizer for all the selected sequences we will determine the max sequence lenght"
   ]
  },
  {
   "cell_type": "code",
   "execution_count": 29,
   "metadata": {},
   "outputs": [
    {
     "data": {
      "text/plain": [
       "4564"
      ]
     },
     "execution_count": 29,
     "metadata": {},
     "output_type": "execute_result"
    }
   ],
   "source": [
    "max_seq= 0 \n",
    "for i in seq_list:\n",
    "    if(len(i)>max_seq):\n",
    "        max_seq=len(i)\n",
    "max_seq"
   ]
  },
  {
   "cell_type": "code",
   "execution_count": 30,
   "metadata": {},
   "outputs": [],
   "source": [
    "OneHotFeaturizer = dc.feat.OneHotFeaturizer(codes,max_length=max_seq)"
   ]
  },
  {
   "cell_type": "code",
   "execution_count": 32,
   "metadata": {},
   "outputs": [],
   "source": [
    "features = OneHotFeaturizer.featurize(seq_list)"
   ]
  },
  {
   "cell_type": "markdown",
   "metadata": {},
   "source": [
    "The code ``` temp = [float(x.split(\"(\")[0]) for x in list(Final_Data['T_m'])] ``` \n",
    "will extract the melting temperature from the ProthermDB and avoid the reported standard deviation enclosed in parenthesis "
   ]
  },
  {
   "cell_type": "code",
   "execution_count": 33,
   "metadata": {},
   "outputs": [],
   "source": [
    "temp = [float(x.split(\"(\")[0]) for x in list(Final_Data['T_m'])]"
   ]
  },
  {
   "cell_type": "code",
   "execution_count": 34,
   "metadata": {},
   "outputs": [],
   "source": [
    "dc_dataset = dc.data.NumpyDataset(X=features,y=temp)"
   ]
  },
  {
   "cell_type": "code",
   "execution_count": 35,
   "metadata": {},
   "outputs": [
    {
     "data": {
      "text/plain": [
       "(1266, 4564, 21)"
      ]
     },
     "execution_count": 35,
     "metadata": {},
     "output_type": "execute_result"
    }
   ],
   "source": [
    "dc_dataset.X.shape"
   ]
  },
  {
   "cell_type": "code",
   "execution_count": 36,
   "metadata": {},
   "outputs": [],
   "source": [
    "from deepchem import splits\n",
    "splitter = splits.RandomSplitter()\n",
    "train, test  = splitter.train_test_split(dc_dataset,seed=42)"
   ]
  },
  {
   "cell_type": "code",
   "execution_count": 37,
   "metadata": {},
   "outputs": [
    {
     "data": {
      "text/plain": [
       "(4564, 21)"
      ]
     },
     "execution_count": 37,
     "metadata": {},
     "output_type": "execute_result"
    }
   ],
   "source": [
    "dc_dataset.X.shape[1:]"
   ]
  },
  {
   "cell_type": "markdown",
   "metadata": {},
   "source": [
    "# We will create a keras model with X number od Dense layers and relu activation. Finally, the last Dense layer will work as a regressor output"
   ]
  },
  {
   "cell_type": "code",
   "execution_count": 38,
   "metadata": {},
   "outputs": [
    {
     "name": "stdout",
     "output_type": "stream",
     "text": [
      "Epoch 1/10\n",
      "43/43 [==============================] - 8s 138ms/step - loss: 59.1024 - val_loss: 58.9272\n",
      "Epoch 2/10\n",
      "43/43 [==============================] - 5s 125ms/step - loss: 56.5079 - val_loss: 47.7227\n",
      "Epoch 3/10\n",
      "43/43 [==============================] - 5s 126ms/step - loss: 39.1362 - val_loss: 13.2655\n",
      "Epoch 4/10\n",
      "43/43 [==============================] - 5s 127ms/step - loss: 16.5047 - val_loss: 13.3590\n",
      "Epoch 5/10\n",
      "43/43 [==============================] - 5s 127ms/step - loss: 16.1596 - val_loss: 13.2370\n",
      "Epoch 6/10\n",
      "43/43 [==============================] - 6s 131ms/step - loss: 15.7966 - val_loss: 13.4440\n",
      "Epoch 7/10\n",
      "43/43 [==============================] - 6s 129ms/step - loss: 16.0694 - val_loss: 13.1121\n",
      "Epoch 8/10\n",
      "43/43 [==============================] - 6s 133ms/step - loss: 15.8541 - val_loss: 13.3269\n",
      "Epoch 9/10\n",
      "43/43 [==============================] - 6s 129ms/step - loss: 16.1645 - val_loss: 13.0633\n",
      "Epoch 10/10\n",
      "43/43 [==============================] - 5s 127ms/step - loss: 16.1484 - val_loss: 13.2540\n",
      "Model: \"sequential\"\n",
      "_________________________________________________________________\n",
      "Layer (type)                 Output Shape              Param #   \n",
      "=================================================================\n",
      "dense (Dense)                (None, 4564, 32)          704       \n",
      "_________________________________________________________________\n",
      "dropout (Dropout)            (None, 4564, 32)          0         \n",
      "_________________________________________________________________\n",
      "dense_1 (Dense)              (None, 4564, 32)          1056      \n",
      "_________________________________________________________________\n",
      "dropout_1 (Dropout)          (None, 4564, 32)          0         \n",
      "_________________________________________________________________\n",
      "dense_2 (Dense)              (None, 4564, 32)          1056      \n",
      "_________________________________________________________________\n",
      "dropout_2 (Dropout)          (None, 4564, 32)          0         \n",
      "_________________________________________________________________\n",
      "dense_3 (Dense)              (None, 4564, 1)           33        \n",
      "=================================================================\n",
      "Total params: 2,849\n",
      "Trainable params: 2,849\n",
      "Non-trainable params: 0\n",
      "_________________________________________________________________\n",
      "None\n"
     ]
    },
    {
     "data": {
      "text/plain": [
       "<AxesSubplot:>"
      ]
     },
     "execution_count": 38,
     "metadata": {},
     "output_type": "execute_result"
    },
    {
     "data": {
      "image/png": "[encoded data removed]",
      "text/plain": [
       "<Figure size 432x288 with 1 Axes>"
      ]
     },
     "metadata": {
      "needs_background": "light"
     },
     "output_type": "display_data"
    }
   ],
   "source": [
    "from tensorflow import keras\n",
    "from tensorflow.keras import layers\n",
    "model = keras.Sequential([\n",
    "    layers.Dense(units=32, activation='relu', input_shape=dc_dataset.X.shape[1:]),\n",
    "    layers.Dropout(0.2),\n",
    "    layers.Dense(units=32, activation='relu'), \n",
    "    layers.Dropout(0.2),\n",
    "    layers.Dense(units=32, activation='relu'), \n",
    "    layers.Dropout(0.2),\n",
    "    layers.Dense(units=1),\n",
    "])\n",
    "model.compile(loss='mae', optimizer='adam')\n",
    "\n",
    "print(model.summary())\n",
    "\n",
    "history = model.fit(\n",
    "    train.X, train.y,\n",
    "    validation_data=(test.X,test.y),\n",
    "    batch_size=24,\n",
    "    epochs=10,\n",
    ")\n",
    "\n",
    "## perform a plot of loss vs epochs \n",
    "import matplotlib.pyplot as plt\n",
    "history_df = pd.DataFrame(history.history)\n",
    "history_df[['loss', 'val_loss']].plot()"
   ]
  },
  {
   "cell_type": "markdown",
   "metadata": {},
   "source": [
    "# TODO \n",
    "-how to use a DeepChemKeras Model to perform the fit  \n",
    "-there is a better architecture  of the NN ? "
   ]
  },
  {
   "cell_type": "code",
   "execution_count": 157,
   "metadata": {},
   "outputs": [],
   "source": [
    "dc_model = dc.models.KerasModel(model,dc.metrics.mae_score)"
   ]
  },
  {
   "cell_type": "markdown",
   "metadata": {},
   "source": [
    "# Examples of  Classic ML models "
   ]
  },
  {
   "cell_type": "code",
   "execution_count": 41,
   "metadata": {},
   "outputs": [],
   "source": [
    "from deepchem import splits\n",
    "splitter = splits.RandomSplitter()\n",
    "train, test  = splitter.train_test_split(dc_dataset,seed=42)"
   ]
  },
  {
   "cell_type": "code",
   "execution_count": 46,
   "metadata": {},
   "outputs": [
    {
     "data": {
      "text/plain": [
       "(1012, 4564, 21)"
      ]
     },
     "execution_count": 46,
     "metadata": {},
     "output_type": "execute_result"
    }
   ],
   "source": [
    "train.X.shape"
   ]
  },
  {
   "cell_type": "markdown",
   "metadata": {},
   "source": [
    "# TODO\n",
    "-how to reshape train.X to introduce it in to a ML model using DeepChem "
   ]
  },
  {
   "cell_type": "code",
   "execution_count": 47,
   "metadata": {
    "tags": []
   },
   "outputs": [
    {
     "ename": "ValueError",
     "evalue": "Found array with dim 3. Estimator expected <= 2.",
     "output_type": "error",
     "traceback": [
      "\u001b[0;31m---------------------------------------------------------------------------\u001b[0m",
      "\u001b[0;31mValueError\u001b[0m                                Traceback (most recent call last)",
      "\u001b[0;32m<ipython-input-47-79eb630e575b>\u001b[0m in \u001b[0;36m<module>\u001b[0;34m\u001b[0m\n\u001b[1;32m      6\u001b[0m \u001b[0msklearn_model\u001b[0m\u001b[0;34m.\u001b[0m\u001b[0mrandom_state\u001b[0m \u001b[0;34m=\u001b[0m \u001b[0mseed\u001b[0m\u001b[0;34m\u001b[0m\u001b[0;34m\u001b[0m\u001b[0m\n\u001b[1;32m      7\u001b[0m \u001b[0mmodel\u001b[0m \u001b[0;34m=\u001b[0m \u001b[0mdc\u001b[0m\u001b[0;34m.\u001b[0m\u001b[0mmodels\u001b[0m\u001b[0;34m.\u001b[0m\u001b[0mSklearnModel\u001b[0m\u001b[0;34m(\u001b[0m\u001b[0msklearn_model\u001b[0m\u001b[0;34m)\u001b[0m\u001b[0;34m\u001b[0m\u001b[0;34m\u001b[0m\u001b[0m\n\u001b[0;32m----> 8\u001b[0;31m \u001b[0mmodel\u001b[0m\u001b[0;34m.\u001b[0m\u001b[0mfit\u001b[0m\u001b[0;34m(\u001b[0m\u001b[0mtrain\u001b[0m\u001b[0;34m)\u001b[0m\u001b[0;34m\u001b[0m\u001b[0;34m\u001b[0m\u001b[0m\n\u001b[0m",
      "\u001b[0;32m~/anaconda3/envs/deepchem-night/lib/python3.8/site-packages/deepchem/models/sklearn_models/sklearn_model.py\u001b[0m in \u001b[0;36mfit\u001b[0;34m(self, dataset)\u001b[0m\n\u001b[1;32m     96\u001b[0m     \u001b[0;31m# Some scikit-learn models don't use weights.\u001b[0m\u001b[0;34m\u001b[0m\u001b[0;34m\u001b[0m\u001b[0;34m\u001b[0m\u001b[0m\n\u001b[1;32m     97\u001b[0m     \u001b[0;32mif\u001b[0m \u001b[0mself\u001b[0m\u001b[0;34m.\u001b[0m\u001b[0muse_weights\u001b[0m\u001b[0;34m:\u001b[0m\u001b[0;34m\u001b[0m\u001b[0;34m\u001b[0m\u001b[0m\n\u001b[0;32m---> 98\u001b[0;31m       \u001b[0mself\u001b[0m\u001b[0;34m.\u001b[0m\u001b[0mmodel\u001b[0m\u001b[0;34m.\u001b[0m\u001b[0mfit\u001b[0m\u001b[0;34m(\u001b[0m\u001b[0mX\u001b[0m\u001b[0;34m,\u001b[0m \u001b[0my\u001b[0m\u001b[0;34m,\u001b[0m \u001b[0mw\u001b[0m\u001b[0;34m)\u001b[0m\u001b[0;34m\u001b[0m\u001b[0;34m\u001b[0m\u001b[0m\n\u001b[0m\u001b[1;32m     99\u001b[0m       \u001b[0;32mreturn\u001b[0m\u001b[0;34m\u001b[0m\u001b[0;34m\u001b[0m\u001b[0m\n\u001b[1;32m    100\u001b[0m     \u001b[0mself\u001b[0m\u001b[0;34m.\u001b[0m\u001b[0mmodel\u001b[0m\u001b[0;34m.\u001b[0m\u001b[0mfit\u001b[0m\u001b[0;34m(\u001b[0m\u001b[0mX\u001b[0m\u001b[0;34m,\u001b[0m \u001b[0my\u001b[0m\u001b[0;34m)\u001b[0m\u001b[0;34m\u001b[0m\u001b[0;34m\u001b[0m\u001b[0m\n",
      "\u001b[0;32m~/anaconda3/envs/deepchem-night/lib/python3.8/site-packages/sklearn/ensemble/_forest.py\u001b[0m in \u001b[0;36mfit\u001b[0;34m(self, X, y, sample_weight)\u001b[0m\n\u001b[1;32m    302\u001b[0m                 \u001b[0;34m\"sparse multilabel-indicator for y is not supported.\"\u001b[0m\u001b[0;34m\u001b[0m\u001b[0;34m\u001b[0m\u001b[0m\n\u001b[1;32m    303\u001b[0m             )\n\u001b[0;32m--> 304\u001b[0;31m         X, y = self._validate_data(X, y, multi_output=True,\n\u001b[0m\u001b[1;32m    305\u001b[0m                                    accept_sparse=\"csc\", dtype=DTYPE)\n\u001b[1;32m    306\u001b[0m         \u001b[0;32mif\u001b[0m \u001b[0msample_weight\u001b[0m \u001b[0;32mis\u001b[0m \u001b[0;32mnot\u001b[0m \u001b[0;32mNone\u001b[0m\u001b[0;34m:\u001b[0m\u001b[0;34m\u001b[0m\u001b[0;34m\u001b[0m\u001b[0m\n",
      "\u001b[0;32m~/anaconda3/envs/deepchem-night/lib/python3.8/site-packages/sklearn/base.py\u001b[0m in \u001b[0;36m_validate_data\u001b[0;34m(self, X, y, reset, validate_separately, **check_params)\u001b[0m\n\u001b[1;32m    431\u001b[0m                 \u001b[0my\u001b[0m \u001b[0;34m=\u001b[0m \u001b[0mcheck_array\u001b[0m\u001b[0;34m(\u001b[0m\u001b[0my\u001b[0m\u001b[0;34m,\u001b[0m \u001b[0;34m**\u001b[0m\u001b[0mcheck_y_params\u001b[0m\u001b[0;34m)\u001b[0m\u001b[0;34m\u001b[0m\u001b[0;34m\u001b[0m\u001b[0m\n\u001b[1;32m    432\u001b[0m             \u001b[0;32melse\u001b[0m\u001b[0;34m:\u001b[0m\u001b[0;34m\u001b[0m\u001b[0;34m\u001b[0m\u001b[0m\n\u001b[0;32m--> 433\u001b[0;31m                 \u001b[0mX\u001b[0m\u001b[0;34m,\u001b[0m \u001b[0my\u001b[0m \u001b[0;34m=\u001b[0m \u001b[0mcheck_X_y\u001b[0m\u001b[0;34m(\u001b[0m\u001b[0mX\u001b[0m\u001b[0;34m,\u001b[0m \u001b[0my\u001b[0m\u001b[0;34m,\u001b[0m \u001b[0;34m**\u001b[0m\u001b[0mcheck_params\u001b[0m\u001b[0;34m)\u001b[0m\u001b[0;34m\u001b[0m\u001b[0;34m\u001b[0m\u001b[0m\n\u001b[0m\u001b[1;32m    434\u001b[0m             \u001b[0mout\u001b[0m \u001b[0;34m=\u001b[0m \u001b[0mX\u001b[0m\u001b[0;34m,\u001b[0m \u001b[0my\u001b[0m\u001b[0;34m\u001b[0m\u001b[0;34m\u001b[0m\u001b[0m\n\u001b[1;32m    435\u001b[0m \u001b[0;34m\u001b[0m\u001b[0m\n",
      "\u001b[0;32m~/anaconda3/envs/deepchem-night/lib/python3.8/site-packages/sklearn/utils/validation.py\u001b[0m in \u001b[0;36minner_f\u001b[0;34m(*args, **kwargs)\u001b[0m\n\u001b[1;32m     61\u001b[0m             \u001b[0mextra_args\u001b[0m \u001b[0;34m=\u001b[0m \u001b[0mlen\u001b[0m\u001b[0;34m(\u001b[0m\u001b[0margs\u001b[0m\u001b[0;34m)\u001b[0m \u001b[0;34m-\u001b[0m \u001b[0mlen\u001b[0m\u001b[0;34m(\u001b[0m\u001b[0mall_args\u001b[0m\u001b[0;34m)\u001b[0m\u001b[0;34m\u001b[0m\u001b[0;34m\u001b[0m\u001b[0m\n\u001b[1;32m     62\u001b[0m             \u001b[0;32mif\u001b[0m \u001b[0mextra_args\u001b[0m \u001b[0;34m<=\u001b[0m \u001b[0;36m0\u001b[0m\u001b[0;34m:\u001b[0m\u001b[0;34m\u001b[0m\u001b[0;34m\u001b[0m\u001b[0m\n\u001b[0;32m---> 63\u001b[0;31m                 \u001b[0;32mreturn\u001b[0m \u001b[0mf\u001b[0m\u001b[0;34m(\u001b[0m\u001b[0;34m*\u001b[0m\u001b[0margs\u001b[0m\u001b[0;34m,\u001b[0m \u001b[0;34m**\u001b[0m\u001b[0mkwargs\u001b[0m\u001b[0;34m)\u001b[0m\u001b[0;34m\u001b[0m\u001b[0;34m\u001b[0m\u001b[0m\n\u001b[0m\u001b[1;32m     64\u001b[0m \u001b[0;34m\u001b[0m\u001b[0m\n\u001b[1;32m     65\u001b[0m             \u001b[0;31m# extra_args > 0\u001b[0m\u001b[0;34m\u001b[0m\u001b[0;34m\u001b[0m\u001b[0;34m\u001b[0m\u001b[0m\n",
      "\u001b[0;32m~/anaconda3/envs/deepchem-night/lib/python3.8/site-packages/sklearn/utils/validation.py\u001b[0m in \u001b[0;36mcheck_X_y\u001b[0;34m(X, y, accept_sparse, accept_large_sparse, dtype, order, copy, force_all_finite, ensure_2d, allow_nd, multi_output, ensure_min_samples, ensure_min_features, y_numeric, estimator)\u001b[0m\n\u001b[1;32m    812\u001b[0m         \u001b[0;32mraise\u001b[0m \u001b[0mValueError\u001b[0m\u001b[0;34m(\u001b[0m\u001b[0;34m\"y cannot be None\"\u001b[0m\u001b[0;34m)\u001b[0m\u001b[0;34m\u001b[0m\u001b[0;34m\u001b[0m\u001b[0m\n\u001b[1;32m    813\u001b[0m \u001b[0;34m\u001b[0m\u001b[0m\n\u001b[0;32m--> 814\u001b[0;31m     X = check_array(X, accept_sparse=accept_sparse,\n\u001b[0m\u001b[1;32m    815\u001b[0m                     \u001b[0maccept_large_sparse\u001b[0m\u001b[0;34m=\u001b[0m\u001b[0maccept_large_sparse\u001b[0m\u001b[0;34m,\u001b[0m\u001b[0;34m\u001b[0m\u001b[0;34m\u001b[0m\u001b[0m\n\u001b[1;32m    816\u001b[0m                     \u001b[0mdtype\u001b[0m\u001b[0;34m=\u001b[0m\u001b[0mdtype\u001b[0m\u001b[0;34m,\u001b[0m \u001b[0morder\u001b[0m\u001b[0;34m=\u001b[0m\u001b[0morder\u001b[0m\u001b[0;34m,\u001b[0m \u001b[0mcopy\u001b[0m\u001b[0;34m=\u001b[0m\u001b[0mcopy\u001b[0m\u001b[0;34m,\u001b[0m\u001b[0;34m\u001b[0m\u001b[0;34m\u001b[0m\u001b[0m\n",
      "\u001b[0;32m~/anaconda3/envs/deepchem-night/lib/python3.8/site-packages/sklearn/utils/validation.py\u001b[0m in \u001b[0;36minner_f\u001b[0;34m(*args, **kwargs)\u001b[0m\n\u001b[1;32m     61\u001b[0m             \u001b[0mextra_args\u001b[0m \u001b[0;34m=\u001b[0m \u001b[0mlen\u001b[0m\u001b[0;34m(\u001b[0m\u001b[0margs\u001b[0m\u001b[0;34m)\u001b[0m \u001b[0;34m-\u001b[0m \u001b[0mlen\u001b[0m\u001b[0;34m(\u001b[0m\u001b[0mall_args\u001b[0m\u001b[0;34m)\u001b[0m\u001b[0;34m\u001b[0m\u001b[0;34m\u001b[0m\u001b[0m\n\u001b[1;32m     62\u001b[0m             \u001b[0;32mif\u001b[0m \u001b[0mextra_args\u001b[0m \u001b[0;34m<=\u001b[0m \u001b[0;36m0\u001b[0m\u001b[0;34m:\u001b[0m\u001b[0;34m\u001b[0m\u001b[0;34m\u001b[0m\u001b[0m\n\u001b[0;32m---> 63\u001b[0;31m                 \u001b[0;32mreturn\u001b[0m \u001b[0mf\u001b[0m\u001b[0;34m(\u001b[0m\u001b[0;34m*\u001b[0m\u001b[0margs\u001b[0m\u001b[0;34m,\u001b[0m \u001b[0;34m**\u001b[0m\u001b[0mkwargs\u001b[0m\u001b[0;34m)\u001b[0m\u001b[0;34m\u001b[0m\u001b[0;34m\u001b[0m\u001b[0m\n\u001b[0m\u001b[1;32m     64\u001b[0m \u001b[0;34m\u001b[0m\u001b[0m\n\u001b[1;32m     65\u001b[0m             \u001b[0;31m# extra_args > 0\u001b[0m\u001b[0;34m\u001b[0m\u001b[0;34m\u001b[0m\u001b[0;34m\u001b[0m\u001b[0m\n",
      "\u001b[0;32m~/anaconda3/envs/deepchem-night/lib/python3.8/site-packages/sklearn/utils/validation.py\u001b[0m in \u001b[0;36mcheck_array\u001b[0;34m(array, accept_sparse, accept_large_sparse, dtype, order, copy, force_all_finite, ensure_2d, allow_nd, ensure_min_samples, ensure_min_features, estimator)\u001b[0m\n\u001b[1;32m    657\u001b[0m                     \"into decimal numbers with dtype='numeric'\") from e\n\u001b[1;32m    658\u001b[0m         \u001b[0;32mif\u001b[0m \u001b[0;32mnot\u001b[0m \u001b[0mallow_nd\u001b[0m \u001b[0;32mand\u001b[0m \u001b[0marray\u001b[0m\u001b[0;34m.\u001b[0m\u001b[0mndim\u001b[0m \u001b[0;34m>=\u001b[0m \u001b[0;36m3\u001b[0m\u001b[0;34m:\u001b[0m\u001b[0;34m\u001b[0m\u001b[0;34m\u001b[0m\u001b[0m\n\u001b[0;32m--> 659\u001b[0;31m             raise ValueError(\"Found array with dim %d. %s expected <= 2.\"\n\u001b[0m\u001b[1;32m    660\u001b[0m                              % (array.ndim, estimator_name))\n\u001b[1;32m    661\u001b[0m \u001b[0;34m\u001b[0m\u001b[0m\n",
      "\u001b[0;31mValueError\u001b[0m: Found array with dim 3. Estimator expected <= 2."
     ]
    }
   ],
   "source": [
    "from sklearn.ensemble import RandomForestRegressor\n",
    "from deepchem.utils.evaluate import Evaluator\n",
    "import pandas as pd\n",
    "seed = 42 # Set a random seed to get stable results\n",
    "sklearn_model = RandomForestRegressor(n_estimators=100, max_features='sqrt')\n",
    "sklearn_model.random_state = seed\n",
    "model = dc.models.SklearnModel(sklearn_model)\n",
    "model.fit(train)"
   ]
  },
  {
   "cell_type": "markdown",
   "metadata": {},
   "source": [
    "# Finally, we will compare others descriptros such as AAcomposition and Composition,transition and distribution of AA (https://www.pnas.org/content/92/19/8700)  "
   ]
  },
  {
   "cell_type": "code",
   "execution_count": 48,
   "metadata": {},
   "outputs": [],
   "source": [
    "from propy import PyPro"
   ]
  },
  {
   "cell_type": "code",
   "execution_count": 49,
   "metadata": {},
   "outputs": [],
   "source": [
    "aaComplist = []\n",
    "CTDList =[]\n",
    "for seq in seq_list:\n",
    "    Obj = PyPro.GetProDes(seq)\n",
    "    aaComplist.append(np.array(list(Obj.GetAAComp().values())))\n",
    "    CTDList.append(np.array(list(Obj.GetCTD().values())))"
   ]
  },
  {
   "cell_type": "code",
   "execution_count": 50,
   "metadata": {},
   "outputs": [],
   "source": [
    "dc_dataset_aacomp = dc.data.NumpyDataset(X=aaComplist,y= temp)\n",
    "dc_dataset_ctd = dc.data.NumpyDataset(X=CTDList,y= temp)"
   ]
  },
  {
   "cell_type": "markdown",
   "metadata": {},
   "source": [
    "# Using clasic ML with the aacomosition featurizer "
   ]
  },
  {
   "cell_type": "code",
   "execution_count": 51,
   "metadata": {},
   "outputs": [
    {
     "name": "stdout",
     "output_type": "stream",
     "text": [
      "RandomForestRegressor\n",
      "Train score is : {'mae_score': 2.618318289893296}\n",
      "Test score is : {'mae_score': 6.424065900477471}\n",
      "SupportVectorMachineRegressor\n",
      "Train score is : {'mae_score': 6.915117936487243}\n",
      "Test score is : {'mae_score': 8.42955281366753}\n"
     ]
    }
   ],
   "source": [
    "from deepchem import splits\n",
    "splitter = splits.RandomSplitter()\n",
    "train, test  = splitter.train_test_split(dc_dataset_aacomp,seed=42)\n",
    "from sklearn.ensemble import RandomForestRegressor\n",
    "from deepchem.utils.evaluate import Evaluator\n",
    "import pandas as pd\n",
    "print(\"RandomForestRegressor\")\n",
    "seed = 42 # Set a random seed to get stable results\n",
    "sklearn_model = RandomForestRegressor(n_estimators=100, max_features='sqrt')\n",
    "sklearn_model.random_state = seed\n",
    "model = dc.models.SklearnModel(sklearn_model)\n",
    "model.fit(train)\n",
    "metric = dc.metrics.Metric(dc.metrics.mae_score)\n",
    "train_score = model.evaluate(train, [metric])\n",
    "test_score = model.evaluate(test, [metric])\n",
    "print(\"Train score is : {}\".format(train_score))\n",
    "print(\"Test score is : {}\".format(test_score))\n",
    "print(\"SupportVectorMachineRegressor\")\n",
    "from sklearn.svm import SVR\n",
    "svr_sklearn = SVR(kernel=\"poly\",degree=4)\n",
    "svr_sklearn.random_state = seed \n",
    "model = dc.models.SklearnModel(svr_sklearn)\n",
    "model.fit(train)\n",
    "metric = dc.metrics.Metric(dc.metrics.mae_score)\n",
    "train_score = model.evaluate(train, [metric])\n",
    "test_score = model.evaluate(test, [metric])\n",
    "print(\"Train score is : {}\".format(train_score))\n",
    "print(\"Test score is : {}\".format(test_score))"
   ]
  },
  {
   "cell_type": "code",
   "execution_count": 52,
   "metadata": {},
   "outputs": [
    {
     "name": "stdout",
     "output_type": "stream",
     "text": [
      "RandomForestRegressor\n",
      "Train score is : {'mae_score': 2.572226988614976}\n",
      "Test score is : {'mae_score': 6.987328441471036}\n",
      "SupportVectorMachineRegressor\n",
      "Train score is : {'mae_score': 12.2357520685622}\n",
      "Test score is : {'mae_score': 12.083711912061512}\n"
     ]
    }
   ],
   "source": [
    "from deepchem import splits\n",
    "splitter = splits.RandomSplitter()\n",
    "train, test  = splitter.train_test_split(dc_dataset_ctd,seed=42)\n",
    "from sklearn.ensemble import RandomForestRegressor\n",
    "from deepchem.utils.evaluate import Evaluator\n",
    "import pandas as pd\n",
    "print(\"RandomForestRegressor\")\n",
    "seed = 42 # Set a random seed to get stable results\n",
    "sklearn_model = RandomForestRegressor(n_estimators=100, max_features='sqrt')\n",
    "sklearn_model.random_state = seed\n",
    "model = dc.models.SklearnModel(sklearn_model)\n",
    "model.fit(train)\n",
    "metric = dc.metrics.Metric(dc.metrics.mae_score)\n",
    "train_score = model.evaluate(train, [metric])\n",
    "test_score = model.evaluate(test, [metric])\n",
    "print(\"Train score is : {}\".format(train_score))\n",
    "print(\"Test score is : {}\".format(test_score))\n",
    "print(\"SupportVectorMachineRegressor\")\n",
    "from sklearn.svm import SVR\n",
    "svr_sklearn = SVR(kernel=\"poly\",degree=4)\n",
    "svr_sklearn.random_state = seed \n",
    "model = dc.models.SklearnModel(svr_sklearn)\n",
    "model.fit(train)\n",
    "metric = dc.metrics.Metric(dc.metrics.mae_score)\n",
    "train_score = model.evaluate(train, [metric])\n",
    "test_score = model.evaluate(test, [metric])\n",
    "print(\"Train score is : {}\".format(train_score))\n",
    "print(\"Test score is : {}\".format(test_score))"
   ]
  },
  {
   "cell_type": "code",
   "execution_count": null,
   "metadata": {},
   "outputs": [],
   "source": []
  },
  {
   "cell_type": "code",
   "execution_count": null,
   "metadata": {},
   "outputs": [],
   "source": []
  },
  {
   "cell_type": "code",
   "execution_count": null,
   "metadata": {},
   "outputs": [],
   "source": []
  },
  {
   "cell_type": "code",
   "execution_count": null,
   "metadata": {},
   "outputs": [],
   "source": []
  },
  {
   "cell_type": "code",
   "execution_count": null,
   "metadata": {},
   "outputs": [],
   "source": []
  },
  {
   "cell_type": "code",
   "execution_count": null,
   "metadata": {},
   "outputs": [],
   "source": []
  }
 ],
 "metadata": {
  "kernelspec": {
   "display_name": "Python [conda env:deepchem-night] *",
   "language": "python",
   "name": "conda-env-deepchem-night-py"
  },
  "language_info": {
   "codemirror_mode": {
    "name": "ipython",
    "version": 3
   },
   "file_extension": ".py",
   "mimetype": "text/x-python",
   "name": "python",
   "nbconvert_exporter": "python",
   "pygments_lexer": "ipython3",
   "version": "3.8.8"
  }
 },
 "nbformat": 4,
 "nbformat_minor": 4
}
