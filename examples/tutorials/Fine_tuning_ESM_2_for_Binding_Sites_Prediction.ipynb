{
  "cells": [
    {
      "cell_type": "markdown",
      "metadata": {
        "id": "aQ3IyQ-EScHO"
      },
      "source": [
        "# Fine-tuning ESM-2 for predicting protein binding sites\n"
      ]
    },
    {
      "cell_type": "markdown",
      "metadata": {
        "id": "4DiHBzfKC8Ef"
      },
      "source": [
        "By [Elisa Gómez de Lope](https://elisagdelope.rbind.io/) | [Twitter](https://twitter.com/elisagdelope)"
      ]
    },
    {
      "cell_type": "markdown",
      "metadata": {
        "id": "46Jt4H_pTQvq"
      },
      "source": [
        "Binding sites are regions on protein surfaces where other molecules (ligands) bind, and are crucial for their function. For example, enzymes have active sites where substrates bind and undergo a chemical reaction. These sites are characterized by specific amino acid residues that interact with ligands through bonds and hydrophobic interactions. Predicting which residues in a protein are binding sites is essential for understanding protein function, drug design, and biotechnology applications, aiding in identifying therapeutic targets and understanding disease mechanisms. More about binding sites can be found in a dedicated [introductory tutorial](https://github.com/deepchem/deepchem/blob/master/examples/tutorials/Introduction_to_Binding_Sites.ipynb)."
      ]
    },
    {
      "cell_type": "markdown",
      "metadata": {
        "id": "5dYzqu9dDBUr"
      },
      "source": [
        "In this tutorial, you will explore the process of fine-tuning a protein language model, in particular, ESM-2, for the task of binding site prediction.\n",
        "\n",
        "#### Table of Contents:\n",
        "* [Fine-tuning a protein language model for binding site prediction: how does it work?](#introduction)\n",
        "* [Data collection & processing](#data-processing)\n",
        "* [Fine-tuning for binding site prediction](#finetuning)\n",
        "* [Evaluation](#evaluation)\n",
        "* [Inference](#inference)\n",
        "* [Further reading](#reading)\n",
        "\n",
        "This tutorial is made to run with GPU support if available (CPU otherwise), and can be used in Google colab. If you'd like to open this notebook in colab, you can use the following link.\n",
        "\n",
        "[![Open In Colab](https://colab.research.google.com/assets/colab-badge.svg)](https://colab.research.google.com/github/deepchem/deepchem/blob/master/examples/tutorials/Fine-tuning_ESM-2_for_Binding_Sites_Prediction.ipynb)"
      ]
    },
    {
      "cell_type": "markdown",
      "metadata": {
        "id": "lZ-N2KWMT03s"
      },
      "source": [
        "## Fine-tuning a protein language model for binding site prediction: how does it work? <a name=\"introduction\"></a>\n"
      ]
    },
    {
      "cell_type": "markdown",
      "metadata": {
        "id": "Pf18nYsqT-eg"
      },
      "source": [
        "ESM-2 (Evolutionary Scale Modeling) is a protein language model (pLM) using a transformer-based architecture to process protein sequences. It has been trained on large datasets of protein sequences to learn the relationships between amino acids and the structural and functional properties of proteins. Pre-trained pLMs like ESM-2 can be fine-tuned for specific \"downstream tasks\", such as predicting binding sites. The intuition of fine-tuning is that we can leverage the rich (but generic) representations learned by ESM-2 from the many sequences it was trained on, and \"refine\" them with a small dataset for a specific task.\n",
        "\n",
        "The advantages of fine-tuning versus training a model directly for the specific task include the scalability and accuracy of transfer learning without the need for large task-specific datasets, which are often not available.\n",
        "\n",
        "Indeed, ESM-2 has shown high accuracy in various protein prediction tasks. You can find more of ESM-2 and other transformer protein language models (pLMs) developed and released from the Meta Fundamental AI Research Protein Team (FAIR) [here](https://github.com/facebookresearch/esm).\n"
      ]
    },
    {
      "cell_type": "markdown",
      "metadata": {
        "id": "Coq-sIGLV-Jk"
      },
      "source": [
        "The steps we need for fine-tuning a pLM for the task of predicting binding sites from protein sequences are as follows:\n",
        "- **Data collection**: Gather a dataset of protein sequences with known binding sites. This can be obtained from databases like UniProt or PDB (Protein Data Bank).\n",
        "\n",
        "- **Preprocessing**: Prepare the data by cleaning the sequences, encoding them appropriately, and splitting them into training and validation sets. Here we will show how to do this for UniProt data.\n",
        "\n",
        "- **Model Selection**: Choose a pre-trained model. Here we will use the smallest version of ESM-2 (esm2_t6_8M_UR50D), trained with 6 layers and 8 Million parameters. Larger ESM-2 models are available in the Transformers library of Hugging Face, see [here](https://huggingface.co/facebook/esm2_t6_8M_UR50D).\n",
        "\n",
        "- **Fine-Tuning**: Fine-tune the pre-trained pLM on the binding site prediction task using the prepared dataset.\n",
        "\n",
        "- **Evaluation**: Evaluate the model's performance using metrics such as accuracy, precision, recall, and F1-score.\n",
        "\n",
        "- **Inference**: Use the trained model to predict binding sites on new protein sequences."
      ]
    },
    {
      "cell_type": "markdown",
      "metadata": {
        "id": "Iic3SascDm_Y"
      },
      "source": [
        "Without further ado, let's get into the code!"
      ]
    },
    {
      "cell_type": "markdown",
      "metadata": {
        "id": "2_-ZTGJ_Ghah"
      },
      "source": [
        "## Setup"
      ]
    },
    {
      "cell_type": "markdown",
      "metadata": {
        "id": "4N55mKAnaNqc"
      },
      "source": [
        "Let's first do the setup process for installing the necessary libraries, importing them, and creating helper functions that will aid in model training and evaluation."
      ]
    },
    {
      "cell_type": "code",
      "execution_count": null,
      "metadata": {
        "colab": {
          "base_uri": "https://localhost:8080/"
        },
        "id": "nyISEQgLC8x2",
        "outputId": "f9fa189f-be6e-448b-f974-527c1b47a81e"
      },
      "outputs": [
        {
          "name": "stdout",
          "output_type": "stream",
          "text": [
            "Requirement already satisfied: numpy in /usr/local/lib/python3.10/dist-packages (1.26.4)\n",
            "Requirement already satisfied: torch in /usr/local/lib/python3.10/dist-packages (2.3.1+cu121)\n",
            "Requirement already satisfied: filelock in /usr/local/lib/python3.10/dist-packages (from torch) (3.15.4)\n",
            "Requirement already satisfied: typing-extensions>=4.8.0 in /usr/local/lib/python3.10/dist-packages (from torch) (4.12.2)\n",
            "Requirement already satisfied: sympy in /usr/local/lib/python3.10/dist-packages (from torch) (1.13.1)\n",
            "Requirement already satisfied: networkx in /usr/local/lib/python3.10/dist-packages (from torch) (3.3)\n",
            "Requirement already satisfied: jinja2 in /usr/local/lib/python3.10/dist-packages (from torch) (3.1.4)\n",
            "Requirement already satisfied: fsspec in /usr/local/lib/python3.10/dist-packages (from torch) (2024.5.0)\n",
            "Requirement already satisfied: nvidia-cuda-nvrtc-cu12==12.1.105 in /usr/local/lib/python3.10/dist-packages (from torch) (12.1.105)\n",
            "Requirement already satisfied: nvidia-cuda-runtime-cu12==12.1.105 in /usr/local/lib/python3.10/dist-packages (from torch) (12.1.105)\n",
            "Requirement already satisfied: nvidia-cuda-cupti-cu12==12.1.105 in /usr/local/lib/python3.10/dist-packages (from torch) (12.1.105)\n",
            "Requirement already satisfied: nvidia-cudnn-cu12==8.9.2.26 in /usr/local/lib/python3.10/dist-packages (from torch) (8.9.2.26)\n",
            "Requirement already satisfied: nvidia-cublas-cu12==12.1.3.1 in /usr/local/lib/python3.10/dist-packages (from torch) (12.1.3.1)\n",
            "Requirement already satisfied: nvidia-cufft-cu12==11.0.2.54 in /usr/local/lib/python3.10/dist-packages (from torch) (11.0.2.54)\n",
            "Requirement already satisfied: nvidia-curand-cu12==10.3.2.106 in /usr/local/lib/python3.10/dist-packages (from torch) (10.3.2.106)\n",
            "Requirement already satisfied: nvidia-cusolver-cu12==11.4.5.107 in /usr/local/lib/python3.10/dist-packages (from torch) (11.4.5.107)\n",
            "Requirement already satisfied: nvidia-cusparse-cu12==12.1.0.106 in /usr/local/lib/python3.10/dist-packages (from torch) (12.1.0.106)\n",
            "Requirement already satisfied: nvidia-nccl-cu12==2.20.5 in /usr/local/lib/python3.10/dist-packages (from torch) (2.20.5)\n",
            "Requirement already satisfied: nvidia-nvtx-cu12==12.1.105 in /usr/local/lib/python3.10/dist-packages (from torch) (12.1.105)\n",
            "Requirement already satisfied: triton==2.3.1 in /usr/local/lib/python3.10/dist-packages (from torch) (2.3.1)\n",
            "Requirement already satisfied: nvidia-nvjitlink-cu12 in /usr/local/lib/python3.10/dist-packages (from nvidia-cusolver-cu12==11.4.5.107->torch) (12.5.82)\n",
            "Requirement already satisfied: MarkupSafe>=2.0 in /usr/local/lib/python3.10/dist-packages (from jinja2->torch) (2.1.5)\n",
            "Requirement already satisfied: mpmath<1.4,>=1.1.0 in /usr/local/lib/python3.10/dist-packages (from sympy->torch) (1.3.0)\n",
            "Requirement already satisfied: scikit-learn in /usr/local/lib/python3.10/dist-packages (1.3.2)\n",
            "Requirement already satisfied: numpy<2.0,>=1.17.3 in /usr/local/lib/python3.10/dist-packages (from scikit-learn) (1.26.4)\n",
            "Requirement already satisfied: scipy>=1.5.0 in /usr/local/lib/python3.10/dist-packages (from scikit-learn) (1.13.1)\n",
            "Requirement already satisfied: joblib>=1.1.1 in /usr/local/lib/python3.10/dist-packages (from scikit-learn) (1.4.2)\n",
            "Requirement already satisfied: threadpoolctl>=2.0.0 in /usr/local/lib/python3.10/dist-packages (from scikit-learn) (3.5.0)\n",
            "Requirement already satisfied: transformers in /usr/local/lib/python3.10/dist-packages (4.42.4)\n",
            "Requirement already satisfied: filelock in /usr/local/lib/python3.10/dist-packages (from transformers) (3.15.4)\n",
            "Requirement already satisfied: huggingface-hub<1.0,>=0.23.2 in /usr/local/lib/python3.10/dist-packages (from transformers) (0.23.5)\n",
            "Requirement already satisfied: numpy<2.0,>=1.17 in /usr/local/lib/python3.10/dist-packages (from transformers) (1.26.4)\n",
            "Requirement already satisfied: packaging>=20.0 in /usr/local/lib/python3.10/dist-packages (from transformers) (24.1)\n",
            "Requirement already satisfied: pyyaml>=5.1 in /usr/local/lib/python3.10/dist-packages (from transformers) (6.0.1)\n",
            "Requirement already satisfied: regex!=2019.12.17 in /usr/local/lib/python3.10/dist-packages (from transformers) (2024.5.15)\n",
            "Requirement already satisfied: requests in /usr/local/lib/python3.10/dist-packages (from transformers) (2.32.3)\n",
            "Requirement already satisfied: safetensors>=0.4.1 in /usr/local/lib/python3.10/dist-packages (from transformers) (0.4.3)\n",
            "Requirement already satisfied: tokenizers<0.20,>=0.19 in /usr/local/lib/python3.10/dist-packages (from transformers) (0.19.1)\n",
            "Requirement already satisfied: tqdm>=4.27 in /usr/local/lib/python3.10/dist-packages (from transformers) (4.66.4)\n",
            "Requirement already satisfied: fsspec>=2023.5.0 in /usr/local/lib/python3.10/dist-packages (from huggingface-hub<1.0,>=0.23.2->transformers) (2024.5.0)\n",
            "Requirement already satisfied: typing-extensions>=3.7.4.3 in /usr/local/lib/python3.10/dist-packages (from huggingface-hub<1.0,>=0.23.2->transformers) (4.12.2)\n",
            "Requirement already satisfied: charset-normalizer<4,>=2 in /usr/local/lib/python3.10/dist-packages (from requests->transformers) (3.3.2)\n",
            "Requirement already satisfied: idna<4,>=2.5 in /usr/local/lib/python3.10/dist-packages (from requests->transformers) (3.7)\n",
            "Requirement already satisfied: urllib3<3,>=1.21.1 in /usr/local/lib/python3.10/dist-packages (from requests->transformers) (2.0.7)\n",
            "Requirement already satisfied: certifi>=2017.4.17 in /usr/local/lib/python3.10/dist-packages (from requests->transformers) (2024.7.4)\n",
            "Requirement already satisfied: datasets in /usr/local/lib/python3.10/dist-packages (2.20.0)\n",
            "Requirement already satisfied: filelock in /usr/local/lib/python3.10/dist-packages (from datasets) (3.15.4)\n",
            "Requirement already satisfied: numpy>=1.17 in /usr/local/lib/python3.10/dist-packages (from datasets) (1.26.4)\n",
            "Requirement already satisfied: pyarrow>=15.0.0 in /usr/local/lib/python3.10/dist-packages (from datasets) (17.0.0)\n",
            "Requirement already satisfied: pyarrow-hotfix in /usr/local/lib/python3.10/dist-packages (from datasets) (0.6)\n",
            "Requirement already satisfied: dill<0.3.9,>=0.3.0 in /usr/local/lib/python3.10/dist-packages (from datasets) (0.3.8)\n",
            "Requirement already satisfied: pandas in /usr/local/lib/python3.10/dist-packages (from datasets) (2.1.4)\n",
            "Requirement already satisfied: requests>=2.32.2 in /usr/local/lib/python3.10/dist-packages (from datasets) (2.32.3)\n",
            "Requirement already satisfied: tqdm>=4.66.3 in /usr/local/lib/python3.10/dist-packages (from datasets) (4.66.4)\n",
            "Requirement already satisfied: xxhash in /usr/local/lib/python3.10/dist-packages (from datasets) (3.4.1)\n",
            "Requirement already satisfied: multiprocess in /usr/local/lib/python3.10/dist-packages (from datasets) (0.70.16)\n",
            "Requirement already satisfied: fsspec<=2024.5.0,>=2023.1.0 in /usr/local/lib/python3.10/dist-packages (from fsspec[http]<=2024.5.0,>=2023.1.0->datasets) (2024.5.0)\n",
            "Requirement already satisfied: aiohttp in /usr/local/lib/python3.10/dist-packages (from datasets) (3.9.5)\n",
            "Requirement already satisfied: huggingface-hub>=0.21.2 in /usr/local/lib/python3.10/dist-packages (from datasets) (0.23.5)\n",
            "Requirement already satisfied: packaging in /usr/local/lib/python3.10/dist-packages (from datasets) (24.1)\n",
            "Requirement already satisfied: pyyaml>=5.1 in /usr/local/lib/python3.10/dist-packages (from datasets) (6.0.1)\n",
            "Requirement already satisfied: aiosignal>=1.1.2 in /usr/local/lib/python3.10/dist-packages (from aiohttp->datasets) (1.3.1)\n",
            "Requirement already satisfied: attrs>=17.3.0 in /usr/local/lib/python3.10/dist-packages (from aiohttp->datasets) (23.2.0)\n",
            "Requirement already satisfied: frozenlist>=1.1.1 in /usr/local/lib/python3.10/dist-packages (from aiohttp->datasets) (1.4.1)\n",
            "Requirement already satisfied: multidict<7.0,>=4.5 in /usr/local/lib/python3.10/dist-packages (from aiohttp->datasets) (6.0.5)\n",
            "Requirement already satisfied: yarl<2.0,>=1.0 in /usr/local/lib/python3.10/dist-packages (from aiohttp->datasets) (1.9.4)\n",
            "Requirement already satisfied: async-timeout<5.0,>=4.0 in /usr/local/lib/python3.10/dist-packages (from aiohttp->datasets) (4.0.3)\n",
            "Requirement already satisfied: typing-extensions>=3.7.4.3 in /usr/local/lib/python3.10/dist-packages (from huggingface-hub>=0.21.2->datasets) (4.12.2)\n",
            "Requirement already satisfied: charset-normalizer<4,>=2 in /usr/local/lib/python3.10/dist-packages (from requests>=2.32.2->datasets) (3.3.2)\n",
            "Requirement already satisfied: idna<4,>=2.5 in /usr/local/lib/python3.10/dist-packages (from requests>=2.32.2->datasets) (3.7)\n",
            "Requirement already satisfied: urllib3<3,>=1.21.1 in /usr/local/lib/python3.10/dist-packages (from requests>=2.32.2->datasets) (2.0.7)\n",
            "Requirement already satisfied: certifi>=2017.4.17 in /usr/local/lib/python3.10/dist-packages (from requests>=2.32.2->datasets) (2024.7.4)\n",
            "Requirement already satisfied: python-dateutil>=2.8.2 in /usr/local/lib/python3.10/dist-packages (from pandas->datasets) (2.8.2)\n",
            "Requirement already satisfied: pytz>=2020.1 in /usr/local/lib/python3.10/dist-packages (from pandas->datasets) (2024.1)\n",
            "Requirement already satisfied: tzdata>=2022.1 in /usr/local/lib/python3.10/dist-packages (from pandas->datasets) (2024.1)\n",
            "Requirement already satisfied: six>=1.5 in /usr/local/lib/python3.10/dist-packages (from python-dateutil>=2.8.2->pandas->datasets) (1.16.0)\n",
            "Requirement already satisfied: accelerate in /usr/local/lib/python3.10/dist-packages (0.32.1)\n",
            "Requirement already satisfied: numpy<2.0.0,>=1.17 in /usr/local/lib/python3.10/dist-packages (from accelerate) (1.26.4)\n",
            "Requirement already satisfied: packaging>=20.0 in /usr/local/lib/python3.10/dist-packages (from accelerate) (24.1)\n",
            "Requirement already satisfied: psutil in /usr/local/lib/python3.10/dist-packages (from accelerate) (5.9.5)\n",
            "Requirement already satisfied: pyyaml in /usr/local/lib/python3.10/dist-packages (from accelerate) (6.0.1)\n",
            "Requirement already satisfied: torch>=1.10.0 in /usr/local/lib/python3.10/dist-packages (from accelerate) (2.3.1+cu121)\n",
            "Requirement already satisfied: huggingface-hub in /usr/local/lib/python3.10/dist-packages (from accelerate) (0.23.5)\n",
            "Requirement already satisfied: safetensors>=0.3.1 in /usr/local/lib/python3.10/dist-packages (from accelerate) (0.4.3)\n",
            "Requirement already satisfied: filelock in /usr/local/lib/python3.10/dist-packages (from torch>=1.10.0->accelerate) (3.15.4)\n",
            "Requirement already satisfied: typing-extensions>=4.8.0 in /usr/local/lib/python3.10/dist-packages (from torch>=1.10.0->accelerate) (4.12.2)\n",
            "Requirement already satisfied: sympy in /usr/local/lib/python3.10/dist-packages (from torch>=1.10.0->accelerate) (1.13.1)\n",
            "Requirement already satisfied: networkx in /usr/local/lib/python3.10/dist-packages (from torch>=1.10.0->accelerate) (3.3)\n",
            "Requirement already satisfied: jinja2 in /usr/local/lib/python3.10/dist-packages (from torch>=1.10.0->accelerate) (3.1.4)\n",
            "Requirement already satisfied: fsspec in /usr/local/lib/python3.10/dist-packages (from torch>=1.10.0->accelerate) (2024.5.0)\n",
            "Requirement already satisfied: nvidia-cuda-nvrtc-cu12==12.1.105 in /usr/local/lib/python3.10/dist-packages (from torch>=1.10.0->accelerate) (12.1.105)\n",
            "Requirement already satisfied: nvidia-cuda-runtime-cu12==12.1.105 in /usr/local/lib/python3.10/dist-packages (from torch>=1.10.0->accelerate) (12.1.105)\n",
            "Requirement already satisfied: nvidia-cuda-cupti-cu12==12.1.105 in /usr/local/lib/python3.10/dist-packages (from torch>=1.10.0->accelerate) (12.1.105)\n",
            "Requirement already satisfied: nvidia-cudnn-cu12==8.9.2.26 in /usr/local/lib/python3.10/dist-packages (from torch>=1.10.0->accelerate) (8.9.2.26)\n",
            "Requirement already satisfied: nvidia-cublas-cu12==12.1.3.1 in /usr/local/lib/python3.10/dist-packages (from torch>=1.10.0->accelerate) (12.1.3.1)\n",
            "Requirement already satisfied: nvidia-cufft-cu12==11.0.2.54 in /usr/local/lib/python3.10/dist-packages (from torch>=1.10.0->accelerate) (11.0.2.54)\n",
            "Requirement already satisfied: nvidia-curand-cu12==10.3.2.106 in /usr/local/lib/python3.10/dist-packages (from torch>=1.10.0->accelerate) (10.3.2.106)\n",
            "Requirement already satisfied: nvidia-cusolver-cu12==11.4.5.107 in /usr/local/lib/python3.10/dist-packages (from torch>=1.10.0->accelerate) (11.4.5.107)\n",
            "Requirement already satisfied: nvidia-cusparse-cu12==12.1.0.106 in /usr/local/lib/python3.10/dist-packages (from torch>=1.10.0->accelerate) (12.1.0.106)\n",
            "Requirement already satisfied: nvidia-nccl-cu12==2.20.5 in /usr/local/lib/python3.10/dist-packages (from torch>=1.10.0->accelerate) (2.20.5)\n",
            "Requirement already satisfied: nvidia-nvtx-cu12==12.1.105 in /usr/local/lib/python3.10/dist-packages (from torch>=1.10.0->accelerate) (12.1.105)\n",
            "Requirement already satisfied: triton==2.3.1 in /usr/local/lib/python3.10/dist-packages (from torch>=1.10.0->accelerate) (2.3.1)\n",
            "Requirement already satisfied: nvidia-nvjitlink-cu12 in /usr/local/lib/python3.10/dist-packages (from nvidia-cusolver-cu12==11.4.5.107->torch>=1.10.0->accelerate) (12.5.82)\n",
            "Requirement already satisfied: requests in /usr/local/lib/python3.10/dist-packages (from huggingface-hub->accelerate) (2.32.3)\n",
            "Requirement already satisfied: tqdm>=4.42.1 in /usr/local/lib/python3.10/dist-packages (from huggingface-hub->accelerate) (4.66.4)\n",
            "Requirement already satisfied: MarkupSafe>=2.0 in /usr/local/lib/python3.10/dist-packages (from jinja2->torch>=1.10.0->accelerate) (2.1.5)\n",
            "Requirement already satisfied: charset-normalizer<4,>=2 in /usr/local/lib/python3.10/dist-packages (from requests->huggingface-hub->accelerate) (3.3.2)\n",
            "Requirement already satisfied: idna<4,>=2.5 in /usr/local/lib/python3.10/dist-packages (from requests->huggingface-hub->accelerate) (3.7)\n",
            "Requirement already satisfied: urllib3<3,>=1.21.1 in /usr/local/lib/python3.10/dist-packages (from requests->huggingface-hub->accelerate) (2.0.7)\n",
            "Requirement already satisfied: certifi>=2017.4.17 in /usr/local/lib/python3.10/dist-packages (from requests->huggingface-hub->accelerate) (2024.7.4)\n",
            "Requirement already satisfied: mpmath<1.4,>=1.1.0 in /usr/local/lib/python3.10/dist-packages (from sympy->torch>=1.10.0->accelerate) (1.3.0)\n",
            "Requirement already satisfied: deepchem in /usr/local/lib/python3.10/dist-packages (2.8.0)\n",
            "Requirement already satisfied: joblib in /usr/local/lib/python3.10/dist-packages (from deepchem) (1.4.2)\n",
            "Requirement already satisfied: numpy>=1.21 in /usr/local/lib/python3.10/dist-packages (from deepchem) (1.26.4)\n",
            "Requirement already satisfied: pandas in /usr/local/lib/python3.10/dist-packages (from deepchem) (2.1.4)\n",
            "Requirement already satisfied: scikit-learn in /usr/local/lib/python3.10/dist-packages (from deepchem) (1.3.2)\n",
            "Requirement already satisfied: sympy in /usr/local/lib/python3.10/dist-packages (from deepchem) (1.13.1)\n",
            "Requirement already satisfied: scipy>=1.10.1 in /usr/local/lib/python3.10/dist-packages (from deepchem) (1.13.1)\n",
            "Requirement already satisfied: rdkit in /usr/local/lib/python3.10/dist-packages (from deepchem) (2024.3.3)\n",
            "Requirement already satisfied: python-dateutil>=2.8.2 in /usr/local/lib/python3.10/dist-packages (from pandas->deepchem) (2.8.2)\n",
            "Requirement already satisfied: pytz>=2020.1 in /usr/local/lib/python3.10/dist-packages (from pandas->deepchem) (2024.1)\n",
            "Requirement already satisfied: tzdata>=2022.1 in /usr/local/lib/python3.10/dist-packages (from pandas->deepchem) (2024.1)\n",
            "Requirement already satisfied: Pillow in /usr/local/lib/python3.10/dist-packages (from rdkit->deepchem) (9.4.0)\n",
            "Requirement already satisfied: threadpoolctl>=2.0.0 in /usr/local/lib/python3.10/dist-packages (from scikit-learn->deepchem) (3.5.0)\n",
            "Requirement already satisfied: mpmath<1.4,>=1.1.0 in /usr/local/lib/python3.10/dist-packages (from sympy->deepchem) (1.3.0)\n",
            "Requirement already satisfied: six>=1.5 in /usr/local/lib/python3.10/dist-packages (from python-dateutil>=2.8.2->pandas->deepchem) (1.16.0)\n"
          ]
        }
      ],
      "source": [
        "# install the necessary libraries\n",
        "!pip install numpy\n",
        "!pip install torch\n",
        "!pip install scikit-learn\n",
        "!pip install transformers\n",
        "!pip install datasets\n",
        "!pip install accelerate\n",
        "!pip install deepchem"
      ]
    },
    {
      "cell_type": "code",
      "execution_count": null,
      "metadata": {
        "id": "_xbFPIq3MWQi"
      },
      "outputs": [],
      "source": [
        "import os\n",
        "import numpy as np\n",
        "import torch\n",
        "import torch.nn as nn\n",
        "import pickle\n",
        "import xml.etree.ElementTree as ET\n",
        "import deepchem as dc\n",
        "from datetime import datetime\n",
        "from sklearn.model_selection import train_test_split\n",
        "from sklearn.utils.class_weight import compute_class_weight\n",
        "from sklearn.metrics import (\n",
        "    accuracy_score,\n",
        "    precision_recall_fscore_support,\n",
        "    roc_auc_score,\n",
        "    matthews_corrcoef\n",
        ")\n",
        "from transformers import (\n",
        "    AutoModelForTokenClassification,\n",
        "    AutoTokenizer,\n",
        "    DataCollatorForTokenClassification,\n",
        "    TrainingArguments,\n",
        "    Trainer\n",
        ")\n",
        "from datasets import Dataset\n",
        "from accelerate import Accelerator\n",
        "from deepchem.utils import download_url, load_from_disk\n"
      ]
    },
    {
      "cell_type": "markdown",
      "metadata": {
        "id": "65X3Hsjcza8l"
      },
      "source": [
        "If you want to save the downstream processed data or finetuned model, and you are running this notebook on Google colab, you may want to mount your google drive:"
      ]
    },
    {
      "cell_type": "code",
      "execution_count": null,
      "metadata": {
        "colab": {
          "base_uri": "https://localhost:8080/"
        },
        "id": "P5uYsrFFxehv",
        "outputId": "28ab8b3a-6f91-4a15-c97c-890d619cbceb"
      },
      "outputs": [
        {
          "name": "stdout",
          "output_type": "stream",
          "text": [
            "Mounted at /content/gdrive/\n"
          ]
        }
      ],
      "source": [
        "# mount your google drive\n",
        "from google.colab import drive\n",
        "drive.mount('/content/gdrive/')"
      ]
    },
    {
      "cell_type": "markdown",
      "metadata": {
        "id": "a4kV3J-KXXtM"
      },
      "source": [
        "## Data collection and preprocessing <a name=\"data-processing\"></a>"
      ]
    },
    {
      "cell_type": "markdown",
      "metadata": {
        "id": "Cu7GjCppZx94"
      },
      "source": [
        "To illustrate the fine-tuning procedure, here we'll use a dataset from DeepChem storage that contains UniProt information from human proteins, including their sequence and corresponding binding sites labels. Later, we'll use the labels to fine-tune the pre-trained ESM-2 model to predict binding sites on the sequences.\n",
        "\n",
        "An accompanying [tutorial](https://github.com/deepchem/deepchem/blob/master/examples/tutorials/UniProt_Data_Preprocessing_for_Binding_Sites.ipynb) provides a guide on how to download and pre-process data from Uniprot using your own filters. The dataset form DeepChem was generated following this guide, until the splitting part, which we'll do here, as suits for this task."
      ]
    },
    {
      "cell_type": "markdown",
      "metadata": {
        "id": "-yeo1lb8M0Vx"
      },
      "source": [
        "Let's start by loading the data with which we'll fine-tune ESM-2:"
      ]
    },
    {
      "cell_type": "code",
      "execution_count": null,
      "metadata": {
        "colab": {
          "base_uri": "https://localhost:8080/"
        },
        "id": "_G6d4JE8G1QD",
        "outputId": "eb23f57f-fe42-4dee-e7e5-c1c9bb96205e"
      },
      "outputs": [
        {
          "name": "stdout",
          "output_type": "stream",
          "text": [
            "File does not exist. Downloading file...\n",
            "File successfully downloaded\n"
          ]
        }
      ],
      "source": [
        "# import dataset from Deepchem aws storage\n",
        "data_dir = dc.utils.get_data_dir()\n",
        "dataset_file = os.path.join(data_dir, \"uniprotkb_org_9606_AND_existence_1_OR_2_2024_07_22.pkl.gz\")\n",
        "\n",
        "if not os.path.exists(dataset_file):\n",
        "    print('File does not exist. Downloading file...')\n",
        "    download_url(\"https://deepchemdata.s3.us-west-1.amazonaws.com/datasets/uniprotkb_org_9606_AND_existence_1_OR_2_2024_07_22.pkl.gz\")\n",
        "    print('File successfully downloaded')"
      ]
    },
    {
      "cell_type": "code",
      "execution_count": null,
      "metadata": {
        "colab": {
          "base_uri": "https://localhost:8080/",
          "height": 310
        },
        "id": "7gdui0sPIxjF",
        "outputId": "3cb5b5b1-0365-4ff3-d4db-6be7f7c9c04c"
      },
      "outputs": [
        {
          "data": {
            "application/vnd.google.colaboratory.intrinsic+json": {
              "type": "dataframe",
              "variable_name": "data"
            },
            "text/html": [
              "\n",
              "  <div id=\"df-6742e927-6a41-4742-9630-4af3a55dd81e\" class=\"colab-df-container\">\n",
              "    <div>\n",
              "<style scoped>\n",
              "    .dataframe tbody tr th:only-of-type {\n",
              "        vertical-align: middle;\n",
              "    }\n",
              "\n",
              "    .dataframe tbody tr th {\n",
              "        vertical-align: top;\n",
              "    }\n",
              "\n",
              "    .dataframe thead th {\n",
              "        text-align: right;\n",
              "    }\n",
              "</style>\n",
              "<table border=\"1\" class=\"dataframe\">\n",
              "  <thead>\n",
              "    <tr style=\"text-align: right;\">\n",
              "      <th></th>\n",
              "      <th>Entry</th>\n",
              "      <th>Reviewed</th>\n",
              "      <th>Entry Name</th>\n",
              "      <th>Protein names</th>\n",
              "      <th>Gene Names</th>\n",
              "      <th>Organism</th>\n",
              "      <th>Protein families</th>\n",
              "      <th>Sequence</th>\n",
              "      <th>Length</th>\n",
              "      <th>Binding site</th>\n",
              "      <th>Active site</th>\n",
              "      <th>Binding-Active site</th>\n",
              "    </tr>\n",
              "  </thead>\n",
              "  <tbody>\n",
              "    <tr>\n",
              "      <th>16842</th>\n",
              "      <td>F6PU38</td>\n",
              "      <td>unreviewed</td>\n",
              "      <td>F6PU38_MACMU</td>\n",
              "      <td>Lon protease homolog, mitochondrial (EC 3.4.21...</td>\n",
              "      <td>LONP1</td>\n",
              "      <td>Macaca mulatta (Rhesus macaque)</td>\n",
              "      <td>Peptidase S16 family</td>\n",
              "      <td>MAASTGYVRLWGAARCWALRRPILAAAGGRVPTAAGAWLFRGRRAC...</td>\n",
              "      <td>961</td>\n",
              "      <td>523..530</td>\n",
              "      <td>855; 898</td>\n",
              "      <td>[0, 0, 0, 0, 0, 0, 0, 0, 0, 0, 0, 0, 0, 0, 0, ...</td>\n",
              "    </tr>\n",
              "    <tr>\n",
              "      <th>19516</th>\n",
              "      <td>K7AF68</td>\n",
              "      <td>unreviewed</td>\n",
              "      <td>K7AF68_PANTR</td>\n",
              "      <td>Lon protease homolog, mitochondrial (EC 3.4.21...</td>\n",
              "      <td>LONP1</td>\n",
              "      <td>Pan troglodytes (Chimpanzee)</td>\n",
              "      <td>Peptidase S16 family</td>\n",
              "      <td>MAASTGYVRLWGAARCWALRRPMLAAAGGRVPTAAGAWLLRGQRTC...</td>\n",
              "      <td>959</td>\n",
              "      <td>523..530</td>\n",
              "      <td>855; 898</td>\n",
              "      <td>[0, 0, 0, 0, 0, 0, 0, 0, 0, 0, 0, 0, 0, 0, 0, ...</td>\n",
              "    </tr>\n",
              "    <tr>\n",
              "      <th>19635</th>\n",
              "      <td>K7EJE8</td>\n",
              "      <td>unreviewed</td>\n",
              "      <td>K7EJE8_HUMAN</td>\n",
              "      <td>Lon protease homolog, mitochondrial (EC 3.4.21...</td>\n",
              "      <td>LONP1</td>\n",
              "      <td>Homo sapiens (Human)</td>\n",
              "      <td>Peptidase S16 family</td>\n",
              "      <td>MTIPDVFPHLPLIAITRNPVFPRFIKIIEVKNKKLVELLRRKVRLA...</td>\n",
              "      <td>829</td>\n",
              "      <td>393..400</td>\n",
              "      <td>725; 768</td>\n",
              "      <td>[0, 0, 0, 0, 0, 0, 0, 0, 0, 0, 0, 0, 0, 0, 0, ...</td>\n",
              "    </tr>\n",
              "    <tr>\n",
              "      <th>19636</th>\n",
              "      <td>K7EKE6</td>\n",
              "      <td>unreviewed</td>\n",
              "      <td>K7EKE6_HUMAN</td>\n",
              "      <td>Lon protease homolog, mitochondrial (EC 3.4.21...</td>\n",
              "      <td>LONP1</td>\n",
              "      <td>Homo sapiens (Human)</td>\n",
              "      <td>Peptidase S16 family</td>\n",
              "      <td>MTIPDVFPHLPLIAITRNPVFPRFIKIIEVKNKKLVELLRRKVRLA...</td>\n",
              "      <td>845</td>\n",
              "      <td>409..416</td>\n",
              "      <td>741; 784</td>\n",
              "      <td>[0, 0, 0, 0, 0, 0, 0, 0, 0, 0, 0, 0, 0, 0, 0, ...</td>\n",
              "    </tr>\n",
              "    <tr>\n",
              "      <th>21928</th>\n",
              "      <td>O64948</td>\n",
              "      <td>reviewed</td>\n",
              "      <td>LONP2_ARATH</td>\n",
              "      <td>Lon protease homolog 2, peroxisomal (EC 3.4.21...</td>\n",
              "      <td>LON2 At5g47040 MQD22.18</td>\n",
              "      <td>Arabidopsis thaliana (Mouse-ear cress)</td>\n",
              "      <td>Peptidase S16 family</td>\n",
              "      <td>MAETVELPSRLAILPFRNKVLLPGAIIRIRCTSHSSVTLVEQELWQ...</td>\n",
              "      <td>888</td>\n",
              "      <td>408..415</td>\n",
              "      <td>783; 826</td>\n",
              "      <td>[0, 0, 0, 0, 0, 0, 0, 0, 0, 0, 0, 0, 0, 0, 0, ...</td>\n",
              "    </tr>\n",
              "  </tbody>\n",
              "</table>\n",
              "</div>\n",
              "    <div class=\"colab-df-buttons\">\n",
              "\n",
              "  <div class=\"colab-df-container\">\n",
              "    <button class=\"colab-df-convert\" onclick=\"convertToInteractive('df-6742e927-6a41-4742-9630-4af3a55dd81e')\"\n",
              "            title=\"Convert this dataframe to an interactive table.\"\n",
              "            style=\"display:none;\">\n",
              "\n",
              "  <svg xmlns=\"http://www.w3.org/2000/svg\" height=\"24px\" viewBox=\"0 -960 960 960\">\n",
              "    <path d=\"M120-120v-720h720v720H120Zm60-500h600v-160H180v160Zm220 220h160v-160H400v160Zm0 220h160v-160H400v160ZM180-400h160v-160H180v160Zm440 0h160v-160H620v160ZM180-180h160v-160H180v160Zm440 0h160v-160H620v160Z\"/>\n",
              "  </svg>\n",
              "    </button>\n",
              "\n",
              "  <style>\n",
              "    .colab-df-container {\n",
              "      display:flex;\n",
              "      gap: 12px;\n",
              "    }\n",
              "\n",
              "    .colab-df-convert {\n",
              "      background-color: #E8F0FE;\n",
              "      border: none;\n",
              "      border-radius: 50%;\n",
              "      cursor: pointer;\n",
              "      display: none;\n",
              "      fill: #1967D2;\n",
              "      height: 32px;\n",
              "      padding: 0 0 0 0;\n",
              "      width: 32px;\n",
              "    }\n",
              "\n",
              "    .colab-df-convert:hover {\n",
              "      background-color: #E2EBFA;\n",
              "      box-shadow: 0px 1px 2px rgba(60, 64, 67, 0.3), 0px 1px 3px 1px rgba(60, 64, 67, 0.15);\n",
              "      fill: #174EA6;\n",
              "    }\n",
              "\n",
              "    .colab-df-buttons div {\n",
              "      margin-bottom: 4px;\n",
              "    }\n",
              "\n",
              "    [theme=dark] .colab-df-convert {\n",
              "      background-color: #3B4455;\n",
              "      fill: #D2E3FC;\n",
              "    }\n",
              "\n",
              "    [theme=dark] .colab-df-convert:hover {\n",
              "      background-color: #434B5C;\n",
              "      box-shadow: 0px 1px 3px 1px rgba(0, 0, 0, 0.15);\n",
              "      filter: drop-shadow(0px 1px 2px rgba(0, 0, 0, 0.3));\n",
              "      fill: #FFFFFF;\n",
              "    }\n",
              "  </style>\n",
              "\n",
              "    <script>\n",
              "      const buttonEl =\n",
              "        document.querySelector('#df-6742e927-6a41-4742-9630-4af3a55dd81e button.colab-df-convert');\n",
              "      buttonEl.style.display =\n",
              "        google.colab.kernel.accessAllowed ? 'block' : 'none';\n",
              "\n",
              "      async function convertToInteractive(key) {\n",
              "        const element = document.querySelector('#df-6742e927-6a41-4742-9630-4af3a55dd81e');\n",
              "        const dataTable =\n",
              "          await google.colab.kernel.invokeFunction('convertToInteractive',\n",
              "                                                    [key], {});\n",
              "        if (!dataTable) return;\n",
              "\n",
              "        const docLinkHtml = 'Like what you see? Visit the ' +\n",
              "          '<a target=\"_blank\" href=https://colab.research.google.com/notebooks/data_table.ipynb>data table notebook</a>'\n",
              "          + ' to learn more about interactive tables.';\n",
              "        element.innerHTML = '';\n",
              "        dataTable['output_type'] = 'display_data';\n",
              "        await google.colab.output.renderOutput(dataTable, element);\n",
              "        const docLink = document.createElement('div');\n",
              "        docLink.innerHTML = docLinkHtml;\n",
              "        element.appendChild(docLink);\n",
              "      }\n",
              "    </script>\n",
              "  </div>\n",
              "\n",
              "\n",
              "<div id=\"df-05b0539c-d1da-4065-94c0-04e0d3ccab73\">\n",
              "  <button class=\"colab-df-quickchart\" onclick=\"quickchart('df-05b0539c-d1da-4065-94c0-04e0d3ccab73')\"\n",
              "            title=\"Suggest charts\"\n",
              "            style=\"display:none;\">\n",
              "\n",
              "<svg xmlns=\"http://www.w3.org/2000/svg\" height=\"24px\"viewBox=\"0 0 24 24\"\n",
              "     width=\"24px\">\n",
              "    <g>\n",
              "        <path d=\"M19 3H5c-1.1 0-2 .9-2 2v14c0 1.1.9 2 2 2h14c1.1 0 2-.9 2-2V5c0-1.1-.9-2-2-2zM9 17H7v-7h2v7zm4 0h-2V7h2v10zm4 0h-2v-4h2v4z\"/>\n",
              "    </g>\n",
              "</svg>\n",
              "  </button>\n",
              "\n",
              "<style>\n",
              "  .colab-df-quickchart {\n",
              "      --bg-color: #E8F0FE;\n",
              "      --fill-color: #1967D2;\n",
              "      --hover-bg-color: #E2EBFA;\n",
              "      --hover-fill-color: #174EA6;\n",
              "      --disabled-fill-color: #AAA;\n",
              "      --disabled-bg-color: #DDD;\n",
              "  }\n",
              "\n",
              "  [theme=dark] .colab-df-quickchart {\n",
              "      --bg-color: #3B4455;\n",
              "      --fill-color: #D2E3FC;\n",
              "      --hover-bg-color: #434B5C;\n",
              "      --hover-fill-color: #FFFFFF;\n",
              "      --disabled-bg-color: #3B4455;\n",
              "      --disabled-fill-color: #666;\n",
              "  }\n",
              "\n",
              "  .colab-df-quickchart {\n",
              "    background-color: var(--bg-color);\n",
              "    border: none;\n",
              "    border-radius: 50%;\n",
              "    cursor: pointer;\n",
              "    display: none;\n",
              "    fill: var(--fill-color);\n",
              "    height: 32px;\n",
              "    padding: 0;\n",
              "    width: 32px;\n",
              "  }\n",
              "\n",
              "  .colab-df-quickchart:hover {\n",
              "    background-color: var(--hover-bg-color);\n",
              "    box-shadow: 0 1px 2px rgba(60, 64, 67, 0.3), 0 1px 3px 1px rgba(60, 64, 67, 0.15);\n",
              "    fill: var(--button-hover-fill-color);\n",
              "  }\n",
              "\n",
              "  .colab-df-quickchart-complete:disabled,\n",
              "  .colab-df-quickchart-complete:disabled:hover {\n",
              "    background-color: var(--disabled-bg-color);\n",
              "    fill: var(--disabled-fill-color);\n",
              "    box-shadow: none;\n",
              "  }\n",
              "\n",
              "  .colab-df-spinner {\n",
              "    border: 2px solid var(--fill-color);\n",
              "    border-color: transparent;\n",
              "    border-bottom-color: var(--fill-color);\n",
              "    animation:\n",
              "      spin 1s steps(1) infinite;\n",
              "  }\n",
              "\n",
              "  @keyframes spin {\n",
              "    0% {\n",
              "      border-color: transparent;\n",
              "      border-bottom-color: var(--fill-color);\n",
              "      border-left-color: var(--fill-color);\n",
              "    }\n",
              "    20% {\n",
              "      border-color: transparent;\n",
              "      border-left-color: var(--fill-color);\n",
              "      border-top-color: var(--fill-color);\n",
              "    }\n",
              "    30% {\n",
              "      border-color: transparent;\n",
              "      border-left-color: var(--fill-color);\n",
              "      border-top-color: var(--fill-color);\n",
              "      border-right-color: var(--fill-color);\n",
              "    }\n",
              "    40% {\n",
              "      border-color: transparent;\n",
              "      border-right-color: var(--fill-color);\n",
              "      border-top-color: var(--fill-color);\n",
              "    }\n",
              "    60% {\n",
              "      border-color: transparent;\n",
              "      border-right-color: var(--fill-color);\n",
              "    }\n",
              "    80% {\n",
              "      border-color: transparent;\n",
              "      border-right-color: var(--fill-color);\n",
              "      border-bottom-color: var(--fill-color);\n",
              "    }\n",
              "    90% {\n",
              "      border-color: transparent;\n",
              "      border-bottom-color: var(--fill-color);\n",
              "    }\n",
              "  }\n",
              "</style>\n",
              "\n",
              "  <script>\n",
              "    async function quickchart(key) {\n",
              "      const quickchartButtonEl =\n",
              "        document.querySelector('#' + key + ' button');\n",
              "      quickchartButtonEl.disabled = true;  // To prevent multiple clicks.\n",
              "      quickchartButtonEl.classList.add('colab-df-spinner');\n",
              "      try {\n",
              "        const charts = await google.colab.kernel.invokeFunction(\n",
              "            'suggestCharts', [key], {});\n",
              "      } catch (error) {\n",
              "        console.error('Error during call to suggestCharts:', error);\n",
              "      }\n",
              "      quickchartButtonEl.classList.remove('colab-df-spinner');\n",
              "      quickchartButtonEl.classList.add('colab-df-quickchart-complete');\n",
              "    }\n",
              "    (() => {\n",
              "      let quickchartButtonEl =\n",
              "        document.querySelector('#df-05b0539c-d1da-4065-94c0-04e0d3ccab73 button');\n",
              "      quickchartButtonEl.style.display =\n",
              "        google.colab.kernel.accessAllowed ? 'block' : 'none';\n",
              "    })();\n",
              "  </script>\n",
              "</div>\n",
              "\n",
              "    </div>\n",
              "  </div>\n"
            ],
            "text/plain": [
              "        Entry    Reviewed    Entry Name  \\\n",
              "16842  F6PU38  unreviewed  F6PU38_MACMU   \n",
              "19516  K7AF68  unreviewed  K7AF68_PANTR   \n",
              "19635  K7EJE8  unreviewed  K7EJE8_HUMAN   \n",
              "19636  K7EKE6  unreviewed  K7EKE6_HUMAN   \n",
              "21928  O64948    reviewed   LONP2_ARATH   \n",
              "\n",
              "                                           Protein names  \\\n",
              "16842  Lon protease homolog, mitochondrial (EC 3.4.21...   \n",
              "19516  Lon protease homolog, mitochondrial (EC 3.4.21...   \n",
              "19635  Lon protease homolog, mitochondrial (EC 3.4.21...   \n",
              "19636  Lon protease homolog, mitochondrial (EC 3.4.21...   \n",
              "21928  Lon protease homolog 2, peroxisomal (EC 3.4.21...   \n",
              "\n",
              "                    Gene Names                                Organism  \\\n",
              "16842                    LONP1         Macaca mulatta (Rhesus macaque)   \n",
              "19516                    LONP1            Pan troglodytes (Chimpanzee)   \n",
              "19635                    LONP1                    Homo sapiens (Human)   \n",
              "19636                    LONP1                    Homo sapiens (Human)   \n",
              "21928  LON2 At5g47040 MQD22.18  Arabidopsis thaliana (Mouse-ear cress)   \n",
              "\n",
              "           Protein families  \\\n",
              "16842  Peptidase S16 family   \n",
              "19516  Peptidase S16 family   \n",
              "19635  Peptidase S16 family   \n",
              "19636  Peptidase S16 family   \n",
              "21928  Peptidase S16 family   \n",
              "\n",
              "                                                Sequence  Length Binding site  \\\n",
              "16842  MAASTGYVRLWGAARCWALRRPILAAAGGRVPTAAGAWLFRGRRAC...     961     523..530   \n",
              "19516  MAASTGYVRLWGAARCWALRRPMLAAAGGRVPTAAGAWLLRGQRTC...     959     523..530   \n",
              "19635  MTIPDVFPHLPLIAITRNPVFPRFIKIIEVKNKKLVELLRRKVRLA...     829     393..400   \n",
              "19636  MTIPDVFPHLPLIAITRNPVFPRFIKIIEVKNKKLVELLRRKVRLA...     845     409..416   \n",
              "21928  MAETVELPSRLAILPFRNKVLLPGAIIRIRCTSHSSVTLVEQELWQ...     888     408..415   \n",
              "\n",
              "      Active site                                Binding-Active site  \n",
              "16842    855; 898  [0, 0, 0, 0, 0, 0, 0, 0, 0, 0, 0, 0, 0, 0, 0, ...  \n",
              "19516    855; 898  [0, 0, 0, 0, 0, 0, 0, 0, 0, 0, 0, 0, 0, 0, 0, ...  \n",
              "19635    725; 768  [0, 0, 0, 0, 0, 0, 0, 0, 0, 0, 0, 0, 0, 0, 0, ...  \n",
              "19636    741; 784  [0, 0, 0, 0, 0, 0, 0, 0, 0, 0, 0, 0, 0, 0, 0, ...  \n",
              "21928    783; 826  [0, 0, 0, 0, 0, 0, 0, 0, 0, 0, 0, 0, 0, 0, 0, ...  "
            ]
          },
          "execution_count": 119,
          "metadata": {},
          "output_type": "execute_result"
        }
      ],
      "source": [
        "# load file\n",
        "data = load_from_disk(dataset_file)\n",
        "data.head()"
      ]
    },
    {
      "cell_type": "markdown",
      "metadata": {
        "id": "XEQJB-4hQx3G"
      },
      "source": [
        "### Split train/test sets"
      ]
    },
    {
      "cell_type": "markdown",
      "metadata": {
        "id": "dmT0x6dcr9c6"
      },
      "source": [
        " Let's create a split of the data into training and test sets based on UniProt protein families, such that it ensures entire protein families are either in the training set or the test set. The goal is that the test set will contain completely \"new\" families of proteins that are not seen in the training set, so the evaluation represents the model's ability to generalize to entirely new families of proteins that it has not seen during training.\n",
        "\n",
        "Notably, this is different from the traiditional stratified split, which aims to preserve the distribution of classes across both sets."
      ]
    },
    {
      "cell_type": "code",
      "execution_count": null,
      "metadata": {
        "colab": {
          "base_uri": "https://localhost:8080/"
        },
        "id": "qZmJyW55Qx3G",
        "outputId": "d13d598e-ed89-4f8a-c71e-35dab64ed5fa"
      },
      "outputs": [
        {
          "name": "stdout",
          "output_type": "stream",
          "text": [
            "Number of distinct protein families: 2235\n"
          ]
        }
      ],
      "source": [
        "# Get the number of distinct protein families\n",
        "num_families = data['Protein families'].nunique()\n",
        "print(f\"Number of distinct protein families: {num_families}\")"
      ]
    },
    {
      "cell_type": "code",
      "execution_count": null,
      "metadata": {
        "colab": {
          "base_uri": "https://localhost:8080/"
        },
        "id": "Ovg9UtLFQx3G",
        "outputId": "decbde7e-1d3e-4a95-d92d-36092948ba58"
      },
      "outputs": [
        {
          "name": "stdout",
          "output_type": "stream",
          "text": [
            "95125 23678\n"
          ]
        }
      ],
      "source": [
        "np.random.seed(42)\n",
        "def split_data_by_family(data, test_ratio=0.20):\n",
        "    \"\"\"\n",
        "    Splits the dataset into train and test sets by entire protein families (not a family-stratified split!).\n",
        "\n",
        "    Parameters:\n",
        "    - data: pandas DataFrame containing the dataset with a 'Protein families' column.\n",
        "    - test_ratio: float, the proportion of the dataset to include in the test split.\n",
        "\n",
        "    Returns:\n",
        "    - test_df: pandas DataFrame containing the test set.\n",
        "    - train_df: pandas DataFrame containing the training set.\n",
        "    \"\"\"\n",
        "    # Get unique protein families and shuffle them to randomize the selection\n",
        "    unique_families = data['Protein families'].unique()\n",
        "    np.random.shuffle(unique_families)\n",
        "\n",
        "    # Loop through the shuffled families and add rows to the test set\n",
        "    test_rows = []\n",
        "    current_test_rows = 0\n",
        "    for family in unique_families:\n",
        "        family_rows = data[data['Protein families'] == family].index.tolist()\n",
        "        if current_test_rows + len(family_rows) <= int(test_ratio * data.shape[0]):\n",
        "            test_rows.extend(family_rows)\n",
        "            current_test_rows += len(family_rows)\n",
        "        else:\n",
        "            # If adding the current family exceeds the target, stop adding\n",
        "            break\n",
        "\n",
        "    # Create the test and train datasets\n",
        "    train_rows = [i for i in data.index if i not in test_rows]\n",
        "    test_df = data.loc[test_rows]\n",
        "    train_df = data.loc[train_rows]\n",
        "\n",
        "    return test_df, train_df\n",
        "\n",
        "test_df, train_df = split_data_by_family(data, test_ratio=0.20)\n",
        "print(train_df.shape[0], test_df.shape[0])"
      ]
    },
    {
      "cell_type": "markdown",
      "metadata": {
        "id": "iID_ZstMjZcZ"
      },
      "source": [
        "So we have  95,125 and 23,678 proteins in the training and test sets, respectively."
      ]
    },
    {
      "cell_type": "code",
      "execution_count": null,
      "metadata": {
        "colab": {
          "base_uri": "https://localhost:8080/",
          "height": 484
        },
        "id": "wkQrKwAFQx3G",
        "outputId": "4fec7e02-7c1a-4625-bd04-9210f8f9d790"
      },
      "outputs": [
        {
          "data": {
            "application/vnd.google.colaboratory.intrinsic+json": {
              "summary": "{\n  \"name\": \"test_df\",\n  \"rows\": 23678,\n  \"fields\": [\n    {\n      \"column\": \"Entry\",\n      \"properties\": {\n        \"dtype\": \"string\",\n        \"num_unique_values\": 23678,\n        \"samples\": [\n          \"A0A2H5AI12\",\n          \"O00482\",\n          \"A0A6A7G1Z1\"\n        ],\n        \"semantic_type\": \"\",\n        \"description\": \"\"\n      }\n    },\n    {\n      \"column\": \"Reviewed\",\n      \"properties\": {\n        \"dtype\": \"category\",\n        \"num_unique_values\": 2,\n        \"samples\": [\n          \"unreviewed\",\n          \"reviewed\"\n        ],\n        \"semantic_type\": \"\",\n        \"description\": \"\"\n      }\n    },\n    {\n      \"column\": \"Entry Name\",\n      \"properties\": {\n        \"dtype\": \"string\",\n        \"num_unique_values\": 23678,\n        \"samples\": [\n          \"A0A2H5AI12_9ADEN\",\n          \"NR5A2_HUMAN\"\n        ],\n        \"semantic_type\": \"\",\n        \"description\": \"\"\n      }\n    },\n    {\n      \"column\": \"Protein names\",\n      \"properties\": {\n        \"dtype\": \"category\",\n        \"num_unique_values\": 6750,\n        \"samples\": [\n          \"Calcium-binding mitochondrial carrier protein Aralar1\",\n          \"Serine/threonine-protein kinase (SnRK2 family protein)\"\n        ],\n        \"semantic_type\": \"\",\n        \"description\": \"\"\n      }\n    },\n    {\n      \"column\": \"Gene Names\",\n      \"properties\": {\n        \"dtype\": \"category\",\n        \"num_unique_values\": 9809,\n        \"samples\": [\n          \"KCRT\",\n          \"hslU SGF_02852\"\n        ],\n        \"semantic_type\": \"\",\n        \"description\": \"\"\n      }\n    },\n    {\n      \"column\": \"Organism\",\n      \"properties\": {\n        \"dtype\": \"category\",\n        \"num_unique_values\": 3693,\n        \"samples\": [\n          \"Aspergillus flavus\",\n          \"Phyllostachys edulis (Tortoise shell bamboo) (Bambusa edulis)\"\n        ],\n        \"semantic_type\": \"\",\n        \"description\": \"\"\n      }\n    },\n    {\n      \"column\": \"Protein families\",\n      \"properties\": {\n        \"dtype\": \"category\",\n        \"num_unique_values\": 783,\n        \"samples\": [\n          \"Complex I 23 kDa subunit family\",\n          \"Catalase family, HPII subfamily\"\n        ],\n        \"semantic_type\": \"\",\n        \"description\": \"\"\n      }\n    },\n    {\n      \"column\": \"Sequence\",\n      \"properties\": {\n        \"dtype\": \"string\",\n        \"num_unique_values\": 22233,\n        \"samples\": [\n          \"MNPAHLLVLAAVCVSLLGASSIPPEPLNLYQFKNMIKCTNTRHWLSFTNYGCYCGYGGSGTPVDELDRCCQVHDKCYDTAKRVHKCFPSVRTYSYDCSEGKLTCKDNNTKCKDFVCNCDRTAALCFAKAPYNNKNFKIDPSRCQ\",\n          \"MAGRGGRALLALCGALAACGWLLGAEAQEPGAPAAGMRRRRRLQQEDGISFEYHRYPELREALVSVWLQCTAISRIYTVGRSFEGRELLVIELSDNPGVHEPGEPEFKYIGNMHGNEAVGRELLIFLAQYLRNEYQKGNETIVNLIHSTRIHIMPSLNPDGFEKAASQPGELKDWFVGRSNAQGIDLNRNFPDLDRIVYVNEKEGGPNNHLLKNMKKIVDQNTKLAPETKAVIHWIMDIPFVLSANLHGGDLVANYPYDETRSGSAHEYSSSPDDAIFQSLARAYSSFNPAMSNPNRPPCRKNDDDSSFVDGTTNGGAWYSVPGGMQDFNYLSSNCFEITVELSCEKFPPEETLKTYWEDNKNSLISYLEQIHRGVKGFVRDLQGNPIANATISVEGIDHDVTSAKDGDYWRLLIPGNYKLTASAPGYLAITKKVAVPYSPAVGVDFELESFSERKEEEKEELMEWWKMMSETLNF\"\n        ],\n        \"semantic_type\": \"\",\n        \"description\": \"\"\n      }\n    },\n    {\n      \"column\": \"Length\",\n      \"properties\": {\n        \"dtype\": \"number\",\n        \"std\": 291,\n        \"min\": 43,\n        \"max\": 6773,\n        \"num_unique_values\": 1429,\n        \"samples\": [\n          258,\n          1181\n        ],\n        \"semantic_type\": \"\",\n        \"description\": \"\"\n      }\n    },\n    {\n      \"column\": \"Binding site\",\n      \"properties\": {\n        \"dtype\": \"category\",\n        \"num_unique_values\": 9077,\n        \"samples\": [\n          \"21; 23; 25; 27; 29; 32; 55; 57; 59; 61; 66; 551..556; 654..657; 691..692\",\n          \"152; 154\"\n        ],\n        \"semantic_type\": \"\",\n        \"description\": \"\"\n      }\n    },\n    {\n      \"column\": \"Active site\",\n      \"properties\": {\n        \"dtype\": \"category\",\n        \"num_unique_values\": 1821,\n        \"samples\": [\n          \"38; 74\",\n          \"404\"\n        ],\n        \"semantic_type\": \"\",\n        \"description\": \"\"\n      }\n    },\n    {\n      \"column\": \"Binding-Active site\",\n      \"properties\": {\n        \"dtype\": \"object\",\n        \"semantic_type\": \"\",\n        \"description\": \"\"\n      }\n    }\n  ]\n}",
              "type": "dataframe",
              "variable_name": "test_df"
            },
            "text/html": [
              "\n",
              "  <div id=\"df-027eb574-1bb5-4342-b32c-f3794f041c9d\" class=\"colab-df-container\">\n",
              "    <div>\n",
              "<style scoped>\n",
              "    .dataframe tbody tr th:only-of-type {\n",
              "        vertical-align: middle;\n",
              "    }\n",
              "\n",
              "    .dataframe tbody tr th {\n",
              "        vertical-align: top;\n",
              "    }\n",
              "\n",
              "    .dataframe thead th {\n",
              "        text-align: right;\n",
              "    }\n",
              "</style>\n",
              "<table border=\"1\" class=\"dataframe\">\n",
              "  <thead>\n",
              "    <tr style=\"text-align: right;\">\n",
              "      <th></th>\n",
              "      <th>Entry</th>\n",
              "      <th>Reviewed</th>\n",
              "      <th>Entry Name</th>\n",
              "      <th>Protein names</th>\n",
              "      <th>Gene Names</th>\n",
              "      <th>Organism</th>\n",
              "      <th>Protein families</th>\n",
              "      <th>Sequence</th>\n",
              "      <th>Length</th>\n",
              "      <th>Binding site</th>\n",
              "      <th>Active site</th>\n",
              "      <th>Binding-Active site</th>\n",
              "    </tr>\n",
              "  </thead>\n",
              "  <tbody>\n",
              "    <tr>\n",
              "      <th>23608</th>\n",
              "      <td>P0C024</td>\n",
              "      <td>reviewed</td>\n",
              "      <td>NUDT7_HUMAN</td>\n",
              "      <td>Peroxisomal coenzyme A diphosphatase NUDT7 (EC...</td>\n",
              "      <td>NUDT7</td>\n",
              "      <td>Homo sapiens (Human)</td>\n",
              "      <td>Nudix hydrolase family, PCD1 subfamily</td>\n",
              "      <td>MSRLGLPEEPVRNSLLDDAKARLRKYDIGGKYSHLPYNKYSVLLPL...</td>\n",
              "      <td>238</td>\n",
              "      <td>92; 96</td>\n",
              "      <td>None</td>\n",
              "      <td>[0, 0, 0, 0, 0, 0, 0, 0, 0, 0, 0, 0, 0, 0, 0, ...</td>\n",
              "    </tr>\n",
              "    <tr>\n",
              "      <th>25785</th>\n",
              "      <td>P40386</td>\n",
              "      <td>reviewed</td>\n",
              "      <td>THI6_SCHPO</td>\n",
              "      <td>Probable thiamine biosynthetic bifunctional en...</td>\n",
              "      <td>thi4 SPAC23H4.10c</td>\n",
              "      <td>Schizosaccharomyces pombe (strain 972 / ATCC 2...</td>\n",
              "      <td>Thiamine-phosphate synthase family; Thz kinase...</td>\n",
              "      <td>MKRQIDYSLYLVTSSSLIAPGSTIERQVEEGILGGVTLVQHREKDI...</td>\n",
              "      <td>518</td>\n",
              "      <td>40..44; 72; 73; 92; 111; 137..139; 140; 173; 1...</td>\n",
              "      <td>433</td>\n",
              "      <td>[0, 0, 0, 0, 0, 0, 0, 0, 0, 0, 0, 0, 0, 0, 0, ...</td>\n",
              "    </tr>\n",
              "    <tr>\n",
              "      <th>25352</th>\n",
              "      <td>P31939</td>\n",
              "      <td>reviewed</td>\n",
              "      <td>PUR9_HUMAN</td>\n",
              "      <td>Bifunctional purine biosynthesis protein ATIC ...</td>\n",
              "      <td>ATIC PURH OK/SW-cl.86</td>\n",
              "      <td>Homo sapiens (Human)</td>\n",
              "      <td>PurH family</td>\n",
              "      <td>MAPGQLALFSVSDKTGLVEFARNLTALGLNLVASGGTAKALRDAGL...</td>\n",
              "      <td>592</td>\n",
              "      <td>12..14; 34..37; 64..67; 101..102; 125..126; 20...</td>\n",
              "      <td>137; 267</td>\n",
              "      <td>[0, 0, 0, 0, 0, 0, 0, 0, 0, 0, 0, 1, 1, 1, 0, ...</td>\n",
              "    </tr>\n",
              "    <tr>\n",
              "      <th>28831</th>\n",
              "      <td>Q0VCK0</td>\n",
              "      <td>reviewed</td>\n",
              "      <td>PUR9_BOVIN</td>\n",
              "      <td>Bifunctional purine biosynthesis protein ATIC ...</td>\n",
              "      <td>ATIC PURH</td>\n",
              "      <td>Bos taurus (Bovine)</td>\n",
              "      <td>PurH family</td>\n",
              "      <td>MAPGQLALFSVSDKNGLVEFARNLASVGLNLIASGGTAKALRDAGL...</td>\n",
              "      <td>592</td>\n",
              "      <td>12..14; 34..37; 64..67; 101..102; 125..126; 20...</td>\n",
              "      <td>137; 267</td>\n",
              "      <td>[0, 0, 0, 0, 0, 0, 0, 0, 0, 0, 0, 1, 1, 1, 0, ...</td>\n",
              "    </tr>\n",
              "    <tr>\n",
              "      <th>69704</th>\n",
              "      <td>O74928</td>\n",
              "      <td>reviewed</td>\n",
              "      <td>PUR9_SCHPO</td>\n",
              "      <td>Bifunctional purine biosynthesis protein ade10...</td>\n",
              "      <td>ade10 SPCPB16A4.03c</td>\n",
              "      <td>Schizosaccharomyces pombe (strain 972 / ATCC 2...</td>\n",
              "      <td>PurH family</td>\n",
              "      <td>MYALLSVYDKTGLLELAKALTSKGVKLLGSGGTAKMIRESGMEVAD...</td>\n",
              "      <td>585</td>\n",
              "      <td>30..33; 60..63; 97..98; 121..122; 200..201; 26...</td>\n",
              "      <td>133; 260</td>\n",
              "      <td>[0, 0, 0, 0, 0, 0, 0, 0, 0, 0, 0, 0, 0, 0, 0, ...</td>\n",
              "    </tr>\n",
              "  </tbody>\n",
              "</table>\n",
              "</div>\n",
              "    <div class=\"colab-df-buttons\">\n",
              "\n",
              "  <div class=\"colab-df-container\">\n",
              "    <button class=\"colab-df-convert\" onclick=\"convertToInteractive('df-027eb574-1bb5-4342-b32c-f3794f041c9d')\"\n",
              "            title=\"Convert this dataframe to an interactive table.\"\n",
              "            style=\"display:none;\">\n",
              "\n",
              "  <svg xmlns=\"http://www.w3.org/2000/svg\" height=\"24px\" viewBox=\"0 -960 960 960\">\n",
              "    <path d=\"M120-120v-720h720v720H120Zm60-500h600v-160H180v160Zm220 220h160v-160H400v160Zm0 220h160v-160H400v160ZM180-400h160v-160H180v160Zm440 0h160v-160H620v160ZM180-180h160v-160H180v160Zm440 0h160v-160H620v160Z\"/>\n",
              "  </svg>\n",
              "    </button>\n",
              "\n",
              "  <style>\n",
              "    .colab-df-container {\n",
              "      display:flex;\n",
              "      gap: 12px;\n",
              "    }\n",
              "\n",
              "    .colab-df-convert {\n",
              "      background-color: #E8F0FE;\n",
              "      border: none;\n",
              "      border-radius: 50%;\n",
              "      cursor: pointer;\n",
              "      display: none;\n",
              "      fill: #1967D2;\n",
              "      height: 32px;\n",
              "      padding: 0 0 0 0;\n",
              "      width: 32px;\n",
              "    }\n",
              "\n",
              "    .colab-df-convert:hover {\n",
              "      background-color: #E2EBFA;\n",
              "      box-shadow: 0px 1px 2px rgba(60, 64, 67, 0.3), 0px 1px 3px 1px rgba(60, 64, 67, 0.15);\n",
              "      fill: #174EA6;\n",
              "    }\n",
              "\n",
              "    .colab-df-buttons div {\n",
              "      margin-bottom: 4px;\n",
              "    }\n",
              "\n",
              "    [theme=dark] .colab-df-convert {\n",
              "      background-color: #3B4455;\n",
              "      fill: #D2E3FC;\n",
              "    }\n",
              "\n",
              "    [theme=dark] .colab-df-convert:hover {\n",
              "      background-color: #434B5C;\n",
              "      box-shadow: 0px 1px 3px 1px rgba(0, 0, 0, 0.15);\n",
              "      filter: drop-shadow(0px 1px 2px rgba(0, 0, 0, 0.3));\n",
              "      fill: #FFFFFF;\n",
              "    }\n",
              "  </style>\n",
              "\n",
              "    <script>\n",
              "      const buttonEl =\n",
              "        document.querySelector('#df-027eb574-1bb5-4342-b32c-f3794f041c9d button.colab-df-convert');\n",
              "      buttonEl.style.display =\n",
              "        google.colab.kernel.accessAllowed ? 'block' : 'none';\n",
              "\n",
              "      async function convertToInteractive(key) {\n",
              "        const element = document.querySelector('#df-027eb574-1bb5-4342-b32c-f3794f041c9d');\n",
              "        const dataTable =\n",
              "          await google.colab.kernel.invokeFunction('convertToInteractive',\n",
              "                                                    [key], {});\n",
              "        if (!dataTable) return;\n",
              "\n",
              "        const docLinkHtml = 'Like what you see? Visit the ' +\n",
              "          '<a target=\"_blank\" href=https://colab.research.google.com/notebooks/data_table.ipynb>data table notebook</a>'\n",
              "          + ' to learn more about interactive tables.';\n",
              "        element.innerHTML = '';\n",
              "        dataTable['output_type'] = 'display_data';\n",
              "        await google.colab.output.renderOutput(dataTable, element);\n",
              "        const docLink = document.createElement('div');\n",
              "        docLink.innerHTML = docLinkHtml;\n",
              "        element.appendChild(docLink);\n",
              "      }\n",
              "    </script>\n",
              "  </div>\n",
              "\n",
              "\n",
              "<div id=\"df-de5c3c5d-f0dc-4ada-96a7-0b0967937ddd\">\n",
              "  <button class=\"colab-df-quickchart\" onclick=\"quickchart('df-de5c3c5d-f0dc-4ada-96a7-0b0967937ddd')\"\n",
              "            title=\"Suggest charts\"\n",
              "            style=\"display:none;\">\n",
              "\n",
              "<svg xmlns=\"http://www.w3.org/2000/svg\" height=\"24px\"viewBox=\"0 0 24 24\"\n",
              "     width=\"24px\">\n",
              "    <g>\n",
              "        <path d=\"M19 3H5c-1.1 0-2 .9-2 2v14c0 1.1.9 2 2 2h14c1.1 0 2-.9 2-2V5c0-1.1-.9-2-2-2zM9 17H7v-7h2v7zm4 0h-2V7h2v10zm4 0h-2v-4h2v4z\"/>\n",
              "    </g>\n",
              "</svg>\n",
              "  </button>\n",
              "\n",
              "<style>\n",
              "  .colab-df-quickchart {\n",
              "      --bg-color: #E8F0FE;\n",
              "      --fill-color: #1967D2;\n",
              "      --hover-bg-color: #E2EBFA;\n",
              "      --hover-fill-color: #174EA6;\n",
              "      --disabled-fill-color: #AAA;\n",
              "      --disabled-bg-color: #DDD;\n",
              "  }\n",
              "\n",
              "  [theme=dark] .colab-df-quickchart {\n",
              "      --bg-color: #3B4455;\n",
              "      --fill-color: #D2E3FC;\n",
              "      --hover-bg-color: #434B5C;\n",
              "      --hover-fill-color: #FFFFFF;\n",
              "      --disabled-bg-color: #3B4455;\n",
              "      --disabled-fill-color: #666;\n",
              "  }\n",
              "\n",
              "  .colab-df-quickchart {\n",
              "    background-color: var(--bg-color);\n",
              "    border: none;\n",
              "    border-radius: 50%;\n",
              "    cursor: pointer;\n",
              "    display: none;\n",
              "    fill: var(--fill-color);\n",
              "    height: 32px;\n",
              "    padding: 0;\n",
              "    width: 32px;\n",
              "  }\n",
              "\n",
              "  .colab-df-quickchart:hover {\n",
              "    background-color: var(--hover-bg-color);\n",
              "    box-shadow: 0 1px 2px rgba(60, 64, 67, 0.3), 0 1px 3px 1px rgba(60, 64, 67, 0.15);\n",
              "    fill: var(--button-hover-fill-color);\n",
              "  }\n",
              "\n",
              "  .colab-df-quickchart-complete:disabled,\n",
              "  .colab-df-quickchart-complete:disabled:hover {\n",
              "    background-color: var(--disabled-bg-color);\n",
              "    fill: var(--disabled-fill-color);\n",
              "    box-shadow: none;\n",
              "  }\n",
              "\n",
              "  .colab-df-spinner {\n",
              "    border: 2px solid var(--fill-color);\n",
              "    border-color: transparent;\n",
              "    border-bottom-color: var(--fill-color);\n",
              "    animation:\n",
              "      spin 1s steps(1) infinite;\n",
              "  }\n",
              "\n",
              "  @keyframes spin {\n",
              "    0% {\n",
              "      border-color: transparent;\n",
              "      border-bottom-color: var(--fill-color);\n",
              "      border-left-color: var(--fill-color);\n",
              "    }\n",
              "    20% {\n",
              "      border-color: transparent;\n",
              "      border-left-color: var(--fill-color);\n",
              "      border-top-color: var(--fill-color);\n",
              "    }\n",
              "    30% {\n",
              "      border-color: transparent;\n",
              "      border-left-color: var(--fill-color);\n",
              "      border-top-color: var(--fill-color);\n",
              "      border-right-color: var(--fill-color);\n",
              "    }\n",
              "    40% {\n",
              "      border-color: transparent;\n",
              "      border-right-color: var(--fill-color);\n",
              "      border-top-color: var(--fill-color);\n",
              "    }\n",
              "    60% {\n",
              "      border-color: transparent;\n",
              "      border-right-color: var(--fill-color);\n",
              "    }\n",
              "    80% {\n",
              "      border-color: transparent;\n",
              "      border-right-color: var(--fill-color);\n",
              "      border-bottom-color: var(--fill-color);\n",
              "    }\n",
              "    90% {\n",
              "      border-color: transparent;\n",
              "      border-bottom-color: var(--fill-color);\n",
              "    }\n",
              "  }\n",
              "</style>\n",
              "\n",
              "  <script>\n",
              "    async function quickchart(key) {\n",
              "      const quickchartButtonEl =\n",
              "        document.querySelector('#' + key + ' button');\n",
              "      quickchartButtonEl.disabled = true;  // To prevent multiple clicks.\n",
              "      quickchartButtonEl.classList.add('colab-df-spinner');\n",
              "      try {\n",
              "        const charts = await google.colab.kernel.invokeFunction(\n",
              "            'suggestCharts', [key], {});\n",
              "      } catch (error) {\n",
              "        console.error('Error during call to suggestCharts:', error);\n",
              "      }\n",
              "      quickchartButtonEl.classList.remove('colab-df-spinner');\n",
              "      quickchartButtonEl.classList.add('colab-df-quickchart-complete');\n",
              "    }\n",
              "    (() => {\n",
              "      let quickchartButtonEl =\n",
              "        document.querySelector('#df-de5c3c5d-f0dc-4ada-96a7-0b0967937ddd button');\n",
              "      quickchartButtonEl.style.display =\n",
              "        google.colab.kernel.accessAllowed ? 'block' : 'none';\n",
              "    })();\n",
              "  </script>\n",
              "</div>\n",
              "\n",
              "    </div>\n",
              "  </div>\n"
            ],
            "text/plain": [
              "        Entry  Reviewed   Entry Name  \\\n",
              "23608  P0C024  reviewed  NUDT7_HUMAN   \n",
              "25785  P40386  reviewed   THI6_SCHPO   \n",
              "25352  P31939  reviewed   PUR9_HUMAN   \n",
              "28831  Q0VCK0  reviewed   PUR9_BOVIN   \n",
              "69704  O74928  reviewed   PUR9_SCHPO   \n",
              "\n",
              "                                           Protein names  \\\n",
              "23608  Peroxisomal coenzyme A diphosphatase NUDT7 (EC...   \n",
              "25785  Probable thiamine biosynthetic bifunctional en...   \n",
              "25352  Bifunctional purine biosynthesis protein ATIC ...   \n",
              "28831  Bifunctional purine biosynthesis protein ATIC ...   \n",
              "69704  Bifunctional purine biosynthesis protein ade10...   \n",
              "\n",
              "                  Gene Names  \\\n",
              "23608                  NUDT7   \n",
              "25785      thi4 SPAC23H4.10c   \n",
              "25352  ATIC PURH OK/SW-cl.86   \n",
              "28831              ATIC PURH   \n",
              "69704    ade10 SPCPB16A4.03c   \n",
              "\n",
              "                                                Organism  \\\n",
              "23608                               Homo sapiens (Human)   \n",
              "25785  Schizosaccharomyces pombe (strain 972 / ATCC 2...   \n",
              "25352                               Homo sapiens (Human)   \n",
              "28831                                Bos taurus (Bovine)   \n",
              "69704  Schizosaccharomyces pombe (strain 972 / ATCC 2...   \n",
              "\n",
              "                                        Protein families  \\\n",
              "23608             Nudix hydrolase family, PCD1 subfamily   \n",
              "25785  Thiamine-phosphate synthase family; Thz kinase...   \n",
              "25352                                        PurH family   \n",
              "28831                                        PurH family   \n",
              "69704                                        PurH family   \n",
              "\n",
              "                                                Sequence  Length  \\\n",
              "23608  MSRLGLPEEPVRNSLLDDAKARLRKYDIGGKYSHLPYNKYSVLLPL...     238   \n",
              "25785  MKRQIDYSLYLVTSSSLIAPGSTIERQVEEGILGGVTLVQHREKDI...     518   \n",
              "25352  MAPGQLALFSVSDKTGLVEFARNLTALGLNLVASGGTAKALRDAGL...     592   \n",
              "28831  MAPGQLALFSVSDKNGLVEFARNLASVGLNLIASGGTAKALRDAGL...     592   \n",
              "69704  MYALLSVYDKTGLLELAKALTSKGVKLLGSGGTAKMIRESGMEVAD...     585   \n",
              "\n",
              "                                            Binding site Active site  \\\n",
              "23608                                             92; 96        None   \n",
              "25785  40..44; 72; 73; 92; 111; 137..139; 140; 173; 1...         433   \n",
              "25352  12..14; 34..37; 64..67; 101..102; 125..126; 20...    137; 267   \n",
              "28831  12..14; 34..37; 64..67; 101..102; 125..126; 20...    137; 267   \n",
              "69704  30..33; 60..63; 97..98; 121..122; 200..201; 26...    133; 260   \n",
              "\n",
              "                                     Binding-Active site  \n",
              "23608  [0, 0, 0, 0, 0, 0, 0, 0, 0, 0, 0, 0, 0, 0, 0, ...  \n",
              "25785  [0, 0, 0, 0, 0, 0, 0, 0, 0, 0, 0, 0, 0, 0, 0, ...  \n",
              "25352  [0, 0, 0, 0, 0, 0, 0, 0, 0, 0, 0, 1, 1, 1, 0, ...  \n",
              "28831  [0, 0, 0, 0, 0, 0, 0, 0, 0, 0, 0, 1, 1, 1, 0, ...  \n",
              "69704  [0, 0, 0, 0, 0, 0, 0, 0, 0, 0, 0, 0, 0, 0, 0, ...  "
            ]
          },
          "execution_count": 122,
          "metadata": {},
          "output_type": "execute_result"
        }
      ],
      "source": [
        "test_df.head()"
      ]
    },
    {
      "cell_type": "markdown",
      "metadata": {
        "id": "O8SesehiQx3G"
      },
      "source": [
        "In case you don't want to keep the entire train/test datasets, you can create a smaller version (with a random representation of the original dataset). Uncomment the code below if that is the case:"
      ]
    },
    {
      "cell_type": "code",
      "execution_count": null,
      "metadata": {
        "id": "iVQQHCogQx3G"
      },
      "outputs": [],
      "source": [
        "# # Percentage of data you want to keep\n",
        "# k = 0.05  # for keeping 5% of the data\n",
        "\n",
        "# # Generate random indices representing a percentage of each dataset\n",
        "# train_df = train_df.sample(frac=k, random_state=42)\n",
        "# test_df = test_df.sample(frac=k, random_state=42)"
      ]
    },
    {
      "cell_type": "markdown",
      "metadata": {
        "id": "JFUI4dh9Qx3G"
      },
      "source": [
        "### Split sequences into chunks"
      ]
    },
    {
      "cell_type": "markdown",
      "metadata": {
        "id": "gfzzgqydQx3G"
      },
      "source": [
        "Protein sequences aren’t always of the same length. We will split the longer protein sequences and their lables into non-overlapping chunks of certain length or less to account for a given context window of ESM-2 models. Most protein sequences are on average 350 or so residues, so having longer context windows is often unnecessary, but keep in mind this will effect training time and batch size. Here, we pick a context of 1000."
      ]
    },
    {
      "cell_type": "code",
      "execution_count": null,
      "metadata": {
        "id": "laMNBye0Qx3G"
      },
      "outputs": [],
      "source": [
        "def split_into_chunks(sequences, labels, chunk_size = 1000):\n",
        "    \"\"\"Split sequences and labels into chunks of size \"chunk_size\" or less.\"\"\"\n",
        "    new_sequences = []\n",
        "    new_labels = []\n",
        "    for seq, lbl in zip(sequences, labels):\n",
        "        if len(seq) > chunk_size:\n",
        "            # Split the sequence and labels into chunks of size \"chunk_size\" or less\n",
        "            for i in range(0, len(seq), chunk_size):\n",
        "                new_sequences.append(seq[i:i+chunk_size])\n",
        "                new_labels.append(lbl[i:i+chunk_size])\n",
        "        else:\n",
        "            new_sequences.append(seq)\n",
        "            new_labels.append(lbl)\n",
        "\n",
        "    return new_sequences, new_labels\n"
      ]
    },
    {
      "cell_type": "code",
      "execution_count": null,
      "metadata": {
        "id": "govSX7K0Qx3G"
      },
      "outputs": [],
      "source": [
        "# Create lists of sequences and labels\n",
        "test_seq = test_df['Sequence'].tolist()\n",
        "test_labels = test_df['Binding-Active site'].tolist()\n",
        "train_seq = train_df['Sequence'].tolist()\n",
        "train_labels = train_df['Binding-Active site'].tolist()"
      ]
    },
    {
      "cell_type": "code",
      "execution_count": null,
      "metadata": {
        "id": "LSTGHPNHQx3G"
      },
      "outputs": [],
      "source": [
        "# Apply the function to create new datasets with chunks of size \"chunk_size\" or less\n",
        "chunk_size = 1000\n",
        "test_seq, test_labels = split_into_chunks(test_seq, test_labels, chunk_size)\n",
        "train_seq, train_labels = split_into_chunks(train_seq, train_labels, chunk_size)"
      ]
    },
    {
      "cell_type": "code",
      "execution_count": null,
      "metadata": {
        "colab": {
          "base_uri": "https://localhost:8080/"
        },
        "id": "xCeyMIHoj29k",
        "outputId": "018483c0-ba66-4ef5-db0a-a988bf7c9e64"
      },
      "outputs": [
        {
          "name": "stdout",
          "output_type": "stream",
          "text": [
            "100386 24857\n"
          ]
        }
      ],
      "source": [
        "print(len(train_seq), len(test_seq))"
      ]
    },
    {
      "cell_type": "markdown",
      "metadata": {
        "id": "mJNBvxfjkWhA"
      },
      "source": [
        "Because some protein sequences are larger than the established context window of 1000 amino acids, we have 100,386 sequences that will be used to fine-tune ESM-2's protein representations (embeddings) for the task of predicting a binding site, and 24,857 sequences that will be used for testing. Let's have a look at the data sets and labels format:"
      ]
    },
    {
      "cell_type": "code",
      "execution_count": null,
      "metadata": {
        "colab": {
          "base_uri": "https://localhost:8080/"
        },
        "id": "_Vjbd-EfNATC",
        "outputId": "7b8c2ce9-c25f-46b4-fb67-7f086f5406db"
      },
      "outputs": [
        {
          "name": "stdout",
          "output_type": "stream",
          "text": [
            "961\n",
            "961\n"
          ]
        }
      ],
      "source": [
        "print(len(train_seq[0]))\n",
        "print(len(train_labels[0]))"
      ]
    },
    {
      "cell_type": "code",
      "execution_count": null,
      "metadata": {
        "colab": {
          "base_uri": "https://localhost:8080/"
        },
        "id": "rKKwjrI6lKNh",
        "outputId": "72a90e5f-f484-42b0-8844-17ec17fff679"
      },
      "outputs": [
        {
          "data": {
            "text/plain": [
              "['MAASTGYVRLWGAARCWALRRPILAAAGGRVPTAAGAWLFRGRRACDAFPSWALWGRGPVIGGQWRGFWEANSRGGGAFSGGQDASEGGAEEGAGGAGGSAGGGEGPVITALTPMTIPDVFPHLPLIAITRNPVFPRFIKIIEVKNKKLVELLRRKVRLAQPYVGVFLKRDDNNESDVVENLDEIYHTGTFAQIHEMQDLGDKLRMIVMGHRRVHISRQLEVEPEELEAENKHKPRRKSKRGKKEAEDELSARHPTELAMEPAPELPAEVLMVEVENVVHEDFQVTEEVKALTAEIVKTIRDIIALNPLYRESVLQMMQAGQRVVDNPIYLSDMGAALTGAESHELQDVLEETNIPKRLYKALSLLKKEFELSKLQQRLGREVEEKIKQTHRKYLLQEQLKIIKKELGLEKDDKDAIEEKFRERLKELVVPKHVMDVVDEELSKLGLLDNHSSEFNVTRNYLDWLTSIPWGKYSNENLDLVRAQAVLEEDHYGMEDVKKRILEFIAVSQLRGSTQGKILCFYGPPGVGKTSIARSIARALNREYFRFSVGGMTDVAEIKGHRRTYVGAMPGKIIQCLKKTKTENPLILIDEVDKIGRGYQGDPSSALLELLDPEQNANFLDHYLDVPVDLSKVLFICTANVTDTIPEPLRDRMEMINVSGYVAQEKLAIAERYLVPQARALCGLDESKAKLSSDVLTLLIKQYCRESGVRNLQKQVEKVLRKSAYKIVSGEAESVEVTPENLQDFVGKPVFTVERMYDVTPPGVVMGLAWTAMGGSTLFVETSLRRPQDKDAKGDKDGSLEVTGQLGEVMKESARIAYTFARAFLMQHAPANNYLVTSHIHLHVPEGATPKDGPSAGCTIVTALLSLAMGRPVRQNLAMTGEVSLTGKILPVGGIKEKTIAAKRAGVTCIVLPAENKKDFYDLAAFITEGLEVHFVEHYREIFDIAFPDEQAEAEALAVER',\n",
              " 'MAASTGYVRLWGAARCWALRRPMLAAAGGRVPTAAGAWLLRGQRTCDASPPWALWGRGPAIGGQWRGFWEASSRGGGAFSGGEDASEGGAEEGAGGAGGSAGGGEGPVITALTPMTIPDVFPHLPLIAITRNPVFPRFIKIIEVKNKKLVELLRRKVRLAQPYVGVFLKRDDSNESDVVESLDEIYHTGTFAQIHEMQDLGDKLRMIVMGHRRVHISRQLEVEPEEPEAENKHKPRRKSKRGKKEAEDELSARHPAELAMEPTPELPAEVLMVEVENVVHEDFQVTEEVKALTAEIVKTIRDIIALNPLYRESVLQMMQAGQRVVDNPIYLSDMGAALTGAESHELQDVLEETNIPKRLYKALSLLKKEFELSKLQQRLGREVEEKIKQTHRKYLLQEQLKIIKKELGLEKDDKDAIEEKFRERLKELVVPKHVMDVVDEELSKLGLLDNHSSEFNVTRNYLDWLTSIPWGKYSNENLDLARAQAVLEEDHYGMEDVKKRILEFIAVSQLRGSTQGKILCFYGPPGVGKTSIARSIARALNREYFRFSVGGMTDVAEIKGHRRTYVGAMPGKIIQCLKKTKTENPLILIDEVDKIGRGYQGDPSSALLELLDPEQNANFLDHYLDVPVDLSKVLFICTANVTDTIPEPLRDRMEMINVSGYVAQEKLAIAERYLVPQARALCGLDESKAKLSSDVLTLLIKQYCRESGVRNLQKQVEKVLRKSAYKIVSGEAESVEVTPENLQDFVGKPVFTVERMYDVTPPGVVMGLAWTAMGGSTLFVETSLRRPQDKDAKGDKDGSLEVTGQLGDVMKESARIAYTFARAFLMQHAPANDYLVTSHIHLHVPEGATPKDGPSAGCTIVTALLSLAMGRPVRQNLAMTGEVSLTGKILPVGGIKEKTIAAKRAGVTCIVLPAENKKDFYDLAAFITEGLEVHFVEHYREIFDIAFPDEQAEALAVER',\n",
              " 'MTIPDVFPHLPLIAITRNPVFPRFIKIIEVKNKKLVELLRRKVRLAQPYVGVFLKRDDSNESDVVESLDEIYHTGTFAQIHEMQDLGDKLRMIVMGHRRVHISRQLEVEPEEPEAENKHKPRRKSKRGKKEAEDELSARHPAELAMEPTPELPAEVLMVEALTAEIVKTIRDIIALNPLYRESVLQMMQAGQRVVDNPIYLSDMGAALTGAESHELQDVLEETNIPKRLYKALSLLKKEFELSKLQQRLGREVEEKIKQTHRKYLLQEQLKIIKKELGLEKDDKDAIEEKFRERLKELVVPKHVMDVVDEELSKLGLLDNHSSEFNVTRNYLDWLTSIPWGKYSNENLDLARAQAVLEEDHYGMEDVKKRILEFIAVSQLRGSTQGKILCFYGPPGVGKTSIARSIARALNREYFRFSVGGMTDVAEIKGHRRTYVGAMPGKIIQCLKKTKTENPLILIDEVDKIGRGYQGDPSSALLELLDPEQNANFLDHYLDVPVDLSKVLFICTANVTDTIPEPLRDRMEMINVSGYVAQEKLAIAERYLVPQARALCGLDESKAKLSSDVLTLLIKQYCRESGVRNLQKQVEKVLRKSAYKIVSGEAESVEVTPENLQDFVGKPVFTVERMYDVTPPGVVMGLAWTAMGGSTLFVETSLRRPQDKDAKGDKDGSLEVTGQLGEVMKESARIAYTFARAFLMQHAPANDYLVTSHIHLHVPEGATPKDGPSAGCTIVTALLSLAMGRPVRQNLAMTGEVSLTGKILPVGGIKEKTIAAKRAGVTCIVLPAENKKDFYDLAAFITEGLEVHFVEHYREIFDIAFPDEQAEALAVER']"
            ]
          },
          "execution_count": 129,
          "metadata": {},
          "output_type": "execute_result"
        }
      ],
      "source": [
        "train_seq[0:3]"
      ]
    },
    {
      "cell_type": "code",
      "execution_count": null,
      "metadata": {
        "colab": {
          "base_uri": "https://localhost:8080/"
        },
        "id": "HpO5u94cMEUF",
        "outputId": "c2b4d4b4-39f4-49b7-ff5d-e09d90215aa3"
      },
      "outputs": [
        {
          "name": "stdout",
          "output_type": "stream",
          "text": [
            "[0, 0, 0, 0, 0, 0, 0, 0, 0, 0, 0, 0, 0, 0, 0, 0, 0, 0, 0, 0, 0, 0, 0, 0, 0, 0, 0, 0, 0, 0, 0, 0, 0, 0, 0, 0, 0, 0, 0, 0, 0, 0, 0, 0, 0, 0, 0, 0, 0, 0, 0, 0, 0, 0, 0, 0, 0, 0, 0, 0, 0, 0, 0, 0, 0, 0, 0, 0, 0, 0, 0, 0, 0, 0, 0, 0, 0, 0, 0, 0, 0, 0, 0, 0, 0, 0, 0, 0, 0, 0, 0, 0, 0, 0, 0, 0, 0, 0, 0, 0, 0, 0, 0, 0, 0, 0, 0, 0, 0, 0, 0, 0, 0, 0, 0, 0, 0, 0, 0, 0, 0, 0, 0, 0, 0, 0, 0, 0, 0, 0, 0, 0, 0, 0, 0, 0, 0, 0, 0, 0, 0, 0, 0, 0, 0, 0, 0, 0, 0, 0, 0, 0, 0, 0, 0, 0, 0, 0, 0, 0, 0, 0, 0, 0, 0, 0, 0, 0, 0, 0, 0, 0, 0, 0, 0, 0, 0, 0, 0, 0, 0, 0, 0, 0, 0, 0, 0, 0, 0, 0, 0, 0, 0, 0, 0, 0, 0, 0, 0, 0, 0, 0, 0, 0, 0, 0, 0, 0, 0, 0, 0, 0, 0, 0, 0, 0, 0, 0, 0, 0, 0, 0, 0, 0, 0, 0, 0, 0, 0, 0, 0, 0, 0, 0, 0, 0, 0, 0, 0, 0, 0, 0, 0, 0, 0, 0, 0, 0, 0, 0, 0, 0, 0, 0, 0, 0, 0, 0, 0, 0, 0, 0, 0, 0, 0, 0, 0, 0, 0, 0, 0, 0, 0, 0, 0, 0, 0, 0, 0, 0, 0, 0, 0, 0, 0, 0, 0, 0, 0, 0, 0, 0, 0, 0, 0, 0, 0, 0, 0, 0, 0, 0, 0, 0, 0, 0, 0, 0, 0, 0, 0, 0, 0, 0, 0, 0, 0, 0, 0, 0, 0, 0, 0, 0, 0, 0, 0, 0, 0, 0, 0, 0, 0, 0, 0, 0, 0, 0, 0, 0, 0, 0, 0, 0, 0, 0, 0, 0, 0, 0, 0, 0, 0, 0, 0, 0, 0, 0, 0, 0, 0, 0, 0, 0, 0, 0, 0, 0, 0, 0, 0, 0, 0, 0, 0, 0, 0, 0, 0, 0, 0, 0, 0, 0, 0, 0, 0, 0, 0, 0, 0, 0, 0, 0, 0, 0, 0, 0, 0, 0, 0, 0, 0, 0, 0, 0, 0, 0, 0, 0, 0, 0, 0, 0, 0, 0, 0, 0, 0, 0, 0, 0, 0, 0, 0, 0, 0, 0, 0, 0, 0, 0, 0, 0, 0, 0, 0, 0, 0, 0, 0, 0, 0, 0, 0, 0, 0, 0, 0, 0, 0, 0, 0, 0, 0, 0, 0, 0, 0, 0, 0, 0, 0, 0, 0, 0, 0, 0, 0, 0, 0, 0, 0, 0, 0, 0, 0, 0, 0, 0, 0, 0, 0, 0, 0, 0, 0, 0, 0, 0, 0, 0, 0, 0, 0, 0, 0, 0, 0, 0, 0, 0, 0, 0, 0, 0, 0, 0, 0, 0, 0, 0, 0, 0, 0, 0, 0, 0, 0, 0, 0, 0, 1, 1, 1, 1, 1, 1, 1, 1, 0, 0, 0, 0, 0, 0, 0, 0, 0, 0, 0, 0, 0, 0, 0, 0, 0, 0, 0, 0, 0, 0, 0, 0, 0, 0, 0, 0, 0, 0, 0, 0, 0, 0, 0, 0, 0, 0, 0, 0, 0, 0, 0, 0, 0, 0, 0, 0, 0, 0, 0, 0, 0, 0, 0, 0, 0, 0, 0, 0, 0, 0, 0, 0, 0, 0, 0, 0, 0, 0, 0, 0, 0, 0, 0, 0, 0, 0, 0, 0, 0, 0, 0, 0, 0, 0, 0, 0, 0, 0, 0, 0, 0, 0, 0, 0, 0, 0, 0, 0, 0, 0, 0, 0, 0, 0, 0, 0, 0, 0, 0, 0, 0, 0, 0, 0, 0, 0, 0, 0, 0, 0, 0, 0, 0, 0, 0, 0, 0, 0, 0, 0, 0, 0, 0, 0, 0, 0, 0, 0, 0, 0, 0, 0, 0, 0, 0, 0, 0, 0, 0, 0, 0, 0, 0, 0, 0, 0, 0, 0, 0, 0, 0, 0, 0, 0, 0, 0, 0, 0, 0, 0, 0, 0, 0, 0, 0, 0, 0, 0, 0, 0, 0, 0, 0, 0, 0, 0, 0, 0, 0, 0, 0, 0, 0, 0, 0, 0, 0, 0, 0, 0, 0, 0, 0, 0, 0, 0, 0, 0, 0, 0, 0, 0, 0, 0, 0, 0, 0, 0, 0, 0, 0, 0, 0, 0, 0, 0, 0, 0, 0, 0, 0, 0, 0, 0, 0, 0, 0, 0, 0, 0, 0, 0, 0, 0, 0, 0, 0, 0, 0, 0, 0, 0, 0, 0, 0, 0, 0, 0, 0, 0, 0, 0, 0, 0, 0, 0, 0, 0, 0, 0, 0, 0, 0, 0, 0, 0, 0, 0, 0, 0, 0, 0, 0, 0, 0, 0, 0, 0, 0, 0, 0, 0, 0, 0, 0, 0, 0, 0, 0, 0, 0, 0, 0, 0, 0, 0, 0, 0, 0, 0, 0, 0, 0, 0, 0, 0, 0, 0, 0, 0, 0, 0, 1, 0, 0, 0, 0, 0, 0, 0, 0, 0, 0, 0, 0, 0, 0, 0, 0, 0, 0, 0, 0, 0, 0, 0, 0, 0, 0, 0, 0, 0, 0, 0, 0, 0, 0, 0, 0, 0, 0, 0, 0, 0, 0, 1, 0, 0, 0, 0, 0, 0, 0, 0, 0, 0, 0, 0, 0, 0, 0, 0, 0, 0, 0, 0, 0, 0, 0, 0, 0, 0, 0, 0, 0, 0, 0, 0, 0, 0, 0, 0, 0, 0, 0, 0, 0, 0, 0, 0, 0, 0, 0, 0, 0, 0, 0, 0, 0, 0, 0, 0, 0, 0, 0, 0, 0, 0, 0]"
          ]
        }
      ],
      "source": [
        "print(train_labels[0], end=\"\")"
      ]
    },
    {
      "cell_type": "markdown",
      "metadata": {
        "id": "EScMO5tblr9b"
      },
      "source": [
        "As you can see, `train_seq` and `test_seq` are lists of protein sequences, while train_labels and test_labels are lists of 0s and 1s, indicating the presence (1) or absence (0) of active binding site at the corresponding position. Notably, the data is highly unabalanced as most aminoacids in each sequence are not binding sites. These lists are the necessary information to train the model for predicting binding sites given a protein sequence. Now we are all set to start the fine-tuning!"
      ]
    },
    {
      "cell_type": "markdown",
      "metadata": {
        "id": "GZCOHaFoQS7U"
      },
      "source": [
        "Feel free to uncomment the following code to save the train/test and corresponding labels splits for future use."
      ]
    },
    {
      "cell_type": "code",
      "execution_count": null,
      "metadata": {
        "id": "38CRyaDjQQ6m"
      },
      "outputs": [],
      "source": [
        "# file_path = \"/content/gdrive/dataset_name.pkl\"\n",
        "# filename = os.path.splitext(os.path.basename(file_path))[0]\n",
        "# dir = os.path.dirname(file_path)\n",
        "\n",
        "# # Paths to save the new chunked pickle files\n",
        "# test_labels_path =  os.path.join(dir, filename + \"_test_labels_chunked_\" + str(chunk_size) + \".pkl\")\n",
        "# test_seq_path = os.path.join(dir, filename + \"_test_sequences_chunked_\" + str(chunk_size) + \".pkl\")\n",
        "# train_labels_path = os.path.join(dir, filename + \"_train_labels_chunked_\" + str(chunk_size) + \".pkl\")\n",
        "# train_seq_path = os.path.join(dir, filename + \"_train_sequences_chunked_\" + str(chunk_size) + \".pkl\")\n",
        "\n",
        "# # Save both the entire dataset and the chunked datasets as new pickle files\n",
        "# dataset.to_pickle(file_path)\n",
        "# with open(test_labels_path, 'wb') as file:\n",
        "#     pickle.dump(test_labels_chunked, file)\n",
        "# with open(test_seq_path, 'wb') as file:\n",
        "#     pickle.dump(test_seq_chunked, file)\n",
        "# with open(train_labels_path, 'wb') as file:\n",
        "#     pickle.dump(train_labels_chunked, file)\n",
        "# with open(train_seq_path, 'wb') as file:\n",
        "#     pickle.dump(train_seq_chunked, file)\n",
        "\n",
        "# test_labels_path, test_seq_path, train_labels_path, train_seq_path"
      ]
    },
    {
      "cell_type": "markdown",
      "metadata": {
        "id": "nnRqXHILaHoS"
      },
      "source": [
        "## Fine-tuning for binding site prediction <a name=\"finetuning\"></a>\n"
      ]
    },
    {
      "cell_type": "markdown",
      "metadata": {
        "id": "dvO2i8SWavi8"
      },
      "source": [
        "We will now create some helper functions that will be used for data preparation, metric computation, and custom loss calculation. These functions will streamline the process of training and evaluating our model."
      ]
    },
    {
      "cell_type": "code",
      "execution_count": null,
      "metadata": {
        "id": "Wx9AAiT5a9Rb"
      },
      "outputs": [],
      "source": [
        "# Helper Functions and Data Preparation\n",
        "def truncate_labels(labels, max_length):\n",
        "    \"\"\"Truncate labels to the specified max_length.\"\"\"\n",
        "    return [label[:max_length] for label in labels]\n",
        "\n",
        "def compute_metrics_train(p):\n",
        "    \"\"\"Compute metrics for evaluation.\"\"\"\n",
        "    predictions, labels = p\n",
        "    predictions = np.argmax(predictions, axis=2)\n",
        "\n",
        "    # Remove padding (-100 labels)\n",
        "    predictions = predictions[labels != -100].flatten()\n",
        "    labels = labels[labels != -100].flatten()\n",
        "\n",
        "    # Compute accuracy\n",
        "    accuracy = accuracy_score(labels, predictions)\n",
        "\n",
        "    # Compute precision, recall, F1 score, and AUC\n",
        "    precision, recall, f1, _ = precision_recall_fscore_support(labels, predictions, average='binary')\n",
        "    auc = roc_auc_score(labels, predictions)\n",
        "\n",
        "    # Compute MCC\n",
        "    mcc = matthews_corrcoef(labels, predictions)\n",
        "\n",
        "    return {'accuracy': accuracy, 'precision': precision, 'recall': recall, 'f1': f1, 'auc': auc, 'mcc': mcc}\n",
        "\n",
        "def compute_loss(model, inputs):\n",
        "    \"\"\"Custom compute_loss function.\"\"\"\n",
        "    logits = model(**inputs).logits\n",
        "    labels = inputs[\"labels\"]\n",
        "    loss_fct = nn.CrossEntropyLoss(weight=class_weights)\n",
        "    active_loss = inputs[\"attention_mask\"].view(-1) == 1\n",
        "    active_logits = logits.view(-1, model.config.num_labels)\n",
        "    active_labels = torch.where(\n",
        "        active_loss, labels.view(-1), torch.tensor(loss_fct.ignore_index).type_as(labels)\n",
        "    )\n",
        "    loss = loss_fct(active_logits, active_labels)\n",
        "    return loss\n"
      ]
    },
    {
      "cell_type": "markdown",
      "metadata": {
        "id": "s7uxPNhxkqig"
      },
      "source": [
        "### Tokenization"
      ]
    },
    {
      "cell_type": "markdown",
      "metadata": {
        "id": "Q5kDA7DxmKO1"
      },
      "source": [
        "Tokenizers are responsible for converting the raw protein sequences into a format or a representation that the model can understand, typically by mapping amino acids to numerical tokens. We can load a pre-trained tokenizer from the Hugging Face library. In particular, the tokenizer we will use is specific to the ESM-2 model pre-trained with 6 layers and 8 million parameters."
      ]
    },
    {
      "cell_type": "markdown",
      "metadata": {
        "id": "szeif-UmmvYh"
      },
      "source": [
        "When calling the tokenizer, you set a maximum sequence length of residues, in this case, 1000. This is particularly important if the data has not been chunked during the preprocessing, because models have a limit on the sequence length they can process. If sequences are longer than this limit, they will be truncated, and if they are shorter, they will be padded. See more of padding and truncation at this [link](https://huggingface.co/docs/transformers/en/pad_truncation).\n",
        "\n",
        "Finally, you want the tokenizer to return the actual tensors that will be fed to the model. Set the return_tensors parameter to either 'pt' for PyTorch, or 'tf' for TensorFlow. Here, we will use PyTorch, hence 'pt'."
      ]
    },
    {
      "cell_type": "code",
      "execution_count": null,
      "metadata": {
        "id": "sUv_JhFTbNJ0"
      },
      "outputs": [],
      "source": [
        "# Tokenization from ESM2 6 layers 8M parameters\n",
        "tokenizer = AutoTokenizer.from_pretrained(\"facebook/esm2_t6_8M_UR50D\")\n",
        "max_sequence_length = 1000 # here note that data was processed with chunks (context window) of 1000 residues - adapt accordingly\n",
        "\n",
        "train_tokenized = tokenizer(train_seq, padding=True, truncation=True, max_length=max_sequence_length, return_tensors=\"pt\", is_split_into_words=False)\n",
        "test_tokenized = tokenizer(test_seq, padding=True, truncation=True, max_length=max_sequence_length, return_tensors=\"pt\", is_split_into_words=False)"
      ]
    },
    {
      "cell_type": "code",
      "execution_count": null,
      "metadata": {
        "colab": {
          "base_uri": "https://localhost:8080/"
        },
        "id": "Jxrm3o-snS8M",
        "outputId": "e7e72265-ba03-437b-b750-86affb2e128c"
      },
      "outputs": [
        {
          "data": {
            "text/plain": [
              "{'input_ids': tensor([[ 0, 20,  5,  ...,  1,  1,  1],\n",
              "        [ 0, 20,  5,  ...,  1,  1,  1],\n",
              "        [ 0, 20, 11,  ...,  1,  1,  1],\n",
              "        ...,\n",
              "        [ 0, 10, 12,  ...,  1,  1,  1],\n",
              "        [ 0, 20,  8,  ...,  1,  1,  1],\n",
              "        [ 0, 20,  4,  ...,  1,  1,  1]]), 'attention_mask': tensor([[1, 1, 1,  ..., 0, 0, 0],\n",
              "        [1, 1, 1,  ..., 0, 0, 0],\n",
              "        [1, 1, 1,  ..., 0, 0, 0],\n",
              "        ...,\n",
              "        [1, 1, 1,  ..., 0, 0, 0],\n",
              "        [1, 1, 1,  ..., 0, 0, 0],\n",
              "        [1, 1, 1,  ..., 0, 0, 0]])}"
            ]
          },
          "execution_count": 133,
          "metadata": {},
          "output_type": "execute_result"
        }
      ],
      "source": [
        "train_tokenized"
      ]
    },
    {
      "cell_type": "markdown",
      "metadata": {
        "id": "3jK384sJkvt1"
      },
      "source": [
        "The tokenizer returns a dictionary with two items:\n",
        "\n",
        "- input_ids: are the indices corresponding to each token in the sentence.\n",
        "- attention_mask: indicates whether a token should be attended to or not."
      ]
    },
    {
      "cell_type": "code",
      "execution_count": null,
      "metadata": {
        "colab": {
          "base_uri": "https://localhost:8080/"
        },
        "id": "sPlEUaTIn5y8",
        "outputId": "09b446af-5e79-4651-d7ef-c8f8e44e38f5"
      },
      "outputs": [
        {
          "name": "stdout",
          "output_type": "stream",
          "text": [
            "MAASTGYVRLWGAARCWALRRPILAAAGGRVPTAAGAWLFRGRRACDAFPSWALWGRGPVIGGQWRGFWEANSRGGGAFSGGQDASEGGAEEGAGGAGGSAGGGEGPVITALTPMTIPDVFPHLPLIAITRNPVFPRFIKIIEVKNKKLVELLRRKVRLAQPYVGVFLKRDDNNESDVVENLDEIYHTGTFAQIHEMQDLGDKLRMIVMGHRRVHISRQLEVEPEELEAENKHKPRRKSKRGKKEAEDELSARHPTELAMEPAPELPAEVLMVEVENVVHEDFQVTEEVKALTAEIVKTIRDIIALNPLYRESVLQMMQAGQRVVDNPIYLSDMGAALTGAESHELQDVLEETNIPKRLYKALSLLKKEFELSKLQQRLGREVEEKIKQTHRKYLLQEQLKIIKKELGLEKDDKDAIEEKFRERLKELVVPKHVMDVVDEELSKLGLLDNHSSEFNVTRNYLDWLTSIPWGKYSNENLDLVRAQAVLEEDHYGMEDVKKRILEFIAVSQLRGSTQGKILCFYGPPGVGKTSIARSIARALNREYFRFSVGGMTDVAEIKGHRRTYVGAMPGKIIQCLKKTKTENPLILIDEVDKIGRGYQGDPSSALLELLDPEQNANFLDHYLDVPVDLSKVLFICTANVTDTIPEPLRDRMEMINVSGYVAQEKLAIAERYLVPQARALCGLDESKAKLSSDVLTLLIKQYCRESGVRNLQKQVEKVLRKSAYKIVSGEAESVEVTPENLQDFVGKPVFTVERMYDVTPPGVVMGLAWTAMGGSTLFVETSLRRPQDKDAKGDKDGSLEVTGQLGEVMKESARIAYTFARAFLMQHAPANNYLVTSHIHLHVPEGATPKDGPSAGCTIVTALLSLAMGRPVRQNLAMTGEVSLTGKILPVGGIKEKTIAAKRAGVTCIVLPAENKKDFYDLAAFITEGLEVHFVEHYREIFDIAFPDEQAEAEALAVER\n",
            "{'input_ids': [0, 20, 5, 5, 8, 11, 6, 19, 7, 10, 4, 22, 6, 5, 5, 10, 23, 22, 5, 4, 10, 10, 14, 12, 4, 5, 5, 5, 6, 6, 10, 7, 14, 11, 5, 5, 6, 5, 22, 4, 18, 10, 6, 10, 10, 5, 23, 13, 5, 18, 14, 8, 22, 5, 4, 22, 6, 10, 6, 14, 7, 12, 6, 6, 16, 22, 10, 6, 18, 22, 9, 5, 17, 8, 10, 6, 6, 6, 5, 18, 8, 6, 6, 16, 13, 5, 8, 9, 6, 6, 5, 9, 9, 6, 5, 6, 6, 5, 6, 6, 8, 5, 6, 6, 6, 9, 6, 14, 7, 12, 11, 5, 4, 11, 14, 20, 11, 12, 14, 13, 7, 18, 14, 21, 4, 14, 4, 12, 5, 12, 11, 10, 17, 14, 7, 18, 14, 10, 18, 12, 15, 12, 12, 9, 7, 15, 17, 15, 15, 4, 7, 9, 4, 4, 10, 10, 15, 7, 10, 4, 5, 16, 14, 19, 7, 6, 7, 18, 4, 15, 10, 13, 13, 17, 17, 9, 8, 13, 7, 7, 9, 17, 4, 13, 9, 12, 19, 21, 11, 6, 11, 18, 5, 16, 12, 21, 9, 20, 16, 13, 4, 6, 13, 15, 4, 10, 20, 12, 7, 20, 6, 21, 10, 10, 7, 21, 12, 8, 10, 16, 4, 9, 7, 9, 14, 9, 9, 4, 9, 5, 9, 17, 15, 21, 15, 14, 10, 10, 15, 8, 15, 10, 6, 15, 15, 9, 5, 9, 13, 9, 4, 8, 5, 10, 21, 14, 11, 9, 4, 5, 20, 9, 14, 5, 14, 9, 4, 14, 5, 9, 7, 4, 20, 7, 9, 7, 9, 17, 7, 7, 21, 9, 13, 18, 16, 7, 11, 9, 9, 7, 15, 5, 4, 11, 5, 9, 12, 7, 15, 11, 12, 10, 13, 12, 12, 5, 4, 17, 14, 4, 19, 10, 9, 8, 7, 4, 16, 20, 20, 16, 5, 6, 16, 10, 7, 7, 13, 17, 14, 12, 19, 4, 8, 13, 20, 6, 5, 5, 4, 11, 6, 5, 9, 8, 21, 9, 4, 16, 13, 7, 4, 9, 9, 11, 17, 12, 14, 15, 10, 4, 19, 15, 5, 4, 8, 4, 4, 15, 15, 9, 18, 9, 4, 8, 15, 4, 16, 16, 10, 4, 6, 10, 9, 7, 9, 9, 15, 12, 15, 16, 11, 21, 10, 15, 19, 4, 4, 16, 9, 16, 4, 15, 12, 12, 15, 15, 9, 4, 6, 4, 9, 15, 13, 13, 15, 13, 5, 12, 9, 9, 15, 18, 10, 9, 10, 4, 15, 9, 4, 7, 7, 14, 15, 21, 7, 20, 13, 7, 7, 13, 9, 9, 4, 8, 15, 4, 6, 4, 4, 13, 17, 21, 8, 8, 9, 18, 17, 7, 11, 10, 17, 19, 4, 13, 22, 4, 11, 8, 12, 14, 22, 6, 15, 19, 8, 17, 9, 17, 4, 13, 4, 7, 10, 5, 16, 5, 7, 4, 9, 9, 13, 21, 19, 6, 20, 9, 13, 7, 15, 15, 10, 12, 4, 9, 18, 12, 5, 7, 8, 16, 4, 10, 6, 8, 11, 16, 6, 15, 12, 4, 23, 18, 19, 6, 14, 14, 6, 7, 6, 15, 11, 8, 12, 5, 10, 8, 12, 5, 10, 5, 4, 17, 10, 9, 19, 18, 10, 18, 8, 7, 6, 6, 20, 11, 13, 7, 5, 9, 12, 15, 6, 21, 10, 10, 11, 19, 7, 6, 5, 20, 14, 6, 15, 12, 12, 16, 23, 4, 15, 15, 11, 15, 11, 9, 17, 14, 4, 12, 4, 12, 13, 9, 7, 13, 15, 12, 6, 10, 6, 19, 16, 6, 13, 14, 8, 8, 5, 4, 4, 9, 4, 4, 13, 14, 9, 16, 17, 5, 17, 18, 4, 13, 21, 19, 4, 13, 7, 14, 7, 13, 4, 8, 15, 7, 4, 18, 12, 23, 11, 5, 17, 7, 11, 13, 11, 12, 14, 9, 14, 4, 10, 13, 10, 20, 9, 20, 12, 17, 7, 8, 6, 19, 7, 5, 16, 9, 15, 4, 5, 12, 5, 9, 10, 19, 4, 7, 14, 16, 5, 10, 5, 4, 23, 6, 4, 13, 9, 8, 15, 5, 15, 4, 8, 8, 13, 7, 4, 11, 4, 4, 12, 15, 16, 19, 23, 10, 9, 8, 6, 7, 10, 17, 4, 16, 15, 16, 7, 9, 15, 7, 4, 10, 15, 8, 5, 19, 15, 12, 7, 8, 6, 9, 5, 9, 8, 7, 9, 7, 11, 14, 9, 17, 4, 16, 13, 18, 7, 6, 15, 14, 7, 18, 11, 7, 9, 10, 20, 19, 13, 7, 11, 14, 14, 6, 7, 7, 20, 6, 4, 5, 22, 11, 5, 20, 6, 6, 8, 11, 4, 18, 7, 9, 11, 8, 4, 10, 10, 14, 16, 13, 15, 13, 5, 15, 6, 13, 15, 13, 6, 8, 4, 9, 7, 11, 6, 16, 4, 6, 9, 7, 20, 15, 9, 8, 5, 10, 12, 5, 19, 11, 18, 5, 10, 5, 18, 4, 20, 16, 21, 5, 14, 5, 17, 17, 19, 4, 7, 11, 8, 21, 12, 21, 4, 21, 7, 14, 9, 6, 5, 11, 14, 15, 13, 6, 14, 8, 5, 6, 23, 11, 12, 7, 11, 5, 4, 4, 8, 4, 5, 20, 6, 10, 14, 7, 10, 16, 17, 4, 5, 20, 11, 6, 9, 7, 8, 4, 11, 6, 15, 12, 4, 14, 7, 6, 6, 12, 15, 9, 15, 11, 12, 5, 5, 15, 10, 5, 6, 7, 11, 23, 12, 7, 4, 14, 5, 9, 17, 15, 15, 13, 18, 19, 13, 4, 5, 5, 18, 12, 11, 9, 6, 4, 9, 7, 21, 18, 7, 9, 21, 19, 10, 9, 12, 18, 13, 12, 5, 18, 14, 13, 9, 16, 5, 9, 5, 9, 5, 4, 5, 7, 9, 10, 2], 'attention_mask': [1, 1, 1, 1, 1, 1, 1, 1, 1, 1, 1, 1, 1, 1, 1, 1, 1, 1, 1, 1, 1, 1, 1, 1, 1, 1, 1, 1, 1, 1, 1, 1, 1, 1, 1, 1, 1, 1, 1, 1, 1, 1, 1, 1, 1, 1, 1, 1, 1, 1, 1, 1, 1, 1, 1, 1, 1, 1, 1, 1, 1, 1, 1, 1, 1, 1, 1, 1, 1, 1, 1, 1, 1, 1, 1, 1, 1, 1, 1, 1, 1, 1, 1, 1, 1, 1, 1, 1, 1, 1, 1, 1, 1, 1, 1, 1, 1, 1, 1, 1, 1, 1, 1, 1, 1, 1, 1, 1, 1, 1, 1, 1, 1, 1, 1, 1, 1, 1, 1, 1, 1, 1, 1, 1, 1, 1, 1, 1, 1, 1, 1, 1, 1, 1, 1, 1, 1, 1, 1, 1, 1, 1, 1, 1, 1, 1, 1, 1, 1, 1, 1, 1, 1, 1, 1, 1, 1, 1, 1, 1, 1, 1, 1, 1, 1, 1, 1, 1, 1, 1, 1, 1, 1, 1, 1, 1, 1, 1, 1, 1, 1, 1, 1, 1, 1, 1, 1, 1, 1, 1, 1, 1, 1, 1, 1, 1, 1, 1, 1, 1, 1, 1, 1, 1, 1, 1, 1, 1, 1, 1, 1, 1, 1, 1, 1, 1, 1, 1, 1, 1, 1, 1, 1, 1, 1, 1, 1, 1, 1, 1, 1, 1, 1, 1, 1, 1, 1, 1, 1, 1, 1, 1, 1, 1, 1, 1, 1, 1, 1, 1, 1, 1, 1, 1, 1, 1, 1, 1, 1, 1, 1, 1, 1, 1, 1, 1, 1, 1, 1, 1, 1, 1, 1, 1, 1, 1, 1, 1, 1, 1, 1, 1, 1, 1, 1, 1, 1, 1, 1, 1, 1, 1, 1, 1, 1, 1, 1, 1, 1, 1, 1, 1, 1, 1, 1, 1, 1, 1, 1, 1, 1, 1, 1, 1, 1, 1, 1, 1, 1, 1, 1, 1, 1, 1, 1, 1, 1, 1, 1, 1, 1, 1, 1, 1, 1, 1, 1, 1, 1, 1, 1, 1, 1, 1, 1, 1, 1, 1, 1, 1, 1, 1, 1, 1, 1, 1, 1, 1, 1, 1, 1, 1, 1, 1, 1, 1, 1, 1, 1, 1, 1, 1, 1, 1, 1, 1, 1, 1, 1, 1, 1, 1, 1, 1, 1, 1, 1, 1, 1, 1, 1, 1, 1, 1, 1, 1, 1, 1, 1, 1, 1, 1, 1, 1, 1, 1, 1, 1, 1, 1, 1, 1, 1, 1, 1, 1, 1, 1, 1, 1, 1, 1, 1, 1, 1, 1, 1, 1, 1, 1, 1, 1, 1, 1, 1, 1, 1, 1, 1, 1, 1, 1, 1, 1, 1, 1, 1, 1, 1, 1, 1, 1, 1, 1, 1, 1, 1, 1, 1, 1, 1, 1, 1, 1, 1, 1, 1, 1, 1, 1, 1, 1, 1, 1, 1, 1, 1, 1, 1, 1, 1, 1, 1, 1, 1, 1, 1, 1, 1, 1, 1, 1, 1, 1, 1, 1, 1, 1, 1, 1, 1, 1, 1, 1, 1, 1, 1, 1, 1, 1, 1, 1, 1, 1, 1, 1, 1, 1, 1, 1, 1, 1, 1, 1, 1, 1, 1, 1, 1, 1, 1, 1, 1, 1, 1, 1, 1, 1, 1, 1, 1, 1, 1, 1, 1, 1, 1, 1, 1, 1, 1, 1, 1, 1, 1, 1, 1, 1, 1, 1, 1, 1, 1, 1, 1, 1, 1, 1, 1, 1, 1, 1, 1, 1, 1, 1, 1, 1, 1, 1, 1, 1, 1, 1, 1, 1, 1, 1, 1, 1, 1, 1, 1, 1, 1, 1, 1, 1, 1, 1, 1, 1, 1, 1, 1, 1, 1, 1, 1, 1, 1, 1, 1, 1, 1, 1, 1, 1, 1, 1, 1, 1, 1, 1, 1, 1, 1, 1, 1, 1, 1, 1, 1, 1, 1, 1, 1, 1, 1, 1, 1, 1, 1, 1, 1, 1, 1, 1, 1, 1, 1, 1, 1, 1, 1, 1, 1, 1, 1, 1, 1, 1, 1, 1, 1, 1, 1, 1, 1, 1, 1, 1, 1, 1, 1, 1, 1, 1, 1, 1, 1, 1, 1, 1, 1, 1, 1, 1, 1, 1, 1, 1, 1, 1, 1, 1, 1, 1, 1, 1, 1, 1, 1, 1, 1, 1, 1, 1, 1, 1, 1, 1, 1, 1, 1, 1, 1, 1, 1, 1, 1, 1, 1, 1, 1, 1, 1, 1, 1, 1, 1, 1, 1, 1, 1, 1, 1, 1, 1, 1, 1, 1, 1, 1, 1, 1, 1, 1, 1, 1, 1, 1, 1, 1, 1, 1, 1, 1, 1, 1, 1, 1, 1, 1, 1, 1, 1, 1, 1, 1, 1, 1, 1, 1, 1, 1, 1, 1, 1, 1, 1, 1, 1, 1, 1, 1, 1, 1, 1, 1, 1, 1, 1, 1, 1, 1, 1, 1, 1, 1, 1, 1, 1, 1, 1, 1, 1, 1, 1, 1, 1, 1, 1, 1, 1, 1, 1, 1, 1, 1, 1, 1, 1, 1, 1, 1, 1, 1, 1, 1, 1, 1, 1, 1, 1, 1, 1, 1, 1, 1, 1, 1, 1, 1, 1, 1, 1, 1, 1, 1, 1, 1, 1, 1, 1, 1, 1, 1, 1, 1, 1, 1, 1, 1, 1, 1, 1, 1, 1, 1, 1, 1, 1, 1, 1, 1, 1, 1, 1, 1, 1, 1, 1, 1, 1, 1, 1, 1, 1, 1, 1, 1, 1, 1, 1, 1, 1, 1, 1, 1, 1, 1, 1, 1, 1, 1, 1, 1, 1, 1, 1, 1, 1, 1, 1, 1, 1, 1, 1, 1, 1, 1, 1, 1, 1, 1, 1, 1, 1, 1, 1, 1, 1, 1, 1, 1, 1, 1, 1, 1, 1, 1, 1, 1, 1, 1, 1, 1, 1, 1, 1, 1, 1, 1, 1, 1, 1, 1, 1, 1, 1, 1, 1]}\n"
          ]
        }
      ],
      "source": [
        "print(train_seq[0])\n",
        "encoded_input = tokenizer(train_seq[0])\n",
        "print(encoded_input)"
      ]
    },
    {
      "cell_type": "code",
      "execution_count": null,
      "metadata": {
        "colab": {
          "base_uri": "https://localhost:8080/",
          "height": 105
        },
        "id": "CRrGURszoMDe",
        "outputId": "7b855fa3-3f8a-43e1-f29c-62de3ac80a4e"
      },
      "outputs": [
        {
          "data": {
            "application/vnd.google.colaboratory.intrinsic+json": {
              "type": "string"
            },
            "text/plain": [
              "'<cls> M A A S T G Y V R L W G A A R C W A L R R P I L A A A G G R V P T A A G A W L F R G R R A C D A F P S W A L W G R G P V I G G Q W R G F W E A N S R G G G A F S G G Q D A S E G G A E E G A G G A G G S A G G G E G P V I T A L T P M T I P D V F P H L P L I A I T R N P V F P R F I K I I E V K N K K L V E L L R R K V R L A Q P Y V G V F L K R D D N N E S D V V E N L D E I Y H T G T F A Q I H E M Q D L G D K L R M I V M G H R R V H I S R Q L E V E P E E L E A E N K H K P R R K S K R G K K E A E D E L S A R H P T E L A M E P A P E L P A E V L M V E V E N V V H E D F Q V T E E V K A L T A E I V K T I R D I I A L N P L Y R E S V L Q M M Q A G Q R V V D N P I Y L S D M G A A L T G A E S H E L Q D V L E E T N I P K R L Y K A L S L L K K E F E L S K L Q Q R L G R E V E E K I K Q T H R K Y L L Q E Q L K I I K K E L G L E K D D K D A I E E K F R E R L K E L V V P K H V M D V V D E E L S K L G L L D N H S S E F N V T R N Y L D W L T S I P W G K Y S N E N L D L V R A Q A V L E E D H Y G M E D V K K R I L E F I A V S Q L R G S T Q G K I L C F Y G P P G V G K T S I A R S I A R A L N R E Y F R F S V G G M T D V A E I K G H R R T Y V G A M P G K I I Q C L K K T K T E N P L I L I D E V D K I G R G Y Q G D P S S A L L E L L D P E Q N A N F L D H Y L D V P V D L S K V L F I C T A N V T D T I P E P L R D R M E M I N V S G Y V A Q E K L A I A E R Y L V P Q A R A L C G L D E S K A K L S S D V L T L L I K Q Y C R E S G V R N L Q K Q V E K V L R K S A Y K I V S G E A E S V E V T P E N L Q D F V G K P V F T V E R M Y D V T P P G V V M G L A W T A M G G S T L F V E T S L R R P Q D K D A K G D K D G S L E V T G Q L G E V M K E S A R I A Y T F A R A F L M Q H A P A N N Y L V T S H I H L H V P E G A T P K D G P S A G C T I V T A L L S L A M G R P V R Q N L A M T G E V S L T G K I L P V G G I K E K T I A A K R A G V T C I V L P A E N K K D F Y D L A A F I T E G L E V H F V E H Y R E I F D I A F P D E Q A E A E A L A V E R <eos>'"
            ]
          },
          "execution_count": 135,
          "metadata": {},
          "output_type": "execute_result"
        }
      ],
      "source": [
        "tokenizer.decode(encoded_input[\"input_ids\"])"
      ]
    },
    {
      "cell_type": "code",
      "execution_count": null,
      "metadata": {
        "colab": {
          "base_uri": "https://localhost:8080/"
        },
        "id": "k2vZqh-voSu_",
        "outputId": "98942e22-36c5-4923-b759-9c5f56e5fe23"
      },
      "outputs": [
        {
          "name": "stdout",
          "output_type": "stream",
          "text": [
            "961 963\n"
          ]
        }
      ],
      "source": [
        "print(len(train_seq[0]), len(encoded_input[\"input_ids\"]))"
      ]
    },
    {
      "cell_type": "markdown",
      "metadata": {
        "id": "JPG5iPcTnt19"
      },
      "source": [
        "You may have noticed that the tokenizer has added two special tokens - '< cls >' and '< eos >' (classifier and separator) - to the sentence. This is why the length of *encoded_input* is 2 items larger than the original sequence. Not all models need special tokens, but if they do, the tokenizer automatically adds them for you."
      ]
    },
    {
      "cell_type": "markdown",
      "metadata": {
        "id": "Gwu5MWgNqZeV"
      },
      "source": [
        "Now the embeddings (or tokenized/encoded sequences) and the attention masks are tensors, ready to be fed to the model. The labels need to be truncated correspondingly, and we add them to the train_tokenized and test_tokenized dictionaries, which will be used to feed data into the model during the training and testing phases."
      ]
    },
    {
      "cell_type": "code",
      "execution_count": null,
      "metadata": {
        "id": "e9ySE9iTmy_C"
      },
      "outputs": [],
      "source": [
        "# Directly truncate the entire list of labels\n",
        "train_labels = truncate_labels(train_labels, max_sequence_length)\n",
        "test_labels = truncate_labels(test_labels, max_sequence_length)\n",
        "\n",
        "train_dataset = Dataset.from_dict({k: v for k, v in train_tokenized.items()}).add_column(\"labels\", train_labels)\n",
        "test_dataset = Dataset.from_dict({k: v for k, v in test_tokenized.items()}).add_column(\"labels\", test_labels)"
      ]
    },
    {
      "cell_type": "markdown",
      "metadata": {
        "id": "SdFzMERhrRwU"
      },
      "source": [
        "### Training"
      ]
    },
    {
      "cell_type": "markdown",
      "metadata": {
        "id": "ET8rsavKrjXD"
      },
      "source": [
        "The class AutoModelForTokenClassification from the Hugging Face library has been designed for token classification tasks. Token classification involves assigning a label to each token in the input sequence. In the context of protein sequences, each token corresponds to an amino acid residue.\n",
        "\n",
        "We load the pre-trained ESM-2 model with 6 layers and 8 million parameters. The model has already been trained on a large dataset and can be fine-tuned for specific tasks with less training data. This allows the model to adapt to the nuances of the task while leveraging the general features it has already learned.\n",
        "\n",
        "The model will be fine-tuned to classify each residue in the sequence as either a binding site or a non-binding site, leveraging the powerful features learned during pre-training. In this case, the classification is binary, so there are 2 labels corresponding to \"binding site\" and \"non-binding site\" residues."
      ]
    },
    {
      "cell_type": "code",
      "execution_count": null,
      "metadata": {
        "colab": {
          "base_uri": "https://localhost:8080/"
        },
        "id": "CYfdGzH3rTNS",
        "outputId": "4d7ace03-c498-4fba-ab32-4f66eeae2a59"
      },
      "outputs": [
        {
          "name": "stderr",
          "output_type": "stream",
          "text": [
            "Some weights of EsmForTokenClassification were not initialized from the model checkpoint at facebook/esm2_t6_8M_UR50D and are newly initialized: ['classifier.bias', 'classifier.weight']\n",
            "You should probably TRAIN this model on a down-stream task to be able to use it for predictions and inference.\n"
          ]
        }
      ],
      "source": [
        "model = AutoModelForTokenClassification.from_pretrained(\"facebook/esm2_t6_8M_UR50D\", num_labels=2)"
      ]
    },
    {
      "cell_type": "markdown",
      "metadata": {
        "id": "bLTMYHWJtVse"
      },
      "source": [
        "Let's configure the training process. Through the class TrainingArguments one ca define aspects such as where to save the model, how often to evaluate, and which metric to use for selecting the best model, among others.\n",
        "\n",
        "Here we define the evaluation to happen at the end of each epoch to monitor the model's performance and making adjustments if necessary. The model will also be saved at the end of each epoch so that there are checkpoints to revert to in case of any issues during training.\n",
        "\n",
        "Choosing an appropriate metric to optimize the model for is crucial for model evaluation. The F1 score is a good choice for classification tasks, especially when dealing with imbalanced classes, but feel free to explore others like AUC or accuracy."
      ]
    },
    {
      "cell_type": "markdown",
      "metadata": {
        "id": "UQ2I3Ko1uX3j"
      },
      "source": [
        "Defining this kind of configuration setup ensures that you have a robust and reproducible training pipeline for your ESM-2 model, and helps the training process to be well-organized, with checkpoints and evaluations at each epoch, and the best model is selected based on the F1 score."
      ]
    },
    {
      "cell_type": "code",
      "execution_count": null,
      "metadata": {
        "id": "c_BgLoWLuceW"
      },
      "outputs": [],
      "source": [
        "timestamp = datetime.now().strftime('%Y-%m-%d_%H-%M-%S')\n",
        "training_args = TrainingArguments(\n",
        "    output_dir=f\"/content/gdrive/MyDrive/ESMbind/data/trained_models/esm2_t6_8M-binding-sites_{timestamp}\",\n",
        "    seed=42,\n",
        "    num_train_epochs = 3,\n",
        "    eval_strategy=\"epoch\",\n",
        "    save_strategy=\"epoch\",\n",
        "    load_best_model_at_end=True,\n",
        "    metric_for_best_model=\"f1\",\n",
        "    greater_is_better=True,\n",
        "    logging_dir=f\"/content/gdrive/MyDrive/ESMbind/data/trained_logs/esm2_t6_8M-binding-sites_{timestamp}\",\n",
        "    logging_strategy=\"steps\",\n",
        "    logging_steps=10,\n",
        "    save_total_limit=5,\n",
        "    fp16=True,\n",
        "    report_to=\"none\"  # Disable wandb\n",
        ")\n"
      ]
    },
    {
      "cell_type": "markdown",
      "metadata": {
        "id": "xwskRBsVv7VK"
      },
      "source": [
        "We will make use of the class Trainer from the 🤗 Transformers library to train (finetune) the pre-trained ESM-2 model. This class is optimized for training 🤗 Transformers models, making it easier to start training without manually writing your own training loop.\n"
      ]
    },
    {
      "cell_type": "markdown",
      "metadata": {
        "id": "MwJq8NhRuln-"
      },
      "source": [
        "In the Trainer object, model performance is not automatically evaluated during training. You’ll need to pass Trainer a function to compute and report metrics. We define a function to set up a comprehensive evaluation framework to assess the model's performance. This includes computing various evaluation metrics for the model's predictions, including accuracy, precision, recall, F1, AUC and MCC."
      ]
    },
    {
      "cell_type": "code",
      "execution_count": null,
      "metadata": {
        "id": "UXqHYEB0ujJ6"
      },
      "outputs": [],
      "source": [
        "def compute_metrics_train(eval_pred):\n",
        "    \"\"\"Compute metrics for evaluation.\"\"\"\n",
        "    predictions, labels = eval_pred\n",
        "    predictions = np.argmax(predictions, axis=2)\n",
        "\n",
        "    # Remove padding (-100 labels)\n",
        "    predictions = predictions[labels != -100].flatten()\n",
        "    labels = labels[labels != -100].flatten()\n",
        "\n",
        "    # Compute accuracy\n",
        "    accuracy = accuracy_score(labels, predictions)\n",
        "\n",
        "    # Compute precision, recall, F1 score, and AUC\n",
        "    precision, recall, f1, _ = precision_recall_fscore_support(labels, predictions, average='binary')\n",
        "    auc = roc_auc_score(labels, predictions)\n",
        "\n",
        "    # Compute MCC\n",
        "    mcc = matthews_corrcoef(labels, predictions)\n",
        "\n",
        "    return {'accuracy': accuracy, 'precision': precision, 'recall': recall, 'f1': f1, 'auc': auc, 'mcc': mcc}"
      ]
    },
    {
      "cell_type": "code",
      "execution_count": null,
      "metadata": {
        "id": "v2FIpdVWuesu"
      },
      "outputs": [],
      "source": [
        "trainer = Trainer(\n",
        "    model=model,\n",
        "    args=training_args,\n",
        "    train_dataset=train_dataset,\n",
        "    eval_dataset=test_dataset,\n",
        "    compute_metrics=compute_metrics_train,\n",
        "    tokenizer=tokenizer,\n",
        "    data_collator=DataCollatorForTokenClassification(tokenizer=tokenizer)\n",
        "\n",
        ")"
      ]
    },
    {
      "cell_type": "markdown",
      "metadata": {
        "id": "AY2vQ0gyyegQ"
      },
      "source": [
        "Most arguments of the Trainer instance have been already defined and explained. The DataCollatorForTokenClassification class is used to collate batches of data for token classification tasks. It ensures that the input data is properly formatted and padded for the model."
      ]
    },
    {
      "cell_type": "markdown",
      "metadata": {
        "id": "68OezyD6tb_k"
      },
      "source": [
        "Now we are all set to start the training. Mind that this can take a few hours, feel free to reduce the number of epochs to reduce training time."
      ]
    },
    {
      "cell_type": "code",
      "execution_count": null,
      "metadata": {
        "id": "-6KvLxvmyt84"
      },
      "outputs": [],
      "source": [
        "trainer.train()"
      ]
    },
    {
      "cell_type": "markdown",
      "metadata": {
        "id": "PdrzwhJ40ocQ"
      },
      "source": [
        "Let's save the trained model's weights and configuration, so we can reload the model later for inference or further training. You may also want to save the tokenizer, which is needed for preprocessing the sequence data in the same way it was done during training, ensuring consistency when the model is used later."
      ]
    },
    {
      "cell_type": "code",
      "execution_count": null,
      "metadata": {
        "colab": {
          "base_uri": "https://localhost:8080/"
        },
        "id": "HumEAPkfz--0",
        "outputId": "731ca782-6222-4047-a3e3-b36f28e9e55f"
      },
      "outputs": [
        {
          "data": {
            "text/plain": [
              "('/content/gdrive/MyDrive/ESMbind/results/binding_sites/best_model_esm2_t6_8M_2024-06-24_09-43-05/tokenizer_config.json',\n",
              " '/content/gdrive/MyDrive/ESMbind/results/binding_sites/best_model_esm2_t6_8M_2024-06-24_09-43-05/special_tokens_map.json',\n",
              " '/content/gdrive/MyDrive/ESMbind/results/binding_sites/best_model_esm2_t6_8M_2024-06-24_09-43-05/vocab.txt',\n",
              " '/content/gdrive/MyDrive/ESMbind/results/binding_sites/best_model_esm2_t6_8M_2024-06-24_09-43-05/added_tokens.json')"
            ]
          },
          "execution_count": 62,
          "metadata": {},
          "output_type": "execute_result"
        }
      ],
      "source": [
        "# Save Model\n",
        "save_path = os.path.join(\"/content/gdrive/MyDrive/ESMbind/results/binding_sites\", f\"best_model_esm2_t6_8M_{timestamp}\")\n",
        "trainer.save_model(save_path)\n",
        "tokenizer.save_pretrained(save_path)"
      ]
    },
    {
      "cell_type": "markdown",
      "metadata": {
        "id": "r9LB8xct05Qc"
      },
      "source": [
        "## Evaluation <a name=\"evaluation\"></a>"
      ]
    },
    {
      "cell_type": "markdown",
      "metadata": {
        "id": "OPahZo3223OD"
      },
      "source": [
        "Now we can load the finetuned model and check its performance. An Accelerator object is created to handle device placement and optimizations for the available hardware."
      ]
    },
    {
      "cell_type": "code",
      "execution_count": null,
      "metadata": {
        "id": "PE9Mrcdm0ngz"
      },
      "outputs": [],
      "source": [
        "# Load the tuned model\n",
        "tuned_model_path = \"/content/gdrive/MyDrive/ESMbind/results/binding_sites/best_model_esm2_t6_8M_2024-06-24_09-43-05\" # select the tuned model you want to evaluate\n",
        "tuned_model = AutoModelForTokenClassification.from_pretrained(tuned_model_path)\n",
        "accelerator = Accelerator()\n",
        "model = accelerator.prepare(tuned_model)  # Prepare the model using the accelerator"
      ]
    },
    {
      "cell_type": "markdown",
      "metadata": {
        "id": "noogJh-_3tF4"
      },
      "source": [
        "Now we create a mapping to convert between the format used by the model (numerical IDs) and a more interpretable format (labels):\n",
        "- 0 is mapped to \"No binding site\".\n",
        "- 1 is mapped to \"Binding site\"."
      ]
    },
    {
      "cell_type": "code",
      "execution_count": null,
      "metadata": {
        "id": "XwYRO6Bc1Ci2"
      },
      "outputs": [],
      "source": [
        "# Define label mappings\n",
        "id2label = {0: \"No binding site\", 1: \"Binding site\"}\n",
        "label2id = {v: k for k, v in id2label.items()}\n",
        "\n",
        "# Create a data collator\n",
        "data_collator = DataCollatorForTokenClassification(tokenizer)\n"
      ]
    },
    {
      "cell_type": "markdown",
      "metadata": {
        "id": "u96tcVyk4MtD"
      },
      "source": [
        " Similar as for training, a DataCollatorForTokenClassification instance is created using the tokenizer to handle batching and padding of input sequences during evaluation, ensuring that the data is in the correct format for the model."
      ]
    },
    {
      "cell_type": "markdown",
      "metadata": {
        "id": "-vGs1Gae5kTM"
      },
      "source": [
        " Now we can create a function to compute evaluation metrics for a model's predictions on a given dataset. This function *compute_metrics_dataset* is similar to the previously defined function *compute_metrics_train*, only that *compute_metrics_train* is designed to be used directly with predictions and labels, typically during the training process, while *compute_metrics_dataset* is designed to be used with a Trainer object to make predictions on a dataset and then compute evaluation metrics. It handles the entire process from making predictions to computing metrics."
      ]
    },
    {
      "cell_type": "code",
      "execution_count": null,
      "metadata": {
        "id": "J6kJt7UB4tGh"
      },
      "outputs": [],
      "source": [
        "# Define a function to compute the metrics for evaluation\n",
        "def compute_metrics_dataset(dataset):\n",
        "    # Get the predictions using the trained model\n",
        "    trainer = Trainer(model=model, data_collator=data_collator)\n",
        "    predictions, labels, _ = trainer.predict(test_dataset=dataset)\n",
        "\n",
        "    # Remove padding and special tokens\n",
        "    mask = labels != -100\n",
        "    true_labels = labels[mask].flatten()\n",
        "    flat_predictions = np.argmax(predictions, axis=2)[mask].flatten().tolist()\n",
        "\n",
        "    # Compute the metrics\n",
        "    accuracy = accuracy_score(true_labels, flat_predictions)\n",
        "    precision, recall, f1, _ = precision_recall_fscore_support(true_labels, flat_predictions, average='binary')\n",
        "    auc = roc_auc_score(true_labels, flat_predictions)\n",
        "    mcc = matthews_corrcoef(true_labels, flat_predictions)  # Compute the MCC\n",
        "\n",
        "    return {\"accuracy\": accuracy, \"precision\": precision, \"recall\": recall, \"f1\": f1, \"auc\": auc, \"mcc\": mcc}  # Include the MCC in the returned dictionary\n"
      ]
    },
    {
      "cell_type": "markdown",
      "metadata": {
        "id": "whleCQ8p-kXu"
      },
      "source": [
        "Now we can get the metrics for the training and test datasets. Mind that this takes a long time, particularly the training set metrics."
      ]
    },
    {
      "cell_type": "code",
      "execution_count": null,
      "metadata": {
        "colab": {
          "background_save": true,
          "base_uri": "https://localhost:8080/",
          "height": 37
        },
        "id": "TBf-CtbP_0zq",
        "outputId": "3e13a06f-eb50-42c6-d413-689511a741b7"
      },
      "outputs": [
        {
          "data": {
            "text/html": [
              "\n",
              "    <div>\n",
              "      \n",
              "      <progress value='817' max='3108' style='width:300px; height:20px; vertical-align: middle;'></progress>\n",
              "      [ 817/3108 3:59:11 < 11:11:34, 0.06 it/s]\n",
              "    </div>\n",
              "    "
            ],
            "text/plain": [
              "<IPython.core.display.HTML object>"
            ]
          },
          "metadata": {},
          "output_type": "display_data"
        }
      ],
      "source": [
        "train_metrics = compute_metrics_dataset(train_dataset)\n",
        "test_metrics = compute_metrics_dataset(test_dataset)\n",
        "train_metrics, test_metrics"
      ]
    },
    {
      "cell_type": "markdown",
      "metadata": {
        "id": "m4oOyXwqAb9y"
      },
      "source": [
        "## Inference <a name=\"inference\"></a>"
      ]
    },
    {
      "cell_type": "markdown",
      "metadata": {
        "id": "IPejiPpWA7QM"
      },
      "source": [
        "For making inferences, i.e., predictions on the binding sites of new protein sequences, you need to load the tuned model you wish to use for inference, and set it to evaluation mode to ensure consistent behavior during inference."
      ]
    },
    {
      "cell_type": "code",
      "execution_count": null,
      "metadata": {
        "id": "Gg3YvfkuiKk9"
      },
      "outputs": [],
      "source": [
        "tuned_model_path = \"/content/gdrive/MyDrive/ESMbind/results/binding_sites/Am_esm2_t6_8M_general_binding_sites_v2\" # select your tuned model\n",
        "tuned_model = AutoModelForTokenClassification.from_pretrained(tuned_model_path)\n",
        "accelerator = Accelerator()\n",
        "tokenizer = AutoTokenizer.from_pretrained(\"facebook/esm2_t6_8M_UR50D\")\n",
        "tuned_model = accelerator.prepare(tuned_model)"
      ]
    },
    {
      "cell_type": "code",
      "execution_count": null,
      "metadata": {
        "colab": {
          "base_uri": "https://localhost:8080/"
        },
        "id": "ozR0-GDtAT3n",
        "outputId": "8a7532ce-aa86-42a8-8e81-83b3c0ca467a"
      },
      "outputs": [
        {
          "data": {
            "text/plain": [
              "EsmForTokenClassification(\n",
              "  (esm): EsmModel(\n",
              "    (embeddings): EsmEmbeddings(\n",
              "      (word_embeddings): Embedding(33, 320, padding_idx=1)\n",
              "      (dropout): Dropout(p=0.0, inplace=False)\n",
              "      (position_embeddings): Embedding(1026, 320, padding_idx=1)\n",
              "    )\n",
              "    (encoder): EsmEncoder(\n",
              "      (layer): ModuleList(\n",
              "        (0-5): 6 x EsmLayer(\n",
              "          (attention): EsmAttention(\n",
              "            (self): EsmSelfAttention(\n",
              "              (query): Linear(in_features=320, out_features=320, bias=True)\n",
              "              (key): Linear(in_features=320, out_features=320, bias=True)\n",
              "              (value): Linear(in_features=320, out_features=320, bias=True)\n",
              "              (dropout): Dropout(p=0.0, inplace=False)\n",
              "              (rotary_embeddings): RotaryEmbedding()\n",
              "            )\n",
              "            (output): EsmSelfOutput(\n",
              "              (dense): Linear(in_features=320, out_features=320, bias=True)\n",
              "              (dropout): Dropout(p=0.0, inplace=False)\n",
              "            )\n",
              "            (LayerNorm): LayerNorm((320,), eps=1e-05, elementwise_affine=True)\n",
              "          )\n",
              "          (intermediate): EsmIntermediate(\n",
              "            (dense): Linear(in_features=320, out_features=1280, bias=True)\n",
              "          )\n",
              "          (output): EsmOutput(\n",
              "            (dense): Linear(in_features=1280, out_features=320, bias=True)\n",
              "            (dropout): Dropout(p=0.0, inplace=False)\n",
              "          )\n",
              "          (LayerNorm): LayerNorm((320,), eps=1e-05, elementwise_affine=True)\n",
              "        )\n",
              "      )\n",
              "      (emb_layer_norm_after): LayerNorm((320,), eps=1e-05, elementwise_affine=True)\n",
              "    )\n",
              "    (contact_head): EsmContactPredictionHead(\n",
              "      (regression): Linear(in_features=120, out_features=1, bias=True)\n",
              "      (activation): Sigmoid()\n",
              "    )\n",
              "  )\n",
              "  (dropout): Dropout(p=0.0, inplace=False)\n",
              "  (classifier): Linear(in_features=320, out_features=2, bias=True)\n",
              ")"
            ]
          },
          "execution_count": 51,
          "metadata": {},
          "output_type": "execute_result"
        }
      ],
      "source": [
        "# Ensure the model is in evaluation mode\n",
        "tuned_model.eval()"
      ]
    },
    {
      "cell_type": "markdown",
      "metadata": {
        "id": "HDyUJi3GBZTn"
      },
      "source": [
        "Now we are all set to infer binding sites on new sequences and get the predicted labels for each token in the sequence. For this purpose, the new sequence is tokenized, and the model is run to get the logits (i.e., the results of the model for each token), which are converted to the predicted labels (0 for non-binding, 1 for binding site in this case).\n"
      ]
    },
    {
      "cell_type": "code",
      "execution_count": null,
      "metadata": {
        "id": "1ZwsaBSDAMax"
      },
      "outputs": [],
      "source": [
        "def infer_binding_sites(sequence, tokenizer, accelerator):\n",
        "   # Tokenize the sequence\n",
        "  tokenized_sequence = tokenizer(sequence, return_tensors=\"pt\", truncation=True, max_length=1024, padding='max_length')\n",
        "\n",
        "  # Move the tokenized sequence to the same device through the accelerator\n",
        "  tokenized_sequence = {key: value.to(accelerator.device) for key, value in tokenized_sequence.items()}\n",
        "  tokens = tokenizer.convert_ids_to_tokens(tokenized_sequence[\"input_ids\"][0])  # Convert input ids back to tokens (aminoacids in this case, but also special tokens generated by the tokenizer)\n",
        "\n",
        "  # Run the model\n",
        "  with torch.no_grad():\n",
        "      logits = tuned_model(**tokenized_sequence).logits\n",
        "\n",
        "  # Get predictions\n",
        "  predictions = torch.argmax(logits, dim=2)\n",
        "  predictions = predictions[0].cpu().numpy()\n",
        "\n",
        "  # Filter out predictions corresponding to special tokens\n",
        "  special_tokens = [tokenizer.pad_token, tokenizer.cls_token, tokenizer.sep_token, tokenizer.eos_token]\n",
        "  special_tokens = [token for token in special_tokens if token is not None]  # Remove None tokens\n",
        "  filtered_predictions =[]\n",
        "  for token, pred in zip(tokens, predictions):\n",
        "    if token not in special_tokens:\n",
        "      filtered_predictions.append(pred)\n",
        "\n",
        "  # Check for matching length of predictions and sequence\n",
        "  if len(filtered_predictions) != len(sequence):\n",
        "      error_message = (\n",
        "          f\"Error: Length mismatch! Sequence length: {len(sequence)}, \"\n",
        "          f\"Filtered predictions length: {len(filtered_predictions)}. \"\n",
        "          \"This could be due to unaccounted special tokens in the tokenizer.\"\n",
        "      )\n",
        "      raise ValueError(error_message)\n",
        "  return filtered_predictions"
      ]
    },
    {
      "cell_type": "markdown",
      "metadata": {
        "id": "BqTqjqfNVhel"
      },
      "source": [
        "Observe that in the *infer_binding_sites* function, the predictions are aligned with the tokenized sequence, which may contain padding and other special tokens, and not necessarily (indeed, most likely not) only the sequence. So the predictions corresponding to the special tokens need to be removed, if we want to then match those predictions with the input sequence directly (i.e., predictions are of the same length as the sequence)."
      ]
    },
    {
      "cell_type": "code",
      "execution_count": null,
      "metadata": {
        "id": "nqUGcgxoeNbW"
      },
      "outputs": [],
      "source": [
        "# Define function to highlight binding sites by displaying binding sites among brakets within the sequence:\n",
        "def braket_binding_sites(protein_sequence, labels):\n",
        "  \"\"\"\n",
        "  Highlights binding sites within a given protein sequence by displaying binding sites among brakets within the sequence\n",
        "  \"\"\"\n",
        "  labeled_sequence = []\n",
        "  # Print the predicted labels for each token\n",
        "  for aa, prediction in zip(protein_sequence, predictions):\n",
        "    if prediction == 1:\n",
        "        labeled_sequence.append(f\"[{aa}]\")\n",
        "    else:\n",
        "        labeled_sequence.append(aa)\n",
        "  return \"\".join(labeled_sequence)"
      ]
    },
    {
      "cell_type": "markdown",
      "metadata": {
        "id": "uv1z-CwgIio-"
      },
      "source": [
        "Let's make inferences! For an illustrative example, we show here a well-studied protein: the C-ABL tyrosine kinase. This protein is known to bind to the drug Imatinib (Gleevec), so we can see if the fine-tuned ESM-2 model identifies the binding sites in the C-ABL kinase sequence.\n",
        "\n",
        "The PDB ID for this complex is '1IEP', from which we can extract both the chrystalized structure and the sequence."
      ]
    },
    {
      "cell_type": "code",
      "execution_count": null,
      "metadata": {
        "colab": {
          "base_uri": "https://localhost:8080/"
        },
        "id": "0hY4W3sykk7P",
        "outputId": "ab0927a8-ca77-4ee9-c3be-8c71b7b215a6"
      },
      "outputs": [
        {
          "name": "stdout",
          "output_type": "stream",
          "text": [
            "Sequence:  MDPSSPNYDKWEMERTDITMKH[K][L][G][G][G][Q][Y][G][E]VYEGVWKKYSLTVA[V]KTLKEDTMEVEEFLKEAAVMKEIKHPNLVQLLGVCTREPPFYI[I][T][E][F][M][T][Y][G][N]LLDYLRECNRQEVSAVVLLYMATQISSAMEYLEKKNFIHRDLA[A][R]NCLVGENHLVKVADFGLSRLMTGDTYTAHAGAKFPIKWTAPESLAYNKFSIKSDVWAFGVLLWEIATYGMSPYPGIDLSQVYELLEKDYRMERPEGCPEKVYELMRACWQWNPSDRPSFAEIHQAFETMFQ\n"
          ]
        }
      ],
      "source": [
        "# Protein sequence for inference\n",
        "protein_sequence = \"MDPSSPNYDKWEMERTDITMKHKLGGGQYGEVYEGVWKKYSLTVAVKTLKEDTMEVEEFLKEAAVMKEIKHPNLVQLLGVCTREPPFYIITEFMTYGNLLDYLRECNRQEVSAVVLLYMATQISSAMEYLEKKNFIHRDLAARNCLVGENHLVKVADFGLSRLMTGDTYTAHAGAKFPIKWTAPESLAYNKFSIKSDVWAFGVLLWEIATYGMSPYPGIDLSQVYELLEKDYRMERPEGCPEKVYELMRACWQWNPSDRPSFAEIHQAFETMFQ\"#\"MAVPETRPNHTIYINNLNEKIKKDELKKSLHAIFSRFGQILDILVSRSLKMRGQAFVIFKEVSSATNALRSMQGFPFYDKPMRIQYAKTDSDIIAKMKGT\"\n",
        "predictions = infer_binding_sites(protein_sequence, tokenizer, accelerator)\n",
        "\n",
        "# Display sequence with identified binding sites\n",
        "id_sequence = braket_binding_sites(protein_sequence, predictions)\n",
        "print(\"Sequence: \", id_sequence)\n"
      ]
    },
    {
      "cell_type": "markdown",
      "metadata": {
        "id": "EfU4ufg_GkZY"
      },
      "source": [
        "Some binding sites were identified, that's great! Let's now visualize the protein structure highlighting the identified binding sites vs the real binding sites (ground truth)."
      ]
    },
    {
      "cell_type": "markdown",
      "metadata": {
        "id": "M9pEFEJQOHOB"
      },
      "source": [
        "### Visualization"
      ]
    },
    {
      "cell_type": "code",
      "execution_count": null,
      "metadata": {
        "colab": {
          "base_uri": "https://localhost:8080/"
        },
        "id": "T8P7KVtfMr3r",
        "outputId": "0ad426cf-8de7-4aa9-9da4-62d253af2ad9"
      },
      "outputs": [
        {
          "name": "stdout",
          "output_type": "stream",
          "text": [
            "Requirement already satisfied: py3Dmol in /usr/local/lib/python3.10/dist-packages (2.3.0)\n",
            "Requirement already satisfied: biopython in /usr/local/lib/python3.10/dist-packages (1.84)\n",
            "Requirement already satisfied: requests in /usr/local/lib/python3.10/dist-packages (2.32.3)\n",
            "Requirement already satisfied: numpy in /usr/local/lib/python3.10/dist-packages (from biopython) (1.26.4)\n",
            "Requirement already satisfied: charset-normalizer<4,>=2 in /usr/local/lib/python3.10/dist-packages (from requests) (3.3.2)\n",
            "Requirement already satisfied: idna<4,>=2.5 in /usr/local/lib/python3.10/dist-packages (from requests) (3.7)\n",
            "Requirement already satisfied: urllib3<3,>=1.21.1 in /usr/local/lib/python3.10/dist-packages (from requests) (2.0.7)\n",
            "Requirement already satisfied: certifi>=2017.4.17 in /usr/local/lib/python3.10/dist-packages (from requests) (2024.7.4)\n"
          ]
        }
      ],
      "source": [
        "# setup for the visualization\n",
        "!pip install py3Dmol biopython requests\n",
        "import requests\n",
        "import py3Dmol\n",
        "from Bio.PDB import PDBParser, NeighborSearch\n",
        "from io import StringIO"
      ]
    },
    {
      "cell_type": "code",
      "execution_count": null,
      "metadata": {
        "id": "JjFSLc6GNBcm"
      },
      "outputs": [],
      "source": [
        "# Download the protein-ligand complex (PDB file)\n",
        "pdb_id = \"1IEP\"\n",
        "url = f\"https://files.rcsb.org/download/{pdb_id}.pdb\"\n",
        "response = requests.get(url)\n",
        "pdb_content = response.text"
      ]
    },
    {
      "cell_type": "markdown",
      "metadata": {
        "id": "72-VR88HNhgo"
      },
      "source": [
        "The structure in 1IEP is a homodimer of two identical chains A and B, and STI is the ligand of interest (Imatinib). For visualization, let's extract the information of chain A and STI:"
      ]
    },
    {
      "cell_type": "code",
      "execution_count": null,
      "metadata": {
        "id": "PMbxBfxzNOJ-"
      },
      "outputs": [],
      "source": [
        "chain_id = \"A\"\n",
        "chain_lines = []\n",
        "for line in pdb_content.splitlines():\n",
        "    if line.startswith(\"HETATM\") or line.startswith(\"ATOM\"):\n",
        "        if line[21] == chain_id:\n",
        "            chain_lines.append(line)\n",
        "    elif line.startswith(\"TER\"):\n",
        "        if chain_lines and chain_lines[-1][21] == chain_id:\n",
        "            chain_lines.append(line)\n",
        "chain_A = \"\\n\".join(chain_lines)"
      ]
    },
    {
      "cell_type": "code",
      "execution_count": null,
      "metadata": {
        "colab": {
          "base_uri": "https://localhost:8080/"
        },
        "id": "EG72Sw_lN42d",
        "outputId": "8a4fc4ef-42fd-4b00-e2c0-1f0f03b6c2d8"
      },
      "outputs": [
        {
          "name": "stderr",
          "output_type": "stream",
          "text": [
            "/usr/local/lib/python3.10/dist-packages/Bio/PDB/StructureBuilder.py:100: PDBConstructionWarning: WARNING: Chain A is discontinuous at line 5038.\n",
            "  warnings.warn(\n",
            "/usr/local/lib/python3.10/dist-packages/Bio/PDB/StructureBuilder.py:100: PDBConstructionWarning: WARNING: Chain B is discontinuous at line 5079.\n",
            "  warnings.warn(\n",
            "/usr/local/lib/python3.10/dist-packages/Bio/PDB/StructureBuilder.py:100: PDBConstructionWarning: WARNING: Chain A is discontinuous at line 5118.\n",
            "  warnings.warn(\n",
            "/usr/local/lib/python3.10/dist-packages/Bio/PDB/StructureBuilder.py:100: PDBConstructionWarning: WARNING: Chain B is discontinuous at line 5217.\n",
            "  warnings.warn(\n"
          ]
        }
      ],
      "source": [
        "parser = PDBParser()\n",
        "structure = parser.get_structure('protein', StringIO(pdb_content))\n",
        "\n",
        "# Extract residues of chain A and the ligand STI\n",
        "str_chain_A = structure[0][chain_id]\n",
        "ligand = None\n",
        "ligand_resname = \"STI\"\n",
        "for residue in structure.get_residues():\n",
        "    if residue.id[0] != ' ' and residue.resname == ligand_resname:\n",
        "        ligand = residue\n",
        "        break\n",
        "if ligand is None:\n",
        "    raise ValueError(\"Ligand STi not found in the PDB content\")\n",
        "\n",
        "chain_A_atoms = [atom for atom in str_chain_A.get_atoms()]\n",
        "ligand_atoms = [atom for atom in ligand.get_atoms()]"
      ]
    },
    {
      "cell_type": "markdown",
      "metadata": {
        "id": "OyOELLTx1V_x"
      },
      "source": [
        "Now we'll define the binding pocket as those residues within a 5Å range of the atoms of the ligand."
      ]
    },
    {
      "cell_type": "code",
      "execution_count": null,
      "metadata": {
        "id": "PfKXp5yTNvxz"
      },
      "outputs": [],
      "source": [
        "# Extract residues with atoms in a 5Å range of the ligand atoms (binding pocket)\n",
        "binding_residues = set()\n",
        "distance_threshold = 5.0\n",
        "ns = NeighborSearch(chain_A_atoms)\n",
        "\n",
        "for ligand_atom in ligand_atoms:\n",
        "    close_atoms = ns.search(ligand_atom.coord, distance_threshold)\n",
        "    for atom in close_atoms:\n",
        "        binding_residues.add(atom.get_parent().id[1])"
      ]
    },
    {
      "cell_type": "markdown",
      "metadata": {
        "id": "HWnetWHN1rI5"
      },
      "source": [
        "In order to visualize the predicted binding residues from the predictions onto the structure, one needs to get their indexes in the sequence and map them to residue numbers from the PDB structure. Then, we can identify those predicted residues that are in the binding pocket defined as the 5Å range around the STI ligand."
      ]
    },
    {
      "cell_type": "code",
      "execution_count": null,
      "metadata": {
        "colab": {
          "base_uri": "https://localhost:8080/"
        },
        "id": "hUFrKrSxuWas",
        "outputId": "4935aaa7-1ca6-4ff8-9553-72cfacdd258c"
      },
      "outputs": [
        {
          "name": "stdout",
          "output_type": "stream",
          "text": [
            "47.62% of predicted binding sites are in the 5Å binding pocket\n"
          ]
        }
      ],
      "source": [
        "# Get predicted binding sites residues indices\n",
        "#np.where(np.array(predictions) == 1)[0]\n",
        "pred_binding_sites_indexes = [index for index, label in enumerate(predictions) if label == 1]\n",
        "\n",
        "# Map predicted binding site indices to residue numbers\n",
        "pred_residues = [residue.id[1] for residue in str_chain_A.get_residues()]\n",
        "pred_binding_sites_residues = [pred_residues[i] for i in pred_binding_sites_indexes]\n",
        "\n",
        "# intersect residues that are both predicted bingin sites and in the 5Å binding pocket\n",
        "common_residues = [resi for resi in pred_binding_sites_residues if resi in binding_residues]\n",
        "print(\"{}% of predicted binding sites are in the {}Å binding pocket\".format(round(len(common_residues) / len(pred_binding_sites_residues)*100,2), int(distance_threshold)))"
      ]
    },
    {
      "cell_type": "markdown",
      "metadata": {
        "id": "Igcdc6UW62s2"
      },
      "source": [
        "Now let's see what the structure, the binding pocket, and the predicted residues look like in 3D:"
      ]
    },
    {
      "cell_type": "code",
      "execution_count": null,
      "metadata": {
        "colab": {
          "base_uri": "https://localhost:8080/",
          "height": 497
        },
        "id": "5ys94JMPyqo6",
        "outputId": "706351a0-7249-4d52-8a26-bd428a8812ed"
      },
      "outputs": [
        {
          "data": {
            "application/3dmoljs_load.v0": "<div id=\"3dmolviewer_17225152838841944\"  style=\"position: relative; width: 640px; height: 480px;\">\n        <p id=\"3dmolwarning_17225152838841944\" style=\"background-color:#ffcccc;color:black\">3Dmol.js failed to load for some reason.  Please check your browser console for error messages.<br></p>\n        </div>\n<script>\n\nvar loadScriptAsync = function(uri){\n  return new Promise((resolve, reject) => {\n    //this is to ignore the existence of requirejs amd\n    var savedexports, savedmodule;\n    if (typeof exports !== 'undefined') savedexports = exports;\n    else exports = {}\n    if (typeof module !== 'undefined') savedmodule = module;\n    else module = {}\n\n    var tag = document.createElement('script');\n    tag.src = uri;\n    tag.async = true;\n    tag.onload = () => {\n        exports = savedexports;\n        module = savedmodule;\n        resolve();\n    };\n  var firstScriptTag = document.getElementsByTagName('script')[0];\n  firstScriptTag.parentNode.insertBefore(tag, firstScriptTag);\n});\n};\n\nif(typeof $3Dmolpromise === 'undefined') {\n$3Dmolpromise = null;\n  $3Dmolpromise = loadScriptAsync('https://cdnjs.cloudflare.com/ajax/libs/3Dmol/2.3.0/3Dmol-min.js');\n}\n\nvar viewer_17225152838841944 = null;\nvar warn = document.getElementById(\"3dmolwarning_17225152838841944\");\nif(warn) {\n    warn.parentNode.removeChild(warn);\n}\n$3Dmolpromise.then(function() {\nviewer_17225152838841944 = $3Dmol.createViewer(document.getElementById(\"3dmolviewer_17225152838841944\"),{backgroundColor:\"white\"});\nviewer_17225152838841944.zoomTo();\n\tviewer_17225152838841944.addModel(\"ATOM      1  N   MET A 225      19.353  41.547  -3.887  1.00 72.26           N  \\nATOM      2  CA  MET A 225      20.513  40.939  -4.592  1.00 70.80           C  \\nATOM      3  C   MET A 225      20.150  39.658  -5.355  1.00 69.53           C  \\nATOM      4  O   MET A 225      19.053  39.551  -5.903  1.00 68.86           O  \\nATOM      5  CB  MET A 225      21.642  40.678  -3.592  1.00 71.61           C  \\nATOM      6  CG  MET A 225      21.233  39.903  -2.360  1.00 72.49           C  \\nATOM      7  SD  MET A 225      22.533  39.928  -1.113  1.00 76.72           S  \\nATOM      8  CE  MET A 225      23.771  38.881  -1.885  1.00 71.61           C  \\nATOM      9  N   ASP A 226      21.068  38.694  -5.390  1.00 67.35           N  \\nATOM     10  CA  ASP A 226      20.856  37.440  -6.117  1.00 64.67           C  \\nATOM     11  C   ASP A 226      20.124  36.371  -5.299  1.00 60.64           C  \\nATOM     12  O   ASP A 226      20.680  35.818  -4.351  1.00 61.28           O  \\nATOM     13  CB  ASP A 226      22.208  36.890  -6.586  1.00 68.19           C  \\nATOM     14  CG  ASP A 226      22.073  35.863  -7.699  1.00 72.67           C  \\nATOM     15  OD1 ASP A 226      21.305  34.890  -7.529  1.00 73.52           O  \\nATOM     16  OD2 ASP A 226      22.740  36.029  -8.744  1.00 72.20           O  \\nATOM     17  N   PRO A 227      18.872  36.052  -5.675  1.00 58.29           N  \\nATOM     18  CA  PRO A 227      18.030  35.054  -4.999  1.00 56.77           C  \\nATOM     19  C   PRO A 227      18.675  33.677  -4.831  1.00 58.61           C  \\nATOM     20  O   PRO A 227      18.457  32.997  -3.824  1.00 57.58           O  \\nATOM     21  CB  PRO A 227      16.788  34.997  -5.884  1.00 55.32           C  \\nATOM     22  CG  PRO A 227      16.706  36.383  -6.436  1.00 57.16           C  \\nATOM     23  CD  PRO A 227      18.142  36.670  -6.796  1.00 56.73           C  \\nATOM     24  N   SER A 228      19.458  33.264  -5.821  1.00 59.84           N  \\nATOM     25  CA  SER A 228      20.130  31.969  -5.773  1.00 62.95           C  \\nATOM     26  C   SER A 228      21.464  32.040  -5.031  1.00 65.13           C  \\nATOM     27  O   SER A 228      22.045  31.008  -4.688  1.00 66.16           O  \\nATOM     28  CB  SER A 228      20.364  31.447  -7.191  1.00 62.28           C  \\nATOM     29  OG  SER A 228      21.180  32.341  -7.928  1.00 62.06           O  \\nATOM     30  N   SER A 229      21.950  33.253  -4.788  1.00 64.53           N  \\nATOM     31  CA  SER A 229      23.216  33.437  -4.085  1.00 65.76           C  \\nATOM     32  C   SER A 229      23.144  32.931  -2.643  1.00 66.52           C  \\nATOM     33  O   SER A 229      22.121  33.077  -1.970  1.00 64.82           O  \\nATOM     34  CB  SER A 229      23.619  34.914  -4.089  1.00 66.77           C  \\nATOM     35  OG  SER A 229      24.716  35.143  -3.220  1.00 65.78           O  \\nATOM     36  N   PRO A 230      24.239  32.327  -2.153  1.00 66.91           N  \\nATOM     37  CA  PRO A 230      24.317  31.793  -0.789  1.00 67.68           C  \\nATOM     38  C   PRO A 230      24.165  32.880   0.276  1.00 67.83           C  \\nATOM     39  O   PRO A 230      23.752  32.609   1.406  1.00 68.00           O  \\nATOM     40  CB  PRO A 230      25.702  31.145  -0.751  1.00 67.73           C  \\nATOM     41  CG  PRO A 230      25.937  30.756  -2.179  1.00 67.84           C  \\nATOM     42  CD  PRO A 230      25.446  31.972  -2.919  1.00 66.34           C  \\nATOM     43  N   ASN A 231      24.500  34.111  -0.097  1.00 66.49           N  \\nATOM     44  CA  ASN A 231      24.419  35.239   0.819  1.00 66.05           C  \\nATOM     45  C   ASN A 231      23.237  36.164   0.516  1.00 61.13           C  \\nATOM     46  O   ASN A 231      23.340  37.382   0.668  1.00 58.71           O  \\nATOM     47  CB  ASN A 231      25.726  36.040   0.765  1.00 70.48           C  \\nATOM     48  CG  ASN A 231      26.937  35.211   1.171  1.00 74.28           C  \\nATOM     49  OD1 ASN A 231      26.811  34.220   1.891  1.00 78.33           O  \\nATOM     50  ND2 ASN A 231      28.117  35.619   0.716  1.00 74.69           N  \\nATOM     51  N   TYR A 232      22.114  35.591   0.092  1.00 55.17           N  \\nATOM     52  CA  TYR A 232      20.945  36.405  -0.222  1.00 50.20           C  \\nATOM     53  C   TYR A 232      20.279  36.969   1.023  1.00 48.25           C  \\nATOM     54  O   TYR A 232      19.972  36.238   1.966  1.00 52.46           O  \\nATOM     55  CB  TYR A 232      19.891  35.609  -0.999  1.00 46.52           C  \\nATOM     56  CG  TYR A 232      18.676  36.451  -1.350  1.00 43.11           C  \\nATOM     57  CD1 TYR A 232      18.715  37.355  -2.411  1.00 40.63           C  \\nATOM     58  CD2 TYR A 232      17.508  36.387  -0.583  1.00 41.66           C  \\nATOM     59  CE1 TYR A 232      17.625  38.180  -2.700  1.00 42.95           C  \\nATOM     60  CE2 TYR A 232      16.408  37.210  -0.866  1.00 37.96           C  \\nATOM     61  CZ  TYR A 232      16.478  38.102  -1.921  1.00 39.57           C  \\nATOM     62  OH  TYR A 232      15.420  38.937  -2.194  1.00 40.75           O  \\nATOM     63  N   ASP A 233      20.052  38.274   1.014  1.00 47.94           N  \\nATOM     64  CA  ASP A 233      19.381  38.942   2.122  1.00 46.79           C  \\nATOM     65  C   ASP A 233      18.290  39.792   1.493  1.00 43.90           C  \\nATOM     66  O   ASP A 233      18.582  40.735   0.758  1.00 40.31           O  \\nATOM     67  CB  ASP A 233      20.348  39.842   2.890  1.00 45.63           C  \\nATOM     68  CG  ASP A 233      19.691  40.506   4.088  1.00 51.78           C  \\nATOM     69  OD1 ASP A 233      18.531  40.963   3.964  1.00 51.54           O  \\nATOM     70  OD2 ASP A 233      20.334  40.578   5.154  1.00 53.30           O  \\nATOM     71  N   LYS A 234      17.035  39.457   1.771  1.00 43.11           N  \\nATOM     72  CA  LYS A 234      15.920  40.207   1.200  1.00 42.42           C  \\nATOM     73  C   LYS A 234      15.946  41.692   1.557  1.00 41.40           C  \\nATOM     74  O   LYS A 234      15.401  42.516   0.827  1.00 39.09           O  \\nATOM     75  CB  LYS A 234      14.591  39.605   1.655  1.00 44.79           C  \\nATOM     76  CG  LYS A 234      14.361  39.636   3.156  1.00 47.10           C  \\nATOM     77  CD  LYS A 234      13.049  38.955   3.503  1.00 49.82           C  \\nATOM     78  CE  LYS A 234      12.810  38.914   5.001  1.00 51.10           C  \\nATOM     79  NZ  LYS A 234      11.495  38.291   5.325  1.00 49.81           N  \\nATOM     80  N   TRP A 235      16.592  42.034   2.667  1.00 41.10           N  \\nATOM     81  CA  TRP A 235      16.640  43.427   3.107  1.00 40.69           C  \\nATOM     82  C   TRP A 235      17.655  44.315   2.389  1.00 42.11           C  \\nATOM     83  O   TRP A 235      17.481  45.535   2.351  1.00 37.17           O  \\nATOM     84  CB  TRP A 235      16.880  43.493   4.619  1.00 37.95           C  \\nATOM     85  CG  TRP A 235      15.806  42.843   5.431  1.00 34.37           C  \\nATOM     86  CD1 TRP A 235      15.874  41.639   6.063  1.00 35.72           C  \\nATOM     87  CD2 TRP A 235      14.500  43.373   5.715  1.00 36.45           C  \\nATOM     88  NE1 TRP A 235      14.695  41.384   6.729  1.00 38.24           N  \\nATOM     89  CE2 TRP A 235      13.837  42.433   6.532  1.00 36.83           C  \\nATOM     90  CE3 TRP A 235      13.830  44.552   5.359  1.00 36.90           C  \\nATOM     91  CZ2 TRP A 235      12.532  42.634   7.002  1.00 41.62           C  \\nATOM     92  CZ3 TRP A 235      12.530  44.753   5.827  1.00 40.27           C  \\nATOM     93  CH2 TRP A 235      11.899  43.798   6.639  1.00 39.51           C  \\nATOM     94  N   GLU A 236      18.707  43.717   1.823  1.00 42.48           N  \\nATOM     95  CA  GLU A 236      19.727  44.490   1.105  1.00 43.64           C  \\nATOM     96  C   GLU A 236      19.069  45.163  -0.085  1.00 46.41           C  \\nATOM     97  O   GLU A 236      18.358  44.515  -0.850  1.00 48.57           O  \\nATOM     98  CB  GLU A 236      20.851  43.584   0.591  1.00 43.17           C  \\nATOM     99  CG  GLU A 236      21.694  42.896   1.661  1.00 45.14           C  \\nATOM    100  CD  GLU A 236      22.663  43.840   2.360  1.00 49.61           C  \\nATOM    101  OE1 GLU A 236      22.934  44.935   1.822  1.00 47.60           O  \\nATOM    102  OE2 GLU A 236      23.164  43.475   3.444  1.00 51.07           O  \\nATOM    103  N   MET A 237      19.307  46.457  -0.256  1.00 47.75           N  \\nATOM    104  CA  MET A 237      18.703  47.170  -1.371  1.00 52.18           C  \\nATOM    105  C   MET A 237      19.714  48.004  -2.134  1.00 54.03           C  \\nATOM    106  O   MET A 237      20.879  48.088  -1.750  1.00 53.01           O  \\nATOM    107  CB  MET A 237      17.558  48.059  -0.878  1.00 54.76           C  \\nATOM    108  CG  MET A 237      17.972  49.157   0.078  1.00 62.51           C  \\nATOM    109  SD  MET A 237      16.541  50.098   0.656  1.00 74.54           S  \\nATOM    110  CE  MET A 237      16.249  51.167  -0.758  1.00 74.99           C  \\nATOM    111  N   GLU A 238      19.253  48.628  -3.212  1.00 56.90           N  \\nATOM    112  CA  GLU A 238      20.119  49.442  -4.044  1.00 61.36           C  \\nATOM    113  C   GLU A 238      20.302  50.859  -3.518  1.00 62.92           C  \\nATOM    114  O   GLU A 238      19.362  51.655  -3.466  1.00 61.45           O  \\nATOM    115  CB  GLU A 238      19.585  49.482  -5.478  1.00 66.85           C  \\nATOM    116  CG  GLU A 238      20.532  50.153  -6.466  1.00 75.99           C  \\nATOM    117  CD  GLU A 238      21.924  49.537  -6.452  1.00 80.91           C  \\nATOM    118  OE1 GLU A 238      22.046  48.327  -6.750  1.00 83.02           O  \\nATOM    119  OE2 GLU A 238      22.896  50.262  -6.140  1.00 81.87           O  \\nATOM    120  N   ARG A 239      21.535  51.153  -3.127  1.00 62.34           N  \\nATOM    121  CA  ARG A 239      21.921  52.456  -2.608  1.00 65.10           C  \\nATOM    122  C   ARG A 239      21.474  53.576  -3.548  1.00 64.58           C  \\nATOM    123  O   ARG A 239      21.137  54.671  -3.108  1.00 65.28           O  \\nATOM    124  CB  ARG A 239      23.441  52.481  -2.451  1.00 66.01           C  \\nATOM    125  CG  ARG A 239      24.041  53.792  -1.995  1.00 70.00           C  \\nATOM    126  CD  ARG A 239      25.554  53.725  -2.155  1.00 69.64           C  \\nATOM    127  NE  ARG A 239      26.097  52.511  -1.550  1.00 67.44           N  \\nATOM    128  CZ  ARG A 239      26.127  52.277  -0.243  1.00 65.26           C  \\nATOM    129  NH1 ARG A 239      25.647  53.179   0.601  1.00 65.80           N  \\nATOM    130  NH2 ARG A 239      26.621  51.138   0.220  1.00 60.60           N  \\nATOM    131  N   THR A 240      21.471  53.281  -4.844  1.00 66.16           N  \\nATOM    132  CA  THR A 240      21.093  54.241  -5.880  1.00 67.57           C  \\nATOM    133  C   THR A 240      19.599  54.568  -5.913  1.00 68.41           C  \\nATOM    134  O   THR A 240      19.195  55.617  -6.420  1.00 66.88           O  \\nATOM    135  CB  THR A 240      21.515  53.719  -7.273  1.00 68.91           C  \\nATOM    136  OG1 THR A 240      22.941  53.584  -7.319  1.00 70.67           O  \\nATOM    137  CG2 THR A 240      21.063  54.672  -8.368  1.00 68.90           C  \\nATOM    138  N   ASP A 241      18.786  53.664  -5.376  1.00 69.49           N  \\nATOM    139  CA  ASP A 241      17.336  53.846  -5.339  1.00 70.98           C  \\nATOM    140  C   ASP A 241      16.904  54.991  -4.426  1.00 69.74           C  \\nATOM    141  O   ASP A 241      15.808  55.536  -4.578  1.00 67.19           O  \\nATOM    142  CB  ASP A 241      16.661  52.554  -4.868  1.00 73.87           C  \\nATOM    143  CG  ASP A 241      16.602  51.496  -5.950  1.00 76.31           C  \\nATOM    144  OD1 ASP A 241      17.617  51.293  -6.649  1.00 77.15           O  \\nATOM    145  OD2 ASP A 241      15.537  50.859  -6.093  1.00 78.66           O  \\nATOM    146  N   ILE A 242      17.769  55.355  -3.484  1.00 68.06           N  \\nATOM    147  CA  ILE A 242      17.455  56.411  -2.528  1.00 66.29           C  \\nATOM    148  C   ILE A 242      18.124  57.754  -2.799  1.00 66.55           C  \\nATOM    149  O   ILE A 242      19.335  57.833  -2.996  1.00 66.04           O  \\nATOM    150  CB  ILE A 242      17.825  55.972  -1.100  1.00 64.69           C  \\nATOM    151  CG1 ILE A 242      17.131  54.648  -0.771  1.00 64.66           C  \\nATOM    152  CG2 ILE A 242      17.426  57.053  -0.106  1.00 63.57           C  \\nATOM    153  CD1 ILE A 242      17.619  53.992   0.502  1.00 64.35           C  \\nATOM    154  N   THR A 243      17.317  58.810  -2.800  1.00 67.08           N  \\nATOM    155  CA  THR A 243      17.809  60.165  -3.014  1.00 69.10           C  \\nATOM    156  C   THR A 243      18.158  60.736  -1.640  1.00 67.42           C  \\nATOM    157  O   THR A 243      17.268  61.072  -0.861  1.00 65.86           O  \\nATOM    158  CB  THR A 243      16.723  61.058  -3.663  1.00 71.41           C  \\nATOM    159  OG1 THR A 243      16.308  60.484  -4.907  1.00 74.68           O  \\nATOM    160  CG2 THR A 243      17.256  62.463  -3.912  1.00 70.63           C  \\nATOM    161  N   MET A 244      19.450  60.829  -1.339  1.00 65.51           N  \\nATOM    162  CA  MET A 244      19.892  61.352  -0.052  1.00 64.75           C  \\nATOM    163  C   MET A 244      19.727  62.859   0.027  1.00 67.28           C  \\nATOM    164  O   MET A 244      19.970  63.570  -0.948  1.00 69.88           O  \\nATOM    165  CB  MET A 244      21.354  60.987   0.193  1.00 63.74           C  \\nATOM    166  CG  MET A 244      21.583  59.509   0.383  1.00 61.24           C  \\nATOM    167  SD  MET A 244      20.719  58.905   1.832  1.00 60.02           S  \\nATOM    168  CE  MET A 244      21.935  59.234   3.098  1.00 55.60           C  \\nATOM    169  N   LYS A 245      19.315  63.343   1.194  1.00 67.03           N  \\nATOM    170  CA  LYS A 245      19.118  64.771   1.391  1.00 66.74           C  \\nATOM    171  C   LYS A 245      19.884  65.301   2.594  1.00 67.96           C  \\nATOM    172  O   LYS A 245      20.999  64.863   2.881  1.00 70.43           O  \\nATOM    173  CB  LYS A 245      17.628  65.083   1.547  1.00 66.80           C  \\nATOM    174  CG  LYS A 245      16.826  64.930   0.268  1.00 68.53           C  \\nATOM    175  CD  LYS A 245      15.367  65.268   0.504  1.00 69.73           C  \\nATOM    176  CE  LYS A 245      14.579  65.259  -0.793  1.00 72.27           C  \\nATOM    177  NZ  LYS A 245      13.135  65.564  -0.567  1.00 71.73           N  \\nATOM    178  N   HIS A 246      19.272  66.250   3.293  1.00 67.70           N  \\nATOM    179  CA  HIS A 246      19.872  66.876   4.463  1.00 68.02           C  \\nATOM    180  C   HIS A 246      19.775  65.984   5.697  1.00 65.33           C  \\nATOM    181  O   HIS A 246      19.018  65.011   5.713  1.00 63.74           O  \\nATOM    182  CB  HIS A 246      19.161  68.198   4.740  1.00 71.81           C  \\nATOM    183  CG  HIS A 246      17.680  68.052   4.906  1.00 75.53           C  \\nATOM    184  ND1 HIS A 246      17.115  67.376   5.966  1.00 77.95           N  \\nATOM    185  CD2 HIS A 246      16.651  68.455   4.124  1.00 78.35           C  \\nATOM    186  CE1 HIS A 246      15.800  67.369   5.829  1.00 78.87           C  \\nATOM    187  NE2 HIS A 246      15.493  68.016   4.720  1.00 79.65           N  \\nATOM    188  N   LYS A 247      20.543  66.322   6.729  1.00 61.87           N  \\nATOM    189  CA  LYS A 247      20.520  65.560   7.967  1.00 61.27           C  \\nATOM    190  C   LYS A 247      19.179  65.815   8.632  1.00 60.24           C  \\nATOM    191  O   LYS A 247      18.655  66.930   8.591  1.00 59.45           O  \\nATOM    192  CB  LYS A 247      21.648  65.995   8.900  1.00 60.33           C  \\nATOM    193  CG  LYS A 247      23.024  65.863   8.293  1.00 62.87           C  \\nATOM    194  CD  LYS A 247      24.113  66.062   9.330  1.00 65.68           C  \\nATOM    195  CE  LYS A 247      24.133  64.927  10.338  1.00 63.92           C  \\nATOM    196  NZ  LYS A 247      25.293  65.045  11.268  1.00 66.62           N  \\nATOM    197  N   LEU A 248      18.630  64.773   9.241  1.00 58.44           N  \\nATOM    198  CA  LEU A 248      17.339  64.855   9.904  1.00 59.05           C  \\nATOM    199  C   LEU A 248      17.397  65.620  11.223  1.00 59.56           C  \\nATOM    200  O   LEU A 248      18.366  65.514  11.977  1.00 57.75           O  \\nATOM    201  CB  LEU A 248      16.810  63.440  10.144  1.00 57.98           C  \\nATOM    202  CG  LEU A 248      15.358  63.175   9.766  1.00 55.91           C  \\nATOM    203  CD1 LEU A 248      15.080  63.715   8.372  1.00 58.37           C  \\nATOM    204  CD2 LEU A 248      15.095  61.687   9.832  1.00 56.69           C  \\nATOM    205  N   GLY A 249      16.350  66.397  11.488  1.00 62.66           N  \\nATOM    206  CA  GLY A 249      16.273  67.164  12.720  1.00 66.14           C  \\nATOM    207  C   GLY A 249      17.475  68.037  13.027  1.00 67.59           C  \\nATOM    208  O   GLY A 249      17.993  68.019  14.144  1.00 68.56           O  \\nATOM    209  N   GLY A 250      17.921  68.803  12.039  1.00 68.57           N  \\nATOM    210  CA  GLY A 250      19.059  69.681  12.244  1.00 70.68           C  \\nATOM    211  C   GLY A 250      20.260  69.044  12.920  1.00 69.94           C  \\nATOM    212  O   GLY A 250      21.095  69.747  13.487  1.00 71.58           O  \\nATOM    213  N   GLY A 251      20.346  67.717  12.877  1.00 69.04           N  \\nATOM    214  CA  GLY A 251      21.479  67.032  13.477  1.00 63.27           C  \\nATOM    215  C   GLY A 251      21.268  66.389  14.837  1.00 61.05           C  \\nATOM    216  O   GLY A 251      22.176  65.729  15.346  1.00 58.23           O  \\nATOM    217  N   GLN A 252      20.087  66.561  15.426  1.00 59.44           N  \\nATOM    218  CA  GLN A 252      19.812  65.988  16.744  1.00 57.04           C  \\nATOM    219  C   GLN A 252      19.933  64.465  16.802  1.00 56.80           C  \\nATOM    220  O   GLN A 252      20.284  63.907  17.844  1.00 56.74           O  \\nATOM    221  CB  GLN A 252      18.423  66.423  17.243  1.00 60.05           C  \\nATOM    222  CG  GLN A 252      17.242  65.992  16.376  1.00 62.36           C  \\nATOM    223  CD  GLN A 252      15.912  66.572  16.857  1.00 64.34           C  \\nATOM    224  OE1 GLN A 252      15.520  66.394  18.011  1.00 66.78           O  \\nATOM    225  NE2 GLN A 252      15.213  67.266  15.966  1.00 61.51           N  \\nATOM    226  N   TYR A 253      19.661  63.788  15.690  1.00 53.49           N  \\nATOM    227  CA  TYR A 253      19.748  62.330  15.674  1.00 51.78           C  \\nATOM    228  C   TYR A 253      21.114  61.802  15.262  1.00 51.62           C  \\nATOM    229  O   TYR A 253      21.383  60.608  15.365  1.00 51.47           O  \\nATOM    230  CB  TYR A 253      18.684  61.745  14.751  1.00 48.86           C  \\nATOM    231  CG  TYR A 253      17.281  62.111  15.155  1.00 43.94           C  \\nATOM    232  CD1 TYR A 253      16.601  63.148  14.524  1.00 40.72           C  \\nATOM    233  CD2 TYR A 253      16.635  61.427  16.183  1.00 47.98           C  \\nATOM    234  CE1 TYR A 253      15.306  63.495  14.905  1.00 43.42           C  \\nATOM    235  CE2 TYR A 253      15.344  61.767  16.574  1.00 46.35           C  \\nATOM    236  CZ  TYR A 253      14.687  62.799  15.932  1.00 42.81           C  \\nATOM    237  OH  TYR A 253      13.413  63.123  16.323  1.00 48.55           O  \\nATOM    238  N   GLY A 254      21.979  62.693  14.799  1.00 53.67           N  \\nATOM    239  CA  GLY A 254      23.299  62.270  14.381  1.00 51.94           C  \\nATOM    240  C   GLY A 254      23.345  62.070  12.881  1.00 52.22           C  \\nATOM    241  O   GLY A 254      22.706  62.813  12.134  1.00 51.39           O  \\nATOM    242  N   GLU A 255      24.092  61.061  12.442  1.00 49.22           N  \\nATOM    243  CA  GLU A 255      24.235  60.763  11.023  1.00 49.63           C  \\nATOM    244  C   GLU A 255      22.998  60.105  10.418  1.00 48.16           C  \\nATOM    245  O   GLU A 255      23.084  59.029   9.822  1.00 46.17           O  \\nATOM    246  CB  GLU A 255      25.452  59.864  10.795  1.00 53.08           C  \\nATOM    247  CG  GLU A 255      26.788  60.532  11.102  1.00 61.51           C  \\nATOM    248  CD  GLU A 255      27.021  61.787  10.274  1.00 66.06           C  \\nATOM    249  OE1 GLU A 255      26.880  61.719   9.033  1.00 66.28           O  \\nATOM    250  OE2 GLU A 255      27.350  62.840  10.863  1.00 69.86           O  \\nATOM    251  N   VAL A 256      21.848  60.752  10.578  1.00 43.76           N  \\nATOM    252  CA  VAL A 256      20.605  60.238  10.024  1.00 41.44           C  \\nATOM    253  C   VAL A 256      20.060  61.267   9.052  1.00 42.09           C  \\nATOM    254  O   VAL A 256      19.820  62.413   9.423  1.00 43.44           O  \\nATOM    255  CB  VAL A 256      19.565  59.973  11.120  1.00 40.49           C  \\nATOM    256  CG1 VAL A 256      18.282  59.446  10.489  1.00 36.23           C  \\nATOM    257  CG2 VAL A 256      20.120  58.966  12.128  1.00 35.69           C  \\nATOM    258  N   TYR A 257      19.860  60.853   7.807  1.00 42.35           N  \\nATOM    259  CA  TYR A 257      19.384  61.766   6.779  1.00 44.91           C  \\nATOM    260  C   TYR A 257      17.996  61.465   6.244  1.00 45.99           C  \\nATOM    261  O   TYR A 257      17.520  60.329   6.295  1.00 45.15           O  \\nATOM    262  CB  TYR A 257      20.361  61.774   5.592  1.00 43.74           C  \\nATOM    263  CG  TYR A 257      21.788  62.118   5.956  1.00 44.36           C  \\nATOM    264  CD1 TYR A 257      22.560  61.253   6.733  1.00 44.33           C  \\nATOM    265  CD2 TYR A 257      22.361  63.316   5.539  1.00 46.49           C  \\nATOM    266  CE1 TYR A 257      23.862  61.575   7.091  1.00 49.80           C  \\nATOM    267  CE2 TYR A 257      23.667  63.652   5.891  1.00 49.96           C  \\nATOM    268  CZ  TYR A 257      24.410  62.780   6.670  1.00 53.56           C  \\nATOM    269  OH  TYR A 257      25.687  63.126   7.056  1.00 56.22           O  \\nATOM    270  N   GLU A 258      17.349  62.505   5.735  1.00 45.89           N  \\nATOM    271  CA  GLU A 258      16.044  62.345   5.124  1.00 50.20           C  \\nATOM    272  C   GLU A 258      16.372  61.849   3.723  1.00 49.54           C  \\nATOM    273  O   GLU A 258      17.372  62.259   3.133  1.00 48.75           O  \\nATOM    274  CB  GLU A 258      15.304  63.681   5.030  1.00 51.89           C  \\nATOM    275  CG  GLU A 258      13.954  63.575   4.327  1.00 57.93           C  \\nATOM    276  CD  GLU A 258      13.162  64.871   4.364  1.00 64.20           C  \\nATOM    277  OE1 GLU A 258      13.608  65.863   3.751  1.00 67.16           O  \\nATOM    278  OE2 GLU A 258      12.091  64.895   5.011  1.00 66.36           O  \\nATOM    279  N   GLY A 259      15.542  60.964   3.194  1.00 50.84           N  \\nATOM    280  CA  GLY A 259      15.795  60.449   1.867  1.00 53.70           C  \\nATOM    281  C   GLY A 259      14.512  60.212   1.109  1.00 55.83           C  \\nATOM    282  O   GLY A 259      13.420  60.274   1.676  1.00 56.23           O  \\nATOM    283  N   VAL A 260      14.643  59.947  -0.184  1.00 57.31           N  \\nATOM    284  CA  VAL A 260      13.485  59.689  -1.020  1.00 58.97           C  \\nATOM    285  C   VAL A 260      13.676  58.371  -1.750  1.00 60.14           C  \\nATOM    286  O   VAL A 260      14.567  58.242  -2.588  1.00 59.15           O  \\nATOM    287  CB  VAL A 260      13.285  60.802  -2.064  1.00 59.26           C  \\nATOM    288  CG1 VAL A 260      11.971  60.590  -2.798  1.00 59.57           C  \\nATOM    289  CG2 VAL A 260      13.308  62.162  -1.385  1.00 60.54           C  \\nATOM    290  N   TRP A 261      12.853  57.384  -1.419  1.00 60.87           N  \\nATOM    291  CA  TRP A 261      12.949  56.099  -2.085  1.00 62.33           C  \\nATOM    292  C   TRP A 261      12.224  56.267  -3.418  1.00 64.33           C  \\nATOM    293  O   TRP A 261      11.043  55.944  -3.544  1.00 62.30           O  \\nATOM    294  CB  TRP A 261      12.292  55.003  -1.243  1.00 62.64           C  \\nATOM    295  CG  TRP A 261      12.711  53.618  -1.644  1.00 64.19           C  \\nATOM    296  CD1 TRP A 261      13.631  53.284  -2.598  1.00 64.54           C  \\nATOM    297  CD2 TRP A 261      12.244  52.382  -1.088  1.00 66.16           C  \\nATOM    298  NE1 TRP A 261      13.766  51.920  -2.670  1.00 65.70           N  \\nATOM    299  CE2 TRP A 261      12.927  51.340  -1.756  1.00 67.43           C  \\nATOM    300  CE3 TRP A 261      11.315  52.053  -0.093  1.00 66.69           C  \\nATOM    301  CZ2 TRP A 261      12.712  49.991  -1.458  1.00 67.72           C  \\nATOM    302  CZ3 TRP A 261      11.099  50.711   0.204  1.00 67.55           C  \\nATOM    303  CH2 TRP A 261      11.795  49.697  -0.479  1.00 68.98           C  \\nATOM    304  N   LYS A 262      12.953  56.799  -4.396  1.00 67.46           N  \\nATOM    305  CA  LYS A 262      12.450  57.065  -5.743  1.00 70.51           C  \\nATOM    306  C   LYS A 262      11.337  56.135  -6.213  1.00 71.37           C  \\nATOM    307  O   LYS A 262      10.214  56.571  -6.470  1.00 70.06           O  \\nATOM    308  CB  LYS A 262      13.600  56.991  -6.748  1.00 72.64           C  \\nATOM    309  CG  LYS A 262      14.771  57.914  -6.458  1.00 74.62           C  \\nATOM    310  CD  LYS A 262      15.854  57.726  -7.509  1.00 76.61           C  \\nATOM    311  CE  LYS A 262      17.029  58.656  -7.290  1.00 79.97           C  \\nATOM    312  NZ  LYS A 262      18.071  58.461  -8.339  1.00 81.88           N  \\nATOM    313  N   LYS A 263      11.672  54.855  -6.330  1.00 73.06           N  \\nATOM    314  CA  LYS A 263      10.748  53.823  -6.789  1.00 75.17           C  \\nATOM    315  C   LYS A 263       9.336  53.918  -6.208  1.00 75.34           C  \\nATOM    316  O   LYS A 263       8.398  53.340  -6.755  1.00 75.96           O  \\nATOM    317  CB  LYS A 263      11.337  52.444  -6.481  1.00 76.94           C  \\nATOM    318  CG  LYS A 263      10.609  51.282  -7.132  1.00 78.96           C  \\nATOM    319  CD  LYS A 263      11.225  49.950  -6.724  1.00 81.00           C  \\nATOM    320  CE  LYS A 263      12.696  49.868  -7.100  1.00 82.63           C  \\nATOM    321  NZ  LYS A 263      13.313  48.592  -6.636  1.00 83.28           N  \\nATOM    322  N   TYR A 264       9.178  54.639  -5.102  1.00 74.56           N  \\nATOM    323  CA  TYR A 264       7.865  54.775  -4.486  1.00 72.45           C  \\nATOM    324  C   TYR A 264       7.554  56.210  -4.067  1.00 70.42           C  \\nATOM    325  O   TYR A 264       6.547  56.465  -3.403  1.00 67.50           O  \\nATOM    326  CB  TYR A 264       7.758  53.846  -3.274  1.00 76.26           C  \\nATOM    327  CG  TYR A 264       8.166  52.418  -3.566  1.00 79.90           C  \\nATOM    328  CD1 TYR A 264       9.509  52.042  -3.564  1.00 82.83           C  \\nATOM    329  CD2 TYR A 264       7.214  51.450  -3.881  1.00 81.18           C  \\nATOM    330  CE1 TYR A 264       9.895  50.738  -3.870  1.00 83.07           C  \\nATOM    331  CE2 TYR A 264       7.588  50.143  -4.191  1.00 82.35           C  \\nATOM    332  CZ  TYR A 264       8.930  49.794  -4.184  1.00 83.29           C  \\nATOM    333  OH  TYR A 264       9.310  48.507  -4.499  1.00 84.17           O  \\nATOM    334  N   SER A 265       8.411  57.146  -4.466  1.00 68.74           N  \\nATOM    335  CA  SER A 265       8.224  58.553  -4.118  1.00 67.51           C  \\nATOM    336  C   SER A 265       7.960  58.633  -2.618  1.00 64.13           C  \\nATOM    337  O   SER A 265       7.168  59.452  -2.153  1.00 65.76           O  \\nATOM    338  CB  SER A 265       7.032  59.133  -4.882  1.00 69.42           C  \\nATOM    339  OG  SER A 265       7.171  58.920  -6.275  1.00 72.47           O  \\nATOM    340  N   LEU A 266       8.639  57.770  -1.872  1.00 58.48           N  \\nATOM    341  CA  LEU A 266       8.480  57.695  -0.429  1.00 53.91           C  \\nATOM    342  C   LEU A 266       9.614  58.376   0.328  1.00 51.41           C  \\nATOM    343  O   LEU A 266      10.793  58.124   0.062  1.00 50.02           O  \\nATOM    344  CB  LEU A 266       8.401  56.228  -0.006  1.00 51.74           C  \\nATOM    345  CG  LEU A 266       8.126  55.926   1.468  1.00 53.35           C  \\nATOM    346  CD1 LEU A 266       6.696  56.323   1.812  1.00 50.66           C  \\nATOM    347  CD2 LEU A 266       8.340  54.444   1.732  1.00 48.73           C  \\nATOM    348  N   THR A 267       9.252  59.247   1.266  1.00 47.07           N  \\nATOM    349  CA  THR A 267      10.247  59.930   2.081  1.00 44.50           C  \\nATOM    350  C   THR A 267      10.635  58.958   3.188  1.00 41.84           C  \\nATOM    351  O   THR A 267       9.771  58.382   3.848  1.00 40.72           O  \\nATOM    352  CB  THR A 267       9.691  61.212   2.708  1.00 45.02           C  \\nATOM    353  OG1 THR A 267       9.328  62.129   1.672  1.00 46.49           O  \\nATOM    354  CG2 THR A 267      10.736  61.856   3.606  1.00 40.98           C  \\nATOM    355  N   VAL A 268      11.935  58.779   3.386  1.00 37.58           N  \\nATOM    356  CA  VAL A 268      12.429  57.849   4.387  1.00 36.97           C  \\nATOM    357  C   VAL A 268      13.546  58.467   5.214  1.00 39.82           C  \\nATOM    358  O   VAL A 268      14.052  59.543   4.891  1.00 39.44           O  \\nATOM    359  CB  VAL A 268      12.996  56.566   3.717  1.00 36.94           C  \\nATOM    360  CG1 VAL A 268      11.950  55.938   2.803  1.00 39.02           C  \\nATOM    361  CG2 VAL A 268      14.248  56.907   2.925  1.00 33.41           C  \\nATOM    362  N   ALA A 269      13.915  57.776   6.289  1.00 36.76           N  \\nATOM    363  CA  ALA A 269      15.004  58.208   7.156  1.00 35.79           C  \\nATOM    364  C   ALA A 269      16.121  57.206   6.899  1.00 36.85           C  \\nATOM    365  O   ALA A 269      15.887  56.000   6.889  1.00 36.10           O  \\nATOM    366  CB  ALA A 269      14.583  58.157   8.619  1.00 28.49           C  \\nATOM    367  N   VAL A 270      17.332  57.702   6.686  1.00 38.68           N  \\nATOM    368  CA  VAL A 270      18.457  56.827   6.414  1.00 39.33           C  \\nATOM    369  C   VAL A 270      19.606  57.048   7.389  1.00 41.20           C  \\nATOM    370  O   VAL A 270      20.265  58.088   7.367  1.00 39.20           O  \\nATOM    371  CB  VAL A 270      18.978  57.033   4.967  1.00 41.50           C  \\nATOM    372  CG1 VAL A 270      20.112  56.061   4.671  1.00 44.19           C  \\nATOM    373  CG2 VAL A 270      17.843  56.838   3.971  1.00 40.59           C  \\nATOM    374  N   LYS A 271      19.832  56.072   8.262  1.00 41.77           N  \\nATOM    375  CA  LYS A 271      20.934  56.165   9.198  1.00 42.80           C  \\nATOM    376  C   LYS A 271      22.155  55.632   8.458  1.00 48.02           C  \\nATOM    377  O   LYS A 271      22.061  54.651   7.716  1.00 44.88           O  \\nATOM    378  CB  LYS A 271      20.684  55.319  10.447  1.00 41.74           C  \\nATOM    379  CG  LYS A 271      21.824  55.414  11.465  1.00 40.61           C  \\nATOM    380  CD  LYS A 271      21.542  54.654  12.745  1.00 39.04           C  \\nATOM    381  CE  LYS A 271      22.647  54.906  13.769  1.00 43.13           C  \\nATOM    382  NZ  LYS A 271      22.429  54.229  15.083  1.00 41.62           N  \\nATOM    383  N   THR A 272      23.292  56.289   8.642  1.00 50.52           N  \\nATOM    384  CA  THR A 272      24.514  55.857   7.990  1.00 57.69           C  \\nATOM    385  C   THR A 272      25.669  55.875   8.981  1.00 61.64           C  \\nATOM    386  O   THR A 272      25.496  56.238  10.146  1.00 57.70           O  \\nATOM    387  CB  THR A 272      24.858  56.749   6.786  1.00 57.28           C  \\nATOM    388  OG1 THR A 272      26.062  56.271   6.175  1.00 61.89           O  \\nATOM    389  CG2 THR A 272      25.048  58.195   7.223  1.00 59.11           C  \\nATOM    390  N   LEU A 273      26.848  55.476   8.520  1.00 66.84           N  \\nATOM    391  CA  LEU A 273      28.011  55.436   9.391  1.00 73.77           C  \\nATOM    392  C   LEU A 273      29.035  56.489   8.986  1.00 78.92           C  \\nATOM    393  O   LEU A 273      29.333  56.657   7.801  1.00 78.87           O  \\nATOM    394  CB  LEU A 273      28.630  54.040   9.344  1.00 72.50           C  \\nATOM    395  CG  LEU A 273      29.473  53.616  10.542  1.00 73.48           C  \\nATOM    396  CD1 LEU A 273      28.739  53.933  11.834  1.00 71.62           C  \\nATOM    397  CD2 LEU A 273      29.764  52.126  10.441  1.00 74.69           C  \\nATOM    398  N   LYS A 274      29.566  57.202   9.976  1.00 85.21           N  \\nATOM    399  CA  LYS A 274      30.554  58.245   9.722  1.00 91.78           C  \\nATOM    400  C   LYS A 274      31.666  57.720   8.818  1.00 95.68           C  \\nATOM    401  O   LYS A 274      31.762  56.518   8.568  1.00 96.61           O  \\nATOM    402  CB  LYS A 274      31.163  58.753  11.035  1.00 91.97           C  \\nATOM    403  CG  LYS A 274      30.158  59.196  12.091  1.00 92.15           C  \\nATOM    404  CD  LYS A 274      29.666  58.017  12.918  1.00 92.01           C  \\nATOM    405  CE  LYS A 274      28.856  58.484  14.115  1.00 93.16           C  \\nATOM    406  NZ  LYS A 274      28.526  57.359  15.036  1.00 94.89           N  \\nATOM    407  N   GLU A 275      32.507  58.630   8.339  1.00 99.49           N  \\nATOM    408  CA  GLU A 275      33.609  58.280   7.451  1.00103.37           C  \\nATOM    409  C   GLU A 275      34.483  57.161   8.014  1.00104.67           C  \\nATOM    410  O   GLU A 275      35.564  57.412   8.545  1.00104.96           O  \\nATOM    411  CB  GLU A 275      34.466  59.518   7.180  1.00105.54           C  \\nATOM    412  CG  GLU A 275      33.665  60.798   6.942  1.00109.06           C  \\nATOM    413  CD  GLU A 275      32.617  60.658   5.849  1.00110.66           C  \\nATOM    414  OE1 GLU A 275      31.646  59.893   6.041  1.00112.02           O  \\nATOM    415  OE2 GLU A 275      32.763  61.316   4.797  1.00111.60           O  \\nATOM    416  N   ASP A 276      34.004  55.927   7.891  1.00106.84           N  \\nATOM    417  CA  ASP A 276      34.727  54.755   8.374  1.00108.62           C  \\nATOM    418  C   ASP A 276      35.102  54.870   9.850  1.00108.52           C  \\nATOM    419  O   ASP A 276      36.228  55.235  10.189  1.00108.58           O  \\nATOM    420  CB  ASP A 276      35.985  54.545   7.529  1.00110.36           C  \\nATOM    421  CG  ASP A 276      35.673  54.388   6.052  1.00112.32           C  \\nATOM    422  OD1 ASP A 276      36.624  54.333   5.244  1.00114.19           O  \\nATOM    423  OD2 ASP A 276      34.476  54.318   5.699  1.00112.05           O  \\nATOM    424  N   THR A 277      34.150  54.548  10.721  1.00108.10           N  \\nATOM    425  CA  THR A 277      34.370  54.612  12.161  1.00107.87           C  \\nATOM    426  C   THR A 277      34.409  53.212  12.772  1.00107.13           C  \\nATOM    427  O   THR A 277      33.844  52.268  12.221  1.00108.80           O  \\nATOM    428  CB  THR A 277      33.265  55.442  12.851  1.00108.53           C  \\nATOM    429  OG1 THR A 277      33.275  56.775  12.324  1.00108.64           O  \\nATOM    430  CG2 THR A 277      33.494  55.500  14.356  1.00109.10           C  \\nATOM    431  N   MET A 278      35.078  53.094  13.914  1.00105.49           N  \\nATOM    432  CA  MET A 278      35.227  51.822  14.617  1.00104.49           C  \\nATOM    433  C   MET A 278      33.928  51.327  15.249  1.00102.58           C  \\nATOM    434  O   MET A 278      33.946  50.759  16.340  1.00101.99           O  \\nATOM    435  CB  MET A 278      36.282  51.969  15.713  1.00106.87           C  \\nATOM    436  CG  MET A 278      37.537  52.705  15.280  1.00108.96           C  \\nATOM    437  SD  MET A 278      38.556  53.175  16.690  1.00112.57           S  \\nATOM    438  CE  MET A 278      37.747  54.702  17.197  1.00108.93           C  \\nATOM    439  N   GLU A 279      32.805  51.532  14.570  1.00100.41           N  \\nATOM    440  CA  GLU A 279      31.519  51.104  15.108  1.00 97.21           C  \\nATOM    441  C   GLU A 279      30.730  50.224  14.150  1.00 93.50           C  \\nATOM    442  O   GLU A 279      29.541  49.985  14.360  1.00 93.12           O  \\nATOM    443  CB  GLU A 279      30.676  52.323  15.477  1.00100.48           C  \\nATOM    444  CG  GLU A 279      31.311  53.221  16.520  1.00104.42           C  \\nATOM    445  CD  GLU A 279      30.496  54.471  16.773  1.00107.14           C  \\nATOM    446  OE1 GLU A 279      30.300  55.255  15.820  1.00108.12           O  \\nATOM    447  OE2 GLU A 279      30.050  54.667  17.924  1.00109.40           O  \\nATOM    448  N   VAL A 280      31.389  49.744  13.102  1.00 88.61           N  \\nATOM    449  CA  VAL A 280      30.730  48.892  12.121  1.00 84.21           C  \\nATOM    450  C   VAL A 280      30.077  47.691  12.796  1.00 81.38           C  \\nATOM    451  O   VAL A 280      28.927  47.354  12.513  1.00 81.23           O  \\nATOM    452  CB  VAL A 280      31.731  48.383  11.065  1.00 83.29           C  \\nATOM    453  CG1 VAL A 280      31.025  47.472  10.077  1.00 82.30           C  \\nATOM    454  CG2 VAL A 280      32.361  49.562  10.341  1.00 83.12           C  \\nATOM    455  N   GLU A 281      30.817  47.056  13.696  1.00 77.19           N  \\nATOM    456  CA  GLU A 281      30.320  45.890  14.412  1.00 74.61           C  \\nATOM    457  C   GLU A 281      28.995  46.170  15.115  1.00 71.94           C  \\nATOM    458  O   GLU A 281      28.087  45.340  15.101  1.00 69.85           O  \\nATOM    459  CB  GLU A 281      31.364  45.429  15.434  1.00 78.87           C  \\nATOM    460  CG  GLU A 281      30.971  44.193  16.225  1.00 83.08           C  \\nATOM    461  CD  GLU A 281      30.569  43.035  15.331  1.00 87.75           C  \\nATOM    462  OE1 GLU A 281      31.338  42.699  14.405  1.00 89.34           O  \\nATOM    463  OE2 GLU A 281      29.484  42.459  15.556  1.00 90.59           O  \\nATOM    464  N   GLU A 282      28.886  47.343  15.729  1.00 68.51           N  \\nATOM    465  CA  GLU A 282      27.671  47.709  16.442  1.00 65.04           C  \\nATOM    466  C   GLU A 282      26.552  48.050  15.463  1.00 62.24           C  \\nATOM    467  O   GLU A 282      25.398  47.667  15.660  1.00 58.75           O  \\nATOM    468  CB  GLU A 282      27.936  48.905  17.358  1.00 66.22           C  \\nATOM    469  CG  GLU A 282      27.076  48.896  18.606  1.00 71.71           C  \\nATOM    470  CD  GLU A 282      27.249  47.612  19.405  1.00 74.81           C  \\nATOM    471  OE1 GLU A 282      28.397  47.315  19.803  1.00 73.26           O  \\nATOM    472  OE2 GLU A 282      26.244  46.900  19.631  1.00 74.49           O  \\nATOM    473  N   PHE A 283      26.911  48.770  14.407  1.00 58.85           N  \\nATOM    474  CA  PHE A 283      25.960  49.175  13.384  1.00 57.27           C  \\nATOM    475  C   PHE A 283      25.299  47.930  12.788  1.00 59.11           C  \\nATOM    476  O   PHE A 283      24.072  47.798  12.798  1.00 57.92           O  \\nATOM    477  CB  PHE A 283      26.688  49.957  12.291  1.00 54.32           C  \\nATOM    478  CG  PHE A 283      25.777  50.578  11.276  1.00 55.65           C  \\nATOM    479  CD1 PHE A 283      25.266  51.856  11.470  1.00 56.26           C  \\nATOM    480  CD2 PHE A 283      25.428  49.885  10.122  1.00 56.39           C  \\nATOM    481  CE1 PHE A 283      24.421  52.440  10.527  1.00 57.86           C  \\nATOM    482  CE2 PHE A 283      24.582  50.455   9.172  1.00 57.75           C  \\nATOM    483  CZ  PHE A 283      24.078  51.736   9.374  1.00 56.56           C  \\nATOM    484  N   LEU A 284      26.119  47.015  12.278  1.00 57.97           N  \\nATOM    485  CA  LEU A 284      25.608  45.789  11.683  1.00 56.43           C  \\nATOM    486  C   LEU A 284      24.746  44.988  12.649  1.00 53.73           C  \\nATOM    487  O   LEU A 284      23.787  44.344  12.231  1.00 53.01           O  \\nATOM    488  CB  LEU A 284      26.756  44.918  11.167  1.00 56.46           C  \\nATOM    489  CG  LEU A 284      27.179  45.134   9.710  1.00 60.06           C  \\nATOM    490  CD1 LEU A 284      27.690  46.550   9.510  1.00 63.96           C  \\nATOM    491  CD2 LEU A 284      28.256  44.125   9.349  1.00 63.47           C  \\nATOM    492  N   LYS A 285      25.076  45.028  13.936  1.00 50.01           N  \\nATOM    493  CA  LYS A 285      24.290  44.291  14.920  1.00 50.13           C  \\nATOM    494  C   LYS A 285      22.896  44.895  15.080  1.00 48.51           C  \\nATOM    495  O   LYS A 285      21.926  44.179  15.351  1.00 45.48           O  \\nATOM    496  CB  LYS A 285      24.987  44.271  16.282  1.00 53.64           C  \\nATOM    497  CG  LYS A 285      24.178  43.527  17.338  1.00 59.24           C  \\nATOM    498  CD  LYS A 285      24.916  43.371  18.656  1.00 63.43           C  \\nATOM    499  CE  LYS A 285      24.130  42.457  19.594  1.00 66.18           C  \\nATOM    500  NZ  LYS A 285      24.848  42.170  20.868  1.00 67.20           N  \\nATOM    501  N   GLU A 286      22.803  46.214  14.922  1.00 46.42           N  \\nATOM    502  CA  GLU A 286      21.524  46.906  15.044  1.00 43.23           C  \\nATOM    503  C   GLU A 286      20.647  46.456  13.885  1.00 41.75           C  \\nATOM    504  O   GLU A 286      19.487  46.081  14.068  1.00 39.37           O  \\nATOM    505  CB  GLU A 286      21.718  48.422  14.968  1.00 45.84           C  \\nATOM    506  CG  GLU A 286      20.487  49.204  15.395  1.00 48.48           C  \\nATOM    507  CD  GLU A 286      20.604  50.692  15.147  1.00 48.38           C  \\nATOM    508  OE1 GLU A 286      21.742  51.204  15.070  1.00 54.00           O  \\nATOM    509  OE2 GLU A 286      19.551  51.355  15.043  1.00 46.58           O  \\nATOM    510  N   ALA A 287      21.229  46.505  12.692  1.00 40.04           N  \\nATOM    511  CA  ALA A 287      20.555  46.106  11.468  1.00 43.54           C  \\nATOM    512  C   ALA A 287      19.992  44.691  11.594  1.00 43.53           C  \\nATOM    513  O   ALA A 287      18.834  44.448  11.257  1.00 43.63           O  \\nATOM    514  CB  ALA A 287      21.528  46.185  10.299  1.00 40.83           C  \\nATOM    515  N   ALA A 288      20.810  43.767  12.093  1.00 39.76           N  \\nATOM    516  CA  ALA A 288      20.389  42.379  12.256  1.00 41.18           C  \\nATOM    517  C   ALA A 288      19.234  42.281  13.239  1.00 41.57           C  \\nATOM    518  O   ALA A 288      18.293  41.508  13.041  1.00 40.79           O  \\nATOM    519  CB  ALA A 288      21.561  41.525  12.742  1.00 42.62           C  \\nATOM    520  N   VAL A 289      19.318  43.065  14.308  1.00 41.14           N  \\nATOM    521  CA  VAL A 289      18.285  43.085  15.329  1.00 40.67           C  \\nATOM    522  C   VAL A 289      16.953  43.579  14.765  1.00 38.56           C  \\nATOM    523  O   VAL A 289      15.903  43.020  15.066  1.00 39.21           O  \\nATOM    524  CB  VAL A 289      18.707  43.995  16.502  1.00 46.12           C  \\nATOM    525  CG1 VAL A 289      17.520  44.285  17.407  1.00 45.06           C  \\nATOM    526  CG2 VAL A 289      19.814  43.321  17.290  1.00 49.75           C  \\nATOM    527  N   MET A 290      17.004  44.621  13.941  1.00 36.17           N  \\nATOM    528  CA  MET A 290      15.794  45.198  13.359  1.00 37.51           C  \\nATOM    529  C   MET A 290      15.089  44.287  12.356  1.00 39.07           C  \\nATOM    530  O   MET A 290      13.885  44.419  12.112  1.00 35.14           O  \\nATOM    531  CB  MET A 290      16.127  46.535  12.701  1.00 33.63           C  \\nATOM    532  CG  MET A 290      16.531  47.613  13.704  1.00 36.33           C  \\nATOM    533  SD  MET A 290      16.980  49.135  12.889  1.00 39.96           S  \\nATOM    534  CE  MET A 290      18.684  48.806  12.519  1.00 51.96           C  \\nATOM    535  N   LYS A 291      15.846  43.365  11.775  1.00 36.43           N  \\nATOM    536  CA  LYS A 291      15.300  42.431  10.814  1.00 36.81           C  \\nATOM    537  C   LYS A 291      14.493  41.367  11.541  1.00 39.17           C  \\nATOM    538  O   LYS A 291      13.707  40.654  10.925  1.00 41.19           O  \\nATOM    539  CB  LYS A 291      16.433  41.759  10.034  1.00 34.17           C  \\nATOM    540  CG  LYS A 291      17.275  42.705   9.206  1.00 33.05           C  \\nATOM    541  CD  LYS A 291      18.438  41.964   8.574  1.00 35.08           C  \\nATOM    542  CE  LYS A 291      19.265  42.882   7.693  1.00 36.71           C  \\nATOM    543  NZ  LYS A 291      20.480  42.180   7.195  1.00 37.23           N  \\nATOM    544  N   GLU A 292      14.688  41.272  12.854  1.00 41.09           N  \\nATOM    545  CA  GLU A 292      14.014  40.271  13.674  1.00 44.08           C  \\nATOM    546  C   GLU A 292      12.728  40.757  14.327  1.00 46.84           C  \\nATOM    547  O   GLU A 292      12.006  39.968  14.937  1.00 44.93           O  \\nATOM    548  CB  GLU A 292      14.956  39.782  14.781  1.00 51.61           C  \\nATOM    549  CG  GLU A 292      16.395  39.578  14.333  1.00 61.83           C  \\nATOM    550  CD  GLU A 292      16.547  38.442  13.343  1.00 70.84           C  \\nATOM    551  OE1 GLU A 292      17.569  38.419  12.621  1.00 74.11           O  \\nATOM    552  OE2 GLU A 292      15.652  37.568  13.296  1.00 73.85           O  \\nATOM    553  N   ILE A 293      12.433  42.047  14.221  1.00 45.34           N  \\nATOM    554  CA  ILE A 293      11.224  42.549  14.854  1.00 43.04           C  \\nATOM    555  C   ILE A 293      10.281  43.289  13.921  1.00 39.79           C  \\nATOM    556  O   ILE A 293      10.700  43.964  12.982  1.00 41.36           O  \\nATOM    557  CB  ILE A 293      11.572  43.447  16.073  1.00 44.39           C  \\nATOM    558  CG1 ILE A 293      12.469  44.606  15.649  1.00 42.85           C  \\nATOM    559  CG2 ILE A 293      12.283  42.617  17.136  1.00 43.52           C  \\nATOM    560  CD1 ILE A 293      13.039  45.400  16.830  1.00 38.44           C  \\nATOM    561  N   LYS A 294       8.992  43.131  14.177  1.00 38.02           N  \\nATOM    562  CA  LYS A 294       7.971  43.784  13.378  1.00 38.05           C  \\nATOM    563  C   LYS A 294       6.726  43.914  14.232  1.00 37.49           C  \\nATOM    564  O   LYS A 294       6.274  42.954  14.849  1.00 41.54           O  \\nATOM    565  CB  LYS A 294       7.655  42.972  12.121  1.00 39.82           C  \\nATOM    566  CG  LYS A 294       6.631  43.639  11.217  1.00 47.36           C  \\nATOM    567  CD  LYS A 294       6.320  42.805   9.988  1.00 53.53           C  \\nATOM    568  CE  LYS A 294       5.334  43.533   9.081  1.00 59.69           C  \\nATOM    569  NZ  LYS A 294       4.940  42.705   7.902  1.00 65.62           N  \\nATOM    570  N   HIS A 295       6.178  45.117  14.260  1.00 39.05           N  \\nATOM    571  CA  HIS A 295       4.997  45.406  15.052  1.00 36.19           C  \\nATOM    572  C   HIS A 295       4.506  46.778  14.604  1.00 36.03           C  \\nATOM    573  O   HIS A 295       5.309  47.658  14.285  1.00 34.30           O  \\nATOM    574  CB  HIS A 295       5.381  45.406  16.534  1.00 33.78           C  \\nATOM    575  CG  HIS A 295       4.229  45.620  17.464  1.00 39.38           C  \\nATOM    576  ND1 HIS A 295       3.714  46.870  17.737  1.00 35.33           N  \\nATOM    577  CD2 HIS A 295       3.500  44.744  18.194  1.00 35.39           C  \\nATOM    578  CE1 HIS A 295       2.722  46.755  18.601  1.00 34.05           C  \\nATOM    579  NE2 HIS A 295       2.572  45.476  18.894  1.00 35.13           N  \\nATOM    580  N   PRO A 296       3.178  46.976  14.561  1.00 38.60           N  \\nATOM    581  CA  PRO A 296       2.626  48.266  14.136  1.00 34.76           C  \\nATOM    582  C   PRO A 296       3.129  49.462  14.933  1.00 31.90           C  \\nATOM    583  O   PRO A 296       3.106  50.585  14.435  1.00 29.90           O  \\nATOM    584  CB  PRO A 296       1.117  48.063  14.279  1.00 34.42           C  \\nATOM    585  CG  PRO A 296       1.016  47.064  15.393  1.00 40.77           C  \\nATOM    586  CD  PRO A 296       2.106  46.080  15.036  1.00 36.24           C  \\nATOM    587  N   ASN A 297       3.585  49.233  16.160  1.00 28.46           N  \\nATOM    588  CA  ASN A 297       4.067  50.349  16.959  1.00 31.31           C  \\nATOM    589  C   ASN A 297       5.577  50.390  17.213  1.00 31.59           C  \\nATOM    590  O   ASN A 297       6.038  50.962  18.201  1.00 29.62           O  \\nATOM    591  CB  ASN A 297       3.282  50.437  18.270  1.00 30.26           C  \\nATOM    592  CG  ASN A 297       1.792  50.647  18.031  1.00 35.25           C  \\nATOM    593  OD1 ASN A 297       0.991  49.727  18.183  1.00 33.42           O  \\nATOM    594  ND2 ASN A 297       1.420  51.858  17.632  1.00 30.25           N  \\nATOM    595  N   LEU A 298       6.337  49.775  16.309  1.00 31.76           N  \\nATOM    596  CA  LEU A 298       7.794  49.804  16.369  1.00 30.17           C  \\nATOM    597  C   LEU A 298       8.206  50.358  15.014  1.00 29.35           C  \\nATOM    598  O   LEU A 298       7.685  49.925  13.984  1.00 31.76           O  \\nATOM    599  CB  LEU A 298       8.383  48.402  16.589  1.00 34.10           C  \\nATOM    600  CG  LEU A 298       8.334  47.914  18.044  1.00 37.93           C  \\nATOM    601  CD1 LEU A 298       8.761  46.461  18.142  1.00 44.49           C  \\nATOM    602  CD2 LEU A 298       9.250  48.790  18.891  1.00 42.06           C  \\nATOM    603  N   VAL A 299       9.117  51.327  15.007  1.00 29.86           N  \\nATOM    604  CA  VAL A 299       9.558  51.926  13.752  1.00 29.74           C  \\nATOM    605  C   VAL A 299       9.880  50.799  12.788  1.00 32.64           C  \\nATOM    606  O   VAL A 299      10.553  49.836  13.143  1.00 34.18           O  \\nATOM    607  CB  VAL A 299      10.795  52.843  13.957  1.00 31.93           C  \\nATOM    608  CG1 VAL A 299      11.989  52.026  14.440  1.00 31.67           C  \\nATOM    609  CG2 VAL A 299      11.107  53.575  12.656  1.00 27.08           C  \\nATOM    610  N   GLN A 300       9.395  50.918  11.561  1.00 36.89           N  \\nATOM    611  CA  GLN A 300       9.581  49.858  10.586  1.00 34.35           C  \\nATOM    612  C   GLN A 300      10.818  49.908   9.702  1.00 32.38           C  \\nATOM    613  O   GLN A 300      11.059  50.888   9.002  1.00 28.78           O  \\nATOM    614  CB  GLN A 300       8.329  49.783   9.711  1.00 38.24           C  \\nATOM    615  CG  GLN A 300       8.360  48.722   8.633  1.00 45.76           C  \\nATOM    616  CD  GLN A 300       7.021  48.608   7.920  1.00 58.64           C  \\nATOM    617  OE1 GLN A 300       6.469  49.605   7.438  1.00 54.86           O  \\nATOM    618  NE2 GLN A 300       6.489  47.390   7.851  1.00 62.71           N  \\nATOM    619  N   LEU A 301      11.593  48.829   9.740  1.00 32.68           N  \\nATOM    620  CA  LEU A 301      12.781  48.700   8.904  1.00 33.23           C  \\nATOM    621  C   LEU A 301      12.273  48.546   7.473  1.00 36.25           C  \\nATOM    622  O   LEU A 301      11.344  47.774   7.223  1.00 31.07           O  \\nATOM    623  CB  LEU A 301      13.568  47.440   9.281  1.00 31.96           C  \\nATOM    624  CG  LEU A 301      14.695  47.059   8.314  1.00 33.28           C  \\nATOM    625  CD1 LEU A 301      15.826  48.077   8.434  1.00 33.89           C  \\nATOM    626  CD2 LEU A 301      15.203  45.651   8.625  1.00 32.55           C  \\nATOM    627  N   LEU A 302      12.865  49.278   6.534  1.00 35.26           N  \\nATOM    628  CA  LEU A 302      12.447  49.163   5.145  1.00 35.73           C  \\nATOM    629  C   LEU A 302      13.531  48.497   4.301  1.00 39.80           C  \\nATOM    630  O   LEU A 302      13.247  47.912   3.254  1.00 37.37           O  \\nATOM    631  CB  LEU A 302      12.102  50.539   4.566  1.00 34.10           C  \\nATOM    632  CG  LEU A 302      10.853  51.207   5.153  1.00 34.54           C  \\nATOM    633  CD1 LEU A 302      10.554  52.502   4.403  1.00 32.15           C  \\nATOM    634  CD2 LEU A 302       9.665  50.252   5.042  1.00 36.35           C  \\nATOM    635  N   GLY A 303      14.772  48.574   4.768  1.00 37.46           N  \\nATOM    636  CA  GLY A 303      15.866  47.972   4.030  1.00 39.94           C  \\nATOM    637  C   GLY A 303      17.224  48.400   4.541  1.00 42.93           C  \\nATOM    638  O   GLY A 303      17.325  49.295   5.386  1.00 39.55           O  \\nATOM    639  N   VAL A 304      18.269  47.755   4.031  1.00 43.17           N  \\nATOM    640  CA  VAL A 304      19.635  48.070   4.429  1.00 45.73           C  \\nATOM    641  C   VAL A 304      20.589  48.085   3.239  1.00 47.37           C  \\nATOM    642  O   VAL A 304      20.256  47.628   2.146  1.00 46.95           O  \\nATOM    643  CB  VAL A 304      20.183  47.049   5.450  1.00 43.53           C  \\nATOM    644  CG1 VAL A 304      19.294  47.005   6.674  1.00 46.51           C  \\nATOM    645  CG2 VAL A 304      20.291  45.667   4.801  1.00 46.43           C  \\nATOM    646  N   CYS A 305      21.775  48.635   3.470  1.00 48.86           N  \\nATOM    647  CA  CYS A 305      22.835  48.708   2.468  1.00 52.92           C  \\nATOM    648  C   CYS A 305      24.108  48.473   3.260  1.00 54.98           C  \\nATOM    649  O   CYS A 305      24.899  49.390   3.469  1.00 53.49           O  \\nATOM    650  CB  CYS A 305      22.891  50.089   1.811  1.00 55.07           C  \\nATOM    651  SG  CYS A 305      21.479  50.532   0.770  1.00 53.92           S  \\nATOM    652  N   THR A 306      24.274  47.240   3.728  1.00 58.21           N  \\nATOM    653  CA  THR A 306      25.433  46.859   4.521  1.00 63.84           C  \\nATOM    654  C   THR A 306      26.261  45.825   3.773  1.00 69.89           C  \\nATOM    655  O   THR A 306      26.799  44.885   4.363  1.00 69.00           O  \\nATOM    656  CB  THR A 306      25.009  46.274   5.878  1.00 61.24           C  \\nATOM    657  OG1 THR A 306      24.179  45.127   5.665  1.00 62.30           O  \\nATOM    658  CG2 THR A 306      24.239  47.308   6.683  1.00 60.57           C  \\nATOM    659  N   ARG A 307      26.350  46.011   2.463  1.00 74.98           N  \\nATOM    660  CA  ARG A 307      27.113  45.122   1.604  1.00 81.68           C  \\nATOM    661  C   ARG A 307      28.464  45.796   1.389  1.00 83.80           C  \\nATOM    662  O   ARG A 307      29.518  45.163   1.466  1.00 83.37           O  \\nATOM    663  CB  ARG A 307      26.389  44.955   0.264  1.00 85.14           C  \\nATOM    664  CG  ARG A 307      26.952  43.877  -0.649  1.00 91.42           C  \\nATOM    665  CD  ARG A 307      26.429  42.492  -0.289  1.00 95.61           C  \\nATOM    666  NE  ARG A 307      26.811  42.080   1.059  1.00 99.22           N  \\nATOM    667  CZ  ARG A 307      26.543  40.885   1.576  1.00100.78           C  \\nATOM    668  NH1 ARG A 307      25.890  39.980   0.857  1.00100.95           N  \\nATOM    669  NH2 ARG A 307      26.932  40.591   2.810  1.00101.65           N  \\nATOM    670  N   GLU A 308      28.410  47.100   1.136  1.00 84.91           N  \\nATOM    671  CA  GLU A 308      29.600  47.903   0.893  1.00 85.91           C  \\nATOM    672  C   GLU A 308      29.396  49.283   1.505  1.00 84.27           C  \\nATOM    673  O   GLU A 308      28.294  49.826   1.470  1.00 83.82           O  \\nATOM    674  CB  GLU A 308      29.816  48.060  -0.612  1.00 88.44           C  \\nATOM    675  CG  GLU A 308      29.669  46.773  -1.402  1.00 94.47           C  \\nATOM    676  CD  GLU A 308      29.243  47.025  -2.835  1.00 98.64           C  \\nATOM    677  OE1 GLU A 308      28.166  47.630  -3.031  1.00100.43           O  \\nATOM    678  OE2 GLU A 308      29.980  46.620  -3.760  1.00100.21           O  \\nATOM    679  N   PRO A 309      30.455  49.866   2.085  1.00 82.20           N  \\nATOM    680  CA  PRO A 309      30.322  51.198   2.685  1.00 79.18           C  \\nATOM    681  C   PRO A 309      29.982  52.224   1.599  1.00 74.74           C  \\nATOM    682  O   PRO A 309      30.333  52.034   0.435  1.00 73.53           O  \\nATOM    683  CB  PRO A 309      31.702  51.437   3.293  1.00 79.98           C  \\nATOM    684  CG  PRO A 309      32.149  50.048   3.655  1.00 81.49           C  \\nATOM    685  CD  PRO A 309      31.753  49.261   2.430  1.00 81.87           C  \\nATOM    686  N   PRO A 310      29.280  53.314   1.959  1.00 71.89           N  \\nATOM    687  CA  PRO A 310      28.777  53.671   3.293  1.00 68.73           C  \\nATOM    688  C   PRO A 310      27.537  52.853   3.646  1.00 65.13           C  \\nATOM    689  O   PRO A 310      26.596  52.770   2.858  1.00 64.84           O  \\nATOM    690  CB  PRO A 310      28.444  55.160   3.156  1.00 69.64           C  \\nATOM    691  CG  PRO A 310      29.257  55.611   1.974  1.00 72.03           C  \\nATOM    692  CD  PRO A 310      29.123  54.449   1.038  1.00 71.40           C  \\nATOM    693  N   PHE A 311      27.528  52.264   4.834  1.00 60.80           N  \\nATOM    694  CA  PHE A 311      26.394  51.455   5.256  1.00 58.88           C  \\nATOM    695  C   PHE A 311      25.128  52.270   5.519  1.00 55.00           C  \\nATOM    696  O   PHE A 311      25.180  53.384   6.047  1.00 51.84           O  \\nATOM    697  CB  PHE A 311      26.774  50.645   6.498  1.00 61.48           C  \\nATOM    698  CG  PHE A 311      27.854  49.626   6.246  1.00 66.39           C  \\nATOM    699  CD1 PHE A 311      28.484  48.984   7.307  1.00 68.62           C  \\nATOM    700  CD2 PHE A 311      28.243  49.308   4.948  1.00 69.06           C  \\nATOM    701  CE1 PHE A 311      29.488  48.042   7.078  1.00 69.33           C  \\nATOM    702  CE2 PHE A 311      29.244  48.369   4.709  1.00 71.13           C  \\nATOM    703  CZ  PHE A 311      29.867  47.735   5.778  1.00 69.02           C  \\nATOM    704  N   TYR A 312      23.992  51.695   5.134  1.00 50.78           N  \\nATOM    705  CA  TYR A 312      22.686  52.324   5.308  1.00 45.58           C  \\nATOM    706  C   TYR A 312      21.700  51.433   6.059  1.00 46.07           C  \\nATOM    707  O   TYR A 312      21.755  50.206   5.971  1.00 43.96           O  \\nATOM    708  CB  TYR A 312      22.033  52.616   3.953  1.00 46.09           C  \\nATOM    709  CG  TYR A 312      22.559  53.778   3.147  1.00 43.06           C  \\nATOM    710  CD1 TYR A 312      21.987  54.085   1.912  1.00 46.04           C  \\nATOM    711  CD2 TYR A 312      23.607  54.573   3.602  1.00 46.12           C  \\nATOM    712  CE1 TYR A 312      22.440  55.154   1.149  1.00 49.30           C  \\nATOM    713  CE2 TYR A 312      24.074  55.652   2.839  1.00 47.40           C  \\nATOM    714  CZ  TYR A 312      23.483  55.933   1.617  1.00 51.68           C  \\nATOM    715  OH  TYR A 312      23.929  56.990   0.854  1.00 59.35           O  \\nATOM    716  N   ILE A 313      20.799  52.067   6.803  1.00 44.59           N  \\nATOM    717  CA  ILE A 313      19.714  51.367   7.479  1.00 38.94           C  \\nATOM    718  C   ILE A 313      18.563  52.313   7.219  1.00 40.63           C  \\nATOM    719  O   ILE A 313      18.564  53.451   7.694  1.00 40.12           O  \\nATOM    720  CB  ILE A 313      19.887  51.209   8.994  1.00 36.35           C  \\nATOM    721  CG1 ILE A 313      20.972  50.183   9.299  1.00 30.56           C  \\nATOM    722  CG2 ILE A 313      18.583  50.682   9.602  1.00 32.34           C  \\nATOM    723  CD1 ILE A 313      21.190  49.984  10.767  1.00 28.65           C  \\nATOM    724  N   ILE A 314      17.597  51.846   6.440  1.00 37.19           N  \\nATOM    725  CA  ILE A 314      16.456  52.663   6.076  1.00 36.89           C  \\nATOM    726  C   ILE A 314      15.172  52.234   6.776  1.00 36.98           C  \\nATOM    727  O   ILE A 314      14.820  51.051   6.792  1.00 34.48           O  \\nATOM    728  CB  ILE A 314      16.218  52.622   4.545  1.00 35.83           C  \\nATOM    729  CG1 ILE A 314      17.507  52.973   3.797  1.00 38.96           C  \\nATOM    730  CG2 ILE A 314      15.133  53.611   4.149  1.00 30.95           C  \\nATOM    731  CD1 ILE A 314      18.236  51.777   3.233  1.00 42.05           C  \\nATOM    732  N   THR A 315      14.488  53.206   7.369  1.00 37.45           N  \\nATOM    733  CA  THR A 315      13.210  52.957   8.030  1.00 36.03           C  \\nATOM    734  C   THR A 315      12.233  54.002   7.501  1.00 36.77           C  \\nATOM    735  O   THR A 315      12.615  54.909   6.754  1.00 33.63           O  \\nATOM    736  CB  THR A 315      13.279  53.135   9.552  1.00 34.61           C  \\nATOM    737  OG1 THR A 315      13.462  54.521   9.857  1.00 32.38           O  \\nATOM    738  CG2 THR A 315      14.424  52.319  10.148  1.00 36.12           C  \\nATOM    739  N   GLU A 316      10.973  53.869   7.892  1.00 36.95           N  \\nATOM    740  CA  GLU A 316       9.944  54.814   7.482  1.00 39.64           C  \\nATOM    741  C   GLU A 316      10.248  56.164   8.125  1.00 38.83           C  \\nATOM    742  O   GLU A 316      11.021  56.249   9.081  1.00 36.84           O  \\nATOM    743  CB  GLU A 316       8.572  54.332   7.956  1.00 35.62           C  \\nATOM    744  CG  GLU A 316       8.556  53.959   9.436  1.00 44.15           C  \\nATOM    745  CD  GLU A 316       7.176  53.574   9.943  1.00 48.29           C  \\nATOM    746  OE1 GLU A 316       7.102  52.730  10.861  1.00 45.12           O  \\nATOM    747  OE2 GLU A 316       6.171  54.120   9.434  1.00 46.43           O  \\nATOM    748  N   PHE A 317       9.638  57.215   7.592  1.00 40.75           N  \\nATOM    749  CA  PHE A 317       9.810  58.560   8.125  1.00 43.41           C  \\nATOM    750  C   PHE A 317       8.487  58.898   8.805  1.00 42.73           C  \\nATOM    751  O   PHE A 317       7.425  58.773   8.195  1.00 44.97           O  \\nATOM    752  CB  PHE A 317      10.083  59.558   6.990  1.00 43.36           C  \\nATOM    753  CG  PHE A 317      10.260  60.978   7.456  1.00 47.40           C  \\nATOM    754  CD1 PHE A 317      11.443  61.384   8.067  1.00 49.36           C  \\nATOM    755  CD2 PHE A 317       9.234  61.907   7.306  1.00 47.67           C  \\nATOM    756  CE1 PHE A 317      11.602  62.696   8.523  1.00 49.52           C  \\nATOM    757  CE2 PHE A 317       9.384  63.220   7.759  1.00 46.05           C  \\nATOM    758  CZ  PHE A 317      10.570  63.613   8.369  1.00 45.20           C  \\nATOM    759  N   MET A 318       8.543  59.313  10.066  1.00 42.01           N  \\nATOM    760  CA  MET A 318       7.324  59.654  10.793  1.00 37.92           C  \\nATOM    761  C   MET A 318       7.109  61.159  10.734  1.00 39.19           C  \\nATOM    762  O   MET A 318       7.885  61.936  11.295  1.00 34.76           O  \\nATOM    763  CB  MET A 318       7.428  59.182  12.239  1.00 40.54           C  \\nATOM    764  CG  MET A 318       7.673  57.686  12.379  1.00 47.22           C  \\nATOM    765  SD  MET A 318       6.231  56.697  11.970  1.00 51.11           S  \\nATOM    766  CE  MET A 318       5.201  57.012  13.414  1.00 47.41           C  \\nATOM    767  N   THR A 319       6.036  61.551  10.055  1.00 37.84           N  \\nATOM    768  CA  THR A 319       5.680  62.949   9.846  1.00 40.01           C  \\nATOM    769  C   THR A 319       5.893  63.960  10.968  1.00 36.83           C  \\nATOM    770  O   THR A 319       6.470  65.017  10.728  1.00 38.09           O  \\nATOM    771  CB  THR A 319       4.211  63.071   9.369  1.00 40.70           C  \\nATOM    772  OG1 THR A 319       4.063  62.370   8.129  1.00 46.49           O  \\nATOM    773  CG2 THR A 319       3.830  64.536   9.148  1.00 39.92           C  \\nATOM    774  N   TYR A 320       5.442  63.657  12.184  1.00 34.84           N  \\nATOM    775  CA  TYR A 320       5.573  64.625  13.275  1.00 35.68           C  \\nATOM    776  C   TYR A 320       6.790  64.536  14.193  1.00 33.49           C  \\nATOM    777  O   TYR A 320       6.834  65.188  15.230  1.00 32.24           O  \\nATOM    778  CB  TYR A 320       4.289  64.635  14.114  1.00 38.03           C  \\nATOM    779  CG  TYR A 320       3.074  65.033  13.307  1.00 40.26           C  \\nATOM    780  CD1 TYR A 320       2.205  64.071  12.805  1.00 43.64           C  \\nATOM    781  CD2 TYR A 320       2.838  66.369  12.983  1.00 44.06           C  \\nATOM    782  CE1 TYR A 320       1.129  64.424  11.992  1.00 50.14           C  \\nATOM    783  CE2 TYR A 320       1.765  66.738  12.169  1.00 48.80           C  \\nATOM    784  CZ  TYR A 320       0.917  65.758  11.678  1.00 51.39           C  \\nATOM    785  OH  TYR A 320      -0.134  66.103  10.862  1.00 60.07           O  \\nATOM    786  N   GLY A 321       7.772  63.727  13.823  1.00 32.07           N  \\nATOM    787  CA  GLY A 321       8.977  63.636  14.629  1.00 32.17           C  \\nATOM    788  C   GLY A 321       8.889  62.915  15.957  1.00 31.09           C  \\nATOM    789  O   GLY A 321       7.975  62.120  16.195  1.00 31.74           O  \\nATOM    790  N   ASN A 322       9.845  63.203  16.835  1.00 33.28           N  \\nATOM    791  CA  ASN A 322       9.907  62.541  18.135  1.00 30.98           C  \\nATOM    792  C   ASN A 322       8.812  62.999  19.088  1.00 30.73           C  \\nATOM    793  O   ASN A 322       8.394  64.155  19.062  1.00 29.15           O  \\nATOM    794  CB  ASN A 322      11.303  62.725  18.756  1.00 32.64           C  \\nATOM    795  CG  ASN A 322      11.506  64.097  19.372  1.00 28.88           C  \\nATOM    796  OD1 ASN A 322      11.051  64.361  20.481  1.00 34.28           O  \\nATOM    797  ND2 ASN A 322      12.194  64.975  18.654  1.00 29.47           N  \\nATOM    798  N   LEU A 323       8.349  62.068  19.922  1.00 31.92           N  \\nATOM    799  CA  LEU A 323       7.278  62.318  20.876  1.00 29.50           C  \\nATOM    800  C   LEU A 323       7.539  63.420  21.895  1.00 32.60           C  \\nATOM    801  O   LEU A 323       6.629  64.178  22.234  1.00 31.46           O  \\nATOM    802  CB  LEU A 323       6.926  61.026  21.618  1.00 27.79           C  \\nATOM    803  CG  LEU A 323       5.769  61.120  22.622  1.00 29.00           C  \\nATOM    804  CD1 LEU A 323       4.475  61.475  21.901  1.00 24.70           C  \\nATOM    805  CD2 LEU A 323       5.626  59.798  23.359  1.00 30.34           C  \\nATOM    806  N   LEU A 324       8.769  63.515  22.393  1.00 32.28           N  \\nATOM    807  CA  LEU A 324       9.081  64.539  23.382  1.00 29.65           C  \\nATOM    808  C   LEU A 324       8.743  65.945  22.872  1.00 31.92           C  \\nATOM    809  O   LEU A 324       7.979  66.679  23.514  1.00 31.46           O  \\nATOM    810  CB  LEU A 324      10.560  64.467  23.786  1.00 32.57           C  \\nATOM    811  CG  LEU A 324      10.979  65.410  24.924  1.00 31.99           C  \\nATOM    812  CD1 LEU A 324      10.023  65.258  26.114  1.00 27.01           C  \\nATOM    813  CD2 LEU A 324      12.416  65.094  25.339  1.00 28.73           C  \\nATOM    814  N   ASP A 325       9.296  66.321  21.723  1.00 27.40           N  \\nATOM    815  CA  ASP A 325       9.012  67.641  21.177  1.00 37.16           C  \\nATOM    816  C   ASP A 325       7.554  67.764  20.727  1.00 35.39           C  \\nATOM    817  O   ASP A 325       6.966  68.841  20.820  1.00 35.86           O  \\nATOM    818  CB  ASP A 325       9.949  67.965  20.005  1.00 35.98           C  \\nATOM    819  CG  ASP A 325      11.405  68.046  20.434  1.00 41.86           C  \\nATOM    820  OD1 ASP A 325      11.660  68.381  21.608  1.00 42.47           O  \\nATOM    821  OD2 ASP A 325      12.294  67.787  19.597  1.00 46.46           O  \\nATOM    822  N   TYR A 326       6.968  66.670  20.243  1.00 33.68           N  \\nATOM    823  CA  TYR A 326       5.578  66.720  19.808  1.00 30.58           C  \\nATOM    824  C   TYR A 326       4.690  67.124  20.985  1.00 31.75           C  \\nATOM    825  O   TYR A 326       3.853  68.021  20.864  1.00 31.20           O  \\nATOM    826  CB  TYR A 326       5.123  65.367  19.269  1.00 33.28           C  \\nATOM    827  CG  TYR A 326       3.677  65.356  18.810  1.00 35.76           C  \\nATOM    828  CD1 TYR A 326       3.302  65.950  17.603  1.00 37.96           C  \\nATOM    829  CD2 TYR A 326       2.679  64.779  19.598  1.00 37.37           C  \\nATOM    830  CE1 TYR A 326       1.961  65.972  17.192  1.00 42.13           C  \\nATOM    831  CE2 TYR A 326       1.335  64.794  19.196  1.00 40.29           C  \\nATOM    832  CZ  TYR A 326       0.986  65.395  17.995  1.00 41.42           C  \\nATOM    833  OH  TYR A 326      -0.337  65.445  17.613  1.00 50.11           O  \\nATOM    834  N   LEU A 327       4.888  66.474  22.127  1.00 30.34           N  \\nATOM    835  CA  LEU A 327       4.094  66.767  23.313  1.00 33.30           C  \\nATOM    836  C   LEU A 327       4.250  68.209  23.781  1.00 35.04           C  \\nATOM    837  O   LEU A 327       3.290  68.817  24.255  1.00 32.74           O  \\nATOM    838  CB  LEU A 327       4.474  65.827  24.461  1.00 36.35           C  \\nATOM    839  CG  LEU A 327       4.021  64.367  24.415  1.00 35.86           C  \\nATOM    840  CD1 LEU A 327       4.898  63.551  25.347  1.00 38.63           C  \\nATOM    841  CD2 LEU A 327       2.563  64.244  24.819  1.00 37.88           C  \\nATOM    842  N   ARG A 328       5.459  68.749  23.656  1.00 31.16           N  \\nATOM    843  CA  ARG A 328       5.739  70.119  24.080  1.00 29.95           C  \\nATOM    844  C   ARG A 328       5.195  71.165  23.120  1.00 28.22           C  \\nATOM    845  O   ARG A 328       4.917  72.291  23.521  1.00 27.91           O  \\nATOM    846  CB  ARG A 328       7.251  70.337  24.218  1.00 29.20           C  \\nATOM    847  CG  ARG A 328       7.907  69.457  25.277  1.00 35.19           C  \\nATOM    848  CD  ARG A 328       9.429  69.604  25.313  1.00 32.64           C  \\nATOM    849  NE  ARG A 328       9.972  68.921  26.489  1.00 42.52           N  \\nATOM    850  CZ  ARG A 328      11.262  68.852  26.805  1.00 39.78           C  \\nATOM    851  NH1 ARG A 328      12.176  69.427  26.036  1.00 37.72           N  \\nATOM    852  NH2 ARG A 328      11.637  68.196  27.895  1.00 39.05           N  \\nATOM    853  N   GLU A 329       5.037  70.786  21.858  1.00 28.84           N  \\nATOM    854  CA  GLU A 329       4.588  71.716  20.830  1.00 32.10           C  \\nATOM    855  C   GLU A 329       3.175  71.512  20.296  1.00 31.72           C  \\nATOM    856  O   GLU A 329       2.751  72.239  19.405  1.00 35.43           O  \\nATOM    857  CB  GLU A 329       5.556  71.653  19.644  1.00 33.88           C  \\nATOM    858  CG  GLU A 329       6.962  72.157  19.930  1.00 46.24           C  \\nATOM    859  CD  GLU A 329       7.966  71.694  18.883  1.00 48.22           C  \\nATOM    860  OE1 GLU A 329       7.601  71.646  17.691  1.00 53.88           O  \\nATOM    861  OE2 GLU A 329       9.120  71.386  19.251  1.00 52.09           O  \\nATOM    862  N   CYS A 330       2.445  70.546  20.832  1.00 31.37           N  \\nATOM    863  CA  CYS A 330       1.109  70.259  20.323  1.00 35.50           C  \\nATOM    864  C   CYS A 330      -0.013  71.197  20.757  1.00 36.50           C  \\nATOM    865  O   CYS A 330       0.130  72.025  21.659  1.00 36.53           O  \\nATOM    866  CB  CYS A 330       0.703  68.836  20.705  1.00 31.09           C  \\nATOM    867  SG  CYS A 330       0.357  68.645  22.467  1.00 39.07           S  \\nATOM    868  N   ASN A 331      -1.136  71.033  20.075  1.00 37.27           N  \\nATOM    869  CA  ASN A 331      -2.361  71.766  20.343  1.00 36.92           C  \\nATOM    870  C   ASN A 331      -2.963  70.899  21.447  1.00 35.95           C  \\nATOM    871  O   ASN A 331      -3.427  69.789  21.183  1.00 35.13           O  \\nATOM    872  CB  ASN A 331      -3.236  71.743  19.080  1.00 34.49           C  \\nATOM    873  CG  ASN A 331      -4.638  72.290  19.320  1.00 34.75           C  \\nATOM    874  OD1 ASN A 331      -5.069  72.454  20.455  1.00 32.34           O  \\nATOM    875  ND2 ASN A 331      -5.359  72.566  18.234  1.00 31.96           N  \\nATOM    876  N   ARG A 332      -2.936  71.385  22.683  1.00 35.52           N  \\nATOM    877  CA  ARG A 332      -3.457  70.589  23.786  1.00 37.72           C  \\nATOM    878  C   ARG A 332      -4.948  70.321  23.722  1.00 39.47           C  \\nATOM    879  O   ARG A 332      -5.454  69.439  24.415  1.00 37.66           O  \\nATOM    880  CB  ARG A 332      -3.097  71.224  25.120  1.00 37.75           C  \\nATOM    881  CG  ARG A 332      -1.608  71.311  25.352  1.00 34.35           C  \\nATOM    882  CD  ARG A 332      -1.312  71.584  26.810  1.00 35.19           C  \\nATOM    883  NE  ARG A 332       0.111  71.800  27.049  1.00 40.25           N  \\nATOM    884  CZ  ARG A 332       0.637  71.958  28.256  1.00 40.09           C  \\nATOM    885  NH1 ARG A 332      -0.148  71.917  29.324  1.00 39.85           N  \\nATOM    886  NH2 ARG A 332       1.940  72.166  28.394  1.00 39.11           N  \\nATOM    887  N   GLN A 333      -5.655  71.087  22.902  1.00 39.42           N  \\nATOM    888  CA  GLN A 333      -7.085  70.874  22.751  1.00 45.53           C  \\nATOM    889  C   GLN A 333      -7.260  69.635  21.882  1.00 45.65           C  \\nATOM    890  O   GLN A 333      -8.182  68.847  22.075  1.00 47.79           O  \\nATOM    891  CB  GLN A 333      -7.739  72.087  22.087  1.00 45.54           C  \\nATOM    892  CG  GLN A 333      -7.831  73.292  23.000  1.00 45.50           C  \\nATOM    893  CD  GLN A 333      -8.627  72.990  24.248  1.00 47.72           C  \\nATOM    894  OE1 GLN A 333      -9.744  72.484  24.171  1.00 49.89           O  \\nATOM    895  NE2 GLN A 333      -8.057  73.299  25.408  1.00 48.21           N  \\nATOM    896  N   GLU A 334      -6.355  69.472  20.925  1.00 43.73           N  \\nATOM    897  CA  GLU A 334      -6.378  68.330  20.027  1.00 48.48           C  \\nATOM    898  C   GLU A 334      -5.823  67.102  20.755  1.00 48.44           C  \\nATOM    899  O   GLU A 334      -6.451  66.041  20.778  1.00 44.32           O  \\nATOM    900  CB  GLU A 334      -5.532  68.633  18.795  1.00 52.34           C  \\nATOM    901  CG  GLU A 334      -5.522  67.535  17.766  1.00 61.40           C  \\nATOM    902  CD  GLU A 334      -4.484  67.781  16.698  1.00 68.17           C  \\nATOM    903  OE1 GLU A 334      -4.536  68.853  16.055  1.00 72.20           O  \\nATOM    904  OE2 GLU A 334      -3.617  66.902  16.505  1.00 70.17           O  \\nATOM    905  N   VAL A 335      -4.642  67.256  21.349  1.00 46.04           N  \\nATOM    906  CA  VAL A 335      -4.011  66.166  22.085  1.00 44.57           C  \\nATOM    907  C   VAL A 335      -4.563  66.159  23.508  1.00 47.58           C  \\nATOM    908  O   VAL A 335      -3.882  66.553  24.458  1.00 50.06           O  \\nATOM    909  CB  VAL A 335      -2.471  66.332  22.134  1.00 42.30           C  \\nATOM    910  CG1 VAL A 335      -1.839  65.136  22.831  1.00 37.67           C  \\nATOM    911  CG2 VAL A 335      -1.920  66.477  20.728  1.00 35.84           C  \\nATOM    912  N   SER A 336      -5.806  65.710  23.646  1.00 48.33           N  \\nATOM    913  CA  SER A 336      -6.465  65.664  24.944  1.00 48.76           C  \\nATOM    914  C   SER A 336      -6.091  64.429  25.749  1.00 49.69           C  \\nATOM    915  O   SER A 336      -5.225  63.655  25.352  1.00 47.48           O  \\nATOM    916  CB  SER A 336      -7.984  65.710  24.763  1.00 51.37           C  \\nATOM    917  OG  SER A 336      -8.448  64.576  24.050  1.00 55.41           O  \\nATOM    918  N   ALA A 337      -6.769  64.258  26.881  1.00 49.59           N  \\nATOM    919  CA  ALA A 337      -6.538  63.145  27.792  1.00 51.26           C  \\nATOM    920  C   ALA A 337      -6.717  61.774  27.150  1.00 50.70           C  \\nATOM    921  O   ALA A 337      -5.955  60.853  27.433  1.00 52.27           O  \\nATOM    922  CB  ALA A 337      -7.462  63.269  29.001  1.00 56.49           C  \\nATOM    923  N   VAL A 338      -7.733  61.639  26.305  1.00 47.72           N  \\nATOM    924  CA  VAL A 338      -8.004  60.374  25.633  1.00 45.61           C  \\nATOM    925  C   VAL A 338      -6.883  60.057  24.649  1.00 44.76           C  \\nATOM    926  O   VAL A 338      -6.513  58.896  24.470  1.00 41.38           O  \\nATOM    927  CB  VAL A 338      -9.358  60.420  24.886  1.00 43.00           C  \\nATOM    928  CG1 VAL A 338      -9.412  61.632  23.978  1.00 46.44           C  \\nATOM    929  CG2 VAL A 338      -9.558  59.146  24.080  1.00 45.73           C  \\nATOM    930  N   VAL A 339      -6.342  61.096  24.019  1.00 43.59           N  \\nATOM    931  CA  VAL A 339      -5.252  60.920  23.071  1.00 40.06           C  \\nATOM    932  C   VAL A 339      -3.980  60.512  23.817  1.00 41.67           C  \\nATOM    933  O   VAL A 339      -3.239  59.641  23.354  1.00 38.69           O  \\nATOM    934  CB  VAL A 339      -5.003  62.209  22.266  1.00 41.82           C  \\nATOM    935  CG1 VAL A 339      -3.820  62.021  21.317  1.00 35.36           C  \\nATOM    936  CG2 VAL A 339      -6.266  62.566  21.480  1.00 37.80           C  \\nATOM    937  N   LEU A 340      -3.725  61.129  24.969  1.00 38.96           N  \\nATOM    938  CA  LEU A 340      -2.541  60.773  25.750  1.00 40.04           C  \\nATOM    939  C   LEU A 340      -2.629  59.305  26.152  1.00 38.37           C  \\nATOM    940  O   LEU A 340      -1.655  58.561  26.050  1.00 41.57           O  \\nATOM    941  CB  LEU A 340      -2.427  61.641  27.006  1.00 38.24           C  \\nATOM    942  CG  LEU A 340      -2.116  63.119  26.775  1.00 42.43           C  \\nATOM    943  CD1 LEU A 340      -1.985  63.821  28.122  1.00 43.99           C  \\nATOM    944  CD2 LEU A 340      -0.826  63.259  25.965  1.00 36.22           C  \\nATOM    945  N   LEU A 341      -3.807  58.896  26.607  1.00 37.65           N  \\nATOM    946  CA  LEU A 341      -4.044  57.514  27.008  1.00 39.44           C  \\nATOM    947  C   LEU A 341      -3.812  56.600  25.800  1.00 37.11           C  \\nATOM    948  O   LEU A 341      -3.241  55.518  25.918  1.00 36.75           O  \\nATOM    949  CB  LEU A 341      -5.482  57.363  27.512  1.00 45.25           C  \\nATOM    950  CG  LEU A 341      -5.930  56.008  28.061  1.00 50.55           C  \\nATOM    951  CD1 LEU A 341      -5.192  55.691  29.359  1.00 50.89           C  \\nATOM    952  CD2 LEU A 341      -7.430  56.058  28.302  1.00 55.66           C  \\nATOM    953  N   TYR A 342      -4.263  57.047  24.636  1.00 34.32           N  \\nATOM    954  CA  TYR A 342      -4.092  56.283  23.410  1.00 36.29           C  \\nATOM    955  C   TYR A 342      -2.602  56.113  23.083  1.00 35.87           C  \\nATOM    956  O   TYR A 342      -2.166  55.046  22.650  1.00 34.78           O  \\nATOM    957  CB  TYR A 342      -4.805  56.992  22.253  1.00 31.76           C  \\nATOM    958  CG  TYR A 342      -4.556  56.372  20.893  1.00 34.42           C  \\nATOM    959  CD1 TYR A 342      -4.664  54.995  20.702  1.00 37.01           C  \\nATOM    960  CD2 TYR A 342      -4.226  57.167  19.794  1.00 34.82           C  \\nATOM    961  CE1 TYR A 342      -4.448  54.422  19.452  1.00 37.55           C  \\nATOM    962  CE2 TYR A 342      -4.007  56.603  18.536  1.00 35.22           C  \\nATOM    963  CZ  TYR A 342      -4.119  55.231  18.375  1.00 39.08           C  \\nATOM    964  OH  TYR A 342      -3.897  54.667  17.142  1.00 39.26           O  \\nATOM    965  N   MET A 343      -1.822  57.167  23.296  1.00 33.42           N  \\nATOM    966  CA  MET A 343      -0.395  57.093  23.007  1.00 34.11           C  \\nATOM    967  C   MET A 343       0.317  56.124  23.948  1.00 34.28           C  \\nATOM    968  O   MET A 343       1.205  55.377  23.524  1.00 34.69           O  \\nATOM    969  CB  MET A 343       0.234  58.489  23.078  1.00 35.23           C  \\nATOM    970  CG  MET A 343      -0.290  59.434  21.995  1.00 36.70           C  \\nATOM    971  SD  MET A 343       0.487  61.075  21.966  1.00 50.47           S  \\nATOM    972  CE  MET A 343       0.748  61.327  23.669  1.00 37.56           C  \\nATOM    973  N   ALA A 344      -0.075  56.123  25.219  1.00 33.15           N  \\nATOM    974  CA  ALA A 344       0.540  55.232  26.197  1.00 34.64           C  \\nATOM    975  C   ALA A 344       0.158  53.781  25.900  1.00 38.58           C  \\nATOM    976  O   ALA A 344       0.920  52.848  26.188  1.00 33.88           O  \\nATOM    977  CB  ALA A 344       0.100  55.616  27.606  1.00 38.80           C  \\nATOM    978  N   THR A 345      -1.025  53.594  25.321  1.00 35.92           N  \\nATOM    979  CA  THR A 345      -1.493  52.258  24.978  1.00 39.14           C  \\nATOM    980  C   THR A 345      -0.687  51.673  23.816  1.00 42.15           C  \\nATOM    981  O   THR A 345      -0.361  50.480  23.820  1.00 43.66           O  \\nATOM    982  CB  THR A 345      -2.982  52.274  24.595  1.00 43.26           C  \\nATOM    983  OG1 THR A 345      -3.756  52.719  25.716  1.00 44.46           O  \\nATOM    984  CG2 THR A 345      -3.444  50.875  24.190  1.00 44.78           C  \\nATOM    985  N   GLN A 346      -0.364  52.501  22.822  1.00 36.14           N  \\nATOM    986  CA  GLN A 346       0.410  52.015  21.682  1.00 35.80           C  \\nATOM    987  C   GLN A 346       1.816  51.629  22.124  1.00 32.82           C  \\nATOM    988  O   GLN A 346       2.344  50.600  21.708  1.00 30.20           O  \\nATOM    989  CB  GLN A 346       0.484  53.074  20.585  1.00 37.11           C  \\nATOM    990  CG  GLN A 346      -0.867  53.401  19.972  1.00 37.68           C  \\nATOM    991  CD  GLN A 346      -0.793  54.552  18.997  1.00 35.70           C  \\nATOM    992  OE1 GLN A 346      -0.393  54.382  17.845  1.00 36.51           O  \\nATOM    993  NE2 GLN A 346      -1.166  55.740  19.459  1.00 33.21           N  \\nATOM    994  N   ILE A 347       2.412  52.448  22.986  1.00 33.27           N  \\nATOM    995  CA  ILE A 347       3.754  52.180  23.479  1.00 33.32           C  \\nATOM    996  C   ILE A 347       3.809  50.892  24.302  1.00 34.58           C  \\nATOM    997  O   ILE A 347       4.733  50.091  24.149  1.00 34.53           O  \\nATOM    998  CB  ILE A 347       4.280  53.361  24.321  1.00 33.29           C  \\nATOM    999  CG1 ILE A 347       4.336  54.621  23.454  1.00 31.67           C  \\nATOM   1000  CG2 ILE A 347       5.669  53.036  24.857  1.00 30.31           C  \\nATOM   1001  CD1 ILE A 347       4.409  55.925  24.240  1.00 36.48           C  \\nATOM   1002  N   SER A 348       2.816  50.676  25.161  1.00 34.44           N  \\nATOM   1003  CA  SER A 348       2.795  49.463  25.976  1.00 34.85           C  \\nATOM   1004  C   SER A 348       2.646  48.223  25.088  1.00 38.05           C  \\nATOM   1005  O   SER A 348       3.109  47.141  25.435  1.00 36.36           O  \\nATOM   1006  CB  SER A 348       1.645  49.516  26.988  1.00 38.53           C  \\nATOM   1007  OG  SER A 348       0.380  49.519  26.345  1.00 41.53           O  \\nATOM   1008  N   SER A 349       1.998  48.390  23.939  1.00 39.86           N  \\nATOM   1009  CA  SER A 349       1.785  47.284  23.007  1.00 38.57           C  \\nATOM   1010  C   SER A 349       3.118  46.872  22.392  1.00 39.55           C  \\nATOM   1011  O   SER A 349       3.444  45.685  22.310  1.00 40.44           O  \\nATOM   1012  CB  SER A 349       0.800  47.708  21.909  1.00 37.56           C  \\nATOM   1013  OG  SER A 349       0.533  46.643  21.011  1.00 43.66           O  \\nATOM   1014  N   ALA A 350       3.894  47.860  21.968  1.00 37.49           N  \\nATOM   1015  CA  ALA A 350       5.192  47.592  21.374  1.00 34.90           C  \\nATOM   1016  C   ALA A 350       6.104  46.898  22.378  1.00 37.39           C  \\nATOM   1017  O   ALA A 350       6.821  45.955  22.032  1.00 39.41           O  \\nATOM   1018  CB  ALA A 350       5.830  48.891  20.906  1.00 34.68           C  \\nATOM   1019  N   MET A 351       6.071  47.360  23.624  1.00 34.22           N  \\nATOM   1020  CA  MET A 351       6.920  46.788  24.659  1.00 36.08           C  \\nATOM   1021  C   MET A 351       6.489  45.372  25.035  1.00 41.08           C  \\nATOM   1022  O   MET A 351       7.327  44.527  25.375  1.00 35.73           O  \\nATOM   1023  CB  MET A 351       6.928  47.695  25.891  1.00 35.92           C  \\nATOM   1024  CG  MET A 351       7.573  49.067  25.647  1.00 34.95           C  \\nATOM   1025  SD  MET A 351       9.232  48.953  24.893  1.00 38.64           S  \\nATOM   1026  CE  MET A 351      10.076  47.893  26.063  1.00 37.65           C  \\nATOM   1027  N   GLU A 352       5.183  45.125  24.969  1.00 38.19           N  \\nATOM   1028  CA  GLU A 352       4.620  43.812  25.267  1.00 42.83           C  \\nATOM   1029  C   GLU A 352       5.189  42.825  24.247  1.00 42.77           C  \\nATOM   1030  O   GLU A 352       5.490  41.673  24.570  1.00 41.76           O  \\nATOM   1031  CB  GLU A 352       3.092  43.867  25.140  1.00 46.72           C  \\nATOM   1032  CG  GLU A 352       2.377  42.537  25.345  1.00 51.47           C  \\nATOM   1033  CD  GLU A 352       0.867  42.650  25.165  1.00 55.73           C  \\nATOM   1034  OE1 GLU A 352       0.154  41.674  25.468  1.00 57.99           O  \\nATOM   1035  OE2 GLU A 352       0.389  43.713  24.716  1.00 61.83           O  \\nATOM   1036  N   TYR A 353       5.339  43.301  23.014  1.00 40.07           N  \\nATOM   1037  CA  TYR A 353       5.871  42.496  21.917  1.00 41.31           C  \\nATOM   1038  C   TYR A 353       7.364  42.219  22.114  1.00 42.90           C  \\nATOM   1039  O   TYR A 353       7.828  41.104  21.889  1.00 45.06           O  \\nATOM   1040  CB  TYR A 353       5.638  43.223  20.589  1.00 38.62           C  \\nATOM   1041  CG  TYR A 353       6.355  42.613  19.402  1.00 39.01           C  \\nATOM   1042  CD1 TYR A 353       5.843  41.488  18.750  1.00 37.53           C  \\nATOM   1043  CD2 TYR A 353       7.542  43.169  18.927  1.00 33.41           C  \\nATOM   1044  CE1 TYR A 353       6.499  40.935  17.646  1.00 37.63           C  \\nATOM   1045  CE2 TYR A 353       8.204  42.631  17.838  1.00 40.93           C  \\nATOM   1046  CZ  TYR A 353       7.679  41.513  17.198  1.00 40.89           C  \\nATOM   1047  OH  TYR A 353       8.350  40.979  16.123  1.00 38.64           O  \\nATOM   1048  N   LEU A 354       8.116  43.235  22.524  1.00 41.88           N  \\nATOM   1049  CA  LEU A 354       9.545  43.064  22.759  1.00 42.74           C  \\nATOM   1050  C   LEU A 354       9.736  42.112  23.938  1.00 41.55           C  \\nATOM   1051  O   LEU A 354      10.665  41.302  23.961  1.00 37.70           O  \\nATOM   1052  CB  LEU A 354      10.195  44.419  23.047  1.00 40.31           C  \\nATOM   1053  CG  LEU A 354      11.137  45.005  21.983  1.00 47.37           C  \\nATOM   1054  CD1 LEU A 354      10.719  44.602  20.581  1.00 46.63           C  \\nATOM   1055  CD2 LEU A 354      11.157  46.521  22.126  1.00 47.19           C  \\nATOM   1056  N   GLU A 355       8.836  42.210  24.908  1.00 40.09           N  \\nATOM   1057  CA  GLU A 355       8.876  41.355  26.085  1.00 44.81           C  \\nATOM   1058  C   GLU A 355       8.685  39.916  25.606  1.00 49.02           C  \\nATOM   1059  O   GLU A 355       9.455  39.022  25.960  1.00 49.21           O  \\nATOM   1060  CB  GLU A 355       7.752  41.746  27.048  1.00 45.05           C  \\nATOM   1061  CG  GLU A 355       7.704  40.934  28.328  1.00 49.69           C  \\nATOM   1062  CD  GLU A 355       6.602  41.394  29.268  1.00 54.44           C  \\nATOM   1063  OE1 GLU A 355       5.408  41.227  28.929  1.00 53.39           O  \\nATOM   1064  OE2 GLU A 355       6.932  41.929  30.349  1.00 56.79           O  \\nATOM   1065  N   LYS A 356       7.656  39.712  24.787  1.00 49.39           N  \\nATOM   1066  CA  LYS A 356       7.342  38.403  24.233  1.00 49.79           C  \\nATOM   1067  C   LYS A 356       8.553  37.809  23.525  1.00 49.69           C  \\nATOM   1068  O   LYS A 356       8.844  36.625  23.674  1.00 48.42           O  \\nATOM   1069  CB  LYS A 356       6.184  38.520  23.236  1.00 56.14           C  \\nATOM   1070  CG  LYS A 356       5.885  37.236  22.464  1.00 66.49           C  \\nATOM   1071  CD  LYS A 356       4.994  37.494  21.251  1.00 70.52           C  \\nATOM   1072  CE  LYS A 356       3.632  38.038  21.657  1.00 77.41           C  \\nATOM   1073  NZ  LYS A 356       2.885  37.086  22.532  1.00 81.29           N  \\nATOM   1074  N   LYS A 357       9.257  38.636  22.757  1.00 47.02           N  \\nATOM   1075  CA  LYS A 357      10.426  38.180  22.015  1.00 49.17           C  \\nATOM   1076  C   LYS A 357      11.704  38.193  22.840  1.00 48.11           C  \\nATOM   1077  O   LYS A 357      12.797  38.066  22.300  1.00 48.57           O  \\nATOM   1078  CB  LYS A 357      10.628  39.038  20.769  1.00 51.90           C  \\nATOM   1079  CG  LYS A 357       9.453  39.033  19.814  1.00 60.24           C  \\nATOM   1080  CD  LYS A 357       9.821  39.731  18.521  1.00 67.51           C  \\nATOM   1081  CE  LYS A 357      10.742  38.880  17.658  1.00 69.21           C  \\nATOM   1082  NZ  LYS A 357      10.051  37.657  17.152  1.00 70.25           N  \\nATOM   1083  N   ASN A 358      11.563  38.352  24.148  1.00 48.82           N  \\nATOM   1084  CA  ASN A 358      12.712  38.378  25.044  1.00 50.66           C  \\nATOM   1085  C   ASN A 358      13.764  39.426  24.663  1.00 48.27           C  \\nATOM   1086  O   ASN A 358      14.957  39.235  24.905  1.00 47.58           O  \\nATOM   1087  CB  ASN A 358      13.352  36.985  25.120  1.00 51.54           C  \\nATOM   1088  CG  ASN A 358      12.350  35.904  25.514  1.00 57.88           C  \\nATOM   1089  OD1 ASN A 358      11.740  35.960  26.586  1.00 57.15           O  \\nATOM   1090  ND2 ASN A 358      12.173  34.917  24.641  1.00 59.25           N  \\nATOM   1091  N   PHE A 359      13.320  40.523  24.053  1.00 46.43           N  \\nATOM   1092  CA  PHE A 359      14.223  41.617  23.693  1.00 46.06           C  \\nATOM   1093  C   PHE A 359      14.145  42.656  24.812  1.00 46.41           C  \\nATOM   1094  O   PHE A 359      13.137  42.748  25.519  1.00 47.60           O  \\nATOM   1095  CB  PHE A 359      13.808  42.297  22.384  1.00 48.77           C  \\nATOM   1096  CG  PHE A 359      14.282  41.595  21.144  1.00 54.97           C  \\nATOM   1097  CD1 PHE A 359      13.442  40.729  20.452  1.00 57.91           C  \\nATOM   1098  CD2 PHE A 359      15.562  41.820  20.653  1.00 57.60           C  \\nATOM   1099  CE1 PHE A 359      13.869  40.099  19.284  1.00 56.02           C  \\nATOM   1100  CE2 PHE A 359      15.999  41.197  19.489  1.00 59.24           C  \\nATOM   1101  CZ  PHE A 359      15.149  40.335  18.803  1.00 59.94           C  \\nATOM   1102  N   ILE A 360      15.209  43.435  24.970  1.00 44.26           N  \\nATOM   1103  CA  ILE A 360      15.259  44.477  25.990  1.00 43.82           C  \\nATOM   1104  C   ILE A 360      15.549  45.785  25.277  1.00 41.69           C  \\nATOM   1105  O   ILE A 360      16.429  45.843  24.426  1.00 45.67           O  \\nATOM   1106  CB  ILE A 360      16.378  44.201  27.030  1.00 44.38           C  \\nATOM   1107  CG1 ILE A 360      15.972  43.044  27.950  1.00 43.64           C  \\nATOM   1108  CG2 ILE A 360      16.633  45.441  27.870  1.00 46.30           C  \\nATOM   1109  CD1 ILE A 360      15.819  41.711  27.256  1.00 51.88           C  \\nATOM   1110  N   HIS A 361      14.813  46.839  25.610  1.00 40.74           N  \\nATOM   1111  CA  HIS A 361      15.035  48.118  24.945  1.00 38.29           C  \\nATOM   1112  C   HIS A 361      16.286  48.824  25.452  1.00 33.72           C  \\nATOM   1113  O   HIS A 361      17.188  49.124  24.672  1.00 34.71           O  \\nATOM   1114  CB  HIS A 361      13.817  49.029  25.113  1.00 37.42           C  \\nATOM   1115  CG  HIS A 361      13.853  50.236  24.231  1.00 37.16           C  \\nATOM   1116  ND1 HIS A 361      14.729  51.281  24.434  1.00 38.41           N  \\nATOM   1117  CD2 HIS A 361      13.158  50.538  23.109  1.00 36.32           C  \\nATOM   1118  CE1 HIS A 361      14.576  52.173  23.471  1.00 40.15           C  \\nATOM   1119  NE2 HIS A 361      13.629  51.746  22.654  1.00 35.99           N  \\nATOM   1120  N   ARG A 362      16.318  49.088  26.756  1.00 38.18           N  \\nATOM   1121  CA  ARG A 362      17.433  49.755  27.444  1.00 43.16           C  \\nATOM   1122  C   ARG A 362      17.413  51.283  27.497  1.00 42.04           C  \\nATOM   1123  O   ARG A 362      18.133  51.873  28.297  1.00 41.66           O  \\nATOM   1124  CB  ARG A 362      18.788  49.323  26.873  1.00 43.82           C  \\nATOM   1125  CG  ARG A 362      19.318  47.999  27.405  1.00 53.00           C  \\nATOM   1126  CD  ARG A 362      20.759  47.786  26.936  1.00 59.17           C  \\nATOM   1127  NE  ARG A 362      21.169  46.385  26.992  1.00 66.01           N  \\nATOM   1128  CZ  ARG A 362      21.897  45.846  27.966  1.00 66.59           C  \\nATOM   1129  NH1 ARG A 362      22.311  46.589  28.984  1.00 65.19           N  \\nATOM   1130  NH2 ARG A 362      22.207  44.557  27.919  1.00 64.39           N  \\nATOM   1131  N   ASP A 363      16.609  51.932  26.663  1.00 39.71           N  \\nATOM   1132  CA  ASP A 363      16.576  53.390  26.680  1.00 34.49           C  \\nATOM   1133  C   ASP A 363      15.220  53.915  26.254  1.00 32.39           C  \\nATOM   1134  O   ASP A 363      15.113  54.722  25.335  1.00 31.37           O  \\nATOM   1135  CB  ASP A 363      17.662  53.943  25.761  1.00 33.01           C  \\nATOM   1136  CG  ASP A 363      17.880  55.438  25.943  1.00 36.08           C  \\nATOM   1137  OD1 ASP A 363      17.359  56.013  26.928  1.00 37.24           O  \\nATOM   1138  OD2 ASP A 363      18.586  56.031  25.099  1.00 37.56           O  \\nATOM   1139  N   LEU A 364      14.190  53.441  26.938  1.00 31.69           N  \\nATOM   1140  CA  LEU A 364      12.817  53.823  26.664  1.00 32.60           C  \\nATOM   1141  C   LEU A 364      12.539  55.192  27.275  1.00 31.68           C  \\nATOM   1142  O   LEU A 364      12.713  55.393  28.476  1.00 33.58           O  \\nATOM   1143  CB  LEU A 364      11.871  52.779  27.262  1.00 32.07           C  \\nATOM   1144  CG  LEU A 364      10.378  53.030  27.064  1.00 36.27           C  \\nATOM   1145  CD1 LEU A 364      10.062  53.048  25.568  1.00 31.48           C  \\nATOM   1146  CD2 LEU A 364       9.581  51.937  27.779  1.00 31.97           C  \\nATOM   1147  N   ALA A 365      12.105  56.125  26.439  1.00 31.70           N  \\nATOM   1148  CA  ALA A 365      11.818  57.490  26.867  1.00 33.84           C  \\nATOM   1149  C   ALA A 365      11.079  58.172  25.721  1.00 32.94           C  \\nATOM   1150  O   ALA A 365      11.138  57.702  24.585  1.00 34.17           O  \\nATOM   1151  CB  ALA A 365      13.133  58.230  27.162  1.00 34.30           C  \\nATOM   1152  N   ALA A 366      10.390  59.274  26.009  1.00 32.78           N  \\nATOM   1153  CA  ALA A 366       9.646  59.988  24.976  1.00 30.52           C  \\nATOM   1154  C   ALA A 366      10.531  60.400  23.795  1.00 32.13           C  \\nATOM   1155  O   ALA A 366      10.089  60.369  22.646  1.00 28.98           O  \\nATOM   1156  CB  ALA A 366       8.957  61.219  25.578  1.00 33.56           C  \\nATOM   1157  N   ARG A 367      11.781  60.766  24.076  1.00 27.44           N  \\nATOM   1158  CA  ARG A 367      12.716  61.188  23.031  1.00 27.52           C  \\nATOM   1159  C   ARG A 367      13.024  60.069  22.027  1.00 30.19           C  \\nATOM   1160  O   ARG A 367      13.472  60.335  20.910  1.00 29.41           O  \\nATOM   1161  CB  ARG A 367      14.025  61.675  23.664  1.00 32.56           C  \\nATOM   1162  CG  ARG A 367      14.705  60.610  24.507  1.00 25.30           C  \\nATOM   1163  CD  ARG A 367      15.991  61.101  25.174  1.00 34.84           C  \\nATOM   1164  NE  ARG A 367      16.500  60.042  26.038  1.00 31.33           N  \\nATOM   1165  CZ  ARG A 367      16.185  59.905  27.320  1.00 34.53           C  \\nATOM   1166  NH1 ARG A 367      15.374  60.777  27.907  1.00 31.97           N  \\nATOM   1167  NH2 ARG A 367      16.637  58.861  28.003  1.00 34.61           N  \\nATOM   1168  N   ASN A 368      12.797  58.822  22.428  1.00 29.39           N  \\nATOM   1169  CA  ASN A 368      13.043  57.691  21.539  1.00 32.68           C  \\nATOM   1170  C   ASN A 368      11.765  57.190  20.851  1.00 34.67           C  \\nATOM   1171  O   ASN A 368      11.739  56.090  20.298  1.00 35.61           O  \\nATOM   1172  CB  ASN A 368      13.715  56.545  22.301  1.00 29.09           C  \\nATOM   1173  CG  ASN A 368      15.233  56.630  22.256  1.00 33.68           C  \\nATOM   1174  OD1 ASN A 368      15.812  57.096  21.280  1.00 30.40           O  \\nATOM   1175  ND2 ASN A 368      15.879  56.172  23.312  1.00 36.21           N  \\nATOM   1176  N   CYS A 369      10.706  57.998  20.890  1.00 32.29           N  \\nATOM   1177  CA  CYS A 369       9.451  57.622  20.242  1.00 30.49           C  \\nATOM   1178  C   CYS A 369       9.131  58.585  19.103  1.00 31.64           C  \\nATOM   1179  O   CYS A 369       9.544  59.743  19.121  1.00 28.94           O  \\nATOM   1180  CB  CYS A 369       8.302  57.594  21.255  1.00 28.47           C  \\nATOM   1181  SG  CYS A 369       8.498  56.331  22.541  1.00 35.73           S  \\nATOM   1182  N   LEU A 370       8.399  58.088  18.111  1.00 28.47           N  \\nATOM   1183  CA  LEU A 370       8.042  58.868  16.934  1.00 30.18           C  \\nATOM   1184  C   LEU A 370       6.531  58.994  16.816  1.00 33.38           C  \\nATOM   1185  O   LEU A 370       5.789  58.100  17.229  1.00 33.69           O  \\nATOM   1186  CB  LEU A 370       8.603  58.184  15.680  1.00 33.56           C  \\nATOM   1187  CG  LEU A 370       9.803  58.747  14.903  1.00 40.67           C  \\nATOM   1188  CD1 LEU A 370      10.602  59.733  15.725  1.00 39.00           C  \\nATOM   1189  CD2 LEU A 370      10.660  57.580  14.446  1.00 39.09           C  \\nATOM   1190  N   VAL A 371       6.081  60.107  16.246  1.00 31.57           N  \\nATOM   1191  CA  VAL A 371       4.661  60.350  16.079  1.00 33.10           C  \\nATOM   1192  C   VAL A 371       4.294  60.473  14.614  1.00 33.32           C  \\nATOM   1193  O   VAL A 371       4.907  61.246  13.872  1.00 35.17           O  \\nATOM   1194  CB  VAL A 371       4.221  61.645  16.799  1.00 34.98           C  \\nATOM   1195  CG1 VAL A 371       2.733  61.895  16.557  1.00 28.00           C  \\nATOM   1196  CG2 VAL A 371       4.509  61.534  18.280  1.00 28.15           C  \\nATOM   1197  N   GLY A 372       3.291  59.704  14.202  1.00 34.94           N  \\nATOM   1198  CA  GLY A 372       2.839  59.749  12.824  1.00 37.23           C  \\nATOM   1199  C   GLY A 372       1.497  60.455  12.709  1.00 38.92           C  \\nATOM   1200  O   GLY A 372       1.121  61.244  13.573  1.00 38.07           O  \\nATOM   1201  N   GLU A 373       0.768  60.157  11.641  1.00 40.35           N  \\nATOM   1202  CA  GLU A 373      -0.531  60.763  11.404  1.00 41.18           C  \\nATOM   1203  C   GLU A 373      -1.567  60.135  12.330  1.00 40.15           C  \\nATOM   1204  O   GLU A 373      -1.423  58.986  12.744  1.00 38.95           O  \\nATOM   1205  CB  GLU A 373      -0.948  60.533   9.951  1.00 46.79           C  \\nATOM   1206  CG  GLU A 373      -1.675  61.694   9.313  1.00 53.04           C  \\nATOM   1207  CD  GLU A 373      -0.746  62.846   8.997  1.00 61.83           C  \\nATOM   1208  OE1 GLU A 373       0.183  62.654   8.182  1.00 63.39           O  \\nATOM   1209  OE2 GLU A 373      -0.943  63.943   9.565  1.00 67.69           O  \\nATOM   1210  N   ASN A 374      -2.607  60.896  12.661  1.00 39.36           N  \\nATOM   1211  CA  ASN A 374      -3.682  60.397  13.514  1.00 39.33           C  \\nATOM   1212  C   ASN A 374      -3.174  59.897  14.867  1.00 39.13           C  \\nATOM   1213  O   ASN A 374      -3.696  58.924  15.411  1.00 33.86           O  \\nATOM   1214  CB  ASN A 374      -4.426  59.264  12.796  1.00 42.18           C  \\nATOM   1215  CG  ASN A 374      -4.861  59.648  11.388  1.00 47.50           C  \\nATOM   1216  OD1 ASN A 374      -5.701  60.524  11.205  1.00 49.41           O  \\nATOM   1217  ND2 ASN A 374      -4.279  58.993  10.386  1.00 49.30           N  \\nATOM   1218  N   HIS A 375      -2.148  60.559  15.398  1.00 37.89           N  \\nATOM   1219  CA  HIS A 375      -1.582  60.202  16.698  1.00 34.55           C  \\nATOM   1220  C   HIS A 375      -1.017  58.789  16.789  1.00 30.06           C  \\nATOM   1221  O   HIS A 375      -0.993  58.183  17.864  1.00 33.14           O  \\nATOM   1222  CB  HIS A 375      -2.630  60.426  17.792  1.00 37.33           C  \\nATOM   1223  CG  HIS A 375      -3.125  61.837  17.855  1.00 44.51           C  \\nATOM   1224  ND1 HIS A 375      -4.460  62.154  17.980  1.00 46.17           N  \\nATOM   1225  CD2 HIS A 375      -2.462  63.016  17.790  1.00 47.32           C  \\nATOM   1226  CE1 HIS A 375      -4.599  63.468  17.987  1.00 49.15           C  \\nATOM   1227  NE2 HIS A 375      -3.401  64.015  17.873  1.00 50.82           N  \\nATOM   1228  N   LEU A 376      -0.568  58.271  15.653  1.00 31.71           N  \\nATOM   1229  CA  LEU A 376       0.052  56.954  15.594  1.00 30.69           C  \\nATOM   1230  C   LEU A 376       1.401  57.163  16.304  1.00 33.87           C  \\nATOM   1231  O   LEU A 376       2.103  58.140  16.026  1.00 30.46           O  \\nATOM   1232  CB  LEU A 376       0.301  56.573  14.136  1.00 29.20           C  \\nATOM   1233  CG  LEU A 376       0.501  55.123  13.679  1.00 39.64           C  \\nATOM   1234  CD1 LEU A 376       1.415  55.139  12.455  1.00 39.80           C  \\nATOM   1235  CD2 LEU A 376       1.100  54.263  14.771  1.00 36.37           C  \\nATOM   1236  N   VAL A 377       1.759  56.268  17.217  1.00 32.89           N  \\nATOM   1237  CA  VAL A 377       3.028  56.390  17.938  1.00 33.17           C  \\nATOM   1238  C   VAL A 377       3.837  55.110  17.787  1.00 32.57           C  \\nATOM   1239  O   VAL A 377       3.295  54.010  17.889  1.00 31.26           O  \\nATOM   1240  CB  VAL A 377       2.809  56.639  19.450  1.00 32.64           C  \\nATOM   1241  CG1 VAL A 377       4.147  56.629  20.176  1.00 31.32           C  \\nATOM   1242  CG2 VAL A 377       2.113  57.964  19.670  1.00 24.75           C  \\nATOM   1243  N   LYS A 378       5.134  55.253  17.537  1.00 29.95           N  \\nATOM   1244  CA  LYS A 378       5.996  54.089  17.390  1.00 29.73           C  \\nATOM   1245  C   LYS A 378       7.273  54.231  18.208  1.00 33.03           C  \\nATOM   1246  O   LYS A 378       7.881  55.301  18.258  1.00 28.44           O  \\nATOM   1247  CB  LYS A 378       6.348  53.865  15.920  1.00 32.33           C  \\nATOM   1248  CG  LYS A 378       5.144  53.532  15.060  1.00 38.87           C  \\nATOM   1249  CD  LYS A 378       5.541  53.022  13.683  1.00 39.86           C  \\nATOM   1250  CE  LYS A 378       4.292  52.780  12.842  1.00 39.93           C  \\nATOM   1251  NZ  LYS A 378       4.591  52.178  11.530  1.00 37.88           N  \\nATOM   1252  N   VAL A 379       7.656  53.134  18.854  1.00 32.31           N  \\nATOM   1253  CA  VAL A 379       8.851  53.081  19.669  1.00 31.15           C  \\nATOM   1254  C   VAL A 379      10.060  52.841  18.773  1.00 32.16           C  \\nATOM   1255  O   VAL A 379      10.016  52.031  17.842  1.00 29.32           O  \\nATOM   1256  CB  VAL A 379       8.762  51.943  20.712  1.00 33.37           C  \\nATOM   1257  CG1 VAL A 379      10.105  51.763  21.415  1.00 30.34           C  \\nATOM   1258  CG2 VAL A 379       7.682  52.259  21.727  1.00 29.56           C  \\nATOM   1259  N   ALA A 380      11.131  53.566  19.056  1.00 30.20           N  \\nATOM   1260  CA  ALA A 380      12.370  53.447  18.303  1.00 27.94           C  \\nATOM   1261  C   ALA A 380      13.548  53.446  19.282  1.00 31.12           C  \\nATOM   1262  O   ALA A 380      13.346  53.374  20.497  1.00 30.00           O  \\nATOM   1263  CB  ALA A 380      12.490  54.608  17.330  1.00 23.61           C  \\nATOM   1264  N   ASP A 381      14.768  53.498  18.745  1.00 32.71           N  \\nATOM   1265  CA  ASP A 381      15.997  53.536  19.548  1.00 34.41           C  \\nATOM   1266  C   ASP A 381      17.043  54.230  18.679  1.00 34.91           C  \\nATOM   1267  O   ASP A 381      17.668  53.621  17.804  1.00 34.83           O  \\nATOM   1268  CB  ASP A 381      16.463  52.125  19.922  1.00 37.88           C  \\nATOM   1269  CG  ASP A 381      17.682  52.134  20.839  1.00 47.19           C  \\nATOM   1270  OD1 ASP A 381      17.819  53.080  21.649  1.00 50.37           O  \\nATOM   1271  OD2 ASP A 381      18.500  51.193  20.759  1.00 52.55           O  \\nATOM   1272  N   PHE A 382      17.212  55.521  18.922  1.00 30.18           N  \\nATOM   1273  CA  PHE A 382      18.122  56.336  18.137  1.00 34.92           C  \\nATOM   1274  C   PHE A 382      19.568  56.341  18.633  1.00 33.20           C  \\nATOM   1275  O   PHE A 382      20.403  57.047  18.069  1.00 35.64           O  \\nATOM   1276  CB  PHE A 382      17.580  57.770  18.092  1.00 34.74           C  \\nATOM   1277  CG  PHE A 382      16.133  57.863  17.668  1.00 38.27           C  \\nATOM   1278  CD1 PHE A 382      15.255  58.713  18.335  1.00 41.10           C  \\nATOM   1279  CD2 PHE A 382      15.657  57.129  16.586  1.00 38.21           C  \\nATOM   1280  CE1 PHE A 382      13.926  58.833  17.930  1.00 43.41           C  \\nATOM   1281  CE2 PHE A 382      14.331  57.242  16.170  1.00 39.56           C  \\nATOM   1282  CZ  PHE A 382      13.463  58.096  16.841  1.00 39.00           C  \\nATOM   1283  N   GLY A 383      19.861  55.554  19.668  1.00 39.20           N  \\nATOM   1284  CA  GLY A 383      21.213  55.512  20.213  1.00 36.80           C  \\nATOM   1285  C   GLY A 383      21.674  56.924  20.526  1.00 40.70           C  \\nATOM   1286  O   GLY A 383      22.694  57.384  20.018  1.00 41.71           O  \\nATOM   1287  N   LEU A 384      20.908  57.608  21.373  1.00 42.68           N  \\nATOM   1288  CA  LEU A 384      21.173  58.993  21.758  1.00 47.34           C  \\nATOM   1289  C   LEU A 384      22.294  59.195  22.788  1.00 50.06           C  \\nATOM   1290  O   LEU A 384      22.690  60.332  23.052  1.00 46.15           O  \\nATOM   1291  CB  LEU A 384      19.873  59.625  22.278  1.00 42.35           C  \\nATOM   1292  CG  LEU A 384      18.670  59.535  21.326  1.00 46.94           C  \\nATOM   1293  CD1 LEU A 384      17.373  59.886  22.055  1.00 43.27           C  \\nATOM   1294  CD2 LEU A 384      18.893  60.458  20.137  1.00 45.26           C  \\nATOM   1295  N   SER A 385      22.795  58.101  23.361  1.00 54.99           N  \\nATOM   1296  CA  SER A 385      23.871  58.148  24.359  1.00 59.78           C  \\nATOM   1297  C   SER A 385      24.867  59.297  24.183  1.00 63.92           C  \\nATOM   1298  O   SER A 385      24.945  60.194  25.022  1.00 62.95           O  \\nATOM   1299  CB  SER A 385      24.651  56.830  24.362  1.00 57.71           C  \\nATOM   1300  OG  SER A 385      23.944  55.802  25.029  1.00 62.16           O  \\nATOM   1301  N   ARG A 386      25.632  59.256  23.096  1.00 70.27           N  \\nATOM   1302  CA  ARG A 386      26.636  60.280  22.814  1.00 77.37           C  \\nATOM   1303  C   ARG A 386      26.137  61.446  21.969  1.00 79.87           C  \\nATOM   1304  O   ARG A 386      26.862  62.416  21.758  1.00 82.23           O  \\nATOM   1305  CB  ARG A 386      27.845  59.661  22.112  1.00 80.99           C  \\nATOM   1306  CG  ARG A 386      28.812  58.925  23.019  1.00 85.15           C  \\nATOM   1307  CD  ARG A 386      30.091  58.622  22.253  1.00 89.57           C  \\nATOM   1308  NE  ARG A 386      30.659  59.836  21.666  1.00 91.27           N  \\nATOM   1309  CZ  ARG A 386      31.688  59.854  20.825  1.00 92.63           C  \\nATOM   1310  NH1 ARG A 386      32.274  58.720  20.463  1.00 93.39           N  \\nATOM   1311  NH2 ARG A 386      32.130  61.008  20.342  1.00 92.14           N  \\nATOM   1312  N   LEU A 387      24.909  61.352  21.477  1.00 81.96           N  \\nATOM   1313  CA  LEU A 387      24.351  62.416  20.656  1.00 84.55           C  \\nATOM   1314  C   LEU A 387      23.886  63.582  21.526  1.00 86.34           C  \\nATOM   1315  O   LEU A 387      24.273  64.730  21.301  1.00 86.43           O  \\nATOM   1316  CB  LEU A 387      23.184  61.876  19.827  1.00 84.68           C  \\nATOM   1317  CG  LEU A 387      23.535  60.681  18.939  1.00 84.96           C  \\nATOM   1318  CD1 LEU A 387      22.288  60.182  18.226  1.00 86.73           C  \\nATOM   1319  CD2 LEU A 387      24.609  61.086  17.941  1.00 84.01           C  \\nATOM   1320  N   MET A 388      23.058  63.278  22.522  1.00 88.35           N  \\nATOM   1321  CA  MET A 388      22.537  64.290  23.436  1.00 88.70           C  \\nATOM   1322  C   MET A 388      23.670  65.123  24.027  1.00 89.12           C  \\nATOM   1323  O   MET A 388      24.703  64.590  24.437  1.00 87.41           O  \\nATOM   1324  CB  MET A 388      21.749  63.622  24.565  1.00 88.38           C  \\nATOM   1325  CG  MET A 388      20.492  62.904  24.106  1.00 88.78           C  \\nATOM   1326  SD  MET A 388      19.086  64.001  23.870  1.00 91.04           S  \\nATOM   1327  CE  MET A 388      18.226  63.789  25.418  1.00 88.29           C  \\nATOM   1328  N   THR A 389      23.466  66.434  24.066  1.00 90.62           N  \\nATOM   1329  CA  THR A 389      24.463  67.352  24.601  1.00 91.97           C  \\nATOM   1330  C   THR A 389      24.025  67.891  25.957  1.00 92.05           C  \\nATOM   1331  O   THR A 389      24.797  68.558  26.651  1.00 93.05           O  \\nATOM   1332  CB  THR A 389      24.685  68.542  23.645  1.00 92.00           C  \\nATOM   1333  OG1 THR A 389      23.441  69.219  23.429  1.00 90.66           O  \\nATOM   1334  CG2 THR A 389      25.234  68.057  22.310  1.00 91.11           C  \\nATOM   1335  N   GLY A 390      22.785  67.588  26.332  1.00 90.27           N  \\nATOM   1336  CA  GLY A 390      22.255  68.063  27.596  1.00 86.71           C  \\nATOM   1337  C   GLY A 390      22.679  67.276  28.818  1.00 84.49           C  \\nATOM   1338  O   GLY A 390      23.718  66.615  28.824  1.00 82.73           O  \\nATOM   1339  N   ASP A 391      21.861  67.358  29.862  1.00 83.44           N  \\nATOM   1340  CA  ASP A 391      22.126  66.665  31.115  1.00 80.54           C  \\nATOM   1341  C   ASP A 391      21.284  65.391  31.202  1.00 75.27           C  \\nATOM   1342  O   ASP A 391      21.197  64.762  32.259  1.00 72.51           O  \\nATOM   1343  CB  ASP A 391      21.802  67.587  32.292  1.00 85.90           C  \\nATOM   1344  CG  ASP A 391      22.301  67.043  33.616  1.00 91.25           C  \\nATOM   1345  OD1 ASP A 391      22.013  67.665  34.662  1.00 94.88           O  \\nATOM   1346  OD2 ASP A 391      22.986  65.996  33.611  1.00 95.02           O  \\nATOM   1347  N   THR A 392      20.662  65.021  30.085  1.00 68.61           N  \\nATOM   1348  CA  THR A 392      19.830  63.824  30.031  1.00 63.52           C  \\nATOM   1349  C   THR A 392      20.673  62.584  30.315  1.00 58.70           C  \\nATOM   1350  O   THR A 392      20.332  61.787  31.186  1.00 55.31           O  \\nATOM   1351  CB  THR A 392      19.153  63.677  28.652  1.00 64.03           C  \\nATOM   1352  OG1 THR A 392      18.340  64.830  28.397  1.00 65.17           O  \\nATOM   1353  CG2 THR A 392      18.275  62.434  28.614  1.00 61.64           C  \\nATOM   1354  N   TYR A 393      21.771  62.429  29.580  1.00 55.52           N  \\nATOM   1355  CA  TYR A 393      22.670  61.295  29.776  1.00 58.14           C  \\nATOM   1356  C   TYR A 393      23.935  61.736  30.513  1.00 61.89           C  \\nATOM   1357  O   TYR A 393      24.536  62.757  30.172  1.00 62.42           O  \\nATOM   1358  CB  TYR A 393      23.081  60.680  28.434  1.00 55.46           C  \\nATOM   1359  CG  TYR A 393      21.947  60.113  27.610  1.00 55.93           C  \\nATOM   1360  CD1 TYR A 393      21.143  60.941  26.829  1.00 53.44           C  \\nATOM   1361  CD2 TYR A 393      21.684  58.743  27.603  1.00 53.95           C  \\nATOM   1362  CE1 TYR A 393      20.109  60.418  26.059  1.00 53.92           C  \\nATOM   1363  CE2 TYR A 393      20.652  58.212  26.837  1.00 52.31           C  \\nATOM   1364  CZ  TYR A 393      19.869  59.054  26.066  1.00 53.22           C  \\nATOM   1365  OH  TYR A 393      18.849  58.537  25.297  1.00 49.88           O  \\nATOM   1366  N   THR A 394      24.339  60.967  31.520  1.00 63.83           N  \\nATOM   1367  CA  THR A 394      25.547  61.285  32.279  1.00 66.99           C  \\nATOM   1368  C   THR A 394      26.544  60.133  32.283  1.00 68.25           C  \\nATOM   1369  O   THR A 394      26.165  58.963  32.349  1.00 64.94           O  \\nATOM   1370  CB  THR A 394      25.231  61.672  33.739  1.00 67.07           C  \\nATOM   1371  OG1 THR A 394      23.915  61.229  34.086  1.00 68.14           O  \\nATOM   1372  CG2 THR A 394      25.334  63.181  33.918  1.00 68.34           C  \\nATOM   1373  N   ALA A 395      27.823  60.490  32.217  1.00 70.62           N  \\nATOM   1374  CA  ALA A 395      28.919  59.528  32.187  1.00 73.39           C  \\nATOM   1375  C   ALA A 395      28.886  58.478  33.290  1.00 74.08           C  \\nATOM   1376  O   ALA A 395      28.357  58.706  34.376  1.00 72.74           O  \\nATOM   1377  CB  ALA A 395      30.252  60.271  32.219  1.00 73.75           C  \\nATOM   1378  N   HIS A 396      29.468  57.322  32.983  1.00 78.42           N  \\nATOM   1379  CA  HIS A 396      29.555  56.189  33.899  1.00 82.15           C  \\nATOM   1380  C   HIS A 396      30.400  55.092  33.258  1.00 83.08           C  \\nATOM   1381  O   HIS A 396      29.913  54.328  32.422  1.00 83.77           O  \\nATOM   1382  CB  HIS A 396      28.164  55.632  34.222  1.00 83.55           C  \\nATOM   1383  CG  HIS A 396      28.196  54.327  34.957  1.00 88.06           C  \\nATOM   1384  ND1 HIS A 396      28.700  53.171  34.399  1.00 89.55           N  \\nATOM   1385  CD2 HIS A 396      27.807  53.999  36.212  1.00 89.56           C  \\nATOM   1386  CE1 HIS A 396      28.620  52.188  35.277  1.00 89.09           C  \\nATOM   1387  NE2 HIS A 396      28.082  52.663  36.386  1.00 90.16           N  \\nATOM   1388  N   ALA A 397      31.670  55.027  33.647  1.00 83.23           N  \\nATOM   1389  CA  ALA A 397      32.588  54.024  33.119  1.00 83.89           C  \\nATOM   1390  C   ALA A 397      32.601  53.970  31.590  1.00 84.00           C  \\nATOM   1391  O   ALA A 397      32.330  52.926  30.995  1.00 84.56           O  \\nATOM   1392  CB  ALA A 397      32.235  52.655  33.683  1.00 83.45           C  \\nATOM   1393  N   GLY A 398      32.916  55.099  30.962  1.00 84.25           N  \\nATOM   1394  CA  GLY A 398      32.987  55.158  29.511  1.00 81.86           C  \\nATOM   1395  C   GLY A 398      31.670  55.075  28.768  1.00 80.53           C  \\nATOM   1396  O   GLY A 398      31.651  55.016  27.537  1.00 81.57           O  \\nATOM   1397  N   ALA A 399      30.571  55.063  29.512  1.00 77.56           N  \\nATOM   1398  CA  ALA A 399      29.244  54.995  28.920  1.00 73.84           C  \\nATOM   1399  C   ALA A 399      28.375  56.067  29.558  1.00 71.11           C  \\nATOM   1400  O   ALA A 399      28.730  56.639  30.592  1.00 69.14           O  \\nATOM   1401  CB  ALA A 399      28.635  53.621  29.152  1.00 72.33           C  \\nATOM   1402  N   LYS A 400      27.241  56.348  28.931  1.00 66.15           N  \\nATOM   1403  CA  LYS A 400      26.328  57.344  29.456  1.00 60.05           C  \\nATOM   1404  C   LYS A 400      24.945  56.745  29.647  1.00 57.02           C  \\nATOM   1405  O   LYS A 400      24.494  55.930  28.843  1.00 51.53           O  \\nATOM   1406  CB  LYS A 400      26.275  58.556  28.529  1.00 63.63           C  \\nATOM   1407  CG  LYS A 400      27.581  59.330  28.493  1.00 65.73           C  \\nATOM   1408  CD  LYS A 400      27.397  60.691  27.858  1.00 71.53           C  \\nATOM   1409  CE  LYS A 400      28.724  61.411  27.712  1.00 76.29           C  \\nATOM   1410  NZ  LYS A 400      28.568  62.736  27.047  1.00 81.43           N  \\nATOM   1411  N   PHE A 401      24.287  57.152  30.729  1.00 53.43           N  \\nATOM   1412  CA  PHE A 401      22.965  56.655  31.066  1.00 54.17           C  \\nATOM   1413  C   PHE A 401      22.039  57.784  31.496  1.00 51.94           C  \\nATOM   1414  O   PHE A 401      22.467  58.735  32.148  1.00 52.64           O  \\nATOM   1415  CB  PHE A 401      23.055  55.647  32.216  1.00 60.83           C  \\nATOM   1416  CG  PHE A 401      24.020  54.522  31.971  1.00 68.33           C  \\nATOM   1417  CD1 PHE A 401      25.395  54.741  32.000  1.00 72.03           C  \\nATOM   1418  CD2 PHE A 401      23.552  53.240  31.709  1.00 71.61           C  \\nATOM   1419  CE1 PHE A 401      26.290  53.699  31.771  1.00 73.29           C  \\nATOM   1420  CE2 PHE A 401      24.435  52.191  31.479  1.00 73.80           C  \\nATOM   1421  CZ  PHE A 401      25.807  52.420  31.510  1.00 75.20           C  \\nATOM   1422  N   PRO A 402      20.752  57.695  31.126  1.00 47.72           N  \\nATOM   1423  CA  PRO A 402      19.759  58.713  31.488  1.00 43.12           C  \\nATOM   1424  C   PRO A 402      19.310  58.380  32.909  1.00 41.65           C  \\nATOM   1425  O   PRO A 402      18.319  57.672  33.111  1.00 41.87           O  \\nATOM   1426  CB  PRO A 402      18.659  58.497  30.451  1.00 43.24           C  \\nATOM   1427  CG  PRO A 402      18.686  57.006  30.258  1.00 46.92           C  \\nATOM   1428  CD  PRO A 402      20.175  56.690  30.211  1.00 46.81           C  \\nATOM   1429  N   ILE A 403      20.053  58.890  33.888  1.00 39.52           N  \\nATOM   1430  CA  ILE A 403      19.789  58.608  35.296  1.00 37.49           C  \\nATOM   1431  C   ILE A 403      18.335  58.661  35.738  1.00 40.02           C  \\nATOM   1432  O   ILE A 403      17.884  57.790  36.482  1.00 37.28           O  \\nATOM   1433  CB  ILE A 403      20.608  59.546  36.219  1.00 41.72           C  \\nATOM   1434  CG1 ILE A 403      22.102  59.398  35.925  1.00 41.29           C  \\nATOM   1435  CG2 ILE A 403      20.355  59.199  37.682  1.00 37.34           C  \\nATOM   1436  CD1 ILE A 403      22.628  57.993  36.101  1.00 43.36           C  \\nATOM   1437  N   LYS A 404      17.596  59.669  35.283  1.00 38.46           N  \\nATOM   1438  CA  LYS A 404      16.203  59.812  35.694  1.00 39.37           C  \\nATOM   1439  C   LYS A 404      15.211  58.827  35.074  1.00 36.29           C  \\nATOM   1440  O   LYS A 404      14.033  58.824  35.432  1.00 39.06           O  \\nATOM   1441  CB  LYS A 404      15.741  61.250  35.455  1.00 40.02           C  \\nATOM   1442  CG  LYS A 404      16.285  62.230  36.490  1.00 46.10           C  \\nATOM   1443  CD  LYS A 404      15.814  63.651  36.218  1.00 52.97           C  \\nATOM   1444  CE  LYS A 404      16.155  64.576  37.381  1.00 57.06           C  \\nATOM   1445  NZ  LYS A 404      17.596  64.498  37.734  1.00 60.00           N  \\nATOM   1446  N   TRP A 405      15.691  57.999  34.155  1.00 35.32           N  \\nATOM   1447  CA  TRP A 405      14.866  56.992  33.490  1.00 35.99           C  \\nATOM   1448  C   TRP A 405      15.389  55.594  33.845  1.00 41.30           C  \\nATOM   1449  O   TRP A 405      14.809  54.583  33.450  1.00 38.47           O  \\nATOM   1450  CB  TRP A 405      14.940  57.172  31.971  1.00 33.55           C  \\nATOM   1451  CG  TRP A 405      14.043  58.243  31.397  1.00 33.15           C  \\nATOM   1452  CD1 TRP A 405      12.799  58.067  30.869  1.00 33.65           C  \\nATOM   1453  CD2 TRP A 405      14.337  59.643  31.273  1.00 33.64           C  \\nATOM   1454  NE1 TRP A 405      12.299  59.264  30.419  1.00 33.22           N  \\nATOM   1455  CE2 TRP A 405      13.220  60.249  30.655  1.00 36.16           C  \\nATOM   1456  CE3 TRP A 405      15.434  60.442  31.622  1.00 30.32           C  \\nATOM   1457  CZ2 TRP A 405      13.167  61.622  30.378  1.00 33.71           C  \\nATOM   1458  CZ3 TRP A 405      15.385  61.807  31.346  1.00 33.76           C  \\nATOM   1459  CH2 TRP A 405      14.258  62.382  30.730  1.00 38.41           C  \\nATOM   1460  N   THR A 406      16.486  55.546  34.597  1.00 41.28           N  \\nATOM   1461  CA  THR A 406      17.111  54.278  34.960  1.00 40.75           C  \\nATOM   1462  C   THR A 406      16.645  53.648  36.271  1.00 41.94           C  \\nATOM   1463  O   THR A 406      16.569  54.311  37.307  1.00 43.75           O  \\nATOM   1464  CB  THR A 406      18.627  54.447  35.004  1.00 38.69           C  \\nATOM   1465  OG1 THR A 406      19.061  55.089  33.798  1.00 34.99           O  \\nATOM   1466  CG2 THR A 406      19.312  53.094  35.121  1.00 39.19           C  \\nATOM   1467  N   ALA A 407      16.341  52.353  36.220  1.00 42.11           N  \\nATOM   1468  CA  ALA A 407      15.876  51.629  37.398  1.00 39.06           C  \\nATOM   1469  C   ALA A 407      17.002  51.528  38.428  1.00 40.96           C  \\nATOM   1470  O   ALA A 407      18.180  51.519  38.072  1.00 36.87           O  \\nATOM   1471  CB  ALA A 407      15.401  50.239  37.000  1.00 37.96           C  \\nATOM   1472  N   PRO A 408      16.648  51.460  39.721  1.00 44.10           N  \\nATOM   1473  CA  PRO A 408      17.623  51.360  40.817  1.00 45.53           C  \\nATOM   1474  C   PRO A 408      18.647  50.253  40.586  1.00 46.35           C  \\nATOM   1475  O   PRO A 408      19.855  50.494  40.638  1.00 48.43           O  \\nATOM   1476  CB  PRO A 408      16.743  51.084  42.032  1.00 47.24           C  \\nATOM   1477  CG  PRO A 408      15.485  51.835  41.700  1.00 48.10           C  \\nATOM   1478  CD  PRO A 408      15.271  51.474  40.246  1.00 44.89           C  \\nATOM   1479  N   GLU A 409      18.156  49.044  40.321  1.00 44.60           N  \\nATOM   1480  CA  GLU A 409      19.030  47.900  40.079  1.00 48.75           C  \\nATOM   1481  C   GLU A 409      20.003  48.167  38.932  1.00 48.69           C  \\nATOM   1482  O   GLU A 409      21.115  47.636  38.916  1.00 48.37           O  \\nATOM   1483  CB  GLU A 409      18.203  46.651  39.751  1.00 51.61           C  \\nATOM   1484  CG  GLU A 409      17.441  46.754  38.436  1.00 51.25           C  \\nATOM   1485  CD  GLU A 409      15.962  47.037  38.623  1.00 52.13           C  \\nATOM   1486  OE1 GLU A 409      15.601  47.781  39.565  1.00 48.09           O  \\nATOM   1487  OE2 GLU A 409      15.160  46.518  37.813  1.00 50.69           O  \\nATOM   1488  N   SER A 410      19.580  48.983  37.969  1.00 46.21           N  \\nATOM   1489  CA  SER A 410      20.422  49.305  36.819  1.00 46.83           C  \\nATOM   1490  C   SER A 410      21.519  50.298  37.193  1.00 48.01           C  \\nATOM   1491  O   SER A 410      22.639  50.223  36.683  1.00 46.85           O  \\nATOM   1492  CB  SER A 410      19.573  49.884  35.682  1.00 48.84           C  \\nATOM   1493  OG  SER A 410      18.552  48.985  35.284  1.00 50.50           O  \\nATOM   1494  N   LEU A 411      21.187  51.236  38.076  1.00 48.40           N  \\nATOM   1495  CA  LEU A 411      22.152  52.233  38.531  1.00 50.19           C  \\nATOM   1496  C   LEU A 411      23.155  51.569  39.468  1.00 51.28           C  \\nATOM   1497  O   LEU A 411      24.353  51.818  39.389  1.00 51.73           O  \\nATOM   1498  CB  LEU A 411      21.443  53.370  39.280  1.00 47.23           C  \\nATOM   1499  CG  LEU A 411      20.635  54.396  38.476  1.00 48.52           C  \\nATOM   1500  CD1 LEU A 411      19.878  55.307  39.424  1.00 45.76           C  \\nATOM   1501  CD2 LEU A 411      21.564  55.211  37.599  1.00 40.71           C  \\nATOM   1502  N   ALA A 412      22.648  50.704  40.341  1.00 54.06           N  \\nATOM   1503  CA  ALA A 412      23.478  50.016  41.320  1.00 58.27           C  \\nATOM   1504  C   ALA A 412      24.247  48.795  40.820  1.00 60.49           C  \\nATOM   1505  O   ALA A 412      25.455  48.692  41.043  1.00 60.92           O  \\nATOM   1506  CB  ALA A 412      22.627  49.625  42.518  1.00 58.21           C  \\nATOM   1507  N   TYR A 413      23.565  47.877  40.140  1.00 59.20           N  \\nATOM   1508  CA  TYR A 413      24.223  46.660  39.672  1.00 58.77           C  \\nATOM   1509  C   TYR A 413      24.433  46.522  38.170  1.00 58.06           C  \\nATOM   1510  O   TYR A 413      24.826  45.457  37.700  1.00 56.71           O  \\nATOM   1511  CB  TYR A 413      23.451  45.440  40.179  1.00 61.91           C  \\nATOM   1512  CG  TYR A 413      23.165  45.491  41.662  1.00 66.69           C  \\nATOM   1513  CD1 TYR A 413      21.971  46.024  42.145  1.00 67.31           C  \\nATOM   1514  CD2 TYR A 413      24.109  45.046  42.587  1.00 69.07           C  \\nATOM   1515  CE1 TYR A 413      21.724  46.114  43.512  1.00 70.56           C  \\nATOM   1516  CE2 TYR A 413      23.873  45.134  43.955  1.00 71.26           C  \\nATOM   1517  CZ  TYR A 413      22.681  45.669  44.410  1.00 72.53           C  \\nATOM   1518  OH  TYR A 413      22.454  45.769  45.761  1.00 74.20           O  \\nATOM   1519  N   ASN A 414      24.189  47.586  37.416  1.00 57.88           N  \\nATOM   1520  CA  ASN A 414      24.348  47.526  35.966  1.00 57.55           C  \\nATOM   1521  C   ASN A 414      23.517  46.381  35.395  1.00 55.09           C  \\nATOM   1522  O   ASN A 414      23.844  45.822  34.348  1.00 54.13           O  \\nATOM   1523  CB  ASN A 414      25.817  47.322  35.584  1.00 58.44           C  \\nATOM   1524  CG  ASN A 414      26.687  48.501  35.964  1.00 65.24           C  \\nATOM   1525  OD1 ASN A 414      26.318  49.653  35.739  1.00 69.44           O  \\nATOM   1526  ND2 ASN A 414      27.857  48.220  36.531  1.00 65.50           N  \\nATOM   1527  N   LYS A 415      22.446  46.029  36.093  1.00 54.46           N  \\nATOM   1528  CA  LYS A 415      21.576  44.957  35.642  1.00 56.97           C  \\nATOM   1529  C   LYS A 415      20.390  45.501  34.849  1.00 57.47           C  \\nATOM   1530  O   LYS A 415      19.530  46.202  35.390  1.00 56.38           O  \\nATOM   1531  CB  LYS A 415      21.059  44.147  36.833  1.00 59.32           C  \\nATOM   1532  CG  LYS A 415      20.088  43.045  36.436  1.00 63.50           C  \\nATOM   1533  CD  LYS A 415      19.573  42.278  37.643  1.00 67.65           C  \\nATOM   1534  CE  LYS A 415      18.531  41.244  37.230  1.00 66.61           C  \\nATOM   1535  NZ  LYS A 415      17.354  41.876  36.568  1.00 65.11           N  \\nATOM   1536  N   PHE A 416      20.356  45.175  33.562  1.00 56.66           N  \\nATOM   1537  CA  PHE A 416      19.270  45.603  32.694  1.00 53.96           C  \\nATOM   1538  C   PHE A 416      18.412  44.412  32.308  1.00 54.00           C  \\nATOM   1539  O   PHE A 416      18.924  43.359  31.924  1.00 53.61           O  \\nATOM   1540  CB  PHE A 416      19.813  46.269  31.429  1.00 54.41           C  \\nATOM   1541  CG  PHE A 416      20.424  47.618  31.668  1.00 57.70           C  \\nATOM   1542  CD1 PHE A 416      21.669  47.737  32.277  1.00 56.17           C  \\nATOM   1543  CD2 PHE A 416      19.744  48.776  31.297  1.00 57.60           C  \\nATOM   1544  CE1 PHE A 416      22.229  48.991  32.513  1.00 56.74           C  \\nATOM   1545  CE2 PHE A 416      20.294  50.036  31.529  1.00 56.94           C  \\nATOM   1546  CZ  PHE A 416      21.539  50.144  32.138  1.00 58.24           C  \\nATOM   1547  N   SER A 417      17.101  44.582  32.426  1.00 51.25           N  \\nATOM   1548  CA  SER A 417      16.157  43.534  32.073  1.00 48.77           C  \\nATOM   1549  C   SER A 417      14.897  44.210  31.549  1.00 48.47           C  \\nATOM   1550  O   SER A 417      14.837  45.434  31.451  1.00 45.86           O  \\nATOM   1551  CB  SER A 417      15.808  42.685  33.296  1.00 49.71           C  \\nATOM   1552  OG  SER A 417      14.930  43.381  34.164  1.00 49.29           O  \\nATOM   1553  N   ILE A 418      13.891  43.413  31.215  1.00 43.31           N  \\nATOM   1554  CA  ILE A 418      12.647  43.958  30.711  1.00 45.38           C  \\nATOM   1555  C   ILE A 418      11.939  44.685  31.858  1.00 45.20           C  \\nATOM   1556  O   ILE A 418      11.055  45.513  31.635  1.00 46.64           O  \\nATOM   1557  CB  ILE A 418      11.768  42.827  30.117  1.00 42.31           C  \\nATOM   1558  CG1 ILE A 418      10.594  43.420  29.337  1.00 42.23           C  \\nATOM   1559  CG2 ILE A 418      11.310  41.895  31.223  1.00 42.45           C  \\nATOM   1560  CD1 ILE A 418       9.330  43.560  30.145  1.00 47.27           C  \\nATOM   1561  N   LYS A 419      12.354  44.386  33.087  1.00 44.70           N  \\nATOM   1562  CA  LYS A 419      11.783  45.026  34.270  1.00 43.08           C  \\nATOM   1563  C   LYS A 419      12.302  46.456  34.436  1.00 40.19           C  \\nATOM   1564  O   LYS A 419      11.588  47.333  34.929  1.00 40.34           O  \\nATOM   1565  CB  LYS A 419      12.107  44.219  35.528  1.00 45.94           C  \\nATOM   1566  CG  LYS A 419      10.918  43.466  36.103  1.00 47.85           C  \\nATOM   1567  CD  LYS A 419      10.407  42.413  35.149  1.00 45.75           C  \\nATOM   1568  CE  LYS A 419       9.233  41.652  35.748  1.00 51.99           C  \\nATOM   1569  NZ  LYS A 419       8.010  42.483  35.860  1.00 48.56           N  \\nATOM   1570  N   SER A 420      13.546  46.694  34.037  1.00 38.64           N  \\nATOM   1571  CA  SER A 420      14.093  48.039  34.134  1.00 38.24           C  \\nATOM   1572  C   SER A 420      13.471  48.851  32.995  1.00 38.33           C  \\nATOM   1573  O   SER A 420      13.416  50.072  33.055  1.00 37.09           O  \\nATOM   1574  CB  SER A 420      15.622  48.018  34.040  1.00 37.55           C  \\nATOM   1575  OG  SER A 420      16.064  47.495  32.807  1.00 45.22           O  \\nATOM   1576  N   ASP A 421      12.985  48.160  31.963  1.00 39.57           N  \\nATOM   1577  CA  ASP A 421      12.323  48.834  30.846  1.00 36.89           C  \\nATOM   1578  C   ASP A 421      10.957  49.283  31.366  1.00 37.52           C  \\nATOM   1579  O   ASP A 421      10.476  50.360  31.024  1.00 39.28           O  \\nATOM   1580  CB  ASP A 421      12.120  47.889  29.653  1.00 37.33           C  \\nATOM   1581  CG  ASP A 421      13.355  47.768  28.758  1.00 44.45           C  \\nATOM   1582  OD1 ASP A 421      14.331  48.541  28.917  1.00 41.70           O  \\nATOM   1583  OD2 ASP A 421      13.334  46.891  27.867  1.00 44.75           O  \\nATOM   1584  N   VAL A 422      10.339  48.445  32.198  1.00 35.54           N  \\nATOM   1585  CA  VAL A 422       9.041  48.767  32.780  1.00 37.62           C  \\nATOM   1586  C   VAL A 422       9.156  50.002  33.678  1.00 36.52           C  \\nATOM   1587  O   VAL A 422       8.260  50.844  33.719  1.00 37.24           O  \\nATOM   1588  CB  VAL A 422       8.491  47.587  33.606  1.00 37.84           C  \\nATOM   1589  CG1 VAL A 422       7.211  47.998  34.301  1.00 32.64           C  \\nATOM   1590  CG2 VAL A 422       8.235  46.386  32.692  1.00 35.58           C  \\nATOM   1591  N   TRP A 423      10.262  50.105  34.405  1.00 38.86           N  \\nATOM   1592  CA  TRP A 423      10.477  51.264  35.258  1.00 37.15           C  \\nATOM   1593  C   TRP A 423      10.559  52.489  34.346  1.00 34.30           C  \\nATOM   1594  O   TRP A 423       9.895  53.501  34.583  1.00 34.20           O  \\nATOM   1595  CB  TRP A 423      11.777  51.111  36.054  1.00 38.15           C  \\nATOM   1596  CG  TRP A 423      12.139  52.324  36.877  1.00 42.05           C  \\nATOM   1597  CD1 TRP A 423      12.578  53.534  36.413  1.00 42.10           C  \\nATOM   1598  CD2 TRP A 423      12.059  52.447  38.301  1.00 45.14           C  \\nATOM   1599  NE1 TRP A 423      12.772  54.404  37.462  1.00 40.34           N  \\nATOM   1600  CE2 TRP A 423      12.462  53.763  38.632  1.00 43.48           C  \\nATOM   1601  CE3 TRP A 423      11.684  51.572  39.333  1.00 48.85           C  \\nATOM   1602  CZ2 TRP A 423      12.503  54.227  39.952  1.00 46.14           C  \\nATOM   1603  CZ3 TRP A 423      11.724  52.033  40.650  1.00 47.77           C  \\nATOM   1604  CH2 TRP A 423      12.132  53.351  40.945  1.00 50.15           C  \\nATOM   1605  N   ALA A 424      11.370  52.386  33.298  1.00 31.86           N  \\nATOM   1606  CA  ALA A 424      11.533  53.483  32.350  1.00 32.19           C  \\nATOM   1607  C   ALA A 424      10.188  53.856  31.724  1.00 34.24           C  \\nATOM   1608  O   ALA A 424       9.924  55.027  31.433  1.00 34.14           O  \\nATOM   1609  CB  ALA A 424      12.521  53.091  31.270  1.00 26.52           C  \\nATOM   1610  N   PHE A 425       9.334  52.859  31.513  1.00 34.62           N  \\nATOM   1611  CA  PHE A 425       8.021  53.121  30.933  1.00 34.77           C  \\nATOM   1612  C   PHE A 425       7.227  53.981  31.913  1.00 37.90           C  \\nATOM   1613  O   PHE A 425       6.450  54.858  31.515  1.00 36.59           O  \\nATOM   1614  CB  PHE A 425       7.277  51.811  30.672  1.00 36.44           C  \\nATOM   1615  CG  PHE A 425       5.874  52.005  30.190  1.00 37.73           C  \\nATOM   1616  CD1 PHE A 425       5.620  52.413  28.885  1.00 38.63           C  \\nATOM   1617  CD2 PHE A 425       4.805  51.809  31.051  1.00 39.30           C  \\nATOM   1618  CE1 PHE A 425       4.317  52.625  28.443  1.00 40.63           C  \\nATOM   1619  CE2 PHE A 425       3.496  52.018  30.624  1.00 43.76           C  \\nATOM   1620  CZ  PHE A 425       3.250  52.427  29.315  1.00 42.72           C  \\nATOM   1621  N   GLY A 426       7.424  53.720  33.202  1.00 37.58           N  \\nATOM   1622  CA  GLY A 426       6.734  54.496  34.214  1.00 39.21           C  \\nATOM   1623  C   GLY A 426       7.088  55.967  34.077  1.00 39.52           C  \\nATOM   1624  O   GLY A 426       6.219  56.836  34.149  1.00 39.60           O  \\nATOM   1625  N   VAL A 427       8.371  56.246  33.873  1.00 37.49           N  \\nATOM   1626  CA  VAL A 427       8.834  57.618  33.725  1.00 36.01           C  \\nATOM   1627  C   VAL A 427       8.251  58.210  32.447  1.00 39.10           C  \\nATOM   1628  O   VAL A 427       7.868  59.381  32.408  1.00 40.26           O  \\nATOM   1629  CB  VAL A 427      10.373  57.675  33.662  1.00 35.85           C  \\nATOM   1630  CG1 VAL A 427      10.840  59.116  33.572  1.00 30.62           C  \\nATOM   1631  CG2 VAL A 427      10.964  56.991  34.891  1.00 29.87           C  \\nATOM   1632  N   LEU A 428       8.184  57.390  31.402  1.00 38.65           N  \\nATOM   1633  CA  LEU A 428       7.637  57.823  30.123  1.00 38.10           C  \\nATOM   1634  C   LEU A 428       6.183  58.270  30.280  1.00 35.20           C  \\nATOM   1635  O   LEU A 428       5.775  59.292  29.725  1.00 33.35           O  \\nATOM   1636  CB  LEU A 428       7.750  56.682  29.104  1.00 41.13           C  \\nATOM   1637  CG  LEU A 428       7.139  56.833  27.711  1.00 43.82           C  \\nATOM   1638  CD1 LEU A 428       7.546  58.150  27.082  1.00 47.10           C  \\nATOM   1639  CD2 LEU A 428       7.594  55.662  26.849  1.00 45.90           C  \\nATOM   1640  N   LEU A 429       5.402  57.504  31.035  1.00 36.01           N  \\nATOM   1641  CA  LEU A 429       4.004  57.851  31.266  1.00 35.51           C  \\nATOM   1642  C   LEU A 429       3.933  59.224  31.913  1.00 35.33           C  \\nATOM   1643  O   LEU A 429       3.032  60.011  31.627  1.00 39.20           O  \\nATOM   1644  CB  LEU A 429       3.341  56.832  32.189  1.00 38.22           C  \\nATOM   1645  CG  LEU A 429       3.140  55.431  31.634  1.00 41.15           C  \\nATOM   1646  CD1 LEU A 429       2.503  54.565  32.708  1.00 46.70           C  \\nATOM   1647  CD2 LEU A 429       2.263  55.490  30.388  1.00 46.86           C  \\nATOM   1648  N   TRP A 430       4.892  59.500  32.792  1.00 38.21           N  \\nATOM   1649  CA  TRP A 430       4.962  60.780  33.479  1.00 35.57           C  \\nATOM   1650  C   TRP A 430       5.245  61.879  32.457  1.00 35.43           C  \\nATOM   1651  O   TRP A 430       4.633  62.947  32.504  1.00 34.87           O  \\nATOM   1652  CB  TRP A 430       6.071  60.758  34.533  1.00 38.43           C  \\nATOM   1653  CG  TRP A 430       5.965  61.873  35.527  1.00 39.02           C  \\nATOM   1654  CD1 TRP A 430       5.230  61.878  36.677  1.00 40.30           C  \\nATOM   1655  CD2 TRP A 430       6.589  63.160  35.444  1.00 41.17           C  \\nATOM   1656  NE1 TRP A 430       5.358  63.087  37.317  1.00 43.21           N  \\nATOM   1657  CE2 TRP A 430       6.185  63.894  36.582  1.00 41.67           C  \\nATOM   1658  CE3 TRP A 430       7.447  63.767  34.517  1.00 42.63           C  \\nATOM   1659  CZ2 TRP A 430       6.610  65.204  36.819  1.00 40.56           C  \\nATOM   1660  CZ3 TRP A 430       7.871  65.074  34.754  1.00 45.45           C  \\nATOM   1661  CH2 TRP A 430       7.451  65.776  35.896  1.00 44.07           C  \\nATOM   1662  N   GLU A 431       6.178  61.615  31.540  1.00 34.18           N  \\nATOM   1663  CA  GLU A 431       6.523  62.584  30.498  1.00 34.76           C  \\nATOM   1664  C   GLU A 431       5.270  62.882  29.680  1.00 34.72           C  \\nATOM   1665  O   GLU A 431       5.001  64.025  29.315  1.00 37.21           O  \\nATOM   1666  CB  GLU A 431       7.585  62.030  29.535  1.00 33.13           C  \\nATOM   1667  CG  GLU A 431       8.938  61.663  30.131  1.00 37.29           C  \\nATOM   1668  CD  GLU A 431       9.975  61.353  29.047  1.00 38.84           C  \\nATOM   1669  OE1 GLU A 431      10.473  62.308  28.411  1.00 39.41           O  \\nATOM   1670  OE2 GLU A 431      10.277  60.159  28.818  1.00 32.01           O  \\nATOM   1671  N   ILE A 432       4.511  61.835  29.384  1.00 34.91           N  \\nATOM   1672  CA  ILE A 432       3.305  61.986  28.589  1.00 35.13           C  \\nATOM   1673  C   ILE A 432       2.227  62.783  29.310  1.00 36.72           C  \\nATOM   1674  O   ILE A 432       1.632  63.691  28.730  1.00 32.80           O  \\nATOM   1675  CB  ILE A 432       2.741  60.612  28.183  1.00 34.79           C  \\nATOM   1676  CG1 ILE A 432       3.697  59.947  27.182  1.00 31.87           C  \\nATOM   1677  CG2 ILE A 432       1.336  60.775  27.589  1.00 35.70           C  \\nATOM   1678  CD1 ILE A 432       3.276  58.570  26.723  1.00 31.54           C  \\nATOM   1679  N   ALA A 433       1.990  62.448  30.574  1.00 36.61           N  \\nATOM   1680  CA  ALA A 433       0.967  63.125  31.363  1.00 39.28           C  \\nATOM   1681  C   ALA A 433       1.280  64.598  31.632  1.00 39.41           C  \\nATOM   1682  O   ALA A 433       0.378  65.378  31.931  1.00 42.51           O  \\nATOM   1683  CB  ALA A 433       0.750  62.381  32.681  1.00 35.07           C  \\nATOM   1684  N   THR A 434       2.548  64.984  31.520  1.00 38.47           N  \\nATOM   1685  CA  THR A 434       2.941  66.373  31.759  1.00 36.09           C  \\nATOM   1686  C   THR A 434       3.198  67.131  30.459  1.00 36.83           C  \\nATOM   1687  O   THR A 434       3.717  68.255  30.478  1.00 35.32           O  \\nATOM   1688  CB  THR A 434       4.227  66.457  32.606  1.00 37.97           C  \\nATOM   1689  OG1 THR A 434       5.313  65.854  31.885  1.00 38.29           O  \\nATOM   1690  CG2 THR A 434       4.038  65.741  33.941  1.00 33.07           C  \\nATOM   1691  N   TYR A 435       2.837  66.520  29.335  1.00 34.27           N  \\nATOM   1692  CA  TYR A 435       3.056  67.128  28.027  1.00 34.06           C  \\nATOM   1693  C   TYR A 435       4.544  67.400  27.781  1.00 35.62           C  \\nATOM   1694  O   TYR A 435       4.913  68.434  27.222  1.00 36.56           O  \\nATOM   1695  CB  TYR A 435       2.252  68.433  27.881  1.00 35.56           C  \\nATOM   1696  CG  TYR A 435       0.766  68.217  27.639  1.00 38.61           C  \\nATOM   1697  CD1 TYR A 435       0.291  67.834  26.381  1.00 37.99           C  \\nATOM   1698  CD2 TYR A 435      -0.160  68.356  28.675  1.00 36.92           C  \\nATOM   1699  CE1 TYR A 435      -1.065  67.592  26.160  1.00 34.47           C  \\nATOM   1700  CE2 TYR A 435      -1.525  68.115  28.463  1.00 35.96           C  \\nATOM   1701  CZ  TYR A 435      -1.964  67.733  27.205  1.00 35.24           C  \\nATOM   1702  OH  TYR A 435      -3.295  67.475  26.993  1.00 39.79           O  \\nATOM   1703  N   GLY A 436       5.400  66.477  28.217  1.00 37.69           N  \\nATOM   1704  CA  GLY A 436       6.827  66.622  27.968  1.00 35.25           C  \\nATOM   1705  C   GLY A 436       7.729  67.295  28.987  1.00 37.09           C  \\nATOM   1706  O   GLY A 436       8.794  67.797  28.618  1.00 38.29           O  \\nATOM   1707  N   MET A 437       7.334  67.317  30.255  1.00 36.04           N  \\nATOM   1708  CA  MET A 437       8.178  67.931  31.276  1.00 42.66           C  \\nATOM   1709  C   MET A 437       9.350  67.028  31.648  1.00 43.80           C  \\nATOM   1710  O   MET A 437       9.289  65.810  31.476  1.00 40.99           O  \\nATOM   1711  CB  MET A 437       7.373  68.233  32.540  1.00 42.12           C  \\nATOM   1712  CG  MET A 437       6.495  69.470  32.451  1.00 52.61           C  \\nATOM   1713  SD  MET A 437       5.628  69.773  34.005  1.00 62.75           S  \\nATOM   1714  CE  MET A 437       7.031  69.998  35.129  1.00 56.43           C  \\nATOM   1715  N   SER A 438      10.415  67.633  32.165  1.00 44.83           N  \\nATOM   1716  CA  SER A 438      11.585  66.877  32.589  1.00 47.44           C  \\nATOM   1717  C   SER A 438      11.317  66.182  33.926  1.00 45.65           C  \\nATOM   1718  O   SER A 438      10.747  66.774  34.839  1.00 47.04           O  \\nATOM   1719  CB  SER A 438      12.793  67.803  32.717  1.00 48.95           C  \\nATOM   1720  OG  SER A 438      13.239  68.209  31.439  1.00 54.56           O  \\nATOM   1721  N   PRO A 439      11.728  64.909  34.050  1.00 43.62           N  \\nATOM   1722  CA  PRO A 439      11.551  64.093  35.259  1.00 44.52           C  \\nATOM   1723  C   PRO A 439      12.269  64.657  36.490  1.00 44.20           C  \\nATOM   1724  O   PRO A 439      13.289  65.326  36.363  1.00 42.70           O  \\nATOM   1725  CB  PRO A 439      12.119  62.733  34.848  1.00 44.46           C  \\nATOM   1726  CG  PRO A 439      11.972  62.720  33.364  1.00 47.78           C  \\nATOM   1727  CD  PRO A 439      12.366  64.121  32.985  1.00 43.99           C  \\nATOM   1728  N   TYR A 440      11.735  64.361  37.675  1.00 47.10           N  \\nATOM   1729  CA  TYR A 440      12.307  64.832  38.938  1.00 48.80           C  \\nATOM   1730  C   TYR A 440      12.828  66.259  38.768  1.00 49.05           C  \\nATOM   1731  O   TYR A 440      14.022  66.526  38.933  1.00 48.86           O  \\nATOM   1732  CB  TYR A 440      13.448  63.906  39.398  1.00 47.73           C  \\nATOM   1733  CG  TYR A 440      13.061  62.440  39.489  1.00 48.42           C  \\nATOM   1734  CD1 TYR A 440      13.317  61.560  38.429  1.00 47.97           C  \\nATOM   1735  CD2 TYR A 440      12.396  61.941  40.612  1.00 45.30           C  \\nATOM   1736  CE1 TYR A 440      12.915  60.221  38.484  1.00 41.00           C  \\nATOM   1737  CE2 TYR A 440      11.987  60.605  40.676  1.00 46.28           C  \\nATOM   1738  CZ  TYR A 440      12.248  59.752  39.604  1.00 45.44           C  \\nATOM   1739  OH  TYR A 440      11.805  58.448  39.639  1.00 43.80           O  \\nATOM   1740  N   PRO A 441      11.929  67.198  38.433  1.00 48.41           N  \\nATOM   1741  CA  PRO A 441      12.324  68.598  38.239  1.00 50.34           C  \\nATOM   1742  C   PRO A 441      13.065  69.206  39.423  1.00 48.28           C  \\nATOM   1743  O   PRO A 441      12.586  69.166  40.556  1.00 48.33           O  \\nATOM   1744  CB  PRO A 441      10.992  69.298  37.954  1.00 48.09           C  \\nATOM   1745  CG  PRO A 441       9.995  68.447  38.675  1.00 45.60           C  \\nATOM   1746  CD  PRO A 441      10.465  67.052  38.359  1.00 46.52           C  \\nATOM   1747  N   GLY A 442      14.244  69.755  39.150  1.00 48.71           N  \\nATOM   1748  CA  GLY A 442      15.030  70.385  40.196  1.00 50.43           C  \\nATOM   1749  C   GLY A 442      15.978  69.489  40.972  1.00 51.68           C  \\nATOM   1750  O   GLY A 442      17.051  69.932  41.379  1.00 51.04           O  \\nATOM   1751  N   ILE A 443      15.593  68.236  41.185  1.00 51.76           N  \\nATOM   1752  CA  ILE A 443      16.433  67.304  41.928  1.00 54.04           C  \\nATOM   1753  C   ILE A 443      17.711  66.991  41.156  1.00 55.01           C  \\nATOM   1754  O   ILE A 443      17.657  66.615  39.989  1.00 54.64           O  \\nATOM   1755  CB  ILE A 443      15.690  65.973  42.210  1.00 55.82           C  \\nATOM   1756  CG1 ILE A 443      14.396  66.240  42.979  1.00 55.62           C  \\nATOM   1757  CG2 ILE A 443      16.572  65.040  43.029  1.00 55.90           C  \\nATOM   1758  CD1 ILE A 443      13.296  66.851  42.145  1.00 60.24           C  \\nATOM   1759  N   ASP A 444      18.865  67.149  41.799  1.00 57.59           N  \\nATOM   1760  CA  ASP A 444      20.121  66.853  41.119  1.00 60.21           C  \\nATOM   1761  C   ASP A 444      20.326  65.340  41.037  1.00 58.88           C  \\nATOM   1762  O   ASP A 444      19.936  64.593  41.940  1.00 55.56           O  \\nATOM   1763  CB  ASP A 444      21.306  67.531  41.819  1.00 63.81           C  \\nATOM   1764  CG  ASP A 444      21.463  67.099  43.253  1.00 67.75           C  \\nATOM   1765  OD1 ASP A 444      20.494  67.248  44.025  1.00 74.01           O  \\nATOM   1766  OD2 ASP A 444      22.559  66.618  43.612  1.00 71.70           O  \\nATOM   1767  N   LEU A 445      20.927  64.911  39.932  1.00 59.30           N  \\nATOM   1768  CA  LEU A 445      21.178  63.505  39.636  1.00 60.86           C  \\nATOM   1769  C   LEU A 445      21.834  62.678  40.737  1.00 59.33           C  \\nATOM   1770  O   LEU A 445      21.427  61.545  40.985  1.00 60.00           O  \\nATOM   1771  CB  LEU A 445      22.012  63.394  38.354  1.00 61.11           C  \\nATOM   1772  CG  LEU A 445      21.340  63.786  37.031  1.00 63.72           C  \\nATOM   1773  CD1 LEU A 445      20.845  65.219  37.088  1.00 65.24           C  \\nATOM   1774  CD2 LEU A 445      22.334  63.624  35.896  1.00 63.43           C  \\nATOM   1775  N   SER A 446      22.839  63.243  41.397  1.00 59.98           N  \\nATOM   1776  CA  SER A 446      23.559  62.538  42.452  1.00 57.81           C  \\nATOM   1777  C   SER A 446      22.735  62.143  43.679  1.00 56.34           C  \\nATOM   1778  O   SER A 446      23.181  61.337  44.495  1.00 58.60           O  \\nATOM   1779  CB  SER A 446      24.772  63.365  42.887  1.00 59.32           C  \\nATOM   1780  OG  SER A 446      24.427  64.725  43.064  1.00 59.94           O  \\nATOM   1781  N   GLN A 447      21.535  62.690  43.812  1.00 53.06           N  \\nATOM   1782  CA  GLN A 447      20.702  62.359  44.960  1.00 49.65           C  \\nATOM   1783  C   GLN A 447      19.450  61.555  44.602  1.00 48.00           C  \\nATOM   1784  O   GLN A 447      18.688  61.160  45.487  1.00 50.61           O  \\nATOM   1785  CB  GLN A 447      20.303  63.642  45.695  1.00 52.57           C  \\nATOM   1786  CG  GLN A 447      21.489  64.485  46.156  1.00 51.21           C  \\nATOM   1787  CD  GLN A 447      21.080  65.646  47.048  1.00 51.94           C  \\nATOM   1788  OE1 GLN A 447      20.466  65.452  48.100  1.00 50.86           O  \\nATOM   1789  NE2 GLN A 447      21.425  66.861  46.634  1.00 52.10           N  \\nATOM   1790  N   VAL A 448      19.243  61.298  43.313  1.00 45.97           N  \\nATOM   1791  CA  VAL A 448      18.068  60.551  42.868  1.00 46.48           C  \\nATOM   1792  C   VAL A 448      17.956  59.148  43.469  1.00 45.49           C  \\nATOM   1793  O   VAL A 448      16.912  58.785  44.015  1.00 42.49           O  \\nATOM   1794  CB  VAL A 448      18.028  60.440  41.328  1.00 49.22           C  \\nATOM   1795  CG1 VAL A 448      16.900  59.510  40.899  1.00 50.34           C  \\nATOM   1796  CG2 VAL A 448      17.812  61.818  40.716  1.00 49.59           C  \\nATOM   1797  N   TYR A 449      19.024  58.364  43.376  1.00 47.29           N  \\nATOM   1798  CA  TYR A 449      19.008  57.005  43.911  1.00 51.96           C  \\nATOM   1799  C   TYR A 449      18.588  56.990  45.380  1.00 53.31           C  \\nATOM   1800  O   TYR A 449      17.585  56.368  45.743  1.00 53.97           O  \\nATOM   1801  CB  TYR A 449      20.387  56.358  43.771  1.00 55.13           C  \\nATOM   1802  CG  TYR A 449      20.403  54.895  44.162  1.00 59.27           C  \\nATOM   1803  CD1 TYR A 449      20.084  53.900  43.240  1.00 60.22           C  \\nATOM   1804  CD2 TYR A 449      20.727  54.506  45.459  1.00 61.07           C  \\nATOM   1805  CE1 TYR A 449      20.091  52.551  43.601  1.00 61.22           C  \\nATOM   1806  CE2 TYR A 449      20.737  53.164  45.831  1.00 61.46           C  \\nATOM   1807  CZ  TYR A 449      20.420  52.192  44.900  1.00 62.51           C  \\nATOM   1808  OH  TYR A 449      20.442  50.866  45.269  1.00 61.23           O  \\nATOM   1809  N   GLU A 450      19.362  57.678  46.217  1.00 52.82           N  \\nATOM   1810  CA  GLU A 450      19.086  57.756  47.647  1.00 51.29           C  \\nATOM   1811  C   GLU A 450      17.614  58.040  47.914  1.00 49.29           C  \\nATOM   1812  O   GLU A 450      16.995  57.412  48.776  1.00 46.98           O  \\nATOM   1813  CB  GLU A 450      19.952  58.848  48.278  1.00 59.35           C  \\nATOM   1814  CG  GLU A 450      21.437  58.540  48.244  1.00 64.32           C  \\nATOM   1815  CD  GLU A 450      21.842  57.528  49.300  1.00 71.07           C  \\nATOM   1816  OE1 GLU A 450      22.363  57.945  50.358  1.00 72.58           O  \\nATOM   1817  OE2 GLU A 450      21.627  56.316  49.079  1.00 74.91           O  \\nATOM   1818  N   LEU A 451      17.058  58.993  47.173  1.00 49.40           N  \\nATOM   1819  CA  LEU A 451      15.654  59.357  47.325  1.00 45.11           C  \\nATOM   1820  C   LEU A 451      14.745  58.187  46.949  1.00 45.53           C  \\nATOM   1821  O   LEU A 451      13.796  57.873  47.672  1.00 42.48           O  \\nATOM   1822  CB  LEU A 451      15.332  60.578  46.457  1.00 45.36           C  \\nATOM   1823  CG  LEU A 451      15.856  61.922  46.977  1.00 46.32           C  \\nATOM   1824  CD1 LEU A 451      15.806  62.973  45.877  1.00 40.73           C  \\nATOM   1825  CD2 LEU A 451      15.017  62.350  48.175  1.00 43.04           C  \\nATOM   1826  N   LEU A 452      15.034  57.542  45.820  1.00 46.82           N  \\nATOM   1827  CA  LEU A 452      14.226  56.409  45.380  1.00 47.93           C  \\nATOM   1828  C   LEU A 452      14.308  55.322  46.445  1.00 49.34           C  \\nATOM   1829  O   LEU A 452      13.338  54.609  46.700  1.00 49.13           O  \\nATOM   1830  CB  LEU A 452      14.728  55.878  44.026  1.00 44.58           C  \\nATOM   1831  CG  LEU A 452      14.580  56.813  42.818  1.00 39.32           C  \\nATOM   1832  CD1 LEU A 452      15.237  56.188  41.601  1.00 41.27           C  \\nATOM   1833  CD2 LEU A 452      13.108  57.082  42.545  1.00 38.87           C  \\nATOM   1834  N   GLU A 453      15.472  55.214  47.076  1.00 50.89           N  \\nATOM   1835  CA  GLU A 453      15.678  54.228  48.124  1.00 55.27           C  \\nATOM   1836  C   GLU A 453      14.877  54.641  49.351  1.00 56.68           C  \\nATOM   1837  O   GLU A 453      14.348  53.793  50.070  1.00 58.95           O  \\nATOM   1838  CB  GLU A 453      17.161  54.131  48.473  1.00 58.31           C  \\nATOM   1839  CG  GLU A 453      17.497  53.009  49.430  1.00 63.64           C  \\nATOM   1840  CD  GLU A 453      18.983  52.915  49.702  1.00 69.78           C  \\nATOM   1841  OE1 GLU A 453      19.565  53.911  50.187  1.00 72.96           O  \\nATOM   1842  OE2 GLU A 453      19.571  51.846  49.431  1.00 72.44           O  \\nATOM   1843  N   LYS A 454      14.792  55.949  49.586  1.00 58.24           N  \\nATOM   1844  CA  LYS A 454      14.036  56.481  50.720  1.00 60.19           C  \\nATOM   1845  C   LYS A 454      12.546  56.395  50.416  1.00 58.87           C  \\nATOM   1846  O   LYS A 454      11.719  56.901  51.171  1.00 58.04           O  \\nATOM   1847  CB  LYS A 454      14.410  57.942  50.987  1.00 63.96           C  \\nATOM   1848  CG  LYS A 454      15.754  58.154  51.664  1.00 65.94           C  \\nATOM   1849  CD  LYS A 454      15.752  57.606  53.078  1.00 68.50           C  \\nATOM   1850  CE  LYS A 454      16.910  58.173  53.882  1.00 70.51           C  \\nATOM   1851  NZ  LYS A 454      18.209  57.996  53.181  1.00 70.82           N  \\nATOM   1852  N   ASP A 455      12.227  55.761  49.289  1.00 58.99           N  \\nATOM   1853  CA  ASP A 455      10.856  55.561  48.830  1.00 57.00           C  \\nATOM   1854  C   ASP A 455      10.197  56.793  48.224  1.00 53.15           C  \\nATOM   1855  O   ASP A 455       8.971  56.882  48.168  1.00 50.26           O  \\nATOM   1856  CB  ASP A 455       9.988  55.014  49.965  1.00 62.26           C  \\nATOM   1857  CG  ASP A 455      10.467  53.664  50.460  1.00 69.37           C  \\nATOM   1858  OD1 ASP A 455      10.491  52.706  49.656  1.00 72.07           O  \\nATOM   1859  OD2 ASP A 455      10.825  53.559  51.654  1.00 74.47           O  \\nATOM   1860  N   TYR A 456      11.008  57.743  47.770  1.00 51.81           N  \\nATOM   1861  CA  TYR A 456      10.477  58.947  47.140  1.00 50.56           C  \\nATOM   1862  C   TYR A 456      10.123  58.613  45.694  1.00 50.60           C  \\nATOM   1863  O   TYR A 456      10.835  57.851  45.042  1.00 49.50           O  \\nATOM   1864  CB  TYR A 456      11.514  60.072  47.141  1.00 50.12           C  \\nATOM   1865  CG  TYR A 456      11.021  61.322  46.443  1.00 50.26           C  \\nATOM   1866  CD1 TYR A 456      10.020  62.111  47.011  1.00 49.01           C  \\nATOM   1867  CD2 TYR A 456      11.524  61.695  45.199  1.00 52.02           C  \\nATOM   1868  CE1 TYR A 456       9.530  63.241  46.358  1.00 51.77           C  \\nATOM   1869  CE2 TYR A 456      11.040  62.827  44.532  1.00 55.56           C  \\nATOM   1870  CZ  TYR A 456      10.043  63.595  45.119  1.00 53.61           C  \\nATOM   1871  OH  TYR A 456       9.571  64.719  44.480  1.00 53.27           O  \\nATOM   1872  N   ARG A 457       9.028  59.185  45.201  1.00 51.78           N  \\nATOM   1873  CA  ARG A 457       8.577  58.963  43.826  1.00 55.14           C  \\nATOM   1874  C   ARG A 457       7.911  60.239  43.318  1.00 56.75           C  \\nATOM   1875  O   ARG A 457       7.426  61.042  44.113  1.00 58.90           O  \\nATOM   1876  CB  ARG A 457       7.573  57.809  43.774  1.00 52.99           C  \\nATOM   1877  CG  ARG A 457       8.137  56.452  44.175  1.00 53.17           C  \\nATOM   1878  CD  ARG A 457       9.058  55.873  43.112  1.00 50.89           C  \\nATOM   1879  NE  ARG A 457       9.477  54.516  43.456  1.00 49.73           N  \\nATOM   1880  CZ  ARG A 457      10.377  54.218  44.389  1.00 50.62           C  \\nATOM   1881  NH1 ARG A 457      10.972  55.183  45.079  1.00 53.12           N  \\nATOM   1882  NH2 ARG A 457      10.672  52.952  44.647  1.00 46.08           N  \\nATOM   1883  N   MET A 458       7.884  60.434  42.002  1.00 55.27           N  \\nATOM   1884  CA  MET A 458       7.256  61.632  41.445  1.00 54.03           C  \\nATOM   1885  C   MET A 458       5.763  61.697  41.768  1.00 54.51           C  \\nATOM   1886  O   MET A 458       5.062  60.682  41.753  1.00 52.07           O  \\nATOM   1887  CB  MET A 458       7.461  61.694  39.930  1.00 51.84           C  \\nATOM   1888  CG  MET A 458       8.898  61.980  39.511  1.00 52.53           C  \\nATOM   1889  SD  MET A 458       9.052  62.406  37.756  1.00 50.27           S  \\nATOM   1890  CE  MET A 458       9.185  60.773  37.014  1.00 53.19           C  \\nATOM   1891  N   GLU A 459       5.281  62.899  42.067  1.00 55.54           N  \\nATOM   1892  CA  GLU A 459       3.875  63.099  42.404  1.00 60.21           C  \\nATOM   1893  C   GLU A 459       2.999  62.944  41.165  1.00 58.56           C  \\nATOM   1894  O   GLU A 459       3.473  63.070  40.038  1.00 57.22           O  \\nATOM   1895  CB  GLU A 459       3.667  64.499  42.994  1.00 64.10           C  \\nATOM   1896  CG  GLU A 459       3.758  65.605  41.952  1.00 70.85           C  \\nATOM   1897  CD  GLU A 459       3.926  66.984  42.556  1.00 75.29           C  \\nATOM   1898  OE1 GLU A 459       2.964  67.504  43.158  1.00 81.29           O  \\nATOM   1899  OE2 GLU A 459       5.033  67.547  42.428  1.00 78.58           O  \\nATOM   1900  N   ARG A 460       1.717  62.680  41.386  1.00 60.05           N  \\nATOM   1901  CA  ARG A 460       0.766  62.524  40.294  1.00 62.94           C  \\nATOM   1902  C   ARG A 460       0.609  63.834  39.530  1.00 64.04           C  \\nATOM   1903  O   ARG A 460       0.169  64.839  40.088  1.00 63.65           O  \\nATOM   1904  CB  ARG A 460      -0.596  62.093  40.836  1.00 63.24           C  \\nATOM   1905  CG  ARG A 460      -1.652  61.901  39.764  1.00 64.84           C  \\nATOM   1906  CD  ARG A 460      -2.975  61.481  40.375  1.00 67.95           C  \\nATOM   1907  NE  ARG A 460      -3.519  62.517  41.248  1.00 70.94           N  \\nATOM   1908  CZ  ARG A 460      -4.041  63.661  40.817  1.00 70.93           C  \\nATOM   1909  NH1 ARG A 460      -4.098  63.921  39.517  1.00 69.55           N  \\nATOM   1910  NH2 ARG A 460      -4.503  64.549  41.688  1.00 71.16           N  \\nATOM   1911  N   PRO A 461       0.969  63.838  38.237  1.00 64.18           N  \\nATOM   1912  CA  PRO A 461       0.853  65.049  37.422  1.00 65.75           C  \\nATOM   1913  C   PRO A 461      -0.574  65.580  37.428  1.00 67.05           C  \\nATOM   1914  O   PRO A 461      -1.532  64.809  37.519  1.00 65.35           O  \\nATOM   1915  CB  PRO A 461       1.281  64.574  36.036  1.00 65.02           C  \\nATOM   1916  CG  PRO A 461       2.252  63.478  36.343  1.00 65.94           C  \\nATOM   1917  CD  PRO A 461       1.550  62.735  37.454  1.00 63.92           C  \\nATOM   1918  N   GLU A 462      -0.712  66.897  37.332  1.00 69.32           N  \\nATOM   1919  CA  GLU A 462      -2.026  67.518  37.323  1.00 71.44           C  \\nATOM   1920  C   GLU A 462      -2.838  66.981  36.149  1.00 71.53           C  \\nATOM   1921  O   GLU A 462      -2.349  66.918  35.020  1.00 71.45           O  \\nATOM   1922  CB  GLU A 462      -1.882  69.038  37.216  1.00 75.79           C  \\nATOM   1923  CG  GLU A 462      -3.198  69.798  37.175  1.00 81.37           C  \\nATOM   1924  CD  GLU A 462      -2.995  71.303  37.146  1.00 86.96           C  \\nATOM   1925  OE1 GLU A 462      -2.254  71.787  36.264  1.00 87.47           O  \\nATOM   1926  OE2 GLU A 462      -3.577  72.001  38.004  1.00 89.99           O  \\nATOM   1927  N   GLY A 463      -4.075  66.578  36.424  1.00 70.47           N  \\nATOM   1928  CA  GLY A 463      -4.930  66.061  35.370  1.00 70.15           C  \\nATOM   1929  C   GLY A 463      -4.681  64.611  35.000  1.00 68.46           C  \\nATOM   1930  O   GLY A 463      -5.332  64.077  34.101  1.00 68.00           O  \\nATOM   1931  N   CYS A 464      -3.737  63.971  35.681  1.00 67.42           N  \\nATOM   1932  CA  CYS A 464      -3.428  62.573  35.407  1.00 67.39           C  \\nATOM   1933  C   CYS A 464      -4.394  61.658  36.146  1.00 68.10           C  \\nATOM   1934  O   CYS A 464      -4.424  61.635  37.377  1.00 68.74           O  \\nATOM   1935  CB  CYS A 464      -1.998  62.237  35.833  1.00 63.92           C  \\nATOM   1936  SG  CYS A 464      -1.581  60.486  35.645  1.00 61.70           S  \\nATOM   1937  N   PRO A 465      -5.195  60.885  35.400  1.00 69.30           N  \\nATOM   1938  CA  PRO A 465      -6.158  59.970  36.020  1.00 69.97           C  \\nATOM   1939  C   PRO A 465      -5.531  59.083  37.095  1.00 70.99           C  \\nATOM   1940  O   PRO A 465      -4.382  58.655  36.977  1.00 68.49           O  \\nATOM   1941  CB  PRO A 465      -6.703  59.178  34.829  1.00 69.78           C  \\nATOM   1942  CG  PRO A 465      -5.616  59.295  33.792  1.00 70.34           C  \\nATOM   1943  CD  PRO A 465      -5.177  60.718  33.939  1.00 69.14           C  \\nATOM   1944  N   GLU A 466      -6.301  58.820  38.147  1.00 72.81           N  \\nATOM   1945  CA  GLU A 466      -5.842  58.003  39.263  1.00 72.30           C  \\nATOM   1946  C   GLU A 466      -5.333  56.648  38.796  1.00 68.46           C  \\nATOM   1947  O   GLU A 466      -4.277  56.189  39.231  1.00 67.22           O  \\nATOM   1948  CB  GLU A 466      -6.978  57.806  40.269  1.00 76.45           C  \\nATOM   1949  CG  GLU A 466      -6.516  57.838  41.710  1.00 83.68           C  \\nATOM   1950  CD  GLU A 466      -5.793  59.132  42.047  1.00 88.14           C  \\nATOM   1951  OE1 GLU A 466      -6.403  60.215  41.899  1.00 89.70           O  \\nATOM   1952  OE2 GLU A 466      -4.613  59.065  42.453  1.00 89.82           O  \\nATOM   1953  N   LYS A 467      -6.092  56.016  37.909  1.00 64.14           N  \\nATOM   1954  CA  LYS A 467      -5.731  54.711  37.371  1.00 62.28           C  \\nATOM   1955  C   LYS A 467      -4.357  54.720  36.704  1.00 59.44           C  \\nATOM   1956  O   LYS A 467      -3.559  53.800  36.894  1.00 55.02           O  \\nATOM   1957  CB  LYS A 467      -6.784  54.257  36.358  1.00 65.80           C  \\nATOM   1958  CG  LYS A 467      -8.020  53.609  36.961  1.00 71.05           C  \\nATOM   1959  CD  LYS A 467      -7.749  52.156  37.320  1.00 75.50           C  \\nATOM   1960  CE  LYS A 467      -9.025  51.435  37.727  1.00 79.99           C  \\nATOM   1961  NZ  LYS A 467      -8.795  49.979  37.971  1.00 80.66           N  \\nATOM   1962  N   VAL A 468      -4.086  55.756  35.916  1.00 55.77           N  \\nATOM   1963  CA  VAL A 468      -2.807  55.852  35.223  1.00 53.01           C  \\nATOM   1964  C   VAL A 468      -1.667  56.073  36.207  1.00 51.09           C  \\nATOM   1965  O   VAL A 468      -0.580  55.532  36.032  1.00 52.05           O  \\nATOM   1966  CB  VAL A 468      -2.821  56.989  34.171  1.00 51.50           C  \\nATOM   1967  CG1 VAL A 468      -1.442  57.140  33.536  1.00 48.23           C  \\nATOM   1968  CG2 VAL A 468      -3.846  56.674  33.096  1.00 49.44           C  \\nATOM   1969  N   TYR A 469      -1.915  56.863  37.246  1.00 51.00           N  \\nATOM   1970  CA  TYR A 469      -0.884  57.119  38.243  1.00 50.70           C  \\nATOM   1971  C   TYR A 469      -0.615  55.838  39.029  1.00 50.71           C  \\nATOM   1972  O   TYR A 469       0.519  55.557  39.413  1.00 46.96           O  \\nATOM   1973  CB  TYR A 469      -1.317  58.233  39.197  1.00 49.34           C  \\nATOM   1974  CG  TYR A 469      -0.236  58.625  40.169  1.00 54.37           C  \\nATOM   1975  CD1 TYR A 469       1.005  59.064  39.712  1.00 53.37           C  \\nATOM   1976  CD2 TYR A 469      -0.441  58.547  41.547  1.00 56.56           C  \\nATOM   1977  CE1 TYR A 469       2.015  59.413  40.596  1.00 54.27           C  \\nATOM   1978  CE2 TYR A 469       0.568  58.898  42.445  1.00 54.26           C  \\nATOM   1979  CZ  TYR A 469       1.795  59.331  41.959  1.00 53.40           C  \\nATOM   1980  OH  TYR A 469       2.808  59.685  42.826  1.00 47.77           O  \\nATOM   1981  N   GLU A 470      -1.670  55.065  39.270  1.00 53.70           N  \\nATOM   1982  CA  GLU A 470      -1.533  53.806  39.991  1.00 56.31           C  \\nATOM   1983  C   GLU A 470      -0.601  52.917  39.185  1.00 53.31           C  \\nATOM   1984  O   GLU A 470       0.196  52.170  39.742  1.00 52.12           O  \\nATOM   1985  CB  GLU A 470      -2.888  53.105  40.132  1.00 62.02           C  \\nATOM   1986  CG  GLU A 470      -3.964  53.919  40.830  1.00 70.36           C  \\nATOM   1987  CD  GLU A 470      -5.311  53.216  40.832  1.00 75.88           C  \\nATOM   1988  OE1 GLU A 470      -6.308  53.840  41.260  1.00 79.06           O  \\nATOM   1989  OE2 GLU A 470      -5.372  52.040  40.409  1.00 75.61           O  \\nATOM   1990  N   LEU A 471      -0.714  53.007  37.862  1.00 51.94           N  \\nATOM   1991  CA  LEU A 471       0.115  52.211  36.966  1.00 49.80           C  \\nATOM   1992  C   LEU A 471       1.567  52.667  37.059  1.00 46.47           C  \\nATOM   1993  O   LEU A 471       2.491  51.855  37.025  1.00 47.16           O  \\nATOM   1994  CB  LEU A 471      -0.397  52.345  35.530  1.00 50.15           C  \\nATOM   1995  CG  LEU A 471      -0.529  51.046  34.732  1.00 52.51           C  \\nATOM   1996  CD1 LEU A 471      -1.283  50.016  35.548  1.00 50.29           C  \\nATOM   1997  CD2 LEU A 471      -1.260  51.319  33.428  1.00 54.82           C  \\nATOM   1998  N   MET A 472       1.755  53.975  37.187  1.00 46.13           N  \\nATOM   1999  CA  MET A 472       3.083  54.569  37.294  1.00 47.19           C  \\nATOM   2000  C   MET A 472       3.853  54.035  38.504  1.00 48.52           C  \\nATOM   2001  O   MET A 472       5.021  53.650  38.395  1.00 42.21           O  \\nATOM   2002  CB  MET A 472       2.954  56.083  37.422  1.00 46.06           C  \\nATOM   2003  CG  MET A 472       3.520  56.869  36.263  1.00 48.62           C  \\nATOM   2004  SD  MET A 472       3.354  58.628  36.595  1.00 52.19           S  \\nATOM   2005  CE  MET A 472       1.937  59.029  35.602  1.00 49.27           C  \\nATOM   2006  N   ARG A 473       3.192  54.030  39.659  1.00 49.41           N  \\nATOM   2007  CA  ARG A 473       3.805  53.560  40.898  1.00 49.23           C  \\nATOM   2008  C   ARG A 473       4.142  52.072  40.893  1.00 48.68           C  \\nATOM   2009  O   ARG A 473       5.106  51.651  41.539  1.00 45.18           O  \\nATOM   2010  CB  ARG A 473       2.899  53.879  42.088  1.00 52.52           C  \\nATOM   2011  CG  ARG A 473       2.875  55.352  42.475  1.00 55.89           C  \\nATOM   2012  CD  ARG A 473       4.288  55.865  42.716  1.00 61.17           C  \\nATOM   2013  NE  ARG A 473       4.311  57.145  43.418  1.00 68.71           N  \\nATOM   2014  CZ  ARG A 473       4.001  57.299  44.701  1.00 66.63           C  \\nATOM   2015  NH1 ARG A 473       3.643  56.250  45.430  1.00 67.60           N  \\nATOM   2016  NH2 ARG A 473       4.053  58.500  45.257  1.00 68.23           N  \\nATOM   2017  N   ALA A 474       3.354  51.278  40.172  1.00 47.04           N  \\nATOM   2018  CA  ALA A 474       3.603  49.842  40.093  1.00 42.73           C  \\nATOM   2019  C   ALA A 474       4.870  49.596  39.273  1.00 46.26           C  \\nATOM   2020  O   ALA A 474       5.603  48.631  39.512  1.00 44.07           O  \\nATOM   2021  CB  ALA A 474       2.417  49.141  39.456  1.00 41.50           C  \\nATOM   2022  N   CYS A 475       5.119  50.475  38.304  1.00 43.71           N  \\nATOM   2023  CA  CYS A 475       6.308  50.368  37.461  1.00 45.05           C  \\nATOM   2024  C   CYS A 475       7.528  50.809  38.253  1.00 43.44           C  \\nATOM   2025  O   CYS A 475       8.655  50.432  37.928  1.00 43.80           O  \\nATOM   2026  CB  CYS A 475       6.188  51.259  36.216  1.00 41.33           C  \\nATOM   2027  SG  CYS A 475       4.878  50.805  35.056  1.00 48.04           S  \\nATOM   2028  N   TRP A 476       7.294  51.608  39.293  1.00 45.82           N  \\nATOM   2029  CA  TRP A 476       8.381  52.119  40.120  1.00 45.18           C  \\nATOM   2030  C   TRP A 476       8.626  51.366  41.433  1.00 49.86           C  \\nATOM   2031  O   TRP A 476       9.133  51.943  42.397  1.00 49.70           O  \\nATOM   2032  CB  TRP A 476       8.159  53.603  40.424  1.00 44.99           C  \\nATOM   2033  CG  TRP A 476       8.132  54.485  39.204  1.00 45.67           C  \\nATOM   2034  CD1 TRP A 476       8.782  54.274  38.019  1.00 43.46           C  \\nATOM   2035  CD2 TRP A 476       7.458  55.740  39.072  1.00 45.46           C  \\nATOM   2036  NE1 TRP A 476       8.552  55.321  37.158  1.00 46.19           N  \\nATOM   2037  CE2 TRP A 476       7.743  56.236  37.779  1.00 46.04           C  \\nATOM   2038  CE3 TRP A 476       6.641  56.498  39.922  1.00 44.62           C  \\nATOM   2039  CZ2 TRP A 476       7.238  57.455  37.316  1.00 44.66           C  \\nATOM   2040  CZ3 TRP A 476       6.140  57.708  39.461  1.00 47.22           C  \\nATOM   2041  CH2 TRP A 476       6.441  58.174  38.168  1.00 47.08           C  \\nATOM   2042  N   GLN A 477       8.267  50.087  41.479  1.00 48.85           N  \\nATOM   2043  CA  GLN A 477       8.503  49.287  42.676  1.00 49.78           C  \\nATOM   2044  C   GLN A 477      10.009  49.087  42.766  1.00 50.11           C  \\nATOM   2045  O   GLN A 477      10.665  48.833  41.755  1.00 51.08           O  \\nATOM   2046  CB  GLN A 477       7.811  47.930  42.562  1.00 54.52           C  \\nATOM   2047  CG  GLN A 477       6.297  47.993  42.635  1.00 60.61           C  \\nATOM   2048  CD  GLN A 477       5.800  48.322  44.026  1.00 66.45           C  \\nATOM   2049  OE1 GLN A 477       6.120  47.626  44.990  1.00 68.24           O  \\nATOM   2050  NE2 GLN A 477       5.012  49.384  44.139  1.00 69.61           N  \\nATOM   2051  N   TRP A 478      10.563  49.206  43.968  1.00 49.87           N  \\nATOM   2052  CA  TRP A 478      12.001  49.048  44.146  1.00 50.14           C  \\nATOM   2053  C   TRP A 478      12.476  47.691  43.637  1.00 49.59           C  \\nATOM   2054  O   TRP A 478      13.514  47.588  42.977  1.00 46.63           O  \\nATOM   2055  CB  TRP A 478      12.375  49.225  45.624  1.00 48.96           C  \\nATOM   2056  CG  TRP A 478      13.853  49.181  45.879  1.00 48.33           C  \\nATOM   2057  CD1 TRP A 478      14.586  48.099  46.284  1.00 50.54           C  \\nATOM   2058  CD2 TRP A 478      14.785  50.256  45.710  1.00 46.98           C  \\nATOM   2059  NE1 TRP A 478      15.916  48.436  46.377  1.00 47.39           N  \\nATOM   2060  CE2 TRP A 478      16.066  49.753  46.031  1.00 48.77           C  \\nATOM   2061  CE3 TRP A 478      14.663  51.596  45.317  1.00 49.23           C  \\nATOM   2062  CZ2 TRP A 478      17.219  50.546  45.972  1.00 49.11           C  \\nATOM   2063  CZ3 TRP A 478      15.808  52.384  45.258  1.00 43.38           C  \\nATOM   2064  CH2 TRP A 478      17.070  51.855  45.585  1.00 48.21           C  \\nATOM   2065  N   ASN A 479      11.706  46.653  43.938  1.00 50.10           N  \\nATOM   2066  CA  ASN A 479      12.042  45.300  43.511  1.00 54.66           C  \\nATOM   2067  C   ASN A 479      11.463  45.063  42.116  1.00 52.30           C  \\nATOM   2068  O   ASN A 479      10.251  45.142  41.921  1.00 54.44           O  \\nATOM   2069  CB  ASN A 479      11.457  44.293  44.511  1.00 59.26           C  \\nATOM   2070  CG  ASN A 479      11.993  42.890  44.311  1.00 65.89           C  \\nATOM   2071  OD1 ASN A 479      13.041  42.699  43.693  1.00 69.39           O  \\nATOM   2072  ND2 ASN A 479      11.281  41.899  44.842  1.00 67.31           N  \\nATOM   2073  N   PRO A 480      12.321  44.779  41.122  1.00 53.06           N  \\nATOM   2074  CA  PRO A 480      11.827  44.543  39.761  1.00 52.94           C  \\nATOM   2075  C   PRO A 480      10.774  43.440  39.655  1.00 55.12           C  \\nATOM   2076  O   PRO A 480       9.769  43.594  38.955  1.00 50.26           O  \\nATOM   2077  CB  PRO A 480      13.102  44.218  38.980  1.00 54.23           C  \\nATOM   2078  CG  PRO A 480      14.039  43.692  40.032  1.00 52.53           C  \\nATOM   2079  CD  PRO A 480      13.784  44.627  41.179  1.00 50.98           C  \\nATOM   2080  N   SER A 481      10.994  42.337  40.361  1.00 54.25           N  \\nATOM   2081  CA  SER A 481      10.051  41.228  40.317  1.00 57.76           C  \\nATOM   2082  C   SER A 481       8.648  41.678  40.727  1.00 56.46           C  \\nATOM   2083  O   SER A 481       7.662  41.011  40.415  1.00 53.48           O  \\nATOM   2084  CB  SER A 481      10.515  40.093  41.238  1.00 59.65           C  \\nATOM   2085  OG  SER A 481      10.358  40.444  42.604  1.00 66.29           O  \\nATOM   2086  N   ASP A 482       8.559  42.811  41.418  1.00 54.81           N  \\nATOM   2087  CA  ASP A 482       7.264  43.315  41.861  1.00 55.31           C  \\nATOM   2088  C   ASP A 482       6.592  44.256  40.870  1.00 54.17           C  \\nATOM   2089  O   ASP A 482       5.469  44.705  41.094  1.00 55.08           O  \\nATOM   2090  CB  ASP A 482       7.408  44.004  43.215  1.00 60.59           C  \\nATOM   2091  CG  ASP A 482       7.686  43.020  44.334  1.00 67.73           C  \\nATOM   2092  OD1 ASP A 482       6.862  42.099  44.523  1.00 69.33           O  \\nATOM   2093  OD2 ASP A 482       8.722  43.163  45.019  1.00 69.94           O  \\nATOM   2094  N   ARG A 483       7.275  44.550  39.771  1.00 52.29           N  \\nATOM   2095  CA  ARG A 483       6.717  45.433  38.754  1.00 50.35           C  \\nATOM   2096  C   ARG A 483       5.863  44.625  37.790  1.00 50.49           C  \\nATOM   2097  O   ARG A 483       6.206  43.496  37.442  1.00 49.11           O  \\nATOM   2098  CB  ARG A 483       7.838  46.119  37.980  1.00 48.17           C  \\nATOM   2099  CG  ARG A 483       8.717  47.000  38.838  1.00 46.36           C  \\nATOM   2100  CD  ARG A 483      10.010  47.336  38.131  1.00 41.12           C  \\nATOM   2101  NE  ARG A 483      10.938  47.970  39.054  1.00 38.94           N  \\nATOM   2102  CZ  ARG A 483      12.255  47.980  38.899  1.00 41.17           C  \\nATOM   2103  NH1 ARG A 483      12.804  47.391  37.846  1.00 39.08           N  \\nATOM   2104  NH2 ARG A 483      13.022  48.565  39.808  1.00 42.46           N  \\nATOM   2105  N   PRO A 484       4.736  45.193  37.342  1.00 49.44           N  \\nATOM   2106  CA  PRO A 484       3.884  44.453  36.410  1.00 48.53           C  \\nATOM   2107  C   PRO A 484       4.629  44.177  35.107  1.00 50.59           C  \\nATOM   2108  O   PRO A 484       5.647  44.811  34.816  1.00 49.27           O  \\nATOM   2109  CB  PRO A 484       2.696  45.389  36.221  1.00 50.39           C  \\nATOM   2110  CG  PRO A 484       3.330  46.751  36.352  1.00 50.26           C  \\nATOM   2111  CD  PRO A 484       4.246  46.569  37.535  1.00 47.87           C  \\nATOM   2112  N   SER A 485       4.138  43.214  34.335  1.00 50.52           N  \\nATOM   2113  CA  SER A 485       4.761  42.886  33.062  1.00 47.40           C  \\nATOM   2114  C   SER A 485       4.077  43.782  32.049  1.00 43.83           C  \\nATOM   2115  O   SER A 485       3.009  44.322  32.325  1.00 44.80           O  \\nATOM   2116  CB  SER A 485       4.519  41.420  32.703  1.00 47.74           C  \\nATOM   2117  OG  SER A 485       3.150  41.190  32.423  1.00 48.21           O  \\nATOM   2118  N   PHE A 486       4.684  43.956  30.883  1.00 42.86           N  \\nATOM   2119  CA  PHE A 486       4.072  44.796  29.871  1.00 41.35           C  \\nATOM   2120  C   PHE A 486       2.752  44.202  29.394  1.00 41.79           C  \\nATOM   2121  O   PHE A 486       1.863  44.923  28.939  1.00 44.98           O  \\nATOM   2122  CB  PHE A 486       5.034  45.008  28.704  1.00 37.43           C  \\nATOM   2123  CG  PHE A 486       6.030  46.105  28.948  1.00 41.81           C  \\nATOM   2124  CD1 PHE A 486       7.387  45.826  29.041  1.00 39.54           C  \\nATOM   2125  CD2 PHE A 486       5.602  47.421  29.114  1.00 34.69           C  \\nATOM   2126  CE1 PHE A 486       8.309  46.841  29.300  1.00 42.42           C  \\nATOM   2127  CE2 PHE A 486       6.509  48.437  29.372  1.00 36.70           C  \\nATOM   2128  CZ  PHE A 486       7.867  48.150  29.467  1.00 35.48           C  \\nATOM   2129  N   ALA A 487       2.621  42.886  29.511  1.00 45.91           N  \\nATOM   2130  CA  ALA A 487       1.393  42.212  29.117  1.00 49.08           C  \\nATOM   2131  C   ALA A 487       0.266  42.733  30.009  1.00 50.42           C  \\nATOM   2132  O   ALA A 487      -0.830  43.031  29.530  1.00 54.72           O  \\nATOM   2133  CB  ALA A 487       1.547  40.705  29.282  1.00 49.37           C  \\nATOM   2134  N   GLU A 488       0.554  42.853  31.305  1.00 50.50           N  \\nATOM   2135  CA  GLU A 488      -0.413  43.342  32.285  1.00 51.98           C  \\nATOM   2136  C   GLU A 488      -0.651  44.841  32.111  1.00 50.95           C  \\nATOM   2137  O   GLU A 488      -1.780  45.327  32.249  1.00 48.37           O  \\nATOM   2138  CB  GLU A 488       0.097  43.090  33.706  1.00 54.53           C  \\nATOM   2139  CG  GLU A 488       0.665  41.702  33.933  1.00 64.02           C  \\nATOM   2140  CD  GLU A 488       1.279  41.545  35.312  1.00 67.36           C  \\nATOM   2141  OE1 GLU A 488       2.050  40.583  35.515  1.00 71.68           O  \\nATOM   2142  OE2 GLU A 488       0.986  42.379  36.197  1.00 71.28           O  \\nATOM   2143  N   ILE A 489       0.422  45.576  31.830  1.00 46.98           N  \\nATOM   2144  CA  ILE A 489       0.314  47.014  31.638  1.00 43.71           C  \\nATOM   2145  C   ILE A 489      -0.578  47.317  30.447  1.00 40.95           C  \\nATOM   2146  O   ILE A 489      -1.479  48.146  30.531  1.00 41.38           O  \\nATOM   2147  CB  ILE A 489       1.691  47.663  31.385  1.00 41.58           C  \\nATOM   2148  CG1 ILE A 489       2.603  47.441  32.590  1.00 36.52           C  \\nATOM   2149  CG2 ILE A 489       1.514  49.150  31.108  1.00 41.39           C  \\nATOM   2150  CD1 ILE A 489       4.004  47.974  32.406  1.00 38.62           C  \\nATOM   2151  N   HIS A 490      -0.323  46.640  29.335  1.00 44.71           N  \\nATOM   2152  CA  HIS A 490      -1.109  46.861  28.125  1.00 48.32           C  \\nATOM   2153  C   HIS A 490      -2.571  46.487  28.329  1.00 48.97           C  \\nATOM   2154  O   HIS A 490      -3.476  47.247  27.973  1.00 49.76           O  \\nATOM   2155  CB  HIS A 490      -0.539  46.055  26.957  1.00 45.31           C  \\nATOM   2156  CG  HIS A 490      -1.270  46.273  25.669  1.00 47.44           C  \\nATOM   2157  ND1 HIS A 490      -1.239  47.472  24.991  1.00 46.91           N  \\nATOM   2158  CD2 HIS A 490      -2.090  45.461  24.960  1.00 48.72           C  \\nATOM   2159  CE1 HIS A 490      -2.009  47.391  23.921  1.00 48.00           C  \\nATOM   2160  NE2 HIS A 490      -2.538  46.181  23.879  1.00 48.44           N  \\nATOM   2161  N   GLN A 491      -2.795  45.309  28.901  1.00 53.03           N  \\nATOM   2162  CA  GLN A 491      -4.146  44.830  29.156  1.00 56.41           C  \\nATOM   2163  C   GLN A 491      -4.902  45.881  29.959  1.00 55.69           C  \\nATOM   2164  O   GLN A 491      -6.084  46.123  29.728  1.00 57.31           O  \\nATOM   2165  CB  GLN A 491      -4.092  43.506  29.925  1.00 61.22           C  \\nATOM   2166  CG  GLN A 491      -5.275  42.582  29.663  1.00 67.59           C  \\nATOM   2167  CD  GLN A 491      -4.849  41.133  29.482  1.00 72.60           C  \\nATOM   2168  OE1 GLN A 491      -4.032  40.819  28.613  1.00 74.60           O  \\nATOM   2169  NE2 GLN A 491      -5.403  40.242  30.300  1.00 74.53           N  \\nATOM   2170  N   ALA A 492      -4.205  46.518  30.893  1.00 55.72           N  \\nATOM   2171  CA  ALA A 492      -4.818  47.545  31.724  1.00 56.83           C  \\nATOM   2172  C   ALA A 492      -5.237  48.751  30.891  1.00 57.34           C  \\nATOM   2173  O   ALA A 492      -6.353  49.250  31.034  1.00 56.86           O  \\nATOM   2174  CB  ALA A 492      -3.850  47.975  32.822  1.00 57.41           C  \\nATOM   2175  N   PHE A 493      -4.346  49.213  30.018  1.00 55.76           N  \\nATOM   2176  CA  PHE A 493      -4.641  50.368  29.178  1.00 57.89           C  \\nATOM   2177  C   PHE A 493      -5.808  50.146  28.228  1.00 61.72           C  \\nATOM   2178  O   PHE A 493      -6.607  51.057  28.006  1.00 62.32           O  \\nATOM   2179  CB  PHE A 493      -3.400  50.786  28.385  1.00 55.29           C  \\nATOM   2180  CG  PHE A 493      -2.491  51.710  29.137  1.00 50.76           C  \\nATOM   2181  CD1 PHE A 493      -2.892  53.009  29.428  1.00 45.79           C  \\nATOM   2182  CD2 PHE A 493      -1.246  51.277  29.580  1.00 49.18           C  \\nATOM   2183  CE1 PHE A 493      -2.065  53.866  30.155  1.00 45.54           C  \\nATOM   2184  CE2 PHE A 493      -0.413  52.127  30.308  1.00 49.47           C  \\nATOM   2185  CZ  PHE A 493      -0.824  53.422  30.596  1.00 47.31           C  \\nATOM   2186  N   GLU A 494      -5.907  48.948  27.658  1.00 65.64           N  \\nATOM   2187  CA  GLU A 494      -7.010  48.654  26.750  1.00 69.23           C  \\nATOM   2188  C   GLU A 494      -8.303  48.889  27.511  1.00 70.47           C  \\nATOM   2189  O   GLU A 494      -9.170  49.651  27.075  1.00 71.00           O  \\nATOM   2190  CB  GLU A 494      -6.952  47.204  26.264  1.00 69.70           C  \\nATOM   2191  CG  GLU A 494      -5.901  46.953  25.200  1.00 75.75           C  \\nATOM   2192  CD  GLU A 494      -5.937  45.532  24.668  1.00 78.42           C  \\nATOM   2193  OE1 GLU A 494      -5.707  44.592  25.460  1.00 80.85           O  \\nATOM   2194  OE2 GLU A 494      -6.196  45.356  23.456  1.00 76.73           O  \\nATOM   2195  N   THR A 495      -8.417  48.232  28.660  1.00 70.96           N  \\nATOM   2196  CA  THR A 495      -9.589  48.369  29.505  1.00 71.99           C  \\nATOM   2197  C   THR A 495      -9.893  49.850  29.673  1.00 74.44           C  \\nATOM   2198  O   THR A 495     -11.007  50.300  29.410  1.00 75.51           O  \\nATOM   2199  CB  THR A 495      -9.344  47.755  30.890  1.00 70.94           C  \\nATOM   2200  OG1 THR A 495      -8.954  46.385  30.743  1.00 65.92           O  \\nATOM   2201  CG2 THR A 495     -10.603  47.831  31.735  1.00 71.01           C  \\nATOM   2202  N   MET A 496      -8.886  50.606  30.099  1.00 76.85           N  \\nATOM   2203  CA  MET A 496      -9.048  52.038  30.304  1.00 79.61           C  \\nATOM   2204  C   MET A 496      -9.516  52.779  29.057  1.00 81.95           C  \\nATOM   2205  O   MET A 496     -10.635  53.288  29.022  1.00 83.24           O  \\nATOM   2206  CB  MET A 496      -7.742  52.660  30.807  1.00 77.29           C  \\nATOM   2207  CG  MET A 496      -7.383  52.281  32.231  1.00 76.43           C  \\nATOM   2208  SD  MET A 496      -6.049  53.293  32.904  1.00 74.72           S  \\nATOM   2209  CE  MET A 496      -4.665  52.174  32.781  1.00 75.06           C  \\nATOM   2210  N   PHE A 497      -8.665  52.834  28.037  1.00 84.26           N  \\nATOM   2211  CA  PHE A 497      -8.996  53.538  26.801  1.00 86.46           C  \\nATOM   2212  C   PHE A 497     -10.446  53.364  26.363  1.00 87.59           C  \\nATOM   2213  O   PHE A 497     -11.081  54.320  25.914  1.00 87.20           O  \\nATOM   2214  CB  PHE A 497      -8.060  53.105  25.665  1.00 86.09           C  \\nATOM   2215  CG  PHE A 497      -8.314  53.825  24.367  1.00 86.00           C  \\nATOM   2216  CD1 PHE A 497      -9.382  53.464  23.550  1.00 86.70           C  \\nATOM   2217  CD2 PHE A 497      -7.510  54.892  23.981  1.00 85.79           C  \\nATOM   2218  CE1 PHE A 497      -9.648  54.158  22.369  1.00 86.33           C  \\nATOM   2219  CE2 PHE A 497      -7.768  55.592  22.803  1.00 86.11           C  \\nATOM   2220  CZ  PHE A 497      -8.840  55.223  21.996  1.00 85.79           C  \\nATOM   2221  N   GLN A 498     -10.971  52.150  26.494  1.00 89.33           N  \\nATOM   2222  CA  GLN A 498     -12.348  51.884  26.097  1.00 90.51           C  \\nATOM   2223  C   GLN A 498     -13.346  52.524  27.059  1.00 90.96           C  \\nATOM   2224  O   GLN A 498     -12.959  52.814  28.209  1.00 90.48           O  \\nATOM   2225  CB  GLN A 498     -12.594  50.376  26.027  1.00 91.08           C  \\nATOM   2226  CG  GLN A 498     -11.708  49.645  25.027  1.00 93.86           C  \\nATOM   2227  CD  GLN A 498     -11.724  50.288  23.651  1.00 95.40           C  \\nATOM   2228  OE1 GLN A 498     -12.786  50.586  23.103  1.00 97.19           O  \\nATOM   2229  NE2 GLN A 498     -10.542  50.497  23.082  1.00 95.74           N  \\nTER    2230      GLN A 498                                                      \\nTER    4460      GLN B 498                                                      \\nHETATM 4461 CL    CL A   1      14.207  35.375   1.662  1.00 50.30          CL  \\nHETATM 4462 CL    CL A   2      18.095  42.377  23.842  1.00 64.60          CL  \\nHETATM 4463 CL    CL A   4       3.753  59.155   9.290  1.00 86.31          CL  \\nHETATM 4464 CL    CL A   5      12.290  64.724  15.103  1.00 49.39          CL  \\nHETATM 4465  C1  STI A 201      11.879  62.272  12.570  1.00 35.17           C  \\nHETATM 4466  C6  STI A 201      13.002  61.429  12.910  1.00 32.96           C  \\nHETATM 4467  C5  STI A 201      13.097  60.070  12.392  1.00 33.74           C  \\nHETATM 4468  C4  STI A 201      12.031  59.591  11.525  1.00 31.40           C  \\nHETATM 4469  N3  STI A 201      10.961  60.425  11.216  1.00 33.76           N  \\nHETATM 4470  C2  STI A 201      10.858  61.734  11.710  1.00 35.46           C  \\nHETATM 4471  C7  STI A 201      14.238  59.155  12.712  1.00 33.05           C  \\nHETATM 4472  C12 STI A 201      15.433  59.579  13.383  1.00 30.85           C  \\nHETATM 4473  C11 STI A 201      16.428  58.603  13.615  1.00 35.42           C  \\nHETATM 4474  N10 STI A 201      16.232  57.303  13.202  1.00 32.08           N  \\nHETATM 4475  C9  STI A 201      15.067  56.927  12.559  1.00 33.83           C  \\nHETATM 4476  N8  STI A 201      14.101  57.840  12.327  1.00 33.44           N  \\nHETATM 4477  N13 STI A 201      14.852  55.627  12.128  1.00 32.90           N  \\nHETATM 4478  C14 STI A 201      15.822  54.641  12.322  1.00 32.92           C  \\nHETATM 4479  C19 STI A 201      16.950  54.502  11.393  1.00 28.09           C  \\nHETATM 4480  C18 STI A 201      17.915  53.471  11.648  1.00 26.77           C  \\nHETATM 4481  C17 STI A 201      17.774  52.597  12.786  1.00 25.91           C  \\nHETATM 4482  C16 STI A 201      16.678  52.727  13.688  1.00 30.34           C  \\nHETATM 4483  C15 STI A 201      15.698  53.772  13.436  1.00 29.33           C  \\nHETATM 4484  N21 STI A 201      16.600  51.810  14.798  1.00 31.22           N  \\nHETATM 4485  C22 STI A 201      15.629  51.747  15.784  1.00 33.27           C  \\nHETATM 4486  C23 STI A 201      15.595  50.558  16.689  1.00 31.14           C  \\nHETATM 4487  C25 STI A 201      14.423  50.268  17.519  1.00 34.22           C  \\nHETATM 4488  C26 STI A 201      14.423  49.124  18.396  1.00 31.64           C  \\nHETATM 4489  C27 STI A 201      15.600  48.260  18.446  1.00 38.05           C  \\nHETATM 4490  C28 STI A 201      16.747  48.568  17.608  1.00 29.43           C  \\nHETATM 4491  C29 STI A 201      16.751  49.689  16.748  1.00 34.20           C  \\nHETATM 4492  C46 STI A 201      15.696  47.030  19.368  1.00 35.44           C  \\nHETATM 4493  N48 STI A 201      16.917  46.907  20.219  1.00 46.28           N  \\nHETATM 4494  C53 STI A 201      17.097  48.140  21.070  1.00 45.06           C  \\nHETATM 4495  C52 STI A 201      18.375  48.041  21.949  1.00 46.67           C  \\nHETATM 4496  N51 STI A 201      18.337  46.794  22.821  1.00 48.74           N  \\nHETATM 4497  C54 STI A 201      19.522  46.655  23.680  1.00 49.83           C  \\nHETATM 4498  C50 STI A 201      18.172  45.533  21.971  1.00 45.31           C  \\nHETATM 4499  C49 STI A 201      16.877  45.658  21.104  1.00 44.33           C  \\nHETATM 4500  O29 STI A 201      14.789  52.612  15.983  1.00 38.89           O  \\nHETATM 4501  C20 STI A 201      17.148  55.406  10.154  1.00 26.25           C  \\nHETATM 4541  O   HOH A   7      16.209  44.973  36.093  1.00 45.16           O  \\nHETATM 4542  O   HOH A   8      13.642  39.493   8.579  1.00 48.49           O  \\nHETATM 4543  O   HOH A   9      10.491  69.478  34.185  1.00 45.11           O  \\nHETATM 4544  O   HOH A  10      11.145  64.895  29.334  1.00 37.52           O  \\nHETATM 4545  O   HOH A  12       5.403  73.226  26.076  1.00 46.61           O  \\nHETATM 4546  O   HOH A  13      12.534  61.665  26.746  1.00 38.42           O  \\nHETATM 4547  O   HOH A  14      19.402  53.852  15.819  1.00 36.90           O  \\nHETATM 4548  O   HOH A  15       7.940  47.193  12.882  1.00 35.20           O  \\nHETATM 4549  O   HOH A  16      18.083  41.985  -1.483  1.00 44.94           O  \\nHETATM 4550  O   HOH A  18      -1.047  69.021  17.963  1.00 36.16           O  \\nHETATM 4551  O   HOH A  19      15.013  63.513  27.481  1.00 36.71           O  \\nHETATM 4552  O   HOH A  20       7.226  60.031  47.313  1.00 43.88           O  \\nHETATM 4553  O   HOH A  22       6.959  66.074   8.462  1.00 51.30           O  \\nHETATM 4554  O   HOH A  23       4.108  40.456  26.663  1.00 50.81           O  \\nHETATM 4555  O   HOH A  24      10.395  70.723  31.866  1.00 41.95           O  \\nHETATM 4556  O   HOH A  30      14.636  51.401  28.990  1.00 46.35           O  \\nHETATM 4557  O   HOH A  33      11.594  52.361  47.282  1.00 42.67           O  \\nHETATM 4558  O   HOH A  34      21.809  55.119  27.572  1.00 59.40           O  \\nHETATM 4559  O   HOH A  35      -0.785  63.086  14.873  1.00 40.67           O  \\nHETATM 4560  O   HOH A  37      21.183  59.301  42.207  1.00 44.53           O  \\nHETATM 4561  O   HOH A  39      21.415  61.351  33.589  1.00 47.70           O  \\nHETATM 4562  O   HOH A  41      16.230  56.818  38.243  1.00 39.70           O  \\nHETATM 4563  O   HOH A  42       6.020  46.959  10.766  1.00 47.71           O  \\nHETATM 4564  O   HOH A  43       6.864  65.328  41.429  1.00 49.66           O  \\nHETATM 4565  O   HOH A  45      16.323  48.699  30.660  1.00 39.36           O  \\nHETATM 4566  O   HOH A  47      18.689  56.297  22.046  1.00 61.39           O  \\nHETATM 4567  O   HOH A  48       1.922  43.577  21.411  1.00 51.52           O  \\nHETATM 4568  O   HOH A  49      -1.460  52.387  16.468  1.00 41.24           O  \\nHETATM 4569  O   HOH A  50      21.476  59.099  45.154  1.00 58.02           O  \\nHETATM 4570  O   HOH A  51      13.587  65.302  28.928  1.00 42.75           O  \\nHETATM 4571  O   HOH A  53      13.550  57.158  37.582  1.00 35.48           O  \\nHETATM 4572  O   HOH A  54       9.386  58.385  40.439  1.00 46.46           O  \\nHETATM 4573  O   HOH A  56      18.316  61.826  33.381  1.00 47.56           O  \\nHETATM 4574  O   HOH A  58       2.320  71.389  25.188  1.00 42.59           O  \\nHETATM 4575  O   HOH A  60      16.500  36.572   3.259  1.00 45.20           O  \\nHETATM 4576  O   HOH A  61      10.444  68.230  42.004  1.00 48.92           O  \\nHETATM 4577  O   HOH A  62       2.303  52.409  10.054  1.00 43.35           O  \\nHETATM 4578  O   HOH A  63      22.368  56.937  -1.555  1.00 68.64           O  \\nHETATM 4579  O   HOH A  65      14.652  40.479  30.791  1.00 46.97           O  \\nHETATM 4580  O   HOH A  66      -3.133  63.681  11.797  1.00 50.24           O  \\nHETATM 4581  O   HOH A  67       9.708  65.356  41.632  1.00 54.04           O  \\nHETATM 4582  O   HOH A  69      -4.037  56.196  14.811  1.00 49.91           O  \\nHETATM 4583  O   HOH A  72      -1.178  48.382  17.799  1.00 60.27           O  \\nHETATM 4584  O   HOH A  73       1.671  51.071  12.084  1.00 46.22           O  \\nHETATM 4585  O   HOH A  75      18.433  56.108  14.294  1.00 36.90           O  \\nHETATM 4586  O   HOH A  76      14.778  62.721  20.176  1.00 42.96           O  \\nHETATM 4587  O   HOH A  77      22.437  43.881   7.276  1.00 53.63           O  \\nHETATM 4588  O   HOH A  78      12.417  46.825  12.788  1.00 41.04           O  \\nHETATM 4589  O   HOH A  83      16.535  51.402  31.009  1.00 54.39           O  \\nHETATM 4590  O   HOH A  84      16.711  64.494  20.198  1.00 55.91           O  \\nHETATM 4591  O   HOH A  88      20.694  64.337  12.484  1.00 53.07           O  \\nHETATM 4592  O   HOH A  90      16.499  39.527  35.431  1.00 49.78           O  \\nHETATM 4593  O   HOH A  91      28.431  57.743   5.387  1.00 56.05           O  \\nHETATM 4594  O   HOH A  92       8.591  46.471  45.293  1.00 56.71           O  \\nHETATM 4595  O   HOH A  93      21.614  55.171  24.382  1.00 57.34           O  \\nHETATM 4596  O   HOH A  94       8.222  56.482   5.241  1.00 46.99           O  \\nHETATM 4597  O   HOH A  97      -4.949  71.817  28.119  1.00 68.24           O  \\nHETATM 4598  O   HOH A  99       3.607  54.824   9.684  1.00 68.60           O  \\nHETATM 4599  O   HOH A 101       0.040  56.521   9.276  1.00 63.71           O  \\nHETATM 4600  O   HOH A 102      20.159  53.143  29.476  1.00 53.30           O  \\nHETATM 4601  O   HOH A 104       8.208  66.091  17.154  1.00 44.59           O  \\nHETATM 4602  O   HOH A 106       6.576  59.747   1.584  1.00 56.53           O  \\nHETATM 4603  O   HOH A 107       0.981  62.571  44.291  1.00 58.70           O  \\nHETATM 4604  O   HOH A 108      15.748  37.784   8.619  1.00 64.64           O  \\nHETATM 4605  O   HOH A 109      22.290  64.563  27.818  1.00 48.62           O  \\nHETATM 4606  O   HOH A 110      27.710  64.047  29.162  1.00 64.21           O  \\nHETATM 4607  O   HOH A 112      -1.861  56.721  11.106  1.00 59.68           O  \\nHETATM 4608  O   HOH A 114       5.284  49.659  12.055  1.00 51.77           O  \\nHETATM 4609  O   HOH A 115      14.085  65.200  21.747  1.00 50.10           O  \\nHETATM 4610  O   HOH A 117      14.810  68.306  20.358  1.00 55.65           O  \\nHETATM 4611  O   HOH A 118      23.859  56.925  17.743  1.00 48.82           O  \\nHETATM 4612  O   HOH A 119      25.236  53.204  26.090  1.00 65.85           O  \\nHETATM 4613  O   HOH A 120       5.152  71.226  28.004  1.00 42.37           O  \\nHETATM 4614  O   HOH A 125      -3.032  71.270  29.804  1.00 56.32           O  \\nHETATM 4615  O   HOH A 126      18.530  64.543  33.844  1.00 53.28           O  \\nHETATM 4616  O   HOH A 127      23.763  43.119   9.581  1.00 44.42           O  \\nHETATM 4617  O   HOH A 128       1.774  38.638  32.478  1.00 49.41           O  \\nHETATM 4618  O   HOH A 129      18.991  51.017  23.819  1.00 49.63           O  \\nHETATM 4619  O   HOH A 131       2.843  42.869  12.408  1.00 68.74           O  \\nHETATM 4620  O   HOH A 135      10.310  47.024  11.373  1.00 53.60           O  \\nHETATM 4621  O   HOH A 137      19.578  33.382 -10.048  1.00 49.20           O  \\nHETATM 4622  O   HOH A 142      10.757  39.019  28.467  1.00 58.69           O  \\nHETATM 4623  O   HOH A 143      10.127  66.615   5.784  1.00 53.38           O  \\nHETATM 4624  O   HOH A 144      11.631  44.153  10.295  1.00 53.09           O  \\nHETATM 4625  O   HOH A 147      15.641  55.564  29.056  1.00 39.54           O  \\nHETATM 4626  O   HOH A 154      21.287  51.247  25.041  1.00 55.18           O  \\nHETATM 4627  O   HOH A 155      13.452  50.657  49.349  1.00 59.71           O  \\nHETATM 4628  O   HOH A 157      19.808  44.152  -4.596  1.00 59.10           O  \\nHETATM 4629  O   HOH A 158       3.481  45.494  11.666  1.00 44.96           O  \\nHETATM 4630  O   HOH A 159      14.108  67.537  27.752  1.00 58.45           O  \\nHETATM 4631  O   HOH A 160      15.458  68.310  25.691  1.00 61.95           O  \\nHETATM 4632  O   HOH A 161      22.830  46.339  -0.252  1.00 45.32           O  \\nHETATM 4633  O   HOH A 162      24.355  47.545  17.963  1.00 66.39           O  \\nHETATM 4634  O   HOH A 163      15.402  51.758  33.317  1.00 69.46           O  \\nHETATM 4635  O   HOH A 167      12.197  48.371  14.804  1.00 52.86           O  \\nHETATM 4636  O   HOH A 169       8.525  67.997   8.081  1.00 72.81           O  \\nHETATM 4637  O   HOH A 170      -2.218  74.214  23.146  1.00 31.91           O  \\nHETATM 4638  O   HOH A 173       7.270  69.430   6.470  1.00 82.12           O  \\nHETATM 4639  O   HOH A 174       6.490  71.630   8.060  1.00 81.99           O  \",\"pdb\");\n\tviewer_17225152838841944.setStyle({\"cartoon\": {\"color\": \"darkgreen\"}});\n\tviewer_17225152838841944.addStyle({\"chain\": \"A\", \"resi\": [248]},{\"cartoon\": {\"color\": \"magenta\"}});\n\tviewer_17225152838841944.addStyle({\"chain\": \"A\", \"resi\": [253]},{\"cartoon\": {\"color\": \"magenta\"}});\n\tviewer_17225152838841944.addStyle({\"chain\": \"A\", \"resi\": [270]},{\"cartoon\": {\"color\": \"magenta\"}});\n\tviewer_17225152838841944.addStyle({\"chain\": \"A\", \"resi\": [314]},{\"cartoon\": {\"color\": \"magenta\"}});\n\tviewer_17225152838841944.addStyle({\"chain\": \"A\", \"resi\": [315]},{\"cartoon\": {\"color\": \"magenta\"}});\n\tviewer_17225152838841944.addStyle({\"chain\": \"A\", \"resi\": [316]},{\"cartoon\": {\"color\": \"magenta\"}});\n\tviewer_17225152838841944.addStyle({\"chain\": \"A\", \"resi\": [317]},{\"cartoon\": {\"color\": \"magenta\"}});\n\tviewer_17225152838841944.addStyle({\"chain\": \"A\", \"resi\": [318]},{\"cartoon\": {\"color\": \"magenta\"}});\n\tviewer_17225152838841944.addStyle({\"chain\": \"A\", \"resi\": [321]},{\"cartoon\": {\"color\": \"magenta\"}});\n\tviewer_17225152838841944.addStyle({\"chain\": \"A\", \"resi\": [322]},{\"cartoon\": {\"color\": \"magenta\"}});\n\tviewer_17225152838841944.addStyle({\"chain\": \"A\", \"resi\": [247]},{\"cartoon\": {\"color\": \"red\"}});\n\tviewer_17225152838841944.addStyle({\"chain\": \"A\", \"resi\": [249]},{\"cartoon\": {\"color\": \"red\"}});\n\tviewer_17225152838841944.addStyle({\"chain\": \"A\", \"resi\": [250]},{\"cartoon\": {\"color\": \"red\"}});\n\tviewer_17225152838841944.addStyle({\"chain\": \"A\", \"resi\": [251]},{\"cartoon\": {\"color\": \"red\"}});\n\tviewer_17225152838841944.addStyle({\"chain\": \"A\", \"resi\": [252]},{\"cartoon\": {\"color\": \"red\"}});\n\tviewer_17225152838841944.addStyle({\"chain\": \"A\", \"resi\": [254]},{\"cartoon\": {\"color\": \"red\"}});\n\tviewer_17225152838841944.addStyle({\"chain\": \"A\", \"resi\": [255]},{\"cartoon\": {\"color\": \"red\"}});\n\tviewer_17225152838841944.addStyle({\"chain\": \"A\", \"resi\": [319]},{\"cartoon\": {\"color\": \"red\"}});\n\tviewer_17225152838841944.addStyle({\"chain\": \"A\", \"resi\": [320]},{\"cartoon\": {\"color\": \"red\"}});\n\tviewer_17225152838841944.addStyle({\"chain\": \"A\", \"resi\": [366]},{\"cartoon\": {\"color\": \"red\"}});\n\tviewer_17225152838841944.addStyle({\"chain\": \"A\", \"resi\": [367]},{\"cartoon\": {\"color\": \"red\"}});\n\tviewer_17225152838841944.addStyle({\"chain\": \"A\", \"resi\": \"256\"},{\"cartoon\": {\"colorscheme\": \"greenCarbon\"}});\n\tviewer_17225152838841944.addStyle({\"chain\": \"A\", \"resi\": \"129\"},{\"cartoon\": {\"colorscheme\": \"greenCarbon\"}});\n\tviewer_17225152838841944.addStyle({\"chain\": \"A\", \"resi\": \"2\"},{\"cartoon\": {\"colorscheme\": \"greenCarbon\"}});\n\tviewer_17225152838841944.addStyle({\"chain\": \"A\", \"resi\": \"5\"},{\"cartoon\": {\"colorscheme\": \"greenCarbon\"}});\n\tviewer_17225152838841944.addStyle({\"chain\": \"A\", \"resi\": \"269\"},{\"cartoon\": {\"colorscheme\": \"greenCarbon\"}});\n\tviewer_17225152838841944.addStyle({\"chain\": \"A\", \"resi\": \"14\"},{\"cartoon\": {\"colorscheme\": \"greenCarbon\"}});\n\tviewer_17225152838841944.addStyle({\"chain\": \"A\", \"resi\": \"271\"},{\"cartoon\": {\"colorscheme\": \"greenCarbon\"}});\n\tviewer_17225152838841944.addStyle({\"chain\": \"A\", \"resi\": \"286\"},{\"cartoon\": {\"colorscheme\": \"greenCarbon\"}});\n\tviewer_17225152838841944.addStyle({\"chain\": \"A\", \"resi\": \"289\"},{\"cartoon\": {\"colorscheme\": \"greenCarbon\"}});\n\tviewer_17225152838841944.addStyle({\"chain\": \"A\", \"resi\": \"290\"},{\"cartoon\": {\"colorscheme\": \"greenCarbon\"}});\n\tviewer_17225152838841944.addStyle({\"chain\": \"A\", \"resi\": \"293\"},{\"cartoon\": {\"colorscheme\": \"greenCarbon\"}});\n\tviewer_17225152838841944.addStyle({\"chain\": \"A\", \"resi\": \"167\"},{\"cartoon\": {\"colorscheme\": \"greenCarbon\"}});\n\tviewer_17225152838841944.addStyle({\"chain\": \"A\", \"resi\": \"299\"},{\"cartoon\": {\"colorscheme\": \"greenCarbon\"}});\n\tviewer_17225152838841944.addStyle({\"chain\": \"A\", \"resi\": \"313\"},{\"cartoon\": {\"colorscheme\": \"greenCarbon\"}});\n\tviewer_17225152838841944.addStyle({\"chain\": \"A\", \"resi\": \"201\"},{\"cartoon\": {\"colorscheme\": \"greenCarbon\"}});\n\tviewer_17225152838841944.addStyle({\"chain\": \"A\", \"resi\": \"75\"},{\"cartoon\": {\"colorscheme\": \"greenCarbon\"}});\n\tviewer_17225152838841944.addStyle({\"chain\": \"A\", \"resi\": \"359\"},{\"cartoon\": {\"colorscheme\": \"greenCarbon\"}});\n\tviewer_17225152838841944.addStyle({\"chain\": \"A\", \"resi\": \"360\"},{\"cartoon\": {\"colorscheme\": \"greenCarbon\"}});\n\tviewer_17225152838841944.addStyle({\"chain\": \"A\", \"resi\": \"361\"},{\"cartoon\": {\"colorscheme\": \"greenCarbon\"}});\n\tviewer_17225152838841944.addStyle({\"chain\": \"A\", \"resi\": \"362\"},{\"cartoon\": {\"colorscheme\": \"greenCarbon\"}});\n\tviewer_17225152838841944.addStyle({\"chain\": \"A\", \"resi\": \"370\"},{\"cartoon\": {\"colorscheme\": \"greenCarbon\"}});\n\tviewer_17225152838841944.addStyle({\"chain\": \"A\", \"resi\": \"381\"},{\"cartoon\": {\"colorscheme\": \"greenCarbon\"}});\n\tviewer_17225152838841944.addStyle({\"chain\": \"A\", \"resi\": \"379\"},{\"cartoon\": {\"colorscheme\": \"greenCarbon\"}});\n\tviewer_17225152838841944.addStyle({\"chain\": \"A\", \"resi\": \"380\"},{\"cartoon\": {\"colorscheme\": \"greenCarbon\"}});\n\tviewer_17225152838841944.addStyle({\"chain\": \"A\", \"resi\": \"382\"},{\"cartoon\": {\"colorscheme\": \"greenCarbon\"}});\n\tviewer_17225152838841944.addStyle({\"chain\": \"A\", \"resn\": \"STI\"},{\"stick\": {\"colorscheme\": \"yellowCarbon\"}});\n\tviewer_17225152838841944.zoomTo();\nviewer_17225152838841944.render();\n});\n</script>",
            "text/html": [
              "<div id=\"3dmolviewer_17225152838841944\"  style=\"position: relative; width: 640px; height: 480px;\">\n",
              "        <p id=\"3dmolwarning_17225152838841944\" style=\"background-color:#ffcccc;color:black\">3Dmol.js failed to load for some reason.  Please check your browser console for error messages.<br></p>\n",
              "        </div>\n",
              "<script>\n",
              "\n",
              "var loadScriptAsync = function(uri){\n",
              "  return new Promise((resolve, reject) => {\n",
              "    //this is to ignore the existence of requirejs amd\n",
              "    var savedexports, savedmodule;\n",
              "    if (typeof exports !== 'undefined') savedexports = exports;\n",
              "    else exports = {}\n",
              "    if (typeof module !== 'undefined') savedmodule = module;\n",
              "    else module = {}\n",
              "\n",
              "    var tag = document.createElement('script');\n",
              "    tag.src = uri;\n",
              "    tag.async = true;\n",
              "    tag.onload = () => {\n",
              "        exports = savedexports;\n",
              "        module = savedmodule;\n",
              "        resolve();\n",
              "    };\n",
              "  var firstScriptTag = document.getElementsByTagName('script')[0];\n",
              "  firstScriptTag.parentNode.insertBefore(tag, firstScriptTag);\n",
              "});\n",
              "};\n",
              "\n",
              "if(typeof $3Dmolpromise === 'undefined') {\n",
              "$3Dmolpromise = null;\n",
              "  $3Dmolpromise = loadScriptAsync('https://cdnjs.cloudflare.com/ajax/libs/3Dmol/2.3.0/3Dmol-min.js');\n",
              "}\n",
              "\n",
              "var viewer_17225152838841944 = null;\n",
              "var warn = document.getElementById(\"3dmolwarning_17225152838841944\");\n",
              "if(warn) {\n",
              "    warn.parentNode.removeChild(warn);\n",
              "}\n",
              "$3Dmolpromise.then(function() {\n",
              "viewer_17225152838841944 = $3Dmol.createViewer(document.getElementById(\"3dmolviewer_17225152838841944\"),{backgroundColor:\"white\"});\n",
              "viewer_17225152838841944.zoomTo();\n",
              "\tviewer_17225152838841944.addModel(\"ATOM      1  N   MET A 225      19.353  41.547  -3.887  1.00 72.26           N  \\nATOM      2  CA  MET A 225      20.513  40.939  -4.592  1.00 70.80           C  \\nATOM      3  C   MET A 225      20.150  39.658  -5.355  1.00 69.53           C  \\nATOM      4  O   MET A 225      19.053  39.551  -5.903  1.00 68.86           O  \\nATOM      5  CB  MET A 225      21.642  40.678  -3.592  1.00 71.61           C  \\nATOM      6  CG  MET A 225      21.233  39.903  -2.360  1.00 72.49           C  \\nATOM      7  SD  MET A 225      22.533  39.928  -1.113  1.00 76.72           S  \\nATOM      8  CE  MET A 225      23.771  38.881  -1.885  1.00 71.61           C  \\nATOM      9  N   ASP A 226      21.068  38.694  -5.390  1.00 67.35           N  \\nATOM     10  CA  ASP A 226      20.856  37.440  -6.117  1.00 64.67           C  \\nATOM     11  C   ASP A 226      20.124  36.371  -5.299  1.00 60.64           C  \\nATOM     12  O   ASP A 226      20.680  35.818  -4.351  1.00 61.28           O  \\nATOM     13  CB  ASP A 226      22.208  36.890  -6.586  1.00 68.19           C  \\nATOM     14  CG  ASP A 226      22.073  35.863  -7.699  1.00 72.67           C  \\nATOM     15  OD1 ASP A 226      21.305  34.890  -7.529  1.00 73.52           O  \\nATOM     16  OD2 ASP A 226      22.740  36.029  -8.744  1.00 72.20           O  \\nATOM     17  N   PRO A 227      18.872  36.052  -5.675  1.00 58.29           N  \\nATOM     18  CA  PRO A 227      18.030  35.054  -4.999  1.00 56.77           C  \\nATOM     19  C   PRO A 227      18.675  33.677  -4.831  1.00 58.61           C  \\nATOM     20  O   PRO A 227      18.457  32.997  -3.824  1.00 57.58           O  \\nATOM     21  CB  PRO A 227      16.788  34.997  -5.884  1.00 55.32           C  \\nATOM     22  CG  PRO A 227      16.706  36.383  -6.436  1.00 57.16           C  \\nATOM     23  CD  PRO A 227      18.142  36.670  -6.796  1.00 56.73           C  \\nATOM     24  N   SER A 228      19.458  33.264  -5.821  1.00 59.84           N  \\nATOM     25  CA  SER A 228      20.130  31.969  -5.773  1.00 62.95           C  \\nATOM     26  C   SER A 228      21.464  32.040  -5.031  1.00 65.13           C  \\nATOM     27  O   SER A 228      22.045  31.008  -4.688  1.00 66.16           O  \\nATOM     28  CB  SER A 228      20.364  31.447  -7.191  1.00 62.28           C  \\nATOM     29  OG  SER A 228      21.180  32.341  -7.928  1.00 62.06           O  \\nATOM     30  N   SER A 229      21.950  33.253  -4.788  1.00 64.53           N  \\nATOM     31  CA  SER A 229      23.216  33.437  -4.085  1.00 65.76           C  \\nATOM     32  C   SER A 229      23.144  32.931  -2.643  1.00 66.52           C  \\nATOM     33  O   SER A 229      22.121  33.077  -1.970  1.00 64.82           O  \\nATOM     34  CB  SER A 229      23.619  34.914  -4.089  1.00 66.77           C  \\nATOM     35  OG  SER A 229      24.716  35.143  -3.220  1.00 65.78           O  \\nATOM     36  N   PRO A 230      24.239  32.327  -2.153  1.00 66.91           N  \\nATOM     37  CA  PRO A 230      24.317  31.793  -0.789  1.00 67.68           C  \\nATOM     38  C   PRO A 230      24.165  32.880   0.276  1.00 67.83           C  \\nATOM     39  O   PRO A 230      23.752  32.609   1.406  1.00 68.00           O  \\nATOM     40  CB  PRO A 230      25.702  31.145  -0.751  1.00 67.73           C  \\nATOM     41  CG  PRO A 230      25.937  30.756  -2.179  1.00 67.84           C  \\nATOM     42  CD  PRO A 230      25.446  31.972  -2.919  1.00 66.34           C  \\nATOM     43  N   ASN A 231      24.500  34.111  -0.097  1.00 66.49           N  \\nATOM     44  CA  ASN A 231      24.419  35.239   0.819  1.00 66.05           C  \\nATOM     45  C   ASN A 231      23.237  36.164   0.516  1.00 61.13           C  \\nATOM     46  O   ASN A 231      23.340  37.382   0.668  1.00 58.71           O  \\nATOM     47  CB  ASN A 231      25.726  36.040   0.765  1.00 70.48           C  \\nATOM     48  CG  ASN A 231      26.937  35.211   1.171  1.00 74.28           C  \\nATOM     49  OD1 ASN A 231      26.811  34.220   1.891  1.00 78.33           O  \\nATOM     50  ND2 ASN A 231      28.117  35.619   0.716  1.00 74.69           N  \\nATOM     51  N   TYR A 232      22.114  35.591   0.092  1.00 55.17           N  \\nATOM     52  CA  TYR A 232      20.945  36.405  -0.222  1.00 50.20           C  \\nATOM     53  C   TYR A 232      20.279  36.969   1.023  1.00 48.25           C  \\nATOM     54  O   TYR A 232      19.972  36.238   1.966  1.00 52.46           O  \\nATOM     55  CB  TYR A 232      19.891  35.609  -0.999  1.00 46.52           C  \\nATOM     56  CG  TYR A 232      18.676  36.451  -1.350  1.00 43.11           C  \\nATOM     57  CD1 TYR A 232      18.715  37.355  -2.411  1.00 40.63           C  \\nATOM     58  CD2 TYR A 232      17.508  36.387  -0.583  1.00 41.66           C  \\nATOM     59  CE1 TYR A 232      17.625  38.180  -2.700  1.00 42.95           C  \\nATOM     60  CE2 TYR A 232      16.408  37.210  -0.866  1.00 37.96           C  \\nATOM     61  CZ  TYR A 232      16.478  38.102  -1.921  1.00 39.57           C  \\nATOM     62  OH  TYR A 232      15.420  38.937  -2.194  1.00 40.75           O  \\nATOM     63  N   ASP A 233      20.052  38.274   1.014  1.00 47.94           N  \\nATOM     64  CA  ASP A 233      19.381  38.942   2.122  1.00 46.79           C  \\nATOM     65  C   ASP A 233      18.290  39.792   1.493  1.00 43.90           C  \\nATOM     66  O   ASP A 233      18.582  40.735   0.758  1.00 40.31           O  \\nATOM     67  CB  ASP A 233      20.348  39.842   2.890  1.00 45.63           C  \\nATOM     68  CG  ASP A 233      19.691  40.506   4.088  1.00 51.78           C  \\nATOM     69  OD1 ASP A 233      18.531  40.963   3.964  1.00 51.54           O  \\nATOM     70  OD2 ASP A 233      20.334  40.578   5.154  1.00 53.30           O  \\nATOM     71  N   LYS A 234      17.035  39.457   1.771  1.00 43.11           N  \\nATOM     72  CA  LYS A 234      15.920  40.207   1.200  1.00 42.42           C  \\nATOM     73  C   LYS A 234      15.946  41.692   1.557  1.00 41.40           C  \\nATOM     74  O   LYS A 234      15.401  42.516   0.827  1.00 39.09           O  \\nATOM     75  CB  LYS A 234      14.591  39.605   1.655  1.00 44.79           C  \\nATOM     76  CG  LYS A 234      14.361  39.636   3.156  1.00 47.10           C  \\nATOM     77  CD  LYS A 234      13.049  38.955   3.503  1.00 49.82           C  \\nATOM     78  CE  LYS A 234      12.810  38.914   5.001  1.00 51.10           C  \\nATOM     79  NZ  LYS A 234      11.495  38.291   5.325  1.00 49.81           N  \\nATOM     80  N   TRP A 235      16.592  42.034   2.667  1.00 41.10           N  \\nATOM     81  CA  TRP A 235      16.640  43.427   3.107  1.00 40.69           C  \\nATOM     82  C   TRP A 235      17.655  44.315   2.389  1.00 42.11           C  \\nATOM     83  O   TRP A 235      17.481  45.535   2.351  1.00 37.17           O  \\nATOM     84  CB  TRP A 235      16.880  43.493   4.619  1.00 37.95           C  \\nATOM     85  CG  TRP A 235      15.806  42.843   5.431  1.00 34.37           C  \\nATOM     86  CD1 TRP A 235      15.874  41.639   6.063  1.00 35.72           C  \\nATOM     87  CD2 TRP A 235      14.500  43.373   5.715  1.00 36.45           C  \\nATOM     88  NE1 TRP A 235      14.695  41.384   6.729  1.00 38.24           N  \\nATOM     89  CE2 TRP A 235      13.837  42.433   6.532  1.00 36.83           C  \\nATOM     90  CE3 TRP A 235      13.830  44.552   5.359  1.00 36.90           C  \\nATOM     91  CZ2 TRP A 235      12.532  42.634   7.002  1.00 41.62           C  \\nATOM     92  CZ3 TRP A 235      12.530  44.753   5.827  1.00 40.27           C  \\nATOM     93  CH2 TRP A 235      11.899  43.798   6.639  1.00 39.51           C  \\nATOM     94  N   GLU A 236      18.707  43.717   1.823  1.00 42.48           N  \\nATOM     95  CA  GLU A 236      19.727  44.490   1.105  1.00 43.64           C  \\nATOM     96  C   GLU A 236      19.069  45.163  -0.085  1.00 46.41           C  \\nATOM     97  O   GLU A 236      18.358  44.515  -0.850  1.00 48.57           O  \\nATOM     98  CB  GLU A 236      20.851  43.584   0.591  1.00 43.17           C  \\nATOM     99  CG  GLU A 236      21.694  42.896   1.661  1.00 45.14           C  \\nATOM    100  CD  GLU A 236      22.663  43.840   2.360  1.00 49.61           C  \\nATOM    101  OE1 GLU A 236      22.934  44.935   1.822  1.00 47.60           O  \\nATOM    102  OE2 GLU A 236      23.164  43.475   3.444  1.00 51.07           O  \\nATOM    103  N   MET A 237      19.307  46.457  -0.256  1.00 47.75           N  \\nATOM    104  CA  MET A 237      18.703  47.170  -1.371  1.00 52.18           C  \\nATOM    105  C   MET A 237      19.714  48.004  -2.134  1.00 54.03           C  \\nATOM    106  O   MET A 237      20.879  48.088  -1.750  1.00 53.01           O  \\nATOM    107  CB  MET A 237      17.558  48.059  -0.878  1.00 54.76           C  \\nATOM    108  CG  MET A 237      17.972  49.157   0.078  1.00 62.51           C  \\nATOM    109  SD  MET A 237      16.541  50.098   0.656  1.00 74.54           S  \\nATOM    110  CE  MET A 237      16.249  51.167  -0.758  1.00 74.99           C  \\nATOM    111  N   GLU A 238      19.253  48.628  -3.212  1.00 56.90           N  \\nATOM    112  CA  GLU A 238      20.119  49.442  -4.044  1.00 61.36           C  \\nATOM    113  C   GLU A 238      20.302  50.859  -3.518  1.00 62.92           C  \\nATOM    114  O   GLU A 238      19.362  51.655  -3.466  1.00 61.45           O  \\nATOM    115  CB  GLU A 238      19.585  49.482  -5.478  1.00 66.85           C  \\nATOM    116  CG  GLU A 238      20.532  50.153  -6.466  1.00 75.99           C  \\nATOM    117  CD  GLU A 238      21.924  49.537  -6.452  1.00 80.91           C  \\nATOM    118  OE1 GLU A 238      22.046  48.327  -6.750  1.00 83.02           O  \\nATOM    119  OE2 GLU A 238      22.896  50.262  -6.140  1.00 81.87           O  \\nATOM    120  N   ARG A 239      21.535  51.153  -3.127  1.00 62.34           N  \\nATOM    121  CA  ARG A 239      21.921  52.456  -2.608  1.00 65.10           C  \\nATOM    122  C   ARG A 239      21.474  53.576  -3.548  1.00 64.58           C  \\nATOM    123  O   ARG A 239      21.137  54.671  -3.108  1.00 65.28           O  \\nATOM    124  CB  ARG A 239      23.441  52.481  -2.451  1.00 66.01           C  \\nATOM    125  CG  ARG A 239      24.041  53.792  -1.995  1.00 70.00           C  \\nATOM    126  CD  ARG A 239      25.554  53.725  -2.155  1.00 69.64           C  \\nATOM    127  NE  ARG A 239      26.097  52.511  -1.550  1.00 67.44           N  \\nATOM    128  CZ  ARG A 239      26.127  52.277  -0.243  1.00 65.26           C  \\nATOM    129  NH1 ARG A 239      25.647  53.179   0.601  1.00 65.80           N  \\nATOM    130  NH2 ARG A 239      26.621  51.138   0.220  1.00 60.60           N  \\nATOM    131  N   THR A 240      21.471  53.281  -4.844  1.00 66.16           N  \\nATOM    132  CA  THR A 240      21.093  54.241  -5.880  1.00 67.57           C  \\nATOM    133  C   THR A 240      19.599  54.568  -5.913  1.00 68.41           C  \\nATOM    134  O   THR A 240      19.195  55.617  -6.420  1.00 66.88           O  \\nATOM    135  CB  THR A 240      21.515  53.719  -7.273  1.00 68.91           C  \\nATOM    136  OG1 THR A 240      22.941  53.584  -7.319  1.00 70.67           O  \\nATOM    137  CG2 THR A 240      21.063  54.672  -8.368  1.00 68.90           C  \\nATOM    138  N   ASP A 241      18.786  53.664  -5.376  1.00 69.49           N  \\nATOM    139  CA  ASP A 241      17.336  53.846  -5.339  1.00 70.98           C  \\nATOM    140  C   ASP A 241      16.904  54.991  -4.426  1.00 69.74           C  \\nATOM    141  O   ASP A 241      15.808  55.536  -4.578  1.00 67.19           O  \\nATOM    142  CB  ASP A 241      16.661  52.554  -4.868  1.00 73.87           C  \\nATOM    143  CG  ASP A 241      16.602  51.496  -5.950  1.00 76.31           C  \\nATOM    144  OD1 ASP A 241      17.617  51.293  -6.649  1.00 77.15           O  \\nATOM    145  OD2 ASP A 241      15.537  50.859  -6.093  1.00 78.66           O  \\nATOM    146  N   ILE A 242      17.769  55.355  -3.484  1.00 68.06           N  \\nATOM    147  CA  ILE A 242      17.455  56.411  -2.528  1.00 66.29           C  \\nATOM    148  C   ILE A 242      18.124  57.754  -2.799  1.00 66.55           C  \\nATOM    149  O   ILE A 242      19.335  57.833  -2.996  1.00 66.04           O  \\nATOM    150  CB  ILE A 242      17.825  55.972  -1.100  1.00 64.69           C  \\nATOM    151  CG1 ILE A 242      17.131  54.648  -0.771  1.00 64.66           C  \\nATOM    152  CG2 ILE A 242      17.426  57.053  -0.106  1.00 63.57           C  \\nATOM    153  CD1 ILE A 242      17.619  53.992   0.502  1.00 64.35           C  \\nATOM    154  N   THR A 243      17.317  58.810  -2.800  1.00 67.08           N  \\nATOM    155  CA  THR A 243      17.809  60.165  -3.014  1.00 69.10           C  \\nATOM    156  C   THR A 243      18.158  60.736  -1.640  1.00 67.42           C  \\nATOM    157  O   THR A 243      17.268  61.072  -0.861  1.00 65.86           O  \\nATOM    158  CB  THR A 243      16.723  61.058  -3.663  1.00 71.41           C  \\nATOM    159  OG1 THR A 243      16.308  60.484  -4.907  1.00 74.68           O  \\nATOM    160  CG2 THR A 243      17.256  62.463  -3.912  1.00 70.63           C  \\nATOM    161  N   MET A 244      19.450  60.829  -1.339  1.00 65.51           N  \\nATOM    162  CA  MET A 244      19.892  61.352  -0.052  1.00 64.75           C  \\nATOM    163  C   MET A 244      19.727  62.859   0.027  1.00 67.28           C  \\nATOM    164  O   MET A 244      19.970  63.570  -0.948  1.00 69.88           O  \\nATOM    165  CB  MET A 244      21.354  60.987   0.193  1.00 63.74           C  \\nATOM    166  CG  MET A 244      21.583  59.509   0.383  1.00 61.24           C  \\nATOM    167  SD  MET A 244      20.719  58.905   1.832  1.00 60.02           S  \\nATOM    168  CE  MET A 244      21.935  59.234   3.098  1.00 55.60           C  \\nATOM    169  N   LYS A 245      19.315  63.343   1.194  1.00 67.03           N  \\nATOM    170  CA  LYS A 245      19.118  64.771   1.391  1.00 66.74           C  \\nATOM    171  C   LYS A 245      19.884  65.301   2.594  1.00 67.96           C  \\nATOM    172  O   LYS A 245      20.999  64.863   2.881  1.00 70.43           O  \\nATOM    173  CB  LYS A 245      17.628  65.083   1.547  1.00 66.80           C  \\nATOM    174  CG  LYS A 245      16.826  64.930   0.268  1.00 68.53           C  \\nATOM    175  CD  LYS A 245      15.367  65.268   0.504  1.00 69.73           C  \\nATOM    176  CE  LYS A 245      14.579  65.259  -0.793  1.00 72.27           C  \\nATOM    177  NZ  LYS A 245      13.135  65.564  -0.567  1.00 71.73           N  \\nATOM    178  N   HIS A 246      19.272  66.250   3.293  1.00 67.70           N  \\nATOM    179  CA  HIS A 246      19.872  66.876   4.463  1.00 68.02           C  \\nATOM    180  C   HIS A 246      19.775  65.984   5.697  1.00 65.33           C  \\nATOM    181  O   HIS A 246      19.018  65.011   5.713  1.00 63.74           O  \\nATOM    182  CB  HIS A 246      19.161  68.198   4.740  1.00 71.81           C  \\nATOM    183  CG  HIS A 246      17.680  68.052   4.906  1.00 75.53           C  \\nATOM    184  ND1 HIS A 246      17.115  67.376   5.966  1.00 77.95           N  \\nATOM    185  CD2 HIS A 246      16.651  68.455   4.124  1.00 78.35           C  \\nATOM    186  CE1 HIS A 246      15.800  67.369   5.829  1.00 78.87           C  \\nATOM    187  NE2 HIS A 246      15.493  68.016   4.720  1.00 79.65           N  \\nATOM    188  N   LYS A 247      20.543  66.322   6.729  1.00 61.87           N  \\nATOM    189  CA  LYS A 247      20.520  65.560   7.967  1.00 61.27           C  \\nATOM    190  C   LYS A 247      19.179  65.815   8.632  1.00 60.24           C  \\nATOM    191  O   LYS A 247      18.655  66.930   8.591  1.00 59.45           O  \\nATOM    192  CB  LYS A 247      21.648  65.995   8.900  1.00 60.33           C  \\nATOM    193  CG  LYS A 247      23.024  65.863   8.293  1.00 62.87           C  \\nATOM    194  CD  LYS A 247      24.113  66.062   9.330  1.00 65.68           C  \\nATOM    195  CE  LYS A 247      24.133  64.927  10.338  1.00 63.92           C  \\nATOM    196  NZ  LYS A 247      25.293  65.045  11.268  1.00 66.62           N  \\nATOM    197  N   LEU A 248      18.630  64.773   9.241  1.00 58.44           N  \\nATOM    198  CA  LEU A 248      17.339  64.855   9.904  1.00 59.05           C  \\nATOM    199  C   LEU A 248      17.397  65.620  11.223  1.00 59.56           C  \\nATOM    200  O   LEU A 248      18.366  65.514  11.977  1.00 57.75           O  \\nATOM    201  CB  LEU A 248      16.810  63.440  10.144  1.00 57.98           C  \\nATOM    202  CG  LEU A 248      15.358  63.175   9.766  1.00 55.91           C  \\nATOM    203  CD1 LEU A 248      15.080  63.715   8.372  1.00 58.37           C  \\nATOM    204  CD2 LEU A 248      15.095  61.687   9.832  1.00 56.69           C  \\nATOM    205  N   GLY A 249      16.350  66.397  11.488  1.00 62.66           N  \\nATOM    206  CA  GLY A 249      16.273  67.164  12.720  1.00 66.14           C  \\nATOM    207  C   GLY A 249      17.475  68.037  13.027  1.00 67.59           C  \\nATOM    208  O   GLY A 249      17.993  68.019  14.144  1.00 68.56           O  \\nATOM    209  N   GLY A 250      17.921  68.803  12.039  1.00 68.57           N  \\nATOM    210  CA  GLY A 250      19.059  69.681  12.244  1.00 70.68           C  \\nATOM    211  C   GLY A 250      20.260  69.044  12.920  1.00 69.94           C  \\nATOM    212  O   GLY A 250      21.095  69.747  13.487  1.00 71.58           O  \\nATOM    213  N   GLY A 251      20.346  67.717  12.877  1.00 69.04           N  \\nATOM    214  CA  GLY A 251      21.479  67.032  13.477  1.00 63.27           C  \\nATOM    215  C   GLY A 251      21.268  66.389  14.837  1.00 61.05           C  \\nATOM    216  O   GLY A 251      22.176  65.729  15.346  1.00 58.23           O  \\nATOM    217  N   GLN A 252      20.087  66.561  15.426  1.00 59.44           N  \\nATOM    218  CA  GLN A 252      19.812  65.988  16.744  1.00 57.04           C  \\nATOM    219  C   GLN A 252      19.933  64.465  16.802  1.00 56.80           C  \\nATOM    220  O   GLN A 252      20.284  63.907  17.844  1.00 56.74           O  \\nATOM    221  CB  GLN A 252      18.423  66.423  17.243  1.00 60.05           C  \\nATOM    222  CG  GLN A 252      17.242  65.992  16.376  1.00 62.36           C  \\nATOM    223  CD  GLN A 252      15.912  66.572  16.857  1.00 64.34           C  \\nATOM    224  OE1 GLN A 252      15.520  66.394  18.011  1.00 66.78           O  \\nATOM    225  NE2 GLN A 252      15.213  67.266  15.966  1.00 61.51           N  \\nATOM    226  N   TYR A 253      19.661  63.788  15.690  1.00 53.49           N  \\nATOM    227  CA  TYR A 253      19.748  62.330  15.674  1.00 51.78           C  \\nATOM    228  C   TYR A 253      21.114  61.802  15.262  1.00 51.62           C  \\nATOM    229  O   TYR A 253      21.383  60.608  15.365  1.00 51.47           O  \\nATOM    230  CB  TYR A 253      18.684  61.745  14.751  1.00 48.86           C  \\nATOM    231  CG  TYR A 253      17.281  62.111  15.155  1.00 43.94           C  \\nATOM    232  CD1 TYR A 253      16.601  63.148  14.524  1.00 40.72           C  \\nATOM    233  CD2 TYR A 253      16.635  61.427  16.183  1.00 47.98           C  \\nATOM    234  CE1 TYR A 253      15.306  63.495  14.905  1.00 43.42           C  \\nATOM    235  CE2 TYR A 253      15.344  61.767  16.574  1.00 46.35           C  \\nATOM    236  CZ  TYR A 253      14.687  62.799  15.932  1.00 42.81           C  \\nATOM    237  OH  TYR A 253      13.413  63.123  16.323  1.00 48.55           O  \\nATOM    238  N   GLY A 254      21.979  62.693  14.799  1.00 53.67           N  \\nATOM    239  CA  GLY A 254      23.299  62.270  14.381  1.00 51.94           C  \\nATOM    240  C   GLY A 254      23.345  62.070  12.881  1.00 52.22           C  \\nATOM    241  O   GLY A 254      22.706  62.813  12.134  1.00 51.39           O  \\nATOM    242  N   GLU A 255      24.092  61.061  12.442  1.00 49.22           N  \\nATOM    243  CA  GLU A 255      24.235  60.763  11.023  1.00 49.63           C  \\nATOM    244  C   GLU A 255      22.998  60.105  10.418  1.00 48.16           C  \\nATOM    245  O   GLU A 255      23.084  59.029   9.822  1.00 46.17           O  \\nATOM    246  CB  GLU A 255      25.452  59.864  10.795  1.00 53.08           C  \\nATOM    247  CG  GLU A 255      26.788  60.532  11.102  1.00 61.51           C  \\nATOM    248  CD  GLU A 255      27.021  61.787  10.274  1.00 66.06           C  \\nATOM    249  OE1 GLU A 255      26.880  61.719   9.033  1.00 66.28           O  \\nATOM    250  OE2 GLU A 255      27.350  62.840  10.863  1.00 69.86           O  \\nATOM    251  N   VAL A 256      21.848  60.752  10.578  1.00 43.76           N  \\nATOM    252  CA  VAL A 256      20.605  60.238  10.024  1.00 41.44           C  \\nATOM    253  C   VAL A 256      20.060  61.267   9.052  1.00 42.09           C  \\nATOM    254  O   VAL A 256      19.820  62.413   9.423  1.00 43.44           O  \\nATOM    255  CB  VAL A 256      19.565  59.973  11.120  1.00 40.49           C  \\nATOM    256  CG1 VAL A 256      18.282  59.446  10.489  1.00 36.23           C  \\nATOM    257  CG2 VAL A 256      20.120  58.966  12.128  1.00 35.69           C  \\nATOM    258  N   TYR A 257      19.860  60.853   7.807  1.00 42.35           N  \\nATOM    259  CA  TYR A 257      19.384  61.766   6.779  1.00 44.91           C  \\nATOM    260  C   TYR A 257      17.996  61.465   6.244  1.00 45.99           C  \\nATOM    261  O   TYR A 257      17.520  60.329   6.295  1.00 45.15           O  \\nATOM    262  CB  TYR A 257      20.361  61.774   5.592  1.00 43.74           C  \\nATOM    263  CG  TYR A 257      21.788  62.118   5.956  1.00 44.36           C  \\nATOM    264  CD1 TYR A 257      22.560  61.253   6.733  1.00 44.33           C  \\nATOM    265  CD2 TYR A 257      22.361  63.316   5.539  1.00 46.49           C  \\nATOM    266  CE1 TYR A 257      23.862  61.575   7.091  1.00 49.80           C  \\nATOM    267  CE2 TYR A 257      23.667  63.652   5.891  1.00 49.96           C  \\nATOM    268  CZ  TYR A 257      24.410  62.780   6.670  1.00 53.56           C  \\nATOM    269  OH  TYR A 257      25.687  63.126   7.056  1.00 56.22           O  \\nATOM    270  N   GLU A 258      17.349  62.505   5.735  1.00 45.89           N  \\nATOM    271  CA  GLU A 258      16.044  62.345   5.124  1.00 50.20           C  \\nATOM    272  C   GLU A 258      16.372  61.849   3.723  1.00 49.54           C  \\nATOM    273  O   GLU A 258      17.372  62.259   3.133  1.00 48.75           O  \\nATOM    274  CB  GLU A 258      15.304  63.681   5.030  1.00 51.89           C  \\nATOM    275  CG  GLU A 258      13.954  63.575   4.327  1.00 57.93           C  \\nATOM    276  CD  GLU A 258      13.162  64.871   4.364  1.00 64.20           C  \\nATOM    277  OE1 GLU A 258      13.608  65.863   3.751  1.00 67.16           O  \\nATOM    278  OE2 GLU A 258      12.091  64.895   5.011  1.00 66.36           O  \\nATOM    279  N   GLY A 259      15.542  60.964   3.194  1.00 50.84           N  \\nATOM    280  CA  GLY A 259      15.795  60.449   1.867  1.00 53.70           C  \\nATOM    281  C   GLY A 259      14.512  60.212   1.109  1.00 55.83           C  \\nATOM    282  O   GLY A 259      13.420  60.274   1.676  1.00 56.23           O  \\nATOM    283  N   VAL A 260      14.643  59.947  -0.184  1.00 57.31           N  \\nATOM    284  CA  VAL A 260      13.485  59.689  -1.020  1.00 58.97           C  \\nATOM    285  C   VAL A 260      13.676  58.371  -1.750  1.00 60.14           C  \\nATOM    286  O   VAL A 260      14.567  58.242  -2.588  1.00 59.15           O  \\nATOM    287  CB  VAL A 260      13.285  60.802  -2.064  1.00 59.26           C  \\nATOM    288  CG1 VAL A 260      11.971  60.590  -2.798  1.00 59.57           C  \\nATOM    289  CG2 VAL A 260      13.308  62.162  -1.385  1.00 60.54           C  \\nATOM    290  N   TRP A 261      12.853  57.384  -1.419  1.00 60.87           N  \\nATOM    291  CA  TRP A 261      12.949  56.099  -2.085  1.00 62.33           C  \\nATOM    292  C   TRP A 261      12.224  56.267  -3.418  1.00 64.33           C  \\nATOM    293  O   TRP A 261      11.043  55.944  -3.544  1.00 62.30           O  \\nATOM    294  CB  TRP A 261      12.292  55.003  -1.243  1.00 62.64           C  \\nATOM    295  CG  TRP A 261      12.711  53.618  -1.644  1.00 64.19           C  \\nATOM    296  CD1 TRP A 261      13.631  53.284  -2.598  1.00 64.54           C  \\nATOM    297  CD2 TRP A 261      12.244  52.382  -1.088  1.00 66.16           C  \\nATOM    298  NE1 TRP A 261      13.766  51.920  -2.670  1.00 65.70           N  \\nATOM    299  CE2 TRP A 261      12.927  51.340  -1.756  1.00 67.43           C  \\nATOM    300  CE3 TRP A 261      11.315  52.053  -0.093  1.00 66.69           C  \\nATOM    301  CZ2 TRP A 261      12.712  49.991  -1.458  1.00 67.72           C  \\nATOM    302  CZ3 TRP A 261      11.099  50.711   0.204  1.00 67.55           C  \\nATOM    303  CH2 TRP A 261      11.795  49.697  -0.479  1.00 68.98           C  \\nATOM    304  N   LYS A 262      12.953  56.799  -4.396  1.00 67.46           N  \\nATOM    305  CA  LYS A 262      12.450  57.065  -5.743  1.00 70.51           C  \\nATOM    306  C   LYS A 262      11.337  56.135  -6.213  1.00 71.37           C  \\nATOM    307  O   LYS A 262      10.214  56.571  -6.470  1.00 70.06           O  \\nATOM    308  CB  LYS A 262      13.600  56.991  -6.748  1.00 72.64           C  \\nATOM    309  CG  LYS A 262      14.771  57.914  -6.458  1.00 74.62           C  \\nATOM    310  CD  LYS A 262      15.854  57.726  -7.509  1.00 76.61           C  \\nATOM    311  CE  LYS A 262      17.029  58.656  -7.290  1.00 79.97           C  \\nATOM    312  NZ  LYS A 262      18.071  58.461  -8.339  1.00 81.88           N  \\nATOM    313  N   LYS A 263      11.672  54.855  -6.330  1.00 73.06           N  \\nATOM    314  CA  LYS A 263      10.748  53.823  -6.789  1.00 75.17           C  \\nATOM    315  C   LYS A 263       9.336  53.918  -6.208  1.00 75.34           C  \\nATOM    316  O   LYS A 263       8.398  53.340  -6.755  1.00 75.96           O  \\nATOM    317  CB  LYS A 263      11.337  52.444  -6.481  1.00 76.94           C  \\nATOM    318  CG  LYS A 263      10.609  51.282  -7.132  1.00 78.96           C  \\nATOM    319  CD  LYS A 263      11.225  49.950  -6.724  1.00 81.00           C  \\nATOM    320  CE  LYS A 263      12.696  49.868  -7.100  1.00 82.63           C  \\nATOM    321  NZ  LYS A 263      13.313  48.592  -6.636  1.00 83.28           N  \\nATOM    322  N   TYR A 264       9.178  54.639  -5.102  1.00 74.56           N  \\nATOM    323  CA  TYR A 264       7.865  54.775  -4.486  1.00 72.45           C  \\nATOM    324  C   TYR A 264       7.554  56.210  -4.067  1.00 70.42           C  \\nATOM    325  O   TYR A 264       6.547  56.465  -3.403  1.00 67.50           O  \\nATOM    326  CB  TYR A 264       7.758  53.846  -3.274  1.00 76.26           C  \\nATOM    327  CG  TYR A 264       8.166  52.418  -3.566  1.00 79.90           C  \\nATOM    328  CD1 TYR A 264       9.509  52.042  -3.564  1.00 82.83           C  \\nATOM    329  CD2 TYR A 264       7.214  51.450  -3.881  1.00 81.18           C  \\nATOM    330  CE1 TYR A 264       9.895  50.738  -3.870  1.00 83.07           C  \\nATOM    331  CE2 TYR A 264       7.588  50.143  -4.191  1.00 82.35           C  \\nATOM    332  CZ  TYR A 264       8.930  49.794  -4.184  1.00 83.29           C  \\nATOM    333  OH  TYR A 264       9.310  48.507  -4.499  1.00 84.17           O  \\nATOM    334  N   SER A 265       8.411  57.146  -4.466  1.00 68.74           N  \\nATOM    335  CA  SER A 265       8.224  58.553  -4.118  1.00 67.51           C  \\nATOM    336  C   SER A 265       7.960  58.633  -2.618  1.00 64.13           C  \\nATOM    337  O   SER A 265       7.168  59.452  -2.153  1.00 65.76           O  \\nATOM    338  CB  SER A 265       7.032  59.133  -4.882  1.00 69.42           C  \\nATOM    339  OG  SER A 265       7.171  58.920  -6.275  1.00 72.47           O  \\nATOM    340  N   LEU A 266       8.639  57.770  -1.872  1.00 58.48           N  \\nATOM    341  CA  LEU A 266       8.480  57.695  -0.429  1.00 53.91           C  \\nATOM    342  C   LEU A 266       9.614  58.376   0.328  1.00 51.41           C  \\nATOM    343  O   LEU A 266      10.793  58.124   0.062  1.00 50.02           O  \\nATOM    344  CB  LEU A 266       8.401  56.228  -0.006  1.00 51.74           C  \\nATOM    345  CG  LEU A 266       8.126  55.926   1.468  1.00 53.35           C  \\nATOM    346  CD1 LEU A 266       6.696  56.323   1.812  1.00 50.66           C  \\nATOM    347  CD2 LEU A 266       8.340  54.444   1.732  1.00 48.73           C  \\nATOM    348  N   THR A 267       9.252  59.247   1.266  1.00 47.07           N  \\nATOM    349  CA  THR A 267      10.247  59.930   2.081  1.00 44.50           C  \\nATOM    350  C   THR A 267      10.635  58.958   3.188  1.00 41.84           C  \\nATOM    351  O   THR A 267       9.771  58.382   3.848  1.00 40.72           O  \\nATOM    352  CB  THR A 267       9.691  61.212   2.708  1.00 45.02           C  \\nATOM    353  OG1 THR A 267       9.328  62.129   1.672  1.00 46.49           O  \\nATOM    354  CG2 THR A 267      10.736  61.856   3.606  1.00 40.98           C  \\nATOM    355  N   VAL A 268      11.935  58.779   3.386  1.00 37.58           N  \\nATOM    356  CA  VAL A 268      12.429  57.849   4.387  1.00 36.97           C  \\nATOM    357  C   VAL A 268      13.546  58.467   5.214  1.00 39.82           C  \\nATOM    358  O   VAL A 268      14.052  59.543   4.891  1.00 39.44           O  \\nATOM    359  CB  VAL A 268      12.996  56.566   3.717  1.00 36.94           C  \\nATOM    360  CG1 VAL A 268      11.950  55.938   2.803  1.00 39.02           C  \\nATOM    361  CG2 VAL A 268      14.248  56.907   2.925  1.00 33.41           C  \\nATOM    362  N   ALA A 269      13.915  57.776   6.289  1.00 36.76           N  \\nATOM    363  CA  ALA A 269      15.004  58.208   7.156  1.00 35.79           C  \\nATOM    364  C   ALA A 269      16.121  57.206   6.899  1.00 36.85           C  \\nATOM    365  O   ALA A 269      15.887  56.000   6.889  1.00 36.10           O  \\nATOM    366  CB  ALA A 269      14.583  58.157   8.619  1.00 28.49           C  \\nATOM    367  N   VAL A 270      17.332  57.702   6.686  1.00 38.68           N  \\nATOM    368  CA  VAL A 270      18.457  56.827   6.414  1.00 39.33           C  \\nATOM    369  C   VAL A 270      19.606  57.048   7.389  1.00 41.20           C  \\nATOM    370  O   VAL A 270      20.265  58.088   7.367  1.00 39.20           O  \\nATOM    371  CB  VAL A 270      18.978  57.033   4.967  1.00 41.50           C  \\nATOM    372  CG1 VAL A 270      20.112  56.061   4.671  1.00 44.19           C  \\nATOM    373  CG2 VAL A 270      17.843  56.838   3.971  1.00 40.59           C  \\nATOM    374  N   LYS A 271      19.832  56.072   8.262  1.00 41.77           N  \\nATOM    375  CA  LYS A 271      20.934  56.165   9.198  1.00 42.80           C  \\nATOM    376  C   LYS A 271      22.155  55.632   8.458  1.00 48.02           C  \\nATOM    377  O   LYS A 271      22.061  54.651   7.716  1.00 44.88           O  \\nATOM    378  CB  LYS A 271      20.684  55.319  10.447  1.00 41.74           C  \\nATOM    379  CG  LYS A 271      21.824  55.414  11.465  1.00 40.61           C  \\nATOM    380  CD  LYS A 271      21.542  54.654  12.745  1.00 39.04           C  \\nATOM    381  CE  LYS A 271      22.647  54.906  13.769  1.00 43.13           C  \\nATOM    382  NZ  LYS A 271      22.429  54.229  15.083  1.00 41.62           N  \\nATOM    383  N   THR A 272      23.292  56.289   8.642  1.00 50.52           N  \\nATOM    384  CA  THR A 272      24.514  55.857   7.990  1.00 57.69           C  \\nATOM    385  C   THR A 272      25.669  55.875   8.981  1.00 61.64           C  \\nATOM    386  O   THR A 272      25.496  56.238  10.146  1.00 57.70           O  \\nATOM    387  CB  THR A 272      24.858  56.749   6.786  1.00 57.28           C  \\nATOM    388  OG1 THR A 272      26.062  56.271   6.175  1.00 61.89           O  \\nATOM    389  CG2 THR A 272      25.048  58.195   7.223  1.00 59.11           C  \\nATOM    390  N   LEU A 273      26.848  55.476   8.520  1.00 66.84           N  \\nATOM    391  CA  LEU A 273      28.011  55.436   9.391  1.00 73.77           C  \\nATOM    392  C   LEU A 273      29.035  56.489   8.986  1.00 78.92           C  \\nATOM    393  O   LEU A 273      29.333  56.657   7.801  1.00 78.87           O  \\nATOM    394  CB  LEU A 273      28.630  54.040   9.344  1.00 72.50           C  \\nATOM    395  CG  LEU A 273      29.473  53.616  10.542  1.00 73.48           C  \\nATOM    396  CD1 LEU A 273      28.739  53.933  11.834  1.00 71.62           C  \\nATOM    397  CD2 LEU A 273      29.764  52.126  10.441  1.00 74.69           C  \\nATOM    398  N   LYS A 274      29.566  57.202   9.976  1.00 85.21           N  \\nATOM    399  CA  LYS A 274      30.554  58.245   9.722  1.00 91.78           C  \\nATOM    400  C   LYS A 274      31.666  57.720   8.818  1.00 95.68           C  \\nATOM    401  O   LYS A 274      31.762  56.518   8.568  1.00 96.61           O  \\nATOM    402  CB  LYS A 274      31.163  58.753  11.035  1.00 91.97           C  \\nATOM    403  CG  LYS A 274      30.158  59.196  12.091  1.00 92.15           C  \\nATOM    404  CD  LYS A 274      29.666  58.017  12.918  1.00 92.01           C  \\nATOM    405  CE  LYS A 274      28.856  58.484  14.115  1.00 93.16           C  \\nATOM    406  NZ  LYS A 274      28.526  57.359  15.036  1.00 94.89           N  \\nATOM    407  N   GLU A 275      32.507  58.630   8.339  1.00 99.49           N  \\nATOM    408  CA  GLU A 275      33.609  58.280   7.451  1.00103.37           C  \\nATOM    409  C   GLU A 275      34.483  57.161   8.014  1.00104.67           C  \\nATOM    410  O   GLU A 275      35.564  57.412   8.545  1.00104.96           O  \\nATOM    411  CB  GLU A 275      34.466  59.518   7.180  1.00105.54           C  \\nATOM    412  CG  GLU A 275      33.665  60.798   6.942  1.00109.06           C  \\nATOM    413  CD  GLU A 275      32.617  60.658   5.849  1.00110.66           C  \\nATOM    414  OE1 GLU A 275      31.646  59.893   6.041  1.00112.02           O  \\nATOM    415  OE2 GLU A 275      32.763  61.316   4.797  1.00111.60           O  \\nATOM    416  N   ASP A 276      34.004  55.927   7.891  1.00106.84           N  \\nATOM    417  CA  ASP A 276      34.727  54.755   8.374  1.00108.62           C  \\nATOM    418  C   ASP A 276      35.102  54.870   9.850  1.00108.52           C  \\nATOM    419  O   ASP A 276      36.228  55.235  10.189  1.00108.58           O  \\nATOM    420  CB  ASP A 276      35.985  54.545   7.529  1.00110.36           C  \\nATOM    421  CG  ASP A 276      35.673  54.388   6.052  1.00112.32           C  \\nATOM    422  OD1 ASP A 276      36.624  54.333   5.244  1.00114.19           O  \\nATOM    423  OD2 ASP A 276      34.476  54.318   5.699  1.00112.05           O  \\nATOM    424  N   THR A 277      34.150  54.548  10.721  1.00108.10           N  \\nATOM    425  CA  THR A 277      34.370  54.612  12.161  1.00107.87           C  \\nATOM    426  C   THR A 277      34.409  53.212  12.772  1.00107.13           C  \\nATOM    427  O   THR A 277      33.844  52.268  12.221  1.00108.80           O  \\nATOM    428  CB  THR A 277      33.265  55.442  12.851  1.00108.53           C  \\nATOM    429  OG1 THR A 277      33.275  56.775  12.324  1.00108.64           O  \\nATOM    430  CG2 THR A 277      33.494  55.500  14.356  1.00109.10           C  \\nATOM    431  N   MET A 278      35.078  53.094  13.914  1.00105.49           N  \\nATOM    432  CA  MET A 278      35.227  51.822  14.617  1.00104.49           C  \\nATOM    433  C   MET A 278      33.928  51.327  15.249  1.00102.58           C  \\nATOM    434  O   MET A 278      33.946  50.759  16.340  1.00101.99           O  \\nATOM    435  CB  MET A 278      36.282  51.969  15.713  1.00106.87           C  \\nATOM    436  CG  MET A 278      37.537  52.705  15.280  1.00108.96           C  \\nATOM    437  SD  MET A 278      38.556  53.175  16.690  1.00112.57           S  \\nATOM    438  CE  MET A 278      37.747  54.702  17.197  1.00108.93           C  \\nATOM    439  N   GLU A 279      32.805  51.532  14.570  1.00100.41           N  \\nATOM    440  CA  GLU A 279      31.519  51.104  15.108  1.00 97.21           C  \\nATOM    441  C   GLU A 279      30.730  50.224  14.150  1.00 93.50           C  \\nATOM    442  O   GLU A 279      29.541  49.985  14.360  1.00 93.12           O  \\nATOM    443  CB  GLU A 279      30.676  52.323  15.477  1.00100.48           C  \\nATOM    444  CG  GLU A 279      31.311  53.221  16.520  1.00104.42           C  \\nATOM    445  CD  GLU A 279      30.496  54.471  16.773  1.00107.14           C  \\nATOM    446  OE1 GLU A 279      30.300  55.255  15.820  1.00108.12           O  \\nATOM    447  OE2 GLU A 279      30.050  54.667  17.924  1.00109.40           O  \\nATOM    448  N   VAL A 280      31.389  49.744  13.102  1.00 88.61           N  \\nATOM    449  CA  VAL A 280      30.730  48.892  12.121  1.00 84.21           C  \\nATOM    450  C   VAL A 280      30.077  47.691  12.796  1.00 81.38           C  \\nATOM    451  O   VAL A 280      28.927  47.354  12.513  1.00 81.23           O  \\nATOM    452  CB  VAL A 280      31.731  48.383  11.065  1.00 83.29           C  \\nATOM    453  CG1 VAL A 280      31.025  47.472  10.077  1.00 82.30           C  \\nATOM    454  CG2 VAL A 280      32.361  49.562  10.341  1.00 83.12           C  \\nATOM    455  N   GLU A 281      30.817  47.056  13.696  1.00 77.19           N  \\nATOM    456  CA  GLU A 281      30.320  45.890  14.412  1.00 74.61           C  \\nATOM    457  C   GLU A 281      28.995  46.170  15.115  1.00 71.94           C  \\nATOM    458  O   GLU A 281      28.087  45.340  15.101  1.00 69.85           O  \\nATOM    459  CB  GLU A 281      31.364  45.429  15.434  1.00 78.87           C  \\nATOM    460  CG  GLU A 281      30.971  44.193  16.225  1.00 83.08           C  \\nATOM    461  CD  GLU A 281      30.569  43.035  15.331  1.00 87.75           C  \\nATOM    462  OE1 GLU A 281      31.338  42.699  14.405  1.00 89.34           O  \\nATOM    463  OE2 GLU A 281      29.484  42.459  15.556  1.00 90.59           O  \\nATOM    464  N   GLU A 282      28.886  47.343  15.729  1.00 68.51           N  \\nATOM    465  CA  GLU A 282      27.671  47.709  16.442  1.00 65.04           C  \\nATOM    466  C   GLU A 282      26.552  48.050  15.463  1.00 62.24           C  \\nATOM    467  O   GLU A 282      25.398  47.667  15.660  1.00 58.75           O  \\nATOM    468  CB  GLU A 282      27.936  48.905  17.358  1.00 66.22           C  \\nATOM    469  CG  GLU A 282      27.076  48.896  18.606  1.00 71.71           C  \\nATOM    470  CD  GLU A 282      27.249  47.612  19.405  1.00 74.81           C  \\nATOM    471  OE1 GLU A 282      28.397  47.315  19.803  1.00 73.26           O  \\nATOM    472  OE2 GLU A 282      26.244  46.900  19.631  1.00 74.49           O  \\nATOM    473  N   PHE A 283      26.911  48.770  14.407  1.00 58.85           N  \\nATOM    474  CA  PHE A 283      25.960  49.175  13.384  1.00 57.27           C  \\nATOM    475  C   PHE A 283      25.299  47.930  12.788  1.00 59.11           C  \\nATOM    476  O   PHE A 283      24.072  47.798  12.798  1.00 57.92           O  \\nATOM    477  CB  PHE A 283      26.688  49.957  12.291  1.00 54.32           C  \\nATOM    478  CG  PHE A 283      25.777  50.578  11.276  1.00 55.65           C  \\nATOM    479  CD1 PHE A 283      25.266  51.856  11.470  1.00 56.26           C  \\nATOM    480  CD2 PHE A 283      25.428  49.885  10.122  1.00 56.39           C  \\nATOM    481  CE1 PHE A 283      24.421  52.440  10.527  1.00 57.86           C  \\nATOM    482  CE2 PHE A 283      24.582  50.455   9.172  1.00 57.75           C  \\nATOM    483  CZ  PHE A 283      24.078  51.736   9.374  1.00 56.56           C  \\nATOM    484  N   LEU A 284      26.119  47.015  12.278  1.00 57.97           N  \\nATOM    485  CA  LEU A 284      25.608  45.789  11.683  1.00 56.43           C  \\nATOM    486  C   LEU A 284      24.746  44.988  12.649  1.00 53.73           C  \\nATOM    487  O   LEU A 284      23.787  44.344  12.231  1.00 53.01           O  \\nATOM    488  CB  LEU A 284      26.756  44.918  11.167  1.00 56.46           C  \\nATOM    489  CG  LEU A 284      27.179  45.134   9.710  1.00 60.06           C  \\nATOM    490  CD1 LEU A 284      27.690  46.550   9.510  1.00 63.96           C  \\nATOM    491  CD2 LEU A 284      28.256  44.125   9.349  1.00 63.47           C  \\nATOM    492  N   LYS A 285      25.076  45.028  13.936  1.00 50.01           N  \\nATOM    493  CA  LYS A 285      24.290  44.291  14.920  1.00 50.13           C  \\nATOM    494  C   LYS A 285      22.896  44.895  15.080  1.00 48.51           C  \\nATOM    495  O   LYS A 285      21.926  44.179  15.351  1.00 45.48           O  \\nATOM    496  CB  LYS A 285      24.987  44.271  16.282  1.00 53.64           C  \\nATOM    497  CG  LYS A 285      24.178  43.527  17.338  1.00 59.24           C  \\nATOM    498  CD  LYS A 285      24.916  43.371  18.656  1.00 63.43           C  \\nATOM    499  CE  LYS A 285      24.130  42.457  19.594  1.00 66.18           C  \\nATOM    500  NZ  LYS A 285      24.848  42.170  20.868  1.00 67.20           N  \\nATOM    501  N   GLU A 286      22.803  46.214  14.922  1.00 46.42           N  \\nATOM    502  CA  GLU A 286      21.524  46.906  15.044  1.00 43.23           C  \\nATOM    503  C   GLU A 286      20.647  46.456  13.885  1.00 41.75           C  \\nATOM    504  O   GLU A 286      19.487  46.081  14.068  1.00 39.37           O  \\nATOM    505  CB  GLU A 286      21.718  48.422  14.968  1.00 45.84           C  \\nATOM    506  CG  GLU A 286      20.487  49.204  15.395  1.00 48.48           C  \\nATOM    507  CD  GLU A 286      20.604  50.692  15.147  1.00 48.38           C  \\nATOM    508  OE1 GLU A 286      21.742  51.204  15.070  1.00 54.00           O  \\nATOM    509  OE2 GLU A 286      19.551  51.355  15.043  1.00 46.58           O  \\nATOM    510  N   ALA A 287      21.229  46.505  12.692  1.00 40.04           N  \\nATOM    511  CA  ALA A 287      20.555  46.106  11.468  1.00 43.54           C  \\nATOM    512  C   ALA A 287      19.992  44.691  11.594  1.00 43.53           C  \\nATOM    513  O   ALA A 287      18.834  44.448  11.257  1.00 43.63           O  \\nATOM    514  CB  ALA A 287      21.528  46.185  10.299  1.00 40.83           C  \\nATOM    515  N   ALA A 288      20.810  43.767  12.093  1.00 39.76           N  \\nATOM    516  CA  ALA A 288      20.389  42.379  12.256  1.00 41.18           C  \\nATOM    517  C   ALA A 288      19.234  42.281  13.239  1.00 41.57           C  \\nATOM    518  O   ALA A 288      18.293  41.508  13.041  1.00 40.79           O  \\nATOM    519  CB  ALA A 288      21.561  41.525  12.742  1.00 42.62           C  \\nATOM    520  N   VAL A 289      19.318  43.065  14.308  1.00 41.14           N  \\nATOM    521  CA  VAL A 289      18.285  43.085  15.329  1.00 40.67           C  \\nATOM    522  C   VAL A 289      16.953  43.579  14.765  1.00 38.56           C  \\nATOM    523  O   VAL A 289      15.903  43.020  15.066  1.00 39.21           O  \\nATOM    524  CB  VAL A 289      18.707  43.995  16.502  1.00 46.12           C  \\nATOM    525  CG1 VAL A 289      17.520  44.285  17.407  1.00 45.06           C  \\nATOM    526  CG2 VAL A 289      19.814  43.321  17.290  1.00 49.75           C  \\nATOM    527  N   MET A 290      17.004  44.621  13.941  1.00 36.17           N  \\nATOM    528  CA  MET A 290      15.794  45.198  13.359  1.00 37.51           C  \\nATOM    529  C   MET A 290      15.089  44.287  12.356  1.00 39.07           C  \\nATOM    530  O   MET A 290      13.885  44.419  12.112  1.00 35.14           O  \\nATOM    531  CB  MET A 290      16.127  46.535  12.701  1.00 33.63           C  \\nATOM    532  CG  MET A 290      16.531  47.613  13.704  1.00 36.33           C  \\nATOM    533  SD  MET A 290      16.980  49.135  12.889  1.00 39.96           S  \\nATOM    534  CE  MET A 290      18.684  48.806  12.519  1.00 51.96           C  \\nATOM    535  N   LYS A 291      15.846  43.365  11.775  1.00 36.43           N  \\nATOM    536  CA  LYS A 291      15.300  42.431  10.814  1.00 36.81           C  \\nATOM    537  C   LYS A 291      14.493  41.367  11.541  1.00 39.17           C  \\nATOM    538  O   LYS A 291      13.707  40.654  10.925  1.00 41.19           O  \\nATOM    539  CB  LYS A 291      16.433  41.759  10.034  1.00 34.17           C  \\nATOM    540  CG  LYS A 291      17.275  42.705   9.206  1.00 33.05           C  \\nATOM    541  CD  LYS A 291      18.438  41.964   8.574  1.00 35.08           C  \\nATOM    542  CE  LYS A 291      19.265  42.882   7.693  1.00 36.71           C  \\nATOM    543  NZ  LYS A 291      20.480  42.180   7.195  1.00 37.23           N  \\nATOM    544  N   GLU A 292      14.688  41.272  12.854  1.00 41.09           N  \\nATOM    545  CA  GLU A 292      14.014  40.271  13.674  1.00 44.08           C  \\nATOM    546  C   GLU A 292      12.728  40.757  14.327  1.00 46.84           C  \\nATOM    547  O   GLU A 292      12.006  39.968  14.937  1.00 44.93           O  \\nATOM    548  CB  GLU A 292      14.956  39.782  14.781  1.00 51.61           C  \\nATOM    549  CG  GLU A 292      16.395  39.578  14.333  1.00 61.83           C  \\nATOM    550  CD  GLU A 292      16.547  38.442  13.343  1.00 70.84           C  \\nATOM    551  OE1 GLU A 292      17.569  38.419  12.621  1.00 74.11           O  \\nATOM    552  OE2 GLU A 292      15.652  37.568  13.296  1.00 73.85           O  \\nATOM    553  N   ILE A 293      12.433  42.047  14.221  1.00 45.34           N  \\nATOM    554  CA  ILE A 293      11.224  42.549  14.854  1.00 43.04           C  \\nATOM    555  C   ILE A 293      10.281  43.289  13.921  1.00 39.79           C  \\nATOM    556  O   ILE A 293      10.700  43.964  12.982  1.00 41.36           O  \\nATOM    557  CB  ILE A 293      11.572  43.447  16.073  1.00 44.39           C  \\nATOM    558  CG1 ILE A 293      12.469  44.606  15.649  1.00 42.85           C  \\nATOM    559  CG2 ILE A 293      12.283  42.617  17.136  1.00 43.52           C  \\nATOM    560  CD1 ILE A 293      13.039  45.400  16.830  1.00 38.44           C  \\nATOM    561  N   LYS A 294       8.992  43.131  14.177  1.00 38.02           N  \\nATOM    562  CA  LYS A 294       7.971  43.784  13.378  1.00 38.05           C  \\nATOM    563  C   LYS A 294       6.726  43.914  14.232  1.00 37.49           C  \\nATOM    564  O   LYS A 294       6.274  42.954  14.849  1.00 41.54           O  \\nATOM    565  CB  LYS A 294       7.655  42.972  12.121  1.00 39.82           C  \\nATOM    566  CG  LYS A 294       6.631  43.639  11.217  1.00 47.36           C  \\nATOM    567  CD  LYS A 294       6.320  42.805   9.988  1.00 53.53           C  \\nATOM    568  CE  LYS A 294       5.334  43.533   9.081  1.00 59.69           C  \\nATOM    569  NZ  LYS A 294       4.940  42.705   7.902  1.00 65.62           N  \\nATOM    570  N   HIS A 295       6.178  45.117  14.260  1.00 39.05           N  \\nATOM    571  CA  HIS A 295       4.997  45.406  15.052  1.00 36.19           C  \\nATOM    572  C   HIS A 295       4.506  46.778  14.604  1.00 36.03           C  \\nATOM    573  O   HIS A 295       5.309  47.658  14.285  1.00 34.30           O  \\nATOM    574  CB  HIS A 295       5.381  45.406  16.534  1.00 33.78           C  \\nATOM    575  CG  HIS A 295       4.229  45.620  17.464  1.00 39.38           C  \\nATOM    576  ND1 HIS A 295       3.714  46.870  17.737  1.00 35.33           N  \\nATOM    577  CD2 HIS A 295       3.500  44.744  18.194  1.00 35.39           C  \\nATOM    578  CE1 HIS A 295       2.722  46.755  18.601  1.00 34.05           C  \\nATOM    579  NE2 HIS A 295       2.572  45.476  18.894  1.00 35.13           N  \\nATOM    580  N   PRO A 296       3.178  46.976  14.561  1.00 38.60           N  \\nATOM    581  CA  PRO A 296       2.626  48.266  14.136  1.00 34.76           C  \\nATOM    582  C   PRO A 296       3.129  49.462  14.933  1.00 31.90           C  \\nATOM    583  O   PRO A 296       3.106  50.585  14.435  1.00 29.90           O  \\nATOM    584  CB  PRO A 296       1.117  48.063  14.279  1.00 34.42           C  \\nATOM    585  CG  PRO A 296       1.016  47.064  15.393  1.00 40.77           C  \\nATOM    586  CD  PRO A 296       2.106  46.080  15.036  1.00 36.24           C  \\nATOM    587  N   ASN A 297       3.585  49.233  16.160  1.00 28.46           N  \\nATOM    588  CA  ASN A 297       4.067  50.349  16.959  1.00 31.31           C  \\nATOM    589  C   ASN A 297       5.577  50.390  17.213  1.00 31.59           C  \\nATOM    590  O   ASN A 297       6.038  50.962  18.201  1.00 29.62           O  \\nATOM    591  CB  ASN A 297       3.282  50.437  18.270  1.00 30.26           C  \\nATOM    592  CG  ASN A 297       1.792  50.647  18.031  1.00 35.25           C  \\nATOM    593  OD1 ASN A 297       0.991  49.727  18.183  1.00 33.42           O  \\nATOM    594  ND2 ASN A 297       1.420  51.858  17.632  1.00 30.25           N  \\nATOM    595  N   LEU A 298       6.337  49.775  16.309  1.00 31.76           N  \\nATOM    596  CA  LEU A 298       7.794  49.804  16.369  1.00 30.17           C  \\nATOM    597  C   LEU A 298       8.206  50.358  15.014  1.00 29.35           C  \\nATOM    598  O   LEU A 298       7.685  49.925  13.984  1.00 31.76           O  \\nATOM    599  CB  LEU A 298       8.383  48.402  16.589  1.00 34.10           C  \\nATOM    600  CG  LEU A 298       8.334  47.914  18.044  1.00 37.93           C  \\nATOM    601  CD1 LEU A 298       8.761  46.461  18.142  1.00 44.49           C  \\nATOM    602  CD2 LEU A 298       9.250  48.790  18.891  1.00 42.06           C  \\nATOM    603  N   VAL A 299       9.117  51.327  15.007  1.00 29.86           N  \\nATOM    604  CA  VAL A 299       9.558  51.926  13.752  1.00 29.74           C  \\nATOM    605  C   VAL A 299       9.880  50.799  12.788  1.00 32.64           C  \\nATOM    606  O   VAL A 299      10.553  49.836  13.143  1.00 34.18           O  \\nATOM    607  CB  VAL A 299      10.795  52.843  13.957  1.00 31.93           C  \\nATOM    608  CG1 VAL A 299      11.989  52.026  14.440  1.00 31.67           C  \\nATOM    609  CG2 VAL A 299      11.107  53.575  12.656  1.00 27.08           C  \\nATOM    610  N   GLN A 300       9.395  50.918  11.561  1.00 36.89           N  \\nATOM    611  CA  GLN A 300       9.581  49.858  10.586  1.00 34.35           C  \\nATOM    612  C   GLN A 300      10.818  49.908   9.702  1.00 32.38           C  \\nATOM    613  O   GLN A 300      11.059  50.888   9.002  1.00 28.78           O  \\nATOM    614  CB  GLN A 300       8.329  49.783   9.711  1.00 38.24           C  \\nATOM    615  CG  GLN A 300       8.360  48.722   8.633  1.00 45.76           C  \\nATOM    616  CD  GLN A 300       7.021  48.608   7.920  1.00 58.64           C  \\nATOM    617  OE1 GLN A 300       6.469  49.605   7.438  1.00 54.86           O  \\nATOM    618  NE2 GLN A 300       6.489  47.390   7.851  1.00 62.71           N  \\nATOM    619  N   LEU A 301      11.593  48.829   9.740  1.00 32.68           N  \\nATOM    620  CA  LEU A 301      12.781  48.700   8.904  1.00 33.23           C  \\nATOM    621  C   LEU A 301      12.273  48.546   7.473  1.00 36.25           C  \\nATOM    622  O   LEU A 301      11.344  47.774   7.223  1.00 31.07           O  \\nATOM    623  CB  LEU A 301      13.568  47.440   9.281  1.00 31.96           C  \\nATOM    624  CG  LEU A 301      14.695  47.059   8.314  1.00 33.28           C  \\nATOM    625  CD1 LEU A 301      15.826  48.077   8.434  1.00 33.89           C  \\nATOM    626  CD2 LEU A 301      15.203  45.651   8.625  1.00 32.55           C  \\nATOM    627  N   LEU A 302      12.865  49.278   6.534  1.00 35.26           N  \\nATOM    628  CA  LEU A 302      12.447  49.163   5.145  1.00 35.73           C  \\nATOM    629  C   LEU A 302      13.531  48.497   4.301  1.00 39.80           C  \\nATOM    630  O   LEU A 302      13.247  47.912   3.254  1.00 37.37           O  \\nATOM    631  CB  LEU A 302      12.102  50.539   4.566  1.00 34.10           C  \\nATOM    632  CG  LEU A 302      10.853  51.207   5.153  1.00 34.54           C  \\nATOM    633  CD1 LEU A 302      10.554  52.502   4.403  1.00 32.15           C  \\nATOM    634  CD2 LEU A 302       9.665  50.252   5.042  1.00 36.35           C  \\nATOM    635  N   GLY A 303      14.772  48.574   4.768  1.00 37.46           N  \\nATOM    636  CA  GLY A 303      15.866  47.972   4.030  1.00 39.94           C  \\nATOM    637  C   GLY A 303      17.224  48.400   4.541  1.00 42.93           C  \\nATOM    638  O   GLY A 303      17.325  49.295   5.386  1.00 39.55           O  \\nATOM    639  N   VAL A 304      18.269  47.755   4.031  1.00 43.17           N  \\nATOM    640  CA  VAL A 304      19.635  48.070   4.429  1.00 45.73           C  \\nATOM    641  C   VAL A 304      20.589  48.085   3.239  1.00 47.37           C  \\nATOM    642  O   VAL A 304      20.256  47.628   2.146  1.00 46.95           O  \\nATOM    643  CB  VAL A 304      20.183  47.049   5.450  1.00 43.53           C  \\nATOM    644  CG1 VAL A 304      19.294  47.005   6.674  1.00 46.51           C  \\nATOM    645  CG2 VAL A 304      20.291  45.667   4.801  1.00 46.43           C  \\nATOM    646  N   CYS A 305      21.775  48.635   3.470  1.00 48.86           N  \\nATOM    647  CA  CYS A 305      22.835  48.708   2.468  1.00 52.92           C  \\nATOM    648  C   CYS A 305      24.108  48.473   3.260  1.00 54.98           C  \\nATOM    649  O   CYS A 305      24.899  49.390   3.469  1.00 53.49           O  \\nATOM    650  CB  CYS A 305      22.891  50.089   1.811  1.00 55.07           C  \\nATOM    651  SG  CYS A 305      21.479  50.532   0.770  1.00 53.92           S  \\nATOM    652  N   THR A 306      24.274  47.240   3.728  1.00 58.21           N  \\nATOM    653  CA  THR A 306      25.433  46.859   4.521  1.00 63.84           C  \\nATOM    654  C   THR A 306      26.261  45.825   3.773  1.00 69.89           C  \\nATOM    655  O   THR A 306      26.799  44.885   4.363  1.00 69.00           O  \\nATOM    656  CB  THR A 306      25.009  46.274   5.878  1.00 61.24           C  \\nATOM    657  OG1 THR A 306      24.179  45.127   5.665  1.00 62.30           O  \\nATOM    658  CG2 THR A 306      24.239  47.308   6.683  1.00 60.57           C  \\nATOM    659  N   ARG A 307      26.350  46.011   2.463  1.00 74.98           N  \\nATOM    660  CA  ARG A 307      27.113  45.122   1.604  1.00 81.68           C  \\nATOM    661  C   ARG A 307      28.464  45.796   1.389  1.00 83.80           C  \\nATOM    662  O   ARG A 307      29.518  45.163   1.466  1.00 83.37           O  \\nATOM    663  CB  ARG A 307      26.389  44.955   0.264  1.00 85.14           C  \\nATOM    664  CG  ARG A 307      26.952  43.877  -0.649  1.00 91.42           C  \\nATOM    665  CD  ARG A 307      26.429  42.492  -0.289  1.00 95.61           C  \\nATOM    666  NE  ARG A 307      26.811  42.080   1.059  1.00 99.22           N  \\nATOM    667  CZ  ARG A 307      26.543  40.885   1.576  1.00100.78           C  \\nATOM    668  NH1 ARG A 307      25.890  39.980   0.857  1.00100.95           N  \\nATOM    669  NH2 ARG A 307      26.932  40.591   2.810  1.00101.65           N  \\nATOM    670  N   GLU A 308      28.410  47.100   1.136  1.00 84.91           N  \\nATOM    671  CA  GLU A 308      29.600  47.903   0.893  1.00 85.91           C  \\nATOM    672  C   GLU A 308      29.396  49.283   1.505  1.00 84.27           C  \\nATOM    673  O   GLU A 308      28.294  49.826   1.470  1.00 83.82           O  \\nATOM    674  CB  GLU A 308      29.816  48.060  -0.612  1.00 88.44           C  \\nATOM    675  CG  GLU A 308      29.669  46.773  -1.402  1.00 94.47           C  \\nATOM    676  CD  GLU A 308      29.243  47.025  -2.835  1.00 98.64           C  \\nATOM    677  OE1 GLU A 308      28.166  47.630  -3.031  1.00100.43           O  \\nATOM    678  OE2 GLU A 308      29.980  46.620  -3.760  1.00100.21           O  \\nATOM    679  N   PRO A 309      30.455  49.866   2.085  1.00 82.20           N  \\nATOM    680  CA  PRO A 309      30.322  51.198   2.685  1.00 79.18           C  \\nATOM    681  C   PRO A 309      29.982  52.224   1.599  1.00 74.74           C  \\nATOM    682  O   PRO A 309      30.333  52.034   0.435  1.00 73.53           O  \\nATOM    683  CB  PRO A 309      31.702  51.437   3.293  1.00 79.98           C  \\nATOM    684  CG  PRO A 309      32.149  50.048   3.655  1.00 81.49           C  \\nATOM    685  CD  PRO A 309      31.753  49.261   2.430  1.00 81.87           C  \\nATOM    686  N   PRO A 310      29.280  53.314   1.959  1.00 71.89           N  \\nATOM    687  CA  PRO A 310      28.777  53.671   3.293  1.00 68.73           C  \\nATOM    688  C   PRO A 310      27.537  52.853   3.646  1.00 65.13           C  \\nATOM    689  O   PRO A 310      26.596  52.770   2.858  1.00 64.84           O  \\nATOM    690  CB  PRO A 310      28.444  55.160   3.156  1.00 69.64           C  \\nATOM    691  CG  PRO A 310      29.257  55.611   1.974  1.00 72.03           C  \\nATOM    692  CD  PRO A 310      29.123  54.449   1.038  1.00 71.40           C  \\nATOM    693  N   PHE A 311      27.528  52.264   4.834  1.00 60.80           N  \\nATOM    694  CA  PHE A 311      26.394  51.455   5.256  1.00 58.88           C  \\nATOM    695  C   PHE A 311      25.128  52.270   5.519  1.00 55.00           C  \\nATOM    696  O   PHE A 311      25.180  53.384   6.047  1.00 51.84           O  \\nATOM    697  CB  PHE A 311      26.774  50.645   6.498  1.00 61.48           C  \\nATOM    698  CG  PHE A 311      27.854  49.626   6.246  1.00 66.39           C  \\nATOM    699  CD1 PHE A 311      28.484  48.984   7.307  1.00 68.62           C  \\nATOM    700  CD2 PHE A 311      28.243  49.308   4.948  1.00 69.06           C  \\nATOM    701  CE1 PHE A 311      29.488  48.042   7.078  1.00 69.33           C  \\nATOM    702  CE2 PHE A 311      29.244  48.369   4.709  1.00 71.13           C  \\nATOM    703  CZ  PHE A 311      29.867  47.735   5.778  1.00 69.02           C  \\nATOM    704  N   TYR A 312      23.992  51.695   5.134  1.00 50.78           N  \\nATOM    705  CA  TYR A 312      22.686  52.324   5.308  1.00 45.58           C  \\nATOM    706  C   TYR A 312      21.700  51.433   6.059  1.00 46.07           C  \\nATOM    707  O   TYR A 312      21.755  50.206   5.971  1.00 43.96           O  \\nATOM    708  CB  TYR A 312      22.033  52.616   3.953  1.00 46.09           C  \\nATOM    709  CG  TYR A 312      22.559  53.778   3.147  1.00 43.06           C  \\nATOM    710  CD1 TYR A 312      21.987  54.085   1.912  1.00 46.04           C  \\nATOM    711  CD2 TYR A 312      23.607  54.573   3.602  1.00 46.12           C  \\nATOM    712  CE1 TYR A 312      22.440  55.154   1.149  1.00 49.30           C  \\nATOM    713  CE2 TYR A 312      24.074  55.652   2.839  1.00 47.40           C  \\nATOM    714  CZ  TYR A 312      23.483  55.933   1.617  1.00 51.68           C  \\nATOM    715  OH  TYR A 312      23.929  56.990   0.854  1.00 59.35           O  \\nATOM    716  N   ILE A 313      20.799  52.067   6.803  1.00 44.59           N  \\nATOM    717  CA  ILE A 313      19.714  51.367   7.479  1.00 38.94           C  \\nATOM    718  C   ILE A 313      18.563  52.313   7.219  1.00 40.63           C  \\nATOM    719  O   ILE A 313      18.564  53.451   7.694  1.00 40.12           O  \\nATOM    720  CB  ILE A 313      19.887  51.209   8.994  1.00 36.35           C  \\nATOM    721  CG1 ILE A 313      20.972  50.183   9.299  1.00 30.56           C  \\nATOM    722  CG2 ILE A 313      18.583  50.682   9.602  1.00 32.34           C  \\nATOM    723  CD1 ILE A 313      21.190  49.984  10.767  1.00 28.65           C  \\nATOM    724  N   ILE A 314      17.597  51.846   6.440  1.00 37.19           N  \\nATOM    725  CA  ILE A 314      16.456  52.663   6.076  1.00 36.89           C  \\nATOM    726  C   ILE A 314      15.172  52.234   6.776  1.00 36.98           C  \\nATOM    727  O   ILE A 314      14.820  51.051   6.792  1.00 34.48           O  \\nATOM    728  CB  ILE A 314      16.218  52.622   4.545  1.00 35.83           C  \\nATOM    729  CG1 ILE A 314      17.507  52.973   3.797  1.00 38.96           C  \\nATOM    730  CG2 ILE A 314      15.133  53.611   4.149  1.00 30.95           C  \\nATOM    731  CD1 ILE A 314      18.236  51.777   3.233  1.00 42.05           C  \\nATOM    732  N   THR A 315      14.488  53.206   7.369  1.00 37.45           N  \\nATOM    733  CA  THR A 315      13.210  52.957   8.030  1.00 36.03           C  \\nATOM    734  C   THR A 315      12.233  54.002   7.501  1.00 36.77           C  \\nATOM    735  O   THR A 315      12.615  54.909   6.754  1.00 33.63           O  \\nATOM    736  CB  THR A 315      13.279  53.135   9.552  1.00 34.61           C  \\nATOM    737  OG1 THR A 315      13.462  54.521   9.857  1.00 32.38           O  \\nATOM    738  CG2 THR A 315      14.424  52.319  10.148  1.00 36.12           C  \\nATOM    739  N   GLU A 316      10.973  53.869   7.892  1.00 36.95           N  \\nATOM    740  CA  GLU A 316       9.944  54.814   7.482  1.00 39.64           C  \\nATOM    741  C   GLU A 316      10.248  56.164   8.125  1.00 38.83           C  \\nATOM    742  O   GLU A 316      11.021  56.249   9.081  1.00 36.84           O  \\nATOM    743  CB  GLU A 316       8.572  54.332   7.956  1.00 35.62           C  \\nATOM    744  CG  GLU A 316       8.556  53.959   9.436  1.00 44.15           C  \\nATOM    745  CD  GLU A 316       7.176  53.574   9.943  1.00 48.29           C  \\nATOM    746  OE1 GLU A 316       7.102  52.730  10.861  1.00 45.12           O  \\nATOM    747  OE2 GLU A 316       6.171  54.120   9.434  1.00 46.43           O  \\nATOM    748  N   PHE A 317       9.638  57.215   7.592  1.00 40.75           N  \\nATOM    749  CA  PHE A 317       9.810  58.560   8.125  1.00 43.41           C  \\nATOM    750  C   PHE A 317       8.487  58.898   8.805  1.00 42.73           C  \\nATOM    751  O   PHE A 317       7.425  58.773   8.195  1.00 44.97           O  \\nATOM    752  CB  PHE A 317      10.083  59.558   6.990  1.00 43.36           C  \\nATOM    753  CG  PHE A 317      10.260  60.978   7.456  1.00 47.40           C  \\nATOM    754  CD1 PHE A 317      11.443  61.384   8.067  1.00 49.36           C  \\nATOM    755  CD2 PHE A 317       9.234  61.907   7.306  1.00 47.67           C  \\nATOM    756  CE1 PHE A 317      11.602  62.696   8.523  1.00 49.52           C  \\nATOM    757  CE2 PHE A 317       9.384  63.220   7.759  1.00 46.05           C  \\nATOM    758  CZ  PHE A 317      10.570  63.613   8.369  1.00 45.20           C  \\nATOM    759  N   MET A 318       8.543  59.313  10.066  1.00 42.01           N  \\nATOM    760  CA  MET A 318       7.324  59.654  10.793  1.00 37.92           C  \\nATOM    761  C   MET A 318       7.109  61.159  10.734  1.00 39.19           C  \\nATOM    762  O   MET A 318       7.885  61.936  11.295  1.00 34.76           O  \\nATOM    763  CB  MET A 318       7.428  59.182  12.239  1.00 40.54           C  \\nATOM    764  CG  MET A 318       7.673  57.686  12.379  1.00 47.22           C  \\nATOM    765  SD  MET A 318       6.231  56.697  11.970  1.00 51.11           S  \\nATOM    766  CE  MET A 318       5.201  57.012  13.414  1.00 47.41           C  \\nATOM    767  N   THR A 319       6.036  61.551  10.055  1.00 37.84           N  \\nATOM    768  CA  THR A 319       5.680  62.949   9.846  1.00 40.01           C  \\nATOM    769  C   THR A 319       5.893  63.960  10.968  1.00 36.83           C  \\nATOM    770  O   THR A 319       6.470  65.017  10.728  1.00 38.09           O  \\nATOM    771  CB  THR A 319       4.211  63.071   9.369  1.00 40.70           C  \\nATOM    772  OG1 THR A 319       4.063  62.370   8.129  1.00 46.49           O  \\nATOM    773  CG2 THR A 319       3.830  64.536   9.148  1.00 39.92           C  \\nATOM    774  N   TYR A 320       5.442  63.657  12.184  1.00 34.84           N  \\nATOM    775  CA  TYR A 320       5.573  64.625  13.275  1.00 35.68           C  \\nATOM    776  C   TYR A 320       6.790  64.536  14.193  1.00 33.49           C  \\nATOM    777  O   TYR A 320       6.834  65.188  15.230  1.00 32.24           O  \\nATOM    778  CB  TYR A 320       4.289  64.635  14.114  1.00 38.03           C  \\nATOM    779  CG  TYR A 320       3.074  65.033  13.307  1.00 40.26           C  \\nATOM    780  CD1 TYR A 320       2.205  64.071  12.805  1.00 43.64           C  \\nATOM    781  CD2 TYR A 320       2.838  66.369  12.983  1.00 44.06           C  \\nATOM    782  CE1 TYR A 320       1.129  64.424  11.992  1.00 50.14           C  \\nATOM    783  CE2 TYR A 320       1.765  66.738  12.169  1.00 48.80           C  \\nATOM    784  CZ  TYR A 320       0.917  65.758  11.678  1.00 51.39           C  \\nATOM    785  OH  TYR A 320      -0.134  66.103  10.862  1.00 60.07           O  \\nATOM    786  N   GLY A 321       7.772  63.727  13.823  1.00 32.07           N  \\nATOM    787  CA  GLY A 321       8.977  63.636  14.629  1.00 32.17           C  \\nATOM    788  C   GLY A 321       8.889  62.915  15.957  1.00 31.09           C  \\nATOM    789  O   GLY A 321       7.975  62.120  16.195  1.00 31.74           O  \\nATOM    790  N   ASN A 322       9.845  63.203  16.835  1.00 33.28           N  \\nATOM    791  CA  ASN A 322       9.907  62.541  18.135  1.00 30.98           C  \\nATOM    792  C   ASN A 322       8.812  62.999  19.088  1.00 30.73           C  \\nATOM    793  O   ASN A 322       8.394  64.155  19.062  1.00 29.15           O  \\nATOM    794  CB  ASN A 322      11.303  62.725  18.756  1.00 32.64           C  \\nATOM    795  CG  ASN A 322      11.506  64.097  19.372  1.00 28.88           C  \\nATOM    796  OD1 ASN A 322      11.051  64.361  20.481  1.00 34.28           O  \\nATOM    797  ND2 ASN A 322      12.194  64.975  18.654  1.00 29.47           N  \\nATOM    798  N   LEU A 323       8.349  62.068  19.922  1.00 31.92           N  \\nATOM    799  CA  LEU A 323       7.278  62.318  20.876  1.00 29.50           C  \\nATOM    800  C   LEU A 323       7.539  63.420  21.895  1.00 32.60           C  \\nATOM    801  O   LEU A 323       6.629  64.178  22.234  1.00 31.46           O  \\nATOM    802  CB  LEU A 323       6.926  61.026  21.618  1.00 27.79           C  \\nATOM    803  CG  LEU A 323       5.769  61.120  22.622  1.00 29.00           C  \\nATOM    804  CD1 LEU A 323       4.475  61.475  21.901  1.00 24.70           C  \\nATOM    805  CD2 LEU A 323       5.626  59.798  23.359  1.00 30.34           C  \\nATOM    806  N   LEU A 324       8.769  63.515  22.393  1.00 32.28           N  \\nATOM    807  CA  LEU A 324       9.081  64.539  23.382  1.00 29.65           C  \\nATOM    808  C   LEU A 324       8.743  65.945  22.872  1.00 31.92           C  \\nATOM    809  O   LEU A 324       7.979  66.679  23.514  1.00 31.46           O  \\nATOM    810  CB  LEU A 324      10.560  64.467  23.786  1.00 32.57           C  \\nATOM    811  CG  LEU A 324      10.979  65.410  24.924  1.00 31.99           C  \\nATOM    812  CD1 LEU A 324      10.023  65.258  26.114  1.00 27.01           C  \\nATOM    813  CD2 LEU A 324      12.416  65.094  25.339  1.00 28.73           C  \\nATOM    814  N   ASP A 325       9.296  66.321  21.723  1.00 27.40           N  \\nATOM    815  CA  ASP A 325       9.012  67.641  21.177  1.00 37.16           C  \\nATOM    816  C   ASP A 325       7.554  67.764  20.727  1.00 35.39           C  \\nATOM    817  O   ASP A 325       6.966  68.841  20.820  1.00 35.86           O  \\nATOM    818  CB  ASP A 325       9.949  67.965  20.005  1.00 35.98           C  \\nATOM    819  CG  ASP A 325      11.405  68.046  20.434  1.00 41.86           C  \\nATOM    820  OD1 ASP A 325      11.660  68.381  21.608  1.00 42.47           O  \\nATOM    821  OD2 ASP A 325      12.294  67.787  19.597  1.00 46.46           O  \\nATOM    822  N   TYR A 326       6.968  66.670  20.243  1.00 33.68           N  \\nATOM    823  CA  TYR A 326       5.578  66.720  19.808  1.00 30.58           C  \\nATOM    824  C   TYR A 326       4.690  67.124  20.985  1.00 31.75           C  \\nATOM    825  O   TYR A 326       3.853  68.021  20.864  1.00 31.20           O  \\nATOM    826  CB  TYR A 326       5.123  65.367  19.269  1.00 33.28           C  \\nATOM    827  CG  TYR A 326       3.677  65.356  18.810  1.00 35.76           C  \\nATOM    828  CD1 TYR A 326       3.302  65.950  17.603  1.00 37.96           C  \\nATOM    829  CD2 TYR A 326       2.679  64.779  19.598  1.00 37.37           C  \\nATOM    830  CE1 TYR A 326       1.961  65.972  17.192  1.00 42.13           C  \\nATOM    831  CE2 TYR A 326       1.335  64.794  19.196  1.00 40.29           C  \\nATOM    832  CZ  TYR A 326       0.986  65.395  17.995  1.00 41.42           C  \\nATOM    833  OH  TYR A 326      -0.337  65.445  17.613  1.00 50.11           O  \\nATOM    834  N   LEU A 327       4.888  66.474  22.127  1.00 30.34           N  \\nATOM    835  CA  LEU A 327       4.094  66.767  23.313  1.00 33.30           C  \\nATOM    836  C   LEU A 327       4.250  68.209  23.781  1.00 35.04           C  \\nATOM    837  O   LEU A 327       3.290  68.817  24.255  1.00 32.74           O  \\nATOM    838  CB  LEU A 327       4.474  65.827  24.461  1.00 36.35           C  \\nATOM    839  CG  LEU A 327       4.021  64.367  24.415  1.00 35.86           C  \\nATOM    840  CD1 LEU A 327       4.898  63.551  25.347  1.00 38.63           C  \\nATOM    841  CD2 LEU A 327       2.563  64.244  24.819  1.00 37.88           C  \\nATOM    842  N   ARG A 328       5.459  68.749  23.656  1.00 31.16           N  \\nATOM    843  CA  ARG A 328       5.739  70.119  24.080  1.00 29.95           C  \\nATOM    844  C   ARG A 328       5.195  71.165  23.120  1.00 28.22           C  \\nATOM    845  O   ARG A 328       4.917  72.291  23.521  1.00 27.91           O  \\nATOM    846  CB  ARG A 328       7.251  70.337  24.218  1.00 29.20           C  \\nATOM    847  CG  ARG A 328       7.907  69.457  25.277  1.00 35.19           C  \\nATOM    848  CD  ARG A 328       9.429  69.604  25.313  1.00 32.64           C  \\nATOM    849  NE  ARG A 328       9.972  68.921  26.489  1.00 42.52           N  \\nATOM    850  CZ  ARG A 328      11.262  68.852  26.805  1.00 39.78           C  \\nATOM    851  NH1 ARG A 328      12.176  69.427  26.036  1.00 37.72           N  \\nATOM    852  NH2 ARG A 328      11.637  68.196  27.895  1.00 39.05           N  \\nATOM    853  N   GLU A 329       5.037  70.786  21.858  1.00 28.84           N  \\nATOM    854  CA  GLU A 329       4.588  71.716  20.830  1.00 32.10           C  \\nATOM    855  C   GLU A 329       3.175  71.512  20.296  1.00 31.72           C  \\nATOM    856  O   GLU A 329       2.751  72.239  19.405  1.00 35.43           O  \\nATOM    857  CB  GLU A 329       5.556  71.653  19.644  1.00 33.88           C  \\nATOM    858  CG  GLU A 329       6.962  72.157  19.930  1.00 46.24           C  \\nATOM    859  CD  GLU A 329       7.966  71.694  18.883  1.00 48.22           C  \\nATOM    860  OE1 GLU A 329       7.601  71.646  17.691  1.00 53.88           O  \\nATOM    861  OE2 GLU A 329       9.120  71.386  19.251  1.00 52.09           O  \\nATOM    862  N   CYS A 330       2.445  70.546  20.832  1.00 31.37           N  \\nATOM    863  CA  CYS A 330       1.109  70.259  20.323  1.00 35.50           C  \\nATOM    864  C   CYS A 330      -0.013  71.197  20.757  1.00 36.50           C  \\nATOM    865  O   CYS A 330       0.130  72.025  21.659  1.00 36.53           O  \\nATOM    866  CB  CYS A 330       0.703  68.836  20.705  1.00 31.09           C  \\nATOM    867  SG  CYS A 330       0.357  68.645  22.467  1.00 39.07           S  \\nATOM    868  N   ASN A 331      -1.136  71.033  20.075  1.00 37.27           N  \\nATOM    869  CA  ASN A 331      -2.361  71.766  20.343  1.00 36.92           C  \\nATOM    870  C   ASN A 331      -2.963  70.899  21.447  1.00 35.95           C  \\nATOM    871  O   ASN A 331      -3.427  69.789  21.183  1.00 35.13           O  \\nATOM    872  CB  ASN A 331      -3.236  71.743  19.080  1.00 34.49           C  \\nATOM    873  CG  ASN A 331      -4.638  72.290  19.320  1.00 34.75           C  \\nATOM    874  OD1 ASN A 331      -5.069  72.454  20.455  1.00 32.34           O  \\nATOM    875  ND2 ASN A 331      -5.359  72.566  18.234  1.00 31.96           N  \\nATOM    876  N   ARG A 332      -2.936  71.385  22.683  1.00 35.52           N  \\nATOM    877  CA  ARG A 332      -3.457  70.589  23.786  1.00 37.72           C  \\nATOM    878  C   ARG A 332      -4.948  70.321  23.722  1.00 39.47           C  \\nATOM    879  O   ARG A 332      -5.454  69.439  24.415  1.00 37.66           O  \\nATOM    880  CB  ARG A 332      -3.097  71.224  25.120  1.00 37.75           C  \\nATOM    881  CG  ARG A 332      -1.608  71.311  25.352  1.00 34.35           C  \\nATOM    882  CD  ARG A 332      -1.312  71.584  26.810  1.00 35.19           C  \\nATOM    883  NE  ARG A 332       0.111  71.800  27.049  1.00 40.25           N  \\nATOM    884  CZ  ARG A 332       0.637  71.958  28.256  1.00 40.09           C  \\nATOM    885  NH1 ARG A 332      -0.148  71.917  29.324  1.00 39.85           N  \\nATOM    886  NH2 ARG A 332       1.940  72.166  28.394  1.00 39.11           N  \\nATOM    887  N   GLN A 333      -5.655  71.087  22.902  1.00 39.42           N  \\nATOM    888  CA  GLN A 333      -7.085  70.874  22.751  1.00 45.53           C  \\nATOM    889  C   GLN A 333      -7.260  69.635  21.882  1.00 45.65           C  \\nATOM    890  O   GLN A 333      -8.182  68.847  22.075  1.00 47.79           O  \\nATOM    891  CB  GLN A 333      -7.739  72.087  22.087  1.00 45.54           C  \\nATOM    892  CG  GLN A 333      -7.831  73.292  23.000  1.00 45.50           C  \\nATOM    893  CD  GLN A 333      -8.627  72.990  24.248  1.00 47.72           C  \\nATOM    894  OE1 GLN A 333      -9.744  72.484  24.171  1.00 49.89           O  \\nATOM    895  NE2 GLN A 333      -8.057  73.299  25.408  1.00 48.21           N  \\nATOM    896  N   GLU A 334      -6.355  69.472  20.925  1.00 43.73           N  \\nATOM    897  CA  GLU A 334      -6.378  68.330  20.027  1.00 48.48           C  \\nATOM    898  C   GLU A 334      -5.823  67.102  20.755  1.00 48.44           C  \\nATOM    899  O   GLU A 334      -6.451  66.041  20.778  1.00 44.32           O  \\nATOM    900  CB  GLU A 334      -5.532  68.633  18.795  1.00 52.34           C  \\nATOM    901  CG  GLU A 334      -5.522  67.535  17.766  1.00 61.40           C  \\nATOM    902  CD  GLU A 334      -4.484  67.781  16.698  1.00 68.17           C  \\nATOM    903  OE1 GLU A 334      -4.536  68.853  16.055  1.00 72.20           O  \\nATOM    904  OE2 GLU A 334      -3.617  66.902  16.505  1.00 70.17           O  \\nATOM    905  N   VAL A 335      -4.642  67.256  21.349  1.00 46.04           N  \\nATOM    906  CA  VAL A 335      -4.011  66.166  22.085  1.00 44.57           C  \\nATOM    907  C   VAL A 335      -4.563  66.159  23.508  1.00 47.58           C  \\nATOM    908  O   VAL A 335      -3.882  66.553  24.458  1.00 50.06           O  \\nATOM    909  CB  VAL A 335      -2.471  66.332  22.134  1.00 42.30           C  \\nATOM    910  CG1 VAL A 335      -1.839  65.136  22.831  1.00 37.67           C  \\nATOM    911  CG2 VAL A 335      -1.920  66.477  20.728  1.00 35.84           C  \\nATOM    912  N   SER A 336      -5.806  65.710  23.646  1.00 48.33           N  \\nATOM    913  CA  SER A 336      -6.465  65.664  24.944  1.00 48.76           C  \\nATOM    914  C   SER A 336      -6.091  64.429  25.749  1.00 49.69           C  \\nATOM    915  O   SER A 336      -5.225  63.655  25.352  1.00 47.48           O  \\nATOM    916  CB  SER A 336      -7.984  65.710  24.763  1.00 51.37           C  \\nATOM    917  OG  SER A 336      -8.448  64.576  24.050  1.00 55.41           O  \\nATOM    918  N   ALA A 337      -6.769  64.258  26.881  1.00 49.59           N  \\nATOM    919  CA  ALA A 337      -6.538  63.145  27.792  1.00 51.26           C  \\nATOM    920  C   ALA A 337      -6.717  61.774  27.150  1.00 50.70           C  \\nATOM    921  O   ALA A 337      -5.955  60.853  27.433  1.00 52.27           O  \\nATOM    922  CB  ALA A 337      -7.462  63.269  29.001  1.00 56.49           C  \\nATOM    923  N   VAL A 338      -7.733  61.639  26.305  1.00 47.72           N  \\nATOM    924  CA  VAL A 338      -8.004  60.374  25.633  1.00 45.61           C  \\nATOM    925  C   VAL A 338      -6.883  60.057  24.649  1.00 44.76           C  \\nATOM    926  O   VAL A 338      -6.513  58.896  24.470  1.00 41.38           O  \\nATOM    927  CB  VAL A 338      -9.358  60.420  24.886  1.00 43.00           C  \\nATOM    928  CG1 VAL A 338      -9.412  61.632  23.978  1.00 46.44           C  \\nATOM    929  CG2 VAL A 338      -9.558  59.146  24.080  1.00 45.73           C  \\nATOM    930  N   VAL A 339      -6.342  61.096  24.019  1.00 43.59           N  \\nATOM    931  CA  VAL A 339      -5.252  60.920  23.071  1.00 40.06           C  \\nATOM    932  C   VAL A 339      -3.980  60.512  23.817  1.00 41.67           C  \\nATOM    933  O   VAL A 339      -3.239  59.641  23.354  1.00 38.69           O  \\nATOM    934  CB  VAL A 339      -5.003  62.209  22.266  1.00 41.82           C  \\nATOM    935  CG1 VAL A 339      -3.820  62.021  21.317  1.00 35.36           C  \\nATOM    936  CG2 VAL A 339      -6.266  62.566  21.480  1.00 37.80           C  \\nATOM    937  N   LEU A 340      -3.725  61.129  24.969  1.00 38.96           N  \\nATOM    938  CA  LEU A 340      -2.541  60.773  25.750  1.00 40.04           C  \\nATOM    939  C   LEU A 340      -2.629  59.305  26.152  1.00 38.37           C  \\nATOM    940  O   LEU A 340      -1.655  58.561  26.050  1.00 41.57           O  \\nATOM    941  CB  LEU A 340      -2.427  61.641  27.006  1.00 38.24           C  \\nATOM    942  CG  LEU A 340      -2.116  63.119  26.775  1.00 42.43           C  \\nATOM    943  CD1 LEU A 340      -1.985  63.821  28.122  1.00 43.99           C  \\nATOM    944  CD2 LEU A 340      -0.826  63.259  25.965  1.00 36.22           C  \\nATOM    945  N   LEU A 341      -3.807  58.896  26.607  1.00 37.65           N  \\nATOM    946  CA  LEU A 341      -4.044  57.514  27.008  1.00 39.44           C  \\nATOM    947  C   LEU A 341      -3.812  56.600  25.800  1.00 37.11           C  \\nATOM    948  O   LEU A 341      -3.241  55.518  25.918  1.00 36.75           O  \\nATOM    949  CB  LEU A 341      -5.482  57.363  27.512  1.00 45.25           C  \\nATOM    950  CG  LEU A 341      -5.930  56.008  28.061  1.00 50.55           C  \\nATOM    951  CD1 LEU A 341      -5.192  55.691  29.359  1.00 50.89           C  \\nATOM    952  CD2 LEU A 341      -7.430  56.058  28.302  1.00 55.66           C  \\nATOM    953  N   TYR A 342      -4.263  57.047  24.636  1.00 34.32           N  \\nATOM    954  CA  TYR A 342      -4.092  56.283  23.410  1.00 36.29           C  \\nATOM    955  C   TYR A 342      -2.602  56.113  23.083  1.00 35.87           C  \\nATOM    956  O   TYR A 342      -2.166  55.046  22.650  1.00 34.78           O  \\nATOM    957  CB  TYR A 342      -4.805  56.992  22.253  1.00 31.76           C  \\nATOM    958  CG  TYR A 342      -4.556  56.372  20.893  1.00 34.42           C  \\nATOM    959  CD1 TYR A 342      -4.664  54.995  20.702  1.00 37.01           C  \\nATOM    960  CD2 TYR A 342      -4.226  57.167  19.794  1.00 34.82           C  \\nATOM    961  CE1 TYR A 342      -4.448  54.422  19.452  1.00 37.55           C  \\nATOM    962  CE2 TYR A 342      -4.007  56.603  18.536  1.00 35.22           C  \\nATOM    963  CZ  TYR A 342      -4.119  55.231  18.375  1.00 39.08           C  \\nATOM    964  OH  TYR A 342      -3.897  54.667  17.142  1.00 39.26           O  \\nATOM    965  N   MET A 343      -1.822  57.167  23.296  1.00 33.42           N  \\nATOM    966  CA  MET A 343      -0.395  57.093  23.007  1.00 34.11           C  \\nATOM    967  C   MET A 343       0.317  56.124  23.948  1.00 34.28           C  \\nATOM    968  O   MET A 343       1.205  55.377  23.524  1.00 34.69           O  \\nATOM    969  CB  MET A 343       0.234  58.489  23.078  1.00 35.23           C  \\nATOM    970  CG  MET A 343      -0.290  59.434  21.995  1.00 36.70           C  \\nATOM    971  SD  MET A 343       0.487  61.075  21.966  1.00 50.47           S  \\nATOM    972  CE  MET A 343       0.748  61.327  23.669  1.00 37.56           C  \\nATOM    973  N   ALA A 344      -0.075  56.123  25.219  1.00 33.15           N  \\nATOM    974  CA  ALA A 344       0.540  55.232  26.197  1.00 34.64           C  \\nATOM    975  C   ALA A 344       0.158  53.781  25.900  1.00 38.58           C  \\nATOM    976  O   ALA A 344       0.920  52.848  26.188  1.00 33.88           O  \\nATOM    977  CB  ALA A 344       0.100  55.616  27.606  1.00 38.80           C  \\nATOM    978  N   THR A 345      -1.025  53.594  25.321  1.00 35.92           N  \\nATOM    979  CA  THR A 345      -1.493  52.258  24.978  1.00 39.14           C  \\nATOM    980  C   THR A 345      -0.687  51.673  23.816  1.00 42.15           C  \\nATOM    981  O   THR A 345      -0.361  50.480  23.820  1.00 43.66           O  \\nATOM    982  CB  THR A 345      -2.982  52.274  24.595  1.00 43.26           C  \\nATOM    983  OG1 THR A 345      -3.756  52.719  25.716  1.00 44.46           O  \\nATOM    984  CG2 THR A 345      -3.444  50.875  24.190  1.00 44.78           C  \\nATOM    985  N   GLN A 346      -0.364  52.501  22.822  1.00 36.14           N  \\nATOM    986  CA  GLN A 346       0.410  52.015  21.682  1.00 35.80           C  \\nATOM    987  C   GLN A 346       1.816  51.629  22.124  1.00 32.82           C  \\nATOM    988  O   GLN A 346       2.344  50.600  21.708  1.00 30.20           O  \\nATOM    989  CB  GLN A 346       0.484  53.074  20.585  1.00 37.11           C  \\nATOM    990  CG  GLN A 346      -0.867  53.401  19.972  1.00 37.68           C  \\nATOM    991  CD  GLN A 346      -0.793  54.552  18.997  1.00 35.70           C  \\nATOM    992  OE1 GLN A 346      -0.393  54.382  17.845  1.00 36.51           O  \\nATOM    993  NE2 GLN A 346      -1.166  55.740  19.459  1.00 33.21           N  \\nATOM    994  N   ILE A 347       2.412  52.448  22.986  1.00 33.27           N  \\nATOM    995  CA  ILE A 347       3.754  52.180  23.479  1.00 33.32           C  \\nATOM    996  C   ILE A 347       3.809  50.892  24.302  1.00 34.58           C  \\nATOM    997  O   ILE A 347       4.733  50.091  24.149  1.00 34.53           O  \\nATOM    998  CB  ILE A 347       4.280  53.361  24.321  1.00 33.29           C  \\nATOM    999  CG1 ILE A 347       4.336  54.621  23.454  1.00 31.67           C  \\nATOM   1000  CG2 ILE A 347       5.669  53.036  24.857  1.00 30.31           C  \\nATOM   1001  CD1 ILE A 347       4.409  55.925  24.240  1.00 36.48           C  \\nATOM   1002  N   SER A 348       2.816  50.676  25.161  1.00 34.44           N  \\nATOM   1003  CA  SER A 348       2.795  49.463  25.976  1.00 34.85           C  \\nATOM   1004  C   SER A 348       2.646  48.223  25.088  1.00 38.05           C  \\nATOM   1005  O   SER A 348       3.109  47.141  25.435  1.00 36.36           O  \\nATOM   1006  CB  SER A 348       1.645  49.516  26.988  1.00 38.53           C  \\nATOM   1007  OG  SER A 348       0.380  49.519  26.345  1.00 41.53           O  \\nATOM   1008  N   SER A 349       1.998  48.390  23.939  1.00 39.86           N  \\nATOM   1009  CA  SER A 349       1.785  47.284  23.007  1.00 38.57           C  \\nATOM   1010  C   SER A 349       3.118  46.872  22.392  1.00 39.55           C  \\nATOM   1011  O   SER A 349       3.444  45.685  22.310  1.00 40.44           O  \\nATOM   1012  CB  SER A 349       0.800  47.708  21.909  1.00 37.56           C  \\nATOM   1013  OG  SER A 349       0.533  46.643  21.011  1.00 43.66           O  \\nATOM   1014  N   ALA A 350       3.894  47.860  21.968  1.00 37.49           N  \\nATOM   1015  CA  ALA A 350       5.192  47.592  21.374  1.00 34.90           C  \\nATOM   1016  C   ALA A 350       6.104  46.898  22.378  1.00 37.39           C  \\nATOM   1017  O   ALA A 350       6.821  45.955  22.032  1.00 39.41           O  \\nATOM   1018  CB  ALA A 350       5.830  48.891  20.906  1.00 34.68           C  \\nATOM   1019  N   MET A 351       6.071  47.360  23.624  1.00 34.22           N  \\nATOM   1020  CA  MET A 351       6.920  46.788  24.659  1.00 36.08           C  \\nATOM   1021  C   MET A 351       6.489  45.372  25.035  1.00 41.08           C  \\nATOM   1022  O   MET A 351       7.327  44.527  25.375  1.00 35.73           O  \\nATOM   1023  CB  MET A 351       6.928  47.695  25.891  1.00 35.92           C  \\nATOM   1024  CG  MET A 351       7.573  49.067  25.647  1.00 34.95           C  \\nATOM   1025  SD  MET A 351       9.232  48.953  24.893  1.00 38.64           S  \\nATOM   1026  CE  MET A 351      10.076  47.893  26.063  1.00 37.65           C  \\nATOM   1027  N   GLU A 352       5.183  45.125  24.969  1.00 38.19           N  \\nATOM   1028  CA  GLU A 352       4.620  43.812  25.267  1.00 42.83           C  \\nATOM   1029  C   GLU A 352       5.189  42.825  24.247  1.00 42.77           C  \\nATOM   1030  O   GLU A 352       5.490  41.673  24.570  1.00 41.76           O  \\nATOM   1031  CB  GLU A 352       3.092  43.867  25.140  1.00 46.72           C  \\nATOM   1032  CG  GLU A 352       2.377  42.537  25.345  1.00 51.47           C  \\nATOM   1033  CD  GLU A 352       0.867  42.650  25.165  1.00 55.73           C  \\nATOM   1034  OE1 GLU A 352       0.154  41.674  25.468  1.00 57.99           O  \\nATOM   1035  OE2 GLU A 352       0.389  43.713  24.716  1.00 61.83           O  \\nATOM   1036  N   TYR A 353       5.339  43.301  23.014  1.00 40.07           N  \\nATOM   1037  CA  TYR A 353       5.871  42.496  21.917  1.00 41.31           C  \\nATOM   1038  C   TYR A 353       7.364  42.219  22.114  1.00 42.90           C  \\nATOM   1039  O   TYR A 353       7.828  41.104  21.889  1.00 45.06           O  \\nATOM   1040  CB  TYR A 353       5.638  43.223  20.589  1.00 38.62           C  \\nATOM   1041  CG  TYR A 353       6.355  42.613  19.402  1.00 39.01           C  \\nATOM   1042  CD1 TYR A 353       5.843  41.488  18.750  1.00 37.53           C  \\nATOM   1043  CD2 TYR A 353       7.542  43.169  18.927  1.00 33.41           C  \\nATOM   1044  CE1 TYR A 353       6.499  40.935  17.646  1.00 37.63           C  \\nATOM   1045  CE2 TYR A 353       8.204  42.631  17.838  1.00 40.93           C  \\nATOM   1046  CZ  TYR A 353       7.679  41.513  17.198  1.00 40.89           C  \\nATOM   1047  OH  TYR A 353       8.350  40.979  16.123  1.00 38.64           O  \\nATOM   1048  N   LEU A 354       8.116  43.235  22.524  1.00 41.88           N  \\nATOM   1049  CA  LEU A 354       9.545  43.064  22.759  1.00 42.74           C  \\nATOM   1050  C   LEU A 354       9.736  42.112  23.938  1.00 41.55           C  \\nATOM   1051  O   LEU A 354      10.665  41.302  23.961  1.00 37.70           O  \\nATOM   1052  CB  LEU A 354      10.195  44.419  23.047  1.00 40.31           C  \\nATOM   1053  CG  LEU A 354      11.137  45.005  21.983  1.00 47.37           C  \\nATOM   1054  CD1 LEU A 354      10.719  44.602  20.581  1.00 46.63           C  \\nATOM   1055  CD2 LEU A 354      11.157  46.521  22.126  1.00 47.19           C  \\nATOM   1056  N   GLU A 355       8.836  42.210  24.908  1.00 40.09           N  \\nATOM   1057  CA  GLU A 355       8.876  41.355  26.085  1.00 44.81           C  \\nATOM   1058  C   GLU A 355       8.685  39.916  25.606  1.00 49.02           C  \\nATOM   1059  O   GLU A 355       9.455  39.022  25.960  1.00 49.21           O  \\nATOM   1060  CB  GLU A 355       7.752  41.746  27.048  1.00 45.05           C  \\nATOM   1061  CG  GLU A 355       7.704  40.934  28.328  1.00 49.69           C  \\nATOM   1062  CD  GLU A 355       6.602  41.394  29.268  1.00 54.44           C  \\nATOM   1063  OE1 GLU A 355       5.408  41.227  28.929  1.00 53.39           O  \\nATOM   1064  OE2 GLU A 355       6.932  41.929  30.349  1.00 56.79           O  \\nATOM   1065  N   LYS A 356       7.656  39.712  24.787  1.00 49.39           N  \\nATOM   1066  CA  LYS A 356       7.342  38.403  24.233  1.00 49.79           C  \\nATOM   1067  C   LYS A 356       8.553  37.809  23.525  1.00 49.69           C  \\nATOM   1068  O   LYS A 356       8.844  36.625  23.674  1.00 48.42           O  \\nATOM   1069  CB  LYS A 356       6.184  38.520  23.236  1.00 56.14           C  \\nATOM   1070  CG  LYS A 356       5.885  37.236  22.464  1.00 66.49           C  \\nATOM   1071  CD  LYS A 356       4.994  37.494  21.251  1.00 70.52           C  \\nATOM   1072  CE  LYS A 356       3.632  38.038  21.657  1.00 77.41           C  \\nATOM   1073  NZ  LYS A 356       2.885  37.086  22.532  1.00 81.29           N  \\nATOM   1074  N   LYS A 357       9.257  38.636  22.757  1.00 47.02           N  \\nATOM   1075  CA  LYS A 357      10.426  38.180  22.015  1.00 49.17           C  \\nATOM   1076  C   LYS A 357      11.704  38.193  22.840  1.00 48.11           C  \\nATOM   1077  O   LYS A 357      12.797  38.066  22.300  1.00 48.57           O  \\nATOM   1078  CB  LYS A 357      10.628  39.038  20.769  1.00 51.90           C  \\nATOM   1079  CG  LYS A 357       9.453  39.033  19.814  1.00 60.24           C  \\nATOM   1080  CD  LYS A 357       9.821  39.731  18.521  1.00 67.51           C  \\nATOM   1081  CE  LYS A 357      10.742  38.880  17.658  1.00 69.21           C  \\nATOM   1082  NZ  LYS A 357      10.051  37.657  17.152  1.00 70.25           N  \\nATOM   1083  N   ASN A 358      11.563  38.352  24.148  1.00 48.82           N  \\nATOM   1084  CA  ASN A 358      12.712  38.378  25.044  1.00 50.66           C  \\nATOM   1085  C   ASN A 358      13.764  39.426  24.663  1.00 48.27           C  \\nATOM   1086  O   ASN A 358      14.957  39.235  24.905  1.00 47.58           O  \\nATOM   1087  CB  ASN A 358      13.352  36.985  25.120  1.00 51.54           C  \\nATOM   1088  CG  ASN A 358      12.350  35.904  25.514  1.00 57.88           C  \\nATOM   1089  OD1 ASN A 358      11.740  35.960  26.586  1.00 57.15           O  \\nATOM   1090  ND2 ASN A 358      12.173  34.917  24.641  1.00 59.25           N  \\nATOM   1091  N   PHE A 359      13.320  40.523  24.053  1.00 46.43           N  \\nATOM   1092  CA  PHE A 359      14.223  41.617  23.693  1.00 46.06           C  \\nATOM   1093  C   PHE A 359      14.145  42.656  24.812  1.00 46.41           C  \\nATOM   1094  O   PHE A 359      13.137  42.748  25.519  1.00 47.60           O  \\nATOM   1095  CB  PHE A 359      13.808  42.297  22.384  1.00 48.77           C  \\nATOM   1096  CG  PHE A 359      14.282  41.595  21.144  1.00 54.97           C  \\nATOM   1097  CD1 PHE A 359      13.442  40.729  20.452  1.00 57.91           C  \\nATOM   1098  CD2 PHE A 359      15.562  41.820  20.653  1.00 57.60           C  \\nATOM   1099  CE1 PHE A 359      13.869  40.099  19.284  1.00 56.02           C  \\nATOM   1100  CE2 PHE A 359      15.999  41.197  19.489  1.00 59.24           C  \\nATOM   1101  CZ  PHE A 359      15.149  40.335  18.803  1.00 59.94           C  \\nATOM   1102  N   ILE A 360      15.209  43.435  24.970  1.00 44.26           N  \\nATOM   1103  CA  ILE A 360      15.259  44.477  25.990  1.00 43.82           C  \\nATOM   1104  C   ILE A 360      15.549  45.785  25.277  1.00 41.69           C  \\nATOM   1105  O   ILE A 360      16.429  45.843  24.426  1.00 45.67           O  \\nATOM   1106  CB  ILE A 360      16.378  44.201  27.030  1.00 44.38           C  \\nATOM   1107  CG1 ILE A 360      15.972  43.044  27.950  1.00 43.64           C  \\nATOM   1108  CG2 ILE A 360      16.633  45.441  27.870  1.00 46.30           C  \\nATOM   1109  CD1 ILE A 360      15.819  41.711  27.256  1.00 51.88           C  \\nATOM   1110  N   HIS A 361      14.813  46.839  25.610  1.00 40.74           N  \\nATOM   1111  CA  HIS A 361      15.035  48.118  24.945  1.00 38.29           C  \\nATOM   1112  C   HIS A 361      16.286  48.824  25.452  1.00 33.72           C  \\nATOM   1113  O   HIS A 361      17.188  49.124  24.672  1.00 34.71           O  \\nATOM   1114  CB  HIS A 361      13.817  49.029  25.113  1.00 37.42           C  \\nATOM   1115  CG  HIS A 361      13.853  50.236  24.231  1.00 37.16           C  \\nATOM   1116  ND1 HIS A 361      14.729  51.281  24.434  1.00 38.41           N  \\nATOM   1117  CD2 HIS A 361      13.158  50.538  23.109  1.00 36.32           C  \\nATOM   1118  CE1 HIS A 361      14.576  52.173  23.471  1.00 40.15           C  \\nATOM   1119  NE2 HIS A 361      13.629  51.746  22.654  1.00 35.99           N  \\nATOM   1120  N   ARG A 362      16.318  49.088  26.756  1.00 38.18           N  \\nATOM   1121  CA  ARG A 362      17.433  49.755  27.444  1.00 43.16           C  \\nATOM   1122  C   ARG A 362      17.413  51.283  27.497  1.00 42.04           C  \\nATOM   1123  O   ARG A 362      18.133  51.873  28.297  1.00 41.66           O  \\nATOM   1124  CB  ARG A 362      18.788  49.323  26.873  1.00 43.82           C  \\nATOM   1125  CG  ARG A 362      19.318  47.999  27.405  1.00 53.00           C  \\nATOM   1126  CD  ARG A 362      20.759  47.786  26.936  1.00 59.17           C  \\nATOM   1127  NE  ARG A 362      21.169  46.385  26.992  1.00 66.01           N  \\nATOM   1128  CZ  ARG A 362      21.897  45.846  27.966  1.00 66.59           C  \\nATOM   1129  NH1 ARG A 362      22.311  46.589  28.984  1.00 65.19           N  \\nATOM   1130  NH2 ARG A 362      22.207  44.557  27.919  1.00 64.39           N  \\nATOM   1131  N   ASP A 363      16.609  51.932  26.663  1.00 39.71           N  \\nATOM   1132  CA  ASP A 363      16.576  53.390  26.680  1.00 34.49           C  \\nATOM   1133  C   ASP A 363      15.220  53.915  26.254  1.00 32.39           C  \\nATOM   1134  O   ASP A 363      15.113  54.722  25.335  1.00 31.37           O  \\nATOM   1135  CB  ASP A 363      17.662  53.943  25.761  1.00 33.01           C  \\nATOM   1136  CG  ASP A 363      17.880  55.438  25.943  1.00 36.08           C  \\nATOM   1137  OD1 ASP A 363      17.359  56.013  26.928  1.00 37.24           O  \\nATOM   1138  OD2 ASP A 363      18.586  56.031  25.099  1.00 37.56           O  \\nATOM   1139  N   LEU A 364      14.190  53.441  26.938  1.00 31.69           N  \\nATOM   1140  CA  LEU A 364      12.817  53.823  26.664  1.00 32.60           C  \\nATOM   1141  C   LEU A 364      12.539  55.192  27.275  1.00 31.68           C  \\nATOM   1142  O   LEU A 364      12.713  55.393  28.476  1.00 33.58           O  \\nATOM   1143  CB  LEU A 364      11.871  52.779  27.262  1.00 32.07           C  \\nATOM   1144  CG  LEU A 364      10.378  53.030  27.064  1.00 36.27           C  \\nATOM   1145  CD1 LEU A 364      10.062  53.048  25.568  1.00 31.48           C  \\nATOM   1146  CD2 LEU A 364       9.581  51.937  27.779  1.00 31.97           C  \\nATOM   1147  N   ALA A 365      12.105  56.125  26.439  1.00 31.70           N  \\nATOM   1148  CA  ALA A 365      11.818  57.490  26.867  1.00 33.84           C  \\nATOM   1149  C   ALA A 365      11.079  58.172  25.721  1.00 32.94           C  \\nATOM   1150  O   ALA A 365      11.138  57.702  24.585  1.00 34.17           O  \\nATOM   1151  CB  ALA A 365      13.133  58.230  27.162  1.00 34.30           C  \\nATOM   1152  N   ALA A 366      10.390  59.274  26.009  1.00 32.78           N  \\nATOM   1153  CA  ALA A 366       9.646  59.988  24.976  1.00 30.52           C  \\nATOM   1154  C   ALA A 366      10.531  60.400  23.795  1.00 32.13           C  \\nATOM   1155  O   ALA A 366      10.089  60.369  22.646  1.00 28.98           O  \\nATOM   1156  CB  ALA A 366       8.957  61.219  25.578  1.00 33.56           C  \\nATOM   1157  N   ARG A 367      11.781  60.766  24.076  1.00 27.44           N  \\nATOM   1158  CA  ARG A 367      12.716  61.188  23.031  1.00 27.52           C  \\nATOM   1159  C   ARG A 367      13.024  60.069  22.027  1.00 30.19           C  \\nATOM   1160  O   ARG A 367      13.472  60.335  20.910  1.00 29.41           O  \\nATOM   1161  CB  ARG A 367      14.025  61.675  23.664  1.00 32.56           C  \\nATOM   1162  CG  ARG A 367      14.705  60.610  24.507  1.00 25.30           C  \\nATOM   1163  CD  ARG A 367      15.991  61.101  25.174  1.00 34.84           C  \\nATOM   1164  NE  ARG A 367      16.500  60.042  26.038  1.00 31.33           N  \\nATOM   1165  CZ  ARG A 367      16.185  59.905  27.320  1.00 34.53           C  \\nATOM   1166  NH1 ARG A 367      15.374  60.777  27.907  1.00 31.97           N  \\nATOM   1167  NH2 ARG A 367      16.637  58.861  28.003  1.00 34.61           N  \\nATOM   1168  N   ASN A 368      12.797  58.822  22.428  1.00 29.39           N  \\nATOM   1169  CA  ASN A 368      13.043  57.691  21.539  1.00 32.68           C  \\nATOM   1170  C   ASN A 368      11.765  57.190  20.851  1.00 34.67           C  \\nATOM   1171  O   ASN A 368      11.739  56.090  20.298  1.00 35.61           O  \\nATOM   1172  CB  ASN A 368      13.715  56.545  22.301  1.00 29.09           C  \\nATOM   1173  CG  ASN A 368      15.233  56.630  22.256  1.00 33.68           C  \\nATOM   1174  OD1 ASN A 368      15.812  57.096  21.280  1.00 30.40           O  \\nATOM   1175  ND2 ASN A 368      15.879  56.172  23.312  1.00 36.21           N  \\nATOM   1176  N   CYS A 369      10.706  57.998  20.890  1.00 32.29           N  \\nATOM   1177  CA  CYS A 369       9.451  57.622  20.242  1.00 30.49           C  \\nATOM   1178  C   CYS A 369       9.131  58.585  19.103  1.00 31.64           C  \\nATOM   1179  O   CYS A 369       9.544  59.743  19.121  1.00 28.94           O  \\nATOM   1180  CB  CYS A 369       8.302  57.594  21.255  1.00 28.47           C  \\nATOM   1181  SG  CYS A 369       8.498  56.331  22.541  1.00 35.73           S  \\nATOM   1182  N   LEU A 370       8.399  58.088  18.111  1.00 28.47           N  \\nATOM   1183  CA  LEU A 370       8.042  58.868  16.934  1.00 30.18           C  \\nATOM   1184  C   LEU A 370       6.531  58.994  16.816  1.00 33.38           C  \\nATOM   1185  O   LEU A 370       5.789  58.100  17.229  1.00 33.69           O  \\nATOM   1186  CB  LEU A 370       8.603  58.184  15.680  1.00 33.56           C  \\nATOM   1187  CG  LEU A 370       9.803  58.747  14.903  1.00 40.67           C  \\nATOM   1188  CD1 LEU A 370      10.602  59.733  15.725  1.00 39.00           C  \\nATOM   1189  CD2 LEU A 370      10.660  57.580  14.446  1.00 39.09           C  \\nATOM   1190  N   VAL A 371       6.081  60.107  16.246  1.00 31.57           N  \\nATOM   1191  CA  VAL A 371       4.661  60.350  16.079  1.00 33.10           C  \\nATOM   1192  C   VAL A 371       4.294  60.473  14.614  1.00 33.32           C  \\nATOM   1193  O   VAL A 371       4.907  61.246  13.872  1.00 35.17           O  \\nATOM   1194  CB  VAL A 371       4.221  61.645  16.799  1.00 34.98           C  \\nATOM   1195  CG1 VAL A 371       2.733  61.895  16.557  1.00 28.00           C  \\nATOM   1196  CG2 VAL A 371       4.509  61.534  18.280  1.00 28.15           C  \\nATOM   1197  N   GLY A 372       3.291  59.704  14.202  1.00 34.94           N  \\nATOM   1198  CA  GLY A 372       2.839  59.749  12.824  1.00 37.23           C  \\nATOM   1199  C   GLY A 372       1.497  60.455  12.709  1.00 38.92           C  \\nATOM   1200  O   GLY A 372       1.121  61.244  13.573  1.00 38.07           O  \\nATOM   1201  N   GLU A 373       0.768  60.157  11.641  1.00 40.35           N  \\nATOM   1202  CA  GLU A 373      -0.531  60.763  11.404  1.00 41.18           C  \\nATOM   1203  C   GLU A 373      -1.567  60.135  12.330  1.00 40.15           C  \\nATOM   1204  O   GLU A 373      -1.423  58.986  12.744  1.00 38.95           O  \\nATOM   1205  CB  GLU A 373      -0.948  60.533   9.951  1.00 46.79           C  \\nATOM   1206  CG  GLU A 373      -1.675  61.694   9.313  1.00 53.04           C  \\nATOM   1207  CD  GLU A 373      -0.746  62.846   8.997  1.00 61.83           C  \\nATOM   1208  OE1 GLU A 373       0.183  62.654   8.182  1.00 63.39           O  \\nATOM   1209  OE2 GLU A 373      -0.943  63.943   9.565  1.00 67.69           O  \\nATOM   1210  N   ASN A 374      -2.607  60.896  12.661  1.00 39.36           N  \\nATOM   1211  CA  ASN A 374      -3.682  60.397  13.514  1.00 39.33           C  \\nATOM   1212  C   ASN A 374      -3.174  59.897  14.867  1.00 39.13           C  \\nATOM   1213  O   ASN A 374      -3.696  58.924  15.411  1.00 33.86           O  \\nATOM   1214  CB  ASN A 374      -4.426  59.264  12.796  1.00 42.18           C  \\nATOM   1215  CG  ASN A 374      -4.861  59.648  11.388  1.00 47.50           C  \\nATOM   1216  OD1 ASN A 374      -5.701  60.524  11.205  1.00 49.41           O  \\nATOM   1217  ND2 ASN A 374      -4.279  58.993  10.386  1.00 49.30           N  \\nATOM   1218  N   HIS A 375      -2.148  60.559  15.398  1.00 37.89           N  \\nATOM   1219  CA  HIS A 375      -1.582  60.202  16.698  1.00 34.55           C  \\nATOM   1220  C   HIS A 375      -1.017  58.789  16.789  1.00 30.06           C  \\nATOM   1221  O   HIS A 375      -0.993  58.183  17.864  1.00 33.14           O  \\nATOM   1222  CB  HIS A 375      -2.630  60.426  17.792  1.00 37.33           C  \\nATOM   1223  CG  HIS A 375      -3.125  61.837  17.855  1.00 44.51           C  \\nATOM   1224  ND1 HIS A 375      -4.460  62.154  17.980  1.00 46.17           N  \\nATOM   1225  CD2 HIS A 375      -2.462  63.016  17.790  1.00 47.32           C  \\nATOM   1226  CE1 HIS A 375      -4.599  63.468  17.987  1.00 49.15           C  \\nATOM   1227  NE2 HIS A 375      -3.401  64.015  17.873  1.00 50.82           N  \\nATOM   1228  N   LEU A 376      -0.568  58.271  15.653  1.00 31.71           N  \\nATOM   1229  CA  LEU A 376       0.052  56.954  15.594  1.00 30.69           C  \\nATOM   1230  C   LEU A 376       1.401  57.163  16.304  1.00 33.87           C  \\nATOM   1231  O   LEU A 376       2.103  58.140  16.026  1.00 30.46           O  \\nATOM   1232  CB  LEU A 376       0.301  56.573  14.136  1.00 29.20           C  \\nATOM   1233  CG  LEU A 376       0.501  55.123  13.679  1.00 39.64           C  \\nATOM   1234  CD1 LEU A 376       1.415  55.139  12.455  1.00 39.80           C  \\nATOM   1235  CD2 LEU A 376       1.100  54.263  14.771  1.00 36.37           C  \\nATOM   1236  N   VAL A 377       1.759  56.268  17.217  1.00 32.89           N  \\nATOM   1237  CA  VAL A 377       3.028  56.390  17.938  1.00 33.17           C  \\nATOM   1238  C   VAL A 377       3.837  55.110  17.787  1.00 32.57           C  \\nATOM   1239  O   VAL A 377       3.295  54.010  17.889  1.00 31.26           O  \\nATOM   1240  CB  VAL A 377       2.809  56.639  19.450  1.00 32.64           C  \\nATOM   1241  CG1 VAL A 377       4.147  56.629  20.176  1.00 31.32           C  \\nATOM   1242  CG2 VAL A 377       2.113  57.964  19.670  1.00 24.75           C  \\nATOM   1243  N   LYS A 378       5.134  55.253  17.537  1.00 29.95           N  \\nATOM   1244  CA  LYS A 378       5.996  54.089  17.390  1.00 29.73           C  \\nATOM   1245  C   LYS A 378       7.273  54.231  18.208  1.00 33.03           C  \\nATOM   1246  O   LYS A 378       7.881  55.301  18.258  1.00 28.44           O  \\nATOM   1247  CB  LYS A 378       6.348  53.865  15.920  1.00 32.33           C  \\nATOM   1248  CG  LYS A 378       5.144  53.532  15.060  1.00 38.87           C  \\nATOM   1249  CD  LYS A 378       5.541  53.022  13.683  1.00 39.86           C  \\nATOM   1250  CE  LYS A 378       4.292  52.780  12.842  1.00 39.93           C  \\nATOM   1251  NZ  LYS A 378       4.591  52.178  11.530  1.00 37.88           N  \\nATOM   1252  N   VAL A 379       7.656  53.134  18.854  1.00 32.31           N  \\nATOM   1253  CA  VAL A 379       8.851  53.081  19.669  1.00 31.15           C  \\nATOM   1254  C   VAL A 379      10.060  52.841  18.773  1.00 32.16           C  \\nATOM   1255  O   VAL A 379      10.016  52.031  17.842  1.00 29.32           O  \\nATOM   1256  CB  VAL A 379       8.762  51.943  20.712  1.00 33.37           C  \\nATOM   1257  CG1 VAL A 379      10.105  51.763  21.415  1.00 30.34           C  \\nATOM   1258  CG2 VAL A 379       7.682  52.259  21.727  1.00 29.56           C  \\nATOM   1259  N   ALA A 380      11.131  53.566  19.056  1.00 30.20           N  \\nATOM   1260  CA  ALA A 380      12.370  53.447  18.303  1.00 27.94           C  \\nATOM   1261  C   ALA A 380      13.548  53.446  19.282  1.00 31.12           C  \\nATOM   1262  O   ALA A 380      13.346  53.374  20.497  1.00 30.00           O  \\nATOM   1263  CB  ALA A 380      12.490  54.608  17.330  1.00 23.61           C  \\nATOM   1264  N   ASP A 381      14.768  53.498  18.745  1.00 32.71           N  \\nATOM   1265  CA  ASP A 381      15.997  53.536  19.548  1.00 34.41           C  \\nATOM   1266  C   ASP A 381      17.043  54.230  18.679  1.00 34.91           C  \\nATOM   1267  O   ASP A 381      17.668  53.621  17.804  1.00 34.83           O  \\nATOM   1268  CB  ASP A 381      16.463  52.125  19.922  1.00 37.88           C  \\nATOM   1269  CG  ASP A 381      17.682  52.134  20.839  1.00 47.19           C  \\nATOM   1270  OD1 ASP A 381      17.819  53.080  21.649  1.00 50.37           O  \\nATOM   1271  OD2 ASP A 381      18.500  51.193  20.759  1.00 52.55           O  \\nATOM   1272  N   PHE A 382      17.212  55.521  18.922  1.00 30.18           N  \\nATOM   1273  CA  PHE A 382      18.122  56.336  18.137  1.00 34.92           C  \\nATOM   1274  C   PHE A 382      19.568  56.341  18.633  1.00 33.20           C  \\nATOM   1275  O   PHE A 382      20.403  57.047  18.069  1.00 35.64           O  \\nATOM   1276  CB  PHE A 382      17.580  57.770  18.092  1.00 34.74           C  \\nATOM   1277  CG  PHE A 382      16.133  57.863  17.668  1.00 38.27           C  \\nATOM   1278  CD1 PHE A 382      15.255  58.713  18.335  1.00 41.10           C  \\nATOM   1279  CD2 PHE A 382      15.657  57.129  16.586  1.00 38.21           C  \\nATOM   1280  CE1 PHE A 382      13.926  58.833  17.930  1.00 43.41           C  \\nATOM   1281  CE2 PHE A 382      14.331  57.242  16.170  1.00 39.56           C  \\nATOM   1282  CZ  PHE A 382      13.463  58.096  16.841  1.00 39.00           C  \\nATOM   1283  N   GLY A 383      19.861  55.554  19.668  1.00 39.20           N  \\nATOM   1284  CA  GLY A 383      21.213  55.512  20.213  1.00 36.80           C  \\nATOM   1285  C   GLY A 383      21.674  56.924  20.526  1.00 40.70           C  \\nATOM   1286  O   GLY A 383      22.694  57.384  20.018  1.00 41.71           O  \\nATOM   1287  N   LEU A 384      20.908  57.608  21.373  1.00 42.68           N  \\nATOM   1288  CA  LEU A 384      21.173  58.993  21.758  1.00 47.34           C  \\nATOM   1289  C   LEU A 384      22.294  59.195  22.788  1.00 50.06           C  \\nATOM   1290  O   LEU A 384      22.690  60.332  23.052  1.00 46.15           O  \\nATOM   1291  CB  LEU A 384      19.873  59.625  22.278  1.00 42.35           C  \\nATOM   1292  CG  LEU A 384      18.670  59.535  21.326  1.00 46.94           C  \\nATOM   1293  CD1 LEU A 384      17.373  59.886  22.055  1.00 43.27           C  \\nATOM   1294  CD2 LEU A 384      18.893  60.458  20.137  1.00 45.26           C  \\nATOM   1295  N   SER A 385      22.795  58.101  23.361  1.00 54.99           N  \\nATOM   1296  CA  SER A 385      23.871  58.148  24.359  1.00 59.78           C  \\nATOM   1297  C   SER A 385      24.867  59.297  24.183  1.00 63.92           C  \\nATOM   1298  O   SER A 385      24.945  60.194  25.022  1.00 62.95           O  \\nATOM   1299  CB  SER A 385      24.651  56.830  24.362  1.00 57.71           C  \\nATOM   1300  OG  SER A 385      23.944  55.802  25.029  1.00 62.16           O  \\nATOM   1301  N   ARG A 386      25.632  59.256  23.096  1.00 70.27           N  \\nATOM   1302  CA  ARG A 386      26.636  60.280  22.814  1.00 77.37           C  \\nATOM   1303  C   ARG A 386      26.137  61.446  21.969  1.00 79.87           C  \\nATOM   1304  O   ARG A 386      26.862  62.416  21.758  1.00 82.23           O  \\nATOM   1305  CB  ARG A 386      27.845  59.661  22.112  1.00 80.99           C  \\nATOM   1306  CG  ARG A 386      28.812  58.925  23.019  1.00 85.15           C  \\nATOM   1307  CD  ARG A 386      30.091  58.622  22.253  1.00 89.57           C  \\nATOM   1308  NE  ARG A 386      30.659  59.836  21.666  1.00 91.27           N  \\nATOM   1309  CZ  ARG A 386      31.688  59.854  20.825  1.00 92.63           C  \\nATOM   1310  NH1 ARG A 386      32.274  58.720  20.463  1.00 93.39           N  \\nATOM   1311  NH2 ARG A 386      32.130  61.008  20.342  1.00 92.14           N  \\nATOM   1312  N   LEU A 387      24.909  61.352  21.477  1.00 81.96           N  \\nATOM   1313  CA  LEU A 387      24.351  62.416  20.656  1.00 84.55           C  \\nATOM   1314  C   LEU A 387      23.886  63.582  21.526  1.00 86.34           C  \\nATOM   1315  O   LEU A 387      24.273  64.730  21.301  1.00 86.43           O  \\nATOM   1316  CB  LEU A 387      23.184  61.876  19.827  1.00 84.68           C  \\nATOM   1317  CG  LEU A 387      23.535  60.681  18.939  1.00 84.96           C  \\nATOM   1318  CD1 LEU A 387      22.288  60.182  18.226  1.00 86.73           C  \\nATOM   1319  CD2 LEU A 387      24.609  61.086  17.941  1.00 84.01           C  \\nATOM   1320  N   MET A 388      23.058  63.278  22.522  1.00 88.35           N  \\nATOM   1321  CA  MET A 388      22.537  64.290  23.436  1.00 88.70           C  \\nATOM   1322  C   MET A 388      23.670  65.123  24.027  1.00 89.12           C  \\nATOM   1323  O   MET A 388      24.703  64.590  24.437  1.00 87.41           O  \\nATOM   1324  CB  MET A 388      21.749  63.622  24.565  1.00 88.38           C  \\nATOM   1325  CG  MET A 388      20.492  62.904  24.106  1.00 88.78           C  \\nATOM   1326  SD  MET A 388      19.086  64.001  23.870  1.00 91.04           S  \\nATOM   1327  CE  MET A 388      18.226  63.789  25.418  1.00 88.29           C  \\nATOM   1328  N   THR A 389      23.466  66.434  24.066  1.00 90.62           N  \\nATOM   1329  CA  THR A 389      24.463  67.352  24.601  1.00 91.97           C  \\nATOM   1330  C   THR A 389      24.025  67.891  25.957  1.00 92.05           C  \\nATOM   1331  O   THR A 389      24.797  68.558  26.651  1.00 93.05           O  \\nATOM   1332  CB  THR A 389      24.685  68.542  23.645  1.00 92.00           C  \\nATOM   1333  OG1 THR A 389      23.441  69.219  23.429  1.00 90.66           O  \\nATOM   1334  CG2 THR A 389      25.234  68.057  22.310  1.00 91.11           C  \\nATOM   1335  N   GLY A 390      22.785  67.588  26.332  1.00 90.27           N  \\nATOM   1336  CA  GLY A 390      22.255  68.063  27.596  1.00 86.71           C  \\nATOM   1337  C   GLY A 390      22.679  67.276  28.818  1.00 84.49           C  \\nATOM   1338  O   GLY A 390      23.718  66.615  28.824  1.00 82.73           O  \\nATOM   1339  N   ASP A 391      21.861  67.358  29.862  1.00 83.44           N  \\nATOM   1340  CA  ASP A 391      22.126  66.665  31.115  1.00 80.54           C  \\nATOM   1341  C   ASP A 391      21.284  65.391  31.202  1.00 75.27           C  \\nATOM   1342  O   ASP A 391      21.197  64.762  32.259  1.00 72.51           O  \\nATOM   1343  CB  ASP A 391      21.802  67.587  32.292  1.00 85.90           C  \\nATOM   1344  CG  ASP A 391      22.301  67.043  33.616  1.00 91.25           C  \\nATOM   1345  OD1 ASP A 391      22.013  67.665  34.662  1.00 94.88           O  \\nATOM   1346  OD2 ASP A 391      22.986  65.996  33.611  1.00 95.02           O  \\nATOM   1347  N   THR A 392      20.662  65.021  30.085  1.00 68.61           N  \\nATOM   1348  CA  THR A 392      19.830  63.824  30.031  1.00 63.52           C  \\nATOM   1349  C   THR A 392      20.673  62.584  30.315  1.00 58.70           C  \\nATOM   1350  O   THR A 392      20.332  61.787  31.186  1.00 55.31           O  \\nATOM   1351  CB  THR A 392      19.153  63.677  28.652  1.00 64.03           C  \\nATOM   1352  OG1 THR A 392      18.340  64.830  28.397  1.00 65.17           O  \\nATOM   1353  CG2 THR A 392      18.275  62.434  28.614  1.00 61.64           C  \\nATOM   1354  N   TYR A 393      21.771  62.429  29.580  1.00 55.52           N  \\nATOM   1355  CA  TYR A 393      22.670  61.295  29.776  1.00 58.14           C  \\nATOM   1356  C   TYR A 393      23.935  61.736  30.513  1.00 61.89           C  \\nATOM   1357  O   TYR A 393      24.536  62.757  30.172  1.00 62.42           O  \\nATOM   1358  CB  TYR A 393      23.081  60.680  28.434  1.00 55.46           C  \\nATOM   1359  CG  TYR A 393      21.947  60.113  27.610  1.00 55.93           C  \\nATOM   1360  CD1 TYR A 393      21.143  60.941  26.829  1.00 53.44           C  \\nATOM   1361  CD2 TYR A 393      21.684  58.743  27.603  1.00 53.95           C  \\nATOM   1362  CE1 TYR A 393      20.109  60.418  26.059  1.00 53.92           C  \\nATOM   1363  CE2 TYR A 393      20.652  58.212  26.837  1.00 52.31           C  \\nATOM   1364  CZ  TYR A 393      19.869  59.054  26.066  1.00 53.22           C  \\nATOM   1365  OH  TYR A 393      18.849  58.537  25.297  1.00 49.88           O  \\nATOM   1366  N   THR A 394      24.339  60.967  31.520  1.00 63.83           N  \\nATOM   1367  CA  THR A 394      25.547  61.285  32.279  1.00 66.99           C  \\nATOM   1368  C   THR A 394      26.544  60.133  32.283  1.00 68.25           C  \\nATOM   1369  O   THR A 394      26.165  58.963  32.349  1.00 64.94           O  \\nATOM   1370  CB  THR A 394      25.231  61.672  33.739  1.00 67.07           C  \\nATOM   1371  OG1 THR A 394      23.915  61.229  34.086  1.00 68.14           O  \\nATOM   1372  CG2 THR A 394      25.334  63.181  33.918  1.00 68.34           C  \\nATOM   1373  N   ALA A 395      27.823  60.490  32.217  1.00 70.62           N  \\nATOM   1374  CA  ALA A 395      28.919  59.528  32.187  1.00 73.39           C  \\nATOM   1375  C   ALA A 395      28.886  58.478  33.290  1.00 74.08           C  \\nATOM   1376  O   ALA A 395      28.357  58.706  34.376  1.00 72.74           O  \\nATOM   1377  CB  ALA A 395      30.252  60.271  32.219  1.00 73.75           C  \\nATOM   1378  N   HIS A 396      29.468  57.322  32.983  1.00 78.42           N  \\nATOM   1379  CA  HIS A 396      29.555  56.189  33.899  1.00 82.15           C  \\nATOM   1380  C   HIS A 396      30.400  55.092  33.258  1.00 83.08           C  \\nATOM   1381  O   HIS A 396      29.913  54.328  32.422  1.00 83.77           O  \\nATOM   1382  CB  HIS A 396      28.164  55.632  34.222  1.00 83.55           C  \\nATOM   1383  CG  HIS A 396      28.196  54.327  34.957  1.00 88.06           C  \\nATOM   1384  ND1 HIS A 396      28.700  53.171  34.399  1.00 89.55           N  \\nATOM   1385  CD2 HIS A 396      27.807  53.999  36.212  1.00 89.56           C  \\nATOM   1386  CE1 HIS A 396      28.620  52.188  35.277  1.00 89.09           C  \\nATOM   1387  NE2 HIS A 396      28.082  52.663  36.386  1.00 90.16           N  \\nATOM   1388  N   ALA A 397      31.670  55.027  33.647  1.00 83.23           N  \\nATOM   1389  CA  ALA A 397      32.588  54.024  33.119  1.00 83.89           C  \\nATOM   1390  C   ALA A 397      32.601  53.970  31.590  1.00 84.00           C  \\nATOM   1391  O   ALA A 397      32.330  52.926  30.995  1.00 84.56           O  \\nATOM   1392  CB  ALA A 397      32.235  52.655  33.683  1.00 83.45           C  \\nATOM   1393  N   GLY A 398      32.916  55.099  30.962  1.00 84.25           N  \\nATOM   1394  CA  GLY A 398      32.987  55.158  29.511  1.00 81.86           C  \\nATOM   1395  C   GLY A 398      31.670  55.075  28.768  1.00 80.53           C  \\nATOM   1396  O   GLY A 398      31.651  55.016  27.537  1.00 81.57           O  \\nATOM   1397  N   ALA A 399      30.571  55.063  29.512  1.00 77.56           N  \\nATOM   1398  CA  ALA A 399      29.244  54.995  28.920  1.00 73.84           C  \\nATOM   1399  C   ALA A 399      28.375  56.067  29.558  1.00 71.11           C  \\nATOM   1400  O   ALA A 399      28.730  56.639  30.592  1.00 69.14           O  \\nATOM   1401  CB  ALA A 399      28.635  53.621  29.152  1.00 72.33           C  \\nATOM   1402  N   LYS A 400      27.241  56.348  28.931  1.00 66.15           N  \\nATOM   1403  CA  LYS A 400      26.328  57.344  29.456  1.00 60.05           C  \\nATOM   1404  C   LYS A 400      24.945  56.745  29.647  1.00 57.02           C  \\nATOM   1405  O   LYS A 400      24.494  55.930  28.843  1.00 51.53           O  \\nATOM   1406  CB  LYS A 400      26.275  58.556  28.529  1.00 63.63           C  \\nATOM   1407  CG  LYS A 400      27.581  59.330  28.493  1.00 65.73           C  \\nATOM   1408  CD  LYS A 400      27.397  60.691  27.858  1.00 71.53           C  \\nATOM   1409  CE  LYS A 400      28.724  61.411  27.712  1.00 76.29           C  \\nATOM   1410  NZ  LYS A 400      28.568  62.736  27.047  1.00 81.43           N  \\nATOM   1411  N   PHE A 401      24.287  57.152  30.729  1.00 53.43           N  \\nATOM   1412  CA  PHE A 401      22.965  56.655  31.066  1.00 54.17           C  \\nATOM   1413  C   PHE A 401      22.039  57.784  31.496  1.00 51.94           C  \\nATOM   1414  O   PHE A 401      22.467  58.735  32.148  1.00 52.64           O  \\nATOM   1415  CB  PHE A 401      23.055  55.647  32.216  1.00 60.83           C  \\nATOM   1416  CG  PHE A 401      24.020  54.522  31.971  1.00 68.33           C  \\nATOM   1417  CD1 PHE A 401      25.395  54.741  32.000  1.00 72.03           C  \\nATOM   1418  CD2 PHE A 401      23.552  53.240  31.709  1.00 71.61           C  \\nATOM   1419  CE1 PHE A 401      26.290  53.699  31.771  1.00 73.29           C  \\nATOM   1420  CE2 PHE A 401      24.435  52.191  31.479  1.00 73.80           C  \\nATOM   1421  CZ  PHE A 401      25.807  52.420  31.510  1.00 75.20           C  \\nATOM   1422  N   PRO A 402      20.752  57.695  31.126  1.00 47.72           N  \\nATOM   1423  CA  PRO A 402      19.759  58.713  31.488  1.00 43.12           C  \\nATOM   1424  C   PRO A 402      19.310  58.380  32.909  1.00 41.65           C  \\nATOM   1425  O   PRO A 402      18.319  57.672  33.111  1.00 41.87           O  \\nATOM   1426  CB  PRO A 402      18.659  58.497  30.451  1.00 43.24           C  \\nATOM   1427  CG  PRO A 402      18.686  57.006  30.258  1.00 46.92           C  \\nATOM   1428  CD  PRO A 402      20.175  56.690  30.211  1.00 46.81           C  \\nATOM   1429  N   ILE A 403      20.053  58.890  33.888  1.00 39.52           N  \\nATOM   1430  CA  ILE A 403      19.789  58.608  35.296  1.00 37.49           C  \\nATOM   1431  C   ILE A 403      18.335  58.661  35.738  1.00 40.02           C  \\nATOM   1432  O   ILE A 403      17.884  57.790  36.482  1.00 37.28           O  \\nATOM   1433  CB  ILE A 403      20.608  59.546  36.219  1.00 41.72           C  \\nATOM   1434  CG1 ILE A 403      22.102  59.398  35.925  1.00 41.29           C  \\nATOM   1435  CG2 ILE A 403      20.355  59.199  37.682  1.00 37.34           C  \\nATOM   1436  CD1 ILE A 403      22.628  57.993  36.101  1.00 43.36           C  \\nATOM   1437  N   LYS A 404      17.596  59.669  35.283  1.00 38.46           N  \\nATOM   1438  CA  LYS A 404      16.203  59.812  35.694  1.00 39.37           C  \\nATOM   1439  C   LYS A 404      15.211  58.827  35.074  1.00 36.29           C  \\nATOM   1440  O   LYS A 404      14.033  58.824  35.432  1.00 39.06           O  \\nATOM   1441  CB  LYS A 404      15.741  61.250  35.455  1.00 40.02           C  \\nATOM   1442  CG  LYS A 404      16.285  62.230  36.490  1.00 46.10           C  \\nATOM   1443  CD  LYS A 404      15.814  63.651  36.218  1.00 52.97           C  \\nATOM   1444  CE  LYS A 404      16.155  64.576  37.381  1.00 57.06           C  \\nATOM   1445  NZ  LYS A 404      17.596  64.498  37.734  1.00 60.00           N  \\nATOM   1446  N   TRP A 405      15.691  57.999  34.155  1.00 35.32           N  \\nATOM   1447  CA  TRP A 405      14.866  56.992  33.490  1.00 35.99           C  \\nATOM   1448  C   TRP A 405      15.389  55.594  33.845  1.00 41.30           C  \\nATOM   1449  O   TRP A 405      14.809  54.583  33.450  1.00 38.47           O  \\nATOM   1450  CB  TRP A 405      14.940  57.172  31.971  1.00 33.55           C  \\nATOM   1451  CG  TRP A 405      14.043  58.243  31.397  1.00 33.15           C  \\nATOM   1452  CD1 TRP A 405      12.799  58.067  30.869  1.00 33.65           C  \\nATOM   1453  CD2 TRP A 405      14.337  59.643  31.273  1.00 33.64           C  \\nATOM   1454  NE1 TRP A 405      12.299  59.264  30.419  1.00 33.22           N  \\nATOM   1455  CE2 TRP A 405      13.220  60.249  30.655  1.00 36.16           C  \\nATOM   1456  CE3 TRP A 405      15.434  60.442  31.622  1.00 30.32           C  \\nATOM   1457  CZ2 TRP A 405      13.167  61.622  30.378  1.00 33.71           C  \\nATOM   1458  CZ3 TRP A 405      15.385  61.807  31.346  1.00 33.76           C  \\nATOM   1459  CH2 TRP A 405      14.258  62.382  30.730  1.00 38.41           C  \\nATOM   1460  N   THR A 406      16.486  55.546  34.597  1.00 41.28           N  \\nATOM   1461  CA  THR A 406      17.111  54.278  34.960  1.00 40.75           C  \\nATOM   1462  C   THR A 406      16.645  53.648  36.271  1.00 41.94           C  \\nATOM   1463  O   THR A 406      16.569  54.311  37.307  1.00 43.75           O  \\nATOM   1464  CB  THR A 406      18.627  54.447  35.004  1.00 38.69           C  \\nATOM   1465  OG1 THR A 406      19.061  55.089  33.798  1.00 34.99           O  \\nATOM   1466  CG2 THR A 406      19.312  53.094  35.121  1.00 39.19           C  \\nATOM   1467  N   ALA A 407      16.341  52.353  36.220  1.00 42.11           N  \\nATOM   1468  CA  ALA A 407      15.876  51.629  37.398  1.00 39.06           C  \\nATOM   1469  C   ALA A 407      17.002  51.528  38.428  1.00 40.96           C  \\nATOM   1470  O   ALA A 407      18.180  51.519  38.072  1.00 36.87           O  \\nATOM   1471  CB  ALA A 407      15.401  50.239  37.000  1.00 37.96           C  \\nATOM   1472  N   PRO A 408      16.648  51.460  39.721  1.00 44.10           N  \\nATOM   1473  CA  PRO A 408      17.623  51.360  40.817  1.00 45.53           C  \\nATOM   1474  C   PRO A 408      18.647  50.253  40.586  1.00 46.35           C  \\nATOM   1475  O   PRO A 408      19.855  50.494  40.638  1.00 48.43           O  \\nATOM   1476  CB  PRO A 408      16.743  51.084  42.032  1.00 47.24           C  \\nATOM   1477  CG  PRO A 408      15.485  51.835  41.700  1.00 48.10           C  \\nATOM   1478  CD  PRO A 408      15.271  51.474  40.246  1.00 44.89           C  \\nATOM   1479  N   GLU A 409      18.156  49.044  40.321  1.00 44.60           N  \\nATOM   1480  CA  GLU A 409      19.030  47.900  40.079  1.00 48.75           C  \\nATOM   1481  C   GLU A 409      20.003  48.167  38.932  1.00 48.69           C  \\nATOM   1482  O   GLU A 409      21.115  47.636  38.916  1.00 48.37           O  \\nATOM   1483  CB  GLU A 409      18.203  46.651  39.751  1.00 51.61           C  \\nATOM   1484  CG  GLU A 409      17.441  46.754  38.436  1.00 51.25           C  \\nATOM   1485  CD  GLU A 409      15.962  47.037  38.623  1.00 52.13           C  \\nATOM   1486  OE1 GLU A 409      15.601  47.781  39.565  1.00 48.09           O  \\nATOM   1487  OE2 GLU A 409      15.160  46.518  37.813  1.00 50.69           O  \\nATOM   1488  N   SER A 410      19.580  48.983  37.969  1.00 46.21           N  \\nATOM   1489  CA  SER A 410      20.422  49.305  36.819  1.00 46.83           C  \\nATOM   1490  C   SER A 410      21.519  50.298  37.193  1.00 48.01           C  \\nATOM   1491  O   SER A 410      22.639  50.223  36.683  1.00 46.85           O  \\nATOM   1492  CB  SER A 410      19.573  49.884  35.682  1.00 48.84           C  \\nATOM   1493  OG  SER A 410      18.552  48.985  35.284  1.00 50.50           O  \\nATOM   1494  N   LEU A 411      21.187  51.236  38.076  1.00 48.40           N  \\nATOM   1495  CA  LEU A 411      22.152  52.233  38.531  1.00 50.19           C  \\nATOM   1496  C   LEU A 411      23.155  51.569  39.468  1.00 51.28           C  \\nATOM   1497  O   LEU A 411      24.353  51.818  39.389  1.00 51.73           O  \\nATOM   1498  CB  LEU A 411      21.443  53.370  39.280  1.00 47.23           C  \\nATOM   1499  CG  LEU A 411      20.635  54.396  38.476  1.00 48.52           C  \\nATOM   1500  CD1 LEU A 411      19.878  55.307  39.424  1.00 45.76           C  \\nATOM   1501  CD2 LEU A 411      21.564  55.211  37.599  1.00 40.71           C  \\nATOM   1502  N   ALA A 412      22.648  50.704  40.341  1.00 54.06           N  \\nATOM   1503  CA  ALA A 412      23.478  50.016  41.320  1.00 58.27           C  \\nATOM   1504  C   ALA A 412      24.247  48.795  40.820  1.00 60.49           C  \\nATOM   1505  O   ALA A 412      25.455  48.692  41.043  1.00 60.92           O  \\nATOM   1506  CB  ALA A 412      22.627  49.625  42.518  1.00 58.21           C  \\nATOM   1507  N   TYR A 413      23.565  47.877  40.140  1.00 59.20           N  \\nATOM   1508  CA  TYR A 413      24.223  46.660  39.672  1.00 58.77           C  \\nATOM   1509  C   TYR A 413      24.433  46.522  38.170  1.00 58.06           C  \\nATOM   1510  O   TYR A 413      24.826  45.457  37.700  1.00 56.71           O  \\nATOM   1511  CB  TYR A 413      23.451  45.440  40.179  1.00 61.91           C  \\nATOM   1512  CG  TYR A 413      23.165  45.491  41.662  1.00 66.69           C  \\nATOM   1513  CD1 TYR A 413      21.971  46.024  42.145  1.00 67.31           C  \\nATOM   1514  CD2 TYR A 413      24.109  45.046  42.587  1.00 69.07           C  \\nATOM   1515  CE1 TYR A 413      21.724  46.114  43.512  1.00 70.56           C  \\nATOM   1516  CE2 TYR A 413      23.873  45.134  43.955  1.00 71.26           C  \\nATOM   1517  CZ  TYR A 413      22.681  45.669  44.410  1.00 72.53           C  \\nATOM   1518  OH  TYR A 413      22.454  45.769  45.761  1.00 74.20           O  \\nATOM   1519  N   ASN A 414      24.189  47.586  37.416  1.00 57.88           N  \\nATOM   1520  CA  ASN A 414      24.348  47.526  35.966  1.00 57.55           C  \\nATOM   1521  C   ASN A 414      23.517  46.381  35.395  1.00 55.09           C  \\nATOM   1522  O   ASN A 414      23.844  45.822  34.348  1.00 54.13           O  \\nATOM   1523  CB  ASN A 414      25.817  47.322  35.584  1.00 58.44           C  \\nATOM   1524  CG  ASN A 414      26.687  48.501  35.964  1.00 65.24           C  \\nATOM   1525  OD1 ASN A 414      26.318  49.653  35.739  1.00 69.44           O  \\nATOM   1526  ND2 ASN A 414      27.857  48.220  36.531  1.00 65.50           N  \\nATOM   1527  N   LYS A 415      22.446  46.029  36.093  1.00 54.46           N  \\nATOM   1528  CA  LYS A 415      21.576  44.957  35.642  1.00 56.97           C  \\nATOM   1529  C   LYS A 415      20.390  45.501  34.849  1.00 57.47           C  \\nATOM   1530  O   LYS A 415      19.530  46.202  35.390  1.00 56.38           O  \\nATOM   1531  CB  LYS A 415      21.059  44.147  36.833  1.00 59.32           C  \\nATOM   1532  CG  LYS A 415      20.088  43.045  36.436  1.00 63.50           C  \\nATOM   1533  CD  LYS A 415      19.573  42.278  37.643  1.00 67.65           C  \\nATOM   1534  CE  LYS A 415      18.531  41.244  37.230  1.00 66.61           C  \\nATOM   1535  NZ  LYS A 415      17.354  41.876  36.568  1.00 65.11           N  \\nATOM   1536  N   PHE A 416      20.356  45.175  33.562  1.00 56.66           N  \\nATOM   1537  CA  PHE A 416      19.270  45.603  32.694  1.00 53.96           C  \\nATOM   1538  C   PHE A 416      18.412  44.412  32.308  1.00 54.00           C  \\nATOM   1539  O   PHE A 416      18.924  43.359  31.924  1.00 53.61           O  \\nATOM   1540  CB  PHE A 416      19.813  46.269  31.429  1.00 54.41           C  \\nATOM   1541  CG  PHE A 416      20.424  47.618  31.668  1.00 57.70           C  \\nATOM   1542  CD1 PHE A 416      21.669  47.737  32.277  1.00 56.17           C  \\nATOM   1543  CD2 PHE A 416      19.744  48.776  31.297  1.00 57.60           C  \\nATOM   1544  CE1 PHE A 416      22.229  48.991  32.513  1.00 56.74           C  \\nATOM   1545  CE2 PHE A 416      20.294  50.036  31.529  1.00 56.94           C  \\nATOM   1546  CZ  PHE A 416      21.539  50.144  32.138  1.00 58.24           C  \\nATOM   1547  N   SER A 417      17.101  44.582  32.426  1.00 51.25           N  \\nATOM   1548  CA  SER A 417      16.157  43.534  32.073  1.00 48.77           C  \\nATOM   1549  C   SER A 417      14.897  44.210  31.549  1.00 48.47           C  \\nATOM   1550  O   SER A 417      14.837  45.434  31.451  1.00 45.86           O  \\nATOM   1551  CB  SER A 417      15.808  42.685  33.296  1.00 49.71           C  \\nATOM   1552  OG  SER A 417      14.930  43.381  34.164  1.00 49.29           O  \\nATOM   1553  N   ILE A 418      13.891  43.413  31.215  1.00 43.31           N  \\nATOM   1554  CA  ILE A 418      12.647  43.958  30.711  1.00 45.38           C  \\nATOM   1555  C   ILE A 418      11.939  44.685  31.858  1.00 45.20           C  \\nATOM   1556  O   ILE A 418      11.055  45.513  31.635  1.00 46.64           O  \\nATOM   1557  CB  ILE A 418      11.768  42.827  30.117  1.00 42.31           C  \\nATOM   1558  CG1 ILE A 418      10.594  43.420  29.337  1.00 42.23           C  \\nATOM   1559  CG2 ILE A 418      11.310  41.895  31.223  1.00 42.45           C  \\nATOM   1560  CD1 ILE A 418       9.330  43.560  30.145  1.00 47.27           C  \\nATOM   1561  N   LYS A 419      12.354  44.386  33.087  1.00 44.70           N  \\nATOM   1562  CA  LYS A 419      11.783  45.026  34.270  1.00 43.08           C  \\nATOM   1563  C   LYS A 419      12.302  46.456  34.436  1.00 40.19           C  \\nATOM   1564  O   LYS A 419      11.588  47.333  34.929  1.00 40.34           O  \\nATOM   1565  CB  LYS A 419      12.107  44.219  35.528  1.00 45.94           C  \\nATOM   1566  CG  LYS A 419      10.918  43.466  36.103  1.00 47.85           C  \\nATOM   1567  CD  LYS A 419      10.407  42.413  35.149  1.00 45.75           C  \\nATOM   1568  CE  LYS A 419       9.233  41.652  35.748  1.00 51.99           C  \\nATOM   1569  NZ  LYS A 419       8.010  42.483  35.860  1.00 48.56           N  \\nATOM   1570  N   SER A 420      13.546  46.694  34.037  1.00 38.64           N  \\nATOM   1571  CA  SER A 420      14.093  48.039  34.134  1.00 38.24           C  \\nATOM   1572  C   SER A 420      13.471  48.851  32.995  1.00 38.33           C  \\nATOM   1573  O   SER A 420      13.416  50.072  33.055  1.00 37.09           O  \\nATOM   1574  CB  SER A 420      15.622  48.018  34.040  1.00 37.55           C  \\nATOM   1575  OG  SER A 420      16.064  47.495  32.807  1.00 45.22           O  \\nATOM   1576  N   ASP A 421      12.985  48.160  31.963  1.00 39.57           N  \\nATOM   1577  CA  ASP A 421      12.323  48.834  30.846  1.00 36.89           C  \\nATOM   1578  C   ASP A 421      10.957  49.283  31.366  1.00 37.52           C  \\nATOM   1579  O   ASP A 421      10.476  50.360  31.024  1.00 39.28           O  \\nATOM   1580  CB  ASP A 421      12.120  47.889  29.653  1.00 37.33           C  \\nATOM   1581  CG  ASP A 421      13.355  47.768  28.758  1.00 44.45           C  \\nATOM   1582  OD1 ASP A 421      14.331  48.541  28.917  1.00 41.70           O  \\nATOM   1583  OD2 ASP A 421      13.334  46.891  27.867  1.00 44.75           O  \\nATOM   1584  N   VAL A 422      10.339  48.445  32.198  1.00 35.54           N  \\nATOM   1585  CA  VAL A 422       9.041  48.767  32.780  1.00 37.62           C  \\nATOM   1586  C   VAL A 422       9.156  50.002  33.678  1.00 36.52           C  \\nATOM   1587  O   VAL A 422       8.260  50.844  33.719  1.00 37.24           O  \\nATOM   1588  CB  VAL A 422       8.491  47.587  33.606  1.00 37.84           C  \\nATOM   1589  CG1 VAL A 422       7.211  47.998  34.301  1.00 32.64           C  \\nATOM   1590  CG2 VAL A 422       8.235  46.386  32.692  1.00 35.58           C  \\nATOM   1591  N   TRP A 423      10.262  50.105  34.405  1.00 38.86           N  \\nATOM   1592  CA  TRP A 423      10.477  51.264  35.258  1.00 37.15           C  \\nATOM   1593  C   TRP A 423      10.559  52.489  34.346  1.00 34.30           C  \\nATOM   1594  O   TRP A 423       9.895  53.501  34.583  1.00 34.20           O  \\nATOM   1595  CB  TRP A 423      11.777  51.111  36.054  1.00 38.15           C  \\nATOM   1596  CG  TRP A 423      12.139  52.324  36.877  1.00 42.05           C  \\nATOM   1597  CD1 TRP A 423      12.578  53.534  36.413  1.00 42.10           C  \\nATOM   1598  CD2 TRP A 423      12.059  52.447  38.301  1.00 45.14           C  \\nATOM   1599  NE1 TRP A 423      12.772  54.404  37.462  1.00 40.34           N  \\nATOM   1600  CE2 TRP A 423      12.462  53.763  38.632  1.00 43.48           C  \\nATOM   1601  CE3 TRP A 423      11.684  51.572  39.333  1.00 48.85           C  \\nATOM   1602  CZ2 TRP A 423      12.503  54.227  39.952  1.00 46.14           C  \\nATOM   1603  CZ3 TRP A 423      11.724  52.033  40.650  1.00 47.77           C  \\nATOM   1604  CH2 TRP A 423      12.132  53.351  40.945  1.00 50.15           C  \\nATOM   1605  N   ALA A 424      11.370  52.386  33.298  1.00 31.86           N  \\nATOM   1606  CA  ALA A 424      11.533  53.483  32.350  1.00 32.19           C  \\nATOM   1607  C   ALA A 424      10.188  53.856  31.724  1.00 34.24           C  \\nATOM   1608  O   ALA A 424       9.924  55.027  31.433  1.00 34.14           O  \\nATOM   1609  CB  ALA A 424      12.521  53.091  31.270  1.00 26.52           C  \\nATOM   1610  N   PHE A 425       9.334  52.859  31.513  1.00 34.62           N  \\nATOM   1611  CA  PHE A 425       8.021  53.121  30.933  1.00 34.77           C  \\nATOM   1612  C   PHE A 425       7.227  53.981  31.913  1.00 37.90           C  \\nATOM   1613  O   PHE A 425       6.450  54.858  31.515  1.00 36.59           O  \\nATOM   1614  CB  PHE A 425       7.277  51.811  30.672  1.00 36.44           C  \\nATOM   1615  CG  PHE A 425       5.874  52.005  30.190  1.00 37.73           C  \\nATOM   1616  CD1 PHE A 425       5.620  52.413  28.885  1.00 38.63           C  \\nATOM   1617  CD2 PHE A 425       4.805  51.809  31.051  1.00 39.30           C  \\nATOM   1618  CE1 PHE A 425       4.317  52.625  28.443  1.00 40.63           C  \\nATOM   1619  CE2 PHE A 425       3.496  52.018  30.624  1.00 43.76           C  \\nATOM   1620  CZ  PHE A 425       3.250  52.427  29.315  1.00 42.72           C  \\nATOM   1621  N   GLY A 426       7.424  53.720  33.202  1.00 37.58           N  \\nATOM   1622  CA  GLY A 426       6.734  54.496  34.214  1.00 39.21           C  \\nATOM   1623  C   GLY A 426       7.088  55.967  34.077  1.00 39.52           C  \\nATOM   1624  O   GLY A 426       6.219  56.836  34.149  1.00 39.60           O  \\nATOM   1625  N   VAL A 427       8.371  56.246  33.873  1.00 37.49           N  \\nATOM   1626  CA  VAL A 427       8.834  57.618  33.725  1.00 36.01           C  \\nATOM   1627  C   VAL A 427       8.251  58.210  32.447  1.00 39.10           C  \\nATOM   1628  O   VAL A 427       7.868  59.381  32.408  1.00 40.26           O  \\nATOM   1629  CB  VAL A 427      10.373  57.675  33.662  1.00 35.85           C  \\nATOM   1630  CG1 VAL A 427      10.840  59.116  33.572  1.00 30.62           C  \\nATOM   1631  CG2 VAL A 427      10.964  56.991  34.891  1.00 29.87           C  \\nATOM   1632  N   LEU A 428       8.184  57.390  31.402  1.00 38.65           N  \\nATOM   1633  CA  LEU A 428       7.637  57.823  30.123  1.00 38.10           C  \\nATOM   1634  C   LEU A 428       6.183  58.270  30.280  1.00 35.20           C  \\nATOM   1635  O   LEU A 428       5.775  59.292  29.725  1.00 33.35           O  \\nATOM   1636  CB  LEU A 428       7.750  56.682  29.104  1.00 41.13           C  \\nATOM   1637  CG  LEU A 428       7.139  56.833  27.711  1.00 43.82           C  \\nATOM   1638  CD1 LEU A 428       7.546  58.150  27.082  1.00 47.10           C  \\nATOM   1639  CD2 LEU A 428       7.594  55.662  26.849  1.00 45.90           C  \\nATOM   1640  N   LEU A 429       5.402  57.504  31.035  1.00 36.01           N  \\nATOM   1641  CA  LEU A 429       4.004  57.851  31.266  1.00 35.51           C  \\nATOM   1642  C   LEU A 429       3.933  59.224  31.913  1.00 35.33           C  \\nATOM   1643  O   LEU A 429       3.032  60.011  31.627  1.00 39.20           O  \\nATOM   1644  CB  LEU A 429       3.341  56.832  32.189  1.00 38.22           C  \\nATOM   1645  CG  LEU A 429       3.140  55.431  31.634  1.00 41.15           C  \\nATOM   1646  CD1 LEU A 429       2.503  54.565  32.708  1.00 46.70           C  \\nATOM   1647  CD2 LEU A 429       2.263  55.490  30.388  1.00 46.86           C  \\nATOM   1648  N   TRP A 430       4.892  59.500  32.792  1.00 38.21           N  \\nATOM   1649  CA  TRP A 430       4.962  60.780  33.479  1.00 35.57           C  \\nATOM   1650  C   TRP A 430       5.245  61.879  32.457  1.00 35.43           C  \\nATOM   1651  O   TRP A 430       4.633  62.947  32.504  1.00 34.87           O  \\nATOM   1652  CB  TRP A 430       6.071  60.758  34.533  1.00 38.43           C  \\nATOM   1653  CG  TRP A 430       5.965  61.873  35.527  1.00 39.02           C  \\nATOM   1654  CD1 TRP A 430       5.230  61.878  36.677  1.00 40.30           C  \\nATOM   1655  CD2 TRP A 430       6.589  63.160  35.444  1.00 41.17           C  \\nATOM   1656  NE1 TRP A 430       5.358  63.087  37.317  1.00 43.21           N  \\nATOM   1657  CE2 TRP A 430       6.185  63.894  36.582  1.00 41.67           C  \\nATOM   1658  CE3 TRP A 430       7.447  63.767  34.517  1.00 42.63           C  \\nATOM   1659  CZ2 TRP A 430       6.610  65.204  36.819  1.00 40.56           C  \\nATOM   1660  CZ3 TRP A 430       7.871  65.074  34.754  1.00 45.45           C  \\nATOM   1661  CH2 TRP A 430       7.451  65.776  35.896  1.00 44.07           C  \\nATOM   1662  N   GLU A 431       6.178  61.615  31.540  1.00 34.18           N  \\nATOM   1663  CA  GLU A 431       6.523  62.584  30.498  1.00 34.76           C  \\nATOM   1664  C   GLU A 431       5.270  62.882  29.680  1.00 34.72           C  \\nATOM   1665  O   GLU A 431       5.001  64.025  29.315  1.00 37.21           O  \\nATOM   1666  CB  GLU A 431       7.585  62.030  29.535  1.00 33.13           C  \\nATOM   1667  CG  GLU A 431       8.938  61.663  30.131  1.00 37.29           C  \\nATOM   1668  CD  GLU A 431       9.975  61.353  29.047  1.00 38.84           C  \\nATOM   1669  OE1 GLU A 431      10.473  62.308  28.411  1.00 39.41           O  \\nATOM   1670  OE2 GLU A 431      10.277  60.159  28.818  1.00 32.01           O  \\nATOM   1671  N   ILE A 432       4.511  61.835  29.384  1.00 34.91           N  \\nATOM   1672  CA  ILE A 432       3.305  61.986  28.589  1.00 35.13           C  \\nATOM   1673  C   ILE A 432       2.227  62.783  29.310  1.00 36.72           C  \\nATOM   1674  O   ILE A 432       1.632  63.691  28.730  1.00 32.80           O  \\nATOM   1675  CB  ILE A 432       2.741  60.612  28.183  1.00 34.79           C  \\nATOM   1676  CG1 ILE A 432       3.697  59.947  27.182  1.00 31.87           C  \\nATOM   1677  CG2 ILE A 432       1.336  60.775  27.589  1.00 35.70           C  \\nATOM   1678  CD1 ILE A 432       3.276  58.570  26.723  1.00 31.54           C  \\nATOM   1679  N   ALA A 433       1.990  62.448  30.574  1.00 36.61           N  \\nATOM   1680  CA  ALA A 433       0.967  63.125  31.363  1.00 39.28           C  \\nATOM   1681  C   ALA A 433       1.280  64.598  31.632  1.00 39.41           C  \\nATOM   1682  O   ALA A 433       0.378  65.378  31.931  1.00 42.51           O  \\nATOM   1683  CB  ALA A 433       0.750  62.381  32.681  1.00 35.07           C  \\nATOM   1684  N   THR A 434       2.548  64.984  31.520  1.00 38.47           N  \\nATOM   1685  CA  THR A 434       2.941  66.373  31.759  1.00 36.09           C  \\nATOM   1686  C   THR A 434       3.198  67.131  30.459  1.00 36.83           C  \\nATOM   1687  O   THR A 434       3.717  68.255  30.478  1.00 35.32           O  \\nATOM   1688  CB  THR A 434       4.227  66.457  32.606  1.00 37.97           C  \\nATOM   1689  OG1 THR A 434       5.313  65.854  31.885  1.00 38.29           O  \\nATOM   1690  CG2 THR A 434       4.038  65.741  33.941  1.00 33.07           C  \\nATOM   1691  N   TYR A 435       2.837  66.520  29.335  1.00 34.27           N  \\nATOM   1692  CA  TYR A 435       3.056  67.128  28.027  1.00 34.06           C  \\nATOM   1693  C   TYR A 435       4.544  67.400  27.781  1.00 35.62           C  \\nATOM   1694  O   TYR A 435       4.913  68.434  27.222  1.00 36.56           O  \\nATOM   1695  CB  TYR A 435       2.252  68.433  27.881  1.00 35.56           C  \\nATOM   1696  CG  TYR A 435       0.766  68.217  27.639  1.00 38.61           C  \\nATOM   1697  CD1 TYR A 435       0.291  67.834  26.381  1.00 37.99           C  \\nATOM   1698  CD2 TYR A 435      -0.160  68.356  28.675  1.00 36.92           C  \\nATOM   1699  CE1 TYR A 435      -1.065  67.592  26.160  1.00 34.47           C  \\nATOM   1700  CE2 TYR A 435      -1.525  68.115  28.463  1.00 35.96           C  \\nATOM   1701  CZ  TYR A 435      -1.964  67.733  27.205  1.00 35.24           C  \\nATOM   1702  OH  TYR A 435      -3.295  67.475  26.993  1.00 39.79           O  \\nATOM   1703  N   GLY A 436       5.400  66.477  28.217  1.00 37.69           N  \\nATOM   1704  CA  GLY A 436       6.827  66.622  27.968  1.00 35.25           C  \\nATOM   1705  C   GLY A 436       7.729  67.295  28.987  1.00 37.09           C  \\nATOM   1706  O   GLY A 436       8.794  67.797  28.618  1.00 38.29           O  \\nATOM   1707  N   MET A 437       7.334  67.317  30.255  1.00 36.04           N  \\nATOM   1708  CA  MET A 437       8.178  67.931  31.276  1.00 42.66           C  \\nATOM   1709  C   MET A 437       9.350  67.028  31.648  1.00 43.80           C  \\nATOM   1710  O   MET A 437       9.289  65.810  31.476  1.00 40.99           O  \\nATOM   1711  CB  MET A 437       7.373  68.233  32.540  1.00 42.12           C  \\nATOM   1712  CG  MET A 437       6.495  69.470  32.451  1.00 52.61           C  \\nATOM   1713  SD  MET A 437       5.628  69.773  34.005  1.00 62.75           S  \\nATOM   1714  CE  MET A 437       7.031  69.998  35.129  1.00 56.43           C  \\nATOM   1715  N   SER A 438      10.415  67.633  32.165  1.00 44.83           N  \\nATOM   1716  CA  SER A 438      11.585  66.877  32.589  1.00 47.44           C  \\nATOM   1717  C   SER A 438      11.317  66.182  33.926  1.00 45.65           C  \\nATOM   1718  O   SER A 438      10.747  66.774  34.839  1.00 47.04           O  \\nATOM   1719  CB  SER A 438      12.793  67.803  32.717  1.00 48.95           C  \\nATOM   1720  OG  SER A 438      13.239  68.209  31.439  1.00 54.56           O  \\nATOM   1721  N   PRO A 439      11.728  64.909  34.050  1.00 43.62           N  \\nATOM   1722  CA  PRO A 439      11.551  64.093  35.259  1.00 44.52           C  \\nATOM   1723  C   PRO A 439      12.269  64.657  36.490  1.00 44.20           C  \\nATOM   1724  O   PRO A 439      13.289  65.326  36.363  1.00 42.70           O  \\nATOM   1725  CB  PRO A 439      12.119  62.733  34.848  1.00 44.46           C  \\nATOM   1726  CG  PRO A 439      11.972  62.720  33.364  1.00 47.78           C  \\nATOM   1727  CD  PRO A 439      12.366  64.121  32.985  1.00 43.99           C  \\nATOM   1728  N   TYR A 440      11.735  64.361  37.675  1.00 47.10           N  \\nATOM   1729  CA  TYR A 440      12.307  64.832  38.938  1.00 48.80           C  \\nATOM   1730  C   TYR A 440      12.828  66.259  38.768  1.00 49.05           C  \\nATOM   1731  O   TYR A 440      14.022  66.526  38.933  1.00 48.86           O  \\nATOM   1732  CB  TYR A 440      13.448  63.906  39.398  1.00 47.73           C  \\nATOM   1733  CG  TYR A 440      13.061  62.440  39.489  1.00 48.42           C  \\nATOM   1734  CD1 TYR A 440      13.317  61.560  38.429  1.00 47.97           C  \\nATOM   1735  CD2 TYR A 440      12.396  61.941  40.612  1.00 45.30           C  \\nATOM   1736  CE1 TYR A 440      12.915  60.221  38.484  1.00 41.00           C  \\nATOM   1737  CE2 TYR A 440      11.987  60.605  40.676  1.00 46.28           C  \\nATOM   1738  CZ  TYR A 440      12.248  59.752  39.604  1.00 45.44           C  \\nATOM   1739  OH  TYR A 440      11.805  58.448  39.639  1.00 43.80           O  \\nATOM   1740  N   PRO A 441      11.929  67.198  38.433  1.00 48.41           N  \\nATOM   1741  CA  PRO A 441      12.324  68.598  38.239  1.00 50.34           C  \\nATOM   1742  C   PRO A 441      13.065  69.206  39.423  1.00 48.28           C  \\nATOM   1743  O   PRO A 441      12.586  69.166  40.556  1.00 48.33           O  \\nATOM   1744  CB  PRO A 441      10.992  69.298  37.954  1.00 48.09           C  \\nATOM   1745  CG  PRO A 441       9.995  68.447  38.675  1.00 45.60           C  \\nATOM   1746  CD  PRO A 441      10.465  67.052  38.359  1.00 46.52           C  \\nATOM   1747  N   GLY A 442      14.244  69.755  39.150  1.00 48.71           N  \\nATOM   1748  CA  GLY A 442      15.030  70.385  40.196  1.00 50.43           C  \\nATOM   1749  C   GLY A 442      15.978  69.489  40.972  1.00 51.68           C  \\nATOM   1750  O   GLY A 442      17.051  69.932  41.379  1.00 51.04           O  \\nATOM   1751  N   ILE A 443      15.593  68.236  41.185  1.00 51.76           N  \\nATOM   1752  CA  ILE A 443      16.433  67.304  41.928  1.00 54.04           C  \\nATOM   1753  C   ILE A 443      17.711  66.991  41.156  1.00 55.01           C  \\nATOM   1754  O   ILE A 443      17.657  66.615  39.989  1.00 54.64           O  \\nATOM   1755  CB  ILE A 443      15.690  65.973  42.210  1.00 55.82           C  \\nATOM   1756  CG1 ILE A 443      14.396  66.240  42.979  1.00 55.62           C  \\nATOM   1757  CG2 ILE A 443      16.572  65.040  43.029  1.00 55.90           C  \\nATOM   1758  CD1 ILE A 443      13.296  66.851  42.145  1.00 60.24           C  \\nATOM   1759  N   ASP A 444      18.865  67.149  41.799  1.00 57.59           N  \\nATOM   1760  CA  ASP A 444      20.121  66.853  41.119  1.00 60.21           C  \\nATOM   1761  C   ASP A 444      20.326  65.340  41.037  1.00 58.88           C  \\nATOM   1762  O   ASP A 444      19.936  64.593  41.940  1.00 55.56           O  \\nATOM   1763  CB  ASP A 444      21.306  67.531  41.819  1.00 63.81           C  \\nATOM   1764  CG  ASP A 444      21.463  67.099  43.253  1.00 67.75           C  \\nATOM   1765  OD1 ASP A 444      20.494  67.248  44.025  1.00 74.01           O  \\nATOM   1766  OD2 ASP A 444      22.559  66.618  43.612  1.00 71.70           O  \\nATOM   1767  N   LEU A 445      20.927  64.911  39.932  1.00 59.30           N  \\nATOM   1768  CA  LEU A 445      21.178  63.505  39.636  1.00 60.86           C  \\nATOM   1769  C   LEU A 445      21.834  62.678  40.737  1.00 59.33           C  \\nATOM   1770  O   LEU A 445      21.427  61.545  40.985  1.00 60.00           O  \\nATOM   1771  CB  LEU A 445      22.012  63.394  38.354  1.00 61.11           C  \\nATOM   1772  CG  LEU A 445      21.340  63.786  37.031  1.00 63.72           C  \\nATOM   1773  CD1 LEU A 445      20.845  65.219  37.088  1.00 65.24           C  \\nATOM   1774  CD2 LEU A 445      22.334  63.624  35.896  1.00 63.43           C  \\nATOM   1775  N   SER A 446      22.839  63.243  41.397  1.00 59.98           N  \\nATOM   1776  CA  SER A 446      23.559  62.538  42.452  1.00 57.81           C  \\nATOM   1777  C   SER A 446      22.735  62.143  43.679  1.00 56.34           C  \\nATOM   1778  O   SER A 446      23.181  61.337  44.495  1.00 58.60           O  \\nATOM   1779  CB  SER A 446      24.772  63.365  42.887  1.00 59.32           C  \\nATOM   1780  OG  SER A 446      24.427  64.725  43.064  1.00 59.94           O  \\nATOM   1781  N   GLN A 447      21.535  62.690  43.812  1.00 53.06           N  \\nATOM   1782  CA  GLN A 447      20.702  62.359  44.960  1.00 49.65           C  \\nATOM   1783  C   GLN A 447      19.450  61.555  44.602  1.00 48.00           C  \\nATOM   1784  O   GLN A 447      18.688  61.160  45.487  1.00 50.61           O  \\nATOM   1785  CB  GLN A 447      20.303  63.642  45.695  1.00 52.57           C  \\nATOM   1786  CG  GLN A 447      21.489  64.485  46.156  1.00 51.21           C  \\nATOM   1787  CD  GLN A 447      21.080  65.646  47.048  1.00 51.94           C  \\nATOM   1788  OE1 GLN A 447      20.466  65.452  48.100  1.00 50.86           O  \\nATOM   1789  NE2 GLN A 447      21.425  66.861  46.634  1.00 52.10           N  \\nATOM   1790  N   VAL A 448      19.243  61.298  43.313  1.00 45.97           N  \\nATOM   1791  CA  VAL A 448      18.068  60.551  42.868  1.00 46.48           C  \\nATOM   1792  C   VAL A 448      17.956  59.148  43.469  1.00 45.49           C  \\nATOM   1793  O   VAL A 448      16.912  58.785  44.015  1.00 42.49           O  \\nATOM   1794  CB  VAL A 448      18.028  60.440  41.328  1.00 49.22           C  \\nATOM   1795  CG1 VAL A 448      16.900  59.510  40.899  1.00 50.34           C  \\nATOM   1796  CG2 VAL A 448      17.812  61.818  40.716  1.00 49.59           C  \\nATOM   1797  N   TYR A 449      19.024  58.364  43.376  1.00 47.29           N  \\nATOM   1798  CA  TYR A 449      19.008  57.005  43.911  1.00 51.96           C  \\nATOM   1799  C   TYR A 449      18.588  56.990  45.380  1.00 53.31           C  \\nATOM   1800  O   TYR A 449      17.585  56.368  45.743  1.00 53.97           O  \\nATOM   1801  CB  TYR A 449      20.387  56.358  43.771  1.00 55.13           C  \\nATOM   1802  CG  TYR A 449      20.403  54.895  44.162  1.00 59.27           C  \\nATOM   1803  CD1 TYR A 449      20.084  53.900  43.240  1.00 60.22           C  \\nATOM   1804  CD2 TYR A 449      20.727  54.506  45.459  1.00 61.07           C  \\nATOM   1805  CE1 TYR A 449      20.091  52.551  43.601  1.00 61.22           C  \\nATOM   1806  CE2 TYR A 449      20.737  53.164  45.831  1.00 61.46           C  \\nATOM   1807  CZ  TYR A 449      20.420  52.192  44.900  1.00 62.51           C  \\nATOM   1808  OH  TYR A 449      20.442  50.866  45.269  1.00 61.23           O  \\nATOM   1809  N   GLU A 450      19.362  57.678  46.217  1.00 52.82           N  \\nATOM   1810  CA  GLU A 450      19.086  57.756  47.647  1.00 51.29           C  \\nATOM   1811  C   GLU A 450      17.614  58.040  47.914  1.00 49.29           C  \\nATOM   1812  O   GLU A 450      16.995  57.412  48.776  1.00 46.98           O  \\nATOM   1813  CB  GLU A 450      19.952  58.848  48.278  1.00 59.35           C  \\nATOM   1814  CG  GLU A 450      21.437  58.540  48.244  1.00 64.32           C  \\nATOM   1815  CD  GLU A 450      21.842  57.528  49.300  1.00 71.07           C  \\nATOM   1816  OE1 GLU A 450      22.363  57.945  50.358  1.00 72.58           O  \\nATOM   1817  OE2 GLU A 450      21.627  56.316  49.079  1.00 74.91           O  \\nATOM   1818  N   LEU A 451      17.058  58.993  47.173  1.00 49.40           N  \\nATOM   1819  CA  LEU A 451      15.654  59.357  47.325  1.00 45.11           C  \\nATOM   1820  C   LEU A 451      14.745  58.187  46.949  1.00 45.53           C  \\nATOM   1821  O   LEU A 451      13.796  57.873  47.672  1.00 42.48           O  \\nATOM   1822  CB  LEU A 451      15.332  60.578  46.457  1.00 45.36           C  \\nATOM   1823  CG  LEU A 451      15.856  61.922  46.977  1.00 46.32           C  \\nATOM   1824  CD1 LEU A 451      15.806  62.973  45.877  1.00 40.73           C  \\nATOM   1825  CD2 LEU A 451      15.017  62.350  48.175  1.00 43.04           C  \\nATOM   1826  N   LEU A 452      15.034  57.542  45.820  1.00 46.82           N  \\nATOM   1827  CA  LEU A 452      14.226  56.409  45.380  1.00 47.93           C  \\nATOM   1828  C   LEU A 452      14.308  55.322  46.445  1.00 49.34           C  \\nATOM   1829  O   LEU A 452      13.338  54.609  46.700  1.00 49.13           O  \\nATOM   1830  CB  LEU A 452      14.728  55.878  44.026  1.00 44.58           C  \\nATOM   1831  CG  LEU A 452      14.580  56.813  42.818  1.00 39.32           C  \\nATOM   1832  CD1 LEU A 452      15.237  56.188  41.601  1.00 41.27           C  \\nATOM   1833  CD2 LEU A 452      13.108  57.082  42.545  1.00 38.87           C  \\nATOM   1834  N   GLU A 453      15.472  55.214  47.076  1.00 50.89           N  \\nATOM   1835  CA  GLU A 453      15.678  54.228  48.124  1.00 55.27           C  \\nATOM   1836  C   GLU A 453      14.877  54.641  49.351  1.00 56.68           C  \\nATOM   1837  O   GLU A 453      14.348  53.793  50.070  1.00 58.95           O  \\nATOM   1838  CB  GLU A 453      17.161  54.131  48.473  1.00 58.31           C  \\nATOM   1839  CG  GLU A 453      17.497  53.009  49.430  1.00 63.64           C  \\nATOM   1840  CD  GLU A 453      18.983  52.915  49.702  1.00 69.78           C  \\nATOM   1841  OE1 GLU A 453      19.565  53.911  50.187  1.00 72.96           O  \\nATOM   1842  OE2 GLU A 453      19.571  51.846  49.431  1.00 72.44           O  \\nATOM   1843  N   LYS A 454      14.792  55.949  49.586  1.00 58.24           N  \\nATOM   1844  CA  LYS A 454      14.036  56.481  50.720  1.00 60.19           C  \\nATOM   1845  C   LYS A 454      12.546  56.395  50.416  1.00 58.87           C  \\nATOM   1846  O   LYS A 454      11.719  56.901  51.171  1.00 58.04           O  \\nATOM   1847  CB  LYS A 454      14.410  57.942  50.987  1.00 63.96           C  \\nATOM   1848  CG  LYS A 454      15.754  58.154  51.664  1.00 65.94           C  \\nATOM   1849  CD  LYS A 454      15.752  57.606  53.078  1.00 68.50           C  \\nATOM   1850  CE  LYS A 454      16.910  58.173  53.882  1.00 70.51           C  \\nATOM   1851  NZ  LYS A 454      18.209  57.996  53.181  1.00 70.82           N  \\nATOM   1852  N   ASP A 455      12.227  55.761  49.289  1.00 58.99           N  \\nATOM   1853  CA  ASP A 455      10.856  55.561  48.830  1.00 57.00           C  \\nATOM   1854  C   ASP A 455      10.197  56.793  48.224  1.00 53.15           C  \\nATOM   1855  O   ASP A 455       8.971  56.882  48.168  1.00 50.26           O  \\nATOM   1856  CB  ASP A 455       9.988  55.014  49.965  1.00 62.26           C  \\nATOM   1857  CG  ASP A 455      10.467  53.664  50.460  1.00 69.37           C  \\nATOM   1858  OD1 ASP A 455      10.491  52.706  49.656  1.00 72.07           O  \\nATOM   1859  OD2 ASP A 455      10.825  53.559  51.654  1.00 74.47           O  \\nATOM   1860  N   TYR A 456      11.008  57.743  47.770  1.00 51.81           N  \\nATOM   1861  CA  TYR A 456      10.477  58.947  47.140  1.00 50.56           C  \\nATOM   1862  C   TYR A 456      10.123  58.613  45.694  1.00 50.60           C  \\nATOM   1863  O   TYR A 456      10.835  57.851  45.042  1.00 49.50           O  \\nATOM   1864  CB  TYR A 456      11.514  60.072  47.141  1.00 50.12           C  \\nATOM   1865  CG  TYR A 456      11.021  61.322  46.443  1.00 50.26           C  \\nATOM   1866  CD1 TYR A 456      10.020  62.111  47.011  1.00 49.01           C  \\nATOM   1867  CD2 TYR A 456      11.524  61.695  45.199  1.00 52.02           C  \\nATOM   1868  CE1 TYR A 456       9.530  63.241  46.358  1.00 51.77           C  \\nATOM   1869  CE2 TYR A 456      11.040  62.827  44.532  1.00 55.56           C  \\nATOM   1870  CZ  TYR A 456      10.043  63.595  45.119  1.00 53.61           C  \\nATOM   1871  OH  TYR A 456       9.571  64.719  44.480  1.00 53.27           O  \\nATOM   1872  N   ARG A 457       9.028  59.185  45.201  1.00 51.78           N  \\nATOM   1873  CA  ARG A 457       8.577  58.963  43.826  1.00 55.14           C  \\nATOM   1874  C   ARG A 457       7.911  60.239  43.318  1.00 56.75           C  \\nATOM   1875  O   ARG A 457       7.426  61.042  44.113  1.00 58.90           O  \\nATOM   1876  CB  ARG A 457       7.573  57.809  43.774  1.00 52.99           C  \\nATOM   1877  CG  ARG A 457       8.137  56.452  44.175  1.00 53.17           C  \\nATOM   1878  CD  ARG A 457       9.058  55.873  43.112  1.00 50.89           C  \\nATOM   1879  NE  ARG A 457       9.477  54.516  43.456  1.00 49.73           N  \\nATOM   1880  CZ  ARG A 457      10.377  54.218  44.389  1.00 50.62           C  \\nATOM   1881  NH1 ARG A 457      10.972  55.183  45.079  1.00 53.12           N  \\nATOM   1882  NH2 ARG A 457      10.672  52.952  44.647  1.00 46.08           N  \\nATOM   1883  N   MET A 458       7.884  60.434  42.002  1.00 55.27           N  \\nATOM   1884  CA  MET A 458       7.256  61.632  41.445  1.00 54.03           C  \\nATOM   1885  C   MET A 458       5.763  61.697  41.768  1.00 54.51           C  \\nATOM   1886  O   MET A 458       5.062  60.682  41.753  1.00 52.07           O  \\nATOM   1887  CB  MET A 458       7.461  61.694  39.930  1.00 51.84           C  \\nATOM   1888  CG  MET A 458       8.898  61.980  39.511  1.00 52.53           C  \\nATOM   1889  SD  MET A 458       9.052  62.406  37.756  1.00 50.27           S  \\nATOM   1890  CE  MET A 458       9.185  60.773  37.014  1.00 53.19           C  \\nATOM   1891  N   GLU A 459       5.281  62.899  42.067  1.00 55.54           N  \\nATOM   1892  CA  GLU A 459       3.875  63.099  42.404  1.00 60.21           C  \\nATOM   1893  C   GLU A 459       2.999  62.944  41.165  1.00 58.56           C  \\nATOM   1894  O   GLU A 459       3.473  63.070  40.038  1.00 57.22           O  \\nATOM   1895  CB  GLU A 459       3.667  64.499  42.994  1.00 64.10           C  \\nATOM   1896  CG  GLU A 459       3.758  65.605  41.952  1.00 70.85           C  \\nATOM   1897  CD  GLU A 459       3.926  66.984  42.556  1.00 75.29           C  \\nATOM   1898  OE1 GLU A 459       2.964  67.504  43.158  1.00 81.29           O  \\nATOM   1899  OE2 GLU A 459       5.033  67.547  42.428  1.00 78.58           O  \\nATOM   1900  N   ARG A 460       1.717  62.680  41.386  1.00 60.05           N  \\nATOM   1901  CA  ARG A 460       0.766  62.524  40.294  1.00 62.94           C  \\nATOM   1902  C   ARG A 460       0.609  63.834  39.530  1.00 64.04           C  \\nATOM   1903  O   ARG A 460       0.169  64.839  40.088  1.00 63.65           O  \\nATOM   1904  CB  ARG A 460      -0.596  62.093  40.836  1.00 63.24           C  \\nATOM   1905  CG  ARG A 460      -1.652  61.901  39.764  1.00 64.84           C  \\nATOM   1906  CD  ARG A 460      -2.975  61.481  40.375  1.00 67.95           C  \\nATOM   1907  NE  ARG A 460      -3.519  62.517  41.248  1.00 70.94           N  \\nATOM   1908  CZ  ARG A 460      -4.041  63.661  40.817  1.00 70.93           C  \\nATOM   1909  NH1 ARG A 460      -4.098  63.921  39.517  1.00 69.55           N  \\nATOM   1910  NH2 ARG A 460      -4.503  64.549  41.688  1.00 71.16           N  \\nATOM   1911  N   PRO A 461       0.969  63.838  38.237  1.00 64.18           N  \\nATOM   1912  CA  PRO A 461       0.853  65.049  37.422  1.00 65.75           C  \\nATOM   1913  C   PRO A 461      -0.574  65.580  37.428  1.00 67.05           C  \\nATOM   1914  O   PRO A 461      -1.532  64.809  37.519  1.00 65.35           O  \\nATOM   1915  CB  PRO A 461       1.281  64.574  36.036  1.00 65.02           C  \\nATOM   1916  CG  PRO A 461       2.252  63.478  36.343  1.00 65.94           C  \\nATOM   1917  CD  PRO A 461       1.550  62.735  37.454  1.00 63.92           C  \\nATOM   1918  N   GLU A 462      -0.712  66.897  37.332  1.00 69.32           N  \\nATOM   1919  CA  GLU A 462      -2.026  67.518  37.323  1.00 71.44           C  \\nATOM   1920  C   GLU A 462      -2.838  66.981  36.149  1.00 71.53           C  \\nATOM   1921  O   GLU A 462      -2.349  66.918  35.020  1.00 71.45           O  \\nATOM   1922  CB  GLU A 462      -1.882  69.038  37.216  1.00 75.79           C  \\nATOM   1923  CG  GLU A 462      -3.198  69.798  37.175  1.00 81.37           C  \\nATOM   1924  CD  GLU A 462      -2.995  71.303  37.146  1.00 86.96           C  \\nATOM   1925  OE1 GLU A 462      -2.254  71.787  36.264  1.00 87.47           O  \\nATOM   1926  OE2 GLU A 462      -3.577  72.001  38.004  1.00 89.99           O  \\nATOM   1927  N   GLY A 463      -4.075  66.578  36.424  1.00 70.47           N  \\nATOM   1928  CA  GLY A 463      -4.930  66.061  35.370  1.00 70.15           C  \\nATOM   1929  C   GLY A 463      -4.681  64.611  35.000  1.00 68.46           C  \\nATOM   1930  O   GLY A 463      -5.332  64.077  34.101  1.00 68.00           O  \\nATOM   1931  N   CYS A 464      -3.737  63.971  35.681  1.00 67.42           N  \\nATOM   1932  CA  CYS A 464      -3.428  62.573  35.407  1.00 67.39           C  \\nATOM   1933  C   CYS A 464      -4.394  61.658  36.146  1.00 68.10           C  \\nATOM   1934  O   CYS A 464      -4.424  61.635  37.377  1.00 68.74           O  \\nATOM   1935  CB  CYS A 464      -1.998  62.237  35.833  1.00 63.92           C  \\nATOM   1936  SG  CYS A 464      -1.581  60.486  35.645  1.00 61.70           S  \\nATOM   1937  N   PRO A 465      -5.195  60.885  35.400  1.00 69.30           N  \\nATOM   1938  CA  PRO A 465      -6.158  59.970  36.020  1.00 69.97           C  \\nATOM   1939  C   PRO A 465      -5.531  59.083  37.095  1.00 70.99           C  \\nATOM   1940  O   PRO A 465      -4.382  58.655  36.977  1.00 68.49           O  \\nATOM   1941  CB  PRO A 465      -6.703  59.178  34.829  1.00 69.78           C  \\nATOM   1942  CG  PRO A 465      -5.616  59.295  33.792  1.00 70.34           C  \\nATOM   1943  CD  PRO A 465      -5.177  60.718  33.939  1.00 69.14           C  \\nATOM   1944  N   GLU A 466      -6.301  58.820  38.147  1.00 72.81           N  \\nATOM   1945  CA  GLU A 466      -5.842  58.003  39.263  1.00 72.30           C  \\nATOM   1946  C   GLU A 466      -5.333  56.648  38.796  1.00 68.46           C  \\nATOM   1947  O   GLU A 466      -4.277  56.189  39.231  1.00 67.22           O  \\nATOM   1948  CB  GLU A 466      -6.978  57.806  40.269  1.00 76.45           C  \\nATOM   1949  CG  GLU A 466      -6.516  57.838  41.710  1.00 83.68           C  \\nATOM   1950  CD  GLU A 466      -5.793  59.132  42.047  1.00 88.14           C  \\nATOM   1951  OE1 GLU A 466      -6.403  60.215  41.899  1.00 89.70           O  \\nATOM   1952  OE2 GLU A 466      -4.613  59.065  42.453  1.00 89.82           O  \\nATOM   1953  N   LYS A 467      -6.092  56.016  37.909  1.00 64.14           N  \\nATOM   1954  CA  LYS A 467      -5.731  54.711  37.371  1.00 62.28           C  \\nATOM   1955  C   LYS A 467      -4.357  54.720  36.704  1.00 59.44           C  \\nATOM   1956  O   LYS A 467      -3.559  53.800  36.894  1.00 55.02           O  \\nATOM   1957  CB  LYS A 467      -6.784  54.257  36.358  1.00 65.80           C  \\nATOM   1958  CG  LYS A 467      -8.020  53.609  36.961  1.00 71.05           C  \\nATOM   1959  CD  LYS A 467      -7.749  52.156  37.320  1.00 75.50           C  \\nATOM   1960  CE  LYS A 467      -9.025  51.435  37.727  1.00 79.99           C  \\nATOM   1961  NZ  LYS A 467      -8.795  49.979  37.971  1.00 80.66           N  \\nATOM   1962  N   VAL A 468      -4.086  55.756  35.916  1.00 55.77           N  \\nATOM   1963  CA  VAL A 468      -2.807  55.852  35.223  1.00 53.01           C  \\nATOM   1964  C   VAL A 468      -1.667  56.073  36.207  1.00 51.09           C  \\nATOM   1965  O   VAL A 468      -0.580  55.532  36.032  1.00 52.05           O  \\nATOM   1966  CB  VAL A 468      -2.821  56.989  34.171  1.00 51.50           C  \\nATOM   1967  CG1 VAL A 468      -1.442  57.140  33.536  1.00 48.23           C  \\nATOM   1968  CG2 VAL A 468      -3.846  56.674  33.096  1.00 49.44           C  \\nATOM   1969  N   TYR A 469      -1.915  56.863  37.246  1.00 51.00           N  \\nATOM   1970  CA  TYR A 469      -0.884  57.119  38.243  1.00 50.70           C  \\nATOM   1971  C   TYR A 469      -0.615  55.838  39.029  1.00 50.71           C  \\nATOM   1972  O   TYR A 469       0.519  55.557  39.413  1.00 46.96           O  \\nATOM   1973  CB  TYR A 469      -1.317  58.233  39.197  1.00 49.34           C  \\nATOM   1974  CG  TYR A 469      -0.236  58.625  40.169  1.00 54.37           C  \\nATOM   1975  CD1 TYR A 469       1.005  59.064  39.712  1.00 53.37           C  \\nATOM   1976  CD2 TYR A 469      -0.441  58.547  41.547  1.00 56.56           C  \\nATOM   1977  CE1 TYR A 469       2.015  59.413  40.596  1.00 54.27           C  \\nATOM   1978  CE2 TYR A 469       0.568  58.898  42.445  1.00 54.26           C  \\nATOM   1979  CZ  TYR A 469       1.795  59.331  41.959  1.00 53.40           C  \\nATOM   1980  OH  TYR A 469       2.808  59.685  42.826  1.00 47.77           O  \\nATOM   1981  N   GLU A 470      -1.670  55.065  39.270  1.00 53.70           N  \\nATOM   1982  CA  GLU A 470      -1.533  53.806  39.991  1.00 56.31           C  \\nATOM   1983  C   GLU A 470      -0.601  52.917  39.185  1.00 53.31           C  \\nATOM   1984  O   GLU A 470       0.196  52.170  39.742  1.00 52.12           O  \\nATOM   1985  CB  GLU A 470      -2.888  53.105  40.132  1.00 62.02           C  \\nATOM   1986  CG  GLU A 470      -3.964  53.919  40.830  1.00 70.36           C  \\nATOM   1987  CD  GLU A 470      -5.311  53.216  40.832  1.00 75.88           C  \\nATOM   1988  OE1 GLU A 470      -6.308  53.840  41.260  1.00 79.06           O  \\nATOM   1989  OE2 GLU A 470      -5.372  52.040  40.409  1.00 75.61           O  \\nATOM   1990  N   LEU A 471      -0.714  53.007  37.862  1.00 51.94           N  \\nATOM   1991  CA  LEU A 471       0.115  52.211  36.966  1.00 49.80           C  \\nATOM   1992  C   LEU A 471       1.567  52.667  37.059  1.00 46.47           C  \\nATOM   1993  O   LEU A 471       2.491  51.855  37.025  1.00 47.16           O  \\nATOM   1994  CB  LEU A 471      -0.397  52.345  35.530  1.00 50.15           C  \\nATOM   1995  CG  LEU A 471      -0.529  51.046  34.732  1.00 52.51           C  \\nATOM   1996  CD1 LEU A 471      -1.283  50.016  35.548  1.00 50.29           C  \\nATOM   1997  CD2 LEU A 471      -1.260  51.319  33.428  1.00 54.82           C  \\nATOM   1998  N   MET A 472       1.755  53.975  37.187  1.00 46.13           N  \\nATOM   1999  CA  MET A 472       3.083  54.569  37.294  1.00 47.19           C  \\nATOM   2000  C   MET A 472       3.853  54.035  38.504  1.00 48.52           C  \\nATOM   2001  O   MET A 472       5.021  53.650  38.395  1.00 42.21           O  \\nATOM   2002  CB  MET A 472       2.954  56.083  37.422  1.00 46.06           C  \\nATOM   2003  CG  MET A 472       3.520  56.869  36.263  1.00 48.62           C  \\nATOM   2004  SD  MET A 472       3.354  58.628  36.595  1.00 52.19           S  \\nATOM   2005  CE  MET A 472       1.937  59.029  35.602  1.00 49.27           C  \\nATOM   2006  N   ARG A 473       3.192  54.030  39.659  1.00 49.41           N  \\nATOM   2007  CA  ARG A 473       3.805  53.560  40.898  1.00 49.23           C  \\nATOM   2008  C   ARG A 473       4.142  52.072  40.893  1.00 48.68           C  \\nATOM   2009  O   ARG A 473       5.106  51.651  41.539  1.00 45.18           O  \\nATOM   2010  CB  ARG A 473       2.899  53.879  42.088  1.00 52.52           C  \\nATOM   2011  CG  ARG A 473       2.875  55.352  42.475  1.00 55.89           C  \\nATOM   2012  CD  ARG A 473       4.288  55.865  42.716  1.00 61.17           C  \\nATOM   2013  NE  ARG A 473       4.311  57.145  43.418  1.00 68.71           N  \\nATOM   2014  CZ  ARG A 473       4.001  57.299  44.701  1.00 66.63           C  \\nATOM   2015  NH1 ARG A 473       3.643  56.250  45.430  1.00 67.60           N  \\nATOM   2016  NH2 ARG A 473       4.053  58.500  45.257  1.00 68.23           N  \\nATOM   2017  N   ALA A 474       3.354  51.278  40.172  1.00 47.04           N  \\nATOM   2018  CA  ALA A 474       3.603  49.842  40.093  1.00 42.73           C  \\nATOM   2019  C   ALA A 474       4.870  49.596  39.273  1.00 46.26           C  \\nATOM   2020  O   ALA A 474       5.603  48.631  39.512  1.00 44.07           O  \\nATOM   2021  CB  ALA A 474       2.417  49.141  39.456  1.00 41.50           C  \\nATOM   2022  N   CYS A 475       5.119  50.475  38.304  1.00 43.71           N  \\nATOM   2023  CA  CYS A 475       6.308  50.368  37.461  1.00 45.05           C  \\nATOM   2024  C   CYS A 475       7.528  50.809  38.253  1.00 43.44           C  \\nATOM   2025  O   CYS A 475       8.655  50.432  37.928  1.00 43.80           O  \\nATOM   2026  CB  CYS A 475       6.188  51.259  36.216  1.00 41.33           C  \\nATOM   2027  SG  CYS A 475       4.878  50.805  35.056  1.00 48.04           S  \\nATOM   2028  N   TRP A 476       7.294  51.608  39.293  1.00 45.82           N  \\nATOM   2029  CA  TRP A 476       8.381  52.119  40.120  1.00 45.18           C  \\nATOM   2030  C   TRP A 476       8.626  51.366  41.433  1.00 49.86           C  \\nATOM   2031  O   TRP A 476       9.133  51.943  42.397  1.00 49.70           O  \\nATOM   2032  CB  TRP A 476       8.159  53.603  40.424  1.00 44.99           C  \\nATOM   2033  CG  TRP A 476       8.132  54.485  39.204  1.00 45.67           C  \\nATOM   2034  CD1 TRP A 476       8.782  54.274  38.019  1.00 43.46           C  \\nATOM   2035  CD2 TRP A 476       7.458  55.740  39.072  1.00 45.46           C  \\nATOM   2036  NE1 TRP A 476       8.552  55.321  37.158  1.00 46.19           N  \\nATOM   2037  CE2 TRP A 476       7.743  56.236  37.779  1.00 46.04           C  \\nATOM   2038  CE3 TRP A 476       6.641  56.498  39.922  1.00 44.62           C  \\nATOM   2039  CZ2 TRP A 476       7.238  57.455  37.316  1.00 44.66           C  \\nATOM   2040  CZ3 TRP A 476       6.140  57.708  39.461  1.00 47.22           C  \\nATOM   2041  CH2 TRP A 476       6.441  58.174  38.168  1.00 47.08           C  \\nATOM   2042  N   GLN A 477       8.267  50.087  41.479  1.00 48.85           N  \\nATOM   2043  CA  GLN A 477       8.503  49.287  42.676  1.00 49.78           C  \\nATOM   2044  C   GLN A 477      10.009  49.087  42.766  1.00 50.11           C  \\nATOM   2045  O   GLN A 477      10.665  48.833  41.755  1.00 51.08           O  \\nATOM   2046  CB  GLN A 477       7.811  47.930  42.562  1.00 54.52           C  \\nATOM   2047  CG  GLN A 477       6.297  47.993  42.635  1.00 60.61           C  \\nATOM   2048  CD  GLN A 477       5.800  48.322  44.026  1.00 66.45           C  \\nATOM   2049  OE1 GLN A 477       6.120  47.626  44.990  1.00 68.24           O  \\nATOM   2050  NE2 GLN A 477       5.012  49.384  44.139  1.00 69.61           N  \\nATOM   2051  N   TRP A 478      10.563  49.206  43.968  1.00 49.87           N  \\nATOM   2052  CA  TRP A 478      12.001  49.048  44.146  1.00 50.14           C  \\nATOM   2053  C   TRP A 478      12.476  47.691  43.637  1.00 49.59           C  \\nATOM   2054  O   TRP A 478      13.514  47.588  42.977  1.00 46.63           O  \\nATOM   2055  CB  TRP A 478      12.375  49.225  45.624  1.00 48.96           C  \\nATOM   2056  CG  TRP A 478      13.853  49.181  45.879  1.00 48.33           C  \\nATOM   2057  CD1 TRP A 478      14.586  48.099  46.284  1.00 50.54           C  \\nATOM   2058  CD2 TRP A 478      14.785  50.256  45.710  1.00 46.98           C  \\nATOM   2059  NE1 TRP A 478      15.916  48.436  46.377  1.00 47.39           N  \\nATOM   2060  CE2 TRP A 478      16.066  49.753  46.031  1.00 48.77           C  \\nATOM   2061  CE3 TRP A 478      14.663  51.596  45.317  1.00 49.23           C  \\nATOM   2062  CZ2 TRP A 478      17.219  50.546  45.972  1.00 49.11           C  \\nATOM   2063  CZ3 TRP A 478      15.808  52.384  45.258  1.00 43.38           C  \\nATOM   2064  CH2 TRP A 478      17.070  51.855  45.585  1.00 48.21           C  \\nATOM   2065  N   ASN A 479      11.706  46.653  43.938  1.00 50.10           N  \\nATOM   2066  CA  ASN A 479      12.042  45.300  43.511  1.00 54.66           C  \\nATOM   2067  C   ASN A 479      11.463  45.063  42.116  1.00 52.30           C  \\nATOM   2068  O   ASN A 479      10.251  45.142  41.921  1.00 54.44           O  \\nATOM   2069  CB  ASN A 479      11.457  44.293  44.511  1.00 59.26           C  \\nATOM   2070  CG  ASN A 479      11.993  42.890  44.311  1.00 65.89           C  \\nATOM   2071  OD1 ASN A 479      13.041  42.699  43.693  1.00 69.39           O  \\nATOM   2072  ND2 ASN A 479      11.281  41.899  44.842  1.00 67.31           N  \\nATOM   2073  N   PRO A 480      12.321  44.779  41.122  1.00 53.06           N  \\nATOM   2074  CA  PRO A 480      11.827  44.543  39.761  1.00 52.94           C  \\nATOM   2075  C   PRO A 480      10.774  43.440  39.655  1.00 55.12           C  \\nATOM   2076  O   PRO A 480       9.769  43.594  38.955  1.00 50.26           O  \\nATOM   2077  CB  PRO A 480      13.102  44.218  38.980  1.00 54.23           C  \\nATOM   2078  CG  PRO A 480      14.039  43.692  40.032  1.00 52.53           C  \\nATOM   2079  CD  PRO A 480      13.784  44.627  41.179  1.00 50.98           C  \\nATOM   2080  N   SER A 481      10.994  42.337  40.361  1.00 54.25           N  \\nATOM   2081  CA  SER A 481      10.051  41.228  40.317  1.00 57.76           C  \\nATOM   2082  C   SER A 481       8.648  41.678  40.727  1.00 56.46           C  \\nATOM   2083  O   SER A 481       7.662  41.011  40.415  1.00 53.48           O  \\nATOM   2084  CB  SER A 481      10.515  40.093  41.238  1.00 59.65           C  \\nATOM   2085  OG  SER A 481      10.358  40.444  42.604  1.00 66.29           O  \\nATOM   2086  N   ASP A 482       8.559  42.811  41.418  1.00 54.81           N  \\nATOM   2087  CA  ASP A 482       7.264  43.315  41.861  1.00 55.31           C  \\nATOM   2088  C   ASP A 482       6.592  44.256  40.870  1.00 54.17           C  \\nATOM   2089  O   ASP A 482       5.469  44.705  41.094  1.00 55.08           O  \\nATOM   2090  CB  ASP A 482       7.408  44.004  43.215  1.00 60.59           C  \\nATOM   2091  CG  ASP A 482       7.686  43.020  44.334  1.00 67.73           C  \\nATOM   2092  OD1 ASP A 482       6.862  42.099  44.523  1.00 69.33           O  \\nATOM   2093  OD2 ASP A 482       8.722  43.163  45.019  1.00 69.94           O  \\nATOM   2094  N   ARG A 483       7.275  44.550  39.771  1.00 52.29           N  \\nATOM   2095  CA  ARG A 483       6.717  45.433  38.754  1.00 50.35           C  \\nATOM   2096  C   ARG A 483       5.863  44.625  37.790  1.00 50.49           C  \\nATOM   2097  O   ARG A 483       6.206  43.496  37.442  1.00 49.11           O  \\nATOM   2098  CB  ARG A 483       7.838  46.119  37.980  1.00 48.17           C  \\nATOM   2099  CG  ARG A 483       8.717  47.000  38.838  1.00 46.36           C  \\nATOM   2100  CD  ARG A 483      10.010  47.336  38.131  1.00 41.12           C  \\nATOM   2101  NE  ARG A 483      10.938  47.970  39.054  1.00 38.94           N  \\nATOM   2102  CZ  ARG A 483      12.255  47.980  38.899  1.00 41.17           C  \\nATOM   2103  NH1 ARG A 483      12.804  47.391  37.846  1.00 39.08           N  \\nATOM   2104  NH2 ARG A 483      13.022  48.565  39.808  1.00 42.46           N  \\nATOM   2105  N   PRO A 484       4.736  45.193  37.342  1.00 49.44           N  \\nATOM   2106  CA  PRO A 484       3.884  44.453  36.410  1.00 48.53           C  \\nATOM   2107  C   PRO A 484       4.629  44.177  35.107  1.00 50.59           C  \\nATOM   2108  O   PRO A 484       5.647  44.811  34.816  1.00 49.27           O  \\nATOM   2109  CB  PRO A 484       2.696  45.389  36.221  1.00 50.39           C  \\nATOM   2110  CG  PRO A 484       3.330  46.751  36.352  1.00 50.26           C  \\nATOM   2111  CD  PRO A 484       4.246  46.569  37.535  1.00 47.87           C  \\nATOM   2112  N   SER A 485       4.138  43.214  34.335  1.00 50.52           N  \\nATOM   2113  CA  SER A 485       4.761  42.886  33.062  1.00 47.40           C  \\nATOM   2114  C   SER A 485       4.077  43.782  32.049  1.00 43.83           C  \\nATOM   2115  O   SER A 485       3.009  44.322  32.325  1.00 44.80           O  \\nATOM   2116  CB  SER A 485       4.519  41.420  32.703  1.00 47.74           C  \\nATOM   2117  OG  SER A 485       3.150  41.190  32.423  1.00 48.21           O  \\nATOM   2118  N   PHE A 486       4.684  43.956  30.883  1.00 42.86           N  \\nATOM   2119  CA  PHE A 486       4.072  44.796  29.871  1.00 41.35           C  \\nATOM   2120  C   PHE A 486       2.752  44.202  29.394  1.00 41.79           C  \\nATOM   2121  O   PHE A 486       1.863  44.923  28.939  1.00 44.98           O  \\nATOM   2122  CB  PHE A 486       5.034  45.008  28.704  1.00 37.43           C  \\nATOM   2123  CG  PHE A 486       6.030  46.105  28.948  1.00 41.81           C  \\nATOM   2124  CD1 PHE A 486       7.387  45.826  29.041  1.00 39.54           C  \\nATOM   2125  CD2 PHE A 486       5.602  47.421  29.114  1.00 34.69           C  \\nATOM   2126  CE1 PHE A 486       8.309  46.841  29.300  1.00 42.42           C  \\nATOM   2127  CE2 PHE A 486       6.509  48.437  29.372  1.00 36.70           C  \\nATOM   2128  CZ  PHE A 486       7.867  48.150  29.467  1.00 35.48           C  \\nATOM   2129  N   ALA A 487       2.621  42.886  29.511  1.00 45.91           N  \\nATOM   2130  CA  ALA A 487       1.393  42.212  29.117  1.00 49.08           C  \\nATOM   2131  C   ALA A 487       0.266  42.733  30.009  1.00 50.42           C  \\nATOM   2132  O   ALA A 487      -0.830  43.031  29.530  1.00 54.72           O  \\nATOM   2133  CB  ALA A 487       1.547  40.705  29.282  1.00 49.37           C  \\nATOM   2134  N   GLU A 488       0.554  42.853  31.305  1.00 50.50           N  \\nATOM   2135  CA  GLU A 488      -0.413  43.342  32.285  1.00 51.98           C  \\nATOM   2136  C   GLU A 488      -0.651  44.841  32.111  1.00 50.95           C  \\nATOM   2137  O   GLU A 488      -1.780  45.327  32.249  1.00 48.37           O  \\nATOM   2138  CB  GLU A 488       0.097  43.090  33.706  1.00 54.53           C  \\nATOM   2139  CG  GLU A 488       0.665  41.702  33.933  1.00 64.02           C  \\nATOM   2140  CD  GLU A 488       1.279  41.545  35.312  1.00 67.36           C  \\nATOM   2141  OE1 GLU A 488       2.050  40.583  35.515  1.00 71.68           O  \\nATOM   2142  OE2 GLU A 488       0.986  42.379  36.197  1.00 71.28           O  \\nATOM   2143  N   ILE A 489       0.422  45.576  31.830  1.00 46.98           N  \\nATOM   2144  CA  ILE A 489       0.314  47.014  31.638  1.00 43.71           C  \\nATOM   2145  C   ILE A 489      -0.578  47.317  30.447  1.00 40.95           C  \\nATOM   2146  O   ILE A 489      -1.479  48.146  30.531  1.00 41.38           O  \\nATOM   2147  CB  ILE A 489       1.691  47.663  31.385  1.00 41.58           C  \\nATOM   2148  CG1 ILE A 489       2.603  47.441  32.590  1.00 36.52           C  \\nATOM   2149  CG2 ILE A 489       1.514  49.150  31.108  1.00 41.39           C  \\nATOM   2150  CD1 ILE A 489       4.004  47.974  32.406  1.00 38.62           C  \\nATOM   2151  N   HIS A 490      -0.323  46.640  29.335  1.00 44.71           N  \\nATOM   2152  CA  HIS A 490      -1.109  46.861  28.125  1.00 48.32           C  \\nATOM   2153  C   HIS A 490      -2.571  46.487  28.329  1.00 48.97           C  \\nATOM   2154  O   HIS A 490      -3.476  47.247  27.973  1.00 49.76           O  \\nATOM   2155  CB  HIS A 490      -0.539  46.055  26.957  1.00 45.31           C  \\nATOM   2156  CG  HIS A 490      -1.270  46.273  25.669  1.00 47.44           C  \\nATOM   2157  ND1 HIS A 490      -1.239  47.472  24.991  1.00 46.91           N  \\nATOM   2158  CD2 HIS A 490      -2.090  45.461  24.960  1.00 48.72           C  \\nATOM   2159  CE1 HIS A 490      -2.009  47.391  23.921  1.00 48.00           C  \\nATOM   2160  NE2 HIS A 490      -2.538  46.181  23.879  1.00 48.44           N  \\nATOM   2161  N   GLN A 491      -2.795  45.309  28.901  1.00 53.03           N  \\nATOM   2162  CA  GLN A 491      -4.146  44.830  29.156  1.00 56.41           C  \\nATOM   2163  C   GLN A 491      -4.902  45.881  29.959  1.00 55.69           C  \\nATOM   2164  O   GLN A 491      -6.084  46.123  29.728  1.00 57.31           O  \\nATOM   2165  CB  GLN A 491      -4.092  43.506  29.925  1.00 61.22           C  \\nATOM   2166  CG  GLN A 491      -5.275  42.582  29.663  1.00 67.59           C  \\nATOM   2167  CD  GLN A 491      -4.849  41.133  29.482  1.00 72.60           C  \\nATOM   2168  OE1 GLN A 491      -4.032  40.819  28.613  1.00 74.60           O  \\nATOM   2169  NE2 GLN A 491      -5.403  40.242  30.300  1.00 74.53           N  \\nATOM   2170  N   ALA A 492      -4.205  46.518  30.893  1.00 55.72           N  \\nATOM   2171  CA  ALA A 492      -4.818  47.545  31.724  1.00 56.83           C  \\nATOM   2172  C   ALA A 492      -5.237  48.751  30.891  1.00 57.34           C  \\nATOM   2173  O   ALA A 492      -6.353  49.250  31.034  1.00 56.86           O  \\nATOM   2174  CB  ALA A 492      -3.850  47.975  32.822  1.00 57.41           C  \\nATOM   2175  N   PHE A 493      -4.346  49.213  30.018  1.00 55.76           N  \\nATOM   2176  CA  PHE A 493      -4.641  50.368  29.178  1.00 57.89           C  \\nATOM   2177  C   PHE A 493      -5.808  50.146  28.228  1.00 61.72           C  \\nATOM   2178  O   PHE A 493      -6.607  51.057  28.006  1.00 62.32           O  \\nATOM   2179  CB  PHE A 493      -3.400  50.786  28.385  1.00 55.29           C  \\nATOM   2180  CG  PHE A 493      -2.491  51.710  29.137  1.00 50.76           C  \\nATOM   2181  CD1 PHE A 493      -2.892  53.009  29.428  1.00 45.79           C  \\nATOM   2182  CD2 PHE A 493      -1.246  51.277  29.580  1.00 49.18           C  \\nATOM   2183  CE1 PHE A 493      -2.065  53.866  30.155  1.00 45.54           C  \\nATOM   2184  CE2 PHE A 493      -0.413  52.127  30.308  1.00 49.47           C  \\nATOM   2185  CZ  PHE A 493      -0.824  53.422  30.596  1.00 47.31           C  \\nATOM   2186  N   GLU A 494      -5.907  48.948  27.658  1.00 65.64           N  \\nATOM   2187  CA  GLU A 494      -7.010  48.654  26.750  1.00 69.23           C  \\nATOM   2188  C   GLU A 494      -8.303  48.889  27.511  1.00 70.47           C  \\nATOM   2189  O   GLU A 494      -9.170  49.651  27.075  1.00 71.00           O  \\nATOM   2190  CB  GLU A 494      -6.952  47.204  26.264  1.00 69.70           C  \\nATOM   2191  CG  GLU A 494      -5.901  46.953  25.200  1.00 75.75           C  \\nATOM   2192  CD  GLU A 494      -5.937  45.532  24.668  1.00 78.42           C  \\nATOM   2193  OE1 GLU A 494      -5.707  44.592  25.460  1.00 80.85           O  \\nATOM   2194  OE2 GLU A 494      -6.196  45.356  23.456  1.00 76.73           O  \\nATOM   2195  N   THR A 495      -8.417  48.232  28.660  1.00 70.96           N  \\nATOM   2196  CA  THR A 495      -9.589  48.369  29.505  1.00 71.99           C  \\nATOM   2197  C   THR A 495      -9.893  49.850  29.673  1.00 74.44           C  \\nATOM   2198  O   THR A 495     -11.007  50.300  29.410  1.00 75.51           O  \\nATOM   2199  CB  THR A 495      -9.344  47.755  30.890  1.00 70.94           C  \\nATOM   2200  OG1 THR A 495      -8.954  46.385  30.743  1.00 65.92           O  \\nATOM   2201  CG2 THR A 495     -10.603  47.831  31.735  1.00 71.01           C  \\nATOM   2202  N   MET A 496      -8.886  50.606  30.099  1.00 76.85           N  \\nATOM   2203  CA  MET A 496      -9.048  52.038  30.304  1.00 79.61           C  \\nATOM   2204  C   MET A 496      -9.516  52.779  29.057  1.00 81.95           C  \\nATOM   2205  O   MET A 496     -10.635  53.288  29.022  1.00 83.24           O  \\nATOM   2206  CB  MET A 496      -7.742  52.660  30.807  1.00 77.29           C  \\nATOM   2207  CG  MET A 496      -7.383  52.281  32.231  1.00 76.43           C  \\nATOM   2208  SD  MET A 496      -6.049  53.293  32.904  1.00 74.72           S  \\nATOM   2209  CE  MET A 496      -4.665  52.174  32.781  1.00 75.06           C  \\nATOM   2210  N   PHE A 497      -8.665  52.834  28.037  1.00 84.26           N  \\nATOM   2211  CA  PHE A 497      -8.996  53.538  26.801  1.00 86.46           C  \\nATOM   2212  C   PHE A 497     -10.446  53.364  26.363  1.00 87.59           C  \\nATOM   2213  O   PHE A 497     -11.081  54.320  25.914  1.00 87.20           O  \\nATOM   2214  CB  PHE A 497      -8.060  53.105  25.665  1.00 86.09           C  \\nATOM   2215  CG  PHE A 497      -8.314  53.825  24.367  1.00 86.00           C  \\nATOM   2216  CD1 PHE A 497      -9.382  53.464  23.550  1.00 86.70           C  \\nATOM   2217  CD2 PHE A 497      -7.510  54.892  23.981  1.00 85.79           C  \\nATOM   2218  CE1 PHE A 497      -9.648  54.158  22.369  1.00 86.33           C  \\nATOM   2219  CE2 PHE A 497      -7.768  55.592  22.803  1.00 86.11           C  \\nATOM   2220  CZ  PHE A 497      -8.840  55.223  21.996  1.00 85.79           C  \\nATOM   2221  N   GLN A 498     -10.971  52.150  26.494  1.00 89.33           N  \\nATOM   2222  CA  GLN A 498     -12.348  51.884  26.097  1.00 90.51           C  \\nATOM   2223  C   GLN A 498     -13.346  52.524  27.059  1.00 90.96           C  \\nATOM   2224  O   GLN A 498     -12.959  52.814  28.209  1.00 90.48           O  \\nATOM   2225  CB  GLN A 498     -12.594  50.376  26.027  1.00 91.08           C  \\nATOM   2226  CG  GLN A 498     -11.708  49.645  25.027  1.00 93.86           C  \\nATOM   2227  CD  GLN A 498     -11.724  50.288  23.651  1.00 95.40           C  \\nATOM   2228  OE1 GLN A 498     -12.786  50.586  23.103  1.00 97.19           O  \\nATOM   2229  NE2 GLN A 498     -10.542  50.497  23.082  1.00 95.74           N  \\nTER    2230      GLN A 498                                                      \\nTER    4460      GLN B 498                                                      \\nHETATM 4461 CL    CL A   1      14.207  35.375   1.662  1.00 50.30          CL  \\nHETATM 4462 CL    CL A   2      18.095  42.377  23.842  1.00 64.60          CL  \\nHETATM 4463 CL    CL A   4       3.753  59.155   9.290  1.00 86.31          CL  \\nHETATM 4464 CL    CL A   5      12.290  64.724  15.103  1.00 49.39          CL  \\nHETATM 4465  C1  STI A 201      11.879  62.272  12.570  1.00 35.17           C  \\nHETATM 4466  C6  STI A 201      13.002  61.429  12.910  1.00 32.96           C  \\nHETATM 4467  C5  STI A 201      13.097  60.070  12.392  1.00 33.74           C  \\nHETATM 4468  C4  STI A 201      12.031  59.591  11.525  1.00 31.40           C  \\nHETATM 4469  N3  STI A 201      10.961  60.425  11.216  1.00 33.76           N  \\nHETATM 4470  C2  STI A 201      10.858  61.734  11.710  1.00 35.46           C  \\nHETATM 4471  C7  STI A 201      14.238  59.155  12.712  1.00 33.05           C  \\nHETATM 4472  C12 STI A 201      15.433  59.579  13.383  1.00 30.85           C  \\nHETATM 4473  C11 STI A 201      16.428  58.603  13.615  1.00 35.42           C  \\nHETATM 4474  N10 STI A 201      16.232  57.303  13.202  1.00 32.08           N  \\nHETATM 4475  C9  STI A 201      15.067  56.927  12.559  1.00 33.83           C  \\nHETATM 4476  N8  STI A 201      14.101  57.840  12.327  1.00 33.44           N  \\nHETATM 4477  N13 STI A 201      14.852  55.627  12.128  1.00 32.90           N  \\nHETATM 4478  C14 STI A 201      15.822  54.641  12.322  1.00 32.92           C  \\nHETATM 4479  C19 STI A 201      16.950  54.502  11.393  1.00 28.09           C  \\nHETATM 4480  C18 STI A 201      17.915  53.471  11.648  1.00 26.77           C  \\nHETATM 4481  C17 STI A 201      17.774  52.597  12.786  1.00 25.91           C  \\nHETATM 4482  C16 STI A 201      16.678  52.727  13.688  1.00 30.34           C  \\nHETATM 4483  C15 STI A 201      15.698  53.772  13.436  1.00 29.33           C  \\nHETATM 4484  N21 STI A 201      16.600  51.810  14.798  1.00 31.22           N  \\nHETATM 4485  C22 STI A 201      15.629  51.747  15.784  1.00 33.27           C  \\nHETATM 4486  C23 STI A 201      15.595  50.558  16.689  1.00 31.14           C  \\nHETATM 4487  C25 STI A 201      14.423  50.268  17.519  1.00 34.22           C  \\nHETATM 4488  C26 STI A 201      14.423  49.124  18.396  1.00 31.64           C  \\nHETATM 4489  C27 STI A 201      15.600  48.260  18.446  1.00 38.05           C  \\nHETATM 4490  C28 STI A 201      16.747  48.568  17.608  1.00 29.43           C  \\nHETATM 4491  C29 STI A 201      16.751  49.689  16.748  1.00 34.20           C  \\nHETATM 4492  C46 STI A 201      15.696  47.030  19.368  1.00 35.44           C  \\nHETATM 4493  N48 STI A 201      16.917  46.907  20.219  1.00 46.28           N  \\nHETATM 4494  C53 STI A 201      17.097  48.140  21.070  1.00 45.06           C  \\nHETATM 4495  C52 STI A 201      18.375  48.041  21.949  1.00 46.67           C  \\nHETATM 4496  N51 STI A 201      18.337  46.794  22.821  1.00 48.74           N  \\nHETATM 4497  C54 STI A 201      19.522  46.655  23.680  1.00 49.83           C  \\nHETATM 4498  C50 STI A 201      18.172  45.533  21.971  1.00 45.31           C  \\nHETATM 4499  C49 STI A 201      16.877  45.658  21.104  1.00 44.33           C  \\nHETATM 4500  O29 STI A 201      14.789  52.612  15.983  1.00 38.89           O  \\nHETATM 4501  C20 STI A 201      17.148  55.406  10.154  1.00 26.25           C  \\nHETATM 4541  O   HOH A   7      16.209  44.973  36.093  1.00 45.16           O  \\nHETATM 4542  O   HOH A   8      13.642  39.493   8.579  1.00 48.49           O  \\nHETATM 4543  O   HOH A   9      10.491  69.478  34.185  1.00 45.11           O  \\nHETATM 4544  O   HOH A  10      11.145  64.895  29.334  1.00 37.52           O  \\nHETATM 4545  O   HOH A  12       5.403  73.226  26.076  1.00 46.61           O  \\nHETATM 4546  O   HOH A  13      12.534  61.665  26.746  1.00 38.42           O  \\nHETATM 4547  O   HOH A  14      19.402  53.852  15.819  1.00 36.90           O  \\nHETATM 4548  O   HOH A  15       7.940  47.193  12.882  1.00 35.20           O  \\nHETATM 4549  O   HOH A  16      18.083  41.985  -1.483  1.00 44.94           O  \\nHETATM 4550  O   HOH A  18      -1.047  69.021  17.963  1.00 36.16           O  \\nHETATM 4551  O   HOH A  19      15.013  63.513  27.481  1.00 36.71           O  \\nHETATM 4552  O   HOH A  20       7.226  60.031  47.313  1.00 43.88           O  \\nHETATM 4553  O   HOH A  22       6.959  66.074   8.462  1.00 51.30           O  \\nHETATM 4554  O   HOH A  23       4.108  40.456  26.663  1.00 50.81           O  \\nHETATM 4555  O   HOH A  24      10.395  70.723  31.866  1.00 41.95           O  \\nHETATM 4556  O   HOH A  30      14.636  51.401  28.990  1.00 46.35           O  \\nHETATM 4557  O   HOH A  33      11.594  52.361  47.282  1.00 42.67           O  \\nHETATM 4558  O   HOH A  34      21.809  55.119  27.572  1.00 59.40           O  \\nHETATM 4559  O   HOH A  35      -0.785  63.086  14.873  1.00 40.67           O  \\nHETATM 4560  O   HOH A  37      21.183  59.301  42.207  1.00 44.53           O  \\nHETATM 4561  O   HOH A  39      21.415  61.351  33.589  1.00 47.70           O  \\nHETATM 4562  O   HOH A  41      16.230  56.818  38.243  1.00 39.70           O  \\nHETATM 4563  O   HOH A  42       6.020  46.959  10.766  1.00 47.71           O  \\nHETATM 4564  O   HOH A  43       6.864  65.328  41.429  1.00 49.66           O  \\nHETATM 4565  O   HOH A  45      16.323  48.699  30.660  1.00 39.36           O  \\nHETATM 4566  O   HOH A  47      18.689  56.297  22.046  1.00 61.39           O  \\nHETATM 4567  O   HOH A  48       1.922  43.577  21.411  1.00 51.52           O  \\nHETATM 4568  O   HOH A  49      -1.460  52.387  16.468  1.00 41.24           O  \\nHETATM 4569  O   HOH A  50      21.476  59.099  45.154  1.00 58.02           O  \\nHETATM 4570  O   HOH A  51      13.587  65.302  28.928  1.00 42.75           O  \\nHETATM 4571  O   HOH A  53      13.550  57.158  37.582  1.00 35.48           O  \\nHETATM 4572  O   HOH A  54       9.386  58.385  40.439  1.00 46.46           O  \\nHETATM 4573  O   HOH A  56      18.316  61.826  33.381  1.00 47.56           O  \\nHETATM 4574  O   HOH A  58       2.320  71.389  25.188  1.00 42.59           O  \\nHETATM 4575  O   HOH A  60      16.500  36.572   3.259  1.00 45.20           O  \\nHETATM 4576  O   HOH A  61      10.444  68.230  42.004  1.00 48.92           O  \\nHETATM 4577  O   HOH A  62       2.303  52.409  10.054  1.00 43.35           O  \\nHETATM 4578  O   HOH A  63      22.368  56.937  -1.555  1.00 68.64           O  \\nHETATM 4579  O   HOH A  65      14.652  40.479  30.791  1.00 46.97           O  \\nHETATM 4580  O   HOH A  66      -3.133  63.681  11.797  1.00 50.24           O  \\nHETATM 4581  O   HOH A  67       9.708  65.356  41.632  1.00 54.04           O  \\nHETATM 4582  O   HOH A  69      -4.037  56.196  14.811  1.00 49.91           O  \\nHETATM 4583  O   HOH A  72      -1.178  48.382  17.799  1.00 60.27           O  \\nHETATM 4584  O   HOH A  73       1.671  51.071  12.084  1.00 46.22           O  \\nHETATM 4585  O   HOH A  75      18.433  56.108  14.294  1.00 36.90           O  \\nHETATM 4586  O   HOH A  76      14.778  62.721  20.176  1.00 42.96           O  \\nHETATM 4587  O   HOH A  77      22.437  43.881   7.276  1.00 53.63           O  \\nHETATM 4588  O   HOH A  78      12.417  46.825  12.788  1.00 41.04           O  \\nHETATM 4589  O   HOH A  83      16.535  51.402  31.009  1.00 54.39           O  \\nHETATM 4590  O   HOH A  84      16.711  64.494  20.198  1.00 55.91           O  \\nHETATM 4591  O   HOH A  88      20.694  64.337  12.484  1.00 53.07           O  \\nHETATM 4592  O   HOH A  90      16.499  39.527  35.431  1.00 49.78           O  \\nHETATM 4593  O   HOH A  91      28.431  57.743   5.387  1.00 56.05           O  \\nHETATM 4594  O   HOH A  92       8.591  46.471  45.293  1.00 56.71           O  \\nHETATM 4595  O   HOH A  93      21.614  55.171  24.382  1.00 57.34           O  \\nHETATM 4596  O   HOH A  94       8.222  56.482   5.241  1.00 46.99           O  \\nHETATM 4597  O   HOH A  97      -4.949  71.817  28.119  1.00 68.24           O  \\nHETATM 4598  O   HOH A  99       3.607  54.824   9.684  1.00 68.60           O  \\nHETATM 4599  O   HOH A 101       0.040  56.521   9.276  1.00 63.71           O  \\nHETATM 4600  O   HOH A 102      20.159  53.143  29.476  1.00 53.30           O  \\nHETATM 4601  O   HOH A 104       8.208  66.091  17.154  1.00 44.59           O  \\nHETATM 4602  O   HOH A 106       6.576  59.747   1.584  1.00 56.53           O  \\nHETATM 4603  O   HOH A 107       0.981  62.571  44.291  1.00 58.70           O  \\nHETATM 4604  O   HOH A 108      15.748  37.784   8.619  1.00 64.64           O  \\nHETATM 4605  O   HOH A 109      22.290  64.563  27.818  1.00 48.62           O  \\nHETATM 4606  O   HOH A 110      27.710  64.047  29.162  1.00 64.21           O  \\nHETATM 4607  O   HOH A 112      -1.861  56.721  11.106  1.00 59.68           O  \\nHETATM 4608  O   HOH A 114       5.284  49.659  12.055  1.00 51.77           O  \\nHETATM 4609  O   HOH A 115      14.085  65.200  21.747  1.00 50.10           O  \\nHETATM 4610  O   HOH A 117      14.810  68.306  20.358  1.00 55.65           O  \\nHETATM 4611  O   HOH A 118      23.859  56.925  17.743  1.00 48.82           O  \\nHETATM 4612  O   HOH A 119      25.236  53.204  26.090  1.00 65.85           O  \\nHETATM 4613  O   HOH A 120       5.152  71.226  28.004  1.00 42.37           O  \\nHETATM 4614  O   HOH A 125      -3.032  71.270  29.804  1.00 56.32           O  \\nHETATM 4615  O   HOH A 126      18.530  64.543  33.844  1.00 53.28           O  \\nHETATM 4616  O   HOH A 127      23.763  43.119   9.581  1.00 44.42           O  \\nHETATM 4617  O   HOH A 128       1.774  38.638  32.478  1.00 49.41           O  \\nHETATM 4618  O   HOH A 129      18.991  51.017  23.819  1.00 49.63           O  \\nHETATM 4619  O   HOH A 131       2.843  42.869  12.408  1.00 68.74           O  \\nHETATM 4620  O   HOH A 135      10.310  47.024  11.373  1.00 53.60           O  \\nHETATM 4621  O   HOH A 137      19.578  33.382 -10.048  1.00 49.20           O  \\nHETATM 4622  O   HOH A 142      10.757  39.019  28.467  1.00 58.69           O  \\nHETATM 4623  O   HOH A 143      10.127  66.615   5.784  1.00 53.38           O  \\nHETATM 4624  O   HOH A 144      11.631  44.153  10.295  1.00 53.09           O  \\nHETATM 4625  O   HOH A 147      15.641  55.564  29.056  1.00 39.54           O  \\nHETATM 4626  O   HOH A 154      21.287  51.247  25.041  1.00 55.18           O  \\nHETATM 4627  O   HOH A 155      13.452  50.657  49.349  1.00 59.71           O  \\nHETATM 4628  O   HOH A 157      19.808  44.152  -4.596  1.00 59.10           O  \\nHETATM 4629  O   HOH A 158       3.481  45.494  11.666  1.00 44.96           O  \\nHETATM 4630  O   HOH A 159      14.108  67.537  27.752  1.00 58.45           O  \\nHETATM 4631  O   HOH A 160      15.458  68.310  25.691  1.00 61.95           O  \\nHETATM 4632  O   HOH A 161      22.830  46.339  -0.252  1.00 45.32           O  \\nHETATM 4633  O   HOH A 162      24.355  47.545  17.963  1.00 66.39           O  \\nHETATM 4634  O   HOH A 163      15.402  51.758  33.317  1.00 69.46           O  \\nHETATM 4635  O   HOH A 167      12.197  48.371  14.804  1.00 52.86           O  \\nHETATM 4636  O   HOH A 169       8.525  67.997   8.081  1.00 72.81           O  \\nHETATM 4637  O   HOH A 170      -2.218  74.214  23.146  1.00 31.91           O  \\nHETATM 4638  O   HOH A 173       7.270  69.430   6.470  1.00 82.12           O  \\nHETATM 4639  O   HOH A 174       6.490  71.630   8.060  1.00 81.99           O  \",\"pdb\");\n",
              "\tviewer_17225152838841944.setStyle({\"cartoon\": {\"color\": \"darkgreen\"}});\n",
              "\tviewer_17225152838841944.addStyle({\"chain\": \"A\", \"resi\": [248]},{\"cartoon\": {\"color\": \"magenta\"}});\n",
              "\tviewer_17225152838841944.addStyle({\"chain\": \"A\", \"resi\": [253]},{\"cartoon\": {\"color\": \"magenta\"}});\n",
              "\tviewer_17225152838841944.addStyle({\"chain\": \"A\", \"resi\": [270]},{\"cartoon\": {\"color\": \"magenta\"}});\n",
              "\tviewer_17225152838841944.addStyle({\"chain\": \"A\", \"resi\": [314]},{\"cartoon\": {\"color\": \"magenta\"}});\n",
              "\tviewer_17225152838841944.addStyle({\"chain\": \"A\", \"resi\": [315]},{\"cartoon\": {\"color\": \"magenta\"}});\n",
              "\tviewer_17225152838841944.addStyle({\"chain\": \"A\", \"resi\": [316]},{\"cartoon\": {\"color\": \"magenta\"}});\n",
              "\tviewer_17225152838841944.addStyle({\"chain\": \"A\", \"resi\": [317]},{\"cartoon\": {\"color\": \"magenta\"}});\n",
              "\tviewer_17225152838841944.addStyle({\"chain\": \"A\", \"resi\": [318]},{\"cartoon\": {\"color\": \"magenta\"}});\n",
              "\tviewer_17225152838841944.addStyle({\"chain\": \"A\", \"resi\": [321]},{\"cartoon\": {\"color\": \"magenta\"}});\n",
              "\tviewer_17225152838841944.addStyle({\"chain\": \"A\", \"resi\": [322]},{\"cartoon\": {\"color\": \"magenta\"}});\n",
              "\tviewer_17225152838841944.addStyle({\"chain\": \"A\", \"resi\": [247]},{\"cartoon\": {\"color\": \"red\"}});\n",
              "\tviewer_17225152838841944.addStyle({\"chain\": \"A\", \"resi\": [249]},{\"cartoon\": {\"color\": \"red\"}});\n",
              "\tviewer_17225152838841944.addStyle({\"chain\": \"A\", \"resi\": [250]},{\"cartoon\": {\"color\": \"red\"}});\n",
              "\tviewer_17225152838841944.addStyle({\"chain\": \"A\", \"resi\": [251]},{\"cartoon\": {\"color\": \"red\"}});\n",
              "\tviewer_17225152838841944.addStyle({\"chain\": \"A\", \"resi\": [252]},{\"cartoon\": {\"color\": \"red\"}});\n",
              "\tviewer_17225152838841944.addStyle({\"chain\": \"A\", \"resi\": [254]},{\"cartoon\": {\"color\": \"red\"}});\n",
              "\tviewer_17225152838841944.addStyle({\"chain\": \"A\", \"resi\": [255]},{\"cartoon\": {\"color\": \"red\"}});\n",
              "\tviewer_17225152838841944.addStyle({\"chain\": \"A\", \"resi\": [319]},{\"cartoon\": {\"color\": \"red\"}});\n",
              "\tviewer_17225152838841944.addStyle({\"chain\": \"A\", \"resi\": [320]},{\"cartoon\": {\"color\": \"red\"}});\n",
              "\tviewer_17225152838841944.addStyle({\"chain\": \"A\", \"resi\": [366]},{\"cartoon\": {\"color\": \"red\"}});\n",
              "\tviewer_17225152838841944.addStyle({\"chain\": \"A\", \"resi\": [367]},{\"cartoon\": {\"color\": \"red\"}});\n",
              "\tviewer_17225152838841944.addStyle({\"chain\": \"A\", \"resi\": \"256\"},{\"cartoon\": {\"colorscheme\": \"greenCarbon\"}});\n",
              "\tviewer_17225152838841944.addStyle({\"chain\": \"A\", \"resi\": \"129\"},{\"cartoon\": {\"colorscheme\": \"greenCarbon\"}});\n",
              "\tviewer_17225152838841944.addStyle({\"chain\": \"A\", \"resi\": \"2\"},{\"cartoon\": {\"colorscheme\": \"greenCarbon\"}});\n",
              "\tviewer_17225152838841944.addStyle({\"chain\": \"A\", \"resi\": \"5\"},{\"cartoon\": {\"colorscheme\": \"greenCarbon\"}});\n",
              "\tviewer_17225152838841944.addStyle({\"chain\": \"A\", \"resi\": \"269\"},{\"cartoon\": {\"colorscheme\": \"greenCarbon\"}});\n",
              "\tviewer_17225152838841944.addStyle({\"chain\": \"A\", \"resi\": \"14\"},{\"cartoon\": {\"colorscheme\": \"greenCarbon\"}});\n",
              "\tviewer_17225152838841944.addStyle({\"chain\": \"A\", \"resi\": \"271\"},{\"cartoon\": {\"colorscheme\": \"greenCarbon\"}});\n",
              "\tviewer_17225152838841944.addStyle({\"chain\": \"A\", \"resi\": \"286\"},{\"cartoon\": {\"colorscheme\": \"greenCarbon\"}});\n",
              "\tviewer_17225152838841944.addStyle({\"chain\": \"A\", \"resi\": \"289\"},{\"cartoon\": {\"colorscheme\": \"greenCarbon\"}});\n",
              "\tviewer_17225152838841944.addStyle({\"chain\": \"A\", \"resi\": \"290\"},{\"cartoon\": {\"colorscheme\": \"greenCarbon\"}});\n",
              "\tviewer_17225152838841944.addStyle({\"chain\": \"A\", \"resi\": \"293\"},{\"cartoon\": {\"colorscheme\": \"greenCarbon\"}});\n",
              "\tviewer_17225152838841944.addStyle({\"chain\": \"A\", \"resi\": \"167\"},{\"cartoon\": {\"colorscheme\": \"greenCarbon\"}});\n",
              "\tviewer_17225152838841944.addStyle({\"chain\": \"A\", \"resi\": \"299\"},{\"cartoon\": {\"colorscheme\": \"greenCarbon\"}});\n",
              "\tviewer_17225152838841944.addStyle({\"chain\": \"A\", \"resi\": \"313\"},{\"cartoon\": {\"colorscheme\": \"greenCarbon\"}});\n",
              "\tviewer_17225152838841944.addStyle({\"chain\": \"A\", \"resi\": \"201\"},{\"cartoon\": {\"colorscheme\": \"greenCarbon\"}});\n",
              "\tviewer_17225152838841944.addStyle({\"chain\": \"A\", \"resi\": \"75\"},{\"cartoon\": {\"colorscheme\": \"greenCarbon\"}});\n",
              "\tviewer_17225152838841944.addStyle({\"chain\": \"A\", \"resi\": \"359\"},{\"cartoon\": {\"colorscheme\": \"greenCarbon\"}});\n",
              "\tviewer_17225152838841944.addStyle({\"chain\": \"A\", \"resi\": \"360\"},{\"cartoon\": {\"colorscheme\": \"greenCarbon\"}});\n",
              "\tviewer_17225152838841944.addStyle({\"chain\": \"A\", \"resi\": \"361\"},{\"cartoon\": {\"colorscheme\": \"greenCarbon\"}});\n",
              "\tviewer_17225152838841944.addStyle({\"chain\": \"A\", \"resi\": \"362\"},{\"cartoon\": {\"colorscheme\": \"greenCarbon\"}});\n",
              "\tviewer_17225152838841944.addStyle({\"chain\": \"A\", \"resi\": \"370\"},{\"cartoon\": {\"colorscheme\": \"greenCarbon\"}});\n",
              "\tviewer_17225152838841944.addStyle({\"chain\": \"A\", \"resi\": \"381\"},{\"cartoon\": {\"colorscheme\": \"greenCarbon\"}});\n",
              "\tviewer_17225152838841944.addStyle({\"chain\": \"A\", \"resi\": \"379\"},{\"cartoon\": {\"colorscheme\": \"greenCarbon\"}});\n",
              "\tviewer_17225152838841944.addStyle({\"chain\": \"A\", \"resi\": \"380\"},{\"cartoon\": {\"colorscheme\": \"greenCarbon\"}});\n",
              "\tviewer_17225152838841944.addStyle({\"chain\": \"A\", \"resi\": \"382\"},{\"cartoon\": {\"colorscheme\": \"greenCarbon\"}});\n",
              "\tviewer_17225152838841944.addStyle({\"chain\": \"A\", \"resn\": \"STI\"},{\"stick\": {\"colorscheme\": \"yellowCarbon\"}});\n",
              "\tviewer_17225152838841944.zoomTo();\n",
              "viewer_17225152838841944.render();\n",
              "});\n",
              "</script>"
            ]
          },
          "metadata": {},
          "output_type": "display_data"
        }
      ],
      "source": [
        "view = py3Dmol.view()\n",
        "view.addModel(chain_A, \"pdb\")\n",
        "\n",
        "# Set style for the protein\n",
        "view.setStyle({'cartoon': {'color': 'darkgreen'}})\n",
        "\n",
        "# Magenta for residues that are both predicted bingin sites and in the 5Å binding pocket\n",
        "for resi in common_residues:\n",
        "  view.addStyle({'chain': chain_id, 'resi': [resi]}, {'cartoon': {'color': 'magenta'}})\n",
        "\n",
        "# Red for residues predicted as binding sites not in the binding pocket\n",
        "for pred_resi in pred_binding_sites_residues:\n",
        "  if pred_resi not in common_residues:\n",
        "    view.addStyle({'chain': chain_id, 'resi': [pred_resi]}, {'cartoon': {'color': 'red'}})\n",
        "\n",
        "# Light green for the binding pocket residues\n",
        "for resi in binding_residues:\n",
        "  if resi not in common_residues:\n",
        "    view.addStyle({'chain': chain_id, 'resi': str(resi)}, {'cartoon': {'colorscheme': 'greenCarbon'}})\n",
        "\n",
        "# Yellow for the ligand\n",
        "view.addStyle({'chain': chain_id, 'resn': ligand_resname}, {'stick': {'colorscheme': 'yellowCarbon'}})\n",
        "\n",
        "view.zoomTo()\n",
        "view.show()"
      ]
    },
    {
      "cell_type": "markdown",
      "metadata": {
        "id": "FN7UG-867F3v"
      },
      "source": [
        "We observe that 47.62% of predicted binding sites are in the 5Å binding pocket, while the other binding sites are not in that range. This indicates that almost half of the predicted binding sites for the protein C-ABL tyrosine kinase were in the 5 Å binding pocket of Imatinib. The other predicted binding sites that fall outside the 5Å binding pocket are however in the surrounding area of one of the arms of the binding site (i.e., not randomly distributed across the sequence), which is a good indicator that the finetuned protein representation does a fair job in approaching the binding pocket of this protein. There is an arm of the binding pocket that was not predicted by the fine-tuned ESM2 though.\n",
        "\n",
        "Notably, while defining the binding pocket of a protein as the region within a certain distance (e.g., 5 Å) from the bound ligand is a common approach, it's not always a fair assumption (e.g., the cutoff is arbitrary, pocket shapes and size may vary, and residues might influence binding through indirect interactions as well). The performance metrics of the fine-tuned model should be computed with the data from the test set, as seen before.\n"
      ]
    },
    {
      "cell_type": "markdown",
      "source": [
        "## Further reading <a name=\"reading\"></a>\n"
      ],
      "metadata": {
        "id": "1PTtXoMExL9_"
      }
    },
    {
      "cell_type": "markdown",
      "source": [
        "In this tutorial we have used the ESM-2 pre-trained protein language model to generate general representations of protein sequences, we have fine-tuned these representations for the particular downstream task of identifying protein binding sites, including training and evaluation, and finally we have illustrated the use case with the inference of binding sites in the protein [C-ABL tyrosine kinase](https://www.rcsb.org/structure/1IEP), a well studied protein that is known have a binding pocket for Imatinib ligand. We used sequences and their binding sites from [UniProt](https://www.uniprot.org/), and a detailed guide on how to obtain and pre-process UniProt data through an [accompanying tutorial](https://github.com/deepchem/deepchem/blob/master/examples/tutorials/UniProt_Data_Preprocessing_for_Binding_Sites.ipynb).\n",
        "\n",
        "For further reading on other computational methods for binding sites with which you may want to compare the ESM-2 fine-tuned model, or more generally learning about protein language models here are a couple of great resources:\n",
        "\n",
        "- [Exploring the computational methods for protein-ligand binding site prediction](https://www.ncbi.nlm.nih.gov/pmc/articles/PMC7049599/)\n",
        "\n",
        "- [Getting started with protein language models](https://elisagdelope.rbind.io/post/plms/)\n",
        "\n"
      ],
      "metadata": {
        "id": "92MxL4UrxPJG"
      }
    },
    {
      "cell_type": "markdown",
      "source": [
        "# Congratulations! Time to join the Community!\n",
        "Congratulations on completing this tutorial notebook! If you enjoyed working through the tutorial, and want to continue working with DeepChem, we encourage you to finish the rest of the tutorials in this series. You can also help the DeepChem community in the following ways:\n"
      ],
      "metadata": {
        "id": "LHxUMMWdFsNj"
      }
    },
    {
      "cell_type": "markdown",
      "source": [
        "## Star DeepChem on [GitHub](https://github.com/deepchem/deepchem)\n",
        "This helps build awareness of the DeepChem project and the tools for open source drug discovery that we're trying to build.\n"
      ],
      "metadata": {
        "id": "L96MXVKuFdTK"
      }
    },
    {
      "cell_type": "markdown",
      "source": [
        "## Join the DeepChem Discord\n",
        "The DeepChem [Discord](https://discord.gg/cGzwCdrUqS) hosts a number of scientists, developers, and enthusiasts interested in deep learning for the life sciences. Join the conversation!"
      ],
      "metadata": {
        "id": "1YX9impOFUeI"
      }
    },
    {
      "cell_type": "markdown",
      "source": [
        "# Citing this tutorial\n",
        "If you found this tutorial useful please consider citing it using the provided BibTeX.\n",
        "\n"
      ],
      "metadata": {
        "id": "yMc5vOprV_LO"
      }
    },
    {
      "cell_type": "markdown",
      "source": [
        "\n",
        "```\n",
        "@manual{ProteinLanguageModels,\n",
        " title={Fine-tuning ESM-2 for binding sites prediction},\n",
        " organization={DeepChem},\n",
        " author={Gómez de Lope, Elisa},\n",
        " howpublished = {\\url{https://github.com/deepchem/deepchem/blob/master/examples/tutorials/Fine-tuning_ESM-2_for_Binding_Sites_Prediction.ipynb}},\n",
        " year={2024},\n",
        "}\n",
        "```"
      ],
      "metadata": {
        "id": "NmuadXaIWcmg"
      }
    }
  ],
  "metadata": {
    "accelerator": "GPU",
    "colab": {
      "collapsed_sections": [
        "lZ-N2KWMT03s",
        "2_-ZTGJ_Ghah",
        "a4kV3J-KXXtM",
        "XEQJB-4hQx3G",
        "JFUI4dh9Qx3G",
        "nnRqXHILaHoS",
        "SdFzMERhrRwU",
        "r9LB8xct05Qc",
        "m4oOyXwqAb9y",
        "M9pEFEJQOHOB",
        "1PTtXoMExL9_",
        "LHxUMMWdFsNj",
        "yMc5vOprV_LO"
      ],
      "gpuType": "T4",
      "provenance": []
    },
    "kernelspec": {
      "display_name": "Python 3",
      "name": "python3"
    },
    "language_info": {
      "name": "python"
    }
  },
  "nbformat": 4,
  "nbformat_minor": 0
}