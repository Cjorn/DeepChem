{
 "cells": [
  {
   "cell_type": "markdown",
   "id": "44a425d0",
   "metadata": {},
   "source": [
    "# Tutorial on training an Exchange Correlation Functional using Deepchem"
   ]
  },
  {
   "cell_type": "markdown",
   "id": "ec83af94",
   "metadata": {},
   "source": [
    "### Introduction to Density Functional Theory and Exchange Correlation Functionals"
   ]
  },
  {
   "cell_type": "markdown",
   "id": "40a5d2de",
   "metadata": {},
   "source": [
    "   Density-functional theory (DFT) is a theory used to calculate the electronic structure of atoms, molecules, and solids. Its objective is\n",
    "to use the fundamental laws of quantum mechanics to quantitatively\n",
    "comprehend the properties of materials.\n",
    "    \n",
    "   There are serious limitations to the tradional methods used to approximate solutions to the Schrödinger equation of N interacting electrons moving in an external potential. Whereas in DFT, instead of the many-body wave function, the density (n(r)) is a function of three spatial coordinates.\n",
    "    \n",
    "   The many-body electronic ground state can be described using single-particle    equations and an effective potential thanks to the Kohn-Sham theory. The exchange-correlation potential, which accounts for many-body effects, the Hartree potential, which describes the electrostatic electron-electron interaction, and the ionic potential resulting from the atomic cores make up the effective potential.\n",
    "    \n",
    "   The difference between the total exact energy and the total of the rest of the energy terms (such as kinetic energy), is known as the exchange-correlation energy. The exchange-correlation functional is obtained by calculating the functional derivate of the XC energy w.r.t the\n",
    "electron density function. "
   ]
  },
  {
   "cell_type": "markdown",
   "id": "be6ccda6",
   "metadata": {},
   "source": [
    "### Setup "
   ]
  },
  {
   "cell_type": "code",
   "execution_count": null,
   "id": "d9f2cbc0",
   "metadata": {},
   "outputs": [],
   "source": [
    "!pip install --pre deepchem\n",
    "!pip install git+https://github.com/diffqc/dqc.git\n",
    "!pip install pylibxc2"
   ]
  },
  {
   "cell_type": "markdown",
   "id": "bac191b3",
   "metadata": {},
   "source": [
    "### Datasets"
   ]
  },
  {
   "cell_type": "markdown",
   "id": "f3e96624",
   "metadata": {},
   "source": [
    "#### Types \n",
    "\n",
    "There are 4 types of DFT data object implementations that are used to determine the type of calculation to be carried out on the data point. These types are: \"ae\", \"ie\", \"dm\", \"dens\", that stand for atomization energy, ionization energy, density matrix and density profile respectively."
   ]
  },
  {
   "cell_type": "markdown",
   "id": "f374c95f",
   "metadata": {},
   "source": [
    "#### Calculating ground truth values \n",
    "\n",
    "   For the AE and IE entry types, we use pre- calculated values from the NIST databases. For the DM and Dens datatypes, we calcute the true values using a non-DFT method called CCSD. (we use the PYSCF library to do so) \n",
    "   In this example, we will calculate the initial density matrix for Hydrogen Fluoride. "
   ]
  },
  {
   "cell_type": "code",
   "execution_count": null,
   "id": "4d0b3764",
   "metadata": {},
   "outputs": [],
   "source": [
    "# INSTALL PYSCF \n",
    "!pip install pyscf\n",
    "import pyscf"
   ]
  },
  {
   "cell_type": "code",
   "execution_count": null,
   "id": "6991ba4a",
   "metadata": {},
   "outputs": [],
   "source": [
    "# create a pyscf mol \n",
    "mol = gto.M(atom= 'H 0.86625 0 0; F -0.86625 0 0', basis='6-311++G(3df,3pd)' ,unit=\"Bohr\")\n",
    "mf  = scf.UHF(mol).run()\n",
    "mcc = cc.UCCSD(mf)\n",
    "mcc.kernel()\n",
    "\n",
    "# obtain the total density matrix\n",
    "modm = mcc.make_rdm1()\n",
    "aodm0 = np.dot(mf.mo_coeff[0], np.dot(modm[0], mf.mo_coeff[0].T))\n",
    "aodm1 = np.dot(mf.mo_coeff[1], np.dot(modm[1], mf.mo_coeff[1].T))\n",
    "aodm = aodm0 + aodm1\n",
    "\n",
    "# save the value in a .npy file\n",
    "dm = torch.as_tensor(aodm, dtype=torch.double)\n",
    "outfile = \"output.npy\"\n",
    "np.save(outfile, dm)\n"
   ]
  },
  {
   "cell_type": "markdown",
   "id": "eedfaa25",
   "metadata": {},
   "source": [
    "#### An example of the data type format: \n",
    "\"\n",
    "e_type : 'ie'\n",
    "true_val: '0.53411947056'\n",
    "systems: [{'moldesc': 'N 0 0 0',\n",
    "      'basis': '6-311++G(3df,3pd)',\n",
    "       'spin': '3'},\n",
    "      {'moldesc': 'N 0 0 0',\n",
    "      'basis': '6-311++G(3df,3pd)',\n",
    "      'charge': 1,\n",
    "       'spin': '2'}]  \n",
    "\"\n",
    "       \n",
    "These values are stored in .yaml files. In case of 'dens' and 'dm', the true value will be replaced by the .npy file name containing the ccsd values."
   ]
  },
  {
   "cell_type": "markdown",
   "id": "9a74b7d2",
   "metadata": {},
   "source": [
    "### Featurizing and loading the dataset \n",
    "\n",
    "After we have built the data file, we will load it and featurize using a dataloader implemented in deepchem. "
   ]
  },
  {
   "cell_type": "code",
   "execution_count": 2,
   "id": "39a7edd2",
   "metadata": {},
   "outputs": [
    {
     "ename": "FileNotFoundError",
     "evalue": "[Errno 2] No such file or directory: '../../deepchem/models/tests/assets/test_dftxcdata.yaml'",
     "output_type": "error",
     "traceback": [
      "\u001b[0;31m---------------------------------------------------------------------------\u001b[0m",
      "\u001b[0;31mFileNotFoundError\u001b[0m                         Traceback (most recent call last)",
      "Cell \u001b[0;32mIn[2], line 5\u001b[0m\n\u001b[1;32m      3\u001b[0m inputs \u001b[38;5;241m=\u001b[39m \u001b[38;5;124m'\u001b[39m\u001b[38;5;124m../../deepchem/models/tests/assets/test_dftxcdata.yaml\u001b[39m\u001b[38;5;124m'\u001b[39m\n\u001b[1;32m      4\u001b[0m data \u001b[38;5;241m=\u001b[39m DFTYamlLoader()\n\u001b[0;32m----> 5\u001b[0m dataset \u001b[38;5;241m=\u001b[39m (\u001b[43mdata\u001b[49m\u001b[38;5;241;43m.\u001b[39;49m\u001b[43mcreate_dataset\u001b[49m\u001b[43m(\u001b[49m\u001b[43minputs\u001b[49m\u001b[43m)\u001b[49m)\n",
      "File \u001b[0;32m~/Desktop/deepforest/deepchem/deepchem/data/data_loader.py:1700\u001b[0m, in \u001b[0;36mDFTYamlLoader.create_dataset\u001b[0;34m(self, inputs, data_dir, shard_size)\u001b[0m\n\u001b[1;32m   1697\u001b[0m         ids \u001b[38;5;241m=\u001b[39m np\u001b[38;5;241m.\u001b[39marray([\u001b[38;5;241m0\u001b[39m])\n\u001b[1;32m   1698\u001b[0m         \u001b[38;5;28;01myield\u001b[39;00m X, y, w, ids\n\u001b[0;32m-> 1700\u001b[0m \u001b[38;5;28;01mreturn\u001b[39;00m \u001b[43mDiskDataset\u001b[49m\u001b[38;5;241;43m.\u001b[39;49m\u001b[43mcreate_dataset\u001b[49m\u001b[43m(\u001b[49m\u001b[43mshard_generator\u001b[49m\u001b[43m(\u001b[49m\u001b[43m)\u001b[49m\u001b[43m,\u001b[49m\u001b[43m \u001b[49m\u001b[43mdata_dir\u001b[49m\u001b[43m)\u001b[49m\n",
      "File \u001b[0;32m~/Desktop/deepforest/deepchem/deepchem/data/datasets.py:1272\u001b[0m, in \u001b[0;36mDiskDataset.create_dataset\u001b[0;34m(shard_generator, data_dir, tasks)\u001b[0m\n\u001b[1;32m   1270\u001b[0m metadata_rows \u001b[38;5;241m=\u001b[39m []\n\u001b[1;32m   1271\u001b[0m time1 \u001b[38;5;241m=\u001b[39m time\u001b[38;5;241m.\u001b[39mtime()\n\u001b[0;32m-> 1272\u001b[0m \u001b[38;5;28;01mfor\u001b[39;00m shard_num, (X, y, w, ids) \u001b[38;5;129;01min\u001b[39;00m \u001b[38;5;28menumerate\u001b[39m(shard_generator):\n\u001b[1;32m   1273\u001b[0m     \u001b[38;5;28;01mif\u001b[39;00m shard_num \u001b[38;5;241m==\u001b[39m \u001b[38;5;241m0\u001b[39m:\n\u001b[1;32m   1274\u001b[0m         \u001b[38;5;28;01mif\u001b[39;00m tasks \u001b[38;5;129;01mis\u001b[39;00m \u001b[38;5;28;01mNone\u001b[39;00m \u001b[38;5;129;01mand\u001b[39;00m y \u001b[38;5;129;01mis\u001b[39;00m \u001b[38;5;129;01mnot\u001b[39;00m \u001b[38;5;28;01mNone\u001b[39;00m:\n\u001b[1;32m   1275\u001b[0m             \u001b[38;5;66;03m# The line here assumes that y generated by shard_generator is a numpy array\u001b[39;00m\n",
      "File \u001b[0;32m~/Desktop/deepforest/deepchem/deepchem/data/data_loader.py:1692\u001b[0m, in \u001b[0;36mDFTYamlLoader.create_dataset.<locals>.shard_generator\u001b[0;34m()\u001b[0m\n\u001b[1;32m   1691\u001b[0m \u001b[38;5;28;01mdef\u001b[39;00m \u001b[38;5;21mshard_generator\u001b[39m():\n\u001b[0;32m-> 1692\u001b[0m     entries \u001b[38;5;241m=\u001b[39m \u001b[38;5;28;43mself\u001b[39;49m\u001b[38;5;241;43m.\u001b[39;49m\u001b[43m_get_shards\u001b[49m\u001b[43m(\u001b[49m\u001b[43minputs\u001b[49m\u001b[43m)\u001b[49m\n\u001b[1;32m   1693\u001b[0m     \u001b[38;5;28;01mfor\u001b[39;00m shard \u001b[38;5;129;01min\u001b[39;00m entries:\n\u001b[1;32m   1694\u001b[0m         X \u001b[38;5;241m=\u001b[39m np\u001b[38;5;241m.\u001b[39marray(\u001b[38;5;28mself\u001b[39m\u001b[38;5;241m.\u001b[39m_featurize_shard(shard))\n",
      "File \u001b[0;32m~/Desktop/deepforest/deepchem/deepchem/data/data_loader.py:1717\u001b[0m, in \u001b[0;36mDFTYamlLoader._get_shards\u001b[0;34m(self, inputs)\u001b[0m\n\u001b[1;32m   1702\u001b[0m \u001b[38;5;28;01mdef\u001b[39;00m \u001b[38;5;21m_get_shards\u001b[39m(\u001b[38;5;28mself\u001b[39m, inputs):\n\u001b[1;32m   1703\u001b[0m     \u001b[38;5;124;03m\"\"\"\u001b[39;00m\n\u001b[1;32m   1704\u001b[0m \u001b[38;5;124;03m    Loads and divides the .yaml file into shards.\u001b[39;00m\n\u001b[1;32m   1705\u001b[0m \n\u001b[0;32m   (...)\u001b[0m\n\u001b[1;32m   1715\u001b[0m \u001b[38;5;124;03m        shard and is then featurized into one entry object.\u001b[39;00m\n\u001b[1;32m   1716\u001b[0m \u001b[38;5;124;03m    \"\"\"\u001b[39;00m\n\u001b[0;32m-> 1717\u001b[0m     \u001b[38;5;28;01mwith\u001b[39;00m \u001b[38;5;28;43mopen\u001b[39;49m\u001b[43m(\u001b[49m\u001b[43minputs\u001b[49m\u001b[43m)\u001b[49m \u001b[38;5;28;01mas\u001b[39;00m f:\n\u001b[1;32m   1718\u001b[0m         data \u001b[38;5;241m=\u001b[39m yaml\u001b[38;5;241m.\u001b[39mload(f, Loader\u001b[38;5;241m=\u001b[39mSafeLoader)\n\u001b[1;32m   1719\u001b[0m     \u001b[38;5;28;01mreturn\u001b[39;00m (data)\n",
      "\u001b[0;31mFileNotFoundError\u001b[0m: [Errno 2] No such file or directory: '../../deepchem/models/tests/assets/test_dftxcdata.yaml'"
     ]
    }
   ],
   "source": [
    "from deepchem.data.data_loader import DFTYamlLoader\n",
    "#name of the yaml file\n",
    "inputs = '../../deepchem/models/tests/assets/test_dftxcdata.yaml'\n",
    "data = DFTYamlLoader()\n",
    "dataset = data.create_dataset(inputs)\n"
   ]
  },
  {
   "cell_type": "markdown",
   "id": "74e970b2",
   "metadata": {},
   "source": [
    "### Training the XC Model\n",
    "\n",
    "The dataset can now be used to train our own exchange correlation functional . "
   ]
  },
  {
   "cell_type": "code",
   "execution_count": null,
   "id": "4d269fb6",
   "metadata": {},
   "outputs": [],
   "source": [
    "from deepchem.models.dft.dftxc import XCModel\n",
    "import deepchem as dc\n",
    "import tempfile\n",
    "\n",
    "# create a file to save the model \n",
    "model_dir = tempfile.mkdtemp()\n",
    "\n",
    "# initialise the model \n",
    "model = XCModel(\"lda_x\",\n",
    "                    batch_size=1,\n",
    "                    log_frequency=1,\n",
    "                    mode=\"classification\",\n",
    "                    n_tasks=2,\n",
    "                    model_dir=model_dir)\n",
    "\n",
    "# Calculate the loss on fitting the model \n",
    "loss = model.fit(dataset, nb_epoch=1, checkpoint_interval=1)"
   ]
  },
  {
   "cell_type": "markdown",
   "id": "d572faae",
   "metadata": {},
   "source": [
    "#### Predicts and evaluation using the XC model \n",
    "\n",
    "The predictions can be run on various different molecules but we have used the same dataset for simplicity, in this tutorial. "
   ]
  },
  {
   "cell_type": "code",
   "execution_count": null,
   "id": "6f04b00b",
   "metadata": {},
   "outputs": [],
   "source": [
    "predict = model.predict(dataset)\n",
    "\n",
    "# Evaluate \n",
    "metric = dc.metrics.Metric(dc.metrics.mae_score)\n",
    "scores = model.evaluate(dataset, [metric])"
   ]
  },
  {
   "cell_type": "markdown",
   "id": "0a45d550",
   "metadata": {},
   "source": [
    "#### Notes \n",
    "\n",
    "- The entry type \"Density Matrix\" cannot be used on model.evaluate as of now.\n",
    "- To run predictions on this data type, a dataset containing only \"dm\" entries must be used.\n",
    "- When initializing the XCModel, the user may build and pass a different pytorch model to train the XC Functional, instead of using the default method. \n"
   ]
  },
  {
   "cell_type": "markdown",
   "id": "c1076ca1",
   "metadata": {},
   "source": [
    "## References \n",
    "\n",
    "- Kasim, Muhammad F., and Sam M. Vinko. \"Learning the exchange-correlation\n",
    "    functional from nature with fully differentiable density functional\n",
    "    theory.\" Physical Review Letters 127.12 (2021): 126403.\\\n",
    "  Most of our code has been derived from the reference above. The implementation of the paper can be found in the github link below :\n",
    " https://github.com/mfkasim1/xcnn \n",
    "\n",
    "- Encyclopedia of Condensed Matter Physics, 2005.\n",
    "- Kohn, W. and Sham, L.J., 1965. Self-consistent equations including\n",
    "    exchange and correlation effects. Physical review, 140(4A), p.A1133.\n"
   ]
  }
 ],
 "metadata": {
  "kernelspec": {
   "display_name": "Python 3 (ipykernel)",
   "language": "python",
   "name": "python3"
  },
  "language_info": {
   "codemirror_mode": {
    "name": "ipython",
    "version": 3
   },
   "file_extension": ".py",
   "mimetype": "text/x-python",
   "name": "python",
   "nbconvert_exporter": "python",
   "pygments_lexer": "ipython3",
   "version": "3.8.5"
  }
 },
 "nbformat": 4,
 "nbformat_minor": 5
}
