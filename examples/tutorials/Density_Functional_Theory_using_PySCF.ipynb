{
 "cells": [
  {
   "cell_type": "markdown",
   "metadata": {},
   "source": [
    "# DENSITY FUNCTIONAL THEORY USING PYSCF \n",
    "\n",
    "In this tutorial we will discuss how to perform Density Functional Theory calculations for various molecules using the PySCF library.\n"
   ]
  },
  {
   "cell_type": "markdown",
   "metadata": {},
   "source": [
    "## Colab\n",
    "\n",
    "This tutorial and the rest in this sequence can be done in Google colab. If you'd like to open this notebook in colab, you can use the following link\n",
    "\n",
    "[![Open In Colab](https://colab.research.google.com/assets/colab-badge.svg)](https://colab.research.google.com/github/deepchem/deepchem/blob/master/examples/tutorials/Density_Functional_Theory_using_PySCF.ipynb)"
   ]
  },
  {
   "cell_type": "markdown",
   "metadata": {},
   "source": [
    "## Setup \n",
    "\n",
    "### Installing libraries"
   ]
  },
  {
   "cell_type": "code",
   "execution_count": 1,
   "metadata": {},
   "outputs": [
    {
     "name": "stdout",
     "output_type": "stream",
     "text": [
      "\u001b[33mDEPRECATION: Configuring installation scheme with distutils config files is deprecated and will no longer work in the near future. If you are using a Homebrew or Linuxbrew Python, please see discussion at https://github.com/Homebrew/homebrew-core/issues/76621\u001b[0m\u001b[33m\n",
      "\u001b[0mRequirement already satisfied: pyscf in /usr/local/lib/python3.8/site-packages (2.0.1)\n",
      "Requirement already satisfied: h5py>=2.7 in /usr/local/lib/python3.8/site-packages (from pyscf) (3.7.0)\n",
      "Requirement already satisfied: numpy!=1.16,!=1.17,>=1.13 in /usr/local/lib/python3.8/site-packages (from pyscf) (1.22.4)\n",
      "Requirement already satisfied: scipy!=1.5.0,!=1.5.1 in /usr/local/lib/python3.8/site-packages (from pyscf) (1.5.4)\n",
      "\u001b[33mDEPRECATION: Configuring installation scheme with distutils config files is deprecated and will no longer work in the near future. If you are using a Homebrew or Linuxbrew Python, please see discussion at https://github.com/Homebrew/homebrew-core/issues/76621\u001b[0m\u001b[33m\n",
      "\u001b[0m"
     ]
    }
   ],
   "source": [
    "! pip install pyscf "
   ]
  },
  {
   "cell_type": "markdown",
   "metadata": {},
   "source": [
    "### Import required modules"
   ]
  },
  {
   "cell_type": "code",
   "execution_count": 2,
   "metadata": {},
   "outputs": [],
   "source": [
    "import pyscf \n",
    "from pyscf import gto\n",
    "from pyscf import dft\n",
    "import matplotlib\n",
    "import matplotlib.pyplot as plt \n",
    "import math "
   ]
  },
  {
   "cell_type": "markdown",
   "metadata": {},
   "source": [
    "## Introduction to DFT\n",
    "\n",
    "\n",
    "### Uses of DFT\n",
    "\n",
    "Density functional theory (DFT) is a type of electronic structure calculation that is becoming increasingly popular. It can be used to predict a material's crystal structure. It can also be used to calculate transport properties such as optical conductivity (such as dielectric constant), thermodynamic properties (such as specific heat). Spectroscopic properties, such as the photoemission spectra, may also be calculated using the DFT framework. \n",
    "\n",
    "\n",
    "### The many body problem \n",
    "\n",
    "The wave function is a useful mathematical construct for calculating the total energy of atoms and molecules, as well as other features. These Schrodinger's wave equations can be solved very easily for a single particle system, by solving the differential equations using well known methods such as finite element method (FEM).\n",
    "\n",
    "However, it can be very computationally expensive to compute even for few particle systems. \n",
    "\n",
    "![poteq.jpg](https://github.com/deepchem/deepchem/blob/master/examples/tutorials/assets/poteq.jpg) \n",
    "\n",
    "This is the potential energy term of the Schodinger's equation of a many particle system. \n",
    "\n",
    "![kineq.jpg](https://github.com/deepchem/deepchem/blob/master/examples/tutorials/assets/kineq.jpg) \n",
    "\n",
    "This is the kinetic energy term of the Schodinger's equation of a many particle system.\n",
    "\n",
    "As we can see from the equations, the summation is over all electrons and ions in the system, which would be of the order of 10^23 particles , resulting in a large number of unknown variables.\n",
    "Reference: [1]"
   ]
  },
  {
   "cell_type": "markdown",
   "metadata": {},
   "source": [
    "### Kohn Sham Density Functional Theory \n",
    "\n",
    "The first Hohenberg–Kohn theorem states that 'the ground state of any interacting many particle system with a given fixed inter-particle interaction is a unique functional of the electron density i.e. n(r)'. (Here, r is the position in space and n(r) is the density of the electron at that position, it is in fact an expectation value.)\n",
    "\n",
    "i.e  E[n(r)] where E is the ground state energy. (It's a property of all electrons in the system)\n",
    "(Which is where the term \"Density Functional\" is derived from) \n",
    "\n",
    "The minimization of this energy term is used to calculate the ground state energy. In order to derive the equation, we will start by looking at the basic Schrodinger's equation:\n",
    "![schrodinger1.jpg](https://github.com/deepchem/deepchem/blob/master/examples/tutorials/assets/schrodinger1.jpg) \n",
    "\n",
    "Here,  $ \\Psi $ is the wave function, H is the Hamiltonian Operator, and E is the Eigen Energy. The minimisation of this energy gives us the Ground state energy; \n",
    "\n",
    "![minimizationeq.jpg](https://github.com/deepchem/deepchem/blob/master/examples/tutorials/assets/minimizationeq.jpg) \n",
    "\n",
    "On combining the equations and the theorem we get the following equations:\n",
    "\n",
    "![ks1.jpg](https://github.com/deepchem/deepchem/blob/master/examples/tutorials/assets/ks1.jpg) \n",
    "\n",
    "![ks2.jpg](https://github.com/deepchem/deepchem/blob/master/examples/tutorials/assets/ks2.jpg) \n",
    "\n",
    "The density function can be calculated using the following formula, where $ \\Phi $ (r) is the normalized trial function:\n",
    "\n",
    "![densityfn.jpg](https://github.com/deepchem/deepchem/blob/master/examples/tutorials/assets/densityfn.jpg)\n",
    "\n",
    "This leads to the final derivation of the Kohn-Sham energy equation:\n",
    "\n",
    "![KSeq1.jpg](https://github.com/deepchem/deepchem/blob/master/examples/tutorials/assets/KSeq1.jpg)\n",
    "\n",
    "Where Exc and vxc are the 'Exchange Correlational' energy, and potential respectively. We will discuss this in the next section of this tutorial. "
   ]
  },
  {
   "cell_type": "markdown",
   "metadata": {},
   "source": [
    "### Exchange Correlation Functional \n",
    "\n",
    "The exchange correlation energy approximation used in the Kohn-Sham DFT approach can be defined as the difference between the true functional and the remaining terms, and the exchange correlation potential is defined as the difference between the fermi potential and pauli potential. [Reference:5] There are a many existing Exchange correlation functionals such as the LDA and the GGA, which are also classes of functionals. (Read more about them from [Reference:4]) In this tutorial we are using the Perdew–Burke–Ernzerhof exchange-correlation functional. \n"
   ]
  },
  {
   "cell_type": "markdown",
   "metadata": {},
   "source": [
    "## Building the Molecule \n",
    "\n",
    "- The 'gto' command is used to initialise the molecule.\n",
    "- The three numbers beside the atom determine it's coordinates in the basis system. \n",
    "\n",
    "NOTE: The choice of a suitable basis is an important aspect of the calculations.\n",
    "For molecules, a localized basis set is appropriate, while for bulk periodic systems or metallic systems, extended plane wave basis sets are suitable. For molecular systems, a basis set that better represents molecular orbitals would result in an optimal number of Kohn Sham equations, and hence the computational expense depends on the choice of the basis. \n",
    "\n",
    "We can read more on basis sets from the reference below:\n",
    "\n",
    "\n",
    "[ Basis Sets in Quantum Chemistry](http://vergil.chemistry.gatech.edu/courses/chem6485/pdf/basis-sets.pdf)\n",
    "\n",
    "\n",
    "### The example shown below is for a water molecule "
   ]
  },
  {
   "cell_type": "code",
   "execution_count": 3,
   "metadata": {},
   "outputs": [],
   "source": [
    "mol = gto.M(\n",
    "    atom = '''\n",
    "    O  0.   0.       0.\n",
    "    H  0.   2.       0.\n",
    "    H  0.   0.       2. ''',\n",
    "    basis = 'ccpvdz')"
   ]
  },
  {
   "cell_type": "markdown",
   "metadata": {},
   "source": [
    "### Numerical Grids\n",
    "\n",
    "Either rectangular or radial grids may be used depending on the problem. The examples in this tutorial use radial grids. An example below (where the molecule is the water molecule built above) shows the difference between two slightly difference grids being used, just for reference."
   ]
  },
  {
   "cell_type": "code",
   "execution_count": 4,
   "metadata": {},
   "outputs": [
    {
     "name": "stdout",
     "output_type": "stream",
     "text": [
      "converged SCF energy = -75.5217424548572\n",
      "Default DFT(LDA).  E = -75.521742454857\n",
      "converged SCF energy = -75.5217423020953\n",
      "Changed radial grids for DFT.  E = -75.521742302095\n"
     ]
    }
   ],
   "source": [
    "method = dft.KS(mol)\n",
    "print('Default DFT(LDA).  E = %.12f' % method.kernel())\n",
    "method = dft.KS(mol)\n",
    "method.grids.radi_method = dft.mura_knowles\n",
    "print('Changed radial grids for DFT.  E = %.12f' % method.kernel())"
   ]
  },
  {
   "cell_type": "markdown",
   "metadata": {},
   "source": [
    "## Example - Hydrogen Fluoride:\n",
    "\n",
    "This example shows how to calculate the molecular orbital energy using the Kohn Shahm Density Functional theory. Here we are using a pre defined basis and xc functional known as the "
   ]
  },
  {
   "cell_type": "code",
   "execution_count": 28,
   "metadata": {},
   "outputs": [
    {
     "name": "stdout",
     "output_type": "stream",
     "text": [
      "converged SCF energy = -71.8638159169279\n",
      "**** MO energy ****\n",
      "MO #1   energy= -26.8667818106154  occ= 2\n",
      "MO #2   energy= -1.18335948402004  occ= 2\n",
      "MO #3   energy= -0.534888877149167 occ= 2\n",
      "MO #4   energy= -0.436675173227842 occ= 2\n",
      "MO #5   energy= -0.43667517322784  occ= 2\n",
      "MO #6   energy= 0.199872872015872  occ= 0\n",
      "MO #7   energy= 0.894903968801111  occ= 0\n",
      "MO #8   energy= 0.984740224682385  occ= 0\n",
      "MO #9   energy= 0.984740224682389  occ= 0\n",
      "MO #10  energy= 1.75360986834462   occ= 0\n",
      "MO #11  energy= 21.9374413745344   occ= 0\n",
      " ** Mulliken atomic charges  **\n",
      "charge of  0H =      0.44652\n",
      "charge of  1F =     -0.44652\n",
      "Dipole moment(X, Y, Z, Debye): -0.00000, -0.00000, -0.69813\n"
     ]
    },
    {
     "data": {
      "text/plain": [
       "((array([5.51857769e-01, 1.61858866e-03, 1.99951716e+00, 1.44208075e+00,\n",
       "         4.85877110e-03, 1.97769375e+00, 1.97769375e+00, 1.93361714e+00,\n",
       "         2.23062495e-02, 2.23062495e-02, 6.64498212e-02]),\n",
       "  array([ 0.44652364, -0.44652364])),\n",
       " array([-3.19431591e-16, -1.22359291e-18, -6.98133821e-01]))"
      ]
     },
     "execution_count": 28,
     "metadata": {},
     "output_type": "execute_result"
    }
   ],
   "source": [
    "mol = pyscf.M(\n",
    "    atom = 'H 0 0 0; F 0 0 0.1', \n",
    "    basis = '631g',\n",
    "    symmetry = False,\n",
    ")\n",
    "mf = mol.KS()\n",
    "mf.xc = 'pbe'\n",
    "mf.kernel()\n",
    "mf.analyze()"
   ]
  },
  {
   "cell_type": "markdown",
   "metadata": {},
   "source": [
    "## Calculating Minimum SCF Energy\n",
    "\n",
    "In the code below, we are generating molecules based on an initial molecule wrt a given displacement (here we have chosen 0.1 Angstrom). On running DFT calculations on these molecules, we can find the bond length at which the SCF energy is the lowest; hence the molecule is more stable. \n",
    "\n",
    "First, we define the parameters such as the displacement: "
   ]
  },
  {
   "cell_type": "code",
   "execution_count": 29,
   "metadata": {},
   "outputs": [],
   "source": [
    "mol_a = []\n",
    "cscf=[]\n",
    "bondl=[]\n",
    "coords = mol.atom_coords()\n",
    "natoms = len(coords)\n",
    "disp=0.1"
   ]
  },
  {
   "cell_type": "markdown",
   "metadata": {},
   "source": [
    "The lines below generate 6N molecules around the initial molecule that we had built. (here, N=5):"
   ]
  },
  {
   "cell_type": "code",
   "execution_count": 32,
   "metadata": {},
   "outputs": [
    {
     "name": "stdout",
     "output_type": "stream",
     "text": [
      "converged SCF energy = -23.153771564181\n",
      "converged SCF energy = -23.1537715641809\n",
      "converged SCF energy = -23.153771564181\n",
      "converged SCF energy = -23.153771564181\n",
      "converged SCF energy = -23.1537715641809\n",
      "converged SCF energy = -23.1537715641809\n",
      "converged SCF energy = -23.1537715641809\n",
      "converged SCF energy = -23.153771564181\n",
      "converged SCF energy = -23.1537715641809\n",
      "converged SCF energy = -23.153771564181\n",
      "converged SCF energy = -23.153771564181\n",
      "converged SCF energy = -23.1537715641809\n",
      "converged SCF energy = -23.1537715641809\n",
      "converged SCF energy = -23.1537715641809\n",
      "converged SCF energy = -23.1537715641809\n",
      "converged SCF energy = -23.1537715641809\n",
      "converged SCF energy = -23.1537715641809\n",
      "converged SCF energy = -23.153771564181\n",
      "converged SCF energy = -23.153771564181\n",
      "converged SCF energy = -23.1537715641809\n",
      "converged SCF energy = -23.153771564181\n",
      "converged SCF energy = -23.1537715641809\n",
      "converged SCF energy = -23.1537715641809\n",
      "converged SCF energy = -23.1537715641809\n",
      "converged SCF energy = -23.1537715641809\n",
      "converged SCF energy = -23.1537715641809\n",
      "converged SCF energy = -23.1537715641809\n",
      "converged SCF energy = -23.153771564181\n",
      "converged SCF energy = -23.153771564181\n",
      "converged SCF energy = -23.1537715641809\n",
      "converged SCF energy = -23.1537715641809\n",
      "converged SCF energy = -23.1537715641809\n",
      "converged SCF energy = -23.1537715641809\n",
      "converged SCF energy = -23.153771564181\n",
      "converged SCF energy = -23.153771564181\n",
      "converged SCF energy = -23.1537715641809\n",
      "converged SCF energy = -23.1537715641809\n",
      "converged SCF energy = -23.1537715641809\n",
      "converged SCF energy = -23.1537715641809\n",
      "converged SCF energy = -23.153771564181\n",
      "converged SCF energy = -23.1537715641809\n",
      "converged SCF energy = -23.153771564181\n",
      "converged SCF energy = -23.1537715641809\n",
      "converged SCF energy = -23.153771564181\n",
      "converged SCF energy = -23.1537715641809\n",
      "converged SCF energy = -23.1537715641809\n",
      "converged SCF energy = -23.153771564181\n",
      "converged SCF energy = -23.1537715641809\n",
      "converged SCF energy = -23.153771564181\n",
      "converged SCF energy = -23.1537715641809\n"
     ]
    }
   ],
   "source": [
    "for k in range(25):\n",
    "    for i in range(natoms):\n",
    "            for x in range(3):\n",
    "                new_coords_a = coords.copy()\n",
    "                new_coords_a[i][x] += disp\n",
    "                atoma = [[mol.atom_symbol(j), coord] for (j, coord) in zip(range(natoms), new_coords_a)]               \n",
    "                mol_a.append(mol.set_geom_(atoma, inplace=False, unit='B'))\n",
    "                mf = mol_a[x].KS()\n",
    "                mf.xc = 'pbe' \n",
    "                if x==2:\n",
    "                    bondl.append(math.dist(new_coords_a[0],new_coords_a[1])) \n",
    "                    cscf.append(mf.kernel())\n",
    "    disp=disp+0.01"
   ]
  },
  {
   "cell_type": "markdown",
   "metadata": {},
   "source": [
    "### Results \n",
    "\n",
    "On plotting the Bond length in Angstrom versus the SCF Energy in eV, we can identify the bond length at which minimum energy is required. Hence making the molecule most stable at that bond length. (Under these specific periodic boundary conditions.)"
   ]
  },
  {
   "cell_type": "code",
   "execution_count": 33,
   "metadata": {},
   "outputs": [
    {
     "data": {
      "image/png": "[encoded data removed]",
      "text/plain": [
       "<Figure size 432x288 with 1 Axes>"
      ]
     },
     "metadata": {
      "needs_background": "light"
     },
     "output_type": "display_data"
    }
   ],
   "source": [
    "plt.scatter(bondl,cscf) \n",
    "plt.xlabel(\"Bond length\")\n",
    "plt.ylabel(\"SCF Energy in eV\")\n",
    "plt.show() "
   ]
  },
  {
   "cell_type": "markdown",
   "metadata": {},
   "source": [
    "\n",
    "As seen from the output, the lowest SCF energy is at about 1.9 Angstrom bond length. \n"
   ]
  },
  {
   "cell_type": "markdown",
   "metadata": {},
   "source": [
    "## Self Consistency of the Kohn Sham DFT\n",
    "\n",
    "From this tutorial we can see, that we are able to write the ground state energy of a many particle system as a functional of electron densities. Using this density we calculate the potential energy (potentials) of the system by minimization the energy term, which in turn can be used to solve the many body Schrodinger's equations and build a new set of wave functions. This way, a many particle system is treated as several single-particle systems. Hence, the many body problem can be solved using the Density Functional Theory."
   ]
  },
  {
   "cell_type": "markdown",
   "metadata": {},
   "source": [
    "## Citations:\n",
    " - [1] Clark, S., 2012. The Many-Electron Schrödinger Equation. [online] Cmt.dur.ac.uk. Available at: <http://cmt.dur.ac.uk/sjc/thesis_mcg/node161.html> [Accessed 10 June 2022].\n",
    " - [2] Baseden, Kyle A., and Jesse W. Tye. \"Introduction to density functional theory: calculations by hand on the helium atom.\" Journal of Chemical Education 91.12 (2014): 2116-2123.\n",
    " - [3] Jinnouchi, Ryosuke, and Ryoji Asahi. \"Predicting catalytic activity of nanoparticles by a DFT-aided machine-learning algorithm.\" The journal of physical chemistry letters 8.17 (2017): 4279-4283.\n",
    " - [4] Kohn, Walter, and Lu Jeu Sham. \"Self-consistent equations including exchange and correlation effects.\" Physical review 140.4A (1965): A1133.\n",
    " - [5] Paier, Joachim, et al. \"The Perdew–Burke–Ernzerhof exchange-correlation functional applied to the G2-1 test set using a plane-wave basis set.\" The Journal of chemical physics 122.23 (2005): 234102."
   ]
  }
 ],
 "metadata": {
  "interpreter": {
   "hash": "aee8b7b246df8f9039afb4144a1f6fd8d2ca17a180786b69acc140d282b71a49"
  },
  "kernelspec": {
   "display_name": "Python 3.8.5 64-bit",
   "language": "python",
   "name": "python3"
  },
  "language_info": {
   "codemirror_mode": {
    "name": "ipython",
    "version": 3
   },
   "file_extension": ".py",
   "mimetype": "text/x-python",
   "name": "python",
   "nbconvert_exporter": "python",
   "pygments_lexer": "ipython3",
   "version": "3.8.5"
  },
  "orig_nbformat": 4
 },
 "nbformat": 4,
 "nbformat_minor": 2
}
