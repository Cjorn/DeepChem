{
 "cells": [
  {
   "cell_type": "code",
   "execution_count": 1,
   "metadata": {
    "collapsed": false
   },
   "outputs": [],
   "source": [
    "import pandas as pd\n",
    "import numpy as np"
   ]
  },
  {
   "cell_type": "code",
   "execution_count": 2,
   "metadata": {
    "collapsed": true
   },
   "outputs": [],
   "source": [
    "path_to_casn_smiles = \"./casn_to_smiles.csv.gz\"\n",
    "path_to_code_casn = \"./code_to_casn.csv.gz\"\n",
    "path_to_hitc_code = \"./code_to_hitc.csv.gz\""
   ]
  },
  {
   "cell_type": "code",
   "execution_count": 3,
   "metadata": {
    "collapsed": true
   },
   "outputs": [],
   "source": [
    "casn_smiles_df = pd.read_csv(path_to_casn_smiles)\n",
    "code_casn_df = pd.read_csv(path_to_code_casn)\n",
    "hitc_code_df = pd.read_csv(path_to_hitc_code)"
   ]
  },
  {
   "cell_type": "code",
   "execution_count": 4,
   "metadata": {
    "collapsed": false,
    "scrolled": true
   },
   "outputs": [],
   "source": [
    "casn_smiles_df = casn_smiles_df[['Substance_CASRN', 'Structure_SMILES']]\n",
    "code_casn_df = code_casn_df[['casn', 'code']]\n",
    "hitc_code_df.rename(columns = {'Unnamed: 0': 'code'}, inplace = True)\n",
    "casn_smiles_df.rename(columns = {'Substance_CASRN': 'casn', 'Structure_SMILES': 'smiles'}, inplace = True)"
   ]
  },
  {
   "cell_type": "code",
   "execution_count": 5,
   "metadata": {
    "collapsed": false,
    "scrolled": true
   },
   "outputs": [],
   "source": [
    "code_casn_df.set_index('code', inplace = True)\n",
    "casn_smiles_df.set_index('casn', inplace= True)"
   ]
  },
  {
   "cell_type": "code",
   "execution_count": 6,
   "metadata": {
    "collapsed": false,
    "scrolled": true
   },
   "outputs": [],
   "source": [
    "badCounter = 0\n",
    "for index, data in hitc_code_df.iterrows():\n",
    "    rowList = data.values.tolist()\n",
    "    code = rowList[0]\n",
    "    #get corresponding casn\n",
    "    try:\n",
    "        casn = code_casn_df.loc[code, 'casn']\n",
    "    except KeyError:\n",
    "        badCounter+=1\n",
    "        pass\n",
    "    #get corresponding smiles\n",
    "    try:\n",
    "        smiles = casn_smiles_df.loc[casn, 'smiles']\n",
    "    except KeyError:\n",
    "        badCounter+=1\n",
    "        pass\n",
    "    #write to cell\n",
    "    hitc_code_df.loc[index, 'code'] = smiles"
   ]
  },
  {
   "cell_type": "code",
   "execution_count": 7,
   "metadata": {
    "collapsed": false,
    "scrolled": true
   },
   "outputs": [],
   "source": [
    "hitc_code_df.rename(columns = {'code': 'smiles'}, inplace = True)"
   ]
  },
  {
   "cell_type": "code",
   "execution_count": 8,
   "metadata": {
    "collapsed": false
   },
   "outputs": [],
   "source": [
    "hitc_code_df.dropna(subset = ['smiles'], inplace = True) "
   ]
  },
  {
   "cell_type": "code",
   "execution_count": 9,
   "metadata": {
    "collapsed": false
   },
   "outputs": [],
   "source": [
    "hitc_code_df.reset_index(inplace = True, drop = True)"
   ]
  },
  {
   "cell_type": "code",
   "execution_count": 10,
   "metadata": {
    "collapsed": false
   },
   "outputs": [],
   "source": [
    "hitc_code_df.replace(-1, np.nan, inplace = True)"
   ]
  },
  {
   "cell_type": "code",
   "execution_count": 11,
   "metadata": {
    "collapsed": false
   },
   "outputs": [],
   "source": [
    "hitc_code_df.dropna(axis=1,how='all', inplace = True)\n"
   ]
  },
  {
   "cell_type": "code",
   "execution_count": 12,
   "metadata": {
    "collapsed": true
   },
   "outputs": [],
   "source": [
    "hitc_code_df.dropna(axis = 1, thresh=50, inplace=True)"
   ]
  },
  {
   "cell_type": "code",
   "execution_count": 13,
   "metadata": {
    "collapsed": false
   },
   "outputs": [],
   "source": [
    "col = hitc_code_df.iloc[:, 0]"
   ]
  },
  {
   "cell_type": "code",
   "execution_count": 14,
   "metadata": {
    "collapsed": false
   },
   "outputs": [],
   "source": [
    "hitc_code_df_539 = hitc_code_df.drop(hitc_code_df.columns[hitc_code_df.apply(lambda col: (1 not in col.value_counts() or 0 not in col.value_counts()) or col.value_counts()[1] < 30 or col.value_counts()[0] < 30)], \n",
    "                  axis=1)\n",
    "hitc_code_df_571 = hitc_code_df.drop(hitc_code_df.columns[hitc_code_df.apply(lambda col: (1 not in col.value_counts() or 0 not in col.value_counts()) or col.value_counts()[1] < 25 or col.value_counts()[0] < 25)], \n",
    "                  axis=1)"
   ]
  },
  {
   "cell_type": "code",
   "execution_count": 15,
   "metadata": {
    "collapsed": false
   },
   "outputs": [],
   "source": [
    "hitc_code_df_539.insert(0, 'smiles', col)\n",
    "hitc_code_df_571.insert(0, 'smiles', col)"
   ]
  },
  {
   "cell_type": "code",
   "execution_count": 16,
   "metadata": {
    "collapsed": false
   },
   "outputs": [
    {
     "data": {
      "text/plain": [
       "571"
      ]
     },
     "execution_count": 16,
     "metadata": {},
     "output_type": "execute_result"
    }
   ],
   "source": [
    "len(hitc_code_df_571.columns)"
   ]
  },
  {
   "cell_type": "code",
   "execution_count": 17,
   "metadata": {
    "collapsed": true
   },
   "outputs": [],
   "source": [
    "hitc_code_df_539.to_csv(\"./tox_cast_539.csv\", index=False)\n",
    "hitc_code_df_571.to_csv(\"./tox_cast_571.csv\", index=False)"
   ]
  },
  {
   "cell_type": "code",
   "execution_count": null,
   "metadata": {
    "collapsed": true
   },
   "outputs": [],
   "source": []
  }
 ],
 "metadata": {
  "kernelspec": {
   "display_name": "Python 2",
   "language": "python",
   "name": "python2"
  },
  "language_info": {
   "codemirror_mode": {
    "name": "ipython",
    "version": 2
   },
   "file_extension": ".py",
   "mimetype": "text/x-python",
   "name": "python",
   "nbconvert_exporter": "python",
   "pygments_lexer": "ipython2",
   "version": "2.7.11"
  }
 },
 "nbformat": 4,
 "nbformat_minor": 0
}
