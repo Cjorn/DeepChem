{
  "cells": [
    {
      "cell_type": "markdown",
      "metadata": {
        "id": "EptJcDUyzeru"
      },
      "source": [
        "#Introduction\n",
        "\n"
      ]
    },
    {
      "cell_type": "markdown",
      "metadata": {
        "id": "GlCPqZKc66UQ"
      },
      "source": [
        "\n",
        "\n",
        "\n",
        "-------------------------------------\n",
        " **Transfer Learning**\n",
        " \"Transfer learning is a machine learning method where a model developed for a task is reused as the starting point for a model on a second task\". Text-based transfer learning based methods (particularly those based on transformers) are starting to find traction being applied towards the chemical domain [(Schwaller et al, 2021)].\" For example, transformer based methods can be used to infer reaction classes (e.g. classes  which organize chemical reaction space and allow for the communication of complex concepts)  from non-annotated,\n",
        "simple text-based representations of chemical reactions. Performance can be strong with classification accuracy reaching  98.2%.\"\n",
        "(Schwaller et al, 2021)\n",
        "\n",
        "\n",
        "**Transformer based learning**\n",
        "\n",
        "\n",
        "\n",
        "**Masked token Prediction**\n",
        "Masked Language Modeling is a self-supervised pretraining objective that is widely used in natural language processing for learning text representations. In Masked Language Modeling a model is trained to predict input tokens that have been replaced by a placeholder. Tokens are the partitions of a text, and generally fall into familiar categories such as words, individual characters, or subwords (e.g. the subwords smart and er for the word smarter). An example masked sentence could look like:\n",
        "\n",
        "Example:\n",
        "*sentence:*\n",
        " The quick brown fox jumps over the lazy dog.\n",
        "\n",
        "*masked sentence:*\n",
        "The quick brown [MASK] jumps over the lazy dog. \n",
        "\n",
        "The string [MASK] acts as a placeholder. \n",
        "\n",
        "\n",
        "**SMILES, textual chemical representations**\n",
        "While chemical structres are typically represented as graphs, the simplified molecular-input line-entry system (SMILES)  was introduced as notation for encoding molecular structures into ASCII strings in the 1980's. There is not a one to one mapping of structures with SMILES strings as a single structure can have a number of equally valid SMILES strings. These strings are composed of characters which indicate the connectivity of atoms through bonds and also include explict representation of cycles. (EPA SMILES TUTORIAL).\n",
        "\n",
        "**Masked Token Prediction using SMILES representation**\n",
        "Like natural language sentences can be broken down into tokens and used for masked language modeling, SMILES strings can also be tokenized and masked as shown in the example of acetone below. \n",
        "\n",
        "*Example:* \n",
        "\n",
        "SMILES Representation:\n",
        "CC(=O)C\n",
        "\n",
        "Masked SMILES Representation:\n",
        "CC([MASK]O)C\n",
        "\n",
        "Chemically Valid Masked Token Solutions:\n",
        "1. CC(=O)C\n",
        "2. CC(-O)C\n",
        "3. CC(NO)C\n",
        "4. CC(CO)C\n",
        "\n",
        "**Visualization Learning Objectives**\n",
        "\n",
        "  1.   Visualize sets of molecules in a compact way \n",
        "\n",
        "  (i)*Array of predictions*: [![ predictions of masked acetone](https://github.com/deloragaskins/data_science_public/blob/create_tutorials/DK_tutorials/images/acetone_predictions.png)](https://github.com/deloragaskins/data_science_public/blob/create_tutorials/DK_tutorials/images/acetone_predictions.png )\n",
        "\n",
        "  \n",
        "  2.   Highlight substructures of interest:\n",
        "   \n",
        "   (i) highlight specific bonds or atoms:\n",
        "\n",
        "        *masked chemical structure*\n",
        "[![acetone showing location of mask](https://github.com/deloragaskins/data_science_public/blob/144be523b6645a21b75753dc810040098824318e/DK_tutorials/acetone_mask.png)](https://github.com/deloragaskins/data_science_public/blob/144be523b6645a21b75753dc810040098824318e/DK_tutorials/acetone_mask.png )\n",
        "\n",
        "    (ii)  highlight structure differences:\n",
        "\n",
        "    *Differences between original and prediction*:\n",
        "[![acetone vs another solution to mask](https://github.com/deloragaskins/data_science_public/blob/144be523b6645a21b75753dc810040098824318e/DK_tutorials/compare_differences_in_masked_prediction.png)](https://github.com/deloragaskins/data_science_public/blob/144be523b6645a21b75753dc810040098824318e/DK_tutorials/compare_differences_in_masked_prediction.png )\n",
        "\n",
        "**Example Problem Outline**\n",
        "We will use a pretrained model to make a prediction of a masked token for SMILES representation of a molecule that is in the ClinTox datahase. \n",
        "\n",
        "*Select molecule*\n",
        "*   Load Clintox database\n",
        "*   Explore first 25 structures* (LO1)\n",
        "*   Choose a structure and highlight functional groups/substructures (LO2)\n",
        "\n",
        "*Make masked token prediction*\n",
        "*   Highlight mask* (LO2)\n",
        "*   Set up ML algorithm\n",
        "*   Run ML\n",
        "\n",
        "*Interpret results*\n",
        "*   show predictions grouped* (LO1)\n",
        "*   compare predictions and original* (LO2)\n",
        "*   check in database\n",
        "*   check for toxicity\n",
        "\n",
        "*Benefit from visualisation\n",
        "\n",
        "LO1: Learning Objective 1\n",
        "\n",
        "LO2: Learning Objective 2\n",
        "\n",
        "*Citations*\n",
        "[ Schwaller et al](https://arxiv.org/abs/2012.06051)\n",
        "\n",
        "[EPA SMILES TUTORIAL](https://archive.epa.gov/med/med_archive_03/web/html/smiles.html)\n",
        "\n"
      ]
    },
    {
      "cell_type": "markdown",
      "metadata": {
        "id": "PT4pFSkGj9sV"
      },
      "source": [
        "#Colab\n",
        "This tutorial and the rest in this sequence can be done in Google colab. If you'd like to open this notebook in colab, you can use the following link.\n"
      ]
    },
    {
      "cell_type": "markdown",
      "metadata": {
        "id": "8RnPNfUHVesN"
      },
      "source": [
        "<a href=\"https://colab.research.google.com/github/deloragaskins/data_science_public/blob/main/ChemAsh5_VisualizingMasking.ipynb\" target=\"_parent\"><img src=\"https://colab.research.google.com/assets/colab-badge.svg\" alt=\"Open In Colab\"/></a>\n"
      ]
    },
    {
      "cell_type": "markdown",
      "metadata": {
        "id": "Oo2mTM7sVesP"
      },
      "source": [
        "## Select molecule"
      ]
    },
    {
      "cell_type": "markdown",
      "metadata": {
        "id": "5WFThF82VesQ"
      },
      "source": [
        "In this tutorial, we choose a molecule from the Clintox database to perform a masked token prediction on. We do an exploratory data analysis by displaying the first 25 chemical structures that correspond to the SMILES representations in the database. This way we can make visual inspection of the molecules and it is helpful for this reason to be able to display the molecules in a compact way and that's why it's one of our tutorial learning objectives. We can use rdkit to do this.     \n",
        "\n",
        "1. Load Clintox database and explore first 10 structures* (LO1)\n",
        "2. Choose 1 molecule for masked token prediction"
      ]
    },
    {
      "cell_type": "markdown",
      "metadata": {
        "id": "ua9iRIBMVesR"
      },
      "source": [
        "We load the ClinTox dataset into a dataframe with SMILES representations and toxicity for each molecule."
      ]
    },
    {
      "cell_type": "code",
      "execution_count": 1,
      "metadata": {
        "id": "a5Q1s4Z-VesT"
      },
      "outputs": [],
      "source": [
        "%%capture\n",
        "\n",
        "!pip install --pre deepchem\n",
        "#to access ClinTox_ *database which has information about the toxicity of a set of molecules*\n",
        "# import MolNet dataloder from bert-loves-chemistry fork\n",
        "!git clone https://github.com/seyonechithrananda/bert-loves-chemistry.git\n",
        "%cd /content/bert-loves-chemistry\n",
        "!pwd\n",
        "from chemberta.utils.molnet_dataloader import load_molnet_dataset\n"
      ]
    },
    {
      "cell_type": "code",
      "execution_count": 2,
      "metadata": {
        "id": "VSkmfvvIVesW"
      },
      "outputs": [],
      "source": [
        "%%capture\n",
        "tasks, (train_df, valid_df, test_df), transformers = load_molnet_dataset(\"clintox\", tasks_wanted=None)\n",
        "full_ClinTox_df = train_df.append(valid_df, ignore_index=True)\n",
        "full_ClinTox_df=full_ClinTox_df.append(test_df, ignore_index=True)\n"
      ]
    },
    {
      "cell_type": "markdown",
      "metadata": {
        "id": "NrWe3fAkVesY"
      },
      "source": [
        "We take a look at the SMILES for the first 25 and visualize their structures"
      ]
    },
    {
      "cell_type": "code",
      "execution_count": 3,
      "metadata": {
        "id": "NI_74oM5VesZ",
        "colab": {
          "base_uri": "https://localhost:8080/"
        },
        "outputId": "6151f7b9-01b7-47d3-ea62-aa82053158f8"
      },
      "outputs": [
        {
          "output_type": "execute_result",
          "data": {
            "text/plain": [
              "0         CC(C)C[C@H](NC(=O)CNC(=O)c1cc(Cl)ccc1Cl)B(O)O\n",
              "1     O=C(NCC(O)CO)c1c(I)c(C(=O)NCC(O)CO)c(I)c(N(CCO...\n",
              "2                              Clc1cc(Cl)c(OCC#CI)cc1Cl\n",
              "3     N#Cc1cc(NC(=O)C(=O)[O-])c(Cl)c(NC(=O)C(=O)[O-])c1\n",
              "4                NS(=O)(=O)c1cc(Cl)c(Cl)c(S(N)(=O)=O)c1\n",
              "5                       NC(N)=[NH+]C(=O)Cc1c(Cl)cccc1Cl\n",
              "6                         [NH3+]C[C@H](O)c1ccc(O)c(O)c1\n",
              "7                [NH3+][C@@H](Cc1ccc(O)c(O)c1)C(=O)[O-]\n",
              "8                                [NH3+]CCc1ccc(O)c(O)c1\n",
              "9                               Nc1ccc(O)c(C(=O)[O-])c1\n",
              "10                              Nc1ccc(C(=O)[O-])c(O)c1\n",
              "11                         NC(N)=[NH+]Cc1cccc([131I])c1\n",
              "12    O=C(N[C@H](CO)[C@H](O)c1ccc([N+](=O)[O-])cc1)[...\n",
              "13    O=C([O-])CCC(=O)OC[C@@H](NC(=O)[C-](Cl)Cl)[C@H...\n",
              "14                     [NH3+]CC(CC(=O)[O-])c1ccc(Cl)cc1\n",
              "15                          Nc1ccc(C(=O)NCC(=O)[O-])cc1\n",
              "16        [NH3+][C@@H](Cc1ccc(N(CCCl)CCCl)cc1)C(=O)[O-]\n",
              "17                  [NH3+][C@@H](Cc1ccc(O)cc1)C(=O)[O-]\n",
              "18                          NS(=O)(=O)c1ccc(C[NH3+])cc1\n",
              "19                    O=C([O-])CCCc1ccc(N(CCCl)CCCl)cc1\n",
              "20                                Nc1ccc(S(N)(=O)=O)cc1\n",
              "21                                         Oc1ccc(O)cc1\n",
              "22                           NC(=O)OCC(O)COc1ccc(Cl)cc1\n",
              "23       O=P([O-])([O-])C(Sc1ccc(Cl)cc1)P(=O)([O-])[O-]\n",
              "24                          NC(=O)OCC(COC(N)=O)c1ccccc1\n",
              "Name: text, dtype: object"
            ]
          },
          "metadata": {},
          "execution_count": 3
        }
      ],
      "source": [
        "length_peek=25\n",
        "full_ClinTox_df['text'].head(length_peek)"
      ]
    },
    {
      "cell_type": "markdown",
      "source": [
        "To display in such a way that we can see all of the chemical structures on the same screen we use rdkit. The rdkit [cookbook](ttps://www.rdkit.org/docs/Cookbook.html) has many well illustrated examples. When we display the first 25 structures we can see that a six member aromatic ring is present in all of these structures. It's possible to use a substructure search using SMARTS which a language that is a straightforward extension of smiles to display the matching substructure."
      ],
      "metadata": {
        "id": "Q8nM3XWZE_JJ"
      }
    },
    {
      "cell_type": "code",
      "execution_count": 4,
      "metadata": {
        "id": "MObiIqkgVesa",
        "colab": {
          "base_uri": "https://localhost:8080/",
          "height": 767
        },
        "outputId": "f279f2de-2980-4a16-a1d2-a8e1a7bd720d"
      },
      "outputs": [
        {
          "output_type": "execute_result",
          "data": {
            "text/plain": [
              "<PIL.PngImagePlugin.PngImageFile image mode=RGB size=750x750 at 0x7F0EBFFF07D0>"
            ],
            "image/png": "[encoded data removed]"
          },
          "metadata": {},
          "execution_count": 4
        }
      ],
      "source": [
        "import rdkit.Chem as Chem\n",
        "from rdkit.Chem import Draw as ChemDraw\n",
        "ms = [Chem.MolFromSmiles(x) for x in full_ClinTox_df['text'][:length_peek]]\n",
        "ChemDraw.MolsToGridImage(ms,molsPerRow=5, subImgSize=(150,150))"
      ]
    },
    {
      "cell_type": "markdown",
      "metadata": {
        "id": "NLJLbjNBVesb"
      },
      "source": [
        "We selected one of molecules(Hydroquinone) that is most similar to benze in structure with only two subsitutions ( OH groups for Hs).\n"
      ]
    },
    {
      "cell_type": "code",
      "execution_count": 5,
      "metadata": {
        "id": "hRA3R_44Vesc",
        "colab": {
          "base_uri": "https://localhost:8080/",
          "height": 317
        },
        "outputId": "e9a61d14-63d8-45b8-8662-371b775cb1c9"
      },
      "outputs": [
        {
          "output_type": "execute_result",
          "data": {
            "text/plain": [
              "<PIL.PngImagePlugin.PngImageFile image mode=RGB size=300x300 at 0x7F0EBFF3A5D0>"
            ],
            "image/png": "[encoded data removed]"
          },
          "metadata": {},
          "execution_count": 5
        }
      ],
      "source": [
        "molecule_num=4*5+1\n",
        "molecule_str=full_ClinTox_df['text'][molecule_num]\n",
        "molecule=Chem.MolFromSmiles(molecule_str) \n",
        "ChemDraw.MolToImage(molecule)"
      ]
    },
    {
      "cell_type": "markdown",
      "metadata": {
        "id": "ubN-pa4RVesd"
      },
      "source": [
        "---------------------------------------------------------------"
      ]
    },
    {
      "cell_type": "markdown",
      "source": [
        "# Make a masked token prediction \n",
        "1. Highlight mask* (LO2)\n",
        "2.Set up ML algorithm\n",
        "3.Run ML\n",
        "\n",
        "There are two chemically identical substitutions on the aromatic ring here which are represented with different characters in the original SMILES representation. Here we visualize each individually\n"
      ],
      "metadata": {
        "id": "cP9iNzMFJCmF"
      }
    },
    {
      "cell_type": "code",
      "source": [
        "import matplotlib.pyplot as plt\n",
        "from matplotlib import colors\n",
        "from rdkit.Chem.Draw import MolToImage\n",
        "\n",
        "#function to select substruct if there are multiple matches\n",
        "def extract_nth_substructure(substructures,n):\n",
        "  if len(substructures)>1:\n",
        "    print('This substructure occurs in multiple places in the molecule')\n",
        "  elif len(substructures)==1:\n",
        "    print('This substructure occurs only once in the molecule')\n",
        "  else:\n",
        "    print('This substructure does not appear in the molecule.')\n",
        "  Atoms_list=[]  \n",
        "  substructure=substructures[n]\n",
        "  for atom_counter in range(len(substructure)):\n",
        "    Atoms_list.append(substructure[atom_counter])\n",
        "\n",
        "  hit_bonds=[]\n",
        "  for bond in Chem.MolFromSmarts(substructure_smarts).GetBonds():\n",
        "      aid1 = Atoms_list[bond.GetBeginAtomIdx()]\n",
        "      aid2 = Atoms_list[bond.GetEndAtomIdx()]\n",
        "      hit_bonds.append(molecule.GetBondBetweenAtoms(aid1,aid2).GetIdx())\n",
        "  Bonds_list=hit_bonds\n",
        "  return Atoms_list,Bonds_list\n",
        "\n",
        "\n",
        "def image_of_nth_substructure(substructure_smarts,molecule_smiles,n):\n",
        "  m=Chem.MolFromSmiles(molecule_smiles)\n",
        "  substructures=m.GetSubstructMatches(Chem.MolFromSmarts(substructure_smarts))\n",
        "  Atoms_list,Bonds_list=extract_nth_substructure(substructures,n)\n",
        "  hcolor = colors.to_rgb('violet')\n",
        "  img = MolToImage(m, size=(600, 600),fitImage=True,highlightAtoms=Atoms_list,highlightColor=hcolor)\n",
        "  return img\n",
        "\n",
        "substructure_smarts='O'\n",
        "molecule_smiles=molecule_str\n",
        "\n",
        "number_of_hits=2\n",
        "number_of_rows=1\n",
        "number_of_columns=number_of_hits\n",
        "for n in range(number_of_hits):\n",
        "  plt.subplot(number_of_rows,number_of_columns,n+1)\n",
        "  plt.imshow(image_of_nth_substructure(substructure_smarts,molecule_smiles,n))\n",
        "  plt.xticks([])\n",
        "  plt.yticks([])\n"
      ],
      "metadata": {
        "colab": {
          "base_uri": "https://localhost:8080/",
          "height": 221
        },
        "id": "tBS6RnraJW5M",
        "outputId": "a51be52a-2c36-4897-e207-73a33b9293cd"
      },
      "execution_count": 6,
      "outputs": [
        {
          "output_type": "stream",
          "name": "stdout",
          "text": [
            "This substructure occurs in multiple places in the molecule\n",
            "This substructure occurs in multiple places in the molecule\n"
          ]
        },
        {
          "output_type": "display_data",
          "data": {
            "text/plain": [
              "<Figure size 432x288 with 2 Axes>"
            ],
            "image/png": "[encoded data removed]"
          },
          "metadata": {}
        }
      ]
    },
    {
      "cell_type": "markdown",
      "source": [
        "Here we select the model for the masked token prediction detailed further in Transfer_Learning_With_ChemBERTa_Transformers notebook in the tutorials. \n",
        "\n",
        "We also select to mask the hydroxyl group that is represented in the middle of the SMILES representation for this molecule."
      ],
      "metadata": {
        "id": "12OTI5_3JWC-"
      }
    },
    {
      "cell_type": "markdown",
      "metadata": {
        "id": "jD6M4979TOYb"
      },
      "source": [
        "Here we select the model for the masked token prediction detailed further in Transfer_Learning_With_ChemBERTa_Transformers notebook in the tutorials. \n",
        "\n",
        "We also select to mask the hydroxyl group that is represented in the middle of the SMILES representation for this molecule."
      ]
    },
    {
      "cell_type": "code",
      "execution_count": 7,
      "metadata": {
        "id": "ne46dsyRJv91",
        "colab": {
          "base_uri": "https://localhost:8080/"
        },
        "outputId": "0ef61025-9983-4609-d335-7834995f37f4"
      },
      "outputs": [
        {
          "output_type": "stream",
          "name": "stdout",
          "text": [
            "Requirement already satisfied: transformers in /usr/local/lib/python3.7/dist-packages (4.17.0)\n",
            "Requirement already satisfied: tokenizers!=0.11.3,>=0.11.1 in /usr/local/lib/python3.7/dist-packages (from transformers) (0.12.0)\n",
            "Requirement already satisfied: huggingface-hub<1.0,>=0.1.0 in /usr/local/lib/python3.7/dist-packages (from transformers) (0.4.0)\n",
            "Requirement already satisfied: numpy>=1.17 in /usr/local/lib/python3.7/dist-packages (from transformers) (1.21.5)\n",
            "Requirement already satisfied: packaging>=20.0 in /usr/local/lib/python3.7/dist-packages (from transformers) (21.3)\n",
            "Requirement already satisfied: sacremoses in /usr/local/lib/python3.7/dist-packages (from transformers) (0.0.49)\n",
            "Requirement already satisfied: requests in /usr/local/lib/python3.7/dist-packages (from transformers) (2.23.0)\n",
            "Requirement already satisfied: tqdm>=4.27 in /usr/local/lib/python3.7/dist-packages (from transformers) (4.63.0)\n",
            "Requirement already satisfied: importlib-metadata in /usr/local/lib/python3.7/dist-packages (from transformers) (4.11.3)\n",
            "Requirement already satisfied: pyyaml>=5.1 in /usr/local/lib/python3.7/dist-packages (from transformers) (6.0)\n",
            "Requirement already satisfied: filelock in /usr/local/lib/python3.7/dist-packages (from transformers) (3.6.0)\n",
            "Requirement already satisfied: regex!=2019.12.17 in /usr/local/lib/python3.7/dist-packages (from transformers) (2019.12.20)\n",
            "Requirement already satisfied: typing-extensions>=3.7.4.3 in /usr/local/lib/python3.7/dist-packages (from huggingface-hub<1.0,>=0.1.0->transformers) (3.10.0.2)\n",
            "Requirement already satisfied: pyparsing!=3.0.5,>=2.0.2 in /usr/local/lib/python3.7/dist-packages (from packaging>=20.0->transformers) (3.0.7)\n",
            "Requirement already satisfied: zipp>=0.5 in /usr/local/lib/python3.7/dist-packages (from importlib-metadata->transformers) (3.7.0)\n",
            "Requirement already satisfied: chardet<4,>=3.0.2 in /usr/local/lib/python3.7/dist-packages (from requests->transformers) (3.0.4)\n",
            "Requirement already satisfied: urllib3!=1.25.0,!=1.25.1,<1.26,>=1.21.1 in /usr/local/lib/python3.7/dist-packages (from requests->transformers) (1.24.3)\n",
            "Requirement already satisfied: certifi>=2017.4.17 in /usr/local/lib/python3.7/dist-packages (from requests->transformers) (2021.10.8)\n",
            "Requirement already satisfied: idna<3,>=2.5 in /usr/local/lib/python3.7/dist-packages (from requests->transformers) (2.10)\n",
            "Requirement already satisfied: six in /usr/local/lib/python3.7/dist-packages (from sacremoses->transformers) (1.15.0)\n",
            "Requirement already satisfied: joblib in /usr/local/lib/python3.7/dist-packages (from sacremoses->transformers) (1.1.0)\n",
            "Requirement already satisfied: click in /usr/local/lib/python3.7/dist-packages (from sacremoses->transformers) (7.1.2)\n"
          ]
        }
      ],
      "source": [
        "#tools for making the predictions \n",
        "!pip install transformers\n",
        "from transformers import AutoModelForMaskedLM, AutoTokenizer, pipeline, RobertaModel, RobertaTokenizer\n",
        "import torch\n",
        "\n",
        "#take pretrained model and define the pipeline\n",
        "model = AutoModelForMaskedLM.from_pretrained(\"seyonec/PubChem10M_SMILES_BPE_450k\")\n",
        "tokenizer = AutoTokenizer.from_pretrained(\"seyonec/PubChem10M_SMILES_BPE_450k\")\n",
        "\n",
        "fill_mask = pipeline('fill-mask', model=model, tokenizer=tokenizer)"
      ]
    },
    {
      "cell_type": "code",
      "execution_count": 8,
      "metadata": {
        "id": "CtniYcAFLA8X",
        "colab": {
          "base_uri": "https://localhost:8080/"
        },
        "outputId": "c9e8581c-bd72-49c0-e2d2-0478bfe191fb"
      },
      "outputs": [
        {
          "output_type": "stream",
          "name": "stdout",
          "text": [
            "Oc1ccc(O)cc1\n",
            "O\n"
          ]
        }
      ],
      "source": [
        "#functions to streamline prediction section\n",
        "def addmask(molecule_str,mask_str,mask_start_pos,mask_end_pos):\n",
        "  masked=''\n",
        "  for counter0 in range(len(molecule_str)):\n",
        "    if mask_len>0:\n",
        "      if counter0 in range(mask_start_pos,mask_end_pos):\n",
        "        masked+=''\n",
        "      elif counter0 == mask_end_pos:\n",
        "        masked+=mask_str\n",
        "      else:\n",
        "        masked+=molecule_str[counter0]\n",
        "    else:\n",
        "        masked+=molecule_str[counter0]\n",
        "  #print(masked)\n",
        "  return masked\n",
        "\n",
        "def predict_n(sequence,n):\n",
        "  input = tokenizer.encode(sequence, return_tensors=\"pt\")\n",
        "  mask_token_index = torch.where(input == tokenizer.mask_token_id)[1]\n",
        "\n",
        "  token_logits = model(input)[0]\n",
        "  mask_token_logits = token_logits[0, mask_token_index, :]\n",
        "  top_n_tokens = torch.topk(mask_token_logits, n, dim=1).indices[0].tolist()\n",
        "  #print(top_n_tokens)\n",
        "\n",
        "  valid_mols_list=[]\n",
        "  for token in top_n_tokens:\n",
        "    smi = (sequence.replace(tokenizer.mask_token, tokenizer.decode([token])))\n",
        "    print (smi)\n",
        "    smi_mol = Chem.MolFromSmiles(smi)\n",
        "    if smi_mol is None: # if the model's token prediction isn't chemically feasible\n",
        "      continue\n",
        "    valid_mols_list.append((smi))\n",
        "  return valid_mols_list\n",
        "\n",
        "#Make valid predictions for single masked position \n",
        "Cell_label='Make Predictions'\n",
        "\n",
        "mask_start_pos=7\n",
        "mask_char_type='atom' #'bond' #'atom','ring'\n",
        "\n",
        "mask_end_pos=mask_start_pos\n",
        "mask_len=mask_end_pos-mask_start_pos+1\n",
        "mask_str='<mask>'\n",
        "\n",
        "smiles_mask=addmask(molecule_str,mask_str,mask_start_pos,mask_end_pos)\n",
        "replaced=molecule_str[mask_start_pos:mask_end_pos+mask_len]\n",
        "\n",
        "sequence = smiles_mask.replace('<mask>',tokenizer.mask_token)\n",
        "\n",
        "print(molecule_str)\n",
        "print(replaced)"
      ]
    },
    {
      "cell_type": "markdown",
      "metadata": {
        "id": "WAiuHNKtUsPA"
      },
      "source": [
        "We show the results of the prediction as both SMILES and chemical structures. In addition, several additional valid structures are predicted.. "
      ]
    },
    {
      "cell_type": "code",
      "execution_count": 9,
      "metadata": {
        "id": "23HtxTrPNeQh",
        "colab": {
          "base_uri": "https://localhost:8080/",
          "height": 261
        },
        "outputId": "61b153e6-d705-4f6a-84c5-2784e5267d07"
      },
      "outputs": [
        {
          "output_type": "stream",
          "name": "stdout",
          "text": [
            "Oc1ccc(O)cc1\n",
            "Oc1ccc(Cl)cc1\n",
            "Oc1ccc(Br)cc1\n",
            "Oc1ccc(I)cc1\n",
            "Oc1ccc(F)cc1\n"
          ]
        },
        {
          "output_type": "execute_result",
          "data": {
            "text/plain": [
              "<PIL.PngImagePlugin.PngImageFile image mode=RGB size=1000x200 at 0x7F0EBA97D250>"
            ],
            "image/png": "[encoded data removed]"
          },
          "metadata": {},
          "execution_count": 9
        }
      ],
      "source": [
        "Cell_label='Show Prediction results'\n",
        "n1=5\n",
        "valid_smi_list=predict_n(sequence,n1)\n",
        "valid_mols_list=[Chem.MolFromSmiles(x) for x in valid_smi_list ]\n",
        "\n",
        "ChemDraw.MolsToGridImage(valid_mols_list,molsPerRow=n1)"
      ]
    },
    {
      "cell_type": "markdown",
      "source": [
        "# Interpret Results"
      ],
      "metadata": {
        "id": "58-de1WOl2tH"
      }
    },
    {
      "cell_type": "code",
      "execution_count": 10,
      "metadata": {
        "id": "OhZksVJ6I4PA"
      },
      "outputs": [],
      "source": [
        "\n",
        "################################################################################\n",
        "#function to support the querying of ClinTox\n",
        "def canon_smiles(text):\n",
        "  #Cell_label='Check Clintox for Prediction'\n",
        "  text=Chem.MolToSmiles(Chem.MolFromSmiles(text))\n",
        "  return text"
      ]
    },
    {
      "cell_type": "markdown",
      "metadata": {
        "id": "ZUVofbklV11g"
      },
      "source": [
        "We see that this structure in not present in ClinTox but that it does have some toxicity."
      ]
    },
    {
      "cell_type": "code",
      "execution_count": 15,
      "metadata": {
        "id": "uHhJSmIjUrqe",
        "colab": {
          "base_uri": "https://localhost:8080/"
        },
        "outputId": "2412de27-3030-423d-dfca-976d22ae478f",
        "collapsed": true
      },
      "outputs": [
        {
          "output_type": "stream",
          "name": "stdout",
          "text": [
            "Empty DataFrame\n",
            "Columns: [text, labels, canonical_smiles]\n",
            "Index: []\n"
          ]
        }
      ],
      "source": [
        "Cell_label='Check Clintox for Prediction'\n",
        "\n",
        "full_ClinTox_df['canonical_smiles']= full_ClinTox_df['text'].apply(canon_smiles)\n",
        "print(full_ClinTox_df[full_ClinTox_df['canonical_smiles'].str.match(Chem.MolToSmiles(valid_mols_list[1]))])"
      ]
    },
    {
      "cell_type": "code",
      "execution_count": 16,
      "metadata": {
        "id": "w_BI7ZbIeb1t"
      },
      "outputs": [],
      "source": [
        "#Toxicity information for predicted compound\n",
        "#https://pubchem.ncbi.nlm.nih.gov/compound/4684#section=Toxicity"
      ]
    },
    {
      "cell_type": "markdown",
      "metadata": {
        "id": "-lV5D5aXjk0o"
      },
      "source": [
        "#Congratulations! Time to join the Community!\n",
        "Congratulations on completing this tutorial notebook! If you enjoyed working through the tutorial, and want to continue working with DeepChem, we encourage you to finish the rest of the tutorials in this series. You can also help the DeepChem community in the following ways:\n",
        "\n",
        "#Star DeepChem on Github\n",
        "This helps build awareness of the DeepChem project and the tools for open source drug discovery that we're trying to build.\n",
        "\n",
        "#Join the DeepChem Gitter\n",
        "The DeepChem Gitter hosts a number of scientists, developers, and enthusiasts interested in deep learning for the life sciences. Join the conversation!"
      ]
    }
  ],
  "metadata": {
    "colab": {
      "collapsed_sections": [],
      "name": "VisualizingMasking_editsDeepChem.ipynb",
      "provenance": []
    },
    "kernelspec": {
      "display_name": "Python 3 (ipykernel)",
      "language": "python",
      "name": "python3"
    },
    "language_info": {
      "codemirror_mode": {
        "name": "ipython",
        "version": 3
      },
      "file_extension": ".py",
      "mimetype": "text/x-python",
      "name": "python",
      "nbconvert_exporter": "python",
      "pygments_lexer": "ipython3",
      "version": "3.9.5"
    }
  },
  "nbformat": 4,
  "nbformat_minor": 0
}